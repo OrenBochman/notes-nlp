{
 "cells": [
  {
   "cell_type": "code",
   "execution_count": 1,
   "id": "5a39470e",
   "metadata": {},
   "outputs": [
    {
     "name": "stderr",
     "output_type": "stream",
     "text": [
      "/tmp/ipykernel_122882/2845163593.py:25: DeprecationWarning: `set_matplotlib_formats` is deprecated since IPython 7.23, directly use `matplotlib_inline.backend_inline.set_matplotlib_formats()`\n",
      "  set_matplotlib_formats(fig_format)\n"
     ]
    },
    {
     "name": "stdout",
     "output_type": "stream",
     "text": [
      "{\"/usr/lib/python3.10/importlib/_bootstrap.py\": 1737124534.0, \"/usr/lib/python3.10/importlib/_bootstrap_external.py\": 1737124534.0, \"/usr/lib/python3.10/codecs.py\": 1737124534.0, \"/usr/lib/python3.10/encodings/aliases.py\": 1737124534.0, \"/usr/lib/python3.10/encodings/__init__.py\": 1737124534.0, \"/usr/lib/python3.10/encodings/utf_8.py\": 1737124534.0, \"/usr/lib/python3.10/abc.py\": 1737124534.0, \"/usr/lib/python3.10/io.py\": 1737124534.0, \"/usr/lib/python3.10/stat.py\": 1737124534.0, \"/usr/lib/python3.10/_collections_abc.py\": 1737124534.0, \"/usr/lib/python3.10/genericpath.py\": 1737124534.0, \"/usr/lib/python3.10/posixpath.py\": 1737124534.0, \"/usr/lib/python3.10/os.py\": 1737124534.0, \"/usr/lib/python3.10/_sitebuiltins.py\": 1737124534.0, \"/usr/lib/python3.10/types.py\": 1737124534.0, \"/usr/lib/python3.10/warnings.py\": 1737124534.0, \"/usr/lib/python3.10/importlib/__init__.py\": 1737124534.0, \"/usr/lib/python3.10/importlib/_abc.py\": 1737124534.0, \"/usr/lib/python3.10/keyword.py\": 1737124534.0, \"/usr/lib/python3.10/operator.py\": 1737124534.0, \"/usr/lib/python3.10/reprlib.py\": 1737124534.0, \"/usr/lib/python3.10/collections/__init__.py\": 1737124534.0, \"/usr/lib/python3.10/functools.py\": 1737124534.0, \"/usr/lib/python3.10/contextlib.py\": 1737124534.0, \"/usr/lib/python3.10/importlib/util.py\": 1737124534.0, \"/usr/lib/python3.10/importlib/machinery.py\": 1737124534.0, \"/usr/lib/python3.10/sitecustomize.py\": 1648890259.0, \"/usr/lib/python3.10/site.py\": 1737124534.0, \"/usr/lib/python3.10/runpy.py\": 1737124534.0, \"/usr/lib/python3.10/enum.py\": 1737124534.0, \"/usr/lib/python3.10/sre_constants.py\": 1737124534.0, \"/usr/lib/python3.10/sre_parse.py\": 1737124534.0, \"/usr/lib/python3.10/sre_compile.py\": 1737124534.0, \"/usr/lib/python3.10/copyreg.py\": 1737124534.0, \"/usr/lib/python3.10/re.py\": 1737124534.0, \"/usr/lib/python3.10/fnmatch.py\": 1737124534.0, \"/usr/lib/python3.10/ntpath.py\": 1737124534.0, \"/usr/lib/python3.10/urllib/__init__.py\": 1737124534.0, \"/usr/lib/python3.10/ipaddress.py\": 1737124534.0, \"/usr/lib/python3.10/urllib/parse.py\": 1737124534.0, \"/usr/lib/python3.10/pathlib.py\": 1737124534.0, \"/usr/lib/python3.10/collections/abc.py\": 1737124534.0, \"/usr/lib/python3.10/typing.py\": 1737124534.0, \"/home/oren/work/notes/notes-nlp/.venv/lib/python3.10/site-packages/ipykernel/_version.py\": 1738211119.9207983, \"/usr/lib/python3.10/__future__.py\": 1737124534.0, \"/usr/lib/python3.10/lib-dynload/_json.cpython-310-x86_64-linux-gnu.so\": 1737124534.0, \"/usr/lib/python3.10/json/scanner.py\": 1737124534.0, \"/usr/lib/python3.10/json/decoder.py\": 1737124534.0, \"/usr/lib/python3.10/json/encoder.py\": 1737124534.0, \"/usr/lib/python3.10/json/__init__.py\": 1737124534.0, \"/usr/lib/python3.10/signal.py\": 1737124534.0, \"/usr/lib/python3.10/_weakrefset.py\": 1737124534.0, \"/usr/lib/python3.10/threading.py\": 1737124534.0, \"/usr/lib/python3.10/selectors.py\": 1737124534.0, \"/usr/lib/python3.10/subprocess.py\": 1737124534.0, \"/home/oren/work/notes/notes-nlp/.venv/lib/python3.10/site-packages/jupyter_client/_version.py\": 1738211114.6098826, \"/usr/lib/python3.10/platform.py\": 1737124534.0, \"/home/oren/work/notes/notes-nlp/.venv/lib/python3.10/site-packages/zmq/backend/select.py\": 1738206368.5046568, \"/usr/lib/python3.10/weakref.py\": 1737124534.0, \"/home/oren/work/notes/notes-nlp/.venv/lib/python3.10/site-packages/zmq/constants.py\": 1738206368.5006568, \"/home/oren/work/notes/notes-nlp/.venv/lib/python3.10/site-packages/zmq/error.py\": 1738206368.499657, \"/home/oren/work/notes/notes-nlp/.venv/lib/python3.10/site-packages/zmq/backend/cython/_zmq.cpython-310-x86_64-linux-gnu.so\": 1738206368.506657, \"/home/oren/work/notes/notes-nlp/.venv/lib/python3.10/site-packages/zmq/backend/cython/__init__.py\": 1738206368.5076568, \"/home/oren/work/notes/notes-nlp/.venv/lib/python3.10/site-packages/zmq/backend/__init__.py\": 1738206368.5046568, \"/home/oren/work/notes/notes-nlp/.venv/lib/python3.10/site-packages/zmq/_typing.py\": 1738206368.5006568, \"/home/oren/work/notes/notes-nlp/.venv/lib/python3.10/site-packages/zmq/utils/__init__.py\": 1738206368.502657, \"/home/oren/work/notes/notes-nlp/.venv/lib/python3.10/site-packages/zmq/utils/interop.py\": 1738206368.502657, \"/home/oren/work/notes/notes-nlp/.venv/lib/python3.10/site-packages/zmq/sugar/attrsettr.py\": 1738206368.502657, \"/usr/lib/python3.10/struct.py\": 1737124534.0, \"/usr/lib/python3.10/_compat_pickle.py\": 1737124534.0, \"/usr/lib/python3.10/pickle.py\": 1737124534.0, \"/usr/lib/python3.10/bisect.py\": 1737124534.0, \"/usr/lib/python3.10/random.py\": 1737124534.0, \"/home/oren/work/notes/notes-nlp/.venv/lib/python3.10/site-packages/zmq/utils/jsonapi.py\": 1738206368.5036569, \"/home/oren/work/notes/notes-nlp/.venv/lib/python3.10/site-packages/zmq/sugar/poll.py\": 1738206368.5016568, \"/home/oren/work/notes/notes-nlp/.venv/lib/python3.10/site-packages/zmq/sugar/socket.py\": 1738206368.5016568, \"/home/oren/work/notes/notes-nlp/.venv/lib/python3.10/site-packages/zmq/sugar/context.py\": 1738206368.5016568, \"/home/oren/work/notes/notes-nlp/.venv/lib/python3.10/site-packages/zmq/sugar/frame.py\": 1738206368.5016568, \"/home/oren/work/notes/notes-nlp/.venv/lib/python3.10/site-packages/zmq/sugar/tracker.py\": 1738206368.5016568, \"/home/oren/work/notes/notes-nlp/.venv/lib/python3.10/site-packages/zmq/sugar/version.py\": 1738206368.502657, \"/home/oren/work/notes/notes-nlp/.venv/lib/python3.10/site-packages/zmq/sugar/stopwatch.py\": 1738206368.5016568, \"/home/oren/work/notes/notes-nlp/.venv/lib/python3.10/site-packages/zmq/sugar/__init__.py\": 1738206368.502657, \"/home/oren/work/notes/notes-nlp/.venv/lib/python3.10/site-packages/zmq/__init__.py\": 1738206368.5006568, \"/usr/lib/python3.10/concurrent/__init__.py\": 1737124534.0, \"/usr/lib/python3.10/token.py\": 1737124534.0, \"/usr/lib/python3.10/tokenize.py\": 1737124534.0, \"/usr/lib/python3.10/linecache.py\": 1737124534.0, \"/usr/lib/python3.10/traceback.py\": 1737124534.0, \"/usr/lib/python3.10/string.py\": 1737124534.0, \"/usr/lib/python3.10/logging/__init__.py\": 1737124534.0, \"/usr/lib/python3.10/concurrent/futures/_base.py\": 1737124534.0, \"/usr/lib/python3.10/concurrent/futures/__init__.py\": 1737124534.0, \"/usr/lib/python3.10/heapq.py\": 1737124534.0, \"/usr/lib/python3.10/socket.py\": 1737124534.0, \"/usr/lib/python3.10/lib-dynload/_ssl.cpython-310-x86_64-linux-gnu.so\": 1737124534.0, \"/usr/lib/python3.10/base64.py\": 1737124534.0, \"/usr/lib/python3.10/ssl.py\": 1737124534.0, \"/usr/lib/python3.10/asyncio/constants.py\": 1737124534.0, \"/usr/lib/python3.10/ast.py\": 1737124534.0, \"/usr/lib/python3.10/lib-dynload/_opcode.cpython-310-x86_64-linux-gnu.so\": 1737124534.0, \"/usr/lib/python3.10/opcode.py\": 1737124534.0, \"/usr/lib/python3.10/dis.py\": 1737124534.0, \"/usr/lib/python3.10/inspect.py\": 1737124534.0, \"/usr/lib/python3.10/asyncio/format_helpers.py\": 1737124534.0, \"/usr/lib/python3.10/asyncio/base_futures.py\": 1737124534.0, \"/usr/lib/python3.10/asyncio/log.py\": 1737124534.0, \"/usr/lib/python3.10/asyncio/coroutines.py\": 1737124534.0, \"/usr/lib/python3.10/lib-dynload/_contextvars.cpython-310-x86_64-linux-gnu.so\": 1737124534.0, \"/usr/lib/python3.10/contextvars.py\": 1737124534.0, \"/usr/lib/python3.10/asyncio/exceptions.py\": 1737124534.0, \"/usr/lib/python3.10/asyncio/base_tasks.py\": 1737124534.0, \"/usr/lib/python3.10/lib-dynload/_asyncio.cpython-310-x86_64-linux-gnu.so\": 1737124534.0, \"/usr/lib/python3.10/asyncio/events.py\": 1737124534.0, \"/usr/lib/python3.10/asyncio/futures.py\": 1737124534.0, \"/usr/lib/python3.10/asyncio/protocols.py\": 1737124534.0, \"/usr/lib/python3.10/asyncio/transports.py\": 1737124534.0, \"/usr/lib/python3.10/asyncio/sslproto.py\": 1737124534.0, \"/usr/lib/python3.10/asyncio/mixins.py\": 1737124534.0, \"/usr/lib/python3.10/asyncio/tasks.py\": 1737124534.0, \"/usr/lib/python3.10/asyncio/locks.py\": 1737124534.0, \"/usr/lib/python3.10/asyncio/staggered.py\": 1737124534.0, \"/usr/lib/python3.10/asyncio/trsock.py\": 1737124534.0, \"/usr/lib/python3.10/asyncio/base_events.py\": 1737124534.0, \"/usr/lib/python3.10/asyncio/runners.py\": 1737124534.0, \"/usr/lib/python3.10/asyncio/queues.py\": 1737124534.0, \"/usr/lib/python3.10/asyncio/streams.py\": 1737124534.0, \"/usr/lib/python3.10/asyncio/subprocess.py\": 1737124534.0, \"/usr/lib/python3.10/asyncio/threads.py\": 1737124534.0, \"/usr/lib/python3.10/asyncio/base_subprocess.py\": 1737124534.0, \"/usr/lib/python3.10/asyncio/selector_events.py\": 1737124534.0, \"/usr/lib/python3.10/asyncio/unix_events.py\": 1737124534.0, \"/usr/lib/python3.10/asyncio/__init__.py\": 1737124534.0, \"/home/oren/work/notes/notes-nlp/.venv/lib/python3.10/site-packages/zmq/_future.py\": 1738206368.5006568, \"/home/oren/work/notes/notes-nlp/.venv/lib/python3.10/site-packages/zmq/asyncio.py\": 1738206368.5006568, \"/home/oren/work/notes/notes-nlp/.venv/lib/python3.10/site-packages/traitlets/utils/__init__.py\": 1738206367.9186664, \"/home/oren/work/notes/notes-nlp/.venv/lib/python3.10/site-packages/traitlets/utils/bunch.py\": 1738206367.9186664, \"/home/oren/work/notes/notes-nlp/.venv/lib/python3.10/site-packages/traitlets/utils/descriptions.py\": 1738206367.9186664, \"/home/oren/work/notes/notes-nlp/.venv/lib/python3.10/site-packages/traitlets/utils/getargspec.py\": 1738206367.9186664, \"/home/oren/work/notes/notes-nlp/.venv/lib/python3.10/site-packages/traitlets/utils/importstring.py\": 1738206367.9186664, \"/home/oren/work/notes/notes-nlp/.venv/lib/python3.10/site-packages/traitlets/utils/sentinel.py\": 1738206367.9186664, \"/home/oren/work/notes/notes-nlp/.venv/lib/python3.10/site-packages/traitlets/utils/warnings.py\": 1738206367.9186664, \"/home/oren/work/notes/notes-nlp/.venv/lib/python3.10/site-packages/traitlets/traitlets.py\": 1738206367.9166663, \"/home/oren/work/notes/notes-nlp/.venv/lib/python3.10/site-packages/traitlets/_version.py\": 1738206367.9166663, \"/usr/lib/python3.10/copy.py\": 1737124534.0, \"/home/oren/work/notes/notes-nlp/.venv/lib/python3.10/site-packages/traitlets/utils/decorators.py\": 1738206367.9186664, \"/home/oren/work/notes/notes-nlp/.venv/lib/python3.10/site-packages/traitlets/__init__.py\": 1738206367.9166663, \"/usr/lib/python3.10/lib-dynload/_queue.cpython-310-x86_64-linux-gnu.so\": 1737124534.0, \"/usr/lib/python3.10/queue.py\": 1737124534.0, \"/home/oren/work/notes/notes-nlp/.venv/lib/python3.10/site-packages/jupyter_core/version.py\": 1738208869.5355554, \"/home/oren/work/notes/notes-nlp/.venv/lib/python3.10/site-packages/jupyter_core/__init__.py\": 1738208869.5345554, \"/home/oren/work/notes/notes-nlp/.venv/lib/python3.10/site-packages/jupyter_core/utils/__init__.py\": 1738208869.5355554, \"/home/oren/work/notes/notes-nlp/.venv/lib/python3.10/site-packages/jupyter_client/channelsabc.py\": 1738211114.6108825, \"/usr/lib/python3.10/lib-dynload/_hashlib.cpython-310-x86_64-linux-gnu.so\": 1737124534.0, \"/usr/lib/python3.10/hashlib.py\": 1737124534.0, \"/usr/lib/python3.10/hmac.py\": 1737124534.0, \"/usr/lib/python3.10/dataclasses.py\": 1737124534.0, \"/usr/lib/python3.10/pprint.py\": 1737124534.0, \"/usr/lib/python3.10/datetime.py\": 1737124534.0, \"/home/oren/work/notes/notes-nlp/.venv/lib/python3.10/site-packages/tornado/__init__.py\": 1738206367.9876652, \"/usr/lib/python3.10/numbers.py\": 1737124534.0, \"/usr/lib/python3.10/logging/handlers.py\": 1737124534.0, \"/usr/lib/python3.10/html/entities.py\": 1737124534.0, \"/usr/lib/python3.10/html/__init__.py\": 1737124534.0, \"/home/oren/work/notes/notes-nlp/.venv/lib/python3.10/site-packages/tornado/speedups.abi3.so\": 1738206367.988665, \"/home/oren/work/notes/notes-nlp/.venv/lib/python3.10/site-packages/tornado/util.py\": 1738206367.9876652, \"/home/oren/work/notes/notes-nlp/.venv/lib/python3.10/site-packages/tornado/escape.py\": 1738206367.9906652, \"/home/oren/work/notes/notes-nlp/.venv/lib/python3.10/site-packages/colorama/ansi.py\": 1738762739.5224614, \"/usr/lib/python3.10/lib-dynload/_ctypes.cpython-310-x86_64-linux-gnu.so\": 1737124534.0, \"/usr/lib/python3.10/ctypes/_endian.py\": 1737124534.0, \"/usr/lib/python3.10/ctypes/__init__.py\": 1737124534.0, \"/home/oren/work/notes/notes-nlp/.venv/lib/python3.10/site-packages/colorama/win32.py\": 1738762739.5224614, \"/home/oren/work/notes/notes-nlp/.venv/lib/python3.10/site-packages/colorama/winterm.py\": 1738762739.5224614, \"/home/oren/work/notes/notes-nlp/.venv/lib/python3.10/site-packages/colorama/ansitowin32.py\": 1738762739.5224614, \"/home/oren/work/notes/notes-nlp/.venv/lib/python3.10/site-packages/colorama/initialise.py\": 1738762739.5224614, \"/home/oren/work/notes/notes-nlp/.venv/lib/python3.10/site-packages/colorama/__init__.py\": 1738762739.5214612, \"/usr/lib/python3.10/lib-dynload/_curses.cpython-310-x86_64-linux-gnu.so\": 1737124534.0, \"/usr/lib/python3.10/curses/__init__.py\": 1737124534.0, \"/home/oren/work/notes/notes-nlp/.venv/lib/python3.10/site-packages/tornado/log.py\": 1738206367.988665, \"/home/oren/work/notes/notes-nlp/.venv/lib/python3.10/site-packages/tornado/concurrent.py\": 1738206367.9876652, \"/home/oren/work/notes/notes-nlp/.venv/lib/python3.10/site-packages/tornado/ioloop.py\": 1738206367.9906652, \"/usr/lib/python3.10/socketserver.py\": 1737124534.0, \"/usr/lib/python3.10/logging/config.py\": 1737124534.0, \"/usr/lib/python3.10/textwrap.py\": 1737124534.0, \"/home/oren/work/notes/notes-nlp/.venv/lib/python3.10/site-packages/traitlets/utils/text.py\": 1738206367.9186664, \"/usr/lib/python3.10/gettext.py\": 1737124534.0, \"/usr/lib/python3.10/argparse.py\": 1737124534.0, \"/home/oren/work/notes/notes-nlp/.venv/lib/python3.10/site-packages/traitlets/config/loader.py\": 1738206367.9176664, \"/home/oren/work/notes/notes-nlp/.venv/lib/python3.10/site-packages/traitlets/config/configurable.py\": 1738206367.9176664, \"/home/oren/work/notes/notes-nlp/.venv/lib/python3.10/site-packages/traitlets/utils/nested_update.py\": 1738206367.9186664, \"/home/oren/work/notes/notes-nlp/.venv/lib/python3.10/site-packages/traitlets/config/application.py\": 1738206367.9176664, \"/home/oren/work/notes/notes-nlp/.venv/lib/python3.10/site-packages/traitlets/config/__init__.py\": 1738206367.9166663, \"/home/oren/work/notes/notes-nlp/.venv/lib/python3.10/site-packages/traitlets/log.py\": 1738206367.9166663, \"/home/oren/work/notes/notes-nlp/.venv/lib/python3.10/site-packages/zmq/eventloop/__init__.py\": 1738206368.5086567, \"/home/oren/work/notes/notes-nlp/.venv/lib/python3.10/site-packages/zmq/eventloop/zmqstream.py\": 1738206368.5086567, \"/home/oren/work/notes/notes-nlp/.venv/lib/python3.10/site-packages/jupyter_client/adapter.py\": 1738211114.6098826, \"/home/oren/work/notes/notes-nlp/.venv/lib/python3.10/site-packages/dateutil/_version.py\": 1738206446.0323966, \"/home/oren/work/notes/notes-nlp/.venv/lib/python3.10/site-packages/dateutil/__init__.py\": 1738206446.0323966, \"/usr/lib/python3.10/locale.py\": 1737124534.0, \"/usr/lib/python3.10/calendar.py\": 1737124534.0, \"/home/oren/work/notes/notes-nlp/.venv/lib/python3.10/site-packages/six.py\": 1738206368.3916585, \"/usr/lib/python3.10/lib-dynload/_decimal.cpython-310-x86_64-linux-gnu.so\": 1737124534.0, \"/usr/lib/python3.10/decimal.py\": 1737124534.0, \"/home/oren/work/notes/notes-nlp/.venv/lib/python3.10/site-packages/dateutil/_common.py\": 1738206446.0323966, \"/home/oren/work/notes/notes-nlp/.venv/lib/python3.10/site-packages/dateutil/relativedelta.py\": 1738206446.0323966, \"/home/oren/work/notes/notes-nlp/.venv/lib/python3.10/site-packages/dateutil/tz/_common.py\": 1738206446.0333965, \"/home/oren/work/notes/notes-nlp/.venv/lib/python3.10/site-packages/dateutil/tz/_factories.py\": 1738206446.0333965, \"/home/oren/work/notes/notes-nlp/.venv/lib/python3.10/site-packages/dateutil/tz/tz.py\": 1738206446.0343966, \"/home/oren/work/notes/notes-nlp/.venv/lib/python3.10/site-packages/dateutil/tz/__init__.py\": 1738206446.0333965, \"/home/oren/work/notes/notes-nlp/.venv/lib/python3.10/site-packages/dateutil/parser/_parser.py\": 1738206446.0333965, \"/home/oren/work/notes/notes-nlp/.venv/lib/python3.10/site-packages/dateutil/parser/isoparser.py\": 1738206446.0333965, \"/home/oren/work/notes/notes-nlp/.venv/lib/python3.10/site-packages/dateutil/parser/__init__.py\": 1738206446.0333965, \"/usr/lib/python3.10/_strptime.py\": 1737124534.0, \"/home/oren/work/notes/notes-nlp/.venv/lib/python3.10/site-packages/jupyter_client/jsonutil.py\": 1738211114.6108825, \"/home/oren/work/notes/notes-nlp/.venv/lib/python3.10/site-packages/jupyter_client/session.py\": 1738211114.6128826, \"/home/oren/work/notes/notes-nlp/.venv/lib/python3.10/site-packages/jupyter_client/channels.py\": 1738211114.6098826, \"/usr/lib/python3.10/lib-dynload/termios.cpython-310-x86_64-linux-gnu.so\": 1737124534.0, \"/usr/lib/python3.10/getpass.py\": 1737124534.0, \"/home/oren/work/notes/notes-nlp/.venv/lib/python3.10/site-packages/jupyter_client/clientabc.py\": 1738211114.6108825, \"/usr/lib/python3.10/glob.py\": 1737124534.0, \"/usr/lib/python3.10/_compression.py\": 1737124534.0, \"/usr/lib/python3.10/lib-dynload/_bz2.cpython-310-x86_64-linux-gnu.so\": 1737124534.0, \"/usr/lib/python3.10/bz2.py\": 1737124534.0, \"/usr/lib/python3.10/lib-dynload/_lzma.cpython-310-x86_64-linux-gnu.so\": 1737124534.0, \"/usr/lib/python3.10/lzma.py\": 1737124534.0, \"/usr/lib/python3.10/shutil.py\": 1737124534.0, \"/usr/lib/python3.10/tempfile.py\": 1737124534.0, \"/home/oren/work/notes/notes-nlp/.venv/lib/python3.10/site-packages/platformdirs/api.py\": 1738206370.402626, \"/home/oren/work/notes/notes-nlp/.venv/lib/python3.10/site-packages/platformdirs/version.py\": 1738206370.402626, \"/usr/lib/python3.10/configparser.py\": 1737124534.0, \"/home/oren/work/notes/notes-nlp/.venv/lib/python3.10/site-packages/platformdirs/unix.py\": 1738206370.402626, \"/home/oren/work/notes/notes-nlp/.venv/lib/python3.10/site-packages/platformdirs/__init__.py\": 1738206370.4016259, \"/home/oren/work/notes/notes-nlp/.venv/lib/python3.10/site-packages/jupyter_core/paths.py\": 1738208869.5355554, \"/home/oren/work/notes/notes-nlp/.venv/lib/python3.10/site-packages/jupyter_client/localinterfaces.py\": 1738211114.6118827, \"/home/oren/work/notes/notes-nlp/.venv/lib/python3.10/site-packages/jupyter_client/utils.py\": 1738211114.6128826, \"/home/oren/work/notes/notes-nlp/.venv/lib/python3.10/site-packages/jupyter_client/connect.py\": 1738211114.6108825, \"/home/oren/work/notes/notes-nlp/.venv/lib/python3.10/site-packages/jupyter_client/client.py\": 1738211114.6108825, \"/home/oren/work/notes/notes-nlp/.venv/lib/python3.10/site-packages/jupyter_client/asynchronous/client.py\": 1738211114.6128826, \"/home/oren/work/notes/notes-nlp/.venv/lib/python3.10/site-packages/jupyter_client/asynchronous/__init__.py\": 1738211114.6128826, \"/home/oren/work/notes/notes-nlp/.venv/lib/python3.10/site-packages/jupyter_client/blocking/client.py\": 1738211114.6128826, \"/home/oren/work/notes/notes-nlp/.venv/lib/python3.10/site-packages/jupyter_client/blocking/__init__.py\": 1738211114.6128826, \"/home/oren/work/notes/notes-nlp/.venv/lib/python3.10/site-packages/jupyter_client/launcher.py\": 1738211114.6118827, \"/usr/lib/python3.10/lib-dynload/_uuid.cpython-310-x86_64-linux-gnu.so\": 1737124534.0, \"/usr/lib/python3.10/uuid.py\": 1737124534.0, \"/usr/lib/python3.10/csv.py\": 1737124534.0, \"/usr/lib/python3.10/email/__init__.py\": 1737124534.0, \"/usr/lib/python3.10/zipfile.py\": 1737124534.0, \"/usr/lib/python3.10/uu.py\": 1737124534.0, \"/usr/lib/python3.10/quopri.py\": 1737124534.0, \"/usr/lib/python3.10/email/_parseaddr.py\": 1737124534.0, \"/usr/lib/python3.10/email/base64mime.py\": 1737124534.0, \"/usr/lib/python3.10/email/quoprimime.py\": 1737124534.0, \"/usr/lib/python3.10/email/errors.py\": 1737124534.0, \"/usr/lib/python3.10/email/encoders.py\": 1737124534.0, \"/usr/lib/python3.10/email/charset.py\": 1737124534.0, \"/usr/lib/python3.10/email/utils.py\": 1737124534.0, \"/usr/lib/python3.10/email/header.py\": 1737124534.0, \"/usr/lib/python3.10/email/_policybase.py\": 1737124534.0, \"/usr/lib/python3.10/email/_encoded_words.py\": 1737124534.0, \"/usr/lib/python3.10/email/iterators.py\": 1737124534.0, \"/usr/lib/python3.10/email/message.py\": 1737124534.0, \"/usr/lib/python3.10/importlib/metadata/_functools.py\": 1737124534.0, \"/usr/lib/python3.10/importlib/metadata/_text.py\": 1737124534.0, \"/usr/lib/python3.10/importlib/metadata/_adapters.py\": 1737124534.0, \"/usr/lib/python3.10/importlib/metadata/_meta.py\": 1737124534.0, \"/usr/lib/python3.10/importlib/metadata/_collections.py\": 1737124534.0, \"/usr/lib/python3.10/importlib/metadata/_itertools.py\": 1737124534.0, \"/usr/lib/python3.10/importlib/abc.py\": 1737124534.0, \"/usr/lib/python3.10/importlib/metadata/__init__.py\": 1737124534.0, \"/home/oren/work/notes/notes-nlp/.venv/lib/python3.10/site-packages/jupyter_client/provisioning/provisioner_base.py\": 1738211114.6138825, \"/home/oren/work/notes/notes-nlp/.venv/lib/python3.10/site-packages/jupyter_client/provisioning/factory.py\": 1738211114.6138825, \"/home/oren/work/notes/notes-nlp/.venv/lib/python3.10/site-packages/jupyter_client/provisioning/local_provisioner.py\": 1738211114.6138825, \"/home/oren/work/notes/notes-nlp/.venv/lib/python3.10/site-packages/jupyter_client/provisioning/__init__.py\": 1738211114.6128826, \"/home/oren/work/notes/notes-nlp/.venv/lib/python3.10/site-packages/jupyter_client/kernelspec.py\": 1738211114.6108825, \"/home/oren/work/notes/notes-nlp/.venv/lib/python3.10/site-packages/jupyter_client/managerabc.py\": 1738211114.6118827, \"/home/oren/work/notes/notes-nlp/.venv/lib/python3.10/site-packages/jupyter_client/manager.py\": 1738211114.6118827, \"/home/oren/work/notes/notes-nlp/.venv/lib/python3.10/site-packages/jupyter_client/multikernelmanager.py\": 1738211114.6118827, \"/home/oren/work/notes/notes-nlp/.venv/lib/python3.10/site-packages/jupyter_client/__init__.py\": 1738211114.6098826, \"/home/oren/work/notes/notes-nlp/.venv/lib/python3.10/site-packages/ipykernel/connect.py\": 1738211119.9207983, \"/home/oren/work/notes/notes-nlp/.venv/lib/python3.10/site-packages/ipykernel/__init__.py\": 1738211119.9197984, \"/home/oren/work/notes/notes-nlp/.venv/lib/python3.10/site-packages/IPython/core/__init__.py\": 1738211116.355855, \"/home/oren/work/notes/notes-nlp/.venv/lib/python3.10/site-packages/IPython/core/getipython.py\": 1738211116.3588548, \"/home/oren/work/notes/notes-nlp/.venv/lib/python3.10/site-packages/IPython/core/release.py\": 1738211116.3618548, \"/usr/lib/python3.10/pkgutil.py\": 1737124534.0, \"/usr/lib/python3.10/sysconfig.py\": 1737124534.0, \"/usr/lib/python3.10/_sysconfigdata__x86_64-linux-gnu.py\": 1737124534.0, \"/usr/lib/python3.10/pydoc.py\": 1737124534.0, \"/home/oren/work/notes/notes-nlp/.venv/lib/python3.10/site-packages/executing/executing.py\": 1738208871.3485265, \"/home/oren/work/notes/notes-nlp/.venv/lib/python3.10/site-packages/executing/_pytest_utils.py\": 1738208871.3485265, \"/home/oren/work/notes/notes-nlp/.venv/lib/python3.10/site-packages/executing/version.py\": 1738208871.3485265, \"/home/oren/work/notes/notes-nlp/.venv/lib/python3.10/site-packages/executing/__init__.py\": 1738208871.3485265, \"/home/oren/work/notes/notes-nlp/.venv/lib/python3.10/site-packages/asttokens/line_numbers.py\": 1738208872.4535089, \"/home/oren/work/notes/notes-nlp/.venv/lib/python3.10/site-packages/asttokens/util.py\": 1738208872.4535089, \"/home/oren/work/notes/notes-nlp/.venv/lib/python3.10/site-packages/asttokens/asttokens.py\": 1738208872.4535089, \"/home/oren/work/notes/notes-nlp/.venv/lib/python3.10/site-packages/asttokens/__init__.py\": 1738208872.4535089, \"/usr/lib/python3.10/fractions.py\": 1737124534.0, \"/home/oren/work/notes/notes-nlp/.venv/lib/python3.10/site-packages/pure_eval/utils.py\": 1738206365.9996974, \"/home/oren/work/notes/notes-nlp/.venv/lib/python3.10/site-packages/pure_eval/my_getattr_static.py\": 1738206365.9986975, \"/home/oren/work/notes/notes-nlp/.venv/lib/python3.10/site-packages/pure_eval/core.py\": 1738206365.9986975, \"/home/oren/work/notes/notes-nlp/.venv/lib/python3.10/site-packages/pure_eval/version.py\": 1738206365.9996974, \"/home/oren/work/notes/notes-nlp/.venv/lib/python3.10/site-packages/pure_eval/__init__.py\": 1738206365.9986975, \"/home/oren/work/notes/notes-nlp/.venv/lib/python3.10/site-packages/stack_data/utils.py\": 1738208872.5905068, \"/home/oren/work/notes/notes-nlp/.venv/lib/python3.10/site-packages/stack_data/core.py\": 1738208872.5905068, \"/home/oren/work/notes/notes-nlp/.venv/lib/python3.10/site-packages/stack_data/formatting.py\": 1738208872.5905068, \"/home/oren/work/notes/notes-nlp/.venv/lib/python3.10/site-packages/stack_data/serializing.py\": 1738208872.5905068, \"/home/oren/work/notes/notes-nlp/.venv/lib/python3.10/site-packages/stack_data/version.py\": 1738208872.5905068, \"/home/oren/work/notes/notes-nlp/.venv/lib/python3.10/site-packages/stack_data/__init__.py\": 1738208872.5895066, \"/home/oren/work/notes/notes-nlp/.venv/lib/python3.10/site-packages/pygments/__init__.py\": 1738206368.6586542, \"/home/oren/work/notes/notes-nlp/.venv/lib/python3.10/site-packages/pygments/formatters/_mapping.py\": 1738206368.6616542, \"/home/oren/work/notes/notes-nlp/.venv/lib/python3.10/site-packages/pygments/plugin.py\": 1738206368.6596544, \"/home/oren/work/notes/notes-nlp/.venv/lib/python3.10/site-packages/pygments/util.py\": 1738206368.6616542, \"/home/oren/work/notes/notes-nlp/.venv/lib/python3.10/site-packages/pygments/formatters/__init__.py\": 1738206368.6616542, \"/home/oren/work/notes/notes-nlp/.venv/lib/python3.10/site-packages/pygments/styles/_mapping.py\": 1738206368.6986537, \"/home/oren/work/notes/notes-nlp/.venv/lib/python3.10/site-packages/pygments/styles/__init__.py\": 1738206368.6986537, \"/home/oren/work/notes/notes-nlp/.venv/lib/python3.10/site-packages/pygments/formatter.py\": 1738206368.6596544, \"/home/oren/work/notes/notes-nlp/.venv/lib/python3.10/site-packages/pygments/console.py\": 1738206368.6586542, \"/home/oren/work/notes/notes-nlp/.venv/lib/python3.10/site-packages/pygments/token.py\": 1738206368.6606543, \"/home/oren/work/notes/notes-nlp/.venv/lib/python3.10/site-packages/pygments/style.py\": 1738206368.6606543, \"/home/oren/work/notes/notes-nlp/.venv/lib/python3.10/site-packages/pygments/formatters/terminal256.py\": 1738206368.6636543, \"/home/oren/work/notes/notes-nlp/.venv/lib/python3.10/site-packages/IPython/utils/__init__.py\": 1738211116.3788545, \"/home/oren/work/notes/notes-nlp/.venv/lib/python3.10/site-packages/IPython/utils/colorable.py\": 1738211116.3798544, \"/home/oren/work/notes/notes-nlp/.venv/lib/python3.10/site-packages/IPython/utils/ipstruct.py\": 1738211116.3808546, \"/home/oren/work/notes/notes-nlp/.venv/lib/python3.10/site-packages/IPython/utils/coloransi.py\": 1738211116.3798544, \"/home/oren/work/notes/notes-nlp/.venv/lib/python3.10/site-packages/IPython/core/excolors.py\": 1738211116.3578548, \"/home/oren/work/notes/notes-nlp/.venv/lib/python3.10/site-packages/IPython/utils/PyColorize.py\": 1738211116.3788545, \"/home/oren/work/notes/notes-nlp/.venv/lib/python3.10/site-packages/IPython/utils/encoding.py\": 1738211116.3798544, \"/home/oren/work/notes/notes-nlp/.venv/lib/python3.10/site-packages/IPython/utils/py3compat.py\": 1738211116.3808546, \"/usr/lib/python3.10/cmd.py\": 1737124534.0, \"/usr/lib/python3.10/bdb.py\": 1737124534.0, \"/usr/lib/python3.10/codeop.py\": 1737124534.0, \"/usr/lib/python3.10/code.py\": 1737124534.0, \"/usr/lib/python3.10/pdb.py\": 1737124534.0, \"/home/oren/work/notes/notes-nlp/.venv/lib/python3.10/site-packages/IPython/core/debugger.py\": 1738211116.3578548, \"/home/oren/work/notes/notes-nlp/.venv/lib/python3.10/site-packages/IPython/core/display_trap.py\": 1738211116.3578548, \"/usr/lib/python3.10/shlex.py\": 1737124534.0, \"/home/oren/work/notes/notes-nlp/.venv/lib/python3.10/site-packages/IPython/utils/_process_common.py\": 1738211116.3788545, \"/home/oren/work/notes/notes-nlp/.venv/lib/python3.10/site-packages/IPython/utils/_process_posix.py\": 1738211116.3788545, \"/home/oren/work/notes/notes-nlp/.venv/lib/python3.10/site-packages/IPython/utils/process.py\": 1738211116.3808546, \"/home/oren/work/notes/notes-nlp/.venv/lib/python3.10/site-packages/IPython/utils/path.py\": 1738211116.3808546, \"/home/oren/work/notes/notes-nlp/.venv/lib/python3.10/site-packages/IPython/utils/terminal.py\": 1738211116.3818545, \"/home/oren/work/notes/notes-nlp/.venv/lib/python3.10/site-packages/IPython/core/ultratb.py\": 1738211116.3628547, \"/home/oren/work/notes/notes-nlp/.venv/lib/python3.10/site-packages/IPython/utils/_sysinfo.py\": 1738211116.3788545, \"/home/oren/work/notes/notes-nlp/.venv/lib/python3.10/site-packages/IPython/utils/sysinfo.py\": 1738211116.3818545, \"/home/oren/work/notes/notes-nlp/.venv/lib/python3.10/site-packages/IPython/core/crashhandler.py\": 1738211116.356855, \"/home/oren/work/notes/notes-nlp/.venv/lib/python3.10/site-packages/IPython/utils/importstring.py\": 1738211116.3798544, \"/home/oren/work/notes/notes-nlp/.venv/lib/python3.10/site-packages/IPython/paths.py\": 1738211116.355855, \"/home/oren/work/notes/notes-nlp/.venv/lib/python3.10/site-packages/IPython/core/profiledir.py\": 1738211116.3618548, \"/home/oren/work/notes/notes-nlp/.venv/lib/python3.10/site-packages/IPython/core/application.py\": 1738211116.355855, \"/home/oren/work/notes/notes-nlp/.venv/lib/python3.10/site-packages/IPython/terminal/__init__.py\": 1738211116.3738546, \"/home/oren/work/notes/notes-nlp/.venv/lib/python3.10/site-packages/IPython/core/compilerop.py\": 1738211116.356855, \"/home/oren/work/notes/notes-nlp/.venv/lib/python3.10/site-packages/IPython/core/error.py\": 1738211116.3578548, \"/home/oren/work/notes/notes-nlp/.venv/lib/python3.10/site-packages/IPython/utils/docs.py\": 1738211116.3798544, \"/home/oren/work/notes/notes-nlp/.venv/lib/python3.10/site-packages/IPython/utils/decorators.py\": 1738211116.3798544, \"/home/oren/work/notes/notes-nlp/.venv/lib/python3.10/site-packages/typing_extensions.py\": 1738206367.8976667, \"/home/oren/work/notes/notes-nlp/.venv/lib/python3.10/site-packages/IPython/utils/text.py\": 1738211116.3818545, \"/home/oren/work/notes/notes-nlp/.venv/lib/python3.10/site-packages/IPython/core/magic_arguments.py\": 1738211116.3608549, \"/usr/lib/python3.10/getopt.py\": 1737124534.0, \"/home/oren/work/notes/notes-nlp/.venv/lib/python3.10/site-packages/IPython/core/display_functions.py\": 1738211116.3578548, \"/usr/lib/python3.10/mimetypes.py\": 1737124534.0, \"/home/oren/work/notes/notes-nlp/.venv/lib/python3.10/site-packages/IPython/testing/__init__.py\": 1738211116.3768547, \"/home/oren/work/notes/notes-nlp/.venv/lib/python3.10/site-packages/IPython/testing/skipdoctest.py\": 1738211116.3768547, \"/home/oren/work/notes/notes-nlp/.venv/lib/python3.10/site-packages/IPython/core/display.py\": 1738211116.3578548, \"/home/oren/work/notes/notes-nlp/.venv/lib/python3.10/site-packages/IPython/lib/__init__.py\": 1738211116.3708546, \"/home/oren/work/notes/notes-nlp/.venv/lib/python3.10/site-packages/IPython/lib/display.py\": 1738211116.3718548, \"/home/oren/work/notes/notes-nlp/.venv/lib/python3.10/site-packages/IPython/display.py\": 1738211116.355855, \"/home/oren/work/notes/notes-nlp/.venv/lib/python3.10/site-packages/IPython/utils/data.py\": 1738211116.3798544, \"/home/oren/work/notes/notes-nlp/.venv/lib/python3.10/site-packages/IPython/core/page.py\": 1738211116.3608549, \"/home/oren/work/notes/notes-nlp/.venv/lib/python3.10/site-packages/IPython/lib/pretty.py\": 1738211116.3718548, \"/home/oren/work/notes/notes-nlp/.venv/lib/python3.10/site-packages/IPython/utils/openpy.py\": 1738211116.3808546, \"/home/oren/work/notes/notes-nlp/.venv/lib/python3.10/site-packages/IPython/utils/dir2.py\": 1738211116.3798544, \"/home/oren/work/notes/notes-nlp/.venv/lib/python3.10/site-packages/IPython/utils/wildcard.py\": 1738211116.3828545, \"/home/oren/work/notes/notes-nlp/.venv/lib/python3.10/site-packages/pygments/lexers/_mapping.py\": 1738206368.666654, \"/home/oren/work/notes/notes-nlp/.venv/lib/python3.10/site-packages/pygments/modeline.py\": 1738206368.6596544, \"/home/oren/work/notes/notes-nlp/.venv/lib/python3.10/site-packages/pygments/lexers/__init__.py\": 1738206368.6636543, \"/home/oren/work/notes/notes-nlp/.venv/lib/python3.10/site-packages/pygments/filter.py\": 1738206368.6596544, \"/home/oren/work/notes/notes-nlp/.venv/lib/python3.10/site-packages/pygments/filters/__init__.py\": 1738206368.6616542, \"/home/oren/work/notes/notes-nlp/.venv/lib/python3.10/site-packages/pygments/regexopt.py\": 1738206368.6596544, \"/home/oren/work/notes/notes-nlp/.venv/lib/python3.10/site-packages/pygments/lexer.py\": 1738206368.6596544, \"/home/oren/work/notes/notes-nlp/.venv/lib/python3.10/site-packages/pygments/unistring.py\": 1738206368.6606543, \"/home/oren/work/notes/notes-nlp/.venv/lib/python3.10/site-packages/pygments/lexers/python.py\": 1738206368.6896539, \"/home/oren/work/notes/notes-nlp/.venv/lib/python3.10/site-packages/pygments/formatters/html.py\": 1738206368.6626542, \"/home/oren/work/notes/notes-nlp/.venv/lib/python3.10/site-packages/IPython/core/oinspect.py\": 1738211116.3608549, \"/home/oren/work/notes/notes-nlp/.venv/lib/python3.10/site-packages/IPython/utils/tokenutil.py\": 1738211116.3818545, \"/home/oren/work/notes/notes-nlp/.venv/lib/python3.10/site-packages/IPython/core/inputtransformer2.py\": 1738211116.359855, \"/home/oren/work/notes/notes-nlp/.venv/lib/python3.10/site-packages/IPython/core/magic.py\": 1738211116.3608549, \"/home/oren/work/notes/notes-nlp/.venv/lib/python3.10/site-packages/IPython/core/hooks.py\": 1738211116.3588548, \"/home/oren/work/notes/notes-nlp/.venv/lib/python3.10/site-packages/IPython/core/autocall.py\": 1738211116.356855, \"/home/oren/work/notes/notes-nlp/.venv/lib/python3.10/site-packages/IPython/core/macro.py\": 1738211116.3608549, \"/home/oren/work/notes/notes-nlp/.venv/lib/python3.10/site-packages/IPython/core/splitinput.py\": 1738211116.3628547, \"/home/oren/work/notes/notes-nlp/.venv/lib/python3.10/site-packages/IPython/core/prefilter.py\": 1738211116.3618548, \"/home/oren/work/notes/notes-nlp/.venv/lib/python3.10/site-packages/IPython/core/alias.py\": 1738211116.355855, \"/home/oren/work/notes/notes-nlp/.venv/lib/python3.10/site-packages/IPython/core/builtin_trap.py\": 1738211116.356855, \"/home/oren/work/notes/notes-nlp/.venv/lib/python3.10/site-packages/IPython/core/displayhook.py\": 1738211116.3578548, \"/home/oren/work/notes/notes-nlp/.venv/lib/python3.10/site-packages/IPython/core/displaypub.py\": 1738211116.3578548, \"/home/oren/work/notes/notes-nlp/.venv/lib/python3.10/site-packages/IPython/core/events.py\": 1738211116.3578548, \"/home/oren/work/notes/notes-nlp/.venv/lib/python3.10/site-packages/IPython/core/extensions.py\": 1738211116.3588548, \"/home/oren/work/notes/notes-nlp/.venv/lib/python3.10/site-packages/decorator.py\": 1738208871.4545248, \"/home/oren/work/notes/notes-nlp/.venv/lib/python3.10/site-packages/IPython/utils/sentinel.py\": 1738211116.3808546, \"/home/oren/work/notes/notes-nlp/.venv/lib/python3.10/site-packages/IPython/core/formatters.py\": 1738211116.3588548, \"/usr/lib/python3.10/lib-dynload/_sqlite3.cpython-310-x86_64-linux-gnu.so\": 1737124534.0, \"/usr/lib/python3.10/sqlite3/dbapi2.py\": 1737124534.0, \"/usr/lib/python3.10/sqlite3/__init__.py\": 1737124534.0, \"/home/oren/work/notes/notes-nlp/.venv/lib/python3.10/site-packages/IPython/core/history.py\": 1738211116.3588548, \"/home/oren/work/notes/notes-nlp/.venv/lib/python3.10/site-packages/IPython/core/logger.py\": 1738211116.3608549, \"/home/oren/work/notes/notes-nlp/.venv/lib/python3.10/site-packages/IPython/core/payload.py\": 1738211116.3618548, \"/home/oren/work/notes/notes-nlp/.venv/lib/python3.10/site-packages/IPython/core/usage.py\": 1738211116.3628547, \"/home/oren/work/notes/notes-nlp/.venv/lib/python3.10/site-packages/IPython/utils/capture.py\": 1738211116.3788545, \"/home/oren/work/notes/notes-nlp/.venv/lib/python3.10/site-packages/IPython/utils/io.py\": 1738211116.3808546, \"/home/oren/work/notes/notes-nlp/.venv/lib/python3.10/site-packages/IPython/utils/strdispatch.py\": 1738211116.3818545, \"/home/oren/work/notes/notes-nlp/.venv/lib/python3.10/site-packages/IPython/utils/syspathcontext.py\": 1738211116.3818545, \"/home/oren/work/notes/notes-nlp/.venv/lib/python3.10/site-packages/exceptiongroup/_exceptions.py\": 1738208871.3595264, \"/home/oren/work/notes/notes-nlp/.venv/lib/python3.10/site-packages/exceptiongroup/_catch.py\": 1738208871.3595264, \"/home/oren/work/notes/notes-nlp/.venv/lib/python3.10/site-packages/exceptiongroup/_version.py\": 1738208871.3605263, \"/home/oren/work/notes/notes-nlp/.venv/lib/python3.10/site-packages/exceptiongroup/_formatting.py\": 1738208871.3595264, \"/home/oren/work/notes/notes-nlp/.venv/lib/python3.10/site-packages/exceptiongroup/_suppress.py\": 1738208871.3605263, \"/home/oren/work/notes/notes-nlp/.venv/lib/python3.10/site-packages/exceptiongroup/__init__.py\": 1738208871.3595264, \"/home/oren/work/notes/notes-nlp/.venv/lib/python3.10/site-packages/IPython/core/async_helpers.py\": 1738211116.355855, \"/home/oren/work/notes/notes-nlp/.venv/lib/python3.10/site-packages/IPython/core/interactiveshell.py\": 1738211116.359855, \"/home/oren/work/notes/notes-nlp/.venv/lib/python3.10/site-packages/prompt_toolkit/application/current.py\": 1738206370.2306287, \"/home/oren/work/notes/notes-nlp/.venv/lib/python3.10/site-packages/prompt_toolkit/eventloop/utils.py\": 1738206370.2336287, \"/home/oren/work/notes/notes-nlp/.venv/lib/python3.10/site-packages/prompt_toolkit/eventloop/async_generator.py\": 1738206370.2336287, \"/home/oren/work/notes/notes-nlp/.venv/lib/python3.10/site-packages/prompt_toolkit/eventloop/inputhook.py\": 1738206370.2336287, \"/home/oren/work/notes/notes-nlp/.venv/lib/python3.10/site-packages/prompt_toolkit/eventloop/__init__.py\": 1738206370.2336287, \"/home/oren/work/notes/notes-nlp/.venv/lib/python3.10/site-packages/prompt_toolkit/application/run_in_terminal.py\": 1738206370.2316287, \"/home/oren/work/notes/notes-nlp/.venv/lib/python3.10/site-packages/prompt_toolkit/selection.py\": 1738206370.2306287, \"/home/oren/work/notes/notes-nlp/.venv/lib/python3.10/site-packages/prompt_toolkit/clipboard/base.py\": 1738206370.2316287, \"/home/oren/work/notes/notes-nlp/.venv/lib/python3.10/site-packages/prompt_toolkit/clipboard/in_memory.py\": 1738206370.2316287, \"/home/oren/work/notes/notes-nlp/.venv/lib/python3.10/site-packages/prompt_toolkit/clipboard/__init__.py\": 1738206370.2316287, \"/home/oren/work/notes/notes-nlp/.venv/lib/python3.10/site-packages/prompt_toolkit/cache.py\": 1738206370.2286289, \"/home/oren/work/notes/notes-nlp/.venv/lib/python3.10/site-packages/prompt_toolkit/enums.py\": 1738206370.2296288, \"/home/oren/work/notes/notes-nlp/.venv/lib/python3.10/site-packages/prompt_toolkit/filters/base.py\": 1738206370.2346287, \"/home/oren/work/notes/notes-nlp/.venv/lib/python3.10/site-packages/prompt_toolkit/filters/app.py\": 1738206370.2346287, \"/home/oren/work/notes/notes-nlp/.venv/lib/python3.10/site-packages/prompt_toolkit/filters/cli.py\": 1738206370.2346287, \"/home/oren/work/notes/notes-nlp/.venv/lib/python3.10/site-packages/prompt_toolkit/filters/utils.py\": 1738206370.2346287, \"/home/oren/work/notes/notes-nlp/.venv/lib/python3.10/site-packages/prompt_toolkit/filters/__init__.py\": 1738206370.2346287, \"/home/oren/work/notes/notes-nlp/.venv/lib/python3.10/site-packages/prompt_toolkit/document.py\": 1738206370.2296288, \"/home/oren/work/notes/notes-nlp/.venv/lib/python3.10/site-packages/prompt_toolkit/auto_suggest.py\": 1738206370.2286289, \"/home/oren/work/notes/notes-nlp/.venv/lib/python3.10/site-packages/prompt_toolkit/keys.py\": 1738206370.2296288, \"/home/oren/work/notes/notes-nlp/.venv/lib/python3.10/site-packages/prompt_toolkit/key_binding/key_bindings.py\": 1738206370.2366285, \"/home/oren/work/notes/notes-nlp/.venv/lib/python3.10/site-packages/wcwidth/table_vs16.py\": 1738206365.8596997, \"/home/oren/work/notes/notes-nlp/.venv/lib/python3.10/site-packages/wcwidth/table_wide.py\": 1738206365.8596997, \"/home/oren/work/notes/notes-nlp/.venv/lib/python3.10/site-packages/wcwidth/table_zero.py\": 1738206365.8607, \"/home/oren/work/notes/notes-nlp/.venv/lib/python3.10/site-packages/wcwidth/unicode_versions.py\": 1738206365.8607, \"/home/oren/work/notes/notes-nlp/.venv/lib/python3.10/site-packages/wcwidth/wcwidth.py\": 1738206365.8607, \"/home/oren/work/notes/notes-nlp/.venv/lib/python3.10/site-packages/wcwidth/__init__.py\": 1738206365.8596997, \"/home/oren/work/notes/notes-nlp/.venv/lib/python3.10/site-packages/prompt_toolkit/utils.py\": 1738206370.2306287, \"/home/oren/work/notes/notes-nlp/.venv/lib/python3.10/site-packages/prompt_toolkit/key_binding/key_processor.py\": 1738206370.2366285, \"/home/oren/work/notes/notes-nlp/.venv/lib/python3.10/site-packages/prompt_toolkit/key_binding/__init__.py\": 1738206370.2366285, \"/home/oren/work/notes/notes-nlp/.venv/lib/python3.10/site-packages/prompt_toolkit/key_binding/vi_state.py\": 1738206370.2366285, \"/home/oren/work/notes/notes-nlp/.venv/lib/python3.10/site-packages/prompt_toolkit/cursor_shapes.py\": 1738206370.2286289, \"/home/oren/work/notes/notes-nlp/.venv/lib/python3.10/site-packages/prompt_toolkit/data_structures.py\": 1738206370.2286289, \"/home/oren/work/notes/notes-nlp/.venv/lib/python3.10/site-packages/prompt_toolkit/styles/base.py\": 1738206370.2426286, \"/home/oren/work/notes/notes-nlp/.venv/lib/python3.10/site-packages/prompt_toolkit/styles/named_colors.py\": 1738206370.2426286, \"/home/oren/work/notes/notes-nlp/.venv/lib/python3.10/site-packages/prompt_toolkit/styles/style.py\": 1738206370.2426286, \"/home/oren/work/notes/notes-nlp/.venv/lib/python3.10/site-packages/prompt_toolkit/styles/defaults.py\": 1738206370.2426286, \"/home/oren/work/notes/notes-nlp/.venv/lib/python3.10/site-packages/prompt_toolkit/styles/pygments.py\": 1738206370.2426286, \"/usr/lib/python3.10/colorsys.py\": 1737124534.0, \"/home/oren/work/notes/notes-nlp/.venv/lib/python3.10/site-packages/prompt_toolkit/styles/style_transformation.py\": 1738206370.2436285, \"/home/oren/work/notes/notes-nlp/.venv/lib/python3.10/site-packages/prompt_toolkit/styles/__init__.py\": 1738206370.2426286, \"/home/oren/work/notes/notes-nlp/.venv/lib/python3.10/site-packages/prompt_toolkit/output/color_depth.py\": 1738206370.2406285, \"/home/oren/work/notes/notes-nlp/.venv/lib/python3.10/site-packages/prompt_toolkit/output/base.py\": 1738206370.2406285, \"/home/oren/work/notes/notes-nlp/.venv/lib/python3.10/site-packages/prompt_toolkit/output/flush_stdout.py\": 1738206370.2416286, \"/home/oren/work/notes/notes-nlp/.venv/lib/python3.10/site-packages/prompt_toolkit/output/plain_text.py\": 1738206370.2416286, \"/home/oren/work/notes/notes-nlp/.venv/lib/python3.10/site-packages/prompt_toolkit/output/defaults.py\": 1738206370.2406285, \"/home/oren/work/notes/notes-nlp/.venv/lib/python3.10/site-packages/prompt_toolkit/output/__init__.py\": 1738206370.2406285, \"/home/oren/work/notes/notes-nlp/.venv/lib/python3.10/site-packages/prompt_toolkit/output/vt100.py\": 1738206370.2416286, \"/home/oren/work/notes/notes-nlp/.venv/lib/python3.10/site-packages/prompt_toolkit/mouse_events.py\": 1738206370.2296288, \"/home/oren/work/notes/notes-nlp/.venv/lib/python3.10/site-packages/prompt_toolkit/formatted_text/base.py\": 1738206370.2346287, \"/home/oren/work/notes/notes-nlp/.venv/lib/python3.10/site-packages/prompt_toolkit/formatted_text/ansi.py\": 1738206370.2346287, \"/usr/lib/python3.10/xml/__init__.py\": 1737124534.0, \"/usr/lib/python3.10/xml/dom/domreg.py\": 1737124534.0, \"/usr/lib/python3.10/xml/dom/__init__.py\": 1737124534.0, \"/usr/lib/python3.10/xml/dom/minicompat.py\": 1737124534.0, \"/usr/lib/python3.10/xml/dom/NodeFilter.py\": 1737124534.0, \"/usr/lib/python3.10/xml/dom/xmlbuilder.py\": 1737124534.0, \"/usr/lib/python3.10/xml/dom/minidom.py\": 1737124534.0, \"/home/oren/work/notes/notes-nlp/.venv/lib/python3.10/site-packages/prompt_toolkit/formatted_text/html.py\": 1738206370.2346287, \"/home/oren/work/notes/notes-nlp/.venv/lib/python3.10/site-packages/prompt_toolkit/formatted_text/pygments.py\": 1738206370.2346287, \"/home/oren/work/notes/notes-nlp/.venv/lib/python3.10/site-packages/prompt_toolkit/formatted_text/utils.py\": 1738206370.2346287, \"/home/oren/work/notes/notes-nlp/.venv/lib/python3.10/site-packages/prompt_toolkit/formatted_text/__init__.py\": 1738206370.2346287, \"/home/oren/work/notes/notes-nlp/.venv/lib/python3.10/site-packages/prompt_toolkit/completion/base.py\": 1738206370.2316287, \"/home/oren/work/notes/notes-nlp/.venv/lib/python3.10/site-packages/prompt_toolkit/completion/deduplicate.py\": 1738206370.2316287, \"/home/oren/work/notes/notes-nlp/.venv/lib/python3.10/site-packages/prompt_toolkit/completion/filesystem.py\": 1738206370.2316287, \"/home/oren/work/notes/notes-nlp/.venv/lib/python3.10/site-packages/prompt_toolkit/completion/word_completer.py\": 1738206370.2326288, \"/home/oren/work/notes/notes-nlp/.venv/lib/python3.10/site-packages/prompt_toolkit/completion/fuzzy_completer.py\": 1738206370.2316287, \"/home/oren/work/notes/notes-nlp/.venv/lib/python3.10/site-packages/prompt_toolkit/completion/nested.py\": 1738206370.2326288, \"/home/oren/work/notes/notes-nlp/.venv/lib/python3.10/site-packages/prompt_toolkit/completion/__init__.py\": 1738206370.2316287, \"/home/oren/work/notes/notes-nlp/.venv/lib/python3.10/site-packages/prompt_toolkit/history.py\": 1738206370.2296288, \"/home/oren/work/notes/notes-nlp/.venv/lib/python3.10/site-packages/prompt_toolkit/search.py\": 1738206370.2306287, \"/home/oren/work/notes/notes-nlp/.venv/lib/python3.10/site-packages/prompt_toolkit/validation.py\": 1738206370.2306287, \"/home/oren/work/notes/notes-nlp/.venv/lib/python3.10/site-packages/prompt_toolkit/buffer.py\": 1738206370.2286289, \"/home/oren/work/notes/notes-nlp/.venv/lib/python3.10/site-packages/prompt_toolkit/input/base.py\": 1738206370.2356286, \"/home/oren/work/notes/notes-nlp/.venv/lib/python3.10/site-packages/prompt_toolkit/input/defaults.py\": 1738206370.2356286, \"/home/oren/work/notes/notes-nlp/.venv/lib/python3.10/site-packages/prompt_toolkit/input/__init__.py\": 1738206370.2356286, \"/home/oren/work/notes/notes-nlp/.venv/lib/python3.10/site-packages/prompt_toolkit/input/typeahead.py\": 1738206370.2356286, \"/home/oren/work/notes/notes-nlp/.venv/lib/python3.10/site-packages/prompt_toolkit/key_binding/bindings/__init__.py\": 1738206370.2366285, \"/home/oren/work/notes/notes-nlp/.venv/lib/python3.10/site-packages/prompt_toolkit/key_binding/bindings/scroll.py\": 1738206370.2386286, \"/home/oren/work/notes/notes-nlp/.venv/lib/python3.10/site-packages/prompt_toolkit/key_binding/bindings/page_navigation.py\": 1738206370.2376287, \"/home/oren/work/notes/notes-nlp/.venv/lib/python3.10/site-packages/prompt_toolkit/lexers/base.py\": 1738206370.2406285, \"/home/oren/work/notes/notes-nlp/.venv/lib/python3.10/site-packages/prompt_toolkit/lexers/pygments.py\": 1738206370.2406285, \"/home/oren/work/notes/notes-nlp/.venv/lib/python3.10/site-packages/prompt_toolkit/lexers/__init__.py\": 1738206370.2406285, \"/home/oren/work/notes/notes-nlp/.venv/lib/python3.10/site-packages/prompt_toolkit/layout/utils.py\": 1738206370.2406285, \"/home/oren/work/notes/notes-nlp/.venv/lib/python3.10/site-packages/prompt_toolkit/layout/processors.py\": 1738206370.2396286, \"/home/oren/work/notes/notes-nlp/.venv/lib/python3.10/site-packages/prompt_toolkit/layout/controls.py\": 1738206370.2396286, \"/home/oren/work/notes/notes-nlp/.venv/lib/python3.10/site-packages/prompt_toolkit/layout/dimension.py\": 1738206370.2396286, \"/home/oren/work/notes/notes-nlp/.venv/lib/python3.10/site-packages/prompt_toolkit/layout/margins.py\": 1738206370.2396286, \"/home/oren/work/notes/notes-nlp/.venv/lib/python3.10/site-packages/prompt_toolkit/layout/mouse_handlers.py\": 1738206370.2396286, \"/home/oren/work/notes/notes-nlp/.venv/lib/python3.10/site-packages/prompt_toolkit/layout/screen.py\": 1738206370.2396286, \"/home/oren/work/notes/notes-nlp/.venv/lib/python3.10/site-packages/prompt_toolkit/layout/containers.py\": 1738206370.2386286, \"/home/oren/work/notes/notes-nlp/.venv/lib/python3.10/site-packages/prompt_toolkit/layout/layout.py\": 1738206370.2396286, \"/home/oren/work/notes/notes-nlp/.venv/lib/python3.10/site-packages/prompt_toolkit/layout/menus.py\": 1738206370.2396286, \"/home/oren/work/notes/notes-nlp/.venv/lib/python3.10/site-packages/prompt_toolkit/layout/scrollable_pane.py\": 1738206370.2406285, \"/home/oren/work/notes/notes-nlp/.venv/lib/python3.10/site-packages/prompt_toolkit/layout/__init__.py\": 1738206370.2386286, \"/home/oren/work/notes/notes-nlp/.venv/lib/python3.10/site-packages/prompt_toolkit/key_binding/bindings/completion.py\": 1738206370.2376287, \"/home/oren/work/notes/notes-nlp/.venv/lib/python3.10/site-packages/prompt_toolkit/key_binding/bindings/named_commands.py\": 1738206370.2376287, \"/home/oren/work/notes/notes-nlp/.venv/lib/python3.10/site-packages/prompt_toolkit/key_binding/bindings/basic.py\": 1738206370.2376287, \"/home/oren/work/notes/notes-nlp/.venv/lib/python3.10/site-packages/prompt_toolkit/key_binding/bindings/cpr.py\": 1738206370.2376287, \"/home/oren/work/notes/notes-nlp/.venv/lib/python3.10/site-packages/prompt_toolkit/key_binding/bindings/emacs.py\": 1738206370.2376287, \"/home/oren/work/notes/notes-nlp/.venv/lib/python3.10/site-packages/prompt_toolkit/key_binding/bindings/mouse.py\": 1738206370.2376287, \"/home/oren/work/notes/notes-nlp/.venv/lib/python3.10/site-packages/prompt_toolkit/input/ansi_escape_sequences.py\": 1738206370.2356286, \"/home/oren/work/notes/notes-nlp/.venv/lib/python3.10/site-packages/prompt_toolkit/input/vt100_parser.py\": 1738206370.2356286, \"/home/oren/work/notes/notes-nlp/.venv/lib/python3.10/site-packages/prompt_toolkit/key_binding/digraphs.py\": 1738206370.2366285, \"/home/oren/work/notes/notes-nlp/.venv/lib/python3.10/site-packages/prompt_toolkit/key_binding/bindings/vi.py\": 1738206370.2386286, \"/home/oren/work/notes/notes-nlp/.venv/lib/python3.10/site-packages/prompt_toolkit/key_binding/defaults.py\": 1738206370.2366285, \"/home/oren/work/notes/notes-nlp/.venv/lib/python3.10/site-packages/prompt_toolkit/key_binding/emacs_state.py\": 1738206370.2366285, \"/home/oren/work/notes/notes-nlp/.venv/lib/python3.10/site-packages/prompt_toolkit/layout/dummy.py\": 1738206370.2396286, \"/home/oren/work/notes/notes-nlp/.venv/lib/python3.10/site-packages/prompt_toolkit/renderer.py\": 1738206370.2296288, \"/home/oren/work/notes/notes-nlp/.venv/lib/python3.10/site-packages/prompt_toolkit/application/application.py\": 1738206370.2306287, \"/home/oren/work/notes/notes-nlp/.venv/lib/python3.10/site-packages/prompt_toolkit/application/dummy.py\": 1738206370.2316287, \"/home/oren/work/notes/notes-nlp/.venv/lib/python3.10/site-packages/prompt_toolkit/application/__init__.py\": 1738206370.2306287, \"/home/oren/work/notes/notes-nlp/.venv/lib/python3.10/site-packages/prompt_toolkit/key_binding/bindings/focus.py\": 1738206370.2376287, \"/home/oren/work/notes/notes-nlp/.venv/lib/python3.10/site-packages/prompt_toolkit/widgets/toolbars.py\": 1738206370.2436285, \"/home/oren/work/notes/notes-nlp/.venv/lib/python3.10/site-packages/prompt_toolkit/widgets/base.py\": 1738206370.2436285, \"/home/oren/work/notes/notes-nlp/.venv/lib/python3.10/site-packages/prompt_toolkit/widgets/dialogs.py\": 1738206370.2436285, \"/home/oren/work/notes/notes-nlp/.venv/lib/python3.10/site-packages/prompt_toolkit/widgets/menus.py\": 1738206370.2436285, \"/home/oren/work/notes/notes-nlp/.venv/lib/python3.10/site-packages/prompt_toolkit/widgets/__init__.py\": 1738206370.2436285, \"/home/oren/work/notes/notes-nlp/.venv/lib/python3.10/site-packages/prompt_toolkit/shortcuts/dialogs.py\": 1738206370.2416286, \"/usr/lib/python3.10/xml/parsers/__init__.py\": 1737124534.0, \"/usr/lib/python3.10/xml/parsers/expat.py\": 1737124534.0, \"/usr/lib/python3.10/xml/dom/expatbuilder.py\": 1737124534.0, \"/home/oren/work/notes/notes-nlp/.venv/lib/python3.10/site-packages/prompt_toolkit/shortcuts/progress_bar/formatters.py\": 1738206370.2426286, \"/home/oren/work/notes/notes-nlp/.venv/lib/python3.10/site-packages/prompt_toolkit/shortcuts/progress_bar/base.py\": 1738206370.2426286, \"/home/oren/work/notes/notes-nlp/.venv/lib/python3.10/site-packages/prompt_toolkit/shortcuts/progress_bar/__init__.py\": 1738206370.2426286, \"/home/oren/work/notes/notes-nlp/.venv/lib/python3.10/site-packages/prompt_toolkit/key_binding/bindings/auto_suggest.py\": 1738206370.2376287, \"/home/oren/work/notes/notes-nlp/.venv/lib/python3.10/site-packages/prompt_toolkit/key_binding/bindings/open_in_editor.py\": 1738206370.2376287, \"/home/oren/work/notes/notes-nlp/.venv/lib/python3.10/site-packages/prompt_toolkit/shortcuts/prompt.py\": 1738206370.2416286, \"/home/oren/work/notes/notes-nlp/.venv/lib/python3.10/site-packages/prompt_toolkit/shortcuts/utils.py\": 1738206370.2426286, \"/home/oren/work/notes/notes-nlp/.venv/lib/python3.10/site-packages/prompt_toolkit/shortcuts/__init__.py\": 1738206370.2416286, \"/home/oren/work/notes/notes-nlp/.venv/lib/python3.10/site-packages/prompt_toolkit/__init__.py\": 1738206370.2286289, \"/home/oren/work/notes/notes-nlp/.venv/lib/python3.10/site-packages/prompt_toolkit/patch_stdout.py\": 1738206370.2296288, \"/home/oren/work/notes/notes-nlp/.venv/lib/python3.10/site-packages/IPython/core/guarded_eval.py\": 1738211116.3588548, \"/home/oren/work/notes/notes-nlp/.venv/lib/python3.10/site-packages/IPython/core/latex_symbols.py\": 1738211116.3608549, \"/home/oren/work/notes/notes-nlp/.venv/lib/python3.10/site-packages/IPython/utils/generics.py\": 1738211116.3798544, \"/home/oren/work/notes/notes-nlp/.venv/lib/python3.10/site-packages/parso/utils.py\": 1738206370.6126225, \"/home/oren/work/notes/notes-nlp/.venv/lib/python3.10/site-packages/parso/tree.py\": 1738206370.6116226, \"/home/oren/work/notes/notes-nlp/.venv/lib/python3.10/site-packages/parso/python/__init__.py\": 1738206370.6126225, \"/home/oren/work/notes/notes-nlp/.venv/lib/python3.10/site-packages/parso/python/token.py\": 1738206370.6146226, \"/home/oren/work/notes/notes-nlp/.venv/lib/python3.10/site-packages/parso/python/tokenize.py\": 1738206370.6146226, \"/home/oren/work/notes/notes-nlp/.venv/lib/python3.10/site-packages/parso/pgen2/grammar_parser.py\": 1738206370.6126225, \"/home/oren/work/notes/notes-nlp/.venv/lib/python3.10/site-packages/parso/pgen2/generator.py\": 1738206370.6126225, \"/home/oren/work/notes/notes-nlp/.venv/lib/python3.10/site-packages/parso/pgen2/__init__.py\": 1738206370.6126225, \"/home/oren/work/notes/notes-nlp/.venv/lib/python3.10/site-packages/parso/parser.py\": 1738206370.6116226, \"/home/oren/work/notes/notes-nlp/.venv/lib/python3.10/site-packages/parso/_compatibility.py\": 1738206370.6116226, \"/usr/lib/python3.10/difflib.py\": 1737124534.0, \"/home/oren/work/notes/notes-nlp/.venv/lib/python3.10/site-packages/parso/python/prefix.py\": 1738206370.6146226, \"/home/oren/work/notes/notes-nlp/.venv/lib/python3.10/site-packages/parso/python/tree.py\": 1738206370.6146226, \"/home/oren/work/notes/notes-nlp/.venv/lib/python3.10/site-packages/parso/python/parser.py\": 1738206370.6136224, \"/home/oren/work/notes/notes-nlp/.venv/lib/python3.10/site-packages/parso/python/diff.py\": 1738206370.6126225, \"/home/oren/work/notes/notes-nlp/.venv/lib/python3.10/site-packages/parso/cache.py\": 1738206370.6116226, \"/home/oren/work/notes/notes-nlp/.venv/lib/python3.10/site-packages/parso/normalizer.py\": 1738206370.6116226, \"/home/oren/work/notes/notes-nlp/.venv/lib/python3.10/site-packages/parso/python/errors.py\": 1738206370.6126225, \"/home/oren/work/notes/notes-nlp/.venv/lib/python3.10/site-packages/parso/python/pep8.py\": 1738206370.6136224, \"/home/oren/work/notes/notes-nlp/.venv/lib/python3.10/site-packages/parso/file_io.py\": 1738206370.6116226, \"/home/oren/work/notes/notes-nlp/.venv/lib/python3.10/site-packages/parso/grammar.py\": 1738206370.6116226, \"/home/oren/work/notes/notes-nlp/.venv/lib/python3.10/site-packages/parso/__init__.py\": 1738206370.6116226, \"/home/oren/work/notes/notes-nlp/.venv/lib/python3.10/site-packages/jedi/parser_utils.py\": 1738208869.6675534, \"/home/oren/work/notes/notes-nlp/.venv/lib/python3.10/site-packages/jedi/debug.py\": 1738208869.6675534, \"/home/oren/work/notes/notes-nlp/.venv/lib/python3.10/site-packages/jedi/settings.py\": 1738208869.6675534, \"/home/oren/work/notes/notes-nlp/.venv/lib/python3.10/site-packages/jedi/cache.py\": 1738208869.6665533, \"/home/oren/work/notes/notes-nlp/.venv/lib/python3.10/site-packages/jedi/file_io.py\": 1738208869.6675534, \"/home/oren/work/notes/notes-nlp/.venv/lib/python3.10/site-packages/jedi/inference/cache.py\": 1738208869.6695533, \"/home/oren/work/notes/notes-nlp/.venv/lib/python3.10/site-packages/jedi/inference/helpers.py\": 1738208869.6705532, \"/home/oren/work/notes/notes-nlp/.venv/lib/python3.10/site-packages/jedi/inference/utils.py\": 1738208869.6715531, \"/home/oren/work/notes/notes-nlp/.venv/lib/python3.10/site-packages/jedi/inference/base_value.py\": 1738208869.6695533, \"/home/oren/work/notes/notes-nlp/.venv/lib/python3.10/site-packages/jedi/inference/sys_path.py\": 1738208869.6715531, \"/home/oren/work/notes/notes-nlp/.venv/lib/python3.10/site-packages/jedi/inference/recursion.py\": 1738208869.6715531, \"/home/oren/work/notes/notes-nlp/.venv/lib/python3.10/site-packages/jedi/inference/flow_analysis.py\": 1738208869.6705532, \"/home/oren/work/notes/notes-nlp/.venv/lib/python3.10/site-packages/jedi/common.py\": 1738208869.6675534, \"/home/oren/work/notes/notes-nlp/.venv/lib/python3.10/site-packages/jedi/inference/lazy_value.py\": 1738208869.6705532, \"/home/oren/work/notes/notes-nlp/.venv/lib/python3.10/site-packages/jedi/inference/docstrings.py\": 1738208869.6705532, \"/home/oren/work/notes/notes-nlp/.venv/lib/python3.10/site-packages/jedi/plugins/__init__.py\": 1738208869.6745532, \"/home/oren/work/notes/notes-nlp/.venv/lib/python3.10/site-packages/jedi/inference/names.py\": 1738208869.6705532, \"/home/oren/work/notes/notes-nlp/.venv/lib/python3.10/site-packages/jedi/inference/filters.py\": 1738208869.6705532, \"/home/oren/work/notes/notes-nlp/.venv/lib/python3.10/site-packages/jedi/inference/compiled/getattr_static.py\": 1738208869.6725533, \"/home/oren/work/notes/notes-nlp/.venv/lib/python3.10/site-packages/jedi/inference/compiled/access.py\": 1738208869.6725533, \"/home/oren/work/notes/notes-nlp/.venv/lib/python3.10/site-packages/jedi/inference/signature.py\": 1738208869.6715531, \"/home/oren/work/notes/notes-nlp/.venv/lib/python3.10/site-packages/jedi/inference/context.py\": 1738208869.6695533, \"/home/oren/work/notes/notes-nlp/.venv/lib/python3.10/site-packages/jedi/inference/compiled/value.py\": 1738208869.6725533, \"/home/oren/work/notes/notes-nlp/.venv/lib/python3.10/site-packages/jedi/inference/compiled/__init__.py\": 1738208869.6715531, \"/home/oren/work/notes/notes-nlp/.venv/lib/python3.10/site-packages/jedi/inference/analysis.py\": 1738208869.6695533, \"/home/oren/work/notes/notes-nlp/.venv/lib/python3.10/site-packages/jedi/inference/gradual/__init__.py\": 1738208869.6725533, \"/home/oren/work/notes/notes-nlp/.venv/lib/python3.10/site-packages/jedi/inference/value/module.py\": 1738208869.6745532, \"/home/oren/work/notes/notes-nlp/.venv/lib/python3.10/site-packages/jedi/inference/value/dynamic_arrays.py\": 1738208869.6735532, \"/home/oren/work/notes/notes-nlp/.venv/lib/python3.10/site-packages/jedi/inference/value/iterable.py\": 1738208869.6745532, \"/home/oren/work/notes/notes-nlp/.venv/lib/python3.10/site-packages/jedi/inference/arguments.py\": 1738208869.6695533, \"/home/oren/work/notes/notes-nlp/.venv/lib/python3.10/site-packages/jedi/inference/parser_cache.py\": 1738208869.6715531, \"/home/oren/work/notes/notes-nlp/.venv/lib/python3.10/site-packages/jedi/inference/gradual/generics.py\": 1738208869.6735532, \"/home/oren/work/notes/notes-nlp/.venv/lib/python3.10/site-packages/jedi/inference/value/function.py\": 1738208869.6745532, \"/home/oren/work/notes/notes-nlp/.venv/lib/python3.10/site-packages/jedi/inference/value/klass.py\": 1738208869.6745532, \"/home/oren/work/notes/notes-nlp/.venv/lib/python3.10/site-packages/jedi/inference/value/instance.py\": 1738208869.6745532, \"/home/oren/work/notes/notes-nlp/.venv/lib/python3.10/site-packages/jedi/inference/value/__init__.py\": 1738208869.6735532, \"/home/oren/work/notes/notes-nlp/.venv/lib/python3.10/site-packages/jedi/inference/gradual/base.py\": 1738208869.6735532, \"/home/oren/work/notes/notes-nlp/.venv/lib/python3.10/site-packages/jedi/inference/gradual/type_var.py\": 1738208869.6735532, \"/home/oren/work/notes/notes-nlp/.venv/lib/python3.10/site-packages/jedi/inference/gradual/typing.py\": 1738208869.6735532, \"/home/oren/work/notes/notes-nlp/.venv/lib/python3.10/site-packages/jedi/inference/gradual/stub_value.py\": 1738208869.6735532, \"/home/oren/work/notes/notes-nlp/.venv/lib/python3.10/site-packages/jedi/inference/gradual/typeshed.py\": 1738208869.6735532, \"/home/oren/work/notes/notes-nlp/.venv/lib/python3.10/site-packages/jedi/_compatibility.py\": 1738208869.6665533, \"/home/oren/work/notes/notes-nlp/.venv/lib/python3.10/site-packages/jedi/inference/compiled/subprocess/functions.py\": 1738208869.6725533, \"/home/oren/work/notes/notes-nlp/.venv/lib/python3.10/site-packages/jedi/api/exceptions.py\": 1738208869.6685534, \"/home/oren/work/notes/notes-nlp/.venv/lib/python3.10/site-packages/jedi/inference/compiled/subprocess/__init__.py\": 1738208869.6725533, \"/home/oren/work/notes/notes-nlp/.venv/lib/python3.10/site-packages/jedi/inference/imports.py\": 1738208869.6705532, \"/home/oren/work/notes/notes-nlp/.venv/lib/python3.10/site-packages/jedi/inference/param.py\": 1738208869.6715531, \"/home/oren/work/notes/notes-nlp/.venv/lib/python3.10/site-packages/jedi/inference/gradual/annotation.py\": 1738208869.6725533, \"/home/oren/work/notes/notes-nlp/.venv/lib/python3.10/site-packages/jedi/inference/value/decorator.py\": 1738208869.6735532, \"/home/oren/work/notes/notes-nlp/.venv/lib/python3.10/site-packages/jedi/inference/syntax_tree.py\": 1738208869.6715531, \"/home/oren/work/notes/notes-nlp/.venv/lib/python3.10/site-packages/jedi/inference/__init__.py\": 1738208869.6695533, \"/home/oren/work/notes/notes-nlp/.venv/lib/python3.10/site-packages/jedi/inference/gradual/conversion.py\": 1738208869.6735532, \"/home/oren/work/notes/notes-nlp/.venv/lib/python3.10/site-packages/jedi/inference/compiled/mixed.py\": 1738208869.6725533, \"/usr/lib/python3.10/pydoc_data/__init__.py\": 1737124534.0, \"/usr/lib/python3.10/pydoc_data/topics.py\": 1737124534.0, \"/home/oren/work/notes/notes-nlp/.venv/lib/python3.10/site-packages/jedi/api/keywords.py\": 1738208869.6685534, \"/home/oren/work/notes/notes-nlp/.venv/lib/python3.10/site-packages/jedi/api/completion_cache.py\": 1738208869.6685534, \"/home/oren/work/notes/notes-nlp/.venv/lib/python3.10/site-packages/jedi/api/helpers.py\": 1738208869.6685534, \"/home/oren/work/notes/notes-nlp/.venv/lib/python3.10/site-packages/jedi/api/classes.py\": 1738208869.6675534, \"/home/oren/work/notes/notes-nlp/.venv/lib/python3.10/site-packages/jedi/api/interpreter.py\": 1738208869.6685534, \"/home/oren/work/notes/notes-nlp/.venv/lib/python3.10/site-packages/jedi/api/strings.py\": 1738208869.6695533, \"/home/oren/work/notes/notes-nlp/.venv/lib/python3.10/site-packages/jedi/api/file_name.py\": 1738208869.6685534, \"/home/oren/work/notes/notes-nlp/.venv/lib/python3.10/site-packages/jedi/inference/docstring_utils.py\": 1738208869.6705532, \"/home/oren/work/notes/notes-nlp/.venv/lib/python3.10/site-packages/jedi/api/completion.py\": 1738208869.6685534, \"/usr/lib/python3.10/filecmp.py\": 1737124534.0, \"/home/oren/work/notes/notes-nlp/.venv/lib/python3.10/site-packages/jedi/api/environment.py\": 1738208869.6685534, \"/home/oren/work/notes/notes-nlp/.venv/lib/python3.10/site-packages/jedi/inference/references.py\": 1738208869.6715531, \"/home/oren/work/notes/notes-nlp/.venv/lib/python3.10/site-packages/jedi/api/project.py\": 1738208869.6685534, \"/home/oren/work/notes/notes-nlp/.venv/lib/python3.10/site-packages/jedi/api/errors.py\": 1738208869.6685534, \"/home/oren/work/notes/notes-nlp/.venv/lib/python3.10/site-packages/jedi/inference/value/namespace.py\": 1738208869.6745532, \"/home/oren/work/notes/notes-nlp/.venv/lib/python3.10/site-packages/jedi/api/refactoring/__init__.py\": 1738208869.6695533, \"/home/oren/work/notes/notes-nlp/.venv/lib/python3.10/site-packages/jedi/api/refactoring/extract.py\": 1738208869.6695533, \"/home/oren/work/notes/notes-nlp/.venv/lib/python3.10/site-packages/jedi/inference/gradual/utils.py\": 1738208869.6735532, \"/home/oren/work/notes/notes-nlp/.venv/lib/python3.10/site-packages/jedi/api/__init__.py\": 1738208869.6675534, \"/home/oren/work/notes/notes-nlp/.venv/lib/python3.10/site-packages/jedi/plugins/stdlib.py\": 1738208869.675553, \"/home/oren/work/notes/notes-nlp/.venv/lib/python3.10/site-packages/jedi/plugins/flask.py\": 1738208869.6745532, \"/home/oren/work/notes/notes-nlp/.venv/lib/python3.10/site-packages/jedi/plugins/pytest.py\": 1738208869.675553, \"/home/oren/work/notes/notes-nlp/.venv/lib/python3.10/site-packages/jedi/plugins/django.py\": 1738208869.6745532, \"/home/oren/work/notes/notes-nlp/.venv/lib/python3.10/site-packages/jedi/plugins/registry.py\": 1738208869.675553, \"/home/oren/work/notes/notes-nlp/.venv/lib/python3.10/site-packages/jedi/__init__.py\": 1738208869.6665533, \"/home/oren/work/notes/notes-nlp/.venv/lib/python3.10/site-packages/IPython/core/completer.py\": 1738211116.356855, \"/home/oren/work/notes/notes-nlp/.venv/lib/python3.10/site-packages/IPython/terminal/ptutils.py\": 1738211116.3748546, \"/home/oren/work/notes/notes-nlp/.venv/lib/python3.10/site-packages/IPython/terminal/shortcuts/auto_match.py\": 1738211116.3758545, \"/home/oren/work/notes/notes-nlp/.venv/lib/python3.10/site-packages/IPython/terminal/shortcuts/filters.py\": 1738211116.3758545, \"/home/oren/work/notes/notes-nlp/.venv/lib/python3.10/site-packages/IPython/terminal/shortcuts/auto_suggest.py\": 1738211116.3758545, \"/home/oren/work/notes/notes-nlp/.venv/lib/python3.10/site-packages/IPython/terminal/shortcuts/__init__.py\": 1738211116.3758545, \"/usr/lib/python3.10/concurrent/futures/thread.py\": 1737124534.0, \"/home/oren/work/notes/notes-nlp/.venv/lib/python3.10/site-packages/IPython/terminal/debugger.py\": 1738211116.3738546, \"/home/oren/work/notes/notes-nlp/.venv/lib/python3.10/site-packages/IPython/lib/clipboard.py\": 1738211116.3708546, \"/home/oren/work/notes/notes-nlp/.venv/lib/python3.10/site-packages/IPython/terminal/magics.py\": 1738211116.3748546, \"/home/oren/work/notes/notes-nlp/.venv/lib/python3.10/site-packages/IPython/terminal/pt_inputhooks/__init__.py\": 1738211116.3748546, \"/home/oren/work/notes/notes-nlp/.venv/lib/python3.10/site-packages/IPython/terminal/prompts.py\": 1738211116.3748546, \"/home/oren/work/notes/notes-nlp/.venv/lib/python3.10/site-packages/IPython/terminal/interactiveshell.py\": 1738211116.3738546, \"/home/oren/work/notes/notes-nlp/.venv/lib/python3.10/site-packages/IPython/core/magics/auto.py\": 1738211116.3628547, \"/home/oren/work/notes/notes-nlp/.venv/lib/python3.10/site-packages/IPython/core/magics/basic.py\": 1738211116.3628547, \"/usr/lib/python3.10/http/__init__.py\": 1737124534.0, \"/usr/lib/python3.10/email/feedparser.py\": 1737124534.0, \"/usr/lib/python3.10/email/parser.py\": 1737124534.0, \"/usr/lib/python3.10/http/client.py\": 1737124534.0, \"/usr/lib/python3.10/urllib/response.py\": 1737124534.0, \"/usr/lib/python3.10/urllib/error.py\": 1737124534.0, \"/usr/lib/python3.10/urllib/request.py\": 1737124534.0, \"/home/oren/work/notes/notes-nlp/.venv/lib/python3.10/site-packages/IPython/utils/contexts.py\": 1738211116.3798544, \"/home/oren/work/notes/notes-nlp/.venv/lib/python3.10/site-packages/IPython/core/magics/code.py\": 1738211116.363855, \"/home/oren/work/notes/notes-nlp/.venv/lib/python3.10/site-packages/IPython/core/magics/config.py\": 1738211116.363855, \"/home/oren/work/notes/notes-nlp/.venv/lib/python3.10/site-packages/IPython/core/magics/display.py\": 1738211116.363855, \"/usr/lib/python3.10/lib-dynload/_lsprof.cpython-310-x86_64-linux-gnu.so\": 1737124534.0, \"/usr/lib/python3.10/profile.py\": 1737124534.0, \"/usr/lib/python3.10/cProfile.py\": 1737124534.0, \"/usr/lib/python3.10/pstats.py\": 1737124534.0, \"/usr/lib/python3.10/timeit.py\": 1737124534.0, \"/home/oren/work/notes/notes-nlp/.venv/lib/python3.10/site-packages/IPython/utils/module_paths.py\": 1738211116.3808546, \"/usr/lib/python3.10/lib-dynload/resource.cpython-310-x86_64-linux-gnu.so\": 1737124534.0, \"/home/oren/work/notes/notes-nlp/.venv/lib/python3.10/site-packages/IPython/utils/timing.py\": 1738211116.3818545, \"/home/oren/work/notes/notes-nlp/.venv/lib/python3.10/site-packages/IPython/core/magics/ast_mod.py\": 1738211116.3628547, \"/home/oren/work/notes/notes-nlp/.venv/lib/python3.10/site-packages/IPython/core/magics/execution.py\": 1738211116.363855, \"/home/oren/work/notes/notes-nlp/.venv/lib/python3.10/site-packages/IPython/core/magics/extension.py\": 1738211116.363855, \"/home/oren/work/notes/notes-nlp/.venv/lib/python3.10/site-packages/IPython/core/magics/history.py\": 1738211116.363855, \"/home/oren/work/notes/notes-nlp/.venv/lib/python3.10/site-packages/IPython/core/magics/logging.py\": 1738211116.363855, \"/home/oren/work/notes/notes-nlp/.venv/lib/python3.10/site-packages/IPython/core/magics/namespace.py\": 1738211116.363855, \"/home/oren/work/notes/notes-nlp/.venv/lib/python3.10/site-packages/IPython/core/magics/osm.py\": 1738211116.3648548, \"/home/oren/work/notes/notes-nlp/.venv/lib/python3.10/site-packages/IPython/core/magics/packaging.py\": 1738211116.3648548, \"/home/oren/work/notes/notes-nlp/.venv/lib/python3.10/site-packages/IPython/core/magics/pylab.py\": 1738211116.3648548, \"/home/oren/work/notes/notes-nlp/.venv/lib/python3.10/site-packages/IPython/core/magics/script.py\": 1738211116.3648548, \"/home/oren/work/notes/notes-nlp/.venv/lib/python3.10/site-packages/IPython/core/magics/__init__.py\": 1738211116.3628547, \"/home/oren/work/notes/notes-nlp/.venv/lib/python3.10/site-packages/IPython/core/shellapp.py\": 1738211116.3618548, \"/home/oren/work/notes/notes-nlp/.venv/lib/python3.10/site-packages/IPython/extensions/__init__.py\": 1738211116.3698547, \"/home/oren/work/notes/notes-nlp/.venv/lib/python3.10/site-packages/IPython/extensions/storemagic.py\": 1738211116.3698547, \"/home/oren/work/notes/notes-nlp/.venv/lib/python3.10/site-packages/IPython/terminal/ipapp.py\": 1738211116.3738546, \"/home/oren/work/notes/notes-nlp/.venv/lib/python3.10/site-packages/IPython/terminal/embed.py\": 1738211116.3738546, \"/home/oren/work/notes/notes-nlp/.venv/lib/python3.10/site-packages/IPython/utils/frame.py\": 1738211116.3798544, \"/home/oren/work/notes/notes-nlp/.venv/lib/python3.10/site-packages/IPython/__init__.py\": 1738211116.355855, \"/home/oren/work/notes/notes-nlp/.venv/lib/python3.10/site-packages/ipykernel/control.py\": 1738211119.9207983, \"/home/oren/work/notes/notes-nlp/.venv/lib/python3.10/site-packages/ipykernel/heartbeat.py\": 1738211119.9207983, \"/home/oren/work/notes/notes-nlp/.venv/lib/python3.10/site-packages/ipykernel/iostream.py\": 1738211119.9217982, \"/home/oren/work/notes/notes-nlp/.venv/lib/python3.10/site-packages/comm/base_comm.py\": 1738208871.9115176, \"/home/oren/work/notes/notes-nlp/.venv/lib/python3.10/site-packages/comm/__init__.py\": 1738208871.9115176, \"/home/oren/work/notes/notes-nlp/.venv/lib/python3.10/site-packages/ipykernel/jsonutil.py\": 1738211119.9217982, \"/home/oren/work/notes/notes-nlp/.venv/lib/python3.10/site-packages/psutil/_common.py\": 1738206370.0776312, \"/home/oren/work/notes/notes-nlp/.venv/lib/python3.10/site-packages/psutil/_compat.py\": 1738206370.0786312, \"/home/oren/work/notes/notes-nlp/.venv/lib/python3.10/site-packages/psutil/_psposix.py\": 1738206370.0776312, \"/home/oren/work/notes/notes-nlp/.venv/lib/python3.10/site-packages/psutil/_psutil_linux.abi3.so\": 1738206370.079631, \"/home/oren/work/notes/notes-nlp/.venv/lib/python3.10/site-packages/psutil/_psutil_posix.abi3.so\": 1738206370.0776312, \"/home/oren/work/notes/notes-nlp/.venv/lib/python3.10/site-packages/psutil/_pslinux.py\": 1738206370.0766313, \"/home/oren/work/notes/notes-nlp/.venv/lib/python3.10/site-packages/psutil/__init__.py\": 1738206370.0786312, \"/home/oren/work/notes/notes-nlp/.venv/lib/python3.10/site-packages/tornado/gen.py\": 1738206367.9866652, \"/home/oren/work/notes/notes-nlp/.venv/lib/python3.10/site-packages/tornado/locks.py\": 1738206367.9856653, \"/home/oren/work/notes/notes-nlp/.venv/lib/python3.10/site-packages/tornado/queues.py\": 1738206367.9906652, \"/home/oren/work/notes/notes-nlp/.venv/lib/python3.10/site-packages/ipykernel/kernelbase.py\": 1738211119.9217982, \"/home/oren/work/notes/notes-nlp/.venv/lib/python3.10/site-packages/ipykernel/comm/comm.py\": 1738211119.9227982, \"/home/oren/work/notes/notes-nlp/.venv/lib/python3.10/site-packages/ipykernel/comm/manager.py\": 1738211119.9227982, \"/home/oren/work/notes/notes-nlp/.venv/lib/python3.10/site-packages/ipykernel/comm/__init__.py\": 1738211119.9227982, \"/home/oren/work/notes/notes-nlp/.venv/lib/python3.10/site-packages/ipykernel/compiler.py\": 1738211119.9207983, \"/home/oren/work/notes/notes-nlp/.venv/lib/python3.10/site-packages/packaging/__init__.py\": 1738206370.648622, \"/home/oren/work/notes/notes-nlp/.venv/lib/python3.10/site-packages/packaging/_structures.py\": 1738206370.649622, \"/home/oren/work/notes/notes-nlp/.venv/lib/python3.10/site-packages/packaging/version.py\": 1738206370.650622, \"/home/oren/work/notes/notes-nlp/.venv/lib/python3.10/site-packages/ipykernel/eventloops.py\": 1738211119.9207983, \"/home/oren/work/notes/notes-nlp/.venv/lib/python3.10/site-packages/IPython/core/payloadpage.py\": 1738211116.3618548, \"/home/oren/work/notes/notes-nlp/.venv/lib/python3.10/site-packages/ipykernel/displayhook.py\": 1738211119.9207983, \"/home/oren/work/notes/notes-nlp/.venv/lib/python3.10/site-packages/ipykernel/zmqshell.py\": 1738211119.9227982, \"/home/oren/work/notes/notes-nlp/.venv/lib/python3.10/site-packages/ipykernel/ipkernel.py\": 1738211119.9217982, \"/home/oren/work/notes/notes-nlp/.venv/lib/python3.10/site-packages/ipykernel/parentpoller.py\": 1738211119.9217982, \"/home/oren/work/notes/notes-nlp/.venv/lib/python3.10/site-packages/ipykernel/kernelapp.py\": 1738211119.9217982, \"/home/oren/work/notes/notes-nlp/.venv/lib/python3.10/site-packages/tornado/platform/__init__.py\": 1738206367.998665, \"/home/oren/work/notes/notes-nlp/.venv/lib/python3.10/site-packages/tornado/platform/asyncio.py\": 1738206367.998665, \"/home/oren/work/notes/notes-nlp/.venv/lib/python3.10/site-packages/debugpy/_version.py\": 1738208871.4625247, \"/home/oren/work/notes/notes-nlp/.venv/lib/python3.10/site-packages/debugpy/public_api.py\": 1738208871.4625247, \"/home/oren/work/notes/notes-nlp/.venv/lib/python3.10/site-packages/debugpy/__init__.py\": 1738208871.4625247, \"/home/oren/work/notes/notes-nlp/.venv/lib/python3.10/site-packages/debugpy/_vendored/_util.py\": 1738208871.4635246, \"/home/oren/work/notes/notes-nlp/.venv/lib/python3.10/site-packages/debugpy/_vendored/__init__.py\": 1738208871.4635246, \"/home/oren/work/notes/notes-nlp/.venv/lib/python3.10/site-packages/debugpy/_vendored/pydevd/_pydevd_bundle/__init__.py\": 1738208871.4765244, \"/usr/lib/python3.10/encodings/ascii.py\": 1737124534.0, \"/usr/lib/python3.10/encodings/latin_1.py\": 1737124534.0, \"/usr/lib/python3.10/stringprep.py\": 1737124534.0, \"/usr/lib/python3.10/encodings/idna.py\": 1737124534.0, \"/home/oren/work/notes/notes-nlp/.venv/lib/python3.10/site-packages/debugpy/_vendored/pydevd/_pydevd_bundle/pydevd_vm_type.py\": 1738208871.4765244, \"/home/oren/work/notes/notes-nlp/.venv/lib/python3.10/site-packages/debugpy/_vendored/pydevd/_pydev_bundle/__init__.py\": 1738208871.4665246, \"/usr/lib/python3.10/xmlrpc/__init__.py\": 1737124534.0, \"/usr/lib/python3.10/gzip.py\": 1737124534.0, \"/usr/lib/python3.10/xmlrpc/client.py\": 1737124534.0, \"/usr/lib/python3.10/http/server.py\": 1737124534.0, \"/usr/lib/python3.10/xmlrpc/server.py\": 1737124534.0, \"/home/oren/work/notes/notes-nlp/.venv/lib/python3.10/site-packages/debugpy/_vendored/pydevd/_pydev_bundle/_pydev_saved_modules.py\": 1738208871.4655247, \"/home/oren/work/notes/notes-nlp/.venv/lib/python3.10/site-packages/debugpy/_vendored/pydevd/_pydevd_bundle/pydevd_constants.py\": 1738208871.4685247, \"/home/oren/work/notes/notes-nlp/.venv/lib/python3.10/site-packages/debugpy/_vendored/pydevd/_pydev_runfiles/__init__.py\": 1738208871.5095239, \"/home/oren/work/notes/notes-nlp/.venv/lib/python3.10/site-packages/debugpy/_vendored/pydevd/_pydevd_frame_eval/__init__.py\": 1738208871.5285237, \"/home/oren/work/notes/notes-nlp/.venv/lib/python3.10/site-packages/debugpy/_vendored/pydevd/pydev_ipython/__init__.py\": 1738208871.507524, \"/home/oren/work/notes/notes-nlp/.venv/lib/python3.10/site-packages/debugpy/_vendored/pydevd/pydevd_plugins/__init__.py\": 1738208871.508524, \"/home/oren/work/notes/notes-nlp/.venv/lib/python3.10/site-packages/debugpy/_vendored/pydevd/_pydev_bundle/pydev_log.py\": 1738208871.4665246, \"/home/oren/work/notes/notes-nlp/.venv/lib/python3.10/site-packages/debugpy/_vendored/pydevd/_pydev_bundle/_pydev_filesystem_encoding.py\": 1738208871.4675245, \"/home/oren/work/notes/notes-nlp/.venv/lib/python3.10/site-packages/debugpy/_vendored/pydevd/_pydevd_bundle/pydevd_comm_constants.py\": 1738208871.4705245, \"/home/oren/work/notes/notes-nlp/.venv/lib/python3.10/site-packages/debugpy/_vendored/pydevd/pydevd_file_utils.py\": 1738208871.4645247, \"/home/oren/work/notes/notes-nlp/.venv/lib/python3.10/site-packages/debugpy/_vendored/pydevd/_pydevd_bundle/pydevd_dont_trace_files.py\": 1738208871.4765244, \"/home/oren/work/notes/notes-nlp/.venv/lib/python3.10/site-packages/debugpy/_vendored/pydevd/_pydev_bundle/_pydev_execfile.py\": 1738208871.4665246, \"/home/oren/work/notes/notes-nlp/.venv/lib/python3.10/site-packages/debugpy/_vendored/pydevd/_pydevd_bundle/pydevd_exec2.py\": 1738208871.496524, \"/home/oren/work/notes/notes-nlp/.venv/lib/python3.10/site-packages/debugpy/_vendored/pydevd/_pydev_bundle/pydev_imports.py\": 1738208871.4675245, \"/home/oren/work/notes/notes-nlp/.venv/lib/python3.10/site-packages/debugpy/_vendored/pydevd/_pydev_bundle/pydev_is_thread_alive.py\": 1738208871.4665246, \"/home/oren/work/notes/notes-nlp/.venv/lib/python3.10/site-packages/debugpy/_vendored/pydevd/_pydev_bundle/pydev_override.py\": 1738208871.4655247, \"/home/oren/work/notes/notes-nlp/.venv/lib/python3.10/site-packages/debugpy/_vendored/pydevd/pydevd_plugins/extensions/__init__.py\": 1738208871.508524, \"/home/oren/work/notes/notes-nlp/.venv/lib/python3.10/site-packages/debugpy/_vendored/pydevd/_pydevd_bundle/pydevd_extension_utils.py\": 1738208871.4685247, \"/home/oren/work/notes/notes-nlp/.venv/lib/python3.10/site-packages/debugpy/_vendored/pydevd/_pydevd_bundle/pydevd_frame_utils.py\": 1738208871.4775245, \"/home/oren/work/notes/notes-nlp/.venv/lib/python3.10/site-packages/debugpy/_vendored/pydevd/_pydevd_bundle/pydevd_filtering.py\": 1738208871.4675245, \"/home/oren/work/notes/notes-nlp/.venv/lib/python3.10/site-packages/debugpy/_vendored/pydevd/_pydevd_bundle/pydevd_io.py\": 1738208871.497524, \"/home/oren/work/notes/notes-nlp/.venv/lib/python3.10/site-packages/debugpy/_vendored/pydevd/_pydevd_bundle/pydevd_defaults.py\": 1738208871.4765244, \"/home/oren/work/notes/notes-nlp/.venv/lib/python3.10/site-packages/debugpy/_vendored/pydevd/_pydevd_bundle/pydevd_utils.py\": 1738208871.4675245, \"/home/oren/work/notes/notes-nlp/.venv/lib/python3.10/site-packages/debugpy/_vendored/pydevd/_pydevd_bundle/pydevd_runpy.py\": 1738208871.4785244, \"/home/oren/work/notes/notes-nlp/.venv/lib/python3.10/site-packages/debugpy/_vendored/pydevd/_pydev_bundle/_pydev_tipper_common.py\": 1738208871.4675245, \"/home/oren/work/notes/notes-nlp/.venv/lib/python3.10/site-packages/debugpy/_vendored/pydevd/_pydev_bundle/_pydev_imports_tipper.py\": 1738208871.4655247, \"/home/oren/work/notes/notes-nlp/.venv/lib/python3.10/site-packages/debugpy/_vendored/pydevd/_pydev_bundle/_pydev_calltip_util.py\": 1738208871.4665246, \"/home/oren/work/notes/notes-nlp/.venv/lib/python3.10/site-packages/debugpy/_vendored/pydevd/_pydevd_bundle/pydevd_safe_repr.py\": 1738208871.4785244, \"/home/oren/work/notes/notes-nlp/.venv/lib/python3.10/site-packages/debugpy/_vendored/pydevd/_pydevd_bundle/pydevd_resolver.py\": 1738208871.4785244, \"/home/oren/work/notes/notes-nlp/.venv/lib/python3.10/site-packages/debugpy/_vendored/pydevd/_pydevd_bundle/pydevd_extension_api.py\": 1738208871.4765244, \"/home/oren/work/notes/notes-nlp/.venv/lib/python3.10/site-packages/debugpy/_vendored/pydevd/_pydevd_bundle/pydevd_xml.py\": 1738208871.4785244, \"/home/oren/work/notes/notes-nlp/.venv/lib/python3.10/site-packages/debugpy/_vendored/pydevd/_pydevd_bundle/pydevd_dont_trace.py\": 1738208871.4765244, \"/home/oren/work/notes/notes-nlp/.venv/lib/python3.10/site-packages/debugpy/_vendored/pydevd/_pydevd_frame_eval/vendored/__init__.py\": 1738208871.5315237, \"/home/oren/work/notes/notes-nlp/.venv/lib/python3.10/site-packages/debugpy/_vendored/pydevd/_pydevd_frame_eval/vendored/bytecode/flags.py\": 1738208871.5325236, \"/home/oren/work/notes/notes-nlp/.venv/lib/python3.10/site-packages/debugpy/_vendored/pydevd/_pydevd_frame_eval/vendored/bytecode/instr.py\": 1738208871.5315237, \"/home/oren/work/notes/notes-nlp/.venv/lib/python3.10/site-packages/debugpy/_vendored/pydevd/_pydevd_frame_eval/vendored/bytecode/bytecode.py\": 1738208871.5325236, \"/home/oren/work/notes/notes-nlp/.venv/lib/python3.10/site-packages/debugpy/_vendored/pydevd/_pydevd_frame_eval/vendored/bytecode/concrete.py\": 1738208871.5315237, \"/home/oren/work/notes/notes-nlp/.venv/lib/python3.10/site-packages/debugpy/_vendored/pydevd/_pydevd_frame_eval/vendored/bytecode/cfg.py\": 1738208871.5325236, \"/home/oren/work/notes/notes-nlp/.venv/lib/python3.10/site-packages/debugpy/_vendored/pydevd/_pydevd_frame_eval/vendored/bytecode/__init__.py\": 1738208871.5325236, \"/home/oren/work/notes/notes-nlp/.venv/lib/python3.10/site-packages/debugpy/_vendored/pydevd/_pydevd_bundle/pydevd_bytecode_utils.py\": 1738208871.496524, \"/home/oren/work/notes/notes-nlp/.venv/lib/python3.10/site-packages/debugpy/_vendored/pydevd/_pydevd_bundle/pydevd_cython.cpython-310-x86_64-linux-gnu.so\": 1738208871.4955242, \"/home/oren/work/notes/notes-nlp/.venv/lib/python3.10/site-packages/debugpy/_vendored/pydevd/_pydevd_bundle/pydevd_cython_wrapper.py\": 1738208871.4705245, \"/home/oren/work/notes/notes-nlp/.venv/lib/python3.10/site-packages/debugpy/_vendored/pydevd/_pydevd_bundle/pydevd_additional_thread_info.py\": 1738208871.4685247, \"/home/oren/work/notes/notes-nlp/.venv/lib/python3.10/site-packages/debugpy/_vendored/pydevd/_pydevd_bundle/pydevd_additional_thread_info_regular.py\": 1738208871.4695246, \"/home/oren/work/notes/notes-nlp/.venv/lib/python3.10/site-packages/debugpy/_vendored/pydevd/_pydevd_bundle/pydevd_trace_dispatch.py\": 1738208871.4765244, \"/home/oren/work/notes/notes-nlp/.venv/lib/python3.10/site-packages/debugpy/_vendored/pydevd/_pydevd_bundle/pydevd_import_class.py\": 1738208871.4765244, \"/home/oren/work/notes/notes-nlp/.venv/lib/python3.10/site-packages/debugpy/_vendored/pydevd/_pydevd_bundle/pydevd_breakpoints.py\": 1738208871.4675245, \"/home/oren/work/notes/notes-nlp/.venv/lib/python3.10/site-packages/debugpy/_vendored/pydevd/_pydevd_sys_monitoring/_pydevd_sys_monitoring.py\": 1738208871.506524, \"/home/oren/work/notes/notes-nlp/.venv/lib/python3.10/site-packages/debugpy/_vendored/pydevd/_pydevd_sys_monitoring/pydevd_sys_monitoring.py\": 1738208871.505524, \"/home/oren/work/notes/notes-nlp/.venv/lib/python3.10/site-packages/debugpy/_vendored/pydevd/_pydevd_bundle/pydevd_thread_lifecycle.py\": 1738208871.4765244, \"/home/oren/work/notes/notes-nlp/.venv/lib/python3.10/site-packages/debugpy/_vendored/pydevd/_pydevd_bundle/pydevd_save_locals.py\": 1738208871.497524, \"/home/oren/work/notes/notes-nlp/.venv/lib/python3.10/site-packages/debugpy/_vendored/pydevd/_pydev_bundle/pydev_monkey.py\": 1738208871.4665246, \"/home/oren/work/notes/notes-nlp/.venv/lib/python3.10/site-packages/debugpy/_vendored/pydevd/pydevd_tracing.py\": 1738208871.4635246, \"/home/oren/work/notes/notes-nlp/.venv/lib/python3.10/site-packages/debugpy/_vendored/pydevd/_pydevd_bundle/pydevd_collect_bytecode_info.py\": 1738208871.4695246, \"/home/oren/work/notes/notes-nlp/.venv/lib/python3.10/site-packages/debugpy/_vendored/pydevd/_pydevd_bundle/pydevd_daemon_thread.py\": 1738208871.4685247, \"/home/oren/work/notes/notes-nlp/.venv/lib/python3.10/site-packages/debugpy/_vendored/pydevd/_pydevd_bundle/pydevd_timeout.py\": 1738208871.496524, \"/home/oren/work/notes/notes-nlp/.venv/lib/python3.10/site-packages/debugpy/_vendored/pydevd/_pydevd_bundle/pydevd_vars.py\": 1738208871.4685247, \"/home/oren/work/notes/notes-nlp/.venv/lib/python3.10/site-packages/debugpy/_vendored/pydevd/_pydev_bundle/pydev_console_utils.py\": 1738208871.4655247, \"/home/oren/work/notes/notes-nlp/.venv/lib/python3.10/site-packages/debugpy/_vendored/pydevd/_pydevd_bundle/pydevd_custom_frames.py\": 1738208871.4775245, \"/home/oren/work/notes/notes-nlp/.venv/lib/python3.10/site-packages/debugpy/_vendored/pydevd/_pydevd_bundle/pydevd_net_command.py\": 1738208871.4695246, \"/home/oren/work/notes/notes-nlp/.venv/lib/python3.10/site-packages/debugpy/_vendored/pydevd/_pydevd_bundle/pydevconsole_code.py\": 1738208871.497524, \"/home/oren/work/notes/notes-nlp/.venv/lib/python3.10/site-packages/debugpy/_vendored/pydevd/_pydev_bundle/pydev_umd.py\": 1738208871.4665246, \"/home/oren/work/notes/notes-nlp/.venv/lib/python3.10/site-packages/debugpy/_vendored/pydevd/pydevconsole.py\": 1738208871.4645247, \"/home/oren/work/notes/notes-nlp/.venv/lib/python3.10/site-packages/debugpy/_vendored/pydevd/_pydev_bundle/_pydev_completer.py\": 1738208871.4665246, \"/home/oren/work/notes/notes-nlp/.venv/lib/python3.10/site-packages/debugpy/_vendored/pydevd/_pydevd_bundle/pydevd_net_command_factory_xml.py\": 1738208871.4695246, \"/home/oren/work/notes/notes-nlp/.venv/lib/python3.10/site-packages/debugpy/_vendored/pydevd/_pydevd_frame_eval/pydevd_frame_eval_main.py\": 1738208871.5215237, \"/home/oren/work/notes/notes-nlp/.venv/lib/python3.10/site-packages/debugpy/_vendored/pydevd/_pydevd_bundle/pydevd_source_mapping.py\": 1738208871.4695246, \"/home/oren/work/notes/notes-nlp/.venv/lib/python3.10/site-packages/debugpy/_vendored/pydevd/_pydevd_bundle/pydevd_concurrency_analyser/__init__.py\": 1738208871.500524, \"/home/oren/work/notes/notes-nlp/.venv/lib/python3.10/site-packages/debugpy/_vendored/pydevd/_pydevd_bundle/pydevd_concurrency_analyser/pydevd_thread_wrappers.py\": 1738208871.500524, \"/home/oren/work/notes/notes-nlp/.venv/lib/python3.10/site-packages/debugpy/_vendored/pydevd/_pydevd_bundle/pydevd_concurrency_analyser/pydevd_concurrency_logger.py\": 1738208871.500524, \"/home/oren/work/notes/notes-nlp/.venv/lib/python3.10/site-packages/debugpy/_vendored/pydevd/_pydevd_bundle/_debug_adapter/__init__.py\": 1738208871.4985242, \"/home/oren/work/notes/notes-nlp/.venv/lib/python3.10/site-packages/debugpy/_vendored/pydevd/_pydevd_bundle/_debug_adapter/pydevd_schema_log.py\": 1738208871.497524, \"/home/oren/work/notes/notes-nlp/.venv/lib/python3.10/site-packages/debugpy/_vendored/pydevd/_pydevd_bundle/_debug_adapter/pydevd_base_schema.py\": 1738208871.497524, \"/home/oren/work/notes/notes-nlp/.venv/lib/python3.10/site-packages/debugpy/_vendored/pydevd/_pydevd_bundle/_debug_adapter/pydevd_schema.py\": 1738208871.500524, \"/home/oren/work/notes/notes-nlp/.venv/lib/python3.10/site-packages/debugpy/_vendored/pydevd/_pydevd_bundle/pydevd_reload.py\": 1738208871.4775245, \"/home/oren/work/notes/notes-nlp/.venv/lib/python3.10/site-packages/debugpy/_vendored/pydevd/_pydev_bundle/fsnotify/__init__.py\": 1738208871.4675245, \"/home/oren/work/notes/notes-nlp/.venv/lib/python3.10/site-packages/debugpy/_vendored/pydevd/_pydevd_bundle/pydevd_console.py\": 1738208871.496524, \"/home/oren/work/notes/notes-nlp/.venv/lib/python3.10/site-packages/debugpy/_vendored/pydevd/_pydevd_bundle/pydevd_comm.py\": 1738208871.4775245, \"/home/oren/work/notes/notes-nlp/.venv/lib/python3.10/site-packages/debugpy/_vendored/pydevd/_pydevd_bundle/pydevd_net_command_factory_json.py\": 1738208871.4785244, \"/home/oren/work/notes/notes-nlp/.venv/lib/python3.10/site-packages/debugpy/_vendored/pydevd/_pydevd_bundle/pydevd_api.py\": 1738208871.4785244, \"/home/oren/work/notes/notes-nlp/.venv/lib/python3.10/site-packages/debugpy/_vendored/pydevd/_pydevd_bundle/pydevd_json_debug_options.py\": 1738208871.4695246, \"/home/oren/work/notes/notes-nlp/.venv/lib/python3.10/site-packages/debugpy/_vendored/pydevd/_pydevd_bundle/pydevd_process_net_command_json.py\": 1738208871.4695246, \"/home/oren/work/notes/notes-nlp/.venv/lib/python3.10/site-packages/debugpy/_vendored/pydevd/_pydevd_bundle/pydevd_traceproperty.py\": 1738208871.4705245, \"/home/oren/work/notes/notes-nlp/.venv/lib/python3.10/site-packages/debugpy/_vendored/pydevd/_pydevd_bundle/pydevd_process_net_command.py\": 1738208871.4775245, \"/home/oren/work/notes/notes-nlp/.venv/lib/python3.10/site-packages/debugpy/_vendored/pydevd/_pydevd_bundle/pydevd_suspended_frames.py\": 1738208871.4695246, \"/home/oren/work/notes/notes-nlp/.venv/lib/python3.10/site-packages/debugpy/_vendored/pydevd/pydevd_plugins/pydevd_line_validation.py\": 1738208871.508524, \"/home/oren/work/notes/notes-nlp/.venv/lib/python3.10/site-packages/debugpy/_vendored/pydevd/pydevd_plugins/django_debug.py\": 1738208871.508524, \"/home/oren/work/notes/notes-nlp/.venv/lib/python3.10/site-packages/debugpy/_vendored/pydevd/pydevd_plugins/jinja2_debug.py\": 1738208871.508524, \"/home/oren/work/notes/notes-nlp/.venv/lib/python3.10/site-packages/debugpy/_vendored/pydevd/_pydevd_bundle/pydevd_plugin_utils.py\": 1738208871.496524, \"/home/oren/work/notes/notes-nlp/.venv/lib/python3.10/site-packages/debugpy/_vendored/pydevd/pydevd_plugins/extensions/types/__init__.py\": 1738208871.508524, \"/home/oren/work/notes/notes-nlp/.venv/lib/python3.10/site-packages/debugpy/_vendored/pydevd/pydevd_plugins/extensions/types/pydevd_helpers.py\": 1738208871.508524, \"/home/oren/work/notes/notes-nlp/.venv/lib/python3.10/site-packages/debugpy/_vendored/pydevd/pydevd_plugins/extensions/types/pydevd_plugin_numpy_types.py\": 1738208871.508524, \"/home/oren/work/notes/notes-nlp/.venv/lib/python3.10/site-packages/debugpy/_vendored/pydevd/pydevd_plugins/extensions/types/pydevd_plugin_pandas_types.py\": 1738208871.5095239, \"/home/oren/work/notes/notes-nlp/.venv/lib/python3.10/site-packages/debugpy/_vendored/pydevd/pydevd_plugins/extensions/types/pydevd_plugins_django_form_str.py\": 1738208871.508524, \"/home/oren/work/notes/notes-nlp/.venv/lib/python3.10/site-packages/debugpy/_vendored/pydevd/pydevd.py\": 1738208871.4645247, \"/home/oren/work/notes/notes-nlp/.venv/lib/python3.10/site-packages/debugpy/_vendored/force_pydevd.py\": 1738208871.4635246, \"/home/oren/work/notes/notes-nlp/.venv/lib/python3.10/site-packages/debugpy/server/__init__.py\": 1738208871.5345235, \"/home/oren/work/notes/notes-nlp/.venv/lib/python3.10/site-packages/debugpy/adapter/__init__.py\": 1738208871.5355234, \"/home/oren/work/notes/notes-nlp/.venv/lib/python3.10/site-packages/debugpy/common/__init__.py\": 1738208871.5345235, \"/home/oren/work/notes/notes-nlp/.venv/lib/python3.10/site-packages/debugpy/common/json.py\": 1738208871.5335236, \"/home/oren/work/notes/notes-nlp/.venv/lib/python3.10/site-packages/debugpy/common/timestamp.py\": 1738208871.5345235, \"/home/oren/work/notes/notes-nlp/.venv/lib/python3.10/site-packages/debugpy/common/util.py\": 1738208871.5345235, \"/home/oren/work/notes/notes-nlp/.venv/lib/python3.10/site-packages/debugpy/common/log.py\": 1738208871.5345235, \"/home/oren/work/notes/notes-nlp/.venv/lib/python3.10/site-packages/debugpy/common/sockets.py\": 1738208871.5335236, \"/home/oren/work/notes/notes-nlp/.venv/lib/python3.10/site-packages/debugpy/server/api.py\": 1738208871.5355234, \"/home/oren/work/notes/notes-nlp/.venv/lib/python3.10/site-packages/ipykernel/debugger.py\": 1738211119.9207983, \"/home/oren/work/notes/notes-nlp/.venv/lib/python3.10/site-packages/IPython/core/completerlib.py\": 1738211116.356855, \"/home/oren/work/notes/notes-nlp/.venv/lib/python3.10/site-packages/matplotlib/_api/deprecation.py\": 1738211113.762896, \"/home/oren/work/notes/notes-nlp/.venv/lib/python3.10/site-packages/matplotlib/_api/__init__.py\": 1738211113.762896, \"/home/oren/work/notes/notes-nlp/.venv/lib/python3.10/site-packages/matplotlib/_version.py\": 1738211113.6558979, \"/home/oren/work/notes/notes-nlp/.venv/lib/python3.10/site-packages/numpy/_utils/_convertions.py\": 1738208868.3505743, \"/home/oren/work/notes/notes-nlp/.venv/lib/python3.10/site-packages/numpy/_utils/__init__.py\": 1738208868.3505743, \"/home/oren/work/notes/notes-nlp/.venv/lib/python3.10/site-packages/numpy/_globals.py\": 1738208868.236576, \"/home/oren/work/notes/notes-nlp/.venv/lib/python3.10/site-packages/numpy/_expired_attrs_2_0.py\": 1738208868.2345762, \"/home/oren/work/notes/notes-nlp/.venv/lib/python3.10/site-packages/numpy/version.py\": 1738208868.236576, \"/home/oren/work/notes/notes-nlp/.venv/lib/python3.10/site-packages/numpy/_distributor_init.py\": 1738208868.236576, \"/home/oren/work/notes/notes-nlp/.venv/lib/python3.10/site-packages/numpy/_utils/_inspect.py\": 1738208868.3495743, \"/home/oren/work/notes/notes-nlp/.venv/lib/python3.10/site-packages/numpy/exceptions.py\": 1738208868.237576, \"/home/oren/work/notes/notes-nlp/.venv/lib/python3.10/site-packages/numpy/_core/_exceptions.py\": 1738208868.2895753, \"/home/oren/work/notes/notes-nlp/.venv/lib/python3.10/site-packages/numpy/dtypes.py\": 1738208868.236576, \"/home/oren/work/notes/notes-nlp/.venv/lib/python3.10/site-packages/numpy/_core/_multiarray_umath.cpython-310-x86_64-linux-gnu.so\": 1738208868.2745755, \"/home/oren/work/notes/notes-nlp/.venv/lib/python3.10/site-packages/numpy/_core/overrides.py\": 1738208868.2775755, \"/home/oren/work/notes/notes-nlp/.venv/lib/python3.10/site-packages/numpy/_core/multiarray.py\": 1738208868.2795753, \"/home/oren/work/notes/notes-nlp/.venv/lib/python3.10/site-packages/numpy/_core/umath.py\": 1738208868.2385762, \"/home/oren/work/notes/notes-nlp/.venv/lib/python3.10/site-packages/numpy/_core/_string_helpers.py\": 1738208868.237576, \"/home/oren/work/notes/notes-nlp/.venv/lib/python3.10/site-packages/numpy/_core/_type_aliases.py\": 1738208868.2765756, \"/home/oren/work/notes/notes-nlp/.venv/lib/python3.10/site-packages/numpy/_core/_dtype.py\": 1738208868.2805755, \"/home/oren/work/notes/notes-nlp/.venv/lib/python3.10/site-packages/numpy/_core/numerictypes.py\": 1738208868.2785754, \"/home/oren/work/notes/notes-nlp/.venv/lib/python3.10/site-packages/numpy/_core/_ufunc_config.py\": 1738208868.2775755, \"/home/oren/work/notes/notes-nlp/.venv/lib/python3.10/site-packages/numpy/_core/_methods.py\": 1738208868.2745755, \"/home/oren/work/notes/notes-nlp/.venv/lib/python3.10/site-packages/numpy/_core/fromnumeric.py\": 1738208868.2795753, \"/home/oren/work/notes/notes-nlp/.venv/lib/python3.10/site-packages/numpy/_core/shape_base.py\": 1738208868.2775755, \"/home/oren/work/notes/notes-nlp/.venv/lib/python3.10/site-packages/numpy/_core/arrayprint.py\": 1738208868.2385762, \"/home/oren/work/notes/notes-nlp/.venv/lib/python3.10/site-packages/numpy/_core/_asarray.py\": 1738208868.2755754, \"/home/oren/work/notes/notes-nlp/.venv/lib/python3.10/site-packages/numpy/_core/numeric.py\": 1738208868.2805755, \"/home/oren/work/notes/notes-nlp/.venv/lib/python3.10/site-packages/numpy/_core/records.py\": 1738208868.2755754, \"/home/oren/work/notes/notes-nlp/.venv/lib/python3.10/site-packages/numpy/_core/memmap.py\": 1738208868.2895753, \"/home/oren/work/notes/notes-nlp/.venv/lib/python3.10/site-packages/numpy/_core/function_base.py\": 1738208868.2765756, \"/home/oren/work/notes/notes-nlp/.venv/lib/python3.10/site-packages/numpy/_core/_machar.py\": 1738208868.2775755, \"/home/oren/work/notes/notes-nlp/.venv/lib/python3.10/site-packages/numpy/_core/getlimits.py\": 1738208868.2745755, \"/home/oren/work/notes/notes-nlp/.venv/lib/python3.10/site-packages/numpy/_core/einsumfunc.py\": 1738208868.2385762, \"/home/oren/work/notes/notes-nlp/.venv/lib/python3.10/site-packages/numpy/_core/_multiarray_tests.cpython-310-x86_64-linux-gnu.so\": 1738208868.2785754, \"/home/oren/work/notes/notes-nlp/.venv/lib/python3.10/site-packages/numpy/_core/_add_newdocs.py\": 1738208868.2385762, \"/home/oren/work/notes/notes-nlp/.venv/lib/python3.10/site-packages/numpy/_core/_add_newdocs_scalars.py\": 1738208868.2385762, \"/home/oren/work/notes/notes-nlp/.venv/lib/python3.10/site-packages/numpy/_core/_dtype_ctypes.py\": 1738208868.237576, \"/home/oren/work/notes/notes-nlp/.venv/lib/python3.10/site-packages/numpy/_core/_internal.py\": 1738208868.2795753, \"/home/oren/work/notes/notes-nlp/.venv/lib/python3.10/site-packages/numpy/_pytesttester.py\": 1738208868.236576, \"/home/oren/work/notes/notes-nlp/.venv/lib/python3.10/site-packages/numpy/_core/__init__.py\": 1738208868.2755754, \"/home/oren/work/notes/notes-nlp/.venv/lib/python3.10/site-packages/numpy/__config__.py\": 1738208868.236576, \"/home/oren/work/notes/notes-nlp/.venv/lib/python3.10/site-packages/numpy/lib/_array_utils_impl.py\": 1738208868.3565743, \"/home/oren/work/notes/notes-nlp/.venv/lib/python3.10/site-packages/numpy/lib/array_utils.py\": 1738208868.3555741, \"/home/oren/work/notes/notes-nlp/.venv/lib/python3.10/site-packages/numpy/lib/introspect.py\": 1738208868.3615742, \"/home/oren/work/notes/notes-nlp/.venv/lib/python3.10/site-packages/numpy/lib/mixins.py\": 1738208868.3585742, \"/home/oren/work/notes/notes-nlp/.venv/lib/python3.10/site-packages/numpy/lib/_utils_impl.py\": 1738208868.3555741, \"/home/oren/work/notes/notes-nlp/.venv/lib/python3.10/site-packages/numpy/lib/format.py\": 1738208868.3575742, \"/home/oren/work/notes/notes-nlp/.venv/lib/python3.10/site-packages/numpy/lib/_datasource.py\": 1738208868.362574, \"/home/oren/work/notes/notes-nlp/.venv/lib/python3.10/site-packages/numpy/lib/_iotools.py\": 1738208868.3555741, \"/home/oren/work/notes/notes-nlp/.venv/lib/python3.10/site-packages/numpy/lib/_npyio_impl.py\": 1738208868.3605742, \"/home/oren/work/notes/notes-nlp/.venv/lib/python3.10/site-packages/numpy/lib/npyio.py\": 1738208868.3605742, \"/home/oren/work/notes/notes-nlp/.venv/lib/python3.10/site-packages/numpy/lib/_ufunclike_impl.py\": 1738208868.3605742, \"/home/oren/work/notes/notes-nlp/.venv/lib/python3.10/site-packages/numpy/lib/_type_check_impl.py\": 1738208868.362574, \"/home/oren/work/notes/notes-nlp/.venv/lib/python3.10/site-packages/numpy/lib/_scimath_impl.py\": 1738208868.3555741, \"/home/oren/work/notes/notes-nlp/.venv/lib/python3.10/site-packages/numpy/lib/scimath.py\": 1738208868.3555741, \"/home/oren/work/notes/notes-nlp/.venv/lib/python3.10/site-packages/numpy/lib/_stride_tricks_impl.py\": 1738208868.3605742, \"/home/oren/work/notes/notes-nlp/.venv/lib/python3.10/site-packages/numpy/lib/stride_tricks.py\": 1738208868.3615742, \"/home/oren/work/notes/notes-nlp/.venv/lib/python3.10/site-packages/numpy/linalg/linalg.py\": 1738208868.3885736, \"/home/oren/work/notes/notes-nlp/.venv/lib/python3.10/site-packages/numpy/lib/_twodim_base_impl.py\": 1738208868.3605742, \"/home/oren/work/notes/notes-nlp/.venv/lib/python3.10/site-packages/numpy/linalg/_umath_linalg.cpython-310-x86_64-linux-gnu.so\": 1738208868.3875737, \"/home/oren/work/notes/notes-nlp/.venv/lib/python3.10/site-packages/numpy/_typing/_nested_sequence.py\": 1738208868.3865738, \"/home/oren/work/notes/notes-nlp/.venv/lib/python3.10/site-packages/numpy/_typing/_nbit.py\": 1738208868.3855739, \"/home/oren/work/notes/notes-nlp/.venv/lib/python3.10/site-packages/numpy/_typing/_char_codes.py\": 1738208868.3865738, \"/home/oren/work/notes/notes-nlp/.venv/lib/python3.10/site-packages/numpy/_typing/_scalars.py\": 1738208868.3855739, \"/home/oren/work/notes/notes-nlp/.venv/lib/python3.10/site-packages/numpy/_typing/_shape.py\": 1738208868.3865738, \"/home/oren/work/notes/notes-nlp/.venv/lib/python3.10/site-packages/numpy/_typing/_dtype_like.py\": 1738208868.3865738, \"/home/oren/work/notes/notes-nlp/.venv/lib/python3.10/site-packages/numpy/_typing/_array_like.py\": 1738208868.3865738, \"/home/oren/work/notes/notes-nlp/.venv/lib/python3.10/site-packages/numpy/_typing/__init__.py\": 1738208868.3855739, \"/home/oren/work/notes/notes-nlp/.venv/lib/python3.10/site-packages/numpy/linalg/_linalg.py\": 1738208868.3885736, \"/home/oren/work/notes/notes-nlp/.venv/lib/python3.10/site-packages/numpy/linalg/__init__.py\": 1738208868.3875737, \"/home/oren/work/notes/notes-nlp/.venv/lib/python3.10/site-packages/numpy/matrixlib/defmatrix.py\": 1738208868.3225749, \"/home/oren/work/notes/notes-nlp/.venv/lib/python3.10/site-packages/numpy/matrixlib/__init__.py\": 1738208868.3225749, \"/home/oren/work/notes/notes-nlp/.venv/lib/python3.10/site-packages/numpy/lib/_histograms_impl.py\": 1738208868.3585742, \"/home/oren/work/notes/notes-nlp/.venv/lib/python3.10/site-packages/numpy/lib/_function_base_impl.py\": 1738208868.359574, \"/home/oren/work/notes/notes-nlp/.venv/lib/python3.10/site-packages/numpy/lib/_index_tricks_impl.py\": 1738208868.3565743, \"/home/oren/work/notes/notes-nlp/.venv/lib/python3.10/site-packages/numpy/lib/_nanfunctions_impl.py\": 1738208868.3615742, \"/home/oren/work/notes/notes-nlp/.venv/lib/python3.10/site-packages/numpy/lib/_shape_base_impl.py\": 1738208868.3605742, \"/home/oren/work/notes/notes-nlp/.venv/lib/python3.10/site-packages/numpy/lib/_arraysetops_impl.py\": 1738208868.362574, \"/home/oren/work/notes/notes-nlp/.venv/lib/python3.10/site-packages/numpy/lib/_polynomial_impl.py\": 1738208868.3615742, \"/home/oren/work/notes/notes-nlp/.venv/lib/python3.10/site-packages/numpy/lib/_arrayterator_impl.py\": 1738208868.3585742, \"/home/oren/work/notes/notes-nlp/.venv/lib/python3.10/site-packages/numpy/lib/_arraypad_impl.py\": 1738208868.3615742, \"/home/oren/work/notes/notes-nlp/.venv/lib/python3.10/site-packages/numpy/lib/_version.py\": 1738208868.3565743, \"/home/oren/work/notes/notes-nlp/.venv/lib/python3.10/site-packages/numpy/lib/__init__.py\": 1738208868.3575742, \"/home/oren/work/notes/notes-nlp/.venv/lib/python3.10/site-packages/numpy/__init__.py\": 1738208868.2355762, \"/home/oren/work/notes/notes-nlp/.venv/lib/python3.10/site-packages/matplotlib/_c_internal_utils.cpython-310-x86_64-linux-gnu.so\": 1738211113.639898, \"/home/oren/work/notes/notes-nlp/.venv/lib/python3.10/site-packages/matplotlib/cbook.py\": 1738211113.650898, \"/home/oren/work/notes/notes-nlp/.venv/lib/python3.10/site-packages/matplotlib/_docstring.py\": 1738211113.648898, \"/home/oren/work/notes/notes-nlp/.venv/lib/python3.10/site-packages/matplotlib/backends/registry.py\": 1738211113.7438965, \"/home/oren/work/notes/notes-nlp/.venv/lib/python3.10/site-packages/matplotlib/backends/__init__.py\": 1738211113.7368965, \"/home/oren/work/notes/notes-nlp/.venv/lib/python3.10/site-packages/PIL/_version.py\": 1738206370.4256256, \"/home/oren/work/notes/notes-nlp/.venv/lib/python3.10/site-packages/PIL/__init__.py\": 1738206370.4216256, \"/home/oren/work/notes/notes-nlp/.venv/lib/python3.10/site-packages/PIL/ExifTags.py\": 1738206370.4146256, \"/home/oren/work/notes/notes-nlp/.venv/lib/python3.10/site-packages/PIL/_deprecate.py\": 1738206370.4256256, \"/home/oren/work/notes/notes-nlp/.venv/lib/python3.10/site-packages/PIL/ImageMode.py\": 1738206370.4246256, \"/home/oren/work/notes/notes-nlp/.venv/lib/python3.10/site-packages/PIL/TiffTags.py\": 1738206370.4166257, \"/home/oren/work/notes/notes-nlp/.venv/lib/python3.10/site-packages/PIL/_binary.py\": 1738206370.4166257, \"/home/oren/work/notes/notes-nlp/.venv/lib/python3.10/site-packages/PIL/_typing.py\": 1738206370.4186256, \"/home/oren/work/notes/notes-nlp/.venv/lib/python3.10/site-packages/PIL/_util.py\": 1738206370.4176257, \"/home/oren/work/notes/notes-nlp/.venv/lib/python3.10/site-packages/defusedxml/common.py\": 1738208871.445525, \"/home/oren/work/notes/notes-nlp/.venv/lib/python3.10/site-packages/defusedxml/__init__.py\": 1738208871.445525, \"/usr/lib/python3.10/xml/etree/__init__.py\": 1737124534.0, \"/usr/lib/python3.10/xml/etree/ElementPath.py\": 1737124534.0, \"/usr/lib/python3.10/xml/etree/ElementTree.py\": 1737124534.0, \"/home/oren/work/notes/notes-nlp/.venv/lib/python3.10/site-packages/defusedxml/ElementTree.py\": 1738208871.445525, \"/home/oren/work/notes/notes-nlp/.venv/lib/python3.10/site-packages/PIL/_imaging.cpython-310-x86_64-linux-gnu.so\": 1738206370.4396253, \"/home/oren/work/notes/notes-nlp/.venv/lib/python3.10/site-packages/PIL/Image.py\": 1738206370.4276257, \"/home/oren/work/notes/notes-nlp/.venv/lib/python3.10/site-packages/PIL/ImageChops.py\": 1738206370.4256256, \"/home/oren/work/notes/notes-nlp/.venv/lib/python3.10/site-packages/PIL/ImageFile.py\": 1738206370.4196258, \"/home/oren/work/notes/notes-nlp/.venv/lib/python3.10/site-packages/PIL/GimpGradientFile.py\": 1738206370.4266255, \"/home/oren/work/notes/notes-nlp/.venv/lib/python3.10/site-packages/PIL/GimpPaletteFile.py\": 1738206370.4236257, \"/home/oren/work/notes/notes-nlp/.venv/lib/python3.10/site-packages/PIL/ImageColor.py\": 1738206370.4266255, \"/home/oren/work/notes/notes-nlp/.venv/lib/python3.10/site-packages/PIL/PaletteFile.py\": 1738206370.4266255, \"/home/oren/work/notes/notes-nlp/.venv/lib/python3.10/site-packages/PIL/ImagePalette.py\": 1738206370.4406254, \"/home/oren/work/notes/notes-nlp/.venv/lib/python3.10/site-packages/PIL/ImageSequence.py\": 1738206370.4256256, \"/home/oren/work/notes/notes-nlp/.venv/lib/python3.10/site-packages/PIL/PngImagePlugin.py\": 1738206370.4246256, \"/home/oren/work/notes/notes-nlp/.venv/lib/python3.10/site-packages/matplotlib/_cm.py\": 1738211113.6708975, \"/home/oren/work/notes/notes-nlp/.venv/lib/python3.10/site-packages/matplotlib/_path.cpython-310-x86_64-linux-gnu.so\": 1738211113.6768975, \"/home/oren/work/notes/notes-nlp/.venv/lib/python3.10/site-packages/matplotlib/bezier.py\": 1738211113.654898, \"/home/oren/work/notes/notes-nlp/.venv/lib/python3.10/site-packages/matplotlib/path.py\": 1738211113.650898, \"/home/oren/work/notes/notes-nlp/.venv/lib/python3.10/site-packages/matplotlib/transforms.py\": 1738211113.6768975, \"/home/oren/work/notes/notes-nlp/.venv/lib/python3.10/site-packages/matplotlib/ticker.py\": 1738211113.6608977, \"/home/oren/work/notes/notes-nlp/.venv/lib/python3.10/site-packages/matplotlib/scale.py\": 1738211113.648898, \"/home/oren/work/notes/notes-nlp/.venv/lib/python3.10/site-packages/matplotlib/_image.cpython-310-x86_64-linux-gnu.so\": 1738211113.6608977, \"/home/oren/work/notes/notes-nlp/.venv/lib/python3.10/site-packages/matplotlib/_color_data.py\": 1738211113.6648977, \"/home/oren/work/notes/notes-nlp/.venv/lib/python3.10/site-packages/matplotlib/colors.py\": 1738211113.6748974, \"/home/oren/work/notes/notes-nlp/.venv/lib/python3.10/site-packages/pyparsing/util.py\": 1738206368.610655, \"/home/oren/work/notes/notes-nlp/.venv/lib/python3.10/site-packages/pyparsing/unicode.py\": 1738206368.610655, \"/home/oren/work/notes/notes-nlp/.venv/lib/python3.10/site-packages/pyparsing/exceptions.py\": 1738206368.6096551, \"/home/oren/work/notes/notes-nlp/.venv/lib/python3.10/site-packages/pyparsing/results.py\": 1738206368.610655, \"/home/oren/work/notes/notes-nlp/.venv/lib/python3.10/site-packages/pyparsing/actions.py\": 1738206368.6086552, \"/home/oren/work/notes/notes-nlp/.venv/lib/python3.10/site-packages/pyparsing/core.py\": 1738206368.6096551, \"/home/oren/work/notes/notes-nlp/.venv/lib/python3.10/site-packages/pyparsing/helpers.py\": 1738206368.610655, \"/home/oren/work/notes/notes-nlp/.venv/lib/python3.10/site-packages/pyparsing/testing.py\": 1738206368.610655, \"/home/oren/work/notes/notes-nlp/.venv/lib/python3.10/site-packages/pyparsing/common.py\": 1738206368.6086552, \"/home/oren/work/notes/notes-nlp/.venv/lib/python3.10/site-packages/pyparsing/__init__.py\": 1738206368.6086552, \"/home/oren/work/notes/notes-nlp/.venv/lib/python3.10/site-packages/matplotlib/_fontconfig_pattern.py\": 1738211113.6628976, \"/home/oren/work/notes/notes-nlp/.venv/lib/python3.10/site-packages/matplotlib/_enums.py\": 1738211113.6498978, \"/home/oren/work/notes/notes-nlp/.venv/lib/python3.10/site-packages/cycler/__init__.py\": 1738208871.9065175, \"/home/oren/work/notes/notes-nlp/.venv/lib/python3.10/site-packages/matplotlib/rcsetup.py\": 1738211113.6718976, \"/home/oren/work/notes/notes-nlp/.venv/lib/python3.10/site-packages/matplotlib/ft2font.cpython-310-x86_64-linux-gnu.so\": 1738211113.646898, \"/home/oren/work/notes/notes-nlp/.venv/lib/python3.10/site-packages/kiwisolver/exceptions.py\": 1738208869.496556, \"/home/oren/work/notes/notes-nlp/.venv/lib/python3.10/site-packages/kiwisolver/_cext.cpython-310-x86_64-linux-gnu.so\": 1738208869.5165558, \"/home/oren/work/notes/notes-nlp/.venv/lib/python3.10/site-packages/kiwisolver/__init__.py\": 1738208869.5165558, \"/home/oren/work/notes/notes-nlp/.venv/lib/python3.10/site-packages/numpy/ma/core.py\": 1738208868.3525743, \"/home/oren/work/notes/notes-nlp/.venv/lib/python3.10/site-packages/numpy/ma/extras.py\": 1738208868.3515742, \"/home/oren/work/notes/notes-nlp/.venv/lib/python3.10/site-packages/numpy/ma/__init__.py\": 1738208868.3505743, \"/home/oren/work/notes/notes-nlp/.venv/lib/python3.10/site-packages/matplotlib/artist.py\": 1738211113.6718976, \"/home/oren/work/notes/notes-nlp/.venv/lib/python3.10/site-packages/matplotlib/colorizer.py\": 1738211113.6768975, \"/home/oren/work/notes/notes-nlp/.venv/lib/python3.10/site-packages/matplotlib/_cm_listed.py\": 1738211113.6538978, \"/home/oren/work/notes/notes-nlp/.venv/lib/python3.10/site-packages/matplotlib/_cm_multivar.py\": 1738211113.6648977, \"/home/oren/work/notes/notes-nlp/.venv/lib/python3.10/site-packages/matplotlib/_cm_bivar.py\": 1738211113.654898, \"/home/oren/work/notes/notes-nlp/.venv/lib/python3.10/site-packages/matplotlib/cm.py\": 1738211113.6528978, \"/home/oren/work/notes/notes-nlp/.venv/lib/python3.10/site-packages/matplotlib/__init__.py\": 1738211113.6568978, \"/home/oren/work/notes/notes-nlp/.venv/lib/python3.10/site-packages/matplotlib/hatch.py\": 1738211113.654898, \"/home/oren/work/notes/notes-nlp/.venv/lib/python3.10/site-packages/matplotlib/markers.py\": 1738211113.6728976, \"/home/oren/work/notes/notes-nlp/.venv/lib/python3.10/site-packages/matplotlib/lines.py\": 1738211113.6618977, \"/home/oren/work/notes/notes-nlp/.venv/lib/python3.10/site-packages/matplotlib/collections.py\": 1738211113.6538978, \"/home/oren/work/notes/notes-nlp/.venv/lib/python3.10/site-packages/matplotlib/_pylab_helpers.py\": 1738211113.6578977, \"/home/oren/work/notes/notes-nlp/.venv/lib/python3.10/site-packages/matplotlib/backend_tools.py\": 1738211113.6738975, \"/usr/lib/python3.10/plistlib.py\": 1737124534.0, \"/home/oren/work/notes/notes-nlp/.venv/lib/python3.10/site-packages/matplotlib/_mathtext_data.py\": 1738211113.6568978, \"/home/oren/work/notes/notes-nlp/.venv/lib/python3.10/site-packages/matplotlib/_afm.py\": 1738211113.6628976, \"/home/oren/work/notes/notes-nlp/.venv/lib/python3.10/site-packages/matplotlib/font_manager.py\": 1738211113.6498978, \"/home/oren/work/notes/notes-nlp/.venv/lib/python3.10/site-packages/matplotlib/patches.py\": 1738211113.6568978, \"/home/oren/work/notes/notes-nlp/.venv/lib/python3.10/site-packages/matplotlib/_text_helpers.py\": 1738211113.6728976, \"/home/oren/work/notes/notes-nlp/.venv/lib/python3.10/site-packages/matplotlib/dviread.py\": 1738211113.6628976, \"/home/oren/work/notes/notes-nlp/.venv/lib/python3.10/site-packages/matplotlib/_mathtext.py\": 1738211113.6658976, \"/home/oren/work/notes/notes-nlp/.venv/lib/python3.10/site-packages/matplotlib/mathtext.py\": 1738211113.650898, \"/home/oren/work/notes/notes-nlp/.venv/lib/python3.10/site-packages/matplotlib/texmanager.py\": 1738211113.6768975, \"/home/oren/work/notes/notes-nlp/.venv/lib/python3.10/site-packages/matplotlib/textpath.py\": 1738211113.6708975, \"/home/oren/work/notes/notes-nlp/.venv/lib/python3.10/site-packages/matplotlib/text.py\": 1738211113.6698976, \"/home/oren/work/notes/notes-nlp/.venv/lib/python3.10/site-packages/matplotlib/_tight_bbox.py\": 1738211113.6578977, \"/home/oren/work/notes/notes-nlp/.venv/lib/python3.10/site-packages/matplotlib/widgets.py\": 1738211113.6588976, \"/home/oren/work/notes/notes-nlp/.venv/lib/python3.10/site-packages/matplotlib/backend_managers.py\": 1738211113.6638978, \"/home/oren/work/notes/notes-nlp/.venv/lib/python3.10/site-packages/matplotlib/_layoutgrid.py\": 1738211113.647898, \"/home/oren/work/notes/notes-nlp/.venv/lib/python3.10/site-packages/matplotlib/_constrained_layout.py\": 1738211113.6728976, \"/home/oren/work/notes/notes-nlp/.venv/lib/python3.10/site-packages/matplotlib/_tight_layout.py\": 1738211113.647898, \"/home/oren/work/notes/notes-nlp/.venv/lib/python3.10/site-packages/matplotlib/layout_engine.py\": 1738211113.6738975, \"/home/oren/work/notes/notes-nlp/.venv/lib/python3.10/site-packages/matplotlib/backend_bases.py\": 1738211113.6558979, \"/home/oren/work/notes/notes-nlp/.venv/lib/python3.10/site-packages/matplotlib/contour.py\": 1738211113.6658976, \"/home/oren/work/notes/notes-nlp/.venv/lib/python3.10/site-packages/matplotlib/spines.py\": 1738211113.6608977, \"/home/oren/work/notes/notes-nlp/.venv/lib/python3.10/site-packages/matplotlib/colorbar.py\": 1738211113.647898, \"/home/oren/work/notes/notes-nlp/.venv/lib/python3.10/site-packages/matplotlib/image.py\": 1738211113.6578977, \"/usr/lib/python3.10/importlib/_adapters.py\": 1737124534.0, \"/usr/lib/python3.10/importlib/_common.py\": 1737124534.0, \"/usr/lib/python3.10/importlib/resources.py\": 1737124534.0, \"/home/oren/work/notes/notes-nlp/.venv/lib/python3.10/site-packages/matplotlib/style/core.py\": 1738211113.7468963, \"/home/oren/work/notes/notes-nlp/.venv/lib/python3.10/site-packages/matplotlib/style/__init__.py\": 1738211113.7468963, \"/home/oren/work/notes/notes-nlp/.venv/lib/python3.10/site-packages/matplotlib/_blocking_input.py\": 1738211113.6728976, \"/home/oren/work/notes/notes-nlp/.venv/lib/python3.10/site-packages/matplotlib/offsetbox.py\": 1738211113.6618977, \"/home/oren/work/notes/notes-nlp/.venv/lib/python3.10/site-packages/matplotlib/units.py\": 1738211113.6388981, \"/home/oren/work/notes/notes-nlp/.venv/lib/python3.10/site-packages/matplotlib/axis.py\": 1738211113.6618977, \"/home/oren/work/notes/notes-nlp/.venv/lib/python3.10/site-packages/matplotlib/gridspec.py\": 1738211113.648898, \"/home/oren/work/notes/notes-nlp/.venv/lib/python3.10/site-packages/matplotlib/table.py\": 1738211113.6778975, \"/home/oren/work/notes/notes-nlp/.venv/lib/python3.10/site-packages/matplotlib/axes/_base.py\": 1738211113.7648962, \"/home/oren/work/notes/notes-nlp/.venv/lib/python3.10/site-packages/matplotlib/category.py\": 1738211113.6708975, \"/home/oren/work/notes/notes-nlp/.venv/lib/python3.10/site-packages/dateutil/rrule.py\": 1738206446.0323966, \"/home/oren/work/notes/notes-nlp/.venv/lib/python3.10/site-packages/matplotlib/dates.py\": 1738211113.6728976, \"/home/oren/work/notes/notes-nlp/.venv/lib/python3.10/site-packages/matplotlib/inset.py\": 1738211113.647898, \"/home/oren/work/notes/notes-nlp/.venv/lib/python3.10/site-packages/matplotlib/container.py\": 1738211113.6778975, \"/home/oren/work/notes/notes-nlp/.venv/lib/python3.10/site-packages/matplotlib/legend_handler.py\": 1738211113.639898, \"/home/oren/work/notes/notes-nlp/.venv/lib/python3.10/site-packages/matplotlib/legend.py\": 1738211113.647898, \"/home/oren/work/notes/notes-nlp/.venv/lib/python3.10/site-packages/matplotlib/mlab.py\": 1738211113.6638978, \"/home/oren/work/notes/notes-nlp/.venv/lib/python3.10/site-packages/matplotlib/quiver.py\": 1738211113.6648977, \"/home/oren/work/notes/notes-nlp/.venv/lib/python3.10/site-packages/matplotlib/stackplot.py\": 1738211113.6728976, \"/home/oren/work/notes/notes-nlp/.venv/lib/python3.10/site-packages/matplotlib/streamplot.py\": 1738211113.6628976, \"/home/oren/work/notes/notes-nlp/.venv/lib/python3.10/site-packages/matplotlib/tri/_triangulation.py\": 1738211113.7478964, \"/home/oren/work/notes/notes-nlp/.venv/lib/python3.10/site-packages/matplotlib/tri/_tricontour.py\": 1738211113.7488964, \"/home/oren/work/notes/notes-nlp/.venv/lib/python3.10/site-packages/matplotlib/tri/_trifinder.py\": 1738211113.7468963, \"/home/oren/work/notes/notes-nlp/.venv/lib/python3.10/site-packages/matplotlib/tri/_tritools.py\": 1738211113.7468963, \"/home/oren/work/notes/notes-nlp/.venv/lib/python3.10/site-packages/matplotlib/tri/_triinterpolate.py\": 1738211113.7478964, \"/home/oren/work/notes/notes-nlp/.venv/lib/python3.10/site-packages/matplotlib/tri/_tripcolor.py\": 1738211113.7468963, \"/home/oren/work/notes/notes-nlp/.venv/lib/python3.10/site-packages/matplotlib/tri/_triplot.py\": 1738211113.7468963, \"/home/oren/work/notes/notes-nlp/.venv/lib/python3.10/site-packages/matplotlib/tri/_trirefine.py\": 1738211113.7478964, \"/home/oren/work/notes/notes-nlp/.venv/lib/python3.10/site-packages/matplotlib/tri/__init__.py\": 1738211113.7478964, \"/home/oren/work/notes/notes-nlp/.venv/lib/python3.10/site-packages/matplotlib/axes/_secondary_axes.py\": 1738211113.7648962, \"/home/oren/work/notes/notes-nlp/.venv/lib/python3.10/site-packages/matplotlib/axes/_axes.py\": 1738211113.763896, \"/home/oren/work/notes/notes-nlp/.venv/lib/python3.10/site-packages/matplotlib/axes/__init__.py\": 1738211113.7648962, \"/home/oren/work/notes/notes-nlp/.venv/lib/python3.10/site-packages/matplotlib/projections/geo.py\": 1738211113.7468963, \"/home/oren/work/notes/notes-nlp/.venv/lib/python3.10/site-packages/matplotlib/projections/polar.py\": 1738211113.7458963, \"/home/oren/work/notes/notes-nlp/.venv/lib/python3.10/site-packages/mpl_toolkits/mplot3d/proj3d.py\": 1738211113.771896, \"/home/oren/work/notes/notes-nlp/.venv/lib/python3.10/site-packages/mpl_toolkits/mplot3d/art3d.py\": 1738211113.772896, \"/home/oren/work/notes/notes-nlp/.venv/lib/python3.10/site-packages/mpl_toolkits/mplot3d/axis3d.py\": 1738211113.771896, \"/home/oren/work/notes/notes-nlp/.venv/lib/python3.10/site-packages/mpl_toolkits/mplot3d/axes3d.py\": 1738211113.772896, \"/home/oren/work/notes/notes-nlp/.venv/lib/python3.10/site-packages/mpl_toolkits/mplot3d/__init__.py\": 1738211113.771896, \"/home/oren/work/notes/notes-nlp/.venv/lib/python3.10/site-packages/matplotlib/projections/__init__.py\": 1738211113.7458963, \"/home/oren/work/notes/notes-nlp/.venv/lib/python3.10/site-packages/matplotlib/figure.py\": 1738211113.6498978, \"/home/oren/work/notes/notes-nlp/.venv/lib/python3.10/site-packages/matplotlib/pyplot.py\": 1738211113.639898, \"/home/oren/work/notes/notes-nlp/.venv/lib/python3.10/site-packages/matplotlib/backends/_backend_agg.cpython-310-x86_64-linux-gnu.so\": 1738211113.7408965, \"/home/oren/work/notes/notes-nlp/.venv/lib/python3.10/site-packages/matplotlib/backends/backend_agg.py\": 1738211113.7358966, \"/home/oren/work/notes/notes-nlp/.venv/lib/python3.10/site-packages/IPython/core/pylabtools.py\": 1738211116.3618548, \"/home/oren/work/notes/notes-nlp/.venv/lib/python3.10/site-packages/matplotlib_inline/config.py\": 1738208869.4475567, \"/home/oren/work/notes/notes-nlp/.venv/lib/python3.10/site-packages/matplotlib_inline/backend_inline.py\": 1738208869.4475567, \"/home/oren/work/notes/notes-nlp/.venv/lib/python3.10/site-packages/matplotlib_inline/__init__.py\": 1738208869.4475567, \"/home/oren/work/notes/notes-nlp/.venv/lib/python3.10/site-packages/pytz/exceptions.py\": 1738206365.908699, \"/home/oren/work/notes/notes-nlp/.venv/lib/python3.10/site-packages/pytz/lazy.py\": 1738206365.908699, \"/home/oren/work/notes/notes-nlp/.venv/lib/python3.10/site-packages/pytz/tzinfo.py\": 1738206365.909699, \"/home/oren/work/notes/notes-nlp/.venv/lib/python3.10/site-packages/pytz/tzfile.py\": 1738206365.909699, \"/home/oren/work/notes/notes-nlp/.venv/lib/python3.10/site-packages/pytz/__init__.py\": 1738206365.908699, \"/home/oren/work/notes/notes-nlp/.venv/lib/python3.10/site-packages/pandas/compat/_constants.py\": 1738208876.2014492, \"/home/oren/work/notes/notes-nlp/.venv/lib/python3.10/site-packages/pandas/compat/compressors.py\": 1738208876.2004492, \"/home/oren/work/notes/notes-nlp/.venv/lib/python3.10/site-packages/pandas/util/__init__.py\": 1738208875.9354534, \"/home/oren/work/notes/notes-nlp/.venv/lib/python3.10/site-packages/pandas/util/version/__init__.py\": 1738208875.9354534, \"/home/oren/work/notes/notes-nlp/.venv/lib/python3.10/site-packages/pandas/compat/numpy/__init__.py\": 1738208876.2014492, \"/home/oren/work/notes/notes-nlp/.venv/lib/python3.10/site-packages/pyarrow/_generated_version.py\": 1738206369.659638, \"/home/oren/work/notes/notes-nlp/.venv/lib/python3.10/site-packages/cloudpickle/cloudpickle.py\": 1738208871.9175174, \"/home/oren/work/notes/notes-nlp/.venv/lib/python3.10/site-packages/cloudpickle/__init__.py\": 1738208871.9165175, \"/home/oren/work/notes/notes-nlp/.venv/lib/python3.10/site-packages/pyarrow/util.py\": 1738206369.7016373, \"/home/oren/work/notes/notes-nlp/.venv/lib/python3.10/site-packages/pyarrow/lib.cpython-310-x86_64-linux-gnu.so\": 1738206369.2536447, \"/home/oren/work/notes/notes-nlp/.venv/lib/python3.10/site-packages/pyarrow/ipc.py\": 1738206369.6146388, \"/home/oren/work/notes/notes-nlp/.venv/lib/python3.10/site-packages/pyarrow/types.py\": 1738206369.226645, \"/home/oren/work/notes/notes-nlp/.venv/lib/python3.10/site-packages/pyarrow/__init__.py\": 1738206369.2686443, \"/home/oren/work/notes/notes-nlp/.venv/lib/python3.10/site-packages/pandas/compat/pyarrow.py\": 1738208876.2014492, \"/home/oren/work/notes/notes-nlp/.venv/lib/python3.10/site-packages/pandas/compat/__init__.py\": 1738208876.2004492, \"/home/oren/work/notes/notes-nlp/.venv/lib/python3.10/site-packages/numpy/random/_common.cpython-310-x86_64-linux-gnu.so\": 1738208868.3435745, \"/usr/lib/python3.10/secrets.py\": 1737124534.0, \"/home/oren/work/notes/notes-nlp/.venv/lib/python3.10/site-packages/numpy/random/bit_generator.cpython-310-x86_64-linux-gnu.so\": 1738208868.3345745, \"/home/oren/work/notes/notes-nlp/.venv/lib/python3.10/site-packages/numpy/random/_bounded_integers.cpython-310-x86_64-linux-gnu.so\": 1738208868.3415744, \"/home/oren/work/notes/notes-nlp/.venv/lib/python3.10/site-packages/numpy/random/_mt19937.cpython-310-x86_64-linux-gnu.so\": 1738208868.3445745, \"/home/oren/work/notes/notes-nlp/.venv/lib/python3.10/site-packages/numpy/random/mtrand.cpython-310-x86_64-linux-gnu.so\": 1738208868.3385744, \"/home/oren/work/notes/notes-nlp/.venv/lib/python3.10/site-packages/numpy/random/_philox.cpython-310-x86_64-linux-gnu.so\": 1738208868.3355746, \"/home/oren/work/notes/notes-nlp/.venv/lib/python3.10/site-packages/numpy/random/_pcg64.cpython-310-x86_64-linux-gnu.so\": 1738208868.3395746, \"/home/oren/work/notes/notes-nlp/.venv/lib/python3.10/site-packages/numpy/random/_sfc64.cpython-310-x86_64-linux-gnu.so\": 1738208868.3415744, \"/home/oren/work/notes/notes-nlp/.venv/lib/python3.10/site-packages/numpy/random/_generator.cpython-310-x86_64-linux-gnu.so\": 1738208868.3335745, \"/home/oren/work/notes/notes-nlp/.venv/lib/python3.10/site-packages/numpy/random/_pickle.py\": 1738208868.3345745, \"/home/oren/work/notes/notes-nlp/.venv/lib/python3.10/site-packages/numpy/random/__init__.py\": 1738208868.3415744, \"/home/oren/work/notes/notes-nlp/.venv/lib/python3.10/site-packages/pandas/_typing.py\": 1738208875.9244535, \"/home/oren/work/notes/notes-nlp/.venv/lib/python3.10/site-packages/pandas/util/_exceptions.py\": 1738208875.9354534, \"/home/oren/work/notes/notes-nlp/.venv/lib/python3.10/site-packages/pandas/_config/config.py\": 1738208876.0634513, \"/home/oren/work/notes/notes-nlp/.venv/lib/python3.10/site-packages/pandas/_config/dates.py\": 1738208876.0634513, \"/home/oren/work/notes/notes-nlp/.venv/lib/python3.10/site-packages/pandas/_config/display.py\": 1738208876.0634513, \"/home/oren/work/notes/notes-nlp/.venv/lib/python3.10/site-packages/pandas/_config/__init__.py\": 1738208876.0634513, \"/home/oren/work/notes/notes-nlp/.venv/lib/python3.10/site-packages/pandas/core/__init__.py\": 1738208876.0704513, \"/home/oren/work/notes/notes-nlp/.venv/lib/python3.10/site-packages/pandas/core/config_init.py\": 1738208876.0664513, \"/home/oren/work/notes/notes-nlp/.venv/lib/python3.10/site-packages/pandas/_libs/pandas_parser.cpython-310-x86_64-linux-gnu.so\": 1738208876.1614497, \"/home/oren/work/notes/notes-nlp/.venv/lib/python3.10/site-packages/pandas/_libs/pandas_datetime.cpython-310-x86_64-linux-gnu.so\": 1738208876.1594498, \"/home/oren/work/notes/notes-nlp/.venv/lib/python3.10/site-packages/pandas/_libs/tslibs/ccalendar.cpython-310-x86_64-linux-gnu.so\": 1738208876.1764495, \"/home/oren/work/notes/notes-nlp/.venv/lib/python3.10/site-packages/pandas/_libs/tslibs/np_datetime.cpython-310-x86_64-linux-gnu.so\": 1738208876.2004492, \"/home/oren/work/notes/notes-nlp/.venv/lib/python3.10/site-packages/pandas/_libs/tslibs/dtypes.cpython-310-x86_64-linux-gnu.so\": 1738208876.1704497, \"/home/oren/work/notes/notes-nlp/.venv/lib/python3.10/site-packages/pandas/_libs/tslibs/base.cpython-310-x86_64-linux-gnu.so\": 1738208876.1904492, \"/home/oren/work/notes/notes-nlp/.venv/lib/python3.10/site-packages/pandas/_libs/tslibs/nattype.cpython-310-x86_64-linux-gnu.so\": 1738208876.1714497, \"/home/oren/work/notes/notes-nlp/.venv/lib/python3.10/site-packages/pandas/compat/_optional.py\": 1738208876.2004492, \"/usr/lib/python3.10/zoneinfo/_tzpath.py\": 1737124534.0, \"/usr/lib/python3.10/zoneinfo/_common.py\": 1737124534.0, \"/usr/lib/python3.10/lib-dynload/_zoneinfo.cpython-310-x86_64-linux-gnu.so\": 1737124534.0, \"/usr/lib/python3.10/zoneinfo/__init__.py\": 1737124534.0, \"/home/oren/work/notes/notes-nlp/.venv/lib/python3.10/site-packages/pandas/_libs/tslibs/timezones.cpython-310-x86_64-linux-gnu.so\": 1738208876.1724496, \"/home/oren/work/notes/notes-nlp/.venv/lib/python3.10/site-packages/pandas/_config/localization.py\": 1738208876.0634513, \"/home/oren/work/notes/notes-nlp/.venv/lib/python3.10/site-packages/pandas/_libs/tslibs/fields.cpython-310-x86_64-linux-gnu.so\": 1738208876.1784494, \"/home/oren/work/notes/notes-nlp/.venv/lib/python3.10/site-packages/pandas/_libs/tslibs/timedeltas.cpython-310-x86_64-linux-gnu.so\": 1738208876.1984491, \"/home/oren/work/notes/notes-nlp/.venv/lib/python3.10/site-packages/pandas/_libs/tslibs/tzconversion.cpython-310-x86_64-linux-gnu.so\": 1738208876.1854494, \"/home/oren/work/notes/notes-nlp/.venv/lib/python3.10/site-packages/pandas/_libs/tslibs/timestamps.cpython-310-x86_64-linux-gnu.so\": 1738208876.1754496, \"/home/oren/work/notes/notes-nlp/.venv/lib/python3.10/site-packages/pandas/_libs/properties.cpython-310-x86_64-linux-gnu.so\": 1738208876.1644497, \"/home/oren/work/notes/notes-nlp/.venv/lib/python3.10/site-packages/pandas/_libs/tslibs/offsets.cpython-310-x86_64-linux-gnu.so\": 1738208876.1834495, \"/home/oren/work/notes/notes-nlp/.venv/lib/python3.10/site-packages/pandas/_libs/tslibs/strptime.cpython-310-x86_64-linux-gnu.so\": 1738208876.1894493, \"/home/oren/work/notes/notes-nlp/.venv/lib/python3.10/site-packages/pandas/_libs/tslibs/parsing.cpython-310-x86_64-linux-gnu.so\": 1738208876.1874495, \"/home/oren/work/notes/notes-nlp/.venv/lib/python3.10/site-packages/pandas/_libs/tslibs/conversion.cpython-310-x86_64-linux-gnu.so\": 1738208876.1914494, \"/home/oren/work/notes/notes-nlp/.venv/lib/python3.10/site-packages/pandas/_libs/tslibs/period.cpython-310-x86_64-linux-gnu.so\": 1738208876.1944492, \"/home/oren/work/notes/notes-nlp/.venv/lib/python3.10/site-packages/pandas/_libs/tslibs/vectorized.cpython-310-x86_64-linux-gnu.so\": 1738208876.199449, \"/home/oren/work/notes/notes-nlp/.venv/lib/python3.10/site-packages/pandas/_libs/tslibs/__init__.py\": 1738208876.1954494, \"/home/oren/work/notes/notes-nlp/.venv/lib/python3.10/site-packages/pandas/_libs/ops_dispatch.cpython-310-x86_64-linux-gnu.so\": 1738208876.15445, \"/home/oren/work/notes/notes-nlp/.venv/lib/python3.10/site-packages/pandas/_libs/missing.cpython-310-x86_64-linux-gnu.so\": 1738208876.14245, \"/home/oren/work/notes/notes-nlp/.venv/lib/python3.10/site-packages/pandas/_libs/hashtable.cpython-310-x86_64-linux-gnu.so\": 1738208876.1294503, \"/home/oren/work/notes/notes-nlp/.venv/lib/python3.10/site-packages/pandas/_libs/algos.cpython-310-x86_64-linux-gnu.so\": 1738208876.1054506, \"/home/oren/work/notes/notes-nlp/.venv/lib/python3.10/site-packages/pandas/_libs/interval.cpython-310-x86_64-linux-gnu.so\": 1738208876.15445, \"/home/oren/work/notes/notes-nlp/.venv/lib/python3.10/site-packages/pandas/_libs/__init__.py\": 1738208876.1644497, \"/home/oren/work/notes/notes-nlp/.venv/lib/python3.10/site-packages/pandas/core/dtypes/__init__.py\": 1738208876.0934508, \"/home/oren/work/notes/notes-nlp/.venv/lib/python3.10/site-packages/pandas/_libs/lib.cpython-310-x86_64-linux-gnu.so\": 1738208876.14745, \"/home/oren/work/notes/notes-nlp/.venv/lib/python3.10/site-packages/pandas/errors/__init__.py\": 1738208876.0964508, \"/home/oren/work/notes/notes-nlp/.venv/lib/python3.10/site-packages/pandas/core/dtypes/generic.py\": 1738208876.091451, \"/home/oren/work/notes/notes-nlp/.venv/lib/python3.10/site-packages/pandas/core/dtypes/base.py\": 1738208876.0924509, \"/home/oren/work/notes/notes-nlp/.venv/lib/python3.10/site-packages/pandas/core/dtypes/inference.py\": 1738208876.0924509, \"/home/oren/work/notes/notes-nlp/.venv/lib/python3.10/site-packages/pandas/core/dtypes/dtypes.py\": 1738208876.0924509, \"/home/oren/work/notes/notes-nlp/.venv/lib/python3.10/site-packages/pandas/core/dtypes/common.py\": 1738208876.0934508, \"/home/oren/work/notes/notes-nlp/.venv/lib/python3.10/site-packages/pandas/core/dtypes/missing.py\": 1738208876.091451, \"/home/oren/work/notes/notes-nlp/.venv/lib/python3.10/site-packages/pandas/util/_decorators.py\": 1738208875.9354534, \"/home/oren/work/notes/notes-nlp/.venv/lib/python3.10/site-packages/pandas/io/__init__.py\": 1738208875.9274535, \"/home/oren/work/notes/notes-nlp/.venv/lib/python3.10/site-packages/pandas/io/_util.py\": 1738208875.9254534, \"/home/oren/work/notes/notes-nlp/.venv/lib/python3.10/site-packages/pandas/core/dtypes/cast.py\": 1738208876.0924509, \"/home/oren/work/notes/notes-nlp/.venv/lib/python3.10/site-packages/pandas/core/dtypes/astype.py\": 1738208876.0924509, \"/home/oren/work/notes/notes-nlp/.venv/lib/python3.10/site-packages/pandas/core/dtypes/concat.py\": 1738208876.0934508, \"/home/oren/work/notes/notes-nlp/.venv/lib/python3.10/site-packages/pandas/core/array_algos/__init__.py\": 1738208876.0954509, \"/home/oren/work/notes/notes-nlp/.venv/lib/python3.10/site-packages/pandas/core/common.py\": 1738208876.0714512, \"/home/oren/work/notes/notes-nlp/.venv/lib/python3.10/site-packages/pandas/core/construction.py\": 1738208876.0644512, \"/home/oren/work/notes/notes-nlp/.venv/lib/python3.10/site-packages/pandas/core/array_algos/take.py\": 1738208876.0954509, \"/home/oren/work/notes/notes-nlp/.venv/lib/python3.10/site-packages/pandas/core/indexers/utils.py\": 1738208876.0714512, \"/home/oren/work/notes/notes-nlp/.venv/lib/python3.10/site-packages/pandas/core/indexers/__init__.py\": 1738208876.0714512, \"/home/oren/work/notes/notes-nlp/.venv/lib/python3.10/site-packages/pandas/core/algorithms.py\": 1738208876.0674512, \"/home/oren/work/notes/notes-nlp/.venv/lib/python3.10/site-packages/pyarrow/_compute.cpython-310-x86_64-linux-gnu.so\": 1738206369.6246386, \"/home/oren/work/notes/notes-nlp/.venv/lib/python3.10/site-packages/pyarrow/_compute_docstrings.py\": 1738206369.7016373, \"/home/oren/work/notes/notes-nlp/.venv/lib/python3.10/site-packages/pyarrow/vendored/__init__.py\": 1738206369.7956357, \"/home/oren/work/notes/notes-nlp/.venv/lib/python3.10/site-packages/pyarrow/vendored/docscrape.py\": 1738206369.7956357, \"/home/oren/work/notes/notes-nlp/.venv/lib/python3.10/site-packages/pyarrow/compute.py\": 1738206369.6246386, \"/home/oren/work/notes/notes-nlp/.venv/lib/python3.10/site-packages/pandas/core/arrays/arrow/accessors.py\": 1738208876.091451, \"/home/oren/work/notes/notes-nlp/.venv/lib/python3.10/site-packages/pandas/util/_validators.py\": 1738208875.9354534, \"/home/oren/work/notes/notes-nlp/.venv/lib/python3.10/site-packages/pandas/core/missing.py\": 1738208876.0664513, \"/home/oren/work/notes/notes-nlp/.venv/lib/python3.10/site-packages/pandas/_libs/ops.cpython-310-x86_64-linux-gnu.so\": 1738208876.1624498, \"/home/oren/work/notes/notes-nlp/.venv/lib/python3.10/site-packages/pandas/core/roperator.py\": 1738208876.0674512, \"/home/oren/work/notes/notes-nlp/.venv/lib/python3.10/site-packages/pandas/core/computation/__init__.py\": 1738208876.072451, \"/home/oren/work/notes/notes-nlp/.venv/lib/python3.10/site-packages/pandas/core/computation/check.py\": 1738208876.0734513, \"/home/oren/work/notes/notes-nlp/.venv/lib/python3.10/site-packages/pandas/core/computation/expressions.py\": 1738208876.072451, \"/home/oren/work/notes/notes-nlp/.venv/lib/python3.10/site-packages/pandas/core/ops/missing.py\": 1738208876.0734513, \"/home/oren/work/notes/notes-nlp/.venv/lib/python3.10/site-packages/pandas/core/ops/dispatch.py\": 1738208876.0734513, \"/home/oren/work/notes/notes-nlp/.venv/lib/python3.10/site-packages/pandas/core/ops/invalid.py\": 1738208876.0734513, \"/home/oren/work/notes/notes-nlp/.venv/lib/python3.10/site-packages/pandas/core/ops/array_ops.py\": 1738208876.0734513, \"/home/oren/work/notes/notes-nlp/.venv/lib/python3.10/site-packages/pandas/core/ops/common.py\": 1738208876.0744512, \"/home/oren/work/notes/notes-nlp/.venv/lib/python3.10/site-packages/pandas/core/ops/docstrings.py\": 1738208876.0744512, \"/home/oren/work/notes/notes-nlp/.venv/lib/python3.10/site-packages/pandas/core/ops/mask_ops.py\": 1738208876.0734513, \"/home/oren/work/notes/notes-nlp/.venv/lib/python3.10/site-packages/pandas/core/ops/__init__.py\": 1738208876.0734513, \"/home/oren/work/notes/notes-nlp/.venv/lib/python3.10/site-packages/pandas/core/arraylike.py\": 1738208876.0714512, \"/home/oren/work/notes/notes-nlp/.venv/lib/python3.10/site-packages/pandas/core/arrays/_arrow_string_mixins.py\": 1738208876.087451, \"/home/oren/work/notes/notes-nlp/.venv/lib/python3.10/site-packages/pandas/core/arrays/_utils.py\": 1738208876.088451, \"/home/oren/work/notes/notes-nlp/.venv/lib/python3.10/site-packages/pandas/compat/numpy/function.py\": 1738208876.2014492, \"/home/oren/work/notes/notes-nlp/.venv/lib/python3.10/site-packages/pandas/core/array_algos/quantile.py\": 1738208876.0954509, \"/home/oren/work/notes/notes-nlp/.venv/lib/python3.10/site-packages/pandas/core/sorting.py\": 1738208876.0634513, \"/home/oren/work/notes/notes-nlp/.venv/lib/python3.10/site-packages/pandas/core/arrays/base.py\": 1738208876.088451, \"/home/oren/work/notes/notes-nlp/.venv/lib/python3.10/site-packages/pandas/core/nanops.py\": 1738208876.0704513, \"/home/oren/work/notes/notes-nlp/.venv/lib/python3.10/site-packages/pandas/core/array_algos/masked_accumulations.py\": 1738208876.0954509, \"/home/oren/work/notes/notes-nlp/.venv/lib/python3.10/site-packages/pandas/core/array_algos/masked_reductions.py\": 1738208876.0954509, \"/home/oren/work/notes/notes-nlp/.venv/lib/python3.10/site-packages/pandas/core/util/__init__.py\": 1738208876.0734513, \"/home/oren/work/notes/notes-nlp/.venv/lib/python3.10/site-packages/pandas/_libs/hashing.cpython-310-x86_64-linux-gnu.so\": 1738208876.1654496, \"/home/oren/work/notes/notes-nlp/.venv/lib/python3.10/site-packages/pandas/core/util/hashing.py\": 1738208876.0734513, \"/home/oren/work/notes/notes-nlp/.venv/lib/python3.10/site-packages/pandas/core/arrays/masked.py\": 1738208876.0894508, \"/home/oren/work/notes/notes-nlp/.venv/lib/python3.10/site-packages/pandas/_libs/arrays.cpython-310-x86_64-linux-gnu.so\": 1738208876.14345, \"/home/oren/work/notes/notes-nlp/.venv/lib/python3.10/site-packages/pandas/core/arrays/numeric.py\": 1738208876.087451, \"/home/oren/work/notes/notes-nlp/.venv/lib/python3.10/site-packages/pandas/core/arrays/floating.py\": 1738208876.087451, \"/home/oren/work/notes/notes-nlp/.venv/lib/python3.10/site-packages/pandas/core/arrays/integer.py\": 1738208876.086451, \"/home/oren/work/notes/notes-nlp/.venv/lib/python3.10/site-packages/pandas/core/array_algos/transforms.py\": 1738208876.0954509, \"/home/oren/work/notes/notes-nlp/.venv/lib/python3.10/site-packages/pandas/core/arrays/_mixins.py\": 1738208876.086451, \"/home/oren/work/notes/notes-nlp/.venv/lib/python3.10/site-packages/pandas/core/strings/__init__.py\": 1738208876.094451, \"/home/oren/work/notes/notes-nlp/.venv/lib/python3.10/site-packages/pandas/core/strings/base.py\": 1738208876.0934508, \"/home/oren/work/notes/notes-nlp/.venv/lib/python3.10/site-packages/pandas/core/strings/object_array.py\": 1738208876.0934508, \"/home/oren/work/notes/notes-nlp/.venv/lib/python3.10/site-packages/pandas/core/arrays/numpy_.py\": 1738208876.088451, \"/home/oren/work/notes/notes-nlp/.venv/lib/python3.10/site-packages/pandas/core/arrays/string_.py\": 1738208876.088451, \"/home/oren/work/notes/notes-nlp/.venv/lib/python3.10/site-packages/pandas/tseries/__init__.py\": 1738208876.0634513, \"/home/oren/work/notes/notes-nlp/.venv/lib/python3.10/site-packages/pandas/tseries/frequencies.py\": 1738208876.0634513, \"/home/oren/work/notes/notes-nlp/.venv/lib/python3.10/site-packages/pandas/core/arrays/arrow/array.py\": 1738208876.091451, \"/home/oren/work/notes/notes-nlp/.venv/lib/python3.10/site-packages/pandas/core/arrays/arrow/__init__.py\": 1738208876.091451, \"/home/oren/work/notes/notes-nlp/.venv/lib/python3.10/site-packages/pandas/core/arrays/boolean.py\": 1738208876.0894508, \"/home/oren/work/notes/notes-nlp/.venv/lib/python3.10/site-packages/pandas/core/accessor.py\": 1738208876.0674512, \"/home/oren/work/notes/notes-nlp/.venv/lib/python3.10/site-packages/pandas/core/base.py\": 1738208876.0664513, \"/home/oren/work/notes/notes-nlp/.venv/lib/python3.10/site-packages/pandas/io/formats/__init__.py\": 1738208875.9294534, \"/home/oren/work/notes/notes-nlp/.venv/lib/python3.10/site-packages/pandas/io/formats/console.py\": 1738208875.9284534, \"/home/oren/work/notes/notes-nlp/.venv/lib/python3.10/site-packages/pandas/core/arrays/categorical.py\": 1738208876.0894508, \"/home/oren/work/notes/notes-nlp/.venv/lib/python3.10/site-packages/pandas/_libs/tslib.cpython-310-x86_64-linux-gnu.so\": 1738208876.1614497, \"/home/oren/work/notes/notes-nlp/.venv/lib/python3.10/site-packages/pandas/core/array_algos/datetimelike_accumulations.py\": 1738208876.0954509, \"/home/oren/work/notes/notes-nlp/.venv/lib/python3.10/site-packages/pandas/core/arrays/datetimelike.py\": 1738208876.087451, \"/home/oren/work/notes/notes-nlp/.venv/lib/python3.10/site-packages/pandas/core/arrays/_ranges.py\": 1738208876.0894508, \"/home/oren/work/notes/notes-nlp/.venv/lib/python3.10/site-packages/pandas/tseries/offsets.py\": 1738208876.0624514, \"/home/oren/work/notes/notes-nlp/.venv/lib/python3.10/site-packages/pandas/core/arrays/datetimes.py\": 1738208876.086451, \"/home/oren/work/notes/notes-nlp/.venv/lib/python3.10/site-packages/pandas/core/arrays/timedeltas.py\": 1738208876.090451, \"/home/oren/work/notes/notes-nlp/.venv/lib/python3.10/site-packages/pandas/core/arrays/interval.py\": 1738208876.088451, \"/home/oren/work/notes/notes-nlp/.venv/lib/python3.10/site-packages/pandas/core/arrays/period.py\": 1738208876.087451, \"/home/oren/work/notes/notes-nlp/.venv/lib/python3.10/site-packages/pandas/_libs/sparse.cpython-310-x86_64-linux-gnu.so\": 1738208876.1344502, \"/home/oren/work/notes/notes-nlp/.venv/lib/python3.10/site-packages/pandas/io/formats/printing.py\": 1738208875.9284534, \"/home/oren/work/notes/notes-nlp/.venv/lib/python3.10/site-packages/pandas/core/arrays/sparse/array.py\": 1738208876.090451, \"/home/oren/work/notes/notes-nlp/.venv/lib/python3.10/site-packages/pandas/core/arrays/sparse/accessor.py\": 1738208876.090451, \"/home/oren/work/notes/notes-nlp/.venv/lib/python3.10/site-packages/pandas/core/arrays/sparse/__init__.py\": 1738208876.090451, \"/home/oren/work/notes/notes-nlp/.venv/lib/python3.10/site-packages/pandas/core/arrays/arrow/_arrow_utils.py\": 1738208876.090451, \"/home/oren/work/notes/notes-nlp/.venv/lib/python3.10/site-packages/pandas/core/arrays/string_arrow.py\": 1738208876.087451, \"/home/oren/work/notes/notes-nlp/.venv/lib/python3.10/site-packages/pandas/core/arrays/__init__.py\": 1738208876.0894508, \"/home/oren/work/notes/notes-nlp/.venv/lib/python3.10/site-packages/pandas/core/flags.py\": 1738208876.0664513, \"/home/oren/work/notes/notes-nlp/.venv/lib/python3.10/site-packages/pandas/_libs/internals.cpython-310-x86_64-linux-gnu.so\": 1738208876.1414502, \"/home/oren/work/notes/notes-nlp/.venv/lib/python3.10/site-packages/pandas/core/_numba/__init__.py\": 1738208876.094451, \"/home/oren/work/notes/notes-nlp/.venv/lib/python3.10/site-packages/pandas/core/_numba/executor.py\": 1738208876.094451, \"/home/oren/work/notes/notes-nlp/.venv/lib/python3.10/site-packages/pandas/core/apply.py\": 1738208876.0714512, \"/home/oren/work/notes/notes-nlp/.venv/lib/python3.10/site-packages/pandas/_libs/indexing.cpython-310-x86_64-linux-gnu.so\": 1738208876.0974507, \"/home/oren/work/notes/notes-nlp/.venv/lib/python3.10/site-packages/pandas/core/indexes/__init__.py\": 1738208876.0784512, \"/home/oren/work/notes/notes-nlp/.venv/lib/python3.10/site-packages/pandas/_libs/index.cpython-310-x86_64-linux-gnu.so\": 1738208876.15845, \"/home/oren/work/notes/notes-nlp/.venv/lib/python3.10/site-packages/pandas/_libs/writers.cpython-310-x86_64-linux-gnu.so\": 1738208876.1104505, \"/home/oren/work/notes/notes-nlp/.venv/lib/python3.10/site-packages/pandas/_libs/join.cpython-310-x86_64-linux-gnu.so\": 1738208876.13945, \"/home/oren/work/notes/notes-nlp/.venv/lib/python3.10/site-packages/pandas/core/array_algos/putmask.py\": 1738208876.0954509, \"/home/oren/work/notes/notes-nlp/.venv/lib/python3.10/site-packages/pandas/core/indexes/frozen.py\": 1738208876.0784512, \"/home/oren/work/notes/notes-nlp/.venv/lib/python3.10/site-packages/pandas/core/strings/accessor.py\": 1738208876.0934508, \"/home/oren/work/notes/notes-nlp/.venv/lib/python3.10/site-packages/pandas/core/indexes/base.py\": 1738208876.0774512, \"/home/oren/work/notes/notes-nlp/.venv/lib/python3.10/site-packages/pandas/core/indexes/extension.py\": 1738208876.0784512, \"/home/oren/work/notes/notes-nlp/.venv/lib/python3.10/site-packages/pandas/core/indexes/category.py\": 1738208876.0784512, \"/home/oren/work/notes/notes-nlp/.venv/lib/python3.10/site-packages/pandas/core/indexes/range.py\": 1738208876.076451, \"/home/oren/work/notes/notes-nlp/.venv/lib/python3.10/site-packages/pandas/core/tools/__init__.py\": 1738208876.0744512, \"/home/oren/work/notes/notes-nlp/.venv/lib/python3.10/site-packages/pandas/core/tools/timedeltas.py\": 1738208876.0744512, \"/home/oren/work/notes/notes-nlp/.venv/lib/python3.10/site-packages/pandas/core/indexes/datetimelike.py\": 1738208876.076451, \"/home/oren/work/notes/notes-nlp/.venv/lib/python3.10/site-packages/pandas/core/tools/times.py\": 1738208876.0744512, \"/home/oren/work/notes/notes-nlp/.venv/lib/python3.10/site-packages/pandas/core/indexes/datetimes.py\": 1738208876.076451, \"/home/oren/work/notes/notes-nlp/.venv/lib/python3.10/site-packages/pandas/core/indexes/multi.py\": 1738208876.0754511, \"/home/oren/work/notes/notes-nlp/.venv/lib/python3.10/site-packages/pandas/core/indexes/timedeltas.py\": 1738208876.0784512, \"/home/oren/work/notes/notes-nlp/.venv/lib/python3.10/site-packages/pandas/core/indexes/interval.py\": 1738208876.076451, \"/home/oren/work/notes/notes-nlp/.venv/lib/python3.10/site-packages/pandas/core/indexes/period.py\": 1738208876.076451, \"/home/oren/work/notes/notes-nlp/.venv/lib/python3.10/site-packages/pandas/core/indexes/api.py\": 1738208876.0784512, \"/home/oren/work/notes/notes-nlp/.venv/lib/python3.10/site-packages/pandas/core/indexing.py\": 1738208876.0674512, \"/home/oren/work/notes/notes-nlp/.venv/lib/python3.10/site-packages/pandas/core/sample.py\": 1738208876.0664513, \"/home/oren/work/notes/notes-nlp/.venv/lib/python3.10/site-packages/pandas/core/array_algos/replace.py\": 1738208876.0954509, \"/home/oren/work/notes/notes-nlp/.venv/lib/python3.10/site-packages/pandas/core/internals/blocks.py\": 1738208876.085451, \"/home/oren/work/notes/notes-nlp/.venv/lib/python3.10/site-packages/pandas/core/internals/api.py\": 1738208876.084451, \"/home/oren/work/notes/notes-nlp/.venv/lib/python3.10/site-packages/pandas/core/internals/base.py\": 1738208876.084451, \"/home/oren/work/notes/notes-nlp/.venv/lib/python3.10/site-packages/pandas/core/internals/ops.py\": 1738208876.084451, \"/home/oren/work/notes/notes-nlp/.venv/lib/python3.10/site-packages/pandas/core/internals/managers.py\": 1738208876.086451, \"/home/oren/work/notes/notes-nlp/.venv/lib/python3.10/site-packages/pandas/core/internals/array_manager.py\": 1738208876.085451, \"/home/oren/work/notes/notes-nlp/.venv/lib/python3.10/site-packages/pandas/core/internals/concat.py\": 1738208876.085451, \"/home/oren/work/notes/notes-nlp/.venv/lib/python3.10/site-packages/pandas/core/internals/__init__.py\": 1738208876.085451, \"/home/oren/work/notes/notes-nlp/.venv/lib/python3.10/site-packages/pandas/core/internals/construction.py\": 1738208876.084451, \"/home/oren/work/notes/notes-nlp/.venv/lib/python3.10/site-packages/pandas/core/methods/__init__.py\": 1738208876.0754511, \"/home/oren/work/notes/notes-nlp/.venv/lib/python3.10/site-packages/pandas/core/reshape/__init__.py\": 1738208876.083451, \"/home/oren/work/notes/notes-nlp/.venv/lib/python3.10/site-packages/pandas/core/reshape/concat.py\": 1738208876.083451, \"/usr/lib/python3.10/lib-dynload/mmap.cpython-310-x86_64-linux-gnu.so\": 1737124534.0, \"/usr/lib/python3.10/tarfile.py\": 1737124534.0, \"/home/oren/work/notes/notes-nlp/.venv/lib/python3.10/site-packages/pandas/core/shared_docs.py\": 1738208876.0694513, \"/home/oren/work/notes/notes-nlp/.venv/lib/python3.10/site-packages/pandas/io/common.py\": 1738208875.9274535, \"/home/oren/work/notes/notes-nlp/.venv/lib/python3.10/site-packages/pandas/io/formats/format.py\": 1738208875.9284534, \"/home/oren/work/notes/notes-nlp/.venv/lib/python3.10/site-packages/pandas/core/methods/describe.py\": 1738208876.0754511, \"/home/oren/work/notes/notes-nlp/.venv/lib/python3.10/site-packages/pandas/_libs/window/__init__.py\": 1738208876.1674497, \"/home/oren/work/notes/notes-nlp/.venv/lib/python3.10/site-packages/pandas/_libs/window/aggregations.cpython-310-x86_64-linux-gnu.so\": 1738208876.1694496, \"/home/oren/work/notes/notes-nlp/.venv/lib/python3.10/site-packages/pandas/_libs/window/indexers.cpython-310-x86_64-linux-gnu.so\": 1738208876.1664498, \"/home/oren/work/notes/notes-nlp/.venv/lib/python3.10/site-packages/pandas/core/indexers/objects.py\": 1738208876.0714512, \"/home/oren/work/notes/notes-nlp/.venv/lib/python3.10/site-packages/pandas/core/util/numba_.py\": 1738208876.0734513, \"/home/oren/work/notes/notes-nlp/.venv/lib/python3.10/site-packages/pandas/core/window/common.py\": 1738208876.082451, \"/home/oren/work/notes/notes-nlp/.venv/lib/python3.10/site-packages/pandas/core/window/doc.py\": 1738208876.080451, \"/home/oren/work/notes/notes-nlp/.venv/lib/python3.10/site-packages/pandas/core/window/numba_.py\": 1738208876.081451, \"/home/oren/work/notes/notes-nlp/.venv/lib/python3.10/site-packages/pandas/core/window/online.py\": 1738208876.081451, \"/home/oren/work/notes/notes-nlp/.venv/lib/python3.10/site-packages/pandas/core/window/rolling.py\": 1738208876.081451, \"/home/oren/work/notes/notes-nlp/.venv/lib/python3.10/site-packages/pandas/core/window/ewm.py\": 1738208876.081451, \"/home/oren/work/notes/notes-nlp/.venv/lib/python3.10/site-packages/pandas/core/window/expanding.py\": 1738208876.081451, \"/home/oren/work/notes/notes-nlp/.venv/lib/python3.10/site-packages/pandas/core/window/__init__.py\": 1738208876.081451, \"/home/oren/work/notes/notes-nlp/.venv/lib/python3.10/site-packages/pandas/core/generic.py\": 1738208876.0664513, \"/home/oren/work/notes/notes-nlp/.venv/lib/python3.10/site-packages/pandas/core/methods/selectn.py\": 1738208876.0754511, \"/home/oren/work/notes/notes-nlp/.venv/lib/python3.10/site-packages/pandas/core/reshape/util.py\": 1738208876.083451, \"/home/oren/work/notes/notes-nlp/.venv/lib/python3.10/site-packages/pandas/core/tools/numeric.py\": 1738208876.0744512, \"/home/oren/work/notes/notes-nlp/.venv/lib/python3.10/site-packages/pandas/core/reshape/melt.py\": 1738208876.083451, \"/home/oren/work/notes/notes-nlp/.venv/lib/python3.10/site-packages/pandas/_libs/reshape.cpython-310-x86_64-linux-gnu.so\": 1738208876.14945, \"/home/oren/work/notes/notes-nlp/.venv/lib/python3.10/site-packages/pandas/core/indexes/accessors.py\": 1738208876.0784512, \"/home/oren/work/notes/notes-nlp/.venv/lib/python3.10/site-packages/pandas/arrays/__init__.py\": 1738208876.0954509, \"/home/oren/work/notes/notes-nlp/.venv/lib/python3.10/site-packages/pandas/core/tools/datetimes.py\": 1738208876.0744512, \"/home/oren/work/notes/notes-nlp/.venv/lib/python3.10/site-packages/pandas/io/formats/info.py\": 1738208875.9284534, \"/home/oren/work/notes/notes-nlp/.venv/lib/python3.10/site-packages/pandas/plotting/_core.py\": 1738208875.9364533, \"/home/oren/work/notes/notes-nlp/.venv/lib/python3.10/site-packages/pandas/plotting/_misc.py\": 1738208875.9364533, \"/home/oren/work/notes/notes-nlp/.venv/lib/python3.10/site-packages/pandas/plotting/__init__.py\": 1738208875.9364533, \"/home/oren/work/notes/notes-nlp/.venv/lib/python3.10/site-packages/pandas/core/series.py\": 1738208876.0704513, \"/home/oren/work/notes/notes-nlp/.venv/lib/python3.10/site-packages/pandas/core/frame.py\": 1738208876.0694513, \"/home/oren/work/notes/notes-nlp/.venv/lib/python3.10/site-packages/pandas/core/groupby/base.py\": 1738208876.080451, \"/home/oren/work/notes/notes-nlp/.venv/lib/python3.10/site-packages/pandas/_libs/groupby.cpython-310-x86_64-linux-gnu.so\": 1738208876.1204505, \"/home/oren/work/notes/notes-nlp/.venv/lib/python3.10/site-packages/pandas/core/groupby/categorical.py\": 1738208876.080451, \"/home/oren/work/notes/notes-nlp/.venv/lib/python3.10/site-packages/pandas/core/groupby/grouper.py\": 1738208876.080451, \"/home/oren/work/notes/notes-nlp/.venv/lib/python3.10/site-packages/pandas/core/groupby/ops.py\": 1738208876.080451, \"/home/oren/work/notes/notes-nlp/.venv/lib/python3.10/site-packages/pandas/core/groupby/numba_.py\": 1738208876.080451, \"/home/oren/work/notes/notes-nlp/.venv/lib/python3.10/site-packages/pandas/core/groupby/indexing.py\": 1738208876.080451, \"/home/oren/work/notes/notes-nlp/.venv/lib/python3.10/site-packages/pandas/core/groupby/groupby.py\": 1738208876.079451, \"/home/oren/work/notes/notes-nlp/.venv/lib/python3.10/site-packages/pandas/core/groupby/generic.py\": 1738208876.079451, \"/home/oren/work/notes/notes-nlp/.venv/lib/python3.10/site-packages/pandas/core/groupby/__init__.py\": 1738208876.080451, \"/home/oren/work/notes/notes-nlp/.venv/lib/python3.10/site-packages/pandas/core/api.py\": 1738208876.0664513, \"/home/oren/work/notes/notes-nlp/.venv/lib/python3.10/site-packages/pandas/tseries/api.py\": 1738208876.0624514, \"/home/oren/work/notes/notes-nlp/.venv/lib/python3.10/site-packages/pandas/core/computation/common.py\": 1738208876.0734513, \"/home/oren/work/notes/notes-nlp/.venv/lib/python3.10/site-packages/pandas/core/computation/align.py\": 1738208876.072451, \"/home/oren/work/notes/notes-nlp/.venv/lib/python3.10/site-packages/pandas/core/computation/scope.py\": 1738208876.0714512, \"/home/oren/work/notes/notes-nlp/.venv/lib/python3.10/site-packages/pandas/core/computation/ops.py\": 1738208876.072451, \"/home/oren/work/notes/notes-nlp/.venv/lib/python3.10/site-packages/pandas/core/computation/engines.py\": 1738208876.072451, \"/home/oren/work/notes/notes-nlp/.venv/lib/python3.10/site-packages/pandas/core/computation/parsing.py\": 1738208876.072451, \"/home/oren/work/notes/notes-nlp/.venv/lib/python3.10/site-packages/pandas/core/computation/expr.py\": 1738208876.0714512, \"/home/oren/work/notes/notes-nlp/.venv/lib/python3.10/site-packages/pandas/core/computation/eval.py\": 1738208876.072451, \"/home/oren/work/notes/notes-nlp/.venv/lib/python3.10/site-packages/pandas/core/computation/api.py\": 1738208876.072451, \"/home/oren/work/notes/notes-nlp/.venv/lib/python3.10/site-packages/pandas/core/reshape/encoding.py\": 1738208876.082451, \"/home/oren/work/notes/notes-nlp/.venv/lib/python3.10/site-packages/pandas/core/reshape/merge.py\": 1738208876.082451, \"/home/oren/work/notes/notes-nlp/.venv/lib/python3.10/site-packages/pandas/core/reshape/pivot.py\": 1738208876.082451, \"/home/oren/work/notes/notes-nlp/.venv/lib/python3.10/site-packages/pandas/core/reshape/tile.py\": 1738208876.083451, \"/home/oren/work/notes/notes-nlp/.venv/lib/python3.10/site-packages/pandas/core/reshape/api.py\": 1738208876.083451, \"/home/oren/work/notes/notes-nlp/.venv/lib/python3.10/site-packages/pandas/api/extensions/__init__.py\": 1738208876.0964508, \"/home/oren/work/notes/notes-nlp/.venv/lib/python3.10/site-packages/pandas/api/indexers/__init__.py\": 1738208876.0964508, \"/home/oren/work/notes/notes-nlp/.venv/lib/python3.10/site-packages/pandas/core/interchange/__init__.py\": 1738208876.084451, \"/home/oren/work/notes/notes-nlp/.venv/lib/python3.10/site-packages/pandas/core/interchange/dataframe_protocol.py\": 1738208876.083451, \"/home/oren/work/notes/notes-nlp/.venv/lib/python3.10/site-packages/pandas/core/interchange/utils.py\": 1738208876.084451, \"/home/oren/work/notes/notes-nlp/.venv/lib/python3.10/site-packages/pandas/core/interchange/from_dataframe.py\": 1738208876.084451, \"/home/oren/work/notes/notes-nlp/.venv/lib/python3.10/site-packages/pandas/api/interchange/__init__.py\": 1738208876.0964508, \"/home/oren/work/notes/notes-nlp/.venv/lib/python3.10/site-packages/pandas/core/dtypes/api.py\": 1738208876.0924509, \"/home/oren/work/notes/notes-nlp/.venv/lib/python3.10/site-packages/pandas/api/types/__init__.py\": 1738208876.0964508, \"/home/oren/work/notes/notes-nlp/.venv/lib/python3.10/site-packages/pandas/core/resample.py\": 1738208876.0644512, \"/home/oren/work/notes/notes-nlp/.venv/lib/python3.10/site-packages/pandas/_libs/json.cpython-310-x86_64-linux-gnu.so\": 1738208876.0974507, \"/home/oren/work/notes/notes-nlp/.venv/lib/python3.10/site-packages/pandas/io/json/_normalize.py\": 1738208875.9344535, \"/home/oren/work/notes/notes-nlp/.venv/lib/python3.10/site-packages/pandas/io/json/_table_schema.py\": 1738208875.9344535, \"/home/oren/work/notes/notes-nlp/.venv/lib/python3.10/site-packages/pandas/_libs/parsers.cpython-310-x86_64-linux-gnu.so\": 1738208876.1084507, \"/home/oren/work/notes/notes-nlp/.venv/lib/python3.10/site-packages/pandas/io/parsers/base_parser.py\": 1738208875.9324534, \"/home/oren/work/notes/notes-nlp/.venv/lib/python3.10/site-packages/pandas/io/parsers/arrow_parser_wrapper.py\": 1738208875.9314535, \"/home/oren/work/notes/notes-nlp/.venv/lib/python3.10/site-packages/pandas/io/parsers/c_parser_wrapper.py\": 1738208875.9314535, \"/home/oren/work/notes/notes-nlp/.venv/lib/python3.10/site-packages/pandas/io/parsers/python_parser.py\": 1738208875.9314535, \"/home/oren/work/notes/notes-nlp/.venv/lib/python3.10/site-packages/pandas/io/parsers/readers.py\": 1738208875.9314535, \"/home/oren/work/notes/notes-nlp/.venv/lib/python3.10/site-packages/pandas/io/parsers/__init__.py\": 1738208875.9324534, \"/home/oren/work/notes/notes-nlp/.venv/lib/python3.10/site-packages/pandas/io/json/_json.py\": 1738208875.9344535, \"/home/oren/work/notes/notes-nlp/.venv/lib/python3.10/site-packages/pandas/io/json/__init__.py\": 1738208875.9344535, \"/home/oren/work/notes/notes-nlp/.venv/lib/python3.10/site-packages/pandas/io/stata.py\": 1738208875.9274535, \"/home/oren/work/notes/notes-nlp/.venv/lib/python3.10/site-packages/pandas/api/typing/__init__.py\": 1738208876.0964508, \"/home/oren/work/notes/notes-nlp/.venv/lib/python3.10/site-packages/pandas/api/__init__.py\": 1738208876.0954509, \"/home/oren/work/notes/notes-nlp/.venv/lib/python3.10/site-packages/pandas/_testing/contexts.py\": 1738208876.0614514, \"/home/oren/work/notes/notes-nlp/.venv/lib/python3.10/site-packages/pandas/_testing/_io.py\": 1738208876.0624514, \"/home/oren/work/notes/notes-nlp/.venv/lib/python3.10/site-packages/pandas/_testing/_warnings.py\": 1738208876.0624514, \"/home/oren/work/notes/notes-nlp/.venv/lib/python3.10/site-packages/pandas/_libs/testing.cpython-310-x86_64-linux-gnu.so\": 1738208876.1634498, \"/home/oren/work/notes/notes-nlp/.venv/lib/python3.10/site-packages/pandas/_testing/asserters.py\": 1738208876.0624514, \"/home/oren/work/notes/notes-nlp/.venv/lib/python3.10/site-packages/pandas/_testing/compat.py\": 1738208876.0624514, \"/home/oren/work/notes/notes-nlp/.venv/lib/python3.10/site-packages/pandas/_testing/__init__.py\": 1738208876.0624514, \"/home/oren/work/notes/notes-nlp/.venv/lib/python3.10/site-packages/pandas/testing.py\": 1738208875.9244535, \"/home/oren/work/notes/notes-nlp/.venv/lib/python3.10/site-packages/pandas/util/_print_versions.py\": 1738208875.9344535, \"/home/oren/work/notes/notes-nlp/.venv/lib/python3.10/site-packages/pandas/io/clipboards.py\": 1738208875.9274535, \"/home/oren/work/notes/notes-nlp/.venv/lib/python3.10/site-packages/pandas/io/excel/_util.py\": 1738208875.9324534, \"/home/oren/work/notes/notes-nlp/.venv/lib/python3.10/site-packages/pandas/io/excel/_calamine.py\": 1738208875.9334533, \"/home/oren/work/notes/notes-nlp/.venv/lib/python3.10/site-packages/pandas/io/excel/_odfreader.py\": 1738208875.9334533, \"/home/oren/work/notes/notes-nlp/.venv/lib/python3.10/site-packages/pandas/io/excel/_openpyxl.py\": 1738208875.9334533, \"/home/oren/work/notes/notes-nlp/.venv/lib/python3.10/site-packages/pandas/io/excel/_pyxlsb.py\": 1738208875.9324534, \"/home/oren/work/notes/notes-nlp/.venv/lib/python3.10/site-packages/pandas/io/excel/_xlrd.py\": 1738208875.9334533, \"/home/oren/work/notes/notes-nlp/.venv/lib/python3.10/site-packages/pandas/io/excel/_base.py\": 1738208875.9324534, \"/home/oren/work/notes/notes-nlp/.venv/lib/python3.10/site-packages/pandas/io/excel/_odswriter.py\": 1738208875.9324534, \"/home/oren/work/notes/notes-nlp/.venv/lib/python3.10/site-packages/pandas/io/excel/_xlsxwriter.py\": 1738208875.9324534, \"/home/oren/work/notes/notes-nlp/.venv/lib/python3.10/site-packages/pandas/io/excel/__init__.py\": 1738208875.9334533, \"/home/oren/work/notes/notes-nlp/.venv/lib/python3.10/site-packages/pandas/io/feather_format.py\": 1738208875.9254534, \"/home/oren/work/notes/notes-nlp/.venv/lib/python3.10/site-packages/pandas/io/gbq.py\": 1738208875.9274535, \"/home/oren/work/notes/notes-nlp/.venv/lib/python3.10/site-packages/pandas/io/html.py\": 1738208875.9254534, \"/home/oren/work/notes/notes-nlp/.venv/lib/python3.10/site-packages/pandas/io/orc.py\": 1738208875.9244535, \"/home/oren/work/notes/notes-nlp/.venv/lib/python3.10/site-packages/pandas/io/parquet.py\": 1738208875.9254534, \"/home/oren/work/notes/notes-nlp/.venv/lib/python3.10/site-packages/pandas/compat/pickle_compat.py\": 1738208876.2004492, \"/home/oren/work/notes/notes-nlp/.venv/lib/python3.10/site-packages/pandas/io/pickle.py\": 1738208875.9274535, \"/home/oren/work/notes/notes-nlp/.venv/lib/python3.10/site-packages/pandas/core/computation/pytables.py\": 1738208876.072451, \"/home/oren/work/notes/notes-nlp/.venv/lib/python3.10/site-packages/pandas/io/pytables.py\": 1738208875.9264536, \"/home/oren/work/notes/notes-nlp/.venv/lib/python3.10/site-packages/pandas/io/sas/sasreader.py\": 1738208875.9344535, \"/home/oren/work/notes/notes-nlp/.venv/lib/python3.10/site-packages/pandas/io/sas/__init__.py\": 1738208875.9344535, \"/home/oren/work/notes/notes-nlp/.venv/lib/python3.10/site-packages/pandas/io/spss.py\": 1738208875.9254534, \"/home/oren/work/notes/notes-nlp/.venv/lib/python3.10/site-packages/pandas/io/sql.py\": 1738208875.9254534, \"/home/oren/work/notes/notes-nlp/.venv/lib/python3.10/site-packages/pandas/io/xml.py\": 1738208875.9274535, \"/home/oren/work/notes/notes-nlp/.venv/lib/python3.10/site-packages/pandas/io/api.py\": 1738208875.9254534, \"/home/oren/work/notes/notes-nlp/.venv/lib/python3.10/site-packages/pandas/util/_tester.py\": 1738208875.9344535, \"/home/oren/work/notes/notes-nlp/.venv/lib/python3.10/site-packages/pandas/_version_meson.py\": 1738208875.9244535, \"/home/oren/work/notes/notes-nlp/.venv/lib/python3.10/site-packages/pandas/__init__.py\": 1738208875.9244535}\n"
     ]
    }
   ],
   "source": [
    "\n",
    "# imports\n",
    "import os\n",
    "import sys\n",
    "import types\n",
    "import json\n",
    "import base64\n",
    "\n",
    "# figure size/format\n",
    "fig_width = 7\n",
    "fig_height = 5\n",
    "fig_format = 'retina'\n",
    "fig_dpi = 96\n",
    "interactivity = 'all'\n",
    "is_shiny = False\n",
    "is_dashboard = False\n",
    "plotly_connected = True\n",
    "\n",
    "# matplotlib defaults / format\n",
    "try:\n",
    "  import matplotlib.pyplot as plt\n",
    "  plt.rcParams['figure.figsize'] = (fig_width, fig_height)\n",
    "  plt.rcParams['figure.dpi'] = fig_dpi\n",
    "  plt.rcParams['savefig.dpi'] = \"figure\"\n",
    "  from IPython.display import set_matplotlib_formats\n",
    "  set_matplotlib_formats(fig_format)\n",
    "except Exception:\n",
    "  pass\n",
    "\n",
    "# plotly use connected mode\n",
    "try:\n",
    "  import plotly.io as pio\n",
    "  if plotly_connected:\n",
    "    pio.renderers.default = \"notebook_connected\"\n",
    "  else:\n",
    "    pio.renderers.default = \"notebook\"\n",
    "  for template in pio.templates.keys():\n",
    "    pio.templates[template].layout.margin = dict(t=30,r=0,b=0,l=0)\n",
    "except Exception:\n",
    "  pass\n",
    "\n",
    "# disable itables paging for dashboards\n",
    "if is_dashboard:\n",
    "  try:\n",
    "    from itables import options\n",
    "    options.dom = 'fiBrtlp'\n",
    "    options.maxBytes = 1024 * 1024\n",
    "    options.language = dict(info = \"Showing _TOTAL_ entries\")\n",
    "    options.classes = \"display nowrap compact\"\n",
    "    options.paging = False\n",
    "    options.searching = True\n",
    "    options.ordering = True\n",
    "    options.info = True\n",
    "    options.lengthChange = False\n",
    "    options.autoWidth = False\n",
    "    options.responsive = True\n",
    "    options.keys = True\n",
    "    options.buttons = []\n",
    "  except Exception:\n",
    "    pass\n",
    "  \n",
    "  try:\n",
    "    import altair as alt\n",
    "    # By default, dashboards will have container sized\n",
    "    # vega visualizations which allows them to flow reasonably\n",
    "    theme_sentinel = '_quarto-dashboard-internal'\n",
    "    def make_theme(name):\n",
    "        nonTheme = alt.themes._plugins[name]    \n",
    "        def patch_theme(*args, **kwargs):\n",
    "            existingTheme = nonTheme()\n",
    "            if 'height' not in existingTheme:\n",
    "              existingTheme['height'] = 'container'\n",
    "            if 'width' not in existingTheme:\n",
    "              existingTheme['width'] = 'container'\n",
    "\n",
    "            if 'config' not in existingTheme:\n",
    "              existingTheme['config'] = dict()\n",
    "            \n",
    "            # Configure the default font sizes\n",
    "            title_font_size = 15\n",
    "            header_font_size = 13\n",
    "            axis_font_size = 12\n",
    "            legend_font_size = 12\n",
    "            mark_font_size = 12\n",
    "            tooltip = False\n",
    "\n",
    "            config = existingTheme['config']\n",
    "\n",
    "            # The Axis\n",
    "            if 'axis' not in config:\n",
    "              config['axis'] = dict()\n",
    "            axis = config['axis']\n",
    "            if 'labelFontSize' not in axis:\n",
    "              axis['labelFontSize'] = axis_font_size\n",
    "            if 'titleFontSize' not in axis:\n",
    "              axis['titleFontSize'] = axis_font_size  \n",
    "\n",
    "            # The legend\n",
    "            if 'legend' not in config:\n",
    "              config['legend'] = dict()\n",
    "            legend = config['legend']\n",
    "            if 'labelFontSize' not in legend:\n",
    "              legend['labelFontSize'] = legend_font_size\n",
    "            if 'titleFontSize' not in legend:\n",
    "              legend['titleFontSize'] = legend_font_size  \n",
    "\n",
    "            # The header\n",
    "            if 'header' not in config:\n",
    "              config['header'] = dict()\n",
    "            header = config['header']\n",
    "            if 'labelFontSize' not in header:\n",
    "              header['labelFontSize'] = header_font_size\n",
    "            if 'titleFontSize' not in header:\n",
    "              header['titleFontSize'] = header_font_size    \n",
    "\n",
    "            # Title\n",
    "            if 'title' not in config:\n",
    "              config['title'] = dict()\n",
    "            title = config['title']\n",
    "            if 'fontSize' not in title:\n",
    "              title['fontSize'] = title_font_size\n",
    "\n",
    "            # Marks\n",
    "            if 'mark' not in config:\n",
    "              config['mark'] = dict()\n",
    "            mark = config['mark']\n",
    "            if 'fontSize' not in mark:\n",
    "              mark['fontSize'] = mark_font_size\n",
    "\n",
    "            # Mark tooltips\n",
    "            if tooltip and 'tooltip' not in mark:\n",
    "              mark['tooltip'] = dict(content=\"encoding\")\n",
    "\n",
    "            return existingTheme\n",
    "            \n",
    "        return patch_theme\n",
    "\n",
    "    # We can only do this once per session\n",
    "    if theme_sentinel not in alt.themes.names():\n",
    "      for name in alt.themes.names():\n",
    "        alt.themes.register(name, make_theme(name))\n",
    "      \n",
    "      # register a sentinel theme so we only do this once\n",
    "      alt.themes.register(theme_sentinel, make_theme('default'))\n",
    "      alt.themes.enable('default')\n",
    "\n",
    "  except Exception:\n",
    "    pass\n",
    "\n",
    "# enable pandas latex repr when targeting pdfs\n",
    "try:\n",
    "  import pandas as pd\n",
    "  if fig_format == 'pdf':\n",
    "    pd.set_option('display.latex.repr', True)\n",
    "except Exception:\n",
    "  pass\n",
    "\n",
    "# interactivity\n",
    "if interactivity:\n",
    "  from IPython.core.interactiveshell import InteractiveShell\n",
    "  InteractiveShell.ast_node_interactivity = interactivity\n",
    "\n",
    "# NOTE: the kernel_deps code is repeated in the cleanup.py file\n",
    "# (we can't easily share this code b/c of the way it is run).\n",
    "# If you edit this code also edit the same code in cleanup.py!\n",
    "\n",
    "# output kernel dependencies\n",
    "kernel_deps = dict()\n",
    "for module in list(sys.modules.values()):\n",
    "  # Some modules play games with sys.modules (e.g. email/__init__.py\n",
    "  # in the standard library), and occasionally this can cause strange\n",
    "  # failures in getattr.  Just ignore anything that's not an ordinary\n",
    "  # module.\n",
    "  if not isinstance(module, types.ModuleType):\n",
    "    continue\n",
    "  path = getattr(module, \"__file__\", None)\n",
    "  if not path:\n",
    "    continue\n",
    "  if path.endswith(\".pyc\") or path.endswith(\".pyo\"):\n",
    "    path = path[:-1]\n",
    "  if not os.path.exists(path):\n",
    "    continue\n",
    "  kernel_deps[path] = os.stat(path).st_mtime\n",
    "print(json.dumps(kernel_deps))\n",
    "\n",
    "# set run_path if requested\n",
    "run_path = 'L2hvbWUvb3Jlbi93b3JrL25vdGVzL25vdGVzLW5scC9ub3Rlcy9jNHcy'\n",
    "if run_path:\n",
    "  # hex-decode the path\n",
    "  run_path = base64.b64decode(run_path.encode(\"utf-8\")).decode(\"utf-8\")\n",
    "  os.chdir(run_path)\n",
    "\n",
    "# reset state\n",
    "%reset\n",
    "\n",
    "# shiny\n",
    "# Checking for shiny by using False directly because we're after the %reset. We don't want\n",
    "# to set a variable that stays in global scope.\n",
    "if False:\n",
    "  try:\n",
    "    import htmltools as _htmltools\n",
    "    import ast as _ast\n",
    "\n",
    "    _htmltools.html_dependency_render_mode = \"json\"\n",
    "\n",
    "    # This decorator will be added to all function definitions\n",
    "    def _display_if_has_repr_html(x):\n",
    "      try:\n",
    "        # IPython 7.14 preferred import\n",
    "        from IPython.display import display, HTML\n",
    "      except:\n",
    "        from IPython.core.display import display, HTML\n",
    "\n",
    "      if hasattr(x, '_repr_html_'):\n",
    "        display(HTML(x._repr_html_()))\n",
    "      return x\n",
    "\n",
    "    # ideally we would undo the call to ast_transformers.append\n",
    "    # at the end of this block whenver an error occurs, we do \n",
    "    # this for now as it will only be a problem if the user \n",
    "    # switches from shiny to not-shiny mode (and even then likely\n",
    "    # won't matter)\n",
    "    import builtins\n",
    "    builtins._display_if_has_repr_html = _display_if_has_repr_html\n",
    "\n",
    "    class _FunctionDefReprHtml(_ast.NodeTransformer):\n",
    "      def visit_FunctionDef(self, node):\n",
    "        node.decorator_list.insert(\n",
    "          0,\n",
    "          _ast.Name(id=\"_display_if_has_repr_html\", ctx=_ast.Load())\n",
    "        )\n",
    "        return node\n",
    "\n",
    "      def visit_AsyncFunctionDef(self, node):\n",
    "        node.decorator_list.insert(\n",
    "          0,\n",
    "          _ast.Name(id=\"_display_if_has_repr_html\", ctx=_ast.Load())\n",
    "        )\n",
    "        return node\n",
    "\n",
    "    ip = get_ipython()\n",
    "    ip.ast_transformers.append(_FunctionDefReprHtml())\n",
    "\n",
    "  except:\n",
    "    pass\n",
    "\n",
    "def ojs_define(**kwargs):\n",
    "  import json\n",
    "  try:\n",
    "    # IPython 7.14 preferred import\n",
    "    from IPython.display import display, HTML\n",
    "  except:\n",
    "    from IPython.core.display import display, HTML\n",
    "\n",
    "  # do some minor magic for convenience when handling pandas\n",
    "  # dataframes\n",
    "  def convert(v):\n",
    "    try:\n",
    "      import pandas as pd\n",
    "    except ModuleNotFoundError: # don't do the magic when pandas is not available\n",
    "      return v\n",
    "    if type(v) == pd.Series:\n",
    "      v = pd.DataFrame(v)\n",
    "    if type(v) == pd.DataFrame:\n",
    "      j = json.loads(v.T.to_json(orient='split'))\n",
    "      return dict((k,v) for (k,v) in zip(j[\"index\"], j[\"data\"]))\n",
    "    else:\n",
    "      return v\n",
    "\n",
    "  v = dict(contents=list(dict(name=key, value=convert(value)) for (key, value) in kwargs.items()))\n",
    "  display(HTML('<script type=\"ojs-define\">' + json.dumps(v) + '</script>'), metadata=dict(ojs_define = True))\n",
    "globals()[\"ojs_define\"] = ojs_define\n",
    "globals()[\"__spec__\"] = None"
   ]
  },
  {
   "cell_type": "code",
   "execution_count": 2,
   "id": "e43653e6",
   "metadata": {
    "colab": {
     "base_uri": "https://localhost:8080/",
     "height": 34
    },
    "colab_type": "code"
   },
   "outputs": [
    {
     "name": "stderr",
     "output_type": "stream",
     "text": [
      "2025-02-10 16:54:41.681393: E external/local_xla/xla/stream_executor/cuda/cuda_fft.cc:477] Unable to register cuFFT factory: Attempting to register factory for plugin cuFFT when one has already been registered\n",
      "WARNING: All log messages before absl::InitializeLog() is called are written to STDERR\n",
      "E0000 00:00:1739199281.693983  122882 cuda_dnn.cc:8310] Unable to register cuDNN factory: Attempting to register factory for plugin cuDNN when one has already been registered\n",
      "E0000 00:00:1739199281.697996  122882 cuda_blas.cc:1418] Unable to register cuBLAS factory: Attempting to register factory for plugin cuBLAS when one has already been registered\n"
     ]
    }
   ],
   "source": [
    "import sys\n",
    "import os\n",
    "\n",
    "import numpy as np\n",
    "\n",
    "import textwrap\n",
    "wrapper = textwrap.TextWrapper(width=70)\n",
    "\n",
    "import trax\n",
    "from trax import layers as tl\n",
    "from trax.fastmath import numpy as jnp\n",
    "\n",
    "# to print the entire np array\n",
    "np.set_printoptions(threshold=sys.maxsize)"
   ]
  },
  {
   "cell_type": "code",
   "execution_count": 3,
   "id": "c936b196",
   "metadata": {
    "colab": {},
    "colab_type": "code"
   },
   "outputs": [
    {
     "name": "stderr",
     "output_type": "stream",
     "text": [
      "/home/oren/work/notes/notes-nlp/.venv/lib/python3.10/site-packages/jax/_src/xla_bridge.py:1234: UserWarning: jax.host_count has been renamed to jax.process_count. This alias will eventually be removed; please update your code.\n",
      "  warnings.warn(\n"
     ]
    },
    {
     "name": "stdout",
     "output_type": "stream",
     "text": [
      "\u001b[1mDownloading and preparing dataset 558.32 MiB (download: 558.32 MiB, generated: 1.29 GiB, total: 1.84 GiB) to data/cnn_dailymail/3.4.0...\u001b[0m\n"
     ]
    },
    {
     "data": {
      "application/vnd.jupyter.widget-view+json": {
       "model_id": "3e0ac4c092ac40ec8f65796a33c86800",
       "version_major": 2,
       "version_minor": 0
      },
      "text/plain": [
       "Dl Completed...: 0 url [00:00, ? url/s]"
      ]
     },
     "metadata": {},
     "output_type": "display_data"
    },
    {
     "data": {
      "application/vnd.jupyter.widget-view+json": {
       "model_id": "0744284963d74d7ba3cd511880beefae",
       "version_major": 2,
       "version_minor": 0
      },
      "text/plain": [
       "Dl Size...: 0 MiB [00:00, ? MiB/s]"
      ]
     },
     "metadata": {},
     "output_type": "display_data"
    },
    {
     "data": {
      "application/vnd.jupyter.widget-view+json": {
       "model_id": "6fc9a39e1c4d44d89338565a46b4d8f8",
       "version_major": 2,
       "version_minor": 0
      },
      "text/plain": [
       "Extraction completed...: 0 file [00:00, ? file/s]"
      ]
     },
     "metadata": {},
     "output_type": "display_data"
    },
    {
     "ename": "NonMatchingChecksumError",
     "evalue": "Artifact https://drive.google.com/uc?export=download&id=0BwmD_VLjROrfTHk4NFg2SndKcjQ, downloaded to data/downloads/ucexport_download_id_0BwmD_VLjROrfTHk4NFg2SndKG8BdJPpt2iRo6Dpzz23CByJuAePEilB-pxbcBCHaWDs.tmp.0a9bdc0e7618468383b40cf1b79e3e37/download, has wrong checksum:\n* Expected: UrlInfo(size=151.23 MiB, checksum='e8fbc0027e54e0a916abd9c969eb35f708ed1467d7ef4e3b17a56739d65cb200', filename='cnn_stories.tgz')\n* Got: UrlInfo(size=2.36 KiB, checksum='82f743d167fd9c076191ff53c96e626e0b870f77ef221509a2c10e11d00a0396', filename='download')\nTo debug, see: https://www.tensorflow.org/datasets/overview#fixing_nonmatchingchecksumerror\n  In call to configurable 'TFDS' (<function TFDS at 0x7650cc6652d0>)",
     "output_type": "error",
     "traceback": [
      "\u001b[0;31m---------------------------------------------------------------------------\u001b[0m",
      "\u001b[0;31mNonMatchingChecksumError\u001b[0m                  Traceback (most recent call last)",
      "Cell \u001b[0;32mIn[2], line 6\u001b[0m\n\u001b[1;32m      1\u001b[0m \u001b[38;5;66;03m# This will download the dataset if no data_dir is specified.\u001b[39;00m\n\u001b[1;32m      2\u001b[0m \u001b[38;5;66;03m# Downloading and processing can take bit of time,\u001b[39;00m\n\u001b[1;32m      3\u001b[0m \u001b[38;5;66;03m# so we have the data already in 'data/' for you\u001b[39;00m\n\u001b[1;32m      4\u001b[0m \n\u001b[1;32m      5\u001b[0m \u001b[38;5;66;03m# Importing CNN/DailyMail articles dataset\u001b[39;00m\n\u001b[0;32m----> 6\u001b[0m train_stream_fn \u001b[38;5;241m=\u001b[39m \u001b[43mtrax\u001b[49m\u001b[38;5;241;43m.\u001b[39;49m\u001b[43mdata\u001b[49m\u001b[38;5;241;43m.\u001b[39;49m\u001b[43mTFDS\u001b[49m\u001b[43m(\u001b[49m\u001b[38;5;124;43m'\u001b[39;49m\u001b[38;5;124;43mcnn_dailymail\u001b[39;49m\u001b[38;5;124;43m'\u001b[39;49m\u001b[43m,\u001b[49m\n\u001b[1;32m      7\u001b[0m \u001b[43m                                 \u001b[49m\u001b[43mdata_dir\u001b[49m\u001b[38;5;241;43m=\u001b[39;49m\u001b[38;5;124;43m'\u001b[39;49m\u001b[38;5;124;43mdata/\u001b[39;49m\u001b[38;5;124;43m'\u001b[39;49m\u001b[43m,\u001b[49m\n\u001b[1;32m      8\u001b[0m \u001b[43m                                 \u001b[49m\u001b[43mkeys\u001b[49m\u001b[38;5;241;43m=\u001b[39;49m\u001b[43m(\u001b[49m\u001b[38;5;124;43m'\u001b[39;49m\u001b[38;5;124;43marticle\u001b[39;49m\u001b[38;5;124;43m'\u001b[39;49m\u001b[43m,\u001b[49m\u001b[43m \u001b[49m\u001b[38;5;124;43m'\u001b[39;49m\u001b[38;5;124;43mhighlights\u001b[39;49m\u001b[38;5;124;43m'\u001b[39;49m\u001b[43m)\u001b[49m\u001b[43m,\u001b[49m\n\u001b[1;32m      9\u001b[0m \u001b[43m                                 \u001b[49m\u001b[43mtrain\u001b[49m\u001b[38;5;241;43m=\u001b[39;49m\u001b[38;5;28;43;01mTrue\u001b[39;49;00m\u001b[43m)\u001b[49m\n\u001b[1;32m     11\u001b[0m \u001b[38;5;66;03m# This should be much faster as the data is downloaded already.\u001b[39;00m\n\u001b[1;32m     12\u001b[0m eval_stream_fn \u001b[38;5;241m=\u001b[39m trax\u001b[38;5;241m.\u001b[39mdata\u001b[38;5;241m.\u001b[39mTFDS(\u001b[38;5;124m'\u001b[39m\u001b[38;5;124mcnn_dailymail\u001b[39m\u001b[38;5;124m'\u001b[39m,\n\u001b[1;32m     13\u001b[0m                                 data_dir\u001b[38;5;241m=\u001b[39m\u001b[38;5;124m'\u001b[39m\u001b[38;5;124mdata/\u001b[39m\u001b[38;5;124m'\u001b[39m,\n\u001b[1;32m     14\u001b[0m                                 keys\u001b[38;5;241m=\u001b[39m(\u001b[38;5;124m'\u001b[39m\u001b[38;5;124marticle\u001b[39m\u001b[38;5;124m'\u001b[39m, \u001b[38;5;124m'\u001b[39m\u001b[38;5;124mhighlights\u001b[39m\u001b[38;5;124m'\u001b[39m),\n\u001b[1;32m     15\u001b[0m                                 train\u001b[38;5;241m=\u001b[39m\u001b[38;5;28;01mFalse\u001b[39;00m)\n",
      "File \u001b[0;32m~/work/notes/notes-nlp/.venv/lib/python3.10/site-packages/gin/config.py:1605\u001b[0m, in \u001b[0;36m_make_gin_wrapper.<locals>.gin_wrapper\u001b[0;34m(*args, **kwargs)\u001b[0m\n\u001b[1;32m   1603\u001b[0m scope_info \u001b[38;5;241m=\u001b[39m \u001b[38;5;124m\"\u001b[39m\u001b[38;5;124m in scope \u001b[39m\u001b[38;5;124m'\u001b[39m\u001b[38;5;132;01m{}\u001b[39;00m\u001b[38;5;124m'\u001b[39m\u001b[38;5;124m\"\u001b[39m\u001b[38;5;241m.\u001b[39mformat(scope_str) \u001b[38;5;28;01mif\u001b[39;00m scope_str \u001b[38;5;28;01melse\u001b[39;00m \u001b[38;5;124m'\u001b[39m\u001b[38;5;124m'\u001b[39m\n\u001b[1;32m   1604\u001b[0m err_str \u001b[38;5;241m=\u001b[39m err_str\u001b[38;5;241m.\u001b[39mformat(name, fn_or_cls, scope_info)\n\u001b[0;32m-> 1605\u001b[0m \u001b[43mutils\u001b[49m\u001b[38;5;241;43m.\u001b[39;49m\u001b[43maugment_exception_message_and_reraise\u001b[49m\u001b[43m(\u001b[49m\u001b[43me\u001b[49m\u001b[43m,\u001b[49m\u001b[43m \u001b[49m\u001b[43merr_str\u001b[49m\u001b[43m)\u001b[49m\n",
      "File \u001b[0;32m~/work/notes/notes-nlp/.venv/lib/python3.10/site-packages/gin/utils.py:41\u001b[0m, in \u001b[0;36maugment_exception_message_and_reraise\u001b[0;34m(exception, message)\u001b[0m\n\u001b[1;32m     39\u001b[0m proxy \u001b[38;5;241m=\u001b[39m ExceptionProxy()\n\u001b[1;32m     40\u001b[0m ExceptionProxy\u001b[38;5;241m.\u001b[39m\u001b[38;5;18m__qualname__\u001b[39m \u001b[38;5;241m=\u001b[39m \u001b[38;5;28mtype\u001b[39m(exception)\u001b[38;5;241m.\u001b[39m\u001b[38;5;18m__qualname__\u001b[39m\n\u001b[0;32m---> 41\u001b[0m \u001b[38;5;28;01mraise\u001b[39;00m proxy\u001b[38;5;241m.\u001b[39mwith_traceback(exception\u001b[38;5;241m.\u001b[39m__traceback__) \u001b[38;5;28;01mfrom\u001b[39;00m\u001b[38;5;250m \u001b[39m\u001b[38;5;28;01mNone\u001b[39;00m\n",
      "File \u001b[0;32m~/work/notes/notes-nlp/.venv/lib/python3.10/site-packages/gin/config.py:1582\u001b[0m, in \u001b[0;36m_make_gin_wrapper.<locals>.gin_wrapper\u001b[0;34m(*args, **kwargs)\u001b[0m\n\u001b[1;32m   1579\u001b[0m new_kwargs\u001b[38;5;241m.\u001b[39mupdate(kwargs)\n\u001b[1;32m   1581\u001b[0m \u001b[38;5;28;01mtry\u001b[39;00m:\n\u001b[0;32m-> 1582\u001b[0m   \u001b[38;5;28;01mreturn\u001b[39;00m \u001b[43mfn\u001b[49m\u001b[43m(\u001b[49m\u001b[38;5;241;43m*\u001b[39;49m\u001b[43mnew_args\u001b[49m\u001b[43m,\u001b[49m\u001b[43m \u001b[49m\u001b[38;5;241;43m*\u001b[39;49m\u001b[38;5;241;43m*\u001b[39;49m\u001b[43mnew_kwargs\u001b[49m\u001b[43m)\u001b[49m\n\u001b[1;32m   1583\u001b[0m \u001b[38;5;28;01mexcept\u001b[39;00m \u001b[38;5;167;01mException\u001b[39;00m \u001b[38;5;28;01mas\u001b[39;00m e:  \u001b[38;5;66;03m# pylint: disable=broad-except\u001b[39;00m\n\u001b[1;32m   1584\u001b[0m   err_str \u001b[38;5;241m=\u001b[39m \u001b[38;5;124m'\u001b[39m\u001b[38;5;124m'\u001b[39m\n",
      "File \u001b[0;32m~/work/notes/notes-nlp/.venv/lib/python3.10/site-packages/trax/data/tf_inputs.py:336\u001b[0m, in \u001b[0;36mTFDS\u001b[0;34m(dataset_name, data_dir, tfds_preprocess_fn, keys, train, use_alt_eval, shuffle_train, host_id, n_hosts, eval_holdout_size)\u001b[0m\n\u001b[1;32m    333\u001b[0m \u001b[38;5;28;01melse\u001b[39;00m:\n\u001b[1;32m    334\u001b[0m   subsplit \u001b[38;5;241m=\u001b[39m \u001b[38;5;28;01mNone\u001b[39;00m\n\u001b[1;32m    335\u001b[0m train_data, eval_data, _ \u001b[38;5;241m=\u001b[39m (\n\u001b[0;32m--> 336\u001b[0m     \u001b[43m_train_and_eval_dataset\u001b[49m\u001b[43m(\u001b[49m\u001b[43mdataset_name\u001b[49m\u001b[43m,\u001b[49m\n\u001b[1;32m    337\u001b[0m \u001b[43m                            \u001b[49m\u001b[43mdata_dir\u001b[49m\u001b[43m,\u001b[49m\n\u001b[1;32m    338\u001b[0m \u001b[43m                            \u001b[49m\u001b[43meval_holdout_size\u001b[49m\u001b[43m,\u001b[49m\n\u001b[1;32m    339\u001b[0m \u001b[43m                            \u001b[49m\u001b[43mtrain_shuffle_files\u001b[49m\u001b[38;5;241;43m=\u001b[39;49m\u001b[43mshuffle_train\u001b[49m\u001b[43m,\u001b[49m\n\u001b[1;32m    340\u001b[0m \u001b[43m                            \u001b[49m\u001b[43muse_alt_eval\u001b[49m\u001b[38;5;241;43m=\u001b[39;49m\u001b[43muse_alt_eval\u001b[49m\u001b[43m,\u001b[49m\n\u001b[1;32m    341\u001b[0m \u001b[43m                            \u001b[49m\u001b[43msubsplit\u001b[49m\u001b[38;5;241;43m=\u001b[39;49m\u001b[43msubsplit\u001b[49m\u001b[43m)\u001b[49m)\n\u001b[1;32m    342\u001b[0m dataset \u001b[38;5;241m=\u001b[39m train_data \u001b[38;5;28;01mif\u001b[39;00m train \u001b[38;5;28;01melse\u001b[39;00m eval_data\n\u001b[1;32m    343\u001b[0m dataset \u001b[38;5;241m=\u001b[39m dataset \u001b[38;5;28;01mif\u001b[39;00m tfds_preprocess_fn \u001b[38;5;129;01mis\u001b[39;00m \u001b[38;5;28;01mNone\u001b[39;00m \u001b[38;5;28;01melse\u001b[39;00m tfds_preprocess_fn(\n\u001b[1;32m    344\u001b[0m     dataset)\n",
      "File \u001b[0;32m~/work/notes/notes-nlp/.venv/lib/python3.10/site-packages/trax/data/tf_inputs.py:270\u001b[0m, in \u001b[0;36m_train_and_eval_dataset\u001b[0;34m(dataset_name, data_dir, eval_holdout_size, train_shuffle_files, eval_shuffle_files, use_alt_eval, subsplit)\u001b[0m\n\u001b[1;32m    267\u001b[0m   \u001b[38;5;28;01mif\u001b[39;00m tfds\u001b[38;5;241m.\u001b[39mSplit\u001b[38;5;241m.\u001b[39mVALIDATION \u001b[38;5;129;01mnot\u001b[39;00m \u001b[38;5;129;01min\u001b[39;00m splits:\n\u001b[1;32m    268\u001b[0m     eval_split \u001b[38;5;241m=\u001b[39m tfds\u001b[38;5;241m.\u001b[39mSplit\u001b[38;5;241m.\u001b[39mTEST\n\u001b[0;32m--> 270\u001b[0m train \u001b[38;5;241m=\u001b[39m \u001b[43mtfds\u001b[49m\u001b[38;5;241;43m.\u001b[39;49m\u001b[43mload\u001b[49m\u001b[43m(\u001b[49m\n\u001b[1;32m    271\u001b[0m \u001b[43m    \u001b[49m\u001b[43mname\u001b[49m\u001b[38;5;241;43m=\u001b[39;49m\u001b[43mdataset_name\u001b[49m\u001b[43m,\u001b[49m\n\u001b[1;32m    272\u001b[0m \u001b[43m    \u001b[49m\u001b[43msplit\u001b[49m\u001b[38;5;241;43m=\u001b[39;49m\u001b[43mtrain_split\u001b[49m\u001b[43m,\u001b[49m\n\u001b[1;32m    273\u001b[0m \u001b[43m    \u001b[49m\u001b[43mdata_dir\u001b[49m\u001b[38;5;241;43m=\u001b[39;49m\u001b[43mdata_dir\u001b[49m\u001b[43m,\u001b[49m\n\u001b[1;32m    274\u001b[0m \u001b[43m    \u001b[49m\u001b[43mshuffle_files\u001b[49m\u001b[38;5;241;43m=\u001b[39;49m\u001b[43mtrain_shuffle_files\u001b[49m\u001b[43m)\u001b[49m\n\u001b[1;32m    275\u001b[0m valid \u001b[38;5;241m=\u001b[39m tfds\u001b[38;5;241m.\u001b[39mload(\n\u001b[1;32m    276\u001b[0m     name\u001b[38;5;241m=\u001b[39mdataset_name,\n\u001b[1;32m    277\u001b[0m     split\u001b[38;5;241m=\u001b[39meval_split,\n\u001b[1;32m    278\u001b[0m     data_dir\u001b[38;5;241m=\u001b[39mdata_dir,\n\u001b[1;32m    279\u001b[0m     shuffle_files\u001b[38;5;241m=\u001b[39meval_shuffle_files)\n\u001b[1;32m    280\u001b[0m keys \u001b[38;5;241m=\u001b[39m \u001b[38;5;28;01mNone\u001b[39;00m\n",
      "File \u001b[0;32m~/work/notes/notes-nlp/.venv/lib/python3.10/site-packages/tensorflow_datasets/core/logging/__init__.py:166\u001b[0m, in \u001b[0;36m_FunctionDecorator.__call__\u001b[0;34m(self, function, instance, args, kwargs)\u001b[0m\n\u001b[1;32m    164\u001b[0m metadata \u001b[38;5;241m=\u001b[39m \u001b[38;5;28mself\u001b[39m\u001b[38;5;241m.\u001b[39m_start_call()\n\u001b[1;32m    165\u001b[0m \u001b[38;5;28;01mtry\u001b[39;00m:\n\u001b[0;32m--> 166\u001b[0m   \u001b[38;5;28;01mreturn\u001b[39;00m \u001b[43mfunction\u001b[49m\u001b[43m(\u001b[49m\u001b[38;5;241;43m*\u001b[39;49m\u001b[43margs\u001b[49m\u001b[43m,\u001b[49m\u001b[43m \u001b[49m\u001b[38;5;241;43m*\u001b[39;49m\u001b[38;5;241;43m*\u001b[39;49m\u001b[43mkwargs\u001b[49m\u001b[43m)\u001b[49m\n\u001b[1;32m    167\u001b[0m \u001b[38;5;28;01mexcept\u001b[39;00m \u001b[38;5;167;01mException\u001b[39;00m:\n\u001b[1;32m    168\u001b[0m   metadata\u001b[38;5;241m.\u001b[39mmark_error()\n",
      "File \u001b[0;32m~/work/notes/notes-nlp/.venv/lib/python3.10/site-packages/tensorflow_datasets/core/load.py:639\u001b[0m, in \u001b[0;36mload\u001b[0;34m(name, split, data_dir, batch_size, shuffle_files, download, as_supervised, decoders, read_config, with_info, builder_kwargs, download_and_prepare_kwargs, as_dataset_kwargs, try_gcs)\u001b[0m\n\u001b[1;32m    520\u001b[0m \u001b[38;5;250m\u001b[39m\u001b[38;5;124;03m\"\"\"Loads the named dataset into a `tf.data.Dataset`.\u001b[39;00m\n\u001b[1;32m    521\u001b[0m \n\u001b[1;32m    522\u001b[0m \u001b[38;5;124;03m`tfds.load` is a convenience method that:\u001b[39;00m\n\u001b[0;32m   (...)\u001b[0m\n\u001b[1;32m    631\u001b[0m \u001b[38;5;124;03m    Split-specific information is available in `ds_info.splits`.\u001b[39;00m\n\u001b[1;32m    632\u001b[0m \u001b[38;5;124;03m\"\"\"\u001b[39;00m\n\u001b[1;32m    633\u001b[0m dbuilder \u001b[38;5;241m=\u001b[39m _fetch_builder(\n\u001b[1;32m    634\u001b[0m     name,\n\u001b[1;32m    635\u001b[0m     data_dir,\n\u001b[1;32m    636\u001b[0m     builder_kwargs,\n\u001b[1;32m    637\u001b[0m     try_gcs,\n\u001b[1;32m    638\u001b[0m )\n\u001b[0;32m--> 639\u001b[0m \u001b[43m_download_and_prepare_builder\u001b[49m\u001b[43m(\u001b[49m\u001b[43mdbuilder\u001b[49m\u001b[43m,\u001b[49m\u001b[43m \u001b[49m\u001b[43mdownload\u001b[49m\u001b[43m,\u001b[49m\u001b[43m \u001b[49m\u001b[43mdownload_and_prepare_kwargs\u001b[49m\u001b[43m)\u001b[49m\n\u001b[1;32m    641\u001b[0m \u001b[38;5;28;01mif\u001b[39;00m as_dataset_kwargs \u001b[38;5;129;01mis\u001b[39;00m \u001b[38;5;28;01mNone\u001b[39;00m:\n\u001b[1;32m    642\u001b[0m   as_dataset_kwargs \u001b[38;5;241m=\u001b[39m {}\n",
      "File \u001b[0;32m~/work/notes/notes-nlp/.venv/lib/python3.10/site-packages/tensorflow_datasets/core/load.py:498\u001b[0m, in \u001b[0;36m_download_and_prepare_builder\u001b[0;34m(dbuilder, download, download_and_prepare_kwargs)\u001b[0m\n\u001b[1;32m    496\u001b[0m \u001b[38;5;28;01mif\u001b[39;00m download:\n\u001b[1;32m    497\u001b[0m   download_and_prepare_kwargs \u001b[38;5;241m=\u001b[39m download_and_prepare_kwargs \u001b[38;5;129;01mor\u001b[39;00m {}\n\u001b[0;32m--> 498\u001b[0m   \u001b[43mdbuilder\u001b[49m\u001b[38;5;241;43m.\u001b[39;49m\u001b[43mdownload_and_prepare\u001b[49m\u001b[43m(\u001b[49m\u001b[38;5;241;43m*\u001b[39;49m\u001b[38;5;241;43m*\u001b[39;49m\u001b[43mdownload_and_prepare_kwargs\u001b[49m\u001b[43m)\u001b[49m\n",
      "File \u001b[0;32m~/work/notes/notes-nlp/.venv/lib/python3.10/site-packages/tensorflow_datasets/core/logging/__init__.py:166\u001b[0m, in \u001b[0;36m_FunctionDecorator.__call__\u001b[0;34m(self, function, instance, args, kwargs)\u001b[0m\n\u001b[1;32m    164\u001b[0m metadata \u001b[38;5;241m=\u001b[39m \u001b[38;5;28mself\u001b[39m\u001b[38;5;241m.\u001b[39m_start_call()\n\u001b[1;32m    165\u001b[0m \u001b[38;5;28;01mtry\u001b[39;00m:\n\u001b[0;32m--> 166\u001b[0m   \u001b[38;5;28;01mreturn\u001b[39;00m \u001b[43mfunction\u001b[49m\u001b[43m(\u001b[49m\u001b[38;5;241;43m*\u001b[39;49m\u001b[43margs\u001b[49m\u001b[43m,\u001b[49m\u001b[43m \u001b[49m\u001b[38;5;241;43m*\u001b[39;49m\u001b[38;5;241;43m*\u001b[39;49m\u001b[43mkwargs\u001b[49m\u001b[43m)\u001b[49m\n\u001b[1;32m    167\u001b[0m \u001b[38;5;28;01mexcept\u001b[39;00m \u001b[38;5;167;01mException\u001b[39;00m:\n\u001b[1;32m    168\u001b[0m   metadata\u001b[38;5;241m.\u001b[39mmark_error()\n",
      "File \u001b[0;32m~/work/notes/notes-nlp/.venv/lib/python3.10/site-packages/tensorflow_datasets/core/dataset_builder.py:691\u001b[0m, in \u001b[0;36mDatasetBuilder.download_and_prepare\u001b[0;34m(self, download_dir, download_config, file_format)\u001b[0m\n\u001b[1;32m    689\u001b[0m   \u001b[38;5;28mself\u001b[39m\u001b[38;5;241m.\u001b[39minfo\u001b[38;5;241m.\u001b[39mread_from_directory(\u001b[38;5;28mself\u001b[39m\u001b[38;5;241m.\u001b[39mdata_dir)\n\u001b[1;32m    690\u001b[0m \u001b[38;5;28;01melse\u001b[39;00m:\n\u001b[0;32m--> 691\u001b[0m   \u001b[38;5;28;43mself\u001b[39;49m\u001b[38;5;241;43m.\u001b[39;49m\u001b[43m_download_and_prepare\u001b[49m\u001b[43m(\u001b[49m\n\u001b[1;32m    692\u001b[0m \u001b[43m      \u001b[49m\u001b[43mdl_manager\u001b[49m\u001b[38;5;241;43m=\u001b[39;49m\u001b[43mdl_manager\u001b[49m\u001b[43m,\u001b[49m\n\u001b[1;32m    693\u001b[0m \u001b[43m      \u001b[49m\u001b[43mdownload_config\u001b[49m\u001b[38;5;241;43m=\u001b[39;49m\u001b[43mdownload_config\u001b[49m\u001b[43m,\u001b[49m\n\u001b[1;32m    694\u001b[0m \u001b[43m  \u001b[49m\u001b[43m)\u001b[49m\n\u001b[1;32m    696\u001b[0m   \u001b[38;5;66;03m# NOTE: If modifying the lines below to put additional information in\u001b[39;00m\n\u001b[1;32m    697\u001b[0m   \u001b[38;5;66;03m# DatasetInfo, you'll likely also want to update\u001b[39;00m\n\u001b[1;32m    698\u001b[0m   \u001b[38;5;66;03m# DatasetInfo.read_from_directory to possibly restore these attributes\u001b[39;00m\n\u001b[1;32m    699\u001b[0m   \u001b[38;5;66;03m# when reading from package data.\u001b[39;00m\n\u001b[1;32m    700\u001b[0m   \u001b[38;5;28mself\u001b[39m\u001b[38;5;241m.\u001b[39minfo\u001b[38;5;241m.\u001b[39mdownload_size \u001b[38;5;241m=\u001b[39m dl_manager\u001b[38;5;241m.\u001b[39mdownloaded_size\n",
      "File \u001b[0;32m~/work/notes/notes-nlp/.venv/lib/python3.10/site-packages/tensorflow_datasets/core/dataset_builder.py:1546\u001b[0m, in \u001b[0;36mGeneratorBasedBuilder._download_and_prepare\u001b[0;34m(self, dl_manager, download_config)\u001b[0m\n\u001b[1;32m   1544\u001b[0m \u001b[38;5;28;01melse\u001b[39;00m:\n\u001b[1;32m   1545\u001b[0m   optional_pipeline_kwargs \u001b[38;5;241m=\u001b[39m {}\n\u001b[0;32m-> 1546\u001b[0m split_generators \u001b[38;5;241m=\u001b[39m \u001b[38;5;28;43mself\u001b[39;49m\u001b[38;5;241;43m.\u001b[39;49m\u001b[43m_split_generators\u001b[49m\u001b[43m(\u001b[49m\u001b[43m  \u001b[49m\u001b[38;5;66;43;03m# pylint: disable=unexpected-keyword-arg\u001b[39;49;00m\n\u001b[1;32m   1547\u001b[0m \u001b[43m    \u001b[49m\u001b[43mdl_manager\u001b[49m\u001b[43m,\u001b[49m\u001b[43m \u001b[49m\u001b[38;5;241;43m*\u001b[39;49m\u001b[38;5;241;43m*\u001b[39;49m\u001b[43moptional_pipeline_kwargs\u001b[49m\n\u001b[1;32m   1548\u001b[0m \u001b[43m\u001b[49m\u001b[43m)\u001b[49m\n\u001b[1;32m   1549\u001b[0m \u001b[38;5;66;03m# TODO(tfds): Could be removed once all datasets are migrated.\u001b[39;00m\n\u001b[1;32m   1550\u001b[0m \u001b[38;5;66;03m# https://github.com/tensorflow/datasets/issues/2537\u001b[39;00m\n\u001b[1;32m   1551\u001b[0m \u001b[38;5;66;03m# Legacy mode (eventually convert list[SplitGeneratorLegacy] -> dict)\u001b[39;00m\n\u001b[1;32m   1552\u001b[0m split_generators \u001b[38;5;241m=\u001b[39m split_builder\u001b[38;5;241m.\u001b[39mnormalize_legacy_split_generators(\n\u001b[1;32m   1553\u001b[0m     split_generators\u001b[38;5;241m=\u001b[39msplit_generators,\n\u001b[1;32m   1554\u001b[0m     generator_fn\u001b[38;5;241m=\u001b[39m\u001b[38;5;28mself\u001b[39m\u001b[38;5;241m.\u001b[39m_generate_examples,\n\u001b[1;32m   1555\u001b[0m     is_beam\u001b[38;5;241m=\u001b[39m\u001b[38;5;28misinstance\u001b[39m(\u001b[38;5;28mself\u001b[39m, BeamBasedBuilder),\n\u001b[1;32m   1556\u001b[0m )\n",
      "File \u001b[0;32m~/work/notes/notes-nlp/.venv/lib/python3.10/site-packages/tensorflow_datasets/summarization/cnn_dailymail.py:238\u001b[0m, in \u001b[0;36mCnnDailymail._split_generators\u001b[0;34m(self, dl_manager)\u001b[0m\n\u001b[1;32m    237\u001b[0m \u001b[38;5;28;01mdef\u001b[39;00m\u001b[38;5;250m \u001b[39m\u001b[38;5;21m_split_generators\u001b[39m(\u001b[38;5;28mself\u001b[39m, dl_manager):\n\u001b[0;32m--> 238\u001b[0m   dl_paths \u001b[38;5;241m=\u001b[39m \u001b[43mdl_manager\u001b[49m\u001b[38;5;241;43m.\u001b[39;49m\u001b[43mdownload_and_extract\u001b[49m\u001b[43m(\u001b[49m\u001b[43m_DL_URLS\u001b[49m\u001b[43m)\u001b[49m\n\u001b[1;32m    240\u001b[0m   \u001b[38;5;28;01mreturn\u001b[39;00m [\n\u001b[1;32m    241\u001b[0m       tfds\u001b[38;5;241m.\u001b[39mcore\u001b[38;5;241m.\u001b[39mSplitGenerator(\n\u001b[1;32m    242\u001b[0m           name\u001b[38;5;241m=\u001b[39mtfds\u001b[38;5;241m.\u001b[39mSplit\u001b[38;5;241m.\u001b[39mTRAIN,\n\u001b[0;32m   (...)\u001b[0m\n\u001b[1;32m    254\u001b[0m       ),\n\u001b[1;32m    255\u001b[0m   ]\n",
      "File \u001b[0;32m~/work/notes/notes-nlp/.venv/lib/python3.10/site-packages/tensorflow_datasets/core/download/download_manager.py:688\u001b[0m, in \u001b[0;36mDownloadManager.download_and_extract\u001b[0;34m(self, url_or_urls)\u001b[0m\n\u001b[1;32m    686\u001b[0m \u001b[38;5;28;01mwith\u001b[39;00m \u001b[38;5;28mself\u001b[39m\u001b[38;5;241m.\u001b[39m_downloader\u001b[38;5;241m.\u001b[39mtqdm():\n\u001b[1;32m    687\u001b[0m   \u001b[38;5;28;01mwith\u001b[39;00m \u001b[38;5;28mself\u001b[39m\u001b[38;5;241m.\u001b[39m_extractor\u001b[38;5;241m.\u001b[39mtqdm():\n\u001b[0;32m--> 688\u001b[0m     \u001b[38;5;28;01mreturn\u001b[39;00m \u001b[43m_map_promise\u001b[49m\u001b[43m(\u001b[49m\u001b[38;5;28;43mself\u001b[39;49m\u001b[38;5;241;43m.\u001b[39;49m\u001b[43m_download_extract\u001b[49m\u001b[43m,\u001b[49m\u001b[43m \u001b[49m\u001b[43murl_or_urls\u001b[49m\u001b[43m)\u001b[49m\n",
      "File \u001b[0;32m~/work/notes/notes-nlp/.venv/lib/python3.10/site-packages/tensorflow_datasets/core/download/download_manager.py:831\u001b[0m, in \u001b[0;36m_map_promise\u001b[0;34m(map_fn, all_inputs)\u001b[0m\n\u001b[1;32m    827\u001b[0m \u001b[38;5;250m\u001b[39m\u001b[38;5;124;03m\"\"\"Map the function into each element and resolve the promise.\"\"\"\u001b[39;00m\n\u001b[1;32m    828\u001b[0m all_promises \u001b[38;5;241m=\u001b[39m tree_utils\u001b[38;5;241m.\u001b[39mmap_structure(\n\u001b[1;32m    829\u001b[0m     map_fn, all_inputs\n\u001b[1;32m    830\u001b[0m )  \u001b[38;5;66;03m# Apply the function\u001b[39;00m\n\u001b[0;32m--> 831\u001b[0m res \u001b[38;5;241m=\u001b[39m \u001b[43mtree_utils\u001b[49m\u001b[38;5;241;43m.\u001b[39;49m\u001b[43mmap_structure\u001b[49m\u001b[43m(\u001b[49m\n\u001b[1;32m    832\u001b[0m \u001b[43m    \u001b[49m\u001b[38;5;28;43;01mlambda\u001b[39;49;00m\u001b[43m \u001b[49m\u001b[43mp\u001b[49m\u001b[43m:\u001b[49m\u001b[43m \u001b[49m\u001b[43mp\u001b[49m\u001b[38;5;241;43m.\u001b[39;49m\u001b[43mget\u001b[49m\u001b[43m(\u001b[49m\u001b[43m)\u001b[49m\u001b[43m,\u001b[49m\u001b[43m \u001b[49m\u001b[43mall_promises\u001b[49m\n\u001b[1;32m    833\u001b[0m \u001b[43m\u001b[49m\u001b[43m)\u001b[49m  \u001b[38;5;66;03m# Wait promises\u001b[39;00m\n\u001b[1;32m    834\u001b[0m \u001b[38;5;28;01mreturn\u001b[39;00m res\n",
      "File \u001b[0;32m~/work/notes/notes-nlp/.venv/lib/python3.10/site-packages/tree/__init__.py:435\u001b[0m, in \u001b[0;36mmap_structure\u001b[0;34m(func, *structures, **kwargs)\u001b[0m\n\u001b[1;32m    432\u001b[0m \u001b[38;5;28;01mfor\u001b[39;00m other \u001b[38;5;129;01min\u001b[39;00m structures[\u001b[38;5;241m1\u001b[39m:]:\n\u001b[1;32m    433\u001b[0m   assert_same_structure(structures[\u001b[38;5;241m0\u001b[39m], other, check_types\u001b[38;5;241m=\u001b[39mcheck_types)\n\u001b[1;32m    434\u001b[0m \u001b[38;5;28;01mreturn\u001b[39;00m unflatten_as(structures[\u001b[38;5;241m0\u001b[39m],\n\u001b[0;32m--> 435\u001b[0m                     [func(\u001b[38;5;241m*\u001b[39margs) \u001b[38;5;28;01mfor\u001b[39;00m args \u001b[38;5;129;01min\u001b[39;00m \u001b[38;5;28mzip\u001b[39m(\u001b[38;5;241m*\u001b[39m\u001b[38;5;28mmap\u001b[39m(flatten, structures))])\n",
      "File \u001b[0;32m~/work/notes/notes-nlp/.venv/lib/python3.10/site-packages/tree/__init__.py:435\u001b[0m, in \u001b[0;36m<listcomp>\u001b[0;34m(.0)\u001b[0m\n\u001b[1;32m    432\u001b[0m \u001b[38;5;28;01mfor\u001b[39;00m other \u001b[38;5;129;01min\u001b[39;00m structures[\u001b[38;5;241m1\u001b[39m:]:\n\u001b[1;32m    433\u001b[0m   assert_same_structure(structures[\u001b[38;5;241m0\u001b[39m], other, check_types\u001b[38;5;241m=\u001b[39mcheck_types)\n\u001b[1;32m    434\u001b[0m \u001b[38;5;28;01mreturn\u001b[39;00m unflatten_as(structures[\u001b[38;5;241m0\u001b[39m],\n\u001b[0;32m--> 435\u001b[0m                     [\u001b[43mfunc\u001b[49m\u001b[43m(\u001b[49m\u001b[38;5;241;43m*\u001b[39;49m\u001b[43margs\u001b[49m\u001b[43m)\u001b[49m \u001b[38;5;28;01mfor\u001b[39;00m args \u001b[38;5;129;01min\u001b[39;00m \u001b[38;5;28mzip\u001b[39m(\u001b[38;5;241m*\u001b[39m\u001b[38;5;28mmap\u001b[39m(flatten, structures))])\n",
      "File \u001b[0;32m~/work/notes/notes-nlp/.venv/lib/python3.10/site-packages/tensorflow_datasets/core/download/download_manager.py:832\u001b[0m, in \u001b[0;36m_map_promise.<locals>.<lambda>\u001b[0;34m(p)\u001b[0m\n\u001b[1;32m    827\u001b[0m \u001b[38;5;250m\u001b[39m\u001b[38;5;124;03m\"\"\"Map the function into each element and resolve the promise.\"\"\"\u001b[39;00m\n\u001b[1;32m    828\u001b[0m all_promises \u001b[38;5;241m=\u001b[39m tree_utils\u001b[38;5;241m.\u001b[39mmap_structure(\n\u001b[1;32m    829\u001b[0m     map_fn, all_inputs\n\u001b[1;32m    830\u001b[0m )  \u001b[38;5;66;03m# Apply the function\u001b[39;00m\n\u001b[1;32m    831\u001b[0m res \u001b[38;5;241m=\u001b[39m tree_utils\u001b[38;5;241m.\u001b[39mmap_structure(\n\u001b[0;32m--> 832\u001b[0m     \u001b[38;5;28;01mlambda\u001b[39;00m p: \u001b[43mp\u001b[49m\u001b[38;5;241;43m.\u001b[39;49m\u001b[43mget\u001b[49m\u001b[43m(\u001b[49m\u001b[43m)\u001b[49m, all_promises\n\u001b[1;32m    833\u001b[0m )  \u001b[38;5;66;03m# Wait promises\u001b[39;00m\n\u001b[1;32m    834\u001b[0m \u001b[38;5;28;01mreturn\u001b[39;00m res\n",
      "File \u001b[0;32m~/work/notes/notes-nlp/.venv/lib/python3.10/site-packages/promise/promise.py:512\u001b[0m, in \u001b[0;36mPromise.get\u001b[0;34m(self, timeout)\u001b[0m\n\u001b[1;32m    510\u001b[0m target \u001b[38;5;241m=\u001b[39m \u001b[38;5;28mself\u001b[39m\u001b[38;5;241m.\u001b[39m_target()\n\u001b[1;32m    511\u001b[0m \u001b[38;5;28mself\u001b[39m\u001b[38;5;241m.\u001b[39m_wait(timeout \u001b[38;5;129;01mor\u001b[39;00m DEFAULT_TIMEOUT)\n\u001b[0;32m--> 512\u001b[0m \u001b[38;5;28;01mreturn\u001b[39;00m \u001b[38;5;28;43mself\u001b[39;49m\u001b[38;5;241;43m.\u001b[39;49m\u001b[43m_target_settled_value\u001b[49m\u001b[43m(\u001b[49m\u001b[43m_raise\u001b[49m\u001b[38;5;241;43m=\u001b[39;49m\u001b[38;5;28;43;01mTrue\u001b[39;49;00m\u001b[43m)\u001b[49m\n",
      "File \u001b[0;32m~/work/notes/notes-nlp/.venv/lib/python3.10/site-packages/promise/promise.py:516\u001b[0m, in \u001b[0;36mPromise._target_settled_value\u001b[0;34m(self, _raise)\u001b[0m\n\u001b[1;32m    514\u001b[0m \u001b[38;5;28;01mdef\u001b[39;00m\u001b[38;5;250m \u001b[39m\u001b[38;5;21m_target_settled_value\u001b[39m(\u001b[38;5;28mself\u001b[39m, _raise\u001b[38;5;241m=\u001b[39m\u001b[38;5;28;01mFalse\u001b[39;00m):\n\u001b[1;32m    515\u001b[0m     \u001b[38;5;66;03m# type: (bool) -> Any\u001b[39;00m\n\u001b[0;32m--> 516\u001b[0m     \u001b[38;5;28;01mreturn\u001b[39;00m \u001b[38;5;28;43mself\u001b[39;49m\u001b[38;5;241;43m.\u001b[39;49m\u001b[43m_target\u001b[49m\u001b[43m(\u001b[49m\u001b[43m)\u001b[49m\u001b[38;5;241;43m.\u001b[39;49m\u001b[43m_settled_value\u001b[49m\u001b[43m(\u001b[49m\u001b[43m_raise\u001b[49m\u001b[43m)\u001b[49m\n",
      "File \u001b[0;32m~/work/notes/notes-nlp/.venv/lib/python3.10/site-packages/promise/promise.py:226\u001b[0m, in \u001b[0;36mPromise._settled_value\u001b[0;34m(self, _raise)\u001b[0m\n\u001b[1;32m    224\u001b[0m \u001b[38;5;28;01mif\u001b[39;00m _raise:\n\u001b[1;32m    225\u001b[0m     raise_val \u001b[38;5;241m=\u001b[39m \u001b[38;5;28mself\u001b[39m\u001b[38;5;241m.\u001b[39m_fulfillment_handler0\n\u001b[0;32m--> 226\u001b[0m     \u001b[43mreraise\u001b[49m\u001b[43m(\u001b[49m\u001b[38;5;28;43mtype\u001b[39;49m\u001b[43m(\u001b[49m\u001b[43mraise_val\u001b[49m\u001b[43m)\u001b[49m\u001b[43m,\u001b[49m\u001b[43m \u001b[49m\u001b[43mraise_val\u001b[49m\u001b[43m,\u001b[49m\u001b[43m \u001b[49m\u001b[38;5;28;43mself\u001b[39;49m\u001b[38;5;241;43m.\u001b[39;49m\u001b[43m_traceback\u001b[49m\u001b[43m)\u001b[49m\n\u001b[1;32m    227\u001b[0m \u001b[38;5;28;01mreturn\u001b[39;00m \u001b[38;5;28mself\u001b[39m\u001b[38;5;241m.\u001b[39m_fulfillment_handler0\n",
      "File \u001b[0;32m~/work/notes/notes-nlp/.venv/lib/python3.10/site-packages/six.py:724\u001b[0m, in \u001b[0;36mreraise\u001b[0;34m(tp, value, tb)\u001b[0m\n\u001b[1;32m    722\u001b[0m     \u001b[38;5;28;01mif\u001b[39;00m value\u001b[38;5;241m.\u001b[39m__traceback__ \u001b[38;5;129;01mis\u001b[39;00m \u001b[38;5;129;01mnot\u001b[39;00m tb:\n\u001b[1;32m    723\u001b[0m         \u001b[38;5;28;01mraise\u001b[39;00m value\u001b[38;5;241m.\u001b[39mwith_traceback(tb)\n\u001b[0;32m--> 724\u001b[0m     \u001b[38;5;28;01mraise\u001b[39;00m value\n\u001b[1;32m    725\u001b[0m \u001b[38;5;28;01mfinally\u001b[39;00m:\n\u001b[1;32m    726\u001b[0m     value \u001b[38;5;241m=\u001b[39m \u001b[38;5;28;01mNone\u001b[39;00m\n",
      "File \u001b[0;32m~/work/notes/notes-nlp/.venv/lib/python3.10/site-packages/promise/promise.py:87\u001b[0m, in \u001b[0;36mtry_catch\u001b[0;34m(handler, *args, **kwargs)\u001b[0m\n\u001b[1;32m     84\u001b[0m \u001b[38;5;28;01mdef\u001b[39;00m\u001b[38;5;250m \u001b[39m\u001b[38;5;21mtry_catch\u001b[39m(handler, \u001b[38;5;241m*\u001b[39margs, \u001b[38;5;241m*\u001b[39m\u001b[38;5;241m*\u001b[39mkwargs):\n\u001b[1;32m     85\u001b[0m     \u001b[38;5;66;03m# type: (Callable, Any, Any) -> Union[Tuple[Any, None], Tuple[None, Tuple[Exception, Optional[TracebackType]]]]\u001b[39;00m\n\u001b[1;32m     86\u001b[0m     \u001b[38;5;28;01mtry\u001b[39;00m:\n\u001b[0;32m---> 87\u001b[0m         \u001b[38;5;28;01mreturn\u001b[39;00m (\u001b[43mhandler\u001b[49m\u001b[43m(\u001b[49m\u001b[38;5;241;43m*\u001b[39;49m\u001b[43margs\u001b[49m\u001b[43m,\u001b[49m\u001b[43m \u001b[49m\u001b[38;5;241;43m*\u001b[39;49m\u001b[38;5;241;43m*\u001b[39;49m\u001b[43mkwargs\u001b[49m\u001b[43m)\u001b[49m, \u001b[38;5;28;01mNone\u001b[39;00m)\n\u001b[1;32m     88\u001b[0m     \u001b[38;5;28;01mexcept\u001b[39;00m \u001b[38;5;167;01mException\u001b[39;00m \u001b[38;5;28;01mas\u001b[39;00m e:\n\u001b[1;32m     89\u001b[0m         tb \u001b[38;5;241m=\u001b[39m exc_info()[\u001b[38;5;241m2\u001b[39m]\n",
      "File \u001b[0;32m~/work/notes/notes-nlp/.venv/lib/python3.10/site-packages/tensorflow_datasets/core/download/download_manager.py:408\u001b[0m, in \u001b[0;36mDownloadManager._download.<locals>.<lambda>\u001b[0;34m(dl_result)\u001b[0m\n\u001b[1;32m    402\u001b[0m   future \u001b[38;5;241m=\u001b[39m \u001b[38;5;28mself\u001b[39m\u001b[38;5;241m.\u001b[39m_downloader\u001b[38;5;241m.\u001b[39mdownload(\n\u001b[1;32m    403\u001b[0m       url, download_tmp_dir, verify\u001b[38;5;241m=\u001b[39m\u001b[38;5;28mself\u001b[39m\u001b[38;5;241m.\u001b[39m_verify_ssl\n\u001b[1;32m    404\u001b[0m   )\n\u001b[1;32m    406\u001b[0m \u001b[38;5;66;03m# Post-process the result\u001b[39;00m\n\u001b[1;32m    407\u001b[0m \u001b[38;5;28;01mreturn\u001b[39;00m future\u001b[38;5;241m.\u001b[39mthen(\n\u001b[0;32m--> 408\u001b[0m     \u001b[38;5;28;01mlambda\u001b[39;00m dl_result: \u001b[38;5;28;43mself\u001b[39;49m\u001b[38;5;241;43m.\u001b[39;49m\u001b[43m_register_or_validate_checksums\u001b[49m\u001b[43m(\u001b[49m\u001b[43m  \u001b[49m\u001b[38;5;66;43;03m# pylint: disable=g-long-lambda\u001b[39;49;00m\n\u001b[1;32m    409\u001b[0m \u001b[43m        \u001b[49m\u001b[43murl\u001b[49m\u001b[38;5;241;43m=\u001b[39;49m\u001b[43murl\u001b[49m\u001b[43m,\u001b[49m\n\u001b[1;32m    410\u001b[0m \u001b[43m        \u001b[49m\u001b[43mpath\u001b[49m\u001b[38;5;241;43m=\u001b[39;49m\u001b[43mdl_result\u001b[49m\u001b[38;5;241;43m.\u001b[39;49m\u001b[43mpath\u001b[49m\u001b[43m,\u001b[49m\n\u001b[1;32m    411\u001b[0m \u001b[43m        \u001b[49m\u001b[43mcomputed_url_info\u001b[49m\u001b[38;5;241;43m=\u001b[39;49m\u001b[43mdl_result\u001b[49m\u001b[38;5;241;43m.\u001b[39;49m\u001b[43murl_info\u001b[49m\u001b[43m,\u001b[49m\n\u001b[1;32m    412\u001b[0m \u001b[43m        \u001b[49m\u001b[43mexpected_url_info\u001b[49m\u001b[38;5;241;43m=\u001b[39;49m\u001b[43mexpected_url_info\u001b[49m\u001b[43m,\u001b[49m\n\u001b[1;32m    413\u001b[0m \u001b[43m        \u001b[49m\u001b[43mchecksum_path\u001b[49m\u001b[38;5;241;43m=\u001b[39;49m\u001b[43mchecksum_path\u001b[49m\u001b[43m,\u001b[49m\n\u001b[1;32m    414\u001b[0m \u001b[43m        \u001b[49m\u001b[43murl_path\u001b[49m\u001b[38;5;241;43m=\u001b[39;49m\u001b[43murl_path\u001b[49m\u001b[43m,\u001b[49m\n\u001b[1;32m    415\u001b[0m \u001b[43m    \u001b[49m\u001b[43m)\u001b[49m\n\u001b[1;32m    416\u001b[0m )\n",
      "File \u001b[0;32m~/work/notes/notes-nlp/.venv/lib/python3.10/site-packages/tensorflow_datasets/core/download/download_manager.py:465\u001b[0m, in \u001b[0;36mDownloadManager._register_or_validate_checksums\u001b[0;34m(self, path, url, expected_url_info, computed_url_info, checksum_path, url_path)\u001b[0m\n\u001b[1;32m    454\u001b[0m   checksum_path \u001b[38;5;241m=\u001b[39m \u001b[38;5;28mself\u001b[39m\u001b[38;5;241m.\u001b[39m_get_dl_path(url, computed_url_info\u001b[38;5;241m.\u001b[39mchecksum)\n\u001b[1;32m    455\u001b[0m \u001b[38;5;28;01melse\u001b[39;00m:\n\u001b[1;32m    456\u001b[0m   \u001b[38;5;66;03m# Eventually validate checksums\u001b[39;00m\n\u001b[1;32m    457\u001b[0m   \u001b[38;5;66;03m# Note:\u001b[39;00m\n\u001b[0;32m   (...)\u001b[0m\n\u001b[1;32m    463\u001b[0m   \u001b[38;5;66;03m#   download). This is expected as it might mean the downloaded file\u001b[39;00m\n\u001b[1;32m    464\u001b[0m   \u001b[38;5;66;03m#   was corrupted. Note: The tmp file isn't deleted to allow inspection.\u001b[39;00m\n\u001b[0;32m--> 465\u001b[0m   \u001b[43m_validate_checksums\u001b[49m\u001b[43m(\u001b[49m\n\u001b[1;32m    466\u001b[0m \u001b[43m      \u001b[49m\u001b[43murl\u001b[49m\u001b[38;5;241;43m=\u001b[39;49m\u001b[43murl\u001b[49m\u001b[43m,\u001b[49m\n\u001b[1;32m    467\u001b[0m \u001b[43m      \u001b[49m\u001b[43mpath\u001b[49m\u001b[38;5;241;43m=\u001b[39;49m\u001b[43mpath\u001b[49m\u001b[43m,\u001b[49m\n\u001b[1;32m    468\u001b[0m \u001b[43m      \u001b[49m\u001b[43mexpected_url_info\u001b[49m\u001b[38;5;241;43m=\u001b[39;49m\u001b[43mexpected_url_info\u001b[49m\u001b[43m,\u001b[49m\n\u001b[1;32m    469\u001b[0m \u001b[43m      \u001b[49m\u001b[43mcomputed_url_info\u001b[49m\u001b[38;5;241;43m=\u001b[39;49m\u001b[43mcomputed_url_info\u001b[49m\u001b[43m,\u001b[49m\n\u001b[1;32m    470\u001b[0m \u001b[43m      \u001b[49m\u001b[43mforce_checksums_validation\u001b[49m\u001b[38;5;241;43m=\u001b[39;49m\u001b[38;5;28;43mself\u001b[39;49m\u001b[38;5;241;43m.\u001b[39;49m\u001b[43m_force_checksums_validation\u001b[49m\u001b[43m,\u001b[49m\n\u001b[1;32m    471\u001b[0m \u001b[43m  \u001b[49m\u001b[43m)\u001b[49m\n\u001b[1;32m    473\u001b[0m \u001b[38;5;28;01mreturn\u001b[39;00m \u001b[38;5;28mself\u001b[39m\u001b[38;5;241m.\u001b[39m_rename_and_get_final_dl_path(\n\u001b[1;32m    474\u001b[0m     url\u001b[38;5;241m=\u001b[39murl,\n\u001b[1;32m    475\u001b[0m     path\u001b[38;5;241m=\u001b[39mpath,\n\u001b[0;32m   (...)\u001b[0m\n\u001b[1;32m    479\u001b[0m     url_path\u001b[38;5;241m=\u001b[39murl_path,\n\u001b[1;32m    480\u001b[0m )\n",
      "File \u001b[0;32m~/work/notes/notes-nlp/.venv/lib/python3.10/site-packages/tensorflow_datasets/core/download/download_manager.py:809\u001b[0m, in \u001b[0;36m_validate_checksums\u001b[0;34m(url, path, computed_url_info, expected_url_info, force_checksums_validation)\u001b[0m\n\u001b[1;32m    797\u001b[0m \u001b[38;5;28;01mif\u001b[39;00m (\n\u001b[1;32m    798\u001b[0m     expected_url_info\n\u001b[1;32m    799\u001b[0m     \u001b[38;5;129;01mand\u001b[39;00m computed_url_info\n\u001b[1;32m    800\u001b[0m     \u001b[38;5;129;01mand\u001b[39;00m expected_url_info \u001b[38;5;241m!=\u001b[39m computed_url_info\n\u001b[1;32m    801\u001b[0m ):\n\u001b[1;32m    802\u001b[0m   msg \u001b[38;5;241m=\u001b[39m (\n\u001b[1;32m    803\u001b[0m       \u001b[38;5;124mf\u001b[39m\u001b[38;5;124m'\u001b[39m\u001b[38;5;124mArtifact \u001b[39m\u001b[38;5;132;01m{\u001b[39;00murl\u001b[38;5;132;01m}\u001b[39;00m\u001b[38;5;124m, downloaded to \u001b[39m\u001b[38;5;132;01m{\u001b[39;00mpath\u001b[38;5;132;01m}\u001b[39;00m\u001b[38;5;124m, has wrong checksum:\u001b[39m\u001b[38;5;130;01m\\n\u001b[39;00m\u001b[38;5;124m'\u001b[39m\n\u001b[1;32m    804\u001b[0m       \u001b[38;5;124mf\u001b[39m\u001b[38;5;124m'\u001b[39m\u001b[38;5;124m* Expected: \u001b[39m\u001b[38;5;132;01m{\u001b[39;00mexpected_url_info\u001b[38;5;132;01m}\u001b[39;00m\u001b[38;5;130;01m\\n\u001b[39;00m\u001b[38;5;124m'\u001b[39m\n\u001b[0;32m   (...)\u001b[0m\n\u001b[1;32m    807\u001b[0m       \u001b[38;5;124m'\u001b[39m\u001b[38;5;124mhttps://www.tensorflow.org/datasets/overview#fixing_nonmatchingchecksumerror\u001b[39m\u001b[38;5;124m'\u001b[39m\n\u001b[1;32m    808\u001b[0m   )\n\u001b[0;32m--> 809\u001b[0m   \u001b[38;5;28;01mraise\u001b[39;00m NonMatchingChecksumError(msg)\n",
      "\u001b[0;31mNonMatchingChecksumError\u001b[0m: Artifact https://drive.google.com/uc?export=download&id=0BwmD_VLjROrfTHk4NFg2SndKcjQ, downloaded to data/downloads/ucexport_download_id_0BwmD_VLjROrfTHk4NFg2SndKG8BdJPpt2iRo6Dpzz23CByJuAePEilB-pxbcBCHaWDs.tmp.0a9bdc0e7618468383b40cf1b79e3e37/download, has wrong checksum:\n* Expected: UrlInfo(size=151.23 MiB, checksum='e8fbc0027e54e0a916abd9c969eb35f708ed1467d7ef4e3b17a56739d65cb200', filename='cnn_stories.tgz')\n* Got: UrlInfo(size=2.36 KiB, checksum='82f743d167fd9c076191ff53c96e626e0b870f77ef221509a2c10e11d00a0396', filename='download')\nTo debug, see: https://www.tensorflow.org/datasets/overview#fixing_nonmatchingchecksumerror\n  In call to configurable 'TFDS' (<function TFDS at 0x7650cc6652d0>)"
     ]
    }
   ],
   "source": [
    "# This will download the dataset if no data_dir is specified.\n",
    "# Downloading and processing can take bit of time,\n",
    "# so we have the data already in 'data/' for you\n",
    "\n",
    "# Importing CNN/DailyMail articles dataset\n",
    "train_stream_fn = trax.data.TFDS('cnn_dailymail',\n",
    "                                 data_dir='data/',\n",
    "                                 keys=('article', 'highlights'),\n",
    "                                 train=True)\n",
    "\n",
    "# This should be much faster as the data is downloaded already.\n",
    "eval_stream_fn = trax.data.TFDS('cnn_dailymail',\n",
    "                                data_dir='data/',\n",
    "                                keys=('article', 'highlights'),\n",
    "                                train=False)"
   ]
  },
  {
   "cell_type": "code",
   "execution_count": 4,
   "id": "8e90bc17",
   "metadata": {
    "colab": {},
    "colab_type": "code"
   },
   "outputs": [],
   "source": [
    "def tokenize(input_str, EOS=1):\n",
    "    \"\"\"Input str to features dict, ready for inference\"\"\"\n",
    "  \n",
    "    # Use the trax.data.tokenize method. It takes streams and returns streams,\n",
    "    # we get around it by making a 1-element stream with `iter`.\n",
    "    inputs =  next(trax.data.tokenize(iter([input_str]),\n",
    "                                      vocab_dir='vocab_dir/',\n",
    "                                      vocab_file='summarize32k.subword.subwords'))\n",
    "    \n",
    "    # Mark the end of the sentence with EOS\n",
    "    return list(inputs) + [EOS]\n",
    "\n",
    "def detokenize(integers):\n",
    "    \"\"\"List of ints to str\"\"\"\n",
    "  \n",
    "    s = trax.data.detokenize(integers,\n",
    "                             vocab_dir='vocab_dir/',\n",
    "                             vocab_file='summarize32k.subword.subwords')\n",
    "    \n",
    "    return wrapper.fill(s)"
   ]
  },
  {
   "cell_type": "code",
   "execution_count": 5,
   "id": "34e10778",
   "metadata": {
    "colab": {},
    "colab_type": "code"
   },
   "outputs": [
    {
     "ename": "NameError",
     "evalue": "name 'train_stream_fn' is not defined",
     "output_type": "error",
     "traceback": [
      "\u001b[0;31m---------------------------------------------------------------------------\u001b[0m",
      "\u001b[0;31mNameError\u001b[0m                                 Traceback (most recent call last)",
      "Cell \u001b[0;32mIn[4], line 24\u001b[0m\n\u001b[1;32m     13\u001b[0m input_pipeline \u001b[38;5;241m=\u001b[39m trax\u001b[38;5;241m.\u001b[39mdata\u001b[38;5;241m.\u001b[39mSerial(\n\u001b[1;32m     14\u001b[0m     \u001b[38;5;66;03m# Tokenizes\u001b[39;00m\n\u001b[1;32m     15\u001b[0m     trax\u001b[38;5;241m.\u001b[39mdata\u001b[38;5;241m.\u001b[39mTokenize(vocab_dir\u001b[38;5;241m=\u001b[39m\u001b[38;5;124m'\u001b[39m\u001b[38;5;124mvocab_dir/\u001b[39m\u001b[38;5;124m'\u001b[39m,\n\u001b[0;32m   (...)\u001b[0m\n\u001b[1;32m     20\u001b[0m     trax\u001b[38;5;241m.\u001b[39mdata\u001b[38;5;241m.\u001b[39mFilterByLength(\u001b[38;5;241m2048\u001b[39m)\n\u001b[1;32m     21\u001b[0m )\n\u001b[1;32m     23\u001b[0m \u001b[38;5;66;03m# Apply preprocessing to data streams.\u001b[39;00m\n\u001b[0;32m---> 24\u001b[0m train_stream \u001b[38;5;241m=\u001b[39m input_pipeline(\u001b[43mtrain_stream_fn\u001b[49m())\n\u001b[1;32m     25\u001b[0m eval_stream \u001b[38;5;241m=\u001b[39m input_pipeline(eval_stream_fn())\n\u001b[1;32m     27\u001b[0m train_input, train_target, train_mask \u001b[38;5;241m=\u001b[39m \u001b[38;5;28mnext\u001b[39m(train_stream)\n",
      "\u001b[0;31mNameError\u001b[0m: name 'train_stream_fn' is not defined"
     ]
    }
   ],
   "source": [
    "# Special tokens\n",
    "SEP = 0 # Padding or separator token\n",
    "EOS = 1 # End of sentence token\n",
    "\n",
    "# Concatenate tokenized inputs and targets using 0 as separator.\n",
    "def preprocess(stream):\n",
    "    for (article, summary) in stream:\n",
    "        joint = np.array(list(article) + [EOS, SEP] + list(summary) + [EOS])\n",
    "        mask = [0] * (len(list(article)) + 2) + [1] * (len(list(summary)) + 1) # Accounting for EOS and SEP\n",
    "        yield joint, joint, np.array(mask)\n",
    "\n",
    "# You can combine a few data preprocessing steps into a pipeline like this.\n",
    "input_pipeline = trax.data.Serial(\n",
    "    # Tokenizes\n",
    "    trax.data.Tokenize(vocab_dir='vocab_dir/',\n",
    "                       vocab_file='summarize32k.subword.subwords'),\n",
    "    # Uses function defined above\n",
    "    preprocess,\n",
    "    # Filters out examples longer than 2048\n",
    "    trax.data.FilterByLength(2048)\n",
    ")\n",
    "\n",
    "# Apply preprocessing to data streams.\n",
    "train_stream = input_pipeline(train_stream_fn())\n",
    "eval_stream = input_pipeline(eval_stream_fn())\n",
    "\n",
    "train_input, train_target, train_mask = next(train_stream)\n",
    "\n",
    "assert sum((train_input - train_target)**2) == 0  # They are the same in Language Model (LM)."
   ]
  },
  {
   "cell_type": "code",
   "execution_count": 6,
   "id": "de124bed",
   "metadata": {
    "colab": {
     "base_uri": "https://localhost:8080/",
     "height": 238
    },
    "colab_type": "code"
   },
   "outputs": [
    {
     "ename": "NameError",
     "evalue": "name 'train_mask' is not defined",
     "output_type": "error",
     "traceback": [
      "\u001b[0;31m---------------------------------------------------------------------------\u001b[0m",
      "\u001b[0;31mNameError\u001b[0m                                 Traceback (most recent call last)",
      "Cell \u001b[0;32mIn[5], line 2\u001b[0m\n\u001b[1;32m      1\u001b[0m \u001b[38;5;66;03m# prints mask, 0s on article, 1s on summary\u001b[39;00m\n\u001b[0;32m----> 2\u001b[0m \u001b[38;5;28mprint\u001b[39m(\u001b[38;5;124mf\u001b[39m\u001b[38;5;124m'\u001b[39m\u001b[38;5;124mSingle example mask:\u001b[39m\u001b[38;5;130;01m\\n\u001b[39;00m\u001b[38;5;130;01m\\n\u001b[39;00m\u001b[38;5;124m \u001b[39m\u001b[38;5;132;01m{\u001b[39;00m\u001b[43mtrain_mask\u001b[49m\u001b[38;5;132;01m}\u001b[39;00m\u001b[38;5;124m'\u001b[39m)\n",
      "\u001b[0;31mNameError\u001b[0m: name 'train_mask' is not defined"
     ]
    }
   ],
   "source": [
    "# prints mask, 0s on article, 1s on summary\n",
    "print(f'Single example mask:\\n\\n {train_mask}')"
   ]
  },
  {
   "cell_type": "code",
   "execution_count": 7,
   "id": "5eb7729e",
   "metadata": {
    "colab": {
     "base_uri": "https://localhost:8080/",
     "height": 459
    },
    "colab_type": "code"
   },
   "outputs": [
    {
     "ename": "NameError",
     "evalue": "name 'train_input' is not defined",
     "output_type": "error",
     "traceback": [
      "\u001b[0;31m---------------------------------------------------------------------------\u001b[0m",
      "\u001b[0;31mNameError\u001b[0m                                 Traceback (most recent call last)",
      "Cell \u001b[0;32mIn[6], line 2\u001b[0m\n\u001b[1;32m      1\u001b[0m \u001b[38;5;66;03m# prints: [Example][<EOS>][<pad>][Example Summary][<EOS>]\u001b[39;00m\n\u001b[0;32m----> 2\u001b[0m \u001b[38;5;28mprint\u001b[39m(\u001b[38;5;124mf\u001b[39m\u001b[38;5;124m'\u001b[39m\u001b[38;5;124mSingle example:\u001b[39m\u001b[38;5;130;01m\\n\u001b[39;00m\u001b[38;5;130;01m\\n\u001b[39;00m\u001b[38;5;124m \u001b[39m\u001b[38;5;132;01m{\u001b[39;00mdetokenize(\u001b[43mtrain_input\u001b[49m)\u001b[38;5;132;01m}\u001b[39;00m\u001b[38;5;124m'\u001b[39m)\n",
      "\u001b[0;31mNameError\u001b[0m: name 'train_input' is not defined"
     ]
    }
   ],
   "source": [
    "# prints: [Example][<EOS>][<pad>][Example Summary][<EOS>]\n",
    "print(f'Single example:\\n\\n {detokenize(train_input)}')"
   ]
  },
  {
   "cell_type": "code",
   "execution_count": 8,
   "id": "42bc12f1",
   "metadata": {
    "colab": {},
    "colab_type": "code"
   },
   "outputs": [
    {
     "ename": "NameError",
     "evalue": "name 'train_stream' is not defined",
     "output_type": "error",
     "traceback": [
      "\u001b[0;31m---------------------------------------------------------------------------\u001b[0m",
      "\u001b[0;31mNameError\u001b[0m                                 Traceback (most recent call last)",
      "Cell \u001b[0;32mIn[7], line 12\u001b[0m\n\u001b[1;32m      8\u001b[0m batch_sizes \u001b[38;5;241m=\u001b[39m [\u001b[38;5;241m16\u001b[39m,    \u001b[38;5;241m8\u001b[39m,    \u001b[38;5;241m4\u001b[39m,    \u001b[38;5;241m2\u001b[39m, \u001b[38;5;241m1\u001b[39m]\n\u001b[1;32m     10\u001b[0m \u001b[38;5;66;03m# Create the streams.\u001b[39;00m\n\u001b[1;32m     11\u001b[0m train_batch_stream \u001b[38;5;241m=\u001b[39m trax\u001b[38;5;241m.\u001b[39mdata\u001b[38;5;241m.\u001b[39mBucketByLength(\n\u001b[0;32m---> 12\u001b[0m     boundaries, batch_sizes)(\u001b[43mtrain_stream\u001b[49m)\n\u001b[1;32m     14\u001b[0m eval_batch_stream \u001b[38;5;241m=\u001b[39m trax\u001b[38;5;241m.\u001b[39mdata\u001b[38;5;241m.\u001b[39mBucketByLength(\n\u001b[1;32m     15\u001b[0m     boundaries, batch_sizes)(eval_stream)\n",
      "\u001b[0;31mNameError\u001b[0m: name 'train_stream' is not defined"
     ]
    }
   ],
   "source": [
    "# Bucketing to create batched generators.\n",
    "\n",
    "# Buckets are defined in terms of boundaries and batch sizes.\n",
    "# Batch_sizes[i] determines the batch size for items with length < boundaries[i]\n",
    "# So below, we'll take a batch of 16 sentences of length < 128 , 8 of length < 256,\n",
    "# 4 of length < 512. And so on. \n",
    "boundaries =  [128, 256,  512, 1024]\n",
    "batch_sizes = [16,    8,    4,    2, 1]\n",
    "\n",
    "# Create the streams.\n",
    "train_batch_stream = trax.data.BucketByLength(\n",
    "    boundaries, batch_sizes)(train_stream)\n",
    "\n",
    "eval_batch_stream = trax.data.BucketByLength(\n",
    "    boundaries, batch_sizes)(eval_stream)"
   ]
  },
  {
   "cell_type": "code",
   "execution_count": 9,
   "id": "ea44a6dc",
   "metadata": {
    "colab": {},
    "colab_type": "code"
   },
   "outputs": [
    {
     "ename": "NameError",
     "evalue": "name 'train_batch_stream' is not defined",
     "output_type": "error",
     "traceback": [
      "\u001b[0;31m---------------------------------------------------------------------------\u001b[0m",
      "\u001b[0;31mNameError\u001b[0m                                 Traceback (most recent call last)",
      "Cell \u001b[0;32mIn[8], line 3\u001b[0m\n\u001b[1;32m      1\u001b[0m \u001b[38;5;66;03m# Every execution will result in generation of a different article\u001b[39;00m\n\u001b[1;32m      2\u001b[0m \u001b[38;5;66;03m# Try running this cell multiple times to see how the length of the examples affects the batch size\u001b[39;00m\n\u001b[0;32m----> 3\u001b[0m input_batch, _, mask_batch \u001b[38;5;241m=\u001b[39m \u001b[38;5;28mnext\u001b[39m(\u001b[43mtrain_batch_stream\u001b[49m)\n\u001b[1;32m      5\u001b[0m \u001b[38;5;66;03m# Shape of the input_batch\u001b[39;00m\n\u001b[1;32m      6\u001b[0m input_batch\u001b[38;5;241m.\u001b[39mshape\n",
      "\u001b[0;31mNameError\u001b[0m: name 'train_batch_stream' is not defined"
     ]
    }
   ],
   "source": [
    "# Every execution will result in generation of a different article\n",
    "# Try running this cell multiple times to see how the length of the examples affects the batch size\n",
    "input_batch, _, mask_batch = next(train_batch_stream)\n",
    "\n",
    "# Shape of the input_batch\n",
    "input_batch.shape"
   ]
  },
  {
   "cell_type": "code",
   "execution_count": 10,
   "id": "73cc6b5b",
   "metadata": {
    "colab": {
     "base_uri": "https://localhost:8080/",
     "height": 1000
    },
    "colab_type": "code"
   },
   "outputs": [
    {
     "ename": "NameError",
     "evalue": "name 'input_batch' is not defined",
     "output_type": "error",
     "traceback": [
      "\u001b[0;31m---------------------------------------------------------------------------\u001b[0m",
      "\u001b[0;31mNameError\u001b[0m                                 Traceback (most recent call last)",
      "Cell \u001b[0;32mIn[9], line 2\u001b[0m\n\u001b[1;32m      1\u001b[0m \u001b[38;5;66;03m# print corresponding integer values\u001b[39;00m\n\u001b[0;32m----> 2\u001b[0m \u001b[38;5;28mprint\u001b[39m(\u001b[43minput_batch\u001b[49m[\u001b[38;5;241m0\u001b[39m])\n",
      "\u001b[0;31mNameError\u001b[0m: name 'input_batch' is not defined"
     ]
    }
   ],
   "source": [
    "# print corresponding integer values\n",
    "print(input_batch[0])"
   ]
  },
  {
   "cell_type": "code",
   "execution_count": 11,
   "id": "b5fd620c",
   "metadata": {
    "colab": {
     "base_uri": "https://localhost:8080/",
     "height": 1000
    },
    "colab_type": "code"
   },
   "outputs": [
    {
     "ename": "NameError",
     "evalue": "name 'input_batch' is not defined",
     "output_type": "error",
     "traceback": [
      "\u001b[0;31m---------------------------------------------------------------------------\u001b[0m",
      "\u001b[0;31mNameError\u001b[0m                                 Traceback (most recent call last)",
      "Cell \u001b[0;32mIn[10], line 2\u001b[0m\n\u001b[1;32m      1\u001b[0m \u001b[38;5;66;03m# print the article and its summary\u001b[39;00m\n\u001b[0;32m----> 2\u001b[0m \u001b[38;5;28mprint\u001b[39m(\u001b[38;5;124m'\u001b[39m\u001b[38;5;124mArticle:\u001b[39m\u001b[38;5;130;01m\\n\u001b[39;00m\u001b[38;5;130;01m\\n\u001b[39;00m\u001b[38;5;124m'\u001b[39m, detokenize(\u001b[43minput_batch\u001b[49m[\u001b[38;5;241m0\u001b[39m]))\n",
      "\u001b[0;31mNameError\u001b[0m: name 'input_batch' is not defined"
     ]
    }
   ],
   "source": [
    "# print the article and its summary\n",
    "print('Article:\\n\\n', detokenize(input_batch[0]))"
   ]
  },
  {
   "cell_type": "code",
   "execution_count": 12,
   "id": "f655edd3",
   "metadata": {},
   "outputs": [],
   "source": [
    "def create_tensor(t):\n",
    "    \"\"\"Create tensor from list of lists\"\"\"\n",
    "    return jnp.array(t)\n",
    "\n",
    "\n",
    "def display_tensor(t, name):\n",
    "    \"\"\"Display shape and tensor\"\"\"\n",
    "    print(f'{name} shape: {t.shape}\\n')\n",
    "    print(f'{t}\\n')"
   ]
  },
  {
   "cell_type": "code",
   "execution_count": 13,
   "id": "14a5bca7",
   "metadata": {
    "colab": {
     "base_uri": "https://localhost:8080/",
     "height": 221
    },
    "colab_type": "code"
   },
   "outputs": [
    {
     "name": "stdout",
     "output_type": "stream",
     "text": [
      "query shape: (2, 3)\n",
      "\n",
      "[[1 0 0]\n",
      " [0 1 0]]\n",
      "\n",
      "key shape: (2, 3)\n",
      "\n",
      "[[1 2 3]\n",
      " [4 5 6]]\n",
      "\n",
      "value shape: (2, 3)\n",
      "\n",
      "[[0 1 0]\n",
      " [1 0 1]]\n",
      "\n",
      "mask shape: (2, 2)\n",
      "\n",
      "[[ 0.e+00  0.e+00]\n",
      " [-1.e+09  0.e+00]]\n",
      "\n"
     ]
    }
   ],
   "source": [
    "q = create_tensor([[1, 0, 0], [0, 1, 0]])\n",
    "display_tensor(q, 'query')\n",
    "k = create_tensor([[1, 2, 3], [4, 5, 6]])\n",
    "display_tensor(k, 'key')\n",
    "v = create_tensor([[0, 1, 0], [1, 0, 1]])\n",
    "display_tensor(v, 'value')\n",
    "m = create_tensor([[0, 0], [-1e9, 0]])\n",
    "display_tensor(m, 'mask')"
   ]
  },
  {
   "cell_type": "code",
   "execution_count": 14,
   "id": "1d094a3e",
   "metadata": {
    "colab": {
     "base_uri": "https://localhost:8080/",
     "height": 102
    },
    "colab_type": "code"
   },
   "outputs": [
    {
     "name": "stdout",
     "output_type": "stream",
     "text": [
      "query dot key shape: (2, 2)\n",
      "\n",
      "[[0.57735026 2.309401  ]\n",
      " [1.1547005  2.8867512 ]]\n",
      "\n"
     ]
    }
   ],
   "source": [
    "q_dot_k = q @ k.T / jnp.sqrt(3)\n",
    "display_tensor(q_dot_k, 'query dot key')"
   ]
  },
  {
   "cell_type": "code",
   "execution_count": 15,
   "id": "95ea75a8",
   "metadata": {},
   "outputs": [
    {
     "name": "stdout",
     "output_type": "stream",
     "text": [
      "masked query dot key shape: (2, 2)\n",
      "\n",
      "[[ 5.7735026e-01  2.3094010e+00]\n",
      " [-1.0000000e+09  2.8867512e+00]]\n",
      "\n"
     ]
    }
   ],
   "source": [
    "masked = q_dot_k + m\n",
    "display_tensor(masked, 'masked query dot key')"
   ]
  },
  {
   "cell_type": "code",
   "execution_count": 16,
   "id": "0a255184",
   "metadata": {},
   "outputs": [
    {
     "name": "stdout",
     "output_type": "stream",
     "text": [
      "masked query dot key dot value shape: (2, 3)\n",
      "\n",
      "[[ 2.3094010e+00  5.7735026e-01  2.3094010e+00]\n",
      " [ 2.8867512e+00 -1.0000000e+09  2.8867512e+00]]\n",
      "\n"
     ]
    }
   ],
   "source": [
    "display_tensor(masked @ v, 'masked query dot key dot value')"
   ]
  },
  {
   "cell_type": "code",
   "execution_count": 17,
   "id": "58c914d1",
   "metadata": {},
   "outputs": [
    {
     "name": "stdout",
     "output_type": "stream",
     "text": [
      "query with batch dim shape: (1, 2, 3)\n",
      "\n",
      "[[[1 0 0]\n",
      "  [0 1 0]]]\n",
      "\n",
      "key with batch dim shape: (1, 2, 3)\n",
      "\n",
      "[[[1 2 3]\n",
      "  [4 5 6]]]\n",
      "\n",
      "value with batch dim shape: (1, 2, 3)\n",
      "\n",
      "[[[0 1 0]\n",
      "  [1 0 1]]]\n",
      "\n",
      "boolean mask shape: (2, 2)\n",
      "\n",
      "[[ True  True]\n",
      " [False  True]]\n",
      "\n"
     ]
    }
   ],
   "source": [
    "q_with_batch = q[None,:]\n",
    "display_tensor(q_with_batch, 'query with batch dim')\n",
    "k_with_batch = k[None,:]\n",
    "display_tensor(k_with_batch, 'key with batch dim')\n",
    "v_with_batch = v[None,:]\n",
    "display_tensor(v_with_batch, 'value with batch dim')\n",
    "m_bool = create_tensor([[True, True], [False, True]])\n",
    "display_tensor(m_bool, 'boolean mask')"
   ]
  },
  {
   "cell_type": "code",
   "execution_count": 18,
   "id": "cc240a4b",
   "metadata": {
    "colab": {},
    "colab_type": "code"
   },
   "outputs": [],
   "source": [
    "# UNQ_C1\n",
    "# GRADED FUNCTION: DotProductAttention\n",
    "def DotProductAttention(query, key, value, mask):\n",
    "    \"\"\"Dot product self-attention.\n",
    "    Args:\n",
    "        query (jax.interpreters.xla.DeviceArray): array of query representations with shape (L_q by d)\n",
    "        key (jax.interpreters.xla.DeviceArray): array of key representations with shape (L_k by d)\n",
    "        value (jax.interpreters.xla.DeviceArray): array of value representations with shape (L_k by d) where L_v = L_k\n",
    "        mask (jax.interpreters.xla.DeviceArray): attention-mask, gates attention with shape (L_q by L_k)\n",
    "\n",
    "    Returns:\n",
    "        jax.interpreters.xla.DeviceArray: Self-attention array for q, k, v arrays. (L_q by L_k)\n",
    "    \"\"\"\n",
    "\n",
    "    assert query.shape[-1] == key.shape[-1] == value.shape[-1], \"Embedding dimensions of q, k, v aren't all the same\"\n",
    "\n",
    "    ### START CODE HERE (REPLACE INSTANCES OF 'None' with your code) ###\n",
    "    # Save depth/dimension of the query embedding for scaling down the dot product\n",
    "    depth = None\n",
    "\n",
    "    # Calculate scaled query key dot product according to formula above\n",
    "    dots = jnp.matmul(None, jnp.swapaxes(None, None, None)) / jnp.sqrt(None)\n",
    "    \n",
    "    # Apply the mask\n",
    "    if mask is not None: # The 'None' in this line does not need to be replaced\n",
    "        dots = jnp.where(None, None, jnp.full_like(None, -1e9))\n",
    "    \n",
    "    # Softmax formula implementation\n",
    "    # Use trax.fastmath.logsumexp of dots to avoid underflow by division by large numbers\n",
    "    # Hint: Last axis should be used and keepdims should be True\n",
    "    # Note: softmax = e^(dots - logsumexp(dots)) = E^dots / sumexp(dots)\n",
    "    logsumexp = None\n",
    "\n",
    "    # Take exponential of dots minus logsumexp to get softmax\n",
    "    # Use jnp.exp()\n",
    "    dots = None\n",
    "\n",
    "    # Multiply dots by value to get self-attention\n",
    "    # Use jnp.matmul()\n",
    "    attention = None\n",
    "\n",
    "    ## END CODE HERE ###\n",
    "    \n",
    "    return attention"
   ]
  },
  {
   "cell_type": "code",
   "execution_count": 19,
   "id": "3f939377",
   "metadata": {
    "colab": {
     "base_uri": "https://localhost:8080/",
     "height": 51
    },
    "colab_type": "code"
   },
   "outputs": [
    {
     "ename": "TypeError",
     "evalue": "swapaxes requires ndarray or scalar arguments, got <class 'NoneType'> at position 0.",
     "output_type": "error",
     "traceback": [
      "\u001b[0;31m---------------------------------------------------------------------------\u001b[0m",
      "\u001b[0;31mTypeError\u001b[0m                                 Traceback (most recent call last)",
      "Cell \u001b[0;32mIn[18], line 1\u001b[0m\n\u001b[0;32m----> 1\u001b[0m \u001b[43mDotProductAttention\u001b[49m\u001b[43m(\u001b[49m\u001b[43mq_with_batch\u001b[49m\u001b[43m,\u001b[49m\u001b[43m \u001b[49m\u001b[43mk_with_batch\u001b[49m\u001b[43m,\u001b[49m\u001b[43m \u001b[49m\u001b[43mv_with_batch\u001b[49m\u001b[43m,\u001b[49m\u001b[43m \u001b[49m\u001b[43mm_bool\u001b[49m\u001b[43m)\u001b[49m\n",
      "Cell \u001b[0;32mIn[17], line 22\u001b[0m, in \u001b[0;36mDotProductAttention\u001b[0;34m(query, key, value, mask)\u001b[0m\n\u001b[1;32m     19\u001b[0m depth \u001b[38;5;241m=\u001b[39m \u001b[38;5;28;01mNone\u001b[39;00m\n\u001b[1;32m     21\u001b[0m \u001b[38;5;66;03m# Calculate scaled query key dot product according to formula above\u001b[39;00m\n\u001b[0;32m---> 22\u001b[0m dots \u001b[38;5;241m=\u001b[39m jnp\u001b[38;5;241m.\u001b[39mmatmul(\u001b[38;5;28;01mNone\u001b[39;00m, \u001b[43mjnp\u001b[49m\u001b[38;5;241;43m.\u001b[39;49m\u001b[43mswapaxes\u001b[49m\u001b[43m(\u001b[49m\u001b[38;5;28;43;01mNone\u001b[39;49;00m\u001b[43m,\u001b[49m\u001b[43m \u001b[49m\u001b[38;5;28;43;01mNone\u001b[39;49;00m\u001b[43m,\u001b[49m\u001b[43m \u001b[49m\u001b[38;5;28;43;01mNone\u001b[39;49;00m\u001b[43m)\u001b[49m) \u001b[38;5;241m/\u001b[39m jnp\u001b[38;5;241m.\u001b[39msqrt(\u001b[38;5;28;01mNone\u001b[39;00m)\n\u001b[1;32m     24\u001b[0m \u001b[38;5;66;03m# Apply the mask\u001b[39;00m\n\u001b[1;32m     25\u001b[0m \u001b[38;5;28;01mif\u001b[39;00m mask \u001b[38;5;129;01mis\u001b[39;00m \u001b[38;5;129;01mnot\u001b[39;00m \u001b[38;5;28;01mNone\u001b[39;00m: \u001b[38;5;66;03m# The 'None' in this line does not need to be replaced\u001b[39;00m\n",
      "    \u001b[0;31m[... skipping hidden 15 frame]\u001b[0m\n",
      "File \u001b[0;32m~/work/notes/notes-nlp/.venv/lib/python3.10/site-packages/jax/_src/numpy/lax_numpy.py:2610\u001b[0m, in \u001b[0;36mswapaxes\u001b[0;34m(a, axis1, axis2)\u001b[0m\n\u001b[1;32m   2568\u001b[0m \u001b[38;5;129m@export\u001b[39m\n\u001b[1;32m   2569\u001b[0m \u001b[38;5;129m@partial\u001b[39m(jit, static_argnames\u001b[38;5;241m=\u001b[39m(\u001b[38;5;124m'\u001b[39m\u001b[38;5;124maxis1\u001b[39m\u001b[38;5;124m'\u001b[39m, \u001b[38;5;124m'\u001b[39m\u001b[38;5;124maxis2\u001b[39m\u001b[38;5;124m'\u001b[39m), inline\u001b[38;5;241m=\u001b[39m\u001b[38;5;28;01mTrue\u001b[39;00m)\n\u001b[1;32m   2570\u001b[0m \u001b[38;5;28;01mdef\u001b[39;00m\u001b[38;5;250m \u001b[39m\u001b[38;5;21mswapaxes\u001b[39m(a: ArrayLike, axis1: \u001b[38;5;28mint\u001b[39m, axis2: \u001b[38;5;28mint\u001b[39m) \u001b[38;5;241m-\u001b[39m\u001b[38;5;241m>\u001b[39m Array:\n\u001b[1;32m   2571\u001b[0m \u001b[38;5;250m  \u001b[39m\u001b[38;5;124;03m\"\"\"Swap two axes of an array.\u001b[39;00m\n\u001b[1;32m   2572\u001b[0m \n\u001b[1;32m   2573\u001b[0m \u001b[38;5;124;03m  JAX implementation of :func:`numpy.swapaxes`, implemented in terms of\u001b[39;00m\n\u001b[0;32m   (...)\u001b[0m\n\u001b[1;32m   2608\u001b[0m \u001b[38;5;124;03m    (2, 5, 4, 3)\u001b[39;00m\n\u001b[1;32m   2609\u001b[0m \u001b[38;5;124;03m  \"\"\"\u001b[39;00m\n\u001b[0;32m-> 2610\u001b[0m   \u001b[43mutil\u001b[49m\u001b[38;5;241;43m.\u001b[39;49m\u001b[43mcheck_arraylike\u001b[49m\u001b[43m(\u001b[49m\u001b[38;5;124;43m\"\u001b[39;49m\u001b[38;5;124;43mswapaxes\u001b[39;49m\u001b[38;5;124;43m\"\u001b[39;49m\u001b[43m,\u001b[49m\u001b[43m \u001b[49m\u001b[43ma\u001b[49m\u001b[43m)\u001b[49m\n\u001b[1;32m   2611\u001b[0m   perm \u001b[38;5;241m=\u001b[39m np\u001b[38;5;241m.\u001b[39marange(ndim(a))\n\u001b[1;32m   2612\u001b[0m   perm[axis1], perm[axis2] \u001b[38;5;241m=\u001b[39m perm[axis2], perm[axis1]\n",
      "File \u001b[0;32m~/work/notes/notes-nlp/.venv/lib/python3.10/site-packages/jax/_src/numpy/util.py:147\u001b[0m, in \u001b[0;36mcheck_arraylike\u001b[0;34m(fun_name, emit_warning, stacklevel, *args)\u001b[0m\n\u001b[1;32m    144\u001b[0m   warnings\u001b[38;5;241m.\u001b[39mwarn(msg \u001b[38;5;241m+\u001b[39m \u001b[38;5;124m\"\u001b[39m\u001b[38;5;124m In a future JAX release this will be an error.\u001b[39m\u001b[38;5;124m\"\u001b[39m,\n\u001b[1;32m    145\u001b[0m                 category\u001b[38;5;241m=\u001b[39m\u001b[38;5;167;01mDeprecationWarning\u001b[39;00m, stacklevel\u001b[38;5;241m=\u001b[39mstacklevel)\n\u001b[1;32m    146\u001b[0m \u001b[38;5;28;01melse\u001b[39;00m:\n\u001b[0;32m--> 147\u001b[0m   \u001b[38;5;28;01mraise\u001b[39;00m \u001b[38;5;167;01mTypeError\u001b[39;00m(msg\u001b[38;5;241m.\u001b[39mformat(fun_name, \u001b[38;5;28mtype\u001b[39m(arg), pos))\n",
      "\u001b[0;31mTypeError\u001b[0m: swapaxes requires ndarray or scalar arguments, got <class 'NoneType'> at position 0."
     ]
    }
   ],
   "source": [
    "DotProductAttention(q_with_batch, k_with_batch, v_with_batch, m_bool)"
   ]
  },
  {
   "cell_type": "code",
   "execution_count": 20,
   "id": "df4ec2fd",
   "metadata": {
    "colab": {
     "base_uri": "https://localhost:8080/",
     "height": 442
    },
    "colab_type": "code"
   },
   "outputs": [
    {
     "name": "stdout",
     "output_type": "stream",
     "text": [
      "query matrix (2D tensor) shape: (2, 3)\n",
      "\n",
      "[[1 0 0]\n",
      " [0 1 0]]\n",
      "\n",
      "batch of two (multi-head) collections of query matrices (4D tensor) shape: (2, 2, 2, 3)\n",
      "\n",
      "[[[[1 0 0]\n",
      "   [0 1 0]]\n",
      "\n",
      "  [[1 0 0]\n",
      "   [0 1 0]]]\n",
      "\n",
      "\n",
      " [[[1 0 0]\n",
      "   [0 1 0]]\n",
      "\n",
      "  [[1 0 0]\n",
      "   [0 1 0]]]]\n",
      "\n",
      "one batch of concatenated heads of query matrices (3d tensor) shape: (1, 2, 6)\n",
      "\n",
      "[[[1 0 0 1 0 0]\n",
      "  [0 1 0 0 1 0]]]\n",
      "\n",
      "three batches of concatenated heads of query matrices (3d tensor) shape: (3, 2, 6)\n",
      "\n",
      "[[[1 0 0 1 0 0]\n",
      "  [0 1 0 0 1 0]]\n",
      "\n",
      " [[1 0 0 1 0 0]\n",
      "  [0 1 0 0 1 0]]\n",
      "\n",
      " [[1 0 0 1 0 0]\n",
      "  [0 1 0 0 1 0]]]\n",
      "\n"
     ]
    }
   ],
   "source": [
    "tensor2d = create_tensor(q)\n",
    "display_tensor(tensor2d, 'query matrix (2D tensor)')\n",
    "\n",
    "tensor4d2b = create_tensor([[q, q], [q, q]])\n",
    "display_tensor(tensor4d2b, 'batch of two (multi-head) collections of query matrices (4D tensor)')\n",
    "\n",
    "tensor3dc = create_tensor([jnp.concatenate([q, q], axis = -1)])\n",
    "display_tensor(tensor3dc, 'one batch of concatenated heads of query matrices (3d tensor)')\n",
    "\n",
    "tensor3dc3b = create_tensor([jnp.concatenate([q, q], axis = -1), jnp.concatenate([q, q], axis = -1), jnp.concatenate([q, q], axis = -1)])\n",
    "display_tensor(tensor3dc3b, 'three batches of concatenated heads of query matrices (3d tensor)')"
   ]
  },
  {
   "cell_type": "code",
   "execution_count": 21,
   "id": "c794f919",
   "metadata": {},
   "outputs": [],
   "source": [
    "# UNQ_C2\n",
    "# GRADED FUNCTION: compute_attention_heads_closure\n",
    "def compute_attention_heads_closure(n_heads, d_head):\n",
    "    \"\"\" Function that simulates environment inside CausalAttention function.\n",
    "    Args:\n",
    "        d_head (int):  dimensionality of heads.\n",
    "        n_heads (int): number of attention heads.\n",
    "    Returns:\n",
    "        function: compute_attention_heads function\n",
    "    \"\"\"\n",
    "\n",
    "    def compute_attention_heads(x):\n",
    "        \"\"\" Compute the attention heads.\n",
    "        Args:\n",
    "            x (jax.interpreters.xla.DeviceArray): tensor with shape (batch_size, seqlen, n_heads X d_head).\n",
    "        Returns:\n",
    "            jax.interpreters.xla.DeviceArray: reshaped tensor with shape (batch_size X n_heads, seqlen, d_head).\n",
    "        \"\"\"\n",
    "        ### START CODE HERE (REPLACE INSTANCES OF 'None' with your code) ###\n",
    "        \n",
    "        # Size of the x's batch dimension\n",
    "        batch_size = None\n",
    "        # Length of the sequence\n",
    "        # Should be size of x's first dimension without counting the batch dim\n",
    "        seqlen = None\n",
    "        # Reshape x using jnp.reshape()\n",
    "        # batch_size, seqlen, n_heads*d_head -> batch_size, seqlen, n_heads, d_head\n",
    "        x = None\n",
    "        # Transpose x using jnp.transpose()\n",
    "        # batch_size, seqlen, n_heads, d_head -> batch_size, n_heads, seqlen, d_head\n",
    "        # Note that the values within the tuple are the indexes of the dimensions of x and you must rearrange them\n",
    "        x = jnp.transpose(x, (None, None, None, None))\n",
    "        # Reshape x using jnp.reshape()\n",
    "        # batch_size, n_heads, seqlen, d_head -> batch_size*n_heads, seqlen, d_head\n",
    "        x = None\n",
    "        \n",
    "        ### END CODE HERE ###\n",
    "        \n",
    "        return x\n",
    "    \n",
    "    return compute_attention_heads"
   ]
  },
  {
   "cell_type": "code",
   "execution_count": 22,
   "id": "02ef0e10",
   "metadata": {},
   "outputs": [
    {
     "name": "stdout",
     "output_type": "stream",
     "text": [
      "input tensor shape: (3, 2, 6)\n",
      "\n",
      "[[[1 0 0 1 0 0]\n",
      "  [0 1 0 0 1 0]]\n",
      "\n",
      " [[1 0 0 1 0 0]\n",
      "  [0 1 0 0 1 0]]\n",
      "\n",
      " [[1 0 0 1 0 0]\n",
      "  [0 1 0 0 1 0]]]\n",
      "\n"
     ]
    },
    {
     "ename": "TypeError",
     "evalue": "transpose requires ndarray or scalar arguments, got <class 'NoneType'> at position 0.",
     "output_type": "error",
     "traceback": [
      "\u001b[0;31m---------------------------------------------------------------------------\u001b[0m",
      "\u001b[0;31mTypeError\u001b[0m                                 Traceback (most recent call last)",
      "Cell \u001b[0;32mIn[21], line 2\u001b[0m\n\u001b[1;32m      1\u001b[0m display_tensor(tensor3dc3b, \u001b[38;5;124m\"\u001b[39m\u001b[38;5;124minput tensor\u001b[39m\u001b[38;5;124m\"\u001b[39m)\n\u001b[0;32m----> 2\u001b[0m result_cah \u001b[38;5;241m=\u001b[39m \u001b[43mcompute_attention_heads_closure\u001b[49m\u001b[43m(\u001b[49m\u001b[38;5;241;43m2\u001b[39;49m\u001b[43m,\u001b[49m\u001b[38;5;241;43m3\u001b[39;49m\u001b[43m)\u001b[49m\u001b[43m(\u001b[49m\u001b[43mtensor3dc3b\u001b[49m\u001b[43m)\u001b[49m\n\u001b[1;32m      3\u001b[0m display_tensor(result_cah, \u001b[38;5;124m\"\u001b[39m\u001b[38;5;124moutput tensor\u001b[39m\u001b[38;5;124m\"\u001b[39m)\n",
      "Cell \u001b[0;32mIn[20], line 32\u001b[0m, in \u001b[0;36mcompute_attention_heads_closure.<locals>.compute_attention_heads\u001b[0;34m(x)\u001b[0m\n\u001b[1;32m     28\u001b[0m x \u001b[38;5;241m=\u001b[39m \u001b[38;5;28;01mNone\u001b[39;00m\n\u001b[1;32m     29\u001b[0m \u001b[38;5;66;03m# Transpose x using jnp.transpose()\u001b[39;00m\n\u001b[1;32m     30\u001b[0m \u001b[38;5;66;03m# batch_size, seqlen, n_heads, d_head -> batch_size, n_heads, seqlen, d_head\u001b[39;00m\n\u001b[1;32m     31\u001b[0m \u001b[38;5;66;03m# Note that the values within the tuple are the indexes of the dimensions of x and you must rearrange them\u001b[39;00m\n\u001b[0;32m---> 32\u001b[0m x \u001b[38;5;241m=\u001b[39m \u001b[43mjnp\u001b[49m\u001b[38;5;241;43m.\u001b[39;49m\u001b[43mtranspose\u001b[49m\u001b[43m(\u001b[49m\u001b[43mx\u001b[49m\u001b[43m,\u001b[49m\u001b[43m \u001b[49m\u001b[43m(\u001b[49m\u001b[38;5;28;43;01mNone\u001b[39;49;00m\u001b[43m,\u001b[49m\u001b[43m \u001b[49m\u001b[38;5;28;43;01mNone\u001b[39;49;00m\u001b[43m,\u001b[49m\u001b[43m \u001b[49m\u001b[38;5;28;43;01mNone\u001b[39;49;00m\u001b[43m,\u001b[49m\u001b[43m \u001b[49m\u001b[38;5;28;43;01mNone\u001b[39;49;00m\u001b[43m)\u001b[49m\u001b[43m)\u001b[49m\n\u001b[1;32m     33\u001b[0m \u001b[38;5;66;03m# Reshape x using jnp.reshape()\u001b[39;00m\n\u001b[1;32m     34\u001b[0m \u001b[38;5;66;03m# batch_size, n_heads, seqlen, d_head -> batch_size*n_heads, seqlen, d_head\u001b[39;00m\n\u001b[1;32m     35\u001b[0m x \u001b[38;5;241m=\u001b[39m \u001b[38;5;28;01mNone\u001b[39;00m\n",
      "File \u001b[0;32m~/work/notes/notes-nlp/.venv/lib/python3.10/site-packages/jax/_src/numpy/lax_numpy.py:1328\u001b[0m, in \u001b[0;36mtranspose\u001b[0;34m(a, axes)\u001b[0m\n\u001b[1;32m   1255\u001b[0m \u001b[38;5;129m@export\u001b[39m\n\u001b[1;32m   1256\u001b[0m \u001b[38;5;28;01mdef\u001b[39;00m\u001b[38;5;250m \u001b[39m\u001b[38;5;21mtranspose\u001b[39m(a: ArrayLike, axes: Sequence[\u001b[38;5;28mint\u001b[39m] \u001b[38;5;241m|\u001b[39m \u001b[38;5;28;01mNone\u001b[39;00m \u001b[38;5;241m=\u001b[39m \u001b[38;5;28;01mNone\u001b[39;00m) \u001b[38;5;241m-\u001b[39m\u001b[38;5;241m>\u001b[39m Array:\n\u001b[1;32m   1257\u001b[0m \u001b[38;5;250m  \u001b[39m\u001b[38;5;124;03m\"\"\"Return a transposed version of an N-dimensional array.\u001b[39;00m\n\u001b[1;32m   1258\u001b[0m \n\u001b[1;32m   1259\u001b[0m \u001b[38;5;124;03m  JAX implementation of :func:`numpy.transpose`, implemented in terms of\u001b[39;00m\n\u001b[0;32m   (...)\u001b[0m\n\u001b[1;32m   1326\u001b[0m \u001b[38;5;124;03m           [2, 4]], dtype=int32)\u001b[39;00m\n\u001b[1;32m   1327\u001b[0m \u001b[38;5;124;03m  \"\"\"\u001b[39;00m\n\u001b[0;32m-> 1328\u001b[0m   \u001b[43mutil\u001b[49m\u001b[38;5;241;43m.\u001b[39;49m\u001b[43mcheck_arraylike\u001b[49m\u001b[43m(\u001b[49m\u001b[38;5;124;43m\"\u001b[39;49m\u001b[38;5;124;43mtranspose\u001b[39;49m\u001b[38;5;124;43m\"\u001b[39;49m\u001b[43m,\u001b[49m\u001b[43m \u001b[49m\u001b[43ma\u001b[49m\u001b[43m)\u001b[49m\n\u001b[1;32m   1329\u001b[0m   axes_ \u001b[38;5;241m=\u001b[39m \u001b[38;5;28mlist\u001b[39m(\u001b[38;5;28mrange\u001b[39m(ndim(a))[::\u001b[38;5;241m-\u001b[39m\u001b[38;5;241m1\u001b[39m]) \u001b[38;5;28;01mif\u001b[39;00m axes \u001b[38;5;129;01mis\u001b[39;00m \u001b[38;5;28;01mNone\u001b[39;00m \u001b[38;5;28;01melse\u001b[39;00m axes\n\u001b[1;32m   1330\u001b[0m   axes_ \u001b[38;5;241m=\u001b[39m [_canonicalize_axis(i, ndim(a)) \u001b[38;5;28;01mfor\u001b[39;00m i \u001b[38;5;129;01min\u001b[39;00m axes_]\n",
      "File \u001b[0;32m~/work/notes/notes-nlp/.venv/lib/python3.10/site-packages/jax/_src/numpy/util.py:147\u001b[0m, in \u001b[0;36mcheck_arraylike\u001b[0;34m(fun_name, emit_warning, stacklevel, *args)\u001b[0m\n\u001b[1;32m    144\u001b[0m   warnings\u001b[38;5;241m.\u001b[39mwarn(msg \u001b[38;5;241m+\u001b[39m \u001b[38;5;124m\"\u001b[39m\u001b[38;5;124m In a future JAX release this will be an error.\u001b[39m\u001b[38;5;124m\"\u001b[39m,\n\u001b[1;32m    145\u001b[0m                 category\u001b[38;5;241m=\u001b[39m\u001b[38;5;167;01mDeprecationWarning\u001b[39;00m, stacklevel\u001b[38;5;241m=\u001b[39mstacklevel)\n\u001b[1;32m    146\u001b[0m \u001b[38;5;28;01melse\u001b[39;00m:\n\u001b[0;32m--> 147\u001b[0m   \u001b[38;5;28;01mraise\u001b[39;00m \u001b[38;5;167;01mTypeError\u001b[39;00m(msg\u001b[38;5;241m.\u001b[39mformat(fun_name, \u001b[38;5;28mtype\u001b[39m(arg), pos))\n",
      "\u001b[0;31mTypeError\u001b[0m: transpose requires ndarray or scalar arguments, got <class 'NoneType'> at position 0."
     ]
    }
   ],
   "source": [
    "display_tensor(tensor3dc3b, \"input tensor\")\n",
    "result_cah = compute_attention_heads_closure(2,3)(tensor3dc3b)\n",
    "display_tensor(result_cah, \"output tensor\")"
   ]
  },
  {
   "cell_type": "code",
   "execution_count": 23,
   "id": "0202ad77",
   "metadata": {},
   "outputs": [],
   "source": [
    "# UNQ_C3\n",
    "# GRADED FUNCTION: dot_product_self_attention\n",
    "def dot_product_self_attention(q, k, v):\n",
    "    \"\"\" Masked dot product self attention.\n",
    "    Args:\n",
    "        q (jax.interpreters.xla.DeviceArray): queries.\n",
    "        k (jax.interpreters.xla.DeviceArray): keys.\n",
    "        v (jax.interpreters.xla.DeviceArray): values.\n",
    "    Returns:\n",
    "        jax.interpreters.xla.DeviceArray: masked dot product self attention tensor.\n",
    "    \"\"\"\n",
    "    ### START CODE HERE (REPLACE INSTANCES OF 'None' with your code) ###\n",
    "    \n",
    "    # Hint: mask size should be equal to L_q. Remember that q has shape (batch_size, L_q, d)\n",
    "    # NOTE: there is a revision underway with the autograder to tolerate better indexing. \n",
    "    # Until then, please index q.shape using negative values (this is equivalent to counting from right to left)\n",
    "    mask_size = None\n",
    "\n",
    "    # Creates a matrix with ones below the diagonal and 0s above. It should have shape (1, mask_size, mask_size)\n",
    "    # Notice that 1's and 0's get casted to True/False by setting dtype to jnp.bool_\n",
    "    # Use jnp.tril() - Lower triangle of an array and jnp.ones()\n",
    "    mask = jnp.tril(jnp.ones((None, None, None), dtype=jnp.bool_), k=0)\n",
    "    \n",
    "    ### END CODE HERE ###\n",
    "    \n",
    "    return DotProductAttention(q, k, v, mask)"
   ]
  },
  {
   "cell_type": "code",
   "execution_count": 24,
   "id": "3d112ba2",
   "metadata": {},
   "outputs": [
    {
     "ename": "TypeError",
     "evalue": "Shapes must be 1D sequences of concrete values of integer type, got (None, None, None).",
     "output_type": "error",
     "traceback": [
      "\u001b[0;31m---------------------------------------------------------------------------\u001b[0m",
      "\u001b[0;31mTypeError\u001b[0m                                 Traceback (most recent call last)",
      "Cell \u001b[0;32mIn[23], line 1\u001b[0m\n\u001b[0;32m----> 1\u001b[0m \u001b[43mdot_product_self_attention\u001b[49m\u001b[43m(\u001b[49m\u001b[43mq_with_batch\u001b[49m\u001b[43m,\u001b[49m\u001b[43m \u001b[49m\u001b[43mk_with_batch\u001b[49m\u001b[43m,\u001b[49m\u001b[43m \u001b[49m\u001b[43mv_with_batch\u001b[49m\u001b[43m)\u001b[49m\n",
      "Cell \u001b[0;32mIn[22], line 22\u001b[0m, in \u001b[0;36mdot_product_self_attention\u001b[0;34m(q, k, v)\u001b[0m\n\u001b[1;32m     17\u001b[0m mask_size \u001b[38;5;241m=\u001b[39m \u001b[38;5;28;01mNone\u001b[39;00m\n\u001b[1;32m     19\u001b[0m \u001b[38;5;66;03m# Creates a matrix with ones below the diagonal and 0s above. It should have shape (1, mask_size, mask_size)\u001b[39;00m\n\u001b[1;32m     20\u001b[0m \u001b[38;5;66;03m# Notice that 1's and 0's get casted to True/False by setting dtype to jnp.bool_\u001b[39;00m\n\u001b[1;32m     21\u001b[0m \u001b[38;5;66;03m# Use jnp.tril() - Lower triangle of an array and jnp.ones()\u001b[39;00m\n\u001b[0;32m---> 22\u001b[0m mask \u001b[38;5;241m=\u001b[39m jnp\u001b[38;5;241m.\u001b[39mtril(\u001b[43mjnp\u001b[49m\u001b[38;5;241;43m.\u001b[39;49m\u001b[43mones\u001b[49m\u001b[43m(\u001b[49m\u001b[43m(\u001b[49m\u001b[38;5;28;43;01mNone\u001b[39;49;00m\u001b[43m,\u001b[49m\u001b[43m \u001b[49m\u001b[38;5;28;43;01mNone\u001b[39;49;00m\u001b[43m,\u001b[49m\u001b[43m \u001b[49m\u001b[38;5;28;43;01mNone\u001b[39;49;00m\u001b[43m)\u001b[49m\u001b[43m,\u001b[49m\u001b[43m \u001b[49m\u001b[43mdtype\u001b[49m\u001b[38;5;241;43m=\u001b[39;49m\u001b[43mjnp\u001b[49m\u001b[38;5;241;43m.\u001b[39;49m\u001b[43mbool_\u001b[49m\u001b[43m)\u001b[49m, k\u001b[38;5;241m=\u001b[39m\u001b[38;5;241m0\u001b[39m)\n\u001b[1;32m     24\u001b[0m \u001b[38;5;66;03m### END CODE HERE ###\u001b[39;00m\n\u001b[1;32m     26\u001b[0m \u001b[38;5;28;01mreturn\u001b[39;00m DotProductAttention(q, k, v, mask)\n",
      "File \u001b[0;32m~/work/notes/notes-nlp/.venv/lib/python3.10/site-packages/jax/_src/numpy/lax_numpy.py:6183\u001b[0m, in \u001b[0;36mones\u001b[0;34m(shape, dtype, device)\u001b[0m\n\u001b[1;32m   6181\u001b[0m   \u001b[38;5;28;01mraise\u001b[39;00m \u001b[38;5;167;01mTypeError\u001b[39;00m(\u001b[38;5;124m\"\u001b[39m\u001b[38;5;124mexpected sequence object with len >= 0 or a single integer\u001b[39m\u001b[38;5;124m\"\u001b[39m)\n\u001b[1;32m   6182\u001b[0m \u001b[38;5;28;01mif\u001b[39;00m (m \u001b[38;5;241m:=\u001b[39m _check_forgot_shape_tuple(\u001b[38;5;124m\"\u001b[39m\u001b[38;5;124mones\u001b[39m\u001b[38;5;124m\"\u001b[39m, shape, dtype)): \u001b[38;5;28;01mraise\u001b[39;00m \u001b[38;5;167;01mTypeError\u001b[39;00m(m)\n\u001b[0;32m-> 6183\u001b[0m shape \u001b[38;5;241m=\u001b[39m \u001b[43mcanonicalize_shape\u001b[49m\u001b[43m(\u001b[49m\u001b[43mshape\u001b[49m\u001b[43m)\u001b[49m\n\u001b[1;32m   6184\u001b[0m dtypes\u001b[38;5;241m.\u001b[39mcheck_user_dtype_supported(dtype, \u001b[38;5;124m\"\u001b[39m\u001b[38;5;124mones\u001b[39m\u001b[38;5;124m\"\u001b[39m)\n\u001b[1;32m   6185\u001b[0m \u001b[38;5;28;01mreturn\u001b[39;00m lax\u001b[38;5;241m.\u001b[39mfull(shape, \u001b[38;5;241m1\u001b[39m, _jnp_dtype(dtype), sharding\u001b[38;5;241m=\u001b[39m_normalize_to_sharding(device))\n",
      "File \u001b[0;32m~/work/notes/notes-nlp/.venv/lib/python3.10/site-packages/jax/_src/numpy/lax_numpy.py:102\u001b[0m, in \u001b[0;36mcanonicalize_shape\u001b[0;34m(shape, context)\u001b[0m\n\u001b[1;32m    100\u001b[0m   \u001b[38;5;28;01mreturn\u001b[39;00m core\u001b[38;5;241m.\u001b[39mcanonicalize_shape((shape,), context)\n\u001b[1;32m    101\u001b[0m \u001b[38;5;28;01melse\u001b[39;00m:\n\u001b[0;32m--> 102\u001b[0m   \u001b[38;5;28;01mreturn\u001b[39;00m \u001b[43mcore\u001b[49m\u001b[38;5;241;43m.\u001b[39;49m\u001b[43mcanonicalize_shape\u001b[49m\u001b[43m(\u001b[49m\u001b[43mshape\u001b[49m\u001b[43m,\u001b[49m\u001b[43m \u001b[49m\u001b[43mcontext\u001b[49m\u001b[43m)\u001b[49m\n",
      "File \u001b[0;32m~/work/notes/notes-nlp/.venv/lib/python3.10/site-packages/jax/_src/core.py:1643\u001b[0m, in \u001b[0;36mcanonicalize_shape\u001b[0;34m(shape, context)\u001b[0m\n\u001b[1;32m   1641\u001b[0m \u001b[38;5;28;01mexcept\u001b[39;00m \u001b[38;5;167;01mTypeError\u001b[39;00m:\n\u001b[1;32m   1642\u001b[0m   \u001b[38;5;28;01mpass\u001b[39;00m\n\u001b[0;32m-> 1643\u001b[0m \u001b[38;5;28;01mraise\u001b[39;00m _invalid_shape_error(shape, context)\n",
      "\u001b[0;31mTypeError\u001b[0m: Shapes must be 1D sequences of concrete values of integer type, got (None, None, None)."
     ]
    }
   ],
   "source": [
    "dot_product_self_attention(q_with_batch, k_with_batch, v_with_batch)"
   ]
  },
  {
   "cell_type": "code",
   "execution_count": 25,
   "id": "3397ed64",
   "metadata": {},
   "outputs": [],
   "source": [
    "# UNQ_C4\n",
    "# GRADED FUNCTION: compute_attention_output_closure\n",
    "def compute_attention_output_closure(n_heads, d_head):\n",
    "    \"\"\" Function that simulates environment inside CausalAttention function.\n",
    "    Args:\n",
    "        d_head (int):  dimensionality of heads.\n",
    "        n_heads (int): number of attention heads.\n",
    "    Returns:\n",
    "        function: compute_attention_output function\n",
    "    \"\"\"\n",
    "    \n",
    "    def compute_attention_output(x):\n",
    "        \"\"\" Compute the attention output.\n",
    "        Args:\n",
    "            x (jax.interpreters.xla.DeviceArray): tensor with shape (batch_size X n_heads, seqlen, d_head).\n",
    "        Returns:\n",
    "            jax.interpreters.xla.DeviceArray: reshaped tensor with shape (batch_size, seqlen, n_heads X d_head).\n",
    "        \"\"\"\n",
    "        ### START CODE HERE (REPLACE INSTANCES OF 'None' with your code) ###\n",
    "        \n",
    "        # Length of the sequence\n",
    "        # Should be size of x's first dimension without counting the batch dim\n",
    "        seqlen = None\n",
    "        # Reshape x using jnp.reshape() to shape (batch_size, n_heads, seqlen, d_head)\n",
    "        x = None\n",
    "        # Transpose x using jnp.transpose() to shape (batch_size, seqlen, n_heads, d_head)\n",
    "        x = None\n",
    "        \n",
    "        ### END CODE HERE ###\n",
    "        \n",
    "        # Reshape to allow to concatenate the heads\n",
    "        return jnp.reshape(x, (-1, seqlen, n_heads * d_head))\n",
    "    \n",
    "    return compute_attention_output"
   ]
  },
  {
   "cell_type": "code",
   "execution_count": 26,
   "id": "8055ec26",
   "metadata": {},
   "outputs": [
    {
     "ename": "NameError",
     "evalue": "name 'result_cah' is not defined",
     "output_type": "error",
     "traceback": [
      "\u001b[0;31m---------------------------------------------------------------------------\u001b[0m",
      "\u001b[0;31mNameError\u001b[0m                                 Traceback (most recent call last)",
      "Cell \u001b[0;32mIn[25], line 1\u001b[0m\n\u001b[0;32m----> 1\u001b[0m display_tensor(\u001b[43mresult_cah\u001b[49m, \u001b[38;5;124m\"\u001b[39m\u001b[38;5;124minput tensor\u001b[39m\u001b[38;5;124m\"\u001b[39m)\n\u001b[1;32m      2\u001b[0m result_cao \u001b[38;5;241m=\u001b[39m compute_attention_output_closure(\u001b[38;5;241m2\u001b[39m,\u001b[38;5;241m3\u001b[39m)(result_cah)\n\u001b[1;32m      3\u001b[0m display_tensor(result_cao, \u001b[38;5;124m\"\u001b[39m\u001b[38;5;124moutput tensor\u001b[39m\u001b[38;5;124m\"\u001b[39m)\n",
      "\u001b[0;31mNameError\u001b[0m: name 'result_cah' is not defined"
     ]
    }
   ],
   "source": [
    "display_tensor(result_cah, \"input tensor\")\n",
    "result_cao = compute_attention_output_closure(2,3)(result_cah)\n",
    "display_tensor(result_cao, \"output tensor\")"
   ]
  },
  {
   "cell_type": "code",
   "execution_count": 27,
   "id": "8e2f157f",
   "metadata": {
    "colab": {},
    "colab_type": "code"
   },
   "outputs": [],
   "source": [
    "# UNQ_C5\n",
    "# GRADED FUNCTION: CausalAttention\n",
    "def CausalAttention(d_feature, \n",
    "                    n_heads, \n",
    "                    compute_attention_heads_closure=compute_attention_heads_closure,\n",
    "                    dot_product_self_attention=dot_product_self_attention,\n",
    "                    compute_attention_output_closure=compute_attention_output_closure,\n",
    "                    mode='train'):\n",
    "    \"\"\"Transformer-style multi-headed causal attention.\n",
    "\n",
    "    Args:\n",
    "        d_feature (int):  dimensionality of feature embedding.\n",
    "        n_heads (int): number of attention heads.\n",
    "        compute_attention_heads_closure (function): Closure around compute_attention heads.\n",
    "        dot_product_self_attention (function): dot_product_self_attention function. \n",
    "        compute_attention_output_closure (function): Closure around compute_attention_output. \n",
    "        mode (str): 'train' or 'eval'.\n",
    "\n",
    "    Returns:\n",
    "        trax.layers.combinators.Serial: Multi-headed self-attention model.\n",
    "    \"\"\"\n",
    "    \n",
    "    assert d_feature % n_heads == 0\n",
    "    d_head = d_feature // n_heads\n",
    "\n",
    "    ### START CODE HERE (REPLACE INSTANCES OF 'None' with your code) ###\n",
    "    \n",
    "    # HINT: The second argument to tl.Fn() is an uncalled function (without the parentheses)\n",
    "    # Since you are dealing with closures you might need to call the outer \n",
    "    # function with the correct parameters to get the actual uncalled function.\n",
    "    ComputeAttentionHeads = tl.Fn('AttnHeads', None, n_out=1)\n",
    "        \n",
    "\n",
    "    return tl.Serial(\n",
    "        tl.Branch( # creates three towers for one input, takes activations and creates queries keys and values\n",
    "            [None, None], # queries\n",
    "            [None, None], # keys\n",
    "            [None, None], # values\n",
    "        ),\n",
    "        \n",
    "        tl.Fn('DotProductAttn', None, n_out=1), # takes QKV\n",
    "        # HINT: The second argument to tl.Fn() is an uncalled function\n",
    "        # Since you are dealing with closures you might need to call the outer \n",
    "        # function with the correct parameters to get the actual uncalled function.\n",
    "        tl.Fn('AttnOutput', None, n_out=1), # to allow for parallel\n",
    "        None # Final dense layer\n",
    "    )\n",
    "\n",
    "    ### END CODE HERE ###"
   ]
  },
  {
   "cell_type": "code",
   "execution_count": 28,
   "id": "44126b88",
   "metadata": {},
   "outputs": [
    {
     "ename": "TypeError",
     "evalue": "unsupported callable",
     "output_type": "error",
     "traceback": [
      "\u001b[0;31m---------------------------------------------------------------------------\u001b[0m",
      "\u001b[0;31mTypeError\u001b[0m                                 Traceback (most recent call last)",
      "File \u001b[0;32m/usr/lib/python3.10/inspect.py:1277\u001b[0m, in \u001b[0;36mgetfullargspec\u001b[0;34m(func)\u001b[0m\n\u001b[1;32m   1260\u001b[0m \u001b[38;5;28;01mtry\u001b[39;00m:\n\u001b[1;32m   1261\u001b[0m     \u001b[38;5;66;03m# Re: `skip_bound_arg=False`\u001b[39;00m\n\u001b[1;32m   1262\u001b[0m     \u001b[38;5;66;03m#\u001b[39;00m\n\u001b[0;32m   (...)\u001b[0m\n\u001b[1;32m   1274\u001b[0m     \u001b[38;5;66;03m# getfullargspec() historically ignored __wrapped__ attributes,\u001b[39;00m\n\u001b[1;32m   1275\u001b[0m     \u001b[38;5;66;03m# so we ensure that remains the case in 3.3+\u001b[39;00m\n\u001b[0;32m-> 1277\u001b[0m     sig \u001b[38;5;241m=\u001b[39m \u001b[43m_signature_from_callable\u001b[49m\u001b[43m(\u001b[49m\u001b[43mfunc\u001b[49m\u001b[43m,\u001b[49m\n\u001b[1;32m   1278\u001b[0m \u001b[43m                                   \u001b[49m\u001b[43mfollow_wrapper_chains\u001b[49m\u001b[38;5;241;43m=\u001b[39;49m\u001b[38;5;28;43;01mFalse\u001b[39;49;00m\u001b[43m,\u001b[49m\n\u001b[1;32m   1279\u001b[0m \u001b[43m                                   \u001b[49m\u001b[43mskip_bound_arg\u001b[49m\u001b[38;5;241;43m=\u001b[39;49m\u001b[38;5;28;43;01mFalse\u001b[39;49;00m\u001b[43m,\u001b[49m\n\u001b[1;32m   1280\u001b[0m \u001b[43m                                   \u001b[49m\u001b[43msigcls\u001b[49m\u001b[38;5;241;43m=\u001b[39;49m\u001b[43mSignature\u001b[49m\u001b[43m,\u001b[49m\n\u001b[1;32m   1281\u001b[0m \u001b[43m                                   \u001b[49m\u001b[43meval_str\u001b[49m\u001b[38;5;241;43m=\u001b[39;49m\u001b[38;5;28;43;01mFalse\u001b[39;49;00m\u001b[43m)\u001b[49m\n\u001b[1;32m   1282\u001b[0m \u001b[38;5;28;01mexcept\u001b[39;00m \u001b[38;5;167;01mException\u001b[39;00m \u001b[38;5;28;01mas\u001b[39;00m ex:\n\u001b[1;32m   1283\u001b[0m     \u001b[38;5;66;03m# Most of the times 'signature' will raise ValueError.\u001b[39;00m\n\u001b[1;32m   1284\u001b[0m     \u001b[38;5;66;03m# But, it can also raise AttributeError, and, maybe something\u001b[39;00m\n\u001b[1;32m   1285\u001b[0m     \u001b[38;5;66;03m# else. So to be fully backwards compatible, we catch all\u001b[39;00m\n\u001b[1;32m   1286\u001b[0m     \u001b[38;5;66;03m# possible exceptions here, and reraise a TypeError.\u001b[39;00m\n",
      "File \u001b[0;32m/usr/lib/python3.10/inspect.py:2396\u001b[0m, in \u001b[0;36m_signature_from_callable\u001b[0;34m(obj, follow_wrapper_chains, skip_bound_arg, globals, locals, eval_str, sigcls)\u001b[0m\n\u001b[1;32m   2395\u001b[0m \u001b[38;5;28;01mif\u001b[39;00m \u001b[38;5;129;01mnot\u001b[39;00m \u001b[38;5;28mcallable\u001b[39m(obj):\n\u001b[0;32m-> 2396\u001b[0m     \u001b[38;5;28;01mraise\u001b[39;00m \u001b[38;5;167;01mTypeError\u001b[39;00m(\u001b[38;5;124m'\u001b[39m\u001b[38;5;132;01m{!r}\u001b[39;00m\u001b[38;5;124m is not a callable object\u001b[39m\u001b[38;5;124m'\u001b[39m\u001b[38;5;241m.\u001b[39mformat(obj))\n\u001b[1;32m   2398\u001b[0m \u001b[38;5;28;01mif\u001b[39;00m \u001b[38;5;28misinstance\u001b[39m(obj, types\u001b[38;5;241m.\u001b[39mMethodType):\n\u001b[1;32m   2399\u001b[0m     \u001b[38;5;66;03m# In this case we skip the first parameter of the underlying\u001b[39;00m\n\u001b[1;32m   2400\u001b[0m     \u001b[38;5;66;03m# function (usually `self` or `cls`).\u001b[39;00m\n",
      "\u001b[0;31mTypeError\u001b[0m: None is not a callable object",
      "\nThe above exception was the direct cause of the following exception:\n",
      "\u001b[0;31mTypeError\u001b[0m                                 Traceback (most recent call last)",
      "Cell \u001b[0;32mIn[27], line 2\u001b[0m\n\u001b[1;32m      1\u001b[0m \u001b[38;5;66;03m# Take a look at the causal attention model\u001b[39;00m\n\u001b[0;32m----> 2\u001b[0m \u001b[38;5;28mprint\u001b[39m(\u001b[43mCausalAttention\u001b[49m\u001b[43m(\u001b[49m\u001b[43md_feature\u001b[49m\u001b[38;5;241;43m=\u001b[39;49m\u001b[38;5;241;43m512\u001b[39;49m\u001b[43m,\u001b[49m\u001b[43m \u001b[49m\u001b[43mn_heads\u001b[49m\u001b[38;5;241;43m=\u001b[39;49m\u001b[38;5;241;43m8\u001b[39;49m\u001b[43m)\u001b[49m)\n",
      "Cell \u001b[0;32mIn[26], line 31\u001b[0m, in \u001b[0;36mCausalAttention\u001b[0;34m(d_feature, n_heads, compute_attention_heads_closure, dot_product_self_attention, compute_attention_output_closure, mode)\u001b[0m\n\u001b[1;32m     24\u001b[0m d_head \u001b[38;5;241m=\u001b[39m d_feature \u001b[38;5;241m/\u001b[39m\u001b[38;5;241m/\u001b[39m n_heads\n\u001b[1;32m     26\u001b[0m \u001b[38;5;66;03m### START CODE HERE (REPLACE INSTANCES OF 'None' with your code) ###\u001b[39;00m\n\u001b[1;32m     27\u001b[0m \n\u001b[1;32m     28\u001b[0m \u001b[38;5;66;03m# HINT: The second argument to tl.Fn() is an uncalled function (without the parentheses)\u001b[39;00m\n\u001b[1;32m     29\u001b[0m \u001b[38;5;66;03m# Since you are dealing with closures you might need to call the outer \u001b[39;00m\n\u001b[1;32m     30\u001b[0m \u001b[38;5;66;03m# function with the correct parameters to get the actual uncalled function.\u001b[39;00m\n\u001b[0;32m---> 31\u001b[0m ComputeAttentionHeads \u001b[38;5;241m=\u001b[39m \u001b[43mtl\u001b[49m\u001b[38;5;241;43m.\u001b[39;49m\u001b[43mFn\u001b[49m\u001b[43m(\u001b[49m\u001b[38;5;124;43m'\u001b[39;49m\u001b[38;5;124;43mAttnHeads\u001b[39;49m\u001b[38;5;124;43m'\u001b[39;49m\u001b[43m,\u001b[49m\u001b[43m \u001b[49m\u001b[38;5;28;43;01mNone\u001b[39;49;00m\u001b[43m,\u001b[49m\u001b[43m \u001b[49m\u001b[43mn_out\u001b[49m\u001b[38;5;241;43m=\u001b[39;49m\u001b[38;5;241;43m1\u001b[39;49m\u001b[43m)\u001b[49m\n\u001b[1;32m     34\u001b[0m \u001b[38;5;28;01mreturn\u001b[39;00m tl\u001b[38;5;241m.\u001b[39mSerial(\n\u001b[1;32m     35\u001b[0m     tl\u001b[38;5;241m.\u001b[39mBranch( \u001b[38;5;66;03m# creates three towers for one input, takes activations and creates queries keys and values\u001b[39;00m\n\u001b[1;32m     36\u001b[0m         [\u001b[38;5;28;01mNone\u001b[39;00m, \u001b[38;5;28;01mNone\u001b[39;00m], \u001b[38;5;66;03m# queries\u001b[39;00m\n\u001b[0;32m   (...)\u001b[0m\n\u001b[1;32m     46\u001b[0m     \u001b[38;5;28;01mNone\u001b[39;00m \u001b[38;5;66;03m# Final dense layer\u001b[39;00m\n\u001b[1;32m     47\u001b[0m )\n",
      "File \u001b[0;32m~/work/notes/notes-nlp/.venv/lib/python3.10/site-packages/trax/layers/base.py:773\u001b[0m, in \u001b[0;36mFn\u001b[0;34m(name, f, n_out)\u001b[0m\n\u001b[1;32m    748\u001b[0m \u001b[38;5;28;01mdef\u001b[39;00m\u001b[38;5;250m \u001b[39m\u001b[38;5;21mFn\u001b[39m(name, f, n_out\u001b[38;5;241m=\u001b[39m\u001b[38;5;241m1\u001b[39m):  \u001b[38;5;66;03m# pylint: disable=invalid-name\u001b[39;00m\n\u001b[1;32m    749\u001b[0m \u001b[38;5;250m  \u001b[39m\u001b[38;5;124;03m\"\"\"Returns a layer with no weights that applies the function `f`.\u001b[39;00m\n\u001b[1;32m    750\u001b[0m \n\u001b[1;32m    751\u001b[0m \u001b[38;5;124;03m  `f` can take and return any number of arguments, and takes only positional\u001b[39;00m\n\u001b[0;32m   (...)\u001b[0m\n\u001b[1;32m    771\u001b[0m \u001b[38;5;124;03m    Layer executing the function `f`.\u001b[39;00m\n\u001b[1;32m    772\u001b[0m \u001b[38;5;124;03m  \"\"\"\u001b[39;00m\n\u001b[0;32m--> 773\u001b[0m   argspec \u001b[38;5;241m=\u001b[39m \u001b[43minspect\u001b[49m\u001b[38;5;241;43m.\u001b[39;49m\u001b[43mgetfullargspec\u001b[49m\u001b[43m(\u001b[49m\u001b[43mf\u001b[49m\u001b[43m)\u001b[49m\n\u001b[1;32m    774\u001b[0m   \u001b[38;5;28;01mif\u001b[39;00m argspec\u001b[38;5;241m.\u001b[39mdefaults \u001b[38;5;129;01mis\u001b[39;00m \u001b[38;5;129;01mnot\u001b[39;00m \u001b[38;5;28;01mNone\u001b[39;00m:\n\u001b[1;32m    775\u001b[0m     \u001b[38;5;28;01mraise\u001b[39;00m \u001b[38;5;167;01mValueError\u001b[39;00m(\u001b[38;5;124m'\u001b[39m\u001b[38;5;124mFunction has default arguments (not allowed).\u001b[39m\u001b[38;5;124m'\u001b[39m)\n",
      "File \u001b[0;32m/usr/lib/python3.10/inspect.py:1287\u001b[0m, in \u001b[0;36mgetfullargspec\u001b[0;34m(func)\u001b[0m\n\u001b[1;32m   1277\u001b[0m     sig \u001b[38;5;241m=\u001b[39m _signature_from_callable(func,\n\u001b[1;32m   1278\u001b[0m                                    follow_wrapper_chains\u001b[38;5;241m=\u001b[39m\u001b[38;5;28;01mFalse\u001b[39;00m,\n\u001b[1;32m   1279\u001b[0m                                    skip_bound_arg\u001b[38;5;241m=\u001b[39m\u001b[38;5;28;01mFalse\u001b[39;00m,\n\u001b[1;32m   1280\u001b[0m                                    sigcls\u001b[38;5;241m=\u001b[39mSignature,\n\u001b[1;32m   1281\u001b[0m                                    eval_str\u001b[38;5;241m=\u001b[39m\u001b[38;5;28;01mFalse\u001b[39;00m)\n\u001b[1;32m   1282\u001b[0m \u001b[38;5;28;01mexcept\u001b[39;00m \u001b[38;5;167;01mException\u001b[39;00m \u001b[38;5;28;01mas\u001b[39;00m ex:\n\u001b[1;32m   1283\u001b[0m     \u001b[38;5;66;03m# Most of the times 'signature' will raise ValueError.\u001b[39;00m\n\u001b[1;32m   1284\u001b[0m     \u001b[38;5;66;03m# But, it can also raise AttributeError, and, maybe something\u001b[39;00m\n\u001b[1;32m   1285\u001b[0m     \u001b[38;5;66;03m# else. So to be fully backwards compatible, we catch all\u001b[39;00m\n\u001b[1;32m   1286\u001b[0m     \u001b[38;5;66;03m# possible exceptions here, and reraise a TypeError.\u001b[39;00m\n\u001b[0;32m-> 1287\u001b[0m     \u001b[38;5;28;01mraise\u001b[39;00m \u001b[38;5;167;01mTypeError\u001b[39;00m(\u001b[38;5;124m'\u001b[39m\u001b[38;5;124munsupported callable\u001b[39m\u001b[38;5;124m'\u001b[39m) \u001b[38;5;28;01mfrom\u001b[39;00m\u001b[38;5;250m \u001b[39m\u001b[38;5;21;01mex\u001b[39;00m\n\u001b[1;32m   1289\u001b[0m args \u001b[38;5;241m=\u001b[39m []\n\u001b[1;32m   1290\u001b[0m varargs \u001b[38;5;241m=\u001b[39m \u001b[38;5;28;01mNone\u001b[39;00m\n",
      "\u001b[0;31mTypeError\u001b[0m: unsupported callable"
     ]
    }
   ],
   "source": [
    "# Take a look at the causal attention model\n",
    "print(CausalAttention(d_feature=512, n_heads=8))"
   ]
  },
  {
   "cell_type": "code",
   "execution_count": 29,
   "id": "aeea4633",
   "metadata": {
    "colab": {},
    "colab_type": "code"
   },
   "outputs": [],
   "source": [
    "# UNQ_C6\n",
    "# GRADED FUNCTION: DecoderBlock\n",
    "def DecoderBlock(d_model, d_ff, n_heads,\n",
    "                 dropout, mode, ff_activation):\n",
    "    \"\"\"Returns a list of layers that implements a Transformer decoder block.\n",
    "\n",
    "    The input is an activation tensor.\n",
    "\n",
    "    Args:\n",
    "        d_model (int):  depth of embedding.\n",
    "        d_ff (int): depth of feed-forward layer.\n",
    "        n_heads (int): number of attention heads.\n",
    "        dropout (float): dropout rate (how much to drop out).\n",
    "        mode (str): 'train' or 'eval'.\n",
    "        ff_activation (function): the non-linearity in feed-forward layer.\n",
    "\n",
    "    Returns:\n",
    "        list: list of trax.layers.combinators.Serial that maps an activation tensor to an activation tensor.\n",
    "    \"\"\"\n",
    "    \n",
    "    ### START CODE HERE (REPLACE INSTANCES OF 'None' with your code) ###\n",
    "    \n",
    "    # Create masked multi-head attention block using CausalAttention function\n",
    "    causal_attention = CausalAttention( \n",
    "                        None,\n",
    "                        n_heads=None,\n",
    "                        mode=None\n",
    "                        )\n",
    "\n",
    "    # Create feed-forward block (list) with two dense layers with dropout and input normalized\n",
    "    feed_forward = [ \n",
    "        # Normalize layer inputs\n",
    "        None,\n",
    "        # Add first feed forward (dense) layer (don't forget to set the correct value for n_units)\n",
    "        None,\n",
    "        # Add activation function passed in as a parameter (you need to call it!)\n",
    "        None, # Generally ReLU\n",
    "        # Add dropout with rate and mode specified (i.e., don't use dropout during evaluation)\n",
    "        None,\n",
    "        # Add second feed forward layer (don't forget to set the correct value for n_units)\n",
    "        None,\n",
    "        # Add dropout with rate and mode specified (i.e., don't use dropout during evaluation)\n",
    "        None\n",
    "    ]\n",
    "\n",
    "    # Add list of two Residual blocks: the attention with normalization and dropout and feed-forward blocks\n",
    "    return [\n",
    "      tl.Residual(\n",
    "          # Normalize layer input\n",
    "          None,\n",
    "          # Add causal attention block previously defined (without parentheses)\n",
    "          None,\n",
    "          # Add dropout with rate and mode specified\n",
    "          None\n",
    "        ),\n",
    "      tl.Residual(\n",
    "          # Add feed forward block (without parentheses)\n",
    "          None\n",
    "        ),\n",
    "      ]\n",
    "    ### END CODE HERE ###"
   ]
  },
  {
   "cell_type": "code",
   "execution_count": 30,
   "id": "500449f8",
   "metadata": {},
   "outputs": [
    {
     "ename": "TypeError",
     "evalue": "unsupported operand type(s) for %: 'NoneType' and 'NoneType'",
     "output_type": "error",
     "traceback": [
      "\u001b[0;31m---------------------------------------------------------------------------\u001b[0m",
      "\u001b[0;31mTypeError\u001b[0m                                 Traceback (most recent call last)",
      "Cell \u001b[0;32mIn[29], line 2\u001b[0m\n\u001b[1;32m      1\u001b[0m \u001b[38;5;66;03m# Take a look at the decoder block\u001b[39;00m\n\u001b[0;32m----> 2\u001b[0m \u001b[38;5;28mprint\u001b[39m(\u001b[43mDecoderBlock\u001b[49m\u001b[43m(\u001b[49m\u001b[43md_model\u001b[49m\u001b[38;5;241;43m=\u001b[39;49m\u001b[38;5;241;43m512\u001b[39;49m\u001b[43m,\u001b[49m\u001b[43m \u001b[49m\u001b[43md_ff\u001b[49m\u001b[38;5;241;43m=\u001b[39;49m\u001b[38;5;241;43m2048\u001b[39;49m\u001b[43m,\u001b[49m\u001b[43m \u001b[49m\u001b[43mn_heads\u001b[49m\u001b[38;5;241;43m=\u001b[39;49m\u001b[38;5;241;43m8\u001b[39;49m\u001b[43m,\u001b[49m\u001b[43m \u001b[49m\u001b[43mdropout\u001b[49m\u001b[38;5;241;43m=\u001b[39;49m\u001b[38;5;241;43m0.1\u001b[39;49m\u001b[43m,\u001b[49m\u001b[43m \u001b[49m\u001b[43mmode\u001b[49m\u001b[38;5;241;43m=\u001b[39;49m\u001b[38;5;124;43m'\u001b[39;49m\u001b[38;5;124;43mtrain\u001b[39;49m\u001b[38;5;124;43m'\u001b[39;49m\u001b[43m,\u001b[49m\u001b[43m \u001b[49m\u001b[43mff_activation\u001b[49m\u001b[38;5;241;43m=\u001b[39;49m\u001b[43mtl\u001b[49m\u001b[38;5;241;43m.\u001b[39;49m\u001b[43mRelu\u001b[49m\u001b[43m)\u001b[49m)\n",
      "Cell \u001b[0;32mIn[28], line 24\u001b[0m, in \u001b[0;36mDecoderBlock\u001b[0;34m(d_model, d_ff, n_heads, dropout, mode, ff_activation)\u001b[0m\n\u001b[1;32m      5\u001b[0m \u001b[38;5;250m\u001b[39m\u001b[38;5;124;03m\"\"\"Returns a list of layers that implements a Transformer decoder block.\u001b[39;00m\n\u001b[1;32m      6\u001b[0m \n\u001b[1;32m      7\u001b[0m \u001b[38;5;124;03mThe input is an activation tensor.\u001b[39;00m\n\u001b[0;32m   (...)\u001b[0m\n\u001b[1;32m     18\u001b[0m \u001b[38;5;124;03m    list: list of trax.layers.combinators.Serial that maps an activation tensor to an activation tensor.\u001b[39;00m\n\u001b[1;32m     19\u001b[0m \u001b[38;5;124;03m\"\"\"\u001b[39;00m\n\u001b[1;32m     21\u001b[0m \u001b[38;5;66;03m### START CODE HERE (REPLACE INSTANCES OF 'None' with your code) ###\u001b[39;00m\n\u001b[1;32m     22\u001b[0m \n\u001b[1;32m     23\u001b[0m \u001b[38;5;66;03m# Create masked multi-head attention block using CausalAttention function\u001b[39;00m\n\u001b[0;32m---> 24\u001b[0m causal_attention \u001b[38;5;241m=\u001b[39m \u001b[43mCausalAttention\u001b[49m\u001b[43m(\u001b[49m\u001b[43m \u001b[49m\n\u001b[1;32m     25\u001b[0m \u001b[43m                    \u001b[49m\u001b[38;5;28;43;01mNone\u001b[39;49;00m\u001b[43m,\u001b[49m\n\u001b[1;32m     26\u001b[0m \u001b[43m                    \u001b[49m\u001b[43mn_heads\u001b[49m\u001b[38;5;241;43m=\u001b[39;49m\u001b[38;5;28;43;01mNone\u001b[39;49;00m\u001b[43m,\u001b[49m\n\u001b[1;32m     27\u001b[0m \u001b[43m                    \u001b[49m\u001b[43mmode\u001b[49m\u001b[38;5;241;43m=\u001b[39;49m\u001b[38;5;28;43;01mNone\u001b[39;49;00m\n\u001b[1;32m     28\u001b[0m \u001b[43m                    \u001b[49m\u001b[43m)\u001b[49m\n\u001b[1;32m     30\u001b[0m \u001b[38;5;66;03m# Create feed-forward block (list) with two dense layers with dropout and input normalized\u001b[39;00m\n\u001b[1;32m     31\u001b[0m feed_forward \u001b[38;5;241m=\u001b[39m [ \n\u001b[1;32m     32\u001b[0m     \u001b[38;5;66;03m# Normalize layer inputs\u001b[39;00m\n\u001b[1;32m     33\u001b[0m     \u001b[38;5;28;01mNone\u001b[39;00m,\n\u001b[0;32m   (...)\u001b[0m\n\u001b[1;32m     43\u001b[0m     \u001b[38;5;28;01mNone\u001b[39;00m\n\u001b[1;32m     44\u001b[0m ]\n",
      "Cell \u001b[0;32mIn[26], line 23\u001b[0m, in \u001b[0;36mCausalAttention\u001b[0;34m(d_feature, n_heads, compute_attention_heads_closure, dot_product_self_attention, compute_attention_output_closure, mode)\u001b[0m\n\u001b[1;32m      3\u001b[0m \u001b[38;5;28;01mdef\u001b[39;00m\u001b[38;5;250m \u001b[39m\u001b[38;5;21mCausalAttention\u001b[39m(d_feature, \n\u001b[1;32m      4\u001b[0m                     n_heads, \n\u001b[1;32m      5\u001b[0m                     compute_attention_heads_closure\u001b[38;5;241m=\u001b[39mcompute_attention_heads_closure,\n\u001b[1;32m      6\u001b[0m                     dot_product_self_attention\u001b[38;5;241m=\u001b[39mdot_product_self_attention,\n\u001b[1;32m      7\u001b[0m                     compute_attention_output_closure\u001b[38;5;241m=\u001b[39mcompute_attention_output_closure,\n\u001b[1;32m      8\u001b[0m                     mode\u001b[38;5;241m=\u001b[39m\u001b[38;5;124m'\u001b[39m\u001b[38;5;124mtrain\u001b[39m\u001b[38;5;124m'\u001b[39m):\n\u001b[1;32m      9\u001b[0m \u001b[38;5;250m    \u001b[39m\u001b[38;5;124;03m\"\"\"Transformer-style multi-headed causal attention.\u001b[39;00m\n\u001b[1;32m     10\u001b[0m \n\u001b[1;32m     11\u001b[0m \u001b[38;5;124;03m    Args:\u001b[39;00m\n\u001b[0;32m   (...)\u001b[0m\n\u001b[1;32m     20\u001b[0m \u001b[38;5;124;03m        trax.layers.combinators.Serial: Multi-headed self-attention model.\u001b[39;00m\n\u001b[1;32m     21\u001b[0m \u001b[38;5;124;03m    \"\"\"\u001b[39;00m\n\u001b[0;32m---> 23\u001b[0m     \u001b[38;5;28;01massert\u001b[39;00m \u001b[43md_feature\u001b[49m\u001b[43m \u001b[49m\u001b[38;5;241;43m%\u001b[39;49m\u001b[43m \u001b[49m\u001b[43mn_heads\u001b[49m \u001b[38;5;241m==\u001b[39m \u001b[38;5;241m0\u001b[39m\n\u001b[1;32m     24\u001b[0m     d_head \u001b[38;5;241m=\u001b[39m d_feature \u001b[38;5;241m/\u001b[39m\u001b[38;5;241m/\u001b[39m n_heads\n\u001b[1;32m     26\u001b[0m     \u001b[38;5;66;03m### START CODE HERE (REPLACE INSTANCES OF 'None' with your code) ###\u001b[39;00m\n\u001b[1;32m     27\u001b[0m     \n\u001b[1;32m     28\u001b[0m     \u001b[38;5;66;03m# HINT: The second argument to tl.Fn() is an uncalled function (without the parentheses)\u001b[39;00m\n\u001b[1;32m     29\u001b[0m     \u001b[38;5;66;03m# Since you are dealing with closures you might need to call the outer \u001b[39;00m\n\u001b[1;32m     30\u001b[0m     \u001b[38;5;66;03m# function with the correct parameters to get the actual uncalled function.\u001b[39;00m\n",
      "\u001b[0;31mTypeError\u001b[0m: unsupported operand type(s) for %: 'NoneType' and 'NoneType'"
     ]
    }
   ],
   "source": [
    "# Take a look at the decoder block\n",
    "print(DecoderBlock(d_model=512, d_ff=2048, n_heads=8, dropout=0.1, mode='train', ff_activation=tl.Relu))"
   ]
  },
  {
   "cell_type": "code",
   "execution_count": 31,
   "id": "0432484e",
   "metadata": {
    "colab": {},
    "colab_type": "code"
   },
   "outputs": [],
   "source": [
    "# UNQ_C7\n",
    "# GRADED FUNCTION: TransformerLM\n",
    "def TransformerLM(vocab_size=33300,\n",
    "                  d_model=512,\n",
    "                  d_ff=2048,\n",
    "                  n_layers=6,\n",
    "                  n_heads=8,\n",
    "                  dropout=0.1,\n",
    "                  max_len=4096,\n",
    "                  mode='train',\n",
    "                  ff_activation=tl.Relu):\n",
    "    \"\"\"Returns a Transformer language model.\n",
    "\n",
    "    The input to the model is a tensor of tokens. (This model uses only the\n",
    "    decoder part of the overall Transformer.)\n",
    "\n",
    "    Args:\n",
    "        vocab_size (int): vocab size.\n",
    "        d_model (int):  depth of embedding.\n",
    "        d_ff (int): depth of feed-forward layer.\n",
    "        n_layers (int): number of decoder layers.\n",
    "        n_heads (int): number of attention heads.\n",
    "        dropout (float): dropout rate (how much to drop out).\n",
    "        max_len (int): maximum symbol length for positional encoding.\n",
    "        mode (str): 'train', 'eval' or 'predict', predict mode is for fast inference.\n",
    "        ff_activation (function): the non-linearity in feed-forward layer.\n",
    "\n",
    "    Returns:\n",
    "        trax.layers.combinators.Serial: A Transformer language model as a layer that maps from a tensor of tokens\n",
    "        to activations over a vocab set.\n",
    "    \"\"\"\n",
    "    \n",
    "    ### START CODE HERE (REPLACE INSTANCES OF 'None' with your code) ###\n",
    "    \n",
    "    # Embedding inputs and positional encoder\n",
    "    positional_encoder = [ \n",
    "        # Add embedding layer of dimension (vocab_size, d_model)\n",
    "        None,\n",
    "        # Use dropout with rate and mode specified\n",
    "        None,\n",
    "        # Add positional encoding layer with maximum input length and mode specified\n",
    "        None]\n",
    "\n",
    "    # Create stack (list) of decoder blocks with n_layers with necessary parameters\n",
    "    decoder_blocks = [ \n",
    "        None for _ in range(None)]\n",
    "\n",
    "    # Create the complete model as written in the figure\n",
    "    return tl.Serial(\n",
    "        # Use teacher forcing (feed output of previous step to current step)\n",
    "        None, # Specify the mode!\n",
    "        # Add positional encoder\n",
    "        None,\n",
    "        # Add decoder blocks\n",
    "        None,\n",
    "        # Normalize layer\n",
    "        None,\n",
    "\n",
    "        # Add dense layer of vocab_size (since need to select a word to translate to)\n",
    "        # (a.k.a., logits layer. Note: activation already set by ff_activation)\n",
    "        None,\n",
    "        # Get probabilities with Logsoftmax\n",
    "        None\n",
    "    )\n",
    "\n",
    "    ### END CODE HERE ###"
   ]
  },
  {
   "cell_type": "code",
   "execution_count": 32,
   "id": "063fa8f4",
   "metadata": {},
   "outputs": [
    {
     "ename": "TypeError",
     "evalue": "'NoneType' object cannot be interpreted as an integer",
     "output_type": "error",
     "traceback": [
      "\u001b[0;31m---------------------------------------------------------------------------\u001b[0m",
      "\u001b[0;31mTypeError\u001b[0m                                 Traceback (most recent call last)",
      "Cell \u001b[0;32mIn[31], line 2\u001b[0m\n\u001b[1;32m      1\u001b[0m \u001b[38;5;66;03m# Take a look at the Transformer\u001b[39;00m\n\u001b[0;32m----> 2\u001b[0m \u001b[38;5;28mprint\u001b[39m(\u001b[43mTransformerLM\u001b[49m\u001b[43m(\u001b[49m\u001b[43mn_layers\u001b[49m\u001b[38;5;241;43m=\u001b[39;49m\u001b[38;5;241;43m1\u001b[39;49m\u001b[43m)\u001b[49m)\n",
      "Cell \u001b[0;32mIn[30], line 46\u001b[0m, in \u001b[0;36mTransformerLM\u001b[0;34m(vocab_size, d_model, d_ff, n_layers, n_heads, dropout, max_len, mode, ff_activation)\u001b[0m\n\u001b[1;32m     36\u001b[0m positional_encoder \u001b[38;5;241m=\u001b[39m [ \n\u001b[1;32m     37\u001b[0m     \u001b[38;5;66;03m# Add embedding layer of dimension (vocab_size, d_model)\u001b[39;00m\n\u001b[1;32m     38\u001b[0m     \u001b[38;5;28;01mNone\u001b[39;00m,\n\u001b[0;32m   (...)\u001b[0m\n\u001b[1;32m     41\u001b[0m     \u001b[38;5;66;03m# Add positional encoding layer with maximum input length and mode specified\u001b[39;00m\n\u001b[1;32m     42\u001b[0m     \u001b[38;5;28;01mNone\u001b[39;00m]\n\u001b[1;32m     44\u001b[0m \u001b[38;5;66;03m# Create stack (list) of decoder blocks with n_layers with necessary parameters\u001b[39;00m\n\u001b[1;32m     45\u001b[0m decoder_blocks \u001b[38;5;241m=\u001b[39m [ \n\u001b[0;32m---> 46\u001b[0m     \u001b[38;5;28;01mNone\u001b[39;00m \u001b[38;5;28;01mfor\u001b[39;00m _ \u001b[38;5;129;01min\u001b[39;00m \u001b[38;5;28;43mrange\u001b[39;49m\u001b[43m(\u001b[49m\u001b[38;5;28;43;01mNone\u001b[39;49;00m\u001b[43m)\u001b[49m]\n\u001b[1;32m     48\u001b[0m \u001b[38;5;66;03m# Create the complete model as written in the figure\u001b[39;00m\n\u001b[1;32m     49\u001b[0m \u001b[38;5;28;01mreturn\u001b[39;00m tl\u001b[38;5;241m.\u001b[39mSerial(\n\u001b[1;32m     50\u001b[0m     \u001b[38;5;66;03m# Use teacher forcing (feed output of previous step to current step)\u001b[39;00m\n\u001b[1;32m     51\u001b[0m     \u001b[38;5;28;01mNone\u001b[39;00m, \u001b[38;5;66;03m# Specify the mode!\u001b[39;00m\n\u001b[0;32m   (...)\u001b[0m\n\u001b[1;32m     63\u001b[0m     \u001b[38;5;28;01mNone\u001b[39;00m\n\u001b[1;32m     64\u001b[0m )\n",
      "\u001b[0;31mTypeError\u001b[0m: 'NoneType' object cannot be interpreted as an integer"
     ]
    }
   ],
   "source": [
    "# Take a look at the Transformer\n",
    "print(TransformerLM(n_layers=1))"
   ]
  },
  {
   "cell_type": "code",
   "execution_count": 33,
   "id": "a39af205",
   "metadata": {
    "colab": {},
    "colab_type": "code"
   },
   "outputs": [],
   "source": [
    "from trax.supervised import training\n",
    "\n",
    "# UNQ_C8\n",
    "# GRADED FUNCTION: train_model\n",
    "def training_loop(TransformerLM, train_gen, eval_gen, output_dir = \"~/model\"):\n",
    "    '''\n",
    "    Input:\n",
    "        TransformerLM (trax.layers.combinators.Serial): The model you are building.\n",
    "        train_gen (generator): Training stream of data.\n",
    "        eval_gen (generator): Evaluation stream of data.\n",
    "        output_dir (str): folder to save your file.\n",
    "        \n",
    "    Returns:\n",
    "        trax.supervised.training.Loop: Training loop.\n",
    "    '''\n",
    "    output_dir = os.path.expanduser(output_dir)  # trainer is an object\n",
    "    lr_schedule = trax.lr.warmup_and_rsqrt_decay(n_warmup_steps=1000, max_value=0.01)\n",
    "\n",
    "    ### START CODE HERE (REPLACE INSTANCES OF 'None' with your code) ###\n",
    "    train_task = training.TrainTask( \n",
    "      labeled_data=None, # The training generator\n",
    "      loss_layer=None, # Loss function \n",
    "      optimizer=None, # Optimizer (Don't forget to set LR to 0.01)\n",
    "      lr_schedule=None,\n",
    "      n_steps_per_checkpoint=10\n",
    "    )\n",
    "\n",
    "    eval_task = training.EvalTask( \n",
    "      labeled_data=None, # The evaluation generator\n",
    "      metrics=[None, None] # CrossEntropyLoss and Accuracy\n",
    "    )\n",
    "\n",
    "    ### END CODE HERE ###\n",
    "\n",
    "    loop = training.Loop(TransformerLM(d_model=4,\n",
    "                                       d_ff=16,\n",
    "                                       n_layers=1,\n",
    "                                       n_heads=2,\n",
    "                                       mode='train'),\n",
    "                         train_task,\n",
    "                         eval_tasks=[eval_task],\n",
    "                         output_dir=output_dir)\n",
    "    \n",
    "    return loop"
   ]
  },
  {
   "cell_type": "code",
   "execution_count": 34,
   "id": "6c0f86f9",
   "metadata": {
    "colab": {
     "base_uri": "https://localhost:8080/",
     "height": 187
    },
    "colab_type": "code"
   },
   "outputs": [
    {
     "name": "stderr",
     "output_type": "stream",
     "text": [
      "/usr/lib/python3.10/pty.py:89: RuntimeWarning: os.fork() was called. os.fork() is incompatible with multithreaded code, and JAX is multithreaded, so this will likely lead to a deadlock.\n",
      "  pid, fd = os.forkpty()\n"
     ]
    },
    {
     "ename": "NameError",
     "evalue": "name 'train_batch_stream' is not defined",
     "output_type": "error",
     "traceback": [
      "\u001b[0;31m---------------------------------------------------------------------------\u001b[0m",
      "\u001b[0;31mNameError\u001b[0m                                 Traceback (most recent call last)",
      "Cell \u001b[0;32mIn[33], line 3\u001b[0m\n\u001b[1;32m      1\u001b[0m \u001b[38;5;66;03m# Should take around 1.5 minutes\u001b[39;00m\n\u001b[1;32m      2\u001b[0m get_ipython()\u001b[38;5;241m.\u001b[39msystem(\u001b[38;5;124m'\u001b[39m\u001b[38;5;124mrm -f ~/model/model.pkl.gz\u001b[39m\u001b[38;5;124m'\u001b[39m)\n\u001b[0;32m----> 3\u001b[0m loop \u001b[38;5;241m=\u001b[39m training_loop(TransformerLM, \u001b[43mtrain_batch_stream\u001b[49m, eval_batch_stream)\n\u001b[1;32m      4\u001b[0m loop\u001b[38;5;241m.\u001b[39mrun(\u001b[38;5;241m10\u001b[39m)\n",
      "\u001b[0;31mNameError\u001b[0m: name 'train_batch_stream' is not defined"
     ]
    }
   ],
   "source": [
    "# Should take around 1.5 minutes\n",
    "!rm -f ~/model/model.pkl.gz\n",
    "loop = training_loop(TransformerLM, train_batch_stream, eval_batch_stream)\n",
    "loop.run(10)"
   ]
  },
  {
   "cell_type": "code",
   "execution_count": 35,
   "id": "e1874e86",
   "metadata": {
    "colab": {
     "base_uri": "https://localhost:8080/",
     "height": 85
    },
    "colab_type": "code"
   },
   "outputs": [
    {
     "ename": "TypeError",
     "evalue": "'NoneType' object cannot be interpreted as an integer",
     "output_type": "error",
     "traceback": [
      "\u001b[0;31m---------------------------------------------------------------------------\u001b[0m",
      "\u001b[0;31mTypeError\u001b[0m                                 Traceback (most recent call last)",
      "Cell \u001b[0;32mIn[34], line 2\u001b[0m\n\u001b[1;32m      1\u001b[0m \u001b[38;5;66;03m# Get the model architecture\u001b[39;00m\n\u001b[0;32m----> 2\u001b[0m model \u001b[38;5;241m=\u001b[39m \u001b[43mTransformerLM\u001b[49m\u001b[43m(\u001b[49m\u001b[43mmode\u001b[49m\u001b[38;5;241;43m=\u001b[39;49m\u001b[38;5;124;43m'\u001b[39;49m\u001b[38;5;124;43meval\u001b[39;49m\u001b[38;5;124;43m'\u001b[39;49m\u001b[43m)\u001b[49m\n\u001b[1;32m      4\u001b[0m \u001b[38;5;66;03m# Load the pre-trained weights\u001b[39;00m\n\u001b[1;32m      5\u001b[0m model\u001b[38;5;241m.\u001b[39minit_from_file(\u001b[38;5;124m'\u001b[39m\u001b[38;5;124mmodel.pkl.gz\u001b[39m\u001b[38;5;124m'\u001b[39m, weights_only\u001b[38;5;241m=\u001b[39m\u001b[38;5;28;01mTrue\u001b[39;00m)\n",
      "Cell \u001b[0;32mIn[30], line 46\u001b[0m, in \u001b[0;36mTransformerLM\u001b[0;34m(vocab_size, d_model, d_ff, n_layers, n_heads, dropout, max_len, mode, ff_activation)\u001b[0m\n\u001b[1;32m     36\u001b[0m positional_encoder \u001b[38;5;241m=\u001b[39m [ \n\u001b[1;32m     37\u001b[0m     \u001b[38;5;66;03m# Add embedding layer of dimension (vocab_size, d_model)\u001b[39;00m\n\u001b[1;32m     38\u001b[0m     \u001b[38;5;28;01mNone\u001b[39;00m,\n\u001b[0;32m   (...)\u001b[0m\n\u001b[1;32m     41\u001b[0m     \u001b[38;5;66;03m# Add positional encoding layer with maximum input length and mode specified\u001b[39;00m\n\u001b[1;32m     42\u001b[0m     \u001b[38;5;28;01mNone\u001b[39;00m]\n\u001b[1;32m     44\u001b[0m \u001b[38;5;66;03m# Create stack (list) of decoder blocks with n_layers with necessary parameters\u001b[39;00m\n\u001b[1;32m     45\u001b[0m decoder_blocks \u001b[38;5;241m=\u001b[39m [ \n\u001b[0;32m---> 46\u001b[0m     \u001b[38;5;28;01mNone\u001b[39;00m \u001b[38;5;28;01mfor\u001b[39;00m _ \u001b[38;5;129;01min\u001b[39;00m \u001b[38;5;28;43mrange\u001b[39;49m\u001b[43m(\u001b[49m\u001b[38;5;28;43;01mNone\u001b[39;49;00m\u001b[43m)\u001b[49m]\n\u001b[1;32m     48\u001b[0m \u001b[38;5;66;03m# Create the complete model as written in the figure\u001b[39;00m\n\u001b[1;32m     49\u001b[0m \u001b[38;5;28;01mreturn\u001b[39;00m tl\u001b[38;5;241m.\u001b[39mSerial(\n\u001b[1;32m     50\u001b[0m     \u001b[38;5;66;03m# Use teacher forcing (feed output of previous step to current step)\u001b[39;00m\n\u001b[1;32m     51\u001b[0m     \u001b[38;5;28;01mNone\u001b[39;00m, \u001b[38;5;66;03m# Specify the mode!\u001b[39;00m\n\u001b[0;32m   (...)\u001b[0m\n\u001b[1;32m     63\u001b[0m     \u001b[38;5;28;01mNone\u001b[39;00m\n\u001b[1;32m     64\u001b[0m )\n",
      "\u001b[0;31mTypeError\u001b[0m: 'NoneType' object cannot be interpreted as an integer"
     ]
    }
   ],
   "source": [
    "# Get the model architecture\n",
    "model = TransformerLM(mode='eval')\n",
    "\n",
    "# Load the pre-trained weights\n",
    "model.init_from_file('model.pkl.gz', weights_only=True)"
   ]
  },
  {
   "cell_type": "code",
   "execution_count": 36,
   "id": "fb0dec4d",
   "metadata": {
    "colab": {},
    "colab_type": "code"
   },
   "outputs": [],
   "source": [
    "# UNQ_C9\n",
    "def next_symbol(cur_output_tokens, model):\n",
    "    \"\"\"Returns the next symbol for a given sentence.\n",
    "\n",
    "    Args:\n",
    "        cur_output_tokens (list): tokenized sentence with EOS and PAD tokens at the end.\n",
    "        model (trax.layers.combinators.Serial): The transformer model.\n",
    "\n",
    "    Returns:\n",
    "        int: tokenized symbol.\n",
    "    \"\"\"\n",
    "    ### START CODE HERE (REPLACE INSTANCES OF 'None' with your code) ###\n",
    "    \n",
    "    # current output tokens length\n",
    "    token_length = None\n",
    "    # calculate the minimum power of 2 big enough to store token_length\n",
    "    # HINT: use np.ceil() and np.log2()\n",
    "    # add 1 to token_length so np.log2() doesn't receive 0 when token_length is 0\n",
    "    padded_length = None**int(np.ceil(np.log2(None + None)))\n",
    "\n",
    "    # Fill cur_output_tokens with 0's until it reaches padded_length\n",
    "    padded = None + [0] * (None - None)\n",
    "    padded_with_batch = np.array(padded)[None, :] # Don't replace this 'None'! This is a way of setting the batch dim\n",
    "\n",
    "    # model expects a tuple containing two padded tensors (with batch)\n",
    "    output, _ = model((None, None)) \n",
    "    # HINT: output has shape (1, padded_length, vocab_size)\n",
    "    # To get log_probs you need to index output with 0 in the first dim\n",
    "    # token_length in the second dim and all of the entries for the last dim.\n",
    "    log_probs = output[None, None, None]\n",
    "    \n",
    "    ### END CODE HERE ###\n",
    "    \n",
    "    return int(np.argmax(log_probs))"
   ]
  },
  {
   "cell_type": "code",
   "execution_count": 37,
   "id": "2e9ba875",
   "metadata": {},
   "outputs": [
    {
     "ename": "NameError",
     "evalue": "name 'model' is not defined",
     "output_type": "error",
     "traceback": [
      "\u001b[0;31m---------------------------------------------------------------------------\u001b[0m",
      "\u001b[0;31mNameError\u001b[0m                                 Traceback (most recent call last)",
      "Cell \u001b[0;32mIn[36], line 3\u001b[0m\n\u001b[1;32m      1\u001b[0m \u001b[38;5;66;03m# Test it out!\u001b[39;00m\n\u001b[1;32m      2\u001b[0m sentence_test_nxt_symbl \u001b[38;5;241m=\u001b[39m \u001b[38;5;124m\"\u001b[39m\u001b[38;5;124mI want to fly in the sky.\u001b[39m\u001b[38;5;124m\"\u001b[39m\n\u001b[0;32m----> 3\u001b[0m detokenize([next_symbol(tokenize(sentence_test_nxt_symbl)\u001b[38;5;241m+\u001b[39m[\u001b[38;5;241m0\u001b[39m], \u001b[43mmodel\u001b[49m)])\n",
      "\u001b[0;31mNameError\u001b[0m: name 'model' is not defined"
     ]
    }
   ],
   "source": [
    "# Test it out!\n",
    "sentence_test_nxt_symbl = \"I want to fly in the sky.\"\n",
    "detokenize([next_symbol(tokenize(sentence_test_nxt_symbl)+[0], model)])"
   ]
  },
  {
   "cell_type": "code",
   "execution_count": 38,
   "id": "d7b35045",
   "metadata": {
    "colab": {},
    "colab_type": "code"
   },
   "outputs": [],
   "source": [
    "# UNQ_C10\n",
    "# Decoding functions.\n",
    "def greedy_decode(input_sentence, model):\n",
    "    \"\"\"Greedy decode function.\n",
    "\n",
    "    Args:\n",
    "        input_sentence (string): a sentence or article.\n",
    "        model (trax.layers.combinators.Serial): Transformer model.\n",
    "\n",
    "    Returns:\n",
    "        string: summary of the input.\n",
    "    \"\"\"\n",
    "    \n",
    "    ### START CODE HERE (REPLACE INSTANCES OF 'None' with your code) ###\n",
    "    # Use tokenize()\n",
    "    cur_output_tokens = None + [0]\n",
    "    generated_output = [] \n",
    "    cur_output = 0 \n",
    "    EOS = 1 \n",
    "    \n",
    "    while cur_output != EOS:\n",
    "        # Get next symbol\n",
    "        cur_output = next_symbol(None, None)\n",
    "        # Append next symbol to original sentence\n",
    "        cur_output_tokens.append(None)\n",
    "        # Append next symbol to generated sentence\n",
    "        generated_output.append(None)\n",
    "        print(detokenize(generated_output))\n",
    "    \n",
    "    ### END CODE HERE ###\n",
    "    \n",
    "    return detokenize(generated_output)"
   ]
  },
  {
   "cell_type": "code",
   "execution_count": 39,
   "id": "1f77886e",
   "metadata": {
    "colab": {
     "base_uri": "https://localhost:8080/",
     "height": 306
    },
    "colab_type": "code"
   },
   "outputs": [
    {
     "name": "stdout",
     "output_type": "stream",
     "text": [
      "It was a sunny day when I went to the market to buy some flowers. But\n",
      "I only found roses, not tulips. \n",
      "\n"
     ]
    },
    {
     "ename": "NameError",
     "evalue": "name 'model' is not defined",
     "output_type": "error",
     "traceback": [
      "\u001b[0;31m---------------------------------------------------------------------------\u001b[0m",
      "\u001b[0;31mNameError\u001b[0m                                 Traceback (most recent call last)",
      "Cell \u001b[0;32mIn[38], line 4\u001b[0m\n\u001b[1;32m      2\u001b[0m test_sentence \u001b[38;5;241m=\u001b[39m \u001b[38;5;124m\"\u001b[39m\u001b[38;5;124mIt was a sunny day when I went to the market to buy some flowers. But I only found roses, not tulips.\u001b[39m\u001b[38;5;124m\"\u001b[39m\n\u001b[1;32m      3\u001b[0m \u001b[38;5;28mprint\u001b[39m(wrapper\u001b[38;5;241m.\u001b[39mfill(test_sentence), \u001b[38;5;124m'\u001b[39m\u001b[38;5;130;01m\\n\u001b[39;00m\u001b[38;5;124m'\u001b[39m)\n\u001b[0;32m----> 4\u001b[0m \u001b[38;5;28mprint\u001b[39m(greedy_decode(test_sentence, \u001b[43mmodel\u001b[49m))\n",
      "\u001b[0;31mNameError\u001b[0m: name 'model' is not defined"
     ]
    }
   ],
   "source": [
    "# Test it out on a sentence!\n",
    "test_sentence = \"It was a sunny day when I went to the market to buy some flowers. But I only found roses, not tulips.\"\n",
    "print(wrapper.fill(test_sentence), '\\n')\n",
    "print(greedy_decode(test_sentence, model))"
   ]
  },
  {
   "cell_type": "code",
   "execution_count": 40,
   "id": "90a9f1db",
   "metadata": {
    "colab": {
     "base_uri": "https://localhost:8080/",
     "height": 1000
    },
    "colab_type": "code"
   },
   "outputs": [
    {
     "name": "stdout",
     "output_type": "stream",
     "text": [
      "It’s the posing craze sweeping the U.S. after being brought to fame by\n",
      "skier Lindsey Vonn, soccer star Omar Cummings, baseball player Albert\n",
      "Pujols - and even Republican politician Rick Perry. But now four\n",
      "students at Riverhead High School on Long Island, New York, have been\n",
      "suspended for dropping to a knee and taking up a prayer pose to mimic\n",
      "Denver Broncos quarterback Tim Tebow. Jordan Fulcoly, Wayne Drexel,\n",
      "Tyler Carroll and Connor Carroll were all suspended for one day\n",
      "because the ‘Tebowing’ craze was blocking the hallway and presenting a\n",
      "safety hazard to students. Scroll down for video. Banned: Jordan\n",
      "Fulcoly, Wayne Drexel, Tyler Carroll and Connor Carroll (all pictured\n",
      "left) were all suspended for one day by Riverhead High School on Long\n",
      "Island, New York, for their tribute to Broncos quarterback Tim Tebow.\n",
      "Issue: Four of the pupils were suspended for one day because they\n",
      "allegedly did not heed to warnings that the 'Tebowing' craze at the\n",
      "school was blocking the hallway and presenting a safety hazard to\n",
      "students. \n",
      "\n"
     ]
    },
    {
     "ename": "NameError",
     "evalue": "name 'model' is not defined",
     "output_type": "error",
     "traceback": [
      "\u001b[0;31m---------------------------------------------------------------------------\u001b[0m",
      "\u001b[0;31mNameError\u001b[0m                                 Traceback (most recent call last)",
      "Cell \u001b[0;32mIn[39], line 4\u001b[0m\n\u001b[1;32m      2\u001b[0m article \u001b[38;5;241m=\u001b[39m \u001b[38;5;124m\"\u001b[39m\u001b[38;5;124mIt’s the posing craze sweeping the U.S. after being brought to fame by skier Lindsey Vonn, soccer star Omar Cummings, baseball player Albert Pujols - and even Republican politician Rick Perry. But now four students at Riverhead High School on Long Island, New York, have been suspended for dropping to a knee and taking up a prayer pose to mimic Denver Broncos quarterback Tim Tebow. Jordan Fulcoly, Wayne Drexel, Tyler Carroll and Connor Carroll were all suspended for one day because the ‘Tebowing’ craze was blocking the hallway and presenting a safety hazard to students. Scroll down for video. Banned: Jordan Fulcoly, Wayne Drexel, Tyler Carroll and Connor Carroll (all pictured left) were all suspended for one day by Riverhead High School on Long Island, New York, for their tribute to Broncos quarterback Tim Tebow. Issue: Four of the pupils were suspended for one day because they allegedly did not heed to warnings that the \u001b[39m\u001b[38;5;124m'\u001b[39m\u001b[38;5;124mTebowing\u001b[39m\u001b[38;5;124m'\u001b[39m\u001b[38;5;124m craze at the school was blocking the hallway and presenting a safety hazard to students.\u001b[39m\u001b[38;5;124m\"\u001b[39m\n\u001b[1;32m      3\u001b[0m \u001b[38;5;28mprint\u001b[39m(wrapper\u001b[38;5;241m.\u001b[39mfill(article), \u001b[38;5;124m'\u001b[39m\u001b[38;5;130;01m\\n\u001b[39;00m\u001b[38;5;124m'\u001b[39m)\n\u001b[0;32m----> 4\u001b[0m \u001b[38;5;28mprint\u001b[39m(greedy_decode(article, \u001b[43mmodel\u001b[49m))\n",
      "\u001b[0;31mNameError\u001b[0m: name 'model' is not defined"
     ]
    }
   ],
   "source": [
    "# Test it out with a whole article!\n",
    "article = \"It’s the posing craze sweeping the U.S. after being brought to fame by skier Lindsey Vonn, soccer star Omar Cummings, baseball player Albert Pujols - and even Republican politician Rick Perry. But now four students at Riverhead High School on Long Island, New York, have been suspended for dropping to a knee and taking up a prayer pose to mimic Denver Broncos quarterback Tim Tebow. Jordan Fulcoly, Wayne Drexel, Tyler Carroll and Connor Carroll were all suspended for one day because the ‘Tebowing’ craze was blocking the hallway and presenting a safety hazard to students. Scroll down for video. Banned: Jordan Fulcoly, Wayne Drexel, Tyler Carroll and Connor Carroll (all pictured left) were all suspended for one day by Riverhead High School on Long Island, New York, for their tribute to Broncos quarterback Tim Tebow. Issue: Four of the pupils were suspended for one day because they allegedly did not heed to warnings that the 'Tebowing' craze at the school was blocking the hallway and presenting a safety hazard to students.\"\n",
    "print(wrapper.fill(article), '\\n')\n",
    "print(greedy_decode(article, model))"
   ]
  }
 ],
 "metadata": {
  "kernelspec": {
   "display_name": "Python 3 (ipykernel)",
   "language": "python",
   "name": "python3",
   "path": "/home/oren/.local/share/jupyter/kernels/python3"
  },
  "language_info": {
   "codemirror_mode": {
    "name": "ipython",
    "version": 3
   },
   "file_extension": ".py",
   "mimetype": "text/x-python",
   "name": "python",
   "nbconvert_exporter": "python",
   "pygments_lexer": "ipython3",
   "version": "3.10.12"
  },
  "widgets": {
   "application/vnd.jupyter.widget-state+json": {
    "state": {
     "03201dd6411549d6af2102500b36ecbb": {
      "model_module": "@jupyter-widgets/controls",
      "model_module_version": "2.0.0",
      "model_name": "FloatProgressModel",
      "state": {
       "_dom_classes": [],
       "_model_module": "@jupyter-widgets/controls",
       "_model_module_version": "2.0.0",
       "_model_name": "FloatProgressModel",
       "_view_count": null,
       "_view_module": "@jupyter-widgets/controls",
       "_view_module_version": "2.0.0",
       "_view_name": "ProgressView",
       "bar_style": "success",
       "description": "",
       "description_allow_html": false,
       "layout": "IPY_MODEL_f7e8002cdbf0426d99660e1bc6e9cc71",
       "max": 1.0,
       "min": 0.0,
       "orientation": "horizontal",
       "style": "IPY_MODEL_dfb1d49edbfc4adfb6a2a83b83afc997",
       "tabbable": null,
       "tooltip": null,
       "value": 1.0
      }
     },
     "0744284963d74d7ba3cd511880beefae": {
      "model_module": "@jupyter-widgets/controls",
      "model_module_version": "2.0.0",
      "model_name": "HBoxModel",
      "state": {
       "_dom_classes": [],
       "_model_module": "@jupyter-widgets/controls",
       "_model_module_version": "2.0.0",
       "_model_name": "HBoxModel",
       "_view_count": null,
       "_view_module": "@jupyter-widgets/controls",
       "_view_module_version": "2.0.0",
       "_view_name": "HBoxView",
       "box_style": "",
       "children": [
        "IPY_MODEL_c46fa04aa7af41de9e14a66e85741fa7",
        "IPY_MODEL_a4a2f9b8a26043dfa57eeb7e17e779fa",
        "IPY_MODEL_772090781e2d4164bd0015b498ff3b91"
       ],
       "layout": "IPY_MODEL_9877d006a2ca4ad5a53ed2872d5e9190",
       "tabbable": null,
       "tooltip": null
      }
     },
     "12d9174c4db74c04a9ddfd57ffa5b4d3": {
      "model_module": "@jupyter-widgets/controls",
      "model_module_version": "2.0.0",
      "model_name": "HTMLStyleModel",
      "state": {
       "_model_module": "@jupyter-widgets/controls",
       "_model_module_version": "2.0.0",
       "_model_name": "HTMLStyleModel",
       "_view_count": null,
       "_view_module": "@jupyter-widgets/base",
       "_view_module_version": "2.0.0",
       "_view_name": "StyleView",
       "background": null,
       "description_width": "",
       "font_size": null,
       "text_color": null
      }
     },
     "15853bfbe1624c52b8a6d3bb4357017c": {
      "model_module": "@jupyter-widgets/controls",
      "model_module_version": "2.0.0",
      "model_name": "HTMLStyleModel",
      "state": {
       "_model_module": "@jupyter-widgets/controls",
       "_model_module_version": "2.0.0",
       "_model_name": "HTMLStyleModel",
       "_view_count": null,
       "_view_module": "@jupyter-widgets/base",
       "_view_module_version": "2.0.0",
       "_view_name": "StyleView",
       "background": null,
       "description_width": "",
       "font_size": null,
       "text_color": null
      }
     },
     "1e1f49ab429642d5b3c1c6ed2372f86d": {
      "model_module": "@jupyter-widgets/base",
      "model_module_version": "2.0.0",
      "model_name": "LayoutModel",
      "state": {
       "_model_module": "@jupyter-widgets/base",
       "_model_module_version": "2.0.0",
       "_model_name": "LayoutModel",
       "_view_count": null,
       "_view_module": "@jupyter-widgets/base",
       "_view_module_version": "2.0.0",
       "_view_name": "LayoutView",
       "align_content": null,
       "align_items": null,
       "align_self": null,
       "border_bottom": null,
       "border_left": null,
       "border_right": null,
       "border_top": null,
       "bottom": null,
       "display": null,
       "flex": null,
       "flex_flow": null,
       "grid_area": null,
       "grid_auto_columns": null,
       "grid_auto_flow": null,
       "grid_auto_rows": null,
       "grid_column": null,
       "grid_gap": null,
       "grid_row": null,
       "grid_template_areas": null,
       "grid_template_columns": null,
       "grid_template_rows": null,
       "height": null,
       "justify_content": null,
       "justify_items": null,
       "left": null,
       "margin": null,
       "max_height": null,
       "max_width": null,
       "min_height": null,
       "min_width": null,
       "object_fit": null,
       "object_position": null,
       "order": null,
       "overflow": null,
       "padding": null,
       "right": null,
       "top": null,
       "visibility": null,
       "width": null
      }
     },
     "3e0ac4c092ac40ec8f65796a33c86800": {
      "model_module": "@jupyter-widgets/controls",
      "model_module_version": "2.0.0",
      "model_name": "HBoxModel",
      "state": {
       "_dom_classes": [],
       "_model_module": "@jupyter-widgets/controls",
       "_model_module_version": "2.0.0",
       "_model_name": "HBoxModel",
       "_view_count": null,
       "_view_module": "@jupyter-widgets/controls",
       "_view_module_version": "2.0.0",
       "_view_name": "HBoxView",
       "box_style": "",
       "children": [
        "IPY_MODEL_bd853bb8eb1041958f57f811f7ccb61a",
        "IPY_MODEL_03201dd6411549d6af2102500b36ecbb",
        "IPY_MODEL_f0e48d8ff48042c9be4f3f502545c723"
       ],
       "layout": "IPY_MODEL_1e1f49ab429642d5b3c1c6ed2372f86d",
       "tabbable": null,
       "tooltip": null
      }
     },
     "424077e84838400ab2a29f943bb997f7": {
      "model_module": "@jupyter-widgets/controls",
      "model_module_version": "2.0.0",
      "model_name": "HTMLModel",
      "state": {
       "_dom_classes": [],
       "_model_module": "@jupyter-widgets/controls",
       "_model_module_version": "2.0.0",
       "_model_name": "HTMLModel",
       "_view_count": null,
       "_view_module": "@jupyter-widgets/controls",
       "_view_module_version": "2.0.0",
       "_view_name": "HTMLView",
       "description": "",
       "description_allow_html": false,
       "layout": "IPY_MODEL_bafe0df4af6a4f729879d0ad8eb63e05",
       "placeholder": "​",
       "style": "IPY_MODEL_5e7926972fcc45298127fe67e8d94ac6",
       "tabbable": null,
       "tooltip": null,
       "value": " 0/0 [00:01&lt;?, ? file/s]"
      }
     },
     "50cd8424d99d4187a1349291c8b0ab93": {
      "model_module": "@jupyter-widgets/base",
      "model_module_version": "2.0.0",
      "model_name": "LayoutModel",
      "state": {
       "_model_module": "@jupyter-widgets/base",
       "_model_module_version": "2.0.0",
       "_model_name": "LayoutModel",
       "_view_count": null,
       "_view_module": "@jupyter-widgets/base",
       "_view_module_version": "2.0.0",
       "_view_name": "LayoutView",
       "align_content": null,
       "align_items": null,
       "align_self": null,
       "border_bottom": null,
       "border_left": null,
       "border_right": null,
       "border_top": null,
       "bottom": null,
       "display": null,
       "flex": null,
       "flex_flow": null,
       "grid_area": null,
       "grid_auto_columns": null,
       "grid_auto_flow": null,
       "grid_auto_rows": null,
       "grid_column": null,
       "grid_gap": null,
       "grid_row": null,
       "grid_template_areas": null,
       "grid_template_columns": null,
       "grid_template_rows": null,
       "height": null,
       "justify_content": null,
       "justify_items": null,
       "left": null,
       "margin": null,
       "max_height": null,
       "max_width": null,
       "min_height": null,
       "min_width": null,
       "object_fit": null,
       "object_position": null,
       "order": null,
       "overflow": null,
       "padding": null,
       "right": null,
       "top": null,
       "visibility": null,
       "width": "20px"
      }
     },
     "583267fccb6d4f6da510df6b099b570e": {
      "model_module": "@jupyter-widgets/base",
      "model_module_version": "2.0.0",
      "model_name": "LayoutModel",
      "state": {
       "_model_module": "@jupyter-widgets/base",
       "_model_module_version": "2.0.0",
       "_model_name": "LayoutModel",
       "_view_count": null,
       "_view_module": "@jupyter-widgets/base",
       "_view_module_version": "2.0.0",
       "_view_name": "LayoutView",
       "align_content": null,
       "align_items": null,
       "align_self": null,
       "border_bottom": null,
       "border_left": null,
       "border_right": null,
       "border_top": null,
       "bottom": null,
       "display": null,
       "flex": null,
       "flex_flow": null,
       "grid_area": null,
       "grid_auto_columns": null,
       "grid_auto_flow": null,
       "grid_auto_rows": null,
       "grid_column": null,
       "grid_gap": null,
       "grid_row": null,
       "grid_template_areas": null,
       "grid_template_columns": null,
       "grid_template_rows": null,
       "height": null,
       "justify_content": null,
       "justify_items": null,
       "left": null,
       "margin": null,
       "max_height": null,
       "max_width": null,
       "min_height": null,
       "min_width": null,
       "object_fit": null,
       "object_position": null,
       "order": null,
       "overflow": null,
       "padding": null,
       "right": null,
       "top": null,
       "visibility": null,
       "width": null
      }
     },
     "5e7926972fcc45298127fe67e8d94ac6": {
      "model_module": "@jupyter-widgets/controls",
      "model_module_version": "2.0.0",
      "model_name": "HTMLStyleModel",
      "state": {
       "_model_module": "@jupyter-widgets/controls",
       "_model_module_version": "2.0.0",
       "_model_name": "HTMLStyleModel",
       "_view_count": null,
       "_view_module": "@jupyter-widgets/base",
       "_view_module_version": "2.0.0",
       "_view_name": "StyleView",
       "background": null,
       "description_width": "",
       "font_size": null,
       "text_color": null
      }
     },
     "677fd4cbb8684f22870f30981df602fa": {
      "model_module": "@jupyter-widgets/base",
      "model_module_version": "2.0.0",
      "model_name": "LayoutModel",
      "state": {
       "_model_module": "@jupyter-widgets/base",
       "_model_module_version": "2.0.0",
       "_model_name": "LayoutModel",
       "_view_count": null,
       "_view_module": "@jupyter-widgets/base",
       "_view_module_version": "2.0.0",
       "_view_name": "LayoutView",
       "align_content": null,
       "align_items": null,
       "align_self": null,
       "border_bottom": null,
       "border_left": null,
       "border_right": null,
       "border_top": null,
       "bottom": null,
       "display": null,
       "flex": null,
       "flex_flow": null,
       "grid_area": null,
       "grid_auto_columns": null,
       "grid_auto_flow": null,
       "grid_auto_rows": null,
       "grid_column": null,
       "grid_gap": null,
       "grid_row": null,
       "grid_template_areas": null,
       "grid_template_columns": null,
       "grid_template_rows": null,
       "height": null,
       "justify_content": null,
       "justify_items": null,
       "left": null,
       "margin": null,
       "max_height": null,
       "max_width": null,
       "min_height": null,
       "min_width": null,
       "object_fit": null,
       "object_position": null,
       "order": null,
       "overflow": null,
       "padding": null,
       "right": null,
       "top": null,
       "visibility": null,
       "width": null
      }
     },
     "6bc697a36db846a59f7e915c220123da": {
      "model_module": "@jupyter-widgets/controls",
      "model_module_version": "2.0.0",
      "model_name": "ProgressStyleModel",
      "state": {
       "_model_module": "@jupyter-widgets/controls",
       "_model_module_version": "2.0.0",
       "_model_name": "ProgressStyleModel",
       "_view_count": null,
       "_view_module": "@jupyter-widgets/base",
       "_view_module_version": "2.0.0",
       "_view_name": "StyleView",
       "bar_color": null,
       "description_width": ""
      }
     },
     "6fc9a39e1c4d44d89338565a46b4d8f8": {
      "model_module": "@jupyter-widgets/controls",
      "model_module_version": "2.0.0",
      "model_name": "HBoxModel",
      "state": {
       "_dom_classes": [],
       "_model_module": "@jupyter-widgets/controls",
       "_model_module_version": "2.0.0",
       "_model_name": "HBoxModel",
       "_view_count": null,
       "_view_module": "@jupyter-widgets/controls",
       "_view_module_version": "2.0.0",
       "_view_name": "HBoxView",
       "box_style": "",
       "children": [
        "IPY_MODEL_84c8b6f9792743d39ae2dfd05bdb070d",
        "IPY_MODEL_8680d3ee72d2474b9051c531d6d50ebb",
        "IPY_MODEL_424077e84838400ab2a29f943bb997f7"
       ],
       "layout": "IPY_MODEL_d6826170892e4c6e886cc8cc50eece9b",
       "tabbable": null,
       "tooltip": null
      }
     },
     "75476aa6753c4ebbad7c6037cc5da250": {
      "model_module": "@jupyter-widgets/base",
      "model_module_version": "2.0.0",
      "model_name": "LayoutModel",
      "state": {
       "_model_module": "@jupyter-widgets/base",
       "_model_module_version": "2.0.0",
       "_model_name": "LayoutModel",
       "_view_count": null,
       "_view_module": "@jupyter-widgets/base",
       "_view_module_version": "2.0.0",
       "_view_name": "LayoutView",
       "align_content": null,
       "align_items": null,
       "align_self": null,
       "border_bottom": null,
       "border_left": null,
       "border_right": null,
       "border_top": null,
       "bottom": null,
       "display": null,
       "flex": null,
       "flex_flow": null,
       "grid_area": null,
       "grid_auto_columns": null,
       "grid_auto_flow": null,
       "grid_auto_rows": null,
       "grid_column": null,
       "grid_gap": null,
       "grid_row": null,
       "grid_template_areas": null,
       "grid_template_columns": null,
       "grid_template_rows": null,
       "height": null,
       "justify_content": null,
       "justify_items": null,
       "left": null,
       "margin": null,
       "max_height": null,
       "max_width": null,
       "min_height": null,
       "min_width": null,
       "object_fit": null,
       "object_position": null,
       "order": null,
       "overflow": null,
       "padding": null,
       "right": null,
       "top": null,
       "visibility": null,
       "width": null
      }
     },
     "772090781e2d4164bd0015b498ff3b91": {
      "model_module": "@jupyter-widgets/controls",
      "model_module_version": "2.0.0",
      "model_name": "HTMLModel",
      "state": {
       "_dom_classes": [],
       "_model_module": "@jupyter-widgets/controls",
       "_model_module_version": "2.0.0",
       "_model_name": "HTMLModel",
       "_view_count": null,
       "_view_module": "@jupyter-widgets/controls",
       "_view_module_version": "2.0.0",
       "_view_name": "HTMLView",
       "description": "",
       "description_allow_html": false,
       "layout": "IPY_MODEL_583267fccb6d4f6da510df6b099b570e",
       "placeholder": "​",
       "style": "IPY_MODEL_d4ae4602a5aa4195be88cccc34e8518f",
       "tabbable": null,
       "tooltip": null,
       "value": " 50967909/50967909 [00:01&lt;00:00, 43337198.85 MiB/s]"
      }
     },
     "7992d657f8204e37ad159bbbd55056fb": {
      "model_module": "@jupyter-widgets/controls",
      "model_module_version": "2.0.0",
      "model_name": "ProgressStyleModel",
      "state": {
       "_model_module": "@jupyter-widgets/controls",
       "_model_module_version": "2.0.0",
       "_model_name": "ProgressStyleModel",
       "_view_count": null,
       "_view_module": "@jupyter-widgets/base",
       "_view_module_version": "2.0.0",
       "_view_name": "StyleView",
       "bar_color": null,
       "description_width": ""
      }
     },
     "84c8b6f9792743d39ae2dfd05bdb070d": {
      "model_module": "@jupyter-widgets/controls",
      "model_module_version": "2.0.0",
      "model_name": "HTMLModel",
      "state": {
       "_dom_classes": [],
       "_model_module": "@jupyter-widgets/controls",
       "_model_module_version": "2.0.0",
       "_model_name": "HTMLModel",
       "_view_count": null,
       "_view_module": "@jupyter-widgets/controls",
       "_view_module_version": "2.0.0",
       "_view_name": "HTMLView",
       "description": "",
       "description_allow_html": false,
       "layout": "IPY_MODEL_677fd4cbb8684f22870f30981df602fa",
       "placeholder": "​",
       "style": "IPY_MODEL_12d9174c4db74c04a9ddfd57ffa5b4d3",
       "tabbable": null,
       "tooltip": null,
       "value": "Extraction completed...: "
      }
     },
     "8680d3ee72d2474b9051c531d6d50ebb": {
      "model_module": "@jupyter-widgets/controls",
      "model_module_version": "2.0.0",
      "model_name": "FloatProgressModel",
      "state": {
       "_dom_classes": [],
       "_model_module": "@jupyter-widgets/controls",
       "_model_module_version": "2.0.0",
       "_model_name": "FloatProgressModel",
       "_view_count": null,
       "_view_module": "@jupyter-widgets/controls",
       "_view_module_version": "2.0.0",
       "_view_name": "ProgressView",
       "bar_style": "success",
       "description": "",
       "description_allow_html": false,
       "layout": "IPY_MODEL_50cd8424d99d4187a1349291c8b0ab93",
       "max": 1.0,
       "min": 0.0,
       "orientation": "horizontal",
       "style": "IPY_MODEL_6bc697a36db846a59f7e915c220123da",
       "tabbable": null,
       "tooltip": null,
       "value": 0.0
      }
     },
     "9877d006a2ca4ad5a53ed2872d5e9190": {
      "model_module": "@jupyter-widgets/base",
      "model_module_version": "2.0.0",
      "model_name": "LayoutModel",
      "state": {
       "_model_module": "@jupyter-widgets/base",
       "_model_module_version": "2.0.0",
       "_model_name": "LayoutModel",
       "_view_count": null,
       "_view_module": "@jupyter-widgets/base",
       "_view_module_version": "2.0.0",
       "_view_name": "LayoutView",
       "align_content": null,
       "align_items": null,
       "align_self": null,
       "border_bottom": null,
       "border_left": null,
       "border_right": null,
       "border_top": null,
       "bottom": null,
       "display": null,
       "flex": null,
       "flex_flow": null,
       "grid_area": null,
       "grid_auto_columns": null,
       "grid_auto_flow": null,
       "grid_auto_rows": null,
       "grid_column": null,
       "grid_gap": null,
       "grid_row": null,
       "grid_template_areas": null,
       "grid_template_columns": null,
       "grid_template_rows": null,
       "height": null,
       "justify_content": null,
       "justify_items": null,
       "left": null,
       "margin": null,
       "max_height": null,
       "max_width": null,
       "min_height": null,
       "min_width": null,
       "object_fit": null,
       "object_position": null,
       "order": null,
       "overflow": null,
       "padding": null,
       "right": null,
       "top": null,
       "visibility": null,
       "width": null
      }
     },
     "9b5ae83545864442a72a3f5d95925acc": {
      "model_module": "@jupyter-widgets/base",
      "model_module_version": "2.0.0",
      "model_name": "LayoutModel",
      "state": {
       "_model_module": "@jupyter-widgets/base",
       "_model_module_version": "2.0.0",
       "_model_name": "LayoutModel",
       "_view_count": null,
       "_view_module": "@jupyter-widgets/base",
       "_view_module_version": "2.0.0",
       "_view_name": "LayoutView",
       "align_content": null,
       "align_items": null,
       "align_self": null,
       "border_bottom": null,
       "border_left": null,
       "border_right": null,
       "border_top": null,
       "bottom": null,
       "display": null,
       "flex": null,
       "flex_flow": null,
       "grid_area": null,
       "grid_auto_columns": null,
       "grid_auto_flow": null,
       "grid_auto_rows": null,
       "grid_column": null,
       "grid_gap": null,
       "grid_row": null,
       "grid_template_areas": null,
       "grid_template_columns": null,
       "grid_template_rows": null,
       "height": null,
       "justify_content": null,
       "justify_items": null,
       "left": null,
       "margin": null,
       "max_height": null,
       "max_width": null,
       "min_height": null,
       "min_width": null,
       "object_fit": null,
       "object_position": null,
       "order": null,
       "overflow": null,
       "padding": null,
       "right": null,
       "top": null,
       "visibility": null,
       "width": null
      }
     },
     "a188e8ee251d4a669cc8be2b4a50a12c": {
      "model_module": "@jupyter-widgets/controls",
      "model_module_version": "2.0.0",
      "model_name": "HTMLStyleModel",
      "state": {
       "_model_module": "@jupyter-widgets/controls",
       "_model_module_version": "2.0.0",
       "_model_name": "HTMLStyleModel",
       "_view_count": null,
       "_view_module": "@jupyter-widgets/base",
       "_view_module_version": "2.0.0",
       "_view_name": "StyleView",
       "background": null,
       "description_width": "",
       "font_size": null,
       "text_color": null
      }
     },
     "a4a2f9b8a26043dfa57eeb7e17e779fa": {
      "model_module": "@jupyter-widgets/controls",
      "model_module_version": "2.0.0",
      "model_name": "FloatProgressModel",
      "state": {
       "_dom_classes": [],
       "_model_module": "@jupyter-widgets/controls",
       "_model_module_version": "2.0.0",
       "_model_name": "FloatProgressModel",
       "_view_count": null,
       "_view_module": "@jupyter-widgets/controls",
       "_view_module_version": "2.0.0",
       "_view_name": "ProgressView",
       "bar_style": "success",
       "description": "",
       "description_allow_html": false,
       "layout": "IPY_MODEL_ad855613cfe646d0ab941c1be35821d9",
       "max": 1.0,
       "min": 0.0,
       "orientation": "horizontal",
       "style": "IPY_MODEL_7992d657f8204e37ad159bbbd55056fb",
       "tabbable": null,
       "tooltip": null,
       "value": 1.0
      }
     },
     "ad855613cfe646d0ab941c1be35821d9": {
      "model_module": "@jupyter-widgets/base",
      "model_module_version": "2.0.0",
      "model_name": "LayoutModel",
      "state": {
       "_model_module": "@jupyter-widgets/base",
       "_model_module_version": "2.0.0",
       "_model_name": "LayoutModel",
       "_view_count": null,
       "_view_module": "@jupyter-widgets/base",
       "_view_module_version": "2.0.0",
       "_view_name": "LayoutView",
       "align_content": null,
       "align_items": null,
       "align_self": null,
       "border_bottom": null,
       "border_left": null,
       "border_right": null,
       "border_top": null,
       "bottom": null,
       "display": null,
       "flex": null,
       "flex_flow": null,
       "grid_area": null,
       "grid_auto_columns": null,
       "grid_auto_flow": null,
       "grid_auto_rows": null,
       "grid_column": null,
       "grid_gap": null,
       "grid_row": null,
       "grid_template_areas": null,
       "grid_template_columns": null,
       "grid_template_rows": null,
       "height": null,
       "justify_content": null,
       "justify_items": null,
       "left": null,
       "margin": null,
       "max_height": null,
       "max_width": null,
       "min_height": null,
       "min_width": null,
       "object_fit": null,
       "object_position": null,
       "order": null,
       "overflow": null,
       "padding": null,
       "right": null,
       "top": null,
       "visibility": null,
       "width": "20px"
      }
     },
     "bafe0df4af6a4f729879d0ad8eb63e05": {
      "model_module": "@jupyter-widgets/base",
      "model_module_version": "2.0.0",
      "model_name": "LayoutModel",
      "state": {
       "_model_module": "@jupyter-widgets/base",
       "_model_module_version": "2.0.0",
       "_model_name": "LayoutModel",
       "_view_count": null,
       "_view_module": "@jupyter-widgets/base",
       "_view_module_version": "2.0.0",
       "_view_name": "LayoutView",
       "align_content": null,
       "align_items": null,
       "align_self": null,
       "border_bottom": null,
       "border_left": null,
       "border_right": null,
       "border_top": null,
       "bottom": null,
       "display": null,
       "flex": null,
       "flex_flow": null,
       "grid_area": null,
       "grid_auto_columns": null,
       "grid_auto_flow": null,
       "grid_auto_rows": null,
       "grid_column": null,
       "grid_gap": null,
       "grid_row": null,
       "grid_template_areas": null,
       "grid_template_columns": null,
       "grid_template_rows": null,
       "height": null,
       "justify_content": null,
       "justify_items": null,
       "left": null,
       "margin": null,
       "max_height": null,
       "max_width": null,
       "min_height": null,
       "min_width": null,
       "object_fit": null,
       "object_position": null,
       "order": null,
       "overflow": null,
       "padding": null,
       "right": null,
       "top": null,
       "visibility": null,
       "width": null
      }
     },
     "bd853bb8eb1041958f57f811f7ccb61a": {
      "model_module": "@jupyter-widgets/controls",
      "model_module_version": "2.0.0",
      "model_name": "HTMLModel",
      "state": {
       "_dom_classes": [],
       "_model_module": "@jupyter-widgets/controls",
       "_model_module_version": "2.0.0",
       "_model_name": "HTMLModel",
       "_view_count": null,
       "_view_module": "@jupyter-widgets/controls",
       "_view_module_version": "2.0.0",
       "_view_name": "HTMLView",
       "description": "",
       "description_allow_html": false,
       "layout": "IPY_MODEL_d85033445370479488d99887d3d49ce2",
       "placeholder": "​",
       "style": "IPY_MODEL_c3456c937bff4537b2eca8edd06d6779",
       "tabbable": null,
       "tooltip": null,
       "value": "Dl Completed...: 100%"
      }
     },
     "c3456c937bff4537b2eca8edd06d6779": {
      "model_module": "@jupyter-widgets/controls",
      "model_module_version": "2.0.0",
      "model_name": "HTMLStyleModel",
      "state": {
       "_model_module": "@jupyter-widgets/controls",
       "_model_module_version": "2.0.0",
       "_model_name": "HTMLStyleModel",
       "_view_count": null,
       "_view_module": "@jupyter-widgets/base",
       "_view_module_version": "2.0.0",
       "_view_name": "StyleView",
       "background": null,
       "description_width": "",
       "font_size": null,
       "text_color": null
      }
     },
     "c46fa04aa7af41de9e14a66e85741fa7": {
      "model_module": "@jupyter-widgets/controls",
      "model_module_version": "2.0.0",
      "model_name": "HTMLModel",
      "state": {
       "_dom_classes": [],
       "_model_module": "@jupyter-widgets/controls",
       "_model_module_version": "2.0.0",
       "_model_name": "HTMLModel",
       "_view_count": null,
       "_view_module": "@jupyter-widgets/controls",
       "_view_module_version": "2.0.0",
       "_view_name": "HTMLView",
       "description": "",
       "description_allow_html": false,
       "layout": "IPY_MODEL_75476aa6753c4ebbad7c6037cc5da250",
       "placeholder": "​",
       "style": "IPY_MODEL_a188e8ee251d4a669cc8be2b4a50a12c",
       "tabbable": null,
       "tooltip": null,
       "value": "Dl Size...: 100%"
      }
     },
     "d4ae4602a5aa4195be88cccc34e8518f": {
      "model_module": "@jupyter-widgets/controls",
      "model_module_version": "2.0.0",
      "model_name": "HTMLStyleModel",
      "state": {
       "_model_module": "@jupyter-widgets/controls",
       "_model_module_version": "2.0.0",
       "_model_name": "HTMLStyleModel",
       "_view_count": null,
       "_view_module": "@jupyter-widgets/base",
       "_view_module_version": "2.0.0",
       "_view_name": "StyleView",
       "background": null,
       "description_width": "",
       "font_size": null,
       "text_color": null
      }
     },
     "d6826170892e4c6e886cc8cc50eece9b": {
      "model_module": "@jupyter-widgets/base",
      "model_module_version": "2.0.0",
      "model_name": "LayoutModel",
      "state": {
       "_model_module": "@jupyter-widgets/base",
       "_model_module_version": "2.0.0",
       "_model_name": "LayoutModel",
       "_view_count": null,
       "_view_module": "@jupyter-widgets/base",
       "_view_module_version": "2.0.0",
       "_view_name": "LayoutView",
       "align_content": null,
       "align_items": null,
       "align_self": null,
       "border_bottom": null,
       "border_left": null,
       "border_right": null,
       "border_top": null,
       "bottom": null,
       "display": null,
       "flex": null,
       "flex_flow": null,
       "grid_area": null,
       "grid_auto_columns": null,
       "grid_auto_flow": null,
       "grid_auto_rows": null,
       "grid_column": null,
       "grid_gap": null,
       "grid_row": null,
       "grid_template_areas": null,
       "grid_template_columns": null,
       "grid_template_rows": null,
       "height": null,
       "justify_content": null,
       "justify_items": null,
       "left": null,
       "margin": null,
       "max_height": null,
       "max_width": null,
       "min_height": null,
       "min_width": null,
       "object_fit": null,
       "object_position": null,
       "order": null,
       "overflow": null,
       "padding": null,
       "right": null,
       "top": null,
       "visibility": null,
       "width": null
      }
     },
     "d85033445370479488d99887d3d49ce2": {
      "model_module": "@jupyter-widgets/base",
      "model_module_version": "2.0.0",
      "model_name": "LayoutModel",
      "state": {
       "_model_module": "@jupyter-widgets/base",
       "_model_module_version": "2.0.0",
       "_model_name": "LayoutModel",
       "_view_count": null,
       "_view_module": "@jupyter-widgets/base",
       "_view_module_version": "2.0.0",
       "_view_name": "LayoutView",
       "align_content": null,
       "align_items": null,
       "align_self": null,
       "border_bottom": null,
       "border_left": null,
       "border_right": null,
       "border_top": null,
       "bottom": null,
       "display": null,
       "flex": null,
       "flex_flow": null,
       "grid_area": null,
       "grid_auto_columns": null,
       "grid_auto_flow": null,
       "grid_auto_rows": null,
       "grid_column": null,
       "grid_gap": null,
       "grid_row": null,
       "grid_template_areas": null,
       "grid_template_columns": null,
       "grid_template_rows": null,
       "height": null,
       "justify_content": null,
       "justify_items": null,
       "left": null,
       "margin": null,
       "max_height": null,
       "max_width": null,
       "min_height": null,
       "min_width": null,
       "object_fit": null,
       "object_position": null,
       "order": null,
       "overflow": null,
       "padding": null,
       "right": null,
       "top": null,
       "visibility": null,
       "width": null
      }
     },
     "dfb1d49edbfc4adfb6a2a83b83afc997": {
      "model_module": "@jupyter-widgets/controls",
      "model_module_version": "2.0.0",
      "model_name": "ProgressStyleModel",
      "state": {
       "_model_module": "@jupyter-widgets/controls",
       "_model_module_version": "2.0.0",
       "_model_name": "ProgressStyleModel",
       "_view_count": null,
       "_view_module": "@jupyter-widgets/base",
       "_view_module_version": "2.0.0",
       "_view_name": "StyleView",
       "bar_color": null,
       "description_width": ""
      }
     },
     "f0e48d8ff48042c9be4f3f502545c723": {
      "model_module": "@jupyter-widgets/controls",
      "model_module_version": "2.0.0",
      "model_name": "HTMLModel",
      "state": {
       "_dom_classes": [],
       "_model_module": "@jupyter-widgets/controls",
       "_model_module_version": "2.0.0",
       "_model_name": "HTMLModel",
       "_view_count": null,
       "_view_module": "@jupyter-widgets/controls",
       "_view_module_version": "2.0.0",
       "_view_name": "HTMLView",
       "description": "",
       "description_allow_html": false,
       "layout": "IPY_MODEL_9b5ae83545864442a72a3f5d95925acc",
       "placeholder": "​",
       "style": "IPY_MODEL_15853bfbe1624c52b8a6d3bb4357017c",
       "tabbable": null,
       "tooltip": null,
       "value": " 5/5 [00:01&lt;00:00,  3.46 url/s]"
      }
     },
     "f7e8002cdbf0426d99660e1bc6e9cc71": {
      "model_module": "@jupyter-widgets/base",
      "model_module_version": "2.0.0",
      "model_name": "LayoutModel",
      "state": {
       "_model_module": "@jupyter-widgets/base",
       "_model_module_version": "2.0.0",
       "_model_name": "LayoutModel",
       "_view_count": null,
       "_view_module": "@jupyter-widgets/base",
       "_view_module_version": "2.0.0",
       "_view_name": "LayoutView",
       "align_content": null,
       "align_items": null,
       "align_self": null,
       "border_bottom": null,
       "border_left": null,
       "border_right": null,
       "border_top": null,
       "bottom": null,
       "display": null,
       "flex": null,
       "flex_flow": null,
       "grid_area": null,
       "grid_auto_columns": null,
       "grid_auto_flow": null,
       "grid_auto_rows": null,
       "grid_column": null,
       "grid_gap": null,
       "grid_row": null,
       "grid_template_areas": null,
       "grid_template_columns": null,
       "grid_template_rows": null,
       "height": null,
       "justify_content": null,
       "justify_items": null,
       "left": null,
       "margin": null,
       "max_height": null,
       "max_width": null,
       "min_height": null,
       "min_width": null,
       "object_fit": null,
       "object_position": null,
       "order": null,
       "overflow": null,
       "padding": null,
       "right": null,
       "top": null,
       "visibility": null,
       "width": "20px"
      }
     }
    },
    "version_major": 2,
    "version_minor": 0
   }
  }
 },
 "nbformat": 4,
 "nbformat_minor": 5
}