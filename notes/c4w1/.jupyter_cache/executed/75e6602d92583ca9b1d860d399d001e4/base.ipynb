{
 "cells": [
  {
   "cell_type": "code",
   "execution_count": 1,
   "id": "3296e3f9",
   "metadata": {},
   "outputs": [
    {
     "name": "stderr",
     "output_type": "stream",
     "text": [
      "/tmp/ipykernel_126126/2063441297.py:25: DeprecationWarning: `set_matplotlib_formats` is deprecated since IPython 7.23, directly use `matplotlib_inline.backend_inline.set_matplotlib_formats()`\n",
      "  set_matplotlib_formats(fig_format)\n"
     ]
    },
    {
     "name": "stdout",
     "output_type": "stream",
     "text": [
      "{\"/usr/lib/python3.10/importlib/_bootstrap.py\": 1737124534.0, \"/usr/lib/python3.10/importlib/_bootstrap_external.py\": 1737124534.0, \"/usr/lib/python3.10/codecs.py\": 1737124534.0, \"/usr/lib/python3.10/encodings/aliases.py\": 1737124534.0, \"/usr/lib/python3.10/encodings/__init__.py\": 1737124534.0, \"/usr/lib/python3.10/encodings/utf_8.py\": 1737124534.0, \"/usr/lib/python3.10/abc.py\": 1737124534.0, \"/usr/lib/python3.10/io.py\": 1737124534.0, \"/usr/lib/python3.10/stat.py\": 1737124534.0, \"/usr/lib/python3.10/_collections_abc.py\": 1737124534.0, \"/usr/lib/python3.10/genericpath.py\": 1737124534.0, \"/usr/lib/python3.10/posixpath.py\": 1737124534.0, \"/usr/lib/python3.10/os.py\": 1737124534.0, \"/usr/lib/python3.10/_sitebuiltins.py\": 1737124534.0, \"/usr/lib/python3.10/types.py\": 1737124534.0, \"/usr/lib/python3.10/warnings.py\": 1737124534.0, \"/usr/lib/python3.10/importlib/__init__.py\": 1737124534.0, \"/usr/lib/python3.10/importlib/_abc.py\": 1737124534.0, \"/usr/lib/python3.10/keyword.py\": 1737124534.0, \"/usr/lib/python3.10/operator.py\": 1737124534.0, \"/usr/lib/python3.10/reprlib.py\": 1737124534.0, \"/usr/lib/python3.10/collections/__init__.py\": 1737124534.0, \"/usr/lib/python3.10/functools.py\": 1737124534.0, \"/usr/lib/python3.10/contextlib.py\": 1737124534.0, \"/usr/lib/python3.10/importlib/util.py\": 1737124534.0, \"/usr/lib/python3.10/importlib/machinery.py\": 1737124534.0, \"/usr/lib/python3.10/sitecustomize.py\": 1648890259.0, \"/usr/lib/python3.10/site.py\": 1737124534.0, \"/usr/lib/python3.10/runpy.py\": 1737124534.0, \"/usr/lib/python3.10/enum.py\": 1737124534.0, \"/usr/lib/python3.10/sre_constants.py\": 1737124534.0, \"/usr/lib/python3.10/sre_parse.py\": 1737124534.0, \"/usr/lib/python3.10/sre_compile.py\": 1737124534.0, \"/usr/lib/python3.10/copyreg.py\": 1737124534.0, \"/usr/lib/python3.10/re.py\": 1737124534.0, \"/usr/lib/python3.10/fnmatch.py\": 1737124534.0, \"/usr/lib/python3.10/ntpath.py\": 1737124534.0, \"/usr/lib/python3.10/urllib/__init__.py\": 1737124534.0, \"/usr/lib/python3.10/ipaddress.py\": 1737124534.0, \"/usr/lib/python3.10/urllib/parse.py\": 1737124534.0, \"/usr/lib/python3.10/pathlib.py\": 1737124534.0, \"/usr/lib/python3.10/collections/abc.py\": 1737124534.0, \"/usr/lib/python3.10/typing.py\": 1737124534.0, \"/home/oren/work/notes/notes-nlp/.venv/lib/python3.10/site-packages/ipykernel/_version.py\": 1738211119.9207983, \"/usr/lib/python3.10/__future__.py\": 1737124534.0, \"/usr/lib/python3.10/lib-dynload/_json.cpython-310-x86_64-linux-gnu.so\": 1737124534.0, \"/usr/lib/python3.10/json/scanner.py\": 1737124534.0, \"/usr/lib/python3.10/json/decoder.py\": 1737124534.0, \"/usr/lib/python3.10/json/encoder.py\": 1737124534.0, \"/usr/lib/python3.10/json/__init__.py\": 1737124534.0, \"/usr/lib/python3.10/signal.py\": 1737124534.0, \"/usr/lib/python3.10/_weakrefset.py\": 1737124534.0, \"/usr/lib/python3.10/threading.py\": 1737124534.0, \"/usr/lib/python3.10/selectors.py\": 1737124534.0, \"/usr/lib/python3.10/subprocess.py\": 1737124534.0, \"/home/oren/work/notes/notes-nlp/.venv/lib/python3.10/site-packages/jupyter_client/_version.py\": 1738211114.6098826, \"/usr/lib/python3.10/platform.py\": 1737124534.0, \"/home/oren/work/notes/notes-nlp/.venv/lib/python3.10/site-packages/zmq/backend/select.py\": 1738206368.5046568, \"/usr/lib/python3.10/weakref.py\": 1737124534.0, \"/home/oren/work/notes/notes-nlp/.venv/lib/python3.10/site-packages/zmq/constants.py\": 1738206368.5006568, \"/home/oren/work/notes/notes-nlp/.venv/lib/python3.10/site-packages/zmq/error.py\": 1738206368.499657, \"/home/oren/work/notes/notes-nlp/.venv/lib/python3.10/site-packages/zmq/backend/cython/_zmq.cpython-310-x86_64-linux-gnu.so\": 1738206368.506657, \"/home/oren/work/notes/notes-nlp/.venv/lib/python3.10/site-packages/zmq/backend/cython/__init__.py\": 1738206368.5076568, \"/home/oren/work/notes/notes-nlp/.venv/lib/python3.10/site-packages/zmq/backend/__init__.py\": 1738206368.5046568, \"/home/oren/work/notes/notes-nlp/.venv/lib/python3.10/site-packages/zmq/_typing.py\": 1738206368.5006568, \"/home/oren/work/notes/notes-nlp/.venv/lib/python3.10/site-packages/zmq/utils/__init__.py\": 1738206368.502657, \"/home/oren/work/notes/notes-nlp/.venv/lib/python3.10/site-packages/zmq/utils/interop.py\": 1738206368.502657, \"/home/oren/work/notes/notes-nlp/.venv/lib/python3.10/site-packages/zmq/sugar/attrsettr.py\": 1738206368.502657, \"/usr/lib/python3.10/struct.py\": 1737124534.0, \"/usr/lib/python3.10/_compat_pickle.py\": 1737124534.0, \"/usr/lib/python3.10/pickle.py\": 1737124534.0, \"/usr/lib/python3.10/bisect.py\": 1737124534.0, \"/usr/lib/python3.10/random.py\": 1737124534.0, \"/home/oren/work/notes/notes-nlp/.venv/lib/python3.10/site-packages/zmq/utils/jsonapi.py\": 1738206368.5036569, \"/home/oren/work/notes/notes-nlp/.venv/lib/python3.10/site-packages/zmq/sugar/poll.py\": 1738206368.5016568, \"/home/oren/work/notes/notes-nlp/.venv/lib/python3.10/site-packages/zmq/sugar/socket.py\": 1738206368.5016568, \"/home/oren/work/notes/notes-nlp/.venv/lib/python3.10/site-packages/zmq/sugar/context.py\": 1738206368.5016568, \"/home/oren/work/notes/notes-nlp/.venv/lib/python3.10/site-packages/zmq/sugar/frame.py\": 1738206368.5016568, \"/home/oren/work/notes/notes-nlp/.venv/lib/python3.10/site-packages/zmq/sugar/tracker.py\": 1738206368.5016568, \"/home/oren/work/notes/notes-nlp/.venv/lib/python3.10/site-packages/zmq/sugar/version.py\": 1738206368.502657, \"/home/oren/work/notes/notes-nlp/.venv/lib/python3.10/site-packages/zmq/sugar/stopwatch.py\": 1738206368.5016568, \"/home/oren/work/notes/notes-nlp/.venv/lib/python3.10/site-packages/zmq/sugar/__init__.py\": 1738206368.502657, \"/home/oren/work/notes/notes-nlp/.venv/lib/python3.10/site-packages/zmq/__init__.py\": 1738206368.5006568, \"/usr/lib/python3.10/concurrent/__init__.py\": 1737124534.0, \"/usr/lib/python3.10/token.py\": 1737124534.0, \"/usr/lib/python3.10/tokenize.py\": 1737124534.0, \"/usr/lib/python3.10/linecache.py\": 1737124534.0, \"/usr/lib/python3.10/traceback.py\": 1737124534.0, \"/usr/lib/python3.10/string.py\": 1737124534.0, \"/usr/lib/python3.10/logging/__init__.py\": 1737124534.0, \"/usr/lib/python3.10/concurrent/futures/_base.py\": 1737124534.0, \"/usr/lib/python3.10/concurrent/futures/__init__.py\": 1737124534.0, \"/usr/lib/python3.10/heapq.py\": 1737124534.0, \"/usr/lib/python3.10/socket.py\": 1737124534.0, \"/usr/lib/python3.10/lib-dynload/_ssl.cpython-310-x86_64-linux-gnu.so\": 1737124534.0, \"/usr/lib/python3.10/base64.py\": 1737124534.0, \"/usr/lib/python3.10/ssl.py\": 1737124534.0, \"/usr/lib/python3.10/asyncio/constants.py\": 1737124534.0, \"/usr/lib/python3.10/ast.py\": 1737124534.0, \"/usr/lib/python3.10/lib-dynload/_opcode.cpython-310-x86_64-linux-gnu.so\": 1737124534.0, \"/usr/lib/python3.10/opcode.py\": 1737124534.0, \"/usr/lib/python3.10/dis.py\": 1737124534.0, \"/usr/lib/python3.10/inspect.py\": 1737124534.0, \"/usr/lib/python3.10/asyncio/format_helpers.py\": 1737124534.0, \"/usr/lib/python3.10/asyncio/base_futures.py\": 1737124534.0, \"/usr/lib/python3.10/asyncio/log.py\": 1737124534.0, \"/usr/lib/python3.10/asyncio/coroutines.py\": 1737124534.0, \"/usr/lib/python3.10/lib-dynload/_contextvars.cpython-310-x86_64-linux-gnu.so\": 1737124534.0, \"/usr/lib/python3.10/contextvars.py\": 1737124534.0, \"/usr/lib/python3.10/asyncio/exceptions.py\": 1737124534.0, \"/usr/lib/python3.10/asyncio/base_tasks.py\": 1737124534.0, \"/usr/lib/python3.10/lib-dynload/_asyncio.cpython-310-x86_64-linux-gnu.so\": 1737124534.0, \"/usr/lib/python3.10/asyncio/events.py\": 1737124534.0, \"/usr/lib/python3.10/asyncio/futures.py\": 1737124534.0, \"/usr/lib/python3.10/asyncio/protocols.py\": 1737124534.0, \"/usr/lib/python3.10/asyncio/transports.py\": 1737124534.0, \"/usr/lib/python3.10/asyncio/sslproto.py\": 1737124534.0, \"/usr/lib/python3.10/asyncio/mixins.py\": 1737124534.0, \"/usr/lib/python3.10/asyncio/tasks.py\": 1737124534.0, \"/usr/lib/python3.10/asyncio/locks.py\": 1737124534.0, \"/usr/lib/python3.10/asyncio/staggered.py\": 1737124534.0, \"/usr/lib/python3.10/asyncio/trsock.py\": 1737124534.0, \"/usr/lib/python3.10/asyncio/base_events.py\": 1737124534.0, \"/usr/lib/python3.10/asyncio/runners.py\": 1737124534.0, \"/usr/lib/python3.10/asyncio/queues.py\": 1737124534.0, \"/usr/lib/python3.10/asyncio/streams.py\": 1737124534.0, \"/usr/lib/python3.10/asyncio/subprocess.py\": 1737124534.0, \"/usr/lib/python3.10/asyncio/threads.py\": 1737124534.0, \"/usr/lib/python3.10/asyncio/base_subprocess.py\": 1737124534.0, \"/usr/lib/python3.10/asyncio/selector_events.py\": 1737124534.0, \"/usr/lib/python3.10/asyncio/unix_events.py\": 1737124534.0, \"/usr/lib/python3.10/asyncio/__init__.py\": 1737124534.0, \"/home/oren/work/notes/notes-nlp/.venv/lib/python3.10/site-packages/zmq/_future.py\": 1738206368.5006568, \"/home/oren/work/notes/notes-nlp/.venv/lib/python3.10/site-packages/zmq/asyncio.py\": 1738206368.5006568, \"/home/oren/work/notes/notes-nlp/.venv/lib/python3.10/site-packages/traitlets/utils/__init__.py\": 1738206367.9186664, \"/home/oren/work/notes/notes-nlp/.venv/lib/python3.10/site-packages/traitlets/utils/bunch.py\": 1738206367.9186664, \"/home/oren/work/notes/notes-nlp/.venv/lib/python3.10/site-packages/traitlets/utils/descriptions.py\": 1738206367.9186664, \"/home/oren/work/notes/notes-nlp/.venv/lib/python3.10/site-packages/traitlets/utils/getargspec.py\": 1738206367.9186664, \"/home/oren/work/notes/notes-nlp/.venv/lib/python3.10/site-packages/traitlets/utils/importstring.py\": 1738206367.9186664, \"/home/oren/work/notes/notes-nlp/.venv/lib/python3.10/site-packages/traitlets/utils/sentinel.py\": 1738206367.9186664, \"/home/oren/work/notes/notes-nlp/.venv/lib/python3.10/site-packages/traitlets/utils/warnings.py\": 1738206367.9186664, \"/home/oren/work/notes/notes-nlp/.venv/lib/python3.10/site-packages/traitlets/traitlets.py\": 1738206367.9166663, \"/home/oren/work/notes/notes-nlp/.venv/lib/python3.10/site-packages/traitlets/_version.py\": 1738206367.9166663, \"/usr/lib/python3.10/copy.py\": 1737124534.0, \"/home/oren/work/notes/notes-nlp/.venv/lib/python3.10/site-packages/traitlets/utils/decorators.py\": 1738206367.9186664, \"/home/oren/work/notes/notes-nlp/.venv/lib/python3.10/site-packages/traitlets/__init__.py\": 1738206367.9166663, \"/usr/lib/python3.10/lib-dynload/_queue.cpython-310-x86_64-linux-gnu.so\": 1737124534.0, \"/usr/lib/python3.10/queue.py\": 1737124534.0, \"/home/oren/work/notes/notes-nlp/.venv/lib/python3.10/site-packages/jupyter_core/version.py\": 1738208869.5355554, \"/home/oren/work/notes/notes-nlp/.venv/lib/python3.10/site-packages/jupyter_core/__init__.py\": 1738208869.5345554, \"/home/oren/work/notes/notes-nlp/.venv/lib/python3.10/site-packages/jupyter_core/utils/__init__.py\": 1738208869.5355554, \"/home/oren/work/notes/notes-nlp/.venv/lib/python3.10/site-packages/jupyter_client/channelsabc.py\": 1738211114.6108825, \"/usr/lib/python3.10/lib-dynload/_hashlib.cpython-310-x86_64-linux-gnu.so\": 1737124534.0, \"/usr/lib/python3.10/hashlib.py\": 1737124534.0, \"/usr/lib/python3.10/hmac.py\": 1737124534.0, \"/usr/lib/python3.10/dataclasses.py\": 1737124534.0, \"/usr/lib/python3.10/pprint.py\": 1737124534.0, \"/usr/lib/python3.10/datetime.py\": 1737124534.0, \"/home/oren/work/notes/notes-nlp/.venv/lib/python3.10/site-packages/tornado/__init__.py\": 1738206367.9876652, \"/usr/lib/python3.10/numbers.py\": 1737124534.0, \"/usr/lib/python3.10/logging/handlers.py\": 1737124534.0, \"/usr/lib/python3.10/html/entities.py\": 1737124534.0, \"/usr/lib/python3.10/html/__init__.py\": 1737124534.0, \"/home/oren/work/notes/notes-nlp/.venv/lib/python3.10/site-packages/tornado/speedups.abi3.so\": 1738206367.988665, \"/home/oren/work/notes/notes-nlp/.venv/lib/python3.10/site-packages/tornado/util.py\": 1738206367.9876652, \"/home/oren/work/notes/notes-nlp/.venv/lib/python3.10/site-packages/tornado/escape.py\": 1738206367.9906652, \"/home/oren/work/notes/notes-nlp/.venv/lib/python3.10/site-packages/colorama/ansi.py\": 1738762739.5224614, \"/usr/lib/python3.10/lib-dynload/_ctypes.cpython-310-x86_64-linux-gnu.so\": 1737124534.0, \"/usr/lib/python3.10/ctypes/_endian.py\": 1737124534.0, \"/usr/lib/python3.10/ctypes/__init__.py\": 1737124534.0, \"/home/oren/work/notes/notes-nlp/.venv/lib/python3.10/site-packages/colorama/win32.py\": 1738762739.5224614, \"/home/oren/work/notes/notes-nlp/.venv/lib/python3.10/site-packages/colorama/winterm.py\": 1738762739.5224614, \"/home/oren/work/notes/notes-nlp/.venv/lib/python3.10/site-packages/colorama/ansitowin32.py\": 1738762739.5224614, \"/home/oren/work/notes/notes-nlp/.venv/lib/python3.10/site-packages/colorama/initialise.py\": 1738762739.5224614, \"/home/oren/work/notes/notes-nlp/.venv/lib/python3.10/site-packages/colorama/__init__.py\": 1738762739.5214612, \"/usr/lib/python3.10/lib-dynload/_curses.cpython-310-x86_64-linux-gnu.so\": 1737124534.0, \"/usr/lib/python3.10/curses/__init__.py\": 1737124534.0, \"/home/oren/work/notes/notes-nlp/.venv/lib/python3.10/site-packages/tornado/log.py\": 1738206367.988665, \"/home/oren/work/notes/notes-nlp/.venv/lib/python3.10/site-packages/tornado/concurrent.py\": 1738206367.9876652, \"/home/oren/work/notes/notes-nlp/.venv/lib/python3.10/site-packages/tornado/ioloop.py\": 1738206367.9906652, \"/usr/lib/python3.10/socketserver.py\": 1737124534.0, \"/usr/lib/python3.10/logging/config.py\": 1737124534.0, \"/usr/lib/python3.10/textwrap.py\": 1737124534.0, \"/home/oren/work/notes/notes-nlp/.venv/lib/python3.10/site-packages/traitlets/utils/text.py\": 1738206367.9186664, \"/usr/lib/python3.10/gettext.py\": 1737124534.0, \"/usr/lib/python3.10/argparse.py\": 1737124534.0, \"/home/oren/work/notes/notes-nlp/.venv/lib/python3.10/site-packages/traitlets/config/loader.py\": 1738206367.9176664, \"/home/oren/work/notes/notes-nlp/.venv/lib/python3.10/site-packages/traitlets/config/configurable.py\": 1738206367.9176664, \"/home/oren/work/notes/notes-nlp/.venv/lib/python3.10/site-packages/traitlets/utils/nested_update.py\": 1738206367.9186664, \"/home/oren/work/notes/notes-nlp/.venv/lib/python3.10/site-packages/traitlets/config/application.py\": 1738206367.9176664, \"/home/oren/work/notes/notes-nlp/.venv/lib/python3.10/site-packages/traitlets/config/__init__.py\": 1738206367.9166663, \"/home/oren/work/notes/notes-nlp/.venv/lib/python3.10/site-packages/traitlets/log.py\": 1738206367.9166663, \"/home/oren/work/notes/notes-nlp/.venv/lib/python3.10/site-packages/zmq/eventloop/__init__.py\": 1738206368.5086567, \"/home/oren/work/notes/notes-nlp/.venv/lib/python3.10/site-packages/zmq/eventloop/zmqstream.py\": 1738206368.5086567, \"/home/oren/work/notes/notes-nlp/.venv/lib/python3.10/site-packages/jupyter_client/adapter.py\": 1738211114.6098826, \"/home/oren/work/notes/notes-nlp/.venv/lib/python3.10/site-packages/dateutil/_version.py\": 1738206446.0323966, \"/home/oren/work/notes/notes-nlp/.venv/lib/python3.10/site-packages/dateutil/__init__.py\": 1738206446.0323966, \"/usr/lib/python3.10/locale.py\": 1737124534.0, \"/usr/lib/python3.10/calendar.py\": 1737124534.0, \"/home/oren/work/notes/notes-nlp/.venv/lib/python3.10/site-packages/six.py\": 1738206368.3916585, \"/usr/lib/python3.10/lib-dynload/_decimal.cpython-310-x86_64-linux-gnu.so\": 1737124534.0, \"/usr/lib/python3.10/decimal.py\": 1737124534.0, \"/home/oren/work/notes/notes-nlp/.venv/lib/python3.10/site-packages/dateutil/_common.py\": 1738206446.0323966, \"/home/oren/work/notes/notes-nlp/.venv/lib/python3.10/site-packages/dateutil/relativedelta.py\": 1738206446.0323966, \"/home/oren/work/notes/notes-nlp/.venv/lib/python3.10/site-packages/dateutil/tz/_common.py\": 1738206446.0333965, \"/home/oren/work/notes/notes-nlp/.venv/lib/python3.10/site-packages/dateutil/tz/_factories.py\": 1738206446.0333965, \"/home/oren/work/notes/notes-nlp/.venv/lib/python3.10/site-packages/dateutil/tz/tz.py\": 1738206446.0343966, \"/home/oren/work/notes/notes-nlp/.venv/lib/python3.10/site-packages/dateutil/tz/__init__.py\": 1738206446.0333965, \"/home/oren/work/notes/notes-nlp/.venv/lib/python3.10/site-packages/dateutil/parser/_parser.py\": 1738206446.0333965, \"/home/oren/work/notes/notes-nlp/.venv/lib/python3.10/site-packages/dateutil/parser/isoparser.py\": 1738206446.0333965, \"/home/oren/work/notes/notes-nlp/.venv/lib/python3.10/site-packages/dateutil/parser/__init__.py\": 1738206446.0333965, \"/usr/lib/python3.10/_strptime.py\": 1737124534.0, \"/home/oren/work/notes/notes-nlp/.venv/lib/python3.10/site-packages/jupyter_client/jsonutil.py\": 1738211114.6108825, \"/home/oren/work/notes/notes-nlp/.venv/lib/python3.10/site-packages/jupyter_client/session.py\": 1738211114.6128826, \"/home/oren/work/notes/notes-nlp/.venv/lib/python3.10/site-packages/jupyter_client/channels.py\": 1738211114.6098826, \"/usr/lib/python3.10/lib-dynload/termios.cpython-310-x86_64-linux-gnu.so\": 1737124534.0, \"/usr/lib/python3.10/getpass.py\": 1737124534.0, \"/home/oren/work/notes/notes-nlp/.venv/lib/python3.10/site-packages/jupyter_client/clientabc.py\": 1738211114.6108825, \"/usr/lib/python3.10/glob.py\": 1737124534.0, \"/usr/lib/python3.10/_compression.py\": 1737124534.0, \"/usr/lib/python3.10/lib-dynload/_bz2.cpython-310-x86_64-linux-gnu.so\": 1737124534.0, \"/usr/lib/python3.10/bz2.py\": 1737124534.0, \"/usr/lib/python3.10/lib-dynload/_lzma.cpython-310-x86_64-linux-gnu.so\": 1737124534.0, \"/usr/lib/python3.10/lzma.py\": 1737124534.0, \"/usr/lib/python3.10/shutil.py\": 1737124534.0, \"/usr/lib/python3.10/tempfile.py\": 1737124534.0, \"/home/oren/work/notes/notes-nlp/.venv/lib/python3.10/site-packages/platformdirs/api.py\": 1738206370.402626, \"/home/oren/work/notes/notes-nlp/.venv/lib/python3.10/site-packages/platformdirs/version.py\": 1738206370.402626, \"/usr/lib/python3.10/configparser.py\": 1737124534.0, \"/home/oren/work/notes/notes-nlp/.venv/lib/python3.10/site-packages/platformdirs/unix.py\": 1738206370.402626, \"/home/oren/work/notes/notes-nlp/.venv/lib/python3.10/site-packages/platformdirs/__init__.py\": 1738206370.4016259, \"/home/oren/work/notes/notes-nlp/.venv/lib/python3.10/site-packages/jupyter_core/paths.py\": 1738208869.5355554, \"/home/oren/work/notes/notes-nlp/.venv/lib/python3.10/site-packages/jupyter_client/localinterfaces.py\": 1738211114.6118827, \"/home/oren/work/notes/notes-nlp/.venv/lib/python3.10/site-packages/jupyter_client/utils.py\": 1738211114.6128826, \"/home/oren/work/notes/notes-nlp/.venv/lib/python3.10/site-packages/jupyter_client/connect.py\": 1738211114.6108825, \"/home/oren/work/notes/notes-nlp/.venv/lib/python3.10/site-packages/jupyter_client/client.py\": 1738211114.6108825, \"/home/oren/work/notes/notes-nlp/.venv/lib/python3.10/site-packages/jupyter_client/asynchronous/client.py\": 1738211114.6128826, \"/home/oren/work/notes/notes-nlp/.venv/lib/python3.10/site-packages/jupyter_client/asynchronous/__init__.py\": 1738211114.6128826, \"/home/oren/work/notes/notes-nlp/.venv/lib/python3.10/site-packages/jupyter_client/blocking/client.py\": 1738211114.6128826, \"/home/oren/work/notes/notes-nlp/.venv/lib/python3.10/site-packages/jupyter_client/blocking/__init__.py\": 1738211114.6128826, \"/home/oren/work/notes/notes-nlp/.venv/lib/python3.10/site-packages/jupyter_client/launcher.py\": 1738211114.6118827, \"/usr/lib/python3.10/lib-dynload/_uuid.cpython-310-x86_64-linux-gnu.so\": 1737124534.0, \"/usr/lib/python3.10/uuid.py\": 1737124534.0, \"/usr/lib/python3.10/csv.py\": 1737124534.0, \"/usr/lib/python3.10/email/__init__.py\": 1737124534.0, \"/usr/lib/python3.10/zipfile.py\": 1737124534.0, \"/usr/lib/python3.10/uu.py\": 1737124534.0, \"/usr/lib/python3.10/quopri.py\": 1737124534.0, \"/usr/lib/python3.10/email/_parseaddr.py\": 1737124534.0, \"/usr/lib/python3.10/email/base64mime.py\": 1737124534.0, \"/usr/lib/python3.10/email/quoprimime.py\": 1737124534.0, \"/usr/lib/python3.10/email/errors.py\": 1737124534.0, \"/usr/lib/python3.10/email/encoders.py\": 1737124534.0, \"/usr/lib/python3.10/email/charset.py\": 1737124534.0, \"/usr/lib/python3.10/email/utils.py\": 1737124534.0, \"/usr/lib/python3.10/email/header.py\": 1737124534.0, \"/usr/lib/python3.10/email/_policybase.py\": 1737124534.0, \"/usr/lib/python3.10/email/_encoded_words.py\": 1737124534.0, \"/usr/lib/python3.10/email/iterators.py\": 1737124534.0, \"/usr/lib/python3.10/email/message.py\": 1737124534.0, \"/usr/lib/python3.10/importlib/metadata/_functools.py\": 1737124534.0, \"/usr/lib/python3.10/importlib/metadata/_text.py\": 1737124534.0, \"/usr/lib/python3.10/importlib/metadata/_adapters.py\": 1737124534.0, \"/usr/lib/python3.10/importlib/metadata/_meta.py\": 1737124534.0, \"/usr/lib/python3.10/importlib/metadata/_collections.py\": 1737124534.0, \"/usr/lib/python3.10/importlib/metadata/_itertools.py\": 1737124534.0, \"/usr/lib/python3.10/importlib/abc.py\": 1737124534.0, \"/usr/lib/python3.10/importlib/metadata/__init__.py\": 1737124534.0, \"/home/oren/work/notes/notes-nlp/.venv/lib/python3.10/site-packages/jupyter_client/provisioning/provisioner_base.py\": 1738211114.6138825, \"/home/oren/work/notes/notes-nlp/.venv/lib/python3.10/site-packages/jupyter_client/provisioning/factory.py\": 1738211114.6138825, \"/home/oren/work/notes/notes-nlp/.venv/lib/python3.10/site-packages/jupyter_client/provisioning/local_provisioner.py\": 1738211114.6138825, \"/home/oren/work/notes/notes-nlp/.venv/lib/python3.10/site-packages/jupyter_client/provisioning/__init__.py\": 1738211114.6128826, \"/home/oren/work/notes/notes-nlp/.venv/lib/python3.10/site-packages/jupyter_client/kernelspec.py\": 1738211114.6108825, \"/home/oren/work/notes/notes-nlp/.venv/lib/python3.10/site-packages/jupyter_client/managerabc.py\": 1738211114.6118827, \"/home/oren/work/notes/notes-nlp/.venv/lib/python3.10/site-packages/jupyter_client/manager.py\": 1738211114.6118827, \"/home/oren/work/notes/notes-nlp/.venv/lib/python3.10/site-packages/jupyter_client/multikernelmanager.py\": 1738211114.6118827, \"/home/oren/work/notes/notes-nlp/.venv/lib/python3.10/site-packages/jupyter_client/__init__.py\": 1738211114.6098826, \"/home/oren/work/notes/notes-nlp/.venv/lib/python3.10/site-packages/ipykernel/connect.py\": 1738211119.9207983, \"/home/oren/work/notes/notes-nlp/.venv/lib/python3.10/site-packages/ipykernel/__init__.py\": 1738211119.9197984, \"/home/oren/work/notes/notes-nlp/.venv/lib/python3.10/site-packages/IPython/core/__init__.py\": 1738211116.355855, \"/home/oren/work/notes/notes-nlp/.venv/lib/python3.10/site-packages/IPython/core/getipython.py\": 1738211116.3588548, \"/home/oren/work/notes/notes-nlp/.venv/lib/python3.10/site-packages/IPython/core/release.py\": 1738211116.3618548, \"/usr/lib/python3.10/pkgutil.py\": 1737124534.0, \"/usr/lib/python3.10/sysconfig.py\": 1737124534.0, \"/usr/lib/python3.10/_sysconfigdata__x86_64-linux-gnu.py\": 1737124534.0, \"/usr/lib/python3.10/pydoc.py\": 1737124534.0, \"/home/oren/work/notes/notes-nlp/.venv/lib/python3.10/site-packages/executing/executing.py\": 1738208871.3485265, \"/home/oren/work/notes/notes-nlp/.venv/lib/python3.10/site-packages/executing/_pytest_utils.py\": 1738208871.3485265, \"/home/oren/work/notes/notes-nlp/.venv/lib/python3.10/site-packages/executing/version.py\": 1738208871.3485265, \"/home/oren/work/notes/notes-nlp/.venv/lib/python3.10/site-packages/executing/__init__.py\": 1738208871.3485265, \"/home/oren/work/notes/notes-nlp/.venv/lib/python3.10/site-packages/asttokens/line_numbers.py\": 1738208872.4535089, \"/home/oren/work/notes/notes-nlp/.venv/lib/python3.10/site-packages/asttokens/util.py\": 1738208872.4535089, \"/home/oren/work/notes/notes-nlp/.venv/lib/python3.10/site-packages/asttokens/asttokens.py\": 1738208872.4535089, \"/home/oren/work/notes/notes-nlp/.venv/lib/python3.10/site-packages/asttokens/__init__.py\": 1738208872.4535089, \"/usr/lib/python3.10/fractions.py\": 1737124534.0, \"/home/oren/work/notes/notes-nlp/.venv/lib/python3.10/site-packages/pure_eval/utils.py\": 1738206365.9996974, \"/home/oren/work/notes/notes-nlp/.venv/lib/python3.10/site-packages/pure_eval/my_getattr_static.py\": 1738206365.9986975, \"/home/oren/work/notes/notes-nlp/.venv/lib/python3.10/site-packages/pure_eval/core.py\": 1738206365.9986975, \"/home/oren/work/notes/notes-nlp/.venv/lib/python3.10/site-packages/pure_eval/version.py\": 1738206365.9996974, \"/home/oren/work/notes/notes-nlp/.venv/lib/python3.10/site-packages/pure_eval/__init__.py\": 1738206365.9986975, \"/home/oren/work/notes/notes-nlp/.venv/lib/python3.10/site-packages/stack_data/utils.py\": 1738208872.5905068, \"/home/oren/work/notes/notes-nlp/.venv/lib/python3.10/site-packages/stack_data/core.py\": 1738208872.5905068, \"/home/oren/work/notes/notes-nlp/.venv/lib/python3.10/site-packages/stack_data/formatting.py\": 1738208872.5905068, \"/home/oren/work/notes/notes-nlp/.venv/lib/python3.10/site-packages/stack_data/serializing.py\": 1738208872.5905068, \"/home/oren/work/notes/notes-nlp/.venv/lib/python3.10/site-packages/stack_data/version.py\": 1738208872.5905068, \"/home/oren/work/notes/notes-nlp/.venv/lib/python3.10/site-packages/stack_data/__init__.py\": 1738208872.5895066, \"/home/oren/work/notes/notes-nlp/.venv/lib/python3.10/site-packages/pygments/__init__.py\": 1738206368.6586542, \"/home/oren/work/notes/notes-nlp/.venv/lib/python3.10/site-packages/pygments/formatters/_mapping.py\": 1738206368.6616542, \"/home/oren/work/notes/notes-nlp/.venv/lib/python3.10/site-packages/pygments/plugin.py\": 1738206368.6596544, \"/home/oren/work/notes/notes-nlp/.venv/lib/python3.10/site-packages/pygments/util.py\": 1738206368.6616542, \"/home/oren/work/notes/notes-nlp/.venv/lib/python3.10/site-packages/pygments/formatters/__init__.py\": 1738206368.6616542, \"/home/oren/work/notes/notes-nlp/.venv/lib/python3.10/site-packages/pygments/styles/_mapping.py\": 1738206368.6986537, \"/home/oren/work/notes/notes-nlp/.venv/lib/python3.10/site-packages/pygments/styles/__init__.py\": 1738206368.6986537, \"/home/oren/work/notes/notes-nlp/.venv/lib/python3.10/site-packages/pygments/formatter.py\": 1738206368.6596544, \"/home/oren/work/notes/notes-nlp/.venv/lib/python3.10/site-packages/pygments/console.py\": 1738206368.6586542, \"/home/oren/work/notes/notes-nlp/.venv/lib/python3.10/site-packages/pygments/token.py\": 1738206368.6606543, \"/home/oren/work/notes/notes-nlp/.venv/lib/python3.10/site-packages/pygments/style.py\": 1738206368.6606543, \"/home/oren/work/notes/notes-nlp/.venv/lib/python3.10/site-packages/pygments/formatters/terminal256.py\": 1738206368.6636543, \"/home/oren/work/notes/notes-nlp/.venv/lib/python3.10/site-packages/IPython/utils/__init__.py\": 1738211116.3788545, \"/home/oren/work/notes/notes-nlp/.venv/lib/python3.10/site-packages/IPython/utils/colorable.py\": 1738211116.3798544, \"/home/oren/work/notes/notes-nlp/.venv/lib/python3.10/site-packages/IPython/utils/ipstruct.py\": 1738211116.3808546, \"/home/oren/work/notes/notes-nlp/.venv/lib/python3.10/site-packages/IPython/utils/coloransi.py\": 1738211116.3798544, \"/home/oren/work/notes/notes-nlp/.venv/lib/python3.10/site-packages/IPython/core/excolors.py\": 1738211116.3578548, \"/home/oren/work/notes/notes-nlp/.venv/lib/python3.10/site-packages/IPython/utils/PyColorize.py\": 1738211116.3788545, \"/home/oren/work/notes/notes-nlp/.venv/lib/python3.10/site-packages/IPython/utils/encoding.py\": 1738211116.3798544, \"/home/oren/work/notes/notes-nlp/.venv/lib/python3.10/site-packages/IPython/utils/py3compat.py\": 1738211116.3808546, \"/usr/lib/python3.10/cmd.py\": 1737124534.0, \"/usr/lib/python3.10/bdb.py\": 1737124534.0, \"/usr/lib/python3.10/codeop.py\": 1737124534.0, \"/usr/lib/python3.10/code.py\": 1737124534.0, \"/usr/lib/python3.10/pdb.py\": 1737124534.0, \"/home/oren/work/notes/notes-nlp/.venv/lib/python3.10/site-packages/IPython/core/debugger.py\": 1738211116.3578548, \"/home/oren/work/notes/notes-nlp/.venv/lib/python3.10/site-packages/IPython/core/display_trap.py\": 1738211116.3578548, \"/usr/lib/python3.10/shlex.py\": 1737124534.0, \"/home/oren/work/notes/notes-nlp/.venv/lib/python3.10/site-packages/IPython/utils/_process_common.py\": 1738211116.3788545, \"/home/oren/work/notes/notes-nlp/.venv/lib/python3.10/site-packages/IPython/utils/_process_posix.py\": 1738211116.3788545, \"/home/oren/work/notes/notes-nlp/.venv/lib/python3.10/site-packages/IPython/utils/process.py\": 1738211116.3808546, \"/home/oren/work/notes/notes-nlp/.venv/lib/python3.10/site-packages/IPython/utils/path.py\": 1738211116.3808546, \"/home/oren/work/notes/notes-nlp/.venv/lib/python3.10/site-packages/IPython/utils/terminal.py\": 1738211116.3818545, \"/home/oren/work/notes/notes-nlp/.venv/lib/python3.10/site-packages/IPython/core/ultratb.py\": 1738211116.3628547, \"/home/oren/work/notes/notes-nlp/.venv/lib/python3.10/site-packages/IPython/utils/_sysinfo.py\": 1738211116.3788545, \"/home/oren/work/notes/notes-nlp/.venv/lib/python3.10/site-packages/IPython/utils/sysinfo.py\": 1738211116.3818545, \"/home/oren/work/notes/notes-nlp/.venv/lib/python3.10/site-packages/IPython/core/crashhandler.py\": 1738211116.356855, \"/home/oren/work/notes/notes-nlp/.venv/lib/python3.10/site-packages/IPython/utils/importstring.py\": 1738211116.3798544, \"/home/oren/work/notes/notes-nlp/.venv/lib/python3.10/site-packages/IPython/paths.py\": 1738211116.355855, \"/home/oren/work/notes/notes-nlp/.venv/lib/python3.10/site-packages/IPython/core/profiledir.py\": 1738211116.3618548, \"/home/oren/work/notes/notes-nlp/.venv/lib/python3.10/site-packages/IPython/core/application.py\": 1738211116.355855, \"/home/oren/work/notes/notes-nlp/.venv/lib/python3.10/site-packages/IPython/terminal/__init__.py\": 1738211116.3738546, \"/home/oren/work/notes/notes-nlp/.venv/lib/python3.10/site-packages/IPython/core/compilerop.py\": 1738211116.356855, \"/home/oren/work/notes/notes-nlp/.venv/lib/python3.10/site-packages/IPython/core/error.py\": 1738211116.3578548, \"/home/oren/work/notes/notes-nlp/.venv/lib/python3.10/site-packages/IPython/utils/docs.py\": 1738211116.3798544, \"/home/oren/work/notes/notes-nlp/.venv/lib/python3.10/site-packages/IPython/utils/decorators.py\": 1738211116.3798544, \"/home/oren/work/notes/notes-nlp/.venv/lib/python3.10/site-packages/typing_extensions.py\": 1738206367.8976667, \"/home/oren/work/notes/notes-nlp/.venv/lib/python3.10/site-packages/IPython/utils/text.py\": 1738211116.3818545, \"/home/oren/work/notes/notes-nlp/.venv/lib/python3.10/site-packages/IPython/core/magic_arguments.py\": 1738211116.3608549, \"/usr/lib/python3.10/getopt.py\": 1737124534.0, \"/home/oren/work/notes/notes-nlp/.venv/lib/python3.10/site-packages/IPython/core/display_functions.py\": 1738211116.3578548, \"/usr/lib/python3.10/mimetypes.py\": 1737124534.0, \"/home/oren/work/notes/notes-nlp/.venv/lib/python3.10/site-packages/IPython/testing/__init__.py\": 1738211116.3768547, \"/home/oren/work/notes/notes-nlp/.venv/lib/python3.10/site-packages/IPython/testing/skipdoctest.py\": 1738211116.3768547, \"/home/oren/work/notes/notes-nlp/.venv/lib/python3.10/site-packages/IPython/core/display.py\": 1738211116.3578548, \"/home/oren/work/notes/notes-nlp/.venv/lib/python3.10/site-packages/IPython/lib/__init__.py\": 1738211116.3708546, \"/home/oren/work/notes/notes-nlp/.venv/lib/python3.10/site-packages/IPython/lib/display.py\": 1738211116.3718548, \"/home/oren/work/notes/notes-nlp/.venv/lib/python3.10/site-packages/IPython/display.py\": 1738211116.355855, \"/home/oren/work/notes/notes-nlp/.venv/lib/python3.10/site-packages/IPython/utils/data.py\": 1738211116.3798544, \"/home/oren/work/notes/notes-nlp/.venv/lib/python3.10/site-packages/IPython/core/page.py\": 1738211116.3608549, \"/home/oren/work/notes/notes-nlp/.venv/lib/python3.10/site-packages/IPython/lib/pretty.py\": 1738211116.3718548, \"/home/oren/work/notes/notes-nlp/.venv/lib/python3.10/site-packages/IPython/utils/openpy.py\": 1738211116.3808546, \"/home/oren/work/notes/notes-nlp/.venv/lib/python3.10/site-packages/IPython/utils/dir2.py\": 1738211116.3798544, \"/home/oren/work/notes/notes-nlp/.venv/lib/python3.10/site-packages/IPython/utils/wildcard.py\": 1738211116.3828545, \"/home/oren/work/notes/notes-nlp/.venv/lib/python3.10/site-packages/pygments/lexers/_mapping.py\": 1738206368.666654, \"/home/oren/work/notes/notes-nlp/.venv/lib/python3.10/site-packages/pygments/modeline.py\": 1738206368.6596544, \"/home/oren/work/notes/notes-nlp/.venv/lib/python3.10/site-packages/pygments/lexers/__init__.py\": 1738206368.6636543, \"/home/oren/work/notes/notes-nlp/.venv/lib/python3.10/site-packages/pygments/filter.py\": 1738206368.6596544, \"/home/oren/work/notes/notes-nlp/.venv/lib/python3.10/site-packages/pygments/filters/__init__.py\": 1738206368.6616542, \"/home/oren/work/notes/notes-nlp/.venv/lib/python3.10/site-packages/pygments/regexopt.py\": 1738206368.6596544, \"/home/oren/work/notes/notes-nlp/.venv/lib/python3.10/site-packages/pygments/lexer.py\": 1738206368.6596544, \"/home/oren/work/notes/notes-nlp/.venv/lib/python3.10/site-packages/pygments/unistring.py\": 1738206368.6606543, \"/home/oren/work/notes/notes-nlp/.venv/lib/python3.10/site-packages/pygments/lexers/python.py\": 1738206368.6896539, \"/home/oren/work/notes/notes-nlp/.venv/lib/python3.10/site-packages/pygments/formatters/html.py\": 1738206368.6626542, \"/home/oren/work/notes/notes-nlp/.venv/lib/python3.10/site-packages/IPython/core/oinspect.py\": 1738211116.3608549, \"/home/oren/work/notes/notes-nlp/.venv/lib/python3.10/site-packages/IPython/utils/tokenutil.py\": 1738211116.3818545, \"/home/oren/work/notes/notes-nlp/.venv/lib/python3.10/site-packages/IPython/core/inputtransformer2.py\": 1738211116.359855, \"/home/oren/work/notes/notes-nlp/.venv/lib/python3.10/site-packages/IPython/core/magic.py\": 1738211116.3608549, \"/home/oren/work/notes/notes-nlp/.venv/lib/python3.10/site-packages/IPython/core/hooks.py\": 1738211116.3588548, \"/home/oren/work/notes/notes-nlp/.venv/lib/python3.10/site-packages/IPython/core/autocall.py\": 1738211116.356855, \"/home/oren/work/notes/notes-nlp/.venv/lib/python3.10/site-packages/IPython/core/macro.py\": 1738211116.3608549, \"/home/oren/work/notes/notes-nlp/.venv/lib/python3.10/site-packages/IPython/core/splitinput.py\": 1738211116.3628547, \"/home/oren/work/notes/notes-nlp/.venv/lib/python3.10/site-packages/IPython/core/prefilter.py\": 1738211116.3618548, \"/home/oren/work/notes/notes-nlp/.venv/lib/python3.10/site-packages/IPython/core/alias.py\": 1738211116.355855, \"/home/oren/work/notes/notes-nlp/.venv/lib/python3.10/site-packages/IPython/core/builtin_trap.py\": 1738211116.356855, \"/home/oren/work/notes/notes-nlp/.venv/lib/python3.10/site-packages/IPython/core/displayhook.py\": 1738211116.3578548, \"/home/oren/work/notes/notes-nlp/.venv/lib/python3.10/site-packages/IPython/core/displaypub.py\": 1738211116.3578548, \"/home/oren/work/notes/notes-nlp/.venv/lib/python3.10/site-packages/IPython/core/events.py\": 1738211116.3578548, \"/home/oren/work/notes/notes-nlp/.venv/lib/python3.10/site-packages/IPython/core/extensions.py\": 1738211116.3588548, \"/home/oren/work/notes/notes-nlp/.venv/lib/python3.10/site-packages/decorator.py\": 1738208871.4545248, \"/home/oren/work/notes/notes-nlp/.venv/lib/python3.10/site-packages/IPython/utils/sentinel.py\": 1738211116.3808546, \"/home/oren/work/notes/notes-nlp/.venv/lib/python3.10/site-packages/IPython/core/formatters.py\": 1738211116.3588548, \"/usr/lib/python3.10/lib-dynload/_sqlite3.cpython-310-x86_64-linux-gnu.so\": 1737124534.0, \"/usr/lib/python3.10/sqlite3/dbapi2.py\": 1737124534.0, \"/usr/lib/python3.10/sqlite3/__init__.py\": 1737124534.0, \"/home/oren/work/notes/notes-nlp/.venv/lib/python3.10/site-packages/IPython/core/history.py\": 1738211116.3588548, \"/home/oren/work/notes/notes-nlp/.venv/lib/python3.10/site-packages/IPython/core/logger.py\": 1738211116.3608549, \"/home/oren/work/notes/notes-nlp/.venv/lib/python3.10/site-packages/IPython/core/payload.py\": 1738211116.3618548, \"/home/oren/work/notes/notes-nlp/.venv/lib/python3.10/site-packages/IPython/core/usage.py\": 1738211116.3628547, \"/home/oren/work/notes/notes-nlp/.venv/lib/python3.10/site-packages/IPython/utils/capture.py\": 1738211116.3788545, \"/home/oren/work/notes/notes-nlp/.venv/lib/python3.10/site-packages/IPython/utils/io.py\": 1738211116.3808546, \"/home/oren/work/notes/notes-nlp/.venv/lib/python3.10/site-packages/IPython/utils/strdispatch.py\": 1738211116.3818545, \"/home/oren/work/notes/notes-nlp/.venv/lib/python3.10/site-packages/IPython/utils/syspathcontext.py\": 1738211116.3818545, \"/home/oren/work/notes/notes-nlp/.venv/lib/python3.10/site-packages/exceptiongroup/_exceptions.py\": 1738208871.3595264, \"/home/oren/work/notes/notes-nlp/.venv/lib/python3.10/site-packages/exceptiongroup/_catch.py\": 1738208871.3595264, \"/home/oren/work/notes/notes-nlp/.venv/lib/python3.10/site-packages/exceptiongroup/_version.py\": 1738208871.3605263, \"/home/oren/work/notes/notes-nlp/.venv/lib/python3.10/site-packages/exceptiongroup/_formatting.py\": 1738208871.3595264, \"/home/oren/work/notes/notes-nlp/.venv/lib/python3.10/site-packages/exceptiongroup/_suppress.py\": 1738208871.3605263, \"/home/oren/work/notes/notes-nlp/.venv/lib/python3.10/site-packages/exceptiongroup/__init__.py\": 1738208871.3595264, \"/home/oren/work/notes/notes-nlp/.venv/lib/python3.10/site-packages/IPython/core/async_helpers.py\": 1738211116.355855, \"/home/oren/work/notes/notes-nlp/.venv/lib/python3.10/site-packages/IPython/core/interactiveshell.py\": 1738211116.359855, \"/home/oren/work/notes/notes-nlp/.venv/lib/python3.10/site-packages/prompt_toolkit/application/current.py\": 1738206370.2306287, \"/home/oren/work/notes/notes-nlp/.venv/lib/python3.10/site-packages/prompt_toolkit/eventloop/utils.py\": 1738206370.2336287, \"/home/oren/work/notes/notes-nlp/.venv/lib/python3.10/site-packages/prompt_toolkit/eventloop/async_generator.py\": 1738206370.2336287, \"/home/oren/work/notes/notes-nlp/.venv/lib/python3.10/site-packages/prompt_toolkit/eventloop/inputhook.py\": 1738206370.2336287, \"/home/oren/work/notes/notes-nlp/.venv/lib/python3.10/site-packages/prompt_toolkit/eventloop/__init__.py\": 1738206370.2336287, \"/home/oren/work/notes/notes-nlp/.venv/lib/python3.10/site-packages/prompt_toolkit/application/run_in_terminal.py\": 1738206370.2316287, \"/home/oren/work/notes/notes-nlp/.venv/lib/python3.10/site-packages/prompt_toolkit/selection.py\": 1738206370.2306287, \"/home/oren/work/notes/notes-nlp/.venv/lib/python3.10/site-packages/prompt_toolkit/clipboard/base.py\": 1738206370.2316287, \"/home/oren/work/notes/notes-nlp/.venv/lib/python3.10/site-packages/prompt_toolkit/clipboard/in_memory.py\": 1738206370.2316287, \"/home/oren/work/notes/notes-nlp/.venv/lib/python3.10/site-packages/prompt_toolkit/clipboard/__init__.py\": 1738206370.2316287, \"/home/oren/work/notes/notes-nlp/.venv/lib/python3.10/site-packages/prompt_toolkit/cache.py\": 1738206370.2286289, \"/home/oren/work/notes/notes-nlp/.venv/lib/python3.10/site-packages/prompt_toolkit/enums.py\": 1738206370.2296288, \"/home/oren/work/notes/notes-nlp/.venv/lib/python3.10/site-packages/prompt_toolkit/filters/base.py\": 1738206370.2346287, \"/home/oren/work/notes/notes-nlp/.venv/lib/python3.10/site-packages/prompt_toolkit/filters/app.py\": 1738206370.2346287, \"/home/oren/work/notes/notes-nlp/.venv/lib/python3.10/site-packages/prompt_toolkit/filters/cli.py\": 1738206370.2346287, \"/home/oren/work/notes/notes-nlp/.venv/lib/python3.10/site-packages/prompt_toolkit/filters/utils.py\": 1738206370.2346287, \"/home/oren/work/notes/notes-nlp/.venv/lib/python3.10/site-packages/prompt_toolkit/filters/__init__.py\": 1738206370.2346287, \"/home/oren/work/notes/notes-nlp/.venv/lib/python3.10/site-packages/prompt_toolkit/document.py\": 1738206370.2296288, \"/home/oren/work/notes/notes-nlp/.venv/lib/python3.10/site-packages/prompt_toolkit/auto_suggest.py\": 1738206370.2286289, \"/home/oren/work/notes/notes-nlp/.venv/lib/python3.10/site-packages/prompt_toolkit/keys.py\": 1738206370.2296288, \"/home/oren/work/notes/notes-nlp/.venv/lib/python3.10/site-packages/prompt_toolkit/key_binding/key_bindings.py\": 1738206370.2366285, \"/home/oren/work/notes/notes-nlp/.venv/lib/python3.10/site-packages/wcwidth/table_vs16.py\": 1738206365.8596997, \"/home/oren/work/notes/notes-nlp/.venv/lib/python3.10/site-packages/wcwidth/table_wide.py\": 1738206365.8596997, \"/home/oren/work/notes/notes-nlp/.venv/lib/python3.10/site-packages/wcwidth/table_zero.py\": 1738206365.8607, \"/home/oren/work/notes/notes-nlp/.venv/lib/python3.10/site-packages/wcwidth/unicode_versions.py\": 1738206365.8607, \"/home/oren/work/notes/notes-nlp/.venv/lib/python3.10/site-packages/wcwidth/wcwidth.py\": 1738206365.8607, \"/home/oren/work/notes/notes-nlp/.venv/lib/python3.10/site-packages/wcwidth/__init__.py\": 1738206365.8596997, \"/home/oren/work/notes/notes-nlp/.venv/lib/python3.10/site-packages/prompt_toolkit/utils.py\": 1738206370.2306287, \"/home/oren/work/notes/notes-nlp/.venv/lib/python3.10/site-packages/prompt_toolkit/key_binding/key_processor.py\": 1738206370.2366285, \"/home/oren/work/notes/notes-nlp/.venv/lib/python3.10/site-packages/prompt_toolkit/key_binding/__init__.py\": 1738206370.2366285, \"/home/oren/work/notes/notes-nlp/.venv/lib/python3.10/site-packages/prompt_toolkit/key_binding/vi_state.py\": 1738206370.2366285, \"/home/oren/work/notes/notes-nlp/.venv/lib/python3.10/site-packages/prompt_toolkit/cursor_shapes.py\": 1738206370.2286289, \"/home/oren/work/notes/notes-nlp/.venv/lib/python3.10/site-packages/prompt_toolkit/data_structures.py\": 1738206370.2286289, \"/home/oren/work/notes/notes-nlp/.venv/lib/python3.10/site-packages/prompt_toolkit/styles/base.py\": 1738206370.2426286, \"/home/oren/work/notes/notes-nlp/.venv/lib/python3.10/site-packages/prompt_toolkit/styles/named_colors.py\": 1738206370.2426286, \"/home/oren/work/notes/notes-nlp/.venv/lib/python3.10/site-packages/prompt_toolkit/styles/style.py\": 1738206370.2426286, \"/home/oren/work/notes/notes-nlp/.venv/lib/python3.10/site-packages/prompt_toolkit/styles/defaults.py\": 1738206370.2426286, \"/home/oren/work/notes/notes-nlp/.venv/lib/python3.10/site-packages/prompt_toolkit/styles/pygments.py\": 1738206370.2426286, \"/usr/lib/python3.10/colorsys.py\": 1737124534.0, \"/home/oren/work/notes/notes-nlp/.venv/lib/python3.10/site-packages/prompt_toolkit/styles/style_transformation.py\": 1738206370.2436285, \"/home/oren/work/notes/notes-nlp/.venv/lib/python3.10/site-packages/prompt_toolkit/styles/__init__.py\": 1738206370.2426286, \"/home/oren/work/notes/notes-nlp/.venv/lib/python3.10/site-packages/prompt_toolkit/output/color_depth.py\": 1738206370.2406285, \"/home/oren/work/notes/notes-nlp/.venv/lib/python3.10/site-packages/prompt_toolkit/output/base.py\": 1738206370.2406285, \"/home/oren/work/notes/notes-nlp/.venv/lib/python3.10/site-packages/prompt_toolkit/output/flush_stdout.py\": 1738206370.2416286, \"/home/oren/work/notes/notes-nlp/.venv/lib/python3.10/site-packages/prompt_toolkit/output/plain_text.py\": 1738206370.2416286, \"/home/oren/work/notes/notes-nlp/.venv/lib/python3.10/site-packages/prompt_toolkit/output/defaults.py\": 1738206370.2406285, \"/home/oren/work/notes/notes-nlp/.venv/lib/python3.10/site-packages/prompt_toolkit/output/__init__.py\": 1738206370.2406285, \"/home/oren/work/notes/notes-nlp/.venv/lib/python3.10/site-packages/prompt_toolkit/output/vt100.py\": 1738206370.2416286, \"/home/oren/work/notes/notes-nlp/.venv/lib/python3.10/site-packages/prompt_toolkit/mouse_events.py\": 1738206370.2296288, \"/home/oren/work/notes/notes-nlp/.venv/lib/python3.10/site-packages/prompt_toolkit/formatted_text/base.py\": 1738206370.2346287, \"/home/oren/work/notes/notes-nlp/.venv/lib/python3.10/site-packages/prompt_toolkit/formatted_text/ansi.py\": 1738206370.2346287, \"/usr/lib/python3.10/xml/__init__.py\": 1737124534.0, \"/usr/lib/python3.10/xml/dom/domreg.py\": 1737124534.0, \"/usr/lib/python3.10/xml/dom/__init__.py\": 1737124534.0, \"/usr/lib/python3.10/xml/dom/minicompat.py\": 1737124534.0, \"/usr/lib/python3.10/xml/dom/NodeFilter.py\": 1737124534.0, \"/usr/lib/python3.10/xml/dom/xmlbuilder.py\": 1737124534.0, \"/usr/lib/python3.10/xml/dom/minidom.py\": 1737124534.0, \"/home/oren/work/notes/notes-nlp/.venv/lib/python3.10/site-packages/prompt_toolkit/formatted_text/html.py\": 1738206370.2346287, \"/home/oren/work/notes/notes-nlp/.venv/lib/python3.10/site-packages/prompt_toolkit/formatted_text/pygments.py\": 1738206370.2346287, \"/home/oren/work/notes/notes-nlp/.venv/lib/python3.10/site-packages/prompt_toolkit/formatted_text/utils.py\": 1738206370.2346287, \"/home/oren/work/notes/notes-nlp/.venv/lib/python3.10/site-packages/prompt_toolkit/formatted_text/__init__.py\": 1738206370.2346287, \"/home/oren/work/notes/notes-nlp/.venv/lib/python3.10/site-packages/prompt_toolkit/completion/base.py\": 1738206370.2316287, \"/home/oren/work/notes/notes-nlp/.venv/lib/python3.10/site-packages/prompt_toolkit/completion/deduplicate.py\": 1738206370.2316287, \"/home/oren/work/notes/notes-nlp/.venv/lib/python3.10/site-packages/prompt_toolkit/completion/filesystem.py\": 1738206370.2316287, \"/home/oren/work/notes/notes-nlp/.venv/lib/python3.10/site-packages/prompt_toolkit/completion/word_completer.py\": 1738206370.2326288, \"/home/oren/work/notes/notes-nlp/.venv/lib/python3.10/site-packages/prompt_toolkit/completion/fuzzy_completer.py\": 1738206370.2316287, \"/home/oren/work/notes/notes-nlp/.venv/lib/python3.10/site-packages/prompt_toolkit/completion/nested.py\": 1738206370.2326288, \"/home/oren/work/notes/notes-nlp/.venv/lib/python3.10/site-packages/prompt_toolkit/completion/__init__.py\": 1738206370.2316287, \"/home/oren/work/notes/notes-nlp/.venv/lib/python3.10/site-packages/prompt_toolkit/history.py\": 1738206370.2296288, \"/home/oren/work/notes/notes-nlp/.venv/lib/python3.10/site-packages/prompt_toolkit/search.py\": 1738206370.2306287, \"/home/oren/work/notes/notes-nlp/.venv/lib/python3.10/site-packages/prompt_toolkit/validation.py\": 1738206370.2306287, \"/home/oren/work/notes/notes-nlp/.venv/lib/python3.10/site-packages/prompt_toolkit/buffer.py\": 1738206370.2286289, \"/home/oren/work/notes/notes-nlp/.venv/lib/python3.10/site-packages/prompt_toolkit/input/base.py\": 1738206370.2356286, \"/home/oren/work/notes/notes-nlp/.venv/lib/python3.10/site-packages/prompt_toolkit/input/defaults.py\": 1738206370.2356286, \"/home/oren/work/notes/notes-nlp/.venv/lib/python3.10/site-packages/prompt_toolkit/input/__init__.py\": 1738206370.2356286, \"/home/oren/work/notes/notes-nlp/.venv/lib/python3.10/site-packages/prompt_toolkit/input/typeahead.py\": 1738206370.2356286, \"/home/oren/work/notes/notes-nlp/.venv/lib/python3.10/site-packages/prompt_toolkit/key_binding/bindings/__init__.py\": 1738206370.2366285, \"/home/oren/work/notes/notes-nlp/.venv/lib/python3.10/site-packages/prompt_toolkit/key_binding/bindings/scroll.py\": 1738206370.2386286, \"/home/oren/work/notes/notes-nlp/.venv/lib/python3.10/site-packages/prompt_toolkit/key_binding/bindings/page_navigation.py\": 1738206370.2376287, \"/home/oren/work/notes/notes-nlp/.venv/lib/python3.10/site-packages/prompt_toolkit/lexers/base.py\": 1738206370.2406285, \"/home/oren/work/notes/notes-nlp/.venv/lib/python3.10/site-packages/prompt_toolkit/lexers/pygments.py\": 1738206370.2406285, \"/home/oren/work/notes/notes-nlp/.venv/lib/python3.10/site-packages/prompt_toolkit/lexers/__init__.py\": 1738206370.2406285, \"/home/oren/work/notes/notes-nlp/.venv/lib/python3.10/site-packages/prompt_toolkit/layout/utils.py\": 1738206370.2406285, \"/home/oren/work/notes/notes-nlp/.venv/lib/python3.10/site-packages/prompt_toolkit/layout/processors.py\": 1738206370.2396286, \"/home/oren/work/notes/notes-nlp/.venv/lib/python3.10/site-packages/prompt_toolkit/layout/controls.py\": 1738206370.2396286, \"/home/oren/work/notes/notes-nlp/.venv/lib/python3.10/site-packages/prompt_toolkit/layout/dimension.py\": 1738206370.2396286, \"/home/oren/work/notes/notes-nlp/.venv/lib/python3.10/site-packages/prompt_toolkit/layout/margins.py\": 1738206370.2396286, \"/home/oren/work/notes/notes-nlp/.venv/lib/python3.10/site-packages/prompt_toolkit/layout/mouse_handlers.py\": 1738206370.2396286, \"/home/oren/work/notes/notes-nlp/.venv/lib/python3.10/site-packages/prompt_toolkit/layout/screen.py\": 1738206370.2396286, \"/home/oren/work/notes/notes-nlp/.venv/lib/python3.10/site-packages/prompt_toolkit/layout/containers.py\": 1738206370.2386286, \"/home/oren/work/notes/notes-nlp/.venv/lib/python3.10/site-packages/prompt_toolkit/layout/layout.py\": 1738206370.2396286, \"/home/oren/work/notes/notes-nlp/.venv/lib/python3.10/site-packages/prompt_toolkit/layout/menus.py\": 1738206370.2396286, \"/home/oren/work/notes/notes-nlp/.venv/lib/python3.10/site-packages/prompt_toolkit/layout/scrollable_pane.py\": 1738206370.2406285, \"/home/oren/work/notes/notes-nlp/.venv/lib/python3.10/site-packages/prompt_toolkit/layout/__init__.py\": 1738206370.2386286, \"/home/oren/work/notes/notes-nlp/.venv/lib/python3.10/site-packages/prompt_toolkit/key_binding/bindings/completion.py\": 1738206370.2376287, \"/home/oren/work/notes/notes-nlp/.venv/lib/python3.10/site-packages/prompt_toolkit/key_binding/bindings/named_commands.py\": 1738206370.2376287, \"/home/oren/work/notes/notes-nlp/.venv/lib/python3.10/site-packages/prompt_toolkit/key_binding/bindings/basic.py\": 1738206370.2376287, \"/home/oren/work/notes/notes-nlp/.venv/lib/python3.10/site-packages/prompt_toolkit/key_binding/bindings/cpr.py\": 1738206370.2376287, \"/home/oren/work/notes/notes-nlp/.venv/lib/python3.10/site-packages/prompt_toolkit/key_binding/bindings/emacs.py\": 1738206370.2376287, \"/home/oren/work/notes/notes-nlp/.venv/lib/python3.10/site-packages/prompt_toolkit/key_binding/bindings/mouse.py\": 1738206370.2376287, \"/home/oren/work/notes/notes-nlp/.venv/lib/python3.10/site-packages/prompt_toolkit/input/ansi_escape_sequences.py\": 1738206370.2356286, \"/home/oren/work/notes/notes-nlp/.venv/lib/python3.10/site-packages/prompt_toolkit/input/vt100_parser.py\": 1738206370.2356286, \"/home/oren/work/notes/notes-nlp/.venv/lib/python3.10/site-packages/prompt_toolkit/key_binding/digraphs.py\": 1738206370.2366285, \"/home/oren/work/notes/notes-nlp/.venv/lib/python3.10/site-packages/prompt_toolkit/key_binding/bindings/vi.py\": 1738206370.2386286, \"/home/oren/work/notes/notes-nlp/.venv/lib/python3.10/site-packages/prompt_toolkit/key_binding/defaults.py\": 1738206370.2366285, \"/home/oren/work/notes/notes-nlp/.venv/lib/python3.10/site-packages/prompt_toolkit/key_binding/emacs_state.py\": 1738206370.2366285, \"/home/oren/work/notes/notes-nlp/.venv/lib/python3.10/site-packages/prompt_toolkit/layout/dummy.py\": 1738206370.2396286, \"/home/oren/work/notes/notes-nlp/.venv/lib/python3.10/site-packages/prompt_toolkit/renderer.py\": 1738206370.2296288, \"/home/oren/work/notes/notes-nlp/.venv/lib/python3.10/site-packages/prompt_toolkit/application/application.py\": 1738206370.2306287, \"/home/oren/work/notes/notes-nlp/.venv/lib/python3.10/site-packages/prompt_toolkit/application/dummy.py\": 1738206370.2316287, \"/home/oren/work/notes/notes-nlp/.venv/lib/python3.10/site-packages/prompt_toolkit/application/__init__.py\": 1738206370.2306287, \"/home/oren/work/notes/notes-nlp/.venv/lib/python3.10/site-packages/prompt_toolkit/key_binding/bindings/focus.py\": 1738206370.2376287, \"/home/oren/work/notes/notes-nlp/.venv/lib/python3.10/site-packages/prompt_toolkit/widgets/toolbars.py\": 1738206370.2436285, \"/home/oren/work/notes/notes-nlp/.venv/lib/python3.10/site-packages/prompt_toolkit/widgets/base.py\": 1738206370.2436285, \"/home/oren/work/notes/notes-nlp/.venv/lib/python3.10/site-packages/prompt_toolkit/widgets/dialogs.py\": 1738206370.2436285, \"/home/oren/work/notes/notes-nlp/.venv/lib/python3.10/site-packages/prompt_toolkit/widgets/menus.py\": 1738206370.2436285, \"/home/oren/work/notes/notes-nlp/.venv/lib/python3.10/site-packages/prompt_toolkit/widgets/__init__.py\": 1738206370.2436285, \"/home/oren/work/notes/notes-nlp/.venv/lib/python3.10/site-packages/prompt_toolkit/shortcuts/dialogs.py\": 1738206370.2416286, \"/usr/lib/python3.10/xml/parsers/__init__.py\": 1737124534.0, \"/usr/lib/python3.10/xml/parsers/expat.py\": 1737124534.0, \"/usr/lib/python3.10/xml/dom/expatbuilder.py\": 1737124534.0, \"/home/oren/work/notes/notes-nlp/.venv/lib/python3.10/site-packages/prompt_toolkit/shortcuts/progress_bar/formatters.py\": 1738206370.2426286, \"/home/oren/work/notes/notes-nlp/.venv/lib/python3.10/site-packages/prompt_toolkit/shortcuts/progress_bar/base.py\": 1738206370.2426286, \"/home/oren/work/notes/notes-nlp/.venv/lib/python3.10/site-packages/prompt_toolkit/shortcuts/progress_bar/__init__.py\": 1738206370.2426286, \"/home/oren/work/notes/notes-nlp/.venv/lib/python3.10/site-packages/prompt_toolkit/key_binding/bindings/auto_suggest.py\": 1738206370.2376287, \"/home/oren/work/notes/notes-nlp/.venv/lib/python3.10/site-packages/prompt_toolkit/key_binding/bindings/open_in_editor.py\": 1738206370.2376287, \"/home/oren/work/notes/notes-nlp/.venv/lib/python3.10/site-packages/prompt_toolkit/shortcuts/prompt.py\": 1738206370.2416286, \"/home/oren/work/notes/notes-nlp/.venv/lib/python3.10/site-packages/prompt_toolkit/shortcuts/utils.py\": 1738206370.2426286, \"/home/oren/work/notes/notes-nlp/.venv/lib/python3.10/site-packages/prompt_toolkit/shortcuts/__init__.py\": 1738206370.2416286, \"/home/oren/work/notes/notes-nlp/.venv/lib/python3.10/site-packages/prompt_toolkit/__init__.py\": 1738206370.2286289, \"/home/oren/work/notes/notes-nlp/.venv/lib/python3.10/site-packages/prompt_toolkit/patch_stdout.py\": 1738206370.2296288, \"/home/oren/work/notes/notes-nlp/.venv/lib/python3.10/site-packages/IPython/core/guarded_eval.py\": 1738211116.3588548, \"/home/oren/work/notes/notes-nlp/.venv/lib/python3.10/site-packages/IPython/core/latex_symbols.py\": 1738211116.3608549, \"/home/oren/work/notes/notes-nlp/.venv/lib/python3.10/site-packages/IPython/utils/generics.py\": 1738211116.3798544, \"/home/oren/work/notes/notes-nlp/.venv/lib/python3.10/site-packages/parso/utils.py\": 1738206370.6126225, \"/home/oren/work/notes/notes-nlp/.venv/lib/python3.10/site-packages/parso/tree.py\": 1738206370.6116226, \"/home/oren/work/notes/notes-nlp/.venv/lib/python3.10/site-packages/parso/python/__init__.py\": 1738206370.6126225, \"/home/oren/work/notes/notes-nlp/.venv/lib/python3.10/site-packages/parso/python/token.py\": 1738206370.6146226, \"/home/oren/work/notes/notes-nlp/.venv/lib/python3.10/site-packages/parso/python/tokenize.py\": 1738206370.6146226, \"/home/oren/work/notes/notes-nlp/.venv/lib/python3.10/site-packages/parso/pgen2/grammar_parser.py\": 1738206370.6126225, \"/home/oren/work/notes/notes-nlp/.venv/lib/python3.10/site-packages/parso/pgen2/generator.py\": 1738206370.6126225, \"/home/oren/work/notes/notes-nlp/.venv/lib/python3.10/site-packages/parso/pgen2/__init__.py\": 1738206370.6126225, \"/home/oren/work/notes/notes-nlp/.venv/lib/python3.10/site-packages/parso/parser.py\": 1738206370.6116226, \"/home/oren/work/notes/notes-nlp/.venv/lib/python3.10/site-packages/parso/_compatibility.py\": 1738206370.6116226, \"/usr/lib/python3.10/difflib.py\": 1737124534.0, \"/home/oren/work/notes/notes-nlp/.venv/lib/python3.10/site-packages/parso/python/prefix.py\": 1738206370.6146226, \"/home/oren/work/notes/notes-nlp/.venv/lib/python3.10/site-packages/parso/python/tree.py\": 1738206370.6146226, \"/home/oren/work/notes/notes-nlp/.venv/lib/python3.10/site-packages/parso/python/parser.py\": 1738206370.6136224, \"/home/oren/work/notes/notes-nlp/.venv/lib/python3.10/site-packages/parso/python/diff.py\": 1738206370.6126225, \"/home/oren/work/notes/notes-nlp/.venv/lib/python3.10/site-packages/parso/cache.py\": 1738206370.6116226, \"/home/oren/work/notes/notes-nlp/.venv/lib/python3.10/site-packages/parso/normalizer.py\": 1738206370.6116226, \"/home/oren/work/notes/notes-nlp/.venv/lib/python3.10/site-packages/parso/python/errors.py\": 1738206370.6126225, \"/home/oren/work/notes/notes-nlp/.venv/lib/python3.10/site-packages/parso/python/pep8.py\": 1738206370.6136224, \"/home/oren/work/notes/notes-nlp/.venv/lib/python3.10/site-packages/parso/file_io.py\": 1738206370.6116226, \"/home/oren/work/notes/notes-nlp/.venv/lib/python3.10/site-packages/parso/grammar.py\": 1738206370.6116226, \"/home/oren/work/notes/notes-nlp/.venv/lib/python3.10/site-packages/parso/__init__.py\": 1738206370.6116226, \"/home/oren/work/notes/notes-nlp/.venv/lib/python3.10/site-packages/jedi/parser_utils.py\": 1738208869.6675534, \"/home/oren/work/notes/notes-nlp/.venv/lib/python3.10/site-packages/jedi/debug.py\": 1738208869.6675534, \"/home/oren/work/notes/notes-nlp/.venv/lib/python3.10/site-packages/jedi/settings.py\": 1738208869.6675534, \"/home/oren/work/notes/notes-nlp/.venv/lib/python3.10/site-packages/jedi/cache.py\": 1738208869.6665533, \"/home/oren/work/notes/notes-nlp/.venv/lib/python3.10/site-packages/jedi/file_io.py\": 1738208869.6675534, \"/home/oren/work/notes/notes-nlp/.venv/lib/python3.10/site-packages/jedi/inference/cache.py\": 1738208869.6695533, \"/home/oren/work/notes/notes-nlp/.venv/lib/python3.10/site-packages/jedi/inference/helpers.py\": 1738208869.6705532, \"/home/oren/work/notes/notes-nlp/.venv/lib/python3.10/site-packages/jedi/inference/utils.py\": 1738208869.6715531, \"/home/oren/work/notes/notes-nlp/.venv/lib/python3.10/site-packages/jedi/inference/base_value.py\": 1738208869.6695533, \"/home/oren/work/notes/notes-nlp/.venv/lib/python3.10/site-packages/jedi/inference/sys_path.py\": 1738208869.6715531, \"/home/oren/work/notes/notes-nlp/.venv/lib/python3.10/site-packages/jedi/inference/recursion.py\": 1738208869.6715531, \"/home/oren/work/notes/notes-nlp/.venv/lib/python3.10/site-packages/jedi/inference/flow_analysis.py\": 1738208869.6705532, \"/home/oren/work/notes/notes-nlp/.venv/lib/python3.10/site-packages/jedi/common.py\": 1738208869.6675534, \"/home/oren/work/notes/notes-nlp/.venv/lib/python3.10/site-packages/jedi/inference/lazy_value.py\": 1738208869.6705532, \"/home/oren/work/notes/notes-nlp/.venv/lib/python3.10/site-packages/jedi/inference/docstrings.py\": 1738208869.6705532, \"/home/oren/work/notes/notes-nlp/.venv/lib/python3.10/site-packages/jedi/plugins/__init__.py\": 1738208869.6745532, \"/home/oren/work/notes/notes-nlp/.venv/lib/python3.10/site-packages/jedi/inference/names.py\": 1738208869.6705532, \"/home/oren/work/notes/notes-nlp/.venv/lib/python3.10/site-packages/jedi/inference/filters.py\": 1738208869.6705532, \"/home/oren/work/notes/notes-nlp/.venv/lib/python3.10/site-packages/jedi/inference/compiled/getattr_static.py\": 1738208869.6725533, \"/home/oren/work/notes/notes-nlp/.venv/lib/python3.10/site-packages/jedi/inference/compiled/access.py\": 1738208869.6725533, \"/home/oren/work/notes/notes-nlp/.venv/lib/python3.10/site-packages/jedi/inference/signature.py\": 1738208869.6715531, \"/home/oren/work/notes/notes-nlp/.venv/lib/python3.10/site-packages/jedi/inference/context.py\": 1738208869.6695533, \"/home/oren/work/notes/notes-nlp/.venv/lib/python3.10/site-packages/jedi/inference/compiled/value.py\": 1738208869.6725533, \"/home/oren/work/notes/notes-nlp/.venv/lib/python3.10/site-packages/jedi/inference/compiled/__init__.py\": 1738208869.6715531, \"/home/oren/work/notes/notes-nlp/.venv/lib/python3.10/site-packages/jedi/inference/analysis.py\": 1738208869.6695533, \"/home/oren/work/notes/notes-nlp/.venv/lib/python3.10/site-packages/jedi/inference/gradual/__init__.py\": 1738208869.6725533, \"/home/oren/work/notes/notes-nlp/.venv/lib/python3.10/site-packages/jedi/inference/value/module.py\": 1738208869.6745532, \"/home/oren/work/notes/notes-nlp/.venv/lib/python3.10/site-packages/jedi/inference/value/dynamic_arrays.py\": 1738208869.6735532, \"/home/oren/work/notes/notes-nlp/.venv/lib/python3.10/site-packages/jedi/inference/value/iterable.py\": 1738208869.6745532, \"/home/oren/work/notes/notes-nlp/.venv/lib/python3.10/site-packages/jedi/inference/arguments.py\": 1738208869.6695533, \"/home/oren/work/notes/notes-nlp/.venv/lib/python3.10/site-packages/jedi/inference/parser_cache.py\": 1738208869.6715531, \"/home/oren/work/notes/notes-nlp/.venv/lib/python3.10/site-packages/jedi/inference/gradual/generics.py\": 1738208869.6735532, \"/home/oren/work/notes/notes-nlp/.venv/lib/python3.10/site-packages/jedi/inference/value/function.py\": 1738208869.6745532, \"/home/oren/work/notes/notes-nlp/.venv/lib/python3.10/site-packages/jedi/inference/value/klass.py\": 1738208869.6745532, \"/home/oren/work/notes/notes-nlp/.venv/lib/python3.10/site-packages/jedi/inference/value/instance.py\": 1738208869.6745532, \"/home/oren/work/notes/notes-nlp/.venv/lib/python3.10/site-packages/jedi/inference/value/__init__.py\": 1738208869.6735532, \"/home/oren/work/notes/notes-nlp/.venv/lib/python3.10/site-packages/jedi/inference/gradual/base.py\": 1738208869.6735532, \"/home/oren/work/notes/notes-nlp/.venv/lib/python3.10/site-packages/jedi/inference/gradual/type_var.py\": 1738208869.6735532, \"/home/oren/work/notes/notes-nlp/.venv/lib/python3.10/site-packages/jedi/inference/gradual/typing.py\": 1738208869.6735532, \"/home/oren/work/notes/notes-nlp/.venv/lib/python3.10/site-packages/jedi/inference/gradual/stub_value.py\": 1738208869.6735532, \"/home/oren/work/notes/notes-nlp/.venv/lib/python3.10/site-packages/jedi/inference/gradual/typeshed.py\": 1738208869.6735532, \"/home/oren/work/notes/notes-nlp/.venv/lib/python3.10/site-packages/jedi/_compatibility.py\": 1738208869.6665533, \"/home/oren/work/notes/notes-nlp/.venv/lib/python3.10/site-packages/jedi/inference/compiled/subprocess/functions.py\": 1738208869.6725533, \"/home/oren/work/notes/notes-nlp/.venv/lib/python3.10/site-packages/jedi/api/exceptions.py\": 1738208869.6685534, \"/home/oren/work/notes/notes-nlp/.venv/lib/python3.10/site-packages/jedi/inference/compiled/subprocess/__init__.py\": 1738208869.6725533, \"/home/oren/work/notes/notes-nlp/.venv/lib/python3.10/site-packages/jedi/inference/imports.py\": 1738208869.6705532, \"/home/oren/work/notes/notes-nlp/.venv/lib/python3.10/site-packages/jedi/inference/param.py\": 1738208869.6715531, \"/home/oren/work/notes/notes-nlp/.venv/lib/python3.10/site-packages/jedi/inference/gradual/annotation.py\": 1738208869.6725533, \"/home/oren/work/notes/notes-nlp/.venv/lib/python3.10/site-packages/jedi/inference/value/decorator.py\": 1738208869.6735532, \"/home/oren/work/notes/notes-nlp/.venv/lib/python3.10/site-packages/jedi/inference/syntax_tree.py\": 1738208869.6715531, \"/home/oren/work/notes/notes-nlp/.venv/lib/python3.10/site-packages/jedi/inference/__init__.py\": 1738208869.6695533, \"/home/oren/work/notes/notes-nlp/.venv/lib/python3.10/site-packages/jedi/inference/gradual/conversion.py\": 1738208869.6735532, \"/home/oren/work/notes/notes-nlp/.venv/lib/python3.10/site-packages/jedi/inference/compiled/mixed.py\": 1738208869.6725533, \"/usr/lib/python3.10/pydoc_data/__init__.py\": 1737124534.0, \"/usr/lib/python3.10/pydoc_data/topics.py\": 1737124534.0, \"/home/oren/work/notes/notes-nlp/.venv/lib/python3.10/site-packages/jedi/api/keywords.py\": 1738208869.6685534, \"/home/oren/work/notes/notes-nlp/.venv/lib/python3.10/site-packages/jedi/api/completion_cache.py\": 1738208869.6685534, \"/home/oren/work/notes/notes-nlp/.venv/lib/python3.10/site-packages/jedi/api/helpers.py\": 1738208869.6685534, \"/home/oren/work/notes/notes-nlp/.venv/lib/python3.10/site-packages/jedi/api/classes.py\": 1738208869.6675534, \"/home/oren/work/notes/notes-nlp/.venv/lib/python3.10/site-packages/jedi/api/interpreter.py\": 1738208869.6685534, \"/home/oren/work/notes/notes-nlp/.venv/lib/python3.10/site-packages/jedi/api/strings.py\": 1738208869.6695533, \"/home/oren/work/notes/notes-nlp/.venv/lib/python3.10/site-packages/jedi/api/file_name.py\": 1738208869.6685534, \"/home/oren/work/notes/notes-nlp/.venv/lib/python3.10/site-packages/jedi/inference/docstring_utils.py\": 1738208869.6705532, \"/home/oren/work/notes/notes-nlp/.venv/lib/python3.10/site-packages/jedi/api/completion.py\": 1738208869.6685534, \"/usr/lib/python3.10/filecmp.py\": 1737124534.0, \"/home/oren/work/notes/notes-nlp/.venv/lib/python3.10/site-packages/jedi/api/environment.py\": 1738208869.6685534, \"/home/oren/work/notes/notes-nlp/.venv/lib/python3.10/site-packages/jedi/inference/references.py\": 1738208869.6715531, \"/home/oren/work/notes/notes-nlp/.venv/lib/python3.10/site-packages/jedi/api/project.py\": 1738208869.6685534, \"/home/oren/work/notes/notes-nlp/.venv/lib/python3.10/site-packages/jedi/api/errors.py\": 1738208869.6685534, \"/home/oren/work/notes/notes-nlp/.venv/lib/python3.10/site-packages/jedi/inference/value/namespace.py\": 1738208869.6745532, \"/home/oren/work/notes/notes-nlp/.venv/lib/python3.10/site-packages/jedi/api/refactoring/__init__.py\": 1738208869.6695533, \"/home/oren/work/notes/notes-nlp/.venv/lib/python3.10/site-packages/jedi/api/refactoring/extract.py\": 1738208869.6695533, \"/home/oren/work/notes/notes-nlp/.venv/lib/python3.10/site-packages/jedi/inference/gradual/utils.py\": 1738208869.6735532, \"/home/oren/work/notes/notes-nlp/.venv/lib/python3.10/site-packages/jedi/api/__init__.py\": 1738208869.6675534, \"/home/oren/work/notes/notes-nlp/.venv/lib/python3.10/site-packages/jedi/plugins/stdlib.py\": 1738208869.675553, \"/home/oren/work/notes/notes-nlp/.venv/lib/python3.10/site-packages/jedi/plugins/flask.py\": 1738208869.6745532, \"/home/oren/work/notes/notes-nlp/.venv/lib/python3.10/site-packages/jedi/plugins/pytest.py\": 1738208869.675553, \"/home/oren/work/notes/notes-nlp/.venv/lib/python3.10/site-packages/jedi/plugins/django.py\": 1738208869.6745532, \"/home/oren/work/notes/notes-nlp/.venv/lib/python3.10/site-packages/jedi/plugins/registry.py\": 1738208869.675553, \"/home/oren/work/notes/notes-nlp/.venv/lib/python3.10/site-packages/jedi/__init__.py\": 1738208869.6665533, \"/home/oren/work/notes/notes-nlp/.venv/lib/python3.10/site-packages/IPython/core/completer.py\": 1738211116.356855, \"/home/oren/work/notes/notes-nlp/.venv/lib/python3.10/site-packages/IPython/terminal/ptutils.py\": 1738211116.3748546, \"/home/oren/work/notes/notes-nlp/.venv/lib/python3.10/site-packages/IPython/terminal/shortcuts/auto_match.py\": 1738211116.3758545, \"/home/oren/work/notes/notes-nlp/.venv/lib/python3.10/site-packages/IPython/terminal/shortcuts/filters.py\": 1738211116.3758545, \"/home/oren/work/notes/notes-nlp/.venv/lib/python3.10/site-packages/IPython/terminal/shortcuts/auto_suggest.py\": 1738211116.3758545, \"/home/oren/work/notes/notes-nlp/.venv/lib/python3.10/site-packages/IPython/terminal/shortcuts/__init__.py\": 1738211116.3758545, \"/usr/lib/python3.10/concurrent/futures/thread.py\": 1737124534.0, \"/home/oren/work/notes/notes-nlp/.venv/lib/python3.10/site-packages/IPython/terminal/debugger.py\": 1738211116.3738546, \"/home/oren/work/notes/notes-nlp/.venv/lib/python3.10/site-packages/IPython/lib/clipboard.py\": 1738211116.3708546, \"/home/oren/work/notes/notes-nlp/.venv/lib/python3.10/site-packages/IPython/terminal/magics.py\": 1738211116.3748546, \"/home/oren/work/notes/notes-nlp/.venv/lib/python3.10/site-packages/IPython/terminal/pt_inputhooks/__init__.py\": 1738211116.3748546, \"/home/oren/work/notes/notes-nlp/.venv/lib/python3.10/site-packages/IPython/terminal/prompts.py\": 1738211116.3748546, \"/home/oren/work/notes/notes-nlp/.venv/lib/python3.10/site-packages/IPython/terminal/interactiveshell.py\": 1738211116.3738546, \"/home/oren/work/notes/notes-nlp/.venv/lib/python3.10/site-packages/IPython/core/magics/auto.py\": 1738211116.3628547, \"/home/oren/work/notes/notes-nlp/.venv/lib/python3.10/site-packages/IPython/core/magics/basic.py\": 1738211116.3628547, \"/usr/lib/python3.10/http/__init__.py\": 1737124534.0, \"/usr/lib/python3.10/email/feedparser.py\": 1737124534.0, \"/usr/lib/python3.10/email/parser.py\": 1737124534.0, \"/usr/lib/python3.10/http/client.py\": 1737124534.0, \"/usr/lib/python3.10/urllib/response.py\": 1737124534.0, \"/usr/lib/python3.10/urllib/error.py\": 1737124534.0, \"/usr/lib/python3.10/urllib/request.py\": 1737124534.0, \"/home/oren/work/notes/notes-nlp/.venv/lib/python3.10/site-packages/IPython/utils/contexts.py\": 1738211116.3798544, \"/home/oren/work/notes/notes-nlp/.venv/lib/python3.10/site-packages/IPython/core/magics/code.py\": 1738211116.363855, \"/home/oren/work/notes/notes-nlp/.venv/lib/python3.10/site-packages/IPython/core/magics/config.py\": 1738211116.363855, \"/home/oren/work/notes/notes-nlp/.venv/lib/python3.10/site-packages/IPython/core/magics/display.py\": 1738211116.363855, \"/usr/lib/python3.10/lib-dynload/_lsprof.cpython-310-x86_64-linux-gnu.so\": 1737124534.0, \"/usr/lib/python3.10/profile.py\": 1737124534.0, \"/usr/lib/python3.10/cProfile.py\": 1737124534.0, \"/usr/lib/python3.10/pstats.py\": 1737124534.0, \"/usr/lib/python3.10/timeit.py\": 1737124534.0, \"/home/oren/work/notes/notes-nlp/.venv/lib/python3.10/site-packages/IPython/utils/module_paths.py\": 1738211116.3808546, \"/usr/lib/python3.10/lib-dynload/resource.cpython-310-x86_64-linux-gnu.so\": 1737124534.0, \"/home/oren/work/notes/notes-nlp/.venv/lib/python3.10/site-packages/IPython/utils/timing.py\": 1738211116.3818545, \"/home/oren/work/notes/notes-nlp/.venv/lib/python3.10/site-packages/IPython/core/magics/ast_mod.py\": 1738211116.3628547, \"/home/oren/work/notes/notes-nlp/.venv/lib/python3.10/site-packages/IPython/core/magics/execution.py\": 1738211116.363855, \"/home/oren/work/notes/notes-nlp/.venv/lib/python3.10/site-packages/IPython/core/magics/extension.py\": 1738211116.363855, \"/home/oren/work/notes/notes-nlp/.venv/lib/python3.10/site-packages/IPython/core/magics/history.py\": 1738211116.363855, \"/home/oren/work/notes/notes-nlp/.venv/lib/python3.10/site-packages/IPython/core/magics/logging.py\": 1738211116.363855, \"/home/oren/work/notes/notes-nlp/.venv/lib/python3.10/site-packages/IPython/core/magics/namespace.py\": 1738211116.363855, \"/home/oren/work/notes/notes-nlp/.venv/lib/python3.10/site-packages/IPython/core/magics/osm.py\": 1738211116.3648548, \"/home/oren/work/notes/notes-nlp/.venv/lib/python3.10/site-packages/IPython/core/magics/packaging.py\": 1738211116.3648548, \"/home/oren/work/notes/notes-nlp/.venv/lib/python3.10/site-packages/IPython/core/magics/pylab.py\": 1738211116.3648548, \"/home/oren/work/notes/notes-nlp/.venv/lib/python3.10/site-packages/IPython/core/magics/script.py\": 1738211116.3648548, \"/home/oren/work/notes/notes-nlp/.venv/lib/python3.10/site-packages/IPython/core/magics/__init__.py\": 1738211116.3628547, \"/home/oren/work/notes/notes-nlp/.venv/lib/python3.10/site-packages/IPython/core/shellapp.py\": 1738211116.3618548, \"/home/oren/work/notes/notes-nlp/.venv/lib/python3.10/site-packages/IPython/extensions/__init__.py\": 1738211116.3698547, \"/home/oren/work/notes/notes-nlp/.venv/lib/python3.10/site-packages/IPython/extensions/storemagic.py\": 1738211116.3698547, \"/home/oren/work/notes/notes-nlp/.venv/lib/python3.10/site-packages/IPython/terminal/ipapp.py\": 1738211116.3738546, \"/home/oren/work/notes/notes-nlp/.venv/lib/python3.10/site-packages/IPython/terminal/embed.py\": 1738211116.3738546, \"/home/oren/work/notes/notes-nlp/.venv/lib/python3.10/site-packages/IPython/utils/frame.py\": 1738211116.3798544, \"/home/oren/work/notes/notes-nlp/.venv/lib/python3.10/site-packages/IPython/__init__.py\": 1738211116.355855, \"/home/oren/work/notes/notes-nlp/.venv/lib/python3.10/site-packages/ipykernel/control.py\": 1738211119.9207983, \"/home/oren/work/notes/notes-nlp/.venv/lib/python3.10/site-packages/ipykernel/heartbeat.py\": 1738211119.9207983, \"/home/oren/work/notes/notes-nlp/.venv/lib/python3.10/site-packages/ipykernel/iostream.py\": 1738211119.9217982, \"/home/oren/work/notes/notes-nlp/.venv/lib/python3.10/site-packages/comm/base_comm.py\": 1738208871.9115176, \"/home/oren/work/notes/notes-nlp/.venv/lib/python3.10/site-packages/comm/__init__.py\": 1738208871.9115176, \"/home/oren/work/notes/notes-nlp/.venv/lib/python3.10/site-packages/ipykernel/jsonutil.py\": 1738211119.9217982, \"/home/oren/work/notes/notes-nlp/.venv/lib/python3.10/site-packages/psutil/_common.py\": 1738206370.0776312, \"/home/oren/work/notes/notes-nlp/.venv/lib/python3.10/site-packages/psutil/_compat.py\": 1738206370.0786312, \"/home/oren/work/notes/notes-nlp/.venv/lib/python3.10/site-packages/psutil/_psposix.py\": 1738206370.0776312, \"/home/oren/work/notes/notes-nlp/.venv/lib/python3.10/site-packages/psutil/_psutil_linux.abi3.so\": 1738206370.079631, \"/home/oren/work/notes/notes-nlp/.venv/lib/python3.10/site-packages/psutil/_psutil_posix.abi3.so\": 1738206370.0776312, \"/home/oren/work/notes/notes-nlp/.venv/lib/python3.10/site-packages/psutil/_pslinux.py\": 1738206370.0766313, \"/home/oren/work/notes/notes-nlp/.venv/lib/python3.10/site-packages/psutil/__init__.py\": 1738206370.0786312, \"/home/oren/work/notes/notes-nlp/.venv/lib/python3.10/site-packages/tornado/gen.py\": 1738206367.9866652, \"/home/oren/work/notes/notes-nlp/.venv/lib/python3.10/site-packages/tornado/locks.py\": 1738206367.9856653, \"/home/oren/work/notes/notes-nlp/.venv/lib/python3.10/site-packages/tornado/queues.py\": 1738206367.9906652, \"/home/oren/work/notes/notes-nlp/.venv/lib/python3.10/site-packages/ipykernel/kernelbase.py\": 1738211119.9217982, \"/home/oren/work/notes/notes-nlp/.venv/lib/python3.10/site-packages/ipykernel/comm/comm.py\": 1738211119.9227982, \"/home/oren/work/notes/notes-nlp/.venv/lib/python3.10/site-packages/ipykernel/comm/manager.py\": 1738211119.9227982, \"/home/oren/work/notes/notes-nlp/.venv/lib/python3.10/site-packages/ipykernel/comm/__init__.py\": 1738211119.9227982, \"/home/oren/work/notes/notes-nlp/.venv/lib/python3.10/site-packages/ipykernel/compiler.py\": 1738211119.9207983, \"/home/oren/work/notes/notes-nlp/.venv/lib/python3.10/site-packages/packaging/__init__.py\": 1738206370.648622, \"/home/oren/work/notes/notes-nlp/.venv/lib/python3.10/site-packages/packaging/_structures.py\": 1738206370.649622, \"/home/oren/work/notes/notes-nlp/.venv/lib/python3.10/site-packages/packaging/version.py\": 1738206370.650622, \"/home/oren/work/notes/notes-nlp/.venv/lib/python3.10/site-packages/ipykernel/eventloops.py\": 1738211119.9207983, \"/home/oren/work/notes/notes-nlp/.venv/lib/python3.10/site-packages/IPython/core/payloadpage.py\": 1738211116.3618548, \"/home/oren/work/notes/notes-nlp/.venv/lib/python3.10/site-packages/ipykernel/displayhook.py\": 1738211119.9207983, \"/home/oren/work/notes/notes-nlp/.venv/lib/python3.10/site-packages/ipykernel/zmqshell.py\": 1738211119.9227982, \"/home/oren/work/notes/notes-nlp/.venv/lib/python3.10/site-packages/ipykernel/ipkernel.py\": 1738211119.9217982, \"/home/oren/work/notes/notes-nlp/.venv/lib/python3.10/site-packages/ipykernel/parentpoller.py\": 1738211119.9217982, \"/home/oren/work/notes/notes-nlp/.venv/lib/python3.10/site-packages/ipykernel/kernelapp.py\": 1738211119.9217982, \"/home/oren/work/notes/notes-nlp/.venv/lib/python3.10/site-packages/tornado/platform/__init__.py\": 1738206367.998665, \"/home/oren/work/notes/notes-nlp/.venv/lib/python3.10/site-packages/tornado/platform/asyncio.py\": 1738206367.998665, \"/home/oren/work/notes/notes-nlp/.venv/lib/python3.10/site-packages/debugpy/_version.py\": 1738208871.4625247, \"/home/oren/work/notes/notes-nlp/.venv/lib/python3.10/site-packages/debugpy/public_api.py\": 1738208871.4625247, \"/home/oren/work/notes/notes-nlp/.venv/lib/python3.10/site-packages/debugpy/__init__.py\": 1738208871.4625247, \"/home/oren/work/notes/notes-nlp/.venv/lib/python3.10/site-packages/debugpy/_vendored/_util.py\": 1738208871.4635246, \"/home/oren/work/notes/notes-nlp/.venv/lib/python3.10/site-packages/debugpy/_vendored/__init__.py\": 1738208871.4635246, \"/home/oren/work/notes/notes-nlp/.venv/lib/python3.10/site-packages/debugpy/_vendored/pydevd/_pydevd_bundle/__init__.py\": 1738208871.4765244, \"/usr/lib/python3.10/encodings/ascii.py\": 1737124534.0, \"/usr/lib/python3.10/encodings/latin_1.py\": 1737124534.0, \"/usr/lib/python3.10/stringprep.py\": 1737124534.0, \"/usr/lib/python3.10/encodings/idna.py\": 1737124534.0, \"/home/oren/work/notes/notes-nlp/.venv/lib/python3.10/site-packages/debugpy/_vendored/pydevd/_pydevd_bundle/pydevd_vm_type.py\": 1738208871.4765244, \"/home/oren/work/notes/notes-nlp/.venv/lib/python3.10/site-packages/debugpy/_vendored/pydevd/_pydev_bundle/__init__.py\": 1738208871.4665246, \"/usr/lib/python3.10/xmlrpc/__init__.py\": 1737124534.0, \"/usr/lib/python3.10/gzip.py\": 1737124534.0, \"/usr/lib/python3.10/xmlrpc/client.py\": 1737124534.0, \"/usr/lib/python3.10/http/server.py\": 1737124534.0, \"/usr/lib/python3.10/xmlrpc/server.py\": 1737124534.0, \"/home/oren/work/notes/notes-nlp/.venv/lib/python3.10/site-packages/debugpy/_vendored/pydevd/_pydev_bundle/_pydev_saved_modules.py\": 1738208871.4655247, \"/home/oren/work/notes/notes-nlp/.venv/lib/python3.10/site-packages/debugpy/_vendored/pydevd/_pydevd_bundle/pydevd_constants.py\": 1738208871.4685247, \"/home/oren/work/notes/notes-nlp/.venv/lib/python3.10/site-packages/debugpy/_vendored/pydevd/_pydev_runfiles/__init__.py\": 1738208871.5095239, \"/home/oren/work/notes/notes-nlp/.venv/lib/python3.10/site-packages/debugpy/_vendored/pydevd/_pydevd_frame_eval/__init__.py\": 1738208871.5285237, \"/home/oren/work/notes/notes-nlp/.venv/lib/python3.10/site-packages/debugpy/_vendored/pydevd/pydev_ipython/__init__.py\": 1738208871.507524, \"/home/oren/work/notes/notes-nlp/.venv/lib/python3.10/site-packages/debugpy/_vendored/pydevd/pydevd_plugins/__init__.py\": 1738208871.508524, \"/home/oren/work/notes/notes-nlp/.venv/lib/python3.10/site-packages/debugpy/_vendored/pydevd/_pydev_bundle/pydev_log.py\": 1738208871.4665246, \"/home/oren/work/notes/notes-nlp/.venv/lib/python3.10/site-packages/debugpy/_vendored/pydevd/_pydev_bundle/_pydev_filesystem_encoding.py\": 1738208871.4675245, \"/home/oren/work/notes/notes-nlp/.venv/lib/python3.10/site-packages/debugpy/_vendored/pydevd/_pydevd_bundle/pydevd_comm_constants.py\": 1738208871.4705245, \"/home/oren/work/notes/notes-nlp/.venv/lib/python3.10/site-packages/debugpy/_vendored/pydevd/pydevd_file_utils.py\": 1738208871.4645247, \"/home/oren/work/notes/notes-nlp/.venv/lib/python3.10/site-packages/debugpy/_vendored/pydevd/_pydevd_bundle/pydevd_dont_trace_files.py\": 1738208871.4765244, \"/home/oren/work/notes/notes-nlp/.venv/lib/python3.10/site-packages/debugpy/_vendored/pydevd/_pydev_bundle/_pydev_execfile.py\": 1738208871.4665246, \"/home/oren/work/notes/notes-nlp/.venv/lib/python3.10/site-packages/debugpy/_vendored/pydevd/_pydevd_bundle/pydevd_exec2.py\": 1738208871.496524, \"/home/oren/work/notes/notes-nlp/.venv/lib/python3.10/site-packages/debugpy/_vendored/pydevd/_pydev_bundle/pydev_imports.py\": 1738208871.4675245, \"/home/oren/work/notes/notes-nlp/.venv/lib/python3.10/site-packages/debugpy/_vendored/pydevd/_pydev_bundle/pydev_is_thread_alive.py\": 1738208871.4665246, \"/home/oren/work/notes/notes-nlp/.venv/lib/python3.10/site-packages/debugpy/_vendored/pydevd/_pydev_bundle/pydev_override.py\": 1738208871.4655247, \"/home/oren/work/notes/notes-nlp/.venv/lib/python3.10/site-packages/debugpy/_vendored/pydevd/pydevd_plugins/extensions/__init__.py\": 1738208871.508524, \"/home/oren/work/notes/notes-nlp/.venv/lib/python3.10/site-packages/debugpy/_vendored/pydevd/_pydevd_bundle/pydevd_extension_utils.py\": 1738208871.4685247, \"/home/oren/work/notes/notes-nlp/.venv/lib/python3.10/site-packages/debugpy/_vendored/pydevd/_pydevd_bundle/pydevd_frame_utils.py\": 1738208871.4775245, \"/home/oren/work/notes/notes-nlp/.venv/lib/python3.10/site-packages/debugpy/_vendored/pydevd/_pydevd_bundle/pydevd_filtering.py\": 1738208871.4675245, \"/home/oren/work/notes/notes-nlp/.venv/lib/python3.10/site-packages/debugpy/_vendored/pydevd/_pydevd_bundle/pydevd_io.py\": 1738208871.497524, \"/home/oren/work/notes/notes-nlp/.venv/lib/python3.10/site-packages/debugpy/_vendored/pydevd/_pydevd_bundle/pydevd_defaults.py\": 1738208871.4765244, \"/home/oren/work/notes/notes-nlp/.venv/lib/python3.10/site-packages/debugpy/_vendored/pydevd/_pydevd_bundle/pydevd_utils.py\": 1738208871.4675245, \"/home/oren/work/notes/notes-nlp/.venv/lib/python3.10/site-packages/debugpy/_vendored/pydevd/_pydevd_bundle/pydevd_runpy.py\": 1738208871.4785244, \"/home/oren/work/notes/notes-nlp/.venv/lib/python3.10/site-packages/debugpy/_vendored/pydevd/_pydev_bundle/_pydev_tipper_common.py\": 1738208871.4675245, \"/home/oren/work/notes/notes-nlp/.venv/lib/python3.10/site-packages/debugpy/_vendored/pydevd/_pydev_bundle/_pydev_imports_tipper.py\": 1738208871.4655247, \"/home/oren/work/notes/notes-nlp/.venv/lib/python3.10/site-packages/debugpy/_vendored/pydevd/_pydev_bundle/_pydev_calltip_util.py\": 1738208871.4665246, \"/home/oren/work/notes/notes-nlp/.venv/lib/python3.10/site-packages/debugpy/_vendored/pydevd/_pydevd_bundle/pydevd_safe_repr.py\": 1738208871.4785244, \"/home/oren/work/notes/notes-nlp/.venv/lib/python3.10/site-packages/debugpy/_vendored/pydevd/_pydevd_bundle/pydevd_resolver.py\": 1738208871.4785244, \"/home/oren/work/notes/notes-nlp/.venv/lib/python3.10/site-packages/debugpy/_vendored/pydevd/_pydevd_bundle/pydevd_extension_api.py\": 1738208871.4765244, \"/home/oren/work/notes/notes-nlp/.venv/lib/python3.10/site-packages/debugpy/_vendored/pydevd/_pydevd_bundle/pydevd_xml.py\": 1738208871.4785244, \"/home/oren/work/notes/notes-nlp/.venv/lib/python3.10/site-packages/debugpy/_vendored/pydevd/_pydevd_bundle/pydevd_dont_trace.py\": 1738208871.4765244, \"/home/oren/work/notes/notes-nlp/.venv/lib/python3.10/site-packages/debugpy/_vendored/pydevd/_pydevd_frame_eval/vendored/__init__.py\": 1738208871.5315237, \"/home/oren/work/notes/notes-nlp/.venv/lib/python3.10/site-packages/debugpy/_vendored/pydevd/_pydevd_frame_eval/vendored/bytecode/flags.py\": 1738208871.5325236, \"/home/oren/work/notes/notes-nlp/.venv/lib/python3.10/site-packages/debugpy/_vendored/pydevd/_pydevd_frame_eval/vendored/bytecode/instr.py\": 1738208871.5315237, \"/home/oren/work/notes/notes-nlp/.venv/lib/python3.10/site-packages/debugpy/_vendored/pydevd/_pydevd_frame_eval/vendored/bytecode/bytecode.py\": 1738208871.5325236, \"/home/oren/work/notes/notes-nlp/.venv/lib/python3.10/site-packages/debugpy/_vendored/pydevd/_pydevd_frame_eval/vendored/bytecode/concrete.py\": 1738208871.5315237, \"/home/oren/work/notes/notes-nlp/.venv/lib/python3.10/site-packages/debugpy/_vendored/pydevd/_pydevd_frame_eval/vendored/bytecode/cfg.py\": 1738208871.5325236, \"/home/oren/work/notes/notes-nlp/.venv/lib/python3.10/site-packages/debugpy/_vendored/pydevd/_pydevd_frame_eval/vendored/bytecode/__init__.py\": 1738208871.5325236, \"/home/oren/work/notes/notes-nlp/.venv/lib/python3.10/site-packages/debugpy/_vendored/pydevd/_pydevd_bundle/pydevd_bytecode_utils.py\": 1738208871.496524, \"/home/oren/work/notes/notes-nlp/.venv/lib/python3.10/site-packages/debugpy/_vendored/pydevd/_pydevd_bundle/pydevd_cython.cpython-310-x86_64-linux-gnu.so\": 1738208871.4955242, \"/home/oren/work/notes/notes-nlp/.venv/lib/python3.10/site-packages/debugpy/_vendored/pydevd/_pydevd_bundle/pydevd_cython_wrapper.py\": 1738208871.4705245, \"/home/oren/work/notes/notes-nlp/.venv/lib/python3.10/site-packages/debugpy/_vendored/pydevd/_pydevd_bundle/pydevd_additional_thread_info.py\": 1738208871.4685247, \"/home/oren/work/notes/notes-nlp/.venv/lib/python3.10/site-packages/debugpy/_vendored/pydevd/_pydevd_bundle/pydevd_additional_thread_info_regular.py\": 1738208871.4695246, \"/home/oren/work/notes/notes-nlp/.venv/lib/python3.10/site-packages/debugpy/_vendored/pydevd/_pydevd_bundle/pydevd_trace_dispatch.py\": 1738208871.4765244, \"/home/oren/work/notes/notes-nlp/.venv/lib/python3.10/site-packages/debugpy/_vendored/pydevd/_pydevd_bundle/pydevd_import_class.py\": 1738208871.4765244, \"/home/oren/work/notes/notes-nlp/.venv/lib/python3.10/site-packages/debugpy/_vendored/pydevd/_pydevd_bundle/pydevd_breakpoints.py\": 1738208871.4675245, \"/home/oren/work/notes/notes-nlp/.venv/lib/python3.10/site-packages/debugpy/_vendored/pydevd/_pydevd_sys_monitoring/_pydevd_sys_monitoring.py\": 1738208871.506524, \"/home/oren/work/notes/notes-nlp/.venv/lib/python3.10/site-packages/debugpy/_vendored/pydevd/_pydevd_sys_monitoring/pydevd_sys_monitoring.py\": 1738208871.505524, \"/home/oren/work/notes/notes-nlp/.venv/lib/python3.10/site-packages/debugpy/_vendored/pydevd/_pydevd_bundle/pydevd_thread_lifecycle.py\": 1738208871.4765244, \"/home/oren/work/notes/notes-nlp/.venv/lib/python3.10/site-packages/debugpy/_vendored/pydevd/_pydevd_bundle/pydevd_save_locals.py\": 1738208871.497524, \"/home/oren/work/notes/notes-nlp/.venv/lib/python3.10/site-packages/debugpy/_vendored/pydevd/_pydev_bundle/pydev_monkey.py\": 1738208871.4665246, \"/home/oren/work/notes/notes-nlp/.venv/lib/python3.10/site-packages/debugpy/_vendored/pydevd/pydevd_tracing.py\": 1738208871.4635246, \"/home/oren/work/notes/notes-nlp/.venv/lib/python3.10/site-packages/debugpy/_vendored/pydevd/_pydevd_bundle/pydevd_collect_bytecode_info.py\": 1738208871.4695246, \"/home/oren/work/notes/notes-nlp/.venv/lib/python3.10/site-packages/debugpy/_vendored/pydevd/_pydevd_bundle/pydevd_daemon_thread.py\": 1738208871.4685247, \"/home/oren/work/notes/notes-nlp/.venv/lib/python3.10/site-packages/debugpy/_vendored/pydevd/_pydevd_bundle/pydevd_timeout.py\": 1738208871.496524, \"/home/oren/work/notes/notes-nlp/.venv/lib/python3.10/site-packages/debugpy/_vendored/pydevd/_pydevd_bundle/pydevd_vars.py\": 1738208871.4685247, \"/home/oren/work/notes/notes-nlp/.venv/lib/python3.10/site-packages/debugpy/_vendored/pydevd/_pydev_bundle/pydev_console_utils.py\": 1738208871.4655247, \"/home/oren/work/notes/notes-nlp/.venv/lib/python3.10/site-packages/debugpy/_vendored/pydevd/_pydevd_bundle/pydevd_custom_frames.py\": 1738208871.4775245, \"/home/oren/work/notes/notes-nlp/.venv/lib/python3.10/site-packages/debugpy/_vendored/pydevd/_pydevd_bundle/pydevd_net_command.py\": 1738208871.4695246, \"/home/oren/work/notes/notes-nlp/.venv/lib/python3.10/site-packages/debugpy/_vendored/pydevd/_pydevd_bundle/pydevconsole_code.py\": 1738208871.497524, \"/home/oren/work/notes/notes-nlp/.venv/lib/python3.10/site-packages/debugpy/_vendored/pydevd/_pydev_bundle/pydev_umd.py\": 1738208871.4665246, \"/home/oren/work/notes/notes-nlp/.venv/lib/python3.10/site-packages/debugpy/_vendored/pydevd/pydevconsole.py\": 1738208871.4645247, \"/home/oren/work/notes/notes-nlp/.venv/lib/python3.10/site-packages/debugpy/_vendored/pydevd/_pydev_bundle/_pydev_completer.py\": 1738208871.4665246, \"/home/oren/work/notes/notes-nlp/.venv/lib/python3.10/site-packages/debugpy/_vendored/pydevd/_pydevd_bundle/pydevd_net_command_factory_xml.py\": 1738208871.4695246, \"/home/oren/work/notes/notes-nlp/.venv/lib/python3.10/site-packages/debugpy/_vendored/pydevd/_pydevd_frame_eval/pydevd_frame_eval_main.py\": 1738208871.5215237, \"/home/oren/work/notes/notes-nlp/.venv/lib/python3.10/site-packages/debugpy/_vendored/pydevd/_pydevd_bundle/pydevd_source_mapping.py\": 1738208871.4695246, \"/home/oren/work/notes/notes-nlp/.venv/lib/python3.10/site-packages/debugpy/_vendored/pydevd/_pydevd_bundle/pydevd_concurrency_analyser/__init__.py\": 1738208871.500524, \"/home/oren/work/notes/notes-nlp/.venv/lib/python3.10/site-packages/debugpy/_vendored/pydevd/_pydevd_bundle/pydevd_concurrency_analyser/pydevd_thread_wrappers.py\": 1738208871.500524, \"/home/oren/work/notes/notes-nlp/.venv/lib/python3.10/site-packages/debugpy/_vendored/pydevd/_pydevd_bundle/pydevd_concurrency_analyser/pydevd_concurrency_logger.py\": 1738208871.500524, \"/home/oren/work/notes/notes-nlp/.venv/lib/python3.10/site-packages/debugpy/_vendored/pydevd/_pydevd_bundle/_debug_adapter/__init__.py\": 1738208871.4985242, \"/home/oren/work/notes/notes-nlp/.venv/lib/python3.10/site-packages/debugpy/_vendored/pydevd/_pydevd_bundle/_debug_adapter/pydevd_schema_log.py\": 1738208871.497524, \"/home/oren/work/notes/notes-nlp/.venv/lib/python3.10/site-packages/debugpy/_vendored/pydevd/_pydevd_bundle/_debug_adapter/pydevd_base_schema.py\": 1738208871.497524, \"/home/oren/work/notes/notes-nlp/.venv/lib/python3.10/site-packages/debugpy/_vendored/pydevd/_pydevd_bundle/_debug_adapter/pydevd_schema.py\": 1738208871.500524, \"/home/oren/work/notes/notes-nlp/.venv/lib/python3.10/site-packages/debugpy/_vendored/pydevd/_pydevd_bundle/pydevd_reload.py\": 1738208871.4775245, \"/home/oren/work/notes/notes-nlp/.venv/lib/python3.10/site-packages/debugpy/_vendored/pydevd/_pydev_bundle/fsnotify/__init__.py\": 1738208871.4675245, \"/home/oren/work/notes/notes-nlp/.venv/lib/python3.10/site-packages/debugpy/_vendored/pydevd/_pydevd_bundle/pydevd_console.py\": 1738208871.496524, \"/home/oren/work/notes/notes-nlp/.venv/lib/python3.10/site-packages/debugpy/_vendored/pydevd/_pydevd_bundle/pydevd_comm.py\": 1738208871.4775245, \"/home/oren/work/notes/notes-nlp/.venv/lib/python3.10/site-packages/debugpy/_vendored/pydevd/_pydevd_bundle/pydevd_net_command_factory_json.py\": 1738208871.4785244, \"/home/oren/work/notes/notes-nlp/.venv/lib/python3.10/site-packages/debugpy/_vendored/pydevd/_pydevd_bundle/pydevd_api.py\": 1738208871.4785244, \"/home/oren/work/notes/notes-nlp/.venv/lib/python3.10/site-packages/debugpy/_vendored/pydevd/_pydevd_bundle/pydevd_json_debug_options.py\": 1738208871.4695246, \"/home/oren/work/notes/notes-nlp/.venv/lib/python3.10/site-packages/debugpy/_vendored/pydevd/_pydevd_bundle/pydevd_process_net_command_json.py\": 1738208871.4695246, \"/home/oren/work/notes/notes-nlp/.venv/lib/python3.10/site-packages/debugpy/_vendored/pydevd/_pydevd_bundle/pydevd_traceproperty.py\": 1738208871.4705245, \"/home/oren/work/notes/notes-nlp/.venv/lib/python3.10/site-packages/debugpy/_vendored/pydevd/_pydevd_bundle/pydevd_process_net_command.py\": 1738208871.4775245, \"/home/oren/work/notes/notes-nlp/.venv/lib/python3.10/site-packages/debugpy/_vendored/pydevd/_pydevd_bundle/pydevd_suspended_frames.py\": 1738208871.4695246, \"/home/oren/work/notes/notes-nlp/.venv/lib/python3.10/site-packages/debugpy/_vendored/pydevd/pydevd_plugins/pydevd_line_validation.py\": 1738208871.508524, \"/home/oren/work/notes/notes-nlp/.venv/lib/python3.10/site-packages/debugpy/_vendored/pydevd/pydevd_plugins/django_debug.py\": 1738208871.508524, \"/home/oren/work/notes/notes-nlp/.venv/lib/python3.10/site-packages/debugpy/_vendored/pydevd/pydevd_plugins/jinja2_debug.py\": 1738208871.508524, \"/home/oren/work/notes/notes-nlp/.venv/lib/python3.10/site-packages/debugpy/_vendored/pydevd/_pydevd_bundle/pydevd_plugin_utils.py\": 1738208871.496524, \"/home/oren/work/notes/notes-nlp/.venv/lib/python3.10/site-packages/debugpy/_vendored/pydevd/pydevd_plugins/extensions/types/__init__.py\": 1738208871.508524, \"/home/oren/work/notes/notes-nlp/.venv/lib/python3.10/site-packages/debugpy/_vendored/pydevd/pydevd_plugins/extensions/types/pydevd_helpers.py\": 1738208871.508524, \"/home/oren/work/notes/notes-nlp/.venv/lib/python3.10/site-packages/debugpy/_vendored/pydevd/pydevd_plugins/extensions/types/pydevd_plugin_numpy_types.py\": 1738208871.508524, \"/home/oren/work/notes/notes-nlp/.venv/lib/python3.10/site-packages/debugpy/_vendored/pydevd/pydevd_plugins/extensions/types/pydevd_plugin_pandas_types.py\": 1738208871.5095239, \"/home/oren/work/notes/notes-nlp/.venv/lib/python3.10/site-packages/debugpy/_vendored/pydevd/pydevd_plugins/extensions/types/pydevd_plugins_django_form_str.py\": 1738208871.508524, \"/home/oren/work/notes/notes-nlp/.venv/lib/python3.10/site-packages/debugpy/_vendored/pydevd/pydevd.py\": 1738208871.4645247, \"/home/oren/work/notes/notes-nlp/.venv/lib/python3.10/site-packages/debugpy/_vendored/force_pydevd.py\": 1738208871.4635246, \"/home/oren/work/notes/notes-nlp/.venv/lib/python3.10/site-packages/debugpy/server/__init__.py\": 1738208871.5345235, \"/home/oren/work/notes/notes-nlp/.venv/lib/python3.10/site-packages/debugpy/adapter/__init__.py\": 1738208871.5355234, \"/home/oren/work/notes/notes-nlp/.venv/lib/python3.10/site-packages/debugpy/common/__init__.py\": 1738208871.5345235, \"/home/oren/work/notes/notes-nlp/.venv/lib/python3.10/site-packages/debugpy/common/json.py\": 1738208871.5335236, \"/home/oren/work/notes/notes-nlp/.venv/lib/python3.10/site-packages/debugpy/common/timestamp.py\": 1738208871.5345235, \"/home/oren/work/notes/notes-nlp/.venv/lib/python3.10/site-packages/debugpy/common/util.py\": 1738208871.5345235, \"/home/oren/work/notes/notes-nlp/.venv/lib/python3.10/site-packages/debugpy/common/log.py\": 1738208871.5345235, \"/home/oren/work/notes/notes-nlp/.venv/lib/python3.10/site-packages/debugpy/common/sockets.py\": 1738208871.5335236, \"/home/oren/work/notes/notes-nlp/.venv/lib/python3.10/site-packages/debugpy/server/api.py\": 1738208871.5355234, \"/home/oren/work/notes/notes-nlp/.venv/lib/python3.10/site-packages/ipykernel/debugger.py\": 1738211119.9207983, \"/home/oren/work/notes/notes-nlp/.venv/lib/python3.10/site-packages/IPython/core/completerlib.py\": 1738211116.356855, \"/home/oren/work/notes/notes-nlp/.venv/lib/python3.10/site-packages/matplotlib/_api/deprecation.py\": 1738211113.762896, \"/home/oren/work/notes/notes-nlp/.venv/lib/python3.10/site-packages/matplotlib/_api/__init__.py\": 1738211113.762896, \"/home/oren/work/notes/notes-nlp/.venv/lib/python3.10/site-packages/matplotlib/_version.py\": 1738211113.6558979, \"/home/oren/work/notes/notes-nlp/.venv/lib/python3.10/site-packages/numpy/_utils/_convertions.py\": 1738208868.3505743, \"/home/oren/work/notes/notes-nlp/.venv/lib/python3.10/site-packages/numpy/_utils/__init__.py\": 1738208868.3505743, \"/home/oren/work/notes/notes-nlp/.venv/lib/python3.10/site-packages/numpy/_globals.py\": 1738208868.236576, \"/home/oren/work/notes/notes-nlp/.venv/lib/python3.10/site-packages/numpy/_expired_attrs_2_0.py\": 1738208868.2345762, \"/home/oren/work/notes/notes-nlp/.venv/lib/python3.10/site-packages/numpy/version.py\": 1738208868.236576, \"/home/oren/work/notes/notes-nlp/.venv/lib/python3.10/site-packages/numpy/_distributor_init.py\": 1738208868.236576, \"/home/oren/work/notes/notes-nlp/.venv/lib/python3.10/site-packages/numpy/_utils/_inspect.py\": 1738208868.3495743, \"/home/oren/work/notes/notes-nlp/.venv/lib/python3.10/site-packages/numpy/exceptions.py\": 1738208868.237576, \"/home/oren/work/notes/notes-nlp/.venv/lib/python3.10/site-packages/numpy/_core/_exceptions.py\": 1738208868.2895753, \"/home/oren/work/notes/notes-nlp/.venv/lib/python3.10/site-packages/numpy/dtypes.py\": 1738208868.236576, \"/home/oren/work/notes/notes-nlp/.venv/lib/python3.10/site-packages/numpy/_core/_multiarray_umath.cpython-310-x86_64-linux-gnu.so\": 1738208868.2745755, \"/home/oren/work/notes/notes-nlp/.venv/lib/python3.10/site-packages/numpy/_core/overrides.py\": 1738208868.2775755, \"/home/oren/work/notes/notes-nlp/.venv/lib/python3.10/site-packages/numpy/_core/multiarray.py\": 1738208868.2795753, \"/home/oren/work/notes/notes-nlp/.venv/lib/python3.10/site-packages/numpy/_core/umath.py\": 1738208868.2385762, \"/home/oren/work/notes/notes-nlp/.venv/lib/python3.10/site-packages/numpy/_core/_string_helpers.py\": 1738208868.237576, \"/home/oren/work/notes/notes-nlp/.venv/lib/python3.10/site-packages/numpy/_core/_type_aliases.py\": 1738208868.2765756, \"/home/oren/work/notes/notes-nlp/.venv/lib/python3.10/site-packages/numpy/_core/_dtype.py\": 1738208868.2805755, \"/home/oren/work/notes/notes-nlp/.venv/lib/python3.10/site-packages/numpy/_core/numerictypes.py\": 1738208868.2785754, \"/home/oren/work/notes/notes-nlp/.venv/lib/python3.10/site-packages/numpy/_core/_ufunc_config.py\": 1738208868.2775755, \"/home/oren/work/notes/notes-nlp/.venv/lib/python3.10/site-packages/numpy/_core/_methods.py\": 1738208868.2745755, \"/home/oren/work/notes/notes-nlp/.venv/lib/python3.10/site-packages/numpy/_core/fromnumeric.py\": 1738208868.2795753, \"/home/oren/work/notes/notes-nlp/.venv/lib/python3.10/site-packages/numpy/_core/shape_base.py\": 1738208868.2775755, \"/home/oren/work/notes/notes-nlp/.venv/lib/python3.10/site-packages/numpy/_core/arrayprint.py\": 1738208868.2385762, \"/home/oren/work/notes/notes-nlp/.venv/lib/python3.10/site-packages/numpy/_core/_asarray.py\": 1738208868.2755754, \"/home/oren/work/notes/notes-nlp/.venv/lib/python3.10/site-packages/numpy/_core/numeric.py\": 1738208868.2805755, \"/home/oren/work/notes/notes-nlp/.venv/lib/python3.10/site-packages/numpy/_core/records.py\": 1738208868.2755754, \"/home/oren/work/notes/notes-nlp/.venv/lib/python3.10/site-packages/numpy/_core/memmap.py\": 1738208868.2895753, \"/home/oren/work/notes/notes-nlp/.venv/lib/python3.10/site-packages/numpy/_core/function_base.py\": 1738208868.2765756, \"/home/oren/work/notes/notes-nlp/.venv/lib/python3.10/site-packages/numpy/_core/_machar.py\": 1738208868.2775755, \"/home/oren/work/notes/notes-nlp/.venv/lib/python3.10/site-packages/numpy/_core/getlimits.py\": 1738208868.2745755, \"/home/oren/work/notes/notes-nlp/.venv/lib/python3.10/site-packages/numpy/_core/einsumfunc.py\": 1738208868.2385762, \"/home/oren/work/notes/notes-nlp/.venv/lib/python3.10/site-packages/numpy/_core/_multiarray_tests.cpython-310-x86_64-linux-gnu.so\": 1738208868.2785754, \"/home/oren/work/notes/notes-nlp/.venv/lib/python3.10/site-packages/numpy/_core/_add_newdocs.py\": 1738208868.2385762, \"/home/oren/work/notes/notes-nlp/.venv/lib/python3.10/site-packages/numpy/_core/_add_newdocs_scalars.py\": 1738208868.2385762, \"/home/oren/work/notes/notes-nlp/.venv/lib/python3.10/site-packages/numpy/_core/_dtype_ctypes.py\": 1738208868.237576, \"/home/oren/work/notes/notes-nlp/.venv/lib/python3.10/site-packages/numpy/_core/_internal.py\": 1738208868.2795753, \"/home/oren/work/notes/notes-nlp/.venv/lib/python3.10/site-packages/numpy/_pytesttester.py\": 1738208868.236576, \"/home/oren/work/notes/notes-nlp/.venv/lib/python3.10/site-packages/numpy/_core/__init__.py\": 1738208868.2755754, \"/home/oren/work/notes/notes-nlp/.venv/lib/python3.10/site-packages/numpy/__config__.py\": 1738208868.236576, \"/home/oren/work/notes/notes-nlp/.venv/lib/python3.10/site-packages/numpy/lib/_array_utils_impl.py\": 1738208868.3565743, \"/home/oren/work/notes/notes-nlp/.venv/lib/python3.10/site-packages/numpy/lib/array_utils.py\": 1738208868.3555741, \"/home/oren/work/notes/notes-nlp/.venv/lib/python3.10/site-packages/numpy/lib/introspect.py\": 1738208868.3615742, \"/home/oren/work/notes/notes-nlp/.venv/lib/python3.10/site-packages/numpy/lib/mixins.py\": 1738208868.3585742, \"/home/oren/work/notes/notes-nlp/.venv/lib/python3.10/site-packages/numpy/lib/_utils_impl.py\": 1738208868.3555741, \"/home/oren/work/notes/notes-nlp/.venv/lib/python3.10/site-packages/numpy/lib/format.py\": 1738208868.3575742, \"/home/oren/work/notes/notes-nlp/.venv/lib/python3.10/site-packages/numpy/lib/_datasource.py\": 1738208868.362574, \"/home/oren/work/notes/notes-nlp/.venv/lib/python3.10/site-packages/numpy/lib/_iotools.py\": 1738208868.3555741, \"/home/oren/work/notes/notes-nlp/.venv/lib/python3.10/site-packages/numpy/lib/_npyio_impl.py\": 1738208868.3605742, \"/home/oren/work/notes/notes-nlp/.venv/lib/python3.10/site-packages/numpy/lib/npyio.py\": 1738208868.3605742, \"/home/oren/work/notes/notes-nlp/.venv/lib/python3.10/site-packages/numpy/lib/_ufunclike_impl.py\": 1738208868.3605742, \"/home/oren/work/notes/notes-nlp/.venv/lib/python3.10/site-packages/numpy/lib/_type_check_impl.py\": 1738208868.362574, \"/home/oren/work/notes/notes-nlp/.venv/lib/python3.10/site-packages/numpy/lib/_scimath_impl.py\": 1738208868.3555741, \"/home/oren/work/notes/notes-nlp/.venv/lib/python3.10/site-packages/numpy/lib/scimath.py\": 1738208868.3555741, \"/home/oren/work/notes/notes-nlp/.venv/lib/python3.10/site-packages/numpy/lib/_stride_tricks_impl.py\": 1738208868.3605742, \"/home/oren/work/notes/notes-nlp/.venv/lib/python3.10/site-packages/numpy/lib/stride_tricks.py\": 1738208868.3615742, \"/home/oren/work/notes/notes-nlp/.venv/lib/python3.10/site-packages/numpy/linalg/linalg.py\": 1738208868.3885736, \"/home/oren/work/notes/notes-nlp/.venv/lib/python3.10/site-packages/numpy/lib/_twodim_base_impl.py\": 1738208868.3605742, \"/home/oren/work/notes/notes-nlp/.venv/lib/python3.10/site-packages/numpy/linalg/_umath_linalg.cpython-310-x86_64-linux-gnu.so\": 1738208868.3875737, \"/home/oren/work/notes/notes-nlp/.venv/lib/python3.10/site-packages/numpy/_typing/_nested_sequence.py\": 1738208868.3865738, \"/home/oren/work/notes/notes-nlp/.venv/lib/python3.10/site-packages/numpy/_typing/_nbit.py\": 1738208868.3855739, \"/home/oren/work/notes/notes-nlp/.venv/lib/python3.10/site-packages/numpy/_typing/_char_codes.py\": 1738208868.3865738, \"/home/oren/work/notes/notes-nlp/.venv/lib/python3.10/site-packages/numpy/_typing/_scalars.py\": 1738208868.3855739, \"/home/oren/work/notes/notes-nlp/.venv/lib/python3.10/site-packages/numpy/_typing/_shape.py\": 1738208868.3865738, \"/home/oren/work/notes/notes-nlp/.venv/lib/python3.10/site-packages/numpy/_typing/_dtype_like.py\": 1738208868.3865738, \"/home/oren/work/notes/notes-nlp/.venv/lib/python3.10/site-packages/numpy/_typing/_array_like.py\": 1738208868.3865738, \"/home/oren/work/notes/notes-nlp/.venv/lib/python3.10/site-packages/numpy/_typing/__init__.py\": 1738208868.3855739, \"/home/oren/work/notes/notes-nlp/.venv/lib/python3.10/site-packages/numpy/linalg/_linalg.py\": 1738208868.3885736, \"/home/oren/work/notes/notes-nlp/.venv/lib/python3.10/site-packages/numpy/linalg/__init__.py\": 1738208868.3875737, \"/home/oren/work/notes/notes-nlp/.venv/lib/python3.10/site-packages/numpy/matrixlib/defmatrix.py\": 1738208868.3225749, \"/home/oren/work/notes/notes-nlp/.venv/lib/python3.10/site-packages/numpy/matrixlib/__init__.py\": 1738208868.3225749, \"/home/oren/work/notes/notes-nlp/.venv/lib/python3.10/site-packages/numpy/lib/_histograms_impl.py\": 1738208868.3585742, \"/home/oren/work/notes/notes-nlp/.venv/lib/python3.10/site-packages/numpy/lib/_function_base_impl.py\": 1738208868.359574, \"/home/oren/work/notes/notes-nlp/.venv/lib/python3.10/site-packages/numpy/lib/_index_tricks_impl.py\": 1738208868.3565743, \"/home/oren/work/notes/notes-nlp/.venv/lib/python3.10/site-packages/numpy/lib/_nanfunctions_impl.py\": 1738208868.3615742, \"/home/oren/work/notes/notes-nlp/.venv/lib/python3.10/site-packages/numpy/lib/_shape_base_impl.py\": 1738208868.3605742, \"/home/oren/work/notes/notes-nlp/.venv/lib/python3.10/site-packages/numpy/lib/_arraysetops_impl.py\": 1738208868.362574, \"/home/oren/work/notes/notes-nlp/.venv/lib/python3.10/site-packages/numpy/lib/_polynomial_impl.py\": 1738208868.3615742, \"/home/oren/work/notes/notes-nlp/.venv/lib/python3.10/site-packages/numpy/lib/_arrayterator_impl.py\": 1738208868.3585742, \"/home/oren/work/notes/notes-nlp/.venv/lib/python3.10/site-packages/numpy/lib/_arraypad_impl.py\": 1738208868.3615742, \"/home/oren/work/notes/notes-nlp/.venv/lib/python3.10/site-packages/numpy/lib/_version.py\": 1738208868.3565743, \"/home/oren/work/notes/notes-nlp/.venv/lib/python3.10/site-packages/numpy/lib/__init__.py\": 1738208868.3575742, \"/home/oren/work/notes/notes-nlp/.venv/lib/python3.10/site-packages/numpy/__init__.py\": 1738208868.2355762, \"/home/oren/work/notes/notes-nlp/.venv/lib/python3.10/site-packages/matplotlib/_c_internal_utils.cpython-310-x86_64-linux-gnu.so\": 1738211113.639898, \"/home/oren/work/notes/notes-nlp/.venv/lib/python3.10/site-packages/matplotlib/cbook.py\": 1738211113.650898, \"/home/oren/work/notes/notes-nlp/.venv/lib/python3.10/site-packages/matplotlib/_docstring.py\": 1738211113.648898, \"/home/oren/work/notes/notes-nlp/.venv/lib/python3.10/site-packages/matplotlib/backends/registry.py\": 1738211113.7438965, \"/home/oren/work/notes/notes-nlp/.venv/lib/python3.10/site-packages/matplotlib/backends/__init__.py\": 1738211113.7368965, \"/home/oren/work/notes/notes-nlp/.venv/lib/python3.10/site-packages/PIL/_version.py\": 1738206370.4256256, \"/home/oren/work/notes/notes-nlp/.venv/lib/python3.10/site-packages/PIL/__init__.py\": 1738206370.4216256, \"/home/oren/work/notes/notes-nlp/.venv/lib/python3.10/site-packages/PIL/ExifTags.py\": 1738206370.4146256, \"/home/oren/work/notes/notes-nlp/.venv/lib/python3.10/site-packages/PIL/_deprecate.py\": 1738206370.4256256, \"/home/oren/work/notes/notes-nlp/.venv/lib/python3.10/site-packages/PIL/ImageMode.py\": 1738206370.4246256, \"/home/oren/work/notes/notes-nlp/.venv/lib/python3.10/site-packages/PIL/TiffTags.py\": 1738206370.4166257, \"/home/oren/work/notes/notes-nlp/.venv/lib/python3.10/site-packages/PIL/_binary.py\": 1738206370.4166257, \"/home/oren/work/notes/notes-nlp/.venv/lib/python3.10/site-packages/PIL/_typing.py\": 1738206370.4186256, \"/home/oren/work/notes/notes-nlp/.venv/lib/python3.10/site-packages/PIL/_util.py\": 1738206370.4176257, \"/home/oren/work/notes/notes-nlp/.venv/lib/python3.10/site-packages/defusedxml/common.py\": 1738208871.445525, \"/home/oren/work/notes/notes-nlp/.venv/lib/python3.10/site-packages/defusedxml/__init__.py\": 1738208871.445525, \"/usr/lib/python3.10/xml/etree/__init__.py\": 1737124534.0, \"/usr/lib/python3.10/xml/etree/ElementPath.py\": 1737124534.0, \"/usr/lib/python3.10/xml/etree/ElementTree.py\": 1737124534.0, \"/home/oren/work/notes/notes-nlp/.venv/lib/python3.10/site-packages/defusedxml/ElementTree.py\": 1738208871.445525, \"/home/oren/work/notes/notes-nlp/.venv/lib/python3.10/site-packages/PIL/_imaging.cpython-310-x86_64-linux-gnu.so\": 1738206370.4396253, \"/home/oren/work/notes/notes-nlp/.venv/lib/python3.10/site-packages/PIL/Image.py\": 1738206370.4276257, \"/home/oren/work/notes/notes-nlp/.venv/lib/python3.10/site-packages/PIL/ImageChops.py\": 1738206370.4256256, \"/home/oren/work/notes/notes-nlp/.venv/lib/python3.10/site-packages/PIL/ImageFile.py\": 1738206370.4196258, \"/home/oren/work/notes/notes-nlp/.venv/lib/python3.10/site-packages/PIL/GimpGradientFile.py\": 1738206370.4266255, \"/home/oren/work/notes/notes-nlp/.venv/lib/python3.10/site-packages/PIL/GimpPaletteFile.py\": 1738206370.4236257, \"/home/oren/work/notes/notes-nlp/.venv/lib/python3.10/site-packages/PIL/ImageColor.py\": 1738206370.4266255, \"/home/oren/work/notes/notes-nlp/.venv/lib/python3.10/site-packages/PIL/PaletteFile.py\": 1738206370.4266255, \"/home/oren/work/notes/notes-nlp/.venv/lib/python3.10/site-packages/PIL/ImagePalette.py\": 1738206370.4406254, \"/home/oren/work/notes/notes-nlp/.venv/lib/python3.10/site-packages/PIL/ImageSequence.py\": 1738206370.4256256, \"/home/oren/work/notes/notes-nlp/.venv/lib/python3.10/site-packages/PIL/PngImagePlugin.py\": 1738206370.4246256, \"/home/oren/work/notes/notes-nlp/.venv/lib/python3.10/site-packages/matplotlib/_cm.py\": 1738211113.6708975, \"/home/oren/work/notes/notes-nlp/.venv/lib/python3.10/site-packages/matplotlib/_path.cpython-310-x86_64-linux-gnu.so\": 1738211113.6768975, \"/home/oren/work/notes/notes-nlp/.venv/lib/python3.10/site-packages/matplotlib/bezier.py\": 1738211113.654898, \"/home/oren/work/notes/notes-nlp/.venv/lib/python3.10/site-packages/matplotlib/path.py\": 1738211113.650898, \"/home/oren/work/notes/notes-nlp/.venv/lib/python3.10/site-packages/matplotlib/transforms.py\": 1738211113.6768975, \"/home/oren/work/notes/notes-nlp/.venv/lib/python3.10/site-packages/matplotlib/ticker.py\": 1738211113.6608977, \"/home/oren/work/notes/notes-nlp/.venv/lib/python3.10/site-packages/matplotlib/scale.py\": 1738211113.648898, \"/home/oren/work/notes/notes-nlp/.venv/lib/python3.10/site-packages/matplotlib/_image.cpython-310-x86_64-linux-gnu.so\": 1738211113.6608977, \"/home/oren/work/notes/notes-nlp/.venv/lib/python3.10/site-packages/matplotlib/_color_data.py\": 1738211113.6648977, \"/home/oren/work/notes/notes-nlp/.venv/lib/python3.10/site-packages/matplotlib/colors.py\": 1738211113.6748974, \"/home/oren/work/notes/notes-nlp/.venv/lib/python3.10/site-packages/pyparsing/util.py\": 1738206368.610655, \"/home/oren/work/notes/notes-nlp/.venv/lib/python3.10/site-packages/pyparsing/unicode.py\": 1738206368.610655, \"/home/oren/work/notes/notes-nlp/.venv/lib/python3.10/site-packages/pyparsing/exceptions.py\": 1738206368.6096551, \"/home/oren/work/notes/notes-nlp/.venv/lib/python3.10/site-packages/pyparsing/results.py\": 1738206368.610655, \"/home/oren/work/notes/notes-nlp/.venv/lib/python3.10/site-packages/pyparsing/actions.py\": 1738206368.6086552, \"/home/oren/work/notes/notes-nlp/.venv/lib/python3.10/site-packages/pyparsing/core.py\": 1738206368.6096551, \"/home/oren/work/notes/notes-nlp/.venv/lib/python3.10/site-packages/pyparsing/helpers.py\": 1738206368.610655, \"/home/oren/work/notes/notes-nlp/.venv/lib/python3.10/site-packages/pyparsing/testing.py\": 1738206368.610655, \"/home/oren/work/notes/notes-nlp/.venv/lib/python3.10/site-packages/pyparsing/common.py\": 1738206368.6086552, \"/home/oren/work/notes/notes-nlp/.venv/lib/python3.10/site-packages/pyparsing/__init__.py\": 1738206368.6086552, \"/home/oren/work/notes/notes-nlp/.venv/lib/python3.10/site-packages/matplotlib/_fontconfig_pattern.py\": 1738211113.6628976, \"/home/oren/work/notes/notes-nlp/.venv/lib/python3.10/site-packages/matplotlib/_enums.py\": 1738211113.6498978, \"/home/oren/work/notes/notes-nlp/.venv/lib/python3.10/site-packages/cycler/__init__.py\": 1738208871.9065175, \"/home/oren/work/notes/notes-nlp/.venv/lib/python3.10/site-packages/matplotlib/rcsetup.py\": 1738211113.6718976, \"/home/oren/work/notes/notes-nlp/.venv/lib/python3.10/site-packages/matplotlib/ft2font.cpython-310-x86_64-linux-gnu.so\": 1738211113.646898, \"/home/oren/work/notes/notes-nlp/.venv/lib/python3.10/site-packages/kiwisolver/exceptions.py\": 1738208869.496556, \"/home/oren/work/notes/notes-nlp/.venv/lib/python3.10/site-packages/kiwisolver/_cext.cpython-310-x86_64-linux-gnu.so\": 1738208869.5165558, \"/home/oren/work/notes/notes-nlp/.venv/lib/python3.10/site-packages/kiwisolver/__init__.py\": 1738208869.5165558, \"/home/oren/work/notes/notes-nlp/.venv/lib/python3.10/site-packages/numpy/ma/core.py\": 1738208868.3525743, \"/home/oren/work/notes/notes-nlp/.venv/lib/python3.10/site-packages/numpy/ma/extras.py\": 1738208868.3515742, \"/home/oren/work/notes/notes-nlp/.venv/lib/python3.10/site-packages/numpy/ma/__init__.py\": 1738208868.3505743, \"/home/oren/work/notes/notes-nlp/.venv/lib/python3.10/site-packages/matplotlib/artist.py\": 1738211113.6718976, \"/home/oren/work/notes/notes-nlp/.venv/lib/python3.10/site-packages/matplotlib/colorizer.py\": 1738211113.6768975, \"/home/oren/work/notes/notes-nlp/.venv/lib/python3.10/site-packages/matplotlib/_cm_listed.py\": 1738211113.6538978, \"/home/oren/work/notes/notes-nlp/.venv/lib/python3.10/site-packages/matplotlib/_cm_multivar.py\": 1738211113.6648977, \"/home/oren/work/notes/notes-nlp/.venv/lib/python3.10/site-packages/matplotlib/_cm_bivar.py\": 1738211113.654898, \"/home/oren/work/notes/notes-nlp/.venv/lib/python3.10/site-packages/matplotlib/cm.py\": 1738211113.6528978, \"/home/oren/work/notes/notes-nlp/.venv/lib/python3.10/site-packages/matplotlib/__init__.py\": 1738211113.6568978, \"/home/oren/work/notes/notes-nlp/.venv/lib/python3.10/site-packages/matplotlib/hatch.py\": 1738211113.654898, \"/home/oren/work/notes/notes-nlp/.venv/lib/python3.10/site-packages/matplotlib/markers.py\": 1738211113.6728976, \"/home/oren/work/notes/notes-nlp/.venv/lib/python3.10/site-packages/matplotlib/lines.py\": 1738211113.6618977, \"/home/oren/work/notes/notes-nlp/.venv/lib/python3.10/site-packages/matplotlib/collections.py\": 1738211113.6538978, \"/home/oren/work/notes/notes-nlp/.venv/lib/python3.10/site-packages/matplotlib/_pylab_helpers.py\": 1738211113.6578977, \"/home/oren/work/notes/notes-nlp/.venv/lib/python3.10/site-packages/matplotlib/backend_tools.py\": 1738211113.6738975, \"/usr/lib/python3.10/plistlib.py\": 1737124534.0, \"/home/oren/work/notes/notes-nlp/.venv/lib/python3.10/site-packages/matplotlib/_mathtext_data.py\": 1738211113.6568978, \"/home/oren/work/notes/notes-nlp/.venv/lib/python3.10/site-packages/matplotlib/_afm.py\": 1738211113.6628976, \"/home/oren/work/notes/notes-nlp/.venv/lib/python3.10/site-packages/matplotlib/font_manager.py\": 1738211113.6498978, \"/home/oren/work/notes/notes-nlp/.venv/lib/python3.10/site-packages/matplotlib/patches.py\": 1738211113.6568978, \"/home/oren/work/notes/notes-nlp/.venv/lib/python3.10/site-packages/matplotlib/_text_helpers.py\": 1738211113.6728976, \"/home/oren/work/notes/notes-nlp/.venv/lib/python3.10/site-packages/matplotlib/dviread.py\": 1738211113.6628976, \"/home/oren/work/notes/notes-nlp/.venv/lib/python3.10/site-packages/matplotlib/_mathtext.py\": 1738211113.6658976, \"/home/oren/work/notes/notes-nlp/.venv/lib/python3.10/site-packages/matplotlib/mathtext.py\": 1738211113.650898, \"/home/oren/work/notes/notes-nlp/.venv/lib/python3.10/site-packages/matplotlib/texmanager.py\": 1738211113.6768975, \"/home/oren/work/notes/notes-nlp/.venv/lib/python3.10/site-packages/matplotlib/textpath.py\": 1738211113.6708975, \"/home/oren/work/notes/notes-nlp/.venv/lib/python3.10/site-packages/matplotlib/text.py\": 1738211113.6698976, \"/home/oren/work/notes/notes-nlp/.venv/lib/python3.10/site-packages/matplotlib/_tight_bbox.py\": 1738211113.6578977, \"/home/oren/work/notes/notes-nlp/.venv/lib/python3.10/site-packages/matplotlib/widgets.py\": 1738211113.6588976, \"/home/oren/work/notes/notes-nlp/.venv/lib/python3.10/site-packages/matplotlib/backend_managers.py\": 1738211113.6638978, \"/home/oren/work/notes/notes-nlp/.venv/lib/python3.10/site-packages/matplotlib/_layoutgrid.py\": 1738211113.647898, \"/home/oren/work/notes/notes-nlp/.venv/lib/python3.10/site-packages/matplotlib/_constrained_layout.py\": 1738211113.6728976, \"/home/oren/work/notes/notes-nlp/.venv/lib/python3.10/site-packages/matplotlib/_tight_layout.py\": 1738211113.647898, \"/home/oren/work/notes/notes-nlp/.venv/lib/python3.10/site-packages/matplotlib/layout_engine.py\": 1738211113.6738975, \"/home/oren/work/notes/notes-nlp/.venv/lib/python3.10/site-packages/matplotlib/backend_bases.py\": 1738211113.6558979, \"/home/oren/work/notes/notes-nlp/.venv/lib/python3.10/site-packages/matplotlib/contour.py\": 1738211113.6658976, \"/home/oren/work/notes/notes-nlp/.venv/lib/python3.10/site-packages/matplotlib/spines.py\": 1738211113.6608977, \"/home/oren/work/notes/notes-nlp/.venv/lib/python3.10/site-packages/matplotlib/colorbar.py\": 1738211113.647898, \"/home/oren/work/notes/notes-nlp/.venv/lib/python3.10/site-packages/matplotlib/image.py\": 1738211113.6578977, \"/usr/lib/python3.10/importlib/_adapters.py\": 1737124534.0, \"/usr/lib/python3.10/importlib/_common.py\": 1737124534.0, \"/usr/lib/python3.10/importlib/resources.py\": 1737124534.0, \"/home/oren/work/notes/notes-nlp/.venv/lib/python3.10/site-packages/matplotlib/style/core.py\": 1738211113.7468963, \"/home/oren/work/notes/notes-nlp/.venv/lib/python3.10/site-packages/matplotlib/style/__init__.py\": 1738211113.7468963, \"/home/oren/work/notes/notes-nlp/.venv/lib/python3.10/site-packages/matplotlib/_blocking_input.py\": 1738211113.6728976, \"/home/oren/work/notes/notes-nlp/.venv/lib/python3.10/site-packages/matplotlib/offsetbox.py\": 1738211113.6618977, \"/home/oren/work/notes/notes-nlp/.venv/lib/python3.10/site-packages/matplotlib/units.py\": 1738211113.6388981, \"/home/oren/work/notes/notes-nlp/.venv/lib/python3.10/site-packages/matplotlib/axis.py\": 1738211113.6618977, \"/home/oren/work/notes/notes-nlp/.venv/lib/python3.10/site-packages/matplotlib/gridspec.py\": 1738211113.648898, \"/home/oren/work/notes/notes-nlp/.venv/lib/python3.10/site-packages/matplotlib/table.py\": 1738211113.6778975, \"/home/oren/work/notes/notes-nlp/.venv/lib/python3.10/site-packages/matplotlib/axes/_base.py\": 1738211113.7648962, \"/home/oren/work/notes/notes-nlp/.venv/lib/python3.10/site-packages/matplotlib/category.py\": 1738211113.6708975, \"/home/oren/work/notes/notes-nlp/.venv/lib/python3.10/site-packages/dateutil/rrule.py\": 1738206446.0323966, \"/home/oren/work/notes/notes-nlp/.venv/lib/python3.10/site-packages/matplotlib/dates.py\": 1738211113.6728976, \"/home/oren/work/notes/notes-nlp/.venv/lib/python3.10/site-packages/matplotlib/inset.py\": 1738211113.647898, \"/home/oren/work/notes/notes-nlp/.venv/lib/python3.10/site-packages/matplotlib/container.py\": 1738211113.6778975, \"/home/oren/work/notes/notes-nlp/.venv/lib/python3.10/site-packages/matplotlib/legend_handler.py\": 1738211113.639898, \"/home/oren/work/notes/notes-nlp/.venv/lib/python3.10/site-packages/matplotlib/legend.py\": 1738211113.647898, \"/home/oren/work/notes/notes-nlp/.venv/lib/python3.10/site-packages/matplotlib/mlab.py\": 1738211113.6638978, \"/home/oren/work/notes/notes-nlp/.venv/lib/python3.10/site-packages/matplotlib/quiver.py\": 1738211113.6648977, \"/home/oren/work/notes/notes-nlp/.venv/lib/python3.10/site-packages/matplotlib/stackplot.py\": 1738211113.6728976, \"/home/oren/work/notes/notes-nlp/.venv/lib/python3.10/site-packages/matplotlib/streamplot.py\": 1738211113.6628976, \"/home/oren/work/notes/notes-nlp/.venv/lib/python3.10/site-packages/matplotlib/tri/_triangulation.py\": 1738211113.7478964, \"/home/oren/work/notes/notes-nlp/.venv/lib/python3.10/site-packages/matplotlib/tri/_tricontour.py\": 1738211113.7488964, \"/home/oren/work/notes/notes-nlp/.venv/lib/python3.10/site-packages/matplotlib/tri/_trifinder.py\": 1738211113.7468963, \"/home/oren/work/notes/notes-nlp/.venv/lib/python3.10/site-packages/matplotlib/tri/_tritools.py\": 1738211113.7468963, \"/home/oren/work/notes/notes-nlp/.venv/lib/python3.10/site-packages/matplotlib/tri/_triinterpolate.py\": 1738211113.7478964, \"/home/oren/work/notes/notes-nlp/.venv/lib/python3.10/site-packages/matplotlib/tri/_tripcolor.py\": 1738211113.7468963, \"/home/oren/work/notes/notes-nlp/.venv/lib/python3.10/site-packages/matplotlib/tri/_triplot.py\": 1738211113.7468963, \"/home/oren/work/notes/notes-nlp/.venv/lib/python3.10/site-packages/matplotlib/tri/_trirefine.py\": 1738211113.7478964, \"/home/oren/work/notes/notes-nlp/.venv/lib/python3.10/site-packages/matplotlib/tri/__init__.py\": 1738211113.7478964, \"/home/oren/work/notes/notes-nlp/.venv/lib/python3.10/site-packages/matplotlib/axes/_secondary_axes.py\": 1738211113.7648962, \"/home/oren/work/notes/notes-nlp/.venv/lib/python3.10/site-packages/matplotlib/axes/_axes.py\": 1738211113.763896, \"/home/oren/work/notes/notes-nlp/.venv/lib/python3.10/site-packages/matplotlib/axes/__init__.py\": 1738211113.7648962, \"/home/oren/work/notes/notes-nlp/.venv/lib/python3.10/site-packages/matplotlib/projections/geo.py\": 1738211113.7468963, \"/home/oren/work/notes/notes-nlp/.venv/lib/python3.10/site-packages/matplotlib/projections/polar.py\": 1738211113.7458963, \"/home/oren/work/notes/notes-nlp/.venv/lib/python3.10/site-packages/mpl_toolkits/mplot3d/proj3d.py\": 1738211113.771896, \"/home/oren/work/notes/notes-nlp/.venv/lib/python3.10/site-packages/mpl_toolkits/mplot3d/art3d.py\": 1738211113.772896, \"/home/oren/work/notes/notes-nlp/.venv/lib/python3.10/site-packages/mpl_toolkits/mplot3d/axis3d.py\": 1738211113.771896, \"/home/oren/work/notes/notes-nlp/.venv/lib/python3.10/site-packages/mpl_toolkits/mplot3d/axes3d.py\": 1738211113.772896, \"/home/oren/work/notes/notes-nlp/.venv/lib/python3.10/site-packages/mpl_toolkits/mplot3d/__init__.py\": 1738211113.771896, \"/home/oren/work/notes/notes-nlp/.venv/lib/python3.10/site-packages/matplotlib/projections/__init__.py\": 1738211113.7458963, \"/home/oren/work/notes/notes-nlp/.venv/lib/python3.10/site-packages/matplotlib/figure.py\": 1738211113.6498978, \"/home/oren/work/notes/notes-nlp/.venv/lib/python3.10/site-packages/matplotlib/pyplot.py\": 1738211113.639898, \"/home/oren/work/notes/notes-nlp/.venv/lib/python3.10/site-packages/matplotlib/backends/_backend_agg.cpython-310-x86_64-linux-gnu.so\": 1738211113.7408965, \"/home/oren/work/notes/notes-nlp/.venv/lib/python3.10/site-packages/matplotlib/backends/backend_agg.py\": 1738211113.7358966, \"/home/oren/work/notes/notes-nlp/.venv/lib/python3.10/site-packages/IPython/core/pylabtools.py\": 1738211116.3618548, \"/home/oren/work/notes/notes-nlp/.venv/lib/python3.10/site-packages/matplotlib_inline/config.py\": 1738208869.4475567, \"/home/oren/work/notes/notes-nlp/.venv/lib/python3.10/site-packages/matplotlib_inline/backend_inline.py\": 1738208869.4475567, \"/home/oren/work/notes/notes-nlp/.venv/lib/python3.10/site-packages/matplotlib_inline/__init__.py\": 1738208869.4475567, \"/home/oren/work/notes/notes-nlp/.venv/lib/python3.10/site-packages/pytz/exceptions.py\": 1738206365.908699, \"/home/oren/work/notes/notes-nlp/.venv/lib/python3.10/site-packages/pytz/lazy.py\": 1738206365.908699, \"/home/oren/work/notes/notes-nlp/.venv/lib/python3.10/site-packages/pytz/tzinfo.py\": 1738206365.909699, \"/home/oren/work/notes/notes-nlp/.venv/lib/python3.10/site-packages/pytz/tzfile.py\": 1738206365.909699, \"/home/oren/work/notes/notes-nlp/.venv/lib/python3.10/site-packages/pytz/__init__.py\": 1738206365.908699, \"/home/oren/work/notes/notes-nlp/.venv/lib/python3.10/site-packages/pandas/compat/_constants.py\": 1738208876.2014492, \"/home/oren/work/notes/notes-nlp/.venv/lib/python3.10/site-packages/pandas/compat/compressors.py\": 1738208876.2004492, \"/home/oren/work/notes/notes-nlp/.venv/lib/python3.10/site-packages/pandas/util/__init__.py\": 1738208875.9354534, \"/home/oren/work/notes/notes-nlp/.venv/lib/python3.10/site-packages/pandas/util/version/__init__.py\": 1738208875.9354534, \"/home/oren/work/notes/notes-nlp/.venv/lib/python3.10/site-packages/pandas/compat/numpy/__init__.py\": 1738208876.2014492, \"/home/oren/work/notes/notes-nlp/.venv/lib/python3.10/site-packages/pyarrow/_generated_version.py\": 1738206369.659638, \"/home/oren/work/notes/notes-nlp/.venv/lib/python3.10/site-packages/cloudpickle/cloudpickle.py\": 1738208871.9175174, \"/home/oren/work/notes/notes-nlp/.venv/lib/python3.10/site-packages/cloudpickle/__init__.py\": 1738208871.9165175, \"/home/oren/work/notes/notes-nlp/.venv/lib/python3.10/site-packages/pyarrow/util.py\": 1738206369.7016373, \"/home/oren/work/notes/notes-nlp/.venv/lib/python3.10/site-packages/pyarrow/lib.cpython-310-x86_64-linux-gnu.so\": 1738206369.2536447, \"/home/oren/work/notes/notes-nlp/.venv/lib/python3.10/site-packages/pyarrow/ipc.py\": 1738206369.6146388, \"/home/oren/work/notes/notes-nlp/.venv/lib/python3.10/site-packages/pyarrow/types.py\": 1738206369.226645, \"/home/oren/work/notes/notes-nlp/.venv/lib/python3.10/site-packages/pyarrow/__init__.py\": 1738206369.2686443, \"/home/oren/work/notes/notes-nlp/.venv/lib/python3.10/site-packages/pandas/compat/pyarrow.py\": 1738208876.2014492, \"/home/oren/work/notes/notes-nlp/.venv/lib/python3.10/site-packages/pandas/compat/__init__.py\": 1738208876.2004492, \"/home/oren/work/notes/notes-nlp/.venv/lib/python3.10/site-packages/numpy/random/_common.cpython-310-x86_64-linux-gnu.so\": 1738208868.3435745, \"/usr/lib/python3.10/secrets.py\": 1737124534.0, \"/home/oren/work/notes/notes-nlp/.venv/lib/python3.10/site-packages/numpy/random/bit_generator.cpython-310-x86_64-linux-gnu.so\": 1738208868.3345745, \"/home/oren/work/notes/notes-nlp/.venv/lib/python3.10/site-packages/numpy/random/_bounded_integers.cpython-310-x86_64-linux-gnu.so\": 1738208868.3415744, \"/home/oren/work/notes/notes-nlp/.venv/lib/python3.10/site-packages/numpy/random/_mt19937.cpython-310-x86_64-linux-gnu.so\": 1738208868.3445745, \"/home/oren/work/notes/notes-nlp/.venv/lib/python3.10/site-packages/numpy/random/mtrand.cpython-310-x86_64-linux-gnu.so\": 1738208868.3385744, \"/home/oren/work/notes/notes-nlp/.venv/lib/python3.10/site-packages/numpy/random/_philox.cpython-310-x86_64-linux-gnu.so\": 1738208868.3355746, \"/home/oren/work/notes/notes-nlp/.venv/lib/python3.10/site-packages/numpy/random/_pcg64.cpython-310-x86_64-linux-gnu.so\": 1738208868.3395746, \"/home/oren/work/notes/notes-nlp/.venv/lib/python3.10/site-packages/numpy/random/_sfc64.cpython-310-x86_64-linux-gnu.so\": 1738208868.3415744, \"/home/oren/work/notes/notes-nlp/.venv/lib/python3.10/site-packages/numpy/random/_generator.cpython-310-x86_64-linux-gnu.so\": 1738208868.3335745, \"/home/oren/work/notes/notes-nlp/.venv/lib/python3.10/site-packages/numpy/random/_pickle.py\": 1738208868.3345745, \"/home/oren/work/notes/notes-nlp/.venv/lib/python3.10/site-packages/numpy/random/__init__.py\": 1738208868.3415744, \"/home/oren/work/notes/notes-nlp/.venv/lib/python3.10/site-packages/pandas/_typing.py\": 1738208875.9244535, \"/home/oren/work/notes/notes-nlp/.venv/lib/python3.10/site-packages/pandas/util/_exceptions.py\": 1738208875.9354534, \"/home/oren/work/notes/notes-nlp/.venv/lib/python3.10/site-packages/pandas/_config/config.py\": 1738208876.0634513, \"/home/oren/work/notes/notes-nlp/.venv/lib/python3.10/site-packages/pandas/_config/dates.py\": 1738208876.0634513, \"/home/oren/work/notes/notes-nlp/.venv/lib/python3.10/site-packages/pandas/_config/display.py\": 1738208876.0634513, \"/home/oren/work/notes/notes-nlp/.venv/lib/python3.10/site-packages/pandas/_config/__init__.py\": 1738208876.0634513, \"/home/oren/work/notes/notes-nlp/.venv/lib/python3.10/site-packages/pandas/core/__init__.py\": 1738208876.0704513, \"/home/oren/work/notes/notes-nlp/.venv/lib/python3.10/site-packages/pandas/core/config_init.py\": 1738208876.0664513, \"/home/oren/work/notes/notes-nlp/.venv/lib/python3.10/site-packages/pandas/_libs/pandas_parser.cpython-310-x86_64-linux-gnu.so\": 1738208876.1614497, \"/home/oren/work/notes/notes-nlp/.venv/lib/python3.10/site-packages/pandas/_libs/pandas_datetime.cpython-310-x86_64-linux-gnu.so\": 1738208876.1594498, \"/home/oren/work/notes/notes-nlp/.venv/lib/python3.10/site-packages/pandas/_libs/tslibs/ccalendar.cpython-310-x86_64-linux-gnu.so\": 1738208876.1764495, \"/home/oren/work/notes/notes-nlp/.venv/lib/python3.10/site-packages/pandas/_libs/tslibs/np_datetime.cpython-310-x86_64-linux-gnu.so\": 1738208876.2004492, \"/home/oren/work/notes/notes-nlp/.venv/lib/python3.10/site-packages/pandas/_libs/tslibs/dtypes.cpython-310-x86_64-linux-gnu.so\": 1738208876.1704497, \"/home/oren/work/notes/notes-nlp/.venv/lib/python3.10/site-packages/pandas/_libs/tslibs/base.cpython-310-x86_64-linux-gnu.so\": 1738208876.1904492, \"/home/oren/work/notes/notes-nlp/.venv/lib/python3.10/site-packages/pandas/_libs/tslibs/nattype.cpython-310-x86_64-linux-gnu.so\": 1738208876.1714497, \"/home/oren/work/notes/notes-nlp/.venv/lib/python3.10/site-packages/pandas/compat/_optional.py\": 1738208876.2004492, \"/usr/lib/python3.10/zoneinfo/_tzpath.py\": 1737124534.0, \"/usr/lib/python3.10/zoneinfo/_common.py\": 1737124534.0, \"/usr/lib/python3.10/lib-dynload/_zoneinfo.cpython-310-x86_64-linux-gnu.so\": 1737124534.0, \"/usr/lib/python3.10/zoneinfo/__init__.py\": 1737124534.0, \"/home/oren/work/notes/notes-nlp/.venv/lib/python3.10/site-packages/pandas/_libs/tslibs/timezones.cpython-310-x86_64-linux-gnu.so\": 1738208876.1724496, \"/home/oren/work/notes/notes-nlp/.venv/lib/python3.10/site-packages/pandas/_config/localization.py\": 1738208876.0634513, \"/home/oren/work/notes/notes-nlp/.venv/lib/python3.10/site-packages/pandas/_libs/tslibs/fields.cpython-310-x86_64-linux-gnu.so\": 1738208876.1784494, \"/home/oren/work/notes/notes-nlp/.venv/lib/python3.10/site-packages/pandas/_libs/tslibs/timedeltas.cpython-310-x86_64-linux-gnu.so\": 1738208876.1984491, \"/home/oren/work/notes/notes-nlp/.venv/lib/python3.10/site-packages/pandas/_libs/tslibs/tzconversion.cpython-310-x86_64-linux-gnu.so\": 1738208876.1854494, \"/home/oren/work/notes/notes-nlp/.venv/lib/python3.10/site-packages/pandas/_libs/tslibs/timestamps.cpython-310-x86_64-linux-gnu.so\": 1738208876.1754496, \"/home/oren/work/notes/notes-nlp/.venv/lib/python3.10/site-packages/pandas/_libs/properties.cpython-310-x86_64-linux-gnu.so\": 1738208876.1644497, \"/home/oren/work/notes/notes-nlp/.venv/lib/python3.10/site-packages/pandas/_libs/tslibs/offsets.cpython-310-x86_64-linux-gnu.so\": 1738208876.1834495, \"/home/oren/work/notes/notes-nlp/.venv/lib/python3.10/site-packages/pandas/_libs/tslibs/strptime.cpython-310-x86_64-linux-gnu.so\": 1738208876.1894493, \"/home/oren/work/notes/notes-nlp/.venv/lib/python3.10/site-packages/pandas/_libs/tslibs/parsing.cpython-310-x86_64-linux-gnu.so\": 1738208876.1874495, \"/home/oren/work/notes/notes-nlp/.venv/lib/python3.10/site-packages/pandas/_libs/tslibs/conversion.cpython-310-x86_64-linux-gnu.so\": 1738208876.1914494, \"/home/oren/work/notes/notes-nlp/.venv/lib/python3.10/site-packages/pandas/_libs/tslibs/period.cpython-310-x86_64-linux-gnu.so\": 1738208876.1944492, \"/home/oren/work/notes/notes-nlp/.venv/lib/python3.10/site-packages/pandas/_libs/tslibs/vectorized.cpython-310-x86_64-linux-gnu.so\": 1738208876.199449, \"/home/oren/work/notes/notes-nlp/.venv/lib/python3.10/site-packages/pandas/_libs/tslibs/__init__.py\": 1738208876.1954494, \"/home/oren/work/notes/notes-nlp/.venv/lib/python3.10/site-packages/pandas/_libs/ops_dispatch.cpython-310-x86_64-linux-gnu.so\": 1738208876.15445, \"/home/oren/work/notes/notes-nlp/.venv/lib/python3.10/site-packages/pandas/_libs/missing.cpython-310-x86_64-linux-gnu.so\": 1738208876.14245, \"/home/oren/work/notes/notes-nlp/.venv/lib/python3.10/site-packages/pandas/_libs/hashtable.cpython-310-x86_64-linux-gnu.so\": 1738208876.1294503, \"/home/oren/work/notes/notes-nlp/.venv/lib/python3.10/site-packages/pandas/_libs/algos.cpython-310-x86_64-linux-gnu.so\": 1738208876.1054506, \"/home/oren/work/notes/notes-nlp/.venv/lib/python3.10/site-packages/pandas/_libs/interval.cpython-310-x86_64-linux-gnu.so\": 1738208876.15445, \"/home/oren/work/notes/notes-nlp/.venv/lib/python3.10/site-packages/pandas/_libs/__init__.py\": 1738208876.1644497, \"/home/oren/work/notes/notes-nlp/.venv/lib/python3.10/site-packages/pandas/core/dtypes/__init__.py\": 1738208876.0934508, \"/home/oren/work/notes/notes-nlp/.venv/lib/python3.10/site-packages/pandas/_libs/lib.cpython-310-x86_64-linux-gnu.so\": 1738208876.14745, \"/home/oren/work/notes/notes-nlp/.venv/lib/python3.10/site-packages/pandas/errors/__init__.py\": 1738208876.0964508, \"/home/oren/work/notes/notes-nlp/.venv/lib/python3.10/site-packages/pandas/core/dtypes/generic.py\": 1738208876.091451, \"/home/oren/work/notes/notes-nlp/.venv/lib/python3.10/site-packages/pandas/core/dtypes/base.py\": 1738208876.0924509, \"/home/oren/work/notes/notes-nlp/.venv/lib/python3.10/site-packages/pandas/core/dtypes/inference.py\": 1738208876.0924509, \"/home/oren/work/notes/notes-nlp/.venv/lib/python3.10/site-packages/pandas/core/dtypes/dtypes.py\": 1738208876.0924509, \"/home/oren/work/notes/notes-nlp/.venv/lib/python3.10/site-packages/pandas/core/dtypes/common.py\": 1738208876.0934508, \"/home/oren/work/notes/notes-nlp/.venv/lib/python3.10/site-packages/pandas/core/dtypes/missing.py\": 1738208876.091451, \"/home/oren/work/notes/notes-nlp/.venv/lib/python3.10/site-packages/pandas/util/_decorators.py\": 1738208875.9354534, \"/home/oren/work/notes/notes-nlp/.venv/lib/python3.10/site-packages/pandas/io/__init__.py\": 1738208875.9274535, \"/home/oren/work/notes/notes-nlp/.venv/lib/python3.10/site-packages/pandas/io/_util.py\": 1738208875.9254534, \"/home/oren/work/notes/notes-nlp/.venv/lib/python3.10/site-packages/pandas/core/dtypes/cast.py\": 1738208876.0924509, \"/home/oren/work/notes/notes-nlp/.venv/lib/python3.10/site-packages/pandas/core/dtypes/astype.py\": 1738208876.0924509, \"/home/oren/work/notes/notes-nlp/.venv/lib/python3.10/site-packages/pandas/core/dtypes/concat.py\": 1738208876.0934508, \"/home/oren/work/notes/notes-nlp/.venv/lib/python3.10/site-packages/pandas/core/array_algos/__init__.py\": 1738208876.0954509, \"/home/oren/work/notes/notes-nlp/.venv/lib/python3.10/site-packages/pandas/core/common.py\": 1738208876.0714512, \"/home/oren/work/notes/notes-nlp/.venv/lib/python3.10/site-packages/pandas/core/construction.py\": 1738208876.0644512, \"/home/oren/work/notes/notes-nlp/.venv/lib/python3.10/site-packages/pandas/core/array_algos/take.py\": 1738208876.0954509, \"/home/oren/work/notes/notes-nlp/.venv/lib/python3.10/site-packages/pandas/core/indexers/utils.py\": 1738208876.0714512, \"/home/oren/work/notes/notes-nlp/.venv/lib/python3.10/site-packages/pandas/core/indexers/__init__.py\": 1738208876.0714512, \"/home/oren/work/notes/notes-nlp/.venv/lib/python3.10/site-packages/pandas/core/algorithms.py\": 1738208876.0674512, \"/home/oren/work/notes/notes-nlp/.venv/lib/python3.10/site-packages/pyarrow/_compute.cpython-310-x86_64-linux-gnu.so\": 1738206369.6246386, \"/home/oren/work/notes/notes-nlp/.venv/lib/python3.10/site-packages/pyarrow/_compute_docstrings.py\": 1738206369.7016373, \"/home/oren/work/notes/notes-nlp/.venv/lib/python3.10/site-packages/pyarrow/vendored/__init__.py\": 1738206369.7956357, \"/home/oren/work/notes/notes-nlp/.venv/lib/python3.10/site-packages/pyarrow/vendored/docscrape.py\": 1738206369.7956357, \"/home/oren/work/notes/notes-nlp/.venv/lib/python3.10/site-packages/pyarrow/compute.py\": 1738206369.6246386, \"/home/oren/work/notes/notes-nlp/.venv/lib/python3.10/site-packages/pandas/core/arrays/arrow/accessors.py\": 1738208876.091451, \"/home/oren/work/notes/notes-nlp/.venv/lib/python3.10/site-packages/pandas/util/_validators.py\": 1738208875.9354534, \"/home/oren/work/notes/notes-nlp/.venv/lib/python3.10/site-packages/pandas/core/missing.py\": 1738208876.0664513, \"/home/oren/work/notes/notes-nlp/.venv/lib/python3.10/site-packages/pandas/_libs/ops.cpython-310-x86_64-linux-gnu.so\": 1738208876.1624498, \"/home/oren/work/notes/notes-nlp/.venv/lib/python3.10/site-packages/pandas/core/roperator.py\": 1738208876.0674512, \"/home/oren/work/notes/notes-nlp/.venv/lib/python3.10/site-packages/pandas/core/computation/__init__.py\": 1738208876.072451, \"/home/oren/work/notes/notes-nlp/.venv/lib/python3.10/site-packages/pandas/core/computation/check.py\": 1738208876.0734513, \"/home/oren/work/notes/notes-nlp/.venv/lib/python3.10/site-packages/pandas/core/computation/expressions.py\": 1738208876.072451, \"/home/oren/work/notes/notes-nlp/.venv/lib/python3.10/site-packages/pandas/core/ops/missing.py\": 1738208876.0734513, \"/home/oren/work/notes/notes-nlp/.venv/lib/python3.10/site-packages/pandas/core/ops/dispatch.py\": 1738208876.0734513, \"/home/oren/work/notes/notes-nlp/.venv/lib/python3.10/site-packages/pandas/core/ops/invalid.py\": 1738208876.0734513, \"/home/oren/work/notes/notes-nlp/.venv/lib/python3.10/site-packages/pandas/core/ops/array_ops.py\": 1738208876.0734513, \"/home/oren/work/notes/notes-nlp/.venv/lib/python3.10/site-packages/pandas/core/ops/common.py\": 1738208876.0744512, \"/home/oren/work/notes/notes-nlp/.venv/lib/python3.10/site-packages/pandas/core/ops/docstrings.py\": 1738208876.0744512, \"/home/oren/work/notes/notes-nlp/.venv/lib/python3.10/site-packages/pandas/core/ops/mask_ops.py\": 1738208876.0734513, \"/home/oren/work/notes/notes-nlp/.venv/lib/python3.10/site-packages/pandas/core/ops/__init__.py\": 1738208876.0734513, \"/home/oren/work/notes/notes-nlp/.venv/lib/python3.10/site-packages/pandas/core/arraylike.py\": 1738208876.0714512, \"/home/oren/work/notes/notes-nlp/.venv/lib/python3.10/site-packages/pandas/core/arrays/_arrow_string_mixins.py\": 1738208876.087451, \"/home/oren/work/notes/notes-nlp/.venv/lib/python3.10/site-packages/pandas/core/arrays/_utils.py\": 1738208876.088451, \"/home/oren/work/notes/notes-nlp/.venv/lib/python3.10/site-packages/pandas/compat/numpy/function.py\": 1738208876.2014492, \"/home/oren/work/notes/notes-nlp/.venv/lib/python3.10/site-packages/pandas/core/array_algos/quantile.py\": 1738208876.0954509, \"/home/oren/work/notes/notes-nlp/.venv/lib/python3.10/site-packages/pandas/core/sorting.py\": 1738208876.0634513, \"/home/oren/work/notes/notes-nlp/.venv/lib/python3.10/site-packages/pandas/core/arrays/base.py\": 1738208876.088451, \"/home/oren/work/notes/notes-nlp/.venv/lib/python3.10/site-packages/pandas/core/nanops.py\": 1738208876.0704513, \"/home/oren/work/notes/notes-nlp/.venv/lib/python3.10/site-packages/pandas/core/array_algos/masked_accumulations.py\": 1738208876.0954509, \"/home/oren/work/notes/notes-nlp/.venv/lib/python3.10/site-packages/pandas/core/array_algos/masked_reductions.py\": 1738208876.0954509, \"/home/oren/work/notes/notes-nlp/.venv/lib/python3.10/site-packages/pandas/core/util/__init__.py\": 1738208876.0734513, \"/home/oren/work/notes/notes-nlp/.venv/lib/python3.10/site-packages/pandas/_libs/hashing.cpython-310-x86_64-linux-gnu.so\": 1738208876.1654496, \"/home/oren/work/notes/notes-nlp/.venv/lib/python3.10/site-packages/pandas/core/util/hashing.py\": 1738208876.0734513, \"/home/oren/work/notes/notes-nlp/.venv/lib/python3.10/site-packages/pandas/core/arrays/masked.py\": 1738208876.0894508, \"/home/oren/work/notes/notes-nlp/.venv/lib/python3.10/site-packages/pandas/_libs/arrays.cpython-310-x86_64-linux-gnu.so\": 1738208876.14345, \"/home/oren/work/notes/notes-nlp/.venv/lib/python3.10/site-packages/pandas/core/arrays/numeric.py\": 1738208876.087451, \"/home/oren/work/notes/notes-nlp/.venv/lib/python3.10/site-packages/pandas/core/arrays/floating.py\": 1738208876.087451, \"/home/oren/work/notes/notes-nlp/.venv/lib/python3.10/site-packages/pandas/core/arrays/integer.py\": 1738208876.086451, \"/home/oren/work/notes/notes-nlp/.venv/lib/python3.10/site-packages/pandas/core/array_algos/transforms.py\": 1738208876.0954509, \"/home/oren/work/notes/notes-nlp/.venv/lib/python3.10/site-packages/pandas/core/arrays/_mixins.py\": 1738208876.086451, \"/home/oren/work/notes/notes-nlp/.venv/lib/python3.10/site-packages/pandas/core/strings/__init__.py\": 1738208876.094451, \"/home/oren/work/notes/notes-nlp/.venv/lib/python3.10/site-packages/pandas/core/strings/base.py\": 1738208876.0934508, \"/home/oren/work/notes/notes-nlp/.venv/lib/python3.10/site-packages/pandas/core/strings/object_array.py\": 1738208876.0934508, \"/home/oren/work/notes/notes-nlp/.venv/lib/python3.10/site-packages/pandas/core/arrays/numpy_.py\": 1738208876.088451, \"/home/oren/work/notes/notes-nlp/.venv/lib/python3.10/site-packages/pandas/core/arrays/string_.py\": 1738208876.088451, \"/home/oren/work/notes/notes-nlp/.venv/lib/python3.10/site-packages/pandas/tseries/__init__.py\": 1738208876.0634513, \"/home/oren/work/notes/notes-nlp/.venv/lib/python3.10/site-packages/pandas/tseries/frequencies.py\": 1738208876.0634513, \"/home/oren/work/notes/notes-nlp/.venv/lib/python3.10/site-packages/pandas/core/arrays/arrow/array.py\": 1738208876.091451, \"/home/oren/work/notes/notes-nlp/.venv/lib/python3.10/site-packages/pandas/core/arrays/arrow/__init__.py\": 1738208876.091451, \"/home/oren/work/notes/notes-nlp/.venv/lib/python3.10/site-packages/pandas/core/arrays/boolean.py\": 1738208876.0894508, \"/home/oren/work/notes/notes-nlp/.venv/lib/python3.10/site-packages/pandas/core/accessor.py\": 1738208876.0674512, \"/home/oren/work/notes/notes-nlp/.venv/lib/python3.10/site-packages/pandas/core/base.py\": 1738208876.0664513, \"/home/oren/work/notes/notes-nlp/.venv/lib/python3.10/site-packages/pandas/io/formats/__init__.py\": 1738208875.9294534, \"/home/oren/work/notes/notes-nlp/.venv/lib/python3.10/site-packages/pandas/io/formats/console.py\": 1738208875.9284534, \"/home/oren/work/notes/notes-nlp/.venv/lib/python3.10/site-packages/pandas/core/arrays/categorical.py\": 1738208876.0894508, \"/home/oren/work/notes/notes-nlp/.venv/lib/python3.10/site-packages/pandas/_libs/tslib.cpython-310-x86_64-linux-gnu.so\": 1738208876.1614497, \"/home/oren/work/notes/notes-nlp/.venv/lib/python3.10/site-packages/pandas/core/array_algos/datetimelike_accumulations.py\": 1738208876.0954509, \"/home/oren/work/notes/notes-nlp/.venv/lib/python3.10/site-packages/pandas/core/arrays/datetimelike.py\": 1738208876.087451, \"/home/oren/work/notes/notes-nlp/.venv/lib/python3.10/site-packages/pandas/core/arrays/_ranges.py\": 1738208876.0894508, \"/home/oren/work/notes/notes-nlp/.venv/lib/python3.10/site-packages/pandas/tseries/offsets.py\": 1738208876.0624514, \"/home/oren/work/notes/notes-nlp/.venv/lib/python3.10/site-packages/pandas/core/arrays/datetimes.py\": 1738208876.086451, \"/home/oren/work/notes/notes-nlp/.venv/lib/python3.10/site-packages/pandas/core/arrays/timedeltas.py\": 1738208876.090451, \"/home/oren/work/notes/notes-nlp/.venv/lib/python3.10/site-packages/pandas/core/arrays/interval.py\": 1738208876.088451, \"/home/oren/work/notes/notes-nlp/.venv/lib/python3.10/site-packages/pandas/core/arrays/period.py\": 1738208876.087451, \"/home/oren/work/notes/notes-nlp/.venv/lib/python3.10/site-packages/pandas/_libs/sparse.cpython-310-x86_64-linux-gnu.so\": 1738208876.1344502, \"/home/oren/work/notes/notes-nlp/.venv/lib/python3.10/site-packages/pandas/io/formats/printing.py\": 1738208875.9284534, \"/home/oren/work/notes/notes-nlp/.venv/lib/python3.10/site-packages/pandas/core/arrays/sparse/array.py\": 1738208876.090451, \"/home/oren/work/notes/notes-nlp/.venv/lib/python3.10/site-packages/pandas/core/arrays/sparse/accessor.py\": 1738208876.090451, \"/home/oren/work/notes/notes-nlp/.venv/lib/python3.10/site-packages/pandas/core/arrays/sparse/__init__.py\": 1738208876.090451, \"/home/oren/work/notes/notes-nlp/.venv/lib/python3.10/site-packages/pandas/core/arrays/arrow/_arrow_utils.py\": 1738208876.090451, \"/home/oren/work/notes/notes-nlp/.venv/lib/python3.10/site-packages/pandas/core/arrays/string_arrow.py\": 1738208876.087451, \"/home/oren/work/notes/notes-nlp/.venv/lib/python3.10/site-packages/pandas/core/arrays/__init__.py\": 1738208876.0894508, \"/home/oren/work/notes/notes-nlp/.venv/lib/python3.10/site-packages/pandas/core/flags.py\": 1738208876.0664513, \"/home/oren/work/notes/notes-nlp/.venv/lib/python3.10/site-packages/pandas/_libs/internals.cpython-310-x86_64-linux-gnu.so\": 1738208876.1414502, \"/home/oren/work/notes/notes-nlp/.venv/lib/python3.10/site-packages/pandas/core/_numba/__init__.py\": 1738208876.094451, \"/home/oren/work/notes/notes-nlp/.venv/lib/python3.10/site-packages/pandas/core/_numba/executor.py\": 1738208876.094451, \"/home/oren/work/notes/notes-nlp/.venv/lib/python3.10/site-packages/pandas/core/apply.py\": 1738208876.0714512, \"/home/oren/work/notes/notes-nlp/.venv/lib/python3.10/site-packages/pandas/_libs/indexing.cpython-310-x86_64-linux-gnu.so\": 1738208876.0974507, \"/home/oren/work/notes/notes-nlp/.venv/lib/python3.10/site-packages/pandas/core/indexes/__init__.py\": 1738208876.0784512, \"/home/oren/work/notes/notes-nlp/.venv/lib/python3.10/site-packages/pandas/_libs/index.cpython-310-x86_64-linux-gnu.so\": 1738208876.15845, \"/home/oren/work/notes/notes-nlp/.venv/lib/python3.10/site-packages/pandas/_libs/writers.cpython-310-x86_64-linux-gnu.so\": 1738208876.1104505, \"/home/oren/work/notes/notes-nlp/.venv/lib/python3.10/site-packages/pandas/_libs/join.cpython-310-x86_64-linux-gnu.so\": 1738208876.13945, \"/home/oren/work/notes/notes-nlp/.venv/lib/python3.10/site-packages/pandas/core/array_algos/putmask.py\": 1738208876.0954509, \"/home/oren/work/notes/notes-nlp/.venv/lib/python3.10/site-packages/pandas/core/indexes/frozen.py\": 1738208876.0784512, \"/home/oren/work/notes/notes-nlp/.venv/lib/python3.10/site-packages/pandas/core/strings/accessor.py\": 1738208876.0934508, \"/home/oren/work/notes/notes-nlp/.venv/lib/python3.10/site-packages/pandas/core/indexes/base.py\": 1738208876.0774512, \"/home/oren/work/notes/notes-nlp/.venv/lib/python3.10/site-packages/pandas/core/indexes/extension.py\": 1738208876.0784512, \"/home/oren/work/notes/notes-nlp/.venv/lib/python3.10/site-packages/pandas/core/indexes/category.py\": 1738208876.0784512, \"/home/oren/work/notes/notes-nlp/.venv/lib/python3.10/site-packages/pandas/core/indexes/range.py\": 1738208876.076451, \"/home/oren/work/notes/notes-nlp/.venv/lib/python3.10/site-packages/pandas/core/tools/__init__.py\": 1738208876.0744512, \"/home/oren/work/notes/notes-nlp/.venv/lib/python3.10/site-packages/pandas/core/tools/timedeltas.py\": 1738208876.0744512, \"/home/oren/work/notes/notes-nlp/.venv/lib/python3.10/site-packages/pandas/core/indexes/datetimelike.py\": 1738208876.076451, \"/home/oren/work/notes/notes-nlp/.venv/lib/python3.10/site-packages/pandas/core/tools/times.py\": 1738208876.0744512, \"/home/oren/work/notes/notes-nlp/.venv/lib/python3.10/site-packages/pandas/core/indexes/datetimes.py\": 1738208876.076451, \"/home/oren/work/notes/notes-nlp/.venv/lib/python3.10/site-packages/pandas/core/indexes/multi.py\": 1738208876.0754511, \"/home/oren/work/notes/notes-nlp/.venv/lib/python3.10/site-packages/pandas/core/indexes/timedeltas.py\": 1738208876.0784512, \"/home/oren/work/notes/notes-nlp/.venv/lib/python3.10/site-packages/pandas/core/indexes/interval.py\": 1738208876.076451, \"/home/oren/work/notes/notes-nlp/.venv/lib/python3.10/site-packages/pandas/core/indexes/period.py\": 1738208876.076451, \"/home/oren/work/notes/notes-nlp/.venv/lib/python3.10/site-packages/pandas/core/indexes/api.py\": 1738208876.0784512, \"/home/oren/work/notes/notes-nlp/.venv/lib/python3.10/site-packages/pandas/core/indexing.py\": 1738208876.0674512, \"/home/oren/work/notes/notes-nlp/.venv/lib/python3.10/site-packages/pandas/core/sample.py\": 1738208876.0664513, \"/home/oren/work/notes/notes-nlp/.venv/lib/python3.10/site-packages/pandas/core/array_algos/replace.py\": 1738208876.0954509, \"/home/oren/work/notes/notes-nlp/.venv/lib/python3.10/site-packages/pandas/core/internals/blocks.py\": 1738208876.085451, \"/home/oren/work/notes/notes-nlp/.venv/lib/python3.10/site-packages/pandas/core/internals/api.py\": 1738208876.084451, \"/home/oren/work/notes/notes-nlp/.venv/lib/python3.10/site-packages/pandas/core/internals/base.py\": 1738208876.084451, \"/home/oren/work/notes/notes-nlp/.venv/lib/python3.10/site-packages/pandas/core/internals/ops.py\": 1738208876.084451, \"/home/oren/work/notes/notes-nlp/.venv/lib/python3.10/site-packages/pandas/core/internals/managers.py\": 1738208876.086451, \"/home/oren/work/notes/notes-nlp/.venv/lib/python3.10/site-packages/pandas/core/internals/array_manager.py\": 1738208876.085451, \"/home/oren/work/notes/notes-nlp/.venv/lib/python3.10/site-packages/pandas/core/internals/concat.py\": 1738208876.085451, \"/home/oren/work/notes/notes-nlp/.venv/lib/python3.10/site-packages/pandas/core/internals/__init__.py\": 1738208876.085451, \"/home/oren/work/notes/notes-nlp/.venv/lib/python3.10/site-packages/pandas/core/internals/construction.py\": 1738208876.084451, \"/home/oren/work/notes/notes-nlp/.venv/lib/python3.10/site-packages/pandas/core/methods/__init__.py\": 1738208876.0754511, \"/home/oren/work/notes/notes-nlp/.venv/lib/python3.10/site-packages/pandas/core/reshape/__init__.py\": 1738208876.083451, \"/home/oren/work/notes/notes-nlp/.venv/lib/python3.10/site-packages/pandas/core/reshape/concat.py\": 1738208876.083451, \"/usr/lib/python3.10/lib-dynload/mmap.cpython-310-x86_64-linux-gnu.so\": 1737124534.0, \"/usr/lib/python3.10/tarfile.py\": 1737124534.0, \"/home/oren/work/notes/notes-nlp/.venv/lib/python3.10/site-packages/pandas/core/shared_docs.py\": 1738208876.0694513, \"/home/oren/work/notes/notes-nlp/.venv/lib/python3.10/site-packages/pandas/io/common.py\": 1738208875.9274535, \"/home/oren/work/notes/notes-nlp/.venv/lib/python3.10/site-packages/pandas/io/formats/format.py\": 1738208875.9284534, \"/home/oren/work/notes/notes-nlp/.venv/lib/python3.10/site-packages/pandas/core/methods/describe.py\": 1738208876.0754511, \"/home/oren/work/notes/notes-nlp/.venv/lib/python3.10/site-packages/pandas/_libs/window/__init__.py\": 1738208876.1674497, \"/home/oren/work/notes/notes-nlp/.venv/lib/python3.10/site-packages/pandas/_libs/window/aggregations.cpython-310-x86_64-linux-gnu.so\": 1738208876.1694496, \"/home/oren/work/notes/notes-nlp/.venv/lib/python3.10/site-packages/pandas/_libs/window/indexers.cpython-310-x86_64-linux-gnu.so\": 1738208876.1664498, \"/home/oren/work/notes/notes-nlp/.venv/lib/python3.10/site-packages/pandas/core/indexers/objects.py\": 1738208876.0714512, \"/home/oren/work/notes/notes-nlp/.venv/lib/python3.10/site-packages/pandas/core/util/numba_.py\": 1738208876.0734513, \"/home/oren/work/notes/notes-nlp/.venv/lib/python3.10/site-packages/pandas/core/window/common.py\": 1738208876.082451, \"/home/oren/work/notes/notes-nlp/.venv/lib/python3.10/site-packages/pandas/core/window/doc.py\": 1738208876.080451, \"/home/oren/work/notes/notes-nlp/.venv/lib/python3.10/site-packages/pandas/core/window/numba_.py\": 1738208876.081451, \"/home/oren/work/notes/notes-nlp/.venv/lib/python3.10/site-packages/pandas/core/window/online.py\": 1738208876.081451, \"/home/oren/work/notes/notes-nlp/.venv/lib/python3.10/site-packages/pandas/core/window/rolling.py\": 1738208876.081451, \"/home/oren/work/notes/notes-nlp/.venv/lib/python3.10/site-packages/pandas/core/window/ewm.py\": 1738208876.081451, \"/home/oren/work/notes/notes-nlp/.venv/lib/python3.10/site-packages/pandas/core/window/expanding.py\": 1738208876.081451, \"/home/oren/work/notes/notes-nlp/.venv/lib/python3.10/site-packages/pandas/core/window/__init__.py\": 1738208876.081451, \"/home/oren/work/notes/notes-nlp/.venv/lib/python3.10/site-packages/pandas/core/generic.py\": 1738208876.0664513, \"/home/oren/work/notes/notes-nlp/.venv/lib/python3.10/site-packages/pandas/core/methods/selectn.py\": 1738208876.0754511, \"/home/oren/work/notes/notes-nlp/.venv/lib/python3.10/site-packages/pandas/core/reshape/util.py\": 1738208876.083451, \"/home/oren/work/notes/notes-nlp/.venv/lib/python3.10/site-packages/pandas/core/tools/numeric.py\": 1738208876.0744512, \"/home/oren/work/notes/notes-nlp/.venv/lib/python3.10/site-packages/pandas/core/reshape/melt.py\": 1738208876.083451, \"/home/oren/work/notes/notes-nlp/.venv/lib/python3.10/site-packages/pandas/_libs/reshape.cpython-310-x86_64-linux-gnu.so\": 1738208876.14945, \"/home/oren/work/notes/notes-nlp/.venv/lib/python3.10/site-packages/pandas/core/indexes/accessors.py\": 1738208876.0784512, \"/home/oren/work/notes/notes-nlp/.venv/lib/python3.10/site-packages/pandas/arrays/__init__.py\": 1738208876.0954509, \"/home/oren/work/notes/notes-nlp/.venv/lib/python3.10/site-packages/pandas/core/tools/datetimes.py\": 1738208876.0744512, \"/home/oren/work/notes/notes-nlp/.venv/lib/python3.10/site-packages/pandas/io/formats/info.py\": 1738208875.9284534, \"/home/oren/work/notes/notes-nlp/.venv/lib/python3.10/site-packages/pandas/plotting/_core.py\": 1738208875.9364533, \"/home/oren/work/notes/notes-nlp/.venv/lib/python3.10/site-packages/pandas/plotting/_misc.py\": 1738208875.9364533, \"/home/oren/work/notes/notes-nlp/.venv/lib/python3.10/site-packages/pandas/plotting/__init__.py\": 1738208875.9364533, \"/home/oren/work/notes/notes-nlp/.venv/lib/python3.10/site-packages/pandas/core/series.py\": 1738208876.0704513, \"/home/oren/work/notes/notes-nlp/.venv/lib/python3.10/site-packages/pandas/core/frame.py\": 1738208876.0694513, \"/home/oren/work/notes/notes-nlp/.venv/lib/python3.10/site-packages/pandas/core/groupby/base.py\": 1738208876.080451, \"/home/oren/work/notes/notes-nlp/.venv/lib/python3.10/site-packages/pandas/_libs/groupby.cpython-310-x86_64-linux-gnu.so\": 1738208876.1204505, \"/home/oren/work/notes/notes-nlp/.venv/lib/python3.10/site-packages/pandas/core/groupby/categorical.py\": 1738208876.080451, \"/home/oren/work/notes/notes-nlp/.venv/lib/python3.10/site-packages/pandas/core/groupby/grouper.py\": 1738208876.080451, \"/home/oren/work/notes/notes-nlp/.venv/lib/python3.10/site-packages/pandas/core/groupby/ops.py\": 1738208876.080451, \"/home/oren/work/notes/notes-nlp/.venv/lib/python3.10/site-packages/pandas/core/groupby/numba_.py\": 1738208876.080451, \"/home/oren/work/notes/notes-nlp/.venv/lib/python3.10/site-packages/pandas/core/groupby/indexing.py\": 1738208876.080451, \"/home/oren/work/notes/notes-nlp/.venv/lib/python3.10/site-packages/pandas/core/groupby/groupby.py\": 1738208876.079451, \"/home/oren/work/notes/notes-nlp/.venv/lib/python3.10/site-packages/pandas/core/groupby/generic.py\": 1738208876.079451, \"/home/oren/work/notes/notes-nlp/.venv/lib/python3.10/site-packages/pandas/core/groupby/__init__.py\": 1738208876.080451, \"/home/oren/work/notes/notes-nlp/.venv/lib/python3.10/site-packages/pandas/core/api.py\": 1738208876.0664513, \"/home/oren/work/notes/notes-nlp/.venv/lib/python3.10/site-packages/pandas/tseries/api.py\": 1738208876.0624514, \"/home/oren/work/notes/notes-nlp/.venv/lib/python3.10/site-packages/pandas/core/computation/common.py\": 1738208876.0734513, \"/home/oren/work/notes/notes-nlp/.venv/lib/python3.10/site-packages/pandas/core/computation/align.py\": 1738208876.072451, \"/home/oren/work/notes/notes-nlp/.venv/lib/python3.10/site-packages/pandas/core/computation/scope.py\": 1738208876.0714512, \"/home/oren/work/notes/notes-nlp/.venv/lib/python3.10/site-packages/pandas/core/computation/ops.py\": 1738208876.072451, \"/home/oren/work/notes/notes-nlp/.venv/lib/python3.10/site-packages/pandas/core/computation/engines.py\": 1738208876.072451, \"/home/oren/work/notes/notes-nlp/.venv/lib/python3.10/site-packages/pandas/core/computation/parsing.py\": 1738208876.072451, \"/home/oren/work/notes/notes-nlp/.venv/lib/python3.10/site-packages/pandas/core/computation/expr.py\": 1738208876.0714512, \"/home/oren/work/notes/notes-nlp/.venv/lib/python3.10/site-packages/pandas/core/computation/eval.py\": 1738208876.072451, \"/home/oren/work/notes/notes-nlp/.venv/lib/python3.10/site-packages/pandas/core/computation/api.py\": 1738208876.072451, \"/home/oren/work/notes/notes-nlp/.venv/lib/python3.10/site-packages/pandas/core/reshape/encoding.py\": 1738208876.082451, \"/home/oren/work/notes/notes-nlp/.venv/lib/python3.10/site-packages/pandas/core/reshape/merge.py\": 1738208876.082451, \"/home/oren/work/notes/notes-nlp/.venv/lib/python3.10/site-packages/pandas/core/reshape/pivot.py\": 1738208876.082451, \"/home/oren/work/notes/notes-nlp/.venv/lib/python3.10/site-packages/pandas/core/reshape/tile.py\": 1738208876.083451, \"/home/oren/work/notes/notes-nlp/.venv/lib/python3.10/site-packages/pandas/core/reshape/api.py\": 1738208876.083451, \"/home/oren/work/notes/notes-nlp/.venv/lib/python3.10/site-packages/pandas/api/extensions/__init__.py\": 1738208876.0964508, \"/home/oren/work/notes/notes-nlp/.venv/lib/python3.10/site-packages/pandas/api/indexers/__init__.py\": 1738208876.0964508, \"/home/oren/work/notes/notes-nlp/.venv/lib/python3.10/site-packages/pandas/core/interchange/__init__.py\": 1738208876.084451, \"/home/oren/work/notes/notes-nlp/.venv/lib/python3.10/site-packages/pandas/core/interchange/dataframe_protocol.py\": 1738208876.083451, \"/home/oren/work/notes/notes-nlp/.venv/lib/python3.10/site-packages/pandas/core/interchange/utils.py\": 1738208876.084451, \"/home/oren/work/notes/notes-nlp/.venv/lib/python3.10/site-packages/pandas/core/interchange/from_dataframe.py\": 1738208876.084451, \"/home/oren/work/notes/notes-nlp/.venv/lib/python3.10/site-packages/pandas/api/interchange/__init__.py\": 1738208876.0964508, \"/home/oren/work/notes/notes-nlp/.venv/lib/python3.10/site-packages/pandas/core/dtypes/api.py\": 1738208876.0924509, \"/home/oren/work/notes/notes-nlp/.venv/lib/python3.10/site-packages/pandas/api/types/__init__.py\": 1738208876.0964508, \"/home/oren/work/notes/notes-nlp/.venv/lib/python3.10/site-packages/pandas/core/resample.py\": 1738208876.0644512, \"/home/oren/work/notes/notes-nlp/.venv/lib/python3.10/site-packages/pandas/_libs/json.cpython-310-x86_64-linux-gnu.so\": 1738208876.0974507, \"/home/oren/work/notes/notes-nlp/.venv/lib/python3.10/site-packages/pandas/io/json/_normalize.py\": 1738208875.9344535, \"/home/oren/work/notes/notes-nlp/.venv/lib/python3.10/site-packages/pandas/io/json/_table_schema.py\": 1738208875.9344535, \"/home/oren/work/notes/notes-nlp/.venv/lib/python3.10/site-packages/pandas/_libs/parsers.cpython-310-x86_64-linux-gnu.so\": 1738208876.1084507, \"/home/oren/work/notes/notes-nlp/.venv/lib/python3.10/site-packages/pandas/io/parsers/base_parser.py\": 1738208875.9324534, \"/home/oren/work/notes/notes-nlp/.venv/lib/python3.10/site-packages/pandas/io/parsers/arrow_parser_wrapper.py\": 1738208875.9314535, \"/home/oren/work/notes/notes-nlp/.venv/lib/python3.10/site-packages/pandas/io/parsers/c_parser_wrapper.py\": 1738208875.9314535, \"/home/oren/work/notes/notes-nlp/.venv/lib/python3.10/site-packages/pandas/io/parsers/python_parser.py\": 1738208875.9314535, \"/home/oren/work/notes/notes-nlp/.venv/lib/python3.10/site-packages/pandas/io/parsers/readers.py\": 1738208875.9314535, \"/home/oren/work/notes/notes-nlp/.venv/lib/python3.10/site-packages/pandas/io/parsers/__init__.py\": 1738208875.9324534, \"/home/oren/work/notes/notes-nlp/.venv/lib/python3.10/site-packages/pandas/io/json/_json.py\": 1738208875.9344535, \"/home/oren/work/notes/notes-nlp/.venv/lib/python3.10/site-packages/pandas/io/json/__init__.py\": 1738208875.9344535, \"/home/oren/work/notes/notes-nlp/.venv/lib/python3.10/site-packages/pandas/io/stata.py\": 1738208875.9274535, \"/home/oren/work/notes/notes-nlp/.venv/lib/python3.10/site-packages/pandas/api/typing/__init__.py\": 1738208876.0964508, \"/home/oren/work/notes/notes-nlp/.venv/lib/python3.10/site-packages/pandas/api/__init__.py\": 1738208876.0954509, \"/home/oren/work/notes/notes-nlp/.venv/lib/python3.10/site-packages/pandas/_testing/contexts.py\": 1738208876.0614514, \"/home/oren/work/notes/notes-nlp/.venv/lib/python3.10/site-packages/pandas/_testing/_io.py\": 1738208876.0624514, \"/home/oren/work/notes/notes-nlp/.venv/lib/python3.10/site-packages/pandas/_testing/_warnings.py\": 1738208876.0624514, \"/home/oren/work/notes/notes-nlp/.venv/lib/python3.10/site-packages/pandas/_libs/testing.cpython-310-x86_64-linux-gnu.so\": 1738208876.1634498, \"/home/oren/work/notes/notes-nlp/.venv/lib/python3.10/site-packages/pandas/_testing/asserters.py\": 1738208876.0624514, \"/home/oren/work/notes/notes-nlp/.venv/lib/python3.10/site-packages/pandas/_testing/compat.py\": 1738208876.0624514, \"/home/oren/work/notes/notes-nlp/.venv/lib/python3.10/site-packages/pandas/_testing/__init__.py\": 1738208876.0624514, \"/home/oren/work/notes/notes-nlp/.venv/lib/python3.10/site-packages/pandas/testing.py\": 1738208875.9244535, \"/home/oren/work/notes/notes-nlp/.venv/lib/python3.10/site-packages/pandas/util/_print_versions.py\": 1738208875.9344535, \"/home/oren/work/notes/notes-nlp/.venv/lib/python3.10/site-packages/pandas/io/clipboards.py\": 1738208875.9274535, \"/home/oren/work/notes/notes-nlp/.venv/lib/python3.10/site-packages/pandas/io/excel/_util.py\": 1738208875.9324534, \"/home/oren/work/notes/notes-nlp/.venv/lib/python3.10/site-packages/pandas/io/excel/_calamine.py\": 1738208875.9334533, \"/home/oren/work/notes/notes-nlp/.venv/lib/python3.10/site-packages/pandas/io/excel/_odfreader.py\": 1738208875.9334533, \"/home/oren/work/notes/notes-nlp/.venv/lib/python3.10/site-packages/pandas/io/excel/_openpyxl.py\": 1738208875.9334533, \"/home/oren/work/notes/notes-nlp/.venv/lib/python3.10/site-packages/pandas/io/excel/_pyxlsb.py\": 1738208875.9324534, \"/home/oren/work/notes/notes-nlp/.venv/lib/python3.10/site-packages/pandas/io/excel/_xlrd.py\": 1738208875.9334533, \"/home/oren/work/notes/notes-nlp/.venv/lib/python3.10/site-packages/pandas/io/excel/_base.py\": 1738208875.9324534, \"/home/oren/work/notes/notes-nlp/.venv/lib/python3.10/site-packages/pandas/io/excel/_odswriter.py\": 1738208875.9324534, \"/home/oren/work/notes/notes-nlp/.venv/lib/python3.10/site-packages/pandas/io/excel/_xlsxwriter.py\": 1738208875.9324534, \"/home/oren/work/notes/notes-nlp/.venv/lib/python3.10/site-packages/pandas/io/excel/__init__.py\": 1738208875.9334533, \"/home/oren/work/notes/notes-nlp/.venv/lib/python3.10/site-packages/pandas/io/feather_format.py\": 1738208875.9254534, \"/home/oren/work/notes/notes-nlp/.venv/lib/python3.10/site-packages/pandas/io/gbq.py\": 1738208875.9274535, \"/home/oren/work/notes/notes-nlp/.venv/lib/python3.10/site-packages/pandas/io/html.py\": 1738208875.9254534, \"/home/oren/work/notes/notes-nlp/.venv/lib/python3.10/site-packages/pandas/io/orc.py\": 1738208875.9244535, \"/home/oren/work/notes/notes-nlp/.venv/lib/python3.10/site-packages/pandas/io/parquet.py\": 1738208875.9254534, \"/home/oren/work/notes/notes-nlp/.venv/lib/python3.10/site-packages/pandas/compat/pickle_compat.py\": 1738208876.2004492, \"/home/oren/work/notes/notes-nlp/.venv/lib/python3.10/site-packages/pandas/io/pickle.py\": 1738208875.9274535, \"/home/oren/work/notes/notes-nlp/.venv/lib/python3.10/site-packages/pandas/core/computation/pytables.py\": 1738208876.072451, \"/home/oren/work/notes/notes-nlp/.venv/lib/python3.10/site-packages/pandas/io/pytables.py\": 1738208875.9264536, \"/home/oren/work/notes/notes-nlp/.venv/lib/python3.10/site-packages/pandas/io/sas/sasreader.py\": 1738208875.9344535, \"/home/oren/work/notes/notes-nlp/.venv/lib/python3.10/site-packages/pandas/io/sas/__init__.py\": 1738208875.9344535, \"/home/oren/work/notes/notes-nlp/.venv/lib/python3.10/site-packages/pandas/io/spss.py\": 1738208875.9254534, \"/home/oren/work/notes/notes-nlp/.venv/lib/python3.10/site-packages/pandas/io/sql.py\": 1738208875.9254534, \"/home/oren/work/notes/notes-nlp/.venv/lib/python3.10/site-packages/pandas/io/xml.py\": 1738208875.9274535, \"/home/oren/work/notes/notes-nlp/.venv/lib/python3.10/site-packages/pandas/io/api.py\": 1738208875.9254534, \"/home/oren/work/notes/notes-nlp/.venv/lib/python3.10/site-packages/pandas/util/_tester.py\": 1738208875.9344535, \"/home/oren/work/notes/notes-nlp/.venv/lib/python3.10/site-packages/pandas/_version_meson.py\": 1738208875.9244535, \"/home/oren/work/notes/notes-nlp/.venv/lib/python3.10/site-packages/pandas/__init__.py\": 1738208875.9244535}\n"
     ]
    }
   ],
   "source": [
    "\n",
    "# imports\n",
    "import os\n",
    "import sys\n",
    "import types\n",
    "import json\n",
    "import base64\n",
    "\n",
    "# figure size/format\n",
    "fig_width = 7\n",
    "fig_height = 5\n",
    "fig_format = 'retina'\n",
    "fig_dpi = 96\n",
    "interactivity = 'all'\n",
    "is_shiny = False\n",
    "is_dashboard = False\n",
    "plotly_connected = True\n",
    "\n",
    "# matplotlib defaults / format\n",
    "try:\n",
    "  import matplotlib.pyplot as plt\n",
    "  plt.rcParams['figure.figsize'] = (fig_width, fig_height)\n",
    "  plt.rcParams['figure.dpi'] = fig_dpi\n",
    "  plt.rcParams['savefig.dpi'] = \"figure\"\n",
    "  from IPython.display import set_matplotlib_formats\n",
    "  set_matplotlib_formats(fig_format)\n",
    "except Exception:\n",
    "  pass\n",
    "\n",
    "# plotly use connected mode\n",
    "try:\n",
    "  import plotly.io as pio\n",
    "  if plotly_connected:\n",
    "    pio.renderers.default = \"notebook_connected\"\n",
    "  else:\n",
    "    pio.renderers.default = \"notebook\"\n",
    "  for template in pio.templates.keys():\n",
    "    pio.templates[template].layout.margin = dict(t=30,r=0,b=0,l=0)\n",
    "except Exception:\n",
    "  pass\n",
    "\n",
    "# disable itables paging for dashboards\n",
    "if is_dashboard:\n",
    "  try:\n",
    "    from itables import options\n",
    "    options.dom = 'fiBrtlp'\n",
    "    options.maxBytes = 1024 * 1024\n",
    "    options.language = dict(info = \"Showing _TOTAL_ entries\")\n",
    "    options.classes = \"display nowrap compact\"\n",
    "    options.paging = False\n",
    "    options.searching = True\n",
    "    options.ordering = True\n",
    "    options.info = True\n",
    "    options.lengthChange = False\n",
    "    options.autoWidth = False\n",
    "    options.responsive = True\n",
    "    options.keys = True\n",
    "    options.buttons = []\n",
    "  except Exception:\n",
    "    pass\n",
    "  \n",
    "  try:\n",
    "    import altair as alt\n",
    "    # By default, dashboards will have container sized\n",
    "    # vega visualizations which allows them to flow reasonably\n",
    "    theme_sentinel = '_quarto-dashboard-internal'\n",
    "    def make_theme(name):\n",
    "        nonTheme = alt.themes._plugins[name]    \n",
    "        def patch_theme(*args, **kwargs):\n",
    "            existingTheme = nonTheme()\n",
    "            if 'height' not in existingTheme:\n",
    "              existingTheme['height'] = 'container'\n",
    "            if 'width' not in existingTheme:\n",
    "              existingTheme['width'] = 'container'\n",
    "\n",
    "            if 'config' not in existingTheme:\n",
    "              existingTheme['config'] = dict()\n",
    "            \n",
    "            # Configure the default font sizes\n",
    "            title_font_size = 15\n",
    "            header_font_size = 13\n",
    "            axis_font_size = 12\n",
    "            legend_font_size = 12\n",
    "            mark_font_size = 12\n",
    "            tooltip = False\n",
    "\n",
    "            config = existingTheme['config']\n",
    "\n",
    "            # The Axis\n",
    "            if 'axis' not in config:\n",
    "              config['axis'] = dict()\n",
    "            axis = config['axis']\n",
    "            if 'labelFontSize' not in axis:\n",
    "              axis['labelFontSize'] = axis_font_size\n",
    "            if 'titleFontSize' not in axis:\n",
    "              axis['titleFontSize'] = axis_font_size  \n",
    "\n",
    "            # The legend\n",
    "            if 'legend' not in config:\n",
    "              config['legend'] = dict()\n",
    "            legend = config['legend']\n",
    "            if 'labelFontSize' not in legend:\n",
    "              legend['labelFontSize'] = legend_font_size\n",
    "            if 'titleFontSize' not in legend:\n",
    "              legend['titleFontSize'] = legend_font_size  \n",
    "\n",
    "            # The header\n",
    "            if 'header' not in config:\n",
    "              config['header'] = dict()\n",
    "            header = config['header']\n",
    "            if 'labelFontSize' not in header:\n",
    "              header['labelFontSize'] = header_font_size\n",
    "            if 'titleFontSize' not in header:\n",
    "              header['titleFontSize'] = header_font_size    \n",
    "\n",
    "            # Title\n",
    "            if 'title' not in config:\n",
    "              config['title'] = dict()\n",
    "            title = config['title']\n",
    "            if 'fontSize' not in title:\n",
    "              title['fontSize'] = title_font_size\n",
    "\n",
    "            # Marks\n",
    "            if 'mark' not in config:\n",
    "              config['mark'] = dict()\n",
    "            mark = config['mark']\n",
    "            if 'fontSize' not in mark:\n",
    "              mark['fontSize'] = mark_font_size\n",
    "\n",
    "            # Mark tooltips\n",
    "            if tooltip and 'tooltip' not in mark:\n",
    "              mark['tooltip'] = dict(content=\"encoding\")\n",
    "\n",
    "            return existingTheme\n",
    "            \n",
    "        return patch_theme\n",
    "\n",
    "    # We can only do this once per session\n",
    "    if theme_sentinel not in alt.themes.names():\n",
    "      for name in alt.themes.names():\n",
    "        alt.themes.register(name, make_theme(name))\n",
    "      \n",
    "      # register a sentinel theme so we only do this once\n",
    "      alt.themes.register(theme_sentinel, make_theme('default'))\n",
    "      alt.themes.enable('default')\n",
    "\n",
    "  except Exception:\n",
    "    pass\n",
    "\n",
    "# enable pandas latex repr when targeting pdfs\n",
    "try:\n",
    "  import pandas as pd\n",
    "  if fig_format == 'pdf':\n",
    "    pd.set_option('display.latex.repr', True)\n",
    "except Exception:\n",
    "  pass\n",
    "\n",
    "# interactivity\n",
    "if interactivity:\n",
    "  from IPython.core.interactiveshell import InteractiveShell\n",
    "  InteractiveShell.ast_node_interactivity = interactivity\n",
    "\n",
    "# NOTE: the kernel_deps code is repeated in the cleanup.py file\n",
    "# (we can't easily share this code b/c of the way it is run).\n",
    "# If you edit this code also edit the same code in cleanup.py!\n",
    "\n",
    "# output kernel dependencies\n",
    "kernel_deps = dict()\n",
    "for module in list(sys.modules.values()):\n",
    "  # Some modules play games with sys.modules (e.g. email/__init__.py\n",
    "  # in the standard library), and occasionally this can cause strange\n",
    "  # failures in getattr.  Just ignore anything that's not an ordinary\n",
    "  # module.\n",
    "  if not isinstance(module, types.ModuleType):\n",
    "    continue\n",
    "  path = getattr(module, \"__file__\", None)\n",
    "  if not path:\n",
    "    continue\n",
    "  if path.endswith(\".pyc\") or path.endswith(\".pyo\"):\n",
    "    path = path[:-1]\n",
    "  if not os.path.exists(path):\n",
    "    continue\n",
    "  kernel_deps[path] = os.stat(path).st_mtime\n",
    "print(json.dumps(kernel_deps))\n",
    "\n",
    "# set run_path if requested\n",
    "run_path = 'L2hvbWUvb3Jlbi93b3JrL25vdGVzL25vdGVzLW5scC9ub3Rlcy9jNHcx'\n",
    "if run_path:\n",
    "  # hex-decode the path\n",
    "  run_path = base64.b64decode(run_path.encode(\"utf-8\")).decode(\"utf-8\")\n",
    "  os.chdir(run_path)\n",
    "\n",
    "# reset state\n",
    "%reset\n",
    "\n",
    "# shiny\n",
    "# Checking for shiny by using False directly because we're after the %reset. We don't want\n",
    "# to set a variable that stays in global scope.\n",
    "if False:\n",
    "  try:\n",
    "    import htmltools as _htmltools\n",
    "    import ast as _ast\n",
    "\n",
    "    _htmltools.html_dependency_render_mode = \"json\"\n",
    "\n",
    "    # This decorator will be added to all function definitions\n",
    "    def _display_if_has_repr_html(x):\n",
    "      try:\n",
    "        # IPython 7.14 preferred import\n",
    "        from IPython.display import display, HTML\n",
    "      except:\n",
    "        from IPython.core.display import display, HTML\n",
    "\n",
    "      if hasattr(x, '_repr_html_'):\n",
    "        display(HTML(x._repr_html_()))\n",
    "      return x\n",
    "\n",
    "    # ideally we would undo the call to ast_transformers.append\n",
    "    # at the end of this block whenver an error occurs, we do \n",
    "    # this for now as it will only be a problem if the user \n",
    "    # switches from shiny to not-shiny mode (and even then likely\n",
    "    # won't matter)\n",
    "    import builtins\n",
    "    builtins._display_if_has_repr_html = _display_if_has_repr_html\n",
    "\n",
    "    class _FunctionDefReprHtml(_ast.NodeTransformer):\n",
    "      def visit_FunctionDef(self, node):\n",
    "        node.decorator_list.insert(\n",
    "          0,\n",
    "          _ast.Name(id=\"_display_if_has_repr_html\", ctx=_ast.Load())\n",
    "        )\n",
    "        return node\n",
    "\n",
    "      def visit_AsyncFunctionDef(self, node):\n",
    "        node.decorator_list.insert(\n",
    "          0,\n",
    "          _ast.Name(id=\"_display_if_has_repr_html\", ctx=_ast.Load())\n",
    "        )\n",
    "        return node\n",
    "\n",
    "    ip = get_ipython()\n",
    "    ip.ast_transformers.append(_FunctionDefReprHtml())\n",
    "\n",
    "  except:\n",
    "    pass\n",
    "\n",
    "def ojs_define(**kwargs):\n",
    "  import json\n",
    "  try:\n",
    "    # IPython 7.14 preferred import\n",
    "    from IPython.display import display, HTML\n",
    "  except:\n",
    "    from IPython.core.display import display, HTML\n",
    "\n",
    "  # do some minor magic for convenience when handling pandas\n",
    "  # dataframes\n",
    "  def convert(v):\n",
    "    try:\n",
    "      import pandas as pd\n",
    "    except ModuleNotFoundError: # don't do the magic when pandas is not available\n",
    "      return v\n",
    "    if type(v) == pd.Series:\n",
    "      v = pd.DataFrame(v)\n",
    "    if type(v) == pd.DataFrame:\n",
    "      j = json.loads(v.T.to_json(orient='split'))\n",
    "      return dict((k,v) for (k,v) in zip(j[\"index\"], j[\"data\"]))\n",
    "    else:\n",
    "      return v\n",
    "\n",
    "  v = dict(contents=list(dict(name=key, value=convert(value)) for (key, value) in kwargs.items()))\n",
    "  display(HTML('<script type=\"ojs-define\">' + json.dumps(v) + '</script>'), metadata=dict(ojs_define = True))\n",
    "globals()[\"ojs_define\"] = ojs_define\n",
    "globals()[\"__spec__\"] = None"
   ]
  },
  {
   "cell_type": "code",
   "execution_count": 2,
   "id": "01a3bc98",
   "metadata": {},
   "outputs": [
    {
     "name": "stderr",
     "output_type": "stream",
     "text": [
      "2025-02-10 16:59:02.246009: E external/local_xla/xla/stream_executor/cuda/cuda_fft.cc:477] Unable to register cuFFT factory: Attempting to register factory for plugin cuFFT when one has already been registered\n",
      "WARNING: All log messages before absl::InitializeLog() is called are written to STDERR\n",
      "E0000 00:00:1739199542.258783  126126 cuda_dnn.cc:8310] Unable to register cuDNN factory: Attempting to register factory for plugin cuDNN when one has already been registered\n",
      "E0000 00:00:1739199542.263038  126126 cuda_blas.cc:1418] Unable to register cuBLAS factory: Attempting to register factory for plugin cuBLAS when one has already been registered\n"
     ]
    },
    {
     "name": "stdout",
     "output_type": "stream",
     "text": [
      "trax                         1.4.1\r\n"
     ]
    }
   ],
   "source": [
    "from termcolor import colored\n",
    "import random\n",
    "import numpy as np\n",
    "\n",
    "import trax\n",
    "from trax import layers as tl\n",
    "from trax.fastmath import numpy as fastnp\n",
    "from trax.supervised import training\n",
    "\n",
    "!pip list | grep trax"
   ]
  },
  {
   "cell_type": "code",
   "execution_count": 3,
   "id": "e7790830",
   "metadata": {},
   "outputs": [
    {
     "name": "stderr",
     "output_type": "stream",
     "text": [
      "/home/oren/work/notes/notes-nlp/.venv/lib/python3.10/site-packages/jax/_src/xla_bridge.py:1234: UserWarning: jax.host_count has been renamed to jax.process_count. This alias will eventually be removed; please update your code.\n",
      "  warnings.warn(\n"
     ]
    },
    {
     "name": "stderr",
     "output_type": "stream",
     "text": [
      "I0000 00:00:1739199571.282694  126126 gpu_device.cc:2022] Created device /job:localhost/replica:0/task:0/device:GPU:0 with 5878 MB memory:  -> device: 0, name: NVIDIA GeForce RTX 3070 Laptop GPU, pci bus id: 0000:01:00.0, compute capability: 8.6\n"
     ]
    }
   ],
   "source": [
    "# Get generator function for the training set\n",
    "# This will download the train dataset if no data_dir is specified.\n",
    "train_stream_fn = trax.data.TFDS('opus/medical',\n",
    "                                 data_dir='./data/',\n",
    "                                 keys=('en', 'de'),\n",
    "                                 eval_holdout_size=0.01, # 1% for eval\n",
    "                                 train=True)\n",
    "\n",
    "# Get generator function for the eval set\n",
    "eval_stream_fn = trax.data.TFDS('opus/medical',\n",
    "                                data_dir='./data/',\n",
    "                                keys=('en', 'de'),\n",
    "                                eval_holdout_size=0.01, # 1% for eval\n",
    "                                train=False)"
   ]
  },
  {
   "cell_type": "code",
   "execution_count": 4,
   "id": "d335e2f1",
   "metadata": {},
   "outputs": [
    {
     "ename": "NotFoundError",
     "evalue": "{{function_node __wrapped__IteratorGetNext_output_types_2_device_/job:localhost/replica:0/task:0/device:CPU:0}} data/opus/medical/0.1.0/opus-train.tfrecord-00001-of-00002; No such file or directory [Op:IteratorGetNext] name: ",
     "output_type": "error",
     "traceback": [
      "\u001b[0;31m---------------------------------------------------------------------------\u001b[0m",
      "\u001b[0;31mNotFoundError\u001b[0m                             Traceback (most recent call last)",
      "Cell \u001b[0;32mIn[3], line 2\u001b[0m\n\u001b[1;32m      1\u001b[0m train_stream \u001b[38;5;241m=\u001b[39m train_stream_fn()\n\u001b[0;32m----> 2\u001b[0m \u001b[38;5;28mprint\u001b[39m(colored(\u001b[38;5;124m'\u001b[39m\u001b[38;5;124mtrain data (en, de) tuple:\u001b[39m\u001b[38;5;124m'\u001b[39m, \u001b[38;5;124m'\u001b[39m\u001b[38;5;124mred\u001b[39m\u001b[38;5;124m'\u001b[39m), \u001b[38;5;28;43mnext\u001b[39;49m\u001b[43m(\u001b[49m\u001b[43mtrain_stream\u001b[49m\u001b[43m)\u001b[49m)\n\u001b[1;32m      3\u001b[0m \u001b[38;5;28mprint\u001b[39m()\n\u001b[1;32m      5\u001b[0m eval_stream \u001b[38;5;241m=\u001b[39m eval_stream_fn()\n",
      "File \u001b[0;32m~/work/notes/notes-nlp/.venv/lib/python3.10/site-packages/trax/data/tf_inputs.py:354\u001b[0m, in \u001b[0;36mTFDS.<locals>.gen\u001b[0;34m(***failed resolving arguments***)\u001b[0m\n\u001b[1;32m    352\u001b[0m \u001b[38;5;28;01mdef\u001b[39;00m\u001b[38;5;250m \u001b[39m\u001b[38;5;21mgen\u001b[39m(generator\u001b[38;5;241m=\u001b[39m\u001b[38;5;28;01mNone\u001b[39;00m):\n\u001b[1;32m    353\u001b[0m   \u001b[38;5;28;01mdel\u001b[39;00m generator\n\u001b[0;32m--> 354\u001b[0m   \u001b[38;5;28;01mfor\u001b[39;00m example \u001b[38;5;129;01min\u001b[39;00m fastmath\u001b[38;5;241m.\u001b[39mdataset_as_numpy(dataset):\n\u001b[1;32m    355\u001b[0m     \u001b[38;5;28;01myield\u001b[39;00m example\n",
      "File \u001b[0;32m~/work/notes/notes-nlp/.venv/lib/python3.10/site-packages/trax/fastmath/jax.py:154\u001b[0m, in \u001b[0;36m_dataset_as_numpy\u001b[0;34m(ds, batch_size)\u001b[0m\n\u001b[1;32m    151\u001b[0m       \u001b[38;5;28;01myield\u001b[39;00m single_example\n\u001b[1;32m    152\u001b[0m \u001b[38;5;28;01mexcept\u001b[39;00m \u001b[38;5;167;01mAttributeError\u001b[39;00m:\n\u001b[1;32m    153\u001b[0m   \u001b[38;5;66;03m# In TF 1.X there is not dense_to_ragged_batch: fallback.\u001b[39;00m\n\u001b[0;32m--> 154\u001b[0m   \u001b[38;5;28;01mfor\u001b[39;00m example \u001b[38;5;129;01min\u001b[39;00m tfds\u001b[38;5;241m.\u001b[39mas_numpy(ds):\n\u001b[1;32m    155\u001b[0m     \u001b[38;5;28;01myield\u001b[39;00m example\n",
      "File \u001b[0;32m~/work/notes/notes-nlp/.venv/lib/python3.10/site-packages/tensorflow_datasets/core/dataset_utils.py:82\u001b[0m, in \u001b[0;36m_eager_dataset_iterator\u001b[0;34m(ds)\u001b[0m\n\u001b[1;32m     81\u001b[0m \u001b[38;5;28;01mdef\u001b[39;00m\u001b[38;5;250m \u001b[39m\u001b[38;5;21m_eager_dataset_iterator\u001b[39m(ds: tf\u001b[38;5;241m.\u001b[39mdata\u001b[38;5;241m.\u001b[39mDataset) \u001b[38;5;241m-\u001b[39m\u001b[38;5;241m>\u001b[39m Iterator[NumpyElem]:\n\u001b[0;32m---> 82\u001b[0m   \u001b[38;5;28;01mfor\u001b[39;00m elem \u001b[38;5;129;01min\u001b[39;00m ds:\n\u001b[1;32m     83\u001b[0m     \u001b[38;5;28;01myield\u001b[39;00m tree_utils\u001b[38;5;241m.\u001b[39mmap_structure(_elem_to_numpy_eager, elem)\n",
      "File \u001b[0;32m~/work/notes/notes-nlp/.venv/lib/python3.10/site-packages/tensorflow/python/data/ops/iterator_ops.py:826\u001b[0m, in \u001b[0;36mOwnedIterator.__next__\u001b[0;34m(self)\u001b[0m\n\u001b[1;32m    824\u001b[0m \u001b[38;5;28;01mdef\u001b[39;00m\u001b[38;5;250m \u001b[39m\u001b[38;5;21m__next__\u001b[39m(\u001b[38;5;28mself\u001b[39m):\n\u001b[1;32m    825\u001b[0m   \u001b[38;5;28;01mtry\u001b[39;00m:\n\u001b[0;32m--> 826\u001b[0m     \u001b[38;5;28;01mreturn\u001b[39;00m \u001b[38;5;28;43mself\u001b[39;49m\u001b[38;5;241;43m.\u001b[39;49m\u001b[43m_next_internal\u001b[49m\u001b[43m(\u001b[49m\u001b[43m)\u001b[49m\n\u001b[1;32m    827\u001b[0m   \u001b[38;5;28;01mexcept\u001b[39;00m errors\u001b[38;5;241m.\u001b[39mOutOfRangeError:\n\u001b[1;32m    828\u001b[0m     \u001b[38;5;28;01mraise\u001b[39;00m \u001b[38;5;167;01mStopIteration\u001b[39;00m\n",
      "File \u001b[0;32m~/work/notes/notes-nlp/.venv/lib/python3.10/site-packages/tensorflow/python/data/ops/iterator_ops.py:776\u001b[0m, in \u001b[0;36mOwnedIterator._next_internal\u001b[0;34m(self)\u001b[0m\n\u001b[1;32m    773\u001b[0m \u001b[38;5;66;03m# TODO(b/77291417): This runs in sync mode as iterators use an error status\u001b[39;00m\n\u001b[1;32m    774\u001b[0m \u001b[38;5;66;03m# to communicate that there is no more data to iterate over.\u001b[39;00m\n\u001b[1;32m    775\u001b[0m \u001b[38;5;28;01mwith\u001b[39;00m context\u001b[38;5;241m.\u001b[39mexecution_mode(context\u001b[38;5;241m.\u001b[39mSYNC):\n\u001b[0;32m--> 776\u001b[0m   ret \u001b[38;5;241m=\u001b[39m \u001b[43mgen_dataset_ops\u001b[49m\u001b[38;5;241;43m.\u001b[39;49m\u001b[43miterator_get_next\u001b[49m\u001b[43m(\u001b[49m\n\u001b[1;32m    777\u001b[0m \u001b[43m      \u001b[49m\u001b[38;5;28;43mself\u001b[39;49m\u001b[38;5;241;43m.\u001b[39;49m\u001b[43m_iterator_resource\u001b[49m\u001b[43m,\u001b[49m\n\u001b[1;32m    778\u001b[0m \u001b[43m      \u001b[49m\u001b[43moutput_types\u001b[49m\u001b[38;5;241;43m=\u001b[39;49m\u001b[38;5;28;43mself\u001b[39;49m\u001b[38;5;241;43m.\u001b[39;49m\u001b[43m_flat_output_types\u001b[49m\u001b[43m,\u001b[49m\n\u001b[1;32m    779\u001b[0m \u001b[43m      \u001b[49m\u001b[43moutput_shapes\u001b[49m\u001b[38;5;241;43m=\u001b[39;49m\u001b[38;5;28;43mself\u001b[39;49m\u001b[38;5;241;43m.\u001b[39;49m\u001b[43m_flat_output_shapes\u001b[49m\u001b[43m)\u001b[49m\n\u001b[1;32m    781\u001b[0m   \u001b[38;5;28;01mtry\u001b[39;00m:\n\u001b[1;32m    782\u001b[0m     \u001b[38;5;66;03m# Fast path for the case `self._structure` is not a nested structure.\u001b[39;00m\n\u001b[1;32m    783\u001b[0m     \u001b[38;5;28;01mreturn\u001b[39;00m \u001b[38;5;28mself\u001b[39m\u001b[38;5;241m.\u001b[39m_element_spec\u001b[38;5;241m.\u001b[39m_from_compatible_tensor_list(ret)  \u001b[38;5;66;03m# pylint: disable=protected-access\u001b[39;00m\n",
      "File \u001b[0;32m~/work/notes/notes-nlp/.venv/lib/python3.10/site-packages/tensorflow/python/ops/gen_dataset_ops.py:3086\u001b[0m, in \u001b[0;36miterator_get_next\u001b[0;34m(iterator, output_types, output_shapes, name)\u001b[0m\n\u001b[1;32m   3084\u001b[0m   \u001b[38;5;28;01mreturn\u001b[39;00m _result\n\u001b[1;32m   3085\u001b[0m \u001b[38;5;28;01mexcept\u001b[39;00m _core\u001b[38;5;241m.\u001b[39m_NotOkStatusException \u001b[38;5;28;01mas\u001b[39;00m e:\n\u001b[0;32m-> 3086\u001b[0m   \u001b[43m_ops\u001b[49m\u001b[38;5;241;43m.\u001b[39;49m\u001b[43mraise_from_not_ok_status\u001b[49m\u001b[43m(\u001b[49m\u001b[43me\u001b[49m\u001b[43m,\u001b[49m\u001b[43m \u001b[49m\u001b[43mname\u001b[49m\u001b[43m)\u001b[49m\n\u001b[1;32m   3087\u001b[0m \u001b[38;5;28;01mexcept\u001b[39;00m _core\u001b[38;5;241m.\u001b[39m_FallbackException:\n\u001b[1;32m   3088\u001b[0m   \u001b[38;5;28;01mpass\u001b[39;00m\n",
      "File \u001b[0;32m~/work/notes/notes-nlp/.venv/lib/python3.10/site-packages/tensorflow/python/framework/ops.py:6002\u001b[0m, in \u001b[0;36mraise_from_not_ok_status\u001b[0;34m(e, name)\u001b[0m\n\u001b[1;32m   6000\u001b[0m \u001b[38;5;28;01mdef\u001b[39;00m\u001b[38;5;250m \u001b[39m\u001b[38;5;21mraise_from_not_ok_status\u001b[39m(e, name) \u001b[38;5;241m-\u001b[39m\u001b[38;5;241m>\u001b[39m NoReturn:\n\u001b[1;32m   6001\u001b[0m   e\u001b[38;5;241m.\u001b[39mmessage \u001b[38;5;241m+\u001b[39m\u001b[38;5;241m=\u001b[39m (\u001b[38;5;124m\"\u001b[39m\u001b[38;5;124m name: \u001b[39m\u001b[38;5;124m\"\u001b[39m \u001b[38;5;241m+\u001b[39m \u001b[38;5;28mstr\u001b[39m(name \u001b[38;5;28;01mif\u001b[39;00m name \u001b[38;5;129;01mis\u001b[39;00m \u001b[38;5;129;01mnot\u001b[39;00m \u001b[38;5;28;01mNone\u001b[39;00m \u001b[38;5;28;01melse\u001b[39;00m \u001b[38;5;124m\"\u001b[39m\u001b[38;5;124m\"\u001b[39m))\n\u001b[0;32m-> 6002\u001b[0m   \u001b[38;5;28;01mraise\u001b[39;00m core\u001b[38;5;241m.\u001b[39m_status_to_exception(e) \u001b[38;5;28;01mfrom\u001b[39;00m\u001b[38;5;250m \u001b[39m\u001b[38;5;28;01mNone\u001b[39;00m\n",
      "\u001b[0;31mNotFoundError\u001b[0m: {{function_node __wrapped__IteratorGetNext_output_types_2_device_/job:localhost/replica:0/task:0/device:CPU:0}} data/opus/medical/0.1.0/opus-train.tfrecord-00001-of-00002; No such file or directory [Op:IteratorGetNext] name: "
     ]
    }
   ],
   "source": [
    "train_stream = train_stream_fn()\n",
    "print(colored('train data (en, de) tuple:', 'red'), next(train_stream))\n",
    "print()\n",
    "\n",
    "eval_stream = eval_stream_fn()\n",
    "print(colored('eval data (en, de) tuple:', 'red'), next(eval_stream))"
   ]
  },
  {
   "cell_type": "code",
   "execution_count": 5,
   "id": "eed0d1db",
   "metadata": {},
   "outputs": [
    {
     "ename": "NameError",
     "evalue": "name 'eval_stream' is not defined",
     "output_type": "error",
     "traceback": [
      "\u001b[0;31m---------------------------------------------------------------------------\u001b[0m",
      "\u001b[0;31mNameError\u001b[0m                                 Traceback (most recent call last)",
      "Cell \u001b[0;32mIn[4], line 7\u001b[0m\n\u001b[1;32m      5\u001b[0m \u001b[38;5;66;03m# Tokenize the dataset.\u001b[39;00m\n\u001b[1;32m      6\u001b[0m tokenized_train_stream \u001b[38;5;241m=\u001b[39m trax\u001b[38;5;241m.\u001b[39mdata\u001b[38;5;241m.\u001b[39mTokenize(vocab_file\u001b[38;5;241m=\u001b[39mVOCAB_FILE, vocab_dir\u001b[38;5;241m=\u001b[39mVOCAB_DIR)(train_stream)\n\u001b[0;32m----> 7\u001b[0m tokenized_eval_stream \u001b[38;5;241m=\u001b[39m trax\u001b[38;5;241m.\u001b[39mdata\u001b[38;5;241m.\u001b[39mTokenize(vocab_file\u001b[38;5;241m=\u001b[39mVOCAB_FILE, vocab_dir\u001b[38;5;241m=\u001b[39mVOCAB_DIR)(\u001b[43meval_stream\u001b[49m)\n",
      "\u001b[0;31mNameError\u001b[0m: name 'eval_stream' is not defined"
     ]
    }
   ],
   "source": [
    "# global variables that state the filename and directory of the vocabulary file\n",
    "VOCAB_FILE = 'ende_32k.subword'\n",
    "VOCAB_DIR = 'data/'\n",
    "\n",
    "# Tokenize the dataset.\n",
    "tokenized_train_stream = trax.data.Tokenize(vocab_file=VOCAB_FILE, vocab_dir=VOCAB_DIR)(train_stream)\n",
    "tokenized_eval_stream = trax.data.Tokenize(vocab_file=VOCAB_FILE, vocab_dir=VOCAB_DIR)(eval_stream)"
   ]
  },
  {
   "cell_type": "code",
   "execution_count": 6,
   "id": "2087a643",
   "metadata": {},
   "outputs": [
    {
     "ename": "NameError",
     "evalue": "name 'tokenized_eval_stream' is not defined",
     "output_type": "error",
     "traceback": [
      "\u001b[0;31m---------------------------------------------------------------------------\u001b[0m",
      "\u001b[0;31mNameError\u001b[0m                                 Traceback (most recent call last)",
      "Cell \u001b[0;32mIn[5], line 17\u001b[0m\n\u001b[1;32m     14\u001b[0m tokenized_train_stream \u001b[38;5;241m=\u001b[39m append_eos(tokenized_train_stream)\n\u001b[1;32m     16\u001b[0m \u001b[38;5;66;03m# append EOS to the eval data\u001b[39;00m\n\u001b[0;32m---> 17\u001b[0m tokenized_eval_stream \u001b[38;5;241m=\u001b[39m append_eos(\u001b[43mtokenized_eval_stream\u001b[49m)\n",
      "\u001b[0;31mNameError\u001b[0m: name 'tokenized_eval_stream' is not defined"
     ]
    }
   ],
   "source": [
    "# Append EOS at the end of each sentence.\n",
    "\n",
    "# Integer assigned as end-of-sentence (EOS)\n",
    "EOS = 1\n",
    "\n",
    "# generator helper function to append EOS to each sentence\n",
    "def append_eos(stream):\n",
    "    for (inputs, targets) in stream:\n",
    "        inputs_with_eos = list(inputs) + [EOS]\n",
    "        targets_with_eos = list(targets) + [EOS]\n",
    "        yield np.array(inputs_with_eos), np.array(targets_with_eos)\n",
    "\n",
    "# append EOS to the train data\n",
    "tokenized_train_stream = append_eos(tokenized_train_stream)\n",
    "\n",
    "# append EOS to the eval data\n",
    "tokenized_eval_stream = append_eos(tokenized_eval_stream)"
   ]
  },
  {
   "cell_type": "code",
   "execution_count": 7,
   "id": "19159685",
   "metadata": {},
   "outputs": [
    {
     "ename": "NameError",
     "evalue": "name 'tokenized_eval_stream' is not defined",
     "output_type": "error",
     "traceback": [
      "\u001b[0;31m---------------------------------------------------------------------------\u001b[0m",
      "\u001b[0;31mNameError\u001b[0m                                 Traceback (most recent call last)",
      "Cell \u001b[0;32mIn[6], line 7\u001b[0m\n\u001b[1;32m      1\u001b[0m \u001b[38;5;66;03m# Filter too long sentences to not run out of memory.\u001b[39;00m\n\u001b[1;32m      2\u001b[0m \u001b[38;5;66;03m# length_keys=[0, 1] means we filter both English and German sentences, so\u001b[39;00m\n\u001b[1;32m      3\u001b[0m \u001b[38;5;66;03m# both much be not longer that 256 tokens for training / 512 for eval.\u001b[39;00m\n\u001b[1;32m      4\u001b[0m filtered_train_stream \u001b[38;5;241m=\u001b[39m trax\u001b[38;5;241m.\u001b[39mdata\u001b[38;5;241m.\u001b[39mFilterByLength(\n\u001b[1;32m      5\u001b[0m     max_length\u001b[38;5;241m=\u001b[39m\u001b[38;5;241m256\u001b[39m, length_keys\u001b[38;5;241m=\u001b[39m[\u001b[38;5;241m0\u001b[39m, \u001b[38;5;241m1\u001b[39m])(tokenized_train_stream)\n\u001b[1;32m      6\u001b[0m filtered_eval_stream \u001b[38;5;241m=\u001b[39m trax\u001b[38;5;241m.\u001b[39mdata\u001b[38;5;241m.\u001b[39mFilterByLength(\n\u001b[0;32m----> 7\u001b[0m     max_length\u001b[38;5;241m=\u001b[39m\u001b[38;5;241m512\u001b[39m, length_keys\u001b[38;5;241m=\u001b[39m[\u001b[38;5;241m0\u001b[39m, \u001b[38;5;241m1\u001b[39m])(\u001b[43mtokenized_eval_stream\u001b[49m)\n\u001b[1;32m      9\u001b[0m \u001b[38;5;66;03m# print a sample input-target pair of tokenized sentences\u001b[39;00m\n\u001b[1;32m     10\u001b[0m train_input, train_target \u001b[38;5;241m=\u001b[39m \u001b[38;5;28mnext\u001b[39m(filtered_train_stream)\n",
      "\u001b[0;31mNameError\u001b[0m: name 'tokenized_eval_stream' is not defined"
     ]
    }
   ],
   "source": [
    "# Filter too long sentences to not run out of memory.\n",
    "# length_keys=[0, 1] means we filter both English and German sentences, so\n",
    "# both much be not longer that 256 tokens for training / 512 for eval.\n",
    "filtered_train_stream = trax.data.FilterByLength(\n",
    "    max_length=256, length_keys=[0, 1])(tokenized_train_stream)\n",
    "filtered_eval_stream = trax.data.FilterByLength(\n",
    "    max_length=512, length_keys=[0, 1])(tokenized_eval_stream)\n",
    "\n",
    "# print a sample input-target pair of tokenized sentences\n",
    "train_input, train_target = next(filtered_train_stream)\n",
    "print(colored(f'Single tokenized example input:', 'red' ), train_input)\n",
    "print(colored(f'Single tokenized example target:', 'red'), train_target)"
   ]
  },
  {
   "cell_type": "code",
   "execution_count": 8,
   "id": "4caf86f3",
   "metadata": {},
   "outputs": [],
   "source": [
    "# Setup helper functions for tokenizing and detokenizing sentences\n",
    "\n",
    "def tokenize(input_str, vocab_file=None, vocab_dir=None):\n",
    "    \"\"\"Encodes a string to an array of integers\n",
    "\n",
    "    Args:\n",
    "        input_str (str): human-readable string to encode\n",
    "        vocab_file (str): filename of the vocabulary text file\n",
    "        vocab_dir (str): path to the vocabulary file\n",
    "  \n",
    "    Returns:\n",
    "        numpy.ndarray: tokenized version of the input string\n",
    "    \"\"\"\n",
    "    \n",
    "    # Set the encoding of the \"end of sentence\" as 1\n",
    "    EOS = 1\n",
    "    \n",
    "    # Use the trax.data.tokenize method. It takes streams and returns streams,\n",
    "    # we get around it by making a 1-element stream with `iter`.\n",
    "    inputs =  next(trax.data.tokenize(iter([input_str]),\n",
    "                                      vocab_file=vocab_file, vocab_dir=vocab_dir))\n",
    "    \n",
    "    # Mark the end of the sentence with EOS\n",
    "    inputs = list(inputs) + [EOS]\n",
    "    \n",
    "    # Adding the batch dimension to the front of the shape\n",
    "    batch_inputs = np.reshape(np.array(inputs), [1, -1])\n",
    "    \n",
    "    return batch_inputs\n",
    "\n",
    "\n",
    "def detokenize(integers, vocab_file=None, vocab_dir=None):\n",
    "    \"\"\"Decodes an array of integers to a human readable string\n",
    "\n",
    "    Args:\n",
    "        integers (numpy.ndarray): array of integers to decode\n",
    "        vocab_file (str): filename of the vocabulary text file\n",
    "        vocab_dir (str): path to the vocabulary file\n",
    "  \n",
    "    Returns:\n",
    "        str: the decoded sentence.\n",
    "    \"\"\"\n",
    "    \n",
    "    # Remove the dimensions of size 1\n",
    "    integers = list(np.squeeze(integers))\n",
    "    \n",
    "    # Set the encoding of the \"end of sentence\" as 1\n",
    "    EOS = 1\n",
    "    \n",
    "    # Remove the EOS to decode only the original tokens\n",
    "    if EOS in integers:\n",
    "        integers = integers[:integers.index(EOS)] \n",
    "    \n",
    "    return trax.data.detokenize(integers, vocab_file=vocab_file, vocab_dir=vocab_dir)"
   ]
  },
  {
   "cell_type": "code",
   "execution_count": 9,
   "id": "8975061c",
   "metadata": {},
   "outputs": [
    {
     "ename": "NameError",
     "evalue": "name 'train_input' is not defined",
     "output_type": "error",
     "traceback": [
      "\u001b[0;31m---------------------------------------------------------------------------\u001b[0m",
      "\u001b[0;31mNameError\u001b[0m                                 Traceback (most recent call last)",
      "Cell \u001b[0;32mIn[8], line 6\u001b[0m\n\u001b[1;32m      1\u001b[0m \u001b[38;5;66;03m# As declared earlier:\u001b[39;00m\n\u001b[1;32m      2\u001b[0m \u001b[38;5;66;03m# VOCAB_FILE = 'ende_32k.subword'\u001b[39;00m\n\u001b[1;32m      3\u001b[0m \u001b[38;5;66;03m# VOCAB_DIR = 'data/'\u001b[39;00m\n\u001b[1;32m      4\u001b[0m \n\u001b[1;32m      5\u001b[0m \u001b[38;5;66;03m# Detokenize an input-target pair of tokenized sentences\u001b[39;00m\n\u001b[0;32m----> 6\u001b[0m \u001b[38;5;28mprint\u001b[39m(colored(\u001b[38;5;124mf\u001b[39m\u001b[38;5;124m'\u001b[39m\u001b[38;5;124mSingle detokenized example input:\u001b[39m\u001b[38;5;124m'\u001b[39m, \u001b[38;5;124m'\u001b[39m\u001b[38;5;124mred\u001b[39m\u001b[38;5;124m'\u001b[39m), detokenize(\u001b[43mtrain_input\u001b[49m, vocab_file\u001b[38;5;241m=\u001b[39mVOCAB_FILE, vocab_dir\u001b[38;5;241m=\u001b[39mVOCAB_DIR))\n\u001b[1;32m      7\u001b[0m \u001b[38;5;28mprint\u001b[39m(colored(\u001b[38;5;124mf\u001b[39m\u001b[38;5;124m'\u001b[39m\u001b[38;5;124mSingle detokenized example target:\u001b[39m\u001b[38;5;124m'\u001b[39m, \u001b[38;5;124m'\u001b[39m\u001b[38;5;124mred\u001b[39m\u001b[38;5;124m'\u001b[39m), detokenize(train_target, vocab_file\u001b[38;5;241m=\u001b[39mVOCAB_FILE, vocab_dir\u001b[38;5;241m=\u001b[39mVOCAB_DIR))\n\u001b[1;32m      8\u001b[0m \u001b[38;5;28mprint\u001b[39m()\n",
      "\u001b[0;31mNameError\u001b[0m: name 'train_input' is not defined"
     ]
    }
   ],
   "source": [
    "# As declared earlier:\n",
    "# VOCAB_FILE = 'ende_32k.subword'\n",
    "# VOCAB_DIR = 'data/'\n",
    "\n",
    "# Detokenize an input-target pair of tokenized sentences\n",
    "print(colored(f'Single detokenized example input:', 'red'), detokenize(train_input, vocab_file=VOCAB_FILE, vocab_dir=VOCAB_DIR))\n",
    "print(colored(f'Single detokenized example target:', 'red'), detokenize(train_target, vocab_file=VOCAB_FILE, vocab_dir=VOCAB_DIR))\n",
    "print()\n",
    "\n",
    "# Tokenize and detokenize a word that is not explicitly saved in the vocabulary file.\n",
    "# See how it combines the subwords -- 'hell' and 'o'-- to form the word 'hello'.\n",
    "print(colored(f\"tokenize('hello'): \", 'green'), tokenize('hello', vocab_file=VOCAB_FILE, vocab_dir=VOCAB_DIR))\n",
    "print(colored(f\"detokenize([17332, 140, 1]): \", 'green'), detokenize([17332, 140, 1], vocab_file=VOCAB_FILE, vocab_dir=VOCAB_DIR))"
   ]
  },
  {
   "cell_type": "code",
   "execution_count": 10,
   "id": "6ea3b36f",
   "metadata": {},
   "outputs": [
    {
     "ename": "NameError",
     "evalue": "name 'filtered_eval_stream' is not defined",
     "output_type": "error",
     "traceback": [
      "\u001b[0;31m---------------------------------------------------------------------------\u001b[0m",
      "\u001b[0;31mNameError\u001b[0m                                 Traceback (most recent call last)",
      "Cell \u001b[0;32mIn[9], line 19\u001b[0m\n\u001b[1;32m     10\u001b[0m \u001b[38;5;66;03m# Create the generators.\u001b[39;00m\n\u001b[1;32m     11\u001b[0m train_batch_stream \u001b[38;5;241m=\u001b[39m trax\u001b[38;5;241m.\u001b[39mdata\u001b[38;5;241m.\u001b[39mBucketByLength(\n\u001b[1;32m     12\u001b[0m     boundaries, batch_sizes,\n\u001b[1;32m     13\u001b[0m     length_keys\u001b[38;5;241m=\u001b[39m[\u001b[38;5;241m0\u001b[39m, \u001b[38;5;241m1\u001b[39m]  \u001b[38;5;66;03m# As before: count inputs and targets to length.\u001b[39;00m\n\u001b[1;32m     14\u001b[0m )(filtered_train_stream)\n\u001b[1;32m     16\u001b[0m eval_batch_stream \u001b[38;5;241m=\u001b[39m trax\u001b[38;5;241m.\u001b[39mdata\u001b[38;5;241m.\u001b[39mBucketByLength(\n\u001b[1;32m     17\u001b[0m     boundaries, batch_sizes,\n\u001b[1;32m     18\u001b[0m     length_keys\u001b[38;5;241m=\u001b[39m[\u001b[38;5;241m0\u001b[39m, \u001b[38;5;241m1\u001b[39m]  \u001b[38;5;66;03m# As before: count inputs and targets to length.\u001b[39;00m\n\u001b[0;32m---> 19\u001b[0m )(\u001b[43mfiltered_eval_stream\u001b[49m)\n\u001b[1;32m     21\u001b[0m \u001b[38;5;66;03m# Add masking for the padding (0s).\u001b[39;00m\n\u001b[1;32m     22\u001b[0m train_batch_stream \u001b[38;5;241m=\u001b[39m trax\u001b[38;5;241m.\u001b[39mdata\u001b[38;5;241m.\u001b[39mAddLossWeights(id_to_mask\u001b[38;5;241m=\u001b[39m\u001b[38;5;241m0\u001b[39m)(train_batch_stream)\n",
      "\u001b[0;31mNameError\u001b[0m: name 'filtered_eval_stream' is not defined"
     ]
    }
   ],
   "source": [
    "# Bucketing to create streams of batches.\n",
    "\n",
    "# Buckets are defined in terms of boundaries and batch sizes.\n",
    "# Batch_sizes[i] determines the batch size for items with length < boundaries[i]\n",
    "# So below, we'll take a batch of 256 sentences of length < 8, 128 if length is\n",
    "# between 8 and 16, and so on -- and only 2 if length is over 512.\n",
    "boundaries =  [8,   16,  32, 64, 128, 256, 512]\n",
    "batch_sizes = [256, 128, 64, 32, 16,    8,   4,  2]\n",
    "\n",
    "# Create the generators.\n",
    "train_batch_stream = trax.data.BucketByLength(\n",
    "    boundaries, batch_sizes,\n",
    "    length_keys=[0, 1]  # As before: count inputs and targets to length.\n",
    ")(filtered_train_stream)\n",
    "\n",
    "eval_batch_stream = trax.data.BucketByLength(\n",
    "    boundaries, batch_sizes,\n",
    "    length_keys=[0, 1]  # As before: count inputs and targets to length.\n",
    ")(filtered_eval_stream)\n",
    "\n",
    "# Add masking for the padding (0s).\n",
    "train_batch_stream = trax.data.AddLossWeights(id_to_mask=0)(train_batch_stream)\n",
    "eval_batch_stream = trax.data.AddLossWeights(id_to_mask=0)(eval_batch_stream)"
   ]
  },
  {
   "cell_type": "code",
   "execution_count": 11,
   "id": "1832d78b",
   "metadata": {},
   "outputs": [
    {
     "ename": "StopIteration",
     "evalue": "",
     "output_type": "error",
     "traceback": [
      "\u001b[0;31m---------------------------------------------------------------------------\u001b[0m",
      "\u001b[0;31mStopIteration\u001b[0m                             Traceback (most recent call last)",
      "Cell \u001b[0;32mIn[10], line 1\u001b[0m\n\u001b[0;32m----> 1\u001b[0m input_batch, target_batch, mask_batch \u001b[38;5;241m=\u001b[39m \u001b[38;5;28;43mnext\u001b[39;49m\u001b[43m(\u001b[49m\u001b[43mtrain_batch_stream\u001b[49m\u001b[43m)\u001b[49m\n\u001b[1;32m      3\u001b[0m \u001b[38;5;66;03m# let's see the data type of a batch\u001b[39;00m\n\u001b[1;32m      4\u001b[0m \u001b[38;5;28mprint\u001b[39m(\u001b[38;5;124m\"\u001b[39m\u001b[38;5;124minput_batch data type: \u001b[39m\u001b[38;5;124m\"\u001b[39m, \u001b[38;5;28mtype\u001b[39m(input_batch))\n",
      "\u001b[0;31mStopIteration\u001b[0m: "
     ]
    }
   ],
   "source": [
    "input_batch, target_batch, mask_batch = next(train_batch_stream)\n",
    "\n",
    "# let's see the data type of a batch\n",
    "print(\"input_batch data type: \", type(input_batch))\n",
    "print(\"target_batch data type: \", type(target_batch))\n",
    "\n",
    "# let's see the shape of this particular batch (batch length, sentence length)\n",
    "print(\"input_batch shape: \", input_batch.shape)\n",
    "print(\"target_batch shape: \", target_batch.shape)"
   ]
  },
  {
   "cell_type": "code",
   "execution_count": 12,
   "id": "b2fb1007",
   "metadata": {},
   "outputs": [
    {
     "ename": "NameError",
     "evalue": "name 'input_batch' is not defined",
     "output_type": "error",
     "traceback": [
      "\u001b[0;31m---------------------------------------------------------------------------\u001b[0m",
      "\u001b[0;31mNameError\u001b[0m                                 Traceback (most recent call last)",
      "Cell \u001b[0;32mIn[11], line 2\u001b[0m\n\u001b[1;32m      1\u001b[0m \u001b[38;5;66;03m# pick a random index less than the batch size.\u001b[39;00m\n\u001b[0;32m----> 2\u001b[0m index \u001b[38;5;241m=\u001b[39m random\u001b[38;5;241m.\u001b[39mrandrange(\u001b[38;5;28mlen\u001b[39m(\u001b[43minput_batch\u001b[49m))\n\u001b[1;32m      4\u001b[0m \u001b[38;5;66;03m# use the index to grab an entry from the input and target batch\u001b[39;00m\n\u001b[1;32m      5\u001b[0m \u001b[38;5;28mprint\u001b[39m(colored(\u001b[38;5;124m'\u001b[39m\u001b[38;5;124mTHIS IS THE ENGLISH SENTENCE: \u001b[39m\u001b[38;5;130;01m\\n\u001b[39;00m\u001b[38;5;124m'\u001b[39m, \u001b[38;5;124m'\u001b[39m\u001b[38;5;124mred\u001b[39m\u001b[38;5;124m'\u001b[39m), detokenize(input_batch[index], vocab_file\u001b[38;5;241m=\u001b[39mVOCAB_FILE, vocab_dir\u001b[38;5;241m=\u001b[39mVOCAB_DIR), \u001b[38;5;124m'\u001b[39m\u001b[38;5;130;01m\\n\u001b[39;00m\u001b[38;5;124m'\u001b[39m)\n",
      "\u001b[0;31mNameError\u001b[0m: name 'input_batch' is not defined"
     ]
    }
   ],
   "source": [
    "# pick a random index less than the batch size.\n",
    "index = random.randrange(len(input_batch))\n",
    "\n",
    "# use the index to grab an entry from the input and target batch\n",
    "print(colored('THIS IS THE ENGLISH SENTENCE: \\n', 'red'), detokenize(input_batch[index], vocab_file=VOCAB_FILE, vocab_dir=VOCAB_DIR), '\\n')\n",
    "print(colored('THIS IS THE TOKENIZED VERSION OF THE ENGLISH SENTENCE: \\n ', 'red'), input_batch[index], '\\n')\n",
    "print(colored('THIS IS THE GERMAN TRANSLATION: \\n', 'red'), detokenize(target_batch[index], vocab_file=VOCAB_FILE, vocab_dir=VOCAB_DIR), '\\n')\n",
    "print(colored('THIS IS THE TOKENIZED VERSION OF THE GERMAN TRANSLATION: \\n', 'red'), target_batch[index], '\\n')"
   ]
  },
  {
   "cell_type": "code",
   "execution_count": 13,
   "id": "617f6550",
   "metadata": {},
   "outputs": [],
   "source": [
    "# UNQ_C1\n",
    "# GRADED FUNCTION\n",
    "def input_encoder_fn(input_vocab_size, d_model, n_encoder_layers):\n",
    "    \"\"\" Input encoder runs on the input sentence and creates\n",
    "    activations that will be the keys and values for attention.\n",
    "    \n",
    "    Args:\n",
    "        input_vocab_size: int: vocab size of the input\n",
    "        d_model: int:  depth of embedding (n_units in the LSTM cell)\n",
    "        n_encoder_layers: int: number of LSTM layers in the encoder\n",
    "    Returns:\n",
    "        tl.Serial: The input encoder\n",
    "    \"\"\"\n",
    "    \n",
    "    # create a serial network\n",
    "    input_encoder = tl.Serial( \n",
    "        \n",
    "        ### START CODE HERE (REPLACE INSTANCES OF `None` WITH YOUR CODE) ###\n",
    "        # create an embedding layer to convert tokens to vectors\n",
    "        None,\n",
    "        \n",
    "        # feed the embeddings to the LSTM layers. It is a stack of n_encoder_layers LSTM layers\n",
    "        [None for _ in None]\n",
    "        ### END CODE HERE ###\n",
    "    )\n",
    "\n",
    "    return input_encoder"
   ]
  },
  {
   "cell_type": "code",
   "execution_count": 14,
   "id": "9385d8b9",
   "metadata": {},
   "outputs": [
    {
     "ename": "TypeError",
     "evalue": "'NoneType' object is not iterable",
     "output_type": "error",
     "traceback": [
      "\u001b[0;31m---------------------------------------------------------------------------\u001b[0m",
      "\u001b[0;31mTypeError\u001b[0m                                 Traceback (most recent call last)",
      "Cell \u001b[0;32mIn[13], line 4\u001b[0m\n\u001b[1;32m      1\u001b[0m \u001b[38;5;66;03m# BEGIN UNIT TEST\u001b[39;00m\n\u001b[1;32m      2\u001b[0m \u001b[38;5;28;01mimport\u001b[39;00m\u001b[38;5;250m \u001b[39m\u001b[38;5;21;01mw1_unittest\u001b[39;00m\n\u001b[0;32m----> 4\u001b[0m \u001b[43mw1_unittest\u001b[49m\u001b[38;5;241;43m.\u001b[39;49m\u001b[43mtest_input_encoder_fn\u001b[49m\u001b[43m(\u001b[49m\u001b[43minput_encoder_fn\u001b[49m\u001b[43m)\u001b[49m\n\u001b[1;32m      5\u001b[0m \u001b[38;5;66;03m# END UNIT TEST\u001b[39;00m\n",
      "File \u001b[0;32m~/work/notes/notes-nlp/notes/c4w1/w1_unittest.py:98\u001b[0m, in \u001b[0;36mtest_input_encoder_fn\u001b[0;34m(input_encoder_fn)\u001b[0m\n\u001b[1;32m     95\u001b[0m d_model \u001b[38;5;241m=\u001b[39m \u001b[38;5;241m2\u001b[39m\n\u001b[1;32m     96\u001b[0m n_encoder_layers \u001b[38;5;241m=\u001b[39m \u001b[38;5;241m6\u001b[39m\n\u001b[0;32m---> 98\u001b[0m encoder \u001b[38;5;241m=\u001b[39m \u001b[43mtarget\u001b[49m\u001b[43m(\u001b[49m\u001b[43minput_vocab_size\u001b[49m\u001b[43m,\u001b[49m\u001b[43m \u001b[49m\u001b[43md_model\u001b[49m\u001b[43m,\u001b[49m\u001b[43m \u001b[49m\u001b[43mn_encoder_layers\u001b[49m\u001b[43m)\u001b[49m\n\u001b[1;32m    100\u001b[0m lstms \u001b[38;5;241m=\u001b[39m \u001b[38;5;124m\"\u001b[39m\u001b[38;5;130;01m\\n\u001b[39;00m\u001b[38;5;124m\"\u001b[39m\u001b[38;5;241m.\u001b[39mjoin([\u001b[38;5;124mf\u001b[39m\u001b[38;5;124m'\u001b[39m\u001b[38;5;124m  LSTM_\u001b[39m\u001b[38;5;132;01m{\u001b[39;00md_model\u001b[38;5;132;01m}\u001b[39;00m\u001b[38;5;124m'\u001b[39m] \u001b[38;5;241m*\u001b[39m n_encoder_layers)\n\u001b[1;32m    102\u001b[0m expected \u001b[38;5;241m=\u001b[39m \u001b[38;5;124mf\u001b[39m\u001b[38;5;124m\"\u001b[39m\u001b[38;5;124mSerial[\u001b[39m\u001b[38;5;130;01m\\n\u001b[39;00m\u001b[38;5;124m  Embedding_\u001b[39m\u001b[38;5;132;01m{\u001b[39;00minput_vocab_size\u001b[38;5;132;01m}\u001b[39;00m\u001b[38;5;124m_\u001b[39m\u001b[38;5;132;01m{\u001b[39;00md_model\u001b[38;5;132;01m}\u001b[39;00m\u001b[38;5;130;01m\\n\u001b[39;00m\u001b[38;5;132;01m{\u001b[39;00mlstms\u001b[38;5;132;01m}\u001b[39;00m\u001b[38;5;130;01m\\n\u001b[39;00m\u001b[38;5;124m]\u001b[39m\u001b[38;5;124m\"\u001b[39m\n",
      "Cell \u001b[0;32mIn[12], line 23\u001b[0m, in \u001b[0;36minput_encoder_fn\u001b[0;34m(input_vocab_size, d_model, n_encoder_layers)\u001b[0m\n\u001b[1;32m      4\u001b[0m \u001b[38;5;250m\u001b[39m\u001b[38;5;124;03m\"\"\" Input encoder runs on the input sentence and creates\u001b[39;00m\n\u001b[1;32m      5\u001b[0m \u001b[38;5;124;03mactivations that will be the keys and values for attention.\u001b[39;00m\n\u001b[1;32m      6\u001b[0m \u001b[38;5;124;03m\u001b[39;00m\n\u001b[0;32m   (...)\u001b[0m\n\u001b[1;32m     12\u001b[0m \u001b[38;5;124;03m    tl.Serial: The input encoder\u001b[39;00m\n\u001b[1;32m     13\u001b[0m \u001b[38;5;124;03m\"\"\"\u001b[39;00m\n\u001b[1;32m     15\u001b[0m \u001b[38;5;66;03m# create a serial network\u001b[39;00m\n\u001b[1;32m     16\u001b[0m input_encoder \u001b[38;5;241m=\u001b[39m tl\u001b[38;5;241m.\u001b[39mSerial( \n\u001b[1;32m     17\u001b[0m     \n\u001b[1;32m     18\u001b[0m     \u001b[38;5;66;03m### START CODE HERE (REPLACE INSTANCES OF `None` WITH YOUR CODE) ###\u001b[39;00m\n\u001b[1;32m     19\u001b[0m     \u001b[38;5;66;03m# create an embedding layer to convert tokens to vectors\u001b[39;00m\n\u001b[1;32m     20\u001b[0m     \u001b[38;5;28;01mNone\u001b[39;00m,\n\u001b[1;32m     21\u001b[0m     \n\u001b[1;32m     22\u001b[0m     \u001b[38;5;66;03m# feed the embeddings to the LSTM layers. It is a stack of n_encoder_layers LSTM layers\u001b[39;00m\n\u001b[0;32m---> 23\u001b[0m     [\u001b[38;5;28;01mNone\u001b[39;00m \u001b[38;5;28;01mfor\u001b[39;00m _ \u001b[38;5;129;01min\u001b[39;00m \u001b[38;5;28;01mNone\u001b[39;00m]\n\u001b[1;32m     24\u001b[0m     \u001b[38;5;66;03m### END CODE HERE ###\u001b[39;00m\n\u001b[1;32m     25\u001b[0m )\n\u001b[1;32m     27\u001b[0m \u001b[38;5;28;01mreturn\u001b[39;00m input_encoder\n",
      "\u001b[0;31mTypeError\u001b[0m: 'NoneType' object is not iterable"
     ]
    }
   ],
   "source": [
    "# BEGIN UNIT TEST\n",
    "import w1_unittest\n",
    "\n",
    "w1_unittest.test_input_encoder_fn(input_encoder_fn)\n",
    "# END UNIT TEST"
   ]
  },
  {
   "cell_type": "code",
   "execution_count": 15,
   "id": "c2202b41",
   "metadata": {},
   "outputs": [],
   "source": [
    "# UNQ_C2\n",
    "# GRADED FUNCTION\n",
    "def pre_attention_decoder_fn(mode, target_vocab_size, d_model):\n",
    "    \"\"\" Pre-attention decoder runs on the targets and creates\n",
    "    activations that are used as queries in attention.\n",
    "    \n",
    "    Args:\n",
    "        mode: str: 'train' or 'eval'\n",
    "        target_vocab_size: int: vocab size of the target\n",
    "        d_model: int:  depth of embedding (n_units in the LSTM cell)\n",
    "    Returns:\n",
    "        tl.Serial: The pre-attention decoder\n",
    "    \"\"\"\n",
    "    \n",
    "    # create a serial network\n",
    "    pre_attention_decoder = tl.Serial(\n",
    "        \n",
    "        ### START CODE HERE (REPLACE INSTANCES OF `None` WITH YOUR CODE) ###\n",
    "        # shift right to insert start-of-sentence token and implement\n",
    "        # teacher forcing during training\n",
    "        None,\n",
    "\n",
    "        # run an embedding layer to convert tokens to vectors\n",
    "        None,\n",
    "\n",
    "        # feed to an LSTM layer\n",
    "        None\n",
    "        ### END CODE HERE ###\n",
    "    )\n",
    "    \n",
    "    return pre_attention_decoder"
   ]
  },
  {
   "cell_type": "code",
   "execution_count": 16,
   "id": "a1c9f730",
   "metadata": {},
   "outputs": [
    {
     "name": "stderr",
     "output_type": "stream",
     "text": [
      "/home/oren/work/notes/notes-nlp/.venv/lib/python3.10/site-packages/trax/layers/combinators.py:437: SyntaxWarning: \"is not\" with a literal. Did you mean \"!=\"?\n",
      "  if self._mode == 'predict' and self._state[1] is not ():  # pylint: disable=literal-comparison\n",
      "/home/oren/work/notes/notes-nlp/.venv/lib/python3.10/site-packages/trax/layers/combinators.py:910: SyntaxWarning: \"is\" with a literal. Did you mean \"==\"?\n",
      "  if state[0] is ():  # pylint: disable=literal-comparison\n",
      "/home/oren/work/notes/notes-nlp/.venv/lib/python3.10/site-packages/trax/layers/combinators.py:437: SyntaxWarning: \"is not\" with a literal. Did you mean \"!=\"?\n",
      "  if self._mode == 'predict' and self._state[1] is not ():  # pylint: disable=literal-comparison\n",
      "/home/oren/work/notes/notes-nlp/.venv/lib/python3.10/site-packages/trax/layers/combinators.py:910: SyntaxWarning: \"is\" with a literal. Did you mean \"==\"?\n",
      "  if state[0] is ():  # pylint: disable=literal-comparison\n"
     ]
    },
    {
     "ename": "ValueError",
     "evalue": "Found nonlayer object (None) in layers: [None, None, None]",
     "output_type": "error",
     "traceback": [
      "\u001b[0;31m---------------------------------------------------------------------------\u001b[0m",
      "\u001b[0;31mValueError\u001b[0m                                Traceback (most recent call last)",
      "Cell \u001b[0;32mIn[15], line 3\u001b[0m\n\u001b[1;32m      1\u001b[0m \u001b[38;5;66;03m# BEGIN UNIT TEST\u001b[39;00m\n\u001b[0;32m----> 3\u001b[0m \u001b[43mw1_unittest\u001b[49m\u001b[38;5;241;43m.\u001b[39;49m\u001b[43mtest_pre_attention_decoder_fn\u001b[49m\u001b[43m(\u001b[49m\u001b[43mpre_attention_decoder_fn\u001b[49m\u001b[43m)\u001b[49m\n\u001b[1;32m      5\u001b[0m \u001b[38;5;66;03m# END UNIT TEST\u001b[39;00m\n",
      "File \u001b[0;32m~/work/notes/notes-nlp/notes/c4w1/w1_unittest.py:148\u001b[0m, in \u001b[0;36mtest_pre_attention_decoder_fn\u001b[0;34m(pre_attention_decoder_fn)\u001b[0m\n\u001b[1;32m    145\u001b[0m target_vocab_size \u001b[38;5;241m=\u001b[39m \u001b[38;5;241m10\u001b[39m\n\u001b[1;32m    146\u001b[0m d_model \u001b[38;5;241m=\u001b[39m \u001b[38;5;241m2\u001b[39m\n\u001b[0;32m--> 148\u001b[0m decoder \u001b[38;5;241m=\u001b[39m \u001b[43mtarget\u001b[49m\u001b[43m(\u001b[49m\u001b[43mmode\u001b[49m\u001b[43m,\u001b[49m\u001b[43m \u001b[49m\u001b[43mtarget_vocab_size\u001b[49m\u001b[43m,\u001b[49m\u001b[43m \u001b[49m\u001b[43md_model\u001b[49m\u001b[43m)\u001b[49m\n\u001b[1;32m    150\u001b[0m expected \u001b[38;5;241m=\u001b[39m \u001b[38;5;124mf\u001b[39m\u001b[38;5;124m\"\u001b[39m\u001b[38;5;124mSerial[\u001b[39m\u001b[38;5;130;01m\\n\u001b[39;00m\u001b[38;5;124m  ShiftRight(1)\u001b[39m\u001b[38;5;130;01m\\n\u001b[39;00m\u001b[38;5;124m  Embedding_\u001b[39m\u001b[38;5;132;01m{\u001b[39;00mtarget_vocab_size\u001b[38;5;132;01m}\u001b[39;00m\u001b[38;5;124m_\u001b[39m\u001b[38;5;132;01m{\u001b[39;00md_model\u001b[38;5;132;01m}\u001b[39;00m\u001b[38;5;130;01m\\n\u001b[39;00m\u001b[38;5;124m  LSTM_\u001b[39m\u001b[38;5;132;01m{\u001b[39;00md_model\u001b[38;5;132;01m}\u001b[39;00m\u001b[38;5;130;01m\\n\u001b[39;00m\u001b[38;5;124m]\u001b[39m\u001b[38;5;124m\"\u001b[39m\n\u001b[1;32m    152\u001b[0m proposed \u001b[38;5;241m=\u001b[39m \u001b[38;5;28mstr\u001b[39m(decoder)\n",
      "Cell \u001b[0;32mIn[14], line 16\u001b[0m, in \u001b[0;36mpre_attention_decoder_fn\u001b[0;34m(mode, target_vocab_size, d_model)\u001b[0m\n\u001b[1;32m      4\u001b[0m \u001b[38;5;250m\u001b[39m\u001b[38;5;124;03m\"\"\" Pre-attention decoder runs on the targets and creates\u001b[39;00m\n\u001b[1;32m      5\u001b[0m \u001b[38;5;124;03mactivations that are used as queries in attention.\u001b[39;00m\n\u001b[1;32m      6\u001b[0m \u001b[38;5;124;03m\u001b[39;00m\n\u001b[0;32m   (...)\u001b[0m\n\u001b[1;32m     12\u001b[0m \u001b[38;5;124;03m    tl.Serial: The pre-attention decoder\u001b[39;00m\n\u001b[1;32m     13\u001b[0m \u001b[38;5;124;03m\"\"\"\u001b[39;00m\n\u001b[1;32m     15\u001b[0m \u001b[38;5;66;03m# create a serial network\u001b[39;00m\n\u001b[0;32m---> 16\u001b[0m pre_attention_decoder \u001b[38;5;241m=\u001b[39m \u001b[43mtl\u001b[49m\u001b[38;5;241;43m.\u001b[39;49m\u001b[43mSerial\u001b[49m\u001b[43m(\u001b[49m\n\u001b[1;32m     17\u001b[0m \u001b[43m    \u001b[49m\n\u001b[1;32m     18\u001b[0m \u001b[43m    \u001b[49m\u001b[38;5;66;43;03m### START CODE HERE (REPLACE INSTANCES OF `None` WITH YOUR CODE) ###\u001b[39;49;00m\n\u001b[1;32m     19\u001b[0m \u001b[43m    \u001b[49m\u001b[38;5;66;43;03m# shift right to insert start-of-sentence token and implement\u001b[39;49;00m\n\u001b[1;32m     20\u001b[0m \u001b[43m    \u001b[49m\u001b[38;5;66;43;03m# teacher forcing during training\u001b[39;49;00m\n\u001b[1;32m     21\u001b[0m \u001b[43m    \u001b[49m\u001b[38;5;28;43;01mNone\u001b[39;49;00m\u001b[43m,\u001b[49m\n\u001b[1;32m     22\u001b[0m \n\u001b[1;32m     23\u001b[0m \u001b[43m    \u001b[49m\u001b[38;5;66;43;03m# run an embedding layer to convert tokens to vectors\u001b[39;49;00m\n\u001b[1;32m     24\u001b[0m \u001b[43m    \u001b[49m\u001b[38;5;28;43;01mNone\u001b[39;49;00m\u001b[43m,\u001b[49m\n\u001b[1;32m     25\u001b[0m \n\u001b[1;32m     26\u001b[0m \u001b[43m    \u001b[49m\u001b[38;5;66;43;03m# feed to an LSTM layer\u001b[39;49;00m\n\u001b[1;32m     27\u001b[0m \u001b[43m    \u001b[49m\u001b[38;5;28;43;01mNone\u001b[39;49;00m\n\u001b[1;32m     28\u001b[0m \u001b[43m    \u001b[49m\u001b[38;5;66;43;03m### END CODE HERE ###\u001b[39;49;00m\n\u001b[1;32m     29\u001b[0m \u001b[43m\u001b[49m\u001b[43m)\u001b[49m\n\u001b[1;32m     31\u001b[0m \u001b[38;5;28;01mreturn\u001b[39;00m pre_attention_decoder\n",
      "File \u001b[0;32m~/work/notes/notes-nlp/.venv/lib/python3.10/site-packages/trax/layers/combinators.py:59\u001b[0m, in \u001b[0;36mSerial.__init__\u001b[0;34m(self, name, sublayers_to_print, *sublayers)\u001b[0m\n\u001b[1;32m     55\u001b[0m \u001b[38;5;28;01mdef\u001b[39;00m\u001b[38;5;250m \u001b[39m\u001b[38;5;21m__init__\u001b[39m(\u001b[38;5;28mself\u001b[39m, \u001b[38;5;241m*\u001b[39msublayers, name\u001b[38;5;241m=\u001b[39m\u001b[38;5;28;01mNone\u001b[39;00m, sublayers_to_print\u001b[38;5;241m=\u001b[39m\u001b[38;5;28;01mNone\u001b[39;00m):\n\u001b[1;32m     56\u001b[0m   \u001b[38;5;28msuper\u001b[39m()\u001b[38;5;241m.\u001b[39m\u001b[38;5;21m__init__\u001b[39m(\n\u001b[1;32m     57\u001b[0m       name\u001b[38;5;241m=\u001b[39mname, sublayers_to_print\u001b[38;5;241m=\u001b[39msublayers_to_print)\n\u001b[0;32m---> 59\u001b[0m   sublayers \u001b[38;5;241m=\u001b[39m \u001b[43m_ensure_flat\u001b[49m\u001b[43m(\u001b[49m\u001b[43msublayers\u001b[49m\u001b[43m)\u001b[49m\n\u001b[1;32m     60\u001b[0m   \u001b[38;5;28mself\u001b[39m\u001b[38;5;241m.\u001b[39m_sublayers \u001b[38;5;241m=\u001b[39m sublayers\n\u001b[1;32m     61\u001b[0m   \u001b[38;5;28mself\u001b[39m\u001b[38;5;241m.\u001b[39m_n_layers \u001b[38;5;241m=\u001b[39m \u001b[38;5;28mlen\u001b[39m(sublayers)\n",
      "File \u001b[0;32m~/work/notes/notes-nlp/.venv/lib/python3.10/site-packages/trax/layers/combinators.py:1110\u001b[0m, in \u001b[0;36m_ensure_flat\u001b[0;34m(layers)\u001b[0m\n\u001b[1;32m   1108\u001b[0m \u001b[38;5;28;01mfor\u001b[39;00m obj \u001b[38;5;129;01min\u001b[39;00m layers:\n\u001b[1;32m   1109\u001b[0m   \u001b[38;5;28;01mif\u001b[39;00m \u001b[38;5;129;01mnot\u001b[39;00m \u001b[38;5;28misinstance\u001b[39m(obj, base\u001b[38;5;241m.\u001b[39mLayer):\n\u001b[0;32m-> 1110\u001b[0m     \u001b[38;5;28;01mraise\u001b[39;00m \u001b[38;5;167;01mValueError\u001b[39;00m(\n\u001b[1;32m   1111\u001b[0m         \u001b[38;5;124mf\u001b[39m\u001b[38;5;124m'\u001b[39m\u001b[38;5;124mFound nonlayer object (\u001b[39m\u001b[38;5;132;01m{\u001b[39;00mobj\u001b[38;5;132;01m}\u001b[39;00m\u001b[38;5;124m) in layers: \u001b[39m\u001b[38;5;132;01m{\u001b[39;00mlayers\u001b[38;5;132;01m}\u001b[39;00m\u001b[38;5;124m'\u001b[39m)\n\u001b[1;32m   1112\u001b[0m \u001b[38;5;28;01mreturn\u001b[39;00m layers\n",
      "\u001b[0;31mValueError\u001b[0m: Found nonlayer object (None) in layers: [None, None, None]"
     ]
    }
   ],
   "source": [
    "# BEGIN UNIT TEST\n",
    "\n",
    "w1_unittest.test_pre_attention_decoder_fn(pre_attention_decoder_fn)\n",
    "\n",
    "# END UNIT TEST"
   ]
  },
  {
   "cell_type": "code",
   "execution_count": 17,
   "id": "975cde43",
   "metadata": {},
   "outputs": [],
   "source": [
    "# UNQ_C3\n",
    "# GRADED FUNCTION\n",
    "def prepare_attention_input(encoder_activations, decoder_activations, inputs):\n",
    "    \"\"\"Prepare queries, keys, values and mask for attention.\n",
    "    \n",
    "    Args:\n",
    "        encoder_activations fastnp.array(batch_size, padded_input_length, d_model): output from the input encoder\n",
    "        decoder_activations fastnp.array(batch_size, padded_input_length, d_model): output from the pre-attention decoder\n",
    "        inputs fastnp.array(batch_size, padded_input_length): padded input tokens\n",
    "    \n",
    "    Returns:\n",
    "        queries, keys, values and mask for attention.\n",
    "    \"\"\"\n",
    "    \n",
    "    ### START CODE HERE (REPLACE INSTANCES OF `None` WITH YOUR CODE) ###\n",
    "    \n",
    "    # set the keys and values to the encoder activations\n",
    "    keys = None\n",
    "    values = None\n",
    "\n",
    "    \n",
    "    # set the queries to the decoder activations\n",
    "    queries = None\n",
    "    \n",
    "    # generate the mask to distinguish real tokens from padding\n",
    "    # hint: inputs is 1 for real tokens and 0 where they are padding\n",
    "    mask = None\n",
    "    \n",
    "    ### END CODE HERE ###\n",
    "    \n",
    "    # add axes to the mask for attention heads and decoder length.\n",
    "    mask = fastnp.reshape(mask, (mask.shape[0], 1, 1, mask.shape[1]))\n",
    "    \n",
    "    # broadcast so mask shape is [batch size, attention heads, decoder-len, encoder-len].\n",
    "    # note: for this assignment, attention heads is set to 1.\n",
    "    mask = mask + fastnp.zeros((1, 1, decoder_activations.shape[1], 1))\n",
    "        \n",
    "    \n",
    "    return queries, keys, values, mask"
   ]
  },
  {
   "cell_type": "code",
   "execution_count": 18,
   "id": "07cd5fac",
   "metadata": {},
   "outputs": [
    {
     "ename": "AttributeError",
     "evalue": "'NoneType' object has no attribute 'shape'",
     "output_type": "error",
     "traceback": [
      "\u001b[0;31m---------------------------------------------------------------------------\u001b[0m",
      "\u001b[0;31mAttributeError\u001b[0m                            Traceback (most recent call last)",
      "Cell \u001b[0;32mIn[17], line 2\u001b[0m\n\u001b[1;32m      1\u001b[0m \u001b[38;5;66;03m# BEGIN UNIT TEST\u001b[39;00m\n\u001b[0;32m----> 2\u001b[0m \u001b[43mw1_unittest\u001b[49m\u001b[38;5;241;43m.\u001b[39;49m\u001b[43mtest_prepare_attention_input\u001b[49m\u001b[43m(\u001b[49m\u001b[43mprepare_attention_input\u001b[49m\u001b[43m)\u001b[49m\n\u001b[1;32m      3\u001b[0m \u001b[38;5;66;03m# END UNIT TEST\u001b[39;00m\n",
      "File \u001b[0;32m~/work/notes/notes-nlp/notes/c4w1/w1_unittest.py:205\u001b[0m, in \u001b[0;36mtest_prepare_attention_input\u001b[0;34m(prepare_attention_input)\u001b[0m\n\u001b[1;32m    200\u001b[0m exp_mask \u001b[38;5;241m=\u001b[39m fastnp\u001b[38;5;241m.\u001b[39marray([[[[\u001b[38;5;241m1.\u001b[39m, \u001b[38;5;241m1.\u001b[39m, \u001b[38;5;241m1.\u001b[39m], [\u001b[38;5;241m1.\u001b[39m, \u001b[38;5;241m1.\u001b[39m, \u001b[38;5;241m1.\u001b[39m], [\u001b[38;5;241m1.\u001b[39m, \u001b[38;5;241m1.\u001b[39m, \u001b[38;5;241m1.\u001b[39m]]], \n\u001b[1;32m    201\u001b[0m                          [[[\u001b[38;5;241m1.\u001b[39m, \u001b[38;5;241m1.\u001b[39m, \u001b[38;5;241m0.\u001b[39m], [\u001b[38;5;241m1.\u001b[39m, \u001b[38;5;241m1.\u001b[39m, \u001b[38;5;241m0.\u001b[39m], [\u001b[38;5;241m1.\u001b[39m, \u001b[38;5;241m1.\u001b[39m, \u001b[38;5;241m0.\u001b[39m]]]])\n\u001b[1;32m    203\u001b[0m exp_type \u001b[38;5;241m=\u001b[39m \u001b[38;5;28mtype\u001b[39m(enc_act)\n\u001b[0;32m--> 205\u001b[0m queries, keys, values, mask \u001b[38;5;241m=\u001b[39m \u001b[43mtarget\u001b[49m\u001b[43m(\u001b[49m\u001b[43menc_act\u001b[49m\u001b[43m,\u001b[49m\u001b[43m \u001b[49m\u001b[43mdec_act\u001b[49m\u001b[43m,\u001b[49m\u001b[43m \u001b[49m\u001b[43minputs\u001b[49m\u001b[43m)\u001b[49m\n\u001b[1;32m    207\u001b[0m \u001b[38;5;28;01mtry\u001b[39;00m:\n\u001b[1;32m    208\u001b[0m     \u001b[38;5;28;01massert\u001b[39;00m(fastnp\u001b[38;5;241m.\u001b[39mallclose(queries, dec_act))\n",
      "Cell \u001b[0;32mIn[16], line 32\u001b[0m, in \u001b[0;36mprepare_attention_input\u001b[0;34m(encoder_activations, decoder_activations, inputs)\u001b[0m\n\u001b[1;32m     27\u001b[0m mask \u001b[38;5;241m=\u001b[39m \u001b[38;5;28;01mNone\u001b[39;00m\n\u001b[1;32m     29\u001b[0m \u001b[38;5;66;03m### END CODE HERE ###\u001b[39;00m\n\u001b[1;32m     30\u001b[0m \n\u001b[1;32m     31\u001b[0m \u001b[38;5;66;03m# add axes to the mask for attention heads and decoder length.\u001b[39;00m\n\u001b[0;32m---> 32\u001b[0m mask \u001b[38;5;241m=\u001b[39m fastnp\u001b[38;5;241m.\u001b[39mreshape(mask, (\u001b[43mmask\u001b[49m\u001b[38;5;241;43m.\u001b[39;49m\u001b[43mshape\u001b[49m[\u001b[38;5;241m0\u001b[39m], \u001b[38;5;241m1\u001b[39m, \u001b[38;5;241m1\u001b[39m, mask\u001b[38;5;241m.\u001b[39mshape[\u001b[38;5;241m1\u001b[39m]))\n\u001b[1;32m     34\u001b[0m \u001b[38;5;66;03m# broadcast so mask shape is [batch size, attention heads, decoder-len, encoder-len].\u001b[39;00m\n\u001b[1;32m     35\u001b[0m \u001b[38;5;66;03m# note: for this assignment, attention heads is set to 1.\u001b[39;00m\n\u001b[1;32m     36\u001b[0m mask \u001b[38;5;241m=\u001b[39m mask \u001b[38;5;241m+\u001b[39m fastnp\u001b[38;5;241m.\u001b[39mzeros((\u001b[38;5;241m1\u001b[39m, \u001b[38;5;241m1\u001b[39m, decoder_activations\u001b[38;5;241m.\u001b[39mshape[\u001b[38;5;241m1\u001b[39m], \u001b[38;5;241m1\u001b[39m))\n",
      "\u001b[0;31mAttributeError\u001b[0m: 'NoneType' object has no attribute 'shape'"
     ]
    }
   ],
   "source": [
    "# BEGIN UNIT TEST\n",
    "w1_unittest.test_prepare_attention_input(prepare_attention_input)\n",
    "# END UNIT TEST"
   ]
  },
  {
   "cell_type": "code",
   "execution_count": 19,
   "id": "3bd0fb72",
   "metadata": {},
   "outputs": [
    {
     "name": "stderr",
     "output_type": "stream",
     "text": [
      "<>:45: SyntaxWarning: 'NoneType' object is not callable; perhaps you missed a comma?\n",
      "<>:48: SyntaxWarning: 'NoneType' object is not callable; perhaps you missed a comma?\n",
      "<>:61: SyntaxWarning: 'NoneType' object is not callable; perhaps you missed a comma?\n",
      "<>:45: SyntaxWarning: 'NoneType' object is not callable; perhaps you missed a comma?\n",
      "<>:48: SyntaxWarning: 'NoneType' object is not callable; perhaps you missed a comma?\n",
      "<>:61: SyntaxWarning: 'NoneType' object is not callable; perhaps you missed a comma?\n",
      "/tmp/ipykernel_126126/554596082.py:45: SyntaxWarning: 'NoneType' object is not callable; perhaps you missed a comma?\n",
      "  None(None, None),\n",
      "/tmp/ipykernel_126126/554596082.py:48: SyntaxWarning: 'NoneType' object is not callable; perhaps you missed a comma?\n",
      "  None('PrepareAttentionInput', None, n_out=4),\n",
      "/tmp/ipykernel_126126/554596082.py:61: SyntaxWarning: 'NoneType' object is not callable; perhaps you missed a comma?\n",
      "  None(None),\n"
     ]
    }
   ],
   "source": [
    "# UNQ_C4\n",
    "# GRADED FUNCTION\n",
    "def NMTAttn(input_vocab_size=33300,\n",
    "            target_vocab_size=33300,\n",
    "            d_model=1024,\n",
    "            n_encoder_layers=2,\n",
    "            n_decoder_layers=2,\n",
    "            n_attention_heads=4,\n",
    "            attention_dropout=0.0,\n",
    "            mode='train'):\n",
    "    \"\"\"Returns an LSTM sequence-to-sequence model with attention.\n",
    "\n",
    "    The input to the model is a pair (input tokens, target tokens), e.g.,\n",
    "    an English sentence (tokenized) and its translation into German (tokenized).\n",
    "\n",
    "    Args:\n",
    "    input_vocab_size: int: vocab size of the input\n",
    "    target_vocab_size: int: vocab size of the target\n",
    "    d_model: int:  depth of embedding (n_units in the LSTM cell)\n",
    "    n_encoder_layers: int: number of LSTM layers in the encoder\n",
    "    n_decoder_layers: int: number of LSTM layers in the decoder after attention\n",
    "    n_attention_heads: int: number of attention heads\n",
    "    attention_dropout: float, dropout for the attention layer\n",
    "    mode: str: 'train', 'eval' or 'predict', predict mode is for fast inference\n",
    "\n",
    "    Returns:\n",
    "    A LSTM sequence-to-sequence model with attention.\n",
    "    \"\"\"\n",
    "\n",
    "    ### START CODE HERE (REPLACE INSTANCES OF `None` WITH YOUR CODE) ###\n",
    "    \n",
    "    # Step 0: call the helper function to create layers for the input encoder\n",
    "    input_encoder = None\n",
    "\n",
    "    # Step 0: call the helper function to create layers for the pre-attention decoder\n",
    "    pre_attention_decoder = None\n",
    "\n",
    "    # Step 1: create a serial network\n",
    "    model = tl.Serial( \n",
    "        \n",
    "      # Step 2: copy input tokens and target tokens as they will be needed later.\n",
    "      None,\n",
    "        \n",
    "      # Step 3: run input encoder on the input and pre-attention decoder the target.\n",
    "      None(None, None),\n",
    "        \n",
    "      # Step 4: prepare queries, keys, values and mask for attention.\n",
    "      None('PrepareAttentionInput', None, n_out=4),\n",
    "        \n",
    "      # Step 5: run the AttentionQKV layer\n",
    "      # nest it inside a Residual layer to add to the pre-attention decoder activations(i.e. queries)\n",
    "      tl.Residual(tl.AttentionQKV(None, n_heads=n_attention_heads, dropout=attention_dropout, mode=None)),\n",
    "      \n",
    "      # Step 6: drop attention mask (i.e. index = None\n",
    "      None,\n",
    "        \n",
    "      # Step 7: run the rest of the RNN decoder\n",
    "      [None for _ in range(None)],\n",
    "        \n",
    "      # Step 8: prepare output by making it the right size\n",
    "      None(None),\n",
    "        \n",
    "      # Step 9: Log-softmax for output\n",
    "      None\n",
    "    )\n",
    "    \n",
    "    ### END CODE HERE\n",
    "    \n",
    "    return model"
   ]
  },
  {
   "cell_type": "code",
   "execution_count": 20,
   "id": "a97ecb55",
   "metadata": {},
   "outputs": [
    {
     "name": "stdout",
     "output_type": "stream",
     "text": [
      "The NMTAttn is not defined properly.\n",
      "We found {} layers in your model. It should be 9.\n",
      "Check the LSTM stack before the dense layer\n",
      "Look at your selection layers.\n",
      "\u001b[92m 0  Tests passed\n",
      "\u001b[91m 3  Tests failed\n"
     ]
    }
   ],
   "source": [
    "# BEGIN UNIT TEST\n",
    "w1_unittest.test_NMTAttn(NMTAttn)\n",
    "# END UNIT TEST"
   ]
  },
  {
   "cell_type": "code",
   "execution_count": 21,
   "id": "9ad98a17",
   "metadata": {},
   "outputs": [
    {
     "name": "stderr",
     "output_type": "stream",
     "text": [
      "/tmp/ipykernel_126126/554596082.py:45: SyntaxWarning: 'NoneType' object is not callable; perhaps you missed a comma?\n",
      "  None(None, None),\n",
      "/tmp/ipykernel_126126/554596082.py:48: SyntaxWarning: 'NoneType' object is not callable; perhaps you missed a comma?\n",
      "  None('PrepareAttentionInput', None, n_out=4),\n",
      "/tmp/ipykernel_126126/554596082.py:61: SyntaxWarning: 'NoneType' object is not callable; perhaps you missed a comma?\n",
      "  None(None),\n",
      "/tmp/ipykernel_126126/554596082.py:45: SyntaxWarning: 'NoneType' object is not callable; perhaps you missed a comma?\n",
      "  None(None, None),\n",
      "/tmp/ipykernel_126126/554596082.py:48: SyntaxWarning: 'NoneType' object is not callable; perhaps you missed a comma?\n",
      "  None('PrepareAttentionInput', None, n_out=4),\n",
      "/tmp/ipykernel_126126/554596082.py:61: SyntaxWarning: 'NoneType' object is not callable; perhaps you missed a comma?\n",
      "  None(None),\n",
      "/tmp/ipykernel_126126/554596082.py:45: SyntaxWarning: 'NoneType' object is not callable; perhaps you missed a comma?\n",
      "  None(None, None),\n",
      "/tmp/ipykernel_126126/554596082.py:48: SyntaxWarning: 'NoneType' object is not callable; perhaps you missed a comma?\n",
      "  None('PrepareAttentionInput', None, n_out=4),\n",
      "/tmp/ipykernel_126126/554596082.py:61: SyntaxWarning: 'NoneType' object is not callable; perhaps you missed a comma?\n",
      "  None(None),\n",
      "/tmp/ipykernel_126126/554596082.py:45: SyntaxWarning: 'NoneType' object is not callable; perhaps you missed a comma?\n",
      "  None(None, None),\n",
      "/tmp/ipykernel_126126/554596082.py:48: SyntaxWarning: 'NoneType' object is not callable; perhaps you missed a comma?\n",
      "  None('PrepareAttentionInput', None, n_out=4),\n",
      "/tmp/ipykernel_126126/554596082.py:61: SyntaxWarning: 'NoneType' object is not callable; perhaps you missed a comma?\n",
      "  None(None),\n",
      "/tmp/ipykernel_126126/554596082.py:45: SyntaxWarning: 'NoneType' object is not callable; perhaps you missed a comma?\n",
      "  None(None, None),\n",
      "/tmp/ipykernel_126126/554596082.py:48: SyntaxWarning: 'NoneType' object is not callable; perhaps you missed a comma?\n",
      "  None('PrepareAttentionInput', None, n_out=4),\n",
      "/tmp/ipykernel_126126/554596082.py:61: SyntaxWarning: 'NoneType' object is not callable; perhaps you missed a comma?\n",
      "  None(None),\n",
      "/tmp/ipykernel_126126/554596082.py:45: SyntaxWarning: 'NoneType' object is not callable; perhaps you missed a comma?\n",
      "  None(None, None),\n",
      "/tmp/ipykernel_126126/554596082.py:48: SyntaxWarning: 'NoneType' object is not callable; perhaps you missed a comma?\n",
      "  None('PrepareAttentionInput', None, n_out=4),\n",
      "/tmp/ipykernel_126126/554596082.py:61: SyntaxWarning: 'NoneType' object is not callable; perhaps you missed a comma?\n",
      "  None(None),\n",
      "/tmp/ipykernel_126126/554596082.py:45: SyntaxWarning: 'NoneType' object is not callable; perhaps you missed a comma?\n",
      "  None(None, None),\n",
      "/tmp/ipykernel_126126/554596082.py:48: SyntaxWarning: 'NoneType' object is not callable; perhaps you missed a comma?\n",
      "  None('PrepareAttentionInput', None, n_out=4),\n",
      "/tmp/ipykernel_126126/554596082.py:61: SyntaxWarning: 'NoneType' object is not callable; perhaps you missed a comma?\n",
      "  None(None),\n",
      "/tmp/ipykernel_126126/554596082.py:45: SyntaxWarning: 'NoneType' object is not callable; perhaps you missed a comma?\n",
      "  None(None, None),\n",
      "/tmp/ipykernel_126126/554596082.py:48: SyntaxWarning: 'NoneType' object is not callable; perhaps you missed a comma?\n",
      "  None('PrepareAttentionInput', None, n_out=4),\n",
      "/tmp/ipykernel_126126/554596082.py:61: SyntaxWarning: 'NoneType' object is not callable; perhaps you missed a comma?\n",
      "  None(None),\n"
     ]
    },
    {
     "ename": "TypeError",
     "evalue": "'NoneType' object is not callable",
     "output_type": "error",
     "traceback": [
      "\u001b[0;31m---------------------------------------------------------------------------\u001b[0m",
      "\u001b[0;31mTypeError\u001b[0m                                 Traceback (most recent call last)",
      "Cell \u001b[0;32mIn[20], line 2\u001b[0m\n\u001b[1;32m      1\u001b[0m \u001b[38;5;66;03m# print your model\u001b[39;00m\n\u001b[0;32m----> 2\u001b[0m model \u001b[38;5;241m=\u001b[39m \u001b[43mNMTAttn\u001b[49m\u001b[43m(\u001b[49m\u001b[43m)\u001b[49m\n\u001b[1;32m      3\u001b[0m \u001b[38;5;28mprint\u001b[39m(model)\n",
      "Cell \u001b[0;32mIn[18], line 45\u001b[0m, in \u001b[0;36mNMTAttn\u001b[0;34m(input_vocab_size, target_vocab_size, d_model, n_encoder_layers, n_decoder_layers, n_attention_heads, attention_dropout, mode)\u001b[0m\n\u001b[1;32m     36\u001b[0m pre_attention_decoder \u001b[38;5;241m=\u001b[39m \u001b[38;5;28;01mNone\u001b[39;00m\n\u001b[1;32m     38\u001b[0m \u001b[38;5;66;03m# Step 1: create a serial network\u001b[39;00m\n\u001b[1;32m     39\u001b[0m model \u001b[38;5;241m=\u001b[39m tl\u001b[38;5;241m.\u001b[39mSerial( \n\u001b[1;32m     40\u001b[0m     \n\u001b[1;32m     41\u001b[0m   \u001b[38;5;66;03m# Step 2: copy input tokens and target tokens as they will be needed later.\u001b[39;00m\n\u001b[1;32m     42\u001b[0m   \u001b[38;5;28;01mNone\u001b[39;00m,\n\u001b[1;32m     43\u001b[0m     \n\u001b[1;32m     44\u001b[0m   \u001b[38;5;66;03m# Step 3: run input encoder on the input and pre-attention decoder the target.\u001b[39;00m\n\u001b[0;32m---> 45\u001b[0m   \u001b[38;5;28;43;01mNone\u001b[39;49;00m\u001b[43m(\u001b[49m\u001b[38;5;28;43;01mNone\u001b[39;49;00m\u001b[43m,\u001b[49m\u001b[43m \u001b[49m\u001b[38;5;28;43;01mNone\u001b[39;49;00m\u001b[43m)\u001b[49m,\n\u001b[1;32m     46\u001b[0m     \n\u001b[1;32m     47\u001b[0m   \u001b[38;5;66;03m# Step 4: prepare queries, keys, values and mask for attention.\u001b[39;00m\n\u001b[1;32m     48\u001b[0m   \u001b[38;5;28;01mNone\u001b[39;00m(\u001b[38;5;124m'\u001b[39m\u001b[38;5;124mPrepareAttentionInput\u001b[39m\u001b[38;5;124m'\u001b[39m, \u001b[38;5;28;01mNone\u001b[39;00m, n_out\u001b[38;5;241m=\u001b[39m\u001b[38;5;241m4\u001b[39m),\n\u001b[1;32m     49\u001b[0m     \n\u001b[1;32m     50\u001b[0m   \u001b[38;5;66;03m# Step 5: run the AttentionQKV layer\u001b[39;00m\n\u001b[1;32m     51\u001b[0m   \u001b[38;5;66;03m# nest it inside a Residual layer to add to the pre-attention decoder activations(i.e. queries)\u001b[39;00m\n\u001b[1;32m     52\u001b[0m   tl\u001b[38;5;241m.\u001b[39mResidual(tl\u001b[38;5;241m.\u001b[39mAttentionQKV(\u001b[38;5;28;01mNone\u001b[39;00m, n_heads\u001b[38;5;241m=\u001b[39mn_attention_heads, dropout\u001b[38;5;241m=\u001b[39mattention_dropout, mode\u001b[38;5;241m=\u001b[39m\u001b[38;5;28;01mNone\u001b[39;00m)),\n\u001b[1;32m     53\u001b[0m   \n\u001b[1;32m     54\u001b[0m   \u001b[38;5;66;03m# Step 6: drop attention mask (i.e. index = None\u001b[39;00m\n\u001b[1;32m     55\u001b[0m   \u001b[38;5;28;01mNone\u001b[39;00m,\n\u001b[1;32m     56\u001b[0m     \n\u001b[1;32m     57\u001b[0m   \u001b[38;5;66;03m# Step 7: run the rest of the RNN decoder\u001b[39;00m\n\u001b[1;32m     58\u001b[0m   [\u001b[38;5;28;01mNone\u001b[39;00m \u001b[38;5;28;01mfor\u001b[39;00m _ \u001b[38;5;129;01min\u001b[39;00m \u001b[38;5;28mrange\u001b[39m(\u001b[38;5;28;01mNone\u001b[39;00m)],\n\u001b[1;32m     59\u001b[0m     \n\u001b[1;32m     60\u001b[0m   \u001b[38;5;66;03m# Step 8: prepare output by making it the right size\u001b[39;00m\n\u001b[1;32m     61\u001b[0m   \u001b[38;5;28;01mNone\u001b[39;00m(\u001b[38;5;28;01mNone\u001b[39;00m),\n\u001b[1;32m     62\u001b[0m     \n\u001b[1;32m     63\u001b[0m   \u001b[38;5;66;03m# Step 9: Log-softmax for output\u001b[39;00m\n\u001b[1;32m     64\u001b[0m   \u001b[38;5;28;01mNone\u001b[39;00m\n\u001b[1;32m     65\u001b[0m )\n\u001b[1;32m     67\u001b[0m \u001b[38;5;66;03m### END CODE HERE\u001b[39;00m\n\u001b[1;32m     69\u001b[0m \u001b[38;5;28;01mreturn\u001b[39;00m model\n",
      "\u001b[0;31mTypeError\u001b[0m: 'NoneType' object is not callable"
     ]
    }
   ],
   "source": [
    "# print your model\n",
    "model = NMTAttn()\n",
    "print(model)"
   ]
  },
  {
   "cell_type": "code",
   "execution_count": 22,
   "id": "08beccfd",
   "metadata": {},
   "outputs": [
    {
     "name": "stderr",
     "output_type": "stream",
     "text": [
      "/home/oren/work/notes/notes-nlp/.venv/lib/python3.10/site-packages/trax/supervised/training.py:1388: SyntaxWarning: \"is not\" with a literal. Did you mean \"!=\"?\n",
      "  return [f for f in flat if f is not None and f is not ()]  # pylint: disable=literal-comparison\n",
      "/home/oren/work/notes/notes-nlp/.venv/lib/python3.10/site-packages/trax/supervised/training.py:1388: SyntaxWarning: \"is not\" with a literal. Did you mean \"!=\"?\n",
      "  return [f for f in flat if f is not None and f is not ()]  # pylint: disable=literal-comparison\n"
     ]
    },
    {
     "ename": "TypeError",
     "evalue": "'NoneType' object is not an iterator\n  In call to configurable 'TrainTask' (<class 'trax.supervised.training.TrainTask'>)",
     "output_type": "error",
     "traceback": [
      "\u001b[0;31m---------------------------------------------------------------------------\u001b[0m",
      "\u001b[0;31mTypeError\u001b[0m                                 Traceback (most recent call last)",
      "Cell \u001b[0;32mIn[21], line 3\u001b[0m\n\u001b[1;32m      1\u001b[0m \u001b[38;5;66;03m# UNQ_C5\u001b[39;00m\n\u001b[1;32m      2\u001b[0m \u001b[38;5;66;03m# GRADED \u001b[39;00m\n\u001b[0;32m----> 3\u001b[0m train_task \u001b[38;5;241m=\u001b[39m \u001b[43mtraining\u001b[49m\u001b[38;5;241;43m.\u001b[39;49m\u001b[43mTrainTask\u001b[49m\u001b[43m(\u001b[49m\n\u001b[1;32m      4\u001b[0m \u001b[43m    \u001b[49m\n\u001b[1;32m      5\u001b[0m \u001b[43m    \u001b[49m\u001b[38;5;66;43;03m### START CODE HERE (REPLACE INSTANCES OF `None` WITH YOUR CODE) ###\u001b[39;49;00m\n\u001b[1;32m      6\u001b[0m \u001b[43m    \u001b[49m\n\u001b[1;32m      7\u001b[0m \u001b[43m    \u001b[49m\u001b[38;5;66;43;03m# use the train batch stream as labeled data\u001b[39;49;00m\n\u001b[1;32m      8\u001b[0m \u001b[43m    \u001b[49m\u001b[43mlabeled_data\u001b[49m\u001b[38;5;241;43m=\u001b[39;49m\u001b[43m \u001b[49m\u001b[38;5;28;43;01mNone\u001b[39;49;00m\u001b[43m,\u001b[49m\n\u001b[1;32m      9\u001b[0m \u001b[43m    \u001b[49m\n\u001b[1;32m     10\u001b[0m \u001b[43m    \u001b[49m\u001b[38;5;66;43;03m# use the cross entropy loss\u001b[39;49;00m\n\u001b[1;32m     11\u001b[0m \u001b[43m    \u001b[49m\u001b[43mloss_layer\u001b[49m\u001b[38;5;241;43m=\u001b[39;49m\u001b[43m \u001b[49m\u001b[38;5;28;43;01mNone\u001b[39;49;00m\u001b[43m,\u001b[49m\n\u001b[1;32m     12\u001b[0m \u001b[43m    \u001b[49m\n\u001b[1;32m     13\u001b[0m \u001b[43m    \u001b[49m\u001b[38;5;66;43;03m# use the Adam optimizer with learning rate of 0.01\u001b[39;49;00m\n\u001b[1;32m     14\u001b[0m \u001b[43m    \u001b[49m\u001b[43moptimizer\u001b[49m\u001b[38;5;241;43m=\u001b[39;49m\u001b[43m \u001b[49m\u001b[38;5;28;43;01mNone\u001b[39;49;00m\u001b[43m,\u001b[49m\n\u001b[1;32m     15\u001b[0m \u001b[43m    \u001b[49m\n\u001b[1;32m     16\u001b[0m \u001b[43m    \u001b[49m\u001b[38;5;66;43;03m# use the `trax.lr.warmup_and_rsqrt_decay` as the learning rate schedule\u001b[39;49;00m\n\u001b[1;32m     17\u001b[0m \u001b[43m    \u001b[49m\u001b[38;5;66;43;03m# have 1000 warmup steps with a max value of 0.01\u001b[39;49;00m\n\u001b[1;32m     18\u001b[0m \u001b[43m    \u001b[49m\u001b[43mlr_schedule\u001b[49m\u001b[38;5;241;43m=\u001b[39;49m\u001b[43m \u001b[49m\u001b[38;5;28;43;01mNone\u001b[39;49;00m\u001b[43m,\u001b[49m\n\u001b[1;32m     19\u001b[0m \u001b[43m    \u001b[49m\n\u001b[1;32m     20\u001b[0m \u001b[43m    \u001b[49m\u001b[38;5;66;43;03m# have a checkpoint every 10 steps\u001b[39;49;00m\n\u001b[1;32m     21\u001b[0m \u001b[43m    \u001b[49m\u001b[43mn_steps_per_checkpoint\u001b[49m\u001b[38;5;241;43m=\u001b[39;49m\u001b[43m \u001b[49m\u001b[38;5;28;43;01mNone\u001b[39;49;00m\u001b[43m,\u001b[49m\n\u001b[1;32m     22\u001b[0m \u001b[43m    \u001b[49m\n\u001b[1;32m     23\u001b[0m \u001b[43m    \u001b[49m\u001b[38;5;66;43;03m### END CODE HERE ###\u001b[39;49;00m\n\u001b[1;32m     24\u001b[0m \u001b[43m)\u001b[49m\n",
      "File \u001b[0;32m~/work/notes/notes-nlp/.venv/lib/python3.10/site-packages/gin/config.py:1605\u001b[0m, in \u001b[0;36m_make_gin_wrapper.<locals>.gin_wrapper\u001b[0;34m(*args, **kwargs)\u001b[0m\n\u001b[1;32m   1603\u001b[0m scope_info \u001b[38;5;241m=\u001b[39m \u001b[38;5;124m\"\u001b[39m\u001b[38;5;124m in scope \u001b[39m\u001b[38;5;124m'\u001b[39m\u001b[38;5;132;01m{}\u001b[39;00m\u001b[38;5;124m'\u001b[39m\u001b[38;5;124m\"\u001b[39m\u001b[38;5;241m.\u001b[39mformat(scope_str) \u001b[38;5;28;01mif\u001b[39;00m scope_str \u001b[38;5;28;01melse\u001b[39;00m \u001b[38;5;124m'\u001b[39m\u001b[38;5;124m'\u001b[39m\n\u001b[1;32m   1604\u001b[0m err_str \u001b[38;5;241m=\u001b[39m err_str\u001b[38;5;241m.\u001b[39mformat(name, fn_or_cls, scope_info)\n\u001b[0;32m-> 1605\u001b[0m \u001b[43mutils\u001b[49m\u001b[38;5;241;43m.\u001b[39;49m\u001b[43maugment_exception_message_and_reraise\u001b[49m\u001b[43m(\u001b[49m\u001b[43me\u001b[49m\u001b[43m,\u001b[49m\u001b[43m \u001b[49m\u001b[43merr_str\u001b[49m\u001b[43m)\u001b[49m\n",
      "File \u001b[0;32m~/work/notes/notes-nlp/.venv/lib/python3.10/site-packages/gin/utils.py:41\u001b[0m, in \u001b[0;36maugment_exception_message_and_reraise\u001b[0;34m(exception, message)\u001b[0m\n\u001b[1;32m     39\u001b[0m proxy \u001b[38;5;241m=\u001b[39m ExceptionProxy()\n\u001b[1;32m     40\u001b[0m ExceptionProxy\u001b[38;5;241m.\u001b[39m\u001b[38;5;18m__qualname__\u001b[39m \u001b[38;5;241m=\u001b[39m \u001b[38;5;28mtype\u001b[39m(exception)\u001b[38;5;241m.\u001b[39m\u001b[38;5;18m__qualname__\u001b[39m\n\u001b[0;32m---> 41\u001b[0m \u001b[38;5;28;01mraise\u001b[39;00m proxy\u001b[38;5;241m.\u001b[39mwith_traceback(exception\u001b[38;5;241m.\u001b[39m__traceback__) \u001b[38;5;28;01mfrom\u001b[39;00m\u001b[38;5;250m \u001b[39m\u001b[38;5;28;01mNone\u001b[39;00m\n",
      "File \u001b[0;32m~/work/notes/notes-nlp/.venv/lib/python3.10/site-packages/gin/config.py:1582\u001b[0m, in \u001b[0;36m_make_gin_wrapper.<locals>.gin_wrapper\u001b[0;34m(*args, **kwargs)\u001b[0m\n\u001b[1;32m   1579\u001b[0m new_kwargs\u001b[38;5;241m.\u001b[39mupdate(kwargs)\n\u001b[1;32m   1581\u001b[0m \u001b[38;5;28;01mtry\u001b[39;00m:\n\u001b[0;32m-> 1582\u001b[0m   \u001b[38;5;28;01mreturn\u001b[39;00m \u001b[43mfn\u001b[49m\u001b[43m(\u001b[49m\u001b[38;5;241;43m*\u001b[39;49m\u001b[43mnew_args\u001b[49m\u001b[43m,\u001b[49m\u001b[43m \u001b[49m\u001b[38;5;241;43m*\u001b[39;49m\u001b[38;5;241;43m*\u001b[39;49m\u001b[43mnew_kwargs\u001b[49m\u001b[43m)\u001b[49m\n\u001b[1;32m   1583\u001b[0m \u001b[38;5;28;01mexcept\u001b[39;00m \u001b[38;5;167;01mException\u001b[39;00m \u001b[38;5;28;01mas\u001b[39;00m e:  \u001b[38;5;66;03m# pylint: disable=broad-except\u001b[39;00m\n\u001b[1;32m   1584\u001b[0m   err_str \u001b[38;5;241m=\u001b[39m \u001b[38;5;124m'\u001b[39m\u001b[38;5;124m'\u001b[39m\n",
      "File \u001b[0;32m~/work/notes/notes-nlp/.venv/lib/python3.10/site-packages/trax/supervised/training.py:1086\u001b[0m, in \u001b[0;36mTrainTask.__init__\u001b[0;34m(self, labeled_data, loss_layer, optimizer, lr_schedule, n_steps_per_checkpoint, n_steps_per_permanent_checkpoint, loss_name, sample_batch, export_prefix)\u001b[0m\n\u001b[1;32m   1084\u001b[0m \u001b[38;5;28mself\u001b[39m\u001b[38;5;241m.\u001b[39m_optimizer \u001b[38;5;241m=\u001b[39m optimizer\n\u001b[1;32m   1085\u001b[0m \u001b[38;5;28mself\u001b[39m\u001b[38;5;241m.\u001b[39m_lr_schedule \u001b[38;5;241m=\u001b[39m lr_schedule\n\u001b[0;32m-> 1086\u001b[0m \u001b[38;5;28mself\u001b[39m\u001b[38;5;241m.\u001b[39m_sample_batch \u001b[38;5;241m=\u001b[39m sample_batch \u001b[38;5;129;01mor\u001b[39;00m \u001b[38;5;28;43mnext\u001b[39;49m\u001b[43m(\u001b[49m\u001b[43mlabeled_data\u001b[49m\u001b[43m)\u001b[49m\n\u001b[1;32m   1087\u001b[0m \u001b[38;5;28mself\u001b[39m\u001b[38;5;241m.\u001b[39m_n_steps_per_checkpoint \u001b[38;5;241m=\u001b[39m n_steps_per_checkpoint\n\u001b[1;32m   1088\u001b[0m \u001b[38;5;28mself\u001b[39m\u001b[38;5;241m.\u001b[39m_n_steps_per_permanent_checkpoint \u001b[38;5;241m=\u001b[39m n_steps_per_permanent_checkpoint\n",
      "\u001b[0;31mTypeError\u001b[0m: 'NoneType' object is not an iterator\n  In call to configurable 'TrainTask' (<class 'trax.supervised.training.TrainTask'>)"
     ]
    }
   ],
   "source": [
    "# UNQ_C5\n",
    "# GRADED \n",
    "train_task = training.TrainTask(\n",
    "    \n",
    "    ### START CODE HERE (REPLACE INSTANCES OF `None` WITH YOUR CODE) ###\n",
    "    \n",
    "    # use the train batch stream as labeled data\n",
    "    labeled_data= None,\n",
    "    \n",
    "    # use the cross entropy loss\n",
    "    loss_layer= None,\n",
    "    \n",
    "    # use the Adam optimizer with learning rate of 0.01\n",
    "    optimizer= None,\n",
    "    \n",
    "    # use the `trax.lr.warmup_and_rsqrt_decay` as the learning rate schedule\n",
    "    # have 1000 warmup steps with a max value of 0.01\n",
    "    lr_schedule= None,\n",
    "    \n",
    "    # have a checkpoint every 10 steps\n",
    "    n_steps_per_checkpoint= None,\n",
    "    \n",
    "    ### END CODE HERE ###\n",
    ")"
   ]
  },
  {
   "cell_type": "code",
   "execution_count": 23,
   "id": "d1de4578",
   "metadata": {
    "lines_to_next_cell": 2
   },
   "outputs": [
    {
     "ename": "NameError",
     "evalue": "name 'train_task' is not defined",
     "output_type": "error",
     "traceback": [
      "\u001b[0;31m---------------------------------------------------------------------------\u001b[0m",
      "\u001b[0;31mNameError\u001b[0m                                 Traceback (most recent call last)",
      "Cell \u001b[0;32mIn[22], line 2\u001b[0m\n\u001b[1;32m      1\u001b[0m \u001b[38;5;66;03m# BEGIN UNIT TEST\u001b[39;00m\n\u001b[0;32m----> 2\u001b[0m w1_unittest\u001b[38;5;241m.\u001b[39mtest_train_task(\u001b[43mtrain_task\u001b[49m)\n\u001b[1;32m      3\u001b[0m \u001b[38;5;66;03m# END UNIT TEST\u001b[39;00m\n",
      "\u001b[0;31mNameError\u001b[0m: name 'train_task' is not defined"
     ]
    }
   ],
   "source": [
    "# BEGIN UNIT TEST\n",
    "w1_unittest.test_train_task(train_task)\n",
    "# END UNIT TEST"
   ]
  },
  {
   "cell_type": "code",
   "execution_count": 24,
   "id": "cdca9417",
   "metadata": {},
   "outputs": [
    {
     "ename": "NameError",
     "evalue": "name 'eval_batch_stream' is not defined",
     "output_type": "error",
     "traceback": [
      "\u001b[0;31m---------------------------------------------------------------------------\u001b[0m",
      "\u001b[0;31mNameError\u001b[0m                                 Traceback (most recent call last)",
      "Cell \u001b[0;32mIn[23], line 4\u001b[0m\n\u001b[1;32m      1\u001b[0m eval_task \u001b[38;5;241m=\u001b[39m training\u001b[38;5;241m.\u001b[39mEvalTask(\n\u001b[1;32m      2\u001b[0m     \n\u001b[1;32m      3\u001b[0m     \u001b[38;5;66;03m## use the eval batch stream as labeled data\u001b[39;00m\n\u001b[0;32m----> 4\u001b[0m     labeled_data\u001b[38;5;241m=\u001b[39m\u001b[43meval_batch_stream\u001b[49m,\n\u001b[1;32m      5\u001b[0m     \n\u001b[1;32m      6\u001b[0m     \u001b[38;5;66;03m## use the cross entropy loss and accuracy as metrics\u001b[39;00m\n\u001b[1;32m      7\u001b[0m     metrics\u001b[38;5;241m=\u001b[39m[tl\u001b[38;5;241m.\u001b[39mCrossEntropyLoss(), tl\u001b[38;5;241m.\u001b[39mAccuracy()],\n\u001b[1;32m      8\u001b[0m )\n",
      "\u001b[0;31mNameError\u001b[0m: name 'eval_batch_stream' is not defined"
     ]
    }
   ],
   "source": [
    "eval_task = training.EvalTask(\n",
    "    \n",
    "    ## use the eval batch stream as labeled data\n",
    "    labeled_data=eval_batch_stream,\n",
    "    \n",
    "    ## use the cross entropy loss and accuracy as metrics\n",
    "    metrics=[tl.CrossEntropyLoss(), tl.Accuracy()],\n",
    ")"
   ]
  },
  {
   "cell_type": "code",
   "execution_count": 25,
   "id": "519481d6",
   "metadata": {
    "lines_to_next_cell": 2
   },
   "outputs": [
    {
     "name": "stderr",
     "output_type": "stream",
     "text": [
      "/usr/lib/python3.10/pty.py:89: RuntimeWarning: os.fork() was called. os.fork() is incompatible with multithreaded code, and JAX is multithreaded, so this will likely lead to a deadlock.\n",
      "  pid, fd = os.forkpty()\n"
     ]
    },
    {
     "ename": "TypeError",
     "evalue": "'NoneType' object is not callable",
     "output_type": "error",
     "traceback": [
      "\u001b[0;31m---------------------------------------------------------------------------\u001b[0m",
      "\u001b[0;31mTypeError\u001b[0m                                 Traceback (most recent call last)",
      "Cell \u001b[0;32mIn[24], line 8\u001b[0m\n\u001b[1;32m      5\u001b[0m get_ipython()\u001b[38;5;241m.\u001b[39msystem(\u001b[38;5;124m'\u001b[39m\u001b[38;5;124mrm -f ~/output_dir/model.pkl.gz\u001b[39m\u001b[38;5;124m'\u001b[39m)\n\u001b[1;32m      7\u001b[0m \u001b[38;5;66;03m# define the training loop\u001b[39;00m\n\u001b[0;32m----> 8\u001b[0m training_loop \u001b[38;5;241m=\u001b[39m training\u001b[38;5;241m.\u001b[39mLoop(\u001b[43mNMTAttn\u001b[49m\u001b[43m(\u001b[49m\u001b[43mmode\u001b[49m\u001b[38;5;241;43m=\u001b[39;49m\u001b[38;5;124;43m'\u001b[39;49m\u001b[38;5;124;43mtrain\u001b[39;49m\u001b[38;5;124;43m'\u001b[39;49m\u001b[43m)\u001b[49m,\n\u001b[1;32m      9\u001b[0m                               train_task,\n\u001b[1;32m     10\u001b[0m                               eval_tasks\u001b[38;5;241m=\u001b[39m[eval_task],\n\u001b[1;32m     11\u001b[0m                               output_dir\u001b[38;5;241m=\u001b[39moutput_dir)\n",
      "Cell \u001b[0;32mIn[18], line 45\u001b[0m, in \u001b[0;36mNMTAttn\u001b[0;34m(input_vocab_size, target_vocab_size, d_model, n_encoder_layers, n_decoder_layers, n_attention_heads, attention_dropout, mode)\u001b[0m\n\u001b[1;32m     36\u001b[0m pre_attention_decoder \u001b[38;5;241m=\u001b[39m \u001b[38;5;28;01mNone\u001b[39;00m\n\u001b[1;32m     38\u001b[0m \u001b[38;5;66;03m# Step 1: create a serial network\u001b[39;00m\n\u001b[1;32m     39\u001b[0m model \u001b[38;5;241m=\u001b[39m tl\u001b[38;5;241m.\u001b[39mSerial( \n\u001b[1;32m     40\u001b[0m     \n\u001b[1;32m     41\u001b[0m   \u001b[38;5;66;03m# Step 2: copy input tokens and target tokens as they will be needed later.\u001b[39;00m\n\u001b[1;32m     42\u001b[0m   \u001b[38;5;28;01mNone\u001b[39;00m,\n\u001b[1;32m     43\u001b[0m     \n\u001b[1;32m     44\u001b[0m   \u001b[38;5;66;03m# Step 3: run input encoder on the input and pre-attention decoder the target.\u001b[39;00m\n\u001b[0;32m---> 45\u001b[0m   \u001b[38;5;28;43;01mNone\u001b[39;49;00m\u001b[43m(\u001b[49m\u001b[38;5;28;43;01mNone\u001b[39;49;00m\u001b[43m,\u001b[49m\u001b[43m \u001b[49m\u001b[38;5;28;43;01mNone\u001b[39;49;00m\u001b[43m)\u001b[49m,\n\u001b[1;32m     46\u001b[0m     \n\u001b[1;32m     47\u001b[0m   \u001b[38;5;66;03m# Step 4: prepare queries, keys, values and mask for attention.\u001b[39;00m\n\u001b[1;32m     48\u001b[0m   \u001b[38;5;28;01mNone\u001b[39;00m(\u001b[38;5;124m'\u001b[39m\u001b[38;5;124mPrepareAttentionInput\u001b[39m\u001b[38;5;124m'\u001b[39m, \u001b[38;5;28;01mNone\u001b[39;00m, n_out\u001b[38;5;241m=\u001b[39m\u001b[38;5;241m4\u001b[39m),\n\u001b[1;32m     49\u001b[0m     \n\u001b[1;32m     50\u001b[0m   \u001b[38;5;66;03m# Step 5: run the AttentionQKV layer\u001b[39;00m\n\u001b[1;32m     51\u001b[0m   \u001b[38;5;66;03m# nest it inside a Residual layer to add to the pre-attention decoder activations(i.e. queries)\u001b[39;00m\n\u001b[1;32m     52\u001b[0m   tl\u001b[38;5;241m.\u001b[39mResidual(tl\u001b[38;5;241m.\u001b[39mAttentionQKV(\u001b[38;5;28;01mNone\u001b[39;00m, n_heads\u001b[38;5;241m=\u001b[39mn_attention_heads, dropout\u001b[38;5;241m=\u001b[39mattention_dropout, mode\u001b[38;5;241m=\u001b[39m\u001b[38;5;28;01mNone\u001b[39;00m)),\n\u001b[1;32m     53\u001b[0m   \n\u001b[1;32m     54\u001b[0m   \u001b[38;5;66;03m# Step 6: drop attention mask (i.e. index = None\u001b[39;00m\n\u001b[1;32m     55\u001b[0m   \u001b[38;5;28;01mNone\u001b[39;00m,\n\u001b[1;32m     56\u001b[0m     \n\u001b[1;32m     57\u001b[0m   \u001b[38;5;66;03m# Step 7: run the rest of the RNN decoder\u001b[39;00m\n\u001b[1;32m     58\u001b[0m   [\u001b[38;5;28;01mNone\u001b[39;00m \u001b[38;5;28;01mfor\u001b[39;00m _ \u001b[38;5;129;01min\u001b[39;00m \u001b[38;5;28mrange\u001b[39m(\u001b[38;5;28;01mNone\u001b[39;00m)],\n\u001b[1;32m     59\u001b[0m     \n\u001b[1;32m     60\u001b[0m   \u001b[38;5;66;03m# Step 8: prepare output by making it the right size\u001b[39;00m\n\u001b[1;32m     61\u001b[0m   \u001b[38;5;28;01mNone\u001b[39;00m(\u001b[38;5;28;01mNone\u001b[39;00m),\n\u001b[1;32m     62\u001b[0m     \n\u001b[1;32m     63\u001b[0m   \u001b[38;5;66;03m# Step 9: Log-softmax for output\u001b[39;00m\n\u001b[1;32m     64\u001b[0m   \u001b[38;5;28;01mNone\u001b[39;00m\n\u001b[1;32m     65\u001b[0m )\n\u001b[1;32m     67\u001b[0m \u001b[38;5;66;03m### END CODE HERE\u001b[39;00m\n\u001b[1;32m     69\u001b[0m \u001b[38;5;28;01mreturn\u001b[39;00m model\n",
      "\u001b[0;31mTypeError\u001b[0m: 'NoneType' object is not callable"
     ]
    }
   ],
   "source": [
    "# define the output directory\n",
    "output_dir = 'output_dir/'\n",
    "\n",
    "# remove old model if it exists. restarts training.\n",
    "!rm -f ~/output_dir/model.pkl.gz  \n",
    "\n",
    "# define the training loop\n",
    "training_loop = training.Loop(NMTAttn(mode='train'),\n",
    "                              train_task,\n",
    "                              eval_tasks=[eval_task],\n",
    "                              output_dir=output_dir)"
   ]
  },
  {
   "cell_type": "code",
   "execution_count": 26,
   "id": "2d72cb48",
   "metadata": {},
   "outputs": [
    {
     "ename": "NameError",
     "evalue": "name 'training_loop' is not defined",
     "output_type": "error",
     "traceback": [
      "\u001b[0;31m---------------------------------------------------------------------------\u001b[0m",
      "\u001b[0;31mNameError\u001b[0m                                 Traceback (most recent call last)",
      "Cell \u001b[0;32mIn[25], line 2\u001b[0m\n\u001b[1;32m      1\u001b[0m \u001b[38;5;66;03m# NOTE: Execute the training loop. This will take around 8 minutes to complete.\u001b[39;00m\n\u001b[0;32m----> 2\u001b[0m \u001b[43mtraining_loop\u001b[49m\u001b[38;5;241m.\u001b[39mrun(\u001b[38;5;241m10\u001b[39m)\n",
      "\u001b[0;31mNameError\u001b[0m: name 'training_loop' is not defined"
     ]
    }
   ],
   "source": [
    "# NOTE: Execute the training loop. This will take around 8 minutes to complete.\n",
    "training_loop.run(10)"
   ]
  },
  {
   "cell_type": "code",
   "execution_count": 27,
   "id": "b99685bc",
   "metadata": {},
   "outputs": [
    {
     "ename": "TypeError",
     "evalue": "'NoneType' object is not callable",
     "output_type": "error",
     "traceback": [
      "\u001b[0;31m---------------------------------------------------------------------------\u001b[0m",
      "\u001b[0;31mTypeError\u001b[0m                                 Traceback (most recent call last)",
      "Cell \u001b[0;32mIn[26], line 2\u001b[0m\n\u001b[1;32m      1\u001b[0m \u001b[38;5;66;03m# instantiate the model we built in eval mode\u001b[39;00m\n\u001b[0;32m----> 2\u001b[0m model \u001b[38;5;241m=\u001b[39m \u001b[43mNMTAttn\u001b[49m\u001b[43m(\u001b[49m\u001b[43mmode\u001b[49m\u001b[38;5;241;43m=\u001b[39;49m\u001b[38;5;124;43m'\u001b[39;49m\u001b[38;5;124;43meval\u001b[39;49m\u001b[38;5;124;43m'\u001b[39;49m\u001b[43m)\u001b[49m\n\u001b[1;32m      4\u001b[0m \u001b[38;5;66;03m# initialize weights from a pre-trained model\u001b[39;00m\n\u001b[1;32m      5\u001b[0m model\u001b[38;5;241m.\u001b[39minit_from_file(\u001b[38;5;124m\"\u001b[39m\u001b[38;5;124mmodel.pkl.gz\u001b[39m\u001b[38;5;124m\"\u001b[39m, weights_only\u001b[38;5;241m=\u001b[39m\u001b[38;5;28;01mTrue\u001b[39;00m)\n",
      "Cell \u001b[0;32mIn[18], line 45\u001b[0m, in \u001b[0;36mNMTAttn\u001b[0;34m(input_vocab_size, target_vocab_size, d_model, n_encoder_layers, n_decoder_layers, n_attention_heads, attention_dropout, mode)\u001b[0m\n\u001b[1;32m     36\u001b[0m pre_attention_decoder \u001b[38;5;241m=\u001b[39m \u001b[38;5;28;01mNone\u001b[39;00m\n\u001b[1;32m     38\u001b[0m \u001b[38;5;66;03m# Step 1: create a serial network\u001b[39;00m\n\u001b[1;32m     39\u001b[0m model \u001b[38;5;241m=\u001b[39m tl\u001b[38;5;241m.\u001b[39mSerial( \n\u001b[1;32m     40\u001b[0m     \n\u001b[1;32m     41\u001b[0m   \u001b[38;5;66;03m# Step 2: copy input tokens and target tokens as they will be needed later.\u001b[39;00m\n\u001b[1;32m     42\u001b[0m   \u001b[38;5;28;01mNone\u001b[39;00m,\n\u001b[1;32m     43\u001b[0m     \n\u001b[1;32m     44\u001b[0m   \u001b[38;5;66;03m# Step 3: run input encoder on the input and pre-attention decoder the target.\u001b[39;00m\n\u001b[0;32m---> 45\u001b[0m   \u001b[38;5;28;43;01mNone\u001b[39;49;00m\u001b[43m(\u001b[49m\u001b[38;5;28;43;01mNone\u001b[39;49;00m\u001b[43m,\u001b[49m\u001b[43m \u001b[49m\u001b[38;5;28;43;01mNone\u001b[39;49;00m\u001b[43m)\u001b[49m,\n\u001b[1;32m     46\u001b[0m     \n\u001b[1;32m     47\u001b[0m   \u001b[38;5;66;03m# Step 4: prepare queries, keys, values and mask for attention.\u001b[39;00m\n\u001b[1;32m     48\u001b[0m   \u001b[38;5;28;01mNone\u001b[39;00m(\u001b[38;5;124m'\u001b[39m\u001b[38;5;124mPrepareAttentionInput\u001b[39m\u001b[38;5;124m'\u001b[39m, \u001b[38;5;28;01mNone\u001b[39;00m, n_out\u001b[38;5;241m=\u001b[39m\u001b[38;5;241m4\u001b[39m),\n\u001b[1;32m     49\u001b[0m     \n\u001b[1;32m     50\u001b[0m   \u001b[38;5;66;03m# Step 5: run the AttentionQKV layer\u001b[39;00m\n\u001b[1;32m     51\u001b[0m   \u001b[38;5;66;03m# nest it inside a Residual layer to add to the pre-attention decoder activations(i.e. queries)\u001b[39;00m\n\u001b[1;32m     52\u001b[0m   tl\u001b[38;5;241m.\u001b[39mResidual(tl\u001b[38;5;241m.\u001b[39mAttentionQKV(\u001b[38;5;28;01mNone\u001b[39;00m, n_heads\u001b[38;5;241m=\u001b[39mn_attention_heads, dropout\u001b[38;5;241m=\u001b[39mattention_dropout, mode\u001b[38;5;241m=\u001b[39m\u001b[38;5;28;01mNone\u001b[39;00m)),\n\u001b[1;32m     53\u001b[0m   \n\u001b[1;32m     54\u001b[0m   \u001b[38;5;66;03m# Step 6: drop attention mask (i.e. index = None\u001b[39;00m\n\u001b[1;32m     55\u001b[0m   \u001b[38;5;28;01mNone\u001b[39;00m,\n\u001b[1;32m     56\u001b[0m     \n\u001b[1;32m     57\u001b[0m   \u001b[38;5;66;03m# Step 7: run the rest of the RNN decoder\u001b[39;00m\n\u001b[1;32m     58\u001b[0m   [\u001b[38;5;28;01mNone\u001b[39;00m \u001b[38;5;28;01mfor\u001b[39;00m _ \u001b[38;5;129;01min\u001b[39;00m \u001b[38;5;28mrange\u001b[39m(\u001b[38;5;28;01mNone\u001b[39;00m)],\n\u001b[1;32m     59\u001b[0m     \n\u001b[1;32m     60\u001b[0m   \u001b[38;5;66;03m# Step 8: prepare output by making it the right size\u001b[39;00m\n\u001b[1;32m     61\u001b[0m   \u001b[38;5;28;01mNone\u001b[39;00m(\u001b[38;5;28;01mNone\u001b[39;00m),\n\u001b[1;32m     62\u001b[0m     \n\u001b[1;32m     63\u001b[0m   \u001b[38;5;66;03m# Step 9: Log-softmax for output\u001b[39;00m\n\u001b[1;32m     64\u001b[0m   \u001b[38;5;28;01mNone\u001b[39;00m\n\u001b[1;32m     65\u001b[0m )\n\u001b[1;32m     67\u001b[0m \u001b[38;5;66;03m### END CODE HERE\u001b[39;00m\n\u001b[1;32m     69\u001b[0m \u001b[38;5;28;01mreturn\u001b[39;00m model\n",
      "\u001b[0;31mTypeError\u001b[0m: 'NoneType' object is not callable"
     ]
    }
   ],
   "source": [
    "# instantiate the model we built in eval mode\n",
    "model = NMTAttn(mode='eval')\n",
    "\n",
    "# initialize weights from a pre-trained model\n",
    "model.init_from_file(\"model.pkl.gz\", weights_only=True)\n",
    "model = tl.Accelerate(model)"
   ]
  },
  {
   "cell_type": "code",
   "execution_count": 28,
   "id": "e39c7bb3",
   "metadata": {},
   "outputs": [],
   "source": [
    "# UNQ_C6\n",
    "# GRADED FUNCTION\n",
    "def next_symbol(NMTAttn, input_tokens, cur_output_tokens, temperature):\n",
    "    \"\"\"Returns the index of the next token.\n",
    "\n",
    "    Args:\n",
    "        NMTAttn (tl.Serial): An LSTM sequence-to-sequence model with attention.\n",
    "        input_tokens (np.ndarray 1 x n_tokens): tokenized representation of the input sentence\n",
    "        cur_output_tokens (list): tokenized representation of previously translated words\n",
    "        temperature (float): parameter for sampling ranging from 0.0 to 1.0.\n",
    "            0.0: same as argmax, always pick the most probable token\n",
    "            1.0: sampling from the distribution (can sometimes say random things)\n",
    "\n",
    "    Returns:\n",
    "        int: index of the next token in the translated sentence\n",
    "        float: log probability of the next symbol\n",
    "    \"\"\"\n",
    "\n",
    "    ### START CODE HERE (REPLACE INSTANCES OF `None` WITH YOUR CODE) ###\n",
    "\n",
    "    # set the length of the current output tokens\n",
    "    token_length = None\n",
    "\n",
    "    # calculate next power of 2 for padding length \n",
    "    padded_length = None\n",
    "\n",
    "    # pad cur_output_tokens up to the padded_length\n",
    "    padded = cur_output_tokens + None\n",
    "    \n",
    "    # model expects the output to have an axis for the batch size in front so\n",
    "    # convert `padded` list to a numpy array with shape (None, <padded_length>) where\n",
    "    # None is a placeholder for the batch size\n",
    "    padded_with_batch = None\n",
    "\n",
    "    # get the model prediction (remember to use the `NMAttn` argument defined above)\n",
    "    output, _ = None\n",
    "    \n",
    "    # get log probabilities from the last token output\n",
    "    log_probs = output[None]\n",
    "\n",
    "    # get the next symbol by getting a logsoftmax sample (*hint: cast to an int)\n",
    "    symbol = None\n",
    "    \n",
    "    ### END CODE HERE ###\n",
    "\n",
    "    return symbol, float(log_probs[symbol])"
   ]
  },
  {
   "cell_type": "code",
   "execution_count": 29,
   "id": "45047147",
   "metadata": {},
   "outputs": [
    {
     "ename": "NameError",
     "evalue": "name 'model' is not defined",
     "output_type": "error",
     "traceback": [
      "\u001b[0;31m---------------------------------------------------------------------------\u001b[0m",
      "\u001b[0;31mNameError\u001b[0m                                 Traceback (most recent call last)",
      "Cell \u001b[0;32mIn[28], line 2\u001b[0m\n\u001b[1;32m      1\u001b[0m \u001b[38;5;66;03m# BEGIN UNIT TEST\u001b[39;00m\n\u001b[0;32m----> 2\u001b[0m w1_unittest\u001b[38;5;241m.\u001b[39mtest_next_symbol(next_symbol, \u001b[43mmodel\u001b[49m)\n\u001b[1;32m      3\u001b[0m \u001b[38;5;66;03m# END UNIT TEST\u001b[39;00m\n",
      "\u001b[0;31mNameError\u001b[0m: name 'model' is not defined"
     ]
    }
   ],
   "source": [
    "# BEGIN UNIT TEST\n",
    "w1_unittest.test_next_symbol(next_symbol, model)\n",
    "# END UNIT TEST"
   ]
  },
  {
   "cell_type": "code",
   "execution_count": 30,
   "id": "8ac4c24a",
   "metadata": {},
   "outputs": [],
   "source": [
    "# UNQ_C7\n",
    "# GRADED FUNCTION\n",
    "def sampling_decode(input_sentence, NMTAttn = None, temperature=0.0, vocab_file=None, vocab_dir=None):\n",
    "    \"\"\"Returns the translated sentence.\n",
    "\n",
    "    Args:\n",
    "        input_sentence (str): sentence to translate.\n",
    "        NMTAttn (tl.Serial): An LSTM sequence-to-sequence model with attention.\n",
    "        temperature (float): parameter for sampling ranging from 0.0 to 1.0.\n",
    "            0.0: same as argmax, always pick the most probable token\n",
    "            1.0: sampling from the distribution (can sometimes say random things)\n",
    "        vocab_file (str): filename of the vocabulary\n",
    "        vocab_dir (str): path to the vocabulary file\n",
    "\n",
    "    Returns:\n",
    "        tuple: (list, str, float)\n",
    "            list of int: tokenized version of the translated sentence\n",
    "            float: log probability of the translated sentence\n",
    "            str: the translated sentence\n",
    "    \"\"\"\n",
    "    \n",
    "    ### START CODE HERE (REPLACE INSTANCES OF `None` WITH YOUR CODE) ###\n",
    "    \n",
    "    # encode the input sentence\n",
    "    input_tokens = None\n",
    "    \n",
    "    # initialize the list of output tokens\n",
    "    cur_output_tokens = None\n",
    "    \n",
    "    # initialize an integer that represents the current output index\n",
    "    cur_output = None\n",
    "    \n",
    "    # Set the encoding of the \"end of sentence\" as 1\n",
    "    EOS = None\n",
    "    \n",
    "    # check that the current output is not the end of sentence token\n",
    "    while cur_output != EOS:\n",
    "        \n",
    "        # update the current output token by getting the index of the next word (hint: use next_symbol)\n",
    "        cur_output, log_prob = None\n",
    "        \n",
    "        # append the current output token to the list of output tokens\n",
    "        cur_output_tokens.append(cur_output)\n",
    "    \n",
    "    # detokenize the output tokens\n",
    "    sentence = None\n",
    "    \n",
    "    ### END CODE HERE ###\n",
    "    \n",
    "    return cur_output_tokens, log_prob, sentence"
   ]
  },
  {
   "cell_type": "code",
   "execution_count": 31,
   "id": "9e881b2c",
   "metadata": {},
   "outputs": [
    {
     "ename": "NameError",
     "evalue": "name 'model' is not defined",
     "output_type": "error",
     "traceback": [
      "\u001b[0;31m---------------------------------------------------------------------------\u001b[0m",
      "\u001b[0;31mNameError\u001b[0m                                 Traceback (most recent call last)",
      "Cell \u001b[0;32mIn[30], line 3\u001b[0m\n\u001b[1;32m      1\u001b[0m \u001b[38;5;66;03m# Test the function above. Try varying the temperature setting with values from 0 to 1.\u001b[39;00m\n\u001b[1;32m      2\u001b[0m \u001b[38;5;66;03m# Run it several times with each setting and see how often the output changes.\u001b[39;00m\n\u001b[0;32m----> 3\u001b[0m sampling_decode(\u001b[38;5;124m\"\u001b[39m\u001b[38;5;124mI love languages.\u001b[39m\u001b[38;5;124m\"\u001b[39m, \u001b[43mmodel\u001b[49m, temperature\u001b[38;5;241m=\u001b[39m\u001b[38;5;241m0.0\u001b[39m, vocab_file\u001b[38;5;241m=\u001b[39mVOCAB_FILE, vocab_dir\u001b[38;5;241m=\u001b[39mVOCAB_DIR)\n",
      "\u001b[0;31mNameError\u001b[0m: name 'model' is not defined"
     ]
    }
   ],
   "source": [
    "# Test the function above. Try varying the temperature setting with values from 0 to 1.\n",
    "# Run it several times with each setting and see how often the output changes.\n",
    "sampling_decode(\"I love languages.\", model, temperature=0.0, vocab_file=VOCAB_FILE, vocab_dir=VOCAB_DIR)"
   ]
  },
  {
   "cell_type": "code",
   "execution_count": 32,
   "id": "4d8c834d",
   "metadata": {},
   "outputs": [
    {
     "ename": "NameError",
     "evalue": "name 'model' is not defined",
     "output_type": "error",
     "traceback": [
      "\u001b[0;31m---------------------------------------------------------------------------\u001b[0m",
      "\u001b[0;31mNameError\u001b[0m                                 Traceback (most recent call last)",
      "Cell \u001b[0;32mIn[31], line 2\u001b[0m\n\u001b[1;32m      1\u001b[0m \u001b[38;5;66;03m# BEGIN UNIT TEST\u001b[39;00m\n\u001b[0;32m----> 2\u001b[0m w1_unittest\u001b[38;5;241m.\u001b[39mtest_sampling_decode(sampling_decode, \u001b[43mmodel\u001b[49m)\n\u001b[1;32m      3\u001b[0m \u001b[38;5;66;03m# END UNIT TEST\u001b[39;00m\n",
      "\u001b[0;31mNameError\u001b[0m: name 'model' is not defined"
     ]
    }
   ],
   "source": [
    "# BEGIN UNIT TEST\n",
    "w1_unittest.test_sampling_decode(sampling_decode, model)\n",
    "# END UNIT TEST"
   ]
  },
  {
   "cell_type": "code",
   "execution_count": 33,
   "id": "38351a5b",
   "metadata": {},
   "outputs": [],
   "source": [
    "def greedy_decode_test(sentence, NMTAttn=None, vocab_file=None, vocab_dir=None):\n",
    "    \"\"\"Prints the input and output of our NMTAttn model using greedy decode\n",
    "\n",
    "    Args:\n",
    "        sentence (str): a custom string.\n",
    "        NMTAttn (tl.Serial): An LSTM sequence-to-sequence model with attention.\n",
    "        vocab_file (str): filename of the vocabulary\n",
    "        vocab_dir (str): path to the vocabulary file\n",
    "\n",
    "    Returns:\n",
    "        str: the translated sentence\n",
    "    \"\"\"\n",
    "    \n",
    "    _,_, translated_sentence = sampling_decode(sentence, NMTAttn, vocab_file=vocab_file, vocab_dir=vocab_dir)\n",
    "    \n",
    "    print(\"English: \", sentence)\n",
    "    print(\"German: \", translated_sentence)\n",
    "    \n",
    "    return translated_sentence"
   ]
  },
  {
   "cell_type": "code",
   "execution_count": 34,
   "id": "6de96df8",
   "metadata": {},
   "outputs": [
    {
     "ename": "NameError",
     "evalue": "name 'model' is not defined",
     "output_type": "error",
     "traceback": [
      "\u001b[0;31m---------------------------------------------------------------------------\u001b[0m",
      "\u001b[0;31mNameError\u001b[0m                                 Traceback (most recent call last)",
      "Cell \u001b[0;32mIn[33], line 4\u001b[0m\n\u001b[1;32m      1\u001b[0m \u001b[38;5;66;03m# put a custom string here\u001b[39;00m\n\u001b[1;32m      2\u001b[0m your_sentence \u001b[38;5;241m=\u001b[39m \u001b[38;5;124m'\u001b[39m\u001b[38;5;124mI love languages.\u001b[39m\u001b[38;5;124m'\u001b[39m\n\u001b[0;32m----> 4\u001b[0m greedy_decode_test(your_sentence, \u001b[43mmodel\u001b[49m, vocab_file\u001b[38;5;241m=\u001b[39mVOCAB_FILE, vocab_dir\u001b[38;5;241m=\u001b[39mVOCAB_DIR);\n",
      "\u001b[0;31mNameError\u001b[0m: name 'model' is not defined"
     ]
    }
   ],
   "source": [
    "# put a custom string here\n",
    "your_sentence = 'I love languages.'\n",
    "\n",
    "greedy_decode_test(your_sentence, model, vocab_file=VOCAB_FILE, vocab_dir=VOCAB_DIR);"
   ]
  },
  {
   "cell_type": "code",
   "execution_count": 35,
   "id": "81a068ee",
   "metadata": {},
   "outputs": [
    {
     "ename": "NameError",
     "evalue": "name 'model' is not defined",
     "output_type": "error",
     "traceback": [
      "\u001b[0;31m---------------------------------------------------------------------------\u001b[0m",
      "\u001b[0;31mNameError\u001b[0m                                 Traceback (most recent call last)",
      "Cell \u001b[0;32mIn[34], line 1\u001b[0m\n\u001b[0;32m----> 1\u001b[0m greedy_decode_test(\u001b[38;5;124m'\u001b[39m\u001b[38;5;124mYou are almost done with the assignment!\u001b[39m\u001b[38;5;124m'\u001b[39m, \u001b[43mmodel\u001b[49m, vocab_file\u001b[38;5;241m=\u001b[39mVOCAB_FILE, vocab_dir\u001b[38;5;241m=\u001b[39mVOCAB_DIR);\n",
      "\u001b[0;31mNameError\u001b[0m: name 'model' is not defined"
     ]
    }
   ],
   "source": [
    "greedy_decode_test('You are almost done with the assignment!', model, vocab_file=VOCAB_FILE, vocab_dir=VOCAB_DIR);"
   ]
  },
  {
   "cell_type": "code",
   "execution_count": 36,
   "id": "9bb225ac",
   "metadata": {},
   "outputs": [],
   "source": [
    "def generate_samples(sentence, n_samples, NMTAttn=None, temperature=0.6, vocab_file=None, vocab_dir=None):\n",
    "    \"\"\"Generates samples using sampling_decode()\n",
    "\n",
    "    Args:\n",
    "        sentence (str): sentence to translate.\n",
    "        n_samples (int): number of samples to generate\n",
    "        NMTAttn (tl.Serial): An LSTM sequence-to-sequence model with attention.\n",
    "        temperature (float): parameter for sampling ranging from 0.0 to 1.0.\n",
    "            0.0: same as argmax, always pick the most probable token\n",
    "            1.0: sampling from the distribution (can sometimes say random things)\n",
    "        vocab_file (str): filename of the vocabulary\n",
    "        vocab_dir (str): path to the vocabulary file\n",
    "        \n",
    "    Returns:\n",
    "        tuple: (list, list)\n",
    "            list of lists: token list per sample\n",
    "            list of floats: log probability per sample\n",
    "    \"\"\"\n",
    "    # define lists to contain samples and probabilities\n",
    "    samples, log_probs = [], []\n",
    "\n",
    "    # run a for loop to generate n samples\n",
    "    for _ in range(n_samples):\n",
    "        \n",
    "        # get a sample using the sampling_decode() function\n",
    "        sample, logp, _ = sampling_decode(sentence, NMTAttn, temperature, vocab_file=vocab_file, vocab_dir=vocab_dir)\n",
    "        \n",
    "        # append the token list to the samples list\n",
    "        samples.append(sample)\n",
    "        \n",
    "        # append the log probability to the log_probs list\n",
    "        log_probs.append(logp)\n",
    "                \n",
    "    return samples, log_probs"
   ]
  },
  {
   "cell_type": "code",
   "execution_count": 37,
   "id": "c71e33f9",
   "metadata": {},
   "outputs": [
    {
     "ename": "NameError",
     "evalue": "name 'model' is not defined",
     "output_type": "error",
     "traceback": [
      "\u001b[0;31m---------------------------------------------------------------------------\u001b[0m",
      "\u001b[0;31mNameError\u001b[0m                                 Traceback (most recent call last)",
      "Cell \u001b[0;32mIn[36], line 2\u001b[0m\n\u001b[1;32m      1\u001b[0m \u001b[38;5;66;03m# generate 4 samples with the default temperature (0.6)\u001b[39;00m\n\u001b[0;32m----> 2\u001b[0m generate_samples(\u001b[38;5;124m'\u001b[39m\u001b[38;5;124mI love languages.\u001b[39m\u001b[38;5;124m'\u001b[39m, \u001b[38;5;241m4\u001b[39m, \u001b[43mmodel\u001b[49m, vocab_file\u001b[38;5;241m=\u001b[39mVOCAB_FILE, vocab_dir\u001b[38;5;241m=\u001b[39mVOCAB_DIR)\n",
      "\u001b[0;31mNameError\u001b[0m: name 'model' is not defined"
     ]
    }
   ],
   "source": [
    "# generate 4 samples with the default temperature (0.6)\n",
    "generate_samples('I love languages.', 4, model, vocab_file=VOCAB_FILE, vocab_dir=VOCAB_DIR)"
   ]
  },
  {
   "cell_type": "code",
   "execution_count": 38,
   "id": "8f162f55",
   "metadata": {},
   "outputs": [],
   "source": [
    "def jaccard_similarity(candidate, reference):\n",
    "    \"\"\"Returns the Jaccard similarity between two token lists\n",
    "\n",
    "    Args:\n",
    "        candidate (list of int): tokenized version of the candidate translation\n",
    "        reference (list of int): tokenized version of the reference translation\n",
    "\n",
    "    Returns:\n",
    "        float: overlap between the two token lists\n",
    "    \"\"\"\n",
    "    \n",
    "    # convert the lists to a set to get the unique tokens\n",
    "    can_unigram_set, ref_unigram_set = set(candidate), set(reference)  \n",
    "    \n",
    "    # get the set of tokens common to both candidate and reference\n",
    "    joint_elems = can_unigram_set.intersection(ref_unigram_set)\n",
    "    \n",
    "    # get the set of all tokens found in either candidate or reference\n",
    "    all_elems = can_unigram_set.union(ref_unigram_set)\n",
    "    \n",
    "    # divide the number of joint elements by the number of all elements\n",
    "    overlap = len(joint_elems) / len(all_elems)\n",
    "    \n",
    "    return overlap"
   ]
  },
  {
   "cell_type": "code",
   "execution_count": 39,
   "id": "5beb14e2",
   "metadata": {},
   "outputs": [
    {
     "data": {
      "text/plain": [
       "0.75"
      ]
     },
     "execution_count": 38,
     "metadata": {},
     "output_type": "execute_result"
    }
   ],
   "source": [
    "# let's try using the function. remember the result here and compare with the next function below.\n",
    "jaccard_similarity([1, 2, 3], [1, 2, 3, 4])"
   ]
  },
  {
   "cell_type": "code",
   "execution_count": 40,
   "id": "384e928e",
   "metadata": {},
   "outputs": [],
   "source": [
    "# UNQ_C8\n",
    "# GRADED FUNCTION\n",
    "\n",
    "# for making a frequency table easily\n",
    "from collections import Counter\n",
    "\n",
    "def rouge1_similarity(system, reference):\n",
    "    \"\"\"Returns the ROUGE-1 score between two token lists\n",
    "\n",
    "    Args:\n",
    "        system (list of int): tokenized version of the system translation\n",
    "        reference (list of int): tokenized version of the reference translation\n",
    "\n",
    "    Returns:\n",
    "        float: overlap between the two token lists\n",
    "    \"\"\"    \n",
    "    \n",
    "    ### START CODE HERE (REPLACE INSTANCES OF `None` WITH YOUR CODE) ###\n",
    "    \n",
    "    # make a frequency table of the system tokens (hint: use the Counter class)\n",
    "    sys_counter = None\n",
    "    \n",
    "    # make a frequency table of the reference tokens (hint: use the Counter class)\n",
    "    ref_counter = None\n",
    "    \n",
    "    # initialize overlap to 0\n",
    "    overlap = None\n",
    "    \n",
    "    # run a for loop over the sys_counter object (can be treated as a dictionary)\n",
    "    for token in sys_counter:\n",
    "        \n",
    "        # lookup the value of the token in the sys_counter dictionary (hint: use the get() method)\n",
    "        token_count_sys = None\n",
    "        \n",
    "        # lookup the value of the token in the ref_counter dictionary (hint: use the get() method)\n",
    "        token_count_ref = None\n",
    "        \n",
    "        # update the overlap by getting the smaller number between the two token counts above\n",
    "        overlap += None\n",
    "    \n",
    "    # get the precision (i.e. number of overlapping tokens / number of system tokens)\n",
    "    precision = None\n",
    "    \n",
    "    # get the recall (i.e. number of overlapping tokens / number of reference tokens)\n",
    "    recall = None\n",
    "    \n",
    "    if precision + recall != 0:\n",
    "        # compute the f1-score\n",
    "        rouge1_score = None\n",
    "    else:\n",
    "        rouge1_score = 0 \n",
    "    ### END CODE HERE ###\n",
    "    \n",
    "    return rouge1_score\n"
   ]
  },
  {
   "cell_type": "code",
   "execution_count": 41,
   "id": "c29608ae",
   "metadata": {},
   "outputs": [
    {
     "ename": "TypeError",
     "evalue": "'NoneType' object is not iterable",
     "output_type": "error",
     "traceback": [
      "\u001b[0;31m---------------------------------------------------------------------------\u001b[0m",
      "\u001b[0;31mTypeError\u001b[0m                                 Traceback (most recent call last)",
      "Cell \u001b[0;32mIn[40], line 2\u001b[0m\n\u001b[1;32m      1\u001b[0m \u001b[38;5;66;03m# notice that this produces a different value from the jaccard similarity earlier\u001b[39;00m\n\u001b[0;32m----> 2\u001b[0m \u001b[43mrouge1_similarity\u001b[49m\u001b[43m(\u001b[49m\u001b[43m[\u001b[49m\u001b[38;5;241;43m1\u001b[39;49m\u001b[43m,\u001b[49m\u001b[43m \u001b[49m\u001b[38;5;241;43m2\u001b[39;49m\u001b[43m,\u001b[49m\u001b[43m \u001b[49m\u001b[38;5;241;43m3\u001b[39;49m\u001b[43m]\u001b[49m\u001b[43m,\u001b[49m\u001b[43m \u001b[49m\u001b[43m[\u001b[49m\u001b[38;5;241;43m1\u001b[39;49m\u001b[43m,\u001b[49m\u001b[43m \u001b[49m\u001b[38;5;241;43m2\u001b[39;49m\u001b[43m,\u001b[49m\u001b[43m \u001b[49m\u001b[38;5;241;43m3\u001b[39;49m\u001b[43m,\u001b[49m\u001b[43m \u001b[49m\u001b[38;5;241;43m4\u001b[39;49m\u001b[43m]\u001b[49m\u001b[43m)\u001b[49m\n",
      "Cell \u001b[0;32mIn[39], line 30\u001b[0m, in \u001b[0;36mrouge1_similarity\u001b[0;34m(system, reference)\u001b[0m\n\u001b[1;32m     27\u001b[0m overlap \u001b[38;5;241m=\u001b[39m \u001b[38;5;28;01mNone\u001b[39;00m\n\u001b[1;32m     29\u001b[0m \u001b[38;5;66;03m# run a for loop over the sys_counter object (can be treated as a dictionary)\u001b[39;00m\n\u001b[0;32m---> 30\u001b[0m \u001b[38;5;28;01mfor\u001b[39;00m token \u001b[38;5;129;01min\u001b[39;00m sys_counter:\n\u001b[1;32m     31\u001b[0m     \n\u001b[1;32m     32\u001b[0m     \u001b[38;5;66;03m# lookup the value of the token in the sys_counter dictionary (hint: use the get() method)\u001b[39;00m\n\u001b[1;32m     33\u001b[0m     token_count_sys \u001b[38;5;241m=\u001b[39m \u001b[38;5;28;01mNone\u001b[39;00m\n\u001b[1;32m     35\u001b[0m     \u001b[38;5;66;03m# lookup the value of the token in the ref_counter dictionary (hint: use the get() method)\u001b[39;00m\n",
      "\u001b[0;31mTypeError\u001b[0m: 'NoneType' object is not iterable"
     ]
    }
   ],
   "source": [
    "# notice that this produces a different value from the jaccard similarity earlier\n",
    "rouge1_similarity([1, 2, 3], [1, 2, 3, 4])"
   ]
  },
  {
   "cell_type": "code",
   "execution_count": 42,
   "id": "0a99a594",
   "metadata": {},
   "outputs": [
    {
     "name": "stdout",
     "output_type": "stream",
     "text": [
      "Expected similarity: 0.8571428571428571\n",
      "Expected similarity: 0.5\n",
      "Expected similarity: 0\n",
      "Expected similarity: 0.5\n",
      "\u001b[92m 0  Tests passed\n",
      "\u001b[91m 4  Tests failed\n"
     ]
    }
   ],
   "source": [
    "# BEGIN UNIT TEST\n",
    "w1_unittest.test_rouge1_similarity(rouge1_similarity)\n",
    "# END UNIT TEST"
   ]
  },
  {
   "cell_type": "code",
   "execution_count": 43,
   "id": "1aeb480b",
   "metadata": {},
   "outputs": [],
   "source": [
    "# UNQ_C9\n",
    "# GRADED FUNCTION\n",
    "def average_overlap(similarity_fn, samples, *ignore_params):\n",
    "    \"\"\"Returns the arithmetic mean of each candidate sentence in the samples\n",
    "\n",
    "    Args:\n",
    "        similarity_fn (function): similarity function used to compute the overlap\n",
    "        samples (list of lists): tokenized version of the translated sentences\n",
    "        *ignore_params: additional parameters will be ignored\n",
    "\n",
    "    Returns:\n",
    "        dict: scores of each sample\n",
    "            key: index of the sample\n",
    "            value: score of the sample\n",
    "    \"\"\"  \n",
    "    \n",
    "    # initialize dictionary\n",
    "    scores = {}\n",
    "    \n",
    "    # run a for loop for each sample\n",
    "    for index_candidate, candidate in enumerate(samples):    \n",
    "        \n",
    "        ### START CODE HERE (REPLACE INSTANCES OF `None` WITH YOUR CODE) ###\n",
    "        \n",
    "        # initialize overlap to 0.0\n",
    "        overlap = None\n",
    "        \n",
    "        # run a for loop for each sample\n",
    "        for index_sample, sample in enumerate(samples): \n",
    "\n",
    "            # skip if the candidate index is the same as the sample index\n",
    "            if index_candidate == index_sample:\n",
    "                continue\n",
    "                \n",
    "            # get the overlap between candidate and sample using the similarity function\n",
    "            sample_overlap = None\n",
    "            \n",
    "            # add the sample overlap to the total overlap\n",
    "            overlap += None\n",
    "            \n",
    "        # get the score for the candidate by computing the average\n",
    "        score = None\n",
    "        \n",
    "        # save the score in the dictionary. use index as the key.\n",
    "        scores[index_candidate] = None\n",
    "        \n",
    "        ### END CODE HERE ###\n",
    "    return scores"
   ]
  },
  {
   "cell_type": "code",
   "execution_count": 44,
   "id": "fde7e935",
   "metadata": {},
   "outputs": [
    {
     "ename": "TypeError",
     "evalue": "unsupported operand type(s) for +=: 'NoneType' and 'NoneType'",
     "output_type": "error",
     "traceback": [
      "\u001b[0;31m---------------------------------------------------------------------------\u001b[0m",
      "\u001b[0;31mTypeError\u001b[0m                                 Traceback (most recent call last)",
      "Cell \u001b[0;32mIn[43], line 1\u001b[0m\n\u001b[0;32m----> 1\u001b[0m \u001b[43maverage_overlap\u001b[49m\u001b[43m(\u001b[49m\u001b[43mjaccard_similarity\u001b[49m\u001b[43m,\u001b[49m\u001b[43m \u001b[49m\u001b[43m[\u001b[49m\u001b[43m[\u001b[49m\u001b[38;5;241;43m1\u001b[39;49m\u001b[43m,\u001b[49m\u001b[43m \u001b[49m\u001b[38;5;241;43m2\u001b[39;49m\u001b[43m,\u001b[49m\u001b[43m \u001b[49m\u001b[38;5;241;43m3\u001b[39;49m\u001b[43m]\u001b[49m\u001b[43m,\u001b[49m\u001b[43m \u001b[49m\u001b[43m[\u001b[49m\u001b[38;5;241;43m1\u001b[39;49m\u001b[43m,\u001b[49m\u001b[43m \u001b[49m\u001b[38;5;241;43m2\u001b[39;49m\u001b[43m,\u001b[49m\u001b[43m \u001b[49m\u001b[38;5;241;43m4\u001b[39;49m\u001b[43m]\u001b[49m\u001b[43m,\u001b[49m\u001b[43m \u001b[49m\u001b[43m[\u001b[49m\u001b[38;5;241;43m1\u001b[39;49m\u001b[43m,\u001b[49m\u001b[43m \u001b[49m\u001b[38;5;241;43m2\u001b[39;49m\u001b[43m,\u001b[49m\u001b[43m \u001b[49m\u001b[38;5;241;43m4\u001b[39;49m\u001b[43m,\u001b[49m\u001b[43m \u001b[49m\u001b[38;5;241;43m5\u001b[39;49m\u001b[43m]\u001b[49m\u001b[43m]\u001b[49m\u001b[43m,\u001b[49m\u001b[43m \u001b[49m\u001b[43m[\u001b[49m\u001b[38;5;241;43m0.4\u001b[39;49m\u001b[43m,\u001b[49m\u001b[43m \u001b[49m\u001b[38;5;241;43m0.2\u001b[39;49m\u001b[43m,\u001b[49m\u001b[43m \u001b[49m\u001b[38;5;241;43m0.5\u001b[39;49m\u001b[43m]\u001b[49m\u001b[43m)\u001b[49m\n",
      "Cell \u001b[0;32mIn[42], line 39\u001b[0m, in \u001b[0;36maverage_overlap\u001b[0;34m(similarity_fn, samples, *ignore_params)\u001b[0m\n\u001b[1;32m     36\u001b[0m     sample_overlap \u001b[38;5;241m=\u001b[39m \u001b[38;5;28;01mNone\u001b[39;00m\n\u001b[1;32m     38\u001b[0m     \u001b[38;5;66;03m# add the sample overlap to the total overlap\u001b[39;00m\n\u001b[0;32m---> 39\u001b[0m     overlap \u001b[38;5;241m+\u001b[39m\u001b[38;5;241m=\u001b[39m \u001b[38;5;28;01mNone\u001b[39;00m\n\u001b[1;32m     41\u001b[0m \u001b[38;5;66;03m# get the score for the candidate by computing the average\u001b[39;00m\n\u001b[1;32m     42\u001b[0m score \u001b[38;5;241m=\u001b[39m \u001b[38;5;28;01mNone\u001b[39;00m\n",
      "\u001b[0;31mTypeError\u001b[0m: unsupported operand type(s) for +=: 'NoneType' and 'NoneType'"
     ]
    }
   ],
   "source": [
    "average_overlap(jaccard_similarity, [[1, 2, 3], [1, 2, 4], [1, 2, 4, 5]], [0.4, 0.2, 0.5])"
   ]
  },
  {
   "cell_type": "code",
   "execution_count": 45,
   "id": "5efcaf8c",
   "metadata": {},
   "outputs": [
    {
     "name": "stdout",
     "output_type": "stream",
     "text": [
      "Expected output does not match\n",
      "Expected output does not match\n",
      "\u001b[92m 0  Tests passed\n",
      "\u001b[91m 2  Tests failed\n"
     ]
    }
   ],
   "source": [
    "# BEGIN UNIT TEST\n",
    "w1_unittest.test_average_overlap(average_overlap)\n",
    "# END UNIT TEST"
   ]
  },
  {
   "cell_type": "code",
   "execution_count": 46,
   "id": "30bb2ead",
   "metadata": {},
   "outputs": [],
   "source": [
    "def weighted_avg_overlap(similarity_fn, samples, log_probs):\n",
    "    \"\"\"Returns the weighted mean of each candidate sentence in the samples\n",
    "\n",
    "    Args:\n",
    "        samples (list of lists): tokenized version of the translated sentences\n",
    "        log_probs (list of float): log probability of the translated sentences\n",
    "\n",
    "    Returns:\n",
    "        dict: scores of each sample\n",
    "            key: index of the sample\n",
    "            value: score of the sample\n",
    "    \"\"\"\n",
    "    \n",
    "    # initialize dictionary\n",
    "    scores = {}\n",
    "    \n",
    "    # run a for loop for each sample\n",
    "    for index_candidate, candidate in enumerate(samples):    \n",
    "        \n",
    "        # initialize overlap and weighted sum\n",
    "        overlap, weight_sum = 0.0, 0.0\n",
    "        \n",
    "        # run a for loop for each sample\n",
    "        for index_sample, (sample, logp) in enumerate(zip(samples, log_probs)):\n",
    "\n",
    "            # skip if the candidate index is the same as the sample index            \n",
    "            if index_candidate == index_sample:\n",
    "                continue\n",
    "                \n",
    "            # convert log probability to linear scale\n",
    "            sample_p = float(np.exp(logp))\n",
    "\n",
    "            # update the weighted sum\n",
    "            weight_sum += sample_p\n",
    "\n",
    "            # get the unigram overlap between candidate and sample\n",
    "            sample_overlap = similarity_fn(candidate, sample)\n",
    "            \n",
    "            # update the overlap\n",
    "            overlap += sample_p * sample_overlap\n",
    "            \n",
    "        # get the score for the candidate\n",
    "        score = overlap / weight_sum\n",
    "        \n",
    "        # save the score in the dictionary. use index as the key.\n",
    "        scores[index_candidate] = score\n",
    "    \n",
    "    return scores"
   ]
  },
  {
   "cell_type": "code",
   "execution_count": 47,
   "id": "b8ba7289",
   "metadata": {},
   "outputs": [
    {
     "data": {
      "text/plain": [
       "{0: 0.44255574831883415, 1: 0.631244796869735, 2: 0.5575581009406329}"
      ]
     },
     "execution_count": 46,
     "metadata": {},
     "output_type": "execute_result"
    }
   ],
   "source": [
    "weighted_avg_overlap(jaccard_similarity, [[1, 2, 3], [1, 2, 4], [1, 2, 4, 5]], [0.4, 0.2, 0.5])"
   ]
  },
  {
   "cell_type": "code",
   "execution_count": 48,
   "id": "478b60fc",
   "metadata": {},
   "outputs": [],
   "source": [
    "# UNQ_C10\n",
    "# GRADED FUNCTION\n",
    "def mbr_decode(sentence, n_samples, score_fn, similarity_fn, NMTAttn=None, temperature=0.6, vocab_file=None, vocab_dir=None):\n",
    "    \"\"\"Returns the translated sentence using Minimum Bayes Risk decoding\n",
    "\n",
    "    Args:\n",
    "        sentence (str): sentence to translate.\n",
    "        n_samples (int): number of samples to generate\n",
    "        score_fn (function): function that generates the score for each sample\n",
    "        similarity_fn (function): function used to compute the overlap between a pair of samples\n",
    "        NMTAttn (tl.Serial): An LSTM sequence-to-sequence model with attention.\n",
    "        temperature (float): parameter for sampling ranging from 0.0 to 1.0.\n",
    "            0.0: same as argmax, always pick the most probable token\n",
    "            1.0: sampling from the distribution (can sometimes say random things)\n",
    "        vocab_file (str): filename of the vocabulary\n",
    "        vocab_dir (str): path to the vocabulary file\n",
    "\n",
    "    Returns:\n",
    "        str: the translated sentence\n",
    "    \"\"\"\n",
    "    \n",
    "    ### START CODE HERE (REPLACE INSTANCES OF `None` WITH YOUR CODE) ###\n",
    "    # generate samples\n",
    "    samples, log_probs = None\n",
    "    \n",
    "    # use the scoring function to get a dictionary of scores\n",
    "    # pass in the relevant parameters as shown in the function definition of \n",
    "    # the mean methods you developed earlier\n",
    "    scores = None\n",
    "    \n",
    "    # find the key with the highest score\n",
    "    max_index = None\n",
    "    \n",
    "    # detokenize the token list associated with the max_index\n",
    "    translated_sentence = None\n",
    "    \n",
    "    ### END CODE HERE ###\n",
    "    return (translated_sentence, max_index, scores)"
   ]
  },
  {
   "cell_type": "code",
   "execution_count": 49,
   "id": "1663a799",
   "metadata": {},
   "outputs": [],
   "source": [
    "TEMPERATURE = 1.0\n",
    "\n",
    "# put a custom string here\n",
    "your_sentence = 'She speaks English and German.'"
   ]
  },
  {
   "cell_type": "code",
   "execution_count": 50,
   "id": "de549acd",
   "metadata": {},
   "outputs": [
    {
     "ename": "NameError",
     "evalue": "name 'model' is not defined",
     "output_type": "error",
     "traceback": [
      "\u001b[0;31m---------------------------------------------------------------------------\u001b[0m",
      "\u001b[0;31mNameError\u001b[0m                                 Traceback (most recent call last)",
      "Cell \u001b[0;32mIn[49], line 1\u001b[0m\n\u001b[0;32m----> 1\u001b[0m mbr_decode(your_sentence, \u001b[38;5;241m4\u001b[39m, weighted_avg_overlap, jaccard_similarity, \u001b[43mmodel\u001b[49m, TEMPERATURE, vocab_file\u001b[38;5;241m=\u001b[39mVOCAB_FILE, vocab_dir\u001b[38;5;241m=\u001b[39mVOCAB_DIR)[\u001b[38;5;241m0\u001b[39m]\n",
      "\u001b[0;31mNameError\u001b[0m: name 'model' is not defined"
     ]
    }
   ],
   "source": [
    "mbr_decode(your_sentence, 4, weighted_avg_overlap, jaccard_similarity, model, TEMPERATURE, vocab_file=VOCAB_FILE, vocab_dir=VOCAB_DIR)[0]"
   ]
  },
  {
   "cell_type": "code",
   "execution_count": 51,
   "id": "3b4351fd",
   "metadata": {},
   "outputs": [
    {
     "ename": "NameError",
     "evalue": "name 'model' is not defined",
     "output_type": "error",
     "traceback": [
      "\u001b[0;31m---------------------------------------------------------------------------\u001b[0m",
      "\u001b[0;31mNameError\u001b[0m                                 Traceback (most recent call last)",
      "Cell \u001b[0;32mIn[50], line 1\u001b[0m\n\u001b[0;32m----> 1\u001b[0m mbr_decode(\u001b[38;5;124m'\u001b[39m\u001b[38;5;124mCongratulations!\u001b[39m\u001b[38;5;124m'\u001b[39m, \u001b[38;5;241m4\u001b[39m, average_overlap, rouge1_similarity, \u001b[43mmodel\u001b[49m, TEMPERATURE, vocab_file\u001b[38;5;241m=\u001b[39mVOCAB_FILE, vocab_dir\u001b[38;5;241m=\u001b[39mVOCAB_DIR)[\u001b[38;5;241m0\u001b[39m]\n",
      "\u001b[0;31mNameError\u001b[0m: name 'model' is not defined"
     ]
    }
   ],
   "source": [
    "mbr_decode('Congratulations!', 4, average_overlap, rouge1_similarity, model, TEMPERATURE, vocab_file=VOCAB_FILE, vocab_dir=VOCAB_DIR)[0]"
   ]
  },
  {
   "cell_type": "code",
   "execution_count": 52,
   "id": "109a5610",
   "metadata": {},
   "outputs": [
    {
     "ename": "NameError",
     "evalue": "name 'model' is not defined",
     "output_type": "error",
     "traceback": [
      "\u001b[0;31m---------------------------------------------------------------------------\u001b[0m",
      "\u001b[0;31mNameError\u001b[0m                                 Traceback (most recent call last)",
      "Cell \u001b[0;32mIn[51], line 1\u001b[0m\n\u001b[0;32m----> 1\u001b[0m mbr_decode(\u001b[38;5;124m'\u001b[39m\u001b[38;5;124mYou have completed the assignment!\u001b[39m\u001b[38;5;124m'\u001b[39m, \u001b[38;5;241m4\u001b[39m, average_overlap, rouge1_similarity, \u001b[43mmodel\u001b[49m, TEMPERATURE, vocab_file\u001b[38;5;241m=\u001b[39mVOCAB_FILE, vocab_dir\u001b[38;5;241m=\u001b[39mVOCAB_DIR)[\u001b[38;5;241m0\u001b[39m]\n",
      "\u001b[0;31mNameError\u001b[0m: name 'model' is not defined"
     ]
    }
   ],
   "source": [
    "mbr_decode('You have completed the assignment!', 4, average_overlap, rouge1_similarity, model, TEMPERATURE, vocab_file=VOCAB_FILE, vocab_dir=VOCAB_DIR)[0]"
   ]
  },
  {
   "cell_type": "code",
   "execution_count": 53,
   "id": "ab71196f",
   "metadata": {},
   "outputs": [
    {
     "ename": "NameError",
     "evalue": "name 'model' is not defined",
     "output_type": "error",
     "traceback": [
      "\u001b[0;31m---------------------------------------------------------------------------\u001b[0m",
      "\u001b[0;31mNameError\u001b[0m                                 Traceback (most recent call last)",
      "Cell \u001b[0;32mIn[52], line 2\u001b[0m\n\u001b[1;32m      1\u001b[0m \u001b[38;5;66;03m# BEGIN UNIT TEST\u001b[39;00m\n\u001b[0;32m----> 2\u001b[0m w1_unittest\u001b[38;5;241m.\u001b[39mtest_mbr_decode(mbr_decode, \u001b[43mmodel\u001b[49m)\n\u001b[1;32m      3\u001b[0m \u001b[38;5;66;03m# END UNIT TEST\u001b[39;00m\n",
      "\u001b[0;31mNameError\u001b[0m: name 'model' is not defined"
     ]
    }
   ],
   "source": [
    "# BEGIN UNIT TEST\n",
    "w1_unittest.test_mbr_decode(mbr_decode, model)\n",
    "# END UNIT TEST"
   ]
  }
 ],
 "metadata": {
  "kernelspec": {
   "display_name": "Python 3 (ipykernel)",
   "language": "python",
   "name": "python3",
   "path": "/home/oren/.local/share/jupyter/kernels/python3"
  },
  "language_info": {
   "codemirror_mode": {
    "name": "ipython",
    "version": 3
   },
   "file_extension": ".py",
   "mimetype": "text/x-python",
   "name": "python",
   "nbconvert_exporter": "python",
   "pygments_lexer": "ipython3",
   "version": "3.10.12"
  }
 },
 "nbformat": 4,
 "nbformat_minor": 5
}