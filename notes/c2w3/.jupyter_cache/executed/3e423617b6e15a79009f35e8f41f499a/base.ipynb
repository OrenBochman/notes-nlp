{
 "cells": [
  {
   "cell_type": "code",
   "execution_count": 1,
   "id": "a82df66d",
   "metadata": {},
   "outputs": [
    {
     "name": "stderr",
     "output_type": "stream",
     "text": [
      "/tmp/ipykernel_203822/3493740555.py:25: DeprecationWarning: `set_matplotlib_formats` is deprecated since IPython 7.23, directly use `matplotlib_inline.backend_inline.set_matplotlib_formats()`\n",
      "  set_matplotlib_formats(fig_format)\n"
     ]
    },
    {
     "name": "stdout",
     "output_type": "stream",
     "text": [
      "{\"/usr/lib/python3.10/importlib/_bootstrap.py\": 1737124534.0, \"/usr/lib/python3.10/importlib/_bootstrap_external.py\": 1737124534.0, \"/usr/lib/python3.10/codecs.py\": 1737124534.0, \"/usr/lib/python3.10/encodings/aliases.py\": 1737124534.0, \"/usr/lib/python3.10/encodings/__init__.py\": 1737124534.0, \"/usr/lib/python3.10/encodings/utf_8.py\": 1737124534.0, \"/usr/lib/python3.10/abc.py\": 1737124534.0, \"/usr/lib/python3.10/io.py\": 1737124534.0, \"/usr/lib/python3.10/stat.py\": 1737124534.0, \"/usr/lib/python3.10/_collections_abc.py\": 1737124534.0, \"/usr/lib/python3.10/genericpath.py\": 1737124534.0, \"/usr/lib/python3.10/posixpath.py\": 1737124534.0, \"/usr/lib/python3.10/os.py\": 1737124534.0, \"/usr/lib/python3.10/_sitebuiltins.py\": 1737124534.0, \"/usr/lib/python3.10/types.py\": 1737124534.0, \"/usr/lib/python3.10/warnings.py\": 1737124534.0, \"/usr/lib/python3.10/importlib/__init__.py\": 1737124534.0, \"/usr/lib/python3.10/importlib/_abc.py\": 1737124534.0, \"/usr/lib/python3.10/keyword.py\": 1737124534.0, \"/usr/lib/python3.10/operator.py\": 1737124534.0, \"/usr/lib/python3.10/reprlib.py\": 1737124534.0, \"/usr/lib/python3.10/collections/__init__.py\": 1737124534.0, \"/usr/lib/python3.10/functools.py\": 1737124534.0, \"/usr/lib/python3.10/contextlib.py\": 1737124534.0, \"/usr/lib/python3.10/importlib/util.py\": 1737124534.0, \"/usr/lib/python3.10/importlib/machinery.py\": 1737124534.0, \"/usr/lib/python3.10/sitecustomize.py\": 1648890259.0, \"/usr/lib/python3.10/site.py\": 1737124534.0, \"/usr/lib/python3.10/runpy.py\": 1737124534.0, \"/usr/lib/python3.10/enum.py\": 1737124534.0, \"/usr/lib/python3.10/sre_constants.py\": 1737124534.0, \"/usr/lib/python3.10/sre_parse.py\": 1737124534.0, \"/usr/lib/python3.10/sre_compile.py\": 1737124534.0, \"/usr/lib/python3.10/copyreg.py\": 1737124534.0, \"/usr/lib/python3.10/re.py\": 1737124534.0, \"/usr/lib/python3.10/fnmatch.py\": 1737124534.0, \"/usr/lib/python3.10/ntpath.py\": 1737124534.0, \"/usr/lib/python3.10/urllib/__init__.py\": 1737124534.0, \"/usr/lib/python3.10/ipaddress.py\": 1737124534.0, \"/usr/lib/python3.10/urllib/parse.py\": 1737124534.0, \"/usr/lib/python3.10/pathlib.py\": 1737124534.0, \"/usr/lib/python3.10/collections/abc.py\": 1737124534.0, \"/usr/lib/python3.10/typing.py\": 1737124534.0, \"/home/oren/work/notes/notes-nlp/.venv/lib/python3.10/site-packages/ipykernel/_version.py\": 1738211119.9207983, \"/usr/lib/python3.10/__future__.py\": 1737124534.0, \"/usr/lib/python3.10/lib-dynload/_json.cpython-310-x86_64-linux-gnu.so\": 1737124534.0, \"/usr/lib/python3.10/json/scanner.py\": 1737124534.0, \"/usr/lib/python3.10/json/decoder.py\": 1737124534.0, \"/usr/lib/python3.10/json/encoder.py\": 1737124534.0, \"/usr/lib/python3.10/json/__init__.py\": 1737124534.0, \"/usr/lib/python3.10/signal.py\": 1737124534.0, \"/usr/lib/python3.10/_weakrefset.py\": 1737124534.0, \"/usr/lib/python3.10/threading.py\": 1737124534.0, \"/usr/lib/python3.10/selectors.py\": 1737124534.0, \"/usr/lib/python3.10/subprocess.py\": 1737124534.0, \"/home/oren/work/notes/notes-nlp/.venv/lib/python3.10/site-packages/jupyter_client/_version.py\": 1738211114.6098826, \"/usr/lib/python3.10/platform.py\": 1737124534.0, \"/home/oren/work/notes/notes-nlp/.venv/lib/python3.10/site-packages/zmq/backend/select.py\": 1738206368.5046568, \"/usr/lib/python3.10/weakref.py\": 1737124534.0, \"/home/oren/work/notes/notes-nlp/.venv/lib/python3.10/site-packages/zmq/constants.py\": 1738206368.5006568, \"/home/oren/work/notes/notes-nlp/.venv/lib/python3.10/site-packages/zmq/error.py\": 1738206368.499657, \"/home/oren/work/notes/notes-nlp/.venv/lib/python3.10/site-packages/zmq/backend/cython/_zmq.cpython-310-x86_64-linux-gnu.so\": 1738206368.506657, \"/home/oren/work/notes/notes-nlp/.venv/lib/python3.10/site-packages/zmq/backend/cython/__init__.py\": 1738206368.5076568, \"/home/oren/work/notes/notes-nlp/.venv/lib/python3.10/site-packages/zmq/backend/__init__.py\": 1738206368.5046568, \"/home/oren/work/notes/notes-nlp/.venv/lib/python3.10/site-packages/zmq/_typing.py\": 1738206368.5006568, \"/home/oren/work/notes/notes-nlp/.venv/lib/python3.10/site-packages/zmq/utils/__init__.py\": 1738206368.502657, \"/home/oren/work/notes/notes-nlp/.venv/lib/python3.10/site-packages/zmq/utils/interop.py\": 1738206368.502657, \"/home/oren/work/notes/notes-nlp/.venv/lib/python3.10/site-packages/zmq/sugar/attrsettr.py\": 1738206368.502657, \"/usr/lib/python3.10/struct.py\": 1737124534.0, \"/usr/lib/python3.10/_compat_pickle.py\": 1737124534.0, \"/usr/lib/python3.10/pickle.py\": 1737124534.0, \"/usr/lib/python3.10/bisect.py\": 1737124534.0, \"/usr/lib/python3.10/random.py\": 1737124534.0, \"/home/oren/work/notes/notes-nlp/.venv/lib/python3.10/site-packages/zmq/utils/jsonapi.py\": 1738206368.5036569, \"/home/oren/work/notes/notes-nlp/.venv/lib/python3.10/site-packages/zmq/sugar/poll.py\": 1738206368.5016568, \"/home/oren/work/notes/notes-nlp/.venv/lib/python3.10/site-packages/zmq/sugar/socket.py\": 1738206368.5016568, \"/home/oren/work/notes/notes-nlp/.venv/lib/python3.10/site-packages/zmq/sugar/context.py\": 1738206368.5016568, \"/home/oren/work/notes/notes-nlp/.venv/lib/python3.10/site-packages/zmq/sugar/frame.py\": 1738206368.5016568, \"/home/oren/work/notes/notes-nlp/.venv/lib/python3.10/site-packages/zmq/sugar/tracker.py\": 1738206368.5016568, \"/home/oren/work/notes/notes-nlp/.venv/lib/python3.10/site-packages/zmq/sugar/version.py\": 1738206368.502657, \"/home/oren/work/notes/notes-nlp/.venv/lib/python3.10/site-packages/zmq/sugar/stopwatch.py\": 1738206368.5016568, \"/home/oren/work/notes/notes-nlp/.venv/lib/python3.10/site-packages/zmq/sugar/__init__.py\": 1738206368.502657, \"/home/oren/work/notes/notes-nlp/.venv/lib/python3.10/site-packages/zmq/__init__.py\": 1738206368.5006568, \"/usr/lib/python3.10/concurrent/__init__.py\": 1737124534.0, \"/usr/lib/python3.10/token.py\": 1737124534.0, \"/usr/lib/python3.10/tokenize.py\": 1737124534.0, \"/usr/lib/python3.10/linecache.py\": 1737124534.0, \"/usr/lib/python3.10/traceback.py\": 1737124534.0, \"/usr/lib/python3.10/string.py\": 1737124534.0, \"/usr/lib/python3.10/logging/__init__.py\": 1737124534.0, \"/usr/lib/python3.10/concurrent/futures/_base.py\": 1737124534.0, \"/usr/lib/python3.10/concurrent/futures/__init__.py\": 1737124534.0, \"/usr/lib/python3.10/heapq.py\": 1737124534.0, \"/usr/lib/python3.10/socket.py\": 1737124534.0, \"/usr/lib/python3.10/lib-dynload/_ssl.cpython-310-x86_64-linux-gnu.so\": 1737124534.0, \"/usr/lib/python3.10/base64.py\": 1737124534.0, \"/usr/lib/python3.10/ssl.py\": 1737124534.0, \"/usr/lib/python3.10/asyncio/constants.py\": 1737124534.0, \"/usr/lib/python3.10/ast.py\": 1737124534.0, \"/usr/lib/python3.10/lib-dynload/_opcode.cpython-310-x86_64-linux-gnu.so\": 1737124534.0, \"/usr/lib/python3.10/opcode.py\": 1737124534.0, \"/usr/lib/python3.10/dis.py\": 1737124534.0, \"/usr/lib/python3.10/inspect.py\": 1737124534.0, \"/usr/lib/python3.10/asyncio/format_helpers.py\": 1737124534.0, \"/usr/lib/python3.10/asyncio/base_futures.py\": 1737124534.0, \"/usr/lib/python3.10/asyncio/log.py\": 1737124534.0, \"/usr/lib/python3.10/asyncio/coroutines.py\": 1737124534.0, \"/usr/lib/python3.10/lib-dynload/_contextvars.cpython-310-x86_64-linux-gnu.so\": 1737124534.0, \"/usr/lib/python3.10/contextvars.py\": 1737124534.0, \"/usr/lib/python3.10/asyncio/exceptions.py\": 1737124534.0, \"/usr/lib/python3.10/asyncio/base_tasks.py\": 1737124534.0, \"/usr/lib/python3.10/lib-dynload/_asyncio.cpython-310-x86_64-linux-gnu.so\": 1737124534.0, \"/usr/lib/python3.10/asyncio/events.py\": 1737124534.0, \"/usr/lib/python3.10/asyncio/futures.py\": 1737124534.0, \"/usr/lib/python3.10/asyncio/protocols.py\": 1737124534.0, \"/usr/lib/python3.10/asyncio/transports.py\": 1737124534.0, \"/usr/lib/python3.10/asyncio/sslproto.py\": 1737124534.0, \"/usr/lib/python3.10/asyncio/mixins.py\": 1737124534.0, \"/usr/lib/python3.10/asyncio/tasks.py\": 1737124534.0, \"/usr/lib/python3.10/asyncio/locks.py\": 1737124534.0, \"/usr/lib/python3.10/asyncio/staggered.py\": 1737124534.0, \"/usr/lib/python3.10/asyncio/trsock.py\": 1737124534.0, \"/usr/lib/python3.10/asyncio/base_events.py\": 1737124534.0, \"/usr/lib/python3.10/asyncio/runners.py\": 1737124534.0, \"/usr/lib/python3.10/asyncio/queues.py\": 1737124534.0, \"/usr/lib/python3.10/asyncio/streams.py\": 1737124534.0, \"/usr/lib/python3.10/asyncio/subprocess.py\": 1737124534.0, \"/usr/lib/python3.10/asyncio/threads.py\": 1737124534.0, \"/usr/lib/python3.10/asyncio/base_subprocess.py\": 1737124534.0, \"/usr/lib/python3.10/asyncio/selector_events.py\": 1737124534.0, \"/usr/lib/python3.10/asyncio/unix_events.py\": 1737124534.0, \"/usr/lib/python3.10/asyncio/__init__.py\": 1737124534.0, \"/home/oren/work/notes/notes-nlp/.venv/lib/python3.10/site-packages/zmq/_future.py\": 1738206368.5006568, \"/home/oren/work/notes/notes-nlp/.venv/lib/python3.10/site-packages/zmq/asyncio.py\": 1738206368.5006568, \"/home/oren/work/notes/notes-nlp/.venv/lib/python3.10/site-packages/traitlets/utils/__init__.py\": 1738206367.9186664, \"/home/oren/work/notes/notes-nlp/.venv/lib/python3.10/site-packages/traitlets/utils/bunch.py\": 1738206367.9186664, \"/home/oren/work/notes/notes-nlp/.venv/lib/python3.10/site-packages/traitlets/utils/descriptions.py\": 1738206367.9186664, \"/home/oren/work/notes/notes-nlp/.venv/lib/python3.10/site-packages/traitlets/utils/getargspec.py\": 1738206367.9186664, \"/home/oren/work/notes/notes-nlp/.venv/lib/python3.10/site-packages/traitlets/utils/importstring.py\": 1738206367.9186664, \"/home/oren/work/notes/notes-nlp/.venv/lib/python3.10/site-packages/traitlets/utils/sentinel.py\": 1738206367.9186664, \"/home/oren/work/notes/notes-nlp/.venv/lib/python3.10/site-packages/traitlets/utils/warnings.py\": 1738206367.9186664, \"/home/oren/work/notes/notes-nlp/.venv/lib/python3.10/site-packages/traitlets/traitlets.py\": 1738206367.9166663, \"/home/oren/work/notes/notes-nlp/.venv/lib/python3.10/site-packages/traitlets/_version.py\": 1738206367.9166663, \"/usr/lib/python3.10/copy.py\": 1737124534.0, \"/home/oren/work/notes/notes-nlp/.venv/lib/python3.10/site-packages/traitlets/utils/decorators.py\": 1738206367.9186664, \"/home/oren/work/notes/notes-nlp/.venv/lib/python3.10/site-packages/traitlets/__init__.py\": 1738206367.9166663, \"/usr/lib/python3.10/lib-dynload/_queue.cpython-310-x86_64-linux-gnu.so\": 1737124534.0, \"/usr/lib/python3.10/queue.py\": 1737124534.0, \"/home/oren/work/notes/notes-nlp/.venv/lib/python3.10/site-packages/jupyter_core/version.py\": 1738208869.5355554, \"/home/oren/work/notes/notes-nlp/.venv/lib/python3.10/site-packages/jupyter_core/__init__.py\": 1738208869.5345554, \"/home/oren/work/notes/notes-nlp/.venv/lib/python3.10/site-packages/jupyter_core/utils/__init__.py\": 1738208869.5355554, \"/home/oren/work/notes/notes-nlp/.venv/lib/python3.10/site-packages/jupyter_client/channelsabc.py\": 1738211114.6108825, \"/usr/lib/python3.10/lib-dynload/_hashlib.cpython-310-x86_64-linux-gnu.so\": 1737124534.0, \"/usr/lib/python3.10/hashlib.py\": 1737124534.0, \"/usr/lib/python3.10/hmac.py\": 1737124534.0, \"/usr/lib/python3.10/dataclasses.py\": 1737124534.0, \"/usr/lib/python3.10/pprint.py\": 1737124534.0, \"/usr/lib/python3.10/datetime.py\": 1737124534.0, \"/home/oren/work/notes/notes-nlp/.venv/lib/python3.10/site-packages/tornado/__init__.py\": 1738206367.9876652, \"/usr/lib/python3.10/numbers.py\": 1737124534.0, \"/usr/lib/python3.10/logging/handlers.py\": 1737124534.0, \"/usr/lib/python3.10/html/entities.py\": 1737124534.0, \"/usr/lib/python3.10/html/__init__.py\": 1737124534.0, \"/home/oren/work/notes/notes-nlp/.venv/lib/python3.10/site-packages/tornado/speedups.abi3.so\": 1738206367.988665, \"/home/oren/work/notes/notes-nlp/.venv/lib/python3.10/site-packages/tornado/util.py\": 1738206367.9876652, \"/home/oren/work/notes/notes-nlp/.venv/lib/python3.10/site-packages/tornado/escape.py\": 1738206367.9906652, \"/usr/lib/python3.10/lib-dynload/_curses.cpython-310-x86_64-linux-gnu.so\": 1737124534.0, \"/usr/lib/python3.10/curses/__init__.py\": 1737124534.0, \"/home/oren/work/notes/notes-nlp/.venv/lib/python3.10/site-packages/tornado/log.py\": 1738206367.988665, \"/home/oren/work/notes/notes-nlp/.venv/lib/python3.10/site-packages/tornado/concurrent.py\": 1738206367.9876652, \"/home/oren/work/notes/notes-nlp/.venv/lib/python3.10/site-packages/tornado/ioloop.py\": 1738206367.9906652, \"/usr/lib/python3.10/socketserver.py\": 1737124534.0, \"/usr/lib/python3.10/logging/config.py\": 1737124534.0, \"/usr/lib/python3.10/textwrap.py\": 1737124534.0, \"/home/oren/work/notes/notes-nlp/.venv/lib/python3.10/site-packages/traitlets/utils/text.py\": 1738206367.9186664, \"/usr/lib/python3.10/gettext.py\": 1737124534.0, \"/usr/lib/python3.10/argparse.py\": 1737124534.0, \"/home/oren/work/notes/notes-nlp/.venv/lib/python3.10/site-packages/traitlets/config/loader.py\": 1738206367.9176664, \"/home/oren/work/notes/notes-nlp/.venv/lib/python3.10/site-packages/traitlets/config/configurable.py\": 1738206367.9176664, \"/home/oren/work/notes/notes-nlp/.venv/lib/python3.10/site-packages/traitlets/utils/nested_update.py\": 1738206367.9186664, \"/home/oren/work/notes/notes-nlp/.venv/lib/python3.10/site-packages/traitlets/config/application.py\": 1738206367.9176664, \"/home/oren/work/notes/notes-nlp/.venv/lib/python3.10/site-packages/traitlets/config/__init__.py\": 1738206367.9166663, \"/home/oren/work/notes/notes-nlp/.venv/lib/python3.10/site-packages/traitlets/log.py\": 1738206367.9166663, \"/home/oren/work/notes/notes-nlp/.venv/lib/python3.10/site-packages/zmq/eventloop/__init__.py\": 1738206368.5086567, \"/home/oren/work/notes/notes-nlp/.venv/lib/python3.10/site-packages/zmq/eventloop/zmqstream.py\": 1738206368.5086567, \"/home/oren/work/notes/notes-nlp/.venv/lib/python3.10/site-packages/jupyter_client/adapter.py\": 1738211114.6098826, \"/home/oren/work/notes/notes-nlp/.venv/lib/python3.10/site-packages/dateutil/_version.py\": 1738206446.0323966, \"/home/oren/work/notes/notes-nlp/.venv/lib/python3.10/site-packages/dateutil/__init__.py\": 1738206446.0323966, \"/usr/lib/python3.10/locale.py\": 1737124534.0, \"/usr/lib/python3.10/calendar.py\": 1737124534.0, \"/home/oren/work/notes/notes-nlp/.venv/lib/python3.10/site-packages/six.py\": 1738206368.3916585, \"/usr/lib/python3.10/lib-dynload/_decimal.cpython-310-x86_64-linux-gnu.so\": 1737124534.0, \"/usr/lib/python3.10/decimal.py\": 1737124534.0, \"/home/oren/work/notes/notes-nlp/.venv/lib/python3.10/site-packages/dateutil/_common.py\": 1738206446.0323966, \"/home/oren/work/notes/notes-nlp/.venv/lib/python3.10/site-packages/dateutil/relativedelta.py\": 1738206446.0323966, \"/home/oren/work/notes/notes-nlp/.venv/lib/python3.10/site-packages/dateutil/tz/_common.py\": 1738206446.0333965, \"/home/oren/work/notes/notes-nlp/.venv/lib/python3.10/site-packages/dateutil/tz/_factories.py\": 1738206446.0333965, \"/home/oren/work/notes/notes-nlp/.venv/lib/python3.10/site-packages/dateutil/tz/tz.py\": 1738206446.0343966, \"/home/oren/work/notes/notes-nlp/.venv/lib/python3.10/site-packages/dateutil/tz/__init__.py\": 1738206446.0333965, \"/home/oren/work/notes/notes-nlp/.venv/lib/python3.10/site-packages/dateutil/parser/_parser.py\": 1738206446.0333965, \"/home/oren/work/notes/notes-nlp/.venv/lib/python3.10/site-packages/dateutil/parser/isoparser.py\": 1738206446.0333965, \"/home/oren/work/notes/notes-nlp/.venv/lib/python3.10/site-packages/dateutil/parser/__init__.py\": 1738206446.0333965, \"/usr/lib/python3.10/_strptime.py\": 1737124534.0, \"/home/oren/work/notes/notes-nlp/.venv/lib/python3.10/site-packages/jupyter_client/jsonutil.py\": 1738211114.6108825, \"/home/oren/work/notes/notes-nlp/.venv/lib/python3.10/site-packages/jupyter_client/session.py\": 1738211114.6128826, \"/home/oren/work/notes/notes-nlp/.venv/lib/python3.10/site-packages/jupyter_client/channels.py\": 1738211114.6098826, \"/usr/lib/python3.10/lib-dynload/termios.cpython-310-x86_64-linux-gnu.so\": 1737124534.0, \"/usr/lib/python3.10/getpass.py\": 1737124534.0, \"/home/oren/work/notes/notes-nlp/.venv/lib/python3.10/site-packages/jupyter_client/clientabc.py\": 1738211114.6108825, \"/usr/lib/python3.10/glob.py\": 1737124534.0, \"/usr/lib/python3.10/_compression.py\": 1737124534.0, \"/usr/lib/python3.10/lib-dynload/_bz2.cpython-310-x86_64-linux-gnu.so\": 1737124534.0, \"/usr/lib/python3.10/bz2.py\": 1737124534.0, \"/usr/lib/python3.10/lib-dynload/_lzma.cpython-310-x86_64-linux-gnu.so\": 1737124534.0, \"/usr/lib/python3.10/lzma.py\": 1737124534.0, \"/usr/lib/python3.10/shutil.py\": 1737124534.0, \"/usr/lib/python3.10/tempfile.py\": 1737124534.0, \"/home/oren/work/notes/notes-nlp/.venv/lib/python3.10/site-packages/platformdirs/api.py\": 1738206370.402626, \"/home/oren/work/notes/notes-nlp/.venv/lib/python3.10/site-packages/platformdirs/version.py\": 1738206370.402626, \"/usr/lib/python3.10/configparser.py\": 1737124534.0, \"/home/oren/work/notes/notes-nlp/.venv/lib/python3.10/site-packages/platformdirs/unix.py\": 1738206370.402626, \"/home/oren/work/notes/notes-nlp/.venv/lib/python3.10/site-packages/platformdirs/__init__.py\": 1738206370.4016259, \"/home/oren/work/notes/notes-nlp/.venv/lib/python3.10/site-packages/jupyter_core/paths.py\": 1738208869.5355554, \"/home/oren/work/notes/notes-nlp/.venv/lib/python3.10/site-packages/jupyter_client/localinterfaces.py\": 1738211114.6118827, \"/home/oren/work/notes/notes-nlp/.venv/lib/python3.10/site-packages/jupyter_client/utils.py\": 1738211114.6128826, \"/home/oren/work/notes/notes-nlp/.venv/lib/python3.10/site-packages/jupyter_client/connect.py\": 1738211114.6108825, \"/home/oren/work/notes/notes-nlp/.venv/lib/python3.10/site-packages/jupyter_client/client.py\": 1738211114.6108825, \"/home/oren/work/notes/notes-nlp/.venv/lib/python3.10/site-packages/jupyter_client/asynchronous/client.py\": 1738211114.6128826, \"/home/oren/work/notes/notes-nlp/.venv/lib/python3.10/site-packages/jupyter_client/asynchronous/__init__.py\": 1738211114.6128826, \"/home/oren/work/notes/notes-nlp/.venv/lib/python3.10/site-packages/jupyter_client/blocking/client.py\": 1738211114.6128826, \"/home/oren/work/notes/notes-nlp/.venv/lib/python3.10/site-packages/jupyter_client/blocking/__init__.py\": 1738211114.6128826, \"/home/oren/work/notes/notes-nlp/.venv/lib/python3.10/site-packages/jupyter_client/launcher.py\": 1738211114.6118827, \"/usr/lib/python3.10/lib-dynload/_uuid.cpython-310-x86_64-linux-gnu.so\": 1737124534.0, \"/usr/lib/python3.10/uuid.py\": 1737124534.0, \"/usr/lib/python3.10/csv.py\": 1737124534.0, \"/usr/lib/python3.10/email/__init__.py\": 1737124534.0, \"/usr/lib/python3.10/zipfile.py\": 1737124534.0, \"/usr/lib/python3.10/uu.py\": 1737124534.0, \"/usr/lib/python3.10/quopri.py\": 1737124534.0, \"/usr/lib/python3.10/email/_parseaddr.py\": 1737124534.0, \"/usr/lib/python3.10/email/base64mime.py\": 1737124534.0, \"/usr/lib/python3.10/email/quoprimime.py\": 1737124534.0, \"/usr/lib/python3.10/email/errors.py\": 1737124534.0, \"/usr/lib/python3.10/email/encoders.py\": 1737124534.0, \"/usr/lib/python3.10/email/charset.py\": 1737124534.0, \"/usr/lib/python3.10/email/utils.py\": 1737124534.0, \"/usr/lib/python3.10/email/header.py\": 1737124534.0, \"/usr/lib/python3.10/email/_policybase.py\": 1737124534.0, \"/usr/lib/python3.10/email/_encoded_words.py\": 1737124534.0, \"/usr/lib/python3.10/email/iterators.py\": 1737124534.0, \"/usr/lib/python3.10/email/message.py\": 1737124534.0, \"/usr/lib/python3.10/importlib/metadata/_functools.py\": 1737124534.0, \"/usr/lib/python3.10/importlib/metadata/_text.py\": 1737124534.0, \"/usr/lib/python3.10/importlib/metadata/_adapters.py\": 1737124534.0, \"/usr/lib/python3.10/importlib/metadata/_meta.py\": 1737124534.0, \"/usr/lib/python3.10/importlib/metadata/_collections.py\": 1737124534.0, \"/usr/lib/python3.10/importlib/metadata/_itertools.py\": 1737124534.0, \"/usr/lib/python3.10/importlib/abc.py\": 1737124534.0, \"/usr/lib/python3.10/importlib/metadata/__init__.py\": 1737124534.0, \"/home/oren/work/notes/notes-nlp/.venv/lib/python3.10/site-packages/jupyter_client/provisioning/provisioner_base.py\": 1738211114.6138825, \"/home/oren/work/notes/notes-nlp/.venv/lib/python3.10/site-packages/jupyter_client/provisioning/factory.py\": 1738211114.6138825, \"/home/oren/work/notes/notes-nlp/.venv/lib/python3.10/site-packages/jupyter_client/provisioning/local_provisioner.py\": 1738211114.6138825, \"/home/oren/work/notes/notes-nlp/.venv/lib/python3.10/site-packages/jupyter_client/provisioning/__init__.py\": 1738211114.6128826, \"/home/oren/work/notes/notes-nlp/.venv/lib/python3.10/site-packages/jupyter_client/kernelspec.py\": 1738211114.6108825, \"/home/oren/work/notes/notes-nlp/.venv/lib/python3.10/site-packages/jupyter_client/managerabc.py\": 1738211114.6118827, \"/home/oren/work/notes/notes-nlp/.venv/lib/python3.10/site-packages/jupyter_client/manager.py\": 1738211114.6118827, \"/home/oren/work/notes/notes-nlp/.venv/lib/python3.10/site-packages/jupyter_client/multikernelmanager.py\": 1738211114.6118827, \"/home/oren/work/notes/notes-nlp/.venv/lib/python3.10/site-packages/jupyter_client/__init__.py\": 1738211114.6098826, \"/home/oren/work/notes/notes-nlp/.venv/lib/python3.10/site-packages/ipykernel/connect.py\": 1738211119.9207983, \"/home/oren/work/notes/notes-nlp/.venv/lib/python3.10/site-packages/ipykernel/__init__.py\": 1738211119.9197984, \"/home/oren/work/notes/notes-nlp/.venv/lib/python3.10/site-packages/IPython/core/__init__.py\": 1738211116.355855, \"/home/oren/work/notes/notes-nlp/.venv/lib/python3.10/site-packages/IPython/core/getipython.py\": 1738211116.3588548, \"/home/oren/work/notes/notes-nlp/.venv/lib/python3.10/site-packages/IPython/core/release.py\": 1738211116.3618548, \"/usr/lib/python3.10/pkgutil.py\": 1737124534.0, \"/usr/lib/python3.10/sysconfig.py\": 1737124534.0, \"/usr/lib/python3.10/_sysconfigdata__x86_64-linux-gnu.py\": 1737124534.0, \"/usr/lib/python3.10/pydoc.py\": 1737124534.0, \"/home/oren/work/notes/notes-nlp/.venv/lib/python3.10/site-packages/executing/executing.py\": 1738208871.3485265, \"/home/oren/work/notes/notes-nlp/.venv/lib/python3.10/site-packages/executing/_pytest_utils.py\": 1738208871.3485265, \"/home/oren/work/notes/notes-nlp/.venv/lib/python3.10/site-packages/executing/version.py\": 1738208871.3485265, \"/home/oren/work/notes/notes-nlp/.venv/lib/python3.10/site-packages/executing/__init__.py\": 1738208871.3485265, \"/home/oren/work/notes/notes-nlp/.venv/lib/python3.10/site-packages/asttokens/line_numbers.py\": 1738208872.4535089, \"/home/oren/work/notes/notes-nlp/.venv/lib/python3.10/site-packages/asttokens/util.py\": 1738208872.4535089, \"/home/oren/work/notes/notes-nlp/.venv/lib/python3.10/site-packages/asttokens/asttokens.py\": 1738208872.4535089, \"/home/oren/work/notes/notes-nlp/.venv/lib/python3.10/site-packages/asttokens/__init__.py\": 1738208872.4535089, \"/usr/lib/python3.10/fractions.py\": 1737124534.0, \"/home/oren/work/notes/notes-nlp/.venv/lib/python3.10/site-packages/pure_eval/utils.py\": 1738206365.9996974, \"/home/oren/work/notes/notes-nlp/.venv/lib/python3.10/site-packages/pure_eval/my_getattr_static.py\": 1738206365.9986975, \"/home/oren/work/notes/notes-nlp/.venv/lib/python3.10/site-packages/pure_eval/core.py\": 1738206365.9986975, \"/home/oren/work/notes/notes-nlp/.venv/lib/python3.10/site-packages/pure_eval/version.py\": 1738206365.9996974, \"/home/oren/work/notes/notes-nlp/.venv/lib/python3.10/site-packages/pure_eval/__init__.py\": 1738206365.9986975, \"/home/oren/work/notes/notes-nlp/.venv/lib/python3.10/site-packages/stack_data/utils.py\": 1738208872.5905068, \"/home/oren/work/notes/notes-nlp/.venv/lib/python3.10/site-packages/stack_data/core.py\": 1738208872.5905068, \"/home/oren/work/notes/notes-nlp/.venv/lib/python3.10/site-packages/stack_data/formatting.py\": 1738208872.5905068, \"/home/oren/work/notes/notes-nlp/.venv/lib/python3.10/site-packages/stack_data/serializing.py\": 1738208872.5905068, \"/home/oren/work/notes/notes-nlp/.venv/lib/python3.10/site-packages/stack_data/version.py\": 1738208872.5905068, \"/home/oren/work/notes/notes-nlp/.venv/lib/python3.10/site-packages/stack_data/__init__.py\": 1738208872.5895066, \"/home/oren/work/notes/notes-nlp/.venv/lib/python3.10/site-packages/pygments/__init__.py\": 1738206368.6586542, \"/home/oren/work/notes/notes-nlp/.venv/lib/python3.10/site-packages/pygments/formatters/_mapping.py\": 1738206368.6616542, \"/home/oren/work/notes/notes-nlp/.venv/lib/python3.10/site-packages/pygments/plugin.py\": 1738206368.6596544, \"/home/oren/work/notes/notes-nlp/.venv/lib/python3.10/site-packages/pygments/util.py\": 1738206368.6616542, \"/home/oren/work/notes/notes-nlp/.venv/lib/python3.10/site-packages/pygments/formatters/__init__.py\": 1738206368.6616542, \"/home/oren/work/notes/notes-nlp/.venv/lib/python3.10/site-packages/pygments/styles/_mapping.py\": 1738206368.6986537, \"/home/oren/work/notes/notes-nlp/.venv/lib/python3.10/site-packages/pygments/styles/__init__.py\": 1738206368.6986537, \"/home/oren/work/notes/notes-nlp/.venv/lib/python3.10/site-packages/pygments/formatter.py\": 1738206368.6596544, \"/home/oren/work/notes/notes-nlp/.venv/lib/python3.10/site-packages/pygments/console.py\": 1738206368.6586542, \"/home/oren/work/notes/notes-nlp/.venv/lib/python3.10/site-packages/pygments/token.py\": 1738206368.6606543, \"/home/oren/work/notes/notes-nlp/.venv/lib/python3.10/site-packages/pygments/style.py\": 1738206368.6606543, \"/home/oren/work/notes/notes-nlp/.venv/lib/python3.10/site-packages/pygments/formatters/terminal256.py\": 1738206368.6636543, \"/home/oren/work/notes/notes-nlp/.venv/lib/python3.10/site-packages/IPython/utils/__init__.py\": 1738211116.3788545, \"/home/oren/work/notes/notes-nlp/.venv/lib/python3.10/site-packages/IPython/utils/colorable.py\": 1738211116.3798544, \"/home/oren/work/notes/notes-nlp/.venv/lib/python3.10/site-packages/IPython/utils/ipstruct.py\": 1738211116.3808546, \"/home/oren/work/notes/notes-nlp/.venv/lib/python3.10/site-packages/IPython/utils/coloransi.py\": 1738211116.3798544, \"/home/oren/work/notes/notes-nlp/.venv/lib/python3.10/site-packages/IPython/core/excolors.py\": 1738211116.3578548, \"/home/oren/work/notes/notes-nlp/.venv/lib/python3.10/site-packages/IPython/utils/PyColorize.py\": 1738211116.3788545, \"/home/oren/work/notes/notes-nlp/.venv/lib/python3.10/site-packages/IPython/utils/encoding.py\": 1738211116.3798544, \"/home/oren/work/notes/notes-nlp/.venv/lib/python3.10/site-packages/IPython/utils/py3compat.py\": 1738211116.3808546, \"/usr/lib/python3.10/cmd.py\": 1737124534.0, \"/usr/lib/python3.10/bdb.py\": 1737124534.0, \"/usr/lib/python3.10/codeop.py\": 1737124534.0, \"/usr/lib/python3.10/code.py\": 1737124534.0, \"/usr/lib/python3.10/pdb.py\": 1737124534.0, \"/home/oren/work/notes/notes-nlp/.venv/lib/python3.10/site-packages/IPython/core/debugger.py\": 1738211116.3578548, \"/home/oren/work/notes/notes-nlp/.venv/lib/python3.10/site-packages/IPython/core/display_trap.py\": 1738211116.3578548, \"/usr/lib/python3.10/shlex.py\": 1737124534.0, \"/home/oren/work/notes/notes-nlp/.venv/lib/python3.10/site-packages/IPython/utils/_process_common.py\": 1738211116.3788545, \"/home/oren/work/notes/notes-nlp/.venv/lib/python3.10/site-packages/IPython/utils/_process_posix.py\": 1738211116.3788545, \"/home/oren/work/notes/notes-nlp/.venv/lib/python3.10/site-packages/IPython/utils/process.py\": 1738211116.3808546, \"/home/oren/work/notes/notes-nlp/.venv/lib/python3.10/site-packages/IPython/utils/path.py\": 1738211116.3808546, \"/home/oren/work/notes/notes-nlp/.venv/lib/python3.10/site-packages/IPython/utils/terminal.py\": 1738211116.3818545, \"/home/oren/work/notes/notes-nlp/.venv/lib/python3.10/site-packages/IPython/core/ultratb.py\": 1738211116.3628547, \"/home/oren/work/notes/notes-nlp/.venv/lib/python3.10/site-packages/IPython/utils/_sysinfo.py\": 1738211116.3788545, \"/home/oren/work/notes/notes-nlp/.venv/lib/python3.10/site-packages/IPython/utils/sysinfo.py\": 1738211116.3818545, \"/home/oren/work/notes/notes-nlp/.venv/lib/python3.10/site-packages/IPython/core/crashhandler.py\": 1738211116.356855, \"/home/oren/work/notes/notes-nlp/.venv/lib/python3.10/site-packages/IPython/utils/importstring.py\": 1738211116.3798544, \"/home/oren/work/notes/notes-nlp/.venv/lib/python3.10/site-packages/IPython/paths.py\": 1738211116.355855, \"/home/oren/work/notes/notes-nlp/.venv/lib/python3.10/site-packages/IPython/core/profiledir.py\": 1738211116.3618548, \"/home/oren/work/notes/notes-nlp/.venv/lib/python3.10/site-packages/IPython/core/application.py\": 1738211116.355855, \"/home/oren/work/notes/notes-nlp/.venv/lib/python3.10/site-packages/IPython/terminal/__init__.py\": 1738211116.3738546, \"/home/oren/work/notes/notes-nlp/.venv/lib/python3.10/site-packages/IPython/core/compilerop.py\": 1738211116.356855, \"/home/oren/work/notes/notes-nlp/.venv/lib/python3.10/site-packages/IPython/core/error.py\": 1738211116.3578548, \"/home/oren/work/notes/notes-nlp/.venv/lib/python3.10/site-packages/IPython/utils/docs.py\": 1738211116.3798544, \"/home/oren/work/notes/notes-nlp/.venv/lib/python3.10/site-packages/IPython/utils/decorators.py\": 1738211116.3798544, \"/home/oren/work/notes/notes-nlp/.venv/lib/python3.10/site-packages/typing_extensions.py\": 1738206367.8976667, \"/home/oren/work/notes/notes-nlp/.venv/lib/python3.10/site-packages/IPython/utils/text.py\": 1738211116.3818545, \"/home/oren/work/notes/notes-nlp/.venv/lib/python3.10/site-packages/IPython/core/magic_arguments.py\": 1738211116.3608549, \"/usr/lib/python3.10/getopt.py\": 1737124534.0, \"/home/oren/work/notes/notes-nlp/.venv/lib/python3.10/site-packages/IPython/core/display_functions.py\": 1738211116.3578548, \"/usr/lib/python3.10/mimetypes.py\": 1737124534.0, \"/home/oren/work/notes/notes-nlp/.venv/lib/python3.10/site-packages/IPython/testing/__init__.py\": 1738211116.3768547, \"/home/oren/work/notes/notes-nlp/.venv/lib/python3.10/site-packages/IPython/testing/skipdoctest.py\": 1738211116.3768547, \"/home/oren/work/notes/notes-nlp/.venv/lib/python3.10/site-packages/IPython/core/display.py\": 1738211116.3578548, \"/home/oren/work/notes/notes-nlp/.venv/lib/python3.10/site-packages/IPython/lib/__init__.py\": 1738211116.3708546, \"/home/oren/work/notes/notes-nlp/.venv/lib/python3.10/site-packages/IPython/lib/display.py\": 1738211116.3718548, \"/home/oren/work/notes/notes-nlp/.venv/lib/python3.10/site-packages/IPython/display.py\": 1738211116.355855, \"/home/oren/work/notes/notes-nlp/.venv/lib/python3.10/site-packages/IPython/utils/data.py\": 1738211116.3798544, \"/home/oren/work/notes/notes-nlp/.venv/lib/python3.10/site-packages/IPython/core/page.py\": 1738211116.3608549, \"/home/oren/work/notes/notes-nlp/.venv/lib/python3.10/site-packages/IPython/lib/pretty.py\": 1738211116.3718548, \"/home/oren/work/notes/notes-nlp/.venv/lib/python3.10/site-packages/IPython/utils/openpy.py\": 1738211116.3808546, \"/home/oren/work/notes/notes-nlp/.venv/lib/python3.10/site-packages/IPython/utils/dir2.py\": 1738211116.3798544, \"/home/oren/work/notes/notes-nlp/.venv/lib/python3.10/site-packages/IPython/utils/wildcard.py\": 1738211116.3828545, \"/home/oren/work/notes/notes-nlp/.venv/lib/python3.10/site-packages/pygments/lexers/_mapping.py\": 1738206368.666654, \"/home/oren/work/notes/notes-nlp/.venv/lib/python3.10/site-packages/pygments/modeline.py\": 1738206368.6596544, \"/home/oren/work/notes/notes-nlp/.venv/lib/python3.10/site-packages/pygments/lexers/__init__.py\": 1738206368.6636543, \"/home/oren/work/notes/notes-nlp/.venv/lib/python3.10/site-packages/pygments/filter.py\": 1738206368.6596544, \"/home/oren/work/notes/notes-nlp/.venv/lib/python3.10/site-packages/pygments/filters/__init__.py\": 1738206368.6616542, \"/home/oren/work/notes/notes-nlp/.venv/lib/python3.10/site-packages/pygments/regexopt.py\": 1738206368.6596544, \"/home/oren/work/notes/notes-nlp/.venv/lib/python3.10/site-packages/pygments/lexer.py\": 1738206368.6596544, \"/home/oren/work/notes/notes-nlp/.venv/lib/python3.10/site-packages/pygments/unistring.py\": 1738206368.6606543, \"/home/oren/work/notes/notes-nlp/.venv/lib/python3.10/site-packages/pygments/lexers/python.py\": 1738206368.6896539, \"/home/oren/work/notes/notes-nlp/.venv/lib/python3.10/site-packages/pygments/formatters/html.py\": 1738206368.6626542, \"/home/oren/work/notes/notes-nlp/.venv/lib/python3.10/site-packages/IPython/core/oinspect.py\": 1738211116.3608549, \"/home/oren/work/notes/notes-nlp/.venv/lib/python3.10/site-packages/IPython/utils/tokenutil.py\": 1738211116.3818545, \"/home/oren/work/notes/notes-nlp/.venv/lib/python3.10/site-packages/IPython/core/inputtransformer2.py\": 1738211116.359855, \"/home/oren/work/notes/notes-nlp/.venv/lib/python3.10/site-packages/IPython/core/magic.py\": 1738211116.3608549, \"/home/oren/work/notes/notes-nlp/.venv/lib/python3.10/site-packages/IPython/core/hooks.py\": 1738211116.3588548, \"/home/oren/work/notes/notes-nlp/.venv/lib/python3.10/site-packages/IPython/core/autocall.py\": 1738211116.356855, \"/home/oren/work/notes/notes-nlp/.venv/lib/python3.10/site-packages/IPython/core/macro.py\": 1738211116.3608549, \"/home/oren/work/notes/notes-nlp/.venv/lib/python3.10/site-packages/IPython/core/splitinput.py\": 1738211116.3628547, \"/home/oren/work/notes/notes-nlp/.venv/lib/python3.10/site-packages/IPython/core/prefilter.py\": 1738211116.3618548, \"/home/oren/work/notes/notes-nlp/.venv/lib/python3.10/site-packages/IPython/core/alias.py\": 1738211116.355855, \"/home/oren/work/notes/notes-nlp/.venv/lib/python3.10/site-packages/IPython/core/builtin_trap.py\": 1738211116.356855, \"/home/oren/work/notes/notes-nlp/.venv/lib/python3.10/site-packages/IPython/core/displayhook.py\": 1738211116.3578548, \"/home/oren/work/notes/notes-nlp/.venv/lib/python3.10/site-packages/IPython/core/displaypub.py\": 1738211116.3578548, \"/home/oren/work/notes/notes-nlp/.venv/lib/python3.10/site-packages/IPython/core/events.py\": 1738211116.3578548, \"/home/oren/work/notes/notes-nlp/.venv/lib/python3.10/site-packages/IPython/core/extensions.py\": 1738211116.3588548, \"/home/oren/work/notes/notes-nlp/.venv/lib/python3.10/site-packages/decorator.py\": 1738208871.4545248, \"/home/oren/work/notes/notes-nlp/.venv/lib/python3.10/site-packages/IPython/utils/sentinel.py\": 1738211116.3808546, \"/home/oren/work/notes/notes-nlp/.venv/lib/python3.10/site-packages/IPython/core/formatters.py\": 1738211116.3588548, \"/usr/lib/python3.10/lib-dynload/_sqlite3.cpython-310-x86_64-linux-gnu.so\": 1737124534.0, \"/usr/lib/python3.10/sqlite3/dbapi2.py\": 1737124534.0, \"/usr/lib/python3.10/sqlite3/__init__.py\": 1737124534.0, \"/home/oren/work/notes/notes-nlp/.venv/lib/python3.10/site-packages/IPython/core/history.py\": 1738211116.3588548, \"/home/oren/work/notes/notes-nlp/.venv/lib/python3.10/site-packages/IPython/core/logger.py\": 1738211116.3608549, \"/home/oren/work/notes/notes-nlp/.venv/lib/python3.10/site-packages/IPython/core/payload.py\": 1738211116.3618548, \"/home/oren/work/notes/notes-nlp/.venv/lib/python3.10/site-packages/IPython/core/usage.py\": 1738211116.3628547, \"/home/oren/work/notes/notes-nlp/.venv/lib/python3.10/site-packages/IPython/utils/capture.py\": 1738211116.3788545, \"/home/oren/work/notes/notes-nlp/.venv/lib/python3.10/site-packages/IPython/utils/io.py\": 1738211116.3808546, \"/home/oren/work/notes/notes-nlp/.venv/lib/python3.10/site-packages/IPython/utils/strdispatch.py\": 1738211116.3818545, \"/home/oren/work/notes/notes-nlp/.venv/lib/python3.10/site-packages/IPython/utils/syspathcontext.py\": 1738211116.3818545, \"/home/oren/work/notes/notes-nlp/.venv/lib/python3.10/site-packages/exceptiongroup/_exceptions.py\": 1738208871.3595264, \"/home/oren/work/notes/notes-nlp/.venv/lib/python3.10/site-packages/exceptiongroup/_catch.py\": 1738208871.3595264, \"/home/oren/work/notes/notes-nlp/.venv/lib/python3.10/site-packages/exceptiongroup/_version.py\": 1738208871.3605263, \"/home/oren/work/notes/notes-nlp/.venv/lib/python3.10/site-packages/exceptiongroup/_formatting.py\": 1738208871.3595264, \"/home/oren/work/notes/notes-nlp/.venv/lib/python3.10/site-packages/exceptiongroup/_suppress.py\": 1738208871.3605263, \"/home/oren/work/notes/notes-nlp/.venv/lib/python3.10/site-packages/exceptiongroup/__init__.py\": 1738208871.3595264, \"/home/oren/work/notes/notes-nlp/.venv/lib/python3.10/site-packages/IPython/core/async_helpers.py\": 1738211116.355855, \"/home/oren/work/notes/notes-nlp/.venv/lib/python3.10/site-packages/IPython/core/interactiveshell.py\": 1738211116.359855, \"/home/oren/work/notes/notes-nlp/.venv/lib/python3.10/site-packages/prompt_toolkit/application/current.py\": 1738206370.2306287, \"/home/oren/work/notes/notes-nlp/.venv/lib/python3.10/site-packages/prompt_toolkit/eventloop/utils.py\": 1738206370.2336287, \"/home/oren/work/notes/notes-nlp/.venv/lib/python3.10/site-packages/prompt_toolkit/eventloop/async_generator.py\": 1738206370.2336287, \"/home/oren/work/notes/notes-nlp/.venv/lib/python3.10/site-packages/prompt_toolkit/eventloop/inputhook.py\": 1738206370.2336287, \"/home/oren/work/notes/notes-nlp/.venv/lib/python3.10/site-packages/prompt_toolkit/eventloop/__init__.py\": 1738206370.2336287, \"/home/oren/work/notes/notes-nlp/.venv/lib/python3.10/site-packages/prompt_toolkit/application/run_in_terminal.py\": 1738206370.2316287, \"/home/oren/work/notes/notes-nlp/.venv/lib/python3.10/site-packages/prompt_toolkit/selection.py\": 1738206370.2306287, \"/home/oren/work/notes/notes-nlp/.venv/lib/python3.10/site-packages/prompt_toolkit/clipboard/base.py\": 1738206370.2316287, \"/home/oren/work/notes/notes-nlp/.venv/lib/python3.10/site-packages/prompt_toolkit/clipboard/in_memory.py\": 1738206370.2316287, \"/home/oren/work/notes/notes-nlp/.venv/lib/python3.10/site-packages/prompt_toolkit/clipboard/__init__.py\": 1738206370.2316287, \"/home/oren/work/notes/notes-nlp/.venv/lib/python3.10/site-packages/prompt_toolkit/cache.py\": 1738206370.2286289, \"/home/oren/work/notes/notes-nlp/.venv/lib/python3.10/site-packages/prompt_toolkit/enums.py\": 1738206370.2296288, \"/home/oren/work/notes/notes-nlp/.venv/lib/python3.10/site-packages/prompt_toolkit/filters/base.py\": 1738206370.2346287, \"/home/oren/work/notes/notes-nlp/.venv/lib/python3.10/site-packages/prompt_toolkit/filters/app.py\": 1738206370.2346287, \"/home/oren/work/notes/notes-nlp/.venv/lib/python3.10/site-packages/prompt_toolkit/filters/cli.py\": 1738206370.2346287, \"/home/oren/work/notes/notes-nlp/.venv/lib/python3.10/site-packages/prompt_toolkit/filters/utils.py\": 1738206370.2346287, \"/home/oren/work/notes/notes-nlp/.venv/lib/python3.10/site-packages/prompt_toolkit/filters/__init__.py\": 1738206370.2346287, \"/home/oren/work/notes/notes-nlp/.venv/lib/python3.10/site-packages/prompt_toolkit/document.py\": 1738206370.2296288, \"/home/oren/work/notes/notes-nlp/.venv/lib/python3.10/site-packages/prompt_toolkit/auto_suggest.py\": 1738206370.2286289, \"/home/oren/work/notes/notes-nlp/.venv/lib/python3.10/site-packages/prompt_toolkit/keys.py\": 1738206370.2296288, \"/home/oren/work/notes/notes-nlp/.venv/lib/python3.10/site-packages/prompt_toolkit/key_binding/key_bindings.py\": 1738206370.2366285, \"/home/oren/work/notes/notes-nlp/.venv/lib/python3.10/site-packages/wcwidth/table_vs16.py\": 1738206365.8596997, \"/home/oren/work/notes/notes-nlp/.venv/lib/python3.10/site-packages/wcwidth/table_wide.py\": 1738206365.8596997, \"/home/oren/work/notes/notes-nlp/.venv/lib/python3.10/site-packages/wcwidth/table_zero.py\": 1738206365.8607, \"/home/oren/work/notes/notes-nlp/.venv/lib/python3.10/site-packages/wcwidth/unicode_versions.py\": 1738206365.8607, \"/home/oren/work/notes/notes-nlp/.venv/lib/python3.10/site-packages/wcwidth/wcwidth.py\": 1738206365.8607, \"/home/oren/work/notes/notes-nlp/.venv/lib/python3.10/site-packages/wcwidth/__init__.py\": 1738206365.8596997, \"/home/oren/work/notes/notes-nlp/.venv/lib/python3.10/site-packages/prompt_toolkit/utils.py\": 1738206370.2306287, \"/home/oren/work/notes/notes-nlp/.venv/lib/python3.10/site-packages/prompt_toolkit/key_binding/key_processor.py\": 1738206370.2366285, \"/home/oren/work/notes/notes-nlp/.venv/lib/python3.10/site-packages/prompt_toolkit/key_binding/__init__.py\": 1738206370.2366285, \"/home/oren/work/notes/notes-nlp/.venv/lib/python3.10/site-packages/prompt_toolkit/key_binding/vi_state.py\": 1738206370.2366285, \"/home/oren/work/notes/notes-nlp/.venv/lib/python3.10/site-packages/prompt_toolkit/cursor_shapes.py\": 1738206370.2286289, \"/home/oren/work/notes/notes-nlp/.venv/lib/python3.10/site-packages/prompt_toolkit/data_structures.py\": 1738206370.2286289, \"/home/oren/work/notes/notes-nlp/.venv/lib/python3.10/site-packages/prompt_toolkit/styles/base.py\": 1738206370.2426286, \"/home/oren/work/notes/notes-nlp/.venv/lib/python3.10/site-packages/prompt_toolkit/styles/named_colors.py\": 1738206370.2426286, \"/home/oren/work/notes/notes-nlp/.venv/lib/python3.10/site-packages/prompt_toolkit/styles/style.py\": 1738206370.2426286, \"/home/oren/work/notes/notes-nlp/.venv/lib/python3.10/site-packages/prompt_toolkit/styles/defaults.py\": 1738206370.2426286, \"/home/oren/work/notes/notes-nlp/.venv/lib/python3.10/site-packages/prompt_toolkit/styles/pygments.py\": 1738206370.2426286, \"/usr/lib/python3.10/colorsys.py\": 1737124534.0, \"/home/oren/work/notes/notes-nlp/.venv/lib/python3.10/site-packages/prompt_toolkit/styles/style_transformation.py\": 1738206370.2436285, \"/home/oren/work/notes/notes-nlp/.venv/lib/python3.10/site-packages/prompt_toolkit/styles/__init__.py\": 1738206370.2426286, \"/home/oren/work/notes/notes-nlp/.venv/lib/python3.10/site-packages/prompt_toolkit/output/color_depth.py\": 1738206370.2406285, \"/home/oren/work/notes/notes-nlp/.venv/lib/python3.10/site-packages/prompt_toolkit/output/base.py\": 1738206370.2406285, \"/home/oren/work/notes/notes-nlp/.venv/lib/python3.10/site-packages/prompt_toolkit/output/flush_stdout.py\": 1738206370.2416286, \"/home/oren/work/notes/notes-nlp/.venv/lib/python3.10/site-packages/prompt_toolkit/output/plain_text.py\": 1738206370.2416286, \"/home/oren/work/notes/notes-nlp/.venv/lib/python3.10/site-packages/prompt_toolkit/output/defaults.py\": 1738206370.2406285, \"/home/oren/work/notes/notes-nlp/.venv/lib/python3.10/site-packages/prompt_toolkit/output/__init__.py\": 1738206370.2406285, \"/home/oren/work/notes/notes-nlp/.venv/lib/python3.10/site-packages/prompt_toolkit/output/vt100.py\": 1738206370.2416286, \"/home/oren/work/notes/notes-nlp/.venv/lib/python3.10/site-packages/prompt_toolkit/mouse_events.py\": 1738206370.2296288, \"/home/oren/work/notes/notes-nlp/.venv/lib/python3.10/site-packages/prompt_toolkit/formatted_text/base.py\": 1738206370.2346287, \"/home/oren/work/notes/notes-nlp/.venv/lib/python3.10/site-packages/prompt_toolkit/formatted_text/ansi.py\": 1738206370.2346287, \"/usr/lib/python3.10/xml/__init__.py\": 1737124534.0, \"/usr/lib/python3.10/xml/dom/domreg.py\": 1737124534.0, \"/usr/lib/python3.10/xml/dom/__init__.py\": 1737124534.0, \"/usr/lib/python3.10/xml/dom/minicompat.py\": 1737124534.0, \"/usr/lib/python3.10/xml/dom/NodeFilter.py\": 1737124534.0, \"/usr/lib/python3.10/xml/dom/xmlbuilder.py\": 1737124534.0, \"/usr/lib/python3.10/xml/dom/minidom.py\": 1737124534.0, \"/home/oren/work/notes/notes-nlp/.venv/lib/python3.10/site-packages/prompt_toolkit/formatted_text/html.py\": 1738206370.2346287, \"/home/oren/work/notes/notes-nlp/.venv/lib/python3.10/site-packages/prompt_toolkit/formatted_text/pygments.py\": 1738206370.2346287, \"/home/oren/work/notes/notes-nlp/.venv/lib/python3.10/site-packages/prompt_toolkit/formatted_text/utils.py\": 1738206370.2346287, \"/home/oren/work/notes/notes-nlp/.venv/lib/python3.10/site-packages/prompt_toolkit/formatted_text/__init__.py\": 1738206370.2346287, \"/home/oren/work/notes/notes-nlp/.venv/lib/python3.10/site-packages/prompt_toolkit/completion/base.py\": 1738206370.2316287, \"/home/oren/work/notes/notes-nlp/.venv/lib/python3.10/site-packages/prompt_toolkit/completion/deduplicate.py\": 1738206370.2316287, \"/home/oren/work/notes/notes-nlp/.venv/lib/python3.10/site-packages/prompt_toolkit/completion/filesystem.py\": 1738206370.2316287, \"/home/oren/work/notes/notes-nlp/.venv/lib/python3.10/site-packages/prompt_toolkit/completion/word_completer.py\": 1738206370.2326288, \"/home/oren/work/notes/notes-nlp/.venv/lib/python3.10/site-packages/prompt_toolkit/completion/fuzzy_completer.py\": 1738206370.2316287, \"/home/oren/work/notes/notes-nlp/.venv/lib/python3.10/site-packages/prompt_toolkit/completion/nested.py\": 1738206370.2326288, \"/home/oren/work/notes/notes-nlp/.venv/lib/python3.10/site-packages/prompt_toolkit/completion/__init__.py\": 1738206370.2316287, \"/home/oren/work/notes/notes-nlp/.venv/lib/python3.10/site-packages/prompt_toolkit/history.py\": 1738206370.2296288, \"/home/oren/work/notes/notes-nlp/.venv/lib/python3.10/site-packages/prompt_toolkit/search.py\": 1738206370.2306287, \"/home/oren/work/notes/notes-nlp/.venv/lib/python3.10/site-packages/prompt_toolkit/validation.py\": 1738206370.2306287, \"/home/oren/work/notes/notes-nlp/.venv/lib/python3.10/site-packages/prompt_toolkit/buffer.py\": 1738206370.2286289, \"/home/oren/work/notes/notes-nlp/.venv/lib/python3.10/site-packages/prompt_toolkit/input/base.py\": 1738206370.2356286, \"/home/oren/work/notes/notes-nlp/.venv/lib/python3.10/site-packages/prompt_toolkit/input/defaults.py\": 1738206370.2356286, \"/home/oren/work/notes/notes-nlp/.venv/lib/python3.10/site-packages/prompt_toolkit/input/__init__.py\": 1738206370.2356286, \"/home/oren/work/notes/notes-nlp/.venv/lib/python3.10/site-packages/prompt_toolkit/input/typeahead.py\": 1738206370.2356286, \"/home/oren/work/notes/notes-nlp/.venv/lib/python3.10/site-packages/prompt_toolkit/key_binding/bindings/__init__.py\": 1738206370.2366285, \"/home/oren/work/notes/notes-nlp/.venv/lib/python3.10/site-packages/prompt_toolkit/key_binding/bindings/scroll.py\": 1738206370.2386286, \"/home/oren/work/notes/notes-nlp/.venv/lib/python3.10/site-packages/prompt_toolkit/key_binding/bindings/page_navigation.py\": 1738206370.2376287, \"/home/oren/work/notes/notes-nlp/.venv/lib/python3.10/site-packages/prompt_toolkit/lexers/base.py\": 1738206370.2406285, \"/home/oren/work/notes/notes-nlp/.venv/lib/python3.10/site-packages/prompt_toolkit/lexers/pygments.py\": 1738206370.2406285, \"/home/oren/work/notes/notes-nlp/.venv/lib/python3.10/site-packages/prompt_toolkit/lexers/__init__.py\": 1738206370.2406285, \"/home/oren/work/notes/notes-nlp/.venv/lib/python3.10/site-packages/prompt_toolkit/layout/utils.py\": 1738206370.2406285, \"/home/oren/work/notes/notes-nlp/.venv/lib/python3.10/site-packages/prompt_toolkit/layout/processors.py\": 1738206370.2396286, \"/home/oren/work/notes/notes-nlp/.venv/lib/python3.10/site-packages/prompt_toolkit/layout/controls.py\": 1738206370.2396286, \"/home/oren/work/notes/notes-nlp/.venv/lib/python3.10/site-packages/prompt_toolkit/layout/dimension.py\": 1738206370.2396286, \"/home/oren/work/notes/notes-nlp/.venv/lib/python3.10/site-packages/prompt_toolkit/layout/margins.py\": 1738206370.2396286, \"/home/oren/work/notes/notes-nlp/.venv/lib/python3.10/site-packages/prompt_toolkit/layout/mouse_handlers.py\": 1738206370.2396286, \"/home/oren/work/notes/notes-nlp/.venv/lib/python3.10/site-packages/prompt_toolkit/layout/screen.py\": 1738206370.2396286, \"/home/oren/work/notes/notes-nlp/.venv/lib/python3.10/site-packages/prompt_toolkit/layout/containers.py\": 1738206370.2386286, \"/home/oren/work/notes/notes-nlp/.venv/lib/python3.10/site-packages/prompt_toolkit/layout/layout.py\": 1738206370.2396286, \"/home/oren/work/notes/notes-nlp/.venv/lib/python3.10/site-packages/prompt_toolkit/layout/menus.py\": 1738206370.2396286, \"/home/oren/work/notes/notes-nlp/.venv/lib/python3.10/site-packages/prompt_toolkit/layout/scrollable_pane.py\": 1738206370.2406285, \"/home/oren/work/notes/notes-nlp/.venv/lib/python3.10/site-packages/prompt_toolkit/layout/__init__.py\": 1738206370.2386286, \"/home/oren/work/notes/notes-nlp/.venv/lib/python3.10/site-packages/prompt_toolkit/key_binding/bindings/completion.py\": 1738206370.2376287, \"/home/oren/work/notes/notes-nlp/.venv/lib/python3.10/site-packages/prompt_toolkit/key_binding/bindings/named_commands.py\": 1738206370.2376287, \"/home/oren/work/notes/notes-nlp/.venv/lib/python3.10/site-packages/prompt_toolkit/key_binding/bindings/basic.py\": 1738206370.2376287, \"/home/oren/work/notes/notes-nlp/.venv/lib/python3.10/site-packages/prompt_toolkit/key_binding/bindings/cpr.py\": 1738206370.2376287, \"/home/oren/work/notes/notes-nlp/.venv/lib/python3.10/site-packages/prompt_toolkit/key_binding/bindings/emacs.py\": 1738206370.2376287, \"/home/oren/work/notes/notes-nlp/.venv/lib/python3.10/site-packages/prompt_toolkit/key_binding/bindings/mouse.py\": 1738206370.2376287, \"/home/oren/work/notes/notes-nlp/.venv/lib/python3.10/site-packages/prompt_toolkit/input/ansi_escape_sequences.py\": 1738206370.2356286, \"/home/oren/work/notes/notes-nlp/.venv/lib/python3.10/site-packages/prompt_toolkit/input/vt100_parser.py\": 1738206370.2356286, \"/home/oren/work/notes/notes-nlp/.venv/lib/python3.10/site-packages/prompt_toolkit/key_binding/digraphs.py\": 1738206370.2366285, \"/home/oren/work/notes/notes-nlp/.venv/lib/python3.10/site-packages/prompt_toolkit/key_binding/bindings/vi.py\": 1738206370.2386286, \"/home/oren/work/notes/notes-nlp/.venv/lib/python3.10/site-packages/prompt_toolkit/key_binding/defaults.py\": 1738206370.2366285, \"/home/oren/work/notes/notes-nlp/.venv/lib/python3.10/site-packages/prompt_toolkit/key_binding/emacs_state.py\": 1738206370.2366285, \"/home/oren/work/notes/notes-nlp/.venv/lib/python3.10/site-packages/prompt_toolkit/layout/dummy.py\": 1738206370.2396286, \"/home/oren/work/notes/notes-nlp/.venv/lib/python3.10/site-packages/prompt_toolkit/renderer.py\": 1738206370.2296288, \"/home/oren/work/notes/notes-nlp/.venv/lib/python3.10/site-packages/prompt_toolkit/application/application.py\": 1738206370.2306287, \"/home/oren/work/notes/notes-nlp/.venv/lib/python3.10/site-packages/prompt_toolkit/application/dummy.py\": 1738206370.2316287, \"/home/oren/work/notes/notes-nlp/.venv/lib/python3.10/site-packages/prompt_toolkit/application/__init__.py\": 1738206370.2306287, \"/home/oren/work/notes/notes-nlp/.venv/lib/python3.10/site-packages/prompt_toolkit/key_binding/bindings/focus.py\": 1738206370.2376287, \"/home/oren/work/notes/notes-nlp/.venv/lib/python3.10/site-packages/prompt_toolkit/widgets/toolbars.py\": 1738206370.2436285, \"/home/oren/work/notes/notes-nlp/.venv/lib/python3.10/site-packages/prompt_toolkit/widgets/base.py\": 1738206370.2436285, \"/home/oren/work/notes/notes-nlp/.venv/lib/python3.10/site-packages/prompt_toolkit/widgets/dialogs.py\": 1738206370.2436285, \"/home/oren/work/notes/notes-nlp/.venv/lib/python3.10/site-packages/prompt_toolkit/widgets/menus.py\": 1738206370.2436285, \"/home/oren/work/notes/notes-nlp/.venv/lib/python3.10/site-packages/prompt_toolkit/widgets/__init__.py\": 1738206370.2436285, \"/home/oren/work/notes/notes-nlp/.venv/lib/python3.10/site-packages/prompt_toolkit/shortcuts/dialogs.py\": 1738206370.2416286, \"/usr/lib/python3.10/xml/parsers/__init__.py\": 1737124534.0, \"/usr/lib/python3.10/xml/parsers/expat.py\": 1737124534.0, \"/usr/lib/python3.10/xml/dom/expatbuilder.py\": 1737124534.0, \"/home/oren/work/notes/notes-nlp/.venv/lib/python3.10/site-packages/prompt_toolkit/shortcuts/progress_bar/formatters.py\": 1738206370.2426286, \"/home/oren/work/notes/notes-nlp/.venv/lib/python3.10/site-packages/prompt_toolkit/shortcuts/progress_bar/base.py\": 1738206370.2426286, \"/home/oren/work/notes/notes-nlp/.venv/lib/python3.10/site-packages/prompt_toolkit/shortcuts/progress_bar/__init__.py\": 1738206370.2426286, \"/home/oren/work/notes/notes-nlp/.venv/lib/python3.10/site-packages/prompt_toolkit/key_binding/bindings/auto_suggest.py\": 1738206370.2376287, \"/home/oren/work/notes/notes-nlp/.venv/lib/python3.10/site-packages/prompt_toolkit/key_binding/bindings/open_in_editor.py\": 1738206370.2376287, \"/home/oren/work/notes/notes-nlp/.venv/lib/python3.10/site-packages/prompt_toolkit/shortcuts/prompt.py\": 1738206370.2416286, \"/home/oren/work/notes/notes-nlp/.venv/lib/python3.10/site-packages/prompt_toolkit/shortcuts/utils.py\": 1738206370.2426286, \"/home/oren/work/notes/notes-nlp/.venv/lib/python3.10/site-packages/prompt_toolkit/shortcuts/__init__.py\": 1738206370.2416286, \"/home/oren/work/notes/notes-nlp/.venv/lib/python3.10/site-packages/prompt_toolkit/__init__.py\": 1738206370.2286289, \"/home/oren/work/notes/notes-nlp/.venv/lib/python3.10/site-packages/prompt_toolkit/patch_stdout.py\": 1738206370.2296288, \"/home/oren/work/notes/notes-nlp/.venv/lib/python3.10/site-packages/IPython/core/guarded_eval.py\": 1738211116.3588548, \"/home/oren/work/notes/notes-nlp/.venv/lib/python3.10/site-packages/IPython/core/latex_symbols.py\": 1738211116.3608549, \"/home/oren/work/notes/notes-nlp/.venv/lib/python3.10/site-packages/IPython/utils/generics.py\": 1738211116.3798544, \"/home/oren/work/notes/notes-nlp/.venv/lib/python3.10/site-packages/parso/utils.py\": 1738206370.6126225, \"/home/oren/work/notes/notes-nlp/.venv/lib/python3.10/site-packages/parso/tree.py\": 1738206370.6116226, \"/home/oren/work/notes/notes-nlp/.venv/lib/python3.10/site-packages/parso/python/__init__.py\": 1738206370.6126225, \"/home/oren/work/notes/notes-nlp/.venv/lib/python3.10/site-packages/parso/python/token.py\": 1738206370.6146226, \"/home/oren/work/notes/notes-nlp/.venv/lib/python3.10/site-packages/parso/python/tokenize.py\": 1738206370.6146226, \"/home/oren/work/notes/notes-nlp/.venv/lib/python3.10/site-packages/parso/pgen2/grammar_parser.py\": 1738206370.6126225, \"/home/oren/work/notes/notes-nlp/.venv/lib/python3.10/site-packages/parso/pgen2/generator.py\": 1738206370.6126225, \"/home/oren/work/notes/notes-nlp/.venv/lib/python3.10/site-packages/parso/pgen2/__init__.py\": 1738206370.6126225, \"/home/oren/work/notes/notes-nlp/.venv/lib/python3.10/site-packages/parso/parser.py\": 1738206370.6116226, \"/home/oren/work/notes/notes-nlp/.venv/lib/python3.10/site-packages/parso/_compatibility.py\": 1738206370.6116226, \"/usr/lib/python3.10/difflib.py\": 1737124534.0, \"/home/oren/work/notes/notes-nlp/.venv/lib/python3.10/site-packages/parso/python/prefix.py\": 1738206370.6146226, \"/home/oren/work/notes/notes-nlp/.venv/lib/python3.10/site-packages/parso/python/tree.py\": 1738206370.6146226, \"/home/oren/work/notes/notes-nlp/.venv/lib/python3.10/site-packages/parso/python/parser.py\": 1738206370.6136224, \"/home/oren/work/notes/notes-nlp/.venv/lib/python3.10/site-packages/parso/python/diff.py\": 1738206370.6126225, \"/home/oren/work/notes/notes-nlp/.venv/lib/python3.10/site-packages/parso/cache.py\": 1738206370.6116226, \"/home/oren/work/notes/notes-nlp/.venv/lib/python3.10/site-packages/parso/normalizer.py\": 1738206370.6116226, \"/home/oren/work/notes/notes-nlp/.venv/lib/python3.10/site-packages/parso/python/errors.py\": 1738206370.6126225, \"/home/oren/work/notes/notes-nlp/.venv/lib/python3.10/site-packages/parso/python/pep8.py\": 1738206370.6136224, \"/home/oren/work/notes/notes-nlp/.venv/lib/python3.10/site-packages/parso/file_io.py\": 1738206370.6116226, \"/home/oren/work/notes/notes-nlp/.venv/lib/python3.10/site-packages/parso/grammar.py\": 1738206370.6116226, \"/home/oren/work/notes/notes-nlp/.venv/lib/python3.10/site-packages/parso/__init__.py\": 1738206370.6116226, \"/home/oren/work/notes/notes-nlp/.venv/lib/python3.10/site-packages/jedi/parser_utils.py\": 1738208869.6675534, \"/home/oren/work/notes/notes-nlp/.venv/lib/python3.10/site-packages/jedi/debug.py\": 1738208869.6675534, \"/home/oren/work/notes/notes-nlp/.venv/lib/python3.10/site-packages/jedi/settings.py\": 1738208869.6675534, \"/home/oren/work/notes/notes-nlp/.venv/lib/python3.10/site-packages/jedi/cache.py\": 1738208869.6665533, \"/home/oren/work/notes/notes-nlp/.venv/lib/python3.10/site-packages/jedi/file_io.py\": 1738208869.6675534, \"/home/oren/work/notes/notes-nlp/.venv/lib/python3.10/site-packages/jedi/inference/cache.py\": 1738208869.6695533, \"/home/oren/work/notes/notes-nlp/.venv/lib/python3.10/site-packages/jedi/inference/helpers.py\": 1738208869.6705532, \"/home/oren/work/notes/notes-nlp/.venv/lib/python3.10/site-packages/jedi/inference/utils.py\": 1738208869.6715531, \"/home/oren/work/notes/notes-nlp/.venv/lib/python3.10/site-packages/jedi/inference/base_value.py\": 1738208869.6695533, \"/home/oren/work/notes/notes-nlp/.venv/lib/python3.10/site-packages/jedi/inference/sys_path.py\": 1738208869.6715531, \"/home/oren/work/notes/notes-nlp/.venv/lib/python3.10/site-packages/jedi/inference/recursion.py\": 1738208869.6715531, \"/home/oren/work/notes/notes-nlp/.venv/lib/python3.10/site-packages/jedi/inference/flow_analysis.py\": 1738208869.6705532, \"/home/oren/work/notes/notes-nlp/.venv/lib/python3.10/site-packages/jedi/common.py\": 1738208869.6675534, \"/home/oren/work/notes/notes-nlp/.venv/lib/python3.10/site-packages/jedi/inference/lazy_value.py\": 1738208869.6705532, \"/home/oren/work/notes/notes-nlp/.venv/lib/python3.10/site-packages/jedi/inference/docstrings.py\": 1738208869.6705532, \"/home/oren/work/notes/notes-nlp/.venv/lib/python3.10/site-packages/jedi/plugins/__init__.py\": 1738208869.6745532, \"/home/oren/work/notes/notes-nlp/.venv/lib/python3.10/site-packages/jedi/inference/names.py\": 1738208869.6705532, \"/home/oren/work/notes/notes-nlp/.venv/lib/python3.10/site-packages/jedi/inference/filters.py\": 1738208869.6705532, \"/home/oren/work/notes/notes-nlp/.venv/lib/python3.10/site-packages/jedi/inference/compiled/getattr_static.py\": 1738208869.6725533, \"/home/oren/work/notes/notes-nlp/.venv/lib/python3.10/site-packages/jedi/inference/compiled/access.py\": 1738208869.6725533, \"/home/oren/work/notes/notes-nlp/.venv/lib/python3.10/site-packages/jedi/inference/signature.py\": 1738208869.6715531, \"/home/oren/work/notes/notes-nlp/.venv/lib/python3.10/site-packages/jedi/inference/context.py\": 1738208869.6695533, \"/home/oren/work/notes/notes-nlp/.venv/lib/python3.10/site-packages/jedi/inference/compiled/value.py\": 1738208869.6725533, \"/home/oren/work/notes/notes-nlp/.venv/lib/python3.10/site-packages/jedi/inference/compiled/__init__.py\": 1738208869.6715531, \"/home/oren/work/notes/notes-nlp/.venv/lib/python3.10/site-packages/jedi/inference/analysis.py\": 1738208869.6695533, \"/home/oren/work/notes/notes-nlp/.venv/lib/python3.10/site-packages/jedi/inference/gradual/__init__.py\": 1738208869.6725533, \"/home/oren/work/notes/notes-nlp/.venv/lib/python3.10/site-packages/jedi/inference/value/module.py\": 1738208869.6745532, \"/home/oren/work/notes/notes-nlp/.venv/lib/python3.10/site-packages/jedi/inference/value/dynamic_arrays.py\": 1738208869.6735532, \"/home/oren/work/notes/notes-nlp/.venv/lib/python3.10/site-packages/jedi/inference/value/iterable.py\": 1738208869.6745532, \"/home/oren/work/notes/notes-nlp/.venv/lib/python3.10/site-packages/jedi/inference/arguments.py\": 1738208869.6695533, \"/home/oren/work/notes/notes-nlp/.venv/lib/python3.10/site-packages/jedi/inference/parser_cache.py\": 1738208869.6715531, \"/home/oren/work/notes/notes-nlp/.venv/lib/python3.10/site-packages/jedi/inference/gradual/generics.py\": 1738208869.6735532, \"/home/oren/work/notes/notes-nlp/.venv/lib/python3.10/site-packages/jedi/inference/value/function.py\": 1738208869.6745532, \"/home/oren/work/notes/notes-nlp/.venv/lib/python3.10/site-packages/jedi/inference/value/klass.py\": 1738208869.6745532, \"/home/oren/work/notes/notes-nlp/.venv/lib/python3.10/site-packages/jedi/inference/value/instance.py\": 1738208869.6745532, \"/home/oren/work/notes/notes-nlp/.venv/lib/python3.10/site-packages/jedi/inference/value/__init__.py\": 1738208869.6735532, \"/home/oren/work/notes/notes-nlp/.venv/lib/python3.10/site-packages/jedi/inference/gradual/base.py\": 1738208869.6735532, \"/home/oren/work/notes/notes-nlp/.venv/lib/python3.10/site-packages/jedi/inference/gradual/type_var.py\": 1738208869.6735532, \"/home/oren/work/notes/notes-nlp/.venv/lib/python3.10/site-packages/jedi/inference/gradual/typing.py\": 1738208869.6735532, \"/home/oren/work/notes/notes-nlp/.venv/lib/python3.10/site-packages/jedi/inference/gradual/stub_value.py\": 1738208869.6735532, \"/home/oren/work/notes/notes-nlp/.venv/lib/python3.10/site-packages/jedi/inference/gradual/typeshed.py\": 1738208869.6735532, \"/home/oren/work/notes/notes-nlp/.venv/lib/python3.10/site-packages/jedi/_compatibility.py\": 1738208869.6665533, \"/home/oren/work/notes/notes-nlp/.venv/lib/python3.10/site-packages/jedi/inference/compiled/subprocess/functions.py\": 1738208869.6725533, \"/home/oren/work/notes/notes-nlp/.venv/lib/python3.10/site-packages/jedi/api/exceptions.py\": 1738208869.6685534, \"/home/oren/work/notes/notes-nlp/.venv/lib/python3.10/site-packages/jedi/inference/compiled/subprocess/__init__.py\": 1738208869.6725533, \"/home/oren/work/notes/notes-nlp/.venv/lib/python3.10/site-packages/jedi/inference/imports.py\": 1738208869.6705532, \"/home/oren/work/notes/notes-nlp/.venv/lib/python3.10/site-packages/jedi/inference/param.py\": 1738208869.6715531, \"/home/oren/work/notes/notes-nlp/.venv/lib/python3.10/site-packages/jedi/inference/gradual/annotation.py\": 1738208869.6725533, \"/home/oren/work/notes/notes-nlp/.venv/lib/python3.10/site-packages/jedi/inference/value/decorator.py\": 1738208869.6735532, \"/home/oren/work/notes/notes-nlp/.venv/lib/python3.10/site-packages/jedi/inference/syntax_tree.py\": 1738208869.6715531, \"/home/oren/work/notes/notes-nlp/.venv/lib/python3.10/site-packages/jedi/inference/__init__.py\": 1738208869.6695533, \"/home/oren/work/notes/notes-nlp/.venv/lib/python3.10/site-packages/jedi/inference/gradual/conversion.py\": 1738208869.6735532, \"/home/oren/work/notes/notes-nlp/.venv/lib/python3.10/site-packages/jedi/inference/compiled/mixed.py\": 1738208869.6725533, \"/usr/lib/python3.10/pydoc_data/__init__.py\": 1737124534.0, \"/usr/lib/python3.10/pydoc_data/topics.py\": 1737124534.0, \"/home/oren/work/notes/notes-nlp/.venv/lib/python3.10/site-packages/jedi/api/keywords.py\": 1738208869.6685534, \"/home/oren/work/notes/notes-nlp/.venv/lib/python3.10/site-packages/jedi/api/completion_cache.py\": 1738208869.6685534, \"/home/oren/work/notes/notes-nlp/.venv/lib/python3.10/site-packages/jedi/api/helpers.py\": 1738208869.6685534, \"/home/oren/work/notes/notes-nlp/.venv/lib/python3.10/site-packages/jedi/api/classes.py\": 1738208869.6675534, \"/home/oren/work/notes/notes-nlp/.venv/lib/python3.10/site-packages/jedi/api/interpreter.py\": 1738208869.6685534, \"/home/oren/work/notes/notes-nlp/.venv/lib/python3.10/site-packages/jedi/api/strings.py\": 1738208869.6695533, \"/home/oren/work/notes/notes-nlp/.venv/lib/python3.10/site-packages/jedi/api/file_name.py\": 1738208869.6685534, \"/home/oren/work/notes/notes-nlp/.venv/lib/python3.10/site-packages/jedi/inference/docstring_utils.py\": 1738208869.6705532, \"/home/oren/work/notes/notes-nlp/.venv/lib/python3.10/site-packages/jedi/api/completion.py\": 1738208869.6685534, \"/usr/lib/python3.10/filecmp.py\": 1737124534.0, \"/home/oren/work/notes/notes-nlp/.venv/lib/python3.10/site-packages/jedi/api/environment.py\": 1738208869.6685534, \"/home/oren/work/notes/notes-nlp/.venv/lib/python3.10/site-packages/jedi/inference/references.py\": 1738208869.6715531, \"/home/oren/work/notes/notes-nlp/.venv/lib/python3.10/site-packages/jedi/api/project.py\": 1738208869.6685534, \"/home/oren/work/notes/notes-nlp/.venv/lib/python3.10/site-packages/jedi/api/errors.py\": 1738208869.6685534, \"/home/oren/work/notes/notes-nlp/.venv/lib/python3.10/site-packages/jedi/inference/value/namespace.py\": 1738208869.6745532, \"/home/oren/work/notes/notes-nlp/.venv/lib/python3.10/site-packages/jedi/api/refactoring/__init__.py\": 1738208869.6695533, \"/home/oren/work/notes/notes-nlp/.venv/lib/python3.10/site-packages/jedi/api/refactoring/extract.py\": 1738208869.6695533, \"/home/oren/work/notes/notes-nlp/.venv/lib/python3.10/site-packages/jedi/inference/gradual/utils.py\": 1738208869.6735532, \"/home/oren/work/notes/notes-nlp/.venv/lib/python3.10/site-packages/jedi/api/__init__.py\": 1738208869.6675534, \"/home/oren/work/notes/notes-nlp/.venv/lib/python3.10/site-packages/jedi/plugins/stdlib.py\": 1738208869.675553, \"/home/oren/work/notes/notes-nlp/.venv/lib/python3.10/site-packages/jedi/plugins/flask.py\": 1738208869.6745532, \"/home/oren/work/notes/notes-nlp/.venv/lib/python3.10/site-packages/jedi/plugins/pytest.py\": 1738208869.675553, \"/home/oren/work/notes/notes-nlp/.venv/lib/python3.10/site-packages/jedi/plugins/django.py\": 1738208869.6745532, \"/home/oren/work/notes/notes-nlp/.venv/lib/python3.10/site-packages/jedi/plugins/registry.py\": 1738208869.675553, \"/home/oren/work/notes/notes-nlp/.venv/lib/python3.10/site-packages/jedi/__init__.py\": 1738208869.6665533, \"/home/oren/work/notes/notes-nlp/.venv/lib/python3.10/site-packages/IPython/core/completer.py\": 1738211116.356855, \"/home/oren/work/notes/notes-nlp/.venv/lib/python3.10/site-packages/IPython/terminal/ptutils.py\": 1738211116.3748546, \"/home/oren/work/notes/notes-nlp/.venv/lib/python3.10/site-packages/IPython/terminal/shortcuts/auto_match.py\": 1738211116.3758545, \"/home/oren/work/notes/notes-nlp/.venv/lib/python3.10/site-packages/IPython/terminal/shortcuts/filters.py\": 1738211116.3758545, \"/home/oren/work/notes/notes-nlp/.venv/lib/python3.10/site-packages/IPython/terminal/shortcuts/auto_suggest.py\": 1738211116.3758545, \"/home/oren/work/notes/notes-nlp/.venv/lib/python3.10/site-packages/IPython/terminal/shortcuts/__init__.py\": 1738211116.3758545, \"/usr/lib/python3.10/concurrent/futures/thread.py\": 1737124534.0, \"/home/oren/work/notes/notes-nlp/.venv/lib/python3.10/site-packages/IPython/terminal/debugger.py\": 1738211116.3738546, \"/home/oren/work/notes/notes-nlp/.venv/lib/python3.10/site-packages/IPython/lib/clipboard.py\": 1738211116.3708546, \"/home/oren/work/notes/notes-nlp/.venv/lib/python3.10/site-packages/IPython/terminal/magics.py\": 1738211116.3748546, \"/home/oren/work/notes/notes-nlp/.venv/lib/python3.10/site-packages/IPython/terminal/pt_inputhooks/__init__.py\": 1738211116.3748546, \"/home/oren/work/notes/notes-nlp/.venv/lib/python3.10/site-packages/IPython/terminal/prompts.py\": 1738211116.3748546, \"/home/oren/work/notes/notes-nlp/.venv/lib/python3.10/site-packages/IPython/terminal/interactiveshell.py\": 1738211116.3738546, \"/home/oren/work/notes/notes-nlp/.venv/lib/python3.10/site-packages/IPython/core/magics/auto.py\": 1738211116.3628547, \"/home/oren/work/notes/notes-nlp/.venv/lib/python3.10/site-packages/IPython/core/magics/basic.py\": 1738211116.3628547, \"/usr/lib/python3.10/http/__init__.py\": 1737124534.0, \"/usr/lib/python3.10/email/feedparser.py\": 1737124534.0, \"/usr/lib/python3.10/email/parser.py\": 1737124534.0, \"/usr/lib/python3.10/http/client.py\": 1737124534.0, \"/usr/lib/python3.10/urllib/response.py\": 1737124534.0, \"/usr/lib/python3.10/urllib/error.py\": 1737124534.0, \"/usr/lib/python3.10/urllib/request.py\": 1737124534.0, \"/home/oren/work/notes/notes-nlp/.venv/lib/python3.10/site-packages/IPython/utils/contexts.py\": 1738211116.3798544, \"/home/oren/work/notes/notes-nlp/.venv/lib/python3.10/site-packages/IPython/core/magics/code.py\": 1738211116.363855, \"/home/oren/work/notes/notes-nlp/.venv/lib/python3.10/site-packages/IPython/core/magics/config.py\": 1738211116.363855, \"/home/oren/work/notes/notes-nlp/.venv/lib/python3.10/site-packages/IPython/core/magics/display.py\": 1738211116.363855, \"/usr/lib/python3.10/lib-dynload/_lsprof.cpython-310-x86_64-linux-gnu.so\": 1737124534.0, \"/usr/lib/python3.10/profile.py\": 1737124534.0, \"/usr/lib/python3.10/cProfile.py\": 1737124534.0, \"/usr/lib/python3.10/pstats.py\": 1737124534.0, \"/usr/lib/python3.10/timeit.py\": 1737124534.0, \"/home/oren/work/notes/notes-nlp/.venv/lib/python3.10/site-packages/IPython/utils/module_paths.py\": 1738211116.3808546, \"/usr/lib/python3.10/lib-dynload/resource.cpython-310-x86_64-linux-gnu.so\": 1737124534.0, \"/home/oren/work/notes/notes-nlp/.venv/lib/python3.10/site-packages/IPython/utils/timing.py\": 1738211116.3818545, \"/home/oren/work/notes/notes-nlp/.venv/lib/python3.10/site-packages/IPython/core/magics/ast_mod.py\": 1738211116.3628547, \"/home/oren/work/notes/notes-nlp/.venv/lib/python3.10/site-packages/IPython/core/magics/execution.py\": 1738211116.363855, \"/home/oren/work/notes/notes-nlp/.venv/lib/python3.10/site-packages/IPython/core/magics/extension.py\": 1738211116.363855, \"/home/oren/work/notes/notes-nlp/.venv/lib/python3.10/site-packages/IPython/core/magics/history.py\": 1738211116.363855, \"/home/oren/work/notes/notes-nlp/.venv/lib/python3.10/site-packages/IPython/core/magics/logging.py\": 1738211116.363855, \"/home/oren/work/notes/notes-nlp/.venv/lib/python3.10/site-packages/IPython/core/magics/namespace.py\": 1738211116.363855, \"/home/oren/work/notes/notes-nlp/.venv/lib/python3.10/site-packages/IPython/core/magics/osm.py\": 1738211116.3648548, \"/home/oren/work/notes/notes-nlp/.venv/lib/python3.10/site-packages/IPython/core/magics/packaging.py\": 1738211116.3648548, \"/home/oren/work/notes/notes-nlp/.venv/lib/python3.10/site-packages/IPython/core/magics/pylab.py\": 1738211116.3648548, \"/home/oren/work/notes/notes-nlp/.venv/lib/python3.10/site-packages/IPython/core/magics/script.py\": 1738211116.3648548, \"/home/oren/work/notes/notes-nlp/.venv/lib/python3.10/site-packages/IPython/core/magics/__init__.py\": 1738211116.3628547, \"/home/oren/work/notes/notes-nlp/.venv/lib/python3.10/site-packages/IPython/core/shellapp.py\": 1738211116.3618548, \"/home/oren/work/notes/notes-nlp/.venv/lib/python3.10/site-packages/IPython/extensions/__init__.py\": 1738211116.3698547, \"/home/oren/work/notes/notes-nlp/.venv/lib/python3.10/site-packages/IPython/extensions/storemagic.py\": 1738211116.3698547, \"/home/oren/work/notes/notes-nlp/.venv/lib/python3.10/site-packages/IPython/terminal/ipapp.py\": 1738211116.3738546, \"/home/oren/work/notes/notes-nlp/.venv/lib/python3.10/site-packages/IPython/terminal/embed.py\": 1738211116.3738546, \"/home/oren/work/notes/notes-nlp/.venv/lib/python3.10/site-packages/IPython/utils/frame.py\": 1738211116.3798544, \"/home/oren/work/notes/notes-nlp/.venv/lib/python3.10/site-packages/IPython/__init__.py\": 1738211116.355855, \"/home/oren/work/notes/notes-nlp/.venv/lib/python3.10/site-packages/ipykernel/control.py\": 1738211119.9207983, \"/home/oren/work/notes/notes-nlp/.venv/lib/python3.10/site-packages/ipykernel/heartbeat.py\": 1738211119.9207983, \"/home/oren/work/notes/notes-nlp/.venv/lib/python3.10/site-packages/ipykernel/iostream.py\": 1738211119.9217982, \"/home/oren/work/notes/notes-nlp/.venv/lib/python3.10/site-packages/comm/base_comm.py\": 1738208871.9115176, \"/home/oren/work/notes/notes-nlp/.venv/lib/python3.10/site-packages/comm/__init__.py\": 1738208871.9115176, \"/home/oren/work/notes/notes-nlp/.venv/lib/python3.10/site-packages/ipykernel/jsonutil.py\": 1738211119.9217982, \"/home/oren/work/notes/notes-nlp/.venv/lib/python3.10/site-packages/psutil/_common.py\": 1738206370.0776312, \"/home/oren/work/notes/notes-nlp/.venv/lib/python3.10/site-packages/psutil/_compat.py\": 1738206370.0786312, \"/home/oren/work/notes/notes-nlp/.venv/lib/python3.10/site-packages/psutil/_psposix.py\": 1738206370.0776312, \"/home/oren/work/notes/notes-nlp/.venv/lib/python3.10/site-packages/psutil/_psutil_linux.abi3.so\": 1738206370.079631, \"/home/oren/work/notes/notes-nlp/.venv/lib/python3.10/site-packages/psutil/_psutil_posix.abi3.so\": 1738206370.0776312, \"/home/oren/work/notes/notes-nlp/.venv/lib/python3.10/site-packages/psutil/_pslinux.py\": 1738206370.0766313, \"/home/oren/work/notes/notes-nlp/.venv/lib/python3.10/site-packages/psutil/__init__.py\": 1738206370.0786312, \"/home/oren/work/notes/notes-nlp/.venv/lib/python3.10/site-packages/tornado/gen.py\": 1738206367.9866652, \"/home/oren/work/notes/notes-nlp/.venv/lib/python3.10/site-packages/tornado/locks.py\": 1738206367.9856653, \"/home/oren/work/notes/notes-nlp/.venv/lib/python3.10/site-packages/tornado/queues.py\": 1738206367.9906652, \"/home/oren/work/notes/notes-nlp/.venv/lib/python3.10/site-packages/ipykernel/kernelbase.py\": 1738211119.9217982, \"/home/oren/work/notes/notes-nlp/.venv/lib/python3.10/site-packages/ipykernel/comm/comm.py\": 1738211119.9227982, \"/home/oren/work/notes/notes-nlp/.venv/lib/python3.10/site-packages/ipykernel/comm/manager.py\": 1738211119.9227982, \"/home/oren/work/notes/notes-nlp/.venv/lib/python3.10/site-packages/ipykernel/comm/__init__.py\": 1738211119.9227982, \"/home/oren/work/notes/notes-nlp/.venv/lib/python3.10/site-packages/ipykernel/compiler.py\": 1738211119.9207983, \"/home/oren/work/notes/notes-nlp/.venv/lib/python3.10/site-packages/packaging/__init__.py\": 1738206370.648622, \"/home/oren/work/notes/notes-nlp/.venv/lib/python3.10/site-packages/packaging/_structures.py\": 1738206370.649622, \"/home/oren/work/notes/notes-nlp/.venv/lib/python3.10/site-packages/packaging/version.py\": 1738206370.650622, \"/home/oren/work/notes/notes-nlp/.venv/lib/python3.10/site-packages/ipykernel/eventloops.py\": 1738211119.9207983, \"/home/oren/work/notes/notes-nlp/.venv/lib/python3.10/site-packages/IPython/core/payloadpage.py\": 1738211116.3618548, \"/home/oren/work/notes/notes-nlp/.venv/lib/python3.10/site-packages/ipykernel/displayhook.py\": 1738211119.9207983, \"/home/oren/work/notes/notes-nlp/.venv/lib/python3.10/site-packages/ipykernel/zmqshell.py\": 1738211119.9227982, \"/home/oren/work/notes/notes-nlp/.venv/lib/python3.10/site-packages/ipykernel/ipkernel.py\": 1738211119.9217982, \"/usr/lib/python3.10/lib-dynload/_ctypes.cpython-310-x86_64-linux-gnu.so\": 1737124534.0, \"/usr/lib/python3.10/ctypes/_endian.py\": 1737124534.0, \"/usr/lib/python3.10/ctypes/__init__.py\": 1737124534.0, \"/home/oren/work/notes/notes-nlp/.venv/lib/python3.10/site-packages/ipykernel/parentpoller.py\": 1738211119.9217982, \"/home/oren/work/notes/notes-nlp/.venv/lib/python3.10/site-packages/ipykernel/kernelapp.py\": 1738211119.9217982, \"/home/oren/work/notes/notes-nlp/.venv/lib/python3.10/site-packages/tornado/platform/__init__.py\": 1738206367.998665, \"/home/oren/work/notes/notes-nlp/.venv/lib/python3.10/site-packages/tornado/platform/asyncio.py\": 1738206367.998665, \"/home/oren/work/notes/notes-nlp/.venv/lib/python3.10/site-packages/debugpy/_version.py\": 1738208871.4625247, \"/home/oren/work/notes/notes-nlp/.venv/lib/python3.10/site-packages/debugpy/public_api.py\": 1738208871.4625247, \"/home/oren/work/notes/notes-nlp/.venv/lib/python3.10/site-packages/debugpy/__init__.py\": 1738208871.4625247, \"/home/oren/work/notes/notes-nlp/.venv/lib/python3.10/site-packages/debugpy/_vendored/_util.py\": 1738208871.4635246, \"/home/oren/work/notes/notes-nlp/.venv/lib/python3.10/site-packages/debugpy/_vendored/__init__.py\": 1738208871.4635246, \"/home/oren/work/notes/notes-nlp/.venv/lib/python3.10/site-packages/debugpy/_vendored/pydevd/_pydevd_bundle/__init__.py\": 1738208871.4765244, \"/usr/lib/python3.10/encodings/ascii.py\": 1737124534.0, \"/usr/lib/python3.10/encodings/latin_1.py\": 1737124534.0, \"/usr/lib/python3.10/stringprep.py\": 1737124534.0, \"/usr/lib/python3.10/encodings/idna.py\": 1737124534.0, \"/home/oren/work/notes/notes-nlp/.venv/lib/python3.10/site-packages/debugpy/_vendored/pydevd/_pydevd_bundle/pydevd_vm_type.py\": 1738208871.4765244, \"/home/oren/work/notes/notes-nlp/.venv/lib/python3.10/site-packages/debugpy/_vendored/pydevd/_pydev_bundle/__init__.py\": 1738208871.4665246, \"/usr/lib/python3.10/xmlrpc/__init__.py\": 1737124534.0, \"/usr/lib/python3.10/gzip.py\": 1737124534.0, \"/usr/lib/python3.10/xmlrpc/client.py\": 1737124534.0, \"/usr/lib/python3.10/http/server.py\": 1737124534.0, \"/usr/lib/python3.10/xmlrpc/server.py\": 1737124534.0, \"/home/oren/work/notes/notes-nlp/.venv/lib/python3.10/site-packages/debugpy/_vendored/pydevd/_pydev_bundle/_pydev_saved_modules.py\": 1738208871.4655247, \"/home/oren/work/notes/notes-nlp/.venv/lib/python3.10/site-packages/debugpy/_vendored/pydevd/_pydevd_bundle/pydevd_constants.py\": 1738208871.4685247, \"/home/oren/work/notes/notes-nlp/.venv/lib/python3.10/site-packages/debugpy/_vendored/pydevd/_pydev_runfiles/__init__.py\": 1738208871.5095239, \"/home/oren/work/notes/notes-nlp/.venv/lib/python3.10/site-packages/debugpy/_vendored/pydevd/_pydevd_frame_eval/__init__.py\": 1738208871.5285237, \"/home/oren/work/notes/notes-nlp/.venv/lib/python3.10/site-packages/debugpy/_vendored/pydevd/pydev_ipython/__init__.py\": 1738208871.507524, \"/home/oren/work/notes/notes-nlp/.venv/lib/python3.10/site-packages/debugpy/_vendored/pydevd/pydevd_plugins/__init__.py\": 1738208871.508524, \"/home/oren/work/notes/notes-nlp/.venv/lib/python3.10/site-packages/debugpy/_vendored/pydevd/_pydev_bundle/pydev_log.py\": 1738208871.4665246, \"/home/oren/work/notes/notes-nlp/.venv/lib/python3.10/site-packages/debugpy/_vendored/pydevd/_pydev_bundle/_pydev_filesystem_encoding.py\": 1738208871.4675245, \"/home/oren/work/notes/notes-nlp/.venv/lib/python3.10/site-packages/debugpy/_vendored/pydevd/_pydevd_bundle/pydevd_comm_constants.py\": 1738208871.4705245, \"/home/oren/work/notes/notes-nlp/.venv/lib/python3.10/site-packages/debugpy/_vendored/pydevd/pydevd_file_utils.py\": 1738208871.4645247, \"/home/oren/work/notes/notes-nlp/.venv/lib/python3.10/site-packages/debugpy/_vendored/pydevd/_pydevd_bundle/pydevd_dont_trace_files.py\": 1738208871.4765244, \"/home/oren/work/notes/notes-nlp/.venv/lib/python3.10/site-packages/debugpy/_vendored/pydevd/_pydev_bundle/_pydev_execfile.py\": 1738208871.4665246, \"/home/oren/work/notes/notes-nlp/.venv/lib/python3.10/site-packages/debugpy/_vendored/pydevd/_pydevd_bundle/pydevd_exec2.py\": 1738208871.496524, \"/home/oren/work/notes/notes-nlp/.venv/lib/python3.10/site-packages/debugpy/_vendored/pydevd/_pydev_bundle/pydev_imports.py\": 1738208871.4675245, \"/home/oren/work/notes/notes-nlp/.venv/lib/python3.10/site-packages/debugpy/_vendored/pydevd/_pydev_bundle/pydev_is_thread_alive.py\": 1738208871.4665246, \"/home/oren/work/notes/notes-nlp/.venv/lib/python3.10/site-packages/debugpy/_vendored/pydevd/_pydev_bundle/pydev_override.py\": 1738208871.4655247, \"/home/oren/work/notes/notes-nlp/.venv/lib/python3.10/site-packages/debugpy/_vendored/pydevd/pydevd_plugins/extensions/__init__.py\": 1738208871.508524, \"/home/oren/work/notes/notes-nlp/.venv/lib/python3.10/site-packages/debugpy/_vendored/pydevd/_pydevd_bundle/pydevd_extension_utils.py\": 1738208871.4685247, \"/home/oren/work/notes/notes-nlp/.venv/lib/python3.10/site-packages/debugpy/_vendored/pydevd/_pydevd_bundle/pydevd_frame_utils.py\": 1738208871.4775245, \"/home/oren/work/notes/notes-nlp/.venv/lib/python3.10/site-packages/debugpy/_vendored/pydevd/_pydevd_bundle/pydevd_filtering.py\": 1738208871.4675245, \"/home/oren/work/notes/notes-nlp/.venv/lib/python3.10/site-packages/debugpy/_vendored/pydevd/_pydevd_bundle/pydevd_io.py\": 1738208871.497524, \"/home/oren/work/notes/notes-nlp/.venv/lib/python3.10/site-packages/debugpy/_vendored/pydevd/_pydevd_bundle/pydevd_defaults.py\": 1738208871.4765244, \"/home/oren/work/notes/notes-nlp/.venv/lib/python3.10/site-packages/debugpy/_vendored/pydevd/_pydevd_bundle/pydevd_utils.py\": 1738208871.4675245, \"/home/oren/work/notes/notes-nlp/.venv/lib/python3.10/site-packages/debugpy/_vendored/pydevd/_pydevd_bundle/pydevd_runpy.py\": 1738208871.4785244, \"/home/oren/work/notes/notes-nlp/.venv/lib/python3.10/site-packages/debugpy/_vendored/pydevd/_pydev_bundle/_pydev_tipper_common.py\": 1738208871.4675245, \"/home/oren/work/notes/notes-nlp/.venv/lib/python3.10/site-packages/debugpy/_vendored/pydevd/_pydev_bundle/_pydev_imports_tipper.py\": 1738208871.4655247, \"/home/oren/work/notes/notes-nlp/.venv/lib/python3.10/site-packages/debugpy/_vendored/pydevd/_pydev_bundle/_pydev_calltip_util.py\": 1738208871.4665246, \"/home/oren/work/notes/notes-nlp/.venv/lib/python3.10/site-packages/debugpy/_vendored/pydevd/_pydevd_bundle/pydevd_safe_repr.py\": 1738208871.4785244, \"/home/oren/work/notes/notes-nlp/.venv/lib/python3.10/site-packages/debugpy/_vendored/pydevd/_pydevd_bundle/pydevd_resolver.py\": 1738208871.4785244, \"/home/oren/work/notes/notes-nlp/.venv/lib/python3.10/site-packages/debugpy/_vendored/pydevd/_pydevd_bundle/pydevd_extension_api.py\": 1738208871.4765244, \"/home/oren/work/notes/notes-nlp/.venv/lib/python3.10/site-packages/debugpy/_vendored/pydevd/_pydevd_bundle/pydevd_xml.py\": 1738208871.4785244, \"/home/oren/work/notes/notes-nlp/.venv/lib/python3.10/site-packages/debugpy/_vendored/pydevd/_pydevd_bundle/pydevd_dont_trace.py\": 1738208871.4765244, \"/home/oren/work/notes/notes-nlp/.venv/lib/python3.10/site-packages/debugpy/_vendored/pydevd/_pydevd_frame_eval/vendored/__init__.py\": 1738208871.5315237, \"/home/oren/work/notes/notes-nlp/.venv/lib/python3.10/site-packages/debugpy/_vendored/pydevd/_pydevd_frame_eval/vendored/bytecode/flags.py\": 1738208871.5325236, \"/home/oren/work/notes/notes-nlp/.venv/lib/python3.10/site-packages/debugpy/_vendored/pydevd/_pydevd_frame_eval/vendored/bytecode/instr.py\": 1738208871.5315237, \"/home/oren/work/notes/notes-nlp/.venv/lib/python3.10/site-packages/debugpy/_vendored/pydevd/_pydevd_frame_eval/vendored/bytecode/bytecode.py\": 1738208871.5325236, \"/home/oren/work/notes/notes-nlp/.venv/lib/python3.10/site-packages/debugpy/_vendored/pydevd/_pydevd_frame_eval/vendored/bytecode/concrete.py\": 1738208871.5315237, \"/home/oren/work/notes/notes-nlp/.venv/lib/python3.10/site-packages/debugpy/_vendored/pydevd/_pydevd_frame_eval/vendored/bytecode/cfg.py\": 1738208871.5325236, \"/home/oren/work/notes/notes-nlp/.venv/lib/python3.10/site-packages/debugpy/_vendored/pydevd/_pydevd_frame_eval/vendored/bytecode/__init__.py\": 1738208871.5325236, \"/home/oren/work/notes/notes-nlp/.venv/lib/python3.10/site-packages/debugpy/_vendored/pydevd/_pydevd_bundle/pydevd_bytecode_utils.py\": 1738208871.496524, \"/home/oren/work/notes/notes-nlp/.venv/lib/python3.10/site-packages/debugpy/_vendored/pydevd/_pydevd_bundle/pydevd_cython.cpython-310-x86_64-linux-gnu.so\": 1738208871.4955242, \"/home/oren/work/notes/notes-nlp/.venv/lib/python3.10/site-packages/debugpy/_vendored/pydevd/_pydevd_bundle/pydevd_cython_wrapper.py\": 1738208871.4705245, \"/home/oren/work/notes/notes-nlp/.venv/lib/python3.10/site-packages/debugpy/_vendored/pydevd/_pydevd_bundle/pydevd_additional_thread_info.py\": 1738208871.4685247, \"/home/oren/work/notes/notes-nlp/.venv/lib/python3.10/site-packages/debugpy/_vendored/pydevd/_pydevd_bundle/pydevd_additional_thread_info_regular.py\": 1738208871.4695246, \"/home/oren/work/notes/notes-nlp/.venv/lib/python3.10/site-packages/debugpy/_vendored/pydevd/_pydevd_bundle/pydevd_trace_dispatch.py\": 1738208871.4765244, \"/home/oren/work/notes/notes-nlp/.venv/lib/python3.10/site-packages/debugpy/_vendored/pydevd/_pydevd_bundle/pydevd_import_class.py\": 1738208871.4765244, \"/home/oren/work/notes/notes-nlp/.venv/lib/python3.10/site-packages/debugpy/_vendored/pydevd/_pydevd_bundle/pydevd_breakpoints.py\": 1738208871.4675245, \"/home/oren/work/notes/notes-nlp/.venv/lib/python3.10/site-packages/debugpy/_vendored/pydevd/_pydevd_sys_monitoring/_pydevd_sys_monitoring.py\": 1738208871.506524, \"/home/oren/work/notes/notes-nlp/.venv/lib/python3.10/site-packages/debugpy/_vendored/pydevd/_pydevd_sys_monitoring/pydevd_sys_monitoring.py\": 1738208871.505524, \"/home/oren/work/notes/notes-nlp/.venv/lib/python3.10/site-packages/debugpy/_vendored/pydevd/_pydevd_bundle/pydevd_thread_lifecycle.py\": 1738208871.4765244, \"/home/oren/work/notes/notes-nlp/.venv/lib/python3.10/site-packages/debugpy/_vendored/pydevd/_pydevd_bundle/pydevd_save_locals.py\": 1738208871.497524, \"/home/oren/work/notes/notes-nlp/.venv/lib/python3.10/site-packages/debugpy/_vendored/pydevd/_pydev_bundle/pydev_monkey.py\": 1738208871.4665246, \"/home/oren/work/notes/notes-nlp/.venv/lib/python3.10/site-packages/debugpy/_vendored/pydevd/pydevd_tracing.py\": 1738208871.4635246, \"/home/oren/work/notes/notes-nlp/.venv/lib/python3.10/site-packages/debugpy/_vendored/pydevd/_pydevd_bundle/pydevd_collect_bytecode_info.py\": 1738208871.4695246, \"/home/oren/work/notes/notes-nlp/.venv/lib/python3.10/site-packages/debugpy/_vendored/pydevd/_pydevd_bundle/pydevd_daemon_thread.py\": 1738208871.4685247, \"/home/oren/work/notes/notes-nlp/.venv/lib/python3.10/site-packages/debugpy/_vendored/pydevd/_pydevd_bundle/pydevd_timeout.py\": 1738208871.496524, \"/home/oren/work/notes/notes-nlp/.venv/lib/python3.10/site-packages/debugpy/_vendored/pydevd/_pydevd_bundle/pydevd_vars.py\": 1738208871.4685247, \"/home/oren/work/notes/notes-nlp/.venv/lib/python3.10/site-packages/debugpy/_vendored/pydevd/_pydev_bundle/pydev_console_utils.py\": 1738208871.4655247, \"/home/oren/work/notes/notes-nlp/.venv/lib/python3.10/site-packages/debugpy/_vendored/pydevd/_pydevd_bundle/pydevd_custom_frames.py\": 1738208871.4775245, \"/home/oren/work/notes/notes-nlp/.venv/lib/python3.10/site-packages/debugpy/_vendored/pydevd/_pydevd_bundle/pydevd_net_command.py\": 1738208871.4695246, \"/home/oren/work/notes/notes-nlp/.venv/lib/python3.10/site-packages/debugpy/_vendored/pydevd/_pydevd_bundle/pydevconsole_code.py\": 1738208871.497524, \"/home/oren/work/notes/notes-nlp/.venv/lib/python3.10/site-packages/debugpy/_vendored/pydevd/_pydev_bundle/pydev_umd.py\": 1738208871.4665246, \"/home/oren/work/notes/notes-nlp/.venv/lib/python3.10/site-packages/debugpy/_vendored/pydevd/pydevconsole.py\": 1738208871.4645247, \"/home/oren/work/notes/notes-nlp/.venv/lib/python3.10/site-packages/debugpy/_vendored/pydevd/_pydev_bundle/_pydev_completer.py\": 1738208871.4665246, \"/home/oren/work/notes/notes-nlp/.venv/lib/python3.10/site-packages/debugpy/_vendored/pydevd/_pydevd_bundle/pydevd_net_command_factory_xml.py\": 1738208871.4695246, \"/home/oren/work/notes/notes-nlp/.venv/lib/python3.10/site-packages/debugpy/_vendored/pydevd/_pydevd_frame_eval/pydevd_frame_eval_main.py\": 1738208871.5215237, \"/home/oren/work/notes/notes-nlp/.venv/lib/python3.10/site-packages/debugpy/_vendored/pydevd/_pydevd_bundle/pydevd_source_mapping.py\": 1738208871.4695246, \"/home/oren/work/notes/notes-nlp/.venv/lib/python3.10/site-packages/debugpy/_vendored/pydevd/_pydevd_bundle/pydevd_concurrency_analyser/__init__.py\": 1738208871.500524, \"/home/oren/work/notes/notes-nlp/.venv/lib/python3.10/site-packages/debugpy/_vendored/pydevd/_pydevd_bundle/pydevd_concurrency_analyser/pydevd_thread_wrappers.py\": 1738208871.500524, \"/home/oren/work/notes/notes-nlp/.venv/lib/python3.10/site-packages/debugpy/_vendored/pydevd/_pydevd_bundle/pydevd_concurrency_analyser/pydevd_concurrency_logger.py\": 1738208871.500524, \"/home/oren/work/notes/notes-nlp/.venv/lib/python3.10/site-packages/debugpy/_vendored/pydevd/_pydevd_bundle/_debug_adapter/__init__.py\": 1738208871.4985242, \"/home/oren/work/notes/notes-nlp/.venv/lib/python3.10/site-packages/debugpy/_vendored/pydevd/_pydevd_bundle/_debug_adapter/pydevd_schema_log.py\": 1738208871.497524, \"/home/oren/work/notes/notes-nlp/.venv/lib/python3.10/site-packages/debugpy/_vendored/pydevd/_pydevd_bundle/_debug_adapter/pydevd_base_schema.py\": 1738208871.497524, \"/home/oren/work/notes/notes-nlp/.venv/lib/python3.10/site-packages/debugpy/_vendored/pydevd/_pydevd_bundle/_debug_adapter/pydevd_schema.py\": 1738208871.500524, \"/home/oren/work/notes/notes-nlp/.venv/lib/python3.10/site-packages/debugpy/_vendored/pydevd/_pydevd_bundle/pydevd_reload.py\": 1738208871.4775245, \"/home/oren/work/notes/notes-nlp/.venv/lib/python3.10/site-packages/debugpy/_vendored/pydevd/_pydev_bundle/fsnotify/__init__.py\": 1738208871.4675245, \"/home/oren/work/notes/notes-nlp/.venv/lib/python3.10/site-packages/debugpy/_vendored/pydevd/_pydevd_bundle/pydevd_console.py\": 1738208871.496524, \"/home/oren/work/notes/notes-nlp/.venv/lib/python3.10/site-packages/debugpy/_vendored/pydevd/_pydevd_bundle/pydevd_comm.py\": 1738208871.4775245, \"/home/oren/work/notes/notes-nlp/.venv/lib/python3.10/site-packages/debugpy/_vendored/pydevd/_pydevd_bundle/pydevd_net_command_factory_json.py\": 1738208871.4785244, \"/home/oren/work/notes/notes-nlp/.venv/lib/python3.10/site-packages/debugpy/_vendored/pydevd/_pydevd_bundle/pydevd_api.py\": 1738208871.4785244, \"/home/oren/work/notes/notes-nlp/.venv/lib/python3.10/site-packages/debugpy/_vendored/pydevd/_pydevd_bundle/pydevd_json_debug_options.py\": 1738208871.4695246, \"/home/oren/work/notes/notes-nlp/.venv/lib/python3.10/site-packages/debugpy/_vendored/pydevd/_pydevd_bundle/pydevd_process_net_command_json.py\": 1738208871.4695246, \"/home/oren/work/notes/notes-nlp/.venv/lib/python3.10/site-packages/debugpy/_vendored/pydevd/_pydevd_bundle/pydevd_traceproperty.py\": 1738208871.4705245, \"/home/oren/work/notes/notes-nlp/.venv/lib/python3.10/site-packages/debugpy/_vendored/pydevd/_pydevd_bundle/pydevd_process_net_command.py\": 1738208871.4775245, \"/home/oren/work/notes/notes-nlp/.venv/lib/python3.10/site-packages/debugpy/_vendored/pydevd/_pydevd_bundle/pydevd_suspended_frames.py\": 1738208871.4695246, \"/home/oren/work/notes/notes-nlp/.venv/lib/python3.10/site-packages/debugpy/_vendored/pydevd/pydevd_plugins/pydevd_line_validation.py\": 1738208871.508524, \"/home/oren/work/notes/notes-nlp/.venv/lib/python3.10/site-packages/debugpy/_vendored/pydevd/pydevd_plugins/django_debug.py\": 1738208871.508524, \"/home/oren/work/notes/notes-nlp/.venv/lib/python3.10/site-packages/debugpy/_vendored/pydevd/pydevd_plugins/jinja2_debug.py\": 1738208871.508524, \"/home/oren/work/notes/notes-nlp/.venv/lib/python3.10/site-packages/debugpy/_vendored/pydevd/_pydevd_bundle/pydevd_plugin_utils.py\": 1738208871.496524, \"/home/oren/work/notes/notes-nlp/.venv/lib/python3.10/site-packages/debugpy/_vendored/pydevd/pydevd_plugins/extensions/types/__init__.py\": 1738208871.508524, \"/home/oren/work/notes/notes-nlp/.venv/lib/python3.10/site-packages/debugpy/_vendored/pydevd/pydevd_plugins/extensions/types/pydevd_helpers.py\": 1738208871.508524, \"/home/oren/work/notes/notes-nlp/.venv/lib/python3.10/site-packages/debugpy/_vendored/pydevd/pydevd_plugins/extensions/types/pydevd_plugin_numpy_types.py\": 1738208871.508524, \"/home/oren/work/notes/notes-nlp/.venv/lib/python3.10/site-packages/debugpy/_vendored/pydevd/pydevd_plugins/extensions/types/pydevd_plugin_pandas_types.py\": 1738208871.5095239, \"/home/oren/work/notes/notes-nlp/.venv/lib/python3.10/site-packages/debugpy/_vendored/pydevd/pydevd_plugins/extensions/types/pydevd_plugins_django_form_str.py\": 1738208871.508524, \"/home/oren/work/notes/notes-nlp/.venv/lib/python3.10/site-packages/debugpy/_vendored/pydevd/pydevd.py\": 1738208871.4645247, \"/home/oren/work/notes/notes-nlp/.venv/lib/python3.10/site-packages/debugpy/_vendored/force_pydevd.py\": 1738208871.4635246, \"/home/oren/work/notes/notes-nlp/.venv/lib/python3.10/site-packages/debugpy/server/__init__.py\": 1738208871.5345235, \"/home/oren/work/notes/notes-nlp/.venv/lib/python3.10/site-packages/debugpy/adapter/__init__.py\": 1738208871.5355234, \"/home/oren/work/notes/notes-nlp/.venv/lib/python3.10/site-packages/debugpy/common/__init__.py\": 1738208871.5345235, \"/home/oren/work/notes/notes-nlp/.venv/lib/python3.10/site-packages/debugpy/common/json.py\": 1738208871.5335236, \"/home/oren/work/notes/notes-nlp/.venv/lib/python3.10/site-packages/debugpy/common/timestamp.py\": 1738208871.5345235, \"/home/oren/work/notes/notes-nlp/.venv/lib/python3.10/site-packages/debugpy/common/util.py\": 1738208871.5345235, \"/home/oren/work/notes/notes-nlp/.venv/lib/python3.10/site-packages/debugpy/common/log.py\": 1738208871.5345235, \"/home/oren/work/notes/notes-nlp/.venv/lib/python3.10/site-packages/debugpy/common/sockets.py\": 1738208871.5335236, \"/home/oren/work/notes/notes-nlp/.venv/lib/python3.10/site-packages/debugpy/server/api.py\": 1738208871.5355234, \"/home/oren/work/notes/notes-nlp/.venv/lib/python3.10/site-packages/ipykernel/debugger.py\": 1738211119.9207983, \"/home/oren/work/notes/notes-nlp/.venv/lib/python3.10/site-packages/IPython/core/completerlib.py\": 1738211116.356855, \"/home/oren/work/notes/notes-nlp/.venv/lib/python3.10/site-packages/matplotlib/_api/deprecation.py\": 1738211113.762896, \"/home/oren/work/notes/notes-nlp/.venv/lib/python3.10/site-packages/matplotlib/_api/__init__.py\": 1738211113.762896, \"/home/oren/work/notes/notes-nlp/.venv/lib/python3.10/site-packages/matplotlib/_version.py\": 1738211113.6558979, \"/home/oren/work/notes/notes-nlp/.venv/lib/python3.10/site-packages/numpy/_utils/_convertions.py\": 1738208868.3505743, \"/home/oren/work/notes/notes-nlp/.venv/lib/python3.10/site-packages/numpy/_utils/__init__.py\": 1738208868.3505743, \"/home/oren/work/notes/notes-nlp/.venv/lib/python3.10/site-packages/numpy/_globals.py\": 1738208868.236576, \"/home/oren/work/notes/notes-nlp/.venv/lib/python3.10/site-packages/numpy/_expired_attrs_2_0.py\": 1738208868.2345762, \"/home/oren/work/notes/notes-nlp/.venv/lib/python3.10/site-packages/numpy/version.py\": 1738208868.236576, \"/home/oren/work/notes/notes-nlp/.venv/lib/python3.10/site-packages/numpy/_distributor_init.py\": 1738208868.236576, \"/home/oren/work/notes/notes-nlp/.venv/lib/python3.10/site-packages/numpy/_utils/_inspect.py\": 1738208868.3495743, \"/home/oren/work/notes/notes-nlp/.venv/lib/python3.10/site-packages/numpy/exceptions.py\": 1738208868.237576, \"/home/oren/work/notes/notes-nlp/.venv/lib/python3.10/site-packages/numpy/_core/_exceptions.py\": 1738208868.2895753, \"/home/oren/work/notes/notes-nlp/.venv/lib/python3.10/site-packages/numpy/dtypes.py\": 1738208868.236576, \"/home/oren/work/notes/notes-nlp/.venv/lib/python3.10/site-packages/numpy/_core/_multiarray_umath.cpython-310-x86_64-linux-gnu.so\": 1738208868.2745755, \"/home/oren/work/notes/notes-nlp/.venv/lib/python3.10/site-packages/numpy/_core/overrides.py\": 1738208868.2775755, \"/home/oren/work/notes/notes-nlp/.venv/lib/python3.10/site-packages/numpy/_core/multiarray.py\": 1738208868.2795753, \"/home/oren/work/notes/notes-nlp/.venv/lib/python3.10/site-packages/numpy/_core/umath.py\": 1738208868.2385762, \"/home/oren/work/notes/notes-nlp/.venv/lib/python3.10/site-packages/numpy/_core/_string_helpers.py\": 1738208868.237576, \"/home/oren/work/notes/notes-nlp/.venv/lib/python3.10/site-packages/numpy/_core/_type_aliases.py\": 1738208868.2765756, \"/home/oren/work/notes/notes-nlp/.venv/lib/python3.10/site-packages/numpy/_core/_dtype.py\": 1738208868.2805755, \"/home/oren/work/notes/notes-nlp/.venv/lib/python3.10/site-packages/numpy/_core/numerictypes.py\": 1738208868.2785754, \"/home/oren/work/notes/notes-nlp/.venv/lib/python3.10/site-packages/numpy/_core/_ufunc_config.py\": 1738208868.2775755, \"/home/oren/work/notes/notes-nlp/.venv/lib/python3.10/site-packages/numpy/_core/_methods.py\": 1738208868.2745755, \"/home/oren/work/notes/notes-nlp/.venv/lib/python3.10/site-packages/numpy/_core/fromnumeric.py\": 1738208868.2795753, \"/home/oren/work/notes/notes-nlp/.venv/lib/python3.10/site-packages/numpy/_core/shape_base.py\": 1738208868.2775755, \"/home/oren/work/notes/notes-nlp/.venv/lib/python3.10/site-packages/numpy/_core/arrayprint.py\": 1738208868.2385762, \"/home/oren/work/notes/notes-nlp/.venv/lib/python3.10/site-packages/numpy/_core/_asarray.py\": 1738208868.2755754, \"/home/oren/work/notes/notes-nlp/.venv/lib/python3.10/site-packages/numpy/_core/numeric.py\": 1738208868.2805755, \"/home/oren/work/notes/notes-nlp/.venv/lib/python3.10/site-packages/numpy/_core/records.py\": 1738208868.2755754, \"/home/oren/work/notes/notes-nlp/.venv/lib/python3.10/site-packages/numpy/_core/memmap.py\": 1738208868.2895753, \"/home/oren/work/notes/notes-nlp/.venv/lib/python3.10/site-packages/numpy/_core/function_base.py\": 1738208868.2765756, \"/home/oren/work/notes/notes-nlp/.venv/lib/python3.10/site-packages/numpy/_core/_machar.py\": 1738208868.2775755, \"/home/oren/work/notes/notes-nlp/.venv/lib/python3.10/site-packages/numpy/_core/getlimits.py\": 1738208868.2745755, \"/home/oren/work/notes/notes-nlp/.venv/lib/python3.10/site-packages/numpy/_core/einsumfunc.py\": 1738208868.2385762, \"/home/oren/work/notes/notes-nlp/.venv/lib/python3.10/site-packages/numpy/_core/_multiarray_tests.cpython-310-x86_64-linux-gnu.so\": 1738208868.2785754, \"/home/oren/work/notes/notes-nlp/.venv/lib/python3.10/site-packages/numpy/_core/_add_newdocs.py\": 1738208868.2385762, \"/home/oren/work/notes/notes-nlp/.venv/lib/python3.10/site-packages/numpy/_core/_add_newdocs_scalars.py\": 1738208868.2385762, \"/home/oren/work/notes/notes-nlp/.venv/lib/python3.10/site-packages/numpy/_core/_dtype_ctypes.py\": 1738208868.237576, \"/home/oren/work/notes/notes-nlp/.venv/lib/python3.10/site-packages/numpy/_core/_internal.py\": 1738208868.2795753, \"/home/oren/work/notes/notes-nlp/.venv/lib/python3.10/site-packages/numpy/_pytesttester.py\": 1738208868.236576, \"/home/oren/work/notes/notes-nlp/.venv/lib/python3.10/site-packages/numpy/_core/__init__.py\": 1738208868.2755754, \"/home/oren/work/notes/notes-nlp/.venv/lib/python3.10/site-packages/numpy/__config__.py\": 1738208868.236576, \"/home/oren/work/notes/notes-nlp/.venv/lib/python3.10/site-packages/numpy/lib/_array_utils_impl.py\": 1738208868.3565743, \"/home/oren/work/notes/notes-nlp/.venv/lib/python3.10/site-packages/numpy/lib/array_utils.py\": 1738208868.3555741, \"/home/oren/work/notes/notes-nlp/.venv/lib/python3.10/site-packages/numpy/lib/introspect.py\": 1738208868.3615742, \"/home/oren/work/notes/notes-nlp/.venv/lib/python3.10/site-packages/numpy/lib/mixins.py\": 1738208868.3585742, \"/home/oren/work/notes/notes-nlp/.venv/lib/python3.10/site-packages/numpy/lib/_utils_impl.py\": 1738208868.3555741, \"/home/oren/work/notes/notes-nlp/.venv/lib/python3.10/site-packages/numpy/lib/format.py\": 1738208868.3575742, \"/home/oren/work/notes/notes-nlp/.venv/lib/python3.10/site-packages/numpy/lib/_datasource.py\": 1738208868.362574, \"/home/oren/work/notes/notes-nlp/.venv/lib/python3.10/site-packages/numpy/lib/_iotools.py\": 1738208868.3555741, \"/home/oren/work/notes/notes-nlp/.venv/lib/python3.10/site-packages/numpy/lib/_npyio_impl.py\": 1738208868.3605742, \"/home/oren/work/notes/notes-nlp/.venv/lib/python3.10/site-packages/numpy/lib/npyio.py\": 1738208868.3605742, \"/home/oren/work/notes/notes-nlp/.venv/lib/python3.10/site-packages/numpy/lib/_ufunclike_impl.py\": 1738208868.3605742, \"/home/oren/work/notes/notes-nlp/.venv/lib/python3.10/site-packages/numpy/lib/_type_check_impl.py\": 1738208868.362574, \"/home/oren/work/notes/notes-nlp/.venv/lib/python3.10/site-packages/numpy/lib/_scimath_impl.py\": 1738208868.3555741, \"/home/oren/work/notes/notes-nlp/.venv/lib/python3.10/site-packages/numpy/lib/scimath.py\": 1738208868.3555741, \"/home/oren/work/notes/notes-nlp/.venv/lib/python3.10/site-packages/numpy/lib/_stride_tricks_impl.py\": 1738208868.3605742, \"/home/oren/work/notes/notes-nlp/.venv/lib/python3.10/site-packages/numpy/lib/stride_tricks.py\": 1738208868.3615742, \"/home/oren/work/notes/notes-nlp/.venv/lib/python3.10/site-packages/numpy/linalg/linalg.py\": 1738208868.3885736, \"/home/oren/work/notes/notes-nlp/.venv/lib/python3.10/site-packages/numpy/lib/_twodim_base_impl.py\": 1738208868.3605742, \"/home/oren/work/notes/notes-nlp/.venv/lib/python3.10/site-packages/numpy/linalg/_umath_linalg.cpython-310-x86_64-linux-gnu.so\": 1738208868.3875737, \"/home/oren/work/notes/notes-nlp/.venv/lib/python3.10/site-packages/numpy/_typing/_nested_sequence.py\": 1738208868.3865738, \"/home/oren/work/notes/notes-nlp/.venv/lib/python3.10/site-packages/numpy/_typing/_nbit.py\": 1738208868.3855739, \"/home/oren/work/notes/notes-nlp/.venv/lib/python3.10/site-packages/numpy/_typing/_char_codes.py\": 1738208868.3865738, \"/home/oren/work/notes/notes-nlp/.venv/lib/python3.10/site-packages/numpy/_typing/_scalars.py\": 1738208868.3855739, \"/home/oren/work/notes/notes-nlp/.venv/lib/python3.10/site-packages/numpy/_typing/_shape.py\": 1738208868.3865738, \"/home/oren/work/notes/notes-nlp/.venv/lib/python3.10/site-packages/numpy/_typing/_dtype_like.py\": 1738208868.3865738, \"/home/oren/work/notes/notes-nlp/.venv/lib/python3.10/site-packages/numpy/_typing/_array_like.py\": 1738208868.3865738, \"/home/oren/work/notes/notes-nlp/.venv/lib/python3.10/site-packages/numpy/_typing/__init__.py\": 1738208868.3855739, \"/home/oren/work/notes/notes-nlp/.venv/lib/python3.10/site-packages/numpy/linalg/_linalg.py\": 1738208868.3885736, \"/home/oren/work/notes/notes-nlp/.venv/lib/python3.10/site-packages/numpy/linalg/__init__.py\": 1738208868.3875737, \"/home/oren/work/notes/notes-nlp/.venv/lib/python3.10/site-packages/numpy/matrixlib/defmatrix.py\": 1738208868.3225749, \"/home/oren/work/notes/notes-nlp/.venv/lib/python3.10/site-packages/numpy/matrixlib/__init__.py\": 1738208868.3225749, \"/home/oren/work/notes/notes-nlp/.venv/lib/python3.10/site-packages/numpy/lib/_histograms_impl.py\": 1738208868.3585742, \"/home/oren/work/notes/notes-nlp/.venv/lib/python3.10/site-packages/numpy/lib/_function_base_impl.py\": 1738208868.359574, \"/home/oren/work/notes/notes-nlp/.venv/lib/python3.10/site-packages/numpy/lib/_index_tricks_impl.py\": 1738208868.3565743, \"/home/oren/work/notes/notes-nlp/.venv/lib/python3.10/site-packages/numpy/lib/_nanfunctions_impl.py\": 1738208868.3615742, \"/home/oren/work/notes/notes-nlp/.venv/lib/python3.10/site-packages/numpy/lib/_shape_base_impl.py\": 1738208868.3605742, \"/home/oren/work/notes/notes-nlp/.venv/lib/python3.10/site-packages/numpy/lib/_arraysetops_impl.py\": 1738208868.362574, \"/home/oren/work/notes/notes-nlp/.venv/lib/python3.10/site-packages/numpy/lib/_polynomial_impl.py\": 1738208868.3615742, \"/home/oren/work/notes/notes-nlp/.venv/lib/python3.10/site-packages/numpy/lib/_arrayterator_impl.py\": 1738208868.3585742, \"/home/oren/work/notes/notes-nlp/.venv/lib/python3.10/site-packages/numpy/lib/_arraypad_impl.py\": 1738208868.3615742, \"/home/oren/work/notes/notes-nlp/.venv/lib/python3.10/site-packages/numpy/lib/_version.py\": 1738208868.3565743, \"/home/oren/work/notes/notes-nlp/.venv/lib/python3.10/site-packages/numpy/lib/__init__.py\": 1738208868.3575742, \"/home/oren/work/notes/notes-nlp/.venv/lib/python3.10/site-packages/numpy/__init__.py\": 1738208868.2355762, \"/home/oren/work/notes/notes-nlp/.venv/lib/python3.10/site-packages/matplotlib/_c_internal_utils.cpython-310-x86_64-linux-gnu.so\": 1738211113.639898, \"/home/oren/work/notes/notes-nlp/.venv/lib/python3.10/site-packages/matplotlib/cbook.py\": 1738211113.650898, \"/home/oren/work/notes/notes-nlp/.venv/lib/python3.10/site-packages/matplotlib/_docstring.py\": 1738211113.648898, \"/home/oren/work/notes/notes-nlp/.venv/lib/python3.10/site-packages/matplotlib/backends/registry.py\": 1738211113.7438965, \"/home/oren/work/notes/notes-nlp/.venv/lib/python3.10/site-packages/matplotlib/backends/__init__.py\": 1738211113.7368965, \"/home/oren/work/notes/notes-nlp/.venv/lib/python3.10/site-packages/PIL/_version.py\": 1738206370.4256256, \"/home/oren/work/notes/notes-nlp/.venv/lib/python3.10/site-packages/PIL/__init__.py\": 1738206370.4216256, \"/home/oren/work/notes/notes-nlp/.venv/lib/python3.10/site-packages/PIL/ExifTags.py\": 1738206370.4146256, \"/home/oren/work/notes/notes-nlp/.venv/lib/python3.10/site-packages/PIL/_deprecate.py\": 1738206370.4256256, \"/home/oren/work/notes/notes-nlp/.venv/lib/python3.10/site-packages/PIL/ImageMode.py\": 1738206370.4246256, \"/home/oren/work/notes/notes-nlp/.venv/lib/python3.10/site-packages/PIL/TiffTags.py\": 1738206370.4166257, \"/home/oren/work/notes/notes-nlp/.venv/lib/python3.10/site-packages/PIL/_binary.py\": 1738206370.4166257, \"/home/oren/work/notes/notes-nlp/.venv/lib/python3.10/site-packages/PIL/_typing.py\": 1738206370.4186256, \"/home/oren/work/notes/notes-nlp/.venv/lib/python3.10/site-packages/PIL/_util.py\": 1738206370.4176257, \"/home/oren/work/notes/notes-nlp/.venv/lib/python3.10/site-packages/defusedxml/common.py\": 1738208871.445525, \"/home/oren/work/notes/notes-nlp/.venv/lib/python3.10/site-packages/defusedxml/__init__.py\": 1738208871.445525, \"/usr/lib/python3.10/xml/etree/__init__.py\": 1737124534.0, \"/usr/lib/python3.10/xml/etree/ElementPath.py\": 1737124534.0, \"/usr/lib/python3.10/xml/etree/ElementTree.py\": 1737124534.0, \"/home/oren/work/notes/notes-nlp/.venv/lib/python3.10/site-packages/defusedxml/ElementTree.py\": 1738208871.445525, \"/home/oren/work/notes/notes-nlp/.venv/lib/python3.10/site-packages/PIL/_imaging.cpython-310-x86_64-linux-gnu.so\": 1738206370.4396253, \"/home/oren/work/notes/notes-nlp/.venv/lib/python3.10/site-packages/PIL/Image.py\": 1738206370.4276257, \"/home/oren/work/notes/notes-nlp/.venv/lib/python3.10/site-packages/PIL/ImageChops.py\": 1738206370.4256256, \"/home/oren/work/notes/notes-nlp/.venv/lib/python3.10/site-packages/PIL/ImageFile.py\": 1738206370.4196258, \"/home/oren/work/notes/notes-nlp/.venv/lib/python3.10/site-packages/PIL/GimpGradientFile.py\": 1738206370.4266255, \"/home/oren/work/notes/notes-nlp/.venv/lib/python3.10/site-packages/PIL/GimpPaletteFile.py\": 1738206370.4236257, \"/home/oren/work/notes/notes-nlp/.venv/lib/python3.10/site-packages/PIL/ImageColor.py\": 1738206370.4266255, \"/home/oren/work/notes/notes-nlp/.venv/lib/python3.10/site-packages/PIL/PaletteFile.py\": 1738206370.4266255, \"/home/oren/work/notes/notes-nlp/.venv/lib/python3.10/site-packages/PIL/ImagePalette.py\": 1738206370.4406254, \"/home/oren/work/notes/notes-nlp/.venv/lib/python3.10/site-packages/PIL/ImageSequence.py\": 1738206370.4256256, \"/home/oren/work/notes/notes-nlp/.venv/lib/python3.10/site-packages/PIL/PngImagePlugin.py\": 1738206370.4246256, \"/home/oren/work/notes/notes-nlp/.venv/lib/python3.10/site-packages/matplotlib/_cm.py\": 1738211113.6708975, \"/home/oren/work/notes/notes-nlp/.venv/lib/python3.10/site-packages/matplotlib/_path.cpython-310-x86_64-linux-gnu.so\": 1738211113.6768975, \"/home/oren/work/notes/notes-nlp/.venv/lib/python3.10/site-packages/matplotlib/bezier.py\": 1738211113.654898, \"/home/oren/work/notes/notes-nlp/.venv/lib/python3.10/site-packages/matplotlib/path.py\": 1738211113.650898, \"/home/oren/work/notes/notes-nlp/.venv/lib/python3.10/site-packages/matplotlib/transforms.py\": 1738211113.6768975, \"/home/oren/work/notes/notes-nlp/.venv/lib/python3.10/site-packages/matplotlib/ticker.py\": 1738211113.6608977, \"/home/oren/work/notes/notes-nlp/.venv/lib/python3.10/site-packages/matplotlib/scale.py\": 1738211113.648898, \"/home/oren/work/notes/notes-nlp/.venv/lib/python3.10/site-packages/matplotlib/_image.cpython-310-x86_64-linux-gnu.so\": 1738211113.6608977, \"/home/oren/work/notes/notes-nlp/.venv/lib/python3.10/site-packages/matplotlib/_color_data.py\": 1738211113.6648977, \"/home/oren/work/notes/notes-nlp/.venv/lib/python3.10/site-packages/matplotlib/colors.py\": 1738211113.6748974, \"/home/oren/work/notes/notes-nlp/.venv/lib/python3.10/site-packages/pyparsing/util.py\": 1738206368.610655, \"/home/oren/work/notes/notes-nlp/.venv/lib/python3.10/site-packages/pyparsing/unicode.py\": 1738206368.610655, \"/home/oren/work/notes/notes-nlp/.venv/lib/python3.10/site-packages/pyparsing/exceptions.py\": 1738206368.6096551, \"/home/oren/work/notes/notes-nlp/.venv/lib/python3.10/site-packages/pyparsing/results.py\": 1738206368.610655, \"/home/oren/work/notes/notes-nlp/.venv/lib/python3.10/site-packages/pyparsing/actions.py\": 1738206368.6086552, \"/home/oren/work/notes/notes-nlp/.venv/lib/python3.10/site-packages/pyparsing/core.py\": 1738206368.6096551, \"/home/oren/work/notes/notes-nlp/.venv/lib/python3.10/site-packages/pyparsing/helpers.py\": 1738206368.610655, \"/home/oren/work/notes/notes-nlp/.venv/lib/python3.10/site-packages/pyparsing/testing.py\": 1738206368.610655, \"/home/oren/work/notes/notes-nlp/.venv/lib/python3.10/site-packages/pyparsing/common.py\": 1738206368.6086552, \"/home/oren/work/notes/notes-nlp/.venv/lib/python3.10/site-packages/pyparsing/__init__.py\": 1738206368.6086552, \"/home/oren/work/notes/notes-nlp/.venv/lib/python3.10/site-packages/matplotlib/_fontconfig_pattern.py\": 1738211113.6628976, \"/home/oren/work/notes/notes-nlp/.venv/lib/python3.10/site-packages/matplotlib/_enums.py\": 1738211113.6498978, \"/home/oren/work/notes/notes-nlp/.venv/lib/python3.10/site-packages/cycler/__init__.py\": 1738208871.9065175, \"/home/oren/work/notes/notes-nlp/.venv/lib/python3.10/site-packages/matplotlib/rcsetup.py\": 1738211113.6718976, \"/home/oren/work/notes/notes-nlp/.venv/lib/python3.10/site-packages/matplotlib/ft2font.cpython-310-x86_64-linux-gnu.so\": 1738211113.646898, \"/home/oren/work/notes/notes-nlp/.venv/lib/python3.10/site-packages/kiwisolver/exceptions.py\": 1738208869.496556, \"/home/oren/work/notes/notes-nlp/.venv/lib/python3.10/site-packages/kiwisolver/_cext.cpython-310-x86_64-linux-gnu.so\": 1738208869.5165558, \"/home/oren/work/notes/notes-nlp/.venv/lib/python3.10/site-packages/kiwisolver/__init__.py\": 1738208869.5165558, \"/home/oren/work/notes/notes-nlp/.venv/lib/python3.10/site-packages/numpy/ma/core.py\": 1738208868.3525743, \"/home/oren/work/notes/notes-nlp/.venv/lib/python3.10/site-packages/numpy/ma/extras.py\": 1738208868.3515742, \"/home/oren/work/notes/notes-nlp/.venv/lib/python3.10/site-packages/numpy/ma/__init__.py\": 1738208868.3505743, \"/home/oren/work/notes/notes-nlp/.venv/lib/python3.10/site-packages/matplotlib/artist.py\": 1738211113.6718976, \"/home/oren/work/notes/notes-nlp/.venv/lib/python3.10/site-packages/matplotlib/colorizer.py\": 1738211113.6768975, \"/home/oren/work/notes/notes-nlp/.venv/lib/python3.10/site-packages/matplotlib/_cm_listed.py\": 1738211113.6538978, \"/home/oren/work/notes/notes-nlp/.venv/lib/python3.10/site-packages/matplotlib/_cm_multivar.py\": 1738211113.6648977, \"/home/oren/work/notes/notes-nlp/.venv/lib/python3.10/site-packages/matplotlib/_cm_bivar.py\": 1738211113.654898, \"/home/oren/work/notes/notes-nlp/.venv/lib/python3.10/site-packages/matplotlib/cm.py\": 1738211113.6528978, \"/home/oren/work/notes/notes-nlp/.venv/lib/python3.10/site-packages/matplotlib/__init__.py\": 1738211113.6568978, \"/home/oren/work/notes/notes-nlp/.venv/lib/python3.10/site-packages/matplotlib/hatch.py\": 1738211113.654898, \"/home/oren/work/notes/notes-nlp/.venv/lib/python3.10/site-packages/matplotlib/markers.py\": 1738211113.6728976, \"/home/oren/work/notes/notes-nlp/.venv/lib/python3.10/site-packages/matplotlib/lines.py\": 1738211113.6618977, \"/home/oren/work/notes/notes-nlp/.venv/lib/python3.10/site-packages/matplotlib/collections.py\": 1738211113.6538978, \"/home/oren/work/notes/notes-nlp/.venv/lib/python3.10/site-packages/matplotlib/_pylab_helpers.py\": 1738211113.6578977, \"/home/oren/work/notes/notes-nlp/.venv/lib/python3.10/site-packages/matplotlib/backend_tools.py\": 1738211113.6738975, \"/usr/lib/python3.10/plistlib.py\": 1737124534.0, \"/home/oren/work/notes/notes-nlp/.venv/lib/python3.10/site-packages/matplotlib/_mathtext_data.py\": 1738211113.6568978, \"/home/oren/work/notes/notes-nlp/.venv/lib/python3.10/site-packages/matplotlib/_afm.py\": 1738211113.6628976, \"/home/oren/work/notes/notes-nlp/.venv/lib/python3.10/site-packages/matplotlib/font_manager.py\": 1738211113.6498978, \"/home/oren/work/notes/notes-nlp/.venv/lib/python3.10/site-packages/matplotlib/patches.py\": 1738211113.6568978, \"/home/oren/work/notes/notes-nlp/.venv/lib/python3.10/site-packages/matplotlib/_text_helpers.py\": 1738211113.6728976, \"/home/oren/work/notes/notes-nlp/.venv/lib/python3.10/site-packages/matplotlib/dviread.py\": 1738211113.6628976, \"/home/oren/work/notes/notes-nlp/.venv/lib/python3.10/site-packages/matplotlib/_mathtext.py\": 1738211113.6658976, \"/home/oren/work/notes/notes-nlp/.venv/lib/python3.10/site-packages/matplotlib/mathtext.py\": 1738211113.650898, \"/home/oren/work/notes/notes-nlp/.venv/lib/python3.10/site-packages/matplotlib/texmanager.py\": 1738211113.6768975, \"/home/oren/work/notes/notes-nlp/.venv/lib/python3.10/site-packages/matplotlib/textpath.py\": 1738211113.6708975, \"/home/oren/work/notes/notes-nlp/.venv/lib/python3.10/site-packages/matplotlib/text.py\": 1738211113.6698976, \"/home/oren/work/notes/notes-nlp/.venv/lib/python3.10/site-packages/matplotlib/_tight_bbox.py\": 1738211113.6578977, \"/home/oren/work/notes/notes-nlp/.venv/lib/python3.10/site-packages/matplotlib/widgets.py\": 1738211113.6588976, \"/home/oren/work/notes/notes-nlp/.venv/lib/python3.10/site-packages/matplotlib/backend_managers.py\": 1738211113.6638978, \"/home/oren/work/notes/notes-nlp/.venv/lib/python3.10/site-packages/matplotlib/_layoutgrid.py\": 1738211113.647898, \"/home/oren/work/notes/notes-nlp/.venv/lib/python3.10/site-packages/matplotlib/_constrained_layout.py\": 1738211113.6728976, \"/home/oren/work/notes/notes-nlp/.venv/lib/python3.10/site-packages/matplotlib/_tight_layout.py\": 1738211113.647898, \"/home/oren/work/notes/notes-nlp/.venv/lib/python3.10/site-packages/matplotlib/layout_engine.py\": 1738211113.6738975, \"/home/oren/work/notes/notes-nlp/.venv/lib/python3.10/site-packages/matplotlib/backend_bases.py\": 1738211113.6558979, \"/home/oren/work/notes/notes-nlp/.venv/lib/python3.10/site-packages/matplotlib/contour.py\": 1738211113.6658976, \"/home/oren/work/notes/notes-nlp/.venv/lib/python3.10/site-packages/matplotlib/spines.py\": 1738211113.6608977, \"/home/oren/work/notes/notes-nlp/.venv/lib/python3.10/site-packages/matplotlib/colorbar.py\": 1738211113.647898, \"/home/oren/work/notes/notes-nlp/.venv/lib/python3.10/site-packages/matplotlib/image.py\": 1738211113.6578977, \"/usr/lib/python3.10/importlib/_adapters.py\": 1737124534.0, \"/usr/lib/python3.10/importlib/_common.py\": 1737124534.0, \"/usr/lib/python3.10/importlib/resources.py\": 1737124534.0, \"/home/oren/work/notes/notes-nlp/.venv/lib/python3.10/site-packages/matplotlib/style/core.py\": 1738211113.7468963, \"/home/oren/work/notes/notes-nlp/.venv/lib/python3.10/site-packages/matplotlib/style/__init__.py\": 1738211113.7468963, \"/home/oren/work/notes/notes-nlp/.venv/lib/python3.10/site-packages/matplotlib/_blocking_input.py\": 1738211113.6728976, \"/home/oren/work/notes/notes-nlp/.venv/lib/python3.10/site-packages/matplotlib/offsetbox.py\": 1738211113.6618977, \"/home/oren/work/notes/notes-nlp/.venv/lib/python3.10/site-packages/matplotlib/units.py\": 1738211113.6388981, \"/home/oren/work/notes/notes-nlp/.venv/lib/python3.10/site-packages/matplotlib/axis.py\": 1738211113.6618977, \"/home/oren/work/notes/notes-nlp/.venv/lib/python3.10/site-packages/matplotlib/gridspec.py\": 1738211113.648898, \"/home/oren/work/notes/notes-nlp/.venv/lib/python3.10/site-packages/matplotlib/table.py\": 1738211113.6778975, \"/home/oren/work/notes/notes-nlp/.venv/lib/python3.10/site-packages/matplotlib/axes/_base.py\": 1738211113.7648962, \"/home/oren/work/notes/notes-nlp/.venv/lib/python3.10/site-packages/matplotlib/category.py\": 1738211113.6708975, \"/home/oren/work/notes/notes-nlp/.venv/lib/python3.10/site-packages/dateutil/rrule.py\": 1738206446.0323966, \"/home/oren/work/notes/notes-nlp/.venv/lib/python3.10/site-packages/matplotlib/dates.py\": 1738211113.6728976, \"/home/oren/work/notes/notes-nlp/.venv/lib/python3.10/site-packages/matplotlib/inset.py\": 1738211113.647898, \"/home/oren/work/notes/notes-nlp/.venv/lib/python3.10/site-packages/matplotlib/container.py\": 1738211113.6778975, \"/home/oren/work/notes/notes-nlp/.venv/lib/python3.10/site-packages/matplotlib/legend_handler.py\": 1738211113.639898, \"/home/oren/work/notes/notes-nlp/.venv/lib/python3.10/site-packages/matplotlib/legend.py\": 1738211113.647898, \"/home/oren/work/notes/notes-nlp/.venv/lib/python3.10/site-packages/matplotlib/mlab.py\": 1738211113.6638978, \"/home/oren/work/notes/notes-nlp/.venv/lib/python3.10/site-packages/matplotlib/quiver.py\": 1738211113.6648977, \"/home/oren/work/notes/notes-nlp/.venv/lib/python3.10/site-packages/matplotlib/stackplot.py\": 1738211113.6728976, \"/home/oren/work/notes/notes-nlp/.venv/lib/python3.10/site-packages/matplotlib/streamplot.py\": 1738211113.6628976, \"/home/oren/work/notes/notes-nlp/.venv/lib/python3.10/site-packages/matplotlib/tri/_triangulation.py\": 1738211113.7478964, \"/home/oren/work/notes/notes-nlp/.venv/lib/python3.10/site-packages/matplotlib/tri/_tricontour.py\": 1738211113.7488964, \"/home/oren/work/notes/notes-nlp/.venv/lib/python3.10/site-packages/matplotlib/tri/_trifinder.py\": 1738211113.7468963, \"/home/oren/work/notes/notes-nlp/.venv/lib/python3.10/site-packages/matplotlib/tri/_tritools.py\": 1738211113.7468963, \"/home/oren/work/notes/notes-nlp/.venv/lib/python3.10/site-packages/matplotlib/tri/_triinterpolate.py\": 1738211113.7478964, \"/home/oren/work/notes/notes-nlp/.venv/lib/python3.10/site-packages/matplotlib/tri/_tripcolor.py\": 1738211113.7468963, \"/home/oren/work/notes/notes-nlp/.venv/lib/python3.10/site-packages/matplotlib/tri/_triplot.py\": 1738211113.7468963, \"/home/oren/work/notes/notes-nlp/.venv/lib/python3.10/site-packages/matplotlib/tri/_trirefine.py\": 1738211113.7478964, \"/home/oren/work/notes/notes-nlp/.venv/lib/python3.10/site-packages/matplotlib/tri/__init__.py\": 1738211113.7478964, \"/home/oren/work/notes/notes-nlp/.venv/lib/python3.10/site-packages/matplotlib/axes/_secondary_axes.py\": 1738211113.7648962, \"/home/oren/work/notes/notes-nlp/.venv/lib/python3.10/site-packages/matplotlib/axes/_axes.py\": 1738211113.763896, \"/home/oren/work/notes/notes-nlp/.venv/lib/python3.10/site-packages/matplotlib/axes/__init__.py\": 1738211113.7648962, \"/home/oren/work/notes/notes-nlp/.venv/lib/python3.10/site-packages/matplotlib/projections/geo.py\": 1738211113.7468963, \"/home/oren/work/notes/notes-nlp/.venv/lib/python3.10/site-packages/matplotlib/projections/polar.py\": 1738211113.7458963, \"/home/oren/work/notes/notes-nlp/.venv/lib/python3.10/site-packages/mpl_toolkits/mplot3d/proj3d.py\": 1738211113.771896, \"/home/oren/work/notes/notes-nlp/.venv/lib/python3.10/site-packages/mpl_toolkits/mplot3d/art3d.py\": 1738211113.772896, \"/home/oren/work/notes/notes-nlp/.venv/lib/python3.10/site-packages/mpl_toolkits/mplot3d/axis3d.py\": 1738211113.771896, \"/home/oren/work/notes/notes-nlp/.venv/lib/python3.10/site-packages/mpl_toolkits/mplot3d/axes3d.py\": 1738211113.772896, \"/home/oren/work/notes/notes-nlp/.venv/lib/python3.10/site-packages/mpl_toolkits/mplot3d/__init__.py\": 1738211113.771896, \"/home/oren/work/notes/notes-nlp/.venv/lib/python3.10/site-packages/matplotlib/projections/__init__.py\": 1738211113.7458963, \"/home/oren/work/notes/notes-nlp/.venv/lib/python3.10/site-packages/matplotlib/figure.py\": 1738211113.6498978, \"/home/oren/work/notes/notes-nlp/.venv/lib/python3.10/site-packages/matplotlib/pyplot.py\": 1738211113.639898, \"/home/oren/work/notes/notes-nlp/.venv/lib/python3.10/site-packages/matplotlib/backends/_backend_agg.cpython-310-x86_64-linux-gnu.so\": 1738211113.7408965, \"/home/oren/work/notes/notes-nlp/.venv/lib/python3.10/site-packages/matplotlib/backends/backend_agg.py\": 1738211113.7358966, \"/home/oren/work/notes/notes-nlp/.venv/lib/python3.10/site-packages/IPython/core/pylabtools.py\": 1738211116.3618548, \"/home/oren/work/notes/notes-nlp/.venv/lib/python3.10/site-packages/matplotlib_inline/config.py\": 1738208869.4475567, \"/home/oren/work/notes/notes-nlp/.venv/lib/python3.10/site-packages/matplotlib_inline/backend_inline.py\": 1738208869.4475567, \"/home/oren/work/notes/notes-nlp/.venv/lib/python3.10/site-packages/matplotlib_inline/__init__.py\": 1738208869.4475567, \"/home/oren/work/notes/notes-nlp/.venv/lib/python3.10/site-packages/pytz/exceptions.py\": 1738206365.908699, \"/home/oren/work/notes/notes-nlp/.venv/lib/python3.10/site-packages/pytz/lazy.py\": 1738206365.908699, \"/home/oren/work/notes/notes-nlp/.venv/lib/python3.10/site-packages/pytz/tzinfo.py\": 1738206365.909699, \"/home/oren/work/notes/notes-nlp/.venv/lib/python3.10/site-packages/pytz/tzfile.py\": 1738206365.909699, \"/home/oren/work/notes/notes-nlp/.venv/lib/python3.10/site-packages/pytz/__init__.py\": 1738206365.908699, \"/home/oren/work/notes/notes-nlp/.venv/lib/python3.10/site-packages/pandas/compat/_constants.py\": 1738208876.2014492, \"/home/oren/work/notes/notes-nlp/.venv/lib/python3.10/site-packages/pandas/compat/compressors.py\": 1738208876.2004492, \"/home/oren/work/notes/notes-nlp/.venv/lib/python3.10/site-packages/pandas/util/__init__.py\": 1738208875.9354534, \"/home/oren/work/notes/notes-nlp/.venv/lib/python3.10/site-packages/pandas/util/version/__init__.py\": 1738208875.9354534, \"/home/oren/work/notes/notes-nlp/.venv/lib/python3.10/site-packages/pandas/compat/numpy/__init__.py\": 1738208876.2014492, \"/home/oren/work/notes/notes-nlp/.venv/lib/python3.10/site-packages/pyarrow/_generated_version.py\": 1738206369.659638, \"/home/oren/work/notes/notes-nlp/.venv/lib/python3.10/site-packages/cloudpickle/cloudpickle.py\": 1738208871.9175174, \"/home/oren/work/notes/notes-nlp/.venv/lib/python3.10/site-packages/cloudpickle/__init__.py\": 1738208871.9165175, \"/home/oren/work/notes/notes-nlp/.venv/lib/python3.10/site-packages/pyarrow/util.py\": 1738206369.7016373, \"/home/oren/work/notes/notes-nlp/.venv/lib/python3.10/site-packages/pyarrow/lib.cpython-310-x86_64-linux-gnu.so\": 1738206369.2536447, \"/home/oren/work/notes/notes-nlp/.venv/lib/python3.10/site-packages/pyarrow/ipc.py\": 1738206369.6146388, \"/home/oren/work/notes/notes-nlp/.venv/lib/python3.10/site-packages/pyarrow/types.py\": 1738206369.226645, \"/home/oren/work/notes/notes-nlp/.venv/lib/python3.10/site-packages/pyarrow/__init__.py\": 1738206369.2686443, \"/home/oren/work/notes/notes-nlp/.venv/lib/python3.10/site-packages/pandas/compat/pyarrow.py\": 1738208876.2014492, \"/home/oren/work/notes/notes-nlp/.venv/lib/python3.10/site-packages/pandas/compat/__init__.py\": 1738208876.2004492, \"/home/oren/work/notes/notes-nlp/.venv/lib/python3.10/site-packages/numpy/random/_common.cpython-310-x86_64-linux-gnu.so\": 1738208868.3435745, \"/usr/lib/python3.10/secrets.py\": 1737124534.0, \"/home/oren/work/notes/notes-nlp/.venv/lib/python3.10/site-packages/numpy/random/bit_generator.cpython-310-x86_64-linux-gnu.so\": 1738208868.3345745, \"/home/oren/work/notes/notes-nlp/.venv/lib/python3.10/site-packages/numpy/random/_bounded_integers.cpython-310-x86_64-linux-gnu.so\": 1738208868.3415744, \"/home/oren/work/notes/notes-nlp/.venv/lib/python3.10/site-packages/numpy/random/_mt19937.cpython-310-x86_64-linux-gnu.so\": 1738208868.3445745, \"/home/oren/work/notes/notes-nlp/.venv/lib/python3.10/site-packages/numpy/random/mtrand.cpython-310-x86_64-linux-gnu.so\": 1738208868.3385744, \"/home/oren/work/notes/notes-nlp/.venv/lib/python3.10/site-packages/numpy/random/_philox.cpython-310-x86_64-linux-gnu.so\": 1738208868.3355746, \"/home/oren/work/notes/notes-nlp/.venv/lib/python3.10/site-packages/numpy/random/_pcg64.cpython-310-x86_64-linux-gnu.so\": 1738208868.3395746, \"/home/oren/work/notes/notes-nlp/.venv/lib/python3.10/site-packages/numpy/random/_sfc64.cpython-310-x86_64-linux-gnu.so\": 1738208868.3415744, \"/home/oren/work/notes/notes-nlp/.venv/lib/python3.10/site-packages/numpy/random/_generator.cpython-310-x86_64-linux-gnu.so\": 1738208868.3335745, \"/home/oren/work/notes/notes-nlp/.venv/lib/python3.10/site-packages/numpy/random/_pickle.py\": 1738208868.3345745, \"/home/oren/work/notes/notes-nlp/.venv/lib/python3.10/site-packages/numpy/random/__init__.py\": 1738208868.3415744, \"/home/oren/work/notes/notes-nlp/.venv/lib/python3.10/site-packages/pandas/_typing.py\": 1738208875.9244535, \"/home/oren/work/notes/notes-nlp/.venv/lib/python3.10/site-packages/pandas/util/_exceptions.py\": 1738208875.9354534, \"/home/oren/work/notes/notes-nlp/.venv/lib/python3.10/site-packages/pandas/_config/config.py\": 1738208876.0634513, \"/home/oren/work/notes/notes-nlp/.venv/lib/python3.10/site-packages/pandas/_config/dates.py\": 1738208876.0634513, \"/home/oren/work/notes/notes-nlp/.venv/lib/python3.10/site-packages/pandas/_config/display.py\": 1738208876.0634513, \"/home/oren/work/notes/notes-nlp/.venv/lib/python3.10/site-packages/pandas/_config/__init__.py\": 1738208876.0634513, \"/home/oren/work/notes/notes-nlp/.venv/lib/python3.10/site-packages/pandas/core/__init__.py\": 1738208876.0704513, \"/home/oren/work/notes/notes-nlp/.venv/lib/python3.10/site-packages/pandas/core/config_init.py\": 1738208876.0664513, \"/home/oren/work/notes/notes-nlp/.venv/lib/python3.10/site-packages/pandas/_libs/pandas_parser.cpython-310-x86_64-linux-gnu.so\": 1738208876.1614497, \"/home/oren/work/notes/notes-nlp/.venv/lib/python3.10/site-packages/pandas/_libs/pandas_datetime.cpython-310-x86_64-linux-gnu.so\": 1738208876.1594498, \"/home/oren/work/notes/notes-nlp/.venv/lib/python3.10/site-packages/pandas/_libs/tslibs/ccalendar.cpython-310-x86_64-linux-gnu.so\": 1738208876.1764495, \"/home/oren/work/notes/notes-nlp/.venv/lib/python3.10/site-packages/pandas/_libs/tslibs/np_datetime.cpython-310-x86_64-linux-gnu.so\": 1738208876.2004492, \"/home/oren/work/notes/notes-nlp/.venv/lib/python3.10/site-packages/pandas/_libs/tslibs/dtypes.cpython-310-x86_64-linux-gnu.so\": 1738208876.1704497, \"/home/oren/work/notes/notes-nlp/.venv/lib/python3.10/site-packages/pandas/_libs/tslibs/base.cpython-310-x86_64-linux-gnu.so\": 1738208876.1904492, \"/home/oren/work/notes/notes-nlp/.venv/lib/python3.10/site-packages/pandas/_libs/tslibs/nattype.cpython-310-x86_64-linux-gnu.so\": 1738208876.1714497, \"/home/oren/work/notes/notes-nlp/.venv/lib/python3.10/site-packages/pandas/compat/_optional.py\": 1738208876.2004492, \"/usr/lib/python3.10/zoneinfo/_tzpath.py\": 1737124534.0, \"/usr/lib/python3.10/zoneinfo/_common.py\": 1737124534.0, \"/usr/lib/python3.10/lib-dynload/_zoneinfo.cpython-310-x86_64-linux-gnu.so\": 1737124534.0, \"/usr/lib/python3.10/zoneinfo/__init__.py\": 1737124534.0, \"/home/oren/work/notes/notes-nlp/.venv/lib/python3.10/site-packages/pandas/_libs/tslibs/timezones.cpython-310-x86_64-linux-gnu.so\": 1738208876.1724496, \"/home/oren/work/notes/notes-nlp/.venv/lib/python3.10/site-packages/pandas/_config/localization.py\": 1738208876.0634513, \"/home/oren/work/notes/notes-nlp/.venv/lib/python3.10/site-packages/pandas/_libs/tslibs/fields.cpython-310-x86_64-linux-gnu.so\": 1738208876.1784494, \"/home/oren/work/notes/notes-nlp/.venv/lib/python3.10/site-packages/pandas/_libs/tslibs/timedeltas.cpython-310-x86_64-linux-gnu.so\": 1738208876.1984491, \"/home/oren/work/notes/notes-nlp/.venv/lib/python3.10/site-packages/pandas/_libs/tslibs/tzconversion.cpython-310-x86_64-linux-gnu.so\": 1738208876.1854494, \"/home/oren/work/notes/notes-nlp/.venv/lib/python3.10/site-packages/pandas/_libs/tslibs/timestamps.cpython-310-x86_64-linux-gnu.so\": 1738208876.1754496, \"/home/oren/work/notes/notes-nlp/.venv/lib/python3.10/site-packages/pandas/_libs/properties.cpython-310-x86_64-linux-gnu.so\": 1738208876.1644497, \"/home/oren/work/notes/notes-nlp/.venv/lib/python3.10/site-packages/pandas/_libs/tslibs/offsets.cpython-310-x86_64-linux-gnu.so\": 1738208876.1834495, \"/home/oren/work/notes/notes-nlp/.venv/lib/python3.10/site-packages/pandas/_libs/tslibs/strptime.cpython-310-x86_64-linux-gnu.so\": 1738208876.1894493, \"/home/oren/work/notes/notes-nlp/.venv/lib/python3.10/site-packages/pandas/_libs/tslibs/parsing.cpython-310-x86_64-linux-gnu.so\": 1738208876.1874495, \"/home/oren/work/notes/notes-nlp/.venv/lib/python3.10/site-packages/pandas/_libs/tslibs/conversion.cpython-310-x86_64-linux-gnu.so\": 1738208876.1914494, \"/home/oren/work/notes/notes-nlp/.venv/lib/python3.10/site-packages/pandas/_libs/tslibs/period.cpython-310-x86_64-linux-gnu.so\": 1738208876.1944492, \"/home/oren/work/notes/notes-nlp/.venv/lib/python3.10/site-packages/pandas/_libs/tslibs/vectorized.cpython-310-x86_64-linux-gnu.so\": 1738208876.199449, \"/home/oren/work/notes/notes-nlp/.venv/lib/python3.10/site-packages/pandas/_libs/tslibs/__init__.py\": 1738208876.1954494, \"/home/oren/work/notes/notes-nlp/.venv/lib/python3.10/site-packages/pandas/_libs/ops_dispatch.cpython-310-x86_64-linux-gnu.so\": 1738208876.15445, \"/home/oren/work/notes/notes-nlp/.venv/lib/python3.10/site-packages/pandas/_libs/missing.cpython-310-x86_64-linux-gnu.so\": 1738208876.14245, \"/home/oren/work/notes/notes-nlp/.venv/lib/python3.10/site-packages/pandas/_libs/hashtable.cpython-310-x86_64-linux-gnu.so\": 1738208876.1294503, \"/home/oren/work/notes/notes-nlp/.venv/lib/python3.10/site-packages/pandas/_libs/algos.cpython-310-x86_64-linux-gnu.so\": 1738208876.1054506, \"/home/oren/work/notes/notes-nlp/.venv/lib/python3.10/site-packages/pandas/_libs/interval.cpython-310-x86_64-linux-gnu.so\": 1738208876.15445, \"/home/oren/work/notes/notes-nlp/.venv/lib/python3.10/site-packages/pandas/_libs/__init__.py\": 1738208876.1644497, \"/home/oren/work/notes/notes-nlp/.venv/lib/python3.10/site-packages/pandas/core/dtypes/__init__.py\": 1738208876.0934508, \"/home/oren/work/notes/notes-nlp/.venv/lib/python3.10/site-packages/pandas/_libs/lib.cpython-310-x86_64-linux-gnu.so\": 1738208876.14745, \"/home/oren/work/notes/notes-nlp/.venv/lib/python3.10/site-packages/pandas/errors/__init__.py\": 1738208876.0964508, \"/home/oren/work/notes/notes-nlp/.venv/lib/python3.10/site-packages/pandas/core/dtypes/generic.py\": 1738208876.091451, \"/home/oren/work/notes/notes-nlp/.venv/lib/python3.10/site-packages/pandas/core/dtypes/base.py\": 1738208876.0924509, \"/home/oren/work/notes/notes-nlp/.venv/lib/python3.10/site-packages/pandas/core/dtypes/inference.py\": 1738208876.0924509, \"/home/oren/work/notes/notes-nlp/.venv/lib/python3.10/site-packages/pandas/core/dtypes/dtypes.py\": 1738208876.0924509, \"/home/oren/work/notes/notes-nlp/.venv/lib/python3.10/site-packages/pandas/core/dtypes/common.py\": 1738208876.0934508, \"/home/oren/work/notes/notes-nlp/.venv/lib/python3.10/site-packages/pandas/core/dtypes/missing.py\": 1738208876.091451, \"/home/oren/work/notes/notes-nlp/.venv/lib/python3.10/site-packages/pandas/util/_decorators.py\": 1738208875.9354534, \"/home/oren/work/notes/notes-nlp/.venv/lib/python3.10/site-packages/pandas/io/__init__.py\": 1738208875.9274535, \"/home/oren/work/notes/notes-nlp/.venv/lib/python3.10/site-packages/pandas/io/_util.py\": 1738208875.9254534, \"/home/oren/work/notes/notes-nlp/.venv/lib/python3.10/site-packages/pandas/core/dtypes/cast.py\": 1738208876.0924509, \"/home/oren/work/notes/notes-nlp/.venv/lib/python3.10/site-packages/pandas/core/dtypes/astype.py\": 1738208876.0924509, \"/home/oren/work/notes/notes-nlp/.venv/lib/python3.10/site-packages/pandas/core/dtypes/concat.py\": 1738208876.0934508, \"/home/oren/work/notes/notes-nlp/.venv/lib/python3.10/site-packages/pandas/core/array_algos/__init__.py\": 1738208876.0954509, \"/home/oren/work/notes/notes-nlp/.venv/lib/python3.10/site-packages/pandas/core/common.py\": 1738208876.0714512, \"/home/oren/work/notes/notes-nlp/.venv/lib/python3.10/site-packages/pandas/core/construction.py\": 1738208876.0644512, \"/home/oren/work/notes/notes-nlp/.venv/lib/python3.10/site-packages/pandas/core/array_algos/take.py\": 1738208876.0954509, \"/home/oren/work/notes/notes-nlp/.venv/lib/python3.10/site-packages/pandas/core/indexers/utils.py\": 1738208876.0714512, \"/home/oren/work/notes/notes-nlp/.venv/lib/python3.10/site-packages/pandas/core/indexers/__init__.py\": 1738208876.0714512, \"/home/oren/work/notes/notes-nlp/.venv/lib/python3.10/site-packages/pandas/core/algorithms.py\": 1738208876.0674512, \"/home/oren/work/notes/notes-nlp/.venv/lib/python3.10/site-packages/pyarrow/_compute.cpython-310-x86_64-linux-gnu.so\": 1738206369.6246386, \"/home/oren/work/notes/notes-nlp/.venv/lib/python3.10/site-packages/pyarrow/_compute_docstrings.py\": 1738206369.7016373, \"/home/oren/work/notes/notes-nlp/.venv/lib/python3.10/site-packages/pyarrow/vendored/__init__.py\": 1738206369.7956357, \"/home/oren/work/notes/notes-nlp/.venv/lib/python3.10/site-packages/pyarrow/vendored/docscrape.py\": 1738206369.7956357, \"/home/oren/work/notes/notes-nlp/.venv/lib/python3.10/site-packages/pyarrow/compute.py\": 1738206369.6246386, \"/home/oren/work/notes/notes-nlp/.venv/lib/python3.10/site-packages/pandas/core/arrays/arrow/accessors.py\": 1738208876.091451, \"/home/oren/work/notes/notes-nlp/.venv/lib/python3.10/site-packages/pandas/util/_validators.py\": 1738208875.9354534, \"/home/oren/work/notes/notes-nlp/.venv/lib/python3.10/site-packages/pandas/core/missing.py\": 1738208876.0664513, \"/home/oren/work/notes/notes-nlp/.venv/lib/python3.10/site-packages/pandas/_libs/ops.cpython-310-x86_64-linux-gnu.so\": 1738208876.1624498, \"/home/oren/work/notes/notes-nlp/.venv/lib/python3.10/site-packages/pandas/core/roperator.py\": 1738208876.0674512, \"/home/oren/work/notes/notes-nlp/.venv/lib/python3.10/site-packages/pandas/core/computation/__init__.py\": 1738208876.072451, \"/home/oren/work/notes/notes-nlp/.venv/lib/python3.10/site-packages/pandas/core/computation/check.py\": 1738208876.0734513, \"/home/oren/work/notes/notes-nlp/.venv/lib/python3.10/site-packages/pandas/core/computation/expressions.py\": 1738208876.072451, \"/home/oren/work/notes/notes-nlp/.venv/lib/python3.10/site-packages/pandas/core/ops/missing.py\": 1738208876.0734513, \"/home/oren/work/notes/notes-nlp/.venv/lib/python3.10/site-packages/pandas/core/ops/dispatch.py\": 1738208876.0734513, \"/home/oren/work/notes/notes-nlp/.venv/lib/python3.10/site-packages/pandas/core/ops/invalid.py\": 1738208876.0734513, \"/home/oren/work/notes/notes-nlp/.venv/lib/python3.10/site-packages/pandas/core/ops/array_ops.py\": 1738208876.0734513, \"/home/oren/work/notes/notes-nlp/.venv/lib/python3.10/site-packages/pandas/core/ops/common.py\": 1738208876.0744512, \"/home/oren/work/notes/notes-nlp/.venv/lib/python3.10/site-packages/pandas/core/ops/docstrings.py\": 1738208876.0744512, \"/home/oren/work/notes/notes-nlp/.venv/lib/python3.10/site-packages/pandas/core/ops/mask_ops.py\": 1738208876.0734513, \"/home/oren/work/notes/notes-nlp/.venv/lib/python3.10/site-packages/pandas/core/ops/__init__.py\": 1738208876.0734513, \"/home/oren/work/notes/notes-nlp/.venv/lib/python3.10/site-packages/pandas/core/arraylike.py\": 1738208876.0714512, \"/home/oren/work/notes/notes-nlp/.venv/lib/python3.10/site-packages/pandas/core/arrays/_arrow_string_mixins.py\": 1738208876.087451, \"/home/oren/work/notes/notes-nlp/.venv/lib/python3.10/site-packages/pandas/core/arrays/_utils.py\": 1738208876.088451, \"/home/oren/work/notes/notes-nlp/.venv/lib/python3.10/site-packages/pandas/compat/numpy/function.py\": 1738208876.2014492, \"/home/oren/work/notes/notes-nlp/.venv/lib/python3.10/site-packages/pandas/core/array_algos/quantile.py\": 1738208876.0954509, \"/home/oren/work/notes/notes-nlp/.venv/lib/python3.10/site-packages/pandas/core/sorting.py\": 1738208876.0634513, \"/home/oren/work/notes/notes-nlp/.venv/lib/python3.10/site-packages/pandas/core/arrays/base.py\": 1738208876.088451, \"/home/oren/work/notes/notes-nlp/.venv/lib/python3.10/site-packages/pandas/core/nanops.py\": 1738208876.0704513, \"/home/oren/work/notes/notes-nlp/.venv/lib/python3.10/site-packages/pandas/core/array_algos/masked_accumulations.py\": 1738208876.0954509, \"/home/oren/work/notes/notes-nlp/.venv/lib/python3.10/site-packages/pandas/core/array_algos/masked_reductions.py\": 1738208876.0954509, \"/home/oren/work/notes/notes-nlp/.venv/lib/python3.10/site-packages/pandas/core/util/__init__.py\": 1738208876.0734513, \"/home/oren/work/notes/notes-nlp/.venv/lib/python3.10/site-packages/pandas/_libs/hashing.cpython-310-x86_64-linux-gnu.so\": 1738208876.1654496, \"/home/oren/work/notes/notes-nlp/.venv/lib/python3.10/site-packages/pandas/core/util/hashing.py\": 1738208876.0734513, \"/home/oren/work/notes/notes-nlp/.venv/lib/python3.10/site-packages/pandas/core/arrays/masked.py\": 1738208876.0894508, \"/home/oren/work/notes/notes-nlp/.venv/lib/python3.10/site-packages/pandas/_libs/arrays.cpython-310-x86_64-linux-gnu.so\": 1738208876.14345, \"/home/oren/work/notes/notes-nlp/.venv/lib/python3.10/site-packages/pandas/core/arrays/numeric.py\": 1738208876.087451, \"/home/oren/work/notes/notes-nlp/.venv/lib/python3.10/site-packages/pandas/core/arrays/floating.py\": 1738208876.087451, \"/home/oren/work/notes/notes-nlp/.venv/lib/python3.10/site-packages/pandas/core/arrays/integer.py\": 1738208876.086451, \"/home/oren/work/notes/notes-nlp/.venv/lib/python3.10/site-packages/pandas/core/array_algos/transforms.py\": 1738208876.0954509, \"/home/oren/work/notes/notes-nlp/.venv/lib/python3.10/site-packages/pandas/core/arrays/_mixins.py\": 1738208876.086451, \"/home/oren/work/notes/notes-nlp/.venv/lib/python3.10/site-packages/pandas/core/strings/__init__.py\": 1738208876.094451, \"/home/oren/work/notes/notes-nlp/.venv/lib/python3.10/site-packages/pandas/core/strings/base.py\": 1738208876.0934508, \"/home/oren/work/notes/notes-nlp/.venv/lib/python3.10/site-packages/pandas/core/strings/object_array.py\": 1738208876.0934508, \"/home/oren/work/notes/notes-nlp/.venv/lib/python3.10/site-packages/pandas/core/arrays/numpy_.py\": 1738208876.088451, \"/home/oren/work/notes/notes-nlp/.venv/lib/python3.10/site-packages/pandas/core/arrays/string_.py\": 1738208876.088451, \"/home/oren/work/notes/notes-nlp/.venv/lib/python3.10/site-packages/pandas/tseries/__init__.py\": 1738208876.0634513, \"/home/oren/work/notes/notes-nlp/.venv/lib/python3.10/site-packages/pandas/tseries/frequencies.py\": 1738208876.0634513, \"/home/oren/work/notes/notes-nlp/.venv/lib/python3.10/site-packages/pandas/core/arrays/arrow/array.py\": 1738208876.091451, \"/home/oren/work/notes/notes-nlp/.venv/lib/python3.10/site-packages/pandas/core/arrays/arrow/__init__.py\": 1738208876.091451, \"/home/oren/work/notes/notes-nlp/.venv/lib/python3.10/site-packages/pandas/core/arrays/boolean.py\": 1738208876.0894508, \"/home/oren/work/notes/notes-nlp/.venv/lib/python3.10/site-packages/pandas/core/accessor.py\": 1738208876.0674512, \"/home/oren/work/notes/notes-nlp/.venv/lib/python3.10/site-packages/pandas/core/base.py\": 1738208876.0664513, \"/home/oren/work/notes/notes-nlp/.venv/lib/python3.10/site-packages/pandas/io/formats/__init__.py\": 1738208875.9294534, \"/home/oren/work/notes/notes-nlp/.venv/lib/python3.10/site-packages/pandas/io/formats/console.py\": 1738208875.9284534, \"/home/oren/work/notes/notes-nlp/.venv/lib/python3.10/site-packages/pandas/core/arrays/categorical.py\": 1738208876.0894508, \"/home/oren/work/notes/notes-nlp/.venv/lib/python3.10/site-packages/pandas/_libs/tslib.cpython-310-x86_64-linux-gnu.so\": 1738208876.1614497, \"/home/oren/work/notes/notes-nlp/.venv/lib/python3.10/site-packages/pandas/core/array_algos/datetimelike_accumulations.py\": 1738208876.0954509, \"/home/oren/work/notes/notes-nlp/.venv/lib/python3.10/site-packages/pandas/core/arrays/datetimelike.py\": 1738208876.087451, \"/home/oren/work/notes/notes-nlp/.venv/lib/python3.10/site-packages/pandas/core/arrays/_ranges.py\": 1738208876.0894508, \"/home/oren/work/notes/notes-nlp/.venv/lib/python3.10/site-packages/pandas/tseries/offsets.py\": 1738208876.0624514, \"/home/oren/work/notes/notes-nlp/.venv/lib/python3.10/site-packages/pandas/core/arrays/datetimes.py\": 1738208876.086451, \"/home/oren/work/notes/notes-nlp/.venv/lib/python3.10/site-packages/pandas/core/arrays/timedeltas.py\": 1738208876.090451, \"/home/oren/work/notes/notes-nlp/.venv/lib/python3.10/site-packages/pandas/core/arrays/interval.py\": 1738208876.088451, \"/home/oren/work/notes/notes-nlp/.venv/lib/python3.10/site-packages/pandas/core/arrays/period.py\": 1738208876.087451, \"/home/oren/work/notes/notes-nlp/.venv/lib/python3.10/site-packages/pandas/_libs/sparse.cpython-310-x86_64-linux-gnu.so\": 1738208876.1344502, \"/home/oren/work/notes/notes-nlp/.venv/lib/python3.10/site-packages/pandas/io/formats/printing.py\": 1738208875.9284534, \"/home/oren/work/notes/notes-nlp/.venv/lib/python3.10/site-packages/pandas/core/arrays/sparse/array.py\": 1738208876.090451, \"/home/oren/work/notes/notes-nlp/.venv/lib/python3.10/site-packages/pandas/core/arrays/sparse/accessor.py\": 1738208876.090451, \"/home/oren/work/notes/notes-nlp/.venv/lib/python3.10/site-packages/pandas/core/arrays/sparse/__init__.py\": 1738208876.090451, \"/home/oren/work/notes/notes-nlp/.venv/lib/python3.10/site-packages/pandas/core/arrays/arrow/_arrow_utils.py\": 1738208876.090451, \"/home/oren/work/notes/notes-nlp/.venv/lib/python3.10/site-packages/pandas/core/arrays/string_arrow.py\": 1738208876.087451, \"/home/oren/work/notes/notes-nlp/.venv/lib/python3.10/site-packages/pandas/core/arrays/__init__.py\": 1738208876.0894508, \"/home/oren/work/notes/notes-nlp/.venv/lib/python3.10/site-packages/pandas/core/flags.py\": 1738208876.0664513, \"/home/oren/work/notes/notes-nlp/.venv/lib/python3.10/site-packages/pandas/_libs/internals.cpython-310-x86_64-linux-gnu.so\": 1738208876.1414502, \"/home/oren/work/notes/notes-nlp/.venv/lib/python3.10/site-packages/pandas/core/_numba/__init__.py\": 1738208876.094451, \"/home/oren/work/notes/notes-nlp/.venv/lib/python3.10/site-packages/pandas/core/_numba/executor.py\": 1738208876.094451, \"/home/oren/work/notes/notes-nlp/.venv/lib/python3.10/site-packages/pandas/core/apply.py\": 1738208876.0714512, \"/home/oren/work/notes/notes-nlp/.venv/lib/python3.10/site-packages/pandas/_libs/indexing.cpython-310-x86_64-linux-gnu.so\": 1738208876.0974507, \"/home/oren/work/notes/notes-nlp/.venv/lib/python3.10/site-packages/pandas/core/indexes/__init__.py\": 1738208876.0784512, \"/home/oren/work/notes/notes-nlp/.venv/lib/python3.10/site-packages/pandas/_libs/index.cpython-310-x86_64-linux-gnu.so\": 1738208876.15845, \"/home/oren/work/notes/notes-nlp/.venv/lib/python3.10/site-packages/pandas/_libs/writers.cpython-310-x86_64-linux-gnu.so\": 1738208876.1104505, \"/home/oren/work/notes/notes-nlp/.venv/lib/python3.10/site-packages/pandas/_libs/join.cpython-310-x86_64-linux-gnu.so\": 1738208876.13945, \"/home/oren/work/notes/notes-nlp/.venv/lib/python3.10/site-packages/pandas/core/array_algos/putmask.py\": 1738208876.0954509, \"/home/oren/work/notes/notes-nlp/.venv/lib/python3.10/site-packages/pandas/core/indexes/frozen.py\": 1738208876.0784512, \"/home/oren/work/notes/notes-nlp/.venv/lib/python3.10/site-packages/pandas/core/strings/accessor.py\": 1738208876.0934508, \"/home/oren/work/notes/notes-nlp/.venv/lib/python3.10/site-packages/pandas/core/indexes/base.py\": 1738208876.0774512, \"/home/oren/work/notes/notes-nlp/.venv/lib/python3.10/site-packages/pandas/core/indexes/extension.py\": 1738208876.0784512, \"/home/oren/work/notes/notes-nlp/.venv/lib/python3.10/site-packages/pandas/core/indexes/category.py\": 1738208876.0784512, \"/home/oren/work/notes/notes-nlp/.venv/lib/python3.10/site-packages/pandas/core/indexes/range.py\": 1738208876.076451, \"/home/oren/work/notes/notes-nlp/.venv/lib/python3.10/site-packages/pandas/core/tools/__init__.py\": 1738208876.0744512, \"/home/oren/work/notes/notes-nlp/.venv/lib/python3.10/site-packages/pandas/core/tools/timedeltas.py\": 1738208876.0744512, \"/home/oren/work/notes/notes-nlp/.venv/lib/python3.10/site-packages/pandas/core/indexes/datetimelike.py\": 1738208876.076451, \"/home/oren/work/notes/notes-nlp/.venv/lib/python3.10/site-packages/pandas/core/tools/times.py\": 1738208876.0744512, \"/home/oren/work/notes/notes-nlp/.venv/lib/python3.10/site-packages/pandas/core/indexes/datetimes.py\": 1738208876.076451, \"/home/oren/work/notes/notes-nlp/.venv/lib/python3.10/site-packages/pandas/core/indexes/multi.py\": 1738208876.0754511, \"/home/oren/work/notes/notes-nlp/.venv/lib/python3.10/site-packages/pandas/core/indexes/timedeltas.py\": 1738208876.0784512, \"/home/oren/work/notes/notes-nlp/.venv/lib/python3.10/site-packages/pandas/core/indexes/interval.py\": 1738208876.076451, \"/home/oren/work/notes/notes-nlp/.venv/lib/python3.10/site-packages/pandas/core/indexes/period.py\": 1738208876.076451, \"/home/oren/work/notes/notes-nlp/.venv/lib/python3.10/site-packages/pandas/core/indexes/api.py\": 1738208876.0784512, \"/home/oren/work/notes/notes-nlp/.venv/lib/python3.10/site-packages/pandas/core/indexing.py\": 1738208876.0674512, \"/home/oren/work/notes/notes-nlp/.venv/lib/python3.10/site-packages/pandas/core/sample.py\": 1738208876.0664513, \"/home/oren/work/notes/notes-nlp/.venv/lib/python3.10/site-packages/pandas/core/array_algos/replace.py\": 1738208876.0954509, \"/home/oren/work/notes/notes-nlp/.venv/lib/python3.10/site-packages/pandas/core/internals/blocks.py\": 1738208876.085451, \"/home/oren/work/notes/notes-nlp/.venv/lib/python3.10/site-packages/pandas/core/internals/api.py\": 1738208876.084451, \"/home/oren/work/notes/notes-nlp/.venv/lib/python3.10/site-packages/pandas/core/internals/base.py\": 1738208876.084451, \"/home/oren/work/notes/notes-nlp/.venv/lib/python3.10/site-packages/pandas/core/internals/ops.py\": 1738208876.084451, \"/home/oren/work/notes/notes-nlp/.venv/lib/python3.10/site-packages/pandas/core/internals/managers.py\": 1738208876.086451, \"/home/oren/work/notes/notes-nlp/.venv/lib/python3.10/site-packages/pandas/core/internals/array_manager.py\": 1738208876.085451, \"/home/oren/work/notes/notes-nlp/.venv/lib/python3.10/site-packages/pandas/core/internals/concat.py\": 1738208876.085451, \"/home/oren/work/notes/notes-nlp/.venv/lib/python3.10/site-packages/pandas/core/internals/__init__.py\": 1738208876.085451, \"/home/oren/work/notes/notes-nlp/.venv/lib/python3.10/site-packages/pandas/core/internals/construction.py\": 1738208876.084451, \"/home/oren/work/notes/notes-nlp/.venv/lib/python3.10/site-packages/pandas/core/methods/__init__.py\": 1738208876.0754511, \"/home/oren/work/notes/notes-nlp/.venv/lib/python3.10/site-packages/pandas/core/reshape/__init__.py\": 1738208876.083451, \"/home/oren/work/notes/notes-nlp/.venv/lib/python3.10/site-packages/pandas/core/reshape/concat.py\": 1738208876.083451, \"/usr/lib/python3.10/lib-dynload/mmap.cpython-310-x86_64-linux-gnu.so\": 1737124534.0, \"/usr/lib/python3.10/tarfile.py\": 1737124534.0, \"/home/oren/work/notes/notes-nlp/.venv/lib/python3.10/site-packages/pandas/core/shared_docs.py\": 1738208876.0694513, \"/home/oren/work/notes/notes-nlp/.venv/lib/python3.10/site-packages/pandas/io/common.py\": 1738208875.9274535, \"/home/oren/work/notes/notes-nlp/.venv/lib/python3.10/site-packages/pandas/io/formats/format.py\": 1738208875.9284534, \"/home/oren/work/notes/notes-nlp/.venv/lib/python3.10/site-packages/pandas/core/methods/describe.py\": 1738208876.0754511, \"/home/oren/work/notes/notes-nlp/.venv/lib/python3.10/site-packages/pandas/_libs/window/__init__.py\": 1738208876.1674497, \"/home/oren/work/notes/notes-nlp/.venv/lib/python3.10/site-packages/pandas/_libs/window/aggregations.cpython-310-x86_64-linux-gnu.so\": 1738208876.1694496, \"/home/oren/work/notes/notes-nlp/.venv/lib/python3.10/site-packages/pandas/_libs/window/indexers.cpython-310-x86_64-linux-gnu.so\": 1738208876.1664498, \"/home/oren/work/notes/notes-nlp/.venv/lib/python3.10/site-packages/pandas/core/indexers/objects.py\": 1738208876.0714512, \"/home/oren/work/notes/notes-nlp/.venv/lib/python3.10/site-packages/pandas/core/util/numba_.py\": 1738208876.0734513, \"/home/oren/work/notes/notes-nlp/.venv/lib/python3.10/site-packages/pandas/core/window/common.py\": 1738208876.082451, \"/home/oren/work/notes/notes-nlp/.venv/lib/python3.10/site-packages/pandas/core/window/doc.py\": 1738208876.080451, \"/home/oren/work/notes/notes-nlp/.venv/lib/python3.10/site-packages/pandas/core/window/numba_.py\": 1738208876.081451, \"/home/oren/work/notes/notes-nlp/.venv/lib/python3.10/site-packages/pandas/core/window/online.py\": 1738208876.081451, \"/home/oren/work/notes/notes-nlp/.venv/lib/python3.10/site-packages/pandas/core/window/rolling.py\": 1738208876.081451, \"/home/oren/work/notes/notes-nlp/.venv/lib/python3.10/site-packages/pandas/core/window/ewm.py\": 1738208876.081451, \"/home/oren/work/notes/notes-nlp/.venv/lib/python3.10/site-packages/pandas/core/window/expanding.py\": 1738208876.081451, \"/home/oren/work/notes/notes-nlp/.venv/lib/python3.10/site-packages/pandas/core/window/__init__.py\": 1738208876.081451, \"/home/oren/work/notes/notes-nlp/.venv/lib/python3.10/site-packages/pandas/core/generic.py\": 1738208876.0664513, \"/home/oren/work/notes/notes-nlp/.venv/lib/python3.10/site-packages/pandas/core/methods/selectn.py\": 1738208876.0754511, \"/home/oren/work/notes/notes-nlp/.venv/lib/python3.10/site-packages/pandas/core/reshape/util.py\": 1738208876.083451, \"/home/oren/work/notes/notes-nlp/.venv/lib/python3.10/site-packages/pandas/core/tools/numeric.py\": 1738208876.0744512, \"/home/oren/work/notes/notes-nlp/.venv/lib/python3.10/site-packages/pandas/core/reshape/melt.py\": 1738208876.083451, \"/home/oren/work/notes/notes-nlp/.venv/lib/python3.10/site-packages/pandas/_libs/reshape.cpython-310-x86_64-linux-gnu.so\": 1738208876.14945, \"/home/oren/work/notes/notes-nlp/.venv/lib/python3.10/site-packages/pandas/core/indexes/accessors.py\": 1738208876.0784512, \"/home/oren/work/notes/notes-nlp/.venv/lib/python3.10/site-packages/pandas/arrays/__init__.py\": 1738208876.0954509, \"/home/oren/work/notes/notes-nlp/.venv/lib/python3.10/site-packages/pandas/core/tools/datetimes.py\": 1738208876.0744512, \"/home/oren/work/notes/notes-nlp/.venv/lib/python3.10/site-packages/pandas/io/formats/info.py\": 1738208875.9284534, \"/home/oren/work/notes/notes-nlp/.venv/lib/python3.10/site-packages/pandas/plotting/_core.py\": 1738208875.9364533, \"/home/oren/work/notes/notes-nlp/.venv/lib/python3.10/site-packages/pandas/plotting/_misc.py\": 1738208875.9364533, \"/home/oren/work/notes/notes-nlp/.venv/lib/python3.10/site-packages/pandas/plotting/__init__.py\": 1738208875.9364533, \"/home/oren/work/notes/notes-nlp/.venv/lib/python3.10/site-packages/pandas/core/series.py\": 1738208876.0704513, \"/home/oren/work/notes/notes-nlp/.venv/lib/python3.10/site-packages/pandas/core/frame.py\": 1738208876.0694513, \"/home/oren/work/notes/notes-nlp/.venv/lib/python3.10/site-packages/pandas/core/groupby/base.py\": 1738208876.080451, \"/home/oren/work/notes/notes-nlp/.venv/lib/python3.10/site-packages/pandas/_libs/groupby.cpython-310-x86_64-linux-gnu.so\": 1738208876.1204505, \"/home/oren/work/notes/notes-nlp/.venv/lib/python3.10/site-packages/pandas/core/groupby/categorical.py\": 1738208876.080451, \"/home/oren/work/notes/notes-nlp/.venv/lib/python3.10/site-packages/pandas/core/groupby/grouper.py\": 1738208876.080451, \"/home/oren/work/notes/notes-nlp/.venv/lib/python3.10/site-packages/pandas/core/groupby/ops.py\": 1738208876.080451, \"/home/oren/work/notes/notes-nlp/.venv/lib/python3.10/site-packages/pandas/core/groupby/numba_.py\": 1738208876.080451, \"/home/oren/work/notes/notes-nlp/.venv/lib/python3.10/site-packages/pandas/core/groupby/indexing.py\": 1738208876.080451, \"/home/oren/work/notes/notes-nlp/.venv/lib/python3.10/site-packages/pandas/core/groupby/groupby.py\": 1738208876.079451, \"/home/oren/work/notes/notes-nlp/.venv/lib/python3.10/site-packages/pandas/core/groupby/generic.py\": 1738208876.079451, \"/home/oren/work/notes/notes-nlp/.venv/lib/python3.10/site-packages/pandas/core/groupby/__init__.py\": 1738208876.080451, \"/home/oren/work/notes/notes-nlp/.venv/lib/python3.10/site-packages/pandas/core/api.py\": 1738208876.0664513, \"/home/oren/work/notes/notes-nlp/.venv/lib/python3.10/site-packages/pandas/tseries/api.py\": 1738208876.0624514, \"/home/oren/work/notes/notes-nlp/.venv/lib/python3.10/site-packages/pandas/core/computation/common.py\": 1738208876.0734513, \"/home/oren/work/notes/notes-nlp/.venv/lib/python3.10/site-packages/pandas/core/computation/align.py\": 1738208876.072451, \"/home/oren/work/notes/notes-nlp/.venv/lib/python3.10/site-packages/pandas/core/computation/scope.py\": 1738208876.0714512, \"/home/oren/work/notes/notes-nlp/.venv/lib/python3.10/site-packages/pandas/core/computation/ops.py\": 1738208876.072451, \"/home/oren/work/notes/notes-nlp/.venv/lib/python3.10/site-packages/pandas/core/computation/engines.py\": 1738208876.072451, \"/home/oren/work/notes/notes-nlp/.venv/lib/python3.10/site-packages/pandas/core/computation/parsing.py\": 1738208876.072451, \"/home/oren/work/notes/notes-nlp/.venv/lib/python3.10/site-packages/pandas/core/computation/expr.py\": 1738208876.0714512, \"/home/oren/work/notes/notes-nlp/.venv/lib/python3.10/site-packages/pandas/core/computation/eval.py\": 1738208876.072451, \"/home/oren/work/notes/notes-nlp/.venv/lib/python3.10/site-packages/pandas/core/computation/api.py\": 1738208876.072451, \"/home/oren/work/notes/notes-nlp/.venv/lib/python3.10/site-packages/pandas/core/reshape/encoding.py\": 1738208876.082451, \"/home/oren/work/notes/notes-nlp/.venv/lib/python3.10/site-packages/pandas/core/reshape/merge.py\": 1738208876.082451, \"/home/oren/work/notes/notes-nlp/.venv/lib/python3.10/site-packages/pandas/core/reshape/pivot.py\": 1738208876.082451, \"/home/oren/work/notes/notes-nlp/.venv/lib/python3.10/site-packages/pandas/core/reshape/tile.py\": 1738208876.083451, \"/home/oren/work/notes/notes-nlp/.venv/lib/python3.10/site-packages/pandas/core/reshape/api.py\": 1738208876.083451, \"/home/oren/work/notes/notes-nlp/.venv/lib/python3.10/site-packages/pandas/api/extensions/__init__.py\": 1738208876.0964508, \"/home/oren/work/notes/notes-nlp/.venv/lib/python3.10/site-packages/pandas/api/indexers/__init__.py\": 1738208876.0964508, \"/home/oren/work/notes/notes-nlp/.venv/lib/python3.10/site-packages/pandas/core/interchange/__init__.py\": 1738208876.084451, \"/home/oren/work/notes/notes-nlp/.venv/lib/python3.10/site-packages/pandas/core/interchange/dataframe_protocol.py\": 1738208876.083451, \"/home/oren/work/notes/notes-nlp/.venv/lib/python3.10/site-packages/pandas/core/interchange/utils.py\": 1738208876.084451, \"/home/oren/work/notes/notes-nlp/.venv/lib/python3.10/site-packages/pandas/core/interchange/from_dataframe.py\": 1738208876.084451, \"/home/oren/work/notes/notes-nlp/.venv/lib/python3.10/site-packages/pandas/api/interchange/__init__.py\": 1738208876.0964508, \"/home/oren/work/notes/notes-nlp/.venv/lib/python3.10/site-packages/pandas/core/dtypes/api.py\": 1738208876.0924509, \"/home/oren/work/notes/notes-nlp/.venv/lib/python3.10/site-packages/pandas/api/types/__init__.py\": 1738208876.0964508, \"/home/oren/work/notes/notes-nlp/.venv/lib/python3.10/site-packages/pandas/core/resample.py\": 1738208876.0644512, \"/home/oren/work/notes/notes-nlp/.venv/lib/python3.10/site-packages/pandas/_libs/json.cpython-310-x86_64-linux-gnu.so\": 1738208876.0974507, \"/home/oren/work/notes/notes-nlp/.venv/lib/python3.10/site-packages/pandas/io/json/_normalize.py\": 1738208875.9344535, \"/home/oren/work/notes/notes-nlp/.venv/lib/python3.10/site-packages/pandas/io/json/_table_schema.py\": 1738208875.9344535, \"/home/oren/work/notes/notes-nlp/.venv/lib/python3.10/site-packages/pandas/_libs/parsers.cpython-310-x86_64-linux-gnu.so\": 1738208876.1084507, \"/home/oren/work/notes/notes-nlp/.venv/lib/python3.10/site-packages/pandas/io/parsers/base_parser.py\": 1738208875.9324534, \"/home/oren/work/notes/notes-nlp/.venv/lib/python3.10/site-packages/pandas/io/parsers/arrow_parser_wrapper.py\": 1738208875.9314535, \"/home/oren/work/notes/notes-nlp/.venv/lib/python3.10/site-packages/pandas/io/parsers/c_parser_wrapper.py\": 1738208875.9314535, \"/home/oren/work/notes/notes-nlp/.venv/lib/python3.10/site-packages/pandas/io/parsers/python_parser.py\": 1738208875.9314535, \"/home/oren/work/notes/notes-nlp/.venv/lib/python3.10/site-packages/pandas/io/parsers/readers.py\": 1738208875.9314535, \"/home/oren/work/notes/notes-nlp/.venv/lib/python3.10/site-packages/pandas/io/parsers/__init__.py\": 1738208875.9324534, \"/home/oren/work/notes/notes-nlp/.venv/lib/python3.10/site-packages/pandas/io/json/_json.py\": 1738208875.9344535, \"/home/oren/work/notes/notes-nlp/.venv/lib/python3.10/site-packages/pandas/io/json/__init__.py\": 1738208875.9344535, \"/home/oren/work/notes/notes-nlp/.venv/lib/python3.10/site-packages/pandas/io/stata.py\": 1738208875.9274535, \"/home/oren/work/notes/notes-nlp/.venv/lib/python3.10/site-packages/pandas/api/typing/__init__.py\": 1738208876.0964508, \"/home/oren/work/notes/notes-nlp/.venv/lib/python3.10/site-packages/pandas/api/__init__.py\": 1738208876.0954509, \"/home/oren/work/notes/notes-nlp/.venv/lib/python3.10/site-packages/pandas/_testing/contexts.py\": 1738208876.0614514, \"/home/oren/work/notes/notes-nlp/.venv/lib/python3.10/site-packages/pandas/_testing/_io.py\": 1738208876.0624514, \"/home/oren/work/notes/notes-nlp/.venv/lib/python3.10/site-packages/pandas/_testing/_warnings.py\": 1738208876.0624514, \"/home/oren/work/notes/notes-nlp/.venv/lib/python3.10/site-packages/pandas/_libs/testing.cpython-310-x86_64-linux-gnu.so\": 1738208876.1634498, \"/home/oren/work/notes/notes-nlp/.venv/lib/python3.10/site-packages/pandas/_testing/asserters.py\": 1738208876.0624514, \"/home/oren/work/notes/notes-nlp/.venv/lib/python3.10/site-packages/pandas/_testing/compat.py\": 1738208876.0624514, \"/home/oren/work/notes/notes-nlp/.venv/lib/python3.10/site-packages/pandas/_testing/__init__.py\": 1738208876.0624514, \"/home/oren/work/notes/notes-nlp/.venv/lib/python3.10/site-packages/pandas/testing.py\": 1738208875.9244535, \"/home/oren/work/notes/notes-nlp/.venv/lib/python3.10/site-packages/pandas/util/_print_versions.py\": 1738208875.9344535, \"/home/oren/work/notes/notes-nlp/.venv/lib/python3.10/site-packages/pandas/io/clipboards.py\": 1738208875.9274535, \"/home/oren/work/notes/notes-nlp/.venv/lib/python3.10/site-packages/pandas/io/excel/_util.py\": 1738208875.9324534, \"/home/oren/work/notes/notes-nlp/.venv/lib/python3.10/site-packages/pandas/io/excel/_calamine.py\": 1738208875.9334533, \"/home/oren/work/notes/notes-nlp/.venv/lib/python3.10/site-packages/pandas/io/excel/_odfreader.py\": 1738208875.9334533, \"/home/oren/work/notes/notes-nlp/.venv/lib/python3.10/site-packages/pandas/io/excel/_openpyxl.py\": 1738208875.9334533, \"/home/oren/work/notes/notes-nlp/.venv/lib/python3.10/site-packages/pandas/io/excel/_pyxlsb.py\": 1738208875.9324534, \"/home/oren/work/notes/notes-nlp/.venv/lib/python3.10/site-packages/pandas/io/excel/_xlrd.py\": 1738208875.9334533, \"/home/oren/work/notes/notes-nlp/.venv/lib/python3.10/site-packages/pandas/io/excel/_base.py\": 1738208875.9324534, \"/home/oren/work/notes/notes-nlp/.venv/lib/python3.10/site-packages/pandas/io/excel/_odswriter.py\": 1738208875.9324534, \"/home/oren/work/notes/notes-nlp/.venv/lib/python3.10/site-packages/pandas/io/excel/_xlsxwriter.py\": 1738208875.9324534, \"/home/oren/work/notes/notes-nlp/.venv/lib/python3.10/site-packages/pandas/io/excel/__init__.py\": 1738208875.9334533, \"/home/oren/work/notes/notes-nlp/.venv/lib/python3.10/site-packages/pandas/io/feather_format.py\": 1738208875.9254534, \"/home/oren/work/notes/notes-nlp/.venv/lib/python3.10/site-packages/pandas/io/gbq.py\": 1738208875.9274535, \"/home/oren/work/notes/notes-nlp/.venv/lib/python3.10/site-packages/pandas/io/html.py\": 1738208875.9254534, \"/home/oren/work/notes/notes-nlp/.venv/lib/python3.10/site-packages/pandas/io/orc.py\": 1738208875.9244535, \"/home/oren/work/notes/notes-nlp/.venv/lib/python3.10/site-packages/pandas/io/parquet.py\": 1738208875.9254534, \"/home/oren/work/notes/notes-nlp/.venv/lib/python3.10/site-packages/pandas/compat/pickle_compat.py\": 1738208876.2004492, \"/home/oren/work/notes/notes-nlp/.venv/lib/python3.10/site-packages/pandas/io/pickle.py\": 1738208875.9274535, \"/home/oren/work/notes/notes-nlp/.venv/lib/python3.10/site-packages/pandas/core/computation/pytables.py\": 1738208876.072451, \"/home/oren/work/notes/notes-nlp/.venv/lib/python3.10/site-packages/pandas/io/pytables.py\": 1738208875.9264536, \"/home/oren/work/notes/notes-nlp/.venv/lib/python3.10/site-packages/pandas/io/sas/sasreader.py\": 1738208875.9344535, \"/home/oren/work/notes/notes-nlp/.venv/lib/python3.10/site-packages/pandas/io/sas/__init__.py\": 1738208875.9344535, \"/home/oren/work/notes/notes-nlp/.venv/lib/python3.10/site-packages/pandas/io/spss.py\": 1738208875.9254534, \"/home/oren/work/notes/notes-nlp/.venv/lib/python3.10/site-packages/pandas/io/sql.py\": 1738208875.9254534, \"/home/oren/work/notes/notes-nlp/.venv/lib/python3.10/site-packages/pandas/io/xml.py\": 1738208875.9274535, \"/home/oren/work/notes/notes-nlp/.venv/lib/python3.10/site-packages/pandas/io/api.py\": 1738208875.9254534, \"/home/oren/work/notes/notes-nlp/.venv/lib/python3.10/site-packages/pandas/util/_tester.py\": 1738208875.9344535, \"/home/oren/work/notes/notes-nlp/.venv/lib/python3.10/site-packages/pandas/_version_meson.py\": 1738208875.9244535, \"/home/oren/work/notes/notes-nlp/.venv/lib/python3.10/site-packages/pandas/__init__.py\": 1738208875.9244535}\n"
     ]
    }
   ],
   "source": [
    "\n",
    "# imports\n",
    "import os\n",
    "import sys\n",
    "import types\n",
    "import json\n",
    "import base64\n",
    "\n",
    "# figure size/format\n",
    "fig_width = 7\n",
    "fig_height = 5\n",
    "fig_format = 'retina'\n",
    "fig_dpi = 96\n",
    "interactivity = 'all'\n",
    "is_shiny = False\n",
    "is_dashboard = False\n",
    "plotly_connected = True\n",
    "\n",
    "# matplotlib defaults / format\n",
    "try:\n",
    "  import matplotlib.pyplot as plt\n",
    "  plt.rcParams['figure.figsize'] = (fig_width, fig_height)\n",
    "  plt.rcParams['figure.dpi'] = fig_dpi\n",
    "  plt.rcParams['savefig.dpi'] = \"figure\"\n",
    "  from IPython.display import set_matplotlib_formats\n",
    "  set_matplotlib_formats(fig_format)\n",
    "except Exception:\n",
    "  pass\n",
    "\n",
    "# plotly use connected mode\n",
    "try:\n",
    "  import plotly.io as pio\n",
    "  if plotly_connected:\n",
    "    pio.renderers.default = \"notebook_connected\"\n",
    "  else:\n",
    "    pio.renderers.default = \"notebook\"\n",
    "  for template in pio.templates.keys():\n",
    "    pio.templates[template].layout.margin = dict(t=30,r=0,b=0,l=0)\n",
    "except Exception:\n",
    "  pass\n",
    "\n",
    "# disable itables paging for dashboards\n",
    "if is_dashboard:\n",
    "  try:\n",
    "    from itables import options\n",
    "    options.dom = 'fiBrtlp'\n",
    "    options.maxBytes = 1024 * 1024\n",
    "    options.language = dict(info = \"Showing _TOTAL_ entries\")\n",
    "    options.classes = \"display nowrap compact\"\n",
    "    options.paging = False\n",
    "    options.searching = True\n",
    "    options.ordering = True\n",
    "    options.info = True\n",
    "    options.lengthChange = False\n",
    "    options.autoWidth = False\n",
    "    options.responsive = True\n",
    "    options.keys = True\n",
    "    options.buttons = []\n",
    "  except Exception:\n",
    "    pass\n",
    "  \n",
    "  try:\n",
    "    import altair as alt\n",
    "    # By default, dashboards will have container sized\n",
    "    # vega visualizations which allows them to flow reasonably\n",
    "    theme_sentinel = '_quarto-dashboard-internal'\n",
    "    def make_theme(name):\n",
    "        nonTheme = alt.themes._plugins[name]    \n",
    "        def patch_theme(*args, **kwargs):\n",
    "            existingTheme = nonTheme()\n",
    "            if 'height' not in existingTheme:\n",
    "              existingTheme['height'] = 'container'\n",
    "            if 'width' not in existingTheme:\n",
    "              existingTheme['width'] = 'container'\n",
    "\n",
    "            if 'config' not in existingTheme:\n",
    "              existingTheme['config'] = dict()\n",
    "            \n",
    "            # Configure the default font sizes\n",
    "            title_font_size = 15\n",
    "            header_font_size = 13\n",
    "            axis_font_size = 12\n",
    "            legend_font_size = 12\n",
    "            mark_font_size = 12\n",
    "            tooltip = False\n",
    "\n",
    "            config = existingTheme['config']\n",
    "\n",
    "            # The Axis\n",
    "            if 'axis' not in config:\n",
    "              config['axis'] = dict()\n",
    "            axis = config['axis']\n",
    "            if 'labelFontSize' not in axis:\n",
    "              axis['labelFontSize'] = axis_font_size\n",
    "            if 'titleFontSize' not in axis:\n",
    "              axis['titleFontSize'] = axis_font_size  \n",
    "\n",
    "            # The legend\n",
    "            if 'legend' not in config:\n",
    "              config['legend'] = dict()\n",
    "            legend = config['legend']\n",
    "            if 'labelFontSize' not in legend:\n",
    "              legend['labelFontSize'] = legend_font_size\n",
    "            if 'titleFontSize' not in legend:\n",
    "              legend['titleFontSize'] = legend_font_size  \n",
    "\n",
    "            # The header\n",
    "            if 'header' not in config:\n",
    "              config['header'] = dict()\n",
    "            header = config['header']\n",
    "            if 'labelFontSize' not in header:\n",
    "              header['labelFontSize'] = header_font_size\n",
    "            if 'titleFontSize' not in header:\n",
    "              header['titleFontSize'] = header_font_size    \n",
    "\n",
    "            # Title\n",
    "            if 'title' not in config:\n",
    "              config['title'] = dict()\n",
    "            title = config['title']\n",
    "            if 'fontSize' not in title:\n",
    "              title['fontSize'] = title_font_size\n",
    "\n",
    "            # Marks\n",
    "            if 'mark' not in config:\n",
    "              config['mark'] = dict()\n",
    "            mark = config['mark']\n",
    "            if 'fontSize' not in mark:\n",
    "              mark['fontSize'] = mark_font_size\n",
    "\n",
    "            # Mark tooltips\n",
    "            if tooltip and 'tooltip' not in mark:\n",
    "              mark['tooltip'] = dict(content=\"encoding\")\n",
    "\n",
    "            return existingTheme\n",
    "            \n",
    "        return patch_theme\n",
    "\n",
    "    # We can only do this once per session\n",
    "    if theme_sentinel not in alt.themes.names():\n",
    "      for name in alt.themes.names():\n",
    "        alt.themes.register(name, make_theme(name))\n",
    "      \n",
    "      # register a sentinel theme so we only do this once\n",
    "      alt.themes.register(theme_sentinel, make_theme('default'))\n",
    "      alt.themes.enable('default')\n",
    "\n",
    "  except Exception:\n",
    "    pass\n",
    "\n",
    "# enable pandas latex repr when targeting pdfs\n",
    "try:\n",
    "  import pandas as pd\n",
    "  if fig_format == 'pdf':\n",
    "    pd.set_option('display.latex.repr', True)\n",
    "except Exception:\n",
    "  pass\n",
    "\n",
    "# interactivity\n",
    "if interactivity:\n",
    "  from IPython.core.interactiveshell import InteractiveShell\n",
    "  InteractiveShell.ast_node_interactivity = interactivity\n",
    "\n",
    "# NOTE: the kernel_deps code is repeated in the cleanup.py file\n",
    "# (we can't easily share this code b/c of the way it is run).\n",
    "# If you edit this code also edit the same code in cleanup.py!\n",
    "\n",
    "# output kernel dependencies\n",
    "kernel_deps = dict()\n",
    "for module in list(sys.modules.values()):\n",
    "  # Some modules play games with sys.modules (e.g. email/__init__.py\n",
    "  # in the standard library), and occasionally this can cause strange\n",
    "  # failures in getattr.  Just ignore anything that's not an ordinary\n",
    "  # module.\n",
    "  if not isinstance(module, types.ModuleType):\n",
    "    continue\n",
    "  path = getattr(module, \"__file__\", None)\n",
    "  if not path:\n",
    "    continue\n",
    "  if path.endswith(\".pyc\") or path.endswith(\".pyo\"):\n",
    "    path = path[:-1]\n",
    "  if not os.path.exists(path):\n",
    "    continue\n",
    "  kernel_deps[path] = os.stat(path).st_mtime\n",
    "print(json.dumps(kernel_deps))\n",
    "\n",
    "# set run_path if requested\n",
    "run_path = 'L2hvbWUvb3Jlbi93b3JrL25vdGVzL25vdGVzLW5scC9wb3N0cy9jMncz'\n",
    "if run_path:\n",
    "  # hex-decode the path\n",
    "  run_path = base64.b64decode(run_path.encode(\"utf-8\")).decode(\"utf-8\")\n",
    "  os.chdir(run_path)\n",
    "\n",
    "# reset state\n",
    "%reset\n",
    "\n",
    "# shiny\n",
    "# Checking for shiny by using False directly because we're after the %reset. We don't want\n",
    "# to set a variable that stays in global scope.\n",
    "if False:\n",
    "  try:\n",
    "    import htmltools as _htmltools\n",
    "    import ast as _ast\n",
    "\n",
    "    _htmltools.html_dependency_render_mode = \"json\"\n",
    "\n",
    "    # This decorator will be added to all function definitions\n",
    "    def _display_if_has_repr_html(x):\n",
    "      try:\n",
    "        # IPython 7.14 preferred import\n",
    "        from IPython.display import display, HTML\n",
    "      except:\n",
    "        from IPython.core.display import display, HTML\n",
    "\n",
    "      if hasattr(x, '_repr_html_'):\n",
    "        display(HTML(x._repr_html_()))\n",
    "      return x\n",
    "\n",
    "    # ideally we would undo the call to ast_transformers.append\n",
    "    # at the end of this block whenver an error occurs, we do \n",
    "    # this for now as it will only be a problem if the user \n",
    "    # switches from shiny to not-shiny mode (and even then likely\n",
    "    # won't matter)\n",
    "    import builtins\n",
    "    builtins._display_if_has_repr_html = _display_if_has_repr_html\n",
    "\n",
    "    class _FunctionDefReprHtml(_ast.NodeTransformer):\n",
    "      def visit_FunctionDef(self, node):\n",
    "        node.decorator_list.insert(\n",
    "          0,\n",
    "          _ast.Name(id=\"_display_if_has_repr_html\", ctx=_ast.Load())\n",
    "        )\n",
    "        return node\n",
    "\n",
    "      def visit_AsyncFunctionDef(self, node):\n",
    "        node.decorator_list.insert(\n",
    "          0,\n",
    "          _ast.Name(id=\"_display_if_has_repr_html\", ctx=_ast.Load())\n",
    "        )\n",
    "        return node\n",
    "\n",
    "    ip = get_ipython()\n",
    "    ip.ast_transformers.append(_FunctionDefReprHtml())\n",
    "\n",
    "  except:\n",
    "    pass\n",
    "\n",
    "def ojs_define(**kwargs):\n",
    "  import json\n",
    "  try:\n",
    "    # IPython 7.14 preferred import\n",
    "    from IPython.display import display, HTML\n",
    "  except:\n",
    "    from IPython.core.display import display, HTML\n",
    "\n",
    "  # do some minor magic for convenience when handling pandas\n",
    "  # dataframes\n",
    "  def convert(v):\n",
    "    try:\n",
    "      import pandas as pd\n",
    "    except ModuleNotFoundError: # don't do the magic when pandas is not available\n",
    "      return v\n",
    "    if type(v) == pd.Series:\n",
    "      v = pd.DataFrame(v)\n",
    "    if type(v) == pd.DataFrame:\n",
    "      j = json.loads(v.T.to_json(orient='split'))\n",
    "      return dict((k,v) for (k,v) in zip(j[\"index\"], j[\"data\"]))\n",
    "    else:\n",
    "      return v\n",
    "\n",
    "  v = dict(contents=list(dict(name=key, value=convert(value)) for (key, value) in kwargs.items()))\n",
    "  display(HTML('<script type=\"ojs-define\">' + json.dumps(v) + '</script>'), metadata=dict(ojs_define = True))\n",
    "globals()[\"ojs_define\"] = ojs_define\n",
    "globals()[\"__spec__\"] = None"
   ]
  },
  {
   "cell_type": "code",
   "execution_count": 2,
   "id": "586c9843",
   "metadata": {},
   "outputs": [],
   "source": [
    "import math\n",
    "import random\n",
    "import numpy as np\n",
    "import pandas as pd\n",
    "import nltk\n",
    "nltk.data.path.append('.')"
   ]
  },
  {
   "cell_type": "code",
   "execution_count": 3,
   "id": "5b6dde01",
   "metadata": {},
   "outputs": [
    {
     "name": "stdout",
     "output_type": "stream",
     "text": [
      "Data type: <class 'str'>\n",
      "Number of letters: 3335477\n",
      "First 300 letters of the data\n",
      "-------\n"
     ]
    },
    {
     "data": {
      "text/plain": [
       "\"How are you? Btw thanks for the RT. You gonna be in DC anytime soon? Love to see you. Been way, way too long.\\nWhen you meet someone special... you'll know. Your heart will beat more rapidly and you'll smile for no reason.\\nthey've decided its more fun if I don't.\\nSo Tired D; Played Lazer Tag & Ran A \""
      ]
     },
     "metadata": {},
     "output_type": "display_data"
    },
    {
     "name": "stdout",
     "output_type": "stream",
     "text": [
      "-------\n",
      "Last 300 letters of the data\n",
      "-------\n"
     ]
    },
    {
     "data": {
      "text/plain": [
       "\"ust had one a few weeks back....hopefully we will be back soon! wish you the best yo\\nColombia is with an 'o'...“: We now ship to 4 countries in South America (fist pump). Please welcome Columbia to the Stunner Family”\\n#GutsiestMovesYouCanMake Giving a cat a bath.\\nCoffee after 5 was a TERRIBLE idea.\\n\""
      ]
     },
     "metadata": {},
     "output_type": "display_data"
    },
    {
     "name": "stdout",
     "output_type": "stream",
     "text": [
      "-------\n"
     ]
    }
   ],
   "source": [
    "with open(\"en_US.twitter.txt\", \"r\") as f:\n",
    "    data = f.read()\n",
    "print(\"Data type:\", type(data))\n",
    "print(\"Number of letters:\", len(data))\n",
    "print(\"First 300 letters of the data\")\n",
    "print(\"-------\")\n",
    "display(data[0:300])\n",
    "print(\"-------\")\n",
    "\n",
    "print(\"Last 300 letters of the data\")\n",
    "print(\"-------\")\n",
    "display(data[-300:])\n",
    "print(\"-------\")"
   ]
  },
  {
   "cell_type": "code",
   "execution_count": 4,
   "id": "9125440e",
   "metadata": {},
   "outputs": [],
   "source": [
    "# UNQ_C1 (UNIQUE CELL IDENTIFIER, DO NOT EDIT)\n",
    "### GRADED_FUNCTION: split_to_sentences ###\n",
    "def split_to_sentences(data):\n",
    "    \"\"\"\n",
    "    Split data by linebreak \"\\n\"\n",
    "    \n",
    "    Args:\n",
    "        data: str\n",
    "    \n",
    "    Returns:\n",
    "        A list of sentences\n",
    "    \"\"\"\n",
    "    ### START CODE HERE (Replace instances of 'None' with your code) ###\n",
    "    sentences = None\n",
    "    ### END CODE HERE ###\n",
    "    \n",
    "    # Additional clearning (This part is already implemented)\n",
    "    # - Remove leading and trailing spaces from each sentence\n",
    "    # - Drop sentences if they are empty strings.\n",
    "    sentences = [s.strip() for s in sentences]\n",
    "    sentences = [s for s in sentences if len(s) > 0]\n",
    "    \n",
    "    return sentences    "
   ]
  },
  {
   "cell_type": "code",
   "execution_count": 5,
   "id": "1f8478d0",
   "metadata": {},
   "outputs": [
    {
     "name": "stdout",
     "output_type": "stream",
     "text": [
      "\n",
      "I have a pen.\n",
      "I have an apple. \n",
      "Ah\n",
      "Apple pen.\n",
      "\n",
      "\n"
     ]
    },
    {
     "ename": "TypeError",
     "evalue": "'NoneType' object is not iterable",
     "output_type": "error",
     "traceback": [
      "\u001b[0;31m---------------------------------------------------------------------------\u001b[0m",
      "\u001b[0;31mTypeError\u001b[0m                                 Traceback (most recent call last)",
      "Cell \u001b[0;32mIn[4], line 7\u001b[0m\n\u001b[1;32m      2\u001b[0m x \u001b[38;5;241m=\u001b[39m \u001b[38;5;124m\"\"\"\u001b[39m\n\u001b[1;32m      3\u001b[0m \u001b[38;5;124mI have a pen.\u001b[39m\u001b[38;5;130;01m\\n\u001b[39;00m\u001b[38;5;124mI have an apple. \u001b[39m\u001b[38;5;130;01m\\n\u001b[39;00m\u001b[38;5;124mAh\u001b[39m\u001b[38;5;130;01m\\n\u001b[39;00m\u001b[38;5;124mApple pen.\u001b[39m\u001b[38;5;130;01m\\n\u001b[39;00m\n\u001b[1;32m      4\u001b[0m \u001b[38;5;124m\"\"\"\u001b[39m\n\u001b[1;32m      5\u001b[0m \u001b[38;5;28mprint\u001b[39m(x)\n\u001b[0;32m----> 7\u001b[0m \u001b[43msplit_to_sentences\u001b[49m\u001b[43m(\u001b[49m\u001b[43mx\u001b[49m\u001b[43m)\u001b[49m\n",
      "Cell \u001b[0;32mIn[3], line 20\u001b[0m, in \u001b[0;36msplit_to_sentences\u001b[0;34m(data)\u001b[0m\n\u001b[1;32m     14\u001b[0m sentences \u001b[38;5;241m=\u001b[39m \u001b[38;5;28;01mNone\u001b[39;00m\n\u001b[1;32m     15\u001b[0m \u001b[38;5;66;03m### END CODE HERE ###\u001b[39;00m\n\u001b[1;32m     16\u001b[0m \n\u001b[1;32m     17\u001b[0m \u001b[38;5;66;03m# Additional clearning (This part is already implemented)\u001b[39;00m\n\u001b[1;32m     18\u001b[0m \u001b[38;5;66;03m# - Remove leading and trailing spaces from each sentence\u001b[39;00m\n\u001b[1;32m     19\u001b[0m \u001b[38;5;66;03m# - Drop sentences if they are empty strings.\u001b[39;00m\n\u001b[0;32m---> 20\u001b[0m sentences \u001b[38;5;241m=\u001b[39m [s\u001b[38;5;241m.\u001b[39mstrip() \u001b[38;5;28;01mfor\u001b[39;00m s \u001b[38;5;129;01min\u001b[39;00m sentences]\n\u001b[1;32m     21\u001b[0m sentences \u001b[38;5;241m=\u001b[39m [s \u001b[38;5;28;01mfor\u001b[39;00m s \u001b[38;5;129;01min\u001b[39;00m sentences \u001b[38;5;28;01mif\u001b[39;00m \u001b[38;5;28mlen\u001b[39m(s) \u001b[38;5;241m>\u001b[39m \u001b[38;5;241m0\u001b[39m]\n\u001b[1;32m     23\u001b[0m \u001b[38;5;28;01mreturn\u001b[39;00m sentences\n",
      "\u001b[0;31mTypeError\u001b[0m: 'NoneType' object is not iterable"
     ]
    }
   ],
   "source": [
    "# test your code\n",
    "x = \"\"\"\n",
    "I have a pen.\\nI have an apple. \\nAh\\nApple pen.\\n\n",
    "\"\"\"\n",
    "print(x)\n",
    "\n",
    "split_to_sentences(x)"
   ]
  },
  {
   "cell_type": "code",
   "execution_count": 6,
   "id": "44942ac1",
   "metadata": {},
   "outputs": [],
   "source": [
    "# UNQ_C2 (UNIQUE CELL IDENTIFIER, DO NOT EDIT)\n",
    "### GRADED_FUNCTION: tokenize_sentences ###\n",
    "def tokenize_sentences(sentences):\n",
    "    \"\"\"\n",
    "    Tokenize sentences into tokens (words)\n",
    "    \n",
    "    Args:\n",
    "        sentences: List of strings\n",
    "    \n",
    "    Returns:\n",
    "        List of lists of tokens\n",
    "    \"\"\"\n",
    "    \n",
    "    # Initialize the list of lists of tokenized sentences\n",
    "    tokenized_sentences = []\n",
    "    ### START CODE HERE (Replace instances of 'None' with your code) ###\n",
    "    \n",
    "    # Go through each sentence\n",
    "    for sentence in None:\n",
    "        \n",
    "        # Convert to lowercase letters\n",
    "        sentence = None\n",
    "        \n",
    "        # Convert into a list of words\n",
    "        tokenized = None\n",
    "        \n",
    "        # append the list of words to the list of lists\n",
    "        None\n",
    "    \n",
    "    ### END CODE HERE ###\n",
    "    \n",
    "    return tokenized_sentences"
   ]
  },
  {
   "cell_type": "code",
   "execution_count": 7,
   "id": "ffda2220",
   "metadata": {},
   "outputs": [
    {
     "ename": "TypeError",
     "evalue": "'NoneType' object is not iterable",
     "output_type": "error",
     "traceback": [
      "\u001b[0;31m---------------------------------------------------------------------------\u001b[0m",
      "\u001b[0;31mTypeError\u001b[0m                                 Traceback (most recent call last)",
      "Cell \u001b[0;32mIn[6], line 3\u001b[0m\n\u001b[1;32m      1\u001b[0m \u001b[38;5;66;03m# test your code\u001b[39;00m\n\u001b[1;32m      2\u001b[0m sentences \u001b[38;5;241m=\u001b[39m [\u001b[38;5;124m\"\u001b[39m\u001b[38;5;124mSky is blue.\u001b[39m\u001b[38;5;124m\"\u001b[39m, \u001b[38;5;124m\"\u001b[39m\u001b[38;5;124mLeaves are green.\u001b[39m\u001b[38;5;124m\"\u001b[39m, \u001b[38;5;124m\"\u001b[39m\u001b[38;5;124mRoses are red.\u001b[39m\u001b[38;5;124m\"\u001b[39m]\n\u001b[0;32m----> 3\u001b[0m \u001b[43mtokenize_sentences\u001b[49m\u001b[43m(\u001b[49m\u001b[43msentences\u001b[49m\u001b[43m)\u001b[49m\n",
      "Cell \u001b[0;32mIn[5], line 19\u001b[0m, in \u001b[0;36mtokenize_sentences\u001b[0;34m(sentences)\u001b[0m\n\u001b[1;32m     15\u001b[0m tokenized_sentences \u001b[38;5;241m=\u001b[39m []\n\u001b[1;32m     16\u001b[0m \u001b[38;5;66;03m### START CODE HERE (Replace instances of 'None' with your code) ###\u001b[39;00m\n\u001b[1;32m     17\u001b[0m \n\u001b[1;32m     18\u001b[0m \u001b[38;5;66;03m# Go through each sentence\u001b[39;00m\n\u001b[0;32m---> 19\u001b[0m \u001b[38;5;28;01mfor\u001b[39;00m sentence \u001b[38;5;129;01min\u001b[39;00m \u001b[38;5;28;01mNone\u001b[39;00m:\n\u001b[1;32m     20\u001b[0m     \n\u001b[1;32m     21\u001b[0m     \u001b[38;5;66;03m# Convert to lowercase letters\u001b[39;00m\n\u001b[1;32m     22\u001b[0m     sentence \u001b[38;5;241m=\u001b[39m \u001b[38;5;28;01mNone\u001b[39;00m\n\u001b[1;32m     24\u001b[0m     \u001b[38;5;66;03m# Convert into a list of words\u001b[39;00m\n",
      "\u001b[0;31mTypeError\u001b[0m: 'NoneType' object is not iterable"
     ]
    }
   ],
   "source": [
    "# test your code\n",
    "sentences = [\"Sky is blue.\", \"Leaves are green.\", \"Roses are red.\"]\n",
    "tokenize_sentences(sentences)"
   ]
  },
  {
   "cell_type": "code",
   "execution_count": 8,
   "id": "76457dfd",
   "metadata": {},
   "outputs": [],
   "source": [
    "# UNQ_C3 (UNIQUE CELL IDENTIFIER, DO NOT EDIT)\n",
    "### GRADED_FUNCTION: get_tokenized_data ###\n",
    "def get_tokenized_data(data):\n",
    "    \"\"\"\n",
    "    Make a list of tokenized sentences\n",
    "    \n",
    "    Args:\n",
    "        data: String\n",
    "    \n",
    "    Returns:\n",
    "        List of lists of tokens\n",
    "    \"\"\"\n",
    "    ### START CODE HERE (Replace instances of 'None' with your code) ###\n",
    "    \n",
    "    # Get the sentences by splitting up the data\n",
    "    sentences = None\n",
    "    \n",
    "    # Get the list of lists of tokens by tokenizing the sentences\n",
    "    tokenized_sentences = None\n",
    "    \n",
    "    ### END CODE HERE ###\n",
    "    \n",
    "    return tokenized_sentences"
   ]
  },
  {
   "cell_type": "code",
   "execution_count": 9,
   "id": "85c0fd23",
   "metadata": {},
   "outputs": [],
   "source": [
    "# test your function\n",
    "x = \"Sky is blue.\\nLeaves are green\\nRoses are red.\"\n",
    "get_tokenized_data(x)"
   ]
  },
  {
   "cell_type": "code",
   "execution_count": 10,
   "id": "311ba17a",
   "metadata": {},
   "outputs": [
    {
     "ename": "TypeError",
     "evalue": "object of type 'NoneType' has no len()",
     "output_type": "error",
     "traceback": [
      "\u001b[0;31m---------------------------------------------------------------------------\u001b[0m",
      "\u001b[0;31mTypeError\u001b[0m                                 Traceback (most recent call last)",
      "Cell \u001b[0;32mIn[9], line 3\u001b[0m\n\u001b[1;32m      1\u001b[0m tokenized_data \u001b[38;5;241m=\u001b[39m get_tokenized_data(data)\n\u001b[1;32m      2\u001b[0m random\u001b[38;5;241m.\u001b[39mseed(\u001b[38;5;241m87\u001b[39m)\n\u001b[0;32m----> 3\u001b[0m \u001b[43mrandom\u001b[49m\u001b[38;5;241;43m.\u001b[39;49m\u001b[43mshuffle\u001b[49m\u001b[43m(\u001b[49m\u001b[43mtokenized_data\u001b[49m\u001b[43m)\u001b[49m\n\u001b[1;32m      5\u001b[0m train_size \u001b[38;5;241m=\u001b[39m \u001b[38;5;28mint\u001b[39m(\u001b[38;5;28mlen\u001b[39m(tokenized_data) \u001b[38;5;241m*\u001b[39m \u001b[38;5;241m0.8\u001b[39m)\n\u001b[1;32m      6\u001b[0m train_data \u001b[38;5;241m=\u001b[39m tokenized_data[\u001b[38;5;241m0\u001b[39m:train_size]\n",
      "File \u001b[0;32m/usr/lib/python3.10/random.py:391\u001b[0m, in \u001b[0;36mRandom.shuffle\u001b[0;34m(self, x, random)\u001b[0m\n\u001b[1;32m    389\u001b[0m \u001b[38;5;28;01mif\u001b[39;00m random \u001b[38;5;129;01mis\u001b[39;00m \u001b[38;5;28;01mNone\u001b[39;00m:\n\u001b[1;32m    390\u001b[0m     randbelow \u001b[38;5;241m=\u001b[39m \u001b[38;5;28mself\u001b[39m\u001b[38;5;241m.\u001b[39m_randbelow\n\u001b[0;32m--> 391\u001b[0m     \u001b[38;5;28;01mfor\u001b[39;00m i \u001b[38;5;129;01min\u001b[39;00m \u001b[38;5;28mreversed\u001b[39m(\u001b[38;5;28mrange\u001b[39m(\u001b[38;5;241m1\u001b[39m, \u001b[38;5;28;43mlen\u001b[39;49m\u001b[43m(\u001b[49m\u001b[43mx\u001b[49m\u001b[43m)\u001b[49m)):\n\u001b[1;32m    392\u001b[0m         \u001b[38;5;66;03m# pick an element in x[:i+1] with which to exchange x[i]\u001b[39;00m\n\u001b[1;32m    393\u001b[0m         j \u001b[38;5;241m=\u001b[39m randbelow(i \u001b[38;5;241m+\u001b[39m \u001b[38;5;241m1\u001b[39m)\n\u001b[1;32m    394\u001b[0m         x[i], x[j] \u001b[38;5;241m=\u001b[39m x[j], x[i]\n",
      "\u001b[0;31mTypeError\u001b[0m: object of type 'NoneType' has no len()"
     ]
    }
   ],
   "source": [
    "tokenized_data = get_tokenized_data(data)\n",
    "random.seed(87)\n",
    "random.shuffle(tokenized_data)\n",
    "\n",
    "train_size = int(len(tokenized_data) * 0.8)\n",
    "train_data = tokenized_data[0:train_size]\n",
    "test_data = tokenized_data[train_size:]"
   ]
  },
  {
   "cell_type": "code",
   "execution_count": 11,
   "id": "9c4a1b0f",
   "metadata": {},
   "outputs": [
    {
     "ename": "TypeError",
     "evalue": "object of type 'NoneType' has no len()",
     "output_type": "error",
     "traceback": [
      "\u001b[0;31m---------------------------------------------------------------------------\u001b[0m",
      "\u001b[0;31mTypeError\u001b[0m                                 Traceback (most recent call last)",
      "Cell \u001b[0;32mIn[10], line 2\u001b[0m\n\u001b[1;32m      1\u001b[0m \u001b[38;5;28mprint\u001b[39m(\u001b[38;5;124m\"\u001b[39m\u001b[38;5;132;01m{}\u001b[39;00m\u001b[38;5;124m data are split into \u001b[39m\u001b[38;5;132;01m{}\u001b[39;00m\u001b[38;5;124m train and \u001b[39m\u001b[38;5;132;01m{}\u001b[39;00m\u001b[38;5;124m test set\u001b[39m\u001b[38;5;124m\"\u001b[39m\u001b[38;5;241m.\u001b[39mformat(\n\u001b[0;32m----> 2\u001b[0m     \u001b[38;5;28;43mlen\u001b[39;49m\u001b[43m(\u001b[49m\u001b[43mtokenized_data\u001b[49m\u001b[43m)\u001b[49m, \u001b[38;5;28mlen\u001b[39m(train_data), \u001b[38;5;28mlen\u001b[39m(test_data)))\n\u001b[1;32m      4\u001b[0m \u001b[38;5;28mprint\u001b[39m(\u001b[38;5;124m\"\u001b[39m\u001b[38;5;124mFirst training sample:\u001b[39m\u001b[38;5;124m\"\u001b[39m)\n\u001b[1;32m      5\u001b[0m \u001b[38;5;28mprint\u001b[39m(train_data[\u001b[38;5;241m0\u001b[39m])\n",
      "\u001b[0;31mTypeError\u001b[0m: object of type 'NoneType' has no len()"
     ]
    }
   ],
   "source": [
    "print(\"{} data are split into {} train and {} test set\".format(\n",
    "    len(tokenized_data), len(train_data), len(test_data)))\n",
    "\n",
    "print(\"First training sample:\")\n",
    "print(train_data[0])\n",
    "      \n",
    "print(\"First test sample\")\n",
    "print(test_data[0])"
   ]
  },
  {
   "cell_type": "code",
   "execution_count": 12,
   "id": "9cc0859f",
   "metadata": {},
   "outputs": [],
   "source": [
    "# UNQ_C4 (UNIQUE CELL IDENTIFIER, DO NOT EDIT)\n",
    "### GRADED_FUNCTION: count_words ###\n",
    "def count_words(tokenized_sentences):\n",
    "    \"\"\"\n",
    "    Count the number of word appearence in the tokenized sentences\n",
    "    \n",
    "    Args:\n",
    "        tokenized_sentences: List of lists of strings\n",
    "    \n",
    "    Returns:\n",
    "        dict that maps word (str) to the frequency (int)\n",
    "    \"\"\"\n",
    "        \n",
    "    word_counts = {}\n",
    "    ### START CODE HERE (Replace instances of 'None' with your code) ###\n",
    "    \n",
    "    # Loop through each sentence\n",
    "    for sentence in None: # complete this line\n",
    "        \n",
    "        # Go through each token in the sentence\n",
    "        for token in None: # complete this line\n",
    "\n",
    "            # If the token is not in the dictionary yet, set the count to 1\n",
    "            if None: # complete this line\n",
    "                word_counts[token] = None\n",
    "            \n",
    "            # If the token is already in the dictionary, increment the count by 1\n",
    "            else:\n",
    "                word_counts[token] += None\n",
    "\n",
    "    ### END CODE HERE ###\n",
    "    \n",
    "    return word_counts"
   ]
  },
  {
   "cell_type": "code",
   "execution_count": 13,
   "id": "65f14210",
   "metadata": {},
   "outputs": [
    {
     "ename": "TypeError",
     "evalue": "'NoneType' object is not iterable",
     "output_type": "error",
     "traceback": [
      "\u001b[0;31m---------------------------------------------------------------------------\u001b[0m",
      "\u001b[0;31mTypeError\u001b[0m                                 Traceback (most recent call last)",
      "Cell \u001b[0;32mIn[12], line 5\u001b[0m\n\u001b[1;32m      1\u001b[0m \u001b[38;5;66;03m# test your code\u001b[39;00m\n\u001b[1;32m      2\u001b[0m tokenized_sentences \u001b[38;5;241m=\u001b[39m [[\u001b[38;5;124m'\u001b[39m\u001b[38;5;124msky\u001b[39m\u001b[38;5;124m'\u001b[39m, \u001b[38;5;124m'\u001b[39m\u001b[38;5;124mis\u001b[39m\u001b[38;5;124m'\u001b[39m, \u001b[38;5;124m'\u001b[39m\u001b[38;5;124mblue\u001b[39m\u001b[38;5;124m'\u001b[39m, \u001b[38;5;124m'\u001b[39m\u001b[38;5;124m.\u001b[39m\u001b[38;5;124m'\u001b[39m],\n\u001b[1;32m      3\u001b[0m                        [\u001b[38;5;124m'\u001b[39m\u001b[38;5;124mleaves\u001b[39m\u001b[38;5;124m'\u001b[39m, \u001b[38;5;124m'\u001b[39m\u001b[38;5;124mare\u001b[39m\u001b[38;5;124m'\u001b[39m, \u001b[38;5;124m'\u001b[39m\u001b[38;5;124mgreen\u001b[39m\u001b[38;5;124m'\u001b[39m, \u001b[38;5;124m'\u001b[39m\u001b[38;5;124m.\u001b[39m\u001b[38;5;124m'\u001b[39m],\n\u001b[1;32m      4\u001b[0m                        [\u001b[38;5;124m'\u001b[39m\u001b[38;5;124mroses\u001b[39m\u001b[38;5;124m'\u001b[39m, \u001b[38;5;124m'\u001b[39m\u001b[38;5;124mare\u001b[39m\u001b[38;5;124m'\u001b[39m, \u001b[38;5;124m'\u001b[39m\u001b[38;5;124mred\u001b[39m\u001b[38;5;124m'\u001b[39m, \u001b[38;5;124m'\u001b[39m\u001b[38;5;124m.\u001b[39m\u001b[38;5;124m'\u001b[39m]]\n\u001b[0;32m----> 5\u001b[0m \u001b[43mcount_words\u001b[49m\u001b[43m(\u001b[49m\u001b[43mtokenized_sentences\u001b[49m\u001b[43m)\u001b[49m\n",
      "Cell \u001b[0;32mIn[11], line 18\u001b[0m, in \u001b[0;36mcount_words\u001b[0;34m(tokenized_sentences)\u001b[0m\n\u001b[1;32m     14\u001b[0m word_counts \u001b[38;5;241m=\u001b[39m {}\n\u001b[1;32m     15\u001b[0m \u001b[38;5;66;03m### START CODE HERE (Replace instances of 'None' with your code) ###\u001b[39;00m\n\u001b[1;32m     16\u001b[0m \n\u001b[1;32m     17\u001b[0m \u001b[38;5;66;03m# Loop through each sentence\u001b[39;00m\n\u001b[0;32m---> 18\u001b[0m \u001b[38;5;28;01mfor\u001b[39;00m sentence \u001b[38;5;129;01min\u001b[39;00m \u001b[38;5;28;01mNone\u001b[39;00m: \u001b[38;5;66;03m# complete this line\u001b[39;00m\n\u001b[1;32m     19\u001b[0m     \n\u001b[1;32m     20\u001b[0m     \u001b[38;5;66;03m# Go through each token in the sentence\u001b[39;00m\n\u001b[1;32m     21\u001b[0m     \u001b[38;5;28;01mfor\u001b[39;00m token \u001b[38;5;129;01min\u001b[39;00m \u001b[38;5;28;01mNone\u001b[39;00m: \u001b[38;5;66;03m# complete this line\u001b[39;00m\n\u001b[1;32m     22\u001b[0m \n\u001b[1;32m     23\u001b[0m         \u001b[38;5;66;03m# If the token is not in the dictionary yet, set the count to 1\u001b[39;00m\n\u001b[1;32m     24\u001b[0m         \u001b[38;5;28;01mif\u001b[39;00m \u001b[38;5;28;01mNone\u001b[39;00m: \u001b[38;5;66;03m# complete this line\u001b[39;00m\n",
      "\u001b[0;31mTypeError\u001b[0m: 'NoneType' object is not iterable"
     ]
    }
   ],
   "source": [
    "# test your code\n",
    "tokenized_sentences = [['sky', 'is', 'blue', '.'],\n",
    "                       ['leaves', 'are', 'green', '.'],\n",
    "                       ['roses', 'are', 'red', '.']]\n",
    "count_words(tokenized_sentences)"
   ]
  },
  {
   "cell_type": "code",
   "execution_count": 14,
   "id": "6f04ce94",
   "metadata": {},
   "outputs": [],
   "source": [
    "# UNQ_C5 (UNIQUE CELL IDENTIFIER, DO NOT EDIT)\n",
    "### GRADED_FUNCTION: get_words_with_nplus_frequency ###\n",
    "def get_words_with_nplus_frequency(tokenized_sentences, count_threshold):\n",
    "    \"\"\"\n",
    "    Find the words that appear N times or more\n",
    "    \n",
    "    Args:\n",
    "        tokenized_sentences: List of lists of sentences\n",
    "        count_threshold: minimum number of occurrences for a word to be in the closed vocabulary.\n",
    "    \n",
    "    Returns:\n",
    "        List of words that appear N times or more\n",
    "    \"\"\"\n",
    "    # Initialize an empty list to contain the words that\n",
    "    # appear at least 'minimum_freq' times.\n",
    "    closed_vocab = []\n",
    "    \n",
    "    # Get the word couts of the tokenized sentences\n",
    "    # Use the function that you defined earlier to count the words\n",
    "    word_counts = count_words(tokenized_sentences)\n",
    "    \n",
    "    ### START CODE HERE (Replace instances of 'None' with your code) ###\n",
    "\n",
    "    # for each word and its count\n",
    "    for word, cnt in None: # complete this line\n",
    "        \n",
    "        # check that the word's count\n",
    "        # is at least as great as the minimum count\n",
    "        if None:\n",
    "            \n",
    "            # append the word to the list\n",
    "            None\n",
    "    ### END CODE HERE ###\n",
    "    \n",
    "    return closed_vocab"
   ]
  },
  {
   "cell_type": "code",
   "execution_count": 15,
   "id": "bef7d9c5",
   "metadata": {},
   "outputs": [
    {
     "ename": "TypeError",
     "evalue": "'NoneType' object is not iterable",
     "output_type": "error",
     "traceback": [
      "\u001b[0;31m---------------------------------------------------------------------------\u001b[0m",
      "\u001b[0;31mTypeError\u001b[0m                                 Traceback (most recent call last)",
      "Cell \u001b[0;32mIn[14], line 5\u001b[0m\n\u001b[1;32m      1\u001b[0m \u001b[38;5;66;03m# test your code\u001b[39;00m\n\u001b[1;32m      2\u001b[0m tokenized_sentences \u001b[38;5;241m=\u001b[39m [[\u001b[38;5;124m'\u001b[39m\u001b[38;5;124msky\u001b[39m\u001b[38;5;124m'\u001b[39m, \u001b[38;5;124m'\u001b[39m\u001b[38;5;124mis\u001b[39m\u001b[38;5;124m'\u001b[39m, \u001b[38;5;124m'\u001b[39m\u001b[38;5;124mblue\u001b[39m\u001b[38;5;124m'\u001b[39m, \u001b[38;5;124m'\u001b[39m\u001b[38;5;124m.\u001b[39m\u001b[38;5;124m'\u001b[39m],\n\u001b[1;32m      3\u001b[0m                        [\u001b[38;5;124m'\u001b[39m\u001b[38;5;124mleaves\u001b[39m\u001b[38;5;124m'\u001b[39m, \u001b[38;5;124m'\u001b[39m\u001b[38;5;124mare\u001b[39m\u001b[38;5;124m'\u001b[39m, \u001b[38;5;124m'\u001b[39m\u001b[38;5;124mgreen\u001b[39m\u001b[38;5;124m'\u001b[39m, \u001b[38;5;124m'\u001b[39m\u001b[38;5;124m.\u001b[39m\u001b[38;5;124m'\u001b[39m],\n\u001b[1;32m      4\u001b[0m                        [\u001b[38;5;124m'\u001b[39m\u001b[38;5;124mroses\u001b[39m\u001b[38;5;124m'\u001b[39m, \u001b[38;5;124m'\u001b[39m\u001b[38;5;124mare\u001b[39m\u001b[38;5;124m'\u001b[39m, \u001b[38;5;124m'\u001b[39m\u001b[38;5;124mred\u001b[39m\u001b[38;5;124m'\u001b[39m, \u001b[38;5;124m'\u001b[39m\u001b[38;5;124m.\u001b[39m\u001b[38;5;124m'\u001b[39m]]\n\u001b[0;32m----> 5\u001b[0m tmp_closed_vocab \u001b[38;5;241m=\u001b[39m \u001b[43mget_words_with_nplus_frequency\u001b[49m\u001b[43m(\u001b[49m\u001b[43mtokenized_sentences\u001b[49m\u001b[43m,\u001b[49m\u001b[43m \u001b[49m\u001b[43mcount_threshold\u001b[49m\u001b[38;5;241;43m=\u001b[39;49m\u001b[38;5;241;43m2\u001b[39;49m\u001b[43m)\u001b[49m\n\u001b[1;32m      6\u001b[0m \u001b[38;5;28mprint\u001b[39m(\u001b[38;5;124mf\u001b[39m\u001b[38;5;124m\"\u001b[39m\u001b[38;5;124mClosed vocabulary:\u001b[39m\u001b[38;5;124m\"\u001b[39m)\n\u001b[1;32m      7\u001b[0m \u001b[38;5;28mprint\u001b[39m(tmp_closed_vocab)\n",
      "Cell \u001b[0;32mIn[13], line 20\u001b[0m, in \u001b[0;36mget_words_with_nplus_frequency\u001b[0;34m(tokenized_sentences, count_threshold)\u001b[0m\n\u001b[1;32m     16\u001b[0m closed_vocab \u001b[38;5;241m=\u001b[39m []\n\u001b[1;32m     18\u001b[0m \u001b[38;5;66;03m# Get the word couts of the tokenized sentences\u001b[39;00m\n\u001b[1;32m     19\u001b[0m \u001b[38;5;66;03m# Use the function that you defined earlier to count the words\u001b[39;00m\n\u001b[0;32m---> 20\u001b[0m word_counts \u001b[38;5;241m=\u001b[39m \u001b[43mcount_words\u001b[49m\u001b[43m(\u001b[49m\u001b[43mtokenized_sentences\u001b[49m\u001b[43m)\u001b[49m\n\u001b[1;32m     22\u001b[0m \u001b[38;5;66;03m### START CODE HERE (Replace instances of 'None' with your code) ###\u001b[39;00m\n\u001b[1;32m     23\u001b[0m \n\u001b[1;32m     24\u001b[0m \u001b[38;5;66;03m# for each word and its count\u001b[39;00m\n\u001b[1;32m     25\u001b[0m \u001b[38;5;28;01mfor\u001b[39;00m word, cnt \u001b[38;5;129;01min\u001b[39;00m \u001b[38;5;28;01mNone\u001b[39;00m: \u001b[38;5;66;03m# complete this line\u001b[39;00m\n\u001b[1;32m     26\u001b[0m     \n\u001b[1;32m     27\u001b[0m     \u001b[38;5;66;03m# check that the word's count\u001b[39;00m\n\u001b[1;32m     28\u001b[0m     \u001b[38;5;66;03m# is at least as great as the minimum count\u001b[39;00m\n",
      "Cell \u001b[0;32mIn[11], line 18\u001b[0m, in \u001b[0;36mcount_words\u001b[0;34m(tokenized_sentences)\u001b[0m\n\u001b[1;32m     14\u001b[0m word_counts \u001b[38;5;241m=\u001b[39m {}\n\u001b[1;32m     15\u001b[0m \u001b[38;5;66;03m### START CODE HERE (Replace instances of 'None' with your code) ###\u001b[39;00m\n\u001b[1;32m     16\u001b[0m \n\u001b[1;32m     17\u001b[0m \u001b[38;5;66;03m# Loop through each sentence\u001b[39;00m\n\u001b[0;32m---> 18\u001b[0m \u001b[38;5;28;01mfor\u001b[39;00m sentence \u001b[38;5;129;01min\u001b[39;00m \u001b[38;5;28;01mNone\u001b[39;00m: \u001b[38;5;66;03m# complete this line\u001b[39;00m\n\u001b[1;32m     19\u001b[0m     \n\u001b[1;32m     20\u001b[0m     \u001b[38;5;66;03m# Go through each token in the sentence\u001b[39;00m\n\u001b[1;32m     21\u001b[0m     \u001b[38;5;28;01mfor\u001b[39;00m token \u001b[38;5;129;01min\u001b[39;00m \u001b[38;5;28;01mNone\u001b[39;00m: \u001b[38;5;66;03m# complete this line\u001b[39;00m\n\u001b[1;32m     22\u001b[0m \n\u001b[1;32m     23\u001b[0m         \u001b[38;5;66;03m# If the token is not in the dictionary yet, set the count to 1\u001b[39;00m\n\u001b[1;32m     24\u001b[0m         \u001b[38;5;28;01mif\u001b[39;00m \u001b[38;5;28;01mNone\u001b[39;00m: \u001b[38;5;66;03m# complete this line\u001b[39;00m\n",
      "\u001b[0;31mTypeError\u001b[0m: 'NoneType' object is not iterable"
     ]
    }
   ],
   "source": [
    "# test your code\n",
    "tokenized_sentences = [['sky', 'is', 'blue', '.'],\n",
    "                       ['leaves', 'are', 'green', '.'],\n",
    "                       ['roses', 'are', 'red', '.']]\n",
    "tmp_closed_vocab = get_words_with_nplus_frequency(tokenized_sentences, count_threshold=2)\n",
    "print(f\"Closed vocabulary:\")\n",
    "print(tmp_closed_vocab)"
   ]
  },
  {
   "cell_type": "code",
   "execution_count": 16,
   "id": "06db32f7",
   "metadata": {},
   "outputs": [],
   "source": [
    "# UNQ_C6 (UNIQUE CELL IDENTIFIER, DO NOT EDIT)\n",
    "### GRADED_FUNCTION: replace_oov_words_by_unk ###\n",
    "def replace_oov_words_by_unk(tokenized_sentences, vocabulary, unknown_token=\"<unk>\"):\n",
    "    \"\"\"\n",
    "    Replace words not in the given vocabulary with '<unk>' token.\n",
    "    \n",
    "    Args:\n",
    "        tokenized_sentences: List of lists of strings\n",
    "        vocabulary: List of strings that we will use\n",
    "        unknown_token: A string representing unknown (out-of-vocabulary) words\n",
    "    \n",
    "    Returns:\n",
    "        List of lists of strings, with words not in the vocabulary replaced\n",
    "    \"\"\"\n",
    "    \n",
    "    # Place vocabulary into a set for faster search\n",
    "    vocabulary = set(vocabulary)\n",
    "    \n",
    "    # Initialize a list that will hold the sentences\n",
    "    # after less frequent words are replaced by the unknown token\n",
    "    replaced_tokenized_sentences = []\n",
    "    \n",
    "    # Go through each sentence\n",
    "    for sentence in tokenized_sentences:\n",
    "        \n",
    "        # Initialize the list that will contain\n",
    "        # a single sentence with \"unknown_token\" replacements\n",
    "        replaced_sentence = []\n",
    "        ### START CODE HERE (Replace instances of 'None' with your code) ###\n",
    "\n",
    "        # for each token in the sentence\n",
    "        for token in None: # complete this line\n",
    "            \n",
    "            # Check if the token is in the closed vocabulary\n",
    "            if token in None: # complete this line\n",
    "                # If so, append the word to the replaced_sentence\n",
    "                None\n",
    "            else:\n",
    "                # otherwise, append the unknown token instead\n",
    "                None\n",
    "        ### END CODE HERE ###\n",
    "        \n",
    "        # Append the list of tokens to the list of lists\n",
    "        replaced_tokenized_sentences.append(replaced_sentence)\n",
    "        \n",
    "    return replaced_tokenized_sentences"
   ]
  },
  {
   "cell_type": "code",
   "execution_count": 17,
   "id": "f5bbb48d",
   "metadata": {},
   "outputs": [
    {
     "ename": "TypeError",
     "evalue": "'NoneType' object is not iterable",
     "output_type": "error",
     "traceback": [
      "\u001b[0;31m---------------------------------------------------------------------------\u001b[0m",
      "\u001b[0;31mTypeError\u001b[0m                                 Traceback (most recent call last)",
      "Cell \u001b[0;32mIn[16], line 3\u001b[0m\n\u001b[1;32m      1\u001b[0m tokenized_sentences \u001b[38;5;241m=\u001b[39m [[\u001b[38;5;124m\"\u001b[39m\u001b[38;5;124mdogs\u001b[39m\u001b[38;5;124m\"\u001b[39m, \u001b[38;5;124m\"\u001b[39m\u001b[38;5;124mrun\u001b[39m\u001b[38;5;124m\"\u001b[39m], [\u001b[38;5;124m\"\u001b[39m\u001b[38;5;124mcats\u001b[39m\u001b[38;5;124m\"\u001b[39m, \u001b[38;5;124m\"\u001b[39m\u001b[38;5;124msleep\u001b[39m\u001b[38;5;124m\"\u001b[39m]]\n\u001b[1;32m      2\u001b[0m vocabulary \u001b[38;5;241m=\u001b[39m [\u001b[38;5;124m\"\u001b[39m\u001b[38;5;124mdogs\u001b[39m\u001b[38;5;124m\"\u001b[39m, \u001b[38;5;124m\"\u001b[39m\u001b[38;5;124msleep\u001b[39m\u001b[38;5;124m\"\u001b[39m]\n\u001b[0;32m----> 3\u001b[0m tmp_replaced_tokenized_sentences \u001b[38;5;241m=\u001b[39m \u001b[43mreplace_oov_words_by_unk\u001b[49m\u001b[43m(\u001b[49m\u001b[43mtokenized_sentences\u001b[49m\u001b[43m,\u001b[49m\u001b[43m \u001b[49m\u001b[43mvocabulary\u001b[49m\u001b[43m)\u001b[49m\n\u001b[1;32m      4\u001b[0m \u001b[38;5;28mprint\u001b[39m(\u001b[38;5;124mf\u001b[39m\u001b[38;5;124m\"\u001b[39m\u001b[38;5;124mOriginal sentence:\u001b[39m\u001b[38;5;124m\"\u001b[39m)\n\u001b[1;32m      5\u001b[0m \u001b[38;5;28mprint\u001b[39m(tokenized_sentences)\n",
      "Cell \u001b[0;32mIn[15], line 32\u001b[0m, in \u001b[0;36mreplace_oov_words_by_unk\u001b[0;34m(tokenized_sentences, vocabulary, unknown_token)\u001b[0m\n\u001b[1;32m     28\u001b[0m replaced_sentence \u001b[38;5;241m=\u001b[39m []\n\u001b[1;32m     29\u001b[0m \u001b[38;5;66;03m### START CODE HERE (Replace instances of 'None' with your code) ###\u001b[39;00m\n\u001b[1;32m     30\u001b[0m \n\u001b[1;32m     31\u001b[0m \u001b[38;5;66;03m# for each token in the sentence\u001b[39;00m\n\u001b[0;32m---> 32\u001b[0m \u001b[38;5;28;01mfor\u001b[39;00m token \u001b[38;5;129;01min\u001b[39;00m \u001b[38;5;28;01mNone\u001b[39;00m: \u001b[38;5;66;03m# complete this line\u001b[39;00m\n\u001b[1;32m     33\u001b[0m     \n\u001b[1;32m     34\u001b[0m     \u001b[38;5;66;03m# Check if the token is in the closed vocabulary\u001b[39;00m\n\u001b[1;32m     35\u001b[0m     \u001b[38;5;28;01mif\u001b[39;00m token \u001b[38;5;129;01min\u001b[39;00m \u001b[38;5;28;01mNone\u001b[39;00m: \u001b[38;5;66;03m# complete this line\u001b[39;00m\n\u001b[1;32m     36\u001b[0m         \u001b[38;5;66;03m# If so, append the word to the replaced_sentence\u001b[39;00m\n\u001b[1;32m     37\u001b[0m         \u001b[38;5;28;01mNone\u001b[39;00m\n",
      "\u001b[0;31mTypeError\u001b[0m: 'NoneType' object is not iterable"
     ]
    }
   ],
   "source": [
    "tokenized_sentences = [[\"dogs\", \"run\"], [\"cats\", \"sleep\"]]\n",
    "vocabulary = [\"dogs\", \"sleep\"]\n",
    "tmp_replaced_tokenized_sentences = replace_oov_words_by_unk(tokenized_sentences, vocabulary)\n",
    "print(f\"Original sentence:\")\n",
    "print(tokenized_sentences)\n",
    "print(f\"tokenized_sentences with less frequent words converted to '<unk>':\")\n",
    "print(tmp_replaced_tokenized_sentences)"
   ]
  },
  {
   "cell_type": "code",
   "execution_count": 18,
   "id": "82777b66",
   "metadata": {},
   "outputs": [],
   "source": [
    "# UNQ_C7 (UNIQUE CELL IDENTIFIER, DO NOT EDIT)\n",
    "### GRADED_FUNCTION: preprocess_data ###\n",
    "def preprocess_data(train_data, test_data, count_threshold):\n",
    "    \"\"\"\n",
    "    Preprocess data, i.e.,\n",
    "        - Find tokens that appear at least N times in the training data.\n",
    "        - Replace tokens that appear less than N times by \"<unk>\" both for training and test data.        \n",
    "    Args:\n",
    "        train_data, test_data: List of lists of strings.\n",
    "        count_threshold: Words whose count is less than this are \n",
    "                      treated as unknown.\n",
    "    \n",
    "    Returns:\n",
    "        Tuple of\n",
    "        - training data with low frequent words replaced by \"<unk>\"\n",
    "        - test data with low frequent words replaced by \"<unk>\"\n",
    "        - vocabulary of words that appear n times or more in the training data\n",
    "    \"\"\"\n",
    "    ### START CODE HERE (Replace instances of 'None' with your code) ###\n",
    "\n",
    "    # Get the closed vocabulary using the train data\n",
    "    vocabulary = None\n",
    "    \n",
    "    # For the train data, replace less common words with \"<unk>\"\n",
    "    train_data_replaced = None\n",
    "    \n",
    "    # For the test data, replace less common words with \"<unk>\"\n",
    "    test_data_replaced = None\n",
    "    \n",
    "    ### END CODE HERE ###\n",
    "    return train_data_replaced, test_data_replaced, vocabulary"
   ]
  },
  {
   "cell_type": "code",
   "execution_count": 19,
   "id": "0eee7182",
   "metadata": {},
   "outputs": [
    {
     "name": "stdout",
     "output_type": "stream",
     "text": [
      "tmp_train_repl\n",
      "None\n",
      "\n",
      "tmp_test_repl\n",
      "None\n",
      "\n",
      "tmp_vocab\n",
      "None\n"
     ]
    }
   ],
   "source": [
    "# test your code\n",
    "tmp_train = [['sky', 'is', 'blue', '.'],\n",
    "     ['leaves', 'are', 'green']]\n",
    "tmp_test = [['roses', 'are', 'red', '.']]\n",
    "\n",
    "tmp_train_repl, tmp_test_repl, tmp_vocab = preprocess_data(tmp_train, \n",
    "                                                           tmp_test, \n",
    "                                                           count_threshold = 1)\n",
    "\n",
    "print(\"tmp_train_repl\")\n",
    "print(tmp_train_repl)\n",
    "print()\n",
    "print(\"tmp_test_repl\")\n",
    "print(tmp_test_repl)\n",
    "print()\n",
    "print(\"tmp_vocab\")\n",
    "print(tmp_vocab)"
   ]
  },
  {
   "cell_type": "code",
   "execution_count": 20,
   "id": "86aa0ec9",
   "metadata": {},
   "outputs": [
    {
     "ename": "NameError",
     "evalue": "name 'train_data' is not defined",
     "output_type": "error",
     "traceback": [
      "\u001b[0;31m---------------------------------------------------------------------------\u001b[0m",
      "\u001b[0;31mNameError\u001b[0m                                 Traceback (most recent call last)",
      "Cell \u001b[0;32mIn[19], line 2\u001b[0m\n\u001b[1;32m      1\u001b[0m minimum_freq \u001b[38;5;241m=\u001b[39m \u001b[38;5;241m2\u001b[39m\n\u001b[0;32m----> 2\u001b[0m train_data_processed, test_data_processed, vocabulary \u001b[38;5;241m=\u001b[39m preprocess_data(\u001b[43mtrain_data\u001b[49m, \n\u001b[1;32m      3\u001b[0m                                                                         test_data, \n\u001b[1;32m      4\u001b[0m                                                                         minimum_freq)\n",
      "\u001b[0;31mNameError\u001b[0m: name 'train_data' is not defined"
     ]
    }
   ],
   "source": [
    "minimum_freq = 2\n",
    "train_data_processed, test_data_processed, vocabulary = preprocess_data(train_data, \n",
    "                                                                        test_data, \n",
    "                                                                        minimum_freq)"
   ]
  },
  {
   "cell_type": "code",
   "execution_count": 21,
   "id": "3892afbe",
   "metadata": {},
   "outputs": [
    {
     "name": "stdout",
     "output_type": "stream",
     "text": [
      "First preprocessed training sample:\n"
     ]
    },
    {
     "ename": "NameError",
     "evalue": "name 'train_data_processed' is not defined",
     "output_type": "error",
     "traceback": [
      "\u001b[0;31m---------------------------------------------------------------------------\u001b[0m",
      "\u001b[0;31mNameError\u001b[0m                                 Traceback (most recent call last)",
      "Cell \u001b[0;32mIn[20], line 2\u001b[0m\n\u001b[1;32m      1\u001b[0m \u001b[38;5;28mprint\u001b[39m(\u001b[38;5;124m\"\u001b[39m\u001b[38;5;124mFirst preprocessed training sample:\u001b[39m\u001b[38;5;124m\"\u001b[39m)\n\u001b[0;32m----> 2\u001b[0m \u001b[38;5;28mprint\u001b[39m(\u001b[43mtrain_data_processed\u001b[49m[\u001b[38;5;241m0\u001b[39m])\n\u001b[1;32m      3\u001b[0m \u001b[38;5;28mprint\u001b[39m()\n\u001b[1;32m      4\u001b[0m \u001b[38;5;28mprint\u001b[39m(\u001b[38;5;124m\"\u001b[39m\u001b[38;5;124mFirst preprocessed test sample:\u001b[39m\u001b[38;5;124m\"\u001b[39m)\n",
      "\u001b[0;31mNameError\u001b[0m: name 'train_data_processed' is not defined"
     ]
    }
   ],
   "source": [
    "print(\"First preprocessed training sample:\")\n",
    "print(train_data_processed[0])\n",
    "print()\n",
    "print(\"First preprocessed test sample:\")\n",
    "print(test_data_processed[0])\n",
    "print()\n",
    "print(\"First 10 vocabulary:\")\n",
    "print(vocabulary[0:10])\n",
    "print()\n",
    "print(\"Size of vocabulary:\", len(vocabulary))"
   ]
  },
  {
   "cell_type": "code",
   "execution_count": 22,
   "id": "033eb780",
   "metadata": {},
   "outputs": [],
   "source": [
    "# UNQ_C8 (UNIQUE CELL IDENTIFIER, DO NOT EDIT)\n",
    "### GRADED FUNCTION: count_n_grams ###\n",
    "def count_n_grams(data, n, start_token='<s>', end_token = '<e>'):\n",
    "    \"\"\"\n",
    "    Count all n-grams in the data\n",
    "    \n",
    "    Args:\n",
    "        data: List of lists of words\n",
    "        n: number of words in a sequence\n",
    "    \n",
    "    Returns:\n",
    "        A dictionary that maps a tuple of n-words to its frequency\n",
    "    \"\"\"\n",
    "    \n",
    "    # Initialize dictionary of n-grams and their counts\n",
    "    n_grams = {}\n",
    "\n",
    "    ### START CODE HERE (Replace instances of 'None' with your code) ###\n",
    "    \n",
    "    # Go through each sentence in the data\n",
    "    for sentence in None: # complete this line\n",
    "        \n",
    "        # prepend start token n times, and  append <e> one time\n",
    "        sentence = None\n",
    "        \n",
    "        # convert list to tuple\n",
    "        # So that the sequence of words can be used as\n",
    "        # a key in the dictionary\n",
    "        sentence = None\n",
    "        \n",
    "        # Use 'i' to indicate the start of the n-gram\n",
    "        # from index 0\n",
    "        # to the last index where the end of the n-gram\n",
    "        # is within the sentence.\n",
    "        \n",
    "        for i in range(None): # complete this line\n",
    "\n",
    "            # Get the n-gram from i to i+n\n",
    "            n_gram = None\n",
    "\n",
    "            # check if the n-gram is in the dictionary\n",
    "            if n_gram in None: # complete this line\n",
    "            \n",
    "                # Increment the count for this n-gram\n",
    "                n_grams[n_gram] += None\n",
    "            else:\n",
    "                # Initialize this n-gram count to 1\n",
    "                n_grams[n_gram] = None\n",
    "    \n",
    "            ### END CODE HERE ###\n",
    "    return n_grams"
   ]
  },
  {
   "cell_type": "code",
   "execution_count": 23,
   "id": "20289d2f",
   "metadata": {},
   "outputs": [
    {
     "name": "stdout",
     "output_type": "stream",
     "text": [
      "Uni-gram:\n"
     ]
    },
    {
     "ename": "TypeError",
     "evalue": "'NoneType' object is not iterable",
     "output_type": "error",
     "traceback": [
      "\u001b[0;31m---------------------------------------------------------------------------\u001b[0m",
      "\u001b[0;31mTypeError\u001b[0m                                 Traceback (most recent call last)",
      "Cell \u001b[0;32mIn[22], line 6\u001b[0m\n\u001b[1;32m      3\u001b[0m sentences \u001b[38;5;241m=\u001b[39m [[\u001b[38;5;124m'\u001b[39m\u001b[38;5;124mi\u001b[39m\u001b[38;5;124m'\u001b[39m, \u001b[38;5;124m'\u001b[39m\u001b[38;5;124mlike\u001b[39m\u001b[38;5;124m'\u001b[39m, \u001b[38;5;124m'\u001b[39m\u001b[38;5;124ma\u001b[39m\u001b[38;5;124m'\u001b[39m, \u001b[38;5;124m'\u001b[39m\u001b[38;5;124mcat\u001b[39m\u001b[38;5;124m'\u001b[39m],\n\u001b[1;32m      4\u001b[0m              [\u001b[38;5;124m'\u001b[39m\u001b[38;5;124mthis\u001b[39m\u001b[38;5;124m'\u001b[39m, \u001b[38;5;124m'\u001b[39m\u001b[38;5;124mdog\u001b[39m\u001b[38;5;124m'\u001b[39m, \u001b[38;5;124m'\u001b[39m\u001b[38;5;124mis\u001b[39m\u001b[38;5;124m'\u001b[39m, \u001b[38;5;124m'\u001b[39m\u001b[38;5;124mlike\u001b[39m\u001b[38;5;124m'\u001b[39m, \u001b[38;5;124m'\u001b[39m\u001b[38;5;124ma\u001b[39m\u001b[38;5;124m'\u001b[39m, \u001b[38;5;124m'\u001b[39m\u001b[38;5;124mcat\u001b[39m\u001b[38;5;124m'\u001b[39m]]\n\u001b[1;32m      5\u001b[0m \u001b[38;5;28mprint\u001b[39m(\u001b[38;5;124m\"\u001b[39m\u001b[38;5;124mUni-gram:\u001b[39m\u001b[38;5;124m\"\u001b[39m)\n\u001b[0;32m----> 6\u001b[0m \u001b[38;5;28mprint\u001b[39m(\u001b[43mcount_n_grams\u001b[49m\u001b[43m(\u001b[49m\u001b[43msentences\u001b[49m\u001b[43m,\u001b[49m\u001b[43m \u001b[49m\u001b[38;5;241;43m1\u001b[39;49m\u001b[43m)\u001b[49m)\n\u001b[1;32m      7\u001b[0m \u001b[38;5;28mprint\u001b[39m(\u001b[38;5;124m\"\u001b[39m\u001b[38;5;124mBi-gram:\u001b[39m\u001b[38;5;124m\"\u001b[39m)\n\u001b[1;32m      8\u001b[0m \u001b[38;5;28mprint\u001b[39m(count_n_grams(sentences, \u001b[38;5;241m2\u001b[39m))\n",
      "Cell \u001b[0;32mIn[21], line 21\u001b[0m, in \u001b[0;36mcount_n_grams\u001b[0;34m(data, n, start_token, end_token)\u001b[0m\n\u001b[1;32m     16\u001b[0m n_grams \u001b[38;5;241m=\u001b[39m {}\n\u001b[1;32m     18\u001b[0m \u001b[38;5;66;03m### START CODE HERE (Replace instances of 'None' with your code) ###\u001b[39;00m\n\u001b[1;32m     19\u001b[0m \n\u001b[1;32m     20\u001b[0m \u001b[38;5;66;03m# Go through each sentence in the data\u001b[39;00m\n\u001b[0;32m---> 21\u001b[0m \u001b[38;5;28;01mfor\u001b[39;00m sentence \u001b[38;5;129;01min\u001b[39;00m \u001b[38;5;28;01mNone\u001b[39;00m: \u001b[38;5;66;03m# complete this line\u001b[39;00m\n\u001b[1;32m     22\u001b[0m     \n\u001b[1;32m     23\u001b[0m     \u001b[38;5;66;03m# prepend start token n times, and  append <e> one time\u001b[39;00m\n\u001b[1;32m     24\u001b[0m     sentence \u001b[38;5;241m=\u001b[39m \u001b[38;5;28;01mNone\u001b[39;00m\n\u001b[1;32m     26\u001b[0m     \u001b[38;5;66;03m# convert list to tuple\u001b[39;00m\n\u001b[1;32m     27\u001b[0m     \u001b[38;5;66;03m# So that the sequence of words can be used as\u001b[39;00m\n\u001b[1;32m     28\u001b[0m     \u001b[38;5;66;03m# a key in the dictionary\u001b[39;00m\n",
      "\u001b[0;31mTypeError\u001b[0m: 'NoneType' object is not iterable"
     ]
    }
   ],
   "source": [
    "# test your code\n",
    "# CODE REVIEW COMMENT: Outcome does not match expected outcome\n",
    "sentences = [['i', 'like', 'a', 'cat'],\n",
    "             ['this', 'dog', 'is', 'like', 'a', 'cat']]\n",
    "print(\"Uni-gram:\")\n",
    "print(count_n_grams(sentences, 1))\n",
    "print(\"Bi-gram:\")\n",
    "print(count_n_grams(sentences, 2))"
   ]
  },
  {
   "cell_type": "code",
   "execution_count": 24,
   "id": "7d8576f8",
   "metadata": {},
   "outputs": [],
   "source": [
    "# UNQ_C9 (UNIQUE CELL IDENTIFIER, DO NOT EDIT)\n",
    "### GRADED FUNCTION: estimate_probability ###\n",
    "def estimate_probability(word, previous_n_gram, \n",
    "                         n_gram_counts, n_plus1_gram_counts, vocabulary_size, k=1.0):\n",
    "    \"\"\"\n",
    "    Estimate the probabilities of a next word using the n-gram counts with k-smoothing\n",
    "    \n",
    "    Args:\n",
    "        word: next word\n",
    "        previous_n_gram: A sequence of words of length n\n",
    "        n_gram_counts: Dictionary of counts of n-grams\n",
    "        n_plus1_gram_counts: Dictionary of counts of (n+1)-grams\n",
    "        vocabulary_size: number of words in the vocabulary\n",
    "        k: positive constant, smoothing parameter\n",
    "    \n",
    "    Returns:\n",
    "        A probability\n",
    "    \"\"\"\n",
    "    # convert list to tuple to use it as a dictionary key\n",
    "    previous_n_gram = tuple(previous_n_gram)\n",
    "    \n",
    "    ### START CODE HERE (Replace instances of 'None' with your code) ###\n",
    "    \n",
    "    # Set the denominator\n",
    "    # If the previous n-gram exists in the dictionary of n-gram counts,\n",
    "    # Get its count.  Otherwise set the count to zero\n",
    "    # Use the dictionary that has counts for n-grams\n",
    "    previous_n_gram_count = None\n",
    "        \n",
    "    # Calculate the denominator using the count of the previous n gram\n",
    "    # and apply k-smoothing\n",
    "    denominator = None\n",
    "\n",
    "    # Define n plus 1 gram as the previous n-gram plus the current word as a tuple\n",
    "    n_plus1_gram = None\n",
    "  \n",
    "    # Set the count to the count in the dictionary,\n",
    "    # otherwise 0 if not in the dictionary\n",
    "    # use the dictionary that has counts for the n-gram plus current word\n",
    "    n_plus1_gram_count = None\n",
    "        \n",
    "    # Define the numerator use the count of the n-gram plus current word,\n",
    "    # and apply smoothing\n",
    "    numerator = None\n",
    "\n",
    "    # Calculate the probability as the numerator divided by denominator\n",
    "    probability = None\n",
    "    \n",
    "    ### END CODE HERE ###\n",
    "    \n",
    "    return probability"
   ]
  },
  {
   "cell_type": "code",
   "execution_count": 25,
   "id": "822b6b1e",
   "metadata": {},
   "outputs": [
    {
     "ename": "TypeError",
     "evalue": "'NoneType' object is not iterable",
     "output_type": "error",
     "traceback": [
      "\u001b[0;31m---------------------------------------------------------------------------\u001b[0m",
      "\u001b[0;31mTypeError\u001b[0m                                 Traceback (most recent call last)",
      "Cell \u001b[0;32mIn[24], line 6\u001b[0m\n\u001b[1;32m      2\u001b[0m sentences \u001b[38;5;241m=\u001b[39m [[\u001b[38;5;124m'\u001b[39m\u001b[38;5;124mi\u001b[39m\u001b[38;5;124m'\u001b[39m, \u001b[38;5;124m'\u001b[39m\u001b[38;5;124mlike\u001b[39m\u001b[38;5;124m'\u001b[39m, \u001b[38;5;124m'\u001b[39m\u001b[38;5;124ma\u001b[39m\u001b[38;5;124m'\u001b[39m, \u001b[38;5;124m'\u001b[39m\u001b[38;5;124mcat\u001b[39m\u001b[38;5;124m'\u001b[39m],\n\u001b[1;32m      3\u001b[0m              [\u001b[38;5;124m'\u001b[39m\u001b[38;5;124mthis\u001b[39m\u001b[38;5;124m'\u001b[39m, \u001b[38;5;124m'\u001b[39m\u001b[38;5;124mdog\u001b[39m\u001b[38;5;124m'\u001b[39m, \u001b[38;5;124m'\u001b[39m\u001b[38;5;124mis\u001b[39m\u001b[38;5;124m'\u001b[39m, \u001b[38;5;124m'\u001b[39m\u001b[38;5;124mlike\u001b[39m\u001b[38;5;124m'\u001b[39m, \u001b[38;5;124m'\u001b[39m\u001b[38;5;124ma\u001b[39m\u001b[38;5;124m'\u001b[39m, \u001b[38;5;124m'\u001b[39m\u001b[38;5;124mcat\u001b[39m\u001b[38;5;124m'\u001b[39m]]\n\u001b[1;32m      4\u001b[0m unique_words \u001b[38;5;241m=\u001b[39m \u001b[38;5;28mlist\u001b[39m(\u001b[38;5;28mset\u001b[39m(sentences[\u001b[38;5;241m0\u001b[39m] \u001b[38;5;241m+\u001b[39m sentences[\u001b[38;5;241m1\u001b[39m]))\n\u001b[0;32m----> 6\u001b[0m unigram_counts \u001b[38;5;241m=\u001b[39m \u001b[43mcount_n_grams\u001b[49m\u001b[43m(\u001b[49m\u001b[43msentences\u001b[49m\u001b[43m,\u001b[49m\u001b[43m \u001b[49m\u001b[38;5;241;43m1\u001b[39;49m\u001b[43m)\u001b[49m\n\u001b[1;32m      7\u001b[0m bigram_counts \u001b[38;5;241m=\u001b[39m count_n_grams(sentences, \u001b[38;5;241m2\u001b[39m)\n\u001b[1;32m      8\u001b[0m tmp_prob \u001b[38;5;241m=\u001b[39m estimate_probability(\u001b[38;5;124m\"\u001b[39m\u001b[38;5;124mcat\u001b[39m\u001b[38;5;124m\"\u001b[39m, \u001b[38;5;124m\"\u001b[39m\u001b[38;5;124ma\u001b[39m\u001b[38;5;124m\"\u001b[39m, unigram_counts, bigram_counts, \u001b[38;5;28mlen\u001b[39m(unique_words), k\u001b[38;5;241m=\u001b[39m\u001b[38;5;241m1\u001b[39m)\n",
      "Cell \u001b[0;32mIn[21], line 21\u001b[0m, in \u001b[0;36mcount_n_grams\u001b[0;34m(data, n, start_token, end_token)\u001b[0m\n\u001b[1;32m     16\u001b[0m n_grams \u001b[38;5;241m=\u001b[39m {}\n\u001b[1;32m     18\u001b[0m \u001b[38;5;66;03m### START CODE HERE (Replace instances of 'None' with your code) ###\u001b[39;00m\n\u001b[1;32m     19\u001b[0m \n\u001b[1;32m     20\u001b[0m \u001b[38;5;66;03m# Go through each sentence in the data\u001b[39;00m\n\u001b[0;32m---> 21\u001b[0m \u001b[38;5;28;01mfor\u001b[39;00m sentence \u001b[38;5;129;01min\u001b[39;00m \u001b[38;5;28;01mNone\u001b[39;00m: \u001b[38;5;66;03m# complete this line\u001b[39;00m\n\u001b[1;32m     22\u001b[0m     \n\u001b[1;32m     23\u001b[0m     \u001b[38;5;66;03m# prepend start token n times, and  append <e> one time\u001b[39;00m\n\u001b[1;32m     24\u001b[0m     sentence \u001b[38;5;241m=\u001b[39m \u001b[38;5;28;01mNone\u001b[39;00m\n\u001b[1;32m     26\u001b[0m     \u001b[38;5;66;03m# convert list to tuple\u001b[39;00m\n\u001b[1;32m     27\u001b[0m     \u001b[38;5;66;03m# So that the sequence of words can be used as\u001b[39;00m\n\u001b[1;32m     28\u001b[0m     \u001b[38;5;66;03m# a key in the dictionary\u001b[39;00m\n",
      "\u001b[0;31mTypeError\u001b[0m: 'NoneType' object is not iterable"
     ]
    }
   ],
   "source": [
    "# test your code\n",
    "sentences = [['i', 'like', 'a', 'cat'],\n",
    "             ['this', 'dog', 'is', 'like', 'a', 'cat']]\n",
    "unique_words = list(set(sentences[0] + sentences[1]))\n",
    "\n",
    "unigram_counts = count_n_grams(sentences, 1)\n",
    "bigram_counts = count_n_grams(sentences, 2)\n",
    "tmp_prob = estimate_probability(\"cat\", \"a\", unigram_counts, bigram_counts, len(unique_words), k=1)\n",
    "\n",
    "print(f\"The estimated probability of word 'cat' given the previous n-gram 'a' is: {tmp_prob:.4f}\")"
   ]
  },
  {
   "cell_type": "code",
   "execution_count": 26,
   "id": "52190f54",
   "metadata": {},
   "outputs": [],
   "source": [
    "def estimate_probabilities(previous_n_gram, n_gram_counts, n_plus1_gram_counts, vocabulary, k=1.0):\n",
    "    \"\"\"\n",
    "    Estimate the probabilities of next words using the n-gram counts with k-smoothing\n",
    "    \n",
    "    Args:\n",
    "        previous_n_gram: A sequence of words of length n\n",
    "        n_gram_counts: Dictionary of counts of (n+1)-grams\n",
    "        n_plus1_gram_counts: Dictionary of counts of (n+1)-grams\n",
    "        vocabulary: List of words\n",
    "        k: positive constant, smoothing parameter\n",
    "    \n",
    "    Returns:\n",
    "        A dictionary mapping from next words to the probability.\n",
    "    \"\"\"\n",
    "    \n",
    "    # convert list to tuple to use it as a dictionary key\n",
    "    previous_n_gram = tuple(previous_n_gram)\n",
    "    \n",
    "    # add <e> <unk> to the vocabulary\n",
    "    # <s> is not needed since it should not appear as the next word\n",
    "    vocabulary = vocabulary + [\"<e>\", \"<unk>\"]\n",
    "    vocabulary_size = len(vocabulary)\n",
    "    \n",
    "    probabilities = {}\n",
    "    for word in vocabulary:\n",
    "        probability = estimate_probability(word, previous_n_gram, \n",
    "                                           n_gram_counts, n_plus1_gram_counts, \n",
    "                                           vocabulary_size, k=k)\n",
    "        probabilities[word] = probability\n",
    "\n",
    "    return probabilities"
   ]
  },
  {
   "cell_type": "code",
   "execution_count": 27,
   "id": "99be9b24",
   "metadata": {},
   "outputs": [
    {
     "ename": "TypeError",
     "evalue": "'NoneType' object is not iterable",
     "output_type": "error",
     "traceback": [
      "\u001b[0;31m---------------------------------------------------------------------------\u001b[0m",
      "\u001b[0;31mTypeError\u001b[0m                                 Traceback (most recent call last)",
      "Cell \u001b[0;32mIn[26], line 5\u001b[0m\n\u001b[1;32m      2\u001b[0m sentences \u001b[38;5;241m=\u001b[39m [[\u001b[38;5;124m'\u001b[39m\u001b[38;5;124mi\u001b[39m\u001b[38;5;124m'\u001b[39m, \u001b[38;5;124m'\u001b[39m\u001b[38;5;124mlike\u001b[39m\u001b[38;5;124m'\u001b[39m, \u001b[38;5;124m'\u001b[39m\u001b[38;5;124ma\u001b[39m\u001b[38;5;124m'\u001b[39m, \u001b[38;5;124m'\u001b[39m\u001b[38;5;124mcat\u001b[39m\u001b[38;5;124m'\u001b[39m],\n\u001b[1;32m      3\u001b[0m              [\u001b[38;5;124m'\u001b[39m\u001b[38;5;124mthis\u001b[39m\u001b[38;5;124m'\u001b[39m, \u001b[38;5;124m'\u001b[39m\u001b[38;5;124mdog\u001b[39m\u001b[38;5;124m'\u001b[39m, \u001b[38;5;124m'\u001b[39m\u001b[38;5;124mis\u001b[39m\u001b[38;5;124m'\u001b[39m, \u001b[38;5;124m'\u001b[39m\u001b[38;5;124mlike\u001b[39m\u001b[38;5;124m'\u001b[39m, \u001b[38;5;124m'\u001b[39m\u001b[38;5;124ma\u001b[39m\u001b[38;5;124m'\u001b[39m, \u001b[38;5;124m'\u001b[39m\u001b[38;5;124mcat\u001b[39m\u001b[38;5;124m'\u001b[39m]]\n\u001b[1;32m      4\u001b[0m unique_words \u001b[38;5;241m=\u001b[39m \u001b[38;5;28mlist\u001b[39m(\u001b[38;5;28mset\u001b[39m(sentences[\u001b[38;5;241m0\u001b[39m] \u001b[38;5;241m+\u001b[39m sentences[\u001b[38;5;241m1\u001b[39m]))\n\u001b[0;32m----> 5\u001b[0m unigram_counts \u001b[38;5;241m=\u001b[39m \u001b[43mcount_n_grams\u001b[49m\u001b[43m(\u001b[49m\u001b[43msentences\u001b[49m\u001b[43m,\u001b[49m\u001b[43m \u001b[49m\u001b[38;5;241;43m1\u001b[39;49m\u001b[43m)\u001b[49m\n\u001b[1;32m      6\u001b[0m bigram_counts \u001b[38;5;241m=\u001b[39m count_n_grams(sentences, \u001b[38;5;241m2\u001b[39m)\n\u001b[1;32m      7\u001b[0m estimate_probabilities(\u001b[38;5;124m\"\u001b[39m\u001b[38;5;124ma\u001b[39m\u001b[38;5;124m\"\u001b[39m, unigram_counts, bigram_counts, unique_words, k\u001b[38;5;241m=\u001b[39m\u001b[38;5;241m1\u001b[39m)\n",
      "Cell \u001b[0;32mIn[21], line 21\u001b[0m, in \u001b[0;36mcount_n_grams\u001b[0;34m(data, n, start_token, end_token)\u001b[0m\n\u001b[1;32m     16\u001b[0m n_grams \u001b[38;5;241m=\u001b[39m {}\n\u001b[1;32m     18\u001b[0m \u001b[38;5;66;03m### START CODE HERE (Replace instances of 'None' with your code) ###\u001b[39;00m\n\u001b[1;32m     19\u001b[0m \n\u001b[1;32m     20\u001b[0m \u001b[38;5;66;03m# Go through each sentence in the data\u001b[39;00m\n\u001b[0;32m---> 21\u001b[0m \u001b[38;5;28;01mfor\u001b[39;00m sentence \u001b[38;5;129;01min\u001b[39;00m \u001b[38;5;28;01mNone\u001b[39;00m: \u001b[38;5;66;03m# complete this line\u001b[39;00m\n\u001b[1;32m     22\u001b[0m     \n\u001b[1;32m     23\u001b[0m     \u001b[38;5;66;03m# prepend start token n times, and  append <e> one time\u001b[39;00m\n\u001b[1;32m     24\u001b[0m     sentence \u001b[38;5;241m=\u001b[39m \u001b[38;5;28;01mNone\u001b[39;00m\n\u001b[1;32m     26\u001b[0m     \u001b[38;5;66;03m# convert list to tuple\u001b[39;00m\n\u001b[1;32m     27\u001b[0m     \u001b[38;5;66;03m# So that the sequence of words can be used as\u001b[39;00m\n\u001b[1;32m     28\u001b[0m     \u001b[38;5;66;03m# a key in the dictionary\u001b[39;00m\n",
      "\u001b[0;31mTypeError\u001b[0m: 'NoneType' object is not iterable"
     ]
    }
   ],
   "source": [
    "# test your code\n",
    "sentences = [['i', 'like', 'a', 'cat'],\n",
    "             ['this', 'dog', 'is', 'like', 'a', 'cat']]\n",
    "unique_words = list(set(sentences[0] + sentences[1]))\n",
    "unigram_counts = count_n_grams(sentences, 1)\n",
    "bigram_counts = count_n_grams(sentences, 2)\n",
    "estimate_probabilities(\"a\", unigram_counts, bigram_counts, unique_words, k=1)"
   ]
  },
  {
   "cell_type": "code",
   "execution_count": 28,
   "id": "7fa69e6c",
   "metadata": {},
   "outputs": [
    {
     "ename": "TypeError",
     "evalue": "'NoneType' object is not iterable",
     "output_type": "error",
     "traceback": [
      "\u001b[0;31m---------------------------------------------------------------------------\u001b[0m",
      "\u001b[0;31mTypeError\u001b[0m                                 Traceback (most recent call last)",
      "Cell \u001b[0;32mIn[27], line 2\u001b[0m\n\u001b[1;32m      1\u001b[0m \u001b[38;5;66;03m# Additional test\u001b[39;00m\n\u001b[0;32m----> 2\u001b[0m trigram_counts \u001b[38;5;241m=\u001b[39m \u001b[43mcount_n_grams\u001b[49m\u001b[43m(\u001b[49m\u001b[43msentences\u001b[49m\u001b[43m,\u001b[49m\u001b[43m \u001b[49m\u001b[38;5;241;43m3\u001b[39;49m\u001b[43m)\u001b[49m\n\u001b[1;32m      3\u001b[0m estimate_probabilities([\u001b[38;5;124m\"\u001b[39m\u001b[38;5;124m<s>\u001b[39m\u001b[38;5;124m\"\u001b[39m, \u001b[38;5;124m\"\u001b[39m\u001b[38;5;124m<s>\u001b[39m\u001b[38;5;124m\"\u001b[39m], bigram_counts, trigram_counts, unique_words, k\u001b[38;5;241m=\u001b[39m\u001b[38;5;241m1\u001b[39m)\n",
      "Cell \u001b[0;32mIn[21], line 21\u001b[0m, in \u001b[0;36mcount_n_grams\u001b[0;34m(data, n, start_token, end_token)\u001b[0m\n\u001b[1;32m     16\u001b[0m n_grams \u001b[38;5;241m=\u001b[39m {}\n\u001b[1;32m     18\u001b[0m \u001b[38;5;66;03m### START CODE HERE (Replace instances of 'None' with your code) ###\u001b[39;00m\n\u001b[1;32m     19\u001b[0m \n\u001b[1;32m     20\u001b[0m \u001b[38;5;66;03m# Go through each sentence in the data\u001b[39;00m\n\u001b[0;32m---> 21\u001b[0m \u001b[38;5;28;01mfor\u001b[39;00m sentence \u001b[38;5;129;01min\u001b[39;00m \u001b[38;5;28;01mNone\u001b[39;00m: \u001b[38;5;66;03m# complete this line\u001b[39;00m\n\u001b[1;32m     22\u001b[0m     \n\u001b[1;32m     23\u001b[0m     \u001b[38;5;66;03m# prepend start token n times, and  append <e> one time\u001b[39;00m\n\u001b[1;32m     24\u001b[0m     sentence \u001b[38;5;241m=\u001b[39m \u001b[38;5;28;01mNone\u001b[39;00m\n\u001b[1;32m     26\u001b[0m     \u001b[38;5;66;03m# convert list to tuple\u001b[39;00m\n\u001b[1;32m     27\u001b[0m     \u001b[38;5;66;03m# So that the sequence of words can be used as\u001b[39;00m\n\u001b[1;32m     28\u001b[0m     \u001b[38;5;66;03m# a key in the dictionary\u001b[39;00m\n",
      "\u001b[0;31mTypeError\u001b[0m: 'NoneType' object is not iterable"
     ]
    }
   ],
   "source": [
    "# Additional test\n",
    "trigram_counts = count_n_grams(sentences, 3)\n",
    "estimate_probabilities([\"<s>\", \"<s>\"], bigram_counts, trigram_counts, unique_words, k=1)"
   ]
  },
  {
   "cell_type": "code",
   "execution_count": 29,
   "id": "460bc063",
   "metadata": {},
   "outputs": [],
   "source": [
    "def make_count_matrix(n_plus1_gram_counts, vocabulary):\n",
    "    # add <e> <unk> to the vocabulary\n",
    "    # <s> is omitted since it should not appear as the next word\n",
    "    vocabulary = vocabulary + [\"<e>\", \"<unk>\"]\n",
    "    \n",
    "    # obtain unique n-grams\n",
    "    n_grams = []\n",
    "    for n_plus1_gram in n_plus1_gram_counts.keys():\n",
    "        n_gram = n_plus1_gram[0:-1]\n",
    "        n_grams.append(n_gram)\n",
    "    n_grams = list(set(n_grams))\n",
    "    \n",
    "    # mapping from n-gram to row\n",
    "    row_index = {n_gram:i for i, n_gram in enumerate(n_grams)}\n",
    "    # mapping from next word to column\n",
    "    col_index = {word:j for j, word in enumerate(vocabulary)}\n",
    "    \n",
    "    nrow = len(n_grams)\n",
    "    ncol = len(vocabulary)\n",
    "    count_matrix = np.zeros((nrow, ncol))\n",
    "    for n_plus1_gram, count in n_plus1_gram_counts.items():\n",
    "        n_gram = n_plus1_gram[0:-1]\n",
    "        word = n_plus1_gram[-1]\n",
    "        if word not in vocabulary:\n",
    "            continue\n",
    "        i = row_index[n_gram]\n",
    "        j = col_index[word]\n",
    "        count_matrix[i, j] = count\n",
    "    \n",
    "    count_matrix = pd.DataFrame(count_matrix, index=n_grams, columns=vocabulary)\n",
    "    return count_matrix"
   ]
  },
  {
   "cell_type": "code",
   "execution_count": 30,
   "id": "1339125b",
   "metadata": {},
   "outputs": [
    {
     "ename": "TypeError",
     "evalue": "'NoneType' object is not iterable",
     "output_type": "error",
     "traceback": [
      "\u001b[0;31m---------------------------------------------------------------------------\u001b[0m",
      "\u001b[0;31mTypeError\u001b[0m                                 Traceback (most recent call last)",
      "Cell \u001b[0;32mIn[29], line 4\u001b[0m\n\u001b[1;32m      1\u001b[0m sentences \u001b[38;5;241m=\u001b[39m [[\u001b[38;5;124m'\u001b[39m\u001b[38;5;124mi\u001b[39m\u001b[38;5;124m'\u001b[39m, \u001b[38;5;124m'\u001b[39m\u001b[38;5;124mlike\u001b[39m\u001b[38;5;124m'\u001b[39m, \u001b[38;5;124m'\u001b[39m\u001b[38;5;124ma\u001b[39m\u001b[38;5;124m'\u001b[39m, \u001b[38;5;124m'\u001b[39m\u001b[38;5;124mcat\u001b[39m\u001b[38;5;124m'\u001b[39m],\n\u001b[1;32m      2\u001b[0m                  [\u001b[38;5;124m'\u001b[39m\u001b[38;5;124mthis\u001b[39m\u001b[38;5;124m'\u001b[39m, \u001b[38;5;124m'\u001b[39m\u001b[38;5;124mdog\u001b[39m\u001b[38;5;124m'\u001b[39m, \u001b[38;5;124m'\u001b[39m\u001b[38;5;124mis\u001b[39m\u001b[38;5;124m'\u001b[39m, \u001b[38;5;124m'\u001b[39m\u001b[38;5;124mlike\u001b[39m\u001b[38;5;124m'\u001b[39m, \u001b[38;5;124m'\u001b[39m\u001b[38;5;124ma\u001b[39m\u001b[38;5;124m'\u001b[39m, \u001b[38;5;124m'\u001b[39m\u001b[38;5;124mcat\u001b[39m\u001b[38;5;124m'\u001b[39m]]\n\u001b[1;32m      3\u001b[0m unique_words \u001b[38;5;241m=\u001b[39m \u001b[38;5;28mlist\u001b[39m(\u001b[38;5;28mset\u001b[39m(sentences[\u001b[38;5;241m0\u001b[39m] \u001b[38;5;241m+\u001b[39m sentences[\u001b[38;5;241m1\u001b[39m]))\n\u001b[0;32m----> 4\u001b[0m bigram_counts \u001b[38;5;241m=\u001b[39m \u001b[43mcount_n_grams\u001b[49m\u001b[43m(\u001b[49m\u001b[43msentences\u001b[49m\u001b[43m,\u001b[49m\u001b[43m \u001b[49m\u001b[38;5;241;43m2\u001b[39;49m\u001b[43m)\u001b[49m\n\u001b[1;32m      6\u001b[0m \u001b[38;5;28mprint\u001b[39m(\u001b[38;5;124m'\u001b[39m\u001b[38;5;124mbigram counts\u001b[39m\u001b[38;5;124m'\u001b[39m)\n\u001b[1;32m      7\u001b[0m display(make_count_matrix(bigram_counts, unique_words))\n",
      "Cell \u001b[0;32mIn[21], line 21\u001b[0m, in \u001b[0;36mcount_n_grams\u001b[0;34m(data, n, start_token, end_token)\u001b[0m\n\u001b[1;32m     16\u001b[0m n_grams \u001b[38;5;241m=\u001b[39m {}\n\u001b[1;32m     18\u001b[0m \u001b[38;5;66;03m### START CODE HERE (Replace instances of 'None' with your code) ###\u001b[39;00m\n\u001b[1;32m     19\u001b[0m \n\u001b[1;32m     20\u001b[0m \u001b[38;5;66;03m# Go through each sentence in the data\u001b[39;00m\n\u001b[0;32m---> 21\u001b[0m \u001b[38;5;28;01mfor\u001b[39;00m sentence \u001b[38;5;129;01min\u001b[39;00m \u001b[38;5;28;01mNone\u001b[39;00m: \u001b[38;5;66;03m# complete this line\u001b[39;00m\n\u001b[1;32m     22\u001b[0m     \n\u001b[1;32m     23\u001b[0m     \u001b[38;5;66;03m# prepend start token n times, and  append <e> one time\u001b[39;00m\n\u001b[1;32m     24\u001b[0m     sentence \u001b[38;5;241m=\u001b[39m \u001b[38;5;28;01mNone\u001b[39;00m\n\u001b[1;32m     26\u001b[0m     \u001b[38;5;66;03m# convert list to tuple\u001b[39;00m\n\u001b[1;32m     27\u001b[0m     \u001b[38;5;66;03m# So that the sequence of words can be used as\u001b[39;00m\n\u001b[1;32m     28\u001b[0m     \u001b[38;5;66;03m# a key in the dictionary\u001b[39;00m\n",
      "\u001b[0;31mTypeError\u001b[0m: 'NoneType' object is not iterable"
     ]
    }
   ],
   "source": [
    "sentences = [['i', 'like', 'a', 'cat'],\n",
    "                 ['this', 'dog', 'is', 'like', 'a', 'cat']]\n",
    "unique_words = list(set(sentences[0] + sentences[1]))\n",
    "bigram_counts = count_n_grams(sentences, 2)\n",
    "\n",
    "print('bigram counts')\n",
    "display(make_count_matrix(bigram_counts, unique_words))"
   ]
  },
  {
   "cell_type": "code",
   "execution_count": 31,
   "id": "bade4243",
   "metadata": {},
   "outputs": [
    {
     "name": "stdout",
     "output_type": "stream",
     "text": [
      "\n",
      "trigram counts\n"
     ]
    },
    {
     "ename": "TypeError",
     "evalue": "'NoneType' object is not iterable",
     "output_type": "error",
     "traceback": [
      "\u001b[0;31m---------------------------------------------------------------------------\u001b[0m",
      "\u001b[0;31mTypeError\u001b[0m                                 Traceback (most recent call last)",
      "Cell \u001b[0;32mIn[30], line 3\u001b[0m\n\u001b[1;32m      1\u001b[0m \u001b[38;5;66;03m# Show trigram counts\u001b[39;00m\n\u001b[1;32m      2\u001b[0m \u001b[38;5;28mprint\u001b[39m(\u001b[38;5;124m'\u001b[39m\u001b[38;5;130;01m\\n\u001b[39;00m\u001b[38;5;124mtrigram counts\u001b[39m\u001b[38;5;124m'\u001b[39m)\n\u001b[0;32m----> 3\u001b[0m trigram_counts \u001b[38;5;241m=\u001b[39m \u001b[43mcount_n_grams\u001b[49m\u001b[43m(\u001b[49m\u001b[43msentences\u001b[49m\u001b[43m,\u001b[49m\u001b[43m \u001b[49m\u001b[38;5;241;43m3\u001b[39;49m\u001b[43m)\u001b[49m\n\u001b[1;32m      4\u001b[0m display(make_count_matrix(trigram_counts, unique_words))\n",
      "Cell \u001b[0;32mIn[21], line 21\u001b[0m, in \u001b[0;36mcount_n_grams\u001b[0;34m(data, n, start_token, end_token)\u001b[0m\n\u001b[1;32m     16\u001b[0m n_grams \u001b[38;5;241m=\u001b[39m {}\n\u001b[1;32m     18\u001b[0m \u001b[38;5;66;03m### START CODE HERE (Replace instances of 'None' with your code) ###\u001b[39;00m\n\u001b[1;32m     19\u001b[0m \n\u001b[1;32m     20\u001b[0m \u001b[38;5;66;03m# Go through each sentence in the data\u001b[39;00m\n\u001b[0;32m---> 21\u001b[0m \u001b[38;5;28;01mfor\u001b[39;00m sentence \u001b[38;5;129;01min\u001b[39;00m \u001b[38;5;28;01mNone\u001b[39;00m: \u001b[38;5;66;03m# complete this line\u001b[39;00m\n\u001b[1;32m     22\u001b[0m     \n\u001b[1;32m     23\u001b[0m     \u001b[38;5;66;03m# prepend start token n times, and  append <e> one time\u001b[39;00m\n\u001b[1;32m     24\u001b[0m     sentence \u001b[38;5;241m=\u001b[39m \u001b[38;5;28;01mNone\u001b[39;00m\n\u001b[1;32m     26\u001b[0m     \u001b[38;5;66;03m# convert list to tuple\u001b[39;00m\n\u001b[1;32m     27\u001b[0m     \u001b[38;5;66;03m# So that the sequence of words can be used as\u001b[39;00m\n\u001b[1;32m     28\u001b[0m     \u001b[38;5;66;03m# a key in the dictionary\u001b[39;00m\n",
      "\u001b[0;31mTypeError\u001b[0m: 'NoneType' object is not iterable"
     ]
    }
   ],
   "source": [
    "# Show trigram counts\n",
    "print('\\ntrigram counts')\n",
    "trigram_counts = count_n_grams(sentences, 3)\n",
    "display(make_count_matrix(trigram_counts, unique_words))"
   ]
  },
  {
   "cell_type": "code",
   "execution_count": 32,
   "id": "91101dbc",
   "metadata": {},
   "outputs": [],
   "source": [
    "def make_probability_matrix(n_plus1_gram_counts, vocabulary, k):\n",
    "    count_matrix = make_count_matrix(n_plus1_gram_counts, unique_words)\n",
    "    count_matrix += k\n",
    "    prob_matrix = count_matrix.div(count_matrix.sum(axis=1), axis=0)\n",
    "    return prob_matrix"
   ]
  },
  {
   "cell_type": "code",
   "execution_count": 33,
   "id": "1728d06b",
   "metadata": {},
   "outputs": [
    {
     "ename": "TypeError",
     "evalue": "'NoneType' object is not iterable",
     "output_type": "error",
     "traceback": [
      "\u001b[0;31m---------------------------------------------------------------------------\u001b[0m",
      "\u001b[0;31mTypeError\u001b[0m                                 Traceback (most recent call last)",
      "Cell \u001b[0;32mIn[32], line 4\u001b[0m\n\u001b[1;32m      1\u001b[0m sentences \u001b[38;5;241m=\u001b[39m [[\u001b[38;5;124m'\u001b[39m\u001b[38;5;124mi\u001b[39m\u001b[38;5;124m'\u001b[39m, \u001b[38;5;124m'\u001b[39m\u001b[38;5;124mlike\u001b[39m\u001b[38;5;124m'\u001b[39m, \u001b[38;5;124m'\u001b[39m\u001b[38;5;124ma\u001b[39m\u001b[38;5;124m'\u001b[39m, \u001b[38;5;124m'\u001b[39m\u001b[38;5;124mcat\u001b[39m\u001b[38;5;124m'\u001b[39m],\n\u001b[1;32m      2\u001b[0m                  [\u001b[38;5;124m'\u001b[39m\u001b[38;5;124mthis\u001b[39m\u001b[38;5;124m'\u001b[39m, \u001b[38;5;124m'\u001b[39m\u001b[38;5;124mdog\u001b[39m\u001b[38;5;124m'\u001b[39m, \u001b[38;5;124m'\u001b[39m\u001b[38;5;124mis\u001b[39m\u001b[38;5;124m'\u001b[39m, \u001b[38;5;124m'\u001b[39m\u001b[38;5;124mlike\u001b[39m\u001b[38;5;124m'\u001b[39m, \u001b[38;5;124m'\u001b[39m\u001b[38;5;124ma\u001b[39m\u001b[38;5;124m'\u001b[39m, \u001b[38;5;124m'\u001b[39m\u001b[38;5;124mcat\u001b[39m\u001b[38;5;124m'\u001b[39m]]\n\u001b[1;32m      3\u001b[0m unique_words \u001b[38;5;241m=\u001b[39m \u001b[38;5;28mlist\u001b[39m(\u001b[38;5;28mset\u001b[39m(sentences[\u001b[38;5;241m0\u001b[39m] \u001b[38;5;241m+\u001b[39m sentences[\u001b[38;5;241m1\u001b[39m]))\n\u001b[0;32m----> 4\u001b[0m bigram_counts \u001b[38;5;241m=\u001b[39m \u001b[43mcount_n_grams\u001b[49m\u001b[43m(\u001b[49m\u001b[43msentences\u001b[49m\u001b[43m,\u001b[49m\u001b[43m \u001b[49m\u001b[38;5;241;43m2\u001b[39;49m\u001b[43m)\u001b[49m\n\u001b[1;32m      5\u001b[0m \u001b[38;5;28mprint\u001b[39m(\u001b[38;5;124m\"\u001b[39m\u001b[38;5;124mbigram probabilities\u001b[39m\u001b[38;5;124m\"\u001b[39m)\n\u001b[1;32m      6\u001b[0m display(make_probability_matrix(bigram_counts, unique_words, k\u001b[38;5;241m=\u001b[39m\u001b[38;5;241m1\u001b[39m))\n",
      "Cell \u001b[0;32mIn[21], line 21\u001b[0m, in \u001b[0;36mcount_n_grams\u001b[0;34m(data, n, start_token, end_token)\u001b[0m\n\u001b[1;32m     16\u001b[0m n_grams \u001b[38;5;241m=\u001b[39m {}\n\u001b[1;32m     18\u001b[0m \u001b[38;5;66;03m### START CODE HERE (Replace instances of 'None' with your code) ###\u001b[39;00m\n\u001b[1;32m     19\u001b[0m \n\u001b[1;32m     20\u001b[0m \u001b[38;5;66;03m# Go through each sentence in the data\u001b[39;00m\n\u001b[0;32m---> 21\u001b[0m \u001b[38;5;28;01mfor\u001b[39;00m sentence \u001b[38;5;129;01min\u001b[39;00m \u001b[38;5;28;01mNone\u001b[39;00m: \u001b[38;5;66;03m# complete this line\u001b[39;00m\n\u001b[1;32m     22\u001b[0m     \n\u001b[1;32m     23\u001b[0m     \u001b[38;5;66;03m# prepend start token n times, and  append <e> one time\u001b[39;00m\n\u001b[1;32m     24\u001b[0m     sentence \u001b[38;5;241m=\u001b[39m \u001b[38;5;28;01mNone\u001b[39;00m\n\u001b[1;32m     26\u001b[0m     \u001b[38;5;66;03m# convert list to tuple\u001b[39;00m\n\u001b[1;32m     27\u001b[0m     \u001b[38;5;66;03m# So that the sequence of words can be used as\u001b[39;00m\n\u001b[1;32m     28\u001b[0m     \u001b[38;5;66;03m# a key in the dictionary\u001b[39;00m\n",
      "\u001b[0;31mTypeError\u001b[0m: 'NoneType' object is not iterable"
     ]
    }
   ],
   "source": [
    "sentences = [['i', 'like', 'a', 'cat'],\n",
    "                 ['this', 'dog', 'is', 'like', 'a', 'cat']]\n",
    "unique_words = list(set(sentences[0] + sentences[1]))\n",
    "bigram_counts = count_n_grams(sentences, 2)\n",
    "print(\"bigram probabilities\")\n",
    "display(make_probability_matrix(bigram_counts, unique_words, k=1))"
   ]
  },
  {
   "cell_type": "code",
   "execution_count": 34,
   "id": "b978a162",
   "metadata": {},
   "outputs": [
    {
     "name": "stdout",
     "output_type": "stream",
     "text": [
      "trigram probabilities\n"
     ]
    },
    {
     "ename": "TypeError",
     "evalue": "'NoneType' object is not iterable",
     "output_type": "error",
     "traceback": [
      "\u001b[0;31m---------------------------------------------------------------------------\u001b[0m",
      "\u001b[0;31mTypeError\u001b[0m                                 Traceback (most recent call last)",
      "Cell \u001b[0;32mIn[33], line 2\u001b[0m\n\u001b[1;32m      1\u001b[0m \u001b[38;5;28mprint\u001b[39m(\u001b[38;5;124m\"\u001b[39m\u001b[38;5;124mtrigram probabilities\u001b[39m\u001b[38;5;124m\"\u001b[39m)\n\u001b[0;32m----> 2\u001b[0m trigram_counts \u001b[38;5;241m=\u001b[39m \u001b[43mcount_n_grams\u001b[49m\u001b[43m(\u001b[49m\u001b[43msentences\u001b[49m\u001b[43m,\u001b[49m\u001b[43m \u001b[49m\u001b[38;5;241;43m3\u001b[39;49m\u001b[43m)\u001b[49m\n\u001b[1;32m      3\u001b[0m display(make_probability_matrix(trigram_counts, unique_words, k\u001b[38;5;241m=\u001b[39m\u001b[38;5;241m1\u001b[39m))\n",
      "Cell \u001b[0;32mIn[21], line 21\u001b[0m, in \u001b[0;36mcount_n_grams\u001b[0;34m(data, n, start_token, end_token)\u001b[0m\n\u001b[1;32m     16\u001b[0m n_grams \u001b[38;5;241m=\u001b[39m {}\n\u001b[1;32m     18\u001b[0m \u001b[38;5;66;03m### START CODE HERE (Replace instances of 'None' with your code) ###\u001b[39;00m\n\u001b[1;32m     19\u001b[0m \n\u001b[1;32m     20\u001b[0m \u001b[38;5;66;03m# Go through each sentence in the data\u001b[39;00m\n\u001b[0;32m---> 21\u001b[0m \u001b[38;5;28;01mfor\u001b[39;00m sentence \u001b[38;5;129;01min\u001b[39;00m \u001b[38;5;28;01mNone\u001b[39;00m: \u001b[38;5;66;03m# complete this line\u001b[39;00m\n\u001b[1;32m     22\u001b[0m     \n\u001b[1;32m     23\u001b[0m     \u001b[38;5;66;03m# prepend start token n times, and  append <e> one time\u001b[39;00m\n\u001b[1;32m     24\u001b[0m     sentence \u001b[38;5;241m=\u001b[39m \u001b[38;5;28;01mNone\u001b[39;00m\n\u001b[1;32m     26\u001b[0m     \u001b[38;5;66;03m# convert list to tuple\u001b[39;00m\n\u001b[1;32m     27\u001b[0m     \u001b[38;5;66;03m# So that the sequence of words can be used as\u001b[39;00m\n\u001b[1;32m     28\u001b[0m     \u001b[38;5;66;03m# a key in the dictionary\u001b[39;00m\n",
      "\u001b[0;31mTypeError\u001b[0m: 'NoneType' object is not iterable"
     ]
    }
   ],
   "source": [
    "print(\"trigram probabilities\")\n",
    "trigram_counts = count_n_grams(sentences, 3)\n",
    "display(make_probability_matrix(trigram_counts, unique_words, k=1))"
   ]
  },
  {
   "cell_type": "code",
   "execution_count": 35,
   "id": "dc9c9aa4",
   "metadata": {},
   "outputs": [],
   "source": [
    "# UNQ_C10 (UNIQUE CELL IDENTIFIER, DO NOT EDIT)\n",
    "# GRADED FUNCTION: calculate_perplexity\n",
    "def calculate_perplexity(sentence, n_gram_counts, n_plus1_gram_counts, vocabulary_size, k=1.0):\n",
    "    \"\"\"\n",
    "    Calculate perplexity for a list of sentences\n",
    "    \n",
    "    Args:\n",
    "        sentence: List of strings\n",
    "        n_gram_counts: Dictionary of counts of (n+1)-grams\n",
    "        n_plus1_gram_counts: Dictionary of counts of (n+1)-grams\n",
    "        vocabulary_size: number of unique words in the vocabulary\n",
    "        k: Positive smoothing constant\n",
    "    \n",
    "    Returns:\n",
    "        Perplexity score\n",
    "    \"\"\"\n",
    "    # length of previous words\n",
    "    n = len(list(n_gram_counts.keys())[0]) \n",
    "    \n",
    "    # prepend <s> and append <e>\n",
    "    sentence = [\"<s>\"] * n + sentence + [\"<e>\"]\n",
    "    \n",
    "    # Cast the sentence from a list to a tuple\n",
    "    sentence = tuple(sentence)\n",
    "    \n",
    "    # length of sentence (after adding <s> and <e> tokens)\n",
    "    N = len(sentence)\n",
    "    \n",
    "    # The variable p will hold the product\n",
    "    # that is calculated inside the n-root\n",
    "    # Update this in the code below\n",
    "    product_pi = 1.0\n",
    "    \n",
    "    ### START CODE HERE (Replace instances of 'None' with your code) ###\n",
    "    \n",
    "    # Index t ranges from n to N - 1, inclusive on both ends\n",
    "    for t in range(None, None): # complete this line\n",
    "\n",
    "        # get the n-gram preceding the word at position t\n",
    "        n_gram = None\n",
    "        \n",
    "        # get the word at position t\n",
    "        word = None\n",
    "        \n",
    "        # Estimate the probability of the word given the n-gram\n",
    "        # using the n-gram counts, n-plus1-gram counts,\n",
    "        # vocabulary size, and smoothing constant\n",
    "        probability = None\n",
    "        \n",
    "        # Update the product of the probabilities\n",
    "        # This 'product_pi' is a cumulative product \n",
    "        # of the (1/P) factors that are calculated in the loop\n",
    "        product_pi *= None\n",
    "\n",
    "    # Take the Nth root of the product\n",
    "    perplexity = None\n",
    "    \n",
    "    ### END CODE HERE ### \n",
    "    return perplexity"
   ]
  },
  {
   "cell_type": "code",
   "execution_count": 36,
   "id": "c49bdf5b",
   "metadata": {},
   "outputs": [
    {
     "ename": "TypeError",
     "evalue": "'NoneType' object is not iterable",
     "output_type": "error",
     "traceback": [
      "\u001b[0;31m---------------------------------------------------------------------------\u001b[0m",
      "\u001b[0;31mTypeError\u001b[0m                                 Traceback (most recent call last)",
      "Cell \u001b[0;32mIn[35], line 7\u001b[0m\n\u001b[1;32m      3\u001b[0m sentences \u001b[38;5;241m=\u001b[39m [[\u001b[38;5;124m'\u001b[39m\u001b[38;5;124mi\u001b[39m\u001b[38;5;124m'\u001b[39m, \u001b[38;5;124m'\u001b[39m\u001b[38;5;124mlike\u001b[39m\u001b[38;5;124m'\u001b[39m, \u001b[38;5;124m'\u001b[39m\u001b[38;5;124ma\u001b[39m\u001b[38;5;124m'\u001b[39m, \u001b[38;5;124m'\u001b[39m\u001b[38;5;124mcat\u001b[39m\u001b[38;5;124m'\u001b[39m],\n\u001b[1;32m      4\u001b[0m                  [\u001b[38;5;124m'\u001b[39m\u001b[38;5;124mthis\u001b[39m\u001b[38;5;124m'\u001b[39m, \u001b[38;5;124m'\u001b[39m\u001b[38;5;124mdog\u001b[39m\u001b[38;5;124m'\u001b[39m, \u001b[38;5;124m'\u001b[39m\u001b[38;5;124mis\u001b[39m\u001b[38;5;124m'\u001b[39m, \u001b[38;5;124m'\u001b[39m\u001b[38;5;124mlike\u001b[39m\u001b[38;5;124m'\u001b[39m, \u001b[38;5;124m'\u001b[39m\u001b[38;5;124ma\u001b[39m\u001b[38;5;124m'\u001b[39m, \u001b[38;5;124m'\u001b[39m\u001b[38;5;124mcat\u001b[39m\u001b[38;5;124m'\u001b[39m]]\n\u001b[1;32m      5\u001b[0m unique_words \u001b[38;5;241m=\u001b[39m \u001b[38;5;28mlist\u001b[39m(\u001b[38;5;28mset\u001b[39m(sentences[\u001b[38;5;241m0\u001b[39m] \u001b[38;5;241m+\u001b[39m sentences[\u001b[38;5;241m1\u001b[39m]))\n\u001b[0;32m----> 7\u001b[0m unigram_counts \u001b[38;5;241m=\u001b[39m \u001b[43mcount_n_grams\u001b[49m\u001b[43m(\u001b[49m\u001b[43msentences\u001b[49m\u001b[43m,\u001b[49m\u001b[43m \u001b[49m\u001b[38;5;241;43m1\u001b[39;49m\u001b[43m)\u001b[49m\n\u001b[1;32m      8\u001b[0m bigram_counts \u001b[38;5;241m=\u001b[39m count_n_grams(sentences, \u001b[38;5;241m2\u001b[39m)\n\u001b[1;32m     11\u001b[0m perplexity_train1 \u001b[38;5;241m=\u001b[39m calculate_perplexity(sentences[\u001b[38;5;241m0\u001b[39m],\n\u001b[1;32m     12\u001b[0m                                          unigram_counts, bigram_counts,\n\u001b[1;32m     13\u001b[0m                                          \u001b[38;5;28mlen\u001b[39m(unique_words), k\u001b[38;5;241m=\u001b[39m\u001b[38;5;241m1.0\u001b[39m)\n",
      "Cell \u001b[0;32mIn[21], line 21\u001b[0m, in \u001b[0;36mcount_n_grams\u001b[0;34m(data, n, start_token, end_token)\u001b[0m\n\u001b[1;32m     16\u001b[0m n_grams \u001b[38;5;241m=\u001b[39m {}\n\u001b[1;32m     18\u001b[0m \u001b[38;5;66;03m### START CODE HERE (Replace instances of 'None' with your code) ###\u001b[39;00m\n\u001b[1;32m     19\u001b[0m \n\u001b[1;32m     20\u001b[0m \u001b[38;5;66;03m# Go through each sentence in the data\u001b[39;00m\n\u001b[0;32m---> 21\u001b[0m \u001b[38;5;28;01mfor\u001b[39;00m sentence \u001b[38;5;129;01min\u001b[39;00m \u001b[38;5;28;01mNone\u001b[39;00m: \u001b[38;5;66;03m# complete this line\u001b[39;00m\n\u001b[1;32m     22\u001b[0m     \n\u001b[1;32m     23\u001b[0m     \u001b[38;5;66;03m# prepend start token n times, and  append <e> one time\u001b[39;00m\n\u001b[1;32m     24\u001b[0m     sentence \u001b[38;5;241m=\u001b[39m \u001b[38;5;28;01mNone\u001b[39;00m\n\u001b[1;32m     26\u001b[0m     \u001b[38;5;66;03m# convert list to tuple\u001b[39;00m\n\u001b[1;32m     27\u001b[0m     \u001b[38;5;66;03m# So that the sequence of words can be used as\u001b[39;00m\n\u001b[1;32m     28\u001b[0m     \u001b[38;5;66;03m# a key in the dictionary\u001b[39;00m\n",
      "\u001b[0;31mTypeError\u001b[0m: 'NoneType' object is not iterable"
     ]
    }
   ],
   "source": [
    "# test your code\n",
    "\n",
    "sentences = [['i', 'like', 'a', 'cat'],\n",
    "                 ['this', 'dog', 'is', 'like', 'a', 'cat']]\n",
    "unique_words = list(set(sentences[0] + sentences[1]))\n",
    "\n",
    "unigram_counts = count_n_grams(sentences, 1)\n",
    "bigram_counts = count_n_grams(sentences, 2)\n",
    "\n",
    "\n",
    "perplexity_train1 = calculate_perplexity(sentences[0],\n",
    "                                         unigram_counts, bigram_counts,\n",
    "                                         len(unique_words), k=1.0)\n",
    "print(f\"Perplexity for first train sample: {perplexity_train1:.4f}\")\n",
    "\n",
    "test_sentence = ['i', 'like', 'a', 'dog']\n",
    "perplexity_test = calculate_perplexity(test_sentence,\n",
    "                                       unigram_counts, bigram_counts,\n",
    "                                       len(unique_words), k=1.0)\n",
    "print(f\"Perplexity for test sample: {perplexity_test:.4f}\")"
   ]
  },
  {
   "cell_type": "code",
   "execution_count": 37,
   "id": "6ac97347",
   "metadata": {},
   "outputs": [],
   "source": [
    "# UNQ_C11 (UNIQUE CELL IDENTIFIER, DO NOT EDIT)\n",
    "# GRADED FUNCTION: suggest_a_word\n",
    "def suggest_a_word(previous_tokens, n_gram_counts, n_plus1_gram_counts, vocabulary, k=1.0, start_with=None):\n",
    "    \"\"\"\n",
    "    Get suggestion for the next word\n",
    "    \n",
    "    Args:\n",
    "        previous_tokens: The sentence you input where each token is a word. Must have length > n \n",
    "        n_gram_counts: Dictionary of counts of (n+1)-grams\n",
    "        n_plus1_gram_counts: Dictionary of counts of (n+1)-grams\n",
    "        vocabulary: List of words\n",
    "        k: positive constant, smoothing parameter\n",
    "        start_with: If not None, specifies the first few letters of the next word\n",
    "        \n",
    "    Returns:\n",
    "        A tuple of \n",
    "          - string of the most likely next word\n",
    "          - corresponding probability\n",
    "    \"\"\"\n",
    "    \n",
    "    # length of previous words\n",
    "    n = len(list(n_gram_counts.keys())[0]) \n",
    "    \n",
    "    # From the words that the user already typed\n",
    "    # get the most recent 'n' words as the previous n-gram\n",
    "    previous_n_gram = previous_tokens[-n:]\n",
    "\n",
    "    # Estimate the probabilities that each word in the vocabulary\n",
    "    # is the next word,\n",
    "    # given the previous n-gram, the dictionary of n-gram counts,\n",
    "    # the dictionary of n plus 1 gram counts, and the smoothing constant\n",
    "    probabilities = estimate_probabilities(previous_n_gram,\n",
    "                                           n_gram_counts, n_plus1_gram_counts,\n",
    "                                           vocabulary, k=k)\n",
    "    \n",
    "    # Initialize suggested word to None\n",
    "    # This will be set to the word with highest probability\n",
    "    suggestion = None\n",
    "    \n",
    "    # Initialize the highest word probability to 0\n",
    "    # this will be set to the highest probability \n",
    "    # of all words to be suggested\n",
    "    max_prob = 0\n",
    "    \n",
    "    ### START CODE HERE (Replace instances of 'None' with your code) ###\n",
    "    \n",
    "    # For each word and its probability in the probabilities dictionary:\n",
    "    for word, prob in None: # complete this line\n",
    "        \n",
    "        # If the optional start_with string is set\n",
    "        if None: # complete this line\n",
    "            \n",
    "            # Check if the beginning of word does not match with the letters in 'start_with'\n",
    "            if None: # complete this line\n",
    "\n",
    "                # if they don't match, skip this word (move onto the next word)\n",
    "                None # complete this line\n",
    "        \n",
    "        # Check if this word's probability\n",
    "        # is greater than the current maximum probability\n",
    "        if None: # complete this line\n",
    "            \n",
    "            # If so, save this word as the best suggestion (so far)\n",
    "            suggestion = None\n",
    "            \n",
    "            # Save the new maximum probability\n",
    "            max_prob = None\n",
    "\n",
    "    ### END CODE HERE\n",
    "    \n",
    "    return suggestion, max_prob"
   ]
  },
  {
   "cell_type": "code",
   "execution_count": 38,
   "id": "e16cf123",
   "metadata": {},
   "outputs": [
    {
     "ename": "TypeError",
     "evalue": "'NoneType' object is not iterable",
     "output_type": "error",
     "traceback": [
      "\u001b[0;31m---------------------------------------------------------------------------\u001b[0m",
      "\u001b[0;31mTypeError\u001b[0m                                 Traceback (most recent call last)",
      "Cell \u001b[0;32mIn[37], line 6\u001b[0m\n\u001b[1;32m      2\u001b[0m sentences \u001b[38;5;241m=\u001b[39m [[\u001b[38;5;124m'\u001b[39m\u001b[38;5;124mi\u001b[39m\u001b[38;5;124m'\u001b[39m, \u001b[38;5;124m'\u001b[39m\u001b[38;5;124mlike\u001b[39m\u001b[38;5;124m'\u001b[39m, \u001b[38;5;124m'\u001b[39m\u001b[38;5;124ma\u001b[39m\u001b[38;5;124m'\u001b[39m, \u001b[38;5;124m'\u001b[39m\u001b[38;5;124mcat\u001b[39m\u001b[38;5;124m'\u001b[39m],\n\u001b[1;32m      3\u001b[0m              [\u001b[38;5;124m'\u001b[39m\u001b[38;5;124mthis\u001b[39m\u001b[38;5;124m'\u001b[39m, \u001b[38;5;124m'\u001b[39m\u001b[38;5;124mdog\u001b[39m\u001b[38;5;124m'\u001b[39m, \u001b[38;5;124m'\u001b[39m\u001b[38;5;124mis\u001b[39m\u001b[38;5;124m'\u001b[39m, \u001b[38;5;124m'\u001b[39m\u001b[38;5;124mlike\u001b[39m\u001b[38;5;124m'\u001b[39m, \u001b[38;5;124m'\u001b[39m\u001b[38;5;124ma\u001b[39m\u001b[38;5;124m'\u001b[39m, \u001b[38;5;124m'\u001b[39m\u001b[38;5;124mcat\u001b[39m\u001b[38;5;124m'\u001b[39m]]\n\u001b[1;32m      4\u001b[0m unique_words \u001b[38;5;241m=\u001b[39m \u001b[38;5;28mlist\u001b[39m(\u001b[38;5;28mset\u001b[39m(sentences[\u001b[38;5;241m0\u001b[39m] \u001b[38;5;241m+\u001b[39m sentences[\u001b[38;5;241m1\u001b[39m]))\n\u001b[0;32m----> 6\u001b[0m unigram_counts \u001b[38;5;241m=\u001b[39m \u001b[43mcount_n_grams\u001b[49m\u001b[43m(\u001b[49m\u001b[43msentences\u001b[49m\u001b[43m,\u001b[49m\u001b[43m \u001b[49m\u001b[38;5;241;43m1\u001b[39;49m\u001b[43m)\u001b[49m\n\u001b[1;32m      7\u001b[0m bigram_counts \u001b[38;5;241m=\u001b[39m count_n_grams(sentences, \u001b[38;5;241m2\u001b[39m)\n\u001b[1;32m      9\u001b[0m previous_tokens \u001b[38;5;241m=\u001b[39m [\u001b[38;5;124m\"\u001b[39m\u001b[38;5;124mi\u001b[39m\u001b[38;5;124m\"\u001b[39m, \u001b[38;5;124m\"\u001b[39m\u001b[38;5;124mlike\u001b[39m\u001b[38;5;124m\"\u001b[39m]\n",
      "Cell \u001b[0;32mIn[21], line 21\u001b[0m, in \u001b[0;36mcount_n_grams\u001b[0;34m(data, n, start_token, end_token)\u001b[0m\n\u001b[1;32m     16\u001b[0m n_grams \u001b[38;5;241m=\u001b[39m {}\n\u001b[1;32m     18\u001b[0m \u001b[38;5;66;03m### START CODE HERE (Replace instances of 'None' with your code) ###\u001b[39;00m\n\u001b[1;32m     19\u001b[0m \n\u001b[1;32m     20\u001b[0m \u001b[38;5;66;03m# Go through each sentence in the data\u001b[39;00m\n\u001b[0;32m---> 21\u001b[0m \u001b[38;5;28;01mfor\u001b[39;00m sentence \u001b[38;5;129;01min\u001b[39;00m \u001b[38;5;28;01mNone\u001b[39;00m: \u001b[38;5;66;03m# complete this line\u001b[39;00m\n\u001b[1;32m     22\u001b[0m     \n\u001b[1;32m     23\u001b[0m     \u001b[38;5;66;03m# prepend start token n times, and  append <e> one time\u001b[39;00m\n\u001b[1;32m     24\u001b[0m     sentence \u001b[38;5;241m=\u001b[39m \u001b[38;5;28;01mNone\u001b[39;00m\n\u001b[1;32m     26\u001b[0m     \u001b[38;5;66;03m# convert list to tuple\u001b[39;00m\n\u001b[1;32m     27\u001b[0m     \u001b[38;5;66;03m# So that the sequence of words can be used as\u001b[39;00m\n\u001b[1;32m     28\u001b[0m     \u001b[38;5;66;03m# a key in the dictionary\u001b[39;00m\n",
      "\u001b[0;31mTypeError\u001b[0m: 'NoneType' object is not iterable"
     ]
    }
   ],
   "source": [
    "# test your code\n",
    "sentences = [['i', 'like', 'a', 'cat'],\n",
    "             ['this', 'dog', 'is', 'like', 'a', 'cat']]\n",
    "unique_words = list(set(sentences[0] + sentences[1]))\n",
    "\n",
    "unigram_counts = count_n_grams(sentences, 1)\n",
    "bigram_counts = count_n_grams(sentences, 2)\n",
    "\n",
    "previous_tokens = [\"i\", \"like\"]\n",
    "tmp_suggest1 = suggest_a_word(previous_tokens, unigram_counts, bigram_counts, unique_words, k=1.0)\n",
    "print(f\"The previous words are 'i like',\\n\\tand the suggested word is `{tmp_suggest1[0]}` with a probability of {tmp_suggest1[1]:.4f}\")\n",
    "\n",
    "print()\n",
    "# test your code when setting the starts_with\n",
    "tmp_starts_with = 'c'\n",
    "tmp_suggest2 = suggest_a_word(previous_tokens, unigram_counts, bigram_counts, unique_words, k=1.0, start_with=tmp_starts_with)\n",
    "print(f\"The previous words are 'i like', the suggestion must start with `{tmp_starts_with}`\\n\\tand the suggested word is `{tmp_suggest2[0]}` with a probability of {tmp_suggest2[1]:.4f}\")"
   ]
  },
  {
   "cell_type": "code",
   "execution_count": 39,
   "id": "4731a3c6",
   "metadata": {},
   "outputs": [],
   "source": [
    "def get_suggestions(previous_tokens, n_gram_counts_list, vocabulary, k=1.0, start_with=None):\n",
    "    model_counts = len(n_gram_counts_list)\n",
    "    suggestions = []\n",
    "    for i in range(model_counts-1):\n",
    "        n_gram_counts = n_gram_counts_list[i]\n",
    "        n_plus1_gram_counts = n_gram_counts_list[i+1]\n",
    "        \n",
    "        suggestion = suggest_a_word(previous_tokens, n_gram_counts,\n",
    "                                    n_plus1_gram_counts, vocabulary,\n",
    "                                    k=k, start_with=start_with)\n",
    "        suggestions.append(suggestion)\n",
    "    return suggestions"
   ]
  },
  {
   "cell_type": "code",
   "execution_count": 40,
   "id": "2765c217",
   "metadata": {},
   "outputs": [
    {
     "ename": "TypeError",
     "evalue": "'NoneType' object is not iterable",
     "output_type": "error",
     "traceback": [
      "\u001b[0;31m---------------------------------------------------------------------------\u001b[0m",
      "\u001b[0;31mTypeError\u001b[0m                                 Traceback (most recent call last)",
      "Cell \u001b[0;32mIn[39], line 6\u001b[0m\n\u001b[1;32m      2\u001b[0m sentences \u001b[38;5;241m=\u001b[39m [[\u001b[38;5;124m'\u001b[39m\u001b[38;5;124mi\u001b[39m\u001b[38;5;124m'\u001b[39m, \u001b[38;5;124m'\u001b[39m\u001b[38;5;124mlike\u001b[39m\u001b[38;5;124m'\u001b[39m, \u001b[38;5;124m'\u001b[39m\u001b[38;5;124ma\u001b[39m\u001b[38;5;124m'\u001b[39m, \u001b[38;5;124m'\u001b[39m\u001b[38;5;124mcat\u001b[39m\u001b[38;5;124m'\u001b[39m],\n\u001b[1;32m      3\u001b[0m              [\u001b[38;5;124m'\u001b[39m\u001b[38;5;124mthis\u001b[39m\u001b[38;5;124m'\u001b[39m, \u001b[38;5;124m'\u001b[39m\u001b[38;5;124mdog\u001b[39m\u001b[38;5;124m'\u001b[39m, \u001b[38;5;124m'\u001b[39m\u001b[38;5;124mis\u001b[39m\u001b[38;5;124m'\u001b[39m, \u001b[38;5;124m'\u001b[39m\u001b[38;5;124mlike\u001b[39m\u001b[38;5;124m'\u001b[39m, \u001b[38;5;124m'\u001b[39m\u001b[38;5;124ma\u001b[39m\u001b[38;5;124m'\u001b[39m, \u001b[38;5;124m'\u001b[39m\u001b[38;5;124mcat\u001b[39m\u001b[38;5;124m'\u001b[39m]]\n\u001b[1;32m      4\u001b[0m unique_words \u001b[38;5;241m=\u001b[39m \u001b[38;5;28mlist\u001b[39m(\u001b[38;5;28mset\u001b[39m(sentences[\u001b[38;5;241m0\u001b[39m] \u001b[38;5;241m+\u001b[39m sentences[\u001b[38;5;241m1\u001b[39m]))\n\u001b[0;32m----> 6\u001b[0m unigram_counts \u001b[38;5;241m=\u001b[39m \u001b[43mcount_n_grams\u001b[49m\u001b[43m(\u001b[49m\u001b[43msentences\u001b[49m\u001b[43m,\u001b[49m\u001b[43m \u001b[49m\u001b[38;5;241;43m1\u001b[39;49m\u001b[43m)\u001b[49m\n\u001b[1;32m      7\u001b[0m bigram_counts \u001b[38;5;241m=\u001b[39m count_n_grams(sentences, \u001b[38;5;241m2\u001b[39m)\n\u001b[1;32m      8\u001b[0m trigram_counts \u001b[38;5;241m=\u001b[39m count_n_grams(sentences, \u001b[38;5;241m3\u001b[39m)\n",
      "Cell \u001b[0;32mIn[21], line 21\u001b[0m, in \u001b[0;36mcount_n_grams\u001b[0;34m(data, n, start_token, end_token)\u001b[0m\n\u001b[1;32m     16\u001b[0m n_grams \u001b[38;5;241m=\u001b[39m {}\n\u001b[1;32m     18\u001b[0m \u001b[38;5;66;03m### START CODE HERE (Replace instances of 'None' with your code) ###\u001b[39;00m\n\u001b[1;32m     19\u001b[0m \n\u001b[1;32m     20\u001b[0m \u001b[38;5;66;03m# Go through each sentence in the data\u001b[39;00m\n\u001b[0;32m---> 21\u001b[0m \u001b[38;5;28;01mfor\u001b[39;00m sentence \u001b[38;5;129;01min\u001b[39;00m \u001b[38;5;28;01mNone\u001b[39;00m: \u001b[38;5;66;03m# complete this line\u001b[39;00m\n\u001b[1;32m     22\u001b[0m     \n\u001b[1;32m     23\u001b[0m     \u001b[38;5;66;03m# prepend start token n times, and  append <e> one time\u001b[39;00m\n\u001b[1;32m     24\u001b[0m     sentence \u001b[38;5;241m=\u001b[39m \u001b[38;5;28;01mNone\u001b[39;00m\n\u001b[1;32m     26\u001b[0m     \u001b[38;5;66;03m# convert list to tuple\u001b[39;00m\n\u001b[1;32m     27\u001b[0m     \u001b[38;5;66;03m# So that the sequence of words can be used as\u001b[39;00m\n\u001b[1;32m     28\u001b[0m     \u001b[38;5;66;03m# a key in the dictionary\u001b[39;00m\n",
      "\u001b[0;31mTypeError\u001b[0m: 'NoneType' object is not iterable"
     ]
    }
   ],
   "source": [
    "# test your code\n",
    "sentences = [['i', 'like', 'a', 'cat'],\n",
    "             ['this', 'dog', 'is', 'like', 'a', 'cat']]\n",
    "unique_words = list(set(sentences[0] + sentences[1]))\n",
    "\n",
    "unigram_counts = count_n_grams(sentences, 1)\n",
    "bigram_counts = count_n_grams(sentences, 2)\n",
    "trigram_counts = count_n_grams(sentences, 3)\n",
    "quadgram_counts = count_n_grams(sentences, 4)\n",
    "qintgram_counts = count_n_grams(sentences, 5)\n",
    "\n",
    "n_gram_counts_list = [unigram_counts, bigram_counts, trigram_counts, quadgram_counts, qintgram_counts]\n",
    "previous_tokens = [\"i\", \"like\"]\n",
    "tmp_suggest3 = get_suggestions(previous_tokens, n_gram_counts_list, unique_words, k=1.0)\n",
    "\n",
    "print(f\"The previous words are 'i like', the suggestions are:\")\n",
    "display(tmp_suggest3)"
   ]
  },
  {
   "cell_type": "code",
   "execution_count": 41,
   "id": "f3994842",
   "metadata": {},
   "outputs": [
    {
     "name": "stdout",
     "output_type": "stream",
     "text": [
      "Computing n-gram counts with n = 1 ...\n"
     ]
    },
    {
     "ename": "NameError",
     "evalue": "name 'train_data_processed' is not defined",
     "output_type": "error",
     "traceback": [
      "\u001b[0;31m---------------------------------------------------------------------------\u001b[0m",
      "\u001b[0;31mNameError\u001b[0m                                 Traceback (most recent call last)",
      "Cell \u001b[0;32mIn[40], line 4\u001b[0m\n\u001b[1;32m      2\u001b[0m \u001b[38;5;28;01mfor\u001b[39;00m n \u001b[38;5;129;01min\u001b[39;00m \u001b[38;5;28mrange\u001b[39m(\u001b[38;5;241m1\u001b[39m, \u001b[38;5;241m6\u001b[39m):\n\u001b[1;32m      3\u001b[0m     \u001b[38;5;28mprint\u001b[39m(\u001b[38;5;124m\"\u001b[39m\u001b[38;5;124mComputing n-gram counts with n =\u001b[39m\u001b[38;5;124m\"\u001b[39m, n, \u001b[38;5;124m\"\u001b[39m\u001b[38;5;124m...\u001b[39m\u001b[38;5;124m\"\u001b[39m)\n\u001b[0;32m----> 4\u001b[0m     n_model_counts \u001b[38;5;241m=\u001b[39m count_n_grams(\u001b[43mtrain_data_processed\u001b[49m, n)\n\u001b[1;32m      5\u001b[0m     n_gram_counts_list\u001b[38;5;241m.\u001b[39mappend(n_model_counts)\n",
      "\u001b[0;31mNameError\u001b[0m: name 'train_data_processed' is not defined"
     ]
    }
   ],
   "source": [
    "n_gram_counts_list = []\n",
    "for n in range(1, 6):\n",
    "    print(\"Computing n-gram counts with n =\", n, \"...\")\n",
    "    n_model_counts = count_n_grams(train_data_processed, n)\n",
    "    n_gram_counts_list.append(n_model_counts)"
   ]
  },
  {
   "cell_type": "code",
   "execution_count": 42,
   "id": "26fc299b",
   "metadata": {},
   "outputs": [
    {
     "name": "stdout",
     "output_type": "stream",
     "text": [
      "The previous words are ['i', 'am', 'to'], the suggestions are:\n"
     ]
    },
    {
     "data": {
      "text/plain": [
       "[]"
      ]
     },
     "metadata": {},
     "output_type": "display_data"
    }
   ],
   "source": [
    "previous_tokens = [\"i\", \"am\", \"to\"]\n",
    "tmp_suggest4 = get_suggestions(previous_tokens, n_gram_counts_list, vocabulary, k=1.0)\n",
    "\n",
    "print(f\"The previous words are {previous_tokens}, the suggestions are:\")\n",
    "display(tmp_suggest4)"
   ]
  },
  {
   "cell_type": "code",
   "execution_count": 43,
   "id": "bbd68e05",
   "metadata": {},
   "outputs": [
    {
     "name": "stdout",
     "output_type": "stream",
     "text": [
      "The previous words are ['i', 'want', 'to', 'go'], the suggestions are:\n"
     ]
    },
    {
     "data": {
      "text/plain": [
       "[]"
      ]
     },
     "metadata": {},
     "output_type": "display_data"
    }
   ],
   "source": [
    "previous_tokens = [\"i\", \"want\", \"to\", \"go\"]\n",
    "tmp_suggest5 = get_suggestions(previous_tokens, n_gram_counts_list, vocabulary, k=1.0)\n",
    "\n",
    "print(f\"The previous words are {previous_tokens}, the suggestions are:\")\n",
    "display(tmp_suggest5)"
   ]
  },
  {
   "cell_type": "code",
   "execution_count": 44,
   "id": "f473ccbc",
   "metadata": {},
   "outputs": [
    {
     "name": "stdout",
     "output_type": "stream",
     "text": [
      "The previous words are ['hey', 'how', 'are'], the suggestions are:\n"
     ]
    },
    {
     "data": {
      "text/plain": [
       "[]"
      ]
     },
     "metadata": {},
     "output_type": "display_data"
    }
   ],
   "source": [
    "previous_tokens = [\"hey\", \"how\", \"are\"]\n",
    "tmp_suggest6 = get_suggestions(previous_tokens, n_gram_counts_list, vocabulary, k=1.0)\n",
    "\n",
    "print(f\"The previous words are {previous_tokens}, the suggestions are:\")\n",
    "display(tmp_suggest6)"
   ]
  },
  {
   "cell_type": "code",
   "execution_count": 45,
   "id": "92ccbbf5",
   "metadata": {},
   "outputs": [
    {
     "name": "stdout",
     "output_type": "stream",
     "text": [
      "The previous words are ['hey', 'how', 'are', 'you'], the suggestions are:\n"
     ]
    },
    {
     "data": {
      "text/plain": [
       "[]"
      ]
     },
     "metadata": {},
     "output_type": "display_data"
    }
   ],
   "source": [
    "previous_tokens = [\"hey\", \"how\", \"are\", \"you\"]\n",
    "tmp_suggest7 = get_suggestions(previous_tokens, n_gram_counts_list, vocabulary, k=1.0)\n",
    "\n",
    "print(f\"The previous words are {previous_tokens}, the suggestions are:\")\n",
    "display(tmp_suggest7)"
   ]
  },
  {
   "cell_type": "code",
   "execution_count": 46,
   "id": "60e28094",
   "metadata": {},
   "outputs": [
    {
     "name": "stdout",
     "output_type": "stream",
     "text": [
      "The previous words are ['hey', 'how', 'are', 'you'], the suggestions are:\n"
     ]
    },
    {
     "data": {
      "text/plain": [
       "[]"
      ]
     },
     "metadata": {},
     "output_type": "display_data"
    }
   ],
   "source": [
    "previous_tokens = [\"hey\", \"how\", \"are\", \"you\"]\n",
    "tmp_suggest8 = get_suggestions(previous_tokens, n_gram_counts_list, vocabulary, k=1.0, start_with=\"d\")\n",
    "\n",
    "print(f\"The previous words are {previous_tokens}, the suggestions are:\")\n",
    "display(tmp_suggest8)"
   ]
  }
 ],
 "metadata": {
  "kernelspec": {
   "display_name": "Python 3 (ipykernel)",
   "language": "python",
   "name": "python3",
   "path": "/home/oren/.local/share/jupyter/kernels/python3"
  },
  "language_info": {
   "codemirror_mode": {
    "name": "ipython",
    "version": 3
   },
   "file_extension": ".py",
   "mimetype": "text/x-python",
   "name": "python",
   "nbconvert_exporter": "python",
   "pygments_lexer": "ipython3",
   "version": "3.10.12"
  }
 },
 "nbformat": 4,
 "nbformat_minor": 5
}