{
 "cells": [
  {
   "cell_type": "code",
   "execution_count": 1,
   "id": "da1b9a8d",
   "metadata": {},
   "outputs": [
    {
     "name": "stderr",
     "output_type": "stream",
     "text": [
      "/tmp/ipykernel_57666/2546107514.py:25: DeprecationWarning: `set_matplotlib_formats` is deprecated since IPython 7.23, directly use `matplotlib_inline.backend_inline.set_matplotlib_formats()`\n",
      "  set_matplotlib_formats(fig_format)\n"
     ]
    },
    {
     "name": "stdout",
     "output_type": "stream",
     "text": [
      "{\"/usr/lib/python3.10/importlib/_bootstrap.py\": 1737124534.0, \"/usr/lib/python3.10/importlib/_bootstrap_external.py\": 1737124534.0, \"/usr/lib/python3.10/codecs.py\": 1737124534.0, \"/usr/lib/python3.10/encodings/aliases.py\": 1737124534.0, \"/usr/lib/python3.10/encodings/__init__.py\": 1737124534.0, \"/usr/lib/python3.10/encodings/utf_8.py\": 1737124534.0, \"/usr/lib/python3.10/abc.py\": 1737124534.0, \"/usr/lib/python3.10/io.py\": 1737124534.0, \"/usr/lib/python3.10/stat.py\": 1737124534.0, \"/usr/lib/python3.10/_collections_abc.py\": 1737124534.0, \"/usr/lib/python3.10/genericpath.py\": 1737124534.0, \"/usr/lib/python3.10/posixpath.py\": 1737124534.0, \"/usr/lib/python3.10/os.py\": 1737124534.0, \"/usr/lib/python3.10/_sitebuiltins.py\": 1737124534.0, \"/usr/lib/python3.10/types.py\": 1737124534.0, \"/usr/lib/python3.10/warnings.py\": 1737124534.0, \"/usr/lib/python3.10/importlib/__init__.py\": 1737124534.0, \"/usr/lib/python3.10/importlib/_abc.py\": 1737124534.0, \"/usr/lib/python3.10/keyword.py\": 1737124534.0, \"/usr/lib/python3.10/operator.py\": 1737124534.0, \"/usr/lib/python3.10/reprlib.py\": 1737124534.0, \"/usr/lib/python3.10/collections/__init__.py\": 1737124534.0, \"/usr/lib/python3.10/functools.py\": 1737124534.0, \"/usr/lib/python3.10/contextlib.py\": 1737124534.0, \"/usr/lib/python3.10/importlib/util.py\": 1737124534.0, \"/usr/lib/python3.10/importlib/machinery.py\": 1737124534.0, \"/usr/lib/python3.10/sitecustomize.py\": 1648890259.0, \"/usr/lib/python3.10/site.py\": 1737124534.0, \"/usr/lib/python3.10/runpy.py\": 1737124534.0, \"/usr/lib/python3.10/enum.py\": 1737124534.0, \"/usr/lib/python3.10/sre_constants.py\": 1737124534.0, \"/usr/lib/python3.10/sre_parse.py\": 1737124534.0, \"/usr/lib/python3.10/sre_compile.py\": 1737124534.0, \"/usr/lib/python3.10/copyreg.py\": 1737124534.0, \"/usr/lib/python3.10/re.py\": 1737124534.0, \"/usr/lib/python3.10/fnmatch.py\": 1737124534.0, \"/usr/lib/python3.10/ntpath.py\": 1737124534.0, \"/usr/lib/python3.10/urllib/__init__.py\": 1737124534.0, \"/usr/lib/python3.10/ipaddress.py\": 1737124534.0, \"/usr/lib/python3.10/urllib/parse.py\": 1737124534.0, \"/usr/lib/python3.10/pathlib.py\": 1737124534.0, \"/usr/lib/python3.10/collections/abc.py\": 1737124534.0, \"/usr/lib/python3.10/typing.py\": 1737124534.0, \"/home/oren/work/notes/notes-nlp/.venv/lib/python3.10/site-packages/ipykernel/_version.py\": 1738211119.9207983, \"/usr/lib/python3.10/__future__.py\": 1737124534.0, \"/usr/lib/python3.10/lib-dynload/_json.cpython-310-x86_64-linux-gnu.so\": 1737124534.0, \"/usr/lib/python3.10/json/scanner.py\": 1737124534.0, \"/usr/lib/python3.10/json/decoder.py\": 1737124534.0, \"/usr/lib/python3.10/json/encoder.py\": 1737124534.0, \"/usr/lib/python3.10/json/__init__.py\": 1737124534.0, \"/usr/lib/python3.10/signal.py\": 1737124534.0, \"/usr/lib/python3.10/_weakrefset.py\": 1737124534.0, \"/usr/lib/python3.10/threading.py\": 1737124534.0, \"/usr/lib/python3.10/selectors.py\": 1737124534.0, \"/usr/lib/python3.10/subprocess.py\": 1737124534.0, \"/home/oren/work/notes/notes-nlp/.venv/lib/python3.10/site-packages/jupyter_client/_version.py\": 1738211114.6098826, \"/usr/lib/python3.10/platform.py\": 1737124534.0, \"/home/oren/work/notes/notes-nlp/.venv/lib/python3.10/site-packages/zmq/backend/select.py\": 1738206368.5046568, \"/usr/lib/python3.10/weakref.py\": 1737124534.0, \"/home/oren/work/notes/notes-nlp/.venv/lib/python3.10/site-packages/zmq/constants.py\": 1738206368.5006568, \"/home/oren/work/notes/notes-nlp/.venv/lib/python3.10/site-packages/zmq/error.py\": 1738206368.499657, \"/home/oren/work/notes/notes-nlp/.venv/lib/python3.10/site-packages/zmq/backend/cython/_zmq.cpython-310-x86_64-linux-gnu.so\": 1738206368.506657, \"/home/oren/work/notes/notes-nlp/.venv/lib/python3.10/site-packages/zmq/backend/cython/__init__.py\": 1738206368.5076568, \"/home/oren/work/notes/notes-nlp/.venv/lib/python3.10/site-packages/zmq/backend/__init__.py\": 1738206368.5046568, \"/home/oren/work/notes/notes-nlp/.venv/lib/python3.10/site-packages/zmq/_typing.py\": 1738206368.5006568, \"/home/oren/work/notes/notes-nlp/.venv/lib/python3.10/site-packages/zmq/utils/__init__.py\": 1738206368.502657, \"/home/oren/work/notes/notes-nlp/.venv/lib/python3.10/site-packages/zmq/utils/interop.py\": 1738206368.502657, \"/home/oren/work/notes/notes-nlp/.venv/lib/python3.10/site-packages/zmq/sugar/attrsettr.py\": 1738206368.502657, \"/usr/lib/python3.10/struct.py\": 1737124534.0, \"/usr/lib/python3.10/_compat_pickle.py\": 1737124534.0, \"/usr/lib/python3.10/pickle.py\": 1737124534.0, \"/usr/lib/python3.10/bisect.py\": 1737124534.0, \"/usr/lib/python3.10/random.py\": 1737124534.0, \"/home/oren/work/notes/notes-nlp/.venv/lib/python3.10/site-packages/zmq/utils/jsonapi.py\": 1738206368.5036569, \"/home/oren/work/notes/notes-nlp/.venv/lib/python3.10/site-packages/zmq/sugar/poll.py\": 1738206368.5016568, \"/home/oren/work/notes/notes-nlp/.venv/lib/python3.10/site-packages/zmq/sugar/socket.py\": 1738206368.5016568, \"/home/oren/work/notes/notes-nlp/.venv/lib/python3.10/site-packages/zmq/sugar/context.py\": 1738206368.5016568, \"/home/oren/work/notes/notes-nlp/.venv/lib/python3.10/site-packages/zmq/sugar/frame.py\": 1738206368.5016568, \"/home/oren/work/notes/notes-nlp/.venv/lib/python3.10/site-packages/zmq/sugar/tracker.py\": 1738206368.5016568, \"/home/oren/work/notes/notes-nlp/.venv/lib/python3.10/site-packages/zmq/sugar/version.py\": 1738206368.502657, \"/home/oren/work/notes/notes-nlp/.venv/lib/python3.10/site-packages/zmq/sugar/stopwatch.py\": 1738206368.5016568, \"/home/oren/work/notes/notes-nlp/.venv/lib/python3.10/site-packages/zmq/sugar/__init__.py\": 1738206368.502657, \"/home/oren/work/notes/notes-nlp/.venv/lib/python3.10/site-packages/zmq/__init__.py\": 1738206368.5006568, \"/usr/lib/python3.10/concurrent/__init__.py\": 1737124534.0, \"/usr/lib/python3.10/token.py\": 1737124534.0, \"/usr/lib/python3.10/tokenize.py\": 1737124534.0, \"/usr/lib/python3.10/linecache.py\": 1737124534.0, \"/usr/lib/python3.10/traceback.py\": 1737124534.0, \"/usr/lib/python3.10/string.py\": 1737124534.0, \"/usr/lib/python3.10/logging/__init__.py\": 1737124534.0, \"/usr/lib/python3.10/concurrent/futures/_base.py\": 1737124534.0, \"/usr/lib/python3.10/concurrent/futures/__init__.py\": 1737124534.0, \"/usr/lib/python3.10/heapq.py\": 1737124534.0, \"/usr/lib/python3.10/socket.py\": 1737124534.0, \"/usr/lib/python3.10/lib-dynload/_ssl.cpython-310-x86_64-linux-gnu.so\": 1737124534.0, \"/usr/lib/python3.10/base64.py\": 1737124534.0, \"/usr/lib/python3.10/ssl.py\": 1737124534.0, \"/usr/lib/python3.10/asyncio/constants.py\": 1737124534.0, \"/usr/lib/python3.10/ast.py\": 1737124534.0, \"/usr/lib/python3.10/lib-dynload/_opcode.cpython-310-x86_64-linux-gnu.so\": 1737124534.0, \"/usr/lib/python3.10/opcode.py\": 1737124534.0, \"/usr/lib/python3.10/dis.py\": 1737124534.0, \"/usr/lib/python3.10/inspect.py\": 1737124534.0, \"/usr/lib/python3.10/asyncio/format_helpers.py\": 1737124534.0, \"/usr/lib/python3.10/asyncio/base_futures.py\": 1737124534.0, \"/usr/lib/python3.10/asyncio/log.py\": 1737124534.0, \"/usr/lib/python3.10/asyncio/coroutines.py\": 1737124534.0, \"/usr/lib/python3.10/lib-dynload/_contextvars.cpython-310-x86_64-linux-gnu.so\": 1737124534.0, \"/usr/lib/python3.10/contextvars.py\": 1737124534.0, \"/usr/lib/python3.10/asyncio/exceptions.py\": 1737124534.0, \"/usr/lib/python3.10/asyncio/base_tasks.py\": 1737124534.0, \"/usr/lib/python3.10/lib-dynload/_asyncio.cpython-310-x86_64-linux-gnu.so\": 1737124534.0, \"/usr/lib/python3.10/asyncio/events.py\": 1737124534.0, \"/usr/lib/python3.10/asyncio/futures.py\": 1737124534.0, \"/usr/lib/python3.10/asyncio/protocols.py\": 1737124534.0, \"/usr/lib/python3.10/asyncio/transports.py\": 1737124534.0, \"/usr/lib/python3.10/asyncio/sslproto.py\": 1737124534.0, \"/usr/lib/python3.10/asyncio/mixins.py\": 1737124534.0, \"/usr/lib/python3.10/asyncio/tasks.py\": 1737124534.0, \"/usr/lib/python3.10/asyncio/locks.py\": 1737124534.0, \"/usr/lib/python3.10/asyncio/staggered.py\": 1737124534.0, \"/usr/lib/python3.10/asyncio/trsock.py\": 1737124534.0, \"/usr/lib/python3.10/asyncio/base_events.py\": 1737124534.0, \"/usr/lib/python3.10/asyncio/runners.py\": 1737124534.0, \"/usr/lib/python3.10/asyncio/queues.py\": 1737124534.0, \"/usr/lib/python3.10/asyncio/streams.py\": 1737124534.0, \"/usr/lib/python3.10/asyncio/subprocess.py\": 1737124534.0, \"/usr/lib/python3.10/asyncio/threads.py\": 1737124534.0, \"/usr/lib/python3.10/asyncio/base_subprocess.py\": 1737124534.0, \"/usr/lib/python3.10/asyncio/selector_events.py\": 1737124534.0, \"/usr/lib/python3.10/asyncio/unix_events.py\": 1737124534.0, \"/usr/lib/python3.10/asyncio/__init__.py\": 1737124534.0, \"/home/oren/work/notes/notes-nlp/.venv/lib/python3.10/site-packages/zmq/_future.py\": 1738206368.5006568, \"/home/oren/work/notes/notes-nlp/.venv/lib/python3.10/site-packages/zmq/asyncio.py\": 1738206368.5006568, \"/home/oren/work/notes/notes-nlp/.venv/lib/python3.10/site-packages/traitlets/utils/__init__.py\": 1738206367.9186664, \"/home/oren/work/notes/notes-nlp/.venv/lib/python3.10/site-packages/traitlets/utils/bunch.py\": 1738206367.9186664, \"/home/oren/work/notes/notes-nlp/.venv/lib/python3.10/site-packages/traitlets/utils/descriptions.py\": 1738206367.9186664, \"/home/oren/work/notes/notes-nlp/.venv/lib/python3.10/site-packages/traitlets/utils/getargspec.py\": 1738206367.9186664, \"/home/oren/work/notes/notes-nlp/.venv/lib/python3.10/site-packages/traitlets/utils/importstring.py\": 1738206367.9186664, \"/home/oren/work/notes/notes-nlp/.venv/lib/python3.10/site-packages/traitlets/utils/sentinel.py\": 1738206367.9186664, \"/home/oren/work/notes/notes-nlp/.venv/lib/python3.10/site-packages/traitlets/utils/warnings.py\": 1738206367.9186664, \"/home/oren/work/notes/notes-nlp/.venv/lib/python3.10/site-packages/traitlets/traitlets.py\": 1738206367.9166663, \"/home/oren/work/notes/notes-nlp/.venv/lib/python3.10/site-packages/traitlets/_version.py\": 1738206367.9166663, \"/usr/lib/python3.10/copy.py\": 1737124534.0, \"/home/oren/work/notes/notes-nlp/.venv/lib/python3.10/site-packages/traitlets/utils/decorators.py\": 1738206367.9186664, \"/home/oren/work/notes/notes-nlp/.venv/lib/python3.10/site-packages/traitlets/__init__.py\": 1738206367.9166663, \"/usr/lib/python3.10/lib-dynload/_queue.cpython-310-x86_64-linux-gnu.so\": 1737124534.0, \"/usr/lib/python3.10/queue.py\": 1737124534.0, \"/home/oren/work/notes/notes-nlp/.venv/lib/python3.10/site-packages/jupyter_core/version.py\": 1738208869.5355554, \"/home/oren/work/notes/notes-nlp/.venv/lib/python3.10/site-packages/jupyter_core/__init__.py\": 1738208869.5345554, \"/home/oren/work/notes/notes-nlp/.venv/lib/python3.10/site-packages/jupyter_core/utils/__init__.py\": 1738208869.5355554, \"/home/oren/work/notes/notes-nlp/.venv/lib/python3.10/site-packages/jupyter_client/channelsabc.py\": 1738211114.6108825, \"/usr/lib/python3.10/lib-dynload/_hashlib.cpython-310-x86_64-linux-gnu.so\": 1737124534.0, \"/usr/lib/python3.10/hashlib.py\": 1737124534.0, \"/usr/lib/python3.10/hmac.py\": 1737124534.0, \"/usr/lib/python3.10/dataclasses.py\": 1737124534.0, \"/usr/lib/python3.10/pprint.py\": 1737124534.0, \"/usr/lib/python3.10/datetime.py\": 1737124534.0, \"/home/oren/work/notes/notes-nlp/.venv/lib/python3.10/site-packages/tornado/__init__.py\": 1738206367.9876652, \"/usr/lib/python3.10/numbers.py\": 1737124534.0, \"/usr/lib/python3.10/logging/handlers.py\": 1737124534.0, \"/usr/lib/python3.10/html/entities.py\": 1737124534.0, \"/usr/lib/python3.10/html/__init__.py\": 1737124534.0, \"/home/oren/work/notes/notes-nlp/.venv/lib/python3.10/site-packages/tornado/speedups.abi3.so\": 1738206367.988665, \"/home/oren/work/notes/notes-nlp/.venv/lib/python3.10/site-packages/tornado/util.py\": 1738206367.9876652, \"/home/oren/work/notes/notes-nlp/.venv/lib/python3.10/site-packages/tornado/escape.py\": 1738206367.9906652, \"/home/oren/work/notes/notes-nlp/.venv/lib/python3.10/site-packages/colorama/ansi.py\": 1738762739.5224614, \"/usr/lib/python3.10/lib-dynload/_ctypes.cpython-310-x86_64-linux-gnu.so\": 1737124534.0, \"/usr/lib/python3.10/ctypes/_endian.py\": 1737124534.0, \"/usr/lib/python3.10/ctypes/__init__.py\": 1737124534.0, \"/home/oren/work/notes/notes-nlp/.venv/lib/python3.10/site-packages/colorama/win32.py\": 1738762739.5224614, \"/home/oren/work/notes/notes-nlp/.venv/lib/python3.10/site-packages/colorama/winterm.py\": 1738762739.5224614, \"/home/oren/work/notes/notes-nlp/.venv/lib/python3.10/site-packages/colorama/ansitowin32.py\": 1738762739.5224614, \"/home/oren/work/notes/notes-nlp/.venv/lib/python3.10/site-packages/colorama/initialise.py\": 1738762739.5224614, \"/home/oren/work/notes/notes-nlp/.venv/lib/python3.10/site-packages/colorama/__init__.py\": 1738762739.5214612, \"/usr/lib/python3.10/lib-dynload/_curses.cpython-310-x86_64-linux-gnu.so\": 1737124534.0, \"/usr/lib/python3.10/curses/__init__.py\": 1737124534.0, \"/home/oren/work/notes/notes-nlp/.venv/lib/python3.10/site-packages/tornado/log.py\": 1738206367.988665, \"/home/oren/work/notes/notes-nlp/.venv/lib/python3.10/site-packages/tornado/concurrent.py\": 1738206367.9876652, \"/home/oren/work/notes/notes-nlp/.venv/lib/python3.10/site-packages/tornado/ioloop.py\": 1738206367.9906652, \"/usr/lib/python3.10/socketserver.py\": 1737124534.0, \"/usr/lib/python3.10/logging/config.py\": 1737124534.0, \"/usr/lib/python3.10/textwrap.py\": 1737124534.0, \"/home/oren/work/notes/notes-nlp/.venv/lib/python3.10/site-packages/traitlets/utils/text.py\": 1738206367.9186664, \"/usr/lib/python3.10/gettext.py\": 1737124534.0, \"/usr/lib/python3.10/argparse.py\": 1737124534.0, \"/home/oren/work/notes/notes-nlp/.venv/lib/python3.10/site-packages/traitlets/config/loader.py\": 1738206367.9176664, \"/home/oren/work/notes/notes-nlp/.venv/lib/python3.10/site-packages/traitlets/config/configurable.py\": 1738206367.9176664, \"/home/oren/work/notes/notes-nlp/.venv/lib/python3.10/site-packages/traitlets/utils/nested_update.py\": 1738206367.9186664, \"/home/oren/work/notes/notes-nlp/.venv/lib/python3.10/site-packages/traitlets/config/application.py\": 1738206367.9176664, \"/home/oren/work/notes/notes-nlp/.venv/lib/python3.10/site-packages/traitlets/config/__init__.py\": 1738206367.9166663, \"/home/oren/work/notes/notes-nlp/.venv/lib/python3.10/site-packages/traitlets/log.py\": 1738206367.9166663, \"/home/oren/work/notes/notes-nlp/.venv/lib/python3.10/site-packages/zmq/eventloop/__init__.py\": 1738206368.5086567, \"/home/oren/work/notes/notes-nlp/.venv/lib/python3.10/site-packages/zmq/eventloop/zmqstream.py\": 1738206368.5086567, \"/home/oren/work/notes/notes-nlp/.venv/lib/python3.10/site-packages/jupyter_client/adapter.py\": 1738211114.6098826, \"/home/oren/work/notes/notes-nlp/.venv/lib/python3.10/site-packages/dateutil/_version.py\": 1738206446.0323966, \"/home/oren/work/notes/notes-nlp/.venv/lib/python3.10/site-packages/dateutil/__init__.py\": 1738206446.0323966, \"/usr/lib/python3.10/locale.py\": 1737124534.0, \"/usr/lib/python3.10/calendar.py\": 1737124534.0, \"/home/oren/work/notes/notes-nlp/.venv/lib/python3.10/site-packages/six.py\": 1738206368.3916585, \"/usr/lib/python3.10/lib-dynload/_decimal.cpython-310-x86_64-linux-gnu.so\": 1737124534.0, \"/usr/lib/python3.10/decimal.py\": 1737124534.0, \"/home/oren/work/notes/notes-nlp/.venv/lib/python3.10/site-packages/dateutil/_common.py\": 1738206446.0323966, \"/home/oren/work/notes/notes-nlp/.venv/lib/python3.10/site-packages/dateutil/relativedelta.py\": 1738206446.0323966, \"/home/oren/work/notes/notes-nlp/.venv/lib/python3.10/site-packages/dateutil/tz/_common.py\": 1738206446.0333965, \"/home/oren/work/notes/notes-nlp/.venv/lib/python3.10/site-packages/dateutil/tz/_factories.py\": 1738206446.0333965, \"/home/oren/work/notes/notes-nlp/.venv/lib/python3.10/site-packages/dateutil/tz/tz.py\": 1738206446.0343966, \"/home/oren/work/notes/notes-nlp/.venv/lib/python3.10/site-packages/dateutil/tz/__init__.py\": 1738206446.0333965, \"/home/oren/work/notes/notes-nlp/.venv/lib/python3.10/site-packages/dateutil/parser/_parser.py\": 1738206446.0333965, \"/home/oren/work/notes/notes-nlp/.venv/lib/python3.10/site-packages/dateutil/parser/isoparser.py\": 1738206446.0333965, \"/home/oren/work/notes/notes-nlp/.venv/lib/python3.10/site-packages/dateutil/parser/__init__.py\": 1738206446.0333965, \"/usr/lib/python3.10/_strptime.py\": 1737124534.0, \"/home/oren/work/notes/notes-nlp/.venv/lib/python3.10/site-packages/jupyter_client/jsonutil.py\": 1738211114.6108825, \"/home/oren/work/notes/notes-nlp/.venv/lib/python3.10/site-packages/jupyter_client/session.py\": 1738211114.6128826, \"/home/oren/work/notes/notes-nlp/.venv/lib/python3.10/site-packages/jupyter_client/channels.py\": 1738211114.6098826, \"/usr/lib/python3.10/lib-dynload/termios.cpython-310-x86_64-linux-gnu.so\": 1737124534.0, \"/usr/lib/python3.10/getpass.py\": 1737124534.0, \"/home/oren/work/notes/notes-nlp/.venv/lib/python3.10/site-packages/jupyter_client/clientabc.py\": 1738211114.6108825, \"/usr/lib/python3.10/glob.py\": 1737124534.0, \"/usr/lib/python3.10/_compression.py\": 1737124534.0, \"/usr/lib/python3.10/lib-dynload/_bz2.cpython-310-x86_64-linux-gnu.so\": 1737124534.0, \"/usr/lib/python3.10/bz2.py\": 1737124534.0, \"/usr/lib/python3.10/lib-dynload/_lzma.cpython-310-x86_64-linux-gnu.so\": 1737124534.0, \"/usr/lib/python3.10/lzma.py\": 1737124534.0, \"/usr/lib/python3.10/shutil.py\": 1737124534.0, \"/usr/lib/python3.10/tempfile.py\": 1737124534.0, \"/home/oren/work/notes/notes-nlp/.venv/lib/python3.10/site-packages/platformdirs/api.py\": 1738206370.402626, \"/home/oren/work/notes/notes-nlp/.venv/lib/python3.10/site-packages/platformdirs/version.py\": 1738206370.402626, \"/usr/lib/python3.10/configparser.py\": 1737124534.0, \"/home/oren/work/notes/notes-nlp/.venv/lib/python3.10/site-packages/platformdirs/unix.py\": 1738206370.402626, \"/home/oren/work/notes/notes-nlp/.venv/lib/python3.10/site-packages/platformdirs/__init__.py\": 1738206370.4016259, \"/home/oren/work/notes/notes-nlp/.venv/lib/python3.10/site-packages/jupyter_core/paths.py\": 1738208869.5355554, \"/home/oren/work/notes/notes-nlp/.venv/lib/python3.10/site-packages/jupyter_client/localinterfaces.py\": 1738211114.6118827, \"/home/oren/work/notes/notes-nlp/.venv/lib/python3.10/site-packages/jupyter_client/utils.py\": 1738211114.6128826, \"/home/oren/work/notes/notes-nlp/.venv/lib/python3.10/site-packages/jupyter_client/connect.py\": 1738211114.6108825, \"/home/oren/work/notes/notes-nlp/.venv/lib/python3.10/site-packages/jupyter_client/client.py\": 1738211114.6108825, \"/home/oren/work/notes/notes-nlp/.venv/lib/python3.10/site-packages/jupyter_client/asynchronous/client.py\": 1738211114.6128826, \"/home/oren/work/notes/notes-nlp/.venv/lib/python3.10/site-packages/jupyter_client/asynchronous/__init__.py\": 1738211114.6128826, \"/home/oren/work/notes/notes-nlp/.venv/lib/python3.10/site-packages/jupyter_client/blocking/client.py\": 1738211114.6128826, \"/home/oren/work/notes/notes-nlp/.venv/lib/python3.10/site-packages/jupyter_client/blocking/__init__.py\": 1738211114.6128826, \"/home/oren/work/notes/notes-nlp/.venv/lib/python3.10/site-packages/jupyter_client/launcher.py\": 1738211114.6118827, \"/usr/lib/python3.10/lib-dynload/_uuid.cpython-310-x86_64-linux-gnu.so\": 1737124534.0, \"/usr/lib/python3.10/uuid.py\": 1737124534.0, \"/usr/lib/python3.10/csv.py\": 1737124534.0, \"/usr/lib/python3.10/email/__init__.py\": 1737124534.0, \"/usr/lib/python3.10/zipfile.py\": 1737124534.0, \"/usr/lib/python3.10/uu.py\": 1737124534.0, \"/usr/lib/python3.10/quopri.py\": 1737124534.0, \"/usr/lib/python3.10/email/_parseaddr.py\": 1737124534.0, \"/usr/lib/python3.10/email/base64mime.py\": 1737124534.0, \"/usr/lib/python3.10/email/quoprimime.py\": 1737124534.0, \"/usr/lib/python3.10/email/errors.py\": 1737124534.0, \"/usr/lib/python3.10/email/encoders.py\": 1737124534.0, \"/usr/lib/python3.10/email/charset.py\": 1737124534.0, \"/usr/lib/python3.10/email/utils.py\": 1737124534.0, \"/usr/lib/python3.10/email/header.py\": 1737124534.0, \"/usr/lib/python3.10/email/_policybase.py\": 1737124534.0, \"/usr/lib/python3.10/email/_encoded_words.py\": 1737124534.0, \"/usr/lib/python3.10/email/iterators.py\": 1737124534.0, \"/usr/lib/python3.10/email/message.py\": 1737124534.0, \"/usr/lib/python3.10/importlib/metadata/_functools.py\": 1737124534.0, \"/usr/lib/python3.10/importlib/metadata/_text.py\": 1737124534.0, \"/usr/lib/python3.10/importlib/metadata/_adapters.py\": 1737124534.0, \"/usr/lib/python3.10/importlib/metadata/_meta.py\": 1737124534.0, \"/usr/lib/python3.10/importlib/metadata/_collections.py\": 1737124534.0, \"/usr/lib/python3.10/importlib/metadata/_itertools.py\": 1737124534.0, \"/usr/lib/python3.10/importlib/abc.py\": 1737124534.0, \"/usr/lib/python3.10/importlib/metadata/__init__.py\": 1737124534.0, \"/home/oren/work/notes/notes-nlp/.venv/lib/python3.10/site-packages/jupyter_client/provisioning/provisioner_base.py\": 1738211114.6138825, \"/home/oren/work/notes/notes-nlp/.venv/lib/python3.10/site-packages/jupyter_client/provisioning/factory.py\": 1738211114.6138825, \"/home/oren/work/notes/notes-nlp/.venv/lib/python3.10/site-packages/jupyter_client/provisioning/local_provisioner.py\": 1738211114.6138825, \"/home/oren/work/notes/notes-nlp/.venv/lib/python3.10/site-packages/jupyter_client/provisioning/__init__.py\": 1738211114.6128826, \"/home/oren/work/notes/notes-nlp/.venv/lib/python3.10/site-packages/jupyter_client/kernelspec.py\": 1738211114.6108825, \"/home/oren/work/notes/notes-nlp/.venv/lib/python3.10/site-packages/jupyter_client/managerabc.py\": 1738211114.6118827, \"/home/oren/work/notes/notes-nlp/.venv/lib/python3.10/site-packages/jupyter_client/manager.py\": 1738211114.6118827, \"/home/oren/work/notes/notes-nlp/.venv/lib/python3.10/site-packages/jupyter_client/multikernelmanager.py\": 1738211114.6118827, \"/home/oren/work/notes/notes-nlp/.venv/lib/python3.10/site-packages/jupyter_client/__init__.py\": 1738211114.6098826, \"/home/oren/work/notes/notes-nlp/.venv/lib/python3.10/site-packages/ipykernel/connect.py\": 1738211119.9207983, \"/home/oren/work/notes/notes-nlp/.venv/lib/python3.10/site-packages/ipykernel/__init__.py\": 1738211119.9197984, \"/home/oren/work/notes/notes-nlp/.venv/lib/python3.10/site-packages/IPython/core/__init__.py\": 1738211116.355855, \"/home/oren/work/notes/notes-nlp/.venv/lib/python3.10/site-packages/IPython/core/getipython.py\": 1738211116.3588548, \"/home/oren/work/notes/notes-nlp/.venv/lib/python3.10/site-packages/IPython/core/release.py\": 1738211116.3618548, \"/usr/lib/python3.10/pkgutil.py\": 1737124534.0, \"/usr/lib/python3.10/sysconfig.py\": 1737124534.0, \"/usr/lib/python3.10/_sysconfigdata__x86_64-linux-gnu.py\": 1737124534.0, \"/usr/lib/python3.10/pydoc.py\": 1737124534.0, \"/home/oren/work/notes/notes-nlp/.venv/lib/python3.10/site-packages/executing/executing.py\": 1738208871.3485265, \"/home/oren/work/notes/notes-nlp/.venv/lib/python3.10/site-packages/executing/_pytest_utils.py\": 1738208871.3485265, \"/home/oren/work/notes/notes-nlp/.venv/lib/python3.10/site-packages/executing/version.py\": 1738208871.3485265, \"/home/oren/work/notes/notes-nlp/.venv/lib/python3.10/site-packages/executing/__init__.py\": 1738208871.3485265, \"/home/oren/work/notes/notes-nlp/.venv/lib/python3.10/site-packages/asttokens/line_numbers.py\": 1738208872.4535089, \"/home/oren/work/notes/notes-nlp/.venv/lib/python3.10/site-packages/asttokens/util.py\": 1738208872.4535089, \"/home/oren/work/notes/notes-nlp/.venv/lib/python3.10/site-packages/asttokens/asttokens.py\": 1738208872.4535089, \"/home/oren/work/notes/notes-nlp/.venv/lib/python3.10/site-packages/asttokens/__init__.py\": 1738208872.4535089, \"/usr/lib/python3.10/fractions.py\": 1737124534.0, \"/home/oren/work/notes/notes-nlp/.venv/lib/python3.10/site-packages/pure_eval/utils.py\": 1738206365.9996974, \"/home/oren/work/notes/notes-nlp/.venv/lib/python3.10/site-packages/pure_eval/my_getattr_static.py\": 1738206365.9986975, \"/home/oren/work/notes/notes-nlp/.venv/lib/python3.10/site-packages/pure_eval/core.py\": 1738206365.9986975, \"/home/oren/work/notes/notes-nlp/.venv/lib/python3.10/site-packages/pure_eval/version.py\": 1738206365.9996974, \"/home/oren/work/notes/notes-nlp/.venv/lib/python3.10/site-packages/pure_eval/__init__.py\": 1738206365.9986975, \"/home/oren/work/notes/notes-nlp/.venv/lib/python3.10/site-packages/stack_data/utils.py\": 1738208872.5905068, \"/home/oren/work/notes/notes-nlp/.venv/lib/python3.10/site-packages/stack_data/core.py\": 1738208872.5905068, \"/home/oren/work/notes/notes-nlp/.venv/lib/python3.10/site-packages/stack_data/formatting.py\": 1738208872.5905068, \"/home/oren/work/notes/notes-nlp/.venv/lib/python3.10/site-packages/stack_data/serializing.py\": 1738208872.5905068, \"/home/oren/work/notes/notes-nlp/.venv/lib/python3.10/site-packages/stack_data/version.py\": 1738208872.5905068, \"/home/oren/work/notes/notes-nlp/.venv/lib/python3.10/site-packages/stack_data/__init__.py\": 1738208872.5895066, \"/home/oren/work/notes/notes-nlp/.venv/lib/python3.10/site-packages/pygments/__init__.py\": 1738206368.6586542, \"/home/oren/work/notes/notes-nlp/.venv/lib/python3.10/site-packages/pygments/formatters/_mapping.py\": 1738206368.6616542, \"/home/oren/work/notes/notes-nlp/.venv/lib/python3.10/site-packages/pygments/plugin.py\": 1738206368.6596544, \"/home/oren/work/notes/notes-nlp/.venv/lib/python3.10/site-packages/pygments/util.py\": 1738206368.6616542, \"/home/oren/work/notes/notes-nlp/.venv/lib/python3.10/site-packages/pygments/formatters/__init__.py\": 1738206368.6616542, \"/home/oren/work/notes/notes-nlp/.venv/lib/python3.10/site-packages/pygments/styles/_mapping.py\": 1738206368.6986537, \"/home/oren/work/notes/notes-nlp/.venv/lib/python3.10/site-packages/pygments/styles/__init__.py\": 1738206368.6986537, \"/home/oren/work/notes/notes-nlp/.venv/lib/python3.10/site-packages/pygments/formatter.py\": 1738206368.6596544, \"/home/oren/work/notes/notes-nlp/.venv/lib/python3.10/site-packages/pygments/console.py\": 1738206368.6586542, \"/home/oren/work/notes/notes-nlp/.venv/lib/python3.10/site-packages/pygments/token.py\": 1738206368.6606543, \"/home/oren/work/notes/notes-nlp/.venv/lib/python3.10/site-packages/pygments/style.py\": 1738206368.6606543, \"/home/oren/work/notes/notes-nlp/.venv/lib/python3.10/site-packages/pygments/formatters/terminal256.py\": 1738206368.6636543, \"/home/oren/work/notes/notes-nlp/.venv/lib/python3.10/site-packages/IPython/utils/__init__.py\": 1738211116.3788545, \"/home/oren/work/notes/notes-nlp/.venv/lib/python3.10/site-packages/IPython/utils/colorable.py\": 1738211116.3798544, \"/home/oren/work/notes/notes-nlp/.venv/lib/python3.10/site-packages/IPython/utils/ipstruct.py\": 1738211116.3808546, \"/home/oren/work/notes/notes-nlp/.venv/lib/python3.10/site-packages/IPython/utils/coloransi.py\": 1738211116.3798544, \"/home/oren/work/notes/notes-nlp/.venv/lib/python3.10/site-packages/IPython/core/excolors.py\": 1738211116.3578548, \"/home/oren/work/notes/notes-nlp/.venv/lib/python3.10/site-packages/IPython/utils/PyColorize.py\": 1738211116.3788545, \"/home/oren/work/notes/notes-nlp/.venv/lib/python3.10/site-packages/IPython/utils/encoding.py\": 1738211116.3798544, \"/home/oren/work/notes/notes-nlp/.venv/lib/python3.10/site-packages/IPython/utils/py3compat.py\": 1738211116.3808546, \"/usr/lib/python3.10/cmd.py\": 1737124534.0, \"/usr/lib/python3.10/bdb.py\": 1737124534.0, \"/usr/lib/python3.10/codeop.py\": 1737124534.0, \"/usr/lib/python3.10/code.py\": 1737124534.0, \"/usr/lib/python3.10/pdb.py\": 1737124534.0, \"/home/oren/work/notes/notes-nlp/.venv/lib/python3.10/site-packages/IPython/core/debugger.py\": 1738211116.3578548, \"/home/oren/work/notes/notes-nlp/.venv/lib/python3.10/site-packages/IPython/core/display_trap.py\": 1738211116.3578548, \"/usr/lib/python3.10/shlex.py\": 1737124534.0, \"/home/oren/work/notes/notes-nlp/.venv/lib/python3.10/site-packages/IPython/utils/_process_common.py\": 1738211116.3788545, \"/home/oren/work/notes/notes-nlp/.venv/lib/python3.10/site-packages/IPython/utils/_process_posix.py\": 1738211116.3788545, \"/home/oren/work/notes/notes-nlp/.venv/lib/python3.10/site-packages/IPython/utils/process.py\": 1738211116.3808546, \"/home/oren/work/notes/notes-nlp/.venv/lib/python3.10/site-packages/IPython/utils/path.py\": 1738211116.3808546, \"/home/oren/work/notes/notes-nlp/.venv/lib/python3.10/site-packages/IPython/utils/terminal.py\": 1738211116.3818545, \"/home/oren/work/notes/notes-nlp/.venv/lib/python3.10/site-packages/IPython/core/ultratb.py\": 1738211116.3628547, \"/home/oren/work/notes/notes-nlp/.venv/lib/python3.10/site-packages/IPython/utils/_sysinfo.py\": 1738211116.3788545, \"/home/oren/work/notes/notes-nlp/.venv/lib/python3.10/site-packages/IPython/utils/sysinfo.py\": 1738211116.3818545, \"/home/oren/work/notes/notes-nlp/.venv/lib/python3.10/site-packages/IPython/core/crashhandler.py\": 1738211116.356855, \"/home/oren/work/notes/notes-nlp/.venv/lib/python3.10/site-packages/IPython/utils/importstring.py\": 1738211116.3798544, \"/home/oren/work/notes/notes-nlp/.venv/lib/python3.10/site-packages/IPython/paths.py\": 1738211116.355855, \"/home/oren/work/notes/notes-nlp/.venv/lib/python3.10/site-packages/IPython/core/profiledir.py\": 1738211116.3618548, \"/home/oren/work/notes/notes-nlp/.venv/lib/python3.10/site-packages/IPython/core/application.py\": 1738211116.355855, \"/home/oren/work/notes/notes-nlp/.venv/lib/python3.10/site-packages/IPython/terminal/__init__.py\": 1738211116.3738546, \"/home/oren/work/notes/notes-nlp/.venv/lib/python3.10/site-packages/IPython/core/compilerop.py\": 1738211116.356855, \"/home/oren/work/notes/notes-nlp/.venv/lib/python3.10/site-packages/IPython/core/error.py\": 1738211116.3578548, \"/home/oren/work/notes/notes-nlp/.venv/lib/python3.10/site-packages/IPython/utils/docs.py\": 1738211116.3798544, \"/home/oren/work/notes/notes-nlp/.venv/lib/python3.10/site-packages/IPython/utils/decorators.py\": 1738211116.3798544, \"/home/oren/work/notes/notes-nlp/.venv/lib/python3.10/site-packages/typing_extensions.py\": 1738206367.8976667, \"/home/oren/work/notes/notes-nlp/.venv/lib/python3.10/site-packages/IPython/utils/text.py\": 1738211116.3818545, \"/home/oren/work/notes/notes-nlp/.venv/lib/python3.10/site-packages/IPython/core/magic_arguments.py\": 1738211116.3608549, \"/usr/lib/python3.10/getopt.py\": 1737124534.0, \"/home/oren/work/notes/notes-nlp/.venv/lib/python3.10/site-packages/IPython/core/display_functions.py\": 1738211116.3578548, \"/usr/lib/python3.10/mimetypes.py\": 1737124534.0, \"/home/oren/work/notes/notes-nlp/.venv/lib/python3.10/site-packages/IPython/testing/__init__.py\": 1738211116.3768547, \"/home/oren/work/notes/notes-nlp/.venv/lib/python3.10/site-packages/IPython/testing/skipdoctest.py\": 1738211116.3768547, \"/home/oren/work/notes/notes-nlp/.venv/lib/python3.10/site-packages/IPython/core/display.py\": 1738211116.3578548, \"/home/oren/work/notes/notes-nlp/.venv/lib/python3.10/site-packages/IPython/lib/__init__.py\": 1738211116.3708546, \"/home/oren/work/notes/notes-nlp/.venv/lib/python3.10/site-packages/IPython/lib/display.py\": 1738211116.3718548, \"/home/oren/work/notes/notes-nlp/.venv/lib/python3.10/site-packages/IPython/display.py\": 1738211116.355855, \"/home/oren/work/notes/notes-nlp/.venv/lib/python3.10/site-packages/IPython/utils/data.py\": 1738211116.3798544, \"/home/oren/work/notes/notes-nlp/.venv/lib/python3.10/site-packages/IPython/core/page.py\": 1738211116.3608549, \"/home/oren/work/notes/notes-nlp/.venv/lib/python3.10/site-packages/IPython/lib/pretty.py\": 1738211116.3718548, \"/home/oren/work/notes/notes-nlp/.venv/lib/python3.10/site-packages/IPython/utils/openpy.py\": 1738211116.3808546, \"/home/oren/work/notes/notes-nlp/.venv/lib/python3.10/site-packages/IPython/utils/dir2.py\": 1738211116.3798544, \"/home/oren/work/notes/notes-nlp/.venv/lib/python3.10/site-packages/IPython/utils/wildcard.py\": 1738211116.3828545, \"/home/oren/work/notes/notes-nlp/.venv/lib/python3.10/site-packages/pygments/lexers/_mapping.py\": 1738206368.666654, \"/home/oren/work/notes/notes-nlp/.venv/lib/python3.10/site-packages/pygments/modeline.py\": 1738206368.6596544, \"/home/oren/work/notes/notes-nlp/.venv/lib/python3.10/site-packages/pygments/lexers/__init__.py\": 1738206368.6636543, \"/home/oren/work/notes/notes-nlp/.venv/lib/python3.10/site-packages/pygments/filter.py\": 1738206368.6596544, \"/home/oren/work/notes/notes-nlp/.venv/lib/python3.10/site-packages/pygments/filters/__init__.py\": 1738206368.6616542, \"/home/oren/work/notes/notes-nlp/.venv/lib/python3.10/site-packages/pygments/regexopt.py\": 1738206368.6596544, \"/home/oren/work/notes/notes-nlp/.venv/lib/python3.10/site-packages/pygments/lexer.py\": 1738206368.6596544, \"/home/oren/work/notes/notes-nlp/.venv/lib/python3.10/site-packages/pygments/unistring.py\": 1738206368.6606543, \"/home/oren/work/notes/notes-nlp/.venv/lib/python3.10/site-packages/pygments/lexers/python.py\": 1738206368.6896539, \"/home/oren/work/notes/notes-nlp/.venv/lib/python3.10/site-packages/pygments/formatters/html.py\": 1738206368.6626542, \"/home/oren/work/notes/notes-nlp/.venv/lib/python3.10/site-packages/IPython/core/oinspect.py\": 1738211116.3608549, \"/home/oren/work/notes/notes-nlp/.venv/lib/python3.10/site-packages/IPython/utils/tokenutil.py\": 1738211116.3818545, \"/home/oren/work/notes/notes-nlp/.venv/lib/python3.10/site-packages/IPython/core/inputtransformer2.py\": 1738211116.359855, \"/home/oren/work/notes/notes-nlp/.venv/lib/python3.10/site-packages/IPython/core/magic.py\": 1738211116.3608549, \"/home/oren/work/notes/notes-nlp/.venv/lib/python3.10/site-packages/IPython/core/hooks.py\": 1738211116.3588548, \"/home/oren/work/notes/notes-nlp/.venv/lib/python3.10/site-packages/IPython/core/autocall.py\": 1738211116.356855, \"/home/oren/work/notes/notes-nlp/.venv/lib/python3.10/site-packages/IPython/core/macro.py\": 1738211116.3608549, \"/home/oren/work/notes/notes-nlp/.venv/lib/python3.10/site-packages/IPython/core/splitinput.py\": 1738211116.3628547, \"/home/oren/work/notes/notes-nlp/.venv/lib/python3.10/site-packages/IPython/core/prefilter.py\": 1738211116.3618548, \"/home/oren/work/notes/notes-nlp/.venv/lib/python3.10/site-packages/IPython/core/alias.py\": 1738211116.355855, \"/home/oren/work/notes/notes-nlp/.venv/lib/python3.10/site-packages/IPython/core/builtin_trap.py\": 1738211116.356855, \"/home/oren/work/notes/notes-nlp/.venv/lib/python3.10/site-packages/IPython/core/displayhook.py\": 1738211116.3578548, \"/home/oren/work/notes/notes-nlp/.venv/lib/python3.10/site-packages/IPython/core/displaypub.py\": 1738211116.3578548, \"/home/oren/work/notes/notes-nlp/.venv/lib/python3.10/site-packages/IPython/core/events.py\": 1738211116.3578548, \"/home/oren/work/notes/notes-nlp/.venv/lib/python3.10/site-packages/IPython/core/extensions.py\": 1738211116.3588548, \"/home/oren/work/notes/notes-nlp/.venv/lib/python3.10/site-packages/decorator.py\": 1738208871.4545248, \"/home/oren/work/notes/notes-nlp/.venv/lib/python3.10/site-packages/IPython/utils/sentinel.py\": 1738211116.3808546, \"/home/oren/work/notes/notes-nlp/.venv/lib/python3.10/site-packages/IPython/core/formatters.py\": 1738211116.3588548, \"/usr/lib/python3.10/lib-dynload/_sqlite3.cpython-310-x86_64-linux-gnu.so\": 1737124534.0, \"/usr/lib/python3.10/sqlite3/dbapi2.py\": 1737124534.0, \"/usr/lib/python3.10/sqlite3/__init__.py\": 1737124534.0, \"/home/oren/work/notes/notes-nlp/.venv/lib/python3.10/site-packages/IPython/core/history.py\": 1738211116.3588548, \"/home/oren/work/notes/notes-nlp/.venv/lib/python3.10/site-packages/IPython/core/logger.py\": 1738211116.3608549, \"/home/oren/work/notes/notes-nlp/.venv/lib/python3.10/site-packages/IPython/core/payload.py\": 1738211116.3618548, \"/home/oren/work/notes/notes-nlp/.venv/lib/python3.10/site-packages/IPython/core/usage.py\": 1738211116.3628547, \"/home/oren/work/notes/notes-nlp/.venv/lib/python3.10/site-packages/IPython/utils/capture.py\": 1738211116.3788545, \"/home/oren/work/notes/notes-nlp/.venv/lib/python3.10/site-packages/IPython/utils/io.py\": 1738211116.3808546, \"/home/oren/work/notes/notes-nlp/.venv/lib/python3.10/site-packages/IPython/utils/strdispatch.py\": 1738211116.3818545, \"/home/oren/work/notes/notes-nlp/.venv/lib/python3.10/site-packages/IPython/utils/syspathcontext.py\": 1738211116.3818545, \"/home/oren/work/notes/notes-nlp/.venv/lib/python3.10/site-packages/exceptiongroup/_exceptions.py\": 1738208871.3595264, \"/home/oren/work/notes/notes-nlp/.venv/lib/python3.10/site-packages/exceptiongroup/_catch.py\": 1738208871.3595264, \"/home/oren/work/notes/notes-nlp/.venv/lib/python3.10/site-packages/exceptiongroup/_version.py\": 1738208871.3605263, \"/home/oren/work/notes/notes-nlp/.venv/lib/python3.10/site-packages/exceptiongroup/_formatting.py\": 1738208871.3595264, \"/home/oren/work/notes/notes-nlp/.venv/lib/python3.10/site-packages/exceptiongroup/_suppress.py\": 1738208871.3605263, \"/home/oren/work/notes/notes-nlp/.venv/lib/python3.10/site-packages/exceptiongroup/__init__.py\": 1738208871.3595264, \"/home/oren/work/notes/notes-nlp/.venv/lib/python3.10/site-packages/IPython/core/async_helpers.py\": 1738211116.355855, \"/home/oren/work/notes/notes-nlp/.venv/lib/python3.10/site-packages/IPython/core/interactiveshell.py\": 1738211116.359855, \"/home/oren/work/notes/notes-nlp/.venv/lib/python3.10/site-packages/prompt_toolkit/application/current.py\": 1738206370.2306287, \"/home/oren/work/notes/notes-nlp/.venv/lib/python3.10/site-packages/prompt_toolkit/eventloop/utils.py\": 1738206370.2336287, \"/home/oren/work/notes/notes-nlp/.venv/lib/python3.10/site-packages/prompt_toolkit/eventloop/async_generator.py\": 1738206370.2336287, \"/home/oren/work/notes/notes-nlp/.venv/lib/python3.10/site-packages/prompt_toolkit/eventloop/inputhook.py\": 1738206370.2336287, \"/home/oren/work/notes/notes-nlp/.venv/lib/python3.10/site-packages/prompt_toolkit/eventloop/__init__.py\": 1738206370.2336287, \"/home/oren/work/notes/notes-nlp/.venv/lib/python3.10/site-packages/prompt_toolkit/application/run_in_terminal.py\": 1738206370.2316287, \"/home/oren/work/notes/notes-nlp/.venv/lib/python3.10/site-packages/prompt_toolkit/selection.py\": 1738206370.2306287, \"/home/oren/work/notes/notes-nlp/.venv/lib/python3.10/site-packages/prompt_toolkit/clipboard/base.py\": 1738206370.2316287, \"/home/oren/work/notes/notes-nlp/.venv/lib/python3.10/site-packages/prompt_toolkit/clipboard/in_memory.py\": 1738206370.2316287, \"/home/oren/work/notes/notes-nlp/.venv/lib/python3.10/site-packages/prompt_toolkit/clipboard/__init__.py\": 1738206370.2316287, \"/home/oren/work/notes/notes-nlp/.venv/lib/python3.10/site-packages/prompt_toolkit/cache.py\": 1738206370.2286289, \"/home/oren/work/notes/notes-nlp/.venv/lib/python3.10/site-packages/prompt_toolkit/enums.py\": 1738206370.2296288, \"/home/oren/work/notes/notes-nlp/.venv/lib/python3.10/site-packages/prompt_toolkit/filters/base.py\": 1738206370.2346287, \"/home/oren/work/notes/notes-nlp/.venv/lib/python3.10/site-packages/prompt_toolkit/filters/app.py\": 1738206370.2346287, \"/home/oren/work/notes/notes-nlp/.venv/lib/python3.10/site-packages/prompt_toolkit/filters/cli.py\": 1738206370.2346287, \"/home/oren/work/notes/notes-nlp/.venv/lib/python3.10/site-packages/prompt_toolkit/filters/utils.py\": 1738206370.2346287, \"/home/oren/work/notes/notes-nlp/.venv/lib/python3.10/site-packages/prompt_toolkit/filters/__init__.py\": 1738206370.2346287, \"/home/oren/work/notes/notes-nlp/.venv/lib/python3.10/site-packages/prompt_toolkit/document.py\": 1738206370.2296288, \"/home/oren/work/notes/notes-nlp/.venv/lib/python3.10/site-packages/prompt_toolkit/auto_suggest.py\": 1738206370.2286289, \"/home/oren/work/notes/notes-nlp/.venv/lib/python3.10/site-packages/prompt_toolkit/keys.py\": 1738206370.2296288, \"/home/oren/work/notes/notes-nlp/.venv/lib/python3.10/site-packages/prompt_toolkit/key_binding/key_bindings.py\": 1738206370.2366285, \"/home/oren/work/notes/notes-nlp/.venv/lib/python3.10/site-packages/wcwidth/table_vs16.py\": 1738206365.8596997, \"/home/oren/work/notes/notes-nlp/.venv/lib/python3.10/site-packages/wcwidth/table_wide.py\": 1738206365.8596997, \"/home/oren/work/notes/notes-nlp/.venv/lib/python3.10/site-packages/wcwidth/table_zero.py\": 1738206365.8607, \"/home/oren/work/notes/notes-nlp/.venv/lib/python3.10/site-packages/wcwidth/unicode_versions.py\": 1738206365.8607, \"/home/oren/work/notes/notes-nlp/.venv/lib/python3.10/site-packages/wcwidth/wcwidth.py\": 1738206365.8607, \"/home/oren/work/notes/notes-nlp/.venv/lib/python3.10/site-packages/wcwidth/__init__.py\": 1738206365.8596997, \"/home/oren/work/notes/notes-nlp/.venv/lib/python3.10/site-packages/prompt_toolkit/utils.py\": 1738206370.2306287, \"/home/oren/work/notes/notes-nlp/.venv/lib/python3.10/site-packages/prompt_toolkit/key_binding/key_processor.py\": 1738206370.2366285, \"/home/oren/work/notes/notes-nlp/.venv/lib/python3.10/site-packages/prompt_toolkit/key_binding/__init__.py\": 1738206370.2366285, \"/home/oren/work/notes/notes-nlp/.venv/lib/python3.10/site-packages/prompt_toolkit/key_binding/vi_state.py\": 1738206370.2366285, \"/home/oren/work/notes/notes-nlp/.venv/lib/python3.10/site-packages/prompt_toolkit/cursor_shapes.py\": 1738206370.2286289, \"/home/oren/work/notes/notes-nlp/.venv/lib/python3.10/site-packages/prompt_toolkit/data_structures.py\": 1738206370.2286289, \"/home/oren/work/notes/notes-nlp/.venv/lib/python3.10/site-packages/prompt_toolkit/styles/base.py\": 1738206370.2426286, \"/home/oren/work/notes/notes-nlp/.venv/lib/python3.10/site-packages/prompt_toolkit/styles/named_colors.py\": 1738206370.2426286, \"/home/oren/work/notes/notes-nlp/.venv/lib/python3.10/site-packages/prompt_toolkit/styles/style.py\": 1738206370.2426286, \"/home/oren/work/notes/notes-nlp/.venv/lib/python3.10/site-packages/prompt_toolkit/styles/defaults.py\": 1738206370.2426286, \"/home/oren/work/notes/notes-nlp/.venv/lib/python3.10/site-packages/prompt_toolkit/styles/pygments.py\": 1738206370.2426286, \"/usr/lib/python3.10/colorsys.py\": 1737124534.0, \"/home/oren/work/notes/notes-nlp/.venv/lib/python3.10/site-packages/prompt_toolkit/styles/style_transformation.py\": 1738206370.2436285, \"/home/oren/work/notes/notes-nlp/.venv/lib/python3.10/site-packages/prompt_toolkit/styles/__init__.py\": 1738206370.2426286, \"/home/oren/work/notes/notes-nlp/.venv/lib/python3.10/site-packages/prompt_toolkit/output/color_depth.py\": 1738206370.2406285, \"/home/oren/work/notes/notes-nlp/.venv/lib/python3.10/site-packages/prompt_toolkit/output/base.py\": 1738206370.2406285, \"/home/oren/work/notes/notes-nlp/.venv/lib/python3.10/site-packages/prompt_toolkit/output/flush_stdout.py\": 1738206370.2416286, \"/home/oren/work/notes/notes-nlp/.venv/lib/python3.10/site-packages/prompt_toolkit/output/plain_text.py\": 1738206370.2416286, \"/home/oren/work/notes/notes-nlp/.venv/lib/python3.10/site-packages/prompt_toolkit/output/defaults.py\": 1738206370.2406285, \"/home/oren/work/notes/notes-nlp/.venv/lib/python3.10/site-packages/prompt_toolkit/output/__init__.py\": 1738206370.2406285, \"/home/oren/work/notes/notes-nlp/.venv/lib/python3.10/site-packages/prompt_toolkit/output/vt100.py\": 1738206370.2416286, \"/home/oren/work/notes/notes-nlp/.venv/lib/python3.10/site-packages/prompt_toolkit/mouse_events.py\": 1738206370.2296288, \"/home/oren/work/notes/notes-nlp/.venv/lib/python3.10/site-packages/prompt_toolkit/formatted_text/base.py\": 1738206370.2346287, \"/home/oren/work/notes/notes-nlp/.venv/lib/python3.10/site-packages/prompt_toolkit/formatted_text/ansi.py\": 1738206370.2346287, \"/usr/lib/python3.10/xml/__init__.py\": 1737124534.0, \"/usr/lib/python3.10/xml/dom/domreg.py\": 1737124534.0, \"/usr/lib/python3.10/xml/dom/__init__.py\": 1737124534.0, \"/usr/lib/python3.10/xml/dom/minicompat.py\": 1737124534.0, \"/usr/lib/python3.10/xml/dom/NodeFilter.py\": 1737124534.0, \"/usr/lib/python3.10/xml/dom/xmlbuilder.py\": 1737124534.0, \"/usr/lib/python3.10/xml/dom/minidom.py\": 1737124534.0, \"/home/oren/work/notes/notes-nlp/.venv/lib/python3.10/site-packages/prompt_toolkit/formatted_text/html.py\": 1738206370.2346287, \"/home/oren/work/notes/notes-nlp/.venv/lib/python3.10/site-packages/prompt_toolkit/formatted_text/pygments.py\": 1738206370.2346287, \"/home/oren/work/notes/notes-nlp/.venv/lib/python3.10/site-packages/prompt_toolkit/formatted_text/utils.py\": 1738206370.2346287, \"/home/oren/work/notes/notes-nlp/.venv/lib/python3.10/site-packages/prompt_toolkit/formatted_text/__init__.py\": 1738206370.2346287, \"/home/oren/work/notes/notes-nlp/.venv/lib/python3.10/site-packages/prompt_toolkit/completion/base.py\": 1738206370.2316287, \"/home/oren/work/notes/notes-nlp/.venv/lib/python3.10/site-packages/prompt_toolkit/completion/deduplicate.py\": 1738206370.2316287, \"/home/oren/work/notes/notes-nlp/.venv/lib/python3.10/site-packages/prompt_toolkit/completion/filesystem.py\": 1738206370.2316287, \"/home/oren/work/notes/notes-nlp/.venv/lib/python3.10/site-packages/prompt_toolkit/completion/word_completer.py\": 1738206370.2326288, \"/home/oren/work/notes/notes-nlp/.venv/lib/python3.10/site-packages/prompt_toolkit/completion/fuzzy_completer.py\": 1738206370.2316287, \"/home/oren/work/notes/notes-nlp/.venv/lib/python3.10/site-packages/prompt_toolkit/completion/nested.py\": 1738206370.2326288, \"/home/oren/work/notes/notes-nlp/.venv/lib/python3.10/site-packages/prompt_toolkit/completion/__init__.py\": 1738206370.2316287, \"/home/oren/work/notes/notes-nlp/.venv/lib/python3.10/site-packages/prompt_toolkit/history.py\": 1738206370.2296288, \"/home/oren/work/notes/notes-nlp/.venv/lib/python3.10/site-packages/prompt_toolkit/search.py\": 1738206370.2306287, \"/home/oren/work/notes/notes-nlp/.venv/lib/python3.10/site-packages/prompt_toolkit/validation.py\": 1738206370.2306287, \"/home/oren/work/notes/notes-nlp/.venv/lib/python3.10/site-packages/prompt_toolkit/buffer.py\": 1738206370.2286289, \"/home/oren/work/notes/notes-nlp/.venv/lib/python3.10/site-packages/prompt_toolkit/input/base.py\": 1738206370.2356286, \"/home/oren/work/notes/notes-nlp/.venv/lib/python3.10/site-packages/prompt_toolkit/input/defaults.py\": 1738206370.2356286, \"/home/oren/work/notes/notes-nlp/.venv/lib/python3.10/site-packages/prompt_toolkit/input/__init__.py\": 1738206370.2356286, \"/home/oren/work/notes/notes-nlp/.venv/lib/python3.10/site-packages/prompt_toolkit/input/typeahead.py\": 1738206370.2356286, \"/home/oren/work/notes/notes-nlp/.venv/lib/python3.10/site-packages/prompt_toolkit/key_binding/bindings/__init__.py\": 1738206370.2366285, \"/home/oren/work/notes/notes-nlp/.venv/lib/python3.10/site-packages/prompt_toolkit/key_binding/bindings/scroll.py\": 1738206370.2386286, \"/home/oren/work/notes/notes-nlp/.venv/lib/python3.10/site-packages/prompt_toolkit/key_binding/bindings/page_navigation.py\": 1738206370.2376287, \"/home/oren/work/notes/notes-nlp/.venv/lib/python3.10/site-packages/prompt_toolkit/lexers/base.py\": 1738206370.2406285, \"/home/oren/work/notes/notes-nlp/.venv/lib/python3.10/site-packages/prompt_toolkit/lexers/pygments.py\": 1738206370.2406285, \"/home/oren/work/notes/notes-nlp/.venv/lib/python3.10/site-packages/prompt_toolkit/lexers/__init__.py\": 1738206370.2406285, \"/home/oren/work/notes/notes-nlp/.venv/lib/python3.10/site-packages/prompt_toolkit/layout/utils.py\": 1738206370.2406285, \"/home/oren/work/notes/notes-nlp/.venv/lib/python3.10/site-packages/prompt_toolkit/layout/processors.py\": 1738206370.2396286, \"/home/oren/work/notes/notes-nlp/.venv/lib/python3.10/site-packages/prompt_toolkit/layout/controls.py\": 1738206370.2396286, \"/home/oren/work/notes/notes-nlp/.venv/lib/python3.10/site-packages/prompt_toolkit/layout/dimension.py\": 1738206370.2396286, \"/home/oren/work/notes/notes-nlp/.venv/lib/python3.10/site-packages/prompt_toolkit/layout/margins.py\": 1738206370.2396286, \"/home/oren/work/notes/notes-nlp/.venv/lib/python3.10/site-packages/prompt_toolkit/layout/mouse_handlers.py\": 1738206370.2396286, \"/home/oren/work/notes/notes-nlp/.venv/lib/python3.10/site-packages/prompt_toolkit/layout/screen.py\": 1738206370.2396286, \"/home/oren/work/notes/notes-nlp/.venv/lib/python3.10/site-packages/prompt_toolkit/layout/containers.py\": 1738206370.2386286, \"/home/oren/work/notes/notes-nlp/.venv/lib/python3.10/site-packages/prompt_toolkit/layout/layout.py\": 1738206370.2396286, \"/home/oren/work/notes/notes-nlp/.venv/lib/python3.10/site-packages/prompt_toolkit/layout/menus.py\": 1738206370.2396286, \"/home/oren/work/notes/notes-nlp/.venv/lib/python3.10/site-packages/prompt_toolkit/layout/scrollable_pane.py\": 1738206370.2406285, \"/home/oren/work/notes/notes-nlp/.venv/lib/python3.10/site-packages/prompt_toolkit/layout/__init__.py\": 1738206370.2386286, \"/home/oren/work/notes/notes-nlp/.venv/lib/python3.10/site-packages/prompt_toolkit/key_binding/bindings/completion.py\": 1738206370.2376287, \"/home/oren/work/notes/notes-nlp/.venv/lib/python3.10/site-packages/prompt_toolkit/key_binding/bindings/named_commands.py\": 1738206370.2376287, \"/home/oren/work/notes/notes-nlp/.venv/lib/python3.10/site-packages/prompt_toolkit/key_binding/bindings/basic.py\": 1738206370.2376287, \"/home/oren/work/notes/notes-nlp/.venv/lib/python3.10/site-packages/prompt_toolkit/key_binding/bindings/cpr.py\": 1738206370.2376287, \"/home/oren/work/notes/notes-nlp/.venv/lib/python3.10/site-packages/prompt_toolkit/key_binding/bindings/emacs.py\": 1738206370.2376287, \"/home/oren/work/notes/notes-nlp/.venv/lib/python3.10/site-packages/prompt_toolkit/key_binding/bindings/mouse.py\": 1738206370.2376287, \"/home/oren/work/notes/notes-nlp/.venv/lib/python3.10/site-packages/prompt_toolkit/input/ansi_escape_sequences.py\": 1738206370.2356286, \"/home/oren/work/notes/notes-nlp/.venv/lib/python3.10/site-packages/prompt_toolkit/input/vt100_parser.py\": 1738206370.2356286, \"/home/oren/work/notes/notes-nlp/.venv/lib/python3.10/site-packages/prompt_toolkit/key_binding/digraphs.py\": 1738206370.2366285, \"/home/oren/work/notes/notes-nlp/.venv/lib/python3.10/site-packages/prompt_toolkit/key_binding/bindings/vi.py\": 1738206370.2386286, \"/home/oren/work/notes/notes-nlp/.venv/lib/python3.10/site-packages/prompt_toolkit/key_binding/defaults.py\": 1738206370.2366285, \"/home/oren/work/notes/notes-nlp/.venv/lib/python3.10/site-packages/prompt_toolkit/key_binding/emacs_state.py\": 1738206370.2366285, \"/home/oren/work/notes/notes-nlp/.venv/lib/python3.10/site-packages/prompt_toolkit/layout/dummy.py\": 1738206370.2396286, \"/home/oren/work/notes/notes-nlp/.venv/lib/python3.10/site-packages/prompt_toolkit/renderer.py\": 1738206370.2296288, \"/home/oren/work/notes/notes-nlp/.venv/lib/python3.10/site-packages/prompt_toolkit/application/application.py\": 1738206370.2306287, \"/home/oren/work/notes/notes-nlp/.venv/lib/python3.10/site-packages/prompt_toolkit/application/dummy.py\": 1738206370.2316287, \"/home/oren/work/notes/notes-nlp/.venv/lib/python3.10/site-packages/prompt_toolkit/application/__init__.py\": 1738206370.2306287, \"/home/oren/work/notes/notes-nlp/.venv/lib/python3.10/site-packages/prompt_toolkit/key_binding/bindings/focus.py\": 1738206370.2376287, \"/home/oren/work/notes/notes-nlp/.venv/lib/python3.10/site-packages/prompt_toolkit/widgets/toolbars.py\": 1738206370.2436285, \"/home/oren/work/notes/notes-nlp/.venv/lib/python3.10/site-packages/prompt_toolkit/widgets/base.py\": 1738206370.2436285, \"/home/oren/work/notes/notes-nlp/.venv/lib/python3.10/site-packages/prompt_toolkit/widgets/dialogs.py\": 1738206370.2436285, \"/home/oren/work/notes/notes-nlp/.venv/lib/python3.10/site-packages/prompt_toolkit/widgets/menus.py\": 1738206370.2436285, \"/home/oren/work/notes/notes-nlp/.venv/lib/python3.10/site-packages/prompt_toolkit/widgets/__init__.py\": 1738206370.2436285, \"/home/oren/work/notes/notes-nlp/.venv/lib/python3.10/site-packages/prompt_toolkit/shortcuts/dialogs.py\": 1738206370.2416286, \"/usr/lib/python3.10/xml/parsers/__init__.py\": 1737124534.0, \"/usr/lib/python3.10/xml/parsers/expat.py\": 1737124534.0, \"/usr/lib/python3.10/xml/dom/expatbuilder.py\": 1737124534.0, \"/home/oren/work/notes/notes-nlp/.venv/lib/python3.10/site-packages/prompt_toolkit/shortcuts/progress_bar/formatters.py\": 1738206370.2426286, \"/home/oren/work/notes/notes-nlp/.venv/lib/python3.10/site-packages/prompt_toolkit/shortcuts/progress_bar/base.py\": 1738206370.2426286, \"/home/oren/work/notes/notes-nlp/.venv/lib/python3.10/site-packages/prompt_toolkit/shortcuts/progress_bar/__init__.py\": 1738206370.2426286, \"/home/oren/work/notes/notes-nlp/.venv/lib/python3.10/site-packages/prompt_toolkit/key_binding/bindings/auto_suggest.py\": 1738206370.2376287, \"/home/oren/work/notes/notes-nlp/.venv/lib/python3.10/site-packages/prompt_toolkit/key_binding/bindings/open_in_editor.py\": 1738206370.2376287, \"/home/oren/work/notes/notes-nlp/.venv/lib/python3.10/site-packages/prompt_toolkit/shortcuts/prompt.py\": 1738206370.2416286, \"/home/oren/work/notes/notes-nlp/.venv/lib/python3.10/site-packages/prompt_toolkit/shortcuts/utils.py\": 1738206370.2426286, \"/home/oren/work/notes/notes-nlp/.venv/lib/python3.10/site-packages/prompt_toolkit/shortcuts/__init__.py\": 1738206370.2416286, \"/home/oren/work/notes/notes-nlp/.venv/lib/python3.10/site-packages/prompt_toolkit/__init__.py\": 1738206370.2286289, \"/home/oren/work/notes/notes-nlp/.venv/lib/python3.10/site-packages/prompt_toolkit/patch_stdout.py\": 1738206370.2296288, \"/home/oren/work/notes/notes-nlp/.venv/lib/python3.10/site-packages/IPython/core/guarded_eval.py\": 1738211116.3588548, \"/home/oren/work/notes/notes-nlp/.venv/lib/python3.10/site-packages/IPython/core/latex_symbols.py\": 1738211116.3608549, \"/home/oren/work/notes/notes-nlp/.venv/lib/python3.10/site-packages/IPython/utils/generics.py\": 1738211116.3798544, \"/home/oren/work/notes/notes-nlp/.venv/lib/python3.10/site-packages/parso/utils.py\": 1738206370.6126225, \"/home/oren/work/notes/notes-nlp/.venv/lib/python3.10/site-packages/parso/tree.py\": 1738206370.6116226, \"/home/oren/work/notes/notes-nlp/.venv/lib/python3.10/site-packages/parso/python/__init__.py\": 1738206370.6126225, \"/home/oren/work/notes/notes-nlp/.venv/lib/python3.10/site-packages/parso/python/token.py\": 1738206370.6146226, \"/home/oren/work/notes/notes-nlp/.venv/lib/python3.10/site-packages/parso/python/tokenize.py\": 1738206370.6146226, \"/home/oren/work/notes/notes-nlp/.venv/lib/python3.10/site-packages/parso/pgen2/grammar_parser.py\": 1738206370.6126225, \"/home/oren/work/notes/notes-nlp/.venv/lib/python3.10/site-packages/parso/pgen2/generator.py\": 1738206370.6126225, \"/home/oren/work/notes/notes-nlp/.venv/lib/python3.10/site-packages/parso/pgen2/__init__.py\": 1738206370.6126225, \"/home/oren/work/notes/notes-nlp/.venv/lib/python3.10/site-packages/parso/parser.py\": 1738206370.6116226, \"/home/oren/work/notes/notes-nlp/.venv/lib/python3.10/site-packages/parso/_compatibility.py\": 1738206370.6116226, \"/usr/lib/python3.10/difflib.py\": 1737124534.0, \"/home/oren/work/notes/notes-nlp/.venv/lib/python3.10/site-packages/parso/python/prefix.py\": 1738206370.6146226, \"/home/oren/work/notes/notes-nlp/.venv/lib/python3.10/site-packages/parso/python/tree.py\": 1738206370.6146226, \"/home/oren/work/notes/notes-nlp/.venv/lib/python3.10/site-packages/parso/python/parser.py\": 1738206370.6136224, \"/home/oren/work/notes/notes-nlp/.venv/lib/python3.10/site-packages/parso/python/diff.py\": 1738206370.6126225, \"/home/oren/work/notes/notes-nlp/.venv/lib/python3.10/site-packages/parso/cache.py\": 1738206370.6116226, \"/home/oren/work/notes/notes-nlp/.venv/lib/python3.10/site-packages/parso/normalizer.py\": 1738206370.6116226, \"/home/oren/work/notes/notes-nlp/.venv/lib/python3.10/site-packages/parso/python/errors.py\": 1738206370.6126225, \"/home/oren/work/notes/notes-nlp/.venv/lib/python3.10/site-packages/parso/python/pep8.py\": 1738206370.6136224, \"/home/oren/work/notes/notes-nlp/.venv/lib/python3.10/site-packages/parso/file_io.py\": 1738206370.6116226, \"/home/oren/work/notes/notes-nlp/.venv/lib/python3.10/site-packages/parso/grammar.py\": 1738206370.6116226, \"/home/oren/work/notes/notes-nlp/.venv/lib/python3.10/site-packages/parso/__init__.py\": 1738206370.6116226, \"/home/oren/work/notes/notes-nlp/.venv/lib/python3.10/site-packages/jedi/parser_utils.py\": 1738208869.6675534, \"/home/oren/work/notes/notes-nlp/.venv/lib/python3.10/site-packages/jedi/debug.py\": 1738208869.6675534, \"/home/oren/work/notes/notes-nlp/.venv/lib/python3.10/site-packages/jedi/settings.py\": 1738208869.6675534, \"/home/oren/work/notes/notes-nlp/.venv/lib/python3.10/site-packages/jedi/cache.py\": 1738208869.6665533, \"/home/oren/work/notes/notes-nlp/.venv/lib/python3.10/site-packages/jedi/file_io.py\": 1738208869.6675534, \"/home/oren/work/notes/notes-nlp/.venv/lib/python3.10/site-packages/jedi/inference/cache.py\": 1738208869.6695533, \"/home/oren/work/notes/notes-nlp/.venv/lib/python3.10/site-packages/jedi/inference/helpers.py\": 1738208869.6705532, \"/home/oren/work/notes/notes-nlp/.venv/lib/python3.10/site-packages/jedi/inference/utils.py\": 1738208869.6715531, \"/home/oren/work/notes/notes-nlp/.venv/lib/python3.10/site-packages/jedi/inference/base_value.py\": 1738208869.6695533, \"/home/oren/work/notes/notes-nlp/.venv/lib/python3.10/site-packages/jedi/inference/sys_path.py\": 1738208869.6715531, \"/home/oren/work/notes/notes-nlp/.venv/lib/python3.10/site-packages/jedi/inference/recursion.py\": 1738208869.6715531, \"/home/oren/work/notes/notes-nlp/.venv/lib/python3.10/site-packages/jedi/inference/flow_analysis.py\": 1738208869.6705532, \"/home/oren/work/notes/notes-nlp/.venv/lib/python3.10/site-packages/jedi/common.py\": 1738208869.6675534, \"/home/oren/work/notes/notes-nlp/.venv/lib/python3.10/site-packages/jedi/inference/lazy_value.py\": 1738208869.6705532, \"/home/oren/work/notes/notes-nlp/.venv/lib/python3.10/site-packages/jedi/inference/docstrings.py\": 1738208869.6705532, \"/home/oren/work/notes/notes-nlp/.venv/lib/python3.10/site-packages/jedi/plugins/__init__.py\": 1738208869.6745532, \"/home/oren/work/notes/notes-nlp/.venv/lib/python3.10/site-packages/jedi/inference/names.py\": 1738208869.6705532, \"/home/oren/work/notes/notes-nlp/.venv/lib/python3.10/site-packages/jedi/inference/filters.py\": 1738208869.6705532, \"/home/oren/work/notes/notes-nlp/.venv/lib/python3.10/site-packages/jedi/inference/compiled/getattr_static.py\": 1738208869.6725533, \"/home/oren/work/notes/notes-nlp/.venv/lib/python3.10/site-packages/jedi/inference/compiled/access.py\": 1738208869.6725533, \"/home/oren/work/notes/notes-nlp/.venv/lib/python3.10/site-packages/jedi/inference/signature.py\": 1738208869.6715531, \"/home/oren/work/notes/notes-nlp/.venv/lib/python3.10/site-packages/jedi/inference/context.py\": 1738208869.6695533, \"/home/oren/work/notes/notes-nlp/.venv/lib/python3.10/site-packages/jedi/inference/compiled/value.py\": 1738208869.6725533, \"/home/oren/work/notes/notes-nlp/.venv/lib/python3.10/site-packages/jedi/inference/compiled/__init__.py\": 1738208869.6715531, \"/home/oren/work/notes/notes-nlp/.venv/lib/python3.10/site-packages/jedi/inference/analysis.py\": 1738208869.6695533, \"/home/oren/work/notes/notes-nlp/.venv/lib/python3.10/site-packages/jedi/inference/gradual/__init__.py\": 1738208869.6725533, \"/home/oren/work/notes/notes-nlp/.venv/lib/python3.10/site-packages/jedi/inference/value/module.py\": 1738208869.6745532, \"/home/oren/work/notes/notes-nlp/.venv/lib/python3.10/site-packages/jedi/inference/value/dynamic_arrays.py\": 1738208869.6735532, \"/home/oren/work/notes/notes-nlp/.venv/lib/python3.10/site-packages/jedi/inference/value/iterable.py\": 1738208869.6745532, \"/home/oren/work/notes/notes-nlp/.venv/lib/python3.10/site-packages/jedi/inference/arguments.py\": 1738208869.6695533, \"/home/oren/work/notes/notes-nlp/.venv/lib/python3.10/site-packages/jedi/inference/parser_cache.py\": 1738208869.6715531, \"/home/oren/work/notes/notes-nlp/.venv/lib/python3.10/site-packages/jedi/inference/gradual/generics.py\": 1738208869.6735532, \"/home/oren/work/notes/notes-nlp/.venv/lib/python3.10/site-packages/jedi/inference/value/function.py\": 1738208869.6745532, \"/home/oren/work/notes/notes-nlp/.venv/lib/python3.10/site-packages/jedi/inference/value/klass.py\": 1738208869.6745532, \"/home/oren/work/notes/notes-nlp/.venv/lib/python3.10/site-packages/jedi/inference/value/instance.py\": 1738208869.6745532, \"/home/oren/work/notes/notes-nlp/.venv/lib/python3.10/site-packages/jedi/inference/value/__init__.py\": 1738208869.6735532, \"/home/oren/work/notes/notes-nlp/.venv/lib/python3.10/site-packages/jedi/inference/gradual/base.py\": 1738208869.6735532, \"/home/oren/work/notes/notes-nlp/.venv/lib/python3.10/site-packages/jedi/inference/gradual/type_var.py\": 1738208869.6735532, \"/home/oren/work/notes/notes-nlp/.venv/lib/python3.10/site-packages/jedi/inference/gradual/typing.py\": 1738208869.6735532, \"/home/oren/work/notes/notes-nlp/.venv/lib/python3.10/site-packages/jedi/inference/gradual/stub_value.py\": 1738208869.6735532, \"/home/oren/work/notes/notes-nlp/.venv/lib/python3.10/site-packages/jedi/inference/gradual/typeshed.py\": 1738208869.6735532, \"/home/oren/work/notes/notes-nlp/.venv/lib/python3.10/site-packages/jedi/_compatibility.py\": 1738208869.6665533, \"/home/oren/work/notes/notes-nlp/.venv/lib/python3.10/site-packages/jedi/inference/compiled/subprocess/functions.py\": 1738208869.6725533, \"/home/oren/work/notes/notes-nlp/.venv/lib/python3.10/site-packages/jedi/api/exceptions.py\": 1738208869.6685534, \"/home/oren/work/notes/notes-nlp/.venv/lib/python3.10/site-packages/jedi/inference/compiled/subprocess/__init__.py\": 1738208869.6725533, \"/home/oren/work/notes/notes-nlp/.venv/lib/python3.10/site-packages/jedi/inference/imports.py\": 1738208869.6705532, \"/home/oren/work/notes/notes-nlp/.venv/lib/python3.10/site-packages/jedi/inference/param.py\": 1738208869.6715531, \"/home/oren/work/notes/notes-nlp/.venv/lib/python3.10/site-packages/jedi/inference/gradual/annotation.py\": 1738208869.6725533, \"/home/oren/work/notes/notes-nlp/.venv/lib/python3.10/site-packages/jedi/inference/value/decorator.py\": 1738208869.6735532, \"/home/oren/work/notes/notes-nlp/.venv/lib/python3.10/site-packages/jedi/inference/syntax_tree.py\": 1738208869.6715531, \"/home/oren/work/notes/notes-nlp/.venv/lib/python3.10/site-packages/jedi/inference/__init__.py\": 1738208869.6695533, \"/home/oren/work/notes/notes-nlp/.venv/lib/python3.10/site-packages/jedi/inference/gradual/conversion.py\": 1738208869.6735532, \"/home/oren/work/notes/notes-nlp/.venv/lib/python3.10/site-packages/jedi/inference/compiled/mixed.py\": 1738208869.6725533, \"/usr/lib/python3.10/pydoc_data/__init__.py\": 1737124534.0, \"/usr/lib/python3.10/pydoc_data/topics.py\": 1737124534.0, \"/home/oren/work/notes/notes-nlp/.venv/lib/python3.10/site-packages/jedi/api/keywords.py\": 1738208869.6685534, \"/home/oren/work/notes/notes-nlp/.venv/lib/python3.10/site-packages/jedi/api/completion_cache.py\": 1738208869.6685534, \"/home/oren/work/notes/notes-nlp/.venv/lib/python3.10/site-packages/jedi/api/helpers.py\": 1738208869.6685534, \"/home/oren/work/notes/notes-nlp/.venv/lib/python3.10/site-packages/jedi/api/classes.py\": 1738208869.6675534, \"/home/oren/work/notes/notes-nlp/.venv/lib/python3.10/site-packages/jedi/api/interpreter.py\": 1738208869.6685534, \"/home/oren/work/notes/notes-nlp/.venv/lib/python3.10/site-packages/jedi/api/strings.py\": 1738208869.6695533, \"/home/oren/work/notes/notes-nlp/.venv/lib/python3.10/site-packages/jedi/api/file_name.py\": 1738208869.6685534, \"/home/oren/work/notes/notes-nlp/.venv/lib/python3.10/site-packages/jedi/inference/docstring_utils.py\": 1738208869.6705532, \"/home/oren/work/notes/notes-nlp/.venv/lib/python3.10/site-packages/jedi/api/completion.py\": 1738208869.6685534, \"/usr/lib/python3.10/filecmp.py\": 1737124534.0, \"/home/oren/work/notes/notes-nlp/.venv/lib/python3.10/site-packages/jedi/api/environment.py\": 1738208869.6685534, \"/home/oren/work/notes/notes-nlp/.venv/lib/python3.10/site-packages/jedi/inference/references.py\": 1738208869.6715531, \"/home/oren/work/notes/notes-nlp/.venv/lib/python3.10/site-packages/jedi/api/project.py\": 1738208869.6685534, \"/home/oren/work/notes/notes-nlp/.venv/lib/python3.10/site-packages/jedi/api/errors.py\": 1738208869.6685534, \"/home/oren/work/notes/notes-nlp/.venv/lib/python3.10/site-packages/jedi/inference/value/namespace.py\": 1738208869.6745532, \"/home/oren/work/notes/notes-nlp/.venv/lib/python3.10/site-packages/jedi/api/refactoring/__init__.py\": 1738208869.6695533, \"/home/oren/work/notes/notes-nlp/.venv/lib/python3.10/site-packages/jedi/api/refactoring/extract.py\": 1738208869.6695533, \"/home/oren/work/notes/notes-nlp/.venv/lib/python3.10/site-packages/jedi/inference/gradual/utils.py\": 1738208869.6735532, \"/home/oren/work/notes/notes-nlp/.venv/lib/python3.10/site-packages/jedi/api/__init__.py\": 1738208869.6675534, \"/home/oren/work/notes/notes-nlp/.venv/lib/python3.10/site-packages/jedi/plugins/stdlib.py\": 1738208869.675553, \"/home/oren/work/notes/notes-nlp/.venv/lib/python3.10/site-packages/jedi/plugins/flask.py\": 1738208869.6745532, \"/home/oren/work/notes/notes-nlp/.venv/lib/python3.10/site-packages/jedi/plugins/pytest.py\": 1738208869.675553, \"/home/oren/work/notes/notes-nlp/.venv/lib/python3.10/site-packages/jedi/plugins/django.py\": 1738208869.6745532, \"/home/oren/work/notes/notes-nlp/.venv/lib/python3.10/site-packages/jedi/plugins/registry.py\": 1738208869.675553, \"/home/oren/work/notes/notes-nlp/.venv/lib/python3.10/site-packages/jedi/__init__.py\": 1738208869.6665533, \"/home/oren/work/notes/notes-nlp/.venv/lib/python3.10/site-packages/IPython/core/completer.py\": 1738211116.356855, \"/home/oren/work/notes/notes-nlp/.venv/lib/python3.10/site-packages/IPython/terminal/ptutils.py\": 1738211116.3748546, \"/home/oren/work/notes/notes-nlp/.venv/lib/python3.10/site-packages/IPython/terminal/shortcuts/auto_match.py\": 1738211116.3758545, \"/home/oren/work/notes/notes-nlp/.venv/lib/python3.10/site-packages/IPython/terminal/shortcuts/filters.py\": 1738211116.3758545, \"/home/oren/work/notes/notes-nlp/.venv/lib/python3.10/site-packages/IPython/terminal/shortcuts/auto_suggest.py\": 1738211116.3758545, \"/home/oren/work/notes/notes-nlp/.venv/lib/python3.10/site-packages/IPython/terminal/shortcuts/__init__.py\": 1738211116.3758545, \"/usr/lib/python3.10/concurrent/futures/thread.py\": 1737124534.0, \"/home/oren/work/notes/notes-nlp/.venv/lib/python3.10/site-packages/IPython/terminal/debugger.py\": 1738211116.3738546, \"/home/oren/work/notes/notes-nlp/.venv/lib/python3.10/site-packages/IPython/lib/clipboard.py\": 1738211116.3708546, \"/home/oren/work/notes/notes-nlp/.venv/lib/python3.10/site-packages/IPython/terminal/magics.py\": 1738211116.3748546, \"/home/oren/work/notes/notes-nlp/.venv/lib/python3.10/site-packages/IPython/terminal/pt_inputhooks/__init__.py\": 1738211116.3748546, \"/home/oren/work/notes/notes-nlp/.venv/lib/python3.10/site-packages/IPython/terminal/prompts.py\": 1738211116.3748546, \"/home/oren/work/notes/notes-nlp/.venv/lib/python3.10/site-packages/IPython/terminal/interactiveshell.py\": 1738211116.3738546, \"/home/oren/work/notes/notes-nlp/.venv/lib/python3.10/site-packages/IPython/core/magics/auto.py\": 1738211116.3628547, \"/home/oren/work/notes/notes-nlp/.venv/lib/python3.10/site-packages/IPython/core/magics/basic.py\": 1738211116.3628547, \"/usr/lib/python3.10/http/__init__.py\": 1737124534.0, \"/usr/lib/python3.10/email/feedparser.py\": 1737124534.0, \"/usr/lib/python3.10/email/parser.py\": 1737124534.0, \"/usr/lib/python3.10/http/client.py\": 1737124534.0, \"/usr/lib/python3.10/urllib/response.py\": 1737124534.0, \"/usr/lib/python3.10/urllib/error.py\": 1737124534.0, \"/usr/lib/python3.10/urllib/request.py\": 1737124534.0, \"/home/oren/work/notes/notes-nlp/.venv/lib/python3.10/site-packages/IPython/utils/contexts.py\": 1738211116.3798544, \"/home/oren/work/notes/notes-nlp/.venv/lib/python3.10/site-packages/IPython/core/magics/code.py\": 1738211116.363855, \"/home/oren/work/notes/notes-nlp/.venv/lib/python3.10/site-packages/IPython/core/magics/config.py\": 1738211116.363855, \"/home/oren/work/notes/notes-nlp/.venv/lib/python3.10/site-packages/IPython/core/magics/display.py\": 1738211116.363855, \"/usr/lib/python3.10/lib-dynload/_lsprof.cpython-310-x86_64-linux-gnu.so\": 1737124534.0, \"/usr/lib/python3.10/profile.py\": 1737124534.0, \"/usr/lib/python3.10/cProfile.py\": 1737124534.0, \"/usr/lib/python3.10/pstats.py\": 1737124534.0, \"/usr/lib/python3.10/timeit.py\": 1737124534.0, \"/home/oren/work/notes/notes-nlp/.venv/lib/python3.10/site-packages/IPython/utils/module_paths.py\": 1738211116.3808546, \"/usr/lib/python3.10/lib-dynload/resource.cpython-310-x86_64-linux-gnu.so\": 1737124534.0, \"/home/oren/work/notes/notes-nlp/.venv/lib/python3.10/site-packages/IPython/utils/timing.py\": 1738211116.3818545, \"/home/oren/work/notes/notes-nlp/.venv/lib/python3.10/site-packages/IPython/core/magics/ast_mod.py\": 1738211116.3628547, \"/home/oren/work/notes/notes-nlp/.venv/lib/python3.10/site-packages/IPython/core/magics/execution.py\": 1738211116.363855, \"/home/oren/work/notes/notes-nlp/.venv/lib/python3.10/site-packages/IPython/core/magics/extension.py\": 1738211116.363855, \"/home/oren/work/notes/notes-nlp/.venv/lib/python3.10/site-packages/IPython/core/magics/history.py\": 1738211116.363855, \"/home/oren/work/notes/notes-nlp/.venv/lib/python3.10/site-packages/IPython/core/magics/logging.py\": 1738211116.363855, \"/home/oren/work/notes/notes-nlp/.venv/lib/python3.10/site-packages/IPython/core/magics/namespace.py\": 1738211116.363855, \"/home/oren/work/notes/notes-nlp/.venv/lib/python3.10/site-packages/IPython/core/magics/osm.py\": 1738211116.3648548, \"/home/oren/work/notes/notes-nlp/.venv/lib/python3.10/site-packages/IPython/core/magics/packaging.py\": 1738211116.3648548, \"/home/oren/work/notes/notes-nlp/.venv/lib/python3.10/site-packages/IPython/core/magics/pylab.py\": 1738211116.3648548, \"/home/oren/work/notes/notes-nlp/.venv/lib/python3.10/site-packages/IPython/core/magics/script.py\": 1738211116.3648548, \"/home/oren/work/notes/notes-nlp/.venv/lib/python3.10/site-packages/IPython/core/magics/__init__.py\": 1738211116.3628547, \"/home/oren/work/notes/notes-nlp/.venv/lib/python3.10/site-packages/IPython/core/shellapp.py\": 1738211116.3618548, \"/home/oren/work/notes/notes-nlp/.venv/lib/python3.10/site-packages/IPython/extensions/__init__.py\": 1738211116.3698547, \"/home/oren/work/notes/notes-nlp/.venv/lib/python3.10/site-packages/IPython/extensions/storemagic.py\": 1738211116.3698547, \"/home/oren/work/notes/notes-nlp/.venv/lib/python3.10/site-packages/IPython/terminal/ipapp.py\": 1738211116.3738546, \"/home/oren/work/notes/notes-nlp/.venv/lib/python3.10/site-packages/IPython/terminal/embed.py\": 1738211116.3738546, \"/home/oren/work/notes/notes-nlp/.venv/lib/python3.10/site-packages/IPython/utils/frame.py\": 1738211116.3798544, \"/home/oren/work/notes/notes-nlp/.venv/lib/python3.10/site-packages/IPython/__init__.py\": 1738211116.355855, \"/home/oren/work/notes/notes-nlp/.venv/lib/python3.10/site-packages/ipykernel/control.py\": 1738211119.9207983, \"/home/oren/work/notes/notes-nlp/.venv/lib/python3.10/site-packages/ipykernel/heartbeat.py\": 1738211119.9207983, \"/home/oren/work/notes/notes-nlp/.venv/lib/python3.10/site-packages/ipykernel/iostream.py\": 1738211119.9217982, \"/home/oren/work/notes/notes-nlp/.venv/lib/python3.10/site-packages/comm/base_comm.py\": 1738208871.9115176, \"/home/oren/work/notes/notes-nlp/.venv/lib/python3.10/site-packages/comm/__init__.py\": 1738208871.9115176, \"/home/oren/work/notes/notes-nlp/.venv/lib/python3.10/site-packages/ipykernel/jsonutil.py\": 1738211119.9217982, \"/home/oren/work/notes/notes-nlp/.venv/lib/python3.10/site-packages/psutil/_common.py\": 1738206370.0776312, \"/home/oren/work/notes/notes-nlp/.venv/lib/python3.10/site-packages/psutil/_compat.py\": 1738206370.0786312, \"/home/oren/work/notes/notes-nlp/.venv/lib/python3.10/site-packages/psutil/_psposix.py\": 1738206370.0776312, \"/home/oren/work/notes/notes-nlp/.venv/lib/python3.10/site-packages/psutil/_psutil_linux.abi3.so\": 1738206370.079631, \"/home/oren/work/notes/notes-nlp/.venv/lib/python3.10/site-packages/psutil/_psutil_posix.abi3.so\": 1738206370.0776312, \"/home/oren/work/notes/notes-nlp/.venv/lib/python3.10/site-packages/psutil/_pslinux.py\": 1738206370.0766313, \"/home/oren/work/notes/notes-nlp/.venv/lib/python3.10/site-packages/psutil/__init__.py\": 1738206370.0786312, \"/home/oren/work/notes/notes-nlp/.venv/lib/python3.10/site-packages/tornado/gen.py\": 1738206367.9866652, \"/home/oren/work/notes/notes-nlp/.venv/lib/python3.10/site-packages/tornado/locks.py\": 1738206367.9856653, \"/home/oren/work/notes/notes-nlp/.venv/lib/python3.10/site-packages/tornado/queues.py\": 1738206367.9906652, \"/home/oren/work/notes/notes-nlp/.venv/lib/python3.10/site-packages/ipykernel/kernelbase.py\": 1738211119.9217982, \"/home/oren/work/notes/notes-nlp/.venv/lib/python3.10/site-packages/ipykernel/comm/comm.py\": 1738211119.9227982, \"/home/oren/work/notes/notes-nlp/.venv/lib/python3.10/site-packages/ipykernel/comm/manager.py\": 1738211119.9227982, \"/home/oren/work/notes/notes-nlp/.venv/lib/python3.10/site-packages/ipykernel/comm/__init__.py\": 1738211119.9227982, \"/home/oren/work/notes/notes-nlp/.venv/lib/python3.10/site-packages/ipykernel/compiler.py\": 1738211119.9207983, \"/home/oren/work/notes/notes-nlp/.venv/lib/python3.10/site-packages/packaging/__init__.py\": 1738206370.648622, \"/home/oren/work/notes/notes-nlp/.venv/lib/python3.10/site-packages/packaging/_structures.py\": 1738206370.649622, \"/home/oren/work/notes/notes-nlp/.venv/lib/python3.10/site-packages/packaging/version.py\": 1738206370.650622, \"/home/oren/work/notes/notes-nlp/.venv/lib/python3.10/site-packages/ipykernel/eventloops.py\": 1738211119.9207983, \"/home/oren/work/notes/notes-nlp/.venv/lib/python3.10/site-packages/IPython/core/payloadpage.py\": 1738211116.3618548, \"/home/oren/work/notes/notes-nlp/.venv/lib/python3.10/site-packages/ipykernel/displayhook.py\": 1738211119.9207983, \"/home/oren/work/notes/notes-nlp/.venv/lib/python3.10/site-packages/ipykernel/zmqshell.py\": 1738211119.9227982, \"/home/oren/work/notes/notes-nlp/.venv/lib/python3.10/site-packages/ipykernel/ipkernel.py\": 1738211119.9217982, \"/home/oren/work/notes/notes-nlp/.venv/lib/python3.10/site-packages/ipykernel/parentpoller.py\": 1738211119.9217982, \"/home/oren/work/notes/notes-nlp/.venv/lib/python3.10/site-packages/ipykernel/kernelapp.py\": 1738211119.9217982, \"/home/oren/work/notes/notes-nlp/.venv/lib/python3.10/site-packages/tornado/platform/__init__.py\": 1738206367.998665, \"/home/oren/work/notes/notes-nlp/.venv/lib/python3.10/site-packages/tornado/platform/asyncio.py\": 1738206367.998665, \"/home/oren/work/notes/notes-nlp/.venv/lib/python3.10/site-packages/debugpy/_version.py\": 1738208871.4625247, \"/home/oren/work/notes/notes-nlp/.venv/lib/python3.10/site-packages/debugpy/public_api.py\": 1738208871.4625247, \"/home/oren/work/notes/notes-nlp/.venv/lib/python3.10/site-packages/debugpy/__init__.py\": 1738208871.4625247, \"/home/oren/work/notes/notes-nlp/.venv/lib/python3.10/site-packages/debugpy/_vendored/_util.py\": 1738208871.4635246, \"/home/oren/work/notes/notes-nlp/.venv/lib/python3.10/site-packages/debugpy/_vendored/__init__.py\": 1738208871.4635246, \"/home/oren/work/notes/notes-nlp/.venv/lib/python3.10/site-packages/debugpy/_vendored/pydevd/_pydevd_bundle/__init__.py\": 1738208871.4765244, \"/usr/lib/python3.10/encodings/ascii.py\": 1737124534.0, \"/usr/lib/python3.10/encodings/latin_1.py\": 1737124534.0, \"/usr/lib/python3.10/stringprep.py\": 1737124534.0, \"/usr/lib/python3.10/encodings/idna.py\": 1737124534.0, \"/home/oren/work/notes/notes-nlp/.venv/lib/python3.10/site-packages/debugpy/_vendored/pydevd/_pydevd_bundle/pydevd_vm_type.py\": 1738208871.4765244, \"/home/oren/work/notes/notes-nlp/.venv/lib/python3.10/site-packages/debugpy/_vendored/pydevd/_pydev_bundle/__init__.py\": 1738208871.4665246, \"/usr/lib/python3.10/xmlrpc/__init__.py\": 1737124534.0, \"/usr/lib/python3.10/gzip.py\": 1737124534.0, \"/usr/lib/python3.10/xmlrpc/client.py\": 1737124534.0, \"/usr/lib/python3.10/http/server.py\": 1737124534.0, \"/usr/lib/python3.10/xmlrpc/server.py\": 1737124534.0, \"/home/oren/work/notes/notes-nlp/.venv/lib/python3.10/site-packages/debugpy/_vendored/pydevd/_pydev_bundle/_pydev_saved_modules.py\": 1738208871.4655247, \"/home/oren/work/notes/notes-nlp/.venv/lib/python3.10/site-packages/debugpy/_vendored/pydevd/_pydevd_bundle/pydevd_constants.py\": 1738208871.4685247, \"/home/oren/work/notes/notes-nlp/.venv/lib/python3.10/site-packages/debugpy/_vendored/pydevd/_pydev_runfiles/__init__.py\": 1738208871.5095239, \"/home/oren/work/notes/notes-nlp/.venv/lib/python3.10/site-packages/debugpy/_vendored/pydevd/_pydevd_frame_eval/__init__.py\": 1738208871.5285237, \"/home/oren/work/notes/notes-nlp/.venv/lib/python3.10/site-packages/debugpy/_vendored/pydevd/pydev_ipython/__init__.py\": 1738208871.507524, \"/home/oren/work/notes/notes-nlp/.venv/lib/python3.10/site-packages/debugpy/_vendored/pydevd/pydevd_plugins/__init__.py\": 1738208871.508524, \"/home/oren/work/notes/notes-nlp/.venv/lib/python3.10/site-packages/debugpy/_vendored/pydevd/_pydev_bundle/pydev_log.py\": 1738208871.4665246, \"/home/oren/work/notes/notes-nlp/.venv/lib/python3.10/site-packages/debugpy/_vendored/pydevd/_pydev_bundle/_pydev_filesystem_encoding.py\": 1738208871.4675245, \"/home/oren/work/notes/notes-nlp/.venv/lib/python3.10/site-packages/debugpy/_vendored/pydevd/_pydevd_bundle/pydevd_comm_constants.py\": 1738208871.4705245, \"/home/oren/work/notes/notes-nlp/.venv/lib/python3.10/site-packages/debugpy/_vendored/pydevd/pydevd_file_utils.py\": 1738208871.4645247, \"/home/oren/work/notes/notes-nlp/.venv/lib/python3.10/site-packages/debugpy/_vendored/pydevd/_pydevd_bundle/pydevd_dont_trace_files.py\": 1738208871.4765244, \"/home/oren/work/notes/notes-nlp/.venv/lib/python3.10/site-packages/debugpy/_vendored/pydevd/_pydev_bundle/_pydev_execfile.py\": 1738208871.4665246, \"/home/oren/work/notes/notes-nlp/.venv/lib/python3.10/site-packages/debugpy/_vendored/pydevd/_pydevd_bundle/pydevd_exec2.py\": 1738208871.496524, \"/home/oren/work/notes/notes-nlp/.venv/lib/python3.10/site-packages/debugpy/_vendored/pydevd/_pydev_bundle/pydev_imports.py\": 1738208871.4675245, \"/home/oren/work/notes/notes-nlp/.venv/lib/python3.10/site-packages/debugpy/_vendored/pydevd/_pydev_bundle/pydev_is_thread_alive.py\": 1738208871.4665246, \"/home/oren/work/notes/notes-nlp/.venv/lib/python3.10/site-packages/debugpy/_vendored/pydevd/_pydev_bundle/pydev_override.py\": 1738208871.4655247, \"/home/oren/work/notes/notes-nlp/.venv/lib/python3.10/site-packages/debugpy/_vendored/pydevd/pydevd_plugins/extensions/__init__.py\": 1738208871.508524, \"/home/oren/work/notes/notes-nlp/.venv/lib/python3.10/site-packages/debugpy/_vendored/pydevd/_pydevd_bundle/pydevd_extension_utils.py\": 1738208871.4685247, \"/home/oren/work/notes/notes-nlp/.venv/lib/python3.10/site-packages/debugpy/_vendored/pydevd/_pydevd_bundle/pydevd_frame_utils.py\": 1738208871.4775245, \"/home/oren/work/notes/notes-nlp/.venv/lib/python3.10/site-packages/debugpy/_vendored/pydevd/_pydevd_bundle/pydevd_filtering.py\": 1738208871.4675245, \"/home/oren/work/notes/notes-nlp/.venv/lib/python3.10/site-packages/debugpy/_vendored/pydevd/_pydevd_bundle/pydevd_io.py\": 1738208871.497524, \"/home/oren/work/notes/notes-nlp/.venv/lib/python3.10/site-packages/debugpy/_vendored/pydevd/_pydevd_bundle/pydevd_defaults.py\": 1738208871.4765244, \"/home/oren/work/notes/notes-nlp/.venv/lib/python3.10/site-packages/debugpy/_vendored/pydevd/_pydevd_bundle/pydevd_utils.py\": 1738208871.4675245, \"/home/oren/work/notes/notes-nlp/.venv/lib/python3.10/site-packages/debugpy/_vendored/pydevd/_pydevd_bundle/pydevd_runpy.py\": 1738208871.4785244, \"/home/oren/work/notes/notes-nlp/.venv/lib/python3.10/site-packages/debugpy/_vendored/pydevd/_pydev_bundle/_pydev_tipper_common.py\": 1738208871.4675245, \"/home/oren/work/notes/notes-nlp/.venv/lib/python3.10/site-packages/debugpy/_vendored/pydevd/_pydev_bundle/_pydev_imports_tipper.py\": 1738208871.4655247, \"/home/oren/work/notes/notes-nlp/.venv/lib/python3.10/site-packages/debugpy/_vendored/pydevd/_pydev_bundle/_pydev_calltip_util.py\": 1738208871.4665246, \"/home/oren/work/notes/notes-nlp/.venv/lib/python3.10/site-packages/debugpy/_vendored/pydevd/_pydevd_bundle/pydevd_safe_repr.py\": 1738208871.4785244, \"/home/oren/work/notes/notes-nlp/.venv/lib/python3.10/site-packages/debugpy/_vendored/pydevd/_pydevd_bundle/pydevd_resolver.py\": 1738208871.4785244, \"/home/oren/work/notes/notes-nlp/.venv/lib/python3.10/site-packages/debugpy/_vendored/pydevd/_pydevd_bundle/pydevd_extension_api.py\": 1738208871.4765244, \"/home/oren/work/notes/notes-nlp/.venv/lib/python3.10/site-packages/debugpy/_vendored/pydevd/_pydevd_bundle/pydevd_xml.py\": 1738208871.4785244, \"/home/oren/work/notes/notes-nlp/.venv/lib/python3.10/site-packages/debugpy/_vendored/pydevd/_pydevd_bundle/pydevd_dont_trace.py\": 1738208871.4765244, \"/home/oren/work/notes/notes-nlp/.venv/lib/python3.10/site-packages/debugpy/_vendored/pydevd/_pydevd_frame_eval/vendored/__init__.py\": 1738208871.5315237, \"/home/oren/work/notes/notes-nlp/.venv/lib/python3.10/site-packages/debugpy/_vendored/pydevd/_pydevd_frame_eval/vendored/bytecode/flags.py\": 1738208871.5325236, \"/home/oren/work/notes/notes-nlp/.venv/lib/python3.10/site-packages/debugpy/_vendored/pydevd/_pydevd_frame_eval/vendored/bytecode/instr.py\": 1738208871.5315237, \"/home/oren/work/notes/notes-nlp/.venv/lib/python3.10/site-packages/debugpy/_vendored/pydevd/_pydevd_frame_eval/vendored/bytecode/bytecode.py\": 1738208871.5325236, \"/home/oren/work/notes/notes-nlp/.venv/lib/python3.10/site-packages/debugpy/_vendored/pydevd/_pydevd_frame_eval/vendored/bytecode/concrete.py\": 1738208871.5315237, \"/home/oren/work/notes/notes-nlp/.venv/lib/python3.10/site-packages/debugpy/_vendored/pydevd/_pydevd_frame_eval/vendored/bytecode/cfg.py\": 1738208871.5325236, \"/home/oren/work/notes/notes-nlp/.venv/lib/python3.10/site-packages/debugpy/_vendored/pydevd/_pydevd_frame_eval/vendored/bytecode/__init__.py\": 1738208871.5325236, \"/home/oren/work/notes/notes-nlp/.venv/lib/python3.10/site-packages/debugpy/_vendored/pydevd/_pydevd_bundle/pydevd_bytecode_utils.py\": 1738208871.496524, \"/home/oren/work/notes/notes-nlp/.venv/lib/python3.10/site-packages/debugpy/_vendored/pydevd/_pydevd_bundle/pydevd_cython.cpython-310-x86_64-linux-gnu.so\": 1738208871.4955242, \"/home/oren/work/notes/notes-nlp/.venv/lib/python3.10/site-packages/debugpy/_vendored/pydevd/_pydevd_bundle/pydevd_cython_wrapper.py\": 1738208871.4705245, \"/home/oren/work/notes/notes-nlp/.venv/lib/python3.10/site-packages/debugpy/_vendored/pydevd/_pydevd_bundle/pydevd_additional_thread_info.py\": 1738208871.4685247, \"/home/oren/work/notes/notes-nlp/.venv/lib/python3.10/site-packages/debugpy/_vendored/pydevd/_pydevd_bundle/pydevd_additional_thread_info_regular.py\": 1738208871.4695246, \"/home/oren/work/notes/notes-nlp/.venv/lib/python3.10/site-packages/debugpy/_vendored/pydevd/_pydevd_bundle/pydevd_trace_dispatch.py\": 1738208871.4765244, \"/home/oren/work/notes/notes-nlp/.venv/lib/python3.10/site-packages/debugpy/_vendored/pydevd/_pydevd_bundle/pydevd_import_class.py\": 1738208871.4765244, \"/home/oren/work/notes/notes-nlp/.venv/lib/python3.10/site-packages/debugpy/_vendored/pydevd/_pydevd_bundle/pydevd_breakpoints.py\": 1738208871.4675245, \"/home/oren/work/notes/notes-nlp/.venv/lib/python3.10/site-packages/debugpy/_vendored/pydevd/_pydevd_sys_monitoring/_pydevd_sys_monitoring.py\": 1738208871.506524, \"/home/oren/work/notes/notes-nlp/.venv/lib/python3.10/site-packages/debugpy/_vendored/pydevd/_pydevd_sys_monitoring/pydevd_sys_monitoring.py\": 1738208871.505524, \"/home/oren/work/notes/notes-nlp/.venv/lib/python3.10/site-packages/debugpy/_vendored/pydevd/_pydevd_bundle/pydevd_thread_lifecycle.py\": 1738208871.4765244, \"/home/oren/work/notes/notes-nlp/.venv/lib/python3.10/site-packages/debugpy/_vendored/pydevd/_pydevd_bundle/pydevd_save_locals.py\": 1738208871.497524, \"/home/oren/work/notes/notes-nlp/.venv/lib/python3.10/site-packages/debugpy/_vendored/pydevd/_pydev_bundle/pydev_monkey.py\": 1738208871.4665246, \"/home/oren/work/notes/notes-nlp/.venv/lib/python3.10/site-packages/debugpy/_vendored/pydevd/pydevd_tracing.py\": 1738208871.4635246, \"/home/oren/work/notes/notes-nlp/.venv/lib/python3.10/site-packages/debugpy/_vendored/pydevd/_pydevd_bundle/pydevd_collect_bytecode_info.py\": 1738208871.4695246, \"/home/oren/work/notes/notes-nlp/.venv/lib/python3.10/site-packages/debugpy/_vendored/pydevd/_pydevd_bundle/pydevd_daemon_thread.py\": 1738208871.4685247, \"/home/oren/work/notes/notes-nlp/.venv/lib/python3.10/site-packages/debugpy/_vendored/pydevd/_pydevd_bundle/pydevd_timeout.py\": 1738208871.496524, \"/home/oren/work/notes/notes-nlp/.venv/lib/python3.10/site-packages/debugpy/_vendored/pydevd/_pydevd_bundle/pydevd_vars.py\": 1738208871.4685247, \"/home/oren/work/notes/notes-nlp/.venv/lib/python3.10/site-packages/debugpy/_vendored/pydevd/_pydev_bundle/pydev_console_utils.py\": 1738208871.4655247, \"/home/oren/work/notes/notes-nlp/.venv/lib/python3.10/site-packages/debugpy/_vendored/pydevd/_pydevd_bundle/pydevd_custom_frames.py\": 1738208871.4775245, \"/home/oren/work/notes/notes-nlp/.venv/lib/python3.10/site-packages/debugpy/_vendored/pydevd/_pydevd_bundle/pydevd_net_command.py\": 1738208871.4695246, \"/home/oren/work/notes/notes-nlp/.venv/lib/python3.10/site-packages/debugpy/_vendored/pydevd/_pydevd_bundle/pydevconsole_code.py\": 1738208871.497524, \"/home/oren/work/notes/notes-nlp/.venv/lib/python3.10/site-packages/debugpy/_vendored/pydevd/_pydev_bundle/pydev_umd.py\": 1738208871.4665246, \"/home/oren/work/notes/notes-nlp/.venv/lib/python3.10/site-packages/debugpy/_vendored/pydevd/pydevconsole.py\": 1738208871.4645247, \"/home/oren/work/notes/notes-nlp/.venv/lib/python3.10/site-packages/debugpy/_vendored/pydevd/_pydev_bundle/_pydev_completer.py\": 1738208871.4665246, \"/home/oren/work/notes/notes-nlp/.venv/lib/python3.10/site-packages/debugpy/_vendored/pydevd/_pydevd_bundle/pydevd_net_command_factory_xml.py\": 1738208871.4695246, \"/home/oren/work/notes/notes-nlp/.venv/lib/python3.10/site-packages/debugpy/_vendored/pydevd/_pydevd_frame_eval/pydevd_frame_eval_main.py\": 1738208871.5215237, \"/home/oren/work/notes/notes-nlp/.venv/lib/python3.10/site-packages/debugpy/_vendored/pydevd/_pydevd_bundle/pydevd_source_mapping.py\": 1738208871.4695246, \"/home/oren/work/notes/notes-nlp/.venv/lib/python3.10/site-packages/debugpy/_vendored/pydevd/_pydevd_bundle/pydevd_concurrency_analyser/__init__.py\": 1738208871.500524, \"/home/oren/work/notes/notes-nlp/.venv/lib/python3.10/site-packages/debugpy/_vendored/pydevd/_pydevd_bundle/pydevd_concurrency_analyser/pydevd_thread_wrappers.py\": 1738208871.500524, \"/home/oren/work/notes/notes-nlp/.venv/lib/python3.10/site-packages/debugpy/_vendored/pydevd/_pydevd_bundle/pydevd_concurrency_analyser/pydevd_concurrency_logger.py\": 1738208871.500524, \"/home/oren/work/notes/notes-nlp/.venv/lib/python3.10/site-packages/debugpy/_vendored/pydevd/_pydevd_bundle/_debug_adapter/__init__.py\": 1738208871.4985242, \"/home/oren/work/notes/notes-nlp/.venv/lib/python3.10/site-packages/debugpy/_vendored/pydevd/_pydevd_bundle/_debug_adapter/pydevd_schema_log.py\": 1738208871.497524, \"/home/oren/work/notes/notes-nlp/.venv/lib/python3.10/site-packages/debugpy/_vendored/pydevd/_pydevd_bundle/_debug_adapter/pydevd_base_schema.py\": 1738208871.497524, \"/home/oren/work/notes/notes-nlp/.venv/lib/python3.10/site-packages/debugpy/_vendored/pydevd/_pydevd_bundle/_debug_adapter/pydevd_schema.py\": 1738208871.500524, \"/home/oren/work/notes/notes-nlp/.venv/lib/python3.10/site-packages/debugpy/_vendored/pydevd/_pydevd_bundle/pydevd_reload.py\": 1738208871.4775245, \"/home/oren/work/notes/notes-nlp/.venv/lib/python3.10/site-packages/debugpy/_vendored/pydevd/_pydev_bundle/fsnotify/__init__.py\": 1738208871.4675245, \"/home/oren/work/notes/notes-nlp/.venv/lib/python3.10/site-packages/debugpy/_vendored/pydevd/_pydevd_bundle/pydevd_console.py\": 1738208871.496524, \"/home/oren/work/notes/notes-nlp/.venv/lib/python3.10/site-packages/debugpy/_vendored/pydevd/_pydevd_bundle/pydevd_comm.py\": 1738208871.4775245, \"/home/oren/work/notes/notes-nlp/.venv/lib/python3.10/site-packages/debugpy/_vendored/pydevd/_pydevd_bundle/pydevd_net_command_factory_json.py\": 1738208871.4785244, \"/home/oren/work/notes/notes-nlp/.venv/lib/python3.10/site-packages/debugpy/_vendored/pydevd/_pydevd_bundle/pydevd_api.py\": 1738208871.4785244, \"/home/oren/work/notes/notes-nlp/.venv/lib/python3.10/site-packages/debugpy/_vendored/pydevd/_pydevd_bundle/pydevd_json_debug_options.py\": 1738208871.4695246, \"/home/oren/work/notes/notes-nlp/.venv/lib/python3.10/site-packages/debugpy/_vendored/pydevd/_pydevd_bundle/pydevd_process_net_command_json.py\": 1738208871.4695246, \"/home/oren/work/notes/notes-nlp/.venv/lib/python3.10/site-packages/debugpy/_vendored/pydevd/_pydevd_bundle/pydevd_traceproperty.py\": 1738208871.4705245, \"/home/oren/work/notes/notes-nlp/.venv/lib/python3.10/site-packages/debugpy/_vendored/pydevd/_pydevd_bundle/pydevd_process_net_command.py\": 1738208871.4775245, \"/home/oren/work/notes/notes-nlp/.venv/lib/python3.10/site-packages/debugpy/_vendored/pydevd/_pydevd_bundle/pydevd_suspended_frames.py\": 1738208871.4695246, \"/home/oren/work/notes/notes-nlp/.venv/lib/python3.10/site-packages/debugpy/_vendored/pydevd/pydevd_plugins/pydevd_line_validation.py\": 1738208871.508524, \"/home/oren/work/notes/notes-nlp/.venv/lib/python3.10/site-packages/debugpy/_vendored/pydevd/pydevd_plugins/django_debug.py\": 1738208871.508524, \"/home/oren/work/notes/notes-nlp/.venv/lib/python3.10/site-packages/debugpy/_vendored/pydevd/pydevd_plugins/jinja2_debug.py\": 1738208871.508524, \"/home/oren/work/notes/notes-nlp/.venv/lib/python3.10/site-packages/debugpy/_vendored/pydevd/_pydevd_bundle/pydevd_plugin_utils.py\": 1738208871.496524, \"/home/oren/work/notes/notes-nlp/.venv/lib/python3.10/site-packages/debugpy/_vendored/pydevd/pydevd_plugins/extensions/types/__init__.py\": 1738208871.508524, \"/home/oren/work/notes/notes-nlp/.venv/lib/python3.10/site-packages/debugpy/_vendored/pydevd/pydevd_plugins/extensions/types/pydevd_helpers.py\": 1738208871.508524, \"/home/oren/work/notes/notes-nlp/.venv/lib/python3.10/site-packages/debugpy/_vendored/pydevd/pydevd_plugins/extensions/types/pydevd_plugin_numpy_types.py\": 1738208871.508524, \"/home/oren/work/notes/notes-nlp/.venv/lib/python3.10/site-packages/debugpy/_vendored/pydevd/pydevd_plugins/extensions/types/pydevd_plugin_pandas_types.py\": 1738208871.5095239, \"/home/oren/work/notes/notes-nlp/.venv/lib/python3.10/site-packages/debugpy/_vendored/pydevd/pydevd_plugins/extensions/types/pydevd_plugins_django_form_str.py\": 1738208871.508524, \"/home/oren/work/notes/notes-nlp/.venv/lib/python3.10/site-packages/debugpy/_vendored/pydevd/pydevd.py\": 1738208871.4645247, \"/home/oren/work/notes/notes-nlp/.venv/lib/python3.10/site-packages/debugpy/_vendored/force_pydevd.py\": 1738208871.4635246, \"/home/oren/work/notes/notes-nlp/.venv/lib/python3.10/site-packages/debugpy/server/__init__.py\": 1738208871.5345235, \"/home/oren/work/notes/notes-nlp/.venv/lib/python3.10/site-packages/debugpy/adapter/__init__.py\": 1738208871.5355234, \"/home/oren/work/notes/notes-nlp/.venv/lib/python3.10/site-packages/debugpy/common/__init__.py\": 1738208871.5345235, \"/home/oren/work/notes/notes-nlp/.venv/lib/python3.10/site-packages/debugpy/common/json.py\": 1738208871.5335236, \"/home/oren/work/notes/notes-nlp/.venv/lib/python3.10/site-packages/debugpy/common/timestamp.py\": 1738208871.5345235, \"/home/oren/work/notes/notes-nlp/.venv/lib/python3.10/site-packages/debugpy/common/util.py\": 1738208871.5345235, \"/home/oren/work/notes/notes-nlp/.venv/lib/python3.10/site-packages/debugpy/common/log.py\": 1738208871.5345235, \"/home/oren/work/notes/notes-nlp/.venv/lib/python3.10/site-packages/debugpy/common/sockets.py\": 1738208871.5335236, \"/home/oren/work/notes/notes-nlp/.venv/lib/python3.10/site-packages/debugpy/server/api.py\": 1738208871.5355234, \"/home/oren/work/notes/notes-nlp/.venv/lib/python3.10/site-packages/ipykernel/debugger.py\": 1738211119.9207983, \"/home/oren/work/notes/notes-nlp/.venv/lib/python3.10/site-packages/IPython/core/completerlib.py\": 1738211116.356855, \"/home/oren/work/notes/notes-nlp/.venv/lib/python3.10/site-packages/matplotlib/_api/deprecation.py\": 1738211113.762896, \"/home/oren/work/notes/notes-nlp/.venv/lib/python3.10/site-packages/matplotlib/_api/__init__.py\": 1738211113.762896, \"/home/oren/work/notes/notes-nlp/.venv/lib/python3.10/site-packages/matplotlib/_version.py\": 1738211113.6558979, \"/home/oren/work/notes/notes-nlp/.venv/lib/python3.10/site-packages/numpy/_utils/_convertions.py\": 1738208868.3505743, \"/home/oren/work/notes/notes-nlp/.venv/lib/python3.10/site-packages/numpy/_utils/__init__.py\": 1738208868.3505743, \"/home/oren/work/notes/notes-nlp/.venv/lib/python3.10/site-packages/numpy/_globals.py\": 1738208868.236576, \"/home/oren/work/notes/notes-nlp/.venv/lib/python3.10/site-packages/numpy/_expired_attrs_2_0.py\": 1738208868.2345762, \"/home/oren/work/notes/notes-nlp/.venv/lib/python3.10/site-packages/numpy/version.py\": 1738208868.236576, \"/home/oren/work/notes/notes-nlp/.venv/lib/python3.10/site-packages/numpy/_distributor_init.py\": 1738208868.236576, \"/home/oren/work/notes/notes-nlp/.venv/lib/python3.10/site-packages/numpy/_utils/_inspect.py\": 1738208868.3495743, \"/home/oren/work/notes/notes-nlp/.venv/lib/python3.10/site-packages/numpy/exceptions.py\": 1738208868.237576, \"/home/oren/work/notes/notes-nlp/.venv/lib/python3.10/site-packages/numpy/_core/_exceptions.py\": 1738208868.2895753, \"/home/oren/work/notes/notes-nlp/.venv/lib/python3.10/site-packages/numpy/dtypes.py\": 1738208868.236576, \"/home/oren/work/notes/notes-nlp/.venv/lib/python3.10/site-packages/numpy/_core/_multiarray_umath.cpython-310-x86_64-linux-gnu.so\": 1738208868.2745755, \"/home/oren/work/notes/notes-nlp/.venv/lib/python3.10/site-packages/numpy/_core/overrides.py\": 1738208868.2775755, \"/home/oren/work/notes/notes-nlp/.venv/lib/python3.10/site-packages/numpy/_core/multiarray.py\": 1738208868.2795753, \"/home/oren/work/notes/notes-nlp/.venv/lib/python3.10/site-packages/numpy/_core/umath.py\": 1738208868.2385762, \"/home/oren/work/notes/notes-nlp/.venv/lib/python3.10/site-packages/numpy/_core/_string_helpers.py\": 1738208868.237576, \"/home/oren/work/notes/notes-nlp/.venv/lib/python3.10/site-packages/numpy/_core/_type_aliases.py\": 1738208868.2765756, \"/home/oren/work/notes/notes-nlp/.venv/lib/python3.10/site-packages/numpy/_core/_dtype.py\": 1738208868.2805755, \"/home/oren/work/notes/notes-nlp/.venv/lib/python3.10/site-packages/numpy/_core/numerictypes.py\": 1738208868.2785754, \"/home/oren/work/notes/notes-nlp/.venv/lib/python3.10/site-packages/numpy/_core/_ufunc_config.py\": 1738208868.2775755, \"/home/oren/work/notes/notes-nlp/.venv/lib/python3.10/site-packages/numpy/_core/_methods.py\": 1738208868.2745755, \"/home/oren/work/notes/notes-nlp/.venv/lib/python3.10/site-packages/numpy/_core/fromnumeric.py\": 1738208868.2795753, \"/home/oren/work/notes/notes-nlp/.venv/lib/python3.10/site-packages/numpy/_core/shape_base.py\": 1738208868.2775755, \"/home/oren/work/notes/notes-nlp/.venv/lib/python3.10/site-packages/numpy/_core/arrayprint.py\": 1738208868.2385762, \"/home/oren/work/notes/notes-nlp/.venv/lib/python3.10/site-packages/numpy/_core/_asarray.py\": 1738208868.2755754, \"/home/oren/work/notes/notes-nlp/.venv/lib/python3.10/site-packages/numpy/_core/numeric.py\": 1738208868.2805755, \"/home/oren/work/notes/notes-nlp/.venv/lib/python3.10/site-packages/numpy/_core/records.py\": 1738208868.2755754, \"/home/oren/work/notes/notes-nlp/.venv/lib/python3.10/site-packages/numpy/_core/memmap.py\": 1738208868.2895753, \"/home/oren/work/notes/notes-nlp/.venv/lib/python3.10/site-packages/numpy/_core/function_base.py\": 1738208868.2765756, \"/home/oren/work/notes/notes-nlp/.venv/lib/python3.10/site-packages/numpy/_core/_machar.py\": 1738208868.2775755, \"/home/oren/work/notes/notes-nlp/.venv/lib/python3.10/site-packages/numpy/_core/getlimits.py\": 1738208868.2745755, \"/home/oren/work/notes/notes-nlp/.venv/lib/python3.10/site-packages/numpy/_core/einsumfunc.py\": 1738208868.2385762, \"/home/oren/work/notes/notes-nlp/.venv/lib/python3.10/site-packages/numpy/_core/_multiarray_tests.cpython-310-x86_64-linux-gnu.so\": 1738208868.2785754, \"/home/oren/work/notes/notes-nlp/.venv/lib/python3.10/site-packages/numpy/_core/_add_newdocs.py\": 1738208868.2385762, \"/home/oren/work/notes/notes-nlp/.venv/lib/python3.10/site-packages/numpy/_core/_add_newdocs_scalars.py\": 1738208868.2385762, \"/home/oren/work/notes/notes-nlp/.venv/lib/python3.10/site-packages/numpy/_core/_dtype_ctypes.py\": 1738208868.237576, \"/home/oren/work/notes/notes-nlp/.venv/lib/python3.10/site-packages/numpy/_core/_internal.py\": 1738208868.2795753, \"/home/oren/work/notes/notes-nlp/.venv/lib/python3.10/site-packages/numpy/_pytesttester.py\": 1738208868.236576, \"/home/oren/work/notes/notes-nlp/.venv/lib/python3.10/site-packages/numpy/_core/__init__.py\": 1738208868.2755754, \"/home/oren/work/notes/notes-nlp/.venv/lib/python3.10/site-packages/numpy/__config__.py\": 1738208868.236576, \"/home/oren/work/notes/notes-nlp/.venv/lib/python3.10/site-packages/numpy/lib/_array_utils_impl.py\": 1738208868.3565743, \"/home/oren/work/notes/notes-nlp/.venv/lib/python3.10/site-packages/numpy/lib/array_utils.py\": 1738208868.3555741, \"/home/oren/work/notes/notes-nlp/.venv/lib/python3.10/site-packages/numpy/lib/introspect.py\": 1738208868.3615742, \"/home/oren/work/notes/notes-nlp/.venv/lib/python3.10/site-packages/numpy/lib/mixins.py\": 1738208868.3585742, \"/home/oren/work/notes/notes-nlp/.venv/lib/python3.10/site-packages/numpy/lib/_utils_impl.py\": 1738208868.3555741, \"/home/oren/work/notes/notes-nlp/.venv/lib/python3.10/site-packages/numpy/lib/format.py\": 1738208868.3575742, \"/home/oren/work/notes/notes-nlp/.venv/lib/python3.10/site-packages/numpy/lib/_datasource.py\": 1738208868.362574, \"/home/oren/work/notes/notes-nlp/.venv/lib/python3.10/site-packages/numpy/lib/_iotools.py\": 1738208868.3555741, \"/home/oren/work/notes/notes-nlp/.venv/lib/python3.10/site-packages/numpy/lib/_npyio_impl.py\": 1738208868.3605742, \"/home/oren/work/notes/notes-nlp/.venv/lib/python3.10/site-packages/numpy/lib/npyio.py\": 1738208868.3605742, \"/home/oren/work/notes/notes-nlp/.venv/lib/python3.10/site-packages/numpy/lib/_ufunclike_impl.py\": 1738208868.3605742, \"/home/oren/work/notes/notes-nlp/.venv/lib/python3.10/site-packages/numpy/lib/_type_check_impl.py\": 1738208868.362574, \"/home/oren/work/notes/notes-nlp/.venv/lib/python3.10/site-packages/numpy/lib/_scimath_impl.py\": 1738208868.3555741, \"/home/oren/work/notes/notes-nlp/.venv/lib/python3.10/site-packages/numpy/lib/scimath.py\": 1738208868.3555741, \"/home/oren/work/notes/notes-nlp/.venv/lib/python3.10/site-packages/numpy/lib/_stride_tricks_impl.py\": 1738208868.3605742, \"/home/oren/work/notes/notes-nlp/.venv/lib/python3.10/site-packages/numpy/lib/stride_tricks.py\": 1738208868.3615742, \"/home/oren/work/notes/notes-nlp/.venv/lib/python3.10/site-packages/numpy/linalg/linalg.py\": 1738208868.3885736, \"/home/oren/work/notes/notes-nlp/.venv/lib/python3.10/site-packages/numpy/lib/_twodim_base_impl.py\": 1738208868.3605742, \"/home/oren/work/notes/notes-nlp/.venv/lib/python3.10/site-packages/numpy/linalg/_umath_linalg.cpython-310-x86_64-linux-gnu.so\": 1738208868.3875737, \"/home/oren/work/notes/notes-nlp/.venv/lib/python3.10/site-packages/numpy/_typing/_nested_sequence.py\": 1738208868.3865738, \"/home/oren/work/notes/notes-nlp/.venv/lib/python3.10/site-packages/numpy/_typing/_nbit.py\": 1738208868.3855739, \"/home/oren/work/notes/notes-nlp/.venv/lib/python3.10/site-packages/numpy/_typing/_char_codes.py\": 1738208868.3865738, \"/home/oren/work/notes/notes-nlp/.venv/lib/python3.10/site-packages/numpy/_typing/_scalars.py\": 1738208868.3855739, \"/home/oren/work/notes/notes-nlp/.venv/lib/python3.10/site-packages/numpy/_typing/_shape.py\": 1738208868.3865738, \"/home/oren/work/notes/notes-nlp/.venv/lib/python3.10/site-packages/numpy/_typing/_dtype_like.py\": 1738208868.3865738, \"/home/oren/work/notes/notes-nlp/.venv/lib/python3.10/site-packages/numpy/_typing/_array_like.py\": 1738208868.3865738, \"/home/oren/work/notes/notes-nlp/.venv/lib/python3.10/site-packages/numpy/_typing/__init__.py\": 1738208868.3855739, \"/home/oren/work/notes/notes-nlp/.venv/lib/python3.10/site-packages/numpy/linalg/_linalg.py\": 1738208868.3885736, \"/home/oren/work/notes/notes-nlp/.venv/lib/python3.10/site-packages/numpy/linalg/__init__.py\": 1738208868.3875737, \"/home/oren/work/notes/notes-nlp/.venv/lib/python3.10/site-packages/numpy/matrixlib/defmatrix.py\": 1738208868.3225749, \"/home/oren/work/notes/notes-nlp/.venv/lib/python3.10/site-packages/numpy/matrixlib/__init__.py\": 1738208868.3225749, \"/home/oren/work/notes/notes-nlp/.venv/lib/python3.10/site-packages/numpy/lib/_histograms_impl.py\": 1738208868.3585742, \"/home/oren/work/notes/notes-nlp/.venv/lib/python3.10/site-packages/numpy/lib/_function_base_impl.py\": 1738208868.359574, \"/home/oren/work/notes/notes-nlp/.venv/lib/python3.10/site-packages/numpy/lib/_index_tricks_impl.py\": 1738208868.3565743, \"/home/oren/work/notes/notes-nlp/.venv/lib/python3.10/site-packages/numpy/lib/_nanfunctions_impl.py\": 1738208868.3615742, \"/home/oren/work/notes/notes-nlp/.venv/lib/python3.10/site-packages/numpy/lib/_shape_base_impl.py\": 1738208868.3605742, \"/home/oren/work/notes/notes-nlp/.venv/lib/python3.10/site-packages/numpy/lib/_arraysetops_impl.py\": 1738208868.362574, \"/home/oren/work/notes/notes-nlp/.venv/lib/python3.10/site-packages/numpy/lib/_polynomial_impl.py\": 1738208868.3615742, \"/home/oren/work/notes/notes-nlp/.venv/lib/python3.10/site-packages/numpy/lib/_arrayterator_impl.py\": 1738208868.3585742, \"/home/oren/work/notes/notes-nlp/.venv/lib/python3.10/site-packages/numpy/lib/_arraypad_impl.py\": 1738208868.3615742, \"/home/oren/work/notes/notes-nlp/.venv/lib/python3.10/site-packages/numpy/lib/_version.py\": 1738208868.3565743, \"/home/oren/work/notes/notes-nlp/.venv/lib/python3.10/site-packages/numpy/lib/__init__.py\": 1738208868.3575742, \"/home/oren/work/notes/notes-nlp/.venv/lib/python3.10/site-packages/numpy/__init__.py\": 1738208868.2355762, \"/home/oren/work/notes/notes-nlp/.venv/lib/python3.10/site-packages/matplotlib/_c_internal_utils.cpython-310-x86_64-linux-gnu.so\": 1738211113.639898, \"/home/oren/work/notes/notes-nlp/.venv/lib/python3.10/site-packages/matplotlib/cbook.py\": 1738211113.650898, \"/home/oren/work/notes/notes-nlp/.venv/lib/python3.10/site-packages/matplotlib/_docstring.py\": 1738211113.648898, \"/home/oren/work/notes/notes-nlp/.venv/lib/python3.10/site-packages/matplotlib/backends/registry.py\": 1738211113.7438965, \"/home/oren/work/notes/notes-nlp/.venv/lib/python3.10/site-packages/matplotlib/backends/__init__.py\": 1738211113.7368965, \"/home/oren/work/notes/notes-nlp/.venv/lib/python3.10/site-packages/PIL/_version.py\": 1738206370.4256256, \"/home/oren/work/notes/notes-nlp/.venv/lib/python3.10/site-packages/PIL/__init__.py\": 1738206370.4216256, \"/home/oren/work/notes/notes-nlp/.venv/lib/python3.10/site-packages/PIL/ExifTags.py\": 1738206370.4146256, \"/home/oren/work/notes/notes-nlp/.venv/lib/python3.10/site-packages/PIL/_deprecate.py\": 1738206370.4256256, \"/home/oren/work/notes/notes-nlp/.venv/lib/python3.10/site-packages/PIL/ImageMode.py\": 1738206370.4246256, \"/home/oren/work/notes/notes-nlp/.venv/lib/python3.10/site-packages/PIL/TiffTags.py\": 1738206370.4166257, \"/home/oren/work/notes/notes-nlp/.venv/lib/python3.10/site-packages/PIL/_binary.py\": 1738206370.4166257, \"/home/oren/work/notes/notes-nlp/.venv/lib/python3.10/site-packages/PIL/_typing.py\": 1738206370.4186256, \"/home/oren/work/notes/notes-nlp/.venv/lib/python3.10/site-packages/PIL/_util.py\": 1738206370.4176257, \"/home/oren/work/notes/notes-nlp/.venv/lib/python3.10/site-packages/defusedxml/common.py\": 1738208871.445525, \"/home/oren/work/notes/notes-nlp/.venv/lib/python3.10/site-packages/defusedxml/__init__.py\": 1738208871.445525, \"/usr/lib/python3.10/xml/etree/__init__.py\": 1737124534.0, \"/usr/lib/python3.10/xml/etree/ElementPath.py\": 1737124534.0, \"/usr/lib/python3.10/xml/etree/ElementTree.py\": 1737124534.0, \"/home/oren/work/notes/notes-nlp/.venv/lib/python3.10/site-packages/defusedxml/ElementTree.py\": 1738208871.445525, \"/home/oren/work/notes/notes-nlp/.venv/lib/python3.10/site-packages/PIL/_imaging.cpython-310-x86_64-linux-gnu.so\": 1738206370.4396253, \"/home/oren/work/notes/notes-nlp/.venv/lib/python3.10/site-packages/PIL/Image.py\": 1738206370.4276257, \"/home/oren/work/notes/notes-nlp/.venv/lib/python3.10/site-packages/PIL/ImageChops.py\": 1738206370.4256256, \"/home/oren/work/notes/notes-nlp/.venv/lib/python3.10/site-packages/PIL/ImageFile.py\": 1738206370.4196258, \"/home/oren/work/notes/notes-nlp/.venv/lib/python3.10/site-packages/PIL/GimpGradientFile.py\": 1738206370.4266255, \"/home/oren/work/notes/notes-nlp/.venv/lib/python3.10/site-packages/PIL/GimpPaletteFile.py\": 1738206370.4236257, \"/home/oren/work/notes/notes-nlp/.venv/lib/python3.10/site-packages/PIL/ImageColor.py\": 1738206370.4266255, \"/home/oren/work/notes/notes-nlp/.venv/lib/python3.10/site-packages/PIL/PaletteFile.py\": 1738206370.4266255, \"/home/oren/work/notes/notes-nlp/.venv/lib/python3.10/site-packages/PIL/ImagePalette.py\": 1738206370.4406254, \"/home/oren/work/notes/notes-nlp/.venv/lib/python3.10/site-packages/PIL/ImageSequence.py\": 1738206370.4256256, \"/home/oren/work/notes/notes-nlp/.venv/lib/python3.10/site-packages/PIL/PngImagePlugin.py\": 1738206370.4246256, \"/home/oren/work/notes/notes-nlp/.venv/lib/python3.10/site-packages/matplotlib/_cm.py\": 1738211113.6708975, \"/home/oren/work/notes/notes-nlp/.venv/lib/python3.10/site-packages/matplotlib/_path.cpython-310-x86_64-linux-gnu.so\": 1738211113.6768975, \"/home/oren/work/notes/notes-nlp/.venv/lib/python3.10/site-packages/matplotlib/bezier.py\": 1738211113.654898, \"/home/oren/work/notes/notes-nlp/.venv/lib/python3.10/site-packages/matplotlib/path.py\": 1738211113.650898, \"/home/oren/work/notes/notes-nlp/.venv/lib/python3.10/site-packages/matplotlib/transforms.py\": 1738211113.6768975, \"/home/oren/work/notes/notes-nlp/.venv/lib/python3.10/site-packages/matplotlib/ticker.py\": 1738211113.6608977, \"/home/oren/work/notes/notes-nlp/.venv/lib/python3.10/site-packages/matplotlib/scale.py\": 1738211113.648898, \"/home/oren/work/notes/notes-nlp/.venv/lib/python3.10/site-packages/matplotlib/_image.cpython-310-x86_64-linux-gnu.so\": 1738211113.6608977, \"/home/oren/work/notes/notes-nlp/.venv/lib/python3.10/site-packages/matplotlib/_color_data.py\": 1738211113.6648977, \"/home/oren/work/notes/notes-nlp/.venv/lib/python3.10/site-packages/matplotlib/colors.py\": 1738211113.6748974, \"/home/oren/work/notes/notes-nlp/.venv/lib/python3.10/site-packages/pyparsing/util.py\": 1738206368.610655, \"/home/oren/work/notes/notes-nlp/.venv/lib/python3.10/site-packages/pyparsing/unicode.py\": 1738206368.610655, \"/home/oren/work/notes/notes-nlp/.venv/lib/python3.10/site-packages/pyparsing/exceptions.py\": 1738206368.6096551, \"/home/oren/work/notes/notes-nlp/.venv/lib/python3.10/site-packages/pyparsing/results.py\": 1738206368.610655, \"/home/oren/work/notes/notes-nlp/.venv/lib/python3.10/site-packages/pyparsing/actions.py\": 1738206368.6086552, \"/home/oren/work/notes/notes-nlp/.venv/lib/python3.10/site-packages/pyparsing/core.py\": 1738206368.6096551, \"/home/oren/work/notes/notes-nlp/.venv/lib/python3.10/site-packages/pyparsing/helpers.py\": 1738206368.610655, \"/home/oren/work/notes/notes-nlp/.venv/lib/python3.10/site-packages/pyparsing/testing.py\": 1738206368.610655, \"/home/oren/work/notes/notes-nlp/.venv/lib/python3.10/site-packages/pyparsing/common.py\": 1738206368.6086552, \"/home/oren/work/notes/notes-nlp/.venv/lib/python3.10/site-packages/pyparsing/__init__.py\": 1738206368.6086552, \"/home/oren/work/notes/notes-nlp/.venv/lib/python3.10/site-packages/matplotlib/_fontconfig_pattern.py\": 1738211113.6628976, \"/home/oren/work/notes/notes-nlp/.venv/lib/python3.10/site-packages/matplotlib/_enums.py\": 1738211113.6498978, \"/home/oren/work/notes/notes-nlp/.venv/lib/python3.10/site-packages/cycler/__init__.py\": 1738208871.9065175, \"/home/oren/work/notes/notes-nlp/.venv/lib/python3.10/site-packages/matplotlib/rcsetup.py\": 1738211113.6718976, \"/home/oren/work/notes/notes-nlp/.venv/lib/python3.10/site-packages/matplotlib/ft2font.cpython-310-x86_64-linux-gnu.so\": 1738211113.646898, \"/home/oren/work/notes/notes-nlp/.venv/lib/python3.10/site-packages/kiwisolver/exceptions.py\": 1738208869.496556, \"/home/oren/work/notes/notes-nlp/.venv/lib/python3.10/site-packages/kiwisolver/_cext.cpython-310-x86_64-linux-gnu.so\": 1738208869.5165558, \"/home/oren/work/notes/notes-nlp/.venv/lib/python3.10/site-packages/kiwisolver/__init__.py\": 1738208869.5165558, \"/home/oren/work/notes/notes-nlp/.venv/lib/python3.10/site-packages/numpy/ma/core.py\": 1738208868.3525743, \"/home/oren/work/notes/notes-nlp/.venv/lib/python3.10/site-packages/numpy/ma/extras.py\": 1738208868.3515742, \"/home/oren/work/notes/notes-nlp/.venv/lib/python3.10/site-packages/numpy/ma/__init__.py\": 1738208868.3505743, \"/home/oren/work/notes/notes-nlp/.venv/lib/python3.10/site-packages/matplotlib/artist.py\": 1738211113.6718976, \"/home/oren/work/notes/notes-nlp/.venv/lib/python3.10/site-packages/matplotlib/colorizer.py\": 1738211113.6768975, \"/home/oren/work/notes/notes-nlp/.venv/lib/python3.10/site-packages/matplotlib/_cm_listed.py\": 1738211113.6538978, \"/home/oren/work/notes/notes-nlp/.venv/lib/python3.10/site-packages/matplotlib/_cm_multivar.py\": 1738211113.6648977, \"/home/oren/work/notes/notes-nlp/.venv/lib/python3.10/site-packages/matplotlib/_cm_bivar.py\": 1738211113.654898, \"/home/oren/work/notes/notes-nlp/.venv/lib/python3.10/site-packages/matplotlib/cm.py\": 1738211113.6528978, \"/home/oren/work/notes/notes-nlp/.venv/lib/python3.10/site-packages/matplotlib/__init__.py\": 1738211113.6568978, \"/home/oren/work/notes/notes-nlp/.venv/lib/python3.10/site-packages/matplotlib/hatch.py\": 1738211113.654898, \"/home/oren/work/notes/notes-nlp/.venv/lib/python3.10/site-packages/matplotlib/markers.py\": 1738211113.6728976, \"/home/oren/work/notes/notes-nlp/.venv/lib/python3.10/site-packages/matplotlib/lines.py\": 1738211113.6618977, \"/home/oren/work/notes/notes-nlp/.venv/lib/python3.10/site-packages/matplotlib/collections.py\": 1738211113.6538978, \"/home/oren/work/notes/notes-nlp/.venv/lib/python3.10/site-packages/matplotlib/_pylab_helpers.py\": 1738211113.6578977, \"/home/oren/work/notes/notes-nlp/.venv/lib/python3.10/site-packages/matplotlib/backend_tools.py\": 1738211113.6738975, \"/usr/lib/python3.10/plistlib.py\": 1737124534.0, \"/home/oren/work/notes/notes-nlp/.venv/lib/python3.10/site-packages/matplotlib/_mathtext_data.py\": 1738211113.6568978, \"/home/oren/work/notes/notes-nlp/.venv/lib/python3.10/site-packages/matplotlib/_afm.py\": 1738211113.6628976, \"/home/oren/work/notes/notes-nlp/.venv/lib/python3.10/site-packages/matplotlib/font_manager.py\": 1738211113.6498978, \"/home/oren/work/notes/notes-nlp/.venv/lib/python3.10/site-packages/matplotlib/patches.py\": 1738211113.6568978, \"/home/oren/work/notes/notes-nlp/.venv/lib/python3.10/site-packages/matplotlib/_text_helpers.py\": 1738211113.6728976, \"/home/oren/work/notes/notes-nlp/.venv/lib/python3.10/site-packages/matplotlib/dviread.py\": 1738211113.6628976, \"/home/oren/work/notes/notes-nlp/.venv/lib/python3.10/site-packages/matplotlib/_mathtext.py\": 1738211113.6658976, \"/home/oren/work/notes/notes-nlp/.venv/lib/python3.10/site-packages/matplotlib/mathtext.py\": 1738211113.650898, \"/home/oren/work/notes/notes-nlp/.venv/lib/python3.10/site-packages/matplotlib/texmanager.py\": 1738211113.6768975, \"/home/oren/work/notes/notes-nlp/.venv/lib/python3.10/site-packages/matplotlib/textpath.py\": 1738211113.6708975, \"/home/oren/work/notes/notes-nlp/.venv/lib/python3.10/site-packages/matplotlib/text.py\": 1738211113.6698976, \"/home/oren/work/notes/notes-nlp/.venv/lib/python3.10/site-packages/matplotlib/_tight_bbox.py\": 1738211113.6578977, \"/home/oren/work/notes/notes-nlp/.venv/lib/python3.10/site-packages/matplotlib/widgets.py\": 1738211113.6588976, \"/home/oren/work/notes/notes-nlp/.venv/lib/python3.10/site-packages/matplotlib/backend_managers.py\": 1738211113.6638978, \"/home/oren/work/notes/notes-nlp/.venv/lib/python3.10/site-packages/matplotlib/_layoutgrid.py\": 1738211113.647898, \"/home/oren/work/notes/notes-nlp/.venv/lib/python3.10/site-packages/matplotlib/_constrained_layout.py\": 1738211113.6728976, \"/home/oren/work/notes/notes-nlp/.venv/lib/python3.10/site-packages/matplotlib/_tight_layout.py\": 1738211113.647898, \"/home/oren/work/notes/notes-nlp/.venv/lib/python3.10/site-packages/matplotlib/layout_engine.py\": 1738211113.6738975, \"/home/oren/work/notes/notes-nlp/.venv/lib/python3.10/site-packages/matplotlib/backend_bases.py\": 1738211113.6558979, \"/home/oren/work/notes/notes-nlp/.venv/lib/python3.10/site-packages/matplotlib/contour.py\": 1738211113.6658976, \"/home/oren/work/notes/notes-nlp/.venv/lib/python3.10/site-packages/matplotlib/spines.py\": 1738211113.6608977, \"/home/oren/work/notes/notes-nlp/.venv/lib/python3.10/site-packages/matplotlib/colorbar.py\": 1738211113.647898, \"/home/oren/work/notes/notes-nlp/.venv/lib/python3.10/site-packages/matplotlib/image.py\": 1738211113.6578977, \"/usr/lib/python3.10/importlib/_adapters.py\": 1737124534.0, \"/usr/lib/python3.10/importlib/_common.py\": 1737124534.0, \"/usr/lib/python3.10/importlib/resources.py\": 1737124534.0, \"/home/oren/work/notes/notes-nlp/.venv/lib/python3.10/site-packages/matplotlib/style/core.py\": 1738211113.7468963, \"/home/oren/work/notes/notes-nlp/.venv/lib/python3.10/site-packages/matplotlib/style/__init__.py\": 1738211113.7468963, \"/home/oren/work/notes/notes-nlp/.venv/lib/python3.10/site-packages/matplotlib/_blocking_input.py\": 1738211113.6728976, \"/home/oren/work/notes/notes-nlp/.venv/lib/python3.10/site-packages/matplotlib/offsetbox.py\": 1738211113.6618977, \"/home/oren/work/notes/notes-nlp/.venv/lib/python3.10/site-packages/matplotlib/units.py\": 1738211113.6388981, \"/home/oren/work/notes/notes-nlp/.venv/lib/python3.10/site-packages/matplotlib/axis.py\": 1738211113.6618977, \"/home/oren/work/notes/notes-nlp/.venv/lib/python3.10/site-packages/matplotlib/gridspec.py\": 1738211113.648898, \"/home/oren/work/notes/notes-nlp/.venv/lib/python3.10/site-packages/matplotlib/table.py\": 1738211113.6778975, \"/home/oren/work/notes/notes-nlp/.venv/lib/python3.10/site-packages/matplotlib/axes/_base.py\": 1738211113.7648962, \"/home/oren/work/notes/notes-nlp/.venv/lib/python3.10/site-packages/matplotlib/category.py\": 1738211113.6708975, \"/home/oren/work/notes/notes-nlp/.venv/lib/python3.10/site-packages/dateutil/rrule.py\": 1738206446.0323966, \"/home/oren/work/notes/notes-nlp/.venv/lib/python3.10/site-packages/matplotlib/dates.py\": 1738211113.6728976, \"/home/oren/work/notes/notes-nlp/.venv/lib/python3.10/site-packages/matplotlib/inset.py\": 1738211113.647898, \"/home/oren/work/notes/notes-nlp/.venv/lib/python3.10/site-packages/matplotlib/container.py\": 1738211113.6778975, \"/home/oren/work/notes/notes-nlp/.venv/lib/python3.10/site-packages/matplotlib/legend_handler.py\": 1738211113.639898, \"/home/oren/work/notes/notes-nlp/.venv/lib/python3.10/site-packages/matplotlib/legend.py\": 1738211113.647898, \"/home/oren/work/notes/notes-nlp/.venv/lib/python3.10/site-packages/matplotlib/mlab.py\": 1738211113.6638978, \"/home/oren/work/notes/notes-nlp/.venv/lib/python3.10/site-packages/matplotlib/quiver.py\": 1738211113.6648977, \"/home/oren/work/notes/notes-nlp/.venv/lib/python3.10/site-packages/matplotlib/stackplot.py\": 1738211113.6728976, \"/home/oren/work/notes/notes-nlp/.venv/lib/python3.10/site-packages/matplotlib/streamplot.py\": 1738211113.6628976, \"/home/oren/work/notes/notes-nlp/.venv/lib/python3.10/site-packages/matplotlib/tri/_triangulation.py\": 1738211113.7478964, \"/home/oren/work/notes/notes-nlp/.venv/lib/python3.10/site-packages/matplotlib/tri/_tricontour.py\": 1738211113.7488964, \"/home/oren/work/notes/notes-nlp/.venv/lib/python3.10/site-packages/matplotlib/tri/_trifinder.py\": 1738211113.7468963, \"/home/oren/work/notes/notes-nlp/.venv/lib/python3.10/site-packages/matplotlib/tri/_tritools.py\": 1738211113.7468963, \"/home/oren/work/notes/notes-nlp/.venv/lib/python3.10/site-packages/matplotlib/tri/_triinterpolate.py\": 1738211113.7478964, \"/home/oren/work/notes/notes-nlp/.venv/lib/python3.10/site-packages/matplotlib/tri/_tripcolor.py\": 1738211113.7468963, \"/home/oren/work/notes/notes-nlp/.venv/lib/python3.10/site-packages/matplotlib/tri/_triplot.py\": 1738211113.7468963, \"/home/oren/work/notes/notes-nlp/.venv/lib/python3.10/site-packages/matplotlib/tri/_trirefine.py\": 1738211113.7478964, \"/home/oren/work/notes/notes-nlp/.venv/lib/python3.10/site-packages/matplotlib/tri/__init__.py\": 1738211113.7478964, \"/home/oren/work/notes/notes-nlp/.venv/lib/python3.10/site-packages/matplotlib/axes/_secondary_axes.py\": 1738211113.7648962, \"/home/oren/work/notes/notes-nlp/.venv/lib/python3.10/site-packages/matplotlib/axes/_axes.py\": 1738211113.763896, \"/home/oren/work/notes/notes-nlp/.venv/lib/python3.10/site-packages/matplotlib/axes/__init__.py\": 1738211113.7648962, \"/home/oren/work/notes/notes-nlp/.venv/lib/python3.10/site-packages/matplotlib/projections/geo.py\": 1738211113.7468963, \"/home/oren/work/notes/notes-nlp/.venv/lib/python3.10/site-packages/matplotlib/projections/polar.py\": 1738211113.7458963, \"/home/oren/work/notes/notes-nlp/.venv/lib/python3.10/site-packages/mpl_toolkits/mplot3d/proj3d.py\": 1738211113.771896, \"/home/oren/work/notes/notes-nlp/.venv/lib/python3.10/site-packages/mpl_toolkits/mplot3d/art3d.py\": 1738211113.772896, \"/home/oren/work/notes/notes-nlp/.venv/lib/python3.10/site-packages/mpl_toolkits/mplot3d/axis3d.py\": 1738211113.771896, \"/home/oren/work/notes/notes-nlp/.venv/lib/python3.10/site-packages/mpl_toolkits/mplot3d/axes3d.py\": 1738211113.772896, \"/home/oren/work/notes/notes-nlp/.venv/lib/python3.10/site-packages/mpl_toolkits/mplot3d/__init__.py\": 1738211113.771896, \"/home/oren/work/notes/notes-nlp/.venv/lib/python3.10/site-packages/matplotlib/projections/__init__.py\": 1738211113.7458963, \"/home/oren/work/notes/notes-nlp/.venv/lib/python3.10/site-packages/matplotlib/figure.py\": 1738211113.6498978, \"/home/oren/work/notes/notes-nlp/.venv/lib/python3.10/site-packages/matplotlib/pyplot.py\": 1738211113.639898, \"/home/oren/work/notes/notes-nlp/.venv/lib/python3.10/site-packages/matplotlib/backends/_backend_agg.cpython-310-x86_64-linux-gnu.so\": 1738211113.7408965, \"/home/oren/work/notes/notes-nlp/.venv/lib/python3.10/site-packages/matplotlib/backends/backend_agg.py\": 1738211113.7358966, \"/home/oren/work/notes/notes-nlp/.venv/lib/python3.10/site-packages/IPython/core/pylabtools.py\": 1738211116.3618548, \"/home/oren/work/notes/notes-nlp/.venv/lib/python3.10/site-packages/matplotlib_inline/config.py\": 1738208869.4475567, \"/home/oren/work/notes/notes-nlp/.venv/lib/python3.10/site-packages/matplotlib_inline/backend_inline.py\": 1738208869.4475567, \"/home/oren/work/notes/notes-nlp/.venv/lib/python3.10/site-packages/matplotlib_inline/__init__.py\": 1738208869.4475567, \"/home/oren/work/notes/notes-nlp/.venv/lib/python3.10/site-packages/pytz/exceptions.py\": 1738206365.908699, \"/home/oren/work/notes/notes-nlp/.venv/lib/python3.10/site-packages/pytz/lazy.py\": 1738206365.908699, \"/home/oren/work/notes/notes-nlp/.venv/lib/python3.10/site-packages/pytz/tzinfo.py\": 1738206365.909699, \"/home/oren/work/notes/notes-nlp/.venv/lib/python3.10/site-packages/pytz/tzfile.py\": 1738206365.909699, \"/home/oren/work/notes/notes-nlp/.venv/lib/python3.10/site-packages/pytz/__init__.py\": 1738206365.908699, \"/home/oren/work/notes/notes-nlp/.venv/lib/python3.10/site-packages/pandas/compat/_constants.py\": 1738208876.2014492, \"/home/oren/work/notes/notes-nlp/.venv/lib/python3.10/site-packages/pandas/compat/compressors.py\": 1738208876.2004492, \"/home/oren/work/notes/notes-nlp/.venv/lib/python3.10/site-packages/pandas/util/__init__.py\": 1738208875.9354534, \"/home/oren/work/notes/notes-nlp/.venv/lib/python3.10/site-packages/pandas/util/version/__init__.py\": 1738208875.9354534, \"/home/oren/work/notes/notes-nlp/.venv/lib/python3.10/site-packages/pandas/compat/numpy/__init__.py\": 1738208876.2014492, \"/home/oren/work/notes/notes-nlp/.venv/lib/python3.10/site-packages/pyarrow/_generated_version.py\": 1738206369.659638, \"/home/oren/work/notes/notes-nlp/.venv/lib/python3.10/site-packages/cloudpickle/cloudpickle.py\": 1738208871.9175174, \"/home/oren/work/notes/notes-nlp/.venv/lib/python3.10/site-packages/cloudpickle/__init__.py\": 1738208871.9165175, \"/home/oren/work/notes/notes-nlp/.venv/lib/python3.10/site-packages/pyarrow/util.py\": 1738206369.7016373, \"/home/oren/work/notes/notes-nlp/.venv/lib/python3.10/site-packages/pyarrow/lib.cpython-310-x86_64-linux-gnu.so\": 1738206369.2536447, \"/home/oren/work/notes/notes-nlp/.venv/lib/python3.10/site-packages/pyarrow/ipc.py\": 1738206369.6146388, \"/home/oren/work/notes/notes-nlp/.venv/lib/python3.10/site-packages/pyarrow/types.py\": 1738206369.226645, \"/home/oren/work/notes/notes-nlp/.venv/lib/python3.10/site-packages/pyarrow/__init__.py\": 1738206369.2686443, \"/home/oren/work/notes/notes-nlp/.venv/lib/python3.10/site-packages/pandas/compat/pyarrow.py\": 1738208876.2014492, \"/home/oren/work/notes/notes-nlp/.venv/lib/python3.10/site-packages/pandas/compat/__init__.py\": 1738208876.2004492, \"/home/oren/work/notes/notes-nlp/.venv/lib/python3.10/site-packages/numpy/random/_common.cpython-310-x86_64-linux-gnu.so\": 1738208868.3435745, \"/usr/lib/python3.10/secrets.py\": 1737124534.0, \"/home/oren/work/notes/notes-nlp/.venv/lib/python3.10/site-packages/numpy/random/bit_generator.cpython-310-x86_64-linux-gnu.so\": 1738208868.3345745, \"/home/oren/work/notes/notes-nlp/.venv/lib/python3.10/site-packages/numpy/random/_bounded_integers.cpython-310-x86_64-linux-gnu.so\": 1738208868.3415744, \"/home/oren/work/notes/notes-nlp/.venv/lib/python3.10/site-packages/numpy/random/_mt19937.cpython-310-x86_64-linux-gnu.so\": 1738208868.3445745, \"/home/oren/work/notes/notes-nlp/.venv/lib/python3.10/site-packages/numpy/random/mtrand.cpython-310-x86_64-linux-gnu.so\": 1738208868.3385744, \"/home/oren/work/notes/notes-nlp/.venv/lib/python3.10/site-packages/numpy/random/_philox.cpython-310-x86_64-linux-gnu.so\": 1738208868.3355746, \"/home/oren/work/notes/notes-nlp/.venv/lib/python3.10/site-packages/numpy/random/_pcg64.cpython-310-x86_64-linux-gnu.so\": 1738208868.3395746, \"/home/oren/work/notes/notes-nlp/.venv/lib/python3.10/site-packages/numpy/random/_sfc64.cpython-310-x86_64-linux-gnu.so\": 1738208868.3415744, \"/home/oren/work/notes/notes-nlp/.venv/lib/python3.10/site-packages/numpy/random/_generator.cpython-310-x86_64-linux-gnu.so\": 1738208868.3335745, \"/home/oren/work/notes/notes-nlp/.venv/lib/python3.10/site-packages/numpy/random/_pickle.py\": 1738208868.3345745, \"/home/oren/work/notes/notes-nlp/.venv/lib/python3.10/site-packages/numpy/random/__init__.py\": 1738208868.3415744, \"/home/oren/work/notes/notes-nlp/.venv/lib/python3.10/site-packages/pandas/_typing.py\": 1738208875.9244535, \"/home/oren/work/notes/notes-nlp/.venv/lib/python3.10/site-packages/pandas/util/_exceptions.py\": 1738208875.9354534, \"/home/oren/work/notes/notes-nlp/.venv/lib/python3.10/site-packages/pandas/_config/config.py\": 1738208876.0634513, \"/home/oren/work/notes/notes-nlp/.venv/lib/python3.10/site-packages/pandas/_config/dates.py\": 1738208876.0634513, \"/home/oren/work/notes/notes-nlp/.venv/lib/python3.10/site-packages/pandas/_config/display.py\": 1738208876.0634513, \"/home/oren/work/notes/notes-nlp/.venv/lib/python3.10/site-packages/pandas/_config/__init__.py\": 1738208876.0634513, \"/home/oren/work/notes/notes-nlp/.venv/lib/python3.10/site-packages/pandas/core/__init__.py\": 1738208876.0704513, \"/home/oren/work/notes/notes-nlp/.venv/lib/python3.10/site-packages/pandas/core/config_init.py\": 1738208876.0664513, \"/home/oren/work/notes/notes-nlp/.venv/lib/python3.10/site-packages/pandas/_libs/pandas_parser.cpython-310-x86_64-linux-gnu.so\": 1738208876.1614497, \"/home/oren/work/notes/notes-nlp/.venv/lib/python3.10/site-packages/pandas/_libs/pandas_datetime.cpython-310-x86_64-linux-gnu.so\": 1738208876.1594498, \"/home/oren/work/notes/notes-nlp/.venv/lib/python3.10/site-packages/pandas/_libs/tslibs/ccalendar.cpython-310-x86_64-linux-gnu.so\": 1738208876.1764495, \"/home/oren/work/notes/notes-nlp/.venv/lib/python3.10/site-packages/pandas/_libs/tslibs/np_datetime.cpython-310-x86_64-linux-gnu.so\": 1738208876.2004492, \"/home/oren/work/notes/notes-nlp/.venv/lib/python3.10/site-packages/pandas/_libs/tslibs/dtypes.cpython-310-x86_64-linux-gnu.so\": 1738208876.1704497, \"/home/oren/work/notes/notes-nlp/.venv/lib/python3.10/site-packages/pandas/_libs/tslibs/base.cpython-310-x86_64-linux-gnu.so\": 1738208876.1904492, \"/home/oren/work/notes/notes-nlp/.venv/lib/python3.10/site-packages/pandas/_libs/tslibs/nattype.cpython-310-x86_64-linux-gnu.so\": 1738208876.1714497, \"/home/oren/work/notes/notes-nlp/.venv/lib/python3.10/site-packages/pandas/compat/_optional.py\": 1738208876.2004492, \"/usr/lib/python3.10/zoneinfo/_tzpath.py\": 1737124534.0, \"/usr/lib/python3.10/zoneinfo/_common.py\": 1737124534.0, \"/usr/lib/python3.10/lib-dynload/_zoneinfo.cpython-310-x86_64-linux-gnu.so\": 1737124534.0, \"/usr/lib/python3.10/zoneinfo/__init__.py\": 1737124534.0, \"/home/oren/work/notes/notes-nlp/.venv/lib/python3.10/site-packages/pandas/_libs/tslibs/timezones.cpython-310-x86_64-linux-gnu.so\": 1738208876.1724496, \"/home/oren/work/notes/notes-nlp/.venv/lib/python3.10/site-packages/pandas/_config/localization.py\": 1738208876.0634513, \"/home/oren/work/notes/notes-nlp/.venv/lib/python3.10/site-packages/pandas/_libs/tslibs/fields.cpython-310-x86_64-linux-gnu.so\": 1738208876.1784494, \"/home/oren/work/notes/notes-nlp/.venv/lib/python3.10/site-packages/pandas/_libs/tslibs/timedeltas.cpython-310-x86_64-linux-gnu.so\": 1738208876.1984491, \"/home/oren/work/notes/notes-nlp/.venv/lib/python3.10/site-packages/pandas/_libs/tslibs/tzconversion.cpython-310-x86_64-linux-gnu.so\": 1738208876.1854494, \"/home/oren/work/notes/notes-nlp/.venv/lib/python3.10/site-packages/pandas/_libs/tslibs/timestamps.cpython-310-x86_64-linux-gnu.so\": 1738208876.1754496, \"/home/oren/work/notes/notes-nlp/.venv/lib/python3.10/site-packages/pandas/_libs/properties.cpython-310-x86_64-linux-gnu.so\": 1738208876.1644497, \"/home/oren/work/notes/notes-nlp/.venv/lib/python3.10/site-packages/pandas/_libs/tslibs/offsets.cpython-310-x86_64-linux-gnu.so\": 1738208876.1834495, \"/home/oren/work/notes/notes-nlp/.venv/lib/python3.10/site-packages/pandas/_libs/tslibs/strptime.cpython-310-x86_64-linux-gnu.so\": 1738208876.1894493, \"/home/oren/work/notes/notes-nlp/.venv/lib/python3.10/site-packages/pandas/_libs/tslibs/parsing.cpython-310-x86_64-linux-gnu.so\": 1738208876.1874495, \"/home/oren/work/notes/notes-nlp/.venv/lib/python3.10/site-packages/pandas/_libs/tslibs/conversion.cpython-310-x86_64-linux-gnu.so\": 1738208876.1914494, \"/home/oren/work/notes/notes-nlp/.venv/lib/python3.10/site-packages/pandas/_libs/tslibs/period.cpython-310-x86_64-linux-gnu.so\": 1738208876.1944492, \"/home/oren/work/notes/notes-nlp/.venv/lib/python3.10/site-packages/pandas/_libs/tslibs/vectorized.cpython-310-x86_64-linux-gnu.so\": 1738208876.199449, \"/home/oren/work/notes/notes-nlp/.venv/lib/python3.10/site-packages/pandas/_libs/tslibs/__init__.py\": 1738208876.1954494, \"/home/oren/work/notes/notes-nlp/.venv/lib/python3.10/site-packages/pandas/_libs/ops_dispatch.cpython-310-x86_64-linux-gnu.so\": 1738208876.15445, \"/home/oren/work/notes/notes-nlp/.venv/lib/python3.10/site-packages/pandas/_libs/missing.cpython-310-x86_64-linux-gnu.so\": 1738208876.14245, \"/home/oren/work/notes/notes-nlp/.venv/lib/python3.10/site-packages/pandas/_libs/hashtable.cpython-310-x86_64-linux-gnu.so\": 1738208876.1294503, \"/home/oren/work/notes/notes-nlp/.venv/lib/python3.10/site-packages/pandas/_libs/algos.cpython-310-x86_64-linux-gnu.so\": 1738208876.1054506, \"/home/oren/work/notes/notes-nlp/.venv/lib/python3.10/site-packages/pandas/_libs/interval.cpython-310-x86_64-linux-gnu.so\": 1738208876.15445, \"/home/oren/work/notes/notes-nlp/.venv/lib/python3.10/site-packages/pandas/_libs/__init__.py\": 1738208876.1644497, \"/home/oren/work/notes/notes-nlp/.venv/lib/python3.10/site-packages/pandas/core/dtypes/__init__.py\": 1738208876.0934508, \"/home/oren/work/notes/notes-nlp/.venv/lib/python3.10/site-packages/pandas/_libs/lib.cpython-310-x86_64-linux-gnu.so\": 1738208876.14745, \"/home/oren/work/notes/notes-nlp/.venv/lib/python3.10/site-packages/pandas/errors/__init__.py\": 1738208876.0964508, \"/home/oren/work/notes/notes-nlp/.venv/lib/python3.10/site-packages/pandas/core/dtypes/generic.py\": 1738208876.091451, \"/home/oren/work/notes/notes-nlp/.venv/lib/python3.10/site-packages/pandas/core/dtypes/base.py\": 1738208876.0924509, \"/home/oren/work/notes/notes-nlp/.venv/lib/python3.10/site-packages/pandas/core/dtypes/inference.py\": 1738208876.0924509, \"/home/oren/work/notes/notes-nlp/.venv/lib/python3.10/site-packages/pandas/core/dtypes/dtypes.py\": 1738208876.0924509, \"/home/oren/work/notes/notes-nlp/.venv/lib/python3.10/site-packages/pandas/core/dtypes/common.py\": 1738208876.0934508, \"/home/oren/work/notes/notes-nlp/.venv/lib/python3.10/site-packages/pandas/core/dtypes/missing.py\": 1738208876.091451, \"/home/oren/work/notes/notes-nlp/.venv/lib/python3.10/site-packages/pandas/util/_decorators.py\": 1738208875.9354534, \"/home/oren/work/notes/notes-nlp/.venv/lib/python3.10/site-packages/pandas/io/__init__.py\": 1738208875.9274535, \"/home/oren/work/notes/notes-nlp/.venv/lib/python3.10/site-packages/pandas/io/_util.py\": 1738208875.9254534, \"/home/oren/work/notes/notes-nlp/.venv/lib/python3.10/site-packages/pandas/core/dtypes/cast.py\": 1738208876.0924509, \"/home/oren/work/notes/notes-nlp/.venv/lib/python3.10/site-packages/pandas/core/dtypes/astype.py\": 1738208876.0924509, \"/home/oren/work/notes/notes-nlp/.venv/lib/python3.10/site-packages/pandas/core/dtypes/concat.py\": 1738208876.0934508, \"/home/oren/work/notes/notes-nlp/.venv/lib/python3.10/site-packages/pandas/core/array_algos/__init__.py\": 1738208876.0954509, \"/home/oren/work/notes/notes-nlp/.venv/lib/python3.10/site-packages/pandas/core/common.py\": 1738208876.0714512, \"/home/oren/work/notes/notes-nlp/.venv/lib/python3.10/site-packages/pandas/core/construction.py\": 1738208876.0644512, \"/home/oren/work/notes/notes-nlp/.venv/lib/python3.10/site-packages/pandas/core/array_algos/take.py\": 1738208876.0954509, \"/home/oren/work/notes/notes-nlp/.venv/lib/python3.10/site-packages/pandas/core/indexers/utils.py\": 1738208876.0714512, \"/home/oren/work/notes/notes-nlp/.venv/lib/python3.10/site-packages/pandas/core/indexers/__init__.py\": 1738208876.0714512, \"/home/oren/work/notes/notes-nlp/.venv/lib/python3.10/site-packages/pandas/core/algorithms.py\": 1738208876.0674512, \"/home/oren/work/notes/notes-nlp/.venv/lib/python3.10/site-packages/pyarrow/_compute.cpython-310-x86_64-linux-gnu.so\": 1738206369.6246386, \"/home/oren/work/notes/notes-nlp/.venv/lib/python3.10/site-packages/pyarrow/_compute_docstrings.py\": 1738206369.7016373, \"/home/oren/work/notes/notes-nlp/.venv/lib/python3.10/site-packages/pyarrow/vendored/__init__.py\": 1738206369.7956357, \"/home/oren/work/notes/notes-nlp/.venv/lib/python3.10/site-packages/pyarrow/vendored/docscrape.py\": 1738206369.7956357, \"/home/oren/work/notes/notes-nlp/.venv/lib/python3.10/site-packages/pyarrow/compute.py\": 1738206369.6246386, \"/home/oren/work/notes/notes-nlp/.venv/lib/python3.10/site-packages/pandas/core/arrays/arrow/accessors.py\": 1738208876.091451, \"/home/oren/work/notes/notes-nlp/.venv/lib/python3.10/site-packages/pandas/util/_validators.py\": 1738208875.9354534, \"/home/oren/work/notes/notes-nlp/.venv/lib/python3.10/site-packages/pandas/core/missing.py\": 1738208876.0664513, \"/home/oren/work/notes/notes-nlp/.venv/lib/python3.10/site-packages/pandas/_libs/ops.cpython-310-x86_64-linux-gnu.so\": 1738208876.1624498, \"/home/oren/work/notes/notes-nlp/.venv/lib/python3.10/site-packages/pandas/core/roperator.py\": 1738208876.0674512, \"/home/oren/work/notes/notes-nlp/.venv/lib/python3.10/site-packages/pandas/core/computation/__init__.py\": 1738208876.072451, \"/home/oren/work/notes/notes-nlp/.venv/lib/python3.10/site-packages/pandas/core/computation/check.py\": 1738208876.0734513, \"/home/oren/work/notes/notes-nlp/.venv/lib/python3.10/site-packages/pandas/core/computation/expressions.py\": 1738208876.072451, \"/home/oren/work/notes/notes-nlp/.venv/lib/python3.10/site-packages/pandas/core/ops/missing.py\": 1738208876.0734513, \"/home/oren/work/notes/notes-nlp/.venv/lib/python3.10/site-packages/pandas/core/ops/dispatch.py\": 1738208876.0734513, \"/home/oren/work/notes/notes-nlp/.venv/lib/python3.10/site-packages/pandas/core/ops/invalid.py\": 1738208876.0734513, \"/home/oren/work/notes/notes-nlp/.venv/lib/python3.10/site-packages/pandas/core/ops/array_ops.py\": 1738208876.0734513, \"/home/oren/work/notes/notes-nlp/.venv/lib/python3.10/site-packages/pandas/core/ops/common.py\": 1738208876.0744512, \"/home/oren/work/notes/notes-nlp/.venv/lib/python3.10/site-packages/pandas/core/ops/docstrings.py\": 1738208876.0744512, \"/home/oren/work/notes/notes-nlp/.venv/lib/python3.10/site-packages/pandas/core/ops/mask_ops.py\": 1738208876.0734513, \"/home/oren/work/notes/notes-nlp/.venv/lib/python3.10/site-packages/pandas/core/ops/__init__.py\": 1738208876.0734513, \"/home/oren/work/notes/notes-nlp/.venv/lib/python3.10/site-packages/pandas/core/arraylike.py\": 1738208876.0714512, \"/home/oren/work/notes/notes-nlp/.venv/lib/python3.10/site-packages/pandas/core/arrays/_arrow_string_mixins.py\": 1738208876.087451, \"/home/oren/work/notes/notes-nlp/.venv/lib/python3.10/site-packages/pandas/core/arrays/_utils.py\": 1738208876.088451, \"/home/oren/work/notes/notes-nlp/.venv/lib/python3.10/site-packages/pandas/compat/numpy/function.py\": 1738208876.2014492, \"/home/oren/work/notes/notes-nlp/.venv/lib/python3.10/site-packages/pandas/core/array_algos/quantile.py\": 1738208876.0954509, \"/home/oren/work/notes/notes-nlp/.venv/lib/python3.10/site-packages/pandas/core/sorting.py\": 1738208876.0634513, \"/home/oren/work/notes/notes-nlp/.venv/lib/python3.10/site-packages/pandas/core/arrays/base.py\": 1738208876.088451, \"/home/oren/work/notes/notes-nlp/.venv/lib/python3.10/site-packages/pandas/core/nanops.py\": 1738208876.0704513, \"/home/oren/work/notes/notes-nlp/.venv/lib/python3.10/site-packages/pandas/core/array_algos/masked_accumulations.py\": 1738208876.0954509, \"/home/oren/work/notes/notes-nlp/.venv/lib/python3.10/site-packages/pandas/core/array_algos/masked_reductions.py\": 1738208876.0954509, \"/home/oren/work/notes/notes-nlp/.venv/lib/python3.10/site-packages/pandas/core/util/__init__.py\": 1738208876.0734513, \"/home/oren/work/notes/notes-nlp/.venv/lib/python3.10/site-packages/pandas/_libs/hashing.cpython-310-x86_64-linux-gnu.so\": 1738208876.1654496, \"/home/oren/work/notes/notes-nlp/.venv/lib/python3.10/site-packages/pandas/core/util/hashing.py\": 1738208876.0734513, \"/home/oren/work/notes/notes-nlp/.venv/lib/python3.10/site-packages/pandas/core/arrays/masked.py\": 1738208876.0894508, \"/home/oren/work/notes/notes-nlp/.venv/lib/python3.10/site-packages/pandas/_libs/arrays.cpython-310-x86_64-linux-gnu.so\": 1738208876.14345, \"/home/oren/work/notes/notes-nlp/.venv/lib/python3.10/site-packages/pandas/core/arrays/numeric.py\": 1738208876.087451, \"/home/oren/work/notes/notes-nlp/.venv/lib/python3.10/site-packages/pandas/core/arrays/floating.py\": 1738208876.087451, \"/home/oren/work/notes/notes-nlp/.venv/lib/python3.10/site-packages/pandas/core/arrays/integer.py\": 1738208876.086451, \"/home/oren/work/notes/notes-nlp/.venv/lib/python3.10/site-packages/pandas/core/array_algos/transforms.py\": 1738208876.0954509, \"/home/oren/work/notes/notes-nlp/.venv/lib/python3.10/site-packages/pandas/core/arrays/_mixins.py\": 1738208876.086451, \"/home/oren/work/notes/notes-nlp/.venv/lib/python3.10/site-packages/pandas/core/strings/__init__.py\": 1738208876.094451, \"/home/oren/work/notes/notes-nlp/.venv/lib/python3.10/site-packages/pandas/core/strings/base.py\": 1738208876.0934508, \"/home/oren/work/notes/notes-nlp/.venv/lib/python3.10/site-packages/pandas/core/strings/object_array.py\": 1738208876.0934508, \"/home/oren/work/notes/notes-nlp/.venv/lib/python3.10/site-packages/pandas/core/arrays/numpy_.py\": 1738208876.088451, \"/home/oren/work/notes/notes-nlp/.venv/lib/python3.10/site-packages/pandas/core/arrays/string_.py\": 1738208876.088451, \"/home/oren/work/notes/notes-nlp/.venv/lib/python3.10/site-packages/pandas/tseries/__init__.py\": 1738208876.0634513, \"/home/oren/work/notes/notes-nlp/.venv/lib/python3.10/site-packages/pandas/tseries/frequencies.py\": 1738208876.0634513, \"/home/oren/work/notes/notes-nlp/.venv/lib/python3.10/site-packages/pandas/core/arrays/arrow/array.py\": 1738208876.091451, \"/home/oren/work/notes/notes-nlp/.venv/lib/python3.10/site-packages/pandas/core/arrays/arrow/__init__.py\": 1738208876.091451, \"/home/oren/work/notes/notes-nlp/.venv/lib/python3.10/site-packages/pandas/core/arrays/boolean.py\": 1738208876.0894508, \"/home/oren/work/notes/notes-nlp/.venv/lib/python3.10/site-packages/pandas/core/accessor.py\": 1738208876.0674512, \"/home/oren/work/notes/notes-nlp/.venv/lib/python3.10/site-packages/pandas/core/base.py\": 1738208876.0664513, \"/home/oren/work/notes/notes-nlp/.venv/lib/python3.10/site-packages/pandas/io/formats/__init__.py\": 1738208875.9294534, \"/home/oren/work/notes/notes-nlp/.venv/lib/python3.10/site-packages/pandas/io/formats/console.py\": 1738208875.9284534, \"/home/oren/work/notes/notes-nlp/.venv/lib/python3.10/site-packages/pandas/core/arrays/categorical.py\": 1738208876.0894508, \"/home/oren/work/notes/notes-nlp/.venv/lib/python3.10/site-packages/pandas/_libs/tslib.cpython-310-x86_64-linux-gnu.so\": 1738208876.1614497, \"/home/oren/work/notes/notes-nlp/.venv/lib/python3.10/site-packages/pandas/core/array_algos/datetimelike_accumulations.py\": 1738208876.0954509, \"/home/oren/work/notes/notes-nlp/.venv/lib/python3.10/site-packages/pandas/core/arrays/datetimelike.py\": 1738208876.087451, \"/home/oren/work/notes/notes-nlp/.venv/lib/python3.10/site-packages/pandas/core/arrays/_ranges.py\": 1738208876.0894508, \"/home/oren/work/notes/notes-nlp/.venv/lib/python3.10/site-packages/pandas/tseries/offsets.py\": 1738208876.0624514, \"/home/oren/work/notes/notes-nlp/.venv/lib/python3.10/site-packages/pandas/core/arrays/datetimes.py\": 1738208876.086451, \"/home/oren/work/notes/notes-nlp/.venv/lib/python3.10/site-packages/pandas/core/arrays/timedeltas.py\": 1738208876.090451, \"/home/oren/work/notes/notes-nlp/.venv/lib/python3.10/site-packages/pandas/core/arrays/interval.py\": 1738208876.088451, \"/home/oren/work/notes/notes-nlp/.venv/lib/python3.10/site-packages/pandas/core/arrays/period.py\": 1738208876.087451, \"/home/oren/work/notes/notes-nlp/.venv/lib/python3.10/site-packages/pandas/_libs/sparse.cpython-310-x86_64-linux-gnu.so\": 1738208876.1344502, \"/home/oren/work/notes/notes-nlp/.venv/lib/python3.10/site-packages/pandas/io/formats/printing.py\": 1738208875.9284534, \"/home/oren/work/notes/notes-nlp/.venv/lib/python3.10/site-packages/pandas/core/arrays/sparse/array.py\": 1738208876.090451, \"/home/oren/work/notes/notes-nlp/.venv/lib/python3.10/site-packages/pandas/core/arrays/sparse/accessor.py\": 1738208876.090451, \"/home/oren/work/notes/notes-nlp/.venv/lib/python3.10/site-packages/pandas/core/arrays/sparse/__init__.py\": 1738208876.090451, \"/home/oren/work/notes/notes-nlp/.venv/lib/python3.10/site-packages/pandas/core/arrays/arrow/_arrow_utils.py\": 1738208876.090451, \"/home/oren/work/notes/notes-nlp/.venv/lib/python3.10/site-packages/pandas/core/arrays/string_arrow.py\": 1738208876.087451, \"/home/oren/work/notes/notes-nlp/.venv/lib/python3.10/site-packages/pandas/core/arrays/__init__.py\": 1738208876.0894508, \"/home/oren/work/notes/notes-nlp/.venv/lib/python3.10/site-packages/pandas/core/flags.py\": 1738208876.0664513, \"/home/oren/work/notes/notes-nlp/.venv/lib/python3.10/site-packages/pandas/_libs/internals.cpython-310-x86_64-linux-gnu.so\": 1738208876.1414502, \"/home/oren/work/notes/notes-nlp/.venv/lib/python3.10/site-packages/pandas/core/_numba/__init__.py\": 1738208876.094451, \"/home/oren/work/notes/notes-nlp/.venv/lib/python3.10/site-packages/pandas/core/_numba/executor.py\": 1738208876.094451, \"/home/oren/work/notes/notes-nlp/.venv/lib/python3.10/site-packages/pandas/core/apply.py\": 1738208876.0714512, \"/home/oren/work/notes/notes-nlp/.venv/lib/python3.10/site-packages/pandas/_libs/indexing.cpython-310-x86_64-linux-gnu.so\": 1738208876.0974507, \"/home/oren/work/notes/notes-nlp/.venv/lib/python3.10/site-packages/pandas/core/indexes/__init__.py\": 1738208876.0784512, \"/home/oren/work/notes/notes-nlp/.venv/lib/python3.10/site-packages/pandas/_libs/index.cpython-310-x86_64-linux-gnu.so\": 1738208876.15845, \"/home/oren/work/notes/notes-nlp/.venv/lib/python3.10/site-packages/pandas/_libs/writers.cpython-310-x86_64-linux-gnu.so\": 1738208876.1104505, \"/home/oren/work/notes/notes-nlp/.venv/lib/python3.10/site-packages/pandas/_libs/join.cpython-310-x86_64-linux-gnu.so\": 1738208876.13945, \"/home/oren/work/notes/notes-nlp/.venv/lib/python3.10/site-packages/pandas/core/array_algos/putmask.py\": 1738208876.0954509, \"/home/oren/work/notes/notes-nlp/.venv/lib/python3.10/site-packages/pandas/core/indexes/frozen.py\": 1738208876.0784512, \"/home/oren/work/notes/notes-nlp/.venv/lib/python3.10/site-packages/pandas/core/strings/accessor.py\": 1738208876.0934508, \"/home/oren/work/notes/notes-nlp/.venv/lib/python3.10/site-packages/pandas/core/indexes/base.py\": 1738208876.0774512, \"/home/oren/work/notes/notes-nlp/.venv/lib/python3.10/site-packages/pandas/core/indexes/extension.py\": 1738208876.0784512, \"/home/oren/work/notes/notes-nlp/.venv/lib/python3.10/site-packages/pandas/core/indexes/category.py\": 1738208876.0784512, \"/home/oren/work/notes/notes-nlp/.venv/lib/python3.10/site-packages/pandas/core/indexes/range.py\": 1738208876.076451, \"/home/oren/work/notes/notes-nlp/.venv/lib/python3.10/site-packages/pandas/core/tools/__init__.py\": 1738208876.0744512, \"/home/oren/work/notes/notes-nlp/.venv/lib/python3.10/site-packages/pandas/core/tools/timedeltas.py\": 1738208876.0744512, \"/home/oren/work/notes/notes-nlp/.venv/lib/python3.10/site-packages/pandas/core/indexes/datetimelike.py\": 1738208876.076451, \"/home/oren/work/notes/notes-nlp/.venv/lib/python3.10/site-packages/pandas/core/tools/times.py\": 1738208876.0744512, \"/home/oren/work/notes/notes-nlp/.venv/lib/python3.10/site-packages/pandas/core/indexes/datetimes.py\": 1738208876.076451, \"/home/oren/work/notes/notes-nlp/.venv/lib/python3.10/site-packages/pandas/core/indexes/multi.py\": 1738208876.0754511, \"/home/oren/work/notes/notes-nlp/.venv/lib/python3.10/site-packages/pandas/core/indexes/timedeltas.py\": 1738208876.0784512, \"/home/oren/work/notes/notes-nlp/.venv/lib/python3.10/site-packages/pandas/core/indexes/interval.py\": 1738208876.076451, \"/home/oren/work/notes/notes-nlp/.venv/lib/python3.10/site-packages/pandas/core/indexes/period.py\": 1738208876.076451, \"/home/oren/work/notes/notes-nlp/.venv/lib/python3.10/site-packages/pandas/core/indexes/api.py\": 1738208876.0784512, \"/home/oren/work/notes/notes-nlp/.venv/lib/python3.10/site-packages/pandas/core/indexing.py\": 1738208876.0674512, \"/home/oren/work/notes/notes-nlp/.venv/lib/python3.10/site-packages/pandas/core/sample.py\": 1738208876.0664513, \"/home/oren/work/notes/notes-nlp/.venv/lib/python3.10/site-packages/pandas/core/array_algos/replace.py\": 1738208876.0954509, \"/home/oren/work/notes/notes-nlp/.venv/lib/python3.10/site-packages/pandas/core/internals/blocks.py\": 1738208876.085451, \"/home/oren/work/notes/notes-nlp/.venv/lib/python3.10/site-packages/pandas/core/internals/api.py\": 1738208876.084451, \"/home/oren/work/notes/notes-nlp/.venv/lib/python3.10/site-packages/pandas/core/internals/base.py\": 1738208876.084451, \"/home/oren/work/notes/notes-nlp/.venv/lib/python3.10/site-packages/pandas/core/internals/ops.py\": 1738208876.084451, \"/home/oren/work/notes/notes-nlp/.venv/lib/python3.10/site-packages/pandas/core/internals/managers.py\": 1738208876.086451, \"/home/oren/work/notes/notes-nlp/.venv/lib/python3.10/site-packages/pandas/core/internals/array_manager.py\": 1738208876.085451, \"/home/oren/work/notes/notes-nlp/.venv/lib/python3.10/site-packages/pandas/core/internals/concat.py\": 1738208876.085451, \"/home/oren/work/notes/notes-nlp/.venv/lib/python3.10/site-packages/pandas/core/internals/__init__.py\": 1738208876.085451, \"/home/oren/work/notes/notes-nlp/.venv/lib/python3.10/site-packages/pandas/core/internals/construction.py\": 1738208876.084451, \"/home/oren/work/notes/notes-nlp/.venv/lib/python3.10/site-packages/pandas/core/methods/__init__.py\": 1738208876.0754511, \"/home/oren/work/notes/notes-nlp/.venv/lib/python3.10/site-packages/pandas/core/reshape/__init__.py\": 1738208876.083451, \"/home/oren/work/notes/notes-nlp/.venv/lib/python3.10/site-packages/pandas/core/reshape/concat.py\": 1738208876.083451, \"/usr/lib/python3.10/lib-dynload/mmap.cpython-310-x86_64-linux-gnu.so\": 1737124534.0, \"/usr/lib/python3.10/tarfile.py\": 1737124534.0, \"/home/oren/work/notes/notes-nlp/.venv/lib/python3.10/site-packages/pandas/core/shared_docs.py\": 1738208876.0694513, \"/home/oren/work/notes/notes-nlp/.venv/lib/python3.10/site-packages/pandas/io/common.py\": 1738208875.9274535, \"/home/oren/work/notes/notes-nlp/.venv/lib/python3.10/site-packages/pandas/io/formats/format.py\": 1738208875.9284534, \"/home/oren/work/notes/notes-nlp/.venv/lib/python3.10/site-packages/pandas/core/methods/describe.py\": 1738208876.0754511, \"/home/oren/work/notes/notes-nlp/.venv/lib/python3.10/site-packages/pandas/_libs/window/__init__.py\": 1738208876.1674497, \"/home/oren/work/notes/notes-nlp/.venv/lib/python3.10/site-packages/pandas/_libs/window/aggregations.cpython-310-x86_64-linux-gnu.so\": 1738208876.1694496, \"/home/oren/work/notes/notes-nlp/.venv/lib/python3.10/site-packages/pandas/_libs/window/indexers.cpython-310-x86_64-linux-gnu.so\": 1738208876.1664498, \"/home/oren/work/notes/notes-nlp/.venv/lib/python3.10/site-packages/pandas/core/indexers/objects.py\": 1738208876.0714512, \"/home/oren/work/notes/notes-nlp/.venv/lib/python3.10/site-packages/pandas/core/util/numba_.py\": 1738208876.0734513, \"/home/oren/work/notes/notes-nlp/.venv/lib/python3.10/site-packages/pandas/core/window/common.py\": 1738208876.082451, \"/home/oren/work/notes/notes-nlp/.venv/lib/python3.10/site-packages/pandas/core/window/doc.py\": 1738208876.080451, \"/home/oren/work/notes/notes-nlp/.venv/lib/python3.10/site-packages/pandas/core/window/numba_.py\": 1738208876.081451, \"/home/oren/work/notes/notes-nlp/.venv/lib/python3.10/site-packages/pandas/core/window/online.py\": 1738208876.081451, \"/home/oren/work/notes/notes-nlp/.venv/lib/python3.10/site-packages/pandas/core/window/rolling.py\": 1738208876.081451, \"/home/oren/work/notes/notes-nlp/.venv/lib/python3.10/site-packages/pandas/core/window/ewm.py\": 1738208876.081451, \"/home/oren/work/notes/notes-nlp/.venv/lib/python3.10/site-packages/pandas/core/window/expanding.py\": 1738208876.081451, \"/home/oren/work/notes/notes-nlp/.venv/lib/python3.10/site-packages/pandas/core/window/__init__.py\": 1738208876.081451, \"/home/oren/work/notes/notes-nlp/.venv/lib/python3.10/site-packages/pandas/core/generic.py\": 1738208876.0664513, \"/home/oren/work/notes/notes-nlp/.venv/lib/python3.10/site-packages/pandas/core/methods/selectn.py\": 1738208876.0754511, \"/home/oren/work/notes/notes-nlp/.venv/lib/python3.10/site-packages/pandas/core/reshape/util.py\": 1738208876.083451, \"/home/oren/work/notes/notes-nlp/.venv/lib/python3.10/site-packages/pandas/core/tools/numeric.py\": 1738208876.0744512, \"/home/oren/work/notes/notes-nlp/.venv/lib/python3.10/site-packages/pandas/core/reshape/melt.py\": 1738208876.083451, \"/home/oren/work/notes/notes-nlp/.venv/lib/python3.10/site-packages/pandas/_libs/reshape.cpython-310-x86_64-linux-gnu.so\": 1738208876.14945, \"/home/oren/work/notes/notes-nlp/.venv/lib/python3.10/site-packages/pandas/core/indexes/accessors.py\": 1738208876.0784512, \"/home/oren/work/notes/notes-nlp/.venv/lib/python3.10/site-packages/pandas/arrays/__init__.py\": 1738208876.0954509, \"/home/oren/work/notes/notes-nlp/.venv/lib/python3.10/site-packages/pandas/core/tools/datetimes.py\": 1738208876.0744512, \"/home/oren/work/notes/notes-nlp/.venv/lib/python3.10/site-packages/pandas/io/formats/info.py\": 1738208875.9284534, \"/home/oren/work/notes/notes-nlp/.venv/lib/python3.10/site-packages/pandas/plotting/_core.py\": 1738208875.9364533, \"/home/oren/work/notes/notes-nlp/.venv/lib/python3.10/site-packages/pandas/plotting/_misc.py\": 1738208875.9364533, \"/home/oren/work/notes/notes-nlp/.venv/lib/python3.10/site-packages/pandas/plotting/__init__.py\": 1738208875.9364533, \"/home/oren/work/notes/notes-nlp/.venv/lib/python3.10/site-packages/pandas/core/series.py\": 1738208876.0704513, \"/home/oren/work/notes/notes-nlp/.venv/lib/python3.10/site-packages/pandas/core/frame.py\": 1738208876.0694513, \"/home/oren/work/notes/notes-nlp/.venv/lib/python3.10/site-packages/pandas/core/groupby/base.py\": 1738208876.080451, \"/home/oren/work/notes/notes-nlp/.venv/lib/python3.10/site-packages/pandas/_libs/groupby.cpython-310-x86_64-linux-gnu.so\": 1738208876.1204505, \"/home/oren/work/notes/notes-nlp/.venv/lib/python3.10/site-packages/pandas/core/groupby/categorical.py\": 1738208876.080451, \"/home/oren/work/notes/notes-nlp/.venv/lib/python3.10/site-packages/pandas/core/groupby/grouper.py\": 1738208876.080451, \"/home/oren/work/notes/notes-nlp/.venv/lib/python3.10/site-packages/pandas/core/groupby/ops.py\": 1738208876.080451, \"/home/oren/work/notes/notes-nlp/.venv/lib/python3.10/site-packages/pandas/core/groupby/numba_.py\": 1738208876.080451, \"/home/oren/work/notes/notes-nlp/.venv/lib/python3.10/site-packages/pandas/core/groupby/indexing.py\": 1738208876.080451, \"/home/oren/work/notes/notes-nlp/.venv/lib/python3.10/site-packages/pandas/core/groupby/groupby.py\": 1738208876.079451, \"/home/oren/work/notes/notes-nlp/.venv/lib/python3.10/site-packages/pandas/core/groupby/generic.py\": 1738208876.079451, \"/home/oren/work/notes/notes-nlp/.venv/lib/python3.10/site-packages/pandas/core/groupby/__init__.py\": 1738208876.080451, \"/home/oren/work/notes/notes-nlp/.venv/lib/python3.10/site-packages/pandas/core/api.py\": 1738208876.0664513, \"/home/oren/work/notes/notes-nlp/.venv/lib/python3.10/site-packages/pandas/tseries/api.py\": 1738208876.0624514, \"/home/oren/work/notes/notes-nlp/.venv/lib/python3.10/site-packages/pandas/core/computation/common.py\": 1738208876.0734513, \"/home/oren/work/notes/notes-nlp/.venv/lib/python3.10/site-packages/pandas/core/computation/align.py\": 1738208876.072451, \"/home/oren/work/notes/notes-nlp/.venv/lib/python3.10/site-packages/pandas/core/computation/scope.py\": 1738208876.0714512, \"/home/oren/work/notes/notes-nlp/.venv/lib/python3.10/site-packages/pandas/core/computation/ops.py\": 1738208876.072451, \"/home/oren/work/notes/notes-nlp/.venv/lib/python3.10/site-packages/pandas/core/computation/engines.py\": 1738208876.072451, \"/home/oren/work/notes/notes-nlp/.venv/lib/python3.10/site-packages/pandas/core/computation/parsing.py\": 1738208876.072451, \"/home/oren/work/notes/notes-nlp/.venv/lib/python3.10/site-packages/pandas/core/computation/expr.py\": 1738208876.0714512, \"/home/oren/work/notes/notes-nlp/.venv/lib/python3.10/site-packages/pandas/core/computation/eval.py\": 1738208876.072451, \"/home/oren/work/notes/notes-nlp/.venv/lib/python3.10/site-packages/pandas/core/computation/api.py\": 1738208876.072451, \"/home/oren/work/notes/notes-nlp/.venv/lib/python3.10/site-packages/pandas/core/reshape/encoding.py\": 1738208876.082451, \"/home/oren/work/notes/notes-nlp/.venv/lib/python3.10/site-packages/pandas/core/reshape/merge.py\": 1738208876.082451, \"/home/oren/work/notes/notes-nlp/.venv/lib/python3.10/site-packages/pandas/core/reshape/pivot.py\": 1738208876.082451, \"/home/oren/work/notes/notes-nlp/.venv/lib/python3.10/site-packages/pandas/core/reshape/tile.py\": 1738208876.083451, \"/home/oren/work/notes/notes-nlp/.venv/lib/python3.10/site-packages/pandas/core/reshape/api.py\": 1738208876.083451, \"/home/oren/work/notes/notes-nlp/.venv/lib/python3.10/site-packages/pandas/api/extensions/__init__.py\": 1738208876.0964508, \"/home/oren/work/notes/notes-nlp/.venv/lib/python3.10/site-packages/pandas/api/indexers/__init__.py\": 1738208876.0964508, \"/home/oren/work/notes/notes-nlp/.venv/lib/python3.10/site-packages/pandas/core/interchange/__init__.py\": 1738208876.084451, \"/home/oren/work/notes/notes-nlp/.venv/lib/python3.10/site-packages/pandas/core/interchange/dataframe_protocol.py\": 1738208876.083451, \"/home/oren/work/notes/notes-nlp/.venv/lib/python3.10/site-packages/pandas/core/interchange/utils.py\": 1738208876.084451, \"/home/oren/work/notes/notes-nlp/.venv/lib/python3.10/site-packages/pandas/core/interchange/from_dataframe.py\": 1738208876.084451, \"/home/oren/work/notes/notes-nlp/.venv/lib/python3.10/site-packages/pandas/api/interchange/__init__.py\": 1738208876.0964508, \"/home/oren/work/notes/notes-nlp/.venv/lib/python3.10/site-packages/pandas/core/dtypes/api.py\": 1738208876.0924509, \"/home/oren/work/notes/notes-nlp/.venv/lib/python3.10/site-packages/pandas/api/types/__init__.py\": 1738208876.0964508, \"/home/oren/work/notes/notes-nlp/.venv/lib/python3.10/site-packages/pandas/core/resample.py\": 1738208876.0644512, \"/home/oren/work/notes/notes-nlp/.venv/lib/python3.10/site-packages/pandas/_libs/json.cpython-310-x86_64-linux-gnu.so\": 1738208876.0974507, \"/home/oren/work/notes/notes-nlp/.venv/lib/python3.10/site-packages/pandas/io/json/_normalize.py\": 1738208875.9344535, \"/home/oren/work/notes/notes-nlp/.venv/lib/python3.10/site-packages/pandas/io/json/_table_schema.py\": 1738208875.9344535, \"/home/oren/work/notes/notes-nlp/.venv/lib/python3.10/site-packages/pandas/_libs/parsers.cpython-310-x86_64-linux-gnu.so\": 1738208876.1084507, \"/home/oren/work/notes/notes-nlp/.venv/lib/python3.10/site-packages/pandas/io/parsers/base_parser.py\": 1738208875.9324534, \"/home/oren/work/notes/notes-nlp/.venv/lib/python3.10/site-packages/pandas/io/parsers/arrow_parser_wrapper.py\": 1738208875.9314535, \"/home/oren/work/notes/notes-nlp/.venv/lib/python3.10/site-packages/pandas/io/parsers/c_parser_wrapper.py\": 1738208875.9314535, \"/home/oren/work/notes/notes-nlp/.venv/lib/python3.10/site-packages/pandas/io/parsers/python_parser.py\": 1738208875.9314535, \"/home/oren/work/notes/notes-nlp/.venv/lib/python3.10/site-packages/pandas/io/parsers/readers.py\": 1738208875.9314535, \"/home/oren/work/notes/notes-nlp/.venv/lib/python3.10/site-packages/pandas/io/parsers/__init__.py\": 1738208875.9324534, \"/home/oren/work/notes/notes-nlp/.venv/lib/python3.10/site-packages/pandas/io/json/_json.py\": 1738208875.9344535, \"/home/oren/work/notes/notes-nlp/.venv/lib/python3.10/site-packages/pandas/io/json/__init__.py\": 1738208875.9344535, \"/home/oren/work/notes/notes-nlp/.venv/lib/python3.10/site-packages/pandas/io/stata.py\": 1738208875.9274535, \"/home/oren/work/notes/notes-nlp/.venv/lib/python3.10/site-packages/pandas/api/typing/__init__.py\": 1738208876.0964508, \"/home/oren/work/notes/notes-nlp/.venv/lib/python3.10/site-packages/pandas/api/__init__.py\": 1738208876.0954509, \"/home/oren/work/notes/notes-nlp/.venv/lib/python3.10/site-packages/pandas/_testing/contexts.py\": 1738208876.0614514, \"/home/oren/work/notes/notes-nlp/.venv/lib/python3.10/site-packages/pandas/_testing/_io.py\": 1738208876.0624514, \"/home/oren/work/notes/notes-nlp/.venv/lib/python3.10/site-packages/pandas/_testing/_warnings.py\": 1738208876.0624514, \"/home/oren/work/notes/notes-nlp/.venv/lib/python3.10/site-packages/pandas/_libs/testing.cpython-310-x86_64-linux-gnu.so\": 1738208876.1634498, \"/home/oren/work/notes/notes-nlp/.venv/lib/python3.10/site-packages/pandas/_testing/asserters.py\": 1738208876.0624514, \"/home/oren/work/notes/notes-nlp/.venv/lib/python3.10/site-packages/pandas/_testing/compat.py\": 1738208876.0624514, \"/home/oren/work/notes/notes-nlp/.venv/lib/python3.10/site-packages/pandas/_testing/__init__.py\": 1738208876.0624514, \"/home/oren/work/notes/notes-nlp/.venv/lib/python3.10/site-packages/pandas/testing.py\": 1738208875.9244535, \"/home/oren/work/notes/notes-nlp/.venv/lib/python3.10/site-packages/pandas/util/_print_versions.py\": 1738208875.9344535, \"/home/oren/work/notes/notes-nlp/.venv/lib/python3.10/site-packages/pandas/io/clipboards.py\": 1738208875.9274535, \"/home/oren/work/notes/notes-nlp/.venv/lib/python3.10/site-packages/pandas/io/excel/_util.py\": 1738208875.9324534, \"/home/oren/work/notes/notes-nlp/.venv/lib/python3.10/site-packages/pandas/io/excel/_calamine.py\": 1738208875.9334533, \"/home/oren/work/notes/notes-nlp/.venv/lib/python3.10/site-packages/pandas/io/excel/_odfreader.py\": 1738208875.9334533, \"/home/oren/work/notes/notes-nlp/.venv/lib/python3.10/site-packages/pandas/io/excel/_openpyxl.py\": 1738208875.9334533, \"/home/oren/work/notes/notes-nlp/.venv/lib/python3.10/site-packages/pandas/io/excel/_pyxlsb.py\": 1738208875.9324534, \"/home/oren/work/notes/notes-nlp/.venv/lib/python3.10/site-packages/pandas/io/excel/_xlrd.py\": 1738208875.9334533, \"/home/oren/work/notes/notes-nlp/.venv/lib/python3.10/site-packages/pandas/io/excel/_base.py\": 1738208875.9324534, \"/home/oren/work/notes/notes-nlp/.venv/lib/python3.10/site-packages/pandas/io/excel/_odswriter.py\": 1738208875.9324534, \"/home/oren/work/notes/notes-nlp/.venv/lib/python3.10/site-packages/pandas/io/excel/_xlsxwriter.py\": 1738208875.9324534, \"/home/oren/work/notes/notes-nlp/.venv/lib/python3.10/site-packages/pandas/io/excel/__init__.py\": 1738208875.9334533, \"/home/oren/work/notes/notes-nlp/.venv/lib/python3.10/site-packages/pandas/io/feather_format.py\": 1738208875.9254534, \"/home/oren/work/notes/notes-nlp/.venv/lib/python3.10/site-packages/pandas/io/gbq.py\": 1738208875.9274535, \"/home/oren/work/notes/notes-nlp/.venv/lib/python3.10/site-packages/pandas/io/html.py\": 1738208875.9254534, \"/home/oren/work/notes/notes-nlp/.venv/lib/python3.10/site-packages/pandas/io/orc.py\": 1738208875.9244535, \"/home/oren/work/notes/notes-nlp/.venv/lib/python3.10/site-packages/pandas/io/parquet.py\": 1738208875.9254534, \"/home/oren/work/notes/notes-nlp/.venv/lib/python3.10/site-packages/pandas/compat/pickle_compat.py\": 1738208876.2004492, \"/home/oren/work/notes/notes-nlp/.venv/lib/python3.10/site-packages/pandas/io/pickle.py\": 1738208875.9274535, \"/home/oren/work/notes/notes-nlp/.venv/lib/python3.10/site-packages/pandas/core/computation/pytables.py\": 1738208876.072451, \"/home/oren/work/notes/notes-nlp/.venv/lib/python3.10/site-packages/pandas/io/pytables.py\": 1738208875.9264536, \"/home/oren/work/notes/notes-nlp/.venv/lib/python3.10/site-packages/pandas/io/sas/sasreader.py\": 1738208875.9344535, \"/home/oren/work/notes/notes-nlp/.venv/lib/python3.10/site-packages/pandas/io/sas/__init__.py\": 1738208875.9344535, \"/home/oren/work/notes/notes-nlp/.venv/lib/python3.10/site-packages/pandas/io/spss.py\": 1738208875.9254534, \"/home/oren/work/notes/notes-nlp/.venv/lib/python3.10/site-packages/pandas/io/sql.py\": 1738208875.9254534, \"/home/oren/work/notes/notes-nlp/.venv/lib/python3.10/site-packages/pandas/io/xml.py\": 1738208875.9274535, \"/home/oren/work/notes/notes-nlp/.venv/lib/python3.10/site-packages/pandas/io/api.py\": 1738208875.9254534, \"/home/oren/work/notes/notes-nlp/.venv/lib/python3.10/site-packages/pandas/util/_tester.py\": 1738208875.9344535, \"/home/oren/work/notes/notes-nlp/.venv/lib/python3.10/site-packages/pandas/_version_meson.py\": 1738208875.9244535, \"/home/oren/work/notes/notes-nlp/.venv/lib/python3.10/site-packages/pandas/__init__.py\": 1738208875.9244535}\n"
     ]
    }
   ],
   "source": [
    "\n",
    "# imports\n",
    "import os\n",
    "import sys\n",
    "import types\n",
    "import json\n",
    "import base64\n",
    "\n",
    "# figure size/format\n",
    "fig_width = 7\n",
    "fig_height = 5\n",
    "fig_format = 'retina'\n",
    "fig_dpi = 96\n",
    "interactivity = 'all'\n",
    "is_shiny = False\n",
    "is_dashboard = False\n",
    "plotly_connected = True\n",
    "\n",
    "# matplotlib defaults / format\n",
    "try:\n",
    "  import matplotlib.pyplot as plt\n",
    "  plt.rcParams['figure.figsize'] = (fig_width, fig_height)\n",
    "  plt.rcParams['figure.dpi'] = fig_dpi\n",
    "  plt.rcParams['savefig.dpi'] = \"figure\"\n",
    "  from IPython.display import set_matplotlib_formats\n",
    "  set_matplotlib_formats(fig_format)\n",
    "except Exception:\n",
    "  pass\n",
    "\n",
    "# plotly use connected mode\n",
    "try:\n",
    "  import plotly.io as pio\n",
    "  if plotly_connected:\n",
    "    pio.renderers.default = \"notebook_connected\"\n",
    "  else:\n",
    "    pio.renderers.default = \"notebook\"\n",
    "  for template in pio.templates.keys():\n",
    "    pio.templates[template].layout.margin = dict(t=30,r=0,b=0,l=0)\n",
    "except Exception:\n",
    "  pass\n",
    "\n",
    "# disable itables paging for dashboards\n",
    "if is_dashboard:\n",
    "  try:\n",
    "    from itables import options\n",
    "    options.dom = 'fiBrtlp'\n",
    "    options.maxBytes = 1024 * 1024\n",
    "    options.language = dict(info = \"Showing _TOTAL_ entries\")\n",
    "    options.classes = \"display nowrap compact\"\n",
    "    options.paging = False\n",
    "    options.searching = True\n",
    "    options.ordering = True\n",
    "    options.info = True\n",
    "    options.lengthChange = False\n",
    "    options.autoWidth = False\n",
    "    options.responsive = True\n",
    "    options.keys = True\n",
    "    options.buttons = []\n",
    "  except Exception:\n",
    "    pass\n",
    "  \n",
    "  try:\n",
    "    import altair as alt\n",
    "    # By default, dashboards will have container sized\n",
    "    # vega visualizations which allows them to flow reasonably\n",
    "    theme_sentinel = '_quarto-dashboard-internal'\n",
    "    def make_theme(name):\n",
    "        nonTheme = alt.themes._plugins[name]    \n",
    "        def patch_theme(*args, **kwargs):\n",
    "            existingTheme = nonTheme()\n",
    "            if 'height' not in existingTheme:\n",
    "              existingTheme['height'] = 'container'\n",
    "            if 'width' not in existingTheme:\n",
    "              existingTheme['width'] = 'container'\n",
    "\n",
    "            if 'config' not in existingTheme:\n",
    "              existingTheme['config'] = dict()\n",
    "            \n",
    "            # Configure the default font sizes\n",
    "            title_font_size = 15\n",
    "            header_font_size = 13\n",
    "            axis_font_size = 12\n",
    "            legend_font_size = 12\n",
    "            mark_font_size = 12\n",
    "            tooltip = False\n",
    "\n",
    "            config = existingTheme['config']\n",
    "\n",
    "            # The Axis\n",
    "            if 'axis' not in config:\n",
    "              config['axis'] = dict()\n",
    "            axis = config['axis']\n",
    "            if 'labelFontSize' not in axis:\n",
    "              axis['labelFontSize'] = axis_font_size\n",
    "            if 'titleFontSize' not in axis:\n",
    "              axis['titleFontSize'] = axis_font_size  \n",
    "\n",
    "            # The legend\n",
    "            if 'legend' not in config:\n",
    "              config['legend'] = dict()\n",
    "            legend = config['legend']\n",
    "            if 'labelFontSize' not in legend:\n",
    "              legend['labelFontSize'] = legend_font_size\n",
    "            if 'titleFontSize' not in legend:\n",
    "              legend['titleFontSize'] = legend_font_size  \n",
    "\n",
    "            # The header\n",
    "            if 'header' not in config:\n",
    "              config['header'] = dict()\n",
    "            header = config['header']\n",
    "            if 'labelFontSize' not in header:\n",
    "              header['labelFontSize'] = header_font_size\n",
    "            if 'titleFontSize' not in header:\n",
    "              header['titleFontSize'] = header_font_size    \n",
    "\n",
    "            # Title\n",
    "            if 'title' not in config:\n",
    "              config['title'] = dict()\n",
    "            title = config['title']\n",
    "            if 'fontSize' not in title:\n",
    "              title['fontSize'] = title_font_size\n",
    "\n",
    "            # Marks\n",
    "            if 'mark' not in config:\n",
    "              config['mark'] = dict()\n",
    "            mark = config['mark']\n",
    "            if 'fontSize' not in mark:\n",
    "              mark['fontSize'] = mark_font_size\n",
    "\n",
    "            # Mark tooltips\n",
    "            if tooltip and 'tooltip' not in mark:\n",
    "              mark['tooltip'] = dict(content=\"encoding\")\n",
    "\n",
    "            return existingTheme\n",
    "            \n",
    "        return patch_theme\n",
    "\n",
    "    # We can only do this once per session\n",
    "    if theme_sentinel not in alt.themes.names():\n",
    "      for name in alt.themes.names():\n",
    "        alt.themes.register(name, make_theme(name))\n",
    "      \n",
    "      # register a sentinel theme so we only do this once\n",
    "      alt.themes.register(theme_sentinel, make_theme('default'))\n",
    "      alt.themes.enable('default')\n",
    "\n",
    "  except Exception:\n",
    "    pass\n",
    "\n",
    "# enable pandas latex repr when targeting pdfs\n",
    "try:\n",
    "  import pandas as pd\n",
    "  if fig_format == 'pdf':\n",
    "    pd.set_option('display.latex.repr', True)\n",
    "except Exception:\n",
    "  pass\n",
    "\n",
    "# interactivity\n",
    "if interactivity:\n",
    "  from IPython.core.interactiveshell import InteractiveShell\n",
    "  InteractiveShell.ast_node_interactivity = interactivity\n",
    "\n",
    "# NOTE: the kernel_deps code is repeated in the cleanup.py file\n",
    "# (we can't easily share this code b/c of the way it is run).\n",
    "# If you edit this code also edit the same code in cleanup.py!\n",
    "\n",
    "# output kernel dependencies\n",
    "kernel_deps = dict()\n",
    "for module in list(sys.modules.values()):\n",
    "  # Some modules play games with sys.modules (e.g. email/__init__.py\n",
    "  # in the standard library), and occasionally this can cause strange\n",
    "  # failures in getattr.  Just ignore anything that's not an ordinary\n",
    "  # module.\n",
    "  if not isinstance(module, types.ModuleType):\n",
    "    continue\n",
    "  path = getattr(module, \"__file__\", None)\n",
    "  if not path:\n",
    "    continue\n",
    "  if path.endswith(\".pyc\") or path.endswith(\".pyo\"):\n",
    "    path = path[:-1]\n",
    "  if not os.path.exists(path):\n",
    "    continue\n",
    "  kernel_deps[path] = os.stat(path).st_mtime\n",
    "print(json.dumps(kernel_deps))\n",
    "\n",
    "# set run_path if requested\n",
    "run_path = 'L2hvbWUvb3Jlbi93b3JrL25vdGVzL25vdGVzLW5scC9wb3N0cy9jM3c0'\n",
    "if run_path:\n",
    "  # hex-decode the path\n",
    "  run_path = base64.b64decode(run_path.encode(\"utf-8\")).decode(\"utf-8\")\n",
    "  os.chdir(run_path)\n",
    "\n",
    "# reset state\n",
    "%reset\n",
    "\n",
    "# shiny\n",
    "# Checking for shiny by using False directly because we're after the %reset. We don't want\n",
    "# to set a variable that stays in global scope.\n",
    "if False:\n",
    "  try:\n",
    "    import htmltools as _htmltools\n",
    "    import ast as _ast\n",
    "\n",
    "    _htmltools.html_dependency_render_mode = \"json\"\n",
    "\n",
    "    # This decorator will be added to all function definitions\n",
    "    def _display_if_has_repr_html(x):\n",
    "      try:\n",
    "        # IPython 7.14 preferred import\n",
    "        from IPython.display import display, HTML\n",
    "      except:\n",
    "        from IPython.core.display import display, HTML\n",
    "\n",
    "      if hasattr(x, '_repr_html_'):\n",
    "        display(HTML(x._repr_html_()))\n",
    "      return x\n",
    "\n",
    "    # ideally we would undo the call to ast_transformers.append\n",
    "    # at the end of this block whenver an error occurs, we do \n",
    "    # this for now as it will only be a problem if the user \n",
    "    # switches from shiny to not-shiny mode (and even then likely\n",
    "    # won't matter)\n",
    "    import builtins\n",
    "    builtins._display_if_has_repr_html = _display_if_has_repr_html\n",
    "\n",
    "    class _FunctionDefReprHtml(_ast.NodeTransformer):\n",
    "      def visit_FunctionDef(self, node):\n",
    "        node.decorator_list.insert(\n",
    "          0,\n",
    "          _ast.Name(id=\"_display_if_has_repr_html\", ctx=_ast.Load())\n",
    "        )\n",
    "        return node\n",
    "\n",
    "      def visit_AsyncFunctionDef(self, node):\n",
    "        node.decorator_list.insert(\n",
    "          0,\n",
    "          _ast.Name(id=\"_display_if_has_repr_html\", ctx=_ast.Load())\n",
    "        )\n",
    "        return node\n",
    "\n",
    "    ip = get_ipython()\n",
    "    ip.ast_transformers.append(_FunctionDefReprHtml())\n",
    "\n",
    "  except:\n",
    "    pass\n",
    "\n",
    "def ojs_define(**kwargs):\n",
    "  import json\n",
    "  try:\n",
    "    # IPython 7.14 preferred import\n",
    "    from IPython.display import display, HTML\n",
    "  except:\n",
    "    from IPython.core.display import display, HTML\n",
    "\n",
    "  # do some minor magic for convenience when handling pandas\n",
    "  # dataframes\n",
    "  def convert(v):\n",
    "    try:\n",
    "      import pandas as pd\n",
    "    except ModuleNotFoundError: # don't do the magic when pandas is not available\n",
    "      return v\n",
    "    if type(v) == pd.Series:\n",
    "      v = pd.DataFrame(v)\n",
    "    if type(v) == pd.DataFrame:\n",
    "      j = json.loads(v.T.to_json(orient='split'))\n",
    "      return dict((k,v) for (k,v) in zip(j[\"index\"], j[\"data\"]))\n",
    "    else:\n",
    "      return v\n",
    "\n",
    "  v = dict(contents=list(dict(name=key, value=convert(value)) for (key, value) in kwargs.items()))\n",
    "  display(HTML('<script type=\"ojs-define\">' + json.dumps(v) + '</script>'), metadata=dict(ojs_define = True))\n",
    "globals()[\"ojs_define\"] = ojs_define\n",
    "globals()[\"__spec__\"] = None"
   ]
  },
  {
   "cell_type": "code",
   "execution_count": 2,
   "id": "e58272b6",
   "metadata": {
    "colab": {
     "base_uri": "https://localhost:8080/",
     "height": 34
    },
    "colab_type": "code"
   },
   "outputs": [
    {
     "name": "stderr",
     "output_type": "stream",
     "text": [
      "2025-02-07 11:04:04.532866: E external/local_xla/xla/stream_executor/cuda/cuda_fft.cc:477] Unable to register cuFFT factory: Attempting to register factory for plugin cuFFT when one has already been registered\n",
      "WARNING: All log messages before absl::InitializeLog() is called are written to STDERR\n",
      "E0000 00:00:1738919044.548480   57666 cuda_dnn.cc:8310] Unable to register cuDNN factory: Attempting to register factory for plugin cuDNN when one has already been registered\n",
      "E0000 00:00:1738919044.553001   57666 cuda_blas.cc:1418] Unable to register cuBLAS factory: Attempting to register factory for plugin cuBLAS when one has already been registered\n"
     ]
    }
   ],
   "source": [
    "import os\n",
    "import nltk\n",
    "import trax\n",
    "from trax import layers as tl\n",
    "from trax.supervised import training\n",
    "from trax.fastmath import numpy as fastnp\n",
    "import numpy as np\n",
    "import pandas as pd\n",
    "import random as rnd\n",
    "\n",
    "# set random seeds\n",
    "from trax import fastmath\n",
    "seed=34\n",
    "rng = fastmath.random.get_prng(seed)\n",
    "#trax.supervised.trainer_lib.init_random_number_generators(34)\n",
    "rnd.seed(seed)"
   ]
  },
  {
   "cell_type": "code",
   "execution_count": 3,
   "id": "447733f3",
   "metadata": {
    "colab": {
     "base_uri": "https://localhost:8080/",
     "height": 528
    },
    "colab_type": "code"
   },
   "outputs": [
    {
     "ename": "FileNotFoundError",
     "evalue": "[Errno 2] No such file or directory: 'questions.csv'",
     "output_type": "error",
     "traceback": [
      "\u001b[0;31m---------------------------------------------------------------------------\u001b[0m",
      "\u001b[0;31mFileNotFoundError\u001b[0m                         Traceback (most recent call last)",
      "Cell \u001b[0;32mIn[2], line 1\u001b[0m\n\u001b[0;32m----> 1\u001b[0m data \u001b[38;5;241m=\u001b[39m \u001b[43mpd\u001b[49m\u001b[38;5;241;43m.\u001b[39;49m\u001b[43mread_csv\u001b[49m\u001b[43m(\u001b[49m\u001b[38;5;124;43m\"\u001b[39;49m\u001b[38;5;124;43mquestions.csv\u001b[39;49m\u001b[38;5;124;43m\"\u001b[39;49m\u001b[43m)\u001b[49m\n\u001b[1;32m      2\u001b[0m N\u001b[38;5;241m=\u001b[39m\u001b[38;5;28mlen\u001b[39m(data)\n\u001b[1;32m      3\u001b[0m \u001b[38;5;28mprint\u001b[39m(\u001b[38;5;124m'\u001b[39m\u001b[38;5;124mNumber of question pairs: \u001b[39m\u001b[38;5;124m'\u001b[39m, N)\n",
      "File \u001b[0;32m~/work/notes/notes-nlp/.venv/lib/python3.10/site-packages/pandas/io/parsers/readers.py:1026\u001b[0m, in \u001b[0;36mread_csv\u001b[0;34m(filepath_or_buffer, sep, delimiter, header, names, index_col, usecols, dtype, engine, converters, true_values, false_values, skipinitialspace, skiprows, skipfooter, nrows, na_values, keep_default_na, na_filter, verbose, skip_blank_lines, parse_dates, infer_datetime_format, keep_date_col, date_parser, date_format, dayfirst, cache_dates, iterator, chunksize, compression, thousands, decimal, lineterminator, quotechar, quoting, doublequote, escapechar, comment, encoding, encoding_errors, dialect, on_bad_lines, delim_whitespace, low_memory, memory_map, float_precision, storage_options, dtype_backend)\u001b[0m\n\u001b[1;32m   1013\u001b[0m kwds_defaults \u001b[38;5;241m=\u001b[39m _refine_defaults_read(\n\u001b[1;32m   1014\u001b[0m     dialect,\n\u001b[1;32m   1015\u001b[0m     delimiter,\n\u001b[0;32m   (...)\u001b[0m\n\u001b[1;32m   1022\u001b[0m     dtype_backend\u001b[38;5;241m=\u001b[39mdtype_backend,\n\u001b[1;32m   1023\u001b[0m )\n\u001b[1;32m   1024\u001b[0m kwds\u001b[38;5;241m.\u001b[39mupdate(kwds_defaults)\n\u001b[0;32m-> 1026\u001b[0m \u001b[38;5;28;01mreturn\u001b[39;00m \u001b[43m_read\u001b[49m\u001b[43m(\u001b[49m\u001b[43mfilepath_or_buffer\u001b[49m\u001b[43m,\u001b[49m\u001b[43m \u001b[49m\u001b[43mkwds\u001b[49m\u001b[43m)\u001b[49m\n",
      "File \u001b[0;32m~/work/notes/notes-nlp/.venv/lib/python3.10/site-packages/pandas/io/parsers/readers.py:620\u001b[0m, in \u001b[0;36m_read\u001b[0;34m(filepath_or_buffer, kwds)\u001b[0m\n\u001b[1;32m    617\u001b[0m _validate_names(kwds\u001b[38;5;241m.\u001b[39mget(\u001b[38;5;124m\"\u001b[39m\u001b[38;5;124mnames\u001b[39m\u001b[38;5;124m\"\u001b[39m, \u001b[38;5;28;01mNone\u001b[39;00m))\n\u001b[1;32m    619\u001b[0m \u001b[38;5;66;03m# Create the parser.\u001b[39;00m\n\u001b[0;32m--> 620\u001b[0m parser \u001b[38;5;241m=\u001b[39m \u001b[43mTextFileReader\u001b[49m\u001b[43m(\u001b[49m\u001b[43mfilepath_or_buffer\u001b[49m\u001b[43m,\u001b[49m\u001b[43m \u001b[49m\u001b[38;5;241;43m*\u001b[39;49m\u001b[38;5;241;43m*\u001b[39;49m\u001b[43mkwds\u001b[49m\u001b[43m)\u001b[49m\n\u001b[1;32m    622\u001b[0m \u001b[38;5;28;01mif\u001b[39;00m chunksize \u001b[38;5;129;01mor\u001b[39;00m iterator:\n\u001b[1;32m    623\u001b[0m     \u001b[38;5;28;01mreturn\u001b[39;00m parser\n",
      "File \u001b[0;32m~/work/notes/notes-nlp/.venv/lib/python3.10/site-packages/pandas/io/parsers/readers.py:1620\u001b[0m, in \u001b[0;36mTextFileReader.__init__\u001b[0;34m(self, f, engine, **kwds)\u001b[0m\n\u001b[1;32m   1617\u001b[0m     \u001b[38;5;28mself\u001b[39m\u001b[38;5;241m.\u001b[39moptions[\u001b[38;5;124m\"\u001b[39m\u001b[38;5;124mhas_index_names\u001b[39m\u001b[38;5;124m\"\u001b[39m] \u001b[38;5;241m=\u001b[39m kwds[\u001b[38;5;124m\"\u001b[39m\u001b[38;5;124mhas_index_names\u001b[39m\u001b[38;5;124m\"\u001b[39m]\n\u001b[1;32m   1619\u001b[0m \u001b[38;5;28mself\u001b[39m\u001b[38;5;241m.\u001b[39mhandles: IOHandles \u001b[38;5;241m|\u001b[39m \u001b[38;5;28;01mNone\u001b[39;00m \u001b[38;5;241m=\u001b[39m \u001b[38;5;28;01mNone\u001b[39;00m\n\u001b[0;32m-> 1620\u001b[0m \u001b[38;5;28mself\u001b[39m\u001b[38;5;241m.\u001b[39m_engine \u001b[38;5;241m=\u001b[39m \u001b[38;5;28;43mself\u001b[39;49m\u001b[38;5;241;43m.\u001b[39;49m\u001b[43m_make_engine\u001b[49m\u001b[43m(\u001b[49m\u001b[43mf\u001b[49m\u001b[43m,\u001b[49m\u001b[43m \u001b[49m\u001b[38;5;28;43mself\u001b[39;49m\u001b[38;5;241;43m.\u001b[39;49m\u001b[43mengine\u001b[49m\u001b[43m)\u001b[49m\n",
      "File \u001b[0;32m~/work/notes/notes-nlp/.venv/lib/python3.10/site-packages/pandas/io/parsers/readers.py:1880\u001b[0m, in \u001b[0;36mTextFileReader._make_engine\u001b[0;34m(self, f, engine)\u001b[0m\n\u001b[1;32m   1878\u001b[0m     \u001b[38;5;28;01mif\u001b[39;00m \u001b[38;5;124m\"\u001b[39m\u001b[38;5;124mb\u001b[39m\u001b[38;5;124m\"\u001b[39m \u001b[38;5;129;01mnot\u001b[39;00m \u001b[38;5;129;01min\u001b[39;00m mode:\n\u001b[1;32m   1879\u001b[0m         mode \u001b[38;5;241m+\u001b[39m\u001b[38;5;241m=\u001b[39m \u001b[38;5;124m\"\u001b[39m\u001b[38;5;124mb\u001b[39m\u001b[38;5;124m\"\u001b[39m\n\u001b[0;32m-> 1880\u001b[0m \u001b[38;5;28mself\u001b[39m\u001b[38;5;241m.\u001b[39mhandles \u001b[38;5;241m=\u001b[39m \u001b[43mget_handle\u001b[49m\u001b[43m(\u001b[49m\n\u001b[1;32m   1881\u001b[0m \u001b[43m    \u001b[49m\u001b[43mf\u001b[49m\u001b[43m,\u001b[49m\n\u001b[1;32m   1882\u001b[0m \u001b[43m    \u001b[49m\u001b[43mmode\u001b[49m\u001b[43m,\u001b[49m\n\u001b[1;32m   1883\u001b[0m \u001b[43m    \u001b[49m\u001b[43mencoding\u001b[49m\u001b[38;5;241;43m=\u001b[39;49m\u001b[38;5;28;43mself\u001b[39;49m\u001b[38;5;241;43m.\u001b[39;49m\u001b[43moptions\u001b[49m\u001b[38;5;241;43m.\u001b[39;49m\u001b[43mget\u001b[49m\u001b[43m(\u001b[49m\u001b[38;5;124;43m\"\u001b[39;49m\u001b[38;5;124;43mencoding\u001b[39;49m\u001b[38;5;124;43m\"\u001b[39;49m\u001b[43m,\u001b[49m\u001b[43m \u001b[49m\u001b[38;5;28;43;01mNone\u001b[39;49;00m\u001b[43m)\u001b[49m\u001b[43m,\u001b[49m\n\u001b[1;32m   1884\u001b[0m \u001b[43m    \u001b[49m\u001b[43mcompression\u001b[49m\u001b[38;5;241;43m=\u001b[39;49m\u001b[38;5;28;43mself\u001b[39;49m\u001b[38;5;241;43m.\u001b[39;49m\u001b[43moptions\u001b[49m\u001b[38;5;241;43m.\u001b[39;49m\u001b[43mget\u001b[49m\u001b[43m(\u001b[49m\u001b[38;5;124;43m\"\u001b[39;49m\u001b[38;5;124;43mcompression\u001b[39;49m\u001b[38;5;124;43m\"\u001b[39;49m\u001b[43m,\u001b[49m\u001b[43m \u001b[49m\u001b[38;5;28;43;01mNone\u001b[39;49;00m\u001b[43m)\u001b[49m\u001b[43m,\u001b[49m\n\u001b[1;32m   1885\u001b[0m \u001b[43m    \u001b[49m\u001b[43mmemory_map\u001b[49m\u001b[38;5;241;43m=\u001b[39;49m\u001b[38;5;28;43mself\u001b[39;49m\u001b[38;5;241;43m.\u001b[39;49m\u001b[43moptions\u001b[49m\u001b[38;5;241;43m.\u001b[39;49m\u001b[43mget\u001b[49m\u001b[43m(\u001b[49m\u001b[38;5;124;43m\"\u001b[39;49m\u001b[38;5;124;43mmemory_map\u001b[39;49m\u001b[38;5;124;43m\"\u001b[39;49m\u001b[43m,\u001b[49m\u001b[43m \u001b[49m\u001b[38;5;28;43;01mFalse\u001b[39;49;00m\u001b[43m)\u001b[49m\u001b[43m,\u001b[49m\n\u001b[1;32m   1886\u001b[0m \u001b[43m    \u001b[49m\u001b[43mis_text\u001b[49m\u001b[38;5;241;43m=\u001b[39;49m\u001b[43mis_text\u001b[49m\u001b[43m,\u001b[49m\n\u001b[1;32m   1887\u001b[0m \u001b[43m    \u001b[49m\u001b[43merrors\u001b[49m\u001b[38;5;241;43m=\u001b[39;49m\u001b[38;5;28;43mself\u001b[39;49m\u001b[38;5;241;43m.\u001b[39;49m\u001b[43moptions\u001b[49m\u001b[38;5;241;43m.\u001b[39;49m\u001b[43mget\u001b[49m\u001b[43m(\u001b[49m\u001b[38;5;124;43m\"\u001b[39;49m\u001b[38;5;124;43mencoding_errors\u001b[39;49m\u001b[38;5;124;43m\"\u001b[39;49m\u001b[43m,\u001b[49m\u001b[43m \u001b[49m\u001b[38;5;124;43m\"\u001b[39;49m\u001b[38;5;124;43mstrict\u001b[39;49m\u001b[38;5;124;43m\"\u001b[39;49m\u001b[43m)\u001b[49m\u001b[43m,\u001b[49m\n\u001b[1;32m   1888\u001b[0m \u001b[43m    \u001b[49m\u001b[43mstorage_options\u001b[49m\u001b[38;5;241;43m=\u001b[39;49m\u001b[38;5;28;43mself\u001b[39;49m\u001b[38;5;241;43m.\u001b[39;49m\u001b[43moptions\u001b[49m\u001b[38;5;241;43m.\u001b[39;49m\u001b[43mget\u001b[49m\u001b[43m(\u001b[49m\u001b[38;5;124;43m\"\u001b[39;49m\u001b[38;5;124;43mstorage_options\u001b[39;49m\u001b[38;5;124;43m\"\u001b[39;49m\u001b[43m,\u001b[49m\u001b[43m \u001b[49m\u001b[38;5;28;43;01mNone\u001b[39;49;00m\u001b[43m)\u001b[49m\u001b[43m,\u001b[49m\n\u001b[1;32m   1889\u001b[0m \u001b[43m\u001b[49m\u001b[43m)\u001b[49m\n\u001b[1;32m   1890\u001b[0m \u001b[38;5;28;01massert\u001b[39;00m \u001b[38;5;28mself\u001b[39m\u001b[38;5;241m.\u001b[39mhandles \u001b[38;5;129;01mis\u001b[39;00m \u001b[38;5;129;01mnot\u001b[39;00m \u001b[38;5;28;01mNone\u001b[39;00m\n\u001b[1;32m   1891\u001b[0m f \u001b[38;5;241m=\u001b[39m \u001b[38;5;28mself\u001b[39m\u001b[38;5;241m.\u001b[39mhandles\u001b[38;5;241m.\u001b[39mhandle\n",
      "File \u001b[0;32m~/work/notes/notes-nlp/.venv/lib/python3.10/site-packages/pandas/io/common.py:873\u001b[0m, in \u001b[0;36mget_handle\u001b[0;34m(path_or_buf, mode, encoding, compression, memory_map, is_text, errors, storage_options)\u001b[0m\n\u001b[1;32m    868\u001b[0m \u001b[38;5;28;01melif\u001b[39;00m \u001b[38;5;28misinstance\u001b[39m(handle, \u001b[38;5;28mstr\u001b[39m):\n\u001b[1;32m    869\u001b[0m     \u001b[38;5;66;03m# Check whether the filename is to be opened in binary mode.\u001b[39;00m\n\u001b[1;32m    870\u001b[0m     \u001b[38;5;66;03m# Binary mode does not support 'encoding' and 'newline'.\u001b[39;00m\n\u001b[1;32m    871\u001b[0m     \u001b[38;5;28;01mif\u001b[39;00m ioargs\u001b[38;5;241m.\u001b[39mencoding \u001b[38;5;129;01mand\u001b[39;00m \u001b[38;5;124m\"\u001b[39m\u001b[38;5;124mb\u001b[39m\u001b[38;5;124m\"\u001b[39m \u001b[38;5;129;01mnot\u001b[39;00m \u001b[38;5;129;01min\u001b[39;00m ioargs\u001b[38;5;241m.\u001b[39mmode:\n\u001b[1;32m    872\u001b[0m         \u001b[38;5;66;03m# Encoding\u001b[39;00m\n\u001b[0;32m--> 873\u001b[0m         handle \u001b[38;5;241m=\u001b[39m \u001b[38;5;28;43mopen\u001b[39;49m\u001b[43m(\u001b[49m\n\u001b[1;32m    874\u001b[0m \u001b[43m            \u001b[49m\u001b[43mhandle\u001b[49m\u001b[43m,\u001b[49m\n\u001b[1;32m    875\u001b[0m \u001b[43m            \u001b[49m\u001b[43mioargs\u001b[49m\u001b[38;5;241;43m.\u001b[39;49m\u001b[43mmode\u001b[49m\u001b[43m,\u001b[49m\n\u001b[1;32m    876\u001b[0m \u001b[43m            \u001b[49m\u001b[43mencoding\u001b[49m\u001b[38;5;241;43m=\u001b[39;49m\u001b[43mioargs\u001b[49m\u001b[38;5;241;43m.\u001b[39;49m\u001b[43mencoding\u001b[49m\u001b[43m,\u001b[49m\n\u001b[1;32m    877\u001b[0m \u001b[43m            \u001b[49m\u001b[43merrors\u001b[49m\u001b[38;5;241;43m=\u001b[39;49m\u001b[43merrors\u001b[49m\u001b[43m,\u001b[49m\n\u001b[1;32m    878\u001b[0m \u001b[43m            \u001b[49m\u001b[43mnewline\u001b[49m\u001b[38;5;241;43m=\u001b[39;49m\u001b[38;5;124;43m\"\u001b[39;49m\u001b[38;5;124;43m\"\u001b[39;49m\u001b[43m,\u001b[49m\n\u001b[1;32m    879\u001b[0m \u001b[43m        \u001b[49m\u001b[43m)\u001b[49m\n\u001b[1;32m    880\u001b[0m     \u001b[38;5;28;01melse\u001b[39;00m:\n\u001b[1;32m    881\u001b[0m         \u001b[38;5;66;03m# Binary mode\u001b[39;00m\n\u001b[1;32m    882\u001b[0m         handle \u001b[38;5;241m=\u001b[39m \u001b[38;5;28mopen\u001b[39m(handle, ioargs\u001b[38;5;241m.\u001b[39mmode)\n",
      "\u001b[0;31mFileNotFoundError\u001b[0m: [Errno 2] No such file or directory: 'questions.csv'"
     ]
    }
   ],
   "source": [
    "data = pd.read_csv(\"questions.csv\")\n",
    "N=len(data)\n",
    "print('Number of question pairs: ', N)\n",
    "data.head()"
   ]
  },
  {
   "cell_type": "code",
   "execution_count": 4,
   "id": "13568ef1",
   "metadata": {
    "colab": {
     "base_uri": "https://localhost:8080/",
     "height": 34
    },
    "colab_type": "code"
   },
   "outputs": [
    {
     "ename": "NameError",
     "evalue": "name 'data' is not defined",
     "output_type": "error",
     "traceback": [
      "\u001b[0;31m---------------------------------------------------------------------------\u001b[0m",
      "\u001b[0;31mNameError\u001b[0m                                 Traceback (most recent call last)",
      "Cell \u001b[0;32mIn[3], line 3\u001b[0m\n\u001b[1;32m      1\u001b[0m N_train \u001b[38;5;241m=\u001b[39m \u001b[38;5;241m300000\u001b[39m\n\u001b[1;32m      2\u001b[0m N_test  \u001b[38;5;241m=\u001b[39m \u001b[38;5;241m10\u001b[39m\u001b[38;5;241m*\u001b[39m\u001b[38;5;241m1024\u001b[39m\n\u001b[0;32m----> 3\u001b[0m data_train \u001b[38;5;241m=\u001b[39m \u001b[43mdata\u001b[49m[:N_train]\n\u001b[1;32m      4\u001b[0m data_test  \u001b[38;5;241m=\u001b[39m data[N_train:N_train\u001b[38;5;241m+\u001b[39mN_test]\n\u001b[1;32m      5\u001b[0m \u001b[38;5;28mprint\u001b[39m(\u001b[38;5;124m\"\u001b[39m\u001b[38;5;124mTrain set:\u001b[39m\u001b[38;5;124m\"\u001b[39m, \u001b[38;5;28mlen\u001b[39m(data_train), \u001b[38;5;124m\"\u001b[39m\u001b[38;5;124mTest set:\u001b[39m\u001b[38;5;124m\"\u001b[39m, \u001b[38;5;28mlen\u001b[39m(data_test))\n",
      "\u001b[0;31mNameError\u001b[0m: name 'data' is not defined"
     ]
    }
   ],
   "source": [
    "N_train = 300000\n",
    "N_test  = 10*1024\n",
    "data_train = data[:N_train]\n",
    "data_test  = data[N_train:N_train+N_test]\n",
    "print(\"Train set:\", len(data_train), \"Test set:\", len(data_test))\n",
    "del(data) # remove to free memory"
   ]
  },
  {
   "cell_type": "code",
   "execution_count": 5,
   "id": "dcba3d5f",
   "metadata": {
    "colab": {
     "base_uri": "https://localhost:8080/",
     "height": 51
    },
    "colab_type": "code"
   },
   "outputs": [
    {
     "ename": "NameError",
     "evalue": "name 'data_train' is not defined",
     "output_type": "error",
     "traceback": [
      "\u001b[0;31m---------------------------------------------------------------------------\u001b[0m",
      "\u001b[0;31mNameError\u001b[0m                                 Traceback (most recent call last)",
      "Cell \u001b[0;32mIn[4], line 1\u001b[0m\n\u001b[0;32m----> 1\u001b[0m td_index \u001b[38;5;241m=\u001b[39m (\u001b[43mdata_train\u001b[49m[\u001b[38;5;124m'\u001b[39m\u001b[38;5;124mis_duplicate\u001b[39m\u001b[38;5;124m'\u001b[39m] \u001b[38;5;241m==\u001b[39m \u001b[38;5;241m1\u001b[39m)\u001b[38;5;241m.\u001b[39mto_numpy()\n\u001b[1;32m      2\u001b[0m td_index \u001b[38;5;241m=\u001b[39m [i \u001b[38;5;28;01mfor\u001b[39;00m i, x \u001b[38;5;129;01min\u001b[39;00m \u001b[38;5;28menumerate\u001b[39m(td_index) \u001b[38;5;28;01mif\u001b[39;00m x] \n\u001b[1;32m      3\u001b[0m \u001b[38;5;28mprint\u001b[39m(\u001b[38;5;124m'\u001b[39m\u001b[38;5;124mnumber of duplicate questions: \u001b[39m\u001b[38;5;124m'\u001b[39m, \u001b[38;5;28mlen\u001b[39m(td_index))\n",
      "\u001b[0;31mNameError\u001b[0m: name 'data_train' is not defined"
     ]
    }
   ],
   "source": [
    "td_index = (data_train['is_duplicate'] == 1).to_numpy()\n",
    "td_index = [i for i, x in enumerate(td_index) if x] \n",
    "print('number of duplicate questions: ', len(td_index))\n",
    "print('indexes of first ten duplicate questions:', td_index[:10])"
   ]
  },
  {
   "cell_type": "code",
   "execution_count": 6,
   "id": "27f32c6b",
   "metadata": {
    "colab": {
     "base_uri": "https://localhost:8080/",
     "height": 68
    },
    "colab_type": "code"
   },
   "outputs": [
    {
     "ename": "NameError",
     "evalue": "name 'data_train' is not defined",
     "output_type": "error",
     "traceback": [
      "\u001b[0;31m---------------------------------------------------------------------------\u001b[0m",
      "\u001b[0;31mNameError\u001b[0m                                 Traceback (most recent call last)",
      "Cell \u001b[0;32mIn[5], line 1\u001b[0m\n\u001b[0;32m----> 1\u001b[0m \u001b[38;5;28mprint\u001b[39m(\u001b[43mdata_train\u001b[49m[\u001b[38;5;124m'\u001b[39m\u001b[38;5;124mquestion1\u001b[39m\u001b[38;5;124m'\u001b[39m][\u001b[38;5;241m5\u001b[39m])  \u001b[38;5;66;03m#  Example of question duplicates (first one in data)\u001b[39;00m\n\u001b[1;32m      2\u001b[0m \u001b[38;5;28mprint\u001b[39m(data_train[\u001b[38;5;124m'\u001b[39m\u001b[38;5;124mquestion2\u001b[39m\u001b[38;5;124m'\u001b[39m][\u001b[38;5;241m5\u001b[39m])\n\u001b[1;32m      3\u001b[0m \u001b[38;5;28mprint\u001b[39m(\u001b[38;5;124m'\u001b[39m\u001b[38;5;124mis_duplicate: \u001b[39m\u001b[38;5;124m'\u001b[39m, data_train[\u001b[38;5;124m'\u001b[39m\u001b[38;5;124mis_duplicate\u001b[39m\u001b[38;5;124m'\u001b[39m][\u001b[38;5;241m5\u001b[39m])\n",
      "\u001b[0;31mNameError\u001b[0m: name 'data_train' is not defined"
     ]
    }
   ],
   "source": [
    "print(data_train['question1'][5])  #  Example of question duplicates (first one in data)\n",
    "print(data_train['question2'][5])\n",
    "print('is_duplicate: ', data_train['is_duplicate'][5])"
   ]
  },
  {
   "cell_type": "code",
   "execution_count": 7,
   "id": "477f391f",
   "metadata": {
    "colab": {},
    "colab_type": "code"
   },
   "outputs": [
    {
     "ename": "NameError",
     "evalue": "name 'data_train' is not defined",
     "output_type": "error",
     "traceback": [
      "\u001b[0;31m---------------------------------------------------------------------------\u001b[0m",
      "\u001b[0;31mNameError\u001b[0m                                 Traceback (most recent call last)",
      "Cell \u001b[0;32mIn[6], line 1\u001b[0m\n\u001b[0;32m----> 1\u001b[0m Q1_train_words \u001b[38;5;241m=\u001b[39m np\u001b[38;5;241m.\u001b[39marray(\u001b[43mdata_train\u001b[49m[\u001b[38;5;124m'\u001b[39m\u001b[38;5;124mquestion1\u001b[39m\u001b[38;5;124m'\u001b[39m][td_index])\n\u001b[1;32m      2\u001b[0m Q2_train_words \u001b[38;5;241m=\u001b[39m np\u001b[38;5;241m.\u001b[39marray(data_train[\u001b[38;5;124m'\u001b[39m\u001b[38;5;124mquestion2\u001b[39m\u001b[38;5;124m'\u001b[39m][td_index])\n\u001b[1;32m      4\u001b[0m Q1_test_words \u001b[38;5;241m=\u001b[39m np\u001b[38;5;241m.\u001b[39marray(data_test[\u001b[38;5;124m'\u001b[39m\u001b[38;5;124mquestion1\u001b[39m\u001b[38;5;124m'\u001b[39m])\n",
      "\u001b[0;31mNameError\u001b[0m: name 'data_train' is not defined"
     ]
    }
   ],
   "source": [
    "Q1_train_words = np.array(data_train['question1'][td_index])\n",
    "Q2_train_words = np.array(data_train['question2'][td_index])\n",
    "\n",
    "Q1_test_words = np.array(data_test['question1'])\n",
    "Q2_test_words = np.array(data_test['question2'])\n",
    "y_test  = np.array(data_test['is_duplicate'])"
   ]
  },
  {
   "cell_type": "code",
   "execution_count": 8,
   "id": "c43aa161",
   "metadata": {
    "colab": {
     "base_uri": "https://localhost:8080/",
     "height": 170
    },
    "colab_type": "code"
   },
   "outputs": [
    {
     "name": "stdout",
     "output_type": "stream",
     "text": [
      "TRAINING QUESTIONS:\n",
      "\n"
     ]
    },
    {
     "ename": "NameError",
     "evalue": "name 'Q1_train_words' is not defined",
     "output_type": "error",
     "traceback": [
      "\u001b[0;31m---------------------------------------------------------------------------\u001b[0m",
      "\u001b[0;31mNameError\u001b[0m                                 Traceback (most recent call last)",
      "Cell \u001b[0;32mIn[7], line 2\u001b[0m\n\u001b[1;32m      1\u001b[0m \u001b[38;5;28mprint\u001b[39m(\u001b[38;5;124m'\u001b[39m\u001b[38;5;124mTRAINING QUESTIONS:\u001b[39m\u001b[38;5;130;01m\\n\u001b[39;00m\u001b[38;5;124m'\u001b[39m)\n\u001b[0;32m----> 2\u001b[0m \u001b[38;5;28mprint\u001b[39m(\u001b[38;5;124m'\u001b[39m\u001b[38;5;124mQuestion 1: \u001b[39m\u001b[38;5;124m'\u001b[39m, \u001b[43mQ1_train_words\u001b[49m[\u001b[38;5;241m0\u001b[39m])\n\u001b[1;32m      3\u001b[0m \u001b[38;5;28mprint\u001b[39m(\u001b[38;5;124m'\u001b[39m\u001b[38;5;124mQuestion 2: \u001b[39m\u001b[38;5;124m'\u001b[39m, Q2_train_words[\u001b[38;5;241m0\u001b[39m], \u001b[38;5;124m'\u001b[39m\u001b[38;5;130;01m\\n\u001b[39;00m\u001b[38;5;124m'\u001b[39m)\n\u001b[1;32m      4\u001b[0m \u001b[38;5;28mprint\u001b[39m(\u001b[38;5;124m'\u001b[39m\u001b[38;5;124mQuestion 1: \u001b[39m\u001b[38;5;124m'\u001b[39m, Q1_train_words[\u001b[38;5;241m5\u001b[39m])\n",
      "\u001b[0;31mNameError\u001b[0m: name 'Q1_train_words' is not defined"
     ]
    }
   ],
   "source": [
    "print('TRAINING QUESTIONS:\\n')\n",
    "print('Question 1: ', Q1_train_words[0])\n",
    "print('Question 2: ', Q2_train_words[0], '\\n')\n",
    "print('Question 1: ', Q1_train_words[5])\n",
    "print('Question 2: ', Q2_train_words[5], '\\n')\n",
    "\n",
    "print('TESTING QUESTIONS:\\n')\n",
    "print('Question 1: ', Q1_test_words[0])\n",
    "print('Question 2: ', Q2_test_words[0], '\\n')\n",
    "print('is_duplicate =', y_test[0], '\\n')"
   ]
  },
  {
   "cell_type": "code",
   "execution_count": 9,
   "id": "ec6b0ea3",
   "metadata": {
    "colab": {},
    "colab_type": "code"
   },
   "outputs": [
    {
     "ename": "NameError",
     "evalue": "name 'Q1_train_words' is not defined",
     "output_type": "error",
     "traceback": [
      "\u001b[0;31m---------------------------------------------------------------------------\u001b[0m",
      "\u001b[0;31mNameError\u001b[0m                                 Traceback (most recent call last)",
      "Cell \u001b[0;32mIn[8], line 2\u001b[0m\n\u001b[1;32m      1\u001b[0m \u001b[38;5;66;03m#create arrays\u001b[39;00m\n\u001b[0;32m----> 2\u001b[0m Q1_train \u001b[38;5;241m=\u001b[39m np\u001b[38;5;241m.\u001b[39mempty_like(\u001b[43mQ1_train_words\u001b[49m)\n\u001b[1;32m      3\u001b[0m Q2_train \u001b[38;5;241m=\u001b[39m np\u001b[38;5;241m.\u001b[39mempty_like(Q2_train_words)\n\u001b[1;32m      5\u001b[0m Q1_test \u001b[38;5;241m=\u001b[39m np\u001b[38;5;241m.\u001b[39mempty_like(Q1_test_words)\n",
      "\u001b[0;31mNameError\u001b[0m: name 'Q1_train_words' is not defined"
     ]
    }
   ],
   "source": [
    "#create arrays\n",
    "Q1_train = np.empty_like(Q1_train_words)\n",
    "Q2_train = np.empty_like(Q2_train_words)\n",
    "\n",
    "Q1_test = np.empty_like(Q1_test_words)\n",
    "Q2_test = np.empty_like(Q2_test_words)"
   ]
  },
  {
   "cell_type": "code",
   "execution_count": 10,
   "id": "8896456c",
   "metadata": {
    "colab": {
     "base_uri": "https://localhost:8080/",
     "height": 68
    },
    "colab_type": "code"
   },
   "outputs": [
    {
     "ename": "NameError",
     "evalue": "name 'Q1_train_words' is not defined",
     "output_type": "error",
     "traceback": [
      "\u001b[0;31m---------------------------------------------------------------------------\u001b[0m",
      "\u001b[0;31mNameError\u001b[0m                                 Traceback (most recent call last)",
      "Cell \u001b[0;32mIn[9], line 7\u001b[0m\n\u001b[1;32m      4\u001b[0m vocab \u001b[38;5;241m=\u001b[39m defaultdict(\u001b[38;5;28;01mlambda\u001b[39;00m: \u001b[38;5;241m0\u001b[39m)\n\u001b[1;32m      5\u001b[0m vocab[\u001b[38;5;124m'\u001b[39m\u001b[38;5;124m<PAD>\u001b[39m\u001b[38;5;124m'\u001b[39m] \u001b[38;5;241m=\u001b[39m \u001b[38;5;241m1\u001b[39m\n\u001b[0;32m----> 7\u001b[0m \u001b[38;5;28;01mfor\u001b[39;00m idx \u001b[38;5;129;01min\u001b[39;00m \u001b[38;5;28mrange\u001b[39m(\u001b[38;5;28mlen\u001b[39m(\u001b[43mQ1_train_words\u001b[49m)):\n\u001b[1;32m      8\u001b[0m     Q1_train[idx] \u001b[38;5;241m=\u001b[39m nltk\u001b[38;5;241m.\u001b[39mword_tokenize(Q1_train_words[idx])\n\u001b[1;32m      9\u001b[0m     Q2_train[idx] \u001b[38;5;241m=\u001b[39m nltk\u001b[38;5;241m.\u001b[39mword_tokenize(Q2_train_words[idx])\n",
      "\u001b[0;31mNameError\u001b[0m: name 'Q1_train_words' is not defined"
     ]
    }
   ],
   "source": [
    "# Building the vocabulary with the train set         (this might take a minute)\n",
    "from collections import defaultdict\n",
    "\n",
    "vocab = defaultdict(lambda: 0)\n",
    "vocab['<PAD>'] = 1\n",
    "\n",
    "for idx in range(len(Q1_train_words)):\n",
    "    Q1_train[idx] = nltk.word_tokenize(Q1_train_words[idx])\n",
    "    Q2_train[idx] = nltk.word_tokenize(Q2_train_words[idx])\n",
    "    q = Q1_train[idx] + Q2_train[idx]\n",
    "    for word in q:\n",
    "        if word not in vocab:\n",
    "            vocab[word] = len(vocab) + 1\n",
    "print('The length of the vocabulary is: ', len(vocab))"
   ]
  },
  {
   "cell_type": "code",
   "execution_count": 11,
   "id": "31544186",
   "metadata": {
    "colab": {
     "base_uri": "https://localhost:8080/",
     "height": 68
    },
    "colab_type": "code"
   },
   "outputs": [
    {
     "name": "stdout",
     "output_type": "stream",
     "text": [
      "1\n",
      "0\n",
      "0\n"
     ]
    }
   ],
   "source": [
    "print(vocab['<PAD>'])\n",
    "print(vocab['Astrology'])\n",
    "print(vocab['Astronomy'])  #not in vocabulary, returns 0"
   ]
  },
  {
   "cell_type": "code",
   "execution_count": 12,
   "id": "4fcb06d5",
   "metadata": {
    "colab": {},
    "colab_type": "code"
   },
   "outputs": [
    {
     "ename": "NameError",
     "evalue": "name 'Q1_test_words' is not defined",
     "output_type": "error",
     "traceback": [
      "\u001b[0;31m---------------------------------------------------------------------------\u001b[0m",
      "\u001b[0;31mNameError\u001b[0m                                 Traceback (most recent call last)",
      "Cell \u001b[0;32mIn[11], line 1\u001b[0m\n\u001b[0;32m----> 1\u001b[0m \u001b[38;5;28;01mfor\u001b[39;00m idx \u001b[38;5;129;01min\u001b[39;00m \u001b[38;5;28mrange\u001b[39m(\u001b[38;5;28mlen\u001b[39m(\u001b[43mQ1_test_words\u001b[49m)): \n\u001b[1;32m      2\u001b[0m     Q1_test[idx] \u001b[38;5;241m=\u001b[39m nltk\u001b[38;5;241m.\u001b[39mword_tokenize(Q1_test_words[idx])\n\u001b[1;32m      3\u001b[0m     Q2_test[idx] \u001b[38;5;241m=\u001b[39m nltk\u001b[38;5;241m.\u001b[39mword_tokenize(Q2_test_words[idx])\n",
      "\u001b[0;31mNameError\u001b[0m: name 'Q1_test_words' is not defined"
     ]
    }
   ],
   "source": [
    "for idx in range(len(Q1_test_words)): \n",
    "    Q1_test[idx] = nltk.word_tokenize(Q1_test_words[idx])\n",
    "    Q2_test[idx] = nltk.word_tokenize(Q2_test_words[idx])"
   ]
  },
  {
   "cell_type": "code",
   "execution_count": 13,
   "id": "7a6a5fe7",
   "metadata": {
    "colab": {
     "base_uri": "https://localhost:8080/",
     "height": 51
    },
    "colab_type": "code"
   },
   "outputs": [
    {
     "ename": "NameError",
     "evalue": "name 'Q1_train' is not defined",
     "output_type": "error",
     "traceback": [
      "\u001b[0;31m---------------------------------------------------------------------------\u001b[0m",
      "\u001b[0;31mNameError\u001b[0m                                 Traceback (most recent call last)",
      "Cell \u001b[0;32mIn[12], line 1\u001b[0m\n\u001b[0;32m----> 1\u001b[0m \u001b[38;5;28mprint\u001b[39m(\u001b[38;5;124m'\u001b[39m\u001b[38;5;124mTrain set has reduced to: \u001b[39m\u001b[38;5;124m'\u001b[39m, \u001b[38;5;28mlen\u001b[39m(\u001b[43mQ1_train\u001b[49m) ) \n\u001b[1;32m      2\u001b[0m \u001b[38;5;28mprint\u001b[39m(\u001b[38;5;124m'\u001b[39m\u001b[38;5;124mTest set length: \u001b[39m\u001b[38;5;124m'\u001b[39m, \u001b[38;5;28mlen\u001b[39m(Q1_test) ) \n",
      "\u001b[0;31mNameError\u001b[0m: name 'Q1_train' is not defined"
     ]
    }
   ],
   "source": [
    "print('Train set has reduced to: ', len(Q1_train) ) \n",
    "print('Test set length: ', len(Q1_test) ) "
   ]
  },
  {
   "cell_type": "code",
   "execution_count": 14,
   "id": "118e7809",
   "metadata": {
    "colab": {},
    "colab_type": "code"
   },
   "outputs": [
    {
     "ename": "NameError",
     "evalue": "name 'Q1_train' is not defined",
     "output_type": "error",
     "traceback": [
      "\u001b[0;31m---------------------------------------------------------------------------\u001b[0m",
      "\u001b[0;31mNameError\u001b[0m                                 Traceback (most recent call last)",
      "Cell \u001b[0;32mIn[13], line 2\u001b[0m\n\u001b[1;32m      1\u001b[0m \u001b[38;5;66;03m# Converting questions to array of integers\u001b[39;00m\n\u001b[0;32m----> 2\u001b[0m \u001b[38;5;28;01mfor\u001b[39;00m i \u001b[38;5;129;01min\u001b[39;00m \u001b[38;5;28mrange\u001b[39m(\u001b[38;5;28mlen\u001b[39m(\u001b[43mQ1_train\u001b[49m)):\n\u001b[1;32m      3\u001b[0m     Q1_train[i] \u001b[38;5;241m=\u001b[39m [vocab[word] \u001b[38;5;28;01mfor\u001b[39;00m word \u001b[38;5;129;01min\u001b[39;00m Q1_train[i]]\n\u001b[1;32m      4\u001b[0m     Q2_train[i] \u001b[38;5;241m=\u001b[39m [vocab[word] \u001b[38;5;28;01mfor\u001b[39;00m word \u001b[38;5;129;01min\u001b[39;00m Q2_train[i]]\n",
      "\u001b[0;31mNameError\u001b[0m: name 'Q1_train' is not defined"
     ]
    }
   ],
   "source": [
    "# Converting questions to array of integers\n",
    "for i in range(len(Q1_train)):\n",
    "    Q1_train[i] = [vocab[word] for word in Q1_train[i]]\n",
    "    Q2_train[i] = [vocab[word] for word in Q2_train[i]]\n",
    "\n",
    "        \n",
    "for i in range(len(Q1_test)):\n",
    "    Q1_test[i] = [vocab[word] for word in Q1_test[i]]\n",
    "    Q2_test[i] = [vocab[word] for word in Q2_test[i]]"
   ]
  },
  {
   "cell_type": "code",
   "execution_count": 15,
   "id": "3f2c04a1",
   "metadata": {
    "colab": {
     "base_uri": "https://localhost:8080/",
     "height": 102
    },
    "colab_type": "code"
   },
   "outputs": [
    {
     "name": "stdout",
     "output_type": "stream",
     "text": [
      "first question in the train set:\n",
      "\n"
     ]
    },
    {
     "ename": "NameError",
     "evalue": "name 'Q1_train_words' is not defined",
     "output_type": "error",
     "traceback": [
      "\u001b[0;31m---------------------------------------------------------------------------\u001b[0m",
      "\u001b[0;31mNameError\u001b[0m                                 Traceback (most recent call last)",
      "Cell \u001b[0;32mIn[14], line 2\u001b[0m\n\u001b[1;32m      1\u001b[0m \u001b[38;5;28mprint\u001b[39m(\u001b[38;5;124m'\u001b[39m\u001b[38;5;124mfirst question in the train set:\u001b[39m\u001b[38;5;130;01m\\n\u001b[39;00m\u001b[38;5;124m'\u001b[39m)\n\u001b[0;32m----> 2\u001b[0m \u001b[38;5;28mprint\u001b[39m(\u001b[43mQ1_train_words\u001b[49m[\u001b[38;5;241m0\u001b[39m], \u001b[38;5;124m'\u001b[39m\u001b[38;5;130;01m\\n\u001b[39;00m\u001b[38;5;124m'\u001b[39m) \n\u001b[1;32m      3\u001b[0m \u001b[38;5;28mprint\u001b[39m(\u001b[38;5;124m'\u001b[39m\u001b[38;5;124mencoded version:\u001b[39m\u001b[38;5;124m'\u001b[39m)\n\u001b[1;32m      4\u001b[0m \u001b[38;5;28mprint\u001b[39m(Q1_train[\u001b[38;5;241m0\u001b[39m],\u001b[38;5;124m'\u001b[39m\u001b[38;5;130;01m\\n\u001b[39;00m\u001b[38;5;124m'\u001b[39m)\n",
      "\u001b[0;31mNameError\u001b[0m: name 'Q1_train_words' is not defined"
     ]
    }
   ],
   "source": [
    "print('first question in the train set:\\n')\n",
    "print(Q1_train_words[0], '\\n') \n",
    "print('encoded version:')\n",
    "print(Q1_train[0],'\\n')\n",
    "\n",
    "print('first question in the test set:\\n')\n",
    "print(Q1_test_words[0], '\\n')\n",
    "print('encoded version:')\n",
    "print(Q1_test[0]) "
   ]
  },
  {
   "cell_type": "code",
   "execution_count": 16,
   "id": "51c3d60f",
   "metadata": {
    "colab": {
     "base_uri": "https://localhost:8080/",
     "height": 68
    },
    "colab_type": "code"
   },
   "outputs": [
    {
     "ename": "NameError",
     "evalue": "name 'Q1_train' is not defined",
     "output_type": "error",
     "traceback": [
      "\u001b[0;31m---------------------------------------------------------------------------\u001b[0m",
      "\u001b[0;31mNameError\u001b[0m                                 Traceback (most recent call last)",
      "Cell \u001b[0;32mIn[15], line 2\u001b[0m\n\u001b[1;32m      1\u001b[0m \u001b[38;5;66;03m# Splitting the data\u001b[39;00m\n\u001b[0;32m----> 2\u001b[0m cut_off \u001b[38;5;241m=\u001b[39m \u001b[38;5;28mint\u001b[39m(\u001b[38;5;28mlen\u001b[39m(\u001b[43mQ1_train\u001b[49m)\u001b[38;5;241m*\u001b[39m\u001b[38;5;241m.8\u001b[39m)\n\u001b[1;32m      3\u001b[0m train_Q1, train_Q2 \u001b[38;5;241m=\u001b[39m Q1_train[:cut_off], Q2_train[:cut_off]\n\u001b[1;32m      4\u001b[0m val_Q1, val_Q2 \u001b[38;5;241m=\u001b[39m Q1_train[cut_off: ], Q2_train[cut_off:]\n",
      "\u001b[0;31mNameError\u001b[0m: name 'Q1_train' is not defined"
     ]
    }
   ],
   "source": [
    "# Splitting the data\n",
    "cut_off = int(len(Q1_train)*.8)\n",
    "train_Q1, train_Q2 = Q1_train[:cut_off], Q2_train[:cut_off]\n",
    "val_Q1, val_Q2 = Q1_train[cut_off: ], Q2_train[cut_off:]\n",
    "print('Number of duplicate questions: ', len(Q1_train))\n",
    "print(\"The length of the training set is:  \", len(train_Q1))\n",
    "print(\"The length of the validation set is: \", len(val_Q1))"
   ]
  },
  {
   "cell_type": "code",
   "execution_count": 17,
   "id": "1a4171df",
   "metadata": {
    "colab": {},
    "colab_type": "code"
   },
   "outputs": [],
   "source": [
    "# UNQ_C1 (UNIQUE CELL IDENTIFIER, DO NOT EDIT)\n",
    "# GRADED FUNCTION: data_generator\n",
    "def data_generator(Q1, Q2, batch_size, pad=1, shuffle=True):\n",
    "    \"\"\"Generator function that yields batches of data\n",
    "\n",
    "    Args:\n",
    "        Q1 (list): List of transformed (to tensor) questions.\n",
    "        Q2 (list): List of transformed (to tensor) questions.\n",
    "        batch_size (int): Number of elements per batch.\n",
    "        pad (int, optional): Pad character from the vocab. Defaults to 1.\n",
    "        shuffle (bool, optional): If the batches should be randomnized or not. Defaults to True.\n",
    "    Yields:\n",
    "        tuple: Of the form (input1, input2) with types (numpy.ndarray, numpy.ndarray)\n",
    "        NOTE: input1: inputs to your model [q1a, q2a, q3a, ...] i.e. (q1a,q1b) are duplicates\n",
    "              input2: targets to your model [q1b, q2b,q3b, ...] i.e. (q1a,q2i) i!=a are not duplicates\n",
    "    \"\"\"\n",
    "\n",
    "    input1 = []\n",
    "    input2 = []\n",
    "    idx = 0\n",
    "    len_q = len(Q1)\n",
    "    question_indexes = [*range(len_q)]\n",
    "    \n",
    "    if shuffle:\n",
    "        rnd.shuffle(question_indexes)\n",
    "    \n",
    "    ### START CODE HERE (Replace instances of 'None' with your code) ###\n",
    "    while True:\n",
    "        if idx >= len_q:\n",
    "            # if idx is greater than or equal to len_q, set idx accordingly \n",
    "            # (Hint: look at the instructions above)\n",
    "            idx = None\n",
    "            # shuffle to get random batches if shuffle is set to True\n",
    "            if shuffle:\n",
    "                rnd.shuffle(question_indexes)\n",
    "        \n",
    "        # get questions at the `question_indexes[idx]` position in Q1 and Q2\n",
    "        q1 = None\n",
    "        q2 = None\n",
    "        \n",
    "        # increment idx by 1\n",
    "        idx += None\n",
    "        # append q1\n",
    "        input1.append(None)\n",
    "        # append q2\n",
    "        input2.append(None)\n",
    "        if len(input1) == batch_size:\n",
    "            # determine max_len as the longest question in input1 & input 2\n",
    "            # Hint: use the `max` function. \n",
    "            # take max of input1 & input2 and then max out of the two of them.\n",
    "            max_len = None\n",
    "            # pad to power-of-2 (Hint: look at the instructions above)\n",
    "            max_len = None\n",
    "            b1 = []\n",
    "            b2 = []\n",
    "            for q1, q2 in zip(input1, input2):\n",
    "                # add [pad] to q1 until it reaches max_len\n",
    "                q1 = None\n",
    "                # add [pad] to q2 until it reaches max_len\n",
    "                q2 = None\n",
    "                # append q1\n",
    "                b1.append(None)\n",
    "                # append q2\n",
    "                b2.append(None)\n",
    "            # use b1 and b2\n",
    "            yield np.array(None), np.array(None)\n",
    "    ### END CODE HERE ###\n",
    "            # reset the batches\n",
    "            input1, input2 = [], []  # reset the batches"
   ]
  },
  {
   "cell_type": "code",
   "execution_count": 18,
   "id": "ee6f690b",
   "metadata": {
    "colab": {
     "base_uri": "https://localhost:8080/",
     "height": 204
    },
    "colab_type": "code"
   },
   "outputs": [
    {
     "ename": "NameError",
     "evalue": "name 'train_Q1' is not defined",
     "output_type": "error",
     "traceback": [
      "\u001b[0;31m---------------------------------------------------------------------------\u001b[0m",
      "\u001b[0;31mNameError\u001b[0m                                 Traceback (most recent call last)",
      "Cell \u001b[0;32mIn[17], line 2\u001b[0m\n\u001b[1;32m      1\u001b[0m batch_size \u001b[38;5;241m=\u001b[39m \u001b[38;5;241m2\u001b[39m\n\u001b[0;32m----> 2\u001b[0m res1, res2 \u001b[38;5;241m=\u001b[39m \u001b[38;5;28mnext\u001b[39m(data_generator(\u001b[43mtrain_Q1\u001b[49m, train_Q2, batch_size))\n\u001b[1;32m      3\u001b[0m \u001b[38;5;28mprint\u001b[39m(\u001b[38;5;124m\"\u001b[39m\u001b[38;5;124mFirst questions  : \u001b[39m\u001b[38;5;124m\"\u001b[39m,\u001b[38;5;124m'\u001b[39m\u001b[38;5;130;01m\\n\u001b[39;00m\u001b[38;5;124m'\u001b[39m, res1, \u001b[38;5;124m'\u001b[39m\u001b[38;5;130;01m\\n\u001b[39;00m\u001b[38;5;124m'\u001b[39m)\n\u001b[1;32m      4\u001b[0m \u001b[38;5;28mprint\u001b[39m(\u001b[38;5;124m\"\u001b[39m\u001b[38;5;124mSecond questions : \u001b[39m\u001b[38;5;124m\"\u001b[39m,\u001b[38;5;124m'\u001b[39m\u001b[38;5;130;01m\\n\u001b[39;00m\u001b[38;5;124m'\u001b[39m, res2)\n",
      "\u001b[0;31mNameError\u001b[0m: name 'train_Q1' is not defined"
     ]
    }
   ],
   "source": [
    "batch_size = 2\n",
    "res1, res2 = next(data_generator(train_Q1, train_Q2, batch_size))\n",
    "print(\"First questions  : \",'\\n', res1, '\\n')\n",
    "print(\"Second questions : \",'\\n', res2)"
   ]
  },
  {
   "cell_type": "code",
   "execution_count": 19,
   "id": "94ba78d8",
   "metadata": {
    "colab": {},
    "colab_type": "code"
   },
   "outputs": [],
   "source": [
    "# UNQ_C2 (UNIQUE CELL IDENTIFIER, DO NOT EDIT)\n",
    "# GRADED FUNCTION: Siamese\n",
    "def Siamese(vocab_size=len(vocab), d_model=128, mode='train'):\n",
    "    \"\"\"Returns a Siamese model.\n",
    "\n",
    "    Args:\n",
    "        vocab_size (int, optional): Length of the vocabulary. Defaults to len(vocab).\n",
    "        d_model (int, optional): Depth of the model. Defaults to 128.\n",
    "        mode (str, optional): 'train', 'eval' or 'predict', predict mode is for fast inference. Defaults to 'train'.\n",
    "\n",
    "    Returns:\n",
    "        trax.layers.combinators.Parallel: A Siamese model. \n",
    "    \"\"\"\n",
    "\n",
    "    def normalize(x):  # normalizes the vectors to have L2 norm 1\n",
    "        return x / fastnp.sqrt(fastnp.sum(x * x, axis=-1, keepdims=True))\n",
    "    \n",
    "    ### START CODE HERE (Replace instances of 'None' with your code) ###\n",
    "    q_processor = tl.Serial(  # Processor will run on Q1 and Q2.\n",
    "        None, # Embedding layer\n",
    "        None, # LSTM layer\n",
    "        None, # Mean over columns\n",
    "        None  # Apply normalize function\n",
    "    )  # Returns one vector of shape [batch_size, d_model].\n",
    "    \n",
    "    ### END CODE HERE ###\n",
    "    \n",
    "    # Run on Q1 and Q2 in parallel.\n",
    "    model = tl.Parallel(q_processor, q_processor)\n",
    "    return model"
   ]
  },
  {
   "cell_type": "code",
   "execution_count": 20,
   "id": "6927b5e4",
   "metadata": {
    "colab": {
     "base_uri": "https://localhost:8080/",
     "height": 255
    },
    "colab_type": "code"
   },
   "outputs": [
    {
     "name": "stderr",
     "output_type": "stream",
     "text": [
      "/home/oren/work/notes/notes-nlp/.venv/lib/python3.10/site-packages/trax/layers/combinators.py:437: SyntaxWarning: \"is not\" with a literal. Did you mean \"!=\"?\n",
      "  if self._mode == 'predict' and self._state[1] is not ():  # pylint: disable=literal-comparison\n",
      "/home/oren/work/notes/notes-nlp/.venv/lib/python3.10/site-packages/trax/layers/combinators.py:910: SyntaxWarning: \"is\" with a literal. Did you mean \"==\"?\n",
      "  if state[0] is ():  # pylint: disable=literal-comparison\n",
      "/home/oren/work/notes/notes-nlp/.venv/lib/python3.10/site-packages/trax/layers/combinators.py:437: SyntaxWarning: \"is not\" with a literal. Did you mean \"!=\"?\n",
      "  if self._mode == 'predict' and self._state[1] is not ():  # pylint: disable=literal-comparison\n",
      "/home/oren/work/notes/notes-nlp/.venv/lib/python3.10/site-packages/trax/layers/combinators.py:910: SyntaxWarning: \"is\" with a literal. Did you mean \"==\"?\n",
      "  if state[0] is ():  # pylint: disable=literal-comparison\n"
     ]
    },
    {
     "ename": "ValueError",
     "evalue": "Found nonlayer object (None) in layers: [None, None, None, None]",
     "output_type": "error",
     "traceback": [
      "\u001b[0;31m---------------------------------------------------------------------------\u001b[0m",
      "\u001b[0;31mValueError\u001b[0m                                Traceback (most recent call last)",
      "Cell \u001b[0;32mIn[19], line 2\u001b[0m\n\u001b[1;32m      1\u001b[0m \u001b[38;5;66;03m# check your model\u001b[39;00m\n\u001b[0;32m----> 2\u001b[0m model \u001b[38;5;241m=\u001b[39m \u001b[43mSiamese\u001b[49m\u001b[43m(\u001b[49m\u001b[43m)\u001b[49m\n\u001b[1;32m      3\u001b[0m \u001b[38;5;28mprint\u001b[39m(model)\n",
      "Cell \u001b[0;32mIn[18], line 19\u001b[0m, in \u001b[0;36mSiamese\u001b[0;34m(vocab_size, d_model, mode)\u001b[0m\n\u001b[1;32m     16\u001b[0m     \u001b[38;5;28;01mreturn\u001b[39;00m x \u001b[38;5;241m/\u001b[39m fastnp\u001b[38;5;241m.\u001b[39msqrt(fastnp\u001b[38;5;241m.\u001b[39msum(x \u001b[38;5;241m*\u001b[39m x, axis\u001b[38;5;241m=\u001b[39m\u001b[38;5;241m-\u001b[39m\u001b[38;5;241m1\u001b[39m, keepdims\u001b[38;5;241m=\u001b[39m\u001b[38;5;28;01mTrue\u001b[39;00m))\n\u001b[1;32m     18\u001b[0m \u001b[38;5;66;03m### START CODE HERE (Replace instances of 'None' with your code) ###\u001b[39;00m\n\u001b[0;32m---> 19\u001b[0m q_processor \u001b[38;5;241m=\u001b[39m \u001b[43mtl\u001b[49m\u001b[38;5;241;43m.\u001b[39;49m\u001b[43mSerial\u001b[49m\u001b[43m(\u001b[49m\u001b[43m  \u001b[49m\u001b[38;5;66;43;03m# Processor will run on Q1 and Q2.\u001b[39;49;00m\n\u001b[1;32m     20\u001b[0m \u001b[43m    \u001b[49m\u001b[38;5;28;43;01mNone\u001b[39;49;00m\u001b[43m,\u001b[49m\u001b[43m \u001b[49m\u001b[38;5;66;43;03m# Embedding layer\u001b[39;49;00m\n\u001b[1;32m     21\u001b[0m \u001b[43m    \u001b[49m\u001b[38;5;28;43;01mNone\u001b[39;49;00m\u001b[43m,\u001b[49m\u001b[43m \u001b[49m\u001b[38;5;66;43;03m# LSTM layer\u001b[39;49;00m\n\u001b[1;32m     22\u001b[0m \u001b[43m    \u001b[49m\u001b[38;5;28;43;01mNone\u001b[39;49;00m\u001b[43m,\u001b[49m\u001b[43m \u001b[49m\u001b[38;5;66;43;03m# Mean over columns\u001b[39;49;00m\n\u001b[1;32m     23\u001b[0m \u001b[43m    \u001b[49m\u001b[38;5;28;43;01mNone\u001b[39;49;00m\u001b[43m  \u001b[49m\u001b[38;5;66;43;03m# Apply normalize function\u001b[39;49;00m\n\u001b[1;32m     24\u001b[0m \u001b[43m\u001b[49m\u001b[43m)\u001b[49m  \u001b[38;5;66;03m# Returns one vector of shape [batch_size, d_model].\u001b[39;00m\n\u001b[1;32m     26\u001b[0m \u001b[38;5;66;03m### END CODE HERE ###\u001b[39;00m\n\u001b[1;32m     27\u001b[0m \n\u001b[1;32m     28\u001b[0m \u001b[38;5;66;03m# Run on Q1 and Q2 in parallel.\u001b[39;00m\n\u001b[1;32m     29\u001b[0m model \u001b[38;5;241m=\u001b[39m tl\u001b[38;5;241m.\u001b[39mParallel(q_processor, q_processor)\n",
      "File \u001b[0;32m~/work/notes/notes-nlp/.venv/lib/python3.10/site-packages/trax/layers/combinators.py:59\u001b[0m, in \u001b[0;36mSerial.__init__\u001b[0;34m(self, name, sublayers_to_print, *sublayers)\u001b[0m\n\u001b[1;32m     55\u001b[0m \u001b[38;5;28;01mdef\u001b[39;00m\u001b[38;5;250m \u001b[39m\u001b[38;5;21m__init__\u001b[39m(\u001b[38;5;28mself\u001b[39m, \u001b[38;5;241m*\u001b[39msublayers, name\u001b[38;5;241m=\u001b[39m\u001b[38;5;28;01mNone\u001b[39;00m, sublayers_to_print\u001b[38;5;241m=\u001b[39m\u001b[38;5;28;01mNone\u001b[39;00m):\n\u001b[1;32m     56\u001b[0m   \u001b[38;5;28msuper\u001b[39m()\u001b[38;5;241m.\u001b[39m\u001b[38;5;21m__init__\u001b[39m(\n\u001b[1;32m     57\u001b[0m       name\u001b[38;5;241m=\u001b[39mname, sublayers_to_print\u001b[38;5;241m=\u001b[39msublayers_to_print)\n\u001b[0;32m---> 59\u001b[0m   sublayers \u001b[38;5;241m=\u001b[39m \u001b[43m_ensure_flat\u001b[49m\u001b[43m(\u001b[49m\u001b[43msublayers\u001b[49m\u001b[43m)\u001b[49m\n\u001b[1;32m     60\u001b[0m   \u001b[38;5;28mself\u001b[39m\u001b[38;5;241m.\u001b[39m_sublayers \u001b[38;5;241m=\u001b[39m sublayers\n\u001b[1;32m     61\u001b[0m   \u001b[38;5;28mself\u001b[39m\u001b[38;5;241m.\u001b[39m_n_layers \u001b[38;5;241m=\u001b[39m \u001b[38;5;28mlen\u001b[39m(sublayers)\n",
      "File \u001b[0;32m~/work/notes/notes-nlp/.venv/lib/python3.10/site-packages/trax/layers/combinators.py:1110\u001b[0m, in \u001b[0;36m_ensure_flat\u001b[0;34m(layers)\u001b[0m\n\u001b[1;32m   1108\u001b[0m \u001b[38;5;28;01mfor\u001b[39;00m obj \u001b[38;5;129;01min\u001b[39;00m layers:\n\u001b[1;32m   1109\u001b[0m   \u001b[38;5;28;01mif\u001b[39;00m \u001b[38;5;129;01mnot\u001b[39;00m \u001b[38;5;28misinstance\u001b[39m(obj, base\u001b[38;5;241m.\u001b[39mLayer):\n\u001b[0;32m-> 1110\u001b[0m     \u001b[38;5;28;01mraise\u001b[39;00m \u001b[38;5;167;01mValueError\u001b[39;00m(\n\u001b[1;32m   1111\u001b[0m         \u001b[38;5;124mf\u001b[39m\u001b[38;5;124m'\u001b[39m\u001b[38;5;124mFound nonlayer object (\u001b[39m\u001b[38;5;132;01m{\u001b[39;00mobj\u001b[38;5;132;01m}\u001b[39;00m\u001b[38;5;124m) in layers: \u001b[39m\u001b[38;5;132;01m{\u001b[39;00mlayers\u001b[38;5;132;01m}\u001b[39;00m\u001b[38;5;124m'\u001b[39m)\n\u001b[1;32m   1112\u001b[0m \u001b[38;5;28;01mreturn\u001b[39;00m layers\n",
      "\u001b[0;31mValueError\u001b[0m: Found nonlayer object (None) in layers: [None, None, None, None]"
     ]
    }
   ],
   "source": [
    "# check your model\n",
    "model = Siamese()\n",
    "print(model)"
   ]
  },
  {
   "cell_type": "code",
   "execution_count": 21,
   "id": "b7938550",
   "metadata": {
    "colab": {},
    "colab_type": "code"
   },
   "outputs": [],
   "source": [
    "# UNQ_C3 (UNIQUE CELL IDENTIFIER, DO NOT EDIT)\n",
    "# GRADED FUNCTION: TripletLossFn\n",
    "def TripletLossFn(v1, v2, margin=0.25):\n",
    "    \"\"\"Custom Loss function.\n",
    "\n",
    "    Args:\n",
    "        v1 (numpy.ndarray): Array with dimension (batch_size, model_dimension) associated to Q1.\n",
    "        v2 (numpy.ndarray): Array with dimension (batch_size, model_dimension) associated to Q2.\n",
    "        margin (float, optional): Desired margin. Defaults to 0.25.\n",
    "\n",
    "    Returns:\n",
    "        jax.interpreters.xla.DeviceArray: Triplet Loss.\n",
    "    \"\"\"\n",
    "    ### START CODE HERE (Replace instances of 'None' with your code) ###\n",
    "    \n",
    "    # use fastnp to take the dot product of the two batches (don't forget to transpose the second argument)\n",
    "    scores = None  # pairwise cosine sim\n",
    "    # calculate new batch size\n",
    "    batch_size = len(scores)\n",
    "    # use fastnp to grab all postive `diagonal` entries in `scores`\n",
    "    positive = None  # the positive ones (duplicates)\n",
    "    # multiply `fastnp.eye(batch_size)` with 2.0 and subtract it out of `scores`\n",
    "    negative_without_positive = None\n",
    "    # take the row by row `max` of `negative_without_positive`. \n",
    "    # Hint: negative_without_positive.max(axis = [?])  \n",
    "    closest_negative = None\n",
    "    # subtract `fastnp.eye(batch_size)` out of 1.0 and do element-wise multiplication with `scores`\n",
    "    negative_zero_on_duplicate = None\n",
    "    # use `fastnp.sum` on `negative_zero_on_duplicate` for `axis=1` and divide it by `(batch_size - 1)` \n",
    "    mean_negative = None\n",
    "    # compute `fastnp.maximum` among 0.0 and `A`\n",
    "    # A = subtract `positive` from `margin` and add `closest_negative` \n",
    "    triplet_loss1 = None\n",
    "    # compute `fastnp.maximum` among 0.0 and `B`\n",
    "    # B = subtract `positive` from `margin` and add `mean_negative`\n",
    "    triplet_loss2 = None\n",
    "    # add the two losses together and take the `fastnp.mean` of it\n",
    "    triplet_loss = None\n",
    "    \n",
    "    ### END CODE HERE ###\n",
    "    \n",
    "    return triplet_loss"
   ]
  },
  {
   "cell_type": "code",
   "execution_count": 22,
   "id": "7aea77f3",
   "metadata": {},
   "outputs": [
    {
     "ename": "TypeError",
     "evalue": "object of type 'NoneType' has no len()",
     "output_type": "error",
     "traceback": [
      "\u001b[0;31m---------------------------------------------------------------------------\u001b[0m",
      "\u001b[0;31mTypeError\u001b[0m                                 Traceback (most recent call last)",
      "Cell \u001b[0;32mIn[21], line 3\u001b[0m\n\u001b[1;32m      1\u001b[0m v1 \u001b[38;5;241m=\u001b[39m np\u001b[38;5;241m.\u001b[39marray([[\u001b[38;5;241m0.26726124\u001b[39m, \u001b[38;5;241m0.53452248\u001b[39m, \u001b[38;5;241m0.80178373\u001b[39m],[\u001b[38;5;241m0.5178918\u001b[39m , \u001b[38;5;241m0.57543534\u001b[39m, \u001b[38;5;241m0.63297887\u001b[39m]])\n\u001b[1;32m      2\u001b[0m v2 \u001b[38;5;241m=\u001b[39m np\u001b[38;5;241m.\u001b[39marray([[ \u001b[38;5;241m0.26726124\u001b[39m,  \u001b[38;5;241m0.53452248\u001b[39m,  \u001b[38;5;241m0.80178373\u001b[39m],[\u001b[38;5;241m-\u001b[39m\u001b[38;5;241m0.5178918\u001b[39m , \u001b[38;5;241m-\u001b[39m\u001b[38;5;241m0.57543534\u001b[39m, \u001b[38;5;241m-\u001b[39m\u001b[38;5;241m0.63297887\u001b[39m]])\n\u001b[0;32m----> 3\u001b[0m \u001b[43mTripletLossFn\u001b[49m\u001b[43m(\u001b[49m\u001b[43mv2\u001b[49m\u001b[43m,\u001b[49m\u001b[43mv1\u001b[49m\u001b[43m)\u001b[49m\n\u001b[1;32m      4\u001b[0m \u001b[38;5;28mprint\u001b[39m(\u001b[38;5;124m\"\u001b[39m\u001b[38;5;124mTriplet Loss:\u001b[39m\u001b[38;5;124m\"\u001b[39m, TripletLossFn(v2,v1))\n",
      "Cell \u001b[0;32mIn[20], line 19\u001b[0m, in \u001b[0;36mTripletLossFn\u001b[0;34m(v1, v2, margin)\u001b[0m\n\u001b[1;32m     17\u001b[0m scores \u001b[38;5;241m=\u001b[39m \u001b[38;5;28;01mNone\u001b[39;00m  \u001b[38;5;66;03m# pairwise cosine sim\u001b[39;00m\n\u001b[1;32m     18\u001b[0m \u001b[38;5;66;03m# calculate new batch size\u001b[39;00m\n\u001b[0;32m---> 19\u001b[0m batch_size \u001b[38;5;241m=\u001b[39m \u001b[38;5;28;43mlen\u001b[39;49m\u001b[43m(\u001b[49m\u001b[43mscores\u001b[49m\u001b[43m)\u001b[49m\n\u001b[1;32m     20\u001b[0m \u001b[38;5;66;03m# use fastnp to grab all postive `diagonal` entries in `scores`\u001b[39;00m\n\u001b[1;32m     21\u001b[0m positive \u001b[38;5;241m=\u001b[39m \u001b[38;5;28;01mNone\u001b[39;00m  \u001b[38;5;66;03m# the positive ones (duplicates)\u001b[39;00m\n",
      "\u001b[0;31mTypeError\u001b[0m: object of type 'NoneType' has no len()"
     ]
    }
   ],
   "source": [
    "v1 = np.array([[0.26726124, 0.53452248, 0.80178373],[0.5178918 , 0.57543534, 0.63297887]])\n",
    "v2 = np.array([[ 0.26726124,  0.53452248,  0.80178373],[-0.5178918 , -0.57543534, -0.63297887]])\n",
    "TripletLossFn(v2,v1)\n",
    "print(\"Triplet Loss:\", TripletLossFn(v2,v1))"
   ]
  },
  {
   "cell_type": "code",
   "execution_count": 23,
   "id": "6d41fcbd",
   "metadata": {},
   "outputs": [],
   "source": [
    "from functools import partial\n",
    "def TripletLoss(margin=0.25):\n",
    "    triplet_loss_fn = partial(TripletLossFn, margin=margin)\n",
    "    return tl.Fn('TripletLoss', triplet_loss_fn)"
   ]
  },
  {
   "cell_type": "code",
   "execution_count": 24,
   "id": "aa68182b",
   "metadata": {
    "colab": {
     "base_uri": "https://localhost:8080/",
     "height": 51
    },
    "colab_type": "code"
   },
   "outputs": [
    {
     "ename": "NameError",
     "evalue": "name 'train_Q1' is not defined",
     "output_type": "error",
     "traceback": [
      "\u001b[0;31m---------------------------------------------------------------------------\u001b[0m",
      "\u001b[0;31mNameError\u001b[0m                                 Traceback (most recent call last)",
      "Cell \u001b[0;32mIn[23], line 2\u001b[0m\n\u001b[1;32m      1\u001b[0m batch_size \u001b[38;5;241m=\u001b[39m \u001b[38;5;241m256\u001b[39m\n\u001b[0;32m----> 2\u001b[0m train_generator \u001b[38;5;241m=\u001b[39m data_generator(\u001b[43mtrain_Q1\u001b[49m, train_Q2, batch_size, vocab[\u001b[38;5;124m'\u001b[39m\u001b[38;5;124m<PAD>\u001b[39m\u001b[38;5;124m'\u001b[39m])\n\u001b[1;32m      3\u001b[0m val_generator \u001b[38;5;241m=\u001b[39m data_generator(val_Q1, val_Q2, batch_size, vocab[\u001b[38;5;124m'\u001b[39m\u001b[38;5;124m<PAD>\u001b[39m\u001b[38;5;124m'\u001b[39m])\n\u001b[1;32m      4\u001b[0m \u001b[38;5;28mprint\u001b[39m(\u001b[38;5;124m'\u001b[39m\u001b[38;5;124mtrain_Q1.shape \u001b[39m\u001b[38;5;124m'\u001b[39m, train_Q1\u001b[38;5;241m.\u001b[39mshape)\n",
      "\u001b[0;31mNameError\u001b[0m: name 'train_Q1' is not defined"
     ]
    }
   ],
   "source": [
    "batch_size = 256\n",
    "train_generator = data_generator(train_Q1, train_Q2, batch_size, vocab['<PAD>'])\n",
    "val_generator = data_generator(val_Q1, val_Q2, batch_size, vocab['<PAD>'])\n",
    "print('train_Q1.shape ', train_Q1.shape)\n",
    "print('val_Q1.shape   ', val_Q1.shape)"
   ]
  },
  {
   "cell_type": "code",
   "execution_count": 25,
   "id": "4133288d",
   "metadata": {
    "colab": {},
    "colab_type": "code"
   },
   "outputs": [
    {
     "ename": "NameError",
     "evalue": "name 'train_generator' is not defined",
     "output_type": "error",
     "traceback": [
      "\u001b[0;31m---------------------------------------------------------------------------\u001b[0m",
      "\u001b[0;31mNameError\u001b[0m                                 Traceback (most recent call last)",
      "Cell \u001b[0;32mIn[24], line 5\u001b[0m\n\u001b[1;32m      1\u001b[0m lr_schedule \u001b[38;5;241m=\u001b[39m trax\u001b[38;5;241m.\u001b[39mlr\u001b[38;5;241m.\u001b[39mwarmup_and_rsqrt_decay(\u001b[38;5;241m400\u001b[39m, \u001b[38;5;241m0.01\u001b[39m)\n\u001b[1;32m      3\u001b[0m \u001b[38;5;66;03m# UNQ_C4 (UNIQUE CELL IDENTIFIER, DO NOT EDIT)\u001b[39;00m\n\u001b[1;32m      4\u001b[0m \u001b[38;5;66;03m# GRADED FUNCTION: train_model\u001b[39;00m\n\u001b[0;32m----> 5\u001b[0m \u001b[38;5;28;01mdef\u001b[39;00m\u001b[38;5;250m \u001b[39m\u001b[38;5;21mtrain_model\u001b[39m(Siamese, TripletLoss, lr_schedule, train_generator\u001b[38;5;241m=\u001b[39m\u001b[43mtrain_generator\u001b[49m, val_generator\u001b[38;5;241m=\u001b[39mval_generator, output_dir\u001b[38;5;241m=\u001b[39m\u001b[38;5;124m'\u001b[39m\u001b[38;5;124mmodel/\u001b[39m\u001b[38;5;124m'\u001b[39m):\n\u001b[1;32m      6\u001b[0m \u001b[38;5;250m    \u001b[39m\u001b[38;5;124;03m\"\"\"Training the Siamese Model\u001b[39;00m\n\u001b[1;32m      7\u001b[0m \n\u001b[1;32m      8\u001b[0m \u001b[38;5;124;03m    Args:\u001b[39;00m\n\u001b[0;32m   (...)\u001b[0m\n\u001b[1;32m     17\u001b[0m \u001b[38;5;124;03m        trax.supervised.training.Loop: Training loop for the model.\u001b[39;00m\n\u001b[1;32m     18\u001b[0m \u001b[38;5;124;03m    \"\"\"\u001b[39;00m\n\u001b[1;32m     19\u001b[0m     output_dir \u001b[38;5;241m=\u001b[39m os\u001b[38;5;241m.\u001b[39mpath\u001b[38;5;241m.\u001b[39mexpanduser(output_dir)\n",
      "\u001b[0;31mNameError\u001b[0m: name 'train_generator' is not defined"
     ]
    }
   ],
   "source": [
    "lr_schedule = trax.lr.warmup_and_rsqrt_decay(400, 0.01)\n",
    "\n",
    "# UNQ_C4 (UNIQUE CELL IDENTIFIER, DO NOT EDIT)\n",
    "# GRADED FUNCTION: train_model\n",
    "def train_model(Siamese, TripletLoss, lr_schedule, train_generator=train_generator, val_generator=val_generator, output_dir='model/'):\n",
    "    \"\"\"Training the Siamese Model\n",
    "\n",
    "    Args:\n",
    "        Siamese (function): Function that returns the Siamese model.\n",
    "        TripletLoss (function): Function that defines the TripletLoss loss function.\n",
    "        lr_schedule (function): Trax multifactor schedule function.\n",
    "        train_generator (generator, optional): Training generator. Defaults to train_generator.\n",
    "        val_generator (generator, optional): Validation generator. Defaults to val_generator.\n",
    "        output_dir (str, optional): Path to save model to. Defaults to 'model/'.\n",
    "\n",
    "    Returns:\n",
    "        trax.supervised.training.Loop: Training loop for the model.\n",
    "    \"\"\"\n",
    "    output_dir = os.path.expanduser(output_dir)\n",
    "\n",
    "    ### START CODE HERE (Replace instances of 'None' with your code) ###\n",
    "\n",
    "    train_task = training.TrainTask(\n",
    "        labeled_data=None,       # Use generator (train)\n",
    "        loss_layer=None,         # Use triplet loss. Don't forget to instantiate this object\n",
    "        optimizer=None,          # Don't forget to add the learning rate parameter\n",
    "        lr_schedule=lr_schedule, # Use Trax multifactor schedule function\n",
    "    )\n",
    "\n",
    "    eval_task = training.EvalTask(\n",
    "        labeled_data=None,       # Use generator (val)\n",
    "        metrics=[None],          # Use triplet loss. Don't forget to instantiate this object\n",
    "    )\n",
    "    \n",
    "    ### END CODE HERE ###\n",
    "\n",
    "    training_loop = training.Loop(Siamese(),\n",
    "                                  train_task,\n",
    "                                  eval_task=eval_task,\n",
    "                                  output_dir=output_dir)\n",
    "\n",
    "    return training_loop"
   ]
  },
  {
   "cell_type": "code",
   "execution_count": 26,
   "id": "617a31ee",
   "metadata": {
    "colab": {
     "base_uri": "https://localhost:8080/",
     "height": 391
    },
    "colab_type": "code"
   },
   "outputs": [
    {
     "ename": "NameError",
     "evalue": "name 'train_model' is not defined",
     "output_type": "error",
     "traceback": [
      "\u001b[0;31m---------------------------------------------------------------------------\u001b[0m",
      "\u001b[0;31mNameError\u001b[0m                                 Traceback (most recent call last)",
      "Cell \u001b[0;32mIn[25], line 2\u001b[0m\n\u001b[1;32m      1\u001b[0m train_steps \u001b[38;5;241m=\u001b[39m \u001b[38;5;241m5\u001b[39m\n\u001b[0;32m----> 2\u001b[0m training_loop \u001b[38;5;241m=\u001b[39m \u001b[43mtrain_model\u001b[49m(Siamese, TripletLoss, lr_schedule)\n\u001b[1;32m      3\u001b[0m training_loop\u001b[38;5;241m.\u001b[39mrun(train_steps)\n",
      "\u001b[0;31mNameError\u001b[0m: name 'train_model' is not defined"
     ]
    }
   ],
   "source": [
    "train_steps = 5\n",
    "training_loop = train_model(Siamese, TripletLoss, lr_schedule)\n",
    "training_loop.run(train_steps)"
   ]
  },
  {
   "cell_type": "code",
   "execution_count": 27,
   "id": "6f5ad136",
   "metadata": {
    "colab": {},
    "colab_type": "code"
   },
   "outputs": [
    {
     "ename": "ValueError",
     "evalue": "Found nonlayer object (None) in layers: [None, None, None, None]",
     "output_type": "error",
     "traceback": [
      "\u001b[0;31m---------------------------------------------------------------------------\u001b[0m",
      "\u001b[0;31mValueError\u001b[0m                                Traceback (most recent call last)",
      "Cell \u001b[0;32mIn[26], line 2\u001b[0m\n\u001b[1;32m      1\u001b[0m \u001b[38;5;66;03m# Loading in the saved model\u001b[39;00m\n\u001b[0;32m----> 2\u001b[0m model \u001b[38;5;241m=\u001b[39m \u001b[43mSiamese\u001b[49m\u001b[43m(\u001b[49m\u001b[43m)\u001b[49m\n\u001b[1;32m      3\u001b[0m model\u001b[38;5;241m.\u001b[39minit_from_file(\u001b[38;5;124m'\u001b[39m\u001b[38;5;124mmodel.pkl.gz\u001b[39m\u001b[38;5;124m'\u001b[39m)\n",
      "Cell \u001b[0;32mIn[18], line 19\u001b[0m, in \u001b[0;36mSiamese\u001b[0;34m(vocab_size, d_model, mode)\u001b[0m\n\u001b[1;32m     16\u001b[0m     \u001b[38;5;28;01mreturn\u001b[39;00m x \u001b[38;5;241m/\u001b[39m fastnp\u001b[38;5;241m.\u001b[39msqrt(fastnp\u001b[38;5;241m.\u001b[39msum(x \u001b[38;5;241m*\u001b[39m x, axis\u001b[38;5;241m=\u001b[39m\u001b[38;5;241m-\u001b[39m\u001b[38;5;241m1\u001b[39m, keepdims\u001b[38;5;241m=\u001b[39m\u001b[38;5;28;01mTrue\u001b[39;00m))\n\u001b[1;32m     18\u001b[0m \u001b[38;5;66;03m### START CODE HERE (Replace instances of 'None' with your code) ###\u001b[39;00m\n\u001b[0;32m---> 19\u001b[0m q_processor \u001b[38;5;241m=\u001b[39m \u001b[43mtl\u001b[49m\u001b[38;5;241;43m.\u001b[39;49m\u001b[43mSerial\u001b[49m\u001b[43m(\u001b[49m\u001b[43m  \u001b[49m\u001b[38;5;66;43;03m# Processor will run on Q1 and Q2.\u001b[39;49;00m\n\u001b[1;32m     20\u001b[0m \u001b[43m    \u001b[49m\u001b[38;5;28;43;01mNone\u001b[39;49;00m\u001b[43m,\u001b[49m\u001b[43m \u001b[49m\u001b[38;5;66;43;03m# Embedding layer\u001b[39;49;00m\n\u001b[1;32m     21\u001b[0m \u001b[43m    \u001b[49m\u001b[38;5;28;43;01mNone\u001b[39;49;00m\u001b[43m,\u001b[49m\u001b[43m \u001b[49m\u001b[38;5;66;43;03m# LSTM layer\u001b[39;49;00m\n\u001b[1;32m     22\u001b[0m \u001b[43m    \u001b[49m\u001b[38;5;28;43;01mNone\u001b[39;49;00m\u001b[43m,\u001b[49m\u001b[43m \u001b[49m\u001b[38;5;66;43;03m# Mean over columns\u001b[39;49;00m\n\u001b[1;32m     23\u001b[0m \u001b[43m    \u001b[49m\u001b[38;5;28;43;01mNone\u001b[39;49;00m\u001b[43m  \u001b[49m\u001b[38;5;66;43;03m# Apply normalize function\u001b[39;49;00m\n\u001b[1;32m     24\u001b[0m \u001b[43m\u001b[49m\u001b[43m)\u001b[49m  \u001b[38;5;66;03m# Returns one vector of shape [batch_size, d_model].\u001b[39;00m\n\u001b[1;32m     26\u001b[0m \u001b[38;5;66;03m### END CODE HERE ###\u001b[39;00m\n\u001b[1;32m     27\u001b[0m \n\u001b[1;32m     28\u001b[0m \u001b[38;5;66;03m# Run on Q1 and Q2 in parallel.\u001b[39;00m\n\u001b[1;32m     29\u001b[0m model \u001b[38;5;241m=\u001b[39m tl\u001b[38;5;241m.\u001b[39mParallel(q_processor, q_processor)\n",
      "File \u001b[0;32m~/work/notes/notes-nlp/.venv/lib/python3.10/site-packages/trax/layers/combinators.py:59\u001b[0m, in \u001b[0;36mSerial.__init__\u001b[0;34m(self, name, sublayers_to_print, *sublayers)\u001b[0m\n\u001b[1;32m     55\u001b[0m \u001b[38;5;28;01mdef\u001b[39;00m\u001b[38;5;250m \u001b[39m\u001b[38;5;21m__init__\u001b[39m(\u001b[38;5;28mself\u001b[39m, \u001b[38;5;241m*\u001b[39msublayers, name\u001b[38;5;241m=\u001b[39m\u001b[38;5;28;01mNone\u001b[39;00m, sublayers_to_print\u001b[38;5;241m=\u001b[39m\u001b[38;5;28;01mNone\u001b[39;00m):\n\u001b[1;32m     56\u001b[0m   \u001b[38;5;28msuper\u001b[39m()\u001b[38;5;241m.\u001b[39m\u001b[38;5;21m__init__\u001b[39m(\n\u001b[1;32m     57\u001b[0m       name\u001b[38;5;241m=\u001b[39mname, sublayers_to_print\u001b[38;5;241m=\u001b[39msublayers_to_print)\n\u001b[0;32m---> 59\u001b[0m   sublayers \u001b[38;5;241m=\u001b[39m \u001b[43m_ensure_flat\u001b[49m\u001b[43m(\u001b[49m\u001b[43msublayers\u001b[49m\u001b[43m)\u001b[49m\n\u001b[1;32m     60\u001b[0m   \u001b[38;5;28mself\u001b[39m\u001b[38;5;241m.\u001b[39m_sublayers \u001b[38;5;241m=\u001b[39m sublayers\n\u001b[1;32m     61\u001b[0m   \u001b[38;5;28mself\u001b[39m\u001b[38;5;241m.\u001b[39m_n_layers \u001b[38;5;241m=\u001b[39m \u001b[38;5;28mlen\u001b[39m(sublayers)\n",
      "File \u001b[0;32m~/work/notes/notes-nlp/.venv/lib/python3.10/site-packages/trax/layers/combinators.py:1110\u001b[0m, in \u001b[0;36m_ensure_flat\u001b[0;34m(layers)\u001b[0m\n\u001b[1;32m   1108\u001b[0m \u001b[38;5;28;01mfor\u001b[39;00m obj \u001b[38;5;129;01min\u001b[39;00m layers:\n\u001b[1;32m   1109\u001b[0m   \u001b[38;5;28;01mif\u001b[39;00m \u001b[38;5;129;01mnot\u001b[39;00m \u001b[38;5;28misinstance\u001b[39m(obj, base\u001b[38;5;241m.\u001b[39mLayer):\n\u001b[0;32m-> 1110\u001b[0m     \u001b[38;5;28;01mraise\u001b[39;00m \u001b[38;5;167;01mValueError\u001b[39;00m(\n\u001b[1;32m   1111\u001b[0m         \u001b[38;5;124mf\u001b[39m\u001b[38;5;124m'\u001b[39m\u001b[38;5;124mFound nonlayer object (\u001b[39m\u001b[38;5;132;01m{\u001b[39;00mobj\u001b[38;5;132;01m}\u001b[39;00m\u001b[38;5;124m) in layers: \u001b[39m\u001b[38;5;132;01m{\u001b[39;00mlayers\u001b[38;5;132;01m}\u001b[39;00m\u001b[38;5;124m'\u001b[39m)\n\u001b[1;32m   1112\u001b[0m \u001b[38;5;28;01mreturn\u001b[39;00m layers\n",
      "\u001b[0;31mValueError\u001b[0m: Found nonlayer object (None) in layers: [None, None, None, None]"
     ]
    }
   ],
   "source": [
    "# Loading in the saved model\n",
    "model = Siamese()\n",
    "model.init_from_file('model.pkl.gz')"
   ]
  },
  {
   "cell_type": "code",
   "execution_count": 28,
   "id": "6186c70a",
   "metadata": {
    "colab": {},
    "colab_type": "code"
   },
   "outputs": [],
   "source": [
    "# UNQ_C5 (UNIQUE CELL IDENTIFIER, DO NOT EDIT)\n",
    "# GRADED FUNCTION: classify\n",
    "def classify(test_Q1, test_Q2, y, threshold, model, vocab, data_generator=data_generator, batch_size=64):\n",
    "    \"\"\"Function to test the accuracy of the model.\n",
    "\n",
    "    Args:\n",
    "        test_Q1 (numpy.ndarray): Array of Q1 questions.\n",
    "        test_Q2 (numpy.ndarray): Array of Q2 questions.\n",
    "        y (numpy.ndarray): Array of actual target.\n",
    "        threshold (float): Desired threshold.\n",
    "        model (trax.layers.combinators.Parallel): The Siamese model.\n",
    "        vocab (collections.defaultdict): The vocabulary used.\n",
    "        data_generator (function): Data generator function. Defaults to data_generator.\n",
    "        batch_size (int, optional): Size of the batches. Defaults to 64.\n",
    "\n",
    "    Returns:\n",
    "        float: Accuracy of the model.\n",
    "    \"\"\"\n",
    "    accuracy = 0\n",
    "    ### START CODE HERE (Replace instances of 'None' with your code) ###\n",
    "    for i in range(0, len(test_Q1), batch_size):\n",
    "        # Call the data generator (built in Ex 01) with shuffle=False using next()\n",
    "        # use batch size chuncks of questions as Q1 & Q2 arguments of the data generator. e.g x[i:i + batch_size]\n",
    "        # Hint: use `vocab['<PAD>']` for the `pad` argument of the data generator\n",
    "        q1, q2 = None\n",
    "        # use batch size chuncks of actual output targets (same syntax as example above)\n",
    "        y_test = None\n",
    "        # Call the model\n",
    "        v1, v2 = None\n",
    "\n",
    "        for j in range(batch_size):\n",
    "            # take dot product to compute cos similarity of each pair of entries, v1[j], v2[j]\n",
    "            # don't forget to transpose the second argument\n",
    "            d = None\n",
    "            # is d greater than the threshold?\n",
    "            res = None\n",
    "            # increment accurancy if y_test is equal `res`\n",
    "            accuracy += None\n",
    "    # compute accuracy using accuracy and total length of test questions\n",
    "    accuracy = None\n",
    "    ### END CODE HERE ###\n",
    "    \n",
    "    return accuracy"
   ]
  },
  {
   "cell_type": "code",
   "execution_count": 29,
   "id": "21eb1c78",
   "metadata": {
    "colab": {
     "base_uri": "https://localhost:8080/",
     "height": 34
    },
    "colab_type": "code"
   },
   "outputs": [
    {
     "ename": "NameError",
     "evalue": "name 'Q1_test' is not defined",
     "output_type": "error",
     "traceback": [
      "\u001b[0;31m---------------------------------------------------------------------------\u001b[0m",
      "\u001b[0;31mNameError\u001b[0m                                 Traceback (most recent call last)",
      "Cell \u001b[0;32mIn[28], line 2\u001b[0m\n\u001b[1;32m      1\u001b[0m \u001b[38;5;66;03m# this takes around 1 minute\u001b[39;00m\n\u001b[0;32m----> 2\u001b[0m accuracy \u001b[38;5;241m=\u001b[39m classify(\u001b[43mQ1_test\u001b[49m,Q2_test, y_test, \u001b[38;5;241m0.7\u001b[39m, model, vocab, batch_size \u001b[38;5;241m=\u001b[39m \u001b[38;5;241m512\u001b[39m) \n\u001b[1;32m      3\u001b[0m \u001b[38;5;28mprint\u001b[39m(\u001b[38;5;124m\"\u001b[39m\u001b[38;5;124mAccuracy\u001b[39m\u001b[38;5;124m\"\u001b[39m, accuracy)\n",
      "\u001b[0;31mNameError\u001b[0m: name 'Q1_test' is not defined"
     ]
    }
   ],
   "source": [
    "# this takes around 1 minute\n",
    "accuracy = classify(Q1_test,Q2_test, y_test, 0.7, model, vocab, batch_size = 512) \n",
    "print(\"Accuracy\", accuracy)"
   ]
  },
  {
   "cell_type": "code",
   "execution_count": 30,
   "id": "ae1a03ac",
   "metadata": {
    "colab": {},
    "colab_type": "code"
   },
   "outputs": [],
   "source": [
    "# UNQ_C6 (UNIQUE CELL IDENTIFIER, DO NOT EDIT)\n",
    "# GRADED FUNCTION: predict\n",
    "def predict(question1, question2, threshold, model, vocab, data_generator=data_generator, verbose=False):\n",
    "    \"\"\"Function for predicting if two questions are duplicates.\n",
    "\n",
    "    Args:\n",
    "        question1 (str): First question.\n",
    "        question2 (str): Second question.\n",
    "        threshold (float): Desired threshold.\n",
    "        model (trax.layers.combinators.Parallel): The Siamese model.\n",
    "        vocab (collections.defaultdict): The vocabulary used.\n",
    "        data_generator (function): Data generator function. Defaults to data_generator.\n",
    "        verbose (bool, optional): If the results should be printed out. Defaults to False.\n",
    "\n",
    "    Returns:\n",
    "        bool: True if the questions are duplicates, False otherwise.\n",
    "    \"\"\"\n",
    "    ### START CODE HERE (Replace instances of 'None' with your code) ###\n",
    "    # use `nltk` word tokenize function to tokenize\n",
    "    q1 = None  # tokenize\n",
    "    q2 = None  # tokenize\n",
    "    Q1, Q2 = [], []\n",
    "    for word in q1:  # encode q1\n",
    "        # increment by checking the 'word' index in `vocab`\n",
    "        Q1 += None\n",
    "    for word in q2:  # encode q2\n",
    "        # increment by checking the 'word' index in `vocab`\n",
    "        Q2 += None\n",
    "        \n",
    "    # Call the data generator (built in Ex 01) using next()\n",
    "    # pass [Q1] & [Q2] as Q1 & Q2 arguments of the data generator. Set batch size as 1\n",
    "    # Hint: use `vocab['<PAD>']` for the `pad` argument of the data generator\n",
    "    Q1, Q2 = None\n",
    "    # Call the model\n",
    "    v1, v2 = None\n",
    "    # take dot product to compute cos similarity of each pair of entries, v1, v2\n",
    "    # don't forget to transpose the second argument\n",
    "    d = None\n",
    "    # is d greater than the threshold?\n",
    "    res = None\n",
    "    \n",
    "    ### END CODE HERE ###\n",
    "    \n",
    "    if(verbose):\n",
    "        print(\"Q1  = \", Q1, \"\\nQ2  = \", Q2)\n",
    "        print(\"d   = \", d)\n",
    "        print(\"res = \", res)\n",
    "\n",
    "    return res"
   ]
  },
  {
   "cell_type": "code",
   "execution_count": 31,
   "id": "b650da17",
   "metadata": {
    "colab": {
     "base_uri": "https://localhost:8080/",
     "height": 102
    },
    "colab_type": "code"
   },
   "outputs": [
    {
     "ename": "NameError",
     "evalue": "name 'model' is not defined",
     "output_type": "error",
     "traceback": [
      "\u001b[0;31m---------------------------------------------------------------------------\u001b[0m",
      "\u001b[0;31mNameError\u001b[0m                                 Traceback (most recent call last)",
      "Cell \u001b[0;32mIn[30], line 5\u001b[0m\n\u001b[1;32m      3\u001b[0m question2 \u001b[38;5;241m=\u001b[39m \u001b[38;5;124m\"\u001b[39m\u001b[38;5;124mWhen can I see you again?\u001b[39m\u001b[38;5;124m\"\u001b[39m\n\u001b[1;32m      4\u001b[0m \u001b[38;5;66;03m# 1 means it is duplicated, 0 otherwise\u001b[39;00m\n\u001b[0;32m----> 5\u001b[0m predict(question1 , question2, \u001b[38;5;241m0.7\u001b[39m, \u001b[43mmodel\u001b[49m, vocab, verbose \u001b[38;5;241m=\u001b[39m \u001b[38;5;28;01mTrue\u001b[39;00m)\n",
      "\u001b[0;31mNameError\u001b[0m: name 'model' is not defined"
     ]
    }
   ],
   "source": [
    "# Feel free to try with your own questions\n",
    "question1 = \"When will I see you?\"\n",
    "question2 = \"When can I see you again?\"\n",
    "# 1 means it is duplicated, 0 otherwise\n",
    "predict(question1 , question2, 0.7, model, vocab, verbose = True)"
   ]
  },
  {
   "cell_type": "code",
   "execution_count": 32,
   "id": "96df7888",
   "metadata": {
    "colab": {
     "base_uri": "https://localhost:8080/",
     "height": 102
    },
    "colab_type": "code"
   },
   "outputs": [
    {
     "ename": "NameError",
     "evalue": "name 'model' is not defined",
     "output_type": "error",
     "traceback": [
      "\u001b[0;31m---------------------------------------------------------------------------\u001b[0m",
      "\u001b[0;31mNameError\u001b[0m                                 Traceback (most recent call last)",
      "Cell \u001b[0;32mIn[31], line 5\u001b[0m\n\u001b[1;32m      3\u001b[0m question2 \u001b[38;5;241m=\u001b[39m \u001b[38;5;124m\"\u001b[39m\u001b[38;5;124mDo they like hiking in the desert?\u001b[39m\u001b[38;5;124m\"\u001b[39m\n\u001b[1;32m      4\u001b[0m \u001b[38;5;66;03m# 1 means it is duplicated, 0 otherwise\u001b[39;00m\n\u001b[0;32m----> 5\u001b[0m predict(question1 , question2, \u001b[38;5;241m0.7\u001b[39m, \u001b[43mmodel\u001b[49m, vocab, verbose\u001b[38;5;241m=\u001b[39m\u001b[38;5;28;01mTrue\u001b[39;00m)\n",
      "\u001b[0;31mNameError\u001b[0m: name 'model' is not defined"
     ]
    }
   ],
   "source": [
    "# Feel free to try with your own questions\n",
    "question1 = \"Do they enjoy eating the dessert?\"\n",
    "question2 = \"Do they like hiking in the desert?\"\n",
    "# 1 means it is duplicated, 0 otherwise\n",
    "predict(question1 , question2, 0.7, model, vocab, verbose=True)"
   ]
  }
 ],
 "metadata": {
  "kernelspec": {
   "display_name": "Python 3 (ipykernel)",
   "language": "python",
   "name": "python3",
   "path": "/home/oren/.local/share/jupyter/kernels/python3"
  },
  "language_info": {
   "codemirror_mode": {
    "name": "ipython",
    "version": 3
   },
   "file_extension": ".py",
   "mimetype": "text/x-python",
   "name": "python",
   "nbconvert_exporter": "python",
   "pygments_lexer": "ipython3",
   "version": "3.10.12"
  }
 },
 "nbformat": 4,
 "nbformat_minor": 5
}