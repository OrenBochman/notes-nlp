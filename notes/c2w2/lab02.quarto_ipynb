{
  "cells": [
    {
      "cell_type": "markdown",
      "metadata": {},
      "source": [
        "---\n",
        "date: 2020-10-22\n",
        "title: Parts-of-Speech Tagging - Working with tags and Numpy\n",
        "subtitle: \"Probabilistic Models\"\n",
        "description: \"In this lab we will create a matrix using some tag information and then modify it using different approaches. This will serve as hands-on experience working with Numpy\"\n",
        "categories: \n",
        "  - NLP \n",
        "  - Coursera \n",
        "  - lab\n",
        "  - Probabilistic Models\n",
        "jupyter: python3\n",
        "---\n",
        "\n",
        "\n",
        "::: {#fig-00 .column-margin .nolightbox}\n",
        "![course banner](/images/Course-Logo-2-3.webp)\n",
        ":::\n",
        "\n",
        "In this lecture notebook we will create a matrix using some tag information and then modify it using different approaches.\n",
        "This will serve as hands-on experience working with Numpy and as an introduction to some elements used for POS tagging.\n"
      ],
      "id": "95e0fbe3"
    },
    {
      "cell_type": "code",
      "metadata": {},
      "source": [
        "import numpy as np\n",
        "import pandas as pd"
      ],
      "id": "6d0aabdc",
      "execution_count": null,
      "outputs": []
    },
    {
      "cell_type": "markdown",
      "metadata": {},
      "source": [
        "### Some information on tags\n",
        "\n",
        "For this notebook we will be using a toy example including only three tags (or states). In a real world application there are many more tags which can be found [here](https://www.ling.upenn.edu/courses/Fall_2003/ling001/penn_treebank_pos.html).\n"
      ],
      "id": "6ecf11cd"
    },
    {
      "cell_type": "code",
      "metadata": {},
      "source": [
        "# Define tags for Adverb, Noun and To (the preposition) , respectively\n",
        "tags = ['RB', 'NN', 'TO']"
      ],
      "id": "3ddf1f27",
      "execution_count": null,
      "outputs": []
    },
    {
      "cell_type": "markdown",
      "metadata": {},
      "source": [
        "In this week's assignment we will construct some dictionaries that provide useful information of the tags and words we will be working with. \n",
        "\n",
        "One of these dictionaries is the `transition_counts` which counts the number of times a particular tag happened next to another. The keys of this dictionary have the form `(previous_tag, tag)` and the values are the frequency of occurrences.\n",
        "\n",
        "Another one is the `emission_counts` dictionary which will count the number of times a particular pair of `(tag, word)` appeared in the training dataset.\n",
        "\n",
        "In general think of `transition` when working with tags only and of `emission` when working with tags and words.\n",
        "\n",
        "In this notebook we will be looking at the first one:\n"
      ],
      "id": "2609f479"
    },
    {
      "cell_type": "code",
      "metadata": {},
      "source": [
        "# Define 'transition_counts' dictionary\n",
        "# Note: values are the same as the ones in the assignment\n",
        "transition_counts = {\n",
        "    ('NN', 'NN'): 16241,\n",
        "    ('RB', 'RB'): 2263,\n",
        "    ('TO', 'TO'): 2,\n",
        "    ('NN', 'TO'): 5256,\n",
        "    ('RB', 'TO'): 855,\n",
        "    ('TO', 'NN'): 734,\n",
        "    ('NN', 'RB'): 2431,\n",
        "    ('RB', 'NN'): 358,\n",
        "    ('TO', 'RB'): 200\n",
        "}"
      ],
      "id": "086b71a7",
      "execution_count": null,
      "outputs": []
    },
    {
      "cell_type": "markdown",
      "metadata": {},
      "source": [
        "Notice that there are 9 combinations of the 3 tags used. Each tag can appear after the same tag so we should include those as well.\n",
        "\n",
        "### Using Numpy for matrix creation\n",
        "\n",
        "Now we will create a matrix that includes these frequencies using Numpy arrays:\n"
      ],
      "id": "8792f92f"
    },
    {
      "cell_type": "code",
      "metadata": {},
      "source": [
        "# Store the number of tags in the 'num_tags' variable\n",
        "num_tags = len(tags)\n",
        "\n",
        "# Initialize a 3X3 numpy array with zeros\n",
        "transition_matrix = np.zeros((num_tags, num_tags))\n",
        "\n",
        "# Print matrix\n",
        "transition_matrix"
      ],
      "id": "0ab67629",
      "execution_count": null,
      "outputs": []
    },
    {
      "cell_type": "markdown",
      "metadata": {},
      "source": [
        "Visually we can see the matrix has the correct dimensions. Don't forget we can check this too using the `shape` attribute:\n"
      ],
      "id": "4179633f"
    },
    {
      "cell_type": "code",
      "metadata": {},
      "source": [
        "# Print shape of the matrix\n",
        "transition_matrix.shape"
      ],
      "id": "fddcf56a",
      "execution_count": null,
      "outputs": []
    },
    {
      "cell_type": "markdown",
      "metadata": {},
      "source": [
        "Before filling this matrix with the values of the `transition_counts` dictionary we should sort the tags so that their placement in the matrix is consistent:\n"
      ],
      "id": "444e6f5f"
    },
    {
      "cell_type": "code",
      "metadata": {},
      "source": [
        "# Create sorted version of the tag's list\n",
        "sorted_tags = sorted(tags)\n",
        "\n",
        "# Print sorted list\n",
        "sorted_tags"
      ],
      "id": "aa0156e1",
      "execution_count": null,
      "outputs": []
    },
    {
      "cell_type": "markdown",
      "metadata": {},
      "source": [
        "To fill this matrix with the correct values we can use a `double for loop`. We could also use `itertools.product` to one line this double loop:\n"
      ],
      "id": "5b6b2baf"
    },
    {
      "cell_type": "code",
      "metadata": {},
      "source": [
        "# Loop rows\n",
        "for i in range(num_tags):\n",
        "    # Loop columns\n",
        "    for j in range(num_tags):\n",
        "        # Define tag pair\n",
        "        tag_tuple = (sorted_tags[i], sorted_tags[j])\n",
        "        # Get frequency from transition_counts dict and assign to (i, j) position in the matrix\n",
        "        transition_matrix[i, j] = transition_counts.get(tag_tuple)\n",
        "\n",
        "# Print matrix\n",
        "transition_matrix"
      ],
      "id": "137d524a",
      "execution_count": null,
      "outputs": []
    },
    {
      "cell_type": "markdown",
      "metadata": {},
      "source": [
        "Looks like this worked fine. However the matrix can be hard to read as `Numpy` is more about efficiency, rather than presenting values in a pretty format. \n",
        "\n",
        "For this we can use a `Pandas DataFrame`. In particular, a function that takes the matrix as input and prints out a pretty version of it will be very useful:\n"
      ],
      "id": "09ba283e"
    },
    {
      "cell_type": "code",
      "metadata": {},
      "source": [
        "# Define 'print_matrix' function\n",
        "def print_matrix(matrix):\n",
        "    print(pd.DataFrame(matrix, index=sorted_tags, columns=sorted_tags))"
      ],
      "id": "c4466ddd",
      "execution_count": null,
      "outputs": []
    },
    {
      "cell_type": "markdown",
      "metadata": {},
      "source": [
        "Notice that the tags are not a parameter of the function. This is because the `sorted_tags` list will not change in the rest of the notebook so it is safe to use the variable previously declared. To test this function simply run: \n"
      ],
      "id": "00d861dd"
    },
    {
      "cell_type": "code",
      "metadata": {},
      "source": [
        "# Print the 'transition_matrix' by calling the 'print_matrix' function\n",
        "print_matrix(transition_matrix)"
      ],
      "id": "887f200e",
      "execution_count": null,
      "outputs": []
    },
    {
      "cell_type": "markdown",
      "metadata": {},
      "source": [
        "That is a lot better, isn't it? \n",
        "\n",
        "As we may have already deducted this matrix is not symmetrical.\n",
        "\n",
        "### Working with Numpy for matrix manipulation\n",
        "\n",
        "Now that we got the matrix set up it is time to see how a matrix can be manipulated after being created. \n",
        "\n",
        "`Numpy` allows vectorized operations which means that operations that would normally include looping over the matrix can be done in a simpler manner. This is consistent with treating numpy arrays as matrices since we get support for common matrix operations. We can do matrix multiplication, scalar multiplication, vector addition and many more!\n",
        "\n",
        "For instance try scaling each value in the matrix by a factor of $\\frac{1}{10}$. Normally we would loop over each value in the matrix, updating them accordingly. But in Numpy this is as easy as dividing the whole matrix by 10:\n"
      ],
      "id": "db2fef37"
    },
    {
      "cell_type": "code",
      "metadata": {},
      "source": [
        "# Scale transition matrix\n",
        "transition_matrix = transition_matrix/10\n",
        "\n",
        "# Print scaled matrix\n",
        "print_matrix(transition_matrix)"
      ],
      "id": "022f3710",
      "execution_count": null,
      "outputs": []
    },
    {
      "cell_type": "markdown",
      "metadata": {},
      "source": [
        "Another trickier example is to normalize each row so that each value is equal to $\\frac{value}{sum \\,of \\,row}$.\n",
        "\n",
        "This can be easily done with vectorization. First we will compute the sum of each row:\n"
      ],
      "id": "54b0732b"
    },
    {
      "cell_type": "code",
      "metadata": {},
      "source": [
        "# Compute sum of row for each row\n",
        "rows_sum = transition_matrix.sum(axis=1, keepdims=True)\n",
        "\n",
        "# Print sum of rows\n",
        "rows_sum"
      ],
      "id": "2973666a",
      "execution_count": null,
      "outputs": []
    },
    {
      "cell_type": "markdown",
      "metadata": {},
      "source": [
        "Notice that the `sum()` method was used. This method does exactly what its name implies. Since the sum of the rows was desired the axis was set to `1`. In Numpy `axis=1` refers to the columns so the sum is done by summing each column of a particular row, for each row. \n",
        "\n",
        "Also the `keepdims` parameter was set to `True` so the resulting array had shape `(3, 1)` rather than `(3,)`. This was done so that the axes were consistent with the desired operation. \n",
        "\n",
        "When working with Numpy, always remember to check the shape of the arrays we are working with, many unexpected errors happen because of axes not being consistent. The `shape` attribute is your friend for these cases.\n"
      ],
      "id": "f83e111c"
    },
    {
      "cell_type": "code",
      "metadata": {},
      "source": [
        "# Normalize transition matrix\n",
        "transition_matrix = transition_matrix / rows_sum\n",
        "\n",
        "# Print normalized matrix\n",
        "print_matrix(transition_matrix)"
      ],
      "id": "924f75f2",
      "execution_count": null,
      "outputs": []
    },
    {
      "cell_type": "markdown",
      "metadata": {},
      "source": [
        "Notice that the normalization that was carried out forces the sum of each row to be equal to `1`. We can easily check this by running the `sum` method on the resulting matrix:\n"
      ],
      "id": "a6e8bcf2"
    },
    {
      "cell_type": "code",
      "metadata": {},
      "source": [
        "transition_matrix.sum(axis=1, keepdims=True)"
      ],
      "id": "8dbe39e1",
      "execution_count": null,
      "outputs": []
    },
    {
      "cell_type": "markdown",
      "metadata": {},
      "source": [
        "For a final example we are asked to modify each value of the diagonal of the matrix so that they are equal to the `log` of the sum of the current row plus the current value. When doing mathematical operations like this one don't forget to import the `math` module. \n",
        "\n",
        "This can be done using a standard `for loop` or `vectorization`. You'll see both in action:\n"
      ],
      "id": "90ad4953"
    },
    {
      "cell_type": "code",
      "metadata": {},
      "source": [
        "import math\n",
        "\n",
        "# Copy transition matrix for for-loop example\n",
        "t_matrix_for = np.copy(transition_matrix)\n",
        "\n",
        "# Copy transition matrix for numpy functions example\n",
        "t_matrix_np = np.copy(transition_matrix)"
      ],
      "id": "db20893e",
      "execution_count": null,
      "outputs": []
    },
    {
      "cell_type": "markdown",
      "metadata": {},
      "source": [
        "#### Using a for-loop\n"
      ],
      "id": "0a36894c"
    },
    {
      "cell_type": "code",
      "metadata": {},
      "source": [
        "# Loop values in the diagonal\n",
        "for i in range(num_tags):\n",
        "    t_matrix_for[i, i] =  t_matrix_for[i, i] + math.log(rows_sum[i])\n",
        "\n",
        "# Print matrix\n",
        "print_matrix(t_matrix_for)"
      ],
      "id": "c2ebfe02",
      "execution_count": null,
      "outputs": []
    },
    {
      "cell_type": "markdown",
      "metadata": {},
      "source": [
        "#### Using vectorization\n"
      ],
      "id": "6347ccf6"
    },
    {
      "cell_type": "code",
      "metadata": {},
      "source": [
        "# Save diagonal in a numpy array\n",
        "d = np.diag(t_matrix_np)\n",
        "\n",
        "# Print shape of diagonal\n",
        "d.shape"
      ],
      "id": "1e29ae3d",
      "execution_count": null,
      "outputs": []
    },
    {
      "cell_type": "markdown",
      "metadata": {},
      "source": [
        "We can save the diagonal in a numpy array using Numpy's `diag()` function. Notice that this array has shape `(3,)` so it is inconsistent with the dimensions of the `rows_sum` array which are `(3, 1)`. You'll have to reshape before moving forward. For this we can use Numpy's `reshape()` function, specifying the desired shape in a tuple:\n"
      ],
      "id": "3da88efe"
    },
    {
      "cell_type": "code",
      "metadata": {},
      "source": [
        "# Reshape diagonal numpy array\n",
        "d = np.reshape(d, (3,1))\n",
        "\n",
        "# Print shape of diagonal\n",
        "d.shape"
      ],
      "id": "c764796b",
      "execution_count": null,
      "outputs": []
    },
    {
      "cell_type": "markdown",
      "metadata": {},
      "source": [
        "Now that the diagonal has the correct shape we can do the vectorized operation by applying the `math.log()` function to the `rows_sum` array and adding the diagonal. \n",
        "\n",
        "To apply a function to each element of a numpy array use Numpy's `vectorize()` function providing the desired function as a parameter. This function returns a vectorized function that accepts a numpy array as a parameter. \n",
        "\n",
        "To update the original matrix we can use Numpy's `fill_diagonal()` function.\n"
      ],
      "id": "12ebbf81"
    },
    {
      "cell_type": "code",
      "metadata": {},
      "source": [
        "# Perform the vectorized operation\n",
        "d = d + np.vectorize(math.log)(rows_sum)\n",
        "\n",
        "# Use numpy's 'fill_diagonal' function to update the diagonal\n",
        "np.fill_diagonal(t_matrix_np, d)\n",
        "\n",
        "# Print the matrix\n",
        "print_matrix(t_matrix_np)"
      ],
      "id": "17d03ed3",
      "execution_count": null,
      "outputs": []
    },
    {
      "cell_type": "markdown",
      "metadata": {},
      "source": [
        "To perform a sanity check that both methods yield the same result we can compare both matrices. Notice that this operation is also vectorized so we will get the equality check for each element in both matrices:\n"
      ],
      "id": "68718a06"
    },
    {
      "cell_type": "code",
      "metadata": {},
      "source": [
        "# Check for equality\n",
        "t_matrix_for == t_matrix_np"
      ],
      "id": "a93e3fae",
      "execution_count": null,
      "outputs": []
    },
    {
      "cell_type": "markdown",
      "metadata": {},
      "source": [
        "**Congratulations on finishing this lecture notebook!** Now we should be more familiar with some elements used by a POS tagger such as the `transition_counts` dictionary and with working with Numpy.\n",
        "\n",
        "**Keep it up!**\n"
      ],
      "id": "a041020b"
    }
  ],
  "metadata": {
    "kernelspec": {
      "name": "python3",
      "language": "python",
      "display_name": "Python 3 (ipykernel)",
      "path": "/home/oren/.local/share/jupyter/kernels/python3"
    }
  },
  "nbformat": 4,
  "nbformat_minor": 5
}