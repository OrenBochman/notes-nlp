{
  "cells": [
    {
      "cell_type": "markdown",
      "metadata": {},
      "source": [
        "---\n",
        "date: 2020-11-08\n",
        "title: \"Classes and subclasses\"\n",
        "subtitle: \"Sequence Models\"\n",
        "#description: \"we cover Neural networks for deep learning, then build a tweet classifier that places tweets into positive or negative sentiment categories, using a DNN.\"\n",
        "categories: \n",
        "  - NLP \n",
        "  - Coursera \n",
        "  - Lab\n",
        "  - Sequence Models\n",
        "jupyter: python3\n",
        "---\n",
        "\n",
        "\n",
        "![course banner](/images/Course-Logo-3-3.webp){.column-margin .nolightbox} \n",
        "\n",
        "\n",
        "In this notebook, I will show you the basics of classes and subclasses in Python. As you've seen in the lectures from this week, `Trax` uses layer classes as building blocks for deep learning models, so it is important to understand how classes and subclasses behave in order to be able to build custom layers when needed. \n",
        "\n",
        "By completing this notebook, you will:\n",
        "\n",
        "- Be able to define classes and subclasses in Python\n",
        "- Understand how inheritance works in subclasses\n",
        "- Be able to work with instances\n",
        "\n",
        "\n",
        "## Part 1: Parameters, methods and instances\n",
        "\n",
        "First, let's define a class `My_Class`. \n"
      ],
      "id": "68aecb27"
    },
    {
      "cell_type": "code",
      "metadata": {
        "colab": {},
        "colab_type": "code"
      },
      "source": [
        "class My_Class: #Definition of My_class\n",
        "    x = None    "
      ],
      "id": "6aadf803",
      "execution_count": null,
      "outputs": []
    },
    {
      "cell_type": "markdown",
      "metadata": {},
      "source": [
        "`My_Class`  has one parameter `x` without any value. You can think of parameters as the variables that every object assigned to a class will have. So, at this point, any object of class `My_Class` would have a variable `x` equal to `None`. To check this,  I'll create two instances of that class and get the value of `x` for both of them.\n"
      ],
      "id": "03d30d91"
    },
    {
      "cell_type": "code",
      "metadata": {
        "colab": {},
        "colab_type": "code"
      },
      "source": [
        "instance_a= My_Class() #To create an instance from class \"My_Class\" you have to call \"My_Class\"\n",
        "instance_b= My_Class()\n",
        "print('Parameter x of instance_a: ' + str(instance_a.x)) #To get a parameter 'x' from an instance 'a', write 'a.x'\n",
        "print('Parameter x of instance_b: ' + str(instance_b.x))"
      ],
      "id": "332c739f",
      "execution_count": null,
      "outputs": []
    },
    {
      "cell_type": "markdown",
      "metadata": {},
      "source": [
        "For an existing instance you can assign new values for any of its parameters. In the next cell, assign a value of `5` to the parameter `x` of `instance_a`.\n"
      ],
      "id": "4783c738"
    },
    {
      "cell_type": "code",
      "metadata": {
        "colab": {},
        "colab_type": "code"
      },
      "source": [
        "### START CODE HERE (1 line) ### \n",
        "instance_a.x = 5\n",
        "### END CODE HERE ###\n",
        "print('Parameter x of instance_a: ' + str(instance_a.x))"
      ],
      "id": "82288550",
      "execution_count": null,
      "outputs": []
    },
    {
      "cell_type": "markdown",
      "metadata": {},
      "source": [
        "## 1.1 The `__init__` method\n",
        "\n",
        "When you want to assign values to the parameters of your class when an instance is created, it is necessary to define a special method: `__init__`. The `__init__` method is called when you create an instance of a class. It can have multiple arguments to initialize the paramenters of your instance. In the next cell I will define `My_Class` with an `__init__` method that takes the instance (`self`) and an argument `y` as inputs.\n"
      ],
      "id": "a89cc016"
    },
    {
      "cell_type": "code",
      "metadata": {
        "colab": {},
        "colab_type": "code"
      },
      "source": [
        "class My_Class: \n",
        "    def __init__(self, y): # The __init__ method takes as input the instance to be initialized and a variable y\n",
        "        self.x = y         # Sets parameter x to be equal to y"
      ],
      "id": "43a6a61b",
      "execution_count": null,
      "outputs": []
    },
    {
      "cell_type": "markdown",
      "metadata": {},
      "source": [
        "In this case, the parameter `x` of an instance from `My_Class` would take the value of an argument `y`. \n",
        "The argument `self` is used to pass information from the instance being created to the method `__init__`. In the next cell, create an instance `instance_c`, with `x` equal to `10`.\n"
      ],
      "id": "bcaed4bc"
    },
    {
      "cell_type": "code",
      "metadata": {
        "colab": {},
        "colab_type": "code"
      },
      "source": [
        "### START CODE HERE (1 line) ### \n",
        "instance_c = My_Class(10)\n",
        "### END CODE HERE ###\n",
        "print('Parameter x of instance_c: ' + str(instance_c.x))"
      ],
      "id": "a74ef1bd",
      "execution_count": null,
      "outputs": []
    },
    {
      "cell_type": "markdown",
      "metadata": {},
      "source": [
        "Note that in this case, you had to pass the argument `y` from the `__init__` method to create an instance of `My_Class`.\n",
        "\n",
        "## 1.2 The `__call__` method\n",
        "\n",
        "Another important method is the `__call__` method. It is performed whenever you call an initialized instance of a class. It can have multiple arguments and you can define it to do whatever you want like\n",
        "\n",
        "- Change a parameter, \n",
        "- Print a message,\n",
        "- Create new variables, etc.\n",
        "\n",
        "In the next cell, I'll define `My_Class` with the same `__init__` method as before and with a `__call__` method that adds `z` to parameter `x` and prints the result.\n"
      ],
      "id": "9b364da3"
    },
    {
      "cell_type": "code",
      "metadata": {
        "colab": {},
        "colab_type": "code"
      },
      "source": [
        "class My_Class: \n",
        "    def __init__(self, y): # The __init__ method takes as input the instance to be initialized and a variable y\n",
        "        self.x = y         # Sets parameter x to be equal to y\n",
        "    def __call__(self, z): # __call__ method with self and z as arguments\n",
        "        self.x += z        # Adds z to parameter x when called \n",
        "        print(self.x)"
      ],
      "id": "8f8939f0",
      "execution_count": null,
      "outputs": []
    },
    {
      "cell_type": "markdown",
      "metadata": {},
      "source": [
        "Let’s create `instance_d` with `x` equal to 5.\n"
      ],
      "id": "6c919314"
    },
    {
      "cell_type": "code",
      "metadata": {
        "colab": {},
        "colab_type": "code"
      },
      "source": [
        "instance_d = My_Class(5)"
      ],
      "id": "89e77df4",
      "execution_count": null,
      "outputs": []
    },
    {
      "cell_type": "markdown",
      "metadata": {},
      "source": [
        "And now, see what happens when `instance_d` is called with argument `10`.\n"
      ],
      "id": "1a3f5d32"
    },
    {
      "cell_type": "code",
      "metadata": {
        "colab": {},
        "colab_type": "code"
      },
      "source": [
        "instance_d(10)"
      ],
      "id": "530a49da",
      "execution_count": null,
      "outputs": []
    },
    {
      "cell_type": "markdown",
      "metadata": {},
      "source": [
        "Now, you are ready to complete the following cell so any instance from `My_Class`:\n",
        "\n",
        "- Is initialized taking two arguments `y` and `z` and assigns them to `x_1` and `x_2`, respectively. And, \n",
        "- When called, takes the values of the parameters `x_1` and `x_2`, sums them, prints  and returns the result.\n"
      ],
      "id": "34dc0c32"
    },
    {
      "cell_type": "code",
      "metadata": {
        "colab": {},
        "colab_type": "code"
      },
      "source": [
        "class My_Class: \n",
        "    def __init__(self, y, z): #Initialization of x_1 and x_2 with arguments y and z\n",
        "        ### START CODE HERE (2 lines) ### \n",
        "        self.x_1 = y\n",
        "        self.x_2 = z\n",
        "        ### END CODE HERE ###\n",
        "    def __call__(self):       #When called, adds the values of parameters x_1 and x_2, prints and returns the result \n",
        "        ### START CODE HERE (1 line) ### \n",
        "        result = self.x_1 + self.x_2 \n",
        "        ### END CODE HERE ### \n",
        "        print(\"Addition of {} and {} is {}\".format(self.x_1,self.x_2,result))\n",
        "        return result"
      ],
      "id": "1accbd68",
      "execution_count": null,
      "outputs": []
    },
    {
      "cell_type": "markdown",
      "metadata": {},
      "source": [
        "Run the next cell to check your implementation. If everything is correct, you shouldn't get any errors.\n"
      ],
      "id": "f990838e"
    },
    {
      "cell_type": "code",
      "metadata": {
        "colab": {},
        "colab_type": "code"
      },
      "source": [
        "instance_e = My_Class(10,15)\n",
        "def test_class_definition():\n",
        "    \n",
        "    assert instance_e.x_1 == 10, \"Check the value assigned to x_1\"\n",
        "    assert instance_e.x_2 == 15, \"Check the value assigned to x_2\"\n",
        "    assert instance_e() == 25, \"Check the __call__ method\"\n",
        "    \n",
        "    print(\"\\033[92mAll tests passed!\")\n",
        "    \n",
        "test_class_definition()"
      ],
      "id": "050a58c5",
      "execution_count": null,
      "outputs": []
    },
    {
      "cell_type": "markdown",
      "metadata": {},
      "source": [
        "## 1.3 Custom methods\n",
        "\n",
        "In addition to the `__init__` and `__call__` methods, your classes can have custom-built methods to do whatever you want when called. To define a custom method, you have to indicate its input arguments, the instructions that you want it to perform and the values to return (if any). In the next cell, `My_Class` is defined with `my_method` that multiplies the values of `x_1` and `x_2`, sums that product with an input `w`, and returns the result.\n"
      ],
      "id": "51d9a39d"
    },
    {
      "cell_type": "code",
      "metadata": {
        "colab": {},
        "colab_type": "code"
      },
      "source": [
        "class My_Class: \n",
        "    def __init__(self, y, z): #Initialization of x_1 and x_2 with arguments y and z\n",
        "        self.x_1 = y\n",
        "        self.x_2 = z\n",
        "    def __call__(self):       #Performs an operation with x_1 and x_2, and returns the result\n",
        "        a = self.x_1 - 2*self.x_2 \n",
        "        return a\n",
        "    def my_method(self, w):   #Multiplies x_1 and x_2, adds argument w and returns the result\n",
        "        result = self.x_1*self.x_2 + w\n",
        "        return result"
      ],
      "id": "bb681b7c",
      "execution_count": null,
      "outputs": []
    },
    {
      "cell_type": "markdown",
      "metadata": {},
      "source": [
        "Create an instance `instance_f` of `My_Class` with any integer values that you want for `x_1` and `x_2`. For that instance, see the result of calling `My_method`, with an argument `w` equal to `16`.\n"
      ],
      "id": "bdab93f8"
    },
    {
      "cell_type": "code",
      "metadata": {
        "colab": {},
        "colab_type": "code"
      },
      "source": [
        "### START CODE HERE (1 line) ### \n",
        "instance_f = My_Class(1,10)\n",
        "### END CODE HERE ### \n",
        "print(\"Output of my_method:\",instance_f.my_method(16))"
      ],
      "id": "92196cf4",
      "execution_count": null,
      "outputs": []
    },
    {
      "cell_type": "markdown",
      "metadata": {},
      "source": [
        "As you can corroborate in the previous cell, to call a custom method `m`, with arguments `args`, for an instance `i` you must write `i.m(args)`. With that in mind, methods can call others within a class. In the following cell, try to define `new_method` which calls `my_method` with `v` as input argument. Try to do this on your own in the cell given below.\n"
      ],
      "id": "4864a307"
    },
    {
      "cell_type": "code",
      "metadata": {},
      "source": [
        "class My_Class: \n",
        "    def __init__(self, y, z):         #Initialization of x_1 and x_2 with arguments y and z\n",
        "        self.x_1 = None\n",
        "        self.x_2 = None\n",
        "    def __call__(self):               #Performs an operation with x_1 and x_2, and returns the result\n",
        "        a = None \n",
        "        return a\n",
        "    def my_method(self, w):           #Multiplies x_1 and x_2, adds argument w and returns the result\n",
        "        b = None\n",
        "        return b\n",
        "    def new_method(self, v):          #Calls My_method with argument v\n",
        "        ### START CODE HERE (1 line) ### \n",
        "        result = None\n",
        "        ### END CODE HERE ### \n",
        "        return result"
      ],
      "id": "8c7849d7",
      "execution_count": null,
      "outputs": []
    },
    {
      "cell_type": "markdown",
      "metadata": {},
      "source": [
        "<b>SPOILER ALERT</b> Solution:\n"
      ],
      "id": "d4fdb5e7"
    },
    {
      "cell_type": "code",
      "metadata": {
        "colab": {},
        "colab_type": "code"
      },
      "source": [
        "# hidden-cell\n",
        "class My_Class: \n",
        "    def __init__(self, y, z):      #Initialization of x_1 and x_2 with arguments y and z\n",
        "        self.x_1 = y\n",
        "        self.x_2 = z\n",
        "    def __call__(self):            #Performs an operation with x_1 and x_2, and returns the result\n",
        "        a = self.x_1 - 2*self.x_2 \n",
        "        return a\n",
        "    def my_method(self, w):        #Multiplies x_1 and x_2, adds argument w and returns the result\n",
        "        b = self.x_1*self.x_2 + w\n",
        "        return b\n",
        "    def new_method(self, v):       #Calls My_method with argument v\n",
        "        result = self.my_method(v)\n",
        "        return result"
      ],
      "id": "d2be649a",
      "execution_count": null,
      "outputs": []
    },
    {
      "cell_type": "code",
      "metadata": {},
      "source": [
        "instance_g = My_Class(1,10)\n",
        "print(\"Output of my_method:\",instance_g.my_method(16))\n",
        "print(\"Output of new_method:\",instance_g.new_method(16))"
      ],
      "id": "1d38817e",
      "execution_count": null,
      "outputs": []
    },
    {
      "cell_type": "markdown",
      "metadata": {},
      "source": [
        "# Part 2: Subclasses and Inheritance\n",
        "\n",
        "`Trax` uses classes and subclasses to define layers. The base class in `Trax` is `layer`, which means that every layer from a deep learning model is defined as a subclass of the `layer` class. In this part of the notebook, you are going to see how subclasses work. To define a subclass `sub` from class `super`, you have to write `class sub(super):` and define any method and parameter that you want for your subclass. In the next cell, I define `sub_c` as a subclass of `My_Class` with only one method (`additional_method`).\n"
      ],
      "id": "4004b547"
    },
    {
      "cell_type": "code",
      "metadata": {
        "colab": {},
        "colab_type": "code"
      },
      "source": [
        "class sub_c(My_Class):           #Subclass sub_c from My_class\n",
        "    def additional_method(self): #Prints the value of parameter x_1\n",
        "        print(self.x_1)"
      ],
      "id": "b4073413",
      "execution_count": null,
      "outputs": []
    },
    {
      "cell_type": "markdown",
      "metadata": {},
      "source": [
        "## 2.1 Inheritance\n",
        "\n",
        "When you define a subclass `sub`, every method and parameter is inherited from `super` class, including the `__init__` and `__call__` methods. This means that any instance from `sub` can use the methods defined in `super`.  Run the following cell and see for yourself.\n"
      ],
      "id": "eaac44b9"
    },
    {
      "cell_type": "code",
      "metadata": {
        "colab": {},
        "colab_type": "code"
      },
      "source": [
        "instance_sub_a = sub_c(1,10)\n",
        "print('Parameter x_1 of instance_sub_a: ' + str(instance_sub_a.x_1))\n",
        "print('Parameter x_2 of instance_sub_a: ' + str(instance_sub_a.x_2))\n",
        "print(\"Output of my_method of instance_sub_a:\",instance_sub_a.my_method(16))"
      ],
      "id": "8c53256e",
      "execution_count": null,
      "outputs": []
    },
    {
      "cell_type": "markdown",
      "metadata": {},
      "source": [
        "As you can see, `sub_c` does not have an initialization method `__init__`, it is inherited from `My_class`. However, you can overwrite any method you want by defining it again in the subclass. For instance, in the next cell define a class `sub_c` with a redefined `my_Method` that multiplies `x_1` and `x_2` but does not add any additional argument.\n"
      ],
      "id": "0b841f5a"
    },
    {
      "cell_type": "code",
      "metadata": {
        "colab": {},
        "colab_type": "code"
      },
      "source": [
        "class sub_c(My_Class):           #Subclass sub_c from My_class\n",
        "    def my_method(self):         #Multiplies x_1 and x_2 and returns the result\n",
        "        ### START CODE HERE (1 line) ###\n",
        "        b = self.x_1*self.x_2 \n",
        "        ### END CODE HERE ###\n",
        "        return b"
      ],
      "id": "88a53832",
      "execution_count": null,
      "outputs": []
    },
    {
      "cell_type": "markdown",
      "metadata": {},
      "source": [
        "To check your implementation run the following cell.\n"
      ],
      "id": "f97f7695"
    },
    {
      "cell_type": "code",
      "metadata": {
        "colab": {},
        "colab_type": "code"
      },
      "source": [
        "test = sub_c(3,10)\n",
        "assert test.my_method() == 30, \"The method my_method should return the product between x_1 and x_2\"\n",
        "\n",
        "print(\"Output of overridden my_method of test:\",test.my_method()) #notice we didn't pass any parameter to call my_method\n",
        "#print(\"Output of overridden my_method of test:\",test.my_method(16)) #try to see what happens if you call it with 1 argument"
      ],
      "id": "fd7f9559",
      "execution_count": null,
      "outputs": []
    },
    {
      "cell_type": "markdown",
      "metadata": {},
      "source": [
        "In the next cell, two instances are created, one of `My_Class` and another one of `sub_c`. The instances are initialized with equal `x_1` and `x_2` parameters.\n"
      ],
      "id": "5a9bd14e"
    },
    {
      "cell_type": "code",
      "metadata": {
        "colab": {},
        "colab_type": "code"
      },
      "source": [
        "y,z= 1,10\n",
        "instance_sub_a = sub_c(y,z)\n",
        "instance_a = My_Class(y,z)\n",
        "print('My_method for an instance of sub_c returns: ' + str(instance_sub_a.my_method()))\n",
        "print('My_method for an instance of My_Class returns: ' + str(instance_a.my_method(10)))"
      ],
      "id": "cd767e50",
      "execution_count": null,
      "outputs": []
    },
    {
      "cell_type": "markdown",
      "metadata": {},
      "source": [
        "As you can see, even though `sub_c` is a subclass from `My_Class` and both instances are initialized with the same values, `My_method` returns different results for each instance because you overwrote `My_method` for `sub_c`.\n",
        "\n",
        "**Congratulations!** You just reviewed the basics behind classes and subclasses. Now you can define your own classes and subclasses, work with instances and overwrite inherited methods. The concepts within this notebook are more than enough to understand how layers in `Trax` work.\n"
      ],
      "id": "f656407b"
    }
  ],
  "metadata": {
    "kernelspec": {
      "name": "python3",
      "language": "python",
      "display_name": "Python 3 (ipykernel)",
      "path": "/home/oren/.local/share/jupyter/kernels/python3"
    }
  },
  "nbformat": 4,
  "nbformat_minor": 5
}