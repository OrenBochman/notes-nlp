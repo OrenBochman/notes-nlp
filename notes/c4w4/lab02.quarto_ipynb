{
  "cells": [
    {
      "cell_type": "markdown",
      "metadata": {},
      "source": [
        "---\n",
        "date: 2021-04-29\n",
        "title: 'Putting the \"Re\" in Reformer: Ungraded Lab'\n",
        "jupyter: python3\n",
        "execute: \n",
        "    error: true\n",
        "---\n",
        "\n",
        "\n",
        "This ungraded lab will explore Reversible Residual Networks. You will use these networks in this week's assignment that utilizes the Reformer model. It is based on on the Transformer model you already know, but with two unique features.\n",
        "* Locality Sensitive Hashing (LSH) Attention to reduce the compute cost of the dot product attention and\n",
        "* Reversible Residual Networks (RevNets) organization to reduce the storage requirements when doing backpropagation in training.\n",
        "\n",
        "In this ungraded lab we'll start with a quick review of Residual Networks and their implementation in Trax. Then we will discuss the Revnet architecture and its use in Reformer.\n",
        "\n",
        "## Outline\n",
        "- [Part 1:  Residual Networks](#1)\n",
        "    - [1.1  Branch](#1.1)\n",
        "    - [1.2  Residual Model](#1.2)\n",
        "- [Part 2:  Reversible Residual Networks](#2)\n",
        "    - [2.1  Trax Reversible Layers](#2.1)\n",
        "    - [2.2  Residual Model](#2.2)\n"
      ],
      "id": "e29c20fa"
    },
    {
      "cell_type": "code",
      "metadata": {
        "lines_to_next_cell": 2
      },
      "source": [
        "import trax\n",
        "from trax import layers as tl               # core building block\n",
        "import numpy as np                          # regular ol' numpy\n",
        "from trax.models.reformer.reformer import (\n",
        "    ReversibleHalfResidualV2 as ReversibleHalfResidual,\n",
        ")                                           # unique spot\n",
        "from trax import fastmath                   # uses jax, offers numpy on steroids\n",
        "from trax import shapes                     # data signatures: dimensionality and type\n",
        "from trax.fastmath import numpy as jnp      # For use in defining new layer types.\n",
        "from trax.shapes import ShapeDtype\n",
        "from trax.shapes import signature"
      ],
      "id": "b36650aa",
      "execution_count": null,
      "outputs": []
    },
    {
      "cell_type": "markdown",
      "metadata": {},
      "source": [
        "## Part 1.0  Residual Networks {#1}\n",
        "\n",
        "[Deep Residual Networks ](https://arxiv.org/abs/1512.03385) (Resnets) were introduced to improve convergence in deep networks. Residual Networks introduce a shortcut connection around one or more layers in a deep network as shown in the diagram below from the original paper.\n",
        "\n",
        "\n",
        "![Residual Network diagram from original paper](img/Revnet7.PNG){#fig-01 width=\"250\" height=\"250\"}\n",
        "\n",
        "The [Trax documentation](https://trax-ml.readthedocs.io/en/latest/notebooks/layers_intro.html#2.-Inputs-and-Outputs) describes an implementation of Resnets using `branch`. We'll explore that here by implementing a simple resnet built from simple function based layers. Specifically, we'll build a 4 layer network based on two functions, 'F' and 'G'.\n",
        "\n",
        "![4 stage Residual network](img/Revnet8.PNG){#fig-02 width=\"1400\" height=\"200\"}\n",
        "\n",
        "Don't worry about the lengthy equations. Those are simply there to be referenced later in the notebook.\n",
        "\n",
        "\n",
        "\n",
        "### Part 1.1  Branch {#1.1}\n",
        " \n",
        "Trax `branch` figures prominently in the residual network layer so we will first examine it. You can see from the figure above that we will need a function that will copy an input and send it down multiple paths. This is accomplished with a  [branch layer](https://trax-ml.readthedocs.io/en/latest/trax.layers.html#module-trax.layers.combinators), one of the Trax 'combinators'. Branch is a combinator that applies a list of layers in parallel to copies of inputs. Lets try it out!  First we will need some layers to play with. Let's build some from functions.\n"
      ],
      "id": "f30a3543"
    },
    {
      "cell_type": "code",
      "metadata": {
        "tags": []
      },
      "source": [
        "# simple function taking one input and one output\n",
        "bl_add1 = tl.Fn(\"add1\", lambda x0: (x0 + 1), n_out=1)\n",
        "bl_add2 = tl.Fn(\"add2\", lambda x0: (x0 + 2), n_out=1)\n",
        "bl_add3 = tl.Fn(\"add3\", lambda x0: (x0 + 3), n_out=1)\n",
        "# try them out\n",
        "x = np.array([1])\n",
        "print(bl_add1(x), bl_add2(x), bl_add3(x))\n",
        "# some information about our new layers\n",
        "print(\n",
        "    \"name:\",\n",
        "    bl_add1.name,\n",
        "    \"number of inputs:\",\n",
        "    bl_add1.n_in,\n",
        "    \"number of outputs:\",\n",
        "    bl_add1.n_out,\n",
        ")"
      ],
      "id": "5fdec270",
      "execution_count": null,
      "outputs": []
    },
    {
      "cell_type": "code",
      "metadata": {},
      "source": [
        "bl_3add1s = tl.Branch(bl_add1, bl_add2, bl_add3)\n",
        "bl_3add1s"
      ],
      "id": "da85e4ee",
      "execution_count": null,
      "outputs": []
    },
    {
      "cell_type": "markdown",
      "metadata": {},
      "source": [
        "Trax uses the concept of a 'stack' to transfer data between layers.\n",
        "For Branch, for each of its layer arguments, it copies the `n_in` inputs from the stack and provides them to the layer, tracking the max_n_in, or the largest n_in required. It then pops the max_n_in elements from the stack.\n",
        "<img src = \"branch1.PNG\" height=\"260\" width=\"600\">\n",
        "<center><b>Figure 3: One in, one out Branch</b></center>\n",
        "On output, each layer, in succession pushes its results onto the stack. Note that the push/pull operations impact the top of the stack. Elements that are not part of the operation (n, and m in the diagram) remain intact.\n"
      ],
      "id": "028e7845"
    },
    {
      "cell_type": "code",
      "metadata": {},
      "source": [
        "# n_in = 1, Each bl_addx pushes n_out = 1 elements onto the stack\n",
        "bl_3add1s(x)"
      ],
      "id": "db17461d",
      "execution_count": null,
      "outputs": []
    },
    {
      "cell_type": "code",
      "metadata": {},
      "source": [
        "# n = np.array([10]); m = np.array([20])  # n, m will remain on the stack\n",
        "n = \"n\"\n",
        "m = \"m\"  # n, m will remain on the stack\n",
        "bl_3add1s([x, n, m]) "
      ],
      "id": "1e348eb0",
      "execution_count": null,
      "outputs": []
    },
    {
      "cell_type": "markdown",
      "metadata": {},
      "source": [
        "Each layer in the input list copies as many inputs from the stack as it needs, and their outputs are successively combined on stack. Put another way, each element of the branch can have differing numbers of inputs and outputs. Let's try a more complex example.\n"
      ],
      "id": "885606bc"
    },
    {
      "cell_type": "code",
      "metadata": {},
      "source": [
        "bl_addab = tl.Fn(\n",
        "    \"addab\", lambda x0, x1: (x0 + x1), n_out=1\n",
        ")  # Trax figures out how many inputs there are\n",
        "bl_rep3x = tl.Fn(\n",
        "    \"add2x\", lambda x0: (x0, x0, x0), n_out=3\n",
        ")  # but you have to tell it how many outputs there are\n",
        "bl_3ops = tl.Branch(bl_add1, bl_addab, bl_rep3x)"
      ],
      "id": "71003b9f",
      "execution_count": null,
      "outputs": []
    },
    {
      "cell_type": "markdown",
      "metadata": {},
      "source": [
        "In this case, the number if inputs being copied from the stack varies with the layer\n",
        "<img src = \"branch2.PNG\" height=\"260\" width=\"600\">\n",
        "<center><b>Figure 4: variable in, variable out Branch</b></center>\n",
        "The stack when the operation is finished is 5 entries reflecting the total from each layer.\n"
      ],
      "id": "43337bb0"
    },
    {
      "cell_type": "code",
      "metadata": {},
      "source": [
        "# Before Running this cell, what is the output you are expecting?\n",
        "y = np.array([3])\n",
        "bl_3ops([x, y, n, m])"
      ],
      "id": "920f5a58",
      "execution_count": null,
      "outputs": []
    },
    {
      "cell_type": "markdown",
      "metadata": {},
      "source": [
        "Branch has a special feature to support Residual Network. If an argument is 'None', it will pull the top of stack  and push it (at its location in the sequence) onto the output stack\n",
        "<img src = \"branch3.PNG\" height=\"260\" width=\"600\">\n",
        "<center><b>Figure 5: Branch for Residual</b></center>\n"
      ],
      "id": "4f75aaae"
    },
    {
      "cell_type": "code",
      "metadata": {
        "tags": []
      },
      "source": [
        "bl_2ops = tl.Branch(bl_add1, None)\n",
        "bl_2ops([x, n, m])"
      ],
      "id": "de22cea7",
      "execution_count": null,
      "outputs": []
    },
    {
      "cell_type": "markdown",
      "metadata": {},
      "source": [
        "<a name=\"1.2\"></a>\n",
        "### Part 1.2  Residual Model\n",
        "OK, your turn. Write a function 'MyResidual', that uses `tl.Branch` and `tl.Add` to build a residual layer. If you are curious about the Trax implementation, you can see the code [here](https://github.com/google/trax/blob/190ec6c3d941d8a9f30422f27ef0c95dc16d2ab1/trax/layers/combinators.py).\n"
      ],
      "id": "c1af6987"
    },
    {
      "cell_type": "code",
      "metadata": {},
      "source": [
        "def MyResidual(layer):\n",
        "    return tl.Serial(\n",
        "        ### START CODE HERE ###\n",
        "        tl.Branch(layer, None),\n",
        "        tl.Add(),\n",
        "        ### END CODE HERE ###\n",
        "    )"
      ],
      "id": "dd2fe8ec",
      "execution_count": null,
      "outputs": []
    },
    {
      "cell_type": "code",
      "metadata": {},
      "source": [
        "# Lets Try it\n",
        "mr = MyResidual(bl_add1)\n",
        "x = np.array([1])\n",
        "mr([x, n, m])"
      ],
      "id": "c002735c",
      "execution_count": null,
      "outputs": []
    },
    {
      "cell_type": "markdown",
      "metadata": {},
      "source": [
        "**Expected Result**\n",
        "(array([3]), 'n', 'm')\n",
        "\n",
        "Great! Now, let's build the 4 layer residual Network in Figure 2. You can use `MyResidual`, or if you prefer, the tl.Residual in Trax, or a combination!\n"
      ],
      "id": "e7f0e16c"
    },
    {
      "cell_type": "code",
      "metadata": {},
      "source": [
        "Fl = tl.Fn(\"F\", lambda x0: (2 * x0), n_out=1)\n",
        "Gl = tl.Fn(\"G\", lambda x0: (10 * x0), n_out=1)\n",
        "x1 = np.array([1])"
      ],
      "id": "97fa8ee7",
      "execution_count": null,
      "outputs": []
    },
    {
      "cell_type": "code",
      "metadata": {},
      "source": [
        "resfg = tl.Serial(\n",
        "    ### START CODE HERE ###\n",
        "    # None,  #Fl    # x + F(x)\n",
        "    # None,  #Gl    # x + F(x) + G(x + F(x)) etc\n",
        "    # None,  #Fl\n",
        "    # None,  #Gl\n",
        "    ### END CODE HERE ###\n",
        ")"
      ],
      "id": "1bccd123",
      "execution_count": null,
      "outputs": []
    },
    {
      "cell_type": "code",
      "metadata": {},
      "source": [
        "# Lets try it\n",
        "resfg([x1, n, m])"
      ],
      "id": "0f0bf079",
      "execution_count": null,
      "outputs": []
    },
    {
      "cell_type": "markdown",
      "metadata": {},
      "source": [
        "**Expected Results**\n",
        "(array([1089]), 'n', 'm')\n",
        "\n",
        "<a name=\"2\"></a>\n",
        "## Part 2.0 Reversible Residual Networks\n",
        "The Reformer utilized RevNets to reduce the storage requirements for performing backpropagation.\n",
        "<img src = \"Reversible2.PNG\" height=\"260\" width=\"600\">\n",
        "<center><b>Figure 6: Reversible Residual Networks </b></center>\n",
        "The standard approach on the left above requires one to store the outputs of each stage for use during backprop. By using the organization to the right, one need only store the outputs of the last stage, y1, y2 in the diagram. Using those values and running the algorithm in reverse, one can reproduce the values required for backprop. This trades additional computation for memory space which is at a premium with the current generation of GPU's/TPU's.\n",
        "\n",
        "One thing to note is that the forward functions produced by two networks are similar, but they are not equivalent. Note for example the asymmetry in the output equations after two stages of operation.\n",
        "<img src = \"Revnet1.PNG\" height=\"340\" width=\"1100\">\n",
        "<center><b>Figure 7: 'Normal' Residual network (Top) vs REversible Residual Network </b></center>\n",
        "\n",
        "### Part 2.1  Trax Reversible Layers\n",
        "\n",
        "Let's take a look at how this is used in the Reformer.\n"
      ],
      "id": "6be50d04"
    },
    {
      "cell_type": "code",
      "metadata": {},
      "source": [
        "refm = trax.models.reformer.ReformerLM(\n",
        "    vocab_size=33000, n_layers=2, mode=\"train\"  # Add more options.\n",
        ")\n",
        "refm"
      ],
      "id": "f7ec47db",
      "execution_count": null,
      "outputs": []
    },
    {
      "cell_type": "markdown",
      "metadata": {},
      "source": [
        "Eliminating some of the detail, we can see the structure of the network.\n",
        "<img src = \"Revnet2.PNG\" height=\"300\" width=\"350\">\n",
        "<center><b>Figure 8: Key Structure of Reformer Reversible Network Layers in Trax </b></center>\n",
        "\n",
        "We'll review the Trax layers used to implement the Reversible section of the Reformer. First we can note that not all of the reformer is reversible. Only the section in the ReversibleSerial layer is reversible. In a large Reformer model, that section is repeated many times making up the majority of the model.\n",
        "<img src = \"Revnet3.PNG\" height=\"650\" width=\"1600\">\n",
        "<center><b>Figure 9: Functional Diagram of Trax elements in Reformer </b></center>\n",
        "\n",
        "The implementation starts by duplicating the input to allow the two paths that are part of the reversible residual organization with [Dup](https://github.com/google/trax/blob/190ec6c3d941d8a9f30422f27ef0c95dc16d2ab1/trax/layers/combinators.py#L666). Note that this is accomplished by copying the top of stack and pushing two copies of it onto the stack. This then feeds into the ReversibleHalfResidual layer which we'll review in more detail below. This is followed by [ReversibleSwap](https://github.com/google/trax/blob/190ec6c3d941d8a9f30422f27ef0c95dc16d2ab1/trax/layers/reversible.py#L83). As the name implies, this performs a swap, in this case, the two topmost entries in the stack. This pattern is repeated until we reach the end of the ReversibleSerial section. At that point, the topmost 2 entries of the stack represent the two paths through the network. These are concatenated and pushed onto the stack. The result is an entry that is twice the size of the non-reversible version.\n",
        "\n",
        "Let's look more closely at the [ReversibleHalfResidual](https://github.com/google/trax/blob/190ec6c3d941d8a9f30422f27ef0c95dc16d2ab1/trax/layers/reversible.py#L154). This layer is responsible for executing the layer or layers provided as arguments and adding the output of those layers, the 'residual', to the top of the stack. Below is the 'forward' routine which implements this.\n",
        "<img src = \"Revnet4.PNG\" height=\"650\" width=\"1600\">\n",
        "<center><b>Figure 10: ReversibleHalfResidual code and diagram </b></center>\n",
        "\n",
        "Unlike the previous residual function, the value that is added is from the second path rather than the input to the set of sublayers in this layer. Note that the Layers called by the ReversibleHalfResidual forward function are not modified to support reverse functionality. This layer provides them a 'normal' view of the stack and takes care of reverse operation.\n",
        "\n",
        "Let's try out some of these layers! We'll start with the ones that just operate on the stack, Dup() and Swap().\n"
      ],
      "id": "f0b88b72"
    },
    {
      "cell_type": "code",
      "metadata": {},
      "source": [
        "x1 = np.array([1])\n",
        "x2 = np.array([5])\n",
        "# Dup() duplicates the Top of Stack and returns the stack\n",
        "dl = tl.Dup()\n",
        "dl(x1)"
      ],
      "id": "8a138b20",
      "execution_count": null,
      "outputs": []
    },
    {
      "cell_type": "code",
      "metadata": {},
      "source": [
        "# ReversibleSwap() duplicates the Top of Stack and returns the stack\n",
        "sl = tl.ReversibleSwap()\n",
        "sl([x1, x2])"
      ],
      "id": "1c46ff4d",
      "execution_count": null,
      "outputs": []
    },
    {
      "cell_type": "markdown",
      "metadata": {},
      "source": [
        "You are no doubt wondering \"How is ReversibleSwap different from Swap?\". Good question! Lets look:\n",
        "<img src = \"Revnet5.PNG\" height=\"389\" width=\"1000\">\n",
        "<center><b>Figure 11: Two versions of Swap() </b></center>\n",
        "The ReverseXYZ functions include a \"reverse\" compliment to their \"forward\" function that provides the functionality to run in reverse when doing backpropagation. It can also be run in reverse by simply calling 'reverse'.\n"
      ],
      "id": "e57b9be1"
    },
    {
      "cell_type": "code",
      "metadata": {},
      "source": [
        "# Demonstrate reverse swap\n",
        "print(x1, x2, sl.reverse([x1, x2]))"
      ],
      "id": "a455373b",
      "execution_count": null,
      "outputs": []
    },
    {
      "cell_type": "markdown",
      "metadata": {},
      "source": [
        "Let's try ReversibleHalfResidual, First we'll need some layers..\n"
      ],
      "id": "c75d1092"
    },
    {
      "cell_type": "code",
      "metadata": {},
      "source": [
        "Fl = tl.Fn(\"F\", lambda x0: (2 * x0), n_out=1)\n",
        "Gl = tl.Fn(\"G\", lambda x0: (10 * x0), n_out=1)"
      ],
      "id": "d1ab1d67",
      "execution_count": null,
      "outputs": []
    },
    {
      "cell_type": "markdown",
      "metadata": {},
      "source": [
        "Just a note about ReversibleHalfResidual. As this is written, it resides in the Reformer model and is a layer. It is invoked a bit differently that other layers. Rather than tl.XYZ, it is just ReversibleHalfResidual(layers..) as shown below. This may change in the future.\n"
      ],
      "id": "f8d02639"
    },
    {
      "cell_type": "code",
      "metadata": {},
      "source": [
        "half_res_F = ReversibleHalfResidual(Fl)\n",
        "print(type(half_res_F), \"\\n\", half_res_F)"
      ],
      "id": "1645280a",
      "execution_count": null,
      "outputs": []
    },
    {
      "cell_type": "code",
      "metadata": {},
      "source": [
        "half_res_F([x1, x1])  # this is going to produce an error - why?"
      ],
      "id": "07dc2ac6",
      "execution_count": null,
      "outputs": []
    },
    {
      "cell_type": "code",
      "metadata": {},
      "source": [
        "# we have to initialize the ReversibleHalfResidual layer to let it know what the input is going to look like\n",
        "half_res_F.init(shapes.signature([x1, x1]))\n",
        "half_res_F([x1, x1])"
      ],
      "id": "b619e702",
      "execution_count": null,
      "outputs": []
    },
    {
      "cell_type": "markdown",
      "metadata": {},
      "source": [
        "Notice the output: (DeviceArray([3], dtype=int32), array([1])). The first value, (DeviceArray([3], dtype=int32) is the output of the \"Fl\" layer and has been converted to a 'Jax' DeviceArray. The second array([1]) is just passed through (recall the diagram of ReversibleHalfResidual above).\n",
        "\n",
        "The final layer we need is the ReversibleSerial Layer. This is the reversible equivalent of the Serial layer and is used in the same manner to build a sequence of layers.\n",
        "\n",
        "<a name=\"2.2\"></a>\n",
        "### Part 2.2  Build a reversible model\n",
        "We now have all the layers we need to build the model shown below. Let's build it in two parts. First we'll build 'blk' and then a list of blk's. And then 'mod'.\n",
        "<center><img src = \"Revnet6.PNG\" height=\"800\" width=\"1600\"> </center>\n",
        "<center><b>Figure 12: Reversible Model we will build using Trax components </b></center>\n"
      ],
      "id": "f1ed753b"
    },
    {
      "cell_type": "code",
      "metadata": {},
      "source": [
        "blk = [  # a list of the 4 layers shown above\n",
        "    ### START CODE HERE ###\n",
        "    None,\n",
        "    None,\n",
        "    None,\n",
        "    None,\n",
        "]\n",
        "blks = [None, None]\n",
        "### END CODE HERE ###"
      ],
      "id": "fde5edd6",
      "execution_count": null,
      "outputs": []
    },
    {
      "cell_type": "code",
      "metadata": {},
      "source": [
        "mod = tl.Serial(\n",
        "    ### START CODE HERE ###\n",
        "    None,\n",
        "    None,\n",
        "    None,\n",
        "    ### END CODE HERE ###\n",
        ")\n",
        "mod"
      ],
      "id": "c9a7bba7",
      "execution_count": null,
      "outputs": []
    },
    {
      "cell_type": "markdown",
      "metadata": {},
      "source": [
        "**Expected Output**\n",
        "```\n",
        "Serial[\n",
        "  Dup_out2\n",
        "  ReversibleSerial_in2_out2[\n",
        "    ReversibleHalfResidualV2_in2_out2[\n",
        "      Serial[\n",
        "        F\n",
        "      ]\n",
        "    ]\n",
        "    ReversibleSwap_in2_out2\n",
        "    ReversibleHalfResidualV2_in2_out2[\n",
        "      Serial[\n",
        "        G\n",
        "      ]\n",
        "    ]\n",
        "    ReversibleSwap_in2_out2\n",
        "    ReversibleHalfResidualV2_in2_out2[\n",
        "      Serial[\n",
        "        F\n",
        "      ]\n",
        "    ]\n",
        "    ReversibleSwap_in2_out2\n",
        "    ReversibleHalfResidualV2_in2_out2[\n",
        "      Serial[\n",
        "        G\n",
        "      ]\n",
        "    ]\n",
        "    ReversibleSwap_in2_out2\n",
        "  ]\n",
        "  Concatenate_in2\n",
        "]\n",
        "```\n"
      ],
      "id": "c37f87d0"
    },
    {
      "cell_type": "code",
      "metadata": {},
      "source": [
        "mod.init(shapes.signature(x1))\n",
        "out = mod(x1)\n",
        "out"
      ],
      "id": "52fd16e1",
      "execution_count": null,
      "outputs": []
    },
    {
      "cell_type": "markdown",
      "metadata": {},
      "source": [
        "**Expected Result**\n",
        "DeviceArray([ 65, 681], dtype=int32)\n",
        "\n",
        "OK, now you have had a chance to try all the 'Reversible' functions in Trax. On to the Assignment!\n"
      ],
      "id": "229a35b9"
    }
  ],
  "metadata": {
    "kernelspec": {
      "name": "python3",
      "language": "python",
      "display_name": "Python 3 (ipykernel)",
      "path": "/home/oren/.local/share/jupyter/kernels/python3"
    }
  },
  "nbformat": 4,
  "nbformat_minor": 5
}