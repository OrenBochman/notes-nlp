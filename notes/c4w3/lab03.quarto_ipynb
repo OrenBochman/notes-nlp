{
  "cells": [
    {
      "cell_type": "markdown",
      "metadata": {},
      "source": [
        "---\n",
        "date: 2021-04-13\n",
        "title: 'Assignment 3 Ungraded Sections - Part 2: T5 SQuAD Model'\n",
        "subtitle: \"NLP with Attention Models\"\n",
        "categories: \n",
        "  - NLP \n",
        "  - Coursera \n",
        "  - Lab\n",
        "  - NLP with Attention Models\n",
        "jupyter: python3\n",
        "execute: \n",
        "    error: true\n",
        "draft: false\n",
        "---\n",
        "\n",
        "\n",
        "![course banner](/images/Course-Logo-4-1.webp){.column-margin .nolightbox}\n",
        "\n",
        "Welcome to the part 2 of testing the models for this week's assignment. This time we will perform decoding using the T5 SQuAD model. In this notebook we'll perform Question Answering by providing a \"Question\", its \"Context\" and see how well we get the \"Target\" answer. \n",
        "\n",
        "## Colab\n",
        "\n",
        "Since this ungraded lab takes a lot of time to run on coursera, as an alternative we have a colab prepared for you.\n",
        "\n",
        "[T5 SQuAD Model Colab](https://drive.google.com/file/d/1c-8KJkTySRGqCx_JjwjvXuRBTNTqEE0N/view?usp=sharing)\n",
        "\n",
        "- If you run into a page that looks similar to the one below, with the option `Open with`, this would mean you need to download the `Colaboratory` app. You can do so by `Open with -> Connect more apps -> in the search bar write \"Colaboratory\" -> install`\n",
        "\n",
        "![](img/colab_help_1.png)\n",
        "\n",
        "- After installation it should look like this. Click on `Open with Google Colaboratory`\n",
        "\n",
        "![](img/colab_help_2.png)\n",
        "\n",
        "\n",
        "## Outline\n",
        "\n",
        "- [Overview](#0)\n",
        "- [Part 1: Resuming the assignment (T5 SQuAD Model)](#1)\n",
        "- [Part 2: Fine-tuning on SQuAD](#2)\n",
        "    - [2.1 Loading in the data and preprocessing](#2.1)\n",
        "    - [2.2 Decoding from a fine-tuned model](#2.2)\n",
        "\n",
        "\n",
        "### Overview {#0}\n",
        "\n",
        "In this notebook you will:\n",
        "\n",
        "* Implement the Bidirectional Encoder Representation from Transformer (BERT) loss. \n",
        "* Use a pretrained version of the model you created in the assignment for inference.\n",
        "\n",
        "\n",
        "\n",
        "## Part 1: Getting ready {#1}\n",
        "\n",
        "Run the code cells below to import the necessary libraries and to define some functions which will be useful for decoding. The code and the functions are the same as the ones you previsouly ran on the graded assignment.\n"
      ],
      "id": "0c1a69d7"
    },
    {
      "cell_type": "code",
      "metadata": {},
      "source": [
        "import string\n",
        "import t5\n",
        "import numpy as np\n",
        "import trax \n",
        "from trax.supervised import decoding\n",
        "import textwrap \n",
        "\n",
        "wrapper = textwrap.TextWrapper(width=70)"
      ],
      "id": "9d3dc958",
      "execution_count": null,
      "outputs": []
    },
    {
      "cell_type": "code",
      "metadata": {},
      "source": [
        "PAD, EOS, UNK = 0, 1, 2\n",
        "\n",
        "\n",
        "def detokenize(np_array):\n",
        "    return trax.data.detokenize(\n",
        "        np_array,\n",
        "        vocab_type='sentencepiece',\n",
        "        vocab_file='sentencepiece.model',\n",
        "        vocab_dir='.')\n",
        "\n",
        "\n",
        "def tokenize(s):\n",
        "    return next(trax.data.tokenize(\n",
        "        iter([s]),\n",
        "        vocab_type='sentencepiece',\n",
        "        vocab_file='sentencepiece.model',\n",
        "        vocab_dir='.'))\n",
        " \n",
        "    \n",
        "vocab_size = trax.data.vocab_size(\n",
        "    vocab_type='sentencepiece',\n",
        "    vocab_file='sentencepiece.model',\n",
        "    vocab_dir='.')\n",
        "\n",
        "\n",
        "def get_sentinels(vocab_size, display=False):\n",
        "    sentinels = {}\n",
        "    for i, char in enumerate(reversed(string.ascii_letters), 1):\n",
        "        decoded_text = detokenize([vocab_size - i]) \n",
        "        # Sentinels, ex: <Z> - <a>\n",
        "        sentinels[decoded_text] = f'<{char}>'    \n",
        "        if display:\n",
        "            print(f'The sentinel is <{char}> and the decoded token is:', decoded_text)\n",
        "    return sentinels\n",
        "\n",
        "\n",
        "sentinels = get_sentinels(vocab_size, display=False)    \n",
        "\n",
        "\n",
        "def pretty_decode(encoded_str_list, sentinels=sentinels):\n",
        "    # If already a string, just do the replacements.\n",
        "    if isinstance(encoded_str_list, (str, bytes)):\n",
        "        for token, char in sentinels.items():\n",
        "            encoded_str_list = encoded_str_list.replace(token, char)\n",
        "        return encoded_str_list\n",
        "  \n",
        "    # We need to decode and then prettyfy it.\n",
        "    return pretty_decode(detokenize(encoded_str_list))"
      ],
      "id": "cef8e4bf",
      "execution_count": null,
      "outputs": []
    },
    {
      "cell_type": "markdown",
      "metadata": {},
      "source": [
        "## Part 2: Fine-tuning on SQuAD {#2}\n",
        "\n",
        "Now let's try to fine tune on SQuAD and see what becomes of the model.For this, we need to write a function that will create and process the SQuAD `tf.data.Dataset`. Below is how T5 pre-processes SQuAD dataset as a text2text example. Before we jump in, we will have to first load in the data. \n",
        "\n",
        "\n",
        "### 2.1 Loading in the data and preprocessing {#2.1}\n",
        "\n",
        "You first start by loading in the dataset. The text2text example for a SQuAD example looks like:\n",
        "\n",
        "```json\n",
        "{\n",
        "  'inputs': 'question: <question> context: <article>',\n",
        "  'targets': '<answer_0>',\n",
        "}\n",
        "```\n",
        "\n",
        "The squad pre-processing function takes in the dataset and processes it using the sentencePiece vocabulary you have seen above. It generates the features from the vocab and encodes the string features. It takes on question, context, and answer, and returns \"question: Q context: C\" as input and \"A\" as target.\n"
      ],
      "id": "974a5b1a"
    },
    {
      "cell_type": "code",
      "metadata": {
        "colab": {},
        "colab_type": "code"
      },
      "source": [
        "# Retrieve Question, C, A and return \"question: Q context: C\" as input and \"A\" as target.\n",
        "def squad_preprocess_fn(dataset, mode='train'):\n",
        "    return t5.data.preprocessors.squad(dataset)"
      ],
      "id": "89df0ae7",
      "execution_count": null,
      "outputs": []
    },
    {
      "cell_type": "code",
      "metadata": {},
      "source": [
        "# train generator, this takes about 1 minute\n",
        "train_generator_fn, eval_generator_fn = trax.data.tf_inputs.data_streams(\n",
        "  'squad/plain_text:1.0.0',\n",
        "  data_dir='data/',\n",
        "  bare_preprocess_fn=squad_preprocess_fn,\n",
        "  input_name='inputs',\n",
        "  target_name='targets'\n",
        ")\n",
        "\n",
        "train_generator = train_generator_fn()\n",
        "next(train_generator)"
      ],
      "id": "aa599653",
      "execution_count": null,
      "outputs": []
    },
    {
      "cell_type": "code",
      "metadata": {
        "colab": {},
        "colab_type": "code"
      },
      "source": [
        "#print example from train_generator\n",
        "(inp, out) = next(train_generator)\n",
        "print(inp.decode('utf8').split('context:')[0])\n",
        "print()\n",
        "print('context:', inp.decode('utf8').split('context:')[1])\n",
        "print()\n",
        "print('target:', out.decode('utf8'))"
      ],
      "id": "624f1bcb",
      "execution_count": null,
      "outputs": []
    },
    {
      "cell_type": "markdown",
      "metadata": {},
      "source": [
        "### 2.2 Decoding from a fine-tuned model {#2.2}\n",
        "\n",
        "You will now use an existing model that we trained for you. You will initialize, then load in your model, and then try with your own input. \n"
      ],
      "id": "79023f2c"
    },
    {
      "cell_type": "code",
      "metadata": {},
      "source": [
        "# Initialize the model \n",
        "model = trax.models.Transformer(\n",
        "    d_ff = 4096,\n",
        "    d_model = 1024,\n",
        "    max_len = 2048,\n",
        "    n_heads = 16,\n",
        "    dropout = 0.1,\n",
        "    input_vocab_size = 32000,\n",
        "    n_encoder_layers = 24,\n",
        "    n_decoder_layers = 24,\n",
        "    mode='predict')  # Change to 'eval' for slow decoding."
      ],
      "id": "dd014312",
      "execution_count": null,
      "outputs": []
    },
    {
      "cell_type": "code",
      "metadata": {},
      "source": [
        "# load in the model\n",
        "# this will take a minute\n",
        "shape11 = trax.shapes.ShapeDtype((1, 1), dtype=np.int32)\n",
        "model.init_from_file('model_squad.pkl.gz',\n",
        "                     weights_only=True, input_signature=(shape11, shape11))"
      ],
      "id": "2e1510bc",
      "execution_count": null,
      "outputs": []
    },
    {
      "cell_type": "code",
      "metadata": {
        "colab": {},
        "colab_type": "code"
      },
      "source": [
        "# create inputs\n",
        "# a simple example \n",
        "# inputs = 'question: She asked him where is john? context: John was at the game'\n",
        "\n",
        "# an extensive example\n",
        "inputs = 'question: What are some of the colours of a rose? context: A rose is a woody perennial flowering plant of the genus Rosa, in the family Rosaceae, or the flower it bears.There are over three hundred species and tens of thousands of cultivars. They form a group of plants that can be erect shrubs, climbing, or trailing, with stems that are often armed with sharp prickles. Flowers vary in size and shape and are usually large and showy, in colours ranging from white through yellows and reds. Most species are native to Asia, with smaller numbers native to Europe, North America, and northwestern Africa. Species, cultivars and hybrids are all widely grown for their beauty and often are fragrant.'"
      ],
      "id": "85a5afce",
      "execution_count": null,
      "outputs": []
    },
    {
      "cell_type": "code",
      "metadata": {},
      "source": [
        "# tokenizing the input so we could feed it for decoding\n",
        "print(tokenize(inputs))\n",
        "test_inputs = tokenize(inputs) "
      ],
      "id": "0e17800e",
      "execution_count": null,
      "outputs": []
    },
    {
      "cell_type": "markdown",
      "metadata": {},
      "source": [
        "Run the cell below to decode.\n",
        "\n",
        "### Note: This will take some time to run\n"
      ],
      "id": "6a6b2050"
    },
    {
      "cell_type": "code",
      "metadata": {
        "colab": {},
        "colab_type": "code"
      },
      "source": [
        "# Temperature is a parameter for sampling.\n",
        "#   # * 0.0: same as argmax, always pick the most probable token\n",
        "#   # * 1.0: sampling from the distribution (can sometimes say random things)\n",
        "#   # * values inbetween can trade off diversity and quality, try it out!\n",
        "output = decoding.autoregressive_sample(model, inputs=np.array(test_inputs)[None, :],\n",
        "                                        temperature=0.0, max_length=5) # originally max_length=10\n",
        "print(wrapper.fill(pretty_decode(output[0])))"
      ],
      "id": "046b84b3",
      "execution_count": null,
      "outputs": []
    },
    {
      "cell_type": "markdown",
      "metadata": {},
      "source": [
        "You should also be aware that the quality of the decoding is not very good because max_length was downsized from 10 to 5 so that this runs faster within this environment. The colab version uses the original max_length so check that one for the actual decoding.\n"
      ],
      "id": "3151c625"
    }
  ],
  "metadata": {
    "kernelspec": {
      "name": "python3",
      "language": "python",
      "display_name": "Python 3 (ipykernel)",
      "path": "/home/oren/.local/share/jupyter/kernels/python3"
    }
  },
  "nbformat": 4,
  "nbformat_minor": 5
}