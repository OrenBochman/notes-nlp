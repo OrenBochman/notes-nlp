{
  "cells": [
    {
      "cell_type": "markdown",
      "metadata": {},
      "source": [
        "---\n",
        "title: 'Candidates from String Edits'\n",
        "jupyter: python3\n",
        "categories: \n",
        "  - NLP \n",
        "  - Coursera \n",
        "  - Lab\n",
        "  - Logistic regression\n",
        "  - Sentiment analysis task\n",
        "  - Classification & Vector Spaces\n",
        "---\n",
        "\n",
        "\n",
        "::: {.column-margin .nolightbox}\n",
        "![course banner](/images/Course-Logo-2-3.webp)\n",
        ":::\n",
        "\n",
        "Estimated Time: 20 minutes\n",
        "\n",
        "\n",
        "Create a list of candidate strings by applying an edit operation\n",
        "\n",
        "### Imports and Data\n"
      ],
      "id": "a307a886"
    },
    {
      "cell_type": "code",
      "metadata": {},
      "source": [
        "# data\n",
        "word = 'dearz' # 🦌"
      ],
      "id": "3e6ea237",
      "execution_count": null,
      "outputs": []
    },
    {
      "cell_type": "markdown",
      "metadata": {},
      "source": [
        "### Splits\n",
        "\n",
        "Find all the ways we can split a word into 2 parts !\n"
      ],
      "id": "d46b14bb"
    },
    {
      "cell_type": "code",
      "metadata": {},
      "source": [
        "# splits with a loop\n",
        "splits_a = []\n",
        "for i in range(len(word)+1):\n",
        "    splits_a.append([word[:i],word[i:]])\n",
        "\n",
        "for i in splits_a:\n",
        "    print(i)"
      ],
      "id": "8f560e21",
      "execution_count": null,
      "outputs": []
    },
    {
      "cell_type": "code",
      "metadata": {},
      "source": [
        "# same splits, done using a list comprehension\n",
        "splits_b = [(word[:i], word[i:]) for i in range(len(word) + 1)]\n",
        "\n",
        "for i in splits_b:\n",
        "    print(i)"
      ],
      "id": "e8be02fc",
      "execution_count": null,
      "outputs": []
    },
    {
      "cell_type": "markdown",
      "metadata": {},
      "source": [
        "### Delete Edit\n",
        "\n",
        "Delete a letter from each string in the `splits` list.\n",
        "\n",
        "\n",
        "What this does is effectivly delete each possible letter from the original word being edited. \n"
      ],
      "id": "14dab146"
    },
    {
      "cell_type": "code",
      "metadata": {},
      "source": [
        "# deletes with a loop\n",
        "splits = splits_a\n",
        "deletes = []\n",
        "\n",
        "print('word : ', word)\n",
        "for L,R in splits:\n",
        "    if R:\n",
        "        print(L + R[1:], ' <-- delete ', R[0])"
      ],
      "id": "8f5990f8",
      "execution_count": null,
      "outputs": []
    },
    {
      "cell_type": "markdown",
      "metadata": {},
      "source": [
        "It's worth taking a closer look at how this is excecuting a 'delete'.\n",
        "\n",
        "\n",
        "Taking the first item from the `splits` list :\n"
      ],
      "id": "63ce412f"
    },
    {
      "cell_type": "code",
      "metadata": {},
      "source": [
        "# breaking it down\n",
        "print('word : ', word)\n",
        "one_split = splits[0]\n",
        "print('first item from the splits list : ', one_split)\n",
        "L = one_split[0]\n",
        "R = one_split[1]\n",
        "print('L : ', L)\n",
        "print('R : ', R)\n",
        "print('*** now implicit delete by excluding the leading letter ***')\n",
        "print('L + R[1:] : ',L + R[1:], ' <-- delete ', R[0])"
      ],
      "id": "623c942d",
      "execution_count": null,
      "outputs": []
    },
    {
      "cell_type": "markdown",
      "metadata": {},
      "source": [
        "So the end result transforms **'dearz'** to **'earz'** by deleting the first character.\n",
        "\n",
        "\n",
        "And we use a **loop** (code block above) or a **list comprehension** (code block below) to do this for the entire `splits` list.\n"
      ],
      "id": "76855736"
    },
    {
      "cell_type": "code",
      "metadata": {},
      "source": [
        "# deletes with a list comprehension\n",
        "splits = splits_a\n",
        "deletes = [L + R[1:] for L, R in splits if R]\n",
        "\n",
        "print(deletes)\n",
        "print('*** which is the same as ***')\n",
        "for i in deletes:\n",
        "    print(i)"
      ],
      "id": "cae0b6f5",
      "execution_count": null,
      "outputs": []
    },
    {
      "cell_type": "markdown",
      "metadata": {},
      "source": [
        "### Ungraded Exercise\n",
        "We now have a list of ***candidate strings*** created after performing a **delete** edit.\n",
        "<br>\n",
        "Next step will be to filter this list for ***candidate words*** found in a vocabulary.\n",
        "<br>\n",
        "Given the example vocab below, can we think of a way to create a list of candidate words ? \n",
        "<br>\n",
        "Remember, we already have a list of candidate strings, some of which are certainly not actual words we might find in your vocabulary !\n",
        "<br>\n",
        "<br>\n",
        "So from the above list **earz, darz, derz, deaz, dear**. \n",
        "<br>\n",
        "You're really only interested in **dear**.\n"
      ],
      "id": "15e4629d"
    },
    {
      "cell_type": "code",
      "metadata": {},
      "source": [
        "vocab = ['dean','deer','dear','fries','and','coke']\n",
        "edits = list(deletes)\n",
        "\n",
        "print('vocab : ', vocab)\n",
        "print('edits : ', edits)\n",
        "\n",
        "candidates=[]\n",
        "\n",
        "### START CODE HERE ###\n",
        "candidates = set(vocab).intersection(edits)  # hint: 'set.intersection'\n",
        "### END CODE HERE ###\n",
        "\n",
        "print('candidate words : ', candidates)"
      ],
      "id": "6461ff93",
      "execution_count": null,
      "outputs": []
    },
    {
      "cell_type": "markdown",
      "metadata": {},
      "source": [
        "Expected Outcome:\n",
        "\n",
        "vocab :  ['dean', 'deer', 'dear', 'fries', 'and', 'coke']\n",
        "\n",
        "edits :  ['earz', 'darz', 'derz', 'deaz', 'dear']\n",
        "\n",
        "\n",
        "candidate words :  {'dear'}\n",
        "\n",
        "### Summary\n",
        "You've unpacked an integral part of the assignment by breaking down **splits** and **edits**, specifically looking at **deletes** here.\n",
        "\n",
        "\n",
        "Implementation of the other edit types (insert, replace, switch) follows a similar methodology and should now feel somewhat familiar when we see them.\n",
        "\n",
        "\n",
        "\n",
        "This bit of the code isn't as intuitive as other sections, so well done!\n",
        "\n",
        "\n",
        "We should now feel confident facing some of the more technical parts of the assignment at the end of the week.\n"
      ],
      "id": "77e5fd25"
    }
  ],
  "metadata": {
    "kernelspec": {
      "name": "python3",
      "language": "python",
      "display_name": "Python 3 (ipykernel)",
      "path": "/home/oren/.local/share/jupyter/kernels/python3"
    }
  },
  "nbformat": 4,
  "nbformat_minor": 5
}