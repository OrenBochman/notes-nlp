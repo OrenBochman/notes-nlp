{
  "cells": [
    {
      "cell_type": "markdown",
      "metadata": {},
      "source": [
        "---\n",
        "title: Linear algebra in Python with NumPy\n",
        "jupyter: python3\n",
        "categories: \n",
        "  - NLP \n",
        "  - Coursera \n",
        "  - Lab\n",
        "  - Logistic regression\n",
        "  - Sentiment analysis task\n",
        "  - Classification & Vector Spaces\n",
        "# execute: \n",
        "#     error: true\n",
        "#cache: false\n",
        "---\n",
        "\n",
        "\n",
        "![course banner](/images/Course-Logo-1-3.webp){#fig-00 .column-margin .nolightbox}\n",
        "\n",
        "In this lab, we will have the opportunity to remember some basic concepts about linear algebra and how to use them in Python.\n",
        "\n",
        "Numpy is one of the most used libraries in Python for arrays manipulation. It adds to Python a set of functions that allows us to operate on large multidimensional arrays with just a few lines. So forget about writing nested loops for adding matrices! With NumPy, this is as simple as adding numbers.\n",
        "\n",
        "Let us import the `numpy` library and assign the alias `np` for it. We will follow this convention in almost every notebook in this course, and you'll see this in many resources outside this course as well.\n"
      ],
      "id": "0713a48c"
    },
    {
      "cell_type": "code",
      "metadata": {},
      "source": [
        "import numpy as np  # The swiss knife of the data scientist."
      ],
      "id": "a720cb71",
      "execution_count": null,
      "outputs": []
    },
    {
      "cell_type": "markdown",
      "metadata": {},
      "source": [
        "## Defining lists and numpy arrays\n"
      ],
      "id": "eab2ecaf"
    },
    {
      "cell_type": "code",
      "metadata": {},
      "source": [
        "alist = [1, 2, 3, 4, 5]   # Define a python list. It looks like an np array\n",
        "narray = np.array([1, 2, 3, 4]) # Define a numpy array"
      ],
      "id": "703e4867",
      "execution_count": null,
      "outputs": []
    },
    {
      "cell_type": "markdown",
      "metadata": {},
      "source": [
        "Note the difference between a Python list and a NumPy array.\n"
      ],
      "id": "c6553f7d"
    },
    {
      "cell_type": "code",
      "metadata": {},
      "source": [
        "print(alist)\n",
        "print(narray)\n",
        "\n",
        "print(type(alist))\n",
        "print(type(narray))"
      ],
      "id": "74280969",
      "execution_count": null,
      "outputs": []
    },
    {
      "cell_type": "markdown",
      "metadata": {},
      "source": [
        "## Algebraic operators on NumPy arrays vs. Python lists\n",
        "\n",
        "One of the common beginner mistakes is to mix up the concepts of NumPy arrays and Python lists. Just observe the next example, where we add two objects of the two mentioned types. Note that the '+' operator on NumPy arrays perform an element-wise addition, while the same operation on Python lists results in a list concatenation. Be careful while coding. Knowing this can save many headaches.\n"
      ],
      "id": "759d1c93"
    },
    {
      "cell_type": "code",
      "metadata": {},
      "source": [
        "print(narray + narray)\n",
        "print(alist + alist)"
      ],
      "id": "09adde29",
      "execution_count": null,
      "outputs": []
    },
    {
      "cell_type": "markdown",
      "metadata": {},
      "source": [
        "It is the same as with the product operator, `*`. In the first case, we scale the vector, while in the second case, we concatenate three times the same list.\n"
      ],
      "id": "1adbae2e"
    },
    {
      "cell_type": "code",
      "metadata": {},
      "source": [
        "print(narray * 3)\n",
        "print(alist * 3)"
      ],
      "id": "980e2c22",
      "execution_count": null,
      "outputs": []
    },
    {
      "cell_type": "markdown",
      "metadata": {},
      "source": [
        "Be aware of the difference because, within the same function,  both types of arrays can appear. \n",
        "Numpy arrays are designed for numerical and matrix operations, while lists are for more general purposes.\n",
        "\n",
        "## Matrix or Array of Arrays\n",
        "\n",
        "In linear algebra, a matrix is a structure composed of n rows by m columns. That means each row must have the same number of columns. With NumPy, we have two ways to create a matrix:\n",
        "* Creating an array of arrays using `np.array` (recommended). \n",
        "* Creating a matrix using `np.matrix` (still available but might be removed soon).\n",
        "\n",
        "NumPy arrays or lists can be used to initialize a matrix, but the resulting matrix will be composed of NumPy arrays only.\n"
      ],
      "id": "2f9f0e32"
    },
    {
      "cell_type": "code",
      "metadata": {},
      "source": [
        "npmatrix1 = np.array([narray, narray, narray]) # Matrix initialized with NumPy arrays\n",
        "npmatrix2 = np.array([alist, alist, alist]) # Matrix initialized with lists\n",
        "npmatrix3 = np.array([narray, [1, 1, 1, 1], narray]) # Matrix initialized with both types\n",
        "\n",
        "print(npmatrix1)\n",
        "print(npmatrix2)\n",
        "print(npmatrix3)"
      ],
      "id": "a068176c",
      "execution_count": null,
      "outputs": []
    },
    {
      "cell_type": "markdown",
      "metadata": {},
      "source": [
        "However, when defining a matrix, be sure that all the rows contain the same number of elements. Otherwise, the linear algebra operations could lead to unexpected results.\n",
        "\n",
        "Analyze the following two examples:\n"
      ],
      "id": "f6c03e4c"
    },
    {
      "cell_type": "code",
      "metadata": {},
      "source": [
        "# Example 1:\n",
        "\n",
        "okmatrix = np.array([[1, 2], [3, 4]]) # Define a 2x2 matrix\n",
        "print(okmatrix) # Print okmatrix\n",
        "print(okmatrix * 2) # Print a scaled version of okmatrix"
      ],
      "id": "04e26f51",
      "execution_count": null,
      "outputs": []
    },
    {
      "cell_type": "code",
      "metadata": {},
      "source": [
        "#| error: true\n",
        "# Example 2:\n",
        "\n",
        "badmatrix = np.array([[1, 2], [3, 4], [5, 6, 7]]) # Define a matrix. Note the third row contains 3 elements\n",
        "print(badmatrix) # Print the malformed matrix\n",
        "print(badmatrix * 2) # It is supposed to scale the whole matrix"
      ],
      "id": "9e819746",
      "execution_count": null,
      "outputs": []
    },
    {
      "cell_type": "markdown",
      "metadata": {},
      "source": [
        "## Scaling and translating matrices\n",
        "\n",
        "Now that we know how to build correct NumPy arrays and matrices, let us see how easy it is to operate with them in Python using the regular algebraic operators like + and -. \n",
        "\n",
        "Operations can be performed between arrays and arrays or between arrays and scalars.\n"
      ],
      "id": "f169b76c"
    },
    {
      "cell_type": "code",
      "metadata": {},
      "source": [
        "# Scale by 2 and translate 1 unit the matrix\n",
        "result = okmatrix * 2 + 1 # For each element in the matrix, multiply by 2 and add 1\n",
        "print(result)"
      ],
      "id": "449b61fc",
      "execution_count": null,
      "outputs": []
    },
    {
      "cell_type": "code",
      "metadata": {},
      "source": [
        "# Add two compatible matrices\n",
        "result1 = okmatrix + okmatrix\n",
        "print(result1)\n",
        "\n",
        "# Subtract two compatible matrices. This is called the difference vector\n",
        "result2 = okmatrix - okmatrix\n",
        "print(result2)"
      ],
      "id": "b35226cf",
      "execution_count": null,
      "outputs": []
    },
    {
      "cell_type": "markdown",
      "metadata": {},
      "source": [
        "The product operator `*` when used on arrays or matrices indicates element-wise multiplications.\n",
        "Do not confuse it with the dot product.\n"
      ],
      "id": "674f524e"
    },
    {
      "cell_type": "code",
      "metadata": {},
      "source": [
        "result = okmatrix * okmatrix # Multiply each element by itself\n",
        "print(result)"
      ],
      "id": "160adc97",
      "execution_count": null,
      "outputs": []
    },
    {
      "cell_type": "markdown",
      "metadata": {},
      "source": [
        "## Transpose a matrix\n",
        "\n",
        "In linear algebra, the transpose of a matrix is an operator that flips a matrix over its diagonal, i.e., the transpose operator switches the row and column indices of the matrix producing another matrix. If the original matrix dimension is n by m, the resulting transposed matrix will be m by n.\n",
        "\n",
        "**T** denotes the transpose operations with NumPy matrices.\n"
      ],
      "id": "94e7345a"
    },
    {
      "cell_type": "code",
      "metadata": {},
      "source": [
        "matrix3x2 = np.array([[1, 2], [3, 4], [5, 6]]) # Define a 3x2 matrix\n",
        "print('Original matrix 3 x 2')\n",
        "print(matrix3x2)\n",
        "print('Transposed matrix 2 x 3')\n",
        "print(matrix3x2.T)"
      ],
      "id": "853c9e2f",
      "execution_count": null,
      "outputs": []
    },
    {
      "cell_type": "markdown",
      "metadata": {},
      "source": [
        "However, note that the transpose operation does not affect 1D arrays.\n"
      ],
      "id": "c5d7b803"
    },
    {
      "cell_type": "code",
      "metadata": {},
      "source": [
        "nparray = np.array([1, 2, 3, 4]) # Define an array\n",
        "print('Original array')\n",
        "print(nparray)\n",
        "print('Transposed array')\n",
        "print(nparray.T)"
      ],
      "id": "cfde7332",
      "execution_count": null,
      "outputs": []
    },
    {
      "cell_type": "markdown",
      "metadata": {},
      "source": [
        "perhaps in this case we wanted to do:\n"
      ],
      "id": "3870afc3"
    },
    {
      "cell_type": "code",
      "metadata": {},
      "source": [
        "nparray = np.array([[1, 2, 3, 4]]) # Define a 1 x 4 matrix. Note the 2 level of square brackets\n",
        "print('Original array')\n",
        "print(nparray)\n",
        "print('Transposed array')\n",
        "print(nparray.T)"
      ],
      "id": "66d96991",
      "execution_count": null,
      "outputs": []
    },
    {
      "cell_type": "markdown",
      "metadata": {},
      "source": [
        "## Get the norm of a nparray or matrix\n",
        "\n",
        "In linear algebra, the norm of an n-dimensional vector $\\vec a$   is defined as:\n",
        "\n",
        "$$ norm(\\vec a) = ||\\vec a|| = \\sqrt {\\sum_{i=1}^{n} a_i ^ 2}$$\n",
        "\n",
        "Calculating the norm of vector or even of a matrix is a general operation when dealing with data. Numpy has a set of functions for linear algebra in the subpackage **linalg**, including the **norm** function. Let us see how to get the norm a given array or matrix:\n"
      ],
      "id": "af9eb41e"
    },
    {
      "cell_type": "code",
      "metadata": {},
      "source": [
        "nparray1 = np.array([1, 2, 3, 4]) # Define an array\n",
        "norm1 = np.linalg.norm(nparray1)\n",
        "\n",
        "nparray2 = np.array([[1, 2], [3, 4]]) # Define a 2 x 2 matrix. Note the 2 level of square brackets\n",
        "norm2 = np.linalg.norm(nparray2) \n",
        "\n",
        "print(norm1)\n",
        "print(norm2)"
      ],
      "id": "62d13681",
      "execution_count": null,
      "outputs": []
    },
    {
      "cell_type": "markdown",
      "metadata": {},
      "source": [
        "Note that without any other parameter, the norm function treats the matrix as being just an array of numbers.\n",
        "However, it is possible to get the norm by rows or by columns. The **axis** parameter controls the form of the operation: \n",
        "* **axis=0** means get the norm of each column\n",
        "* **axis=1** means get the norm of each row. \n"
      ],
      "id": "87eaff35"
    },
    {
      "cell_type": "code",
      "metadata": {},
      "source": [
        "nparray2 = np.array([[1, 1], [2, 2], [3, 3]]) # Define a 3 x 2 matrix. \n",
        "\n",
        "normByCols = np.linalg.norm(nparray2, axis=0) # Get the norm for each column. Returns 2 elements\n",
        "normByRows = np.linalg.norm(nparray2, axis=1) # get the norm for each row. Returns 3 elements\n",
        "\n",
        "print(normByCols)\n",
        "print(normByRows)"
      ],
      "id": "389bc1cf",
      "execution_count": null,
      "outputs": []
    },
    {
      "cell_type": "markdown",
      "metadata": {},
      "source": [
        "However, there are more ways to get the norm of a matrix in Python.\n",
        "For that, let us see all the different ways of defining the dot product between 2 arrays.\n",
        "\n",
        "## The dot product between arrays: All the flavors\n",
        "\n",
        "The dot product or scalar product or inner product between two vectors $\\vec a$ and $\\vec b$ of the same size is defined as:\n",
        "$$\\vec a \\cdot \\vec b = \\sum_{i=1}^{n} a_i b_i$$\n",
        "\n",
        "The dot product takes two vectors and returns a single number.\n"
      ],
      "id": "0d660505"
    },
    {
      "cell_type": "code",
      "metadata": {},
      "source": [
        "nparray1 = np.array([0, 1, 2, 3]) # Define an array\n",
        "nparray2 = np.array([4, 5, 6, 7]) # Define an array\n",
        "\n",
        "flavor1 = np.dot(nparray1, nparray2) # Recommended way\n",
        "print(flavor1)\n",
        "\n",
        "flavor2 = np.sum(nparray1 * nparray2) # Ok way\n",
        "print(flavor2)\n",
        "\n",
        "flavor3 = nparray1 @ nparray2         # Geeks way\n",
        "print(flavor3)\n",
        "\n",
        "# As we never should do:             # Noobs way\n",
        "flavor4 = 0\n",
        "for a, b in zip(nparray1, nparray2):\n",
        "    flavor4 += a * b\n",
        "    \n",
        "print(flavor4)"
      ],
      "id": "02098ccf",
      "execution_count": null,
      "outputs": []
    },
    {
      "cell_type": "markdown",
      "metadata": {},
      "source": [
        "**We strongly recommend using np.dot, since it is the only method that accepts arrays and lists without problems**\n"
      ],
      "id": "6aabd8be"
    },
    {
      "cell_type": "code",
      "metadata": {},
      "source": [
        "norm1 = np.dot(np.array([1, 2]), np.array([3, 4])) # Dot product on nparrays\n",
        "norm2 = np.dot([1, 2], [3, 4]) # Dot product on python lists\n",
        "\n",
        "print(norm1, '=', norm2 )"
      ],
      "id": "72d54f56",
      "execution_count": null,
      "outputs": []
    },
    {
      "cell_type": "markdown",
      "metadata": {},
      "source": [
        "Finally, note that the norm is the square root of the dot product of the vector with itself. That gives many options to write that function:\n",
        "\n",
        "$$ norm(\\vec a) = ||\\vec a|| = \\sqrt {\\sum_{i=1}^{n} a_i ^ 2} = \\sqrt {a \\cdot a}$$\n",
        "\n",
        "## Sums by rows or columns\n",
        "\n",
        "Another general operation performed on matrices is the sum by rows or columns.\n",
        "Just as we did for the function norm, the **axis** parameter controls the form of the operation:\n",
        "* **axis=0** means to sum the elements of each column together. \n",
        "* **axis=1** means to sum the elements of each row together.\n"
      ],
      "id": "bd9f1ecc"
    },
    {
      "cell_type": "code",
      "metadata": {},
      "source": [
        "nparray2 = np.array([[1, -1], [2, -2], [3, -3]]) # Define a 3 x 2 matrix. \n",
        "\n",
        "sumByCols = np.sum(nparray2, axis=0) # Get the sum for each column. Returns 2 elements\n",
        "sumByRows = np.sum(nparray2, axis=1) # get the sum for each row. Returns 3 elements\n",
        "\n",
        "print('Sum by columns: ')\n",
        "print(sumByCols)\n",
        "print('Sum by rows:')\n",
        "print(sumByRows)"
      ],
      "id": "65576ab5",
      "execution_count": null,
      "outputs": []
    },
    {
      "cell_type": "markdown",
      "metadata": {},
      "source": [
        "## Get the mean by rows or columns\n",
        "\n",
        "As with the sums, one can get the **mean** by rows or columns using the **axis** parameter. Just remember that the mean is the sum of the elements divided by the length of the vector\n",
        "$$ mean(\\vec a) = \\frac {{\\sum_{i=1}^{n} a_i }}{n}$$\n"
      ],
      "id": "e9b3d779"
    },
    {
      "cell_type": "code",
      "metadata": {},
      "source": [
        "nparray2 = np.array([[1, -1], [2, -2], [3, -3]]) # Define a 3 x 2 matrix. Chosen to be a matrix with 0 mean\n",
        "\n",
        "mean = np.mean(nparray2) # Get the mean for the whole matrix\n",
        "meanByCols = np.mean(nparray2, axis=0) # Get the mean for each column. Returns 2 elements\n",
        "meanByRows = np.mean(nparray2, axis=1) # get the mean for each row. Returns 3 elements\n",
        "\n",
        "print('Matrix mean: ')\n",
        "print(mean)\n",
        "print('Mean by columns: ')\n",
        "print(meanByCols)\n",
        "print('Mean by rows:')\n",
        "print(meanByRows)"
      ],
      "id": "be0e40fa",
      "execution_count": null,
      "outputs": []
    },
    {
      "cell_type": "markdown",
      "metadata": {},
      "source": [
        "## Center the columns of a matrix\n",
        "\n",
        "Centering the attributes of a data matrix is another essential preprocessing step. Centering a matrix means to remove the column mean to each element inside the column. The mean by columns of a centered matrix is always 0.\n",
        "\n",
        "With NumPy, this process is as simple as this:\n"
      ],
      "id": "684b0b4e"
    },
    {
      "cell_type": "code",
      "metadata": {},
      "source": [
        "nparray2 = np.array([[1, 1], [2, 2], [3, 3]]) # Define a 3 x 2 matrix. \n",
        "\n",
        "nparrayCentered = nparray2 - np.mean(nparray2, axis=0) # Remove the mean for each column\n",
        "\n",
        "print('Original matrix')\n",
        "print(nparray2)\n",
        "print('Centered by columns matrix')\n",
        "print(nparrayCentered)\n",
        "\n",
        "print('New mean by column')\n",
        "print(nparrayCentered.mean(axis=0))"
      ],
      "id": "62e467c9",
      "execution_count": null,
      "outputs": []
    },
    {
      "cell_type": "markdown",
      "metadata": {},
      "source": [
        "**Warning:** This process does not apply for row centering. In such cases, consider transposing the matrix, centering by columns, and then transpose back the result. \n",
        "\n",
        "See the example below:\n"
      ],
      "id": "b4aefe83"
    },
    {
      "cell_type": "code",
      "metadata": {},
      "source": [
        "nparray2 = np.array([[1, 3], [2, 4], [3, 5]]) # Define a 3 x 2 matrix. \n",
        "\n",
        "nparrayCentered = nparray2.T - np.mean(nparray2, axis=1) # Remove the mean for each row\n",
        "nparrayCentered = nparrayCentered.T # Transpose back the result\n",
        "\n",
        "print('Original matrix')\n",
        "print(nparray2)\n",
        "print('Centered by rows matrix')\n",
        "print(nparrayCentered)\n",
        "\n",
        "print('New mean by rows')\n",
        "print(nparrayCentered.mean(axis=1))"
      ],
      "id": "fdbd64b3",
      "execution_count": null,
      "outputs": []
    },
    {
      "cell_type": "markdown",
      "metadata": {},
      "source": [
        "Note that some operations can be performed using static functions like `np.sum()` or `np.mean()`, or by using the inner functions of the array\n"
      ],
      "id": "321e8234"
    },
    {
      "cell_type": "code",
      "metadata": {},
      "source": [
        "nparray2 = np.array([[1, 3], [2, 4], [3, 5]]) # Define a 3 x 2 matrix. \n",
        "\n",
        "mean1 = np.mean(nparray2) # Static way\n",
        "mean2 = nparray2.mean()   # Dinamic way\n",
        "\n",
        "print(mean1, ' == ', mean2)"
      ],
      "id": "a9f903d6",
      "execution_count": null,
      "outputs": []
    },
    {
      "cell_type": "markdown",
      "metadata": {},
      "source": [
        "Even if they are equivalent, we recommend the use of the static way always.\n",
        "\n",
        "**Congratulations! We have successfully reviewed vector and matrix operations with Numpy!**\n"
      ],
      "id": "7de419ee"
    }
  ],
  "metadata": {
    "kernelspec": {
      "name": "python3",
      "language": "python",
      "display_name": "Python 3 (ipykernel)",
      "path": "/home/oren/.local/share/jupyter/kernels/python3"
    }
  },
  "nbformat": 4,
  "nbformat_minor": 5
}