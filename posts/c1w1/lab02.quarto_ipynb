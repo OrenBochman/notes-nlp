{
  "cells": [
    {
      "cell_type": "markdown",
      "metadata": {},
      "source": [
        "---\n",
        "date: 2020-10-03\n",
        "title: \"Lab: Building and Visualizing word frequencies\"\n",
        "subtitle: \"NLP with Classification & Vector Spaces\"\n",
        "jupyter: python3\n",
        "categories: \n",
        "  - Classification & Vector Spaces\n",
        "  - Coursera \n",
        "  - Lab\n",
        "  - NLP \n",
        "  - NLTK\n",
        "  - Sentiment analysis task\n",
        "  - Word frequencies\n",
        "---\n",
        "\n",
        "\n",
        "![course banner](/images/Course-Logo-1-3.webp){#fig-00 .column-margin .nolightbox}\n",
        "\n",
        "In this lab, we will focus on the `build_freqs()` helper function and visualizing a dataset fed into it. \n",
        "In our goal of tweet sentiment analysis, this function will build a dictionary where we can lookup how many times a word appears in the lists of positive or negative tweets. This will be very helpful when extracting the features of the dataset in the week's programming assignment. Let's see how this function is implemented under the hood in this notebook.\n",
        "\n",
        "\n",
        "## Setup\n",
        "\n",
        "Let's import the required libraries for this lab: \n"
      ],
      "id": "dc0e340f"
    },
    {
      "cell_type": "code",
      "metadata": {},
      "source": [
        "import nltk                                  # Python library for NLP\n",
        "from nltk.corpus import twitter_samples      # sample Twitter dataset from NLTK\n",
        "import matplotlib.pyplot as plt              # visualization library\n",
        "import numpy as np                           # library for scientific computing and matrix operations"
      ],
      "id": "34f256df",
      "execution_count": null,
      "outputs": []
    },
    {
      "cell_type": "markdown",
      "metadata": {},
      "source": [
        "#### Import some helper functions that we provided in the utils.py file:\n",
        "* `process_tweet()`: Cleans the text, tokenizes it into separate words, removes stopwords, and converts words to stems.\n",
        "* `build_freqs()`: This counts how often a word in the 'corpus' (the entire set of tweets) was associated with a positive label `1` or a negative label `0`. It then builds the `freqs` dictionary, where each key is a `(word,label)` tuple, and the value is the count of its frequency within the corpus of tweets.\n"
      ],
      "id": "b72aaef7"
    },
    {
      "cell_type": "code",
      "metadata": {},
      "source": [
        "# download the stopwords for the process_tweet function\n",
        "nltk.download('stopwords')\n",
        "\n",
        "# import our convenience functions\n",
        "from utils import process_tweet, build_freqs"
      ],
      "id": "462e24a1",
      "execution_count": null,
      "outputs": []
    },
    {
      "cell_type": "markdown",
      "metadata": {},
      "source": [
        "## Load the NLTK sample dataset\n",
        "\n",
        "As in the previous lab, we will be using the [Twitter dataset from NLTK](http://www.nltk.org/howto/twitter.html#Using-a-Tweet-Corpus).\n"
      ],
      "id": "c69a5191"
    },
    {
      "cell_type": "code",
      "metadata": {},
      "source": [
        "# select the lists of positive and negative tweets\n",
        "all_positive_tweets = twitter_samples.strings('positive_tweets.json')\n",
        "all_negative_tweets = twitter_samples.strings('negative_tweets.json')\n",
        "\n",
        "# concatenate the lists, 1st part is the positive tweets followed by the negative\n",
        "tweets = all_positive_tweets + all_negative_tweets\n",
        "\n",
        "# let's see how many tweets we have\n",
        "print(\"Number of tweets: \", len(tweets))"
      ],
      "id": "fcf2e403",
      "execution_count": null,
      "outputs": []
    },
    {
      "cell_type": "markdown",
      "metadata": {},
      "source": [
        "Next, we will build a labels array that matches the sentiments of our tweets.  This data type works pretty much like a regular list but is optimized for computations and manipulation. The `labels` array will be composed of 10000 elements. The first 5000 will be filled with `1` labels denoting positive sentiments, and the next 5000 will be `0` labels denoting the opposite. We can do this easily with a series of operations provided by the `numpy` library:\n",
        "\n",
        "* `np.ones()` - create an array of 1's\n",
        "* `np.zeros()` - create an array of 0's\n",
        "* `np.append()` - concatenate arrays\n"
      ],
      "id": "0267d4af"
    },
    {
      "cell_type": "code",
      "metadata": {},
      "source": [
        "# make a numpy array representing labels of the tweets\n",
        "labels = np.append(np.ones((len(all_positive_tweets))), np.zeros((len(all_negative_tweets))))"
      ],
      "id": "c477835b",
      "execution_count": null,
      "outputs": []
    },
    {
      "cell_type": "markdown",
      "metadata": {},
      "source": [
        "## Dictionaries\n",
        "\n",
        "In Python, a dictionary is a mutable and indexed collection. It stores items as key-value pairs and uses [hash tables](https://en.wikipedia.org/wiki/Hash_table) underneath to allow practically constant time lookups. In NLP, dictionaries are essential because it enables fast retrieval of items or containment checks even with thousands of entries in the collection.\n",
        "\n",
        "### Definition\n",
        "\n",
        "A dictionary in Python is declared using curly brackets. Look at the next example:\n"
      ],
      "id": "2a210b52"
    },
    {
      "cell_type": "code",
      "metadata": {},
      "source": [
        "dictionary = {'key1': 1, 'key2': 2}"
      ],
      "id": "b67a7229",
      "execution_count": null,
      "outputs": []
    },
    {
      "cell_type": "markdown",
      "metadata": {},
      "source": [
        "The former line defines a dictionary with two entries. Keys and values can be almost any type ([with a few restriction on keys](https://docs.python.org/3/tutorial/datastructures.html#dictionaries)), and in this case, we used strings. We can also use floats, integers, tuples, etc.\n",
        "\n",
        "### Adding or editing entries\n",
        "\n",
        "New entries can be inserted into dictionaries using square brackets. If the dictionary already contains the specified key, its value is overwritten.  \n"
      ],
      "id": "20065680"
    },
    {
      "cell_type": "code",
      "metadata": {},
      "source": [
        "# Add a new entry\n",
        "dictionary['key3'] = -5\n",
        "\n",
        "# Overwrite the value of key1\n",
        "dictionary['key1'] = 0\n",
        "\n",
        "print(dictionary)"
      ],
      "id": "5b3329b1",
      "execution_count": null,
      "outputs": []
    },
    {
      "cell_type": "markdown",
      "metadata": {},
      "source": [
        "### Accessing values and lookup keys\n",
        "\n",
        "Performing dictionary lookups and retrieval are common tasks in NLP. There are two ways to do this: \n",
        "\n",
        "* Using square bracket notation: This form is allowed if the lookup key is in the dictionary. It produces an error otherwise.\n",
        "* Using the [get()](https://docs.python.org/3/library/stdtypes.html#dict.get) method: This allows us to set a default value if the dictionary key does not exist. \n",
        "\n",
        "Let us see these in action:\n"
      ],
      "id": "97010ac1"
    },
    {
      "cell_type": "code",
      "metadata": {},
      "source": [
        "# Square bracket lookup when the key exist\n",
        "print(dictionary['key2'])"
      ],
      "id": "15b4b769",
      "execution_count": null,
      "outputs": []
    },
    {
      "cell_type": "markdown",
      "metadata": {},
      "source": [
        "However, if the key is missing, the operation produce an error\n"
      ],
      "id": "7d63d0ef"
    },
    {
      "cell_type": "code",
      "metadata": {},
      "source": [
        "#| error: true\n",
        "# The output of this line is intended to produce a KeyError\n",
        "print(dictionary['key8'])"
      ],
      "id": "084accca",
      "execution_count": null,
      "outputs": []
    },
    {
      "cell_type": "markdown",
      "metadata": {},
      "source": [
        "When using a square bracket lookup, it is common to use an if-else block to check for containment first (with the keyword `in`) before getting the item. On the other hand, we can use the `.get()` method if we want to set a default value when the key is not found. Let's compare these in the cells below:\n"
      ],
      "id": "21dfd301"
    },
    {
      "cell_type": "code",
      "metadata": {},
      "source": [
        "# This prints a value\n",
        "if 'key1' in dictionary:\n",
        "    print(\"item found: \", dictionary['key1'])\n",
        "else:\n",
        "    print('key1 is not defined')\n",
        "\n",
        "# Same as what we get with get\n",
        "print(\"item found: \", dictionary.get('key1', -1))"
      ],
      "id": "f3e5ff01",
      "execution_count": null,
      "outputs": []
    },
    {
      "cell_type": "code",
      "metadata": {},
      "source": [
        "# This prints a message because the key is not found\n",
        "if 'key7' in dictionary:\n",
        "    print(dictionary['key7'])\n",
        "else:\n",
        "    print('key does not exist!')\n",
        "\n",
        "# This prints -1 because the key is not found and we set the default to -1\n",
        "print(dictionary.get('key7', -1))"
      ],
      "id": "3870565e",
      "execution_count": null,
      "outputs": []
    },
    {
      "cell_type": "markdown",
      "metadata": {},
      "source": [
        "## Word frequency dictionary\n",
        "\n",
        "Now that we know the building blocks, let's finally take a look at the **build_freqs()** function in **utils.py**. This is the function that creates the dictionary containing the word counts from each corpus.\n",
        "\n",
        "```python\n",
        "def build_freqs(tweets, ys):\n",
        "    \"\"\"Build frequencies.\n",
        "    Input:\n",
        "        tweets: a list of tweets\n",
        "        ys: an m x 1 array with the sentiment label of each tweet\n",
        "            (either 0 or 1)\n",
        "    Output:\n",
        "        freqs: a dictionary mapping each (word, sentiment) pair to its\n",
        "        frequency\n",
        "    \"\"\"\n",
        "    # Convert np array to list since zip needs an iterable.\n",
        "    # The squeeze is necessary or the list ends up with one element.\n",
        "    # Also note that this is just a NOP if ys is already a list.\n",
        "    yslist = np.squeeze(ys).tolist()\n",
        "\n",
        "    # Start with an empty dictionary and populate it by looping over all tweets\n",
        "    # and over all processed words in each tweet.\n",
        "    freqs = {}\n",
        "    for y, tweet in zip(yslist, tweets):\n",
        "        for word in process_tweet(tweet):\n",
        "            pair = (word, y)\n",
        "            if pair in freqs:\n",
        "                freqs[pair] += 1\n",
        "            else:\n",
        "                freqs[pair] = 1    \n",
        "    return freqs\n",
        "```\n",
        "\n",
        "We can also do the for loop like this to make it a bit more compact:\n",
        "\n",
        "```python\n",
        "    for y, tweet in zip(yslist, tweets):\n",
        "        for word in process_tweet(tweet):\n",
        "            pair = (word, y)\n",
        "            freqs[pair] = freqs.get(pair, 0) + 1\n",
        "```\n",
        "\n",
        "As shown above, each key is a 2-element tuple containing a `(word, y)` pair. The `word` is an element in a processed tweet while `y` is an integer representing the corpus: `1` for the positive tweets and `0` for the negative tweets. The value associated with this key is the number of times that word appears in the specified corpus. For example: \n",
        "\n",
        "```python\n",
        "# \"folowfriday\" appears 25 times in the positive tweets\n",
        "('followfriday', 1.0): 25\n",
        "\n",
        "# \"shame\" appears 19 times in the negative tweets\n",
        "('shame', 0.0): 19 \n",
        "```\n",
        "\n",
        "Now, it is time to use the dictionary returned by the `build_freqs()` function. First, let us feed our `tweets` and `labels` lists then print a basic report:\n"
      ],
      "id": "28352ab8"
    },
    {
      "cell_type": "code",
      "metadata": {},
      "source": [
        "# create frequency dictionary\n",
        "freqs = build_freqs(tweets, labels)\n",
        "\n",
        "# check data type\n",
        "print(f'type(freqs) = {type(freqs)}')\n",
        "\n",
        "# check length of the dictionary\n",
        "print(f'len(freqs) = {len(freqs)}')"
      ],
      "id": "624ce05b",
      "execution_count": null,
      "outputs": []
    },
    {
      "cell_type": "markdown",
      "metadata": {},
      "source": [
        "Now print the frequency of each word depending on its class.\n"
      ],
      "id": "3dcc2211"
    },
    {
      "cell_type": "code",
      "metadata": {},
      "source": [
        "print(freqs)"
      ],
      "id": "767aa312",
      "execution_count": null,
      "outputs": []
    },
    {
      "cell_type": "markdown",
      "metadata": {},
      "source": [
        "Unfortunately, this does not help much to understand the data. It would be better to visualize this output to gain better insights.\n",
        "\n",
        "## Table of word counts\n",
        "\n",
        "We will select a set of words that we would like to visualize. It is better to store this temporary information in a table that is very easy to use later.\n"
      ],
      "id": "40355cb9"
    },
    {
      "cell_type": "code",
      "metadata": {},
      "source": [
        "# select some words to appear in the report. we will assume that each word is unique (i.e. no duplicates)\n",
        "keys = ['happi', 'merri', 'nice', 'good', 'bad', 'sad', 'mad', 'best', 'pretti',\n",
        "        '❤', ':)', ':(', '😒', '😬', '😄', '😍', '♛',\n",
        "        'song', 'idea', 'power', 'play', 'magnific']\n",
        "\n",
        "# list representing our table of word counts.\n",
        "# each element consist of a sublist with this pattern: [<word>, <positive_count>, <negative_count>]\n",
        "data = []\n",
        "\n",
        "# loop through our selected words\n",
        "for word in keys:\n",
        "    \n",
        "    # initialize positive and negative counts\n",
        "    pos = 0\n",
        "    neg = 0\n",
        "    \n",
        "    # retrieve number of positive counts\n",
        "    if (word, 1) in freqs:\n",
        "        pos = freqs[(word, 1)]\n",
        "        \n",
        "    # retrieve number of negative counts\n",
        "    if (word, 0) in freqs:\n",
        "        neg = freqs[(word, 0)]\n",
        "        \n",
        "    # append the word counts to the table\n",
        "    data.append([word, pos, neg])\n",
        "    \n",
        "data"
      ],
      "id": "89d3cafd",
      "execution_count": null,
      "outputs": []
    },
    {
      "cell_type": "markdown",
      "metadata": {},
      "source": [
        "We can then use a scatter plot to inspect this table visually. Instead of plotting the raw counts, we will plot it in the logarithmic scale to take into account the wide discrepancies between the raw counts (e.g. `:)` has 3568 counts in the positive while only 2 in the negative). The red line marks the boundary between positive and negative areas. Words close to the red line can be classified as neutral. \n"
      ],
      "id": "f74b0f93"
    },
    {
      "cell_type": "code",
      "metadata": {},
      "source": [
        "fig, ax = plt.subplots(figsize = (8, 8))\n",
        "\n",
        "# convert positive raw counts to logarithmic scale. we add 1 to avoid log(0)\n",
        "x = np.log([x[1] + 1 for x in data])  \n",
        "\n",
        "# do the same for the negative counts\n",
        "y = np.log([x[2] + 1 for x in data]) \n",
        "\n",
        "# Plot a dot for each pair of words\n",
        "ax.scatter(x, y)  \n",
        "\n",
        "# assign axis labels\n",
        "plt.xlabel(\"Log Positive count\")\n",
        "plt.ylabel(\"Log Negative count\")\n",
        "\n",
        "# Add the word as the label at the same position as we added the points just before\n",
        "for i in range(0, len(data)):\n",
        "    ax.annotate(data[i][0], (x[i], y[i]), fontsize=12)\n",
        "\n",
        "ax.plot([0, 9], [0, 9], color = 'red') # Plot the red line that divides the 2 areas.\n",
        "plt.show()"
      ],
      "id": "eefead01",
      "execution_count": null,
      "outputs": []
    },
    {
      "cell_type": "markdown",
      "metadata": {},
      "source": [
        "This chart is straightforward to interpret. It shows that emoticons `:)` and `:(` are very important for sentiment analysis. Thus, we should not let preprocessing steps get rid of these symbols!\n",
        "\n",
        "Furthermore, what is the meaning of the crown symbol? It seems to be very negative!\n",
        "\n",
        "### Conclusion\n",
        "\n",
        "That's all for this lab! \n",
        "\n",
        "We've seen how to build a word frequency dictionary and this will come in handy when extracting the features of a list of tweets. Next up, we will be reviewing Logistic Regression. Keep it up!\n"
      ],
      "id": "0a596780"
    }
  ],
  "metadata": {
    "kernelspec": {
      "name": "python3",
      "language": "python",
      "display_name": "Python 3 (ipykernel)",
      "path": "/home/oren/.local/share/jupyter/kernels/python3"
    }
  },
  "nbformat": 4,
  "nbformat_minor": 5
}