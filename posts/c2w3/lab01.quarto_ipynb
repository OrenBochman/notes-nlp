{
  "cells": [
    {
      "cell_type": "markdown",
      "metadata": {},
      "source": [
        "---\n",
        "date: 2020-10-25\n",
        "title: \"N-grams Corpus preprocessing\"\n",
        "subtitle: \"Probabilistic Models\"\n",
        "categories: \n",
        "  - NLP \n",
        "  - Coursera \n",
        "  - Notes\n",
        "  - Probabilistic Models\n",
        "jupyter: python3\n",
        "---\n",
        "\n",
        "\n",
        "::: {.column-margin .nolightbox}\n",
        "![course banner](/images/Course-Logo-2-3.webp)\n",
        ":::\n",
        "\n",
        "The input corpus in this week's assignment is a continuous text that needs some preprocessing so that we can start calculating the n-gram probabilities.\n",
        "\n",
        "Some common preprocessing steps for the language models include:\n",
        "- lowercasing the text\n",
        "- remove special characters\n",
        "- split text to list of sentences\n",
        "- split sentence into list words\n",
        "\n",
        "Can we note the similarities and differences among the preprocessing steps shown during the Course 1 of this specialization?\n"
      ],
      "id": "e8f43a0e"
    },
    {
      "cell_type": "code",
      "metadata": {},
      "source": [
        "import nltk               # NLP toolkit\n",
        "import re                 # Library for Regular expression operations\n",
        "\n",
        "#nltk.download('punkt')    # Download the Punkt sentence tokenizer \n",
        "nltk.download('punkt_tab')"
      ],
      "id": "f116886a",
      "execution_count": null,
      "outputs": []
    },
    {
      "cell_type": "markdown",
      "metadata": {},
      "source": [
        "### Lowercase {#lowercase}\n",
        "\n",
        "Words at the beginning of a sentence and names start with a capital letter. However, when counting words, we want to treat them the same as if they appeared in the middle of a sentence. \n",
        "\n",
        "We can do that by converting the text to lowercase using [str.lowercase]\n",
        "(https://docs.python.org/3/library/stdtypes.html?highlight=split#str.lower).\n"
      ],
      "id": "63ed5955"
    },
    {
      "cell_type": "code",
      "metadata": {
        "scrolled": true
      },
      "source": [
        "# change the corpus to lowercase\n",
        "corpus = \"Learning% makes 'me' happy. I am happy be-cause I am learning! :)\"\n",
        "corpus = corpus.lower()\n",
        "\n",
        "# note that word \"learning\" will now be the same regardless of its position in the sentence\n",
        "print(corpus)"
      ],
      "id": "06d0d004",
      "execution_count": null,
      "outputs": []
    },
    {
      "cell_type": "markdown",
      "metadata": {},
      "source": [
        "### Remove special characters {#special-characters}\n",
        "\n",
        "Some of the characters may need to be removed from the corpus before we start processing the text to find n-grams. \n",
        "\n",
        "Often, the special characters such as double quotes '\"' or dash '-' are removed, and the interpunction such as full stop '.' or question mark '?' are left in the corpus.\n"
      ],
      "id": "7e58dd9a"
    },
    {
      "cell_type": "code",
      "metadata": {},
      "source": [
        "# remove special characters\n",
        "corpus = \"learning% makes 'me' happy. i am happy be-cause i am learning! :)\"\n",
        "corpus = re.sub(r\"[^a-zA-Z0-9.?! ]+\", \"\", corpus)\n",
        "print(corpus)"
      ],
      "id": "d4fb89a5",
      "execution_count": null,
      "outputs": []
    },
    {
      "cell_type": "markdown",
      "metadata": {},
      "source": [
        "Note that this process gets rid of the happy face made with punctuations :). Remember that for sentiment analysis, this emoticon was very important. However, we will not consider it here.\n",
        "\n",
        "\n",
        "### Text splitting {#text-splitting}\n",
        "\n",
        "In the assignment, the sentences in the corpus are separated by a special delimiter \\n. We will need to split the corpus into an array of sentences using this delimiter. \n",
        "One way to do that is by using the [str.split](https://docs.python.org/3/library/stdtypes.html?highlight=split#str.split) method.\n",
        "\n",
        "\n",
        "The following examples illustrate how to use this method. The code shows:\n",
        "- how to split a string containing a date into an array of date parts\n",
        "- how to split a string with time into an array containing hours, minutes and seconds \n",
        "\n",
        "Also, note what happens if there are several back-to-back delimiters like between \"May\" and \"9\".\n"
      ],
      "id": "d804bb6f"
    },
    {
      "cell_type": "code",
      "metadata": {},
      "source": [
        "# split text by a delimiter to array\n",
        "input_date=\"Sat May  9 07:33:35 CEST 2020\"\n",
        "\n",
        "# get the date parts in array\n",
        "date_parts = input_date.split(\" \")\n",
        "print(f\"date parts = {date_parts}\")\n",
        "\n",
        "#get the time parts in array\n",
        "time_parts = date_parts[4].split(\":\")\n",
        "print(f\"time parts = {time_parts}\")"
      ],
      "id": "a222340b",
      "execution_count": null,
      "outputs": []
    },
    {
      "cell_type": "markdown",
      "metadata": {},
      "source": [
        " This text splitting is more complicated than the tokenization process used for sentiment analysis.\n",
        "\n",
        "\n",
        "### Sentence tokenizing {#sentence-tokenizing}\n",
        "\n",
        "Once we have a list of sentences, the next step is to split each sentence into a list of words.\n",
        "\n",
        "This process could be done in several ways, even using the str.split method described above, but we will use the NLTK library [nltk](https://www.nltk.org/) to help us with that.\n",
        "\n",
        "In the code assignment, we will use the method [word_tokenize](https://www.nltk.org/api/nltk.tokenize.html#nltk.tokenize.punkt.PunktLanguageVars.word_tokenize) to split your sentence into a list of words. Let us try the method in an example.\n"
      ],
      "id": "b2486f00"
    },
    {
      "cell_type": "code",
      "metadata": {},
      "source": [
        "# tokenize the sentence into an array of words\n",
        "\n",
        "sentence = 'i am happy because i am learning.'\n",
        "tokenized_sentence = nltk.word_tokenize(sentence)\n",
        "print(f'{sentence} -> {tokenized_sentence}')"
      ],
      "id": "5e826907",
      "execution_count": null,
      "outputs": []
    },
    {
      "cell_type": "markdown",
      "metadata": {},
      "source": [
        "Now that the sentence is tokenized, we can work with each word in the sentence separately. This will be useful later when creating and counting N-grams. In the following code example, we will see how to find the length of each word.\n"
      ],
      "id": "67b31311"
    },
    {
      "cell_type": "code",
      "metadata": {},
      "source": [
        "# find length of each word in the tokenized sentence\n",
        "sentence = ['i', 'am', 'happy', 'because', 'i', 'am', 'learning', '.']\n",
        "word_lengths = [(word, len(word)) for word in sentence] # Create a list with the word lengths using a list comprehension\n",
        "print(f' Lengths of the words: \\n{word_lengths}')"
      ],
      "id": "ac5bad51",
      "execution_count": null,
      "outputs": []
    },
    {
      "cell_type": "markdown",
      "metadata": {},
      "source": [
        "The previous result produces a list of pairs. This is not equivalent to a dictionary.\n",
        "\n",
        "## N-grams {#n-grams}\n",
        "\n",
        "### Sentence to n-gram {#sentence-to-ngram}\n",
        "\n",
        "The next step is to build n-grams from the tokenized sentences. \n",
        "\n",
        "A sliding window of size n-words can generate the n-grams. The window scans the list of words starting at the sentence beginning, moving by a step of one word until it reaches the end of the sentence.\n",
        "\n",
        "Here is an example method that prints all trigrams in the given sentence.\n"
      ],
      "id": "c36effbe"
    },
    {
      "cell_type": "code",
      "metadata": {},
      "source": [
        "def sentence_to_trigram(tokenized_sentence):\n",
        "    \"\"\"\n",
        "    Prints all trigrams in the given tokenized sentence.\n",
        "    \n",
        "    Args:\n",
        "        tokenized_sentence: The words list.\n",
        "    \n",
        "    Returns:\n",
        "        No output\n",
        "    \"\"\"\n",
        "    # note that the last position of i is 3rd to the end\n",
        "    for i in range(len(tokenized_sentence) - 3 + 1):\n",
        "        # the sliding window starts at position i and contains 3 words\n",
        "        trigram = tokenized_sentence[i : i + 3]\n",
        "        print(trigram)\n",
        "\n",
        "tokenized_sentence = ['i', 'am', 'happy', 'because', 'i', 'am', 'learning', '.']\n",
        "\n",
        "print(f'List all trigrams of sentence: {tokenized_sentence}\\n')\n",
        "sentence_to_trigram(tokenized_sentence)"
      ],
      "id": "c3cf1485",
      "execution_count": null,
      "outputs": []
    },
    {
      "cell_type": "markdown",
      "metadata": {},
      "source": [
        "<a name=\"ngram-prefix\"></a>\n",
        "### Prefix of an n-gram\n",
        "\n",
        "As we saw in the lecture, the n-gram probability is often calculated based on the (n-1)-gram counts. The prefix is needed in the formula to calculate the probability of an n-gram.\n",
        "\n",
        "\\begin{equation*}\n",
        "P(w_n|w_1^{n-1})=\\frac{C(w_1^n)}{C(w_1^{n-1})}\n",
        "\\end{equation*}\n",
        "\n",
        "The following code shows how to get an (n-1)-gram  prefix from n-gram on an example of getting trigram from a 4-gram.\n"
      ],
      "id": "fdade4d4"
    },
    {
      "cell_type": "code",
      "metadata": {
        "scrolled": true
      },
      "source": [
        "# get trigram prefix from a 4-gram\n",
        "fourgram = ['i', 'am', 'happy','because']\n",
        "trigram = fourgram[0:-1] # Get the elements from 0, included, up to the last element, not included.\n",
        "print(trigram)"
      ],
      "id": "67e1d3b2",
      "execution_count": null,
      "outputs": []
    },
    {
      "cell_type": "markdown",
      "metadata": {},
      "source": [
        "### Start and end of sentence word $<s>$ and $</s>$ {#start-end-of-sentence}\n",
        "\n",
        "We could see in the lecture that we must add some special characters at the beginning and the end of each sentence: \n",
        "\n",
        "* $<s>$  at beginning\n",
        "* $</s>$ at the end\n",
        "\n",
        "For n-grams, we must prepend n-1 of characters at the begining of the sentence. \n",
        "\n",
        "Let us have a look at how we can implement this in code.\n"
      ],
      "id": "4314b247"
    },
    {
      "cell_type": "code",
      "metadata": {},
      "source": [
        "# when working with trigrams, we need to prepend 2 <s> and append one </s>\n",
        "n = 3\n",
        "tokenized_sentence = ['i', 'am', 'happy', 'because', 'i', 'am', 'learning', '.']\n",
        "tokenized_sentence = [\"<s>\"] * (n - 1) + tokenized_sentence + [\"</s>\"]\n",
        "print(tokenized_sentence)"
      ],
      "id": "b5f685bb",
      "execution_count": null,
      "outputs": []
    },
    {
      "cell_type": "markdown",
      "metadata": {},
      "source": [
        "That's all for the lab for \"N-gram\" lesson of week 3.\n"
      ],
      "id": "05acdd4b"
    }
  ],
  "metadata": {
    "kernelspec": {
      "name": "python3",
      "language": "python",
      "display_name": "Python 3 (ipykernel)",
      "path": "/home/oren/.local/share/jupyter/kernels/python3"
    }
  },
  "nbformat": 4,
  "nbformat_minor": 5
}