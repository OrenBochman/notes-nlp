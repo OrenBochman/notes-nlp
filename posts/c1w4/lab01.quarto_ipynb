{
  "cells": [
    {
      "cell_type": "markdown",
      "metadata": {},
      "source": [
        "---\n",
        "title: Vector manipulation in Python\n",
        "jupyter: python3\n",
        "date: 2020-10-23\n",
        "categories: \n",
        "  - NLP \n",
        "  - Coursera \n",
        "  - Lab\n",
        "  - Word Embeddings\n",
        "  - Translation task\n",
        "  - Search Task\n",
        "---\n",
        "\n",
        "\n",
        "\n",
        "![course banner](/images/Course-Logo-1-3.webp){#fig-00 .column-margin .nolightbox}\n",
        "\n",
        "In this lab, we will have the opportunity to practice once again with the NumPy library. This time, we will explore some advanced operations with arrays and matrices.\n",
        "\n",
        "At the end of the previous module, we used PCA to transform a set of many variables into a set of only two uncorrelated variables. This process was made through a transformation of the data called rotation. \n",
        "\n",
        "In this week's assignment, we will need to find a transformation matrix from English to French vector space embeddings. Such a transformation matrix is nothing else but a matrix that rotates and scales vector spaces.\n",
        "\n",
        "In this notebook, we will explain in detail the rotation transformation. \n",
        "\n",
        "\n",
        "## Transforming vectors\n",
        "\n",
        "There are three main vector transformations:\n",
        "* Scaling\n",
        "* Translation\n",
        "* Rotation\n",
        "\n",
        "In previous notebooks, we have applied the first two kinds of transformations. Now, let us learn how to use a fundamental transformation on vectors called _rotation_.\n",
        "\n",
        "The rotation operation changes the direction of a vector, letting unaffected its dimensionality and its norm. Let us explain with some examples. \n",
        "\n",
        "In the following cells, we will define a NumPy matrix and a NumPy array. Soon we will explain how this is related to matrix rotation.\n"
      ],
      "id": "88c9e109"
    },
    {
      "cell_type": "code",
      "metadata": {},
      "source": [
        "import numpy as np                     # Import numpy for array manipulation\n",
        "import matplotlib.pyplot as plt        # Import matplotlib for charts\n",
        "from utils_nb import plot_vectors      # Function to plot vectors (arrows)"
      ],
      "id": "5b10704b",
      "execution_count": null,
      "outputs": []
    },
    {
      "cell_type": "markdown",
      "metadata": {},
      "source": [
        "### Example 1\n"
      ],
      "id": "b440040b"
    },
    {
      "cell_type": "code",
      "metadata": {},
      "source": [
        "# Create a 2 x 2 matrix\n",
        "R = np.array([[2, 0],\n",
        "              [0, -2]])"
      ],
      "id": "a97c0790",
      "execution_count": null,
      "outputs": []
    },
    {
      "cell_type": "code",
      "metadata": {},
      "source": [
        "x = np.array([[1, 1]]) # Create a 1 x 2 matrix"
      ],
      "id": "06860419",
      "execution_count": null,
      "outputs": []
    },
    {
      "cell_type": "markdown",
      "metadata": {},
      "source": [
        "The dot product between a vector and a square matrix produces a rotation and a scaling of the original vector. \n",
        "\n",
        "Remember that our recommended way to get the dot product in Python is np.dot(a, b):\n"
      ],
      "id": "eda1bda8"
    },
    {
      "cell_type": "code",
      "metadata": {},
      "source": [
        "y = np.dot(x, R) # Apply the dot product between x and R\n",
        "y"
      ],
      "id": "aed6af8f",
      "execution_count": null,
      "outputs": []
    },
    {
      "cell_type": "markdown",
      "metadata": {},
      "source": [
        "We are going to use Pyplot to inspect the effect of the rotation on 2D vectors visually. For that, we have created a function `plot_vectors()` that takes care of all the intricate parts of the visual formatting. The code for this function is inside the `utils_nb.py` file. \n",
        "\n",
        "Now we can plot the vector $\\vec x = [1, 1]$ in a cartesian plane. The cartesian plane will be centered at `[0,0]` and its x and y limits will be between `[-4, +4]`\n"
      ],
      "id": "c5348fb9"
    },
    {
      "cell_type": "code",
      "metadata": {},
      "source": [
        "plot_vectors([x], axes=[4, 4], fname='transform_x.svg')"
      ],
      "id": "5a57b26f",
      "execution_count": null,
      "outputs": []
    },
    {
      "cell_type": "markdown",
      "metadata": {},
      "source": [
        "Now, let's plot in the same system our vector $\\vec x = [1, 1]$ and its dot product with the matrix\n",
        "\n",
        "$$Ro = \\begin{bmatrix} 2 & 0 \\\\ 0 & -2 \\end{bmatrix}$$\n",
        "\n",
        "$$y = x \\cdot Ro = [[-2, 2]]$$\n"
      ],
      "id": "89d65f35"
    },
    {
      "cell_type": "code",
      "metadata": {},
      "source": [
        "plot_vectors([x, y], axes=[4, 4], fname='transformx_and_y.svg')"
      ],
      "id": "28c8472c",
      "execution_count": null,
      "outputs": []
    },
    {
      "cell_type": "markdown",
      "metadata": {},
      "source": [
        "Note that the output vector `y` (blue) is transformed in another vector. \n",
        "\n",
        "### Example 2\n",
        "\n",
        "We are going to use Pyplot to inspect the effect of the rotation on 2D vectors visually. For that, we have created a function that takes care of all the intricate parts of the visual formatting. The following procedure plots an arrow within a Pyplot canvas.\n",
        "\n",
        "Data that is composed of 2 real attributes is telling to belong to a $ RxR $ or $ R^2 $ space. Rotation matrices in $R^2$ rotate a given vector $\\vec x$ by a counterclockwise angle $\\theta$ in a fixed coordinate system. Rotation matrices are of the form:\n",
        "\n",
        "$$Ro = \\begin{bmatrix} cos \\theta & -sin \\theta \\\\ sin \\theta & cos \\theta \\end{bmatrix}$$\n",
        "\n",
        "The trigonometric functions in Numpy require the angle in radians, not in degrees. In the next cell, we define a rotation matrix that rotates vectors by $45^o$.\n"
      ],
      "id": "69128a0a"
    },
    {
      "cell_type": "code",
      "metadata": {},
      "source": [
        "angle = 100 * (np.pi / 180) #convert degrees to radians\n",
        "\n",
        "Ro = np.array([[np.cos(angle), -np.sin(angle)],\n",
        "              [np.sin(angle), np.cos(angle)]])\n",
        "\n",
        "x2 = np.array([2, 2]).reshape(1, -1) # make it a row vector\n",
        "y2 = np.dot(x2, Ro)\n",
        "\n",
        "print('Rotation matrix')\n",
        "print(Ro)\n",
        "print('\\nRotated vector')\n",
        "print(y2)\n",
        "\n",
        "print('\\n x2 norm', np.linalg.norm(x2))\n",
        "print('\\n y2 norm', np.linalg.norm(y2))\n",
        "print('\\n Rotation matrix norm', np.linalg.norm(Ro))"
      ],
      "id": "3a88e91d",
      "execution_count": null,
      "outputs": []
    },
    {
      "cell_type": "code",
      "metadata": {},
      "source": [
        "plot_vectors([x2, y2], fname='transform_02.svg')"
      ],
      "id": "6f52ac28",
      "execution_count": null,
      "outputs": []
    },
    {
      "cell_type": "markdown",
      "metadata": {},
      "source": [
        "Some points to note:\n",
        "\n",
        "* The norm of the input vector is the same as the norm of the output vector. Rotations matrices do not modify the norm of the vector, only its direction.\n",
        "* The norm of any $R^2$ rotation matrix is always $\\sqrt 2 = 1.414221$\n",
        "\n",
        "## Frobenius Norm\n",
        "\n",
        "The Frobenius norm is the generalization to $R^2$ of the already known norm function for vectors \n",
        "\n",
        "$$\\| \\vec a \\| = \\sqrt {{\\vec a} \\cdot {\\vec a}} $$\n",
        "\n",
        "For a given $R^2$ matrix A, the frobenius norm is defined as:\n",
        "\n",
        "$$\\|\\mathrm{A}\\|_{F} \\equiv \\sqrt{\\sum_{i=1}^{m} \\sum_{j=1}^{n}\\left|a_{i j}\\right|^{2}}$$\n"
      ],
      "id": "8b5bb657"
    },
    {
      "cell_type": "code",
      "metadata": {},
      "source": [
        "A = np.array([[2, 2],\n",
        "              [2, 2]])"
      ],
      "id": "1f65e182",
      "execution_count": null,
      "outputs": []
    },
    {
      "cell_type": "markdown",
      "metadata": {},
      "source": [
        "`np.square()` is a way to square each element of a matrix. It must be equivalent to use the * operator in Numpy arrays.\n"
      ],
      "id": "3425884e"
    },
    {
      "cell_type": "code",
      "metadata": {},
      "source": [
        "A_squared = np.square(A)\n",
        "A_squared"
      ],
      "id": "c1def5a6",
      "execution_count": null,
      "outputs": []
    },
    {
      "cell_type": "markdown",
      "metadata": {},
      "source": [
        "Now we can sum over the elements of the resulting array, and then get the square root of the sum.\n"
      ],
      "id": "83d1a869"
    },
    {
      "cell_type": "code",
      "metadata": {},
      "source": [
        "A_Frobenius = np.sqrt(np.sum(A_squared))\n",
        "A_Frobenius"
      ],
      "id": "dc98960f",
      "execution_count": null,
      "outputs": []
    },
    {
      "cell_type": "markdown",
      "metadata": {},
      "source": [
        "That was the extended version of the `np.linalg.norm()` function. We can check that it yields the same result.\n"
      ],
      "id": "fc26c52c"
    },
    {
      "cell_type": "code",
      "metadata": {},
      "source": [
        "print('Frobenius norm of the Rotation matrix')\n",
        "print(np.sqrt(np.sum(Ro * Ro)), '== ', np.linalg.norm(Ro))"
      ],
      "id": "5d226015",
      "execution_count": null,
      "outputs": []
    },
    {
      "cell_type": "markdown",
      "metadata": {},
      "source": [
        "**Congratulations!! We've covered a few more matrix operations in this lab. This will come in handy in this week's programming assignment!**\n"
      ],
      "id": "caef3796"
    }
  ],
  "metadata": {
    "kernelspec": {
      "name": "python3",
      "language": "python",
      "display_name": "Python 3 (ipykernel)",
      "path": "/home/oren/.local/share/jupyter/kernels/python3"
    }
  },
  "nbformat": 4,
  "nbformat_minor": 5
}