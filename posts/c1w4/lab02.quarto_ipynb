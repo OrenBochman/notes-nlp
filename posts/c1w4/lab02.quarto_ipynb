{
  "cells": [
    {
      "cell_type": "markdown",
      "metadata": {},
      "source": [
        "---\n",
        "title: Hash functions and multiplanes\n",
        "jupyter: python3\n",
        "date: 2020-10-23\n",
        "categories: \n",
        "  - NLP \n",
        "  - Coursera \n",
        "  - Lab\n",
        "  - Word Embeddings\n",
        "  - Translation task\n",
        "  - Search Task\n",
        "---\n",
        "\n",
        "\n",
        "\n",
        "![course banner](/images/Course-Logo-1-3.webp){#fig-00 .column-margin .nolightbox}\n",
        "\n",
        "\n",
        "In this lab, we are going to practice the most important concepts related to the hash functions explained in the videos. We will be using these in this week's assignment.\n",
        "\n",
        "A key point for the lookup using hash functions is the calculation of the hash key or bucket id that we assign for a given entry. In this notebook, we will cover:\n",
        "\n",
        "* Basic hash tables\n",
        "* Multiplanes\n",
        "* Random planes\n",
        "\n",
        "\n",
        "## Basic Hash tables\n",
        "\n",
        "Hash tables are data structures that allow indexing data to make lookup tasks more efficient. \n",
        "In this part, we will see the implementation of the simplest hash function.\n"
      ],
      "id": "e3fa2bf6"
    },
    {
      "cell_type": "code",
      "metadata": {},
      "source": [
        "import numpy as np                # library for array and matrix manipulation\n",
        "import pprint                     # utilities for console printing \n",
        "from utils_nb import plot_vectors # helper function to plot vectors\n",
        "import matplotlib.pyplot as plt   # visualization library\n",
        "\n",
        "pp = pprint.PrettyPrinter(indent=4) # Instantiate a pretty printer"
      ],
      "id": "8765443a",
      "execution_count": null,
      "outputs": []
    },
    {
      "cell_type": "markdown",
      "metadata": {},
      "source": [
        "In the next cell, we will define a straightforward hash function for integer numbers. The function will receive a list of integer numbers and the desired amount of buckets. The function will produce a hash table stored as a dictionary, where keys contain the hash keys, and the values will provide the hashed elements of the input list. \n",
        "\n",
        "The hash function is just the remainder of the integer division between each element and the desired number of buckets.\n"
      ],
      "id": "b4f41aa8"
    },
    {
      "cell_type": "code",
      "metadata": {},
      "source": [
        "def basic_hash_table(value_l, n_buckets):\n",
        "    \n",
        "    def hash_function(value, n_buckets):\n",
        "        return int(value) % n_buckets\n",
        "    \n",
        "    hash_table = {i:[] for i in range(n_buckets)} # Initialize all the buckets in the hash table as empty lists\n",
        "\n",
        "    for value in value_l:\n",
        "        hash_value = hash_function(value,n_buckets) # Get the hash key for the given value\n",
        "        hash_table[hash_value].append(value) # Add the element to the corresponding bucket\n",
        "    \n",
        "    return hash_table"
      ],
      "id": "fabbf59b",
      "execution_count": null,
      "outputs": []
    },
    {
      "cell_type": "markdown",
      "metadata": {},
      "source": [
        "Now let's see the hash table function in action. The pretty print function (`pprint()`) will produce a visually appealing output. \n"
      ],
      "id": "da534dbf"
    },
    {
      "cell_type": "code",
      "metadata": {},
      "source": [
        "value_l = [100, 10, 14, 17, 97] # Set of values to hash\n",
        "hash_table_example = basic_hash_table(value_l, n_buckets=10)\n",
        "pp.pprint(hash_table_example)"
      ],
      "id": "9a5175c4",
      "execution_count": null,
      "outputs": []
    },
    {
      "cell_type": "markdown",
      "metadata": {},
      "source": [
        "In this case, the bucket key must be the rightmost digit of each number.\n",
        "\n",
        "## Planes\n",
        "\n",
        "Multiplanes hash functions are other types of hash functions. Multiplanes hash functions are based on the idea of numbering every single region that is formed by the intersection of n planes. In the following code, we show the most basic forms of the multiplanes principle. First, with a single plane:\n"
      ],
      "id": "c723405e"
    },
    {
      "cell_type": "code",
      "metadata": {},
      "source": [
        "P = np.array([[1, 1]]) # Define a single plane. \n",
        "fig, ax1 = plt.subplots(figsize=(8, 8)) # Create a plot\n",
        "\n",
        "plot_vectors([P], axes=[2, 2], ax=ax1) # Plot the plane P as a vector\n",
        "\n",
        "# Plot  random points. \n",
        "for i in range(0, 10):\n",
        "        v1 = np.array(np.random.uniform(-2, 2, 2)) # Get a pair of random numbers between -4 and 4 \n",
        "        side_of_plane = np.sign(np.dot(P, v1.T)) \n",
        "        \n",
        "        # Color the points depending on the sign of the result of np.dot(P, point.T)\n",
        "        if side_of_plane == 1:\n",
        "            ax1.plot([v1[0]], [v1[1]], 'bo') # Plot blue points\n",
        "        else:\n",
        "            ax1.plot([v1[0]], [v1[1]], 'ro') # Plot red points\n",
        "\n",
        "plt.show()"
      ],
      "id": "e3142244",
      "execution_count": null,
      "outputs": []
    },
    {
      "cell_type": "markdown",
      "metadata": {},
      "source": [
        "The first thing to note is that the vector that defines the plane does not mark the boundary between the two sides of the plane. It marks the direction in which we find the 'positive' side of the plane. Not intuitive at all!\n",
        "\n",
        "If we want to plot the separation plane, we need to plot a line that is perpendicular to our vector `P`. We can get such a line using a $90^o$ rotation matrix.\n",
        "\n",
        "Feel free to change the direction of the plane `P`.\n"
      ],
      "id": "4fc925ed"
    },
    {
      "cell_type": "code",
      "metadata": {},
      "source": [
        "P = np.array([[1, 2]])  # Define a single plane. We may change the direction\n",
        "\n",
        "# Get a new plane perpendicular to P. We use a rotation matrix\n",
        "PT = np.dot([[0, 1], [-1, 0]], P.T).T  \n",
        "\n",
        "fig, ax1 = plt.subplots(figsize=(8, 8)) # Create a plot with custom size\n",
        "\n",
        "plot_vectors([P], colors=['b'], axes=[2, 2], ax=ax1) # Plot the plane P as a vector\n",
        "\n",
        "# Plot the plane P as a 2 vectors. \n",
        "# We scale by 2 just to get the arrows outside the current box\n",
        "plot_vectors([PT * 4, PT * -4], colors=['k', 'k'], axes=[4, 4], ax=ax1)\n",
        "\n",
        "# Plot 20 random points. \n",
        "for i in range(0, 20):\n",
        "        v1 = np.array(np.random.uniform(-4, 4, 2)) # Get a pair of random numbers between -4 and 4 \n",
        "        side_of_plane = np.sign(np.dot(P, v1.T)) # Get the sign of the dot product with P\n",
        "        # Color the points depending on the sign of the result of np.dot(P, point.T)\n",
        "        if side_of_plane == 1:\n",
        "            ax1.plot([v1[0]], [v1[1]], 'bo') # Plot a blue point\n",
        "        else:\n",
        "            ax1.plot([v1[0]], [v1[1]], 'ro') # Plot a red point\n",
        "\n",
        "plt.show()"
      ],
      "id": "cb67b882",
      "execution_count": null,
      "outputs": []
    },
    {
      "cell_type": "markdown",
      "metadata": {},
      "source": [
        "Now, let us see what is inside the code that color the points. \n"
      ],
      "id": "d14f674a"
    },
    {
      "cell_type": "code",
      "metadata": {},
      "source": [
        "P = np.array([[1, 1]])      # Single plane\n",
        "v1 = np.array([[1, 2]])     # Sample point 1\n",
        "v2 = np.array([[-1, 1]])    # Sample point 2\n",
        "v3 = np.array([[-2, -1]])   # Sample point 3"
      ],
      "id": "01fe1b45",
      "execution_count": null,
      "outputs": []
    },
    {
      "cell_type": "code",
      "metadata": {},
      "source": [
        "np.dot(P, v1.T)"
      ],
      "id": "055f6da7",
      "execution_count": null,
      "outputs": []
    },
    {
      "cell_type": "code",
      "metadata": {},
      "source": [
        "np.dot(P, v2.T)"
      ],
      "id": "4b154606",
      "execution_count": null,
      "outputs": []
    },
    {
      "cell_type": "code",
      "metadata": {},
      "source": [
        "np.dot(P, v3.T)"
      ],
      "id": "94ef69a1",
      "execution_count": null,
      "outputs": []
    },
    {
      "cell_type": "markdown",
      "metadata": {},
      "source": [
        "The function below checks in which side of the plane P is located the vector `v`\n"
      ],
      "id": "0f5d6666"
    },
    {
      "cell_type": "code",
      "metadata": {},
      "source": [
        "def side_of_plane(P, v):\n",
        "    dotproduct = np.dot(P, v.T) # Get the dot product P * v'\n",
        "    sign_of_dot_product = np.sign(dotproduct) # The sign of the elements of the dotproduct matrix \n",
        "    sign_of_dot_product_scalar = sign_of_dot_product.item() # The value of the first item\n",
        "    return sign_of_dot_product_scalar"
      ],
      "id": "b80fe0ca",
      "execution_count": null,
      "outputs": []
    },
    {
      "cell_type": "code",
      "metadata": {},
      "source": [
        "side_of_plane(P, v1) # In which side is [1, 2]"
      ],
      "id": "263017d4",
      "execution_count": null,
      "outputs": []
    },
    {
      "cell_type": "code",
      "metadata": {},
      "source": [
        "side_of_plane(P, v2) # In which side is [-1, 1]"
      ],
      "id": "785df2df",
      "execution_count": null,
      "outputs": []
    },
    {
      "cell_type": "code",
      "metadata": {},
      "source": [
        "side_of_plane(P, v3) # In which side is [-2, -1]"
      ],
      "id": "e2e86a3e",
      "execution_count": null,
      "outputs": []
    },
    {
      "cell_type": "markdown",
      "metadata": {},
      "source": [
        "## Hash Function with multiple planes\n",
        "\n",
        "In the following section, we are going to define a hash function with a list of three custom planes in 2D.\n"
      ],
      "id": "ecdda276"
    },
    {
      "cell_type": "code",
      "metadata": {},
      "source": [
        "P1 = np.array([[1, 1]])   # First plane 2D\n",
        "P2 = np.array([[-1, 1]])  # Second plane 2D\n",
        "P3 = np.array([[-1, -1]]) # Third plane 2D\n",
        "P_l = [P1, P2, P3]  # List of arrays. It is the multi plane\n",
        "\n",
        "# Vector to search\n",
        "v = np.array([[2, 2]])"
      ],
      "id": "01313e18",
      "execution_count": null,
      "outputs": []
    },
    {
      "cell_type": "markdown",
      "metadata": {},
      "source": [
        "The next function creates a hash value based on a set of planes. The output value is a combination of the side of the plane where the vector is localized with respect to the collection of planes.\n",
        "\n",
        "We can think of this list of planes as a set of basic hash functions, each of which can produce only 1 or 0 as output.\n"
      ],
      "id": "5f8e360d"
    },
    {
      "cell_type": "code",
      "metadata": {},
      "source": [
        "def hash_multi_plane(P_l, v):\n",
        "    hash_value = 0\n",
        "    for i, P in enumerate(P_l):\n",
        "        sign = side_of_plane(P,v)\n",
        "        hash_i = 1 if sign >=0 else 0\n",
        "        hash_value += 2**i * hash_i\n",
        "    return hash_value"
      ],
      "id": "3235834f",
      "execution_count": null,
      "outputs": []
    },
    {
      "cell_type": "code",
      "metadata": {},
      "source": [
        "hash_multi_plane(P_l, v) # Find the number of the plane that containes this value"
      ],
      "id": "7de0bb22",
      "execution_count": null,
      "outputs": []
    },
    {
      "cell_type": "markdown",
      "metadata": {},
      "source": [
        "## Random Planes\n",
        "\n",
        "In the cell below, we create a set of three random planes\n"
      ],
      "id": "bb3a8b13"
    },
    {
      "cell_type": "code",
      "metadata": {},
      "source": [
        "np.random.seed(0)\n",
        "num_dimensions = 2 # is 300 in assignment\n",
        "num_planes = 3 # is 10 in assignment\n",
        "random_planes_matrix = np.random.normal(\n",
        "                       size=(num_planes,\n",
        "                             num_dimensions))\n",
        "print(random_planes_matrix)"
      ],
      "id": "f6a5455b",
      "execution_count": null,
      "outputs": []
    },
    {
      "cell_type": "code",
      "metadata": {},
      "source": [
        "v = np.array([[2, 2]])"
      ],
      "id": "436f5391",
      "execution_count": null,
      "outputs": []
    },
    {
      "cell_type": "markdown",
      "metadata": {},
      "source": [
        "The next function is similar to the `side_of_plane()` function, but it evaluates more than a plane each time. The result is an array with the side of the plane of `v`, for the set of planes `P`\n"
      ],
      "id": "d2b6d60f"
    },
    {
      "cell_type": "code",
      "metadata": {},
      "source": [
        "# Side of the plane function. The result is a matrix\n",
        "def side_of_plane_matrix(P, v):\n",
        "    dotproduct = np.dot(P, v.T)\n",
        "    sign_of_dot_product = np.sign(dotproduct) # Get a boolean value telling if the value in the cell is positive or negative\n",
        "    return sign_of_dot_product"
      ],
      "id": "fa625dbb",
      "execution_count": null,
      "outputs": []
    },
    {
      "cell_type": "markdown",
      "metadata": {},
      "source": [
        "Get the side of the plane of the vector `[2, 2]` for the set of random planes. \n"
      ],
      "id": "9c7e589f"
    },
    {
      "cell_type": "code",
      "metadata": {},
      "source": [
        "sides_l = side_of_plane_matrix(\n",
        "            random_planes_matrix, v)\n",
        "sides_l"
      ],
      "id": "32f4083d",
      "execution_count": null,
      "outputs": []
    },
    {
      "cell_type": "markdown",
      "metadata": {},
      "source": [
        "Now, let us use the former function to define our multiplane hash function\n"
      ],
      "id": "c74c0179"
    },
    {
      "cell_type": "code",
      "metadata": {},
      "source": [
        "def hash_multi_plane_matrix(P, v, num_planes):\n",
        "    sides_matrix = side_of_plane_matrix(P, v) # Get the side of planes for P and v\n",
        "    hash_value = 0\n",
        "    for i in range(num_planes):\n",
        "        sign = sides_matrix[i].item() # Get the value inside the matrix cell\n",
        "        hash_i = 1 if sign >=0 else 0\n",
        "        hash_value += 2**i * hash_i # sum 2^i * hash_i\n",
        "        \n",
        "    return hash_value"
      ],
      "id": "1846d9dd",
      "execution_count": null,
      "outputs": []
    },
    {
      "cell_type": "markdown",
      "metadata": {},
      "source": [
        "Print the bucket hash for the vector `v = [2, 2]`. \n"
      ],
      "id": "7077af64"
    },
    {
      "cell_type": "code",
      "metadata": {},
      "source": [
        "hash_multi_plane_matrix(random_planes_matrix, v, num_planes)"
      ],
      "id": "0921e1a4",
      "execution_count": null,
      "outputs": []
    },
    {
      "cell_type": "markdown",
      "metadata": {},
      "source": [
        "#### Note\n",
        "This showed we how to make one set of random planes.  We will make multiple sets of random planes in order to make the approximate nearest neighbors more accurate.\n",
        "\n",
        "## Document vectors\n",
        "\n",
        "Before we finish this lab, remember that we can represent a document as a vector by adding up the word vectors for the words inside the document. In this example, our embedding contains only three words, each represented by a 3D array.\n"
      ],
      "id": "ffc0945d"
    },
    {
      "cell_type": "code",
      "metadata": {},
      "source": [
        "word_embedding = {\"I\": np.array([1,0,1]),\n",
        "                   \"love\": np.array([-1,0,1]),\n",
        "                   \"learning\": np.array([1,0,1])\n",
        "                  }\n",
        "words_in_document = ['I', 'love', 'learning', 'not_a_word']\n",
        "document_embedding = np.array([0,0,0])\n",
        "for word in words_in_document:\n",
        "    document_embedding += word_embedding.get(word,0)\n",
        "    \n",
        "print(document_embedding)"
      ],
      "id": "09316266",
      "execution_count": null,
      "outputs": []
    },
    {
      "cell_type": "markdown",
      "metadata": {},
      "source": [
        "**Congratulations! You've now completed this lab on hash functions and multiplanes!**\n"
      ],
      "id": "a52524a2"
    }
  ],
  "metadata": {
    "kernelspec": {
      "name": "python3",
      "language": "python",
      "display_name": "Python 3 (ipykernel)",
      "path": "/home/oren/.local/share/jupyter/kernels/python3"
    }
  },
  "nbformat": 4,
  "nbformat_minor": 5
}