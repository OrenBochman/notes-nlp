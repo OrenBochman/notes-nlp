{
 "cells": [
  {
   "cell_type": "code",
   "execution_count": 1,
   "id": "df31a228",
   "metadata": {},
   "outputs": [
    {
     "name": "stderr",
     "output_type": "stream",
     "text": [
      "/tmp/ipykernel_169717/997192025.py:25: DeprecationWarning: `set_matplotlib_formats` is deprecated since IPython 7.23, directly use `matplotlib_inline.backend_inline.set_matplotlib_formats()`\n",
      "  set_matplotlib_formats(fig_format)\n"
     ]
    },
    {
     "name": "stdout",
     "output_type": "stream",
     "text": [
      "{\"/usr/lib/python3.10/importlib/_bootstrap.py\": 1737124534.0, \"/usr/lib/python3.10/importlib/_bootstrap_external.py\": 1737124534.0, \"/usr/lib/python3.10/codecs.py\": 1737124534.0, \"/usr/lib/python3.10/encodings/aliases.py\": 1737124534.0, \"/usr/lib/python3.10/encodings/__init__.py\": 1737124534.0, \"/usr/lib/python3.10/encodings/utf_8.py\": 1737124534.0, \"/usr/lib/python3.10/abc.py\": 1737124534.0, \"/usr/lib/python3.10/io.py\": 1737124534.0, \"/usr/lib/python3.10/stat.py\": 1737124534.0, \"/usr/lib/python3.10/_collections_abc.py\": 1737124534.0, \"/usr/lib/python3.10/genericpath.py\": 1737124534.0, \"/usr/lib/python3.10/posixpath.py\": 1737124534.0, \"/usr/lib/python3.10/os.py\": 1737124534.0, \"/usr/lib/python3.10/_sitebuiltins.py\": 1737124534.0, \"/usr/lib/python3.10/types.py\": 1737124534.0, \"/usr/lib/python3.10/warnings.py\": 1737124534.0, \"/usr/lib/python3.10/importlib/__init__.py\": 1737124534.0, \"/usr/lib/python3.10/importlib/_abc.py\": 1737124534.0, \"/usr/lib/python3.10/keyword.py\": 1737124534.0, \"/usr/lib/python3.10/operator.py\": 1737124534.0, \"/usr/lib/python3.10/reprlib.py\": 1737124534.0, \"/usr/lib/python3.10/collections/__init__.py\": 1737124534.0, \"/usr/lib/python3.10/functools.py\": 1737124534.0, \"/usr/lib/python3.10/contextlib.py\": 1737124534.0, \"/usr/lib/python3.10/importlib/util.py\": 1737124534.0, \"/usr/lib/python3.10/importlib/machinery.py\": 1737124534.0, \"/usr/lib/python3.10/sitecustomize.py\": 1648890259.0, \"/usr/lib/python3.10/site.py\": 1737124534.0, \"/usr/lib/python3.10/runpy.py\": 1737124534.0, \"/usr/lib/python3.10/enum.py\": 1737124534.0, \"/usr/lib/python3.10/sre_constants.py\": 1737124534.0, \"/usr/lib/python3.10/sre_parse.py\": 1737124534.0, \"/usr/lib/python3.10/sre_compile.py\": 1737124534.0, \"/usr/lib/python3.10/copyreg.py\": 1737124534.0, \"/usr/lib/python3.10/re.py\": 1737124534.0, \"/usr/lib/python3.10/fnmatch.py\": 1737124534.0, \"/usr/lib/python3.10/ntpath.py\": 1737124534.0, \"/usr/lib/python3.10/urllib/__init__.py\": 1737124534.0, \"/usr/lib/python3.10/ipaddress.py\": 1737124534.0, \"/usr/lib/python3.10/urllib/parse.py\": 1737124534.0, \"/usr/lib/python3.10/pathlib.py\": 1737124534.0, \"/usr/lib/python3.10/collections/abc.py\": 1737124534.0, \"/usr/lib/python3.10/typing.py\": 1737124534.0, \"/home/oren/work/notes/notes-nlp/.venv/lib/python3.10/site-packages/ipykernel/_version.py\": 1738211119.9207983, \"/usr/lib/python3.10/__future__.py\": 1737124534.0, \"/usr/lib/python3.10/lib-dynload/_json.cpython-310-x86_64-linux-gnu.so\": 1737124534.0, \"/usr/lib/python3.10/json/scanner.py\": 1737124534.0, \"/usr/lib/python3.10/json/decoder.py\": 1737124534.0, \"/usr/lib/python3.10/json/encoder.py\": 1737124534.0, \"/usr/lib/python3.10/json/__init__.py\": 1737124534.0, \"/usr/lib/python3.10/signal.py\": 1737124534.0, \"/usr/lib/python3.10/_weakrefset.py\": 1737124534.0, \"/usr/lib/python3.10/threading.py\": 1737124534.0, \"/usr/lib/python3.10/selectors.py\": 1737124534.0, \"/usr/lib/python3.10/subprocess.py\": 1737124534.0, \"/home/oren/work/notes/notes-nlp/.venv/lib/python3.10/site-packages/jupyter_client/_version.py\": 1738211114.6098826, \"/usr/lib/python3.10/platform.py\": 1737124534.0, \"/home/oren/work/notes/notes-nlp/.venv/lib/python3.10/site-packages/zmq/backend/select.py\": 1738206368.5046568, \"/usr/lib/python3.10/weakref.py\": 1737124534.0, \"/home/oren/work/notes/notes-nlp/.venv/lib/python3.10/site-packages/zmq/constants.py\": 1738206368.5006568, \"/home/oren/work/notes/notes-nlp/.venv/lib/python3.10/site-packages/zmq/error.py\": 1738206368.499657, \"/home/oren/work/notes/notes-nlp/.venv/lib/python3.10/site-packages/zmq/backend/cython/_zmq.cpython-310-x86_64-linux-gnu.so\": 1738206368.506657, \"/home/oren/work/notes/notes-nlp/.venv/lib/python3.10/site-packages/zmq/backend/cython/__init__.py\": 1738206368.5076568, \"/home/oren/work/notes/notes-nlp/.venv/lib/python3.10/site-packages/zmq/backend/__init__.py\": 1738206368.5046568, \"/home/oren/work/notes/notes-nlp/.venv/lib/python3.10/site-packages/zmq/_typing.py\": 1738206368.5006568, \"/home/oren/work/notes/notes-nlp/.venv/lib/python3.10/site-packages/zmq/utils/__init__.py\": 1738206368.502657, \"/home/oren/work/notes/notes-nlp/.venv/lib/python3.10/site-packages/zmq/utils/interop.py\": 1738206368.502657, \"/home/oren/work/notes/notes-nlp/.venv/lib/python3.10/site-packages/zmq/sugar/attrsettr.py\": 1738206368.502657, \"/usr/lib/python3.10/struct.py\": 1737124534.0, \"/usr/lib/python3.10/_compat_pickle.py\": 1737124534.0, \"/usr/lib/python3.10/pickle.py\": 1737124534.0, \"/usr/lib/python3.10/bisect.py\": 1737124534.0, \"/usr/lib/python3.10/random.py\": 1737124534.0, \"/home/oren/work/notes/notes-nlp/.venv/lib/python3.10/site-packages/zmq/utils/jsonapi.py\": 1738206368.5036569, \"/home/oren/work/notes/notes-nlp/.venv/lib/python3.10/site-packages/zmq/sugar/poll.py\": 1738206368.5016568, \"/home/oren/work/notes/notes-nlp/.venv/lib/python3.10/site-packages/zmq/sugar/socket.py\": 1738206368.5016568, \"/home/oren/work/notes/notes-nlp/.venv/lib/python3.10/site-packages/zmq/sugar/context.py\": 1738206368.5016568, \"/home/oren/work/notes/notes-nlp/.venv/lib/python3.10/site-packages/zmq/sugar/frame.py\": 1738206368.5016568, \"/home/oren/work/notes/notes-nlp/.venv/lib/python3.10/site-packages/zmq/sugar/tracker.py\": 1738206368.5016568, \"/home/oren/work/notes/notes-nlp/.venv/lib/python3.10/site-packages/zmq/sugar/version.py\": 1738206368.502657, \"/home/oren/work/notes/notes-nlp/.venv/lib/python3.10/site-packages/zmq/sugar/stopwatch.py\": 1738206368.5016568, \"/home/oren/work/notes/notes-nlp/.venv/lib/python3.10/site-packages/zmq/sugar/__init__.py\": 1738206368.502657, \"/home/oren/work/notes/notes-nlp/.venv/lib/python3.10/site-packages/zmq/__init__.py\": 1738206368.5006568, \"/usr/lib/python3.10/concurrent/__init__.py\": 1737124534.0, \"/usr/lib/python3.10/token.py\": 1737124534.0, \"/usr/lib/python3.10/tokenize.py\": 1737124534.0, \"/usr/lib/python3.10/linecache.py\": 1737124534.0, \"/usr/lib/python3.10/traceback.py\": 1737124534.0, \"/usr/lib/python3.10/string.py\": 1737124534.0, \"/usr/lib/python3.10/logging/__init__.py\": 1737124534.0, \"/usr/lib/python3.10/concurrent/futures/_base.py\": 1737124534.0, \"/usr/lib/python3.10/concurrent/futures/__init__.py\": 1737124534.0, \"/usr/lib/python3.10/heapq.py\": 1737124534.0, \"/usr/lib/python3.10/socket.py\": 1737124534.0, \"/usr/lib/python3.10/lib-dynload/_ssl.cpython-310-x86_64-linux-gnu.so\": 1737124534.0, \"/usr/lib/python3.10/base64.py\": 1737124534.0, \"/usr/lib/python3.10/ssl.py\": 1737124534.0, \"/usr/lib/python3.10/asyncio/constants.py\": 1737124534.0, \"/usr/lib/python3.10/ast.py\": 1737124534.0, \"/usr/lib/python3.10/lib-dynload/_opcode.cpython-310-x86_64-linux-gnu.so\": 1737124534.0, \"/usr/lib/python3.10/opcode.py\": 1737124534.0, \"/usr/lib/python3.10/dis.py\": 1737124534.0, \"/usr/lib/python3.10/inspect.py\": 1737124534.0, \"/usr/lib/python3.10/asyncio/format_helpers.py\": 1737124534.0, \"/usr/lib/python3.10/asyncio/base_futures.py\": 1737124534.0, \"/usr/lib/python3.10/asyncio/log.py\": 1737124534.0, \"/usr/lib/python3.10/asyncio/coroutines.py\": 1737124534.0, \"/usr/lib/python3.10/lib-dynload/_contextvars.cpython-310-x86_64-linux-gnu.so\": 1737124534.0, \"/usr/lib/python3.10/contextvars.py\": 1737124534.0, \"/usr/lib/python3.10/asyncio/exceptions.py\": 1737124534.0, \"/usr/lib/python3.10/asyncio/base_tasks.py\": 1737124534.0, \"/usr/lib/python3.10/lib-dynload/_asyncio.cpython-310-x86_64-linux-gnu.so\": 1737124534.0, \"/usr/lib/python3.10/asyncio/events.py\": 1737124534.0, \"/usr/lib/python3.10/asyncio/futures.py\": 1737124534.0, \"/usr/lib/python3.10/asyncio/protocols.py\": 1737124534.0, \"/usr/lib/python3.10/asyncio/transports.py\": 1737124534.0, \"/usr/lib/python3.10/asyncio/sslproto.py\": 1737124534.0, \"/usr/lib/python3.10/asyncio/mixins.py\": 1737124534.0, \"/usr/lib/python3.10/asyncio/tasks.py\": 1737124534.0, \"/usr/lib/python3.10/asyncio/locks.py\": 1737124534.0, \"/usr/lib/python3.10/asyncio/staggered.py\": 1737124534.0, \"/usr/lib/python3.10/asyncio/trsock.py\": 1737124534.0, \"/usr/lib/python3.10/asyncio/base_events.py\": 1737124534.0, \"/usr/lib/python3.10/asyncio/runners.py\": 1737124534.0, \"/usr/lib/python3.10/asyncio/queues.py\": 1737124534.0, \"/usr/lib/python3.10/asyncio/streams.py\": 1737124534.0, \"/usr/lib/python3.10/asyncio/subprocess.py\": 1737124534.0, \"/usr/lib/python3.10/asyncio/threads.py\": 1737124534.0, \"/usr/lib/python3.10/asyncio/base_subprocess.py\": 1737124534.0, \"/usr/lib/python3.10/asyncio/selector_events.py\": 1737124534.0, \"/usr/lib/python3.10/asyncio/unix_events.py\": 1737124534.0, \"/usr/lib/python3.10/asyncio/__init__.py\": 1737124534.0, \"/home/oren/work/notes/notes-nlp/.venv/lib/python3.10/site-packages/zmq/_future.py\": 1738206368.5006568, \"/home/oren/work/notes/notes-nlp/.venv/lib/python3.10/site-packages/zmq/asyncio.py\": 1738206368.5006568, \"/home/oren/work/notes/notes-nlp/.venv/lib/python3.10/site-packages/traitlets/utils/__init__.py\": 1738206367.9186664, \"/home/oren/work/notes/notes-nlp/.venv/lib/python3.10/site-packages/traitlets/utils/bunch.py\": 1738206367.9186664, \"/home/oren/work/notes/notes-nlp/.venv/lib/python3.10/site-packages/traitlets/utils/descriptions.py\": 1738206367.9186664, \"/home/oren/work/notes/notes-nlp/.venv/lib/python3.10/site-packages/traitlets/utils/getargspec.py\": 1738206367.9186664, \"/home/oren/work/notes/notes-nlp/.venv/lib/python3.10/site-packages/traitlets/utils/importstring.py\": 1738206367.9186664, \"/home/oren/work/notes/notes-nlp/.venv/lib/python3.10/site-packages/traitlets/utils/sentinel.py\": 1738206367.9186664, \"/home/oren/work/notes/notes-nlp/.venv/lib/python3.10/site-packages/traitlets/utils/warnings.py\": 1738206367.9186664, \"/home/oren/work/notes/notes-nlp/.venv/lib/python3.10/site-packages/traitlets/traitlets.py\": 1738206367.9166663, \"/home/oren/work/notes/notes-nlp/.venv/lib/python3.10/site-packages/traitlets/_version.py\": 1738206367.9166663, \"/usr/lib/python3.10/copy.py\": 1737124534.0, \"/home/oren/work/notes/notes-nlp/.venv/lib/python3.10/site-packages/traitlets/utils/decorators.py\": 1738206367.9186664, \"/home/oren/work/notes/notes-nlp/.venv/lib/python3.10/site-packages/traitlets/__init__.py\": 1738206367.9166663, \"/usr/lib/python3.10/lib-dynload/_queue.cpython-310-x86_64-linux-gnu.so\": 1737124534.0, \"/usr/lib/python3.10/queue.py\": 1737124534.0, \"/home/oren/work/notes/notes-nlp/.venv/lib/python3.10/site-packages/jupyter_core/version.py\": 1738208869.5355554, \"/home/oren/work/notes/notes-nlp/.venv/lib/python3.10/site-packages/jupyter_core/__init__.py\": 1738208869.5345554, \"/home/oren/work/notes/notes-nlp/.venv/lib/python3.10/site-packages/jupyter_core/utils/__init__.py\": 1738208869.5355554, \"/home/oren/work/notes/notes-nlp/.venv/lib/python3.10/site-packages/jupyter_client/channelsabc.py\": 1738211114.6108825, \"/usr/lib/python3.10/lib-dynload/_hashlib.cpython-310-x86_64-linux-gnu.so\": 1737124534.0, \"/usr/lib/python3.10/hashlib.py\": 1737124534.0, \"/usr/lib/python3.10/hmac.py\": 1737124534.0, \"/usr/lib/python3.10/dataclasses.py\": 1737124534.0, \"/usr/lib/python3.10/pprint.py\": 1737124534.0, \"/usr/lib/python3.10/datetime.py\": 1737124534.0, \"/home/oren/work/notes/notes-nlp/.venv/lib/python3.10/site-packages/tornado/__init__.py\": 1738206367.9876652, \"/usr/lib/python3.10/numbers.py\": 1737124534.0, \"/usr/lib/python3.10/logging/handlers.py\": 1737124534.0, \"/usr/lib/python3.10/html/entities.py\": 1737124534.0, \"/usr/lib/python3.10/html/__init__.py\": 1737124534.0, \"/home/oren/work/notes/notes-nlp/.venv/lib/python3.10/site-packages/tornado/speedups.abi3.so\": 1738206367.988665, \"/home/oren/work/notes/notes-nlp/.venv/lib/python3.10/site-packages/tornado/util.py\": 1738206367.9876652, \"/home/oren/work/notes/notes-nlp/.venv/lib/python3.10/site-packages/tornado/escape.py\": 1738206367.9906652, \"/usr/lib/python3.10/lib-dynload/_curses.cpython-310-x86_64-linux-gnu.so\": 1737124534.0, \"/usr/lib/python3.10/curses/__init__.py\": 1737124534.0, \"/home/oren/work/notes/notes-nlp/.venv/lib/python3.10/site-packages/tornado/log.py\": 1738206367.988665, \"/home/oren/work/notes/notes-nlp/.venv/lib/python3.10/site-packages/tornado/concurrent.py\": 1738206367.9876652, \"/home/oren/work/notes/notes-nlp/.venv/lib/python3.10/site-packages/tornado/ioloop.py\": 1738206367.9906652, \"/usr/lib/python3.10/socketserver.py\": 1737124534.0, \"/usr/lib/python3.10/logging/config.py\": 1737124534.0, \"/usr/lib/python3.10/textwrap.py\": 1737124534.0, \"/home/oren/work/notes/notes-nlp/.venv/lib/python3.10/site-packages/traitlets/utils/text.py\": 1738206367.9186664, \"/usr/lib/python3.10/gettext.py\": 1737124534.0, \"/usr/lib/python3.10/argparse.py\": 1737124534.0, \"/home/oren/work/notes/notes-nlp/.venv/lib/python3.10/site-packages/traitlets/config/loader.py\": 1738206367.9176664, \"/home/oren/work/notes/notes-nlp/.venv/lib/python3.10/site-packages/traitlets/config/configurable.py\": 1738206367.9176664, \"/home/oren/work/notes/notes-nlp/.venv/lib/python3.10/site-packages/traitlets/utils/nested_update.py\": 1738206367.9186664, \"/home/oren/work/notes/notes-nlp/.venv/lib/python3.10/site-packages/traitlets/config/application.py\": 1738206367.9176664, \"/home/oren/work/notes/notes-nlp/.venv/lib/python3.10/site-packages/traitlets/config/__init__.py\": 1738206367.9166663, \"/home/oren/work/notes/notes-nlp/.venv/lib/python3.10/site-packages/traitlets/log.py\": 1738206367.9166663, \"/home/oren/work/notes/notes-nlp/.venv/lib/python3.10/site-packages/zmq/eventloop/__init__.py\": 1738206368.5086567, \"/home/oren/work/notes/notes-nlp/.venv/lib/python3.10/site-packages/zmq/eventloop/zmqstream.py\": 1738206368.5086567, \"/home/oren/work/notes/notes-nlp/.venv/lib/python3.10/site-packages/jupyter_client/adapter.py\": 1738211114.6098826, \"/home/oren/work/notes/notes-nlp/.venv/lib/python3.10/site-packages/dateutil/_version.py\": 1738206446.0323966, \"/home/oren/work/notes/notes-nlp/.venv/lib/python3.10/site-packages/dateutil/__init__.py\": 1738206446.0323966, \"/usr/lib/python3.10/locale.py\": 1737124534.0, \"/usr/lib/python3.10/calendar.py\": 1737124534.0, \"/home/oren/work/notes/notes-nlp/.venv/lib/python3.10/site-packages/six.py\": 1738206368.3916585, \"/usr/lib/python3.10/lib-dynload/_decimal.cpython-310-x86_64-linux-gnu.so\": 1737124534.0, \"/usr/lib/python3.10/decimal.py\": 1737124534.0, \"/home/oren/work/notes/notes-nlp/.venv/lib/python3.10/site-packages/dateutil/_common.py\": 1738206446.0323966, \"/home/oren/work/notes/notes-nlp/.venv/lib/python3.10/site-packages/dateutil/relativedelta.py\": 1738206446.0323966, \"/home/oren/work/notes/notes-nlp/.venv/lib/python3.10/site-packages/dateutil/tz/_common.py\": 1738206446.0333965, \"/home/oren/work/notes/notes-nlp/.venv/lib/python3.10/site-packages/dateutil/tz/_factories.py\": 1738206446.0333965, \"/home/oren/work/notes/notes-nlp/.venv/lib/python3.10/site-packages/dateutil/tz/tz.py\": 1738206446.0343966, \"/home/oren/work/notes/notes-nlp/.venv/lib/python3.10/site-packages/dateutil/tz/__init__.py\": 1738206446.0333965, \"/home/oren/work/notes/notes-nlp/.venv/lib/python3.10/site-packages/dateutil/parser/_parser.py\": 1738206446.0333965, \"/home/oren/work/notes/notes-nlp/.venv/lib/python3.10/site-packages/dateutil/parser/isoparser.py\": 1738206446.0333965, \"/home/oren/work/notes/notes-nlp/.venv/lib/python3.10/site-packages/dateutil/parser/__init__.py\": 1738206446.0333965, \"/usr/lib/python3.10/_strptime.py\": 1737124534.0, \"/home/oren/work/notes/notes-nlp/.venv/lib/python3.10/site-packages/jupyter_client/jsonutil.py\": 1738211114.6108825, \"/home/oren/work/notes/notes-nlp/.venv/lib/python3.10/site-packages/jupyter_client/session.py\": 1738211114.6128826, \"/home/oren/work/notes/notes-nlp/.venv/lib/python3.10/site-packages/jupyter_client/channels.py\": 1738211114.6098826, \"/usr/lib/python3.10/lib-dynload/termios.cpython-310-x86_64-linux-gnu.so\": 1737124534.0, \"/usr/lib/python3.10/getpass.py\": 1737124534.0, \"/home/oren/work/notes/notes-nlp/.venv/lib/python3.10/site-packages/jupyter_client/clientabc.py\": 1738211114.6108825, \"/usr/lib/python3.10/glob.py\": 1737124534.0, \"/usr/lib/python3.10/_compression.py\": 1737124534.0, \"/usr/lib/python3.10/lib-dynload/_bz2.cpython-310-x86_64-linux-gnu.so\": 1737124534.0, \"/usr/lib/python3.10/bz2.py\": 1737124534.0, \"/usr/lib/python3.10/lib-dynload/_lzma.cpython-310-x86_64-linux-gnu.so\": 1737124534.0, \"/usr/lib/python3.10/lzma.py\": 1737124534.0, \"/usr/lib/python3.10/shutil.py\": 1737124534.0, \"/usr/lib/python3.10/tempfile.py\": 1737124534.0, \"/home/oren/work/notes/notes-nlp/.venv/lib/python3.10/site-packages/platformdirs/api.py\": 1738206370.402626, \"/home/oren/work/notes/notes-nlp/.venv/lib/python3.10/site-packages/platformdirs/version.py\": 1738206370.402626, \"/usr/lib/python3.10/configparser.py\": 1737124534.0, \"/home/oren/work/notes/notes-nlp/.venv/lib/python3.10/site-packages/platformdirs/unix.py\": 1738206370.402626, \"/home/oren/work/notes/notes-nlp/.venv/lib/python3.10/site-packages/platformdirs/__init__.py\": 1738206370.4016259, \"/home/oren/work/notes/notes-nlp/.venv/lib/python3.10/site-packages/jupyter_core/paths.py\": 1738208869.5355554, \"/home/oren/work/notes/notes-nlp/.venv/lib/python3.10/site-packages/jupyter_client/localinterfaces.py\": 1738211114.6118827, \"/home/oren/work/notes/notes-nlp/.venv/lib/python3.10/site-packages/jupyter_client/utils.py\": 1738211114.6128826, \"/home/oren/work/notes/notes-nlp/.venv/lib/python3.10/site-packages/jupyter_client/connect.py\": 1738211114.6108825, \"/home/oren/work/notes/notes-nlp/.venv/lib/python3.10/site-packages/jupyter_client/client.py\": 1738211114.6108825, \"/home/oren/work/notes/notes-nlp/.venv/lib/python3.10/site-packages/jupyter_client/asynchronous/client.py\": 1738211114.6128826, \"/home/oren/work/notes/notes-nlp/.venv/lib/python3.10/site-packages/jupyter_client/asynchronous/__init__.py\": 1738211114.6128826, \"/home/oren/work/notes/notes-nlp/.venv/lib/python3.10/site-packages/jupyter_client/blocking/client.py\": 1738211114.6128826, \"/home/oren/work/notes/notes-nlp/.venv/lib/python3.10/site-packages/jupyter_client/blocking/__init__.py\": 1738211114.6128826, \"/home/oren/work/notes/notes-nlp/.venv/lib/python3.10/site-packages/jupyter_client/launcher.py\": 1738211114.6118827, \"/usr/lib/python3.10/lib-dynload/_uuid.cpython-310-x86_64-linux-gnu.so\": 1737124534.0, \"/usr/lib/python3.10/uuid.py\": 1737124534.0, \"/usr/lib/python3.10/csv.py\": 1737124534.0, \"/usr/lib/python3.10/email/__init__.py\": 1737124534.0, \"/usr/lib/python3.10/zipfile.py\": 1737124534.0, \"/usr/lib/python3.10/uu.py\": 1737124534.0, \"/usr/lib/python3.10/quopri.py\": 1737124534.0, \"/usr/lib/python3.10/email/_parseaddr.py\": 1737124534.0, \"/usr/lib/python3.10/email/base64mime.py\": 1737124534.0, \"/usr/lib/python3.10/email/quoprimime.py\": 1737124534.0, \"/usr/lib/python3.10/email/errors.py\": 1737124534.0, \"/usr/lib/python3.10/email/encoders.py\": 1737124534.0, \"/usr/lib/python3.10/email/charset.py\": 1737124534.0, \"/usr/lib/python3.10/email/utils.py\": 1737124534.0, \"/usr/lib/python3.10/email/header.py\": 1737124534.0, \"/usr/lib/python3.10/email/_policybase.py\": 1737124534.0, \"/usr/lib/python3.10/email/_encoded_words.py\": 1737124534.0, \"/usr/lib/python3.10/email/iterators.py\": 1737124534.0, \"/usr/lib/python3.10/email/message.py\": 1737124534.0, \"/usr/lib/python3.10/importlib/metadata/_functools.py\": 1737124534.0, \"/usr/lib/python3.10/importlib/metadata/_text.py\": 1737124534.0, \"/usr/lib/python3.10/importlib/metadata/_adapters.py\": 1737124534.0, \"/usr/lib/python3.10/importlib/metadata/_meta.py\": 1737124534.0, \"/usr/lib/python3.10/importlib/metadata/_collections.py\": 1737124534.0, \"/usr/lib/python3.10/importlib/metadata/_itertools.py\": 1737124534.0, \"/usr/lib/python3.10/importlib/abc.py\": 1737124534.0, \"/usr/lib/python3.10/importlib/metadata/__init__.py\": 1737124534.0, \"/home/oren/work/notes/notes-nlp/.venv/lib/python3.10/site-packages/jupyter_client/provisioning/provisioner_base.py\": 1738211114.6138825, \"/home/oren/work/notes/notes-nlp/.venv/lib/python3.10/site-packages/jupyter_client/provisioning/factory.py\": 1738211114.6138825, \"/home/oren/work/notes/notes-nlp/.venv/lib/python3.10/site-packages/jupyter_client/provisioning/local_provisioner.py\": 1738211114.6138825, \"/home/oren/work/notes/notes-nlp/.venv/lib/python3.10/site-packages/jupyter_client/provisioning/__init__.py\": 1738211114.6128826, \"/home/oren/work/notes/notes-nlp/.venv/lib/python3.10/site-packages/jupyter_client/kernelspec.py\": 1738211114.6108825, \"/home/oren/work/notes/notes-nlp/.venv/lib/python3.10/site-packages/jupyter_client/managerabc.py\": 1738211114.6118827, \"/home/oren/work/notes/notes-nlp/.venv/lib/python3.10/site-packages/jupyter_client/manager.py\": 1738211114.6118827, \"/home/oren/work/notes/notes-nlp/.venv/lib/python3.10/site-packages/jupyter_client/multikernelmanager.py\": 1738211114.6118827, \"/home/oren/work/notes/notes-nlp/.venv/lib/python3.10/site-packages/jupyter_client/__init__.py\": 1738211114.6098826, \"/home/oren/work/notes/notes-nlp/.venv/lib/python3.10/site-packages/ipykernel/connect.py\": 1738211119.9207983, \"/home/oren/work/notes/notes-nlp/.venv/lib/python3.10/site-packages/ipykernel/__init__.py\": 1738211119.9197984, \"/home/oren/work/notes/notes-nlp/.venv/lib/python3.10/site-packages/IPython/core/__init__.py\": 1738211116.355855, \"/home/oren/work/notes/notes-nlp/.venv/lib/python3.10/site-packages/IPython/core/getipython.py\": 1738211116.3588548, \"/home/oren/work/notes/notes-nlp/.venv/lib/python3.10/site-packages/IPython/core/release.py\": 1738211116.3618548, \"/usr/lib/python3.10/pkgutil.py\": 1737124534.0, \"/usr/lib/python3.10/sysconfig.py\": 1737124534.0, \"/usr/lib/python3.10/_sysconfigdata__x86_64-linux-gnu.py\": 1737124534.0, \"/usr/lib/python3.10/pydoc.py\": 1737124534.0, \"/home/oren/work/notes/notes-nlp/.venv/lib/python3.10/site-packages/executing/executing.py\": 1738208871.3485265, \"/home/oren/work/notes/notes-nlp/.venv/lib/python3.10/site-packages/executing/_pytest_utils.py\": 1738208871.3485265, \"/home/oren/work/notes/notes-nlp/.venv/lib/python3.10/site-packages/executing/version.py\": 1738208871.3485265, \"/home/oren/work/notes/notes-nlp/.venv/lib/python3.10/site-packages/executing/__init__.py\": 1738208871.3485265, \"/home/oren/work/notes/notes-nlp/.venv/lib/python3.10/site-packages/asttokens/line_numbers.py\": 1738208872.4535089, \"/home/oren/work/notes/notes-nlp/.venv/lib/python3.10/site-packages/asttokens/util.py\": 1738208872.4535089, \"/home/oren/work/notes/notes-nlp/.venv/lib/python3.10/site-packages/asttokens/asttokens.py\": 1738208872.4535089, \"/home/oren/work/notes/notes-nlp/.venv/lib/python3.10/site-packages/asttokens/__init__.py\": 1738208872.4535089, \"/usr/lib/python3.10/fractions.py\": 1737124534.0, \"/home/oren/work/notes/notes-nlp/.venv/lib/python3.10/site-packages/pure_eval/utils.py\": 1738206365.9996974, \"/home/oren/work/notes/notes-nlp/.venv/lib/python3.10/site-packages/pure_eval/my_getattr_static.py\": 1738206365.9986975, \"/home/oren/work/notes/notes-nlp/.venv/lib/python3.10/site-packages/pure_eval/core.py\": 1738206365.9986975, \"/home/oren/work/notes/notes-nlp/.venv/lib/python3.10/site-packages/pure_eval/version.py\": 1738206365.9996974, \"/home/oren/work/notes/notes-nlp/.venv/lib/python3.10/site-packages/pure_eval/__init__.py\": 1738206365.9986975, \"/home/oren/work/notes/notes-nlp/.venv/lib/python3.10/site-packages/stack_data/utils.py\": 1738208872.5905068, \"/home/oren/work/notes/notes-nlp/.venv/lib/python3.10/site-packages/stack_data/core.py\": 1738208872.5905068, \"/home/oren/work/notes/notes-nlp/.venv/lib/python3.10/site-packages/stack_data/formatting.py\": 1738208872.5905068, \"/home/oren/work/notes/notes-nlp/.venv/lib/python3.10/site-packages/stack_data/serializing.py\": 1738208872.5905068, \"/home/oren/work/notes/notes-nlp/.venv/lib/python3.10/site-packages/stack_data/version.py\": 1738208872.5905068, \"/home/oren/work/notes/notes-nlp/.venv/lib/python3.10/site-packages/stack_data/__init__.py\": 1738208872.5895066, \"/home/oren/work/notes/notes-nlp/.venv/lib/python3.10/site-packages/pygments/__init__.py\": 1738206368.6586542, \"/home/oren/work/notes/notes-nlp/.venv/lib/python3.10/site-packages/pygments/formatters/_mapping.py\": 1738206368.6616542, \"/home/oren/work/notes/notes-nlp/.venv/lib/python3.10/site-packages/pygments/plugin.py\": 1738206368.6596544, \"/home/oren/work/notes/notes-nlp/.venv/lib/python3.10/site-packages/pygments/util.py\": 1738206368.6616542, \"/home/oren/work/notes/notes-nlp/.venv/lib/python3.10/site-packages/pygments/formatters/__init__.py\": 1738206368.6616542, \"/home/oren/work/notes/notes-nlp/.venv/lib/python3.10/site-packages/pygments/styles/_mapping.py\": 1738206368.6986537, \"/home/oren/work/notes/notes-nlp/.venv/lib/python3.10/site-packages/pygments/styles/__init__.py\": 1738206368.6986537, \"/home/oren/work/notes/notes-nlp/.venv/lib/python3.10/site-packages/pygments/formatter.py\": 1738206368.6596544, \"/home/oren/work/notes/notes-nlp/.venv/lib/python3.10/site-packages/pygments/console.py\": 1738206368.6586542, \"/home/oren/work/notes/notes-nlp/.venv/lib/python3.10/site-packages/pygments/token.py\": 1738206368.6606543, \"/home/oren/work/notes/notes-nlp/.venv/lib/python3.10/site-packages/pygments/style.py\": 1738206368.6606543, \"/home/oren/work/notes/notes-nlp/.venv/lib/python3.10/site-packages/pygments/formatters/terminal256.py\": 1738206368.6636543, \"/home/oren/work/notes/notes-nlp/.venv/lib/python3.10/site-packages/IPython/utils/__init__.py\": 1738211116.3788545, \"/home/oren/work/notes/notes-nlp/.venv/lib/python3.10/site-packages/IPython/utils/colorable.py\": 1738211116.3798544, \"/home/oren/work/notes/notes-nlp/.venv/lib/python3.10/site-packages/IPython/utils/ipstruct.py\": 1738211116.3808546, \"/home/oren/work/notes/notes-nlp/.venv/lib/python3.10/site-packages/IPython/utils/coloransi.py\": 1738211116.3798544, \"/home/oren/work/notes/notes-nlp/.venv/lib/python3.10/site-packages/IPython/core/excolors.py\": 1738211116.3578548, \"/home/oren/work/notes/notes-nlp/.venv/lib/python3.10/site-packages/IPython/utils/PyColorize.py\": 1738211116.3788545, \"/home/oren/work/notes/notes-nlp/.venv/lib/python3.10/site-packages/IPython/utils/encoding.py\": 1738211116.3798544, \"/home/oren/work/notes/notes-nlp/.venv/lib/python3.10/site-packages/IPython/utils/py3compat.py\": 1738211116.3808546, \"/usr/lib/python3.10/cmd.py\": 1737124534.0, \"/usr/lib/python3.10/bdb.py\": 1737124534.0, \"/usr/lib/python3.10/codeop.py\": 1737124534.0, \"/usr/lib/python3.10/code.py\": 1737124534.0, \"/usr/lib/python3.10/pdb.py\": 1737124534.0, \"/home/oren/work/notes/notes-nlp/.venv/lib/python3.10/site-packages/IPython/core/debugger.py\": 1738211116.3578548, \"/home/oren/work/notes/notes-nlp/.venv/lib/python3.10/site-packages/IPython/core/display_trap.py\": 1738211116.3578548, \"/usr/lib/python3.10/shlex.py\": 1737124534.0, \"/home/oren/work/notes/notes-nlp/.venv/lib/python3.10/site-packages/IPython/utils/_process_common.py\": 1738211116.3788545, \"/home/oren/work/notes/notes-nlp/.venv/lib/python3.10/site-packages/IPython/utils/_process_posix.py\": 1738211116.3788545, \"/home/oren/work/notes/notes-nlp/.venv/lib/python3.10/site-packages/IPython/utils/process.py\": 1738211116.3808546, \"/home/oren/work/notes/notes-nlp/.venv/lib/python3.10/site-packages/IPython/utils/path.py\": 1738211116.3808546, \"/home/oren/work/notes/notes-nlp/.venv/lib/python3.10/site-packages/IPython/utils/terminal.py\": 1738211116.3818545, \"/home/oren/work/notes/notes-nlp/.venv/lib/python3.10/site-packages/IPython/core/ultratb.py\": 1738211116.3628547, \"/home/oren/work/notes/notes-nlp/.venv/lib/python3.10/site-packages/IPython/utils/_sysinfo.py\": 1738211116.3788545, \"/home/oren/work/notes/notes-nlp/.venv/lib/python3.10/site-packages/IPython/utils/sysinfo.py\": 1738211116.3818545, \"/home/oren/work/notes/notes-nlp/.venv/lib/python3.10/site-packages/IPython/core/crashhandler.py\": 1738211116.356855, \"/home/oren/work/notes/notes-nlp/.venv/lib/python3.10/site-packages/IPython/utils/importstring.py\": 1738211116.3798544, \"/home/oren/work/notes/notes-nlp/.venv/lib/python3.10/site-packages/IPython/paths.py\": 1738211116.355855, \"/home/oren/work/notes/notes-nlp/.venv/lib/python3.10/site-packages/IPython/core/profiledir.py\": 1738211116.3618548, \"/home/oren/work/notes/notes-nlp/.venv/lib/python3.10/site-packages/IPython/core/application.py\": 1738211116.355855, \"/home/oren/work/notes/notes-nlp/.venv/lib/python3.10/site-packages/IPython/terminal/__init__.py\": 1738211116.3738546, \"/home/oren/work/notes/notes-nlp/.venv/lib/python3.10/site-packages/IPython/core/compilerop.py\": 1738211116.356855, \"/home/oren/work/notes/notes-nlp/.venv/lib/python3.10/site-packages/IPython/core/error.py\": 1738211116.3578548, \"/home/oren/work/notes/notes-nlp/.venv/lib/python3.10/site-packages/IPython/utils/docs.py\": 1738211116.3798544, \"/home/oren/work/notes/notes-nlp/.venv/lib/python3.10/site-packages/IPython/utils/decorators.py\": 1738211116.3798544, \"/home/oren/work/notes/notes-nlp/.venv/lib/python3.10/site-packages/typing_extensions.py\": 1738206367.8976667, \"/home/oren/work/notes/notes-nlp/.venv/lib/python3.10/site-packages/IPython/utils/text.py\": 1738211116.3818545, \"/home/oren/work/notes/notes-nlp/.venv/lib/python3.10/site-packages/IPython/core/magic_arguments.py\": 1738211116.3608549, \"/usr/lib/python3.10/getopt.py\": 1737124534.0, \"/home/oren/work/notes/notes-nlp/.venv/lib/python3.10/site-packages/IPython/core/display_functions.py\": 1738211116.3578548, \"/usr/lib/python3.10/mimetypes.py\": 1737124534.0, \"/home/oren/work/notes/notes-nlp/.venv/lib/python3.10/site-packages/IPython/testing/__init__.py\": 1738211116.3768547, \"/home/oren/work/notes/notes-nlp/.venv/lib/python3.10/site-packages/IPython/testing/skipdoctest.py\": 1738211116.3768547, \"/home/oren/work/notes/notes-nlp/.venv/lib/python3.10/site-packages/IPython/core/display.py\": 1738211116.3578548, \"/home/oren/work/notes/notes-nlp/.venv/lib/python3.10/site-packages/IPython/lib/__init__.py\": 1738211116.3708546, \"/home/oren/work/notes/notes-nlp/.venv/lib/python3.10/site-packages/IPython/lib/display.py\": 1738211116.3718548, \"/home/oren/work/notes/notes-nlp/.venv/lib/python3.10/site-packages/IPython/display.py\": 1738211116.355855, \"/home/oren/work/notes/notes-nlp/.venv/lib/python3.10/site-packages/IPython/utils/data.py\": 1738211116.3798544, \"/home/oren/work/notes/notes-nlp/.venv/lib/python3.10/site-packages/IPython/core/page.py\": 1738211116.3608549, \"/home/oren/work/notes/notes-nlp/.venv/lib/python3.10/site-packages/IPython/lib/pretty.py\": 1738211116.3718548, \"/home/oren/work/notes/notes-nlp/.venv/lib/python3.10/site-packages/IPython/utils/openpy.py\": 1738211116.3808546, \"/home/oren/work/notes/notes-nlp/.venv/lib/python3.10/site-packages/IPython/utils/dir2.py\": 1738211116.3798544, \"/home/oren/work/notes/notes-nlp/.venv/lib/python3.10/site-packages/IPython/utils/wildcard.py\": 1738211116.3828545, \"/home/oren/work/notes/notes-nlp/.venv/lib/python3.10/site-packages/pygments/lexers/_mapping.py\": 1738206368.666654, \"/home/oren/work/notes/notes-nlp/.venv/lib/python3.10/site-packages/pygments/modeline.py\": 1738206368.6596544, \"/home/oren/work/notes/notes-nlp/.venv/lib/python3.10/site-packages/pygments/lexers/__init__.py\": 1738206368.6636543, \"/home/oren/work/notes/notes-nlp/.venv/lib/python3.10/site-packages/pygments/filter.py\": 1738206368.6596544, \"/home/oren/work/notes/notes-nlp/.venv/lib/python3.10/site-packages/pygments/filters/__init__.py\": 1738206368.6616542, \"/home/oren/work/notes/notes-nlp/.venv/lib/python3.10/site-packages/pygments/regexopt.py\": 1738206368.6596544, \"/home/oren/work/notes/notes-nlp/.venv/lib/python3.10/site-packages/pygments/lexer.py\": 1738206368.6596544, \"/home/oren/work/notes/notes-nlp/.venv/lib/python3.10/site-packages/pygments/unistring.py\": 1738206368.6606543, \"/home/oren/work/notes/notes-nlp/.venv/lib/python3.10/site-packages/pygments/lexers/python.py\": 1738206368.6896539, \"/home/oren/work/notes/notes-nlp/.venv/lib/python3.10/site-packages/pygments/formatters/html.py\": 1738206368.6626542, \"/home/oren/work/notes/notes-nlp/.venv/lib/python3.10/site-packages/IPython/core/oinspect.py\": 1738211116.3608549, \"/home/oren/work/notes/notes-nlp/.venv/lib/python3.10/site-packages/IPython/utils/tokenutil.py\": 1738211116.3818545, \"/home/oren/work/notes/notes-nlp/.venv/lib/python3.10/site-packages/IPython/core/inputtransformer2.py\": 1738211116.359855, \"/home/oren/work/notes/notes-nlp/.venv/lib/python3.10/site-packages/IPython/core/magic.py\": 1738211116.3608549, \"/home/oren/work/notes/notes-nlp/.venv/lib/python3.10/site-packages/IPython/core/hooks.py\": 1738211116.3588548, \"/home/oren/work/notes/notes-nlp/.venv/lib/python3.10/site-packages/IPython/core/autocall.py\": 1738211116.356855, \"/home/oren/work/notes/notes-nlp/.venv/lib/python3.10/site-packages/IPython/core/macro.py\": 1738211116.3608549, \"/home/oren/work/notes/notes-nlp/.venv/lib/python3.10/site-packages/IPython/core/splitinput.py\": 1738211116.3628547, \"/home/oren/work/notes/notes-nlp/.venv/lib/python3.10/site-packages/IPython/core/prefilter.py\": 1738211116.3618548, \"/home/oren/work/notes/notes-nlp/.venv/lib/python3.10/site-packages/IPython/core/alias.py\": 1738211116.355855, \"/home/oren/work/notes/notes-nlp/.venv/lib/python3.10/site-packages/IPython/core/builtin_trap.py\": 1738211116.356855, \"/home/oren/work/notes/notes-nlp/.venv/lib/python3.10/site-packages/IPython/core/displayhook.py\": 1738211116.3578548, \"/home/oren/work/notes/notes-nlp/.venv/lib/python3.10/site-packages/IPython/core/displaypub.py\": 1738211116.3578548, \"/home/oren/work/notes/notes-nlp/.venv/lib/python3.10/site-packages/IPython/core/events.py\": 1738211116.3578548, \"/home/oren/work/notes/notes-nlp/.venv/lib/python3.10/site-packages/IPython/core/extensions.py\": 1738211116.3588548, \"/home/oren/work/notes/notes-nlp/.venv/lib/python3.10/site-packages/decorator.py\": 1738208871.4545248, \"/home/oren/work/notes/notes-nlp/.venv/lib/python3.10/site-packages/IPython/utils/sentinel.py\": 1738211116.3808546, \"/home/oren/work/notes/notes-nlp/.venv/lib/python3.10/site-packages/IPython/core/formatters.py\": 1738211116.3588548, \"/usr/lib/python3.10/lib-dynload/_sqlite3.cpython-310-x86_64-linux-gnu.so\": 1737124534.0, \"/usr/lib/python3.10/sqlite3/dbapi2.py\": 1737124534.0, \"/usr/lib/python3.10/sqlite3/__init__.py\": 1737124534.0, \"/home/oren/work/notes/notes-nlp/.venv/lib/python3.10/site-packages/IPython/core/history.py\": 1738211116.3588548, \"/home/oren/work/notes/notes-nlp/.venv/lib/python3.10/site-packages/IPython/core/logger.py\": 1738211116.3608549, \"/home/oren/work/notes/notes-nlp/.venv/lib/python3.10/site-packages/IPython/core/payload.py\": 1738211116.3618548, \"/home/oren/work/notes/notes-nlp/.venv/lib/python3.10/site-packages/IPython/core/usage.py\": 1738211116.3628547, \"/home/oren/work/notes/notes-nlp/.venv/lib/python3.10/site-packages/IPython/utils/capture.py\": 1738211116.3788545, \"/home/oren/work/notes/notes-nlp/.venv/lib/python3.10/site-packages/IPython/utils/io.py\": 1738211116.3808546, \"/home/oren/work/notes/notes-nlp/.venv/lib/python3.10/site-packages/IPython/utils/strdispatch.py\": 1738211116.3818545, \"/home/oren/work/notes/notes-nlp/.venv/lib/python3.10/site-packages/IPython/utils/syspathcontext.py\": 1738211116.3818545, \"/home/oren/work/notes/notes-nlp/.venv/lib/python3.10/site-packages/exceptiongroup/_exceptions.py\": 1738208871.3595264, \"/home/oren/work/notes/notes-nlp/.venv/lib/python3.10/site-packages/exceptiongroup/_catch.py\": 1738208871.3595264, \"/home/oren/work/notes/notes-nlp/.venv/lib/python3.10/site-packages/exceptiongroup/_version.py\": 1738208871.3605263, \"/home/oren/work/notes/notes-nlp/.venv/lib/python3.10/site-packages/exceptiongroup/_formatting.py\": 1738208871.3595264, \"/home/oren/work/notes/notes-nlp/.venv/lib/python3.10/site-packages/exceptiongroup/_suppress.py\": 1738208871.3605263, \"/home/oren/work/notes/notes-nlp/.venv/lib/python3.10/site-packages/exceptiongroup/__init__.py\": 1738208871.3595264, \"/home/oren/work/notes/notes-nlp/.venv/lib/python3.10/site-packages/IPython/core/async_helpers.py\": 1738211116.355855, \"/home/oren/work/notes/notes-nlp/.venv/lib/python3.10/site-packages/IPython/core/interactiveshell.py\": 1738211116.359855, \"/home/oren/work/notes/notes-nlp/.venv/lib/python3.10/site-packages/prompt_toolkit/application/current.py\": 1738206370.2306287, \"/home/oren/work/notes/notes-nlp/.venv/lib/python3.10/site-packages/prompt_toolkit/eventloop/utils.py\": 1738206370.2336287, \"/home/oren/work/notes/notes-nlp/.venv/lib/python3.10/site-packages/prompt_toolkit/eventloop/async_generator.py\": 1738206370.2336287, \"/home/oren/work/notes/notes-nlp/.venv/lib/python3.10/site-packages/prompt_toolkit/eventloop/inputhook.py\": 1738206370.2336287, \"/home/oren/work/notes/notes-nlp/.venv/lib/python3.10/site-packages/prompt_toolkit/eventloop/__init__.py\": 1738206370.2336287, \"/home/oren/work/notes/notes-nlp/.venv/lib/python3.10/site-packages/prompt_toolkit/application/run_in_terminal.py\": 1738206370.2316287, \"/home/oren/work/notes/notes-nlp/.venv/lib/python3.10/site-packages/prompt_toolkit/selection.py\": 1738206370.2306287, \"/home/oren/work/notes/notes-nlp/.venv/lib/python3.10/site-packages/prompt_toolkit/clipboard/base.py\": 1738206370.2316287, \"/home/oren/work/notes/notes-nlp/.venv/lib/python3.10/site-packages/prompt_toolkit/clipboard/in_memory.py\": 1738206370.2316287, \"/home/oren/work/notes/notes-nlp/.venv/lib/python3.10/site-packages/prompt_toolkit/clipboard/__init__.py\": 1738206370.2316287, \"/home/oren/work/notes/notes-nlp/.venv/lib/python3.10/site-packages/prompt_toolkit/cache.py\": 1738206370.2286289, \"/home/oren/work/notes/notes-nlp/.venv/lib/python3.10/site-packages/prompt_toolkit/enums.py\": 1738206370.2296288, \"/home/oren/work/notes/notes-nlp/.venv/lib/python3.10/site-packages/prompt_toolkit/filters/base.py\": 1738206370.2346287, \"/home/oren/work/notes/notes-nlp/.venv/lib/python3.10/site-packages/prompt_toolkit/filters/app.py\": 1738206370.2346287, \"/home/oren/work/notes/notes-nlp/.venv/lib/python3.10/site-packages/prompt_toolkit/filters/cli.py\": 1738206370.2346287, \"/home/oren/work/notes/notes-nlp/.venv/lib/python3.10/site-packages/prompt_toolkit/filters/utils.py\": 1738206370.2346287, \"/home/oren/work/notes/notes-nlp/.venv/lib/python3.10/site-packages/prompt_toolkit/filters/__init__.py\": 1738206370.2346287, \"/home/oren/work/notes/notes-nlp/.venv/lib/python3.10/site-packages/prompt_toolkit/document.py\": 1738206370.2296288, \"/home/oren/work/notes/notes-nlp/.venv/lib/python3.10/site-packages/prompt_toolkit/auto_suggest.py\": 1738206370.2286289, \"/home/oren/work/notes/notes-nlp/.venv/lib/python3.10/site-packages/prompt_toolkit/keys.py\": 1738206370.2296288, \"/home/oren/work/notes/notes-nlp/.venv/lib/python3.10/site-packages/prompt_toolkit/key_binding/key_bindings.py\": 1738206370.2366285, \"/home/oren/work/notes/notes-nlp/.venv/lib/python3.10/site-packages/wcwidth/table_vs16.py\": 1738206365.8596997, \"/home/oren/work/notes/notes-nlp/.venv/lib/python3.10/site-packages/wcwidth/table_wide.py\": 1738206365.8596997, \"/home/oren/work/notes/notes-nlp/.venv/lib/python3.10/site-packages/wcwidth/table_zero.py\": 1738206365.8607, \"/home/oren/work/notes/notes-nlp/.venv/lib/python3.10/site-packages/wcwidth/unicode_versions.py\": 1738206365.8607, \"/home/oren/work/notes/notes-nlp/.venv/lib/python3.10/site-packages/wcwidth/wcwidth.py\": 1738206365.8607, \"/home/oren/work/notes/notes-nlp/.venv/lib/python3.10/site-packages/wcwidth/__init__.py\": 1738206365.8596997, \"/home/oren/work/notes/notes-nlp/.venv/lib/python3.10/site-packages/prompt_toolkit/utils.py\": 1738206370.2306287, \"/home/oren/work/notes/notes-nlp/.venv/lib/python3.10/site-packages/prompt_toolkit/key_binding/key_processor.py\": 1738206370.2366285, \"/home/oren/work/notes/notes-nlp/.venv/lib/python3.10/site-packages/prompt_toolkit/key_binding/__init__.py\": 1738206370.2366285, \"/home/oren/work/notes/notes-nlp/.venv/lib/python3.10/site-packages/prompt_toolkit/key_binding/vi_state.py\": 1738206370.2366285, \"/home/oren/work/notes/notes-nlp/.venv/lib/python3.10/site-packages/prompt_toolkit/cursor_shapes.py\": 1738206370.2286289, \"/home/oren/work/notes/notes-nlp/.venv/lib/python3.10/site-packages/prompt_toolkit/data_structures.py\": 1738206370.2286289, \"/home/oren/work/notes/notes-nlp/.venv/lib/python3.10/site-packages/prompt_toolkit/styles/base.py\": 1738206370.2426286, \"/home/oren/work/notes/notes-nlp/.venv/lib/python3.10/site-packages/prompt_toolkit/styles/named_colors.py\": 1738206370.2426286, \"/home/oren/work/notes/notes-nlp/.venv/lib/python3.10/site-packages/prompt_toolkit/styles/style.py\": 1738206370.2426286, \"/home/oren/work/notes/notes-nlp/.venv/lib/python3.10/site-packages/prompt_toolkit/styles/defaults.py\": 1738206370.2426286, \"/home/oren/work/notes/notes-nlp/.venv/lib/python3.10/site-packages/prompt_toolkit/styles/pygments.py\": 1738206370.2426286, \"/usr/lib/python3.10/colorsys.py\": 1737124534.0, \"/home/oren/work/notes/notes-nlp/.venv/lib/python3.10/site-packages/prompt_toolkit/styles/style_transformation.py\": 1738206370.2436285, \"/home/oren/work/notes/notes-nlp/.venv/lib/python3.10/site-packages/prompt_toolkit/styles/__init__.py\": 1738206370.2426286, \"/home/oren/work/notes/notes-nlp/.venv/lib/python3.10/site-packages/prompt_toolkit/output/color_depth.py\": 1738206370.2406285, \"/home/oren/work/notes/notes-nlp/.venv/lib/python3.10/site-packages/prompt_toolkit/output/base.py\": 1738206370.2406285, \"/home/oren/work/notes/notes-nlp/.venv/lib/python3.10/site-packages/prompt_toolkit/output/flush_stdout.py\": 1738206370.2416286, \"/home/oren/work/notes/notes-nlp/.venv/lib/python3.10/site-packages/prompt_toolkit/output/plain_text.py\": 1738206370.2416286, \"/home/oren/work/notes/notes-nlp/.venv/lib/python3.10/site-packages/prompt_toolkit/output/defaults.py\": 1738206370.2406285, \"/home/oren/work/notes/notes-nlp/.venv/lib/python3.10/site-packages/prompt_toolkit/output/__init__.py\": 1738206370.2406285, \"/home/oren/work/notes/notes-nlp/.venv/lib/python3.10/site-packages/prompt_toolkit/output/vt100.py\": 1738206370.2416286, \"/home/oren/work/notes/notes-nlp/.venv/lib/python3.10/site-packages/prompt_toolkit/mouse_events.py\": 1738206370.2296288, \"/home/oren/work/notes/notes-nlp/.venv/lib/python3.10/site-packages/prompt_toolkit/formatted_text/base.py\": 1738206370.2346287, \"/home/oren/work/notes/notes-nlp/.venv/lib/python3.10/site-packages/prompt_toolkit/formatted_text/ansi.py\": 1738206370.2346287, \"/usr/lib/python3.10/xml/__init__.py\": 1737124534.0, \"/usr/lib/python3.10/xml/dom/domreg.py\": 1737124534.0, \"/usr/lib/python3.10/xml/dom/__init__.py\": 1737124534.0, \"/usr/lib/python3.10/xml/dom/minicompat.py\": 1737124534.0, \"/usr/lib/python3.10/xml/dom/NodeFilter.py\": 1737124534.0, \"/usr/lib/python3.10/xml/dom/xmlbuilder.py\": 1737124534.0, \"/usr/lib/python3.10/xml/dom/minidom.py\": 1737124534.0, \"/home/oren/work/notes/notes-nlp/.venv/lib/python3.10/site-packages/prompt_toolkit/formatted_text/html.py\": 1738206370.2346287, \"/home/oren/work/notes/notes-nlp/.venv/lib/python3.10/site-packages/prompt_toolkit/formatted_text/pygments.py\": 1738206370.2346287, \"/home/oren/work/notes/notes-nlp/.venv/lib/python3.10/site-packages/prompt_toolkit/formatted_text/utils.py\": 1738206370.2346287, \"/home/oren/work/notes/notes-nlp/.venv/lib/python3.10/site-packages/prompt_toolkit/formatted_text/__init__.py\": 1738206370.2346287, \"/home/oren/work/notes/notes-nlp/.venv/lib/python3.10/site-packages/prompt_toolkit/completion/base.py\": 1738206370.2316287, \"/home/oren/work/notes/notes-nlp/.venv/lib/python3.10/site-packages/prompt_toolkit/completion/deduplicate.py\": 1738206370.2316287, \"/home/oren/work/notes/notes-nlp/.venv/lib/python3.10/site-packages/prompt_toolkit/completion/filesystem.py\": 1738206370.2316287, \"/home/oren/work/notes/notes-nlp/.venv/lib/python3.10/site-packages/prompt_toolkit/completion/word_completer.py\": 1738206370.2326288, \"/home/oren/work/notes/notes-nlp/.venv/lib/python3.10/site-packages/prompt_toolkit/completion/fuzzy_completer.py\": 1738206370.2316287, \"/home/oren/work/notes/notes-nlp/.venv/lib/python3.10/site-packages/prompt_toolkit/completion/nested.py\": 1738206370.2326288, \"/home/oren/work/notes/notes-nlp/.venv/lib/python3.10/site-packages/prompt_toolkit/completion/__init__.py\": 1738206370.2316287, \"/home/oren/work/notes/notes-nlp/.venv/lib/python3.10/site-packages/prompt_toolkit/history.py\": 1738206370.2296288, \"/home/oren/work/notes/notes-nlp/.venv/lib/python3.10/site-packages/prompt_toolkit/search.py\": 1738206370.2306287, \"/home/oren/work/notes/notes-nlp/.venv/lib/python3.10/site-packages/prompt_toolkit/validation.py\": 1738206370.2306287, \"/home/oren/work/notes/notes-nlp/.venv/lib/python3.10/site-packages/prompt_toolkit/buffer.py\": 1738206370.2286289, \"/home/oren/work/notes/notes-nlp/.venv/lib/python3.10/site-packages/prompt_toolkit/input/base.py\": 1738206370.2356286, \"/home/oren/work/notes/notes-nlp/.venv/lib/python3.10/site-packages/prompt_toolkit/input/defaults.py\": 1738206370.2356286, \"/home/oren/work/notes/notes-nlp/.venv/lib/python3.10/site-packages/prompt_toolkit/input/__init__.py\": 1738206370.2356286, \"/home/oren/work/notes/notes-nlp/.venv/lib/python3.10/site-packages/prompt_toolkit/input/typeahead.py\": 1738206370.2356286, \"/home/oren/work/notes/notes-nlp/.venv/lib/python3.10/site-packages/prompt_toolkit/key_binding/bindings/__init__.py\": 1738206370.2366285, \"/home/oren/work/notes/notes-nlp/.venv/lib/python3.10/site-packages/prompt_toolkit/key_binding/bindings/scroll.py\": 1738206370.2386286, \"/home/oren/work/notes/notes-nlp/.venv/lib/python3.10/site-packages/prompt_toolkit/key_binding/bindings/page_navigation.py\": 1738206370.2376287, \"/home/oren/work/notes/notes-nlp/.venv/lib/python3.10/site-packages/prompt_toolkit/lexers/base.py\": 1738206370.2406285, \"/home/oren/work/notes/notes-nlp/.venv/lib/python3.10/site-packages/prompt_toolkit/lexers/pygments.py\": 1738206370.2406285, \"/home/oren/work/notes/notes-nlp/.venv/lib/python3.10/site-packages/prompt_toolkit/lexers/__init__.py\": 1738206370.2406285, \"/home/oren/work/notes/notes-nlp/.venv/lib/python3.10/site-packages/prompt_toolkit/layout/utils.py\": 1738206370.2406285, \"/home/oren/work/notes/notes-nlp/.venv/lib/python3.10/site-packages/prompt_toolkit/layout/processors.py\": 1738206370.2396286, \"/home/oren/work/notes/notes-nlp/.venv/lib/python3.10/site-packages/prompt_toolkit/layout/controls.py\": 1738206370.2396286, \"/home/oren/work/notes/notes-nlp/.venv/lib/python3.10/site-packages/prompt_toolkit/layout/dimension.py\": 1738206370.2396286, \"/home/oren/work/notes/notes-nlp/.venv/lib/python3.10/site-packages/prompt_toolkit/layout/margins.py\": 1738206370.2396286, \"/home/oren/work/notes/notes-nlp/.venv/lib/python3.10/site-packages/prompt_toolkit/layout/mouse_handlers.py\": 1738206370.2396286, \"/home/oren/work/notes/notes-nlp/.venv/lib/python3.10/site-packages/prompt_toolkit/layout/screen.py\": 1738206370.2396286, \"/home/oren/work/notes/notes-nlp/.venv/lib/python3.10/site-packages/prompt_toolkit/layout/containers.py\": 1738206370.2386286, \"/home/oren/work/notes/notes-nlp/.venv/lib/python3.10/site-packages/prompt_toolkit/layout/layout.py\": 1738206370.2396286, \"/home/oren/work/notes/notes-nlp/.venv/lib/python3.10/site-packages/prompt_toolkit/layout/menus.py\": 1738206370.2396286, \"/home/oren/work/notes/notes-nlp/.venv/lib/python3.10/site-packages/prompt_toolkit/layout/scrollable_pane.py\": 1738206370.2406285, \"/home/oren/work/notes/notes-nlp/.venv/lib/python3.10/site-packages/prompt_toolkit/layout/__init__.py\": 1738206370.2386286, \"/home/oren/work/notes/notes-nlp/.venv/lib/python3.10/site-packages/prompt_toolkit/key_binding/bindings/completion.py\": 1738206370.2376287, \"/home/oren/work/notes/notes-nlp/.venv/lib/python3.10/site-packages/prompt_toolkit/key_binding/bindings/named_commands.py\": 1738206370.2376287, \"/home/oren/work/notes/notes-nlp/.venv/lib/python3.10/site-packages/prompt_toolkit/key_binding/bindings/basic.py\": 1738206370.2376287, \"/home/oren/work/notes/notes-nlp/.venv/lib/python3.10/site-packages/prompt_toolkit/key_binding/bindings/cpr.py\": 1738206370.2376287, \"/home/oren/work/notes/notes-nlp/.venv/lib/python3.10/site-packages/prompt_toolkit/key_binding/bindings/emacs.py\": 1738206370.2376287, \"/home/oren/work/notes/notes-nlp/.venv/lib/python3.10/site-packages/prompt_toolkit/key_binding/bindings/mouse.py\": 1738206370.2376287, \"/home/oren/work/notes/notes-nlp/.venv/lib/python3.10/site-packages/prompt_toolkit/input/ansi_escape_sequences.py\": 1738206370.2356286, \"/home/oren/work/notes/notes-nlp/.venv/lib/python3.10/site-packages/prompt_toolkit/input/vt100_parser.py\": 1738206370.2356286, \"/home/oren/work/notes/notes-nlp/.venv/lib/python3.10/site-packages/prompt_toolkit/key_binding/digraphs.py\": 1738206370.2366285, \"/home/oren/work/notes/notes-nlp/.venv/lib/python3.10/site-packages/prompt_toolkit/key_binding/bindings/vi.py\": 1738206370.2386286, \"/home/oren/work/notes/notes-nlp/.venv/lib/python3.10/site-packages/prompt_toolkit/key_binding/defaults.py\": 1738206370.2366285, \"/home/oren/work/notes/notes-nlp/.venv/lib/python3.10/site-packages/prompt_toolkit/key_binding/emacs_state.py\": 1738206370.2366285, \"/home/oren/work/notes/notes-nlp/.venv/lib/python3.10/site-packages/prompt_toolkit/layout/dummy.py\": 1738206370.2396286, \"/home/oren/work/notes/notes-nlp/.venv/lib/python3.10/site-packages/prompt_toolkit/renderer.py\": 1738206370.2296288, \"/home/oren/work/notes/notes-nlp/.venv/lib/python3.10/site-packages/prompt_toolkit/application/application.py\": 1738206370.2306287, \"/home/oren/work/notes/notes-nlp/.venv/lib/python3.10/site-packages/prompt_toolkit/application/dummy.py\": 1738206370.2316287, \"/home/oren/work/notes/notes-nlp/.venv/lib/python3.10/site-packages/prompt_toolkit/application/__init__.py\": 1738206370.2306287, \"/home/oren/work/notes/notes-nlp/.venv/lib/python3.10/site-packages/prompt_toolkit/key_binding/bindings/focus.py\": 1738206370.2376287, \"/home/oren/work/notes/notes-nlp/.venv/lib/python3.10/site-packages/prompt_toolkit/widgets/toolbars.py\": 1738206370.2436285, \"/home/oren/work/notes/notes-nlp/.venv/lib/python3.10/site-packages/prompt_toolkit/widgets/base.py\": 1738206370.2436285, \"/home/oren/work/notes/notes-nlp/.venv/lib/python3.10/site-packages/prompt_toolkit/widgets/dialogs.py\": 1738206370.2436285, \"/home/oren/work/notes/notes-nlp/.venv/lib/python3.10/site-packages/prompt_toolkit/widgets/menus.py\": 1738206370.2436285, \"/home/oren/work/notes/notes-nlp/.venv/lib/python3.10/site-packages/prompt_toolkit/widgets/__init__.py\": 1738206370.2436285, \"/home/oren/work/notes/notes-nlp/.venv/lib/python3.10/site-packages/prompt_toolkit/shortcuts/dialogs.py\": 1738206370.2416286, \"/usr/lib/python3.10/xml/parsers/__init__.py\": 1737124534.0, \"/usr/lib/python3.10/xml/parsers/expat.py\": 1737124534.0, \"/usr/lib/python3.10/xml/dom/expatbuilder.py\": 1737124534.0, \"/home/oren/work/notes/notes-nlp/.venv/lib/python3.10/site-packages/prompt_toolkit/shortcuts/progress_bar/formatters.py\": 1738206370.2426286, \"/home/oren/work/notes/notes-nlp/.venv/lib/python3.10/site-packages/prompt_toolkit/shortcuts/progress_bar/base.py\": 1738206370.2426286, \"/home/oren/work/notes/notes-nlp/.venv/lib/python3.10/site-packages/prompt_toolkit/shortcuts/progress_bar/__init__.py\": 1738206370.2426286, \"/home/oren/work/notes/notes-nlp/.venv/lib/python3.10/site-packages/prompt_toolkit/key_binding/bindings/auto_suggest.py\": 1738206370.2376287, \"/home/oren/work/notes/notes-nlp/.venv/lib/python3.10/site-packages/prompt_toolkit/key_binding/bindings/open_in_editor.py\": 1738206370.2376287, \"/home/oren/work/notes/notes-nlp/.venv/lib/python3.10/site-packages/prompt_toolkit/shortcuts/prompt.py\": 1738206370.2416286, \"/home/oren/work/notes/notes-nlp/.venv/lib/python3.10/site-packages/prompt_toolkit/shortcuts/utils.py\": 1738206370.2426286, \"/home/oren/work/notes/notes-nlp/.venv/lib/python3.10/site-packages/prompt_toolkit/shortcuts/__init__.py\": 1738206370.2416286, \"/home/oren/work/notes/notes-nlp/.venv/lib/python3.10/site-packages/prompt_toolkit/__init__.py\": 1738206370.2286289, \"/home/oren/work/notes/notes-nlp/.venv/lib/python3.10/site-packages/prompt_toolkit/patch_stdout.py\": 1738206370.2296288, \"/home/oren/work/notes/notes-nlp/.venv/lib/python3.10/site-packages/IPython/core/guarded_eval.py\": 1738211116.3588548, \"/home/oren/work/notes/notes-nlp/.venv/lib/python3.10/site-packages/IPython/core/latex_symbols.py\": 1738211116.3608549, \"/home/oren/work/notes/notes-nlp/.venv/lib/python3.10/site-packages/IPython/utils/generics.py\": 1738211116.3798544, \"/home/oren/work/notes/notes-nlp/.venv/lib/python3.10/site-packages/parso/utils.py\": 1738206370.6126225, \"/home/oren/work/notes/notes-nlp/.venv/lib/python3.10/site-packages/parso/tree.py\": 1738206370.6116226, \"/home/oren/work/notes/notes-nlp/.venv/lib/python3.10/site-packages/parso/python/__init__.py\": 1738206370.6126225, \"/home/oren/work/notes/notes-nlp/.venv/lib/python3.10/site-packages/parso/python/token.py\": 1738206370.6146226, \"/home/oren/work/notes/notes-nlp/.venv/lib/python3.10/site-packages/parso/python/tokenize.py\": 1738206370.6146226, \"/home/oren/work/notes/notes-nlp/.venv/lib/python3.10/site-packages/parso/pgen2/grammar_parser.py\": 1738206370.6126225, \"/home/oren/work/notes/notes-nlp/.venv/lib/python3.10/site-packages/parso/pgen2/generator.py\": 1738206370.6126225, \"/home/oren/work/notes/notes-nlp/.venv/lib/python3.10/site-packages/parso/pgen2/__init__.py\": 1738206370.6126225, \"/home/oren/work/notes/notes-nlp/.venv/lib/python3.10/site-packages/parso/parser.py\": 1738206370.6116226, \"/home/oren/work/notes/notes-nlp/.venv/lib/python3.10/site-packages/parso/_compatibility.py\": 1738206370.6116226, \"/usr/lib/python3.10/difflib.py\": 1737124534.0, \"/home/oren/work/notes/notes-nlp/.venv/lib/python3.10/site-packages/parso/python/prefix.py\": 1738206370.6146226, \"/home/oren/work/notes/notes-nlp/.venv/lib/python3.10/site-packages/parso/python/tree.py\": 1738206370.6146226, \"/home/oren/work/notes/notes-nlp/.venv/lib/python3.10/site-packages/parso/python/parser.py\": 1738206370.6136224, \"/home/oren/work/notes/notes-nlp/.venv/lib/python3.10/site-packages/parso/python/diff.py\": 1738206370.6126225, \"/home/oren/work/notes/notes-nlp/.venv/lib/python3.10/site-packages/parso/cache.py\": 1738206370.6116226, \"/home/oren/work/notes/notes-nlp/.venv/lib/python3.10/site-packages/parso/normalizer.py\": 1738206370.6116226, \"/home/oren/work/notes/notes-nlp/.venv/lib/python3.10/site-packages/parso/python/errors.py\": 1738206370.6126225, \"/home/oren/work/notes/notes-nlp/.venv/lib/python3.10/site-packages/parso/python/pep8.py\": 1738206370.6136224, \"/home/oren/work/notes/notes-nlp/.venv/lib/python3.10/site-packages/parso/file_io.py\": 1738206370.6116226, \"/home/oren/work/notes/notes-nlp/.venv/lib/python3.10/site-packages/parso/grammar.py\": 1738206370.6116226, \"/home/oren/work/notes/notes-nlp/.venv/lib/python3.10/site-packages/parso/__init__.py\": 1738206370.6116226, \"/home/oren/work/notes/notes-nlp/.venv/lib/python3.10/site-packages/jedi/parser_utils.py\": 1738208869.6675534, \"/home/oren/work/notes/notes-nlp/.venv/lib/python3.10/site-packages/jedi/debug.py\": 1738208869.6675534, \"/home/oren/work/notes/notes-nlp/.venv/lib/python3.10/site-packages/jedi/settings.py\": 1738208869.6675534, \"/home/oren/work/notes/notes-nlp/.venv/lib/python3.10/site-packages/jedi/cache.py\": 1738208869.6665533, \"/home/oren/work/notes/notes-nlp/.venv/lib/python3.10/site-packages/jedi/file_io.py\": 1738208869.6675534, \"/home/oren/work/notes/notes-nlp/.venv/lib/python3.10/site-packages/jedi/inference/cache.py\": 1738208869.6695533, \"/home/oren/work/notes/notes-nlp/.venv/lib/python3.10/site-packages/jedi/inference/helpers.py\": 1738208869.6705532, \"/home/oren/work/notes/notes-nlp/.venv/lib/python3.10/site-packages/jedi/inference/utils.py\": 1738208869.6715531, \"/home/oren/work/notes/notes-nlp/.venv/lib/python3.10/site-packages/jedi/inference/base_value.py\": 1738208869.6695533, \"/home/oren/work/notes/notes-nlp/.venv/lib/python3.10/site-packages/jedi/inference/sys_path.py\": 1738208869.6715531, \"/home/oren/work/notes/notes-nlp/.venv/lib/python3.10/site-packages/jedi/inference/recursion.py\": 1738208869.6715531, \"/home/oren/work/notes/notes-nlp/.venv/lib/python3.10/site-packages/jedi/inference/flow_analysis.py\": 1738208869.6705532, \"/home/oren/work/notes/notes-nlp/.venv/lib/python3.10/site-packages/jedi/common.py\": 1738208869.6675534, \"/home/oren/work/notes/notes-nlp/.venv/lib/python3.10/site-packages/jedi/inference/lazy_value.py\": 1738208869.6705532, \"/home/oren/work/notes/notes-nlp/.venv/lib/python3.10/site-packages/jedi/inference/docstrings.py\": 1738208869.6705532, \"/home/oren/work/notes/notes-nlp/.venv/lib/python3.10/site-packages/jedi/plugins/__init__.py\": 1738208869.6745532, \"/home/oren/work/notes/notes-nlp/.venv/lib/python3.10/site-packages/jedi/inference/names.py\": 1738208869.6705532, \"/home/oren/work/notes/notes-nlp/.venv/lib/python3.10/site-packages/jedi/inference/filters.py\": 1738208869.6705532, \"/home/oren/work/notes/notes-nlp/.venv/lib/python3.10/site-packages/jedi/inference/compiled/getattr_static.py\": 1738208869.6725533, \"/home/oren/work/notes/notes-nlp/.venv/lib/python3.10/site-packages/jedi/inference/compiled/access.py\": 1738208869.6725533, \"/home/oren/work/notes/notes-nlp/.venv/lib/python3.10/site-packages/jedi/inference/signature.py\": 1738208869.6715531, \"/home/oren/work/notes/notes-nlp/.venv/lib/python3.10/site-packages/jedi/inference/context.py\": 1738208869.6695533, \"/home/oren/work/notes/notes-nlp/.venv/lib/python3.10/site-packages/jedi/inference/compiled/value.py\": 1738208869.6725533, \"/home/oren/work/notes/notes-nlp/.venv/lib/python3.10/site-packages/jedi/inference/compiled/__init__.py\": 1738208869.6715531, \"/home/oren/work/notes/notes-nlp/.venv/lib/python3.10/site-packages/jedi/inference/analysis.py\": 1738208869.6695533, \"/home/oren/work/notes/notes-nlp/.venv/lib/python3.10/site-packages/jedi/inference/gradual/__init__.py\": 1738208869.6725533, \"/home/oren/work/notes/notes-nlp/.venv/lib/python3.10/site-packages/jedi/inference/value/module.py\": 1738208869.6745532, \"/home/oren/work/notes/notes-nlp/.venv/lib/python3.10/site-packages/jedi/inference/value/dynamic_arrays.py\": 1738208869.6735532, \"/home/oren/work/notes/notes-nlp/.venv/lib/python3.10/site-packages/jedi/inference/value/iterable.py\": 1738208869.6745532, \"/home/oren/work/notes/notes-nlp/.venv/lib/python3.10/site-packages/jedi/inference/arguments.py\": 1738208869.6695533, \"/home/oren/work/notes/notes-nlp/.venv/lib/python3.10/site-packages/jedi/inference/parser_cache.py\": 1738208869.6715531, \"/home/oren/work/notes/notes-nlp/.venv/lib/python3.10/site-packages/jedi/inference/gradual/generics.py\": 1738208869.6735532, \"/home/oren/work/notes/notes-nlp/.venv/lib/python3.10/site-packages/jedi/inference/value/function.py\": 1738208869.6745532, \"/home/oren/work/notes/notes-nlp/.venv/lib/python3.10/site-packages/jedi/inference/value/klass.py\": 1738208869.6745532, \"/home/oren/work/notes/notes-nlp/.venv/lib/python3.10/site-packages/jedi/inference/value/instance.py\": 1738208869.6745532, \"/home/oren/work/notes/notes-nlp/.venv/lib/python3.10/site-packages/jedi/inference/value/__init__.py\": 1738208869.6735532, \"/home/oren/work/notes/notes-nlp/.venv/lib/python3.10/site-packages/jedi/inference/gradual/base.py\": 1738208869.6735532, \"/home/oren/work/notes/notes-nlp/.venv/lib/python3.10/site-packages/jedi/inference/gradual/type_var.py\": 1738208869.6735532, \"/home/oren/work/notes/notes-nlp/.venv/lib/python3.10/site-packages/jedi/inference/gradual/typing.py\": 1738208869.6735532, \"/home/oren/work/notes/notes-nlp/.venv/lib/python3.10/site-packages/jedi/inference/gradual/stub_value.py\": 1738208869.6735532, \"/home/oren/work/notes/notes-nlp/.venv/lib/python3.10/site-packages/jedi/inference/gradual/typeshed.py\": 1738208869.6735532, \"/home/oren/work/notes/notes-nlp/.venv/lib/python3.10/site-packages/jedi/_compatibility.py\": 1738208869.6665533, \"/home/oren/work/notes/notes-nlp/.venv/lib/python3.10/site-packages/jedi/inference/compiled/subprocess/functions.py\": 1738208869.6725533, \"/home/oren/work/notes/notes-nlp/.venv/lib/python3.10/site-packages/jedi/api/exceptions.py\": 1738208869.6685534, \"/home/oren/work/notes/notes-nlp/.venv/lib/python3.10/site-packages/jedi/inference/compiled/subprocess/__init__.py\": 1738208869.6725533, \"/home/oren/work/notes/notes-nlp/.venv/lib/python3.10/site-packages/jedi/inference/imports.py\": 1738208869.6705532, \"/home/oren/work/notes/notes-nlp/.venv/lib/python3.10/site-packages/jedi/inference/param.py\": 1738208869.6715531, \"/home/oren/work/notes/notes-nlp/.venv/lib/python3.10/site-packages/jedi/inference/gradual/annotation.py\": 1738208869.6725533, \"/home/oren/work/notes/notes-nlp/.venv/lib/python3.10/site-packages/jedi/inference/value/decorator.py\": 1738208869.6735532, \"/home/oren/work/notes/notes-nlp/.venv/lib/python3.10/site-packages/jedi/inference/syntax_tree.py\": 1738208869.6715531, \"/home/oren/work/notes/notes-nlp/.venv/lib/python3.10/site-packages/jedi/inference/__init__.py\": 1738208869.6695533, \"/home/oren/work/notes/notes-nlp/.venv/lib/python3.10/site-packages/jedi/inference/gradual/conversion.py\": 1738208869.6735532, \"/home/oren/work/notes/notes-nlp/.venv/lib/python3.10/site-packages/jedi/inference/compiled/mixed.py\": 1738208869.6725533, \"/usr/lib/python3.10/pydoc_data/__init__.py\": 1737124534.0, \"/usr/lib/python3.10/pydoc_data/topics.py\": 1737124534.0, \"/home/oren/work/notes/notes-nlp/.venv/lib/python3.10/site-packages/jedi/api/keywords.py\": 1738208869.6685534, \"/home/oren/work/notes/notes-nlp/.venv/lib/python3.10/site-packages/jedi/api/completion_cache.py\": 1738208869.6685534, \"/home/oren/work/notes/notes-nlp/.venv/lib/python3.10/site-packages/jedi/api/helpers.py\": 1738208869.6685534, \"/home/oren/work/notes/notes-nlp/.venv/lib/python3.10/site-packages/jedi/api/classes.py\": 1738208869.6675534, \"/home/oren/work/notes/notes-nlp/.venv/lib/python3.10/site-packages/jedi/api/interpreter.py\": 1738208869.6685534, \"/home/oren/work/notes/notes-nlp/.venv/lib/python3.10/site-packages/jedi/api/strings.py\": 1738208869.6695533, \"/home/oren/work/notes/notes-nlp/.venv/lib/python3.10/site-packages/jedi/api/file_name.py\": 1738208869.6685534, \"/home/oren/work/notes/notes-nlp/.venv/lib/python3.10/site-packages/jedi/inference/docstring_utils.py\": 1738208869.6705532, \"/home/oren/work/notes/notes-nlp/.venv/lib/python3.10/site-packages/jedi/api/completion.py\": 1738208869.6685534, \"/usr/lib/python3.10/filecmp.py\": 1737124534.0, \"/home/oren/work/notes/notes-nlp/.venv/lib/python3.10/site-packages/jedi/api/environment.py\": 1738208869.6685534, \"/home/oren/work/notes/notes-nlp/.venv/lib/python3.10/site-packages/jedi/inference/references.py\": 1738208869.6715531, \"/home/oren/work/notes/notes-nlp/.venv/lib/python3.10/site-packages/jedi/api/project.py\": 1738208869.6685534, \"/home/oren/work/notes/notes-nlp/.venv/lib/python3.10/site-packages/jedi/api/errors.py\": 1738208869.6685534, \"/home/oren/work/notes/notes-nlp/.venv/lib/python3.10/site-packages/jedi/inference/value/namespace.py\": 1738208869.6745532, \"/home/oren/work/notes/notes-nlp/.venv/lib/python3.10/site-packages/jedi/api/refactoring/__init__.py\": 1738208869.6695533, \"/home/oren/work/notes/notes-nlp/.venv/lib/python3.10/site-packages/jedi/api/refactoring/extract.py\": 1738208869.6695533, \"/home/oren/work/notes/notes-nlp/.venv/lib/python3.10/site-packages/jedi/inference/gradual/utils.py\": 1738208869.6735532, \"/home/oren/work/notes/notes-nlp/.venv/lib/python3.10/site-packages/jedi/api/__init__.py\": 1738208869.6675534, \"/home/oren/work/notes/notes-nlp/.venv/lib/python3.10/site-packages/jedi/plugins/stdlib.py\": 1738208869.675553, \"/home/oren/work/notes/notes-nlp/.venv/lib/python3.10/site-packages/jedi/plugins/flask.py\": 1738208869.6745532, \"/home/oren/work/notes/notes-nlp/.venv/lib/python3.10/site-packages/jedi/plugins/pytest.py\": 1738208869.675553, \"/home/oren/work/notes/notes-nlp/.venv/lib/python3.10/site-packages/jedi/plugins/django.py\": 1738208869.6745532, \"/home/oren/work/notes/notes-nlp/.venv/lib/python3.10/site-packages/jedi/plugins/registry.py\": 1738208869.675553, \"/home/oren/work/notes/notes-nlp/.venv/lib/python3.10/site-packages/jedi/__init__.py\": 1738208869.6665533, \"/home/oren/work/notes/notes-nlp/.venv/lib/python3.10/site-packages/IPython/core/completer.py\": 1738211116.356855, \"/home/oren/work/notes/notes-nlp/.venv/lib/python3.10/site-packages/IPython/terminal/ptutils.py\": 1738211116.3748546, \"/home/oren/work/notes/notes-nlp/.venv/lib/python3.10/site-packages/IPython/terminal/shortcuts/auto_match.py\": 1738211116.3758545, \"/home/oren/work/notes/notes-nlp/.venv/lib/python3.10/site-packages/IPython/terminal/shortcuts/filters.py\": 1738211116.3758545, \"/home/oren/work/notes/notes-nlp/.venv/lib/python3.10/site-packages/IPython/terminal/shortcuts/auto_suggest.py\": 1738211116.3758545, \"/home/oren/work/notes/notes-nlp/.venv/lib/python3.10/site-packages/IPython/terminal/shortcuts/__init__.py\": 1738211116.3758545, \"/usr/lib/python3.10/concurrent/futures/thread.py\": 1737124534.0, \"/home/oren/work/notes/notes-nlp/.venv/lib/python3.10/site-packages/IPython/terminal/debugger.py\": 1738211116.3738546, \"/home/oren/work/notes/notes-nlp/.venv/lib/python3.10/site-packages/IPython/lib/clipboard.py\": 1738211116.3708546, \"/home/oren/work/notes/notes-nlp/.venv/lib/python3.10/site-packages/IPython/terminal/magics.py\": 1738211116.3748546, \"/home/oren/work/notes/notes-nlp/.venv/lib/python3.10/site-packages/IPython/terminal/pt_inputhooks/__init__.py\": 1738211116.3748546, \"/home/oren/work/notes/notes-nlp/.venv/lib/python3.10/site-packages/IPython/terminal/prompts.py\": 1738211116.3748546, \"/home/oren/work/notes/notes-nlp/.venv/lib/python3.10/site-packages/IPython/terminal/interactiveshell.py\": 1738211116.3738546, \"/home/oren/work/notes/notes-nlp/.venv/lib/python3.10/site-packages/IPython/core/magics/auto.py\": 1738211116.3628547, \"/home/oren/work/notes/notes-nlp/.venv/lib/python3.10/site-packages/IPython/core/magics/basic.py\": 1738211116.3628547, \"/usr/lib/python3.10/http/__init__.py\": 1737124534.0, \"/usr/lib/python3.10/email/feedparser.py\": 1737124534.0, \"/usr/lib/python3.10/email/parser.py\": 1737124534.0, \"/usr/lib/python3.10/http/client.py\": 1737124534.0, \"/usr/lib/python3.10/urllib/response.py\": 1737124534.0, \"/usr/lib/python3.10/urllib/error.py\": 1737124534.0, \"/usr/lib/python3.10/urllib/request.py\": 1737124534.0, \"/home/oren/work/notes/notes-nlp/.venv/lib/python3.10/site-packages/IPython/utils/contexts.py\": 1738211116.3798544, \"/home/oren/work/notes/notes-nlp/.venv/lib/python3.10/site-packages/IPython/core/magics/code.py\": 1738211116.363855, \"/home/oren/work/notes/notes-nlp/.venv/lib/python3.10/site-packages/IPython/core/magics/config.py\": 1738211116.363855, \"/home/oren/work/notes/notes-nlp/.venv/lib/python3.10/site-packages/IPython/core/magics/display.py\": 1738211116.363855, \"/usr/lib/python3.10/lib-dynload/_lsprof.cpython-310-x86_64-linux-gnu.so\": 1737124534.0, \"/usr/lib/python3.10/profile.py\": 1737124534.0, \"/usr/lib/python3.10/cProfile.py\": 1737124534.0, \"/usr/lib/python3.10/pstats.py\": 1737124534.0, \"/usr/lib/python3.10/timeit.py\": 1737124534.0, \"/home/oren/work/notes/notes-nlp/.venv/lib/python3.10/site-packages/IPython/utils/module_paths.py\": 1738211116.3808546, \"/usr/lib/python3.10/lib-dynload/resource.cpython-310-x86_64-linux-gnu.so\": 1737124534.0, \"/home/oren/work/notes/notes-nlp/.venv/lib/python3.10/site-packages/IPython/utils/timing.py\": 1738211116.3818545, \"/home/oren/work/notes/notes-nlp/.venv/lib/python3.10/site-packages/IPython/core/magics/ast_mod.py\": 1738211116.3628547, \"/home/oren/work/notes/notes-nlp/.venv/lib/python3.10/site-packages/IPython/core/magics/execution.py\": 1738211116.363855, \"/home/oren/work/notes/notes-nlp/.venv/lib/python3.10/site-packages/IPython/core/magics/extension.py\": 1738211116.363855, \"/home/oren/work/notes/notes-nlp/.venv/lib/python3.10/site-packages/IPython/core/magics/history.py\": 1738211116.363855, \"/home/oren/work/notes/notes-nlp/.venv/lib/python3.10/site-packages/IPython/core/magics/logging.py\": 1738211116.363855, \"/home/oren/work/notes/notes-nlp/.venv/lib/python3.10/site-packages/IPython/core/magics/namespace.py\": 1738211116.363855, \"/home/oren/work/notes/notes-nlp/.venv/lib/python3.10/site-packages/IPython/core/magics/osm.py\": 1738211116.3648548, \"/home/oren/work/notes/notes-nlp/.venv/lib/python3.10/site-packages/IPython/core/magics/packaging.py\": 1738211116.3648548, \"/home/oren/work/notes/notes-nlp/.venv/lib/python3.10/site-packages/IPython/core/magics/pylab.py\": 1738211116.3648548, \"/home/oren/work/notes/notes-nlp/.venv/lib/python3.10/site-packages/IPython/core/magics/script.py\": 1738211116.3648548, \"/home/oren/work/notes/notes-nlp/.venv/lib/python3.10/site-packages/IPython/core/magics/__init__.py\": 1738211116.3628547, \"/home/oren/work/notes/notes-nlp/.venv/lib/python3.10/site-packages/IPython/core/shellapp.py\": 1738211116.3618548, \"/home/oren/work/notes/notes-nlp/.venv/lib/python3.10/site-packages/IPython/extensions/__init__.py\": 1738211116.3698547, \"/home/oren/work/notes/notes-nlp/.venv/lib/python3.10/site-packages/IPython/extensions/storemagic.py\": 1738211116.3698547, \"/home/oren/work/notes/notes-nlp/.venv/lib/python3.10/site-packages/IPython/terminal/ipapp.py\": 1738211116.3738546, \"/home/oren/work/notes/notes-nlp/.venv/lib/python3.10/site-packages/IPython/terminal/embed.py\": 1738211116.3738546, \"/home/oren/work/notes/notes-nlp/.venv/lib/python3.10/site-packages/IPython/utils/frame.py\": 1738211116.3798544, \"/home/oren/work/notes/notes-nlp/.venv/lib/python3.10/site-packages/IPython/__init__.py\": 1738211116.355855, \"/home/oren/work/notes/notes-nlp/.venv/lib/python3.10/site-packages/ipykernel/control.py\": 1738211119.9207983, \"/home/oren/work/notes/notes-nlp/.venv/lib/python3.10/site-packages/ipykernel/heartbeat.py\": 1738211119.9207983, \"/home/oren/work/notes/notes-nlp/.venv/lib/python3.10/site-packages/ipykernel/iostream.py\": 1738211119.9217982, \"/home/oren/work/notes/notes-nlp/.venv/lib/python3.10/site-packages/comm/base_comm.py\": 1738208871.9115176, \"/home/oren/work/notes/notes-nlp/.venv/lib/python3.10/site-packages/comm/__init__.py\": 1738208871.9115176, \"/home/oren/work/notes/notes-nlp/.venv/lib/python3.10/site-packages/ipykernel/jsonutil.py\": 1738211119.9217982, \"/home/oren/work/notes/notes-nlp/.venv/lib/python3.10/site-packages/psutil/_common.py\": 1738206370.0776312, \"/home/oren/work/notes/notes-nlp/.venv/lib/python3.10/site-packages/psutil/_compat.py\": 1738206370.0786312, \"/home/oren/work/notes/notes-nlp/.venv/lib/python3.10/site-packages/psutil/_psposix.py\": 1738206370.0776312, \"/home/oren/work/notes/notes-nlp/.venv/lib/python3.10/site-packages/psutil/_psutil_linux.abi3.so\": 1738206370.079631, \"/home/oren/work/notes/notes-nlp/.venv/lib/python3.10/site-packages/psutil/_psutil_posix.abi3.so\": 1738206370.0776312, \"/home/oren/work/notes/notes-nlp/.venv/lib/python3.10/site-packages/psutil/_pslinux.py\": 1738206370.0766313, \"/home/oren/work/notes/notes-nlp/.venv/lib/python3.10/site-packages/psutil/__init__.py\": 1738206370.0786312, \"/home/oren/work/notes/notes-nlp/.venv/lib/python3.10/site-packages/tornado/gen.py\": 1738206367.9866652, \"/home/oren/work/notes/notes-nlp/.venv/lib/python3.10/site-packages/tornado/locks.py\": 1738206367.9856653, \"/home/oren/work/notes/notes-nlp/.venv/lib/python3.10/site-packages/tornado/queues.py\": 1738206367.9906652, \"/home/oren/work/notes/notes-nlp/.venv/lib/python3.10/site-packages/ipykernel/kernelbase.py\": 1738211119.9217982, \"/home/oren/work/notes/notes-nlp/.venv/lib/python3.10/site-packages/ipykernel/comm/comm.py\": 1738211119.9227982, \"/home/oren/work/notes/notes-nlp/.venv/lib/python3.10/site-packages/ipykernel/comm/manager.py\": 1738211119.9227982, \"/home/oren/work/notes/notes-nlp/.venv/lib/python3.10/site-packages/ipykernel/comm/__init__.py\": 1738211119.9227982, \"/home/oren/work/notes/notes-nlp/.venv/lib/python3.10/site-packages/ipykernel/compiler.py\": 1738211119.9207983, \"/home/oren/work/notes/notes-nlp/.venv/lib/python3.10/site-packages/packaging/__init__.py\": 1738206370.648622, \"/home/oren/work/notes/notes-nlp/.venv/lib/python3.10/site-packages/packaging/_structures.py\": 1738206370.649622, \"/home/oren/work/notes/notes-nlp/.venv/lib/python3.10/site-packages/packaging/version.py\": 1738206370.650622, \"/home/oren/work/notes/notes-nlp/.venv/lib/python3.10/site-packages/ipykernel/eventloops.py\": 1738211119.9207983, \"/home/oren/work/notes/notes-nlp/.venv/lib/python3.10/site-packages/IPython/core/payloadpage.py\": 1738211116.3618548, \"/home/oren/work/notes/notes-nlp/.venv/lib/python3.10/site-packages/ipykernel/displayhook.py\": 1738211119.9207983, \"/home/oren/work/notes/notes-nlp/.venv/lib/python3.10/site-packages/ipykernel/zmqshell.py\": 1738211119.9227982, \"/home/oren/work/notes/notes-nlp/.venv/lib/python3.10/site-packages/ipykernel/ipkernel.py\": 1738211119.9217982, \"/usr/lib/python3.10/lib-dynload/_ctypes.cpython-310-x86_64-linux-gnu.so\": 1737124534.0, \"/usr/lib/python3.10/ctypes/_endian.py\": 1737124534.0, \"/usr/lib/python3.10/ctypes/__init__.py\": 1737124534.0, \"/home/oren/work/notes/notes-nlp/.venv/lib/python3.10/site-packages/ipykernel/parentpoller.py\": 1738211119.9217982, \"/home/oren/work/notes/notes-nlp/.venv/lib/python3.10/site-packages/ipykernel/kernelapp.py\": 1738211119.9217982, \"/home/oren/work/notes/notes-nlp/.venv/lib/python3.10/site-packages/tornado/platform/__init__.py\": 1738206367.998665, \"/home/oren/work/notes/notes-nlp/.venv/lib/python3.10/site-packages/tornado/platform/asyncio.py\": 1738206367.998665, \"/home/oren/work/notes/notes-nlp/.venv/lib/python3.10/site-packages/debugpy/_version.py\": 1738208871.4625247, \"/home/oren/work/notes/notes-nlp/.venv/lib/python3.10/site-packages/debugpy/public_api.py\": 1738208871.4625247, \"/home/oren/work/notes/notes-nlp/.venv/lib/python3.10/site-packages/debugpy/__init__.py\": 1738208871.4625247, \"/home/oren/work/notes/notes-nlp/.venv/lib/python3.10/site-packages/debugpy/_vendored/_util.py\": 1738208871.4635246, \"/home/oren/work/notes/notes-nlp/.venv/lib/python3.10/site-packages/debugpy/_vendored/__init__.py\": 1738208871.4635246, \"/home/oren/work/notes/notes-nlp/.venv/lib/python3.10/site-packages/debugpy/_vendored/pydevd/_pydevd_bundle/__init__.py\": 1738208871.4765244, \"/usr/lib/python3.10/encodings/ascii.py\": 1737124534.0, \"/usr/lib/python3.10/encodings/latin_1.py\": 1737124534.0, \"/usr/lib/python3.10/stringprep.py\": 1737124534.0, \"/usr/lib/python3.10/encodings/idna.py\": 1737124534.0, \"/home/oren/work/notes/notes-nlp/.venv/lib/python3.10/site-packages/debugpy/_vendored/pydevd/_pydevd_bundle/pydevd_vm_type.py\": 1738208871.4765244, \"/home/oren/work/notes/notes-nlp/.venv/lib/python3.10/site-packages/debugpy/_vendored/pydevd/_pydev_bundle/__init__.py\": 1738208871.4665246, \"/usr/lib/python3.10/xmlrpc/__init__.py\": 1737124534.0, \"/usr/lib/python3.10/gzip.py\": 1737124534.0, \"/usr/lib/python3.10/xmlrpc/client.py\": 1737124534.0, \"/usr/lib/python3.10/http/server.py\": 1737124534.0, \"/usr/lib/python3.10/xmlrpc/server.py\": 1737124534.0, \"/home/oren/work/notes/notes-nlp/.venv/lib/python3.10/site-packages/debugpy/_vendored/pydevd/_pydev_bundle/_pydev_saved_modules.py\": 1738208871.4655247, \"/home/oren/work/notes/notes-nlp/.venv/lib/python3.10/site-packages/debugpy/_vendored/pydevd/_pydevd_bundle/pydevd_constants.py\": 1738208871.4685247, \"/home/oren/work/notes/notes-nlp/.venv/lib/python3.10/site-packages/debugpy/_vendored/pydevd/_pydev_runfiles/__init__.py\": 1738208871.5095239, \"/home/oren/work/notes/notes-nlp/.venv/lib/python3.10/site-packages/debugpy/_vendored/pydevd/_pydevd_frame_eval/__init__.py\": 1738208871.5285237, \"/home/oren/work/notes/notes-nlp/.venv/lib/python3.10/site-packages/debugpy/_vendored/pydevd/pydev_ipython/__init__.py\": 1738208871.507524, \"/home/oren/work/notes/notes-nlp/.venv/lib/python3.10/site-packages/debugpy/_vendored/pydevd/pydevd_plugins/__init__.py\": 1738208871.508524, \"/home/oren/work/notes/notes-nlp/.venv/lib/python3.10/site-packages/debugpy/_vendored/pydevd/_pydev_bundle/pydev_log.py\": 1738208871.4665246, \"/home/oren/work/notes/notes-nlp/.venv/lib/python3.10/site-packages/debugpy/_vendored/pydevd/_pydev_bundle/_pydev_filesystem_encoding.py\": 1738208871.4675245, \"/home/oren/work/notes/notes-nlp/.venv/lib/python3.10/site-packages/debugpy/_vendored/pydevd/_pydevd_bundle/pydevd_comm_constants.py\": 1738208871.4705245, \"/home/oren/work/notes/notes-nlp/.venv/lib/python3.10/site-packages/debugpy/_vendored/pydevd/pydevd_file_utils.py\": 1738208871.4645247, \"/home/oren/work/notes/notes-nlp/.venv/lib/python3.10/site-packages/debugpy/_vendored/pydevd/_pydevd_bundle/pydevd_dont_trace_files.py\": 1738208871.4765244, \"/home/oren/work/notes/notes-nlp/.venv/lib/python3.10/site-packages/debugpy/_vendored/pydevd/_pydev_bundle/_pydev_execfile.py\": 1738208871.4665246, \"/home/oren/work/notes/notes-nlp/.venv/lib/python3.10/site-packages/debugpy/_vendored/pydevd/_pydevd_bundle/pydevd_exec2.py\": 1738208871.496524, \"/home/oren/work/notes/notes-nlp/.venv/lib/python3.10/site-packages/debugpy/_vendored/pydevd/_pydev_bundle/pydev_imports.py\": 1738208871.4675245, \"/home/oren/work/notes/notes-nlp/.venv/lib/python3.10/site-packages/debugpy/_vendored/pydevd/_pydev_bundle/pydev_is_thread_alive.py\": 1738208871.4665246, \"/home/oren/work/notes/notes-nlp/.venv/lib/python3.10/site-packages/debugpy/_vendored/pydevd/_pydev_bundle/pydev_override.py\": 1738208871.4655247, \"/home/oren/work/notes/notes-nlp/.venv/lib/python3.10/site-packages/debugpy/_vendored/pydevd/pydevd_plugins/extensions/__init__.py\": 1738208871.508524, \"/home/oren/work/notes/notes-nlp/.venv/lib/python3.10/site-packages/debugpy/_vendored/pydevd/_pydevd_bundle/pydevd_extension_utils.py\": 1738208871.4685247, \"/home/oren/work/notes/notes-nlp/.venv/lib/python3.10/site-packages/debugpy/_vendored/pydevd/_pydevd_bundle/pydevd_frame_utils.py\": 1738208871.4775245, \"/home/oren/work/notes/notes-nlp/.venv/lib/python3.10/site-packages/debugpy/_vendored/pydevd/_pydevd_bundle/pydevd_filtering.py\": 1738208871.4675245, \"/home/oren/work/notes/notes-nlp/.venv/lib/python3.10/site-packages/debugpy/_vendored/pydevd/_pydevd_bundle/pydevd_io.py\": 1738208871.497524, \"/home/oren/work/notes/notes-nlp/.venv/lib/python3.10/site-packages/debugpy/_vendored/pydevd/_pydevd_bundle/pydevd_defaults.py\": 1738208871.4765244, \"/home/oren/work/notes/notes-nlp/.venv/lib/python3.10/site-packages/debugpy/_vendored/pydevd/_pydevd_bundle/pydevd_utils.py\": 1738208871.4675245, \"/home/oren/work/notes/notes-nlp/.venv/lib/python3.10/site-packages/debugpy/_vendored/pydevd/_pydevd_bundle/pydevd_runpy.py\": 1738208871.4785244, \"/home/oren/work/notes/notes-nlp/.venv/lib/python3.10/site-packages/debugpy/_vendored/pydevd/_pydev_bundle/_pydev_tipper_common.py\": 1738208871.4675245, \"/home/oren/work/notes/notes-nlp/.venv/lib/python3.10/site-packages/debugpy/_vendored/pydevd/_pydev_bundle/_pydev_imports_tipper.py\": 1738208871.4655247, \"/home/oren/work/notes/notes-nlp/.venv/lib/python3.10/site-packages/debugpy/_vendored/pydevd/_pydev_bundle/_pydev_calltip_util.py\": 1738208871.4665246, \"/home/oren/work/notes/notes-nlp/.venv/lib/python3.10/site-packages/debugpy/_vendored/pydevd/_pydevd_bundle/pydevd_safe_repr.py\": 1738208871.4785244, \"/home/oren/work/notes/notes-nlp/.venv/lib/python3.10/site-packages/debugpy/_vendored/pydevd/_pydevd_bundle/pydevd_resolver.py\": 1738208871.4785244, \"/home/oren/work/notes/notes-nlp/.venv/lib/python3.10/site-packages/debugpy/_vendored/pydevd/_pydevd_bundle/pydevd_extension_api.py\": 1738208871.4765244, \"/home/oren/work/notes/notes-nlp/.venv/lib/python3.10/site-packages/debugpy/_vendored/pydevd/_pydevd_bundle/pydevd_xml.py\": 1738208871.4785244, \"/home/oren/work/notes/notes-nlp/.venv/lib/python3.10/site-packages/debugpy/_vendored/pydevd/_pydevd_bundle/pydevd_dont_trace.py\": 1738208871.4765244, \"/home/oren/work/notes/notes-nlp/.venv/lib/python3.10/site-packages/debugpy/_vendored/pydevd/_pydevd_frame_eval/vendored/__init__.py\": 1738208871.5315237, \"/home/oren/work/notes/notes-nlp/.venv/lib/python3.10/site-packages/debugpy/_vendored/pydevd/_pydevd_frame_eval/vendored/bytecode/flags.py\": 1738208871.5325236, \"/home/oren/work/notes/notes-nlp/.venv/lib/python3.10/site-packages/debugpy/_vendored/pydevd/_pydevd_frame_eval/vendored/bytecode/instr.py\": 1738208871.5315237, \"/home/oren/work/notes/notes-nlp/.venv/lib/python3.10/site-packages/debugpy/_vendored/pydevd/_pydevd_frame_eval/vendored/bytecode/bytecode.py\": 1738208871.5325236, \"/home/oren/work/notes/notes-nlp/.venv/lib/python3.10/site-packages/debugpy/_vendored/pydevd/_pydevd_frame_eval/vendored/bytecode/concrete.py\": 1738208871.5315237, \"/home/oren/work/notes/notes-nlp/.venv/lib/python3.10/site-packages/debugpy/_vendored/pydevd/_pydevd_frame_eval/vendored/bytecode/cfg.py\": 1738208871.5325236, \"/home/oren/work/notes/notes-nlp/.venv/lib/python3.10/site-packages/debugpy/_vendored/pydevd/_pydevd_frame_eval/vendored/bytecode/__init__.py\": 1738208871.5325236, \"/home/oren/work/notes/notes-nlp/.venv/lib/python3.10/site-packages/debugpy/_vendored/pydevd/_pydevd_bundle/pydevd_bytecode_utils.py\": 1738208871.496524, \"/home/oren/work/notes/notes-nlp/.venv/lib/python3.10/site-packages/debugpy/_vendored/pydevd/_pydevd_bundle/pydevd_cython.cpython-310-x86_64-linux-gnu.so\": 1738208871.4955242, \"/home/oren/work/notes/notes-nlp/.venv/lib/python3.10/site-packages/debugpy/_vendored/pydevd/_pydevd_bundle/pydevd_cython_wrapper.py\": 1738208871.4705245, \"/home/oren/work/notes/notes-nlp/.venv/lib/python3.10/site-packages/debugpy/_vendored/pydevd/_pydevd_bundle/pydevd_additional_thread_info.py\": 1738208871.4685247, \"/home/oren/work/notes/notes-nlp/.venv/lib/python3.10/site-packages/debugpy/_vendored/pydevd/_pydevd_bundle/pydevd_additional_thread_info_regular.py\": 1738208871.4695246, \"/home/oren/work/notes/notes-nlp/.venv/lib/python3.10/site-packages/debugpy/_vendored/pydevd/_pydevd_bundle/pydevd_trace_dispatch.py\": 1738208871.4765244, \"/home/oren/work/notes/notes-nlp/.venv/lib/python3.10/site-packages/debugpy/_vendored/pydevd/_pydevd_bundle/pydevd_import_class.py\": 1738208871.4765244, \"/home/oren/work/notes/notes-nlp/.venv/lib/python3.10/site-packages/debugpy/_vendored/pydevd/_pydevd_bundle/pydevd_breakpoints.py\": 1738208871.4675245, \"/home/oren/work/notes/notes-nlp/.venv/lib/python3.10/site-packages/debugpy/_vendored/pydevd/_pydevd_sys_monitoring/_pydevd_sys_monitoring.py\": 1738208871.506524, \"/home/oren/work/notes/notes-nlp/.venv/lib/python3.10/site-packages/debugpy/_vendored/pydevd/_pydevd_sys_monitoring/pydevd_sys_monitoring.py\": 1738208871.505524, \"/home/oren/work/notes/notes-nlp/.venv/lib/python3.10/site-packages/debugpy/_vendored/pydevd/_pydevd_bundle/pydevd_thread_lifecycle.py\": 1738208871.4765244, \"/home/oren/work/notes/notes-nlp/.venv/lib/python3.10/site-packages/debugpy/_vendored/pydevd/_pydevd_bundle/pydevd_save_locals.py\": 1738208871.497524, \"/home/oren/work/notes/notes-nlp/.venv/lib/python3.10/site-packages/debugpy/_vendored/pydevd/_pydev_bundle/pydev_monkey.py\": 1738208871.4665246, \"/home/oren/work/notes/notes-nlp/.venv/lib/python3.10/site-packages/debugpy/_vendored/pydevd/pydevd_tracing.py\": 1738208871.4635246, \"/home/oren/work/notes/notes-nlp/.venv/lib/python3.10/site-packages/debugpy/_vendored/pydevd/_pydevd_bundle/pydevd_collect_bytecode_info.py\": 1738208871.4695246, \"/home/oren/work/notes/notes-nlp/.venv/lib/python3.10/site-packages/debugpy/_vendored/pydevd/_pydevd_bundle/pydevd_daemon_thread.py\": 1738208871.4685247, \"/home/oren/work/notes/notes-nlp/.venv/lib/python3.10/site-packages/debugpy/_vendored/pydevd/_pydevd_bundle/pydevd_timeout.py\": 1738208871.496524, \"/home/oren/work/notes/notes-nlp/.venv/lib/python3.10/site-packages/debugpy/_vendored/pydevd/_pydevd_bundle/pydevd_vars.py\": 1738208871.4685247, \"/home/oren/work/notes/notes-nlp/.venv/lib/python3.10/site-packages/debugpy/_vendored/pydevd/_pydev_bundle/pydev_console_utils.py\": 1738208871.4655247, \"/home/oren/work/notes/notes-nlp/.venv/lib/python3.10/site-packages/debugpy/_vendored/pydevd/_pydevd_bundle/pydevd_custom_frames.py\": 1738208871.4775245, \"/home/oren/work/notes/notes-nlp/.venv/lib/python3.10/site-packages/debugpy/_vendored/pydevd/_pydevd_bundle/pydevd_net_command.py\": 1738208871.4695246, \"/home/oren/work/notes/notes-nlp/.venv/lib/python3.10/site-packages/debugpy/_vendored/pydevd/_pydevd_bundle/pydevconsole_code.py\": 1738208871.497524, \"/home/oren/work/notes/notes-nlp/.venv/lib/python3.10/site-packages/debugpy/_vendored/pydevd/_pydev_bundle/pydev_umd.py\": 1738208871.4665246, \"/home/oren/work/notes/notes-nlp/.venv/lib/python3.10/site-packages/debugpy/_vendored/pydevd/pydevconsole.py\": 1738208871.4645247, \"/home/oren/work/notes/notes-nlp/.venv/lib/python3.10/site-packages/debugpy/_vendored/pydevd/_pydev_bundle/_pydev_completer.py\": 1738208871.4665246, \"/home/oren/work/notes/notes-nlp/.venv/lib/python3.10/site-packages/debugpy/_vendored/pydevd/_pydevd_bundle/pydevd_net_command_factory_xml.py\": 1738208871.4695246, \"/home/oren/work/notes/notes-nlp/.venv/lib/python3.10/site-packages/debugpy/_vendored/pydevd/_pydevd_frame_eval/pydevd_frame_eval_main.py\": 1738208871.5215237, \"/home/oren/work/notes/notes-nlp/.venv/lib/python3.10/site-packages/debugpy/_vendored/pydevd/_pydevd_bundle/pydevd_source_mapping.py\": 1738208871.4695246, \"/home/oren/work/notes/notes-nlp/.venv/lib/python3.10/site-packages/debugpy/_vendored/pydevd/_pydevd_bundle/pydevd_concurrency_analyser/__init__.py\": 1738208871.500524, \"/home/oren/work/notes/notes-nlp/.venv/lib/python3.10/site-packages/debugpy/_vendored/pydevd/_pydevd_bundle/pydevd_concurrency_analyser/pydevd_thread_wrappers.py\": 1738208871.500524, \"/home/oren/work/notes/notes-nlp/.venv/lib/python3.10/site-packages/debugpy/_vendored/pydevd/_pydevd_bundle/pydevd_concurrency_analyser/pydevd_concurrency_logger.py\": 1738208871.500524, \"/home/oren/work/notes/notes-nlp/.venv/lib/python3.10/site-packages/debugpy/_vendored/pydevd/_pydevd_bundle/_debug_adapter/__init__.py\": 1738208871.4985242, \"/home/oren/work/notes/notes-nlp/.venv/lib/python3.10/site-packages/debugpy/_vendored/pydevd/_pydevd_bundle/_debug_adapter/pydevd_schema_log.py\": 1738208871.497524, \"/home/oren/work/notes/notes-nlp/.venv/lib/python3.10/site-packages/debugpy/_vendored/pydevd/_pydevd_bundle/_debug_adapter/pydevd_base_schema.py\": 1738208871.497524, \"/home/oren/work/notes/notes-nlp/.venv/lib/python3.10/site-packages/debugpy/_vendored/pydevd/_pydevd_bundle/_debug_adapter/pydevd_schema.py\": 1738208871.500524, \"/home/oren/work/notes/notes-nlp/.venv/lib/python3.10/site-packages/debugpy/_vendored/pydevd/_pydevd_bundle/pydevd_reload.py\": 1738208871.4775245, \"/home/oren/work/notes/notes-nlp/.venv/lib/python3.10/site-packages/debugpy/_vendored/pydevd/_pydev_bundle/fsnotify/__init__.py\": 1738208871.4675245, \"/home/oren/work/notes/notes-nlp/.venv/lib/python3.10/site-packages/debugpy/_vendored/pydevd/_pydevd_bundle/pydevd_console.py\": 1738208871.496524, \"/home/oren/work/notes/notes-nlp/.venv/lib/python3.10/site-packages/debugpy/_vendored/pydevd/_pydevd_bundle/pydevd_comm.py\": 1738208871.4775245, \"/home/oren/work/notes/notes-nlp/.venv/lib/python3.10/site-packages/debugpy/_vendored/pydevd/_pydevd_bundle/pydevd_net_command_factory_json.py\": 1738208871.4785244, \"/home/oren/work/notes/notes-nlp/.venv/lib/python3.10/site-packages/debugpy/_vendored/pydevd/_pydevd_bundle/pydevd_api.py\": 1738208871.4785244, \"/home/oren/work/notes/notes-nlp/.venv/lib/python3.10/site-packages/debugpy/_vendored/pydevd/_pydevd_bundle/pydevd_json_debug_options.py\": 1738208871.4695246, \"/home/oren/work/notes/notes-nlp/.venv/lib/python3.10/site-packages/debugpy/_vendored/pydevd/_pydevd_bundle/pydevd_process_net_command_json.py\": 1738208871.4695246, \"/home/oren/work/notes/notes-nlp/.venv/lib/python3.10/site-packages/debugpy/_vendored/pydevd/_pydevd_bundle/pydevd_traceproperty.py\": 1738208871.4705245, \"/home/oren/work/notes/notes-nlp/.venv/lib/python3.10/site-packages/debugpy/_vendored/pydevd/_pydevd_bundle/pydevd_process_net_command.py\": 1738208871.4775245, \"/home/oren/work/notes/notes-nlp/.venv/lib/python3.10/site-packages/debugpy/_vendored/pydevd/_pydevd_bundle/pydevd_suspended_frames.py\": 1738208871.4695246, \"/home/oren/work/notes/notes-nlp/.venv/lib/python3.10/site-packages/debugpy/_vendored/pydevd/pydevd_plugins/pydevd_line_validation.py\": 1738208871.508524, \"/home/oren/work/notes/notes-nlp/.venv/lib/python3.10/site-packages/debugpy/_vendored/pydevd/pydevd_plugins/django_debug.py\": 1738208871.508524, \"/home/oren/work/notes/notes-nlp/.venv/lib/python3.10/site-packages/debugpy/_vendored/pydevd/pydevd_plugins/jinja2_debug.py\": 1738208871.508524, \"/home/oren/work/notes/notes-nlp/.venv/lib/python3.10/site-packages/debugpy/_vendored/pydevd/_pydevd_bundle/pydevd_plugin_utils.py\": 1738208871.496524, \"/home/oren/work/notes/notes-nlp/.venv/lib/python3.10/site-packages/debugpy/_vendored/pydevd/pydevd_plugins/extensions/types/__init__.py\": 1738208871.508524, \"/home/oren/work/notes/notes-nlp/.venv/lib/python3.10/site-packages/debugpy/_vendored/pydevd/pydevd_plugins/extensions/types/pydevd_helpers.py\": 1738208871.508524, \"/home/oren/work/notes/notes-nlp/.venv/lib/python3.10/site-packages/debugpy/_vendored/pydevd/pydevd_plugins/extensions/types/pydevd_plugin_numpy_types.py\": 1738208871.508524, \"/home/oren/work/notes/notes-nlp/.venv/lib/python3.10/site-packages/debugpy/_vendored/pydevd/pydevd_plugins/extensions/types/pydevd_plugin_pandas_types.py\": 1738208871.5095239, \"/home/oren/work/notes/notes-nlp/.venv/lib/python3.10/site-packages/debugpy/_vendored/pydevd/pydevd_plugins/extensions/types/pydevd_plugins_django_form_str.py\": 1738208871.508524, \"/home/oren/work/notes/notes-nlp/.venv/lib/python3.10/site-packages/debugpy/_vendored/pydevd/pydevd.py\": 1738208871.4645247, \"/home/oren/work/notes/notes-nlp/.venv/lib/python3.10/site-packages/debugpy/_vendored/force_pydevd.py\": 1738208871.4635246, \"/home/oren/work/notes/notes-nlp/.venv/lib/python3.10/site-packages/debugpy/server/__init__.py\": 1738208871.5345235, \"/home/oren/work/notes/notes-nlp/.venv/lib/python3.10/site-packages/debugpy/adapter/__init__.py\": 1738208871.5355234, \"/home/oren/work/notes/notes-nlp/.venv/lib/python3.10/site-packages/debugpy/common/__init__.py\": 1738208871.5345235, \"/home/oren/work/notes/notes-nlp/.venv/lib/python3.10/site-packages/debugpy/common/json.py\": 1738208871.5335236, \"/home/oren/work/notes/notes-nlp/.venv/lib/python3.10/site-packages/debugpy/common/timestamp.py\": 1738208871.5345235, \"/home/oren/work/notes/notes-nlp/.venv/lib/python3.10/site-packages/debugpy/common/util.py\": 1738208871.5345235, \"/home/oren/work/notes/notes-nlp/.venv/lib/python3.10/site-packages/debugpy/common/log.py\": 1738208871.5345235, \"/home/oren/work/notes/notes-nlp/.venv/lib/python3.10/site-packages/debugpy/common/sockets.py\": 1738208871.5335236, \"/home/oren/work/notes/notes-nlp/.venv/lib/python3.10/site-packages/debugpy/server/api.py\": 1738208871.5355234, \"/home/oren/work/notes/notes-nlp/.venv/lib/python3.10/site-packages/ipykernel/debugger.py\": 1738211119.9207983, \"/home/oren/work/notes/notes-nlp/.venv/lib/python3.10/site-packages/IPython/core/completerlib.py\": 1738211116.356855, \"/home/oren/work/notes/notes-nlp/.venv/lib/python3.10/site-packages/matplotlib/_api/deprecation.py\": 1738211113.762896, \"/home/oren/work/notes/notes-nlp/.venv/lib/python3.10/site-packages/matplotlib/_api/__init__.py\": 1738211113.762896, \"/home/oren/work/notes/notes-nlp/.venv/lib/python3.10/site-packages/matplotlib/_version.py\": 1738211113.6558979, \"/home/oren/work/notes/notes-nlp/.venv/lib/python3.10/site-packages/numpy/_utils/_convertions.py\": 1738208868.3505743, \"/home/oren/work/notes/notes-nlp/.venv/lib/python3.10/site-packages/numpy/_utils/__init__.py\": 1738208868.3505743, \"/home/oren/work/notes/notes-nlp/.venv/lib/python3.10/site-packages/numpy/_globals.py\": 1738208868.236576, \"/home/oren/work/notes/notes-nlp/.venv/lib/python3.10/site-packages/numpy/_expired_attrs_2_0.py\": 1738208868.2345762, \"/home/oren/work/notes/notes-nlp/.venv/lib/python3.10/site-packages/numpy/version.py\": 1738208868.236576, \"/home/oren/work/notes/notes-nlp/.venv/lib/python3.10/site-packages/numpy/_distributor_init.py\": 1738208868.236576, \"/home/oren/work/notes/notes-nlp/.venv/lib/python3.10/site-packages/numpy/_utils/_inspect.py\": 1738208868.3495743, \"/home/oren/work/notes/notes-nlp/.venv/lib/python3.10/site-packages/numpy/exceptions.py\": 1738208868.237576, \"/home/oren/work/notes/notes-nlp/.venv/lib/python3.10/site-packages/numpy/_core/_exceptions.py\": 1738208868.2895753, \"/home/oren/work/notes/notes-nlp/.venv/lib/python3.10/site-packages/numpy/dtypes.py\": 1738208868.236576, \"/home/oren/work/notes/notes-nlp/.venv/lib/python3.10/site-packages/numpy/_core/_multiarray_umath.cpython-310-x86_64-linux-gnu.so\": 1738208868.2745755, \"/home/oren/work/notes/notes-nlp/.venv/lib/python3.10/site-packages/numpy/_core/overrides.py\": 1738208868.2775755, \"/home/oren/work/notes/notes-nlp/.venv/lib/python3.10/site-packages/numpy/_core/multiarray.py\": 1738208868.2795753, \"/home/oren/work/notes/notes-nlp/.venv/lib/python3.10/site-packages/numpy/_core/umath.py\": 1738208868.2385762, \"/home/oren/work/notes/notes-nlp/.venv/lib/python3.10/site-packages/numpy/_core/_string_helpers.py\": 1738208868.237576, \"/home/oren/work/notes/notes-nlp/.venv/lib/python3.10/site-packages/numpy/_core/_type_aliases.py\": 1738208868.2765756, \"/home/oren/work/notes/notes-nlp/.venv/lib/python3.10/site-packages/numpy/_core/_dtype.py\": 1738208868.2805755, \"/home/oren/work/notes/notes-nlp/.venv/lib/python3.10/site-packages/numpy/_core/numerictypes.py\": 1738208868.2785754, \"/home/oren/work/notes/notes-nlp/.venv/lib/python3.10/site-packages/numpy/_core/_ufunc_config.py\": 1738208868.2775755, \"/home/oren/work/notes/notes-nlp/.venv/lib/python3.10/site-packages/numpy/_core/_methods.py\": 1738208868.2745755, \"/home/oren/work/notes/notes-nlp/.venv/lib/python3.10/site-packages/numpy/_core/fromnumeric.py\": 1738208868.2795753, \"/home/oren/work/notes/notes-nlp/.venv/lib/python3.10/site-packages/numpy/_core/shape_base.py\": 1738208868.2775755, \"/home/oren/work/notes/notes-nlp/.venv/lib/python3.10/site-packages/numpy/_core/arrayprint.py\": 1738208868.2385762, \"/home/oren/work/notes/notes-nlp/.venv/lib/python3.10/site-packages/numpy/_core/_asarray.py\": 1738208868.2755754, \"/home/oren/work/notes/notes-nlp/.venv/lib/python3.10/site-packages/numpy/_core/numeric.py\": 1738208868.2805755, \"/home/oren/work/notes/notes-nlp/.venv/lib/python3.10/site-packages/numpy/_core/records.py\": 1738208868.2755754, \"/home/oren/work/notes/notes-nlp/.venv/lib/python3.10/site-packages/numpy/_core/memmap.py\": 1738208868.2895753, \"/home/oren/work/notes/notes-nlp/.venv/lib/python3.10/site-packages/numpy/_core/function_base.py\": 1738208868.2765756, \"/home/oren/work/notes/notes-nlp/.venv/lib/python3.10/site-packages/numpy/_core/_machar.py\": 1738208868.2775755, \"/home/oren/work/notes/notes-nlp/.venv/lib/python3.10/site-packages/numpy/_core/getlimits.py\": 1738208868.2745755, \"/home/oren/work/notes/notes-nlp/.venv/lib/python3.10/site-packages/numpy/_core/einsumfunc.py\": 1738208868.2385762, \"/home/oren/work/notes/notes-nlp/.venv/lib/python3.10/site-packages/numpy/_core/_multiarray_tests.cpython-310-x86_64-linux-gnu.so\": 1738208868.2785754, \"/home/oren/work/notes/notes-nlp/.venv/lib/python3.10/site-packages/numpy/_core/_add_newdocs.py\": 1738208868.2385762, \"/home/oren/work/notes/notes-nlp/.venv/lib/python3.10/site-packages/numpy/_core/_add_newdocs_scalars.py\": 1738208868.2385762, \"/home/oren/work/notes/notes-nlp/.venv/lib/python3.10/site-packages/numpy/_core/_dtype_ctypes.py\": 1738208868.237576, \"/home/oren/work/notes/notes-nlp/.venv/lib/python3.10/site-packages/numpy/_core/_internal.py\": 1738208868.2795753, \"/home/oren/work/notes/notes-nlp/.venv/lib/python3.10/site-packages/numpy/_pytesttester.py\": 1738208868.236576, \"/home/oren/work/notes/notes-nlp/.venv/lib/python3.10/site-packages/numpy/_core/__init__.py\": 1738208868.2755754, \"/home/oren/work/notes/notes-nlp/.venv/lib/python3.10/site-packages/numpy/__config__.py\": 1738208868.236576, \"/home/oren/work/notes/notes-nlp/.venv/lib/python3.10/site-packages/numpy/lib/_array_utils_impl.py\": 1738208868.3565743, \"/home/oren/work/notes/notes-nlp/.venv/lib/python3.10/site-packages/numpy/lib/array_utils.py\": 1738208868.3555741, \"/home/oren/work/notes/notes-nlp/.venv/lib/python3.10/site-packages/numpy/lib/introspect.py\": 1738208868.3615742, \"/home/oren/work/notes/notes-nlp/.venv/lib/python3.10/site-packages/numpy/lib/mixins.py\": 1738208868.3585742, \"/home/oren/work/notes/notes-nlp/.venv/lib/python3.10/site-packages/numpy/lib/_utils_impl.py\": 1738208868.3555741, \"/home/oren/work/notes/notes-nlp/.venv/lib/python3.10/site-packages/numpy/lib/format.py\": 1738208868.3575742, \"/home/oren/work/notes/notes-nlp/.venv/lib/python3.10/site-packages/numpy/lib/_datasource.py\": 1738208868.362574, \"/home/oren/work/notes/notes-nlp/.venv/lib/python3.10/site-packages/numpy/lib/_iotools.py\": 1738208868.3555741, \"/home/oren/work/notes/notes-nlp/.venv/lib/python3.10/site-packages/numpy/lib/_npyio_impl.py\": 1738208868.3605742, \"/home/oren/work/notes/notes-nlp/.venv/lib/python3.10/site-packages/numpy/lib/npyio.py\": 1738208868.3605742, \"/home/oren/work/notes/notes-nlp/.venv/lib/python3.10/site-packages/numpy/lib/_ufunclike_impl.py\": 1738208868.3605742, \"/home/oren/work/notes/notes-nlp/.venv/lib/python3.10/site-packages/numpy/lib/_type_check_impl.py\": 1738208868.362574, \"/home/oren/work/notes/notes-nlp/.venv/lib/python3.10/site-packages/numpy/lib/_scimath_impl.py\": 1738208868.3555741, \"/home/oren/work/notes/notes-nlp/.venv/lib/python3.10/site-packages/numpy/lib/scimath.py\": 1738208868.3555741, \"/home/oren/work/notes/notes-nlp/.venv/lib/python3.10/site-packages/numpy/lib/_stride_tricks_impl.py\": 1738208868.3605742, \"/home/oren/work/notes/notes-nlp/.venv/lib/python3.10/site-packages/numpy/lib/stride_tricks.py\": 1738208868.3615742, \"/home/oren/work/notes/notes-nlp/.venv/lib/python3.10/site-packages/numpy/linalg/linalg.py\": 1738208868.3885736, \"/home/oren/work/notes/notes-nlp/.venv/lib/python3.10/site-packages/numpy/lib/_twodim_base_impl.py\": 1738208868.3605742, \"/home/oren/work/notes/notes-nlp/.venv/lib/python3.10/site-packages/numpy/linalg/_umath_linalg.cpython-310-x86_64-linux-gnu.so\": 1738208868.3875737, \"/home/oren/work/notes/notes-nlp/.venv/lib/python3.10/site-packages/numpy/_typing/_nested_sequence.py\": 1738208868.3865738, \"/home/oren/work/notes/notes-nlp/.venv/lib/python3.10/site-packages/numpy/_typing/_nbit.py\": 1738208868.3855739, \"/home/oren/work/notes/notes-nlp/.venv/lib/python3.10/site-packages/numpy/_typing/_char_codes.py\": 1738208868.3865738, \"/home/oren/work/notes/notes-nlp/.venv/lib/python3.10/site-packages/numpy/_typing/_scalars.py\": 1738208868.3855739, \"/home/oren/work/notes/notes-nlp/.venv/lib/python3.10/site-packages/numpy/_typing/_shape.py\": 1738208868.3865738, \"/home/oren/work/notes/notes-nlp/.venv/lib/python3.10/site-packages/numpy/_typing/_dtype_like.py\": 1738208868.3865738, \"/home/oren/work/notes/notes-nlp/.venv/lib/python3.10/site-packages/numpy/_typing/_array_like.py\": 1738208868.3865738, \"/home/oren/work/notes/notes-nlp/.venv/lib/python3.10/site-packages/numpy/_typing/__init__.py\": 1738208868.3855739, \"/home/oren/work/notes/notes-nlp/.venv/lib/python3.10/site-packages/numpy/linalg/_linalg.py\": 1738208868.3885736, \"/home/oren/work/notes/notes-nlp/.venv/lib/python3.10/site-packages/numpy/linalg/__init__.py\": 1738208868.3875737, \"/home/oren/work/notes/notes-nlp/.venv/lib/python3.10/site-packages/numpy/matrixlib/defmatrix.py\": 1738208868.3225749, \"/home/oren/work/notes/notes-nlp/.venv/lib/python3.10/site-packages/numpy/matrixlib/__init__.py\": 1738208868.3225749, \"/home/oren/work/notes/notes-nlp/.venv/lib/python3.10/site-packages/numpy/lib/_histograms_impl.py\": 1738208868.3585742, \"/home/oren/work/notes/notes-nlp/.venv/lib/python3.10/site-packages/numpy/lib/_function_base_impl.py\": 1738208868.359574, \"/home/oren/work/notes/notes-nlp/.venv/lib/python3.10/site-packages/numpy/lib/_index_tricks_impl.py\": 1738208868.3565743, \"/home/oren/work/notes/notes-nlp/.venv/lib/python3.10/site-packages/numpy/lib/_nanfunctions_impl.py\": 1738208868.3615742, \"/home/oren/work/notes/notes-nlp/.venv/lib/python3.10/site-packages/numpy/lib/_shape_base_impl.py\": 1738208868.3605742, \"/home/oren/work/notes/notes-nlp/.venv/lib/python3.10/site-packages/numpy/lib/_arraysetops_impl.py\": 1738208868.362574, \"/home/oren/work/notes/notes-nlp/.venv/lib/python3.10/site-packages/numpy/lib/_polynomial_impl.py\": 1738208868.3615742, \"/home/oren/work/notes/notes-nlp/.venv/lib/python3.10/site-packages/numpy/lib/_arrayterator_impl.py\": 1738208868.3585742, \"/home/oren/work/notes/notes-nlp/.venv/lib/python3.10/site-packages/numpy/lib/_arraypad_impl.py\": 1738208868.3615742, \"/home/oren/work/notes/notes-nlp/.venv/lib/python3.10/site-packages/numpy/lib/_version.py\": 1738208868.3565743, \"/home/oren/work/notes/notes-nlp/.venv/lib/python3.10/site-packages/numpy/lib/__init__.py\": 1738208868.3575742, \"/home/oren/work/notes/notes-nlp/.venv/lib/python3.10/site-packages/numpy/__init__.py\": 1738208868.2355762, \"/home/oren/work/notes/notes-nlp/.venv/lib/python3.10/site-packages/matplotlib/_c_internal_utils.cpython-310-x86_64-linux-gnu.so\": 1738211113.639898, \"/home/oren/work/notes/notes-nlp/.venv/lib/python3.10/site-packages/matplotlib/cbook.py\": 1738211113.650898, \"/home/oren/work/notes/notes-nlp/.venv/lib/python3.10/site-packages/matplotlib/_docstring.py\": 1738211113.648898, \"/home/oren/work/notes/notes-nlp/.venv/lib/python3.10/site-packages/matplotlib/backends/registry.py\": 1738211113.7438965, \"/home/oren/work/notes/notes-nlp/.venv/lib/python3.10/site-packages/matplotlib/backends/__init__.py\": 1738211113.7368965, \"/home/oren/work/notes/notes-nlp/.venv/lib/python3.10/site-packages/PIL/_version.py\": 1738206370.4256256, \"/home/oren/work/notes/notes-nlp/.venv/lib/python3.10/site-packages/PIL/__init__.py\": 1738206370.4216256, \"/home/oren/work/notes/notes-nlp/.venv/lib/python3.10/site-packages/PIL/ExifTags.py\": 1738206370.4146256, \"/home/oren/work/notes/notes-nlp/.venv/lib/python3.10/site-packages/PIL/_deprecate.py\": 1738206370.4256256, \"/home/oren/work/notes/notes-nlp/.venv/lib/python3.10/site-packages/PIL/ImageMode.py\": 1738206370.4246256, \"/home/oren/work/notes/notes-nlp/.venv/lib/python3.10/site-packages/PIL/TiffTags.py\": 1738206370.4166257, \"/home/oren/work/notes/notes-nlp/.venv/lib/python3.10/site-packages/PIL/_binary.py\": 1738206370.4166257, \"/home/oren/work/notes/notes-nlp/.venv/lib/python3.10/site-packages/PIL/_typing.py\": 1738206370.4186256, \"/home/oren/work/notes/notes-nlp/.venv/lib/python3.10/site-packages/PIL/_util.py\": 1738206370.4176257, \"/home/oren/work/notes/notes-nlp/.venv/lib/python3.10/site-packages/defusedxml/common.py\": 1738208871.445525, \"/home/oren/work/notes/notes-nlp/.venv/lib/python3.10/site-packages/defusedxml/__init__.py\": 1738208871.445525, \"/usr/lib/python3.10/xml/etree/__init__.py\": 1737124534.0, \"/usr/lib/python3.10/xml/etree/ElementPath.py\": 1737124534.0, \"/usr/lib/python3.10/xml/etree/ElementTree.py\": 1737124534.0, \"/home/oren/work/notes/notes-nlp/.venv/lib/python3.10/site-packages/defusedxml/ElementTree.py\": 1738208871.445525, \"/home/oren/work/notes/notes-nlp/.venv/lib/python3.10/site-packages/PIL/_imaging.cpython-310-x86_64-linux-gnu.so\": 1738206370.4396253, \"/home/oren/work/notes/notes-nlp/.venv/lib/python3.10/site-packages/PIL/Image.py\": 1738206370.4276257, \"/home/oren/work/notes/notes-nlp/.venv/lib/python3.10/site-packages/PIL/ImageChops.py\": 1738206370.4256256, \"/home/oren/work/notes/notes-nlp/.venv/lib/python3.10/site-packages/PIL/ImageFile.py\": 1738206370.4196258, \"/home/oren/work/notes/notes-nlp/.venv/lib/python3.10/site-packages/PIL/GimpGradientFile.py\": 1738206370.4266255, \"/home/oren/work/notes/notes-nlp/.venv/lib/python3.10/site-packages/PIL/GimpPaletteFile.py\": 1738206370.4236257, \"/home/oren/work/notes/notes-nlp/.venv/lib/python3.10/site-packages/PIL/ImageColor.py\": 1738206370.4266255, \"/home/oren/work/notes/notes-nlp/.venv/lib/python3.10/site-packages/PIL/PaletteFile.py\": 1738206370.4266255, \"/home/oren/work/notes/notes-nlp/.venv/lib/python3.10/site-packages/PIL/ImagePalette.py\": 1738206370.4406254, \"/home/oren/work/notes/notes-nlp/.venv/lib/python3.10/site-packages/PIL/ImageSequence.py\": 1738206370.4256256, \"/home/oren/work/notes/notes-nlp/.venv/lib/python3.10/site-packages/PIL/PngImagePlugin.py\": 1738206370.4246256, \"/home/oren/work/notes/notes-nlp/.venv/lib/python3.10/site-packages/matplotlib/_cm.py\": 1738211113.6708975, \"/home/oren/work/notes/notes-nlp/.venv/lib/python3.10/site-packages/matplotlib/_path.cpython-310-x86_64-linux-gnu.so\": 1738211113.6768975, \"/home/oren/work/notes/notes-nlp/.venv/lib/python3.10/site-packages/matplotlib/bezier.py\": 1738211113.654898, \"/home/oren/work/notes/notes-nlp/.venv/lib/python3.10/site-packages/matplotlib/path.py\": 1738211113.650898, \"/home/oren/work/notes/notes-nlp/.venv/lib/python3.10/site-packages/matplotlib/transforms.py\": 1738211113.6768975, \"/home/oren/work/notes/notes-nlp/.venv/lib/python3.10/site-packages/matplotlib/ticker.py\": 1738211113.6608977, \"/home/oren/work/notes/notes-nlp/.venv/lib/python3.10/site-packages/matplotlib/scale.py\": 1738211113.648898, \"/home/oren/work/notes/notes-nlp/.venv/lib/python3.10/site-packages/matplotlib/_image.cpython-310-x86_64-linux-gnu.so\": 1738211113.6608977, \"/home/oren/work/notes/notes-nlp/.venv/lib/python3.10/site-packages/matplotlib/_color_data.py\": 1738211113.6648977, \"/home/oren/work/notes/notes-nlp/.venv/lib/python3.10/site-packages/matplotlib/colors.py\": 1738211113.6748974, \"/home/oren/work/notes/notes-nlp/.venv/lib/python3.10/site-packages/pyparsing/util.py\": 1738206368.610655, \"/home/oren/work/notes/notes-nlp/.venv/lib/python3.10/site-packages/pyparsing/unicode.py\": 1738206368.610655, \"/home/oren/work/notes/notes-nlp/.venv/lib/python3.10/site-packages/pyparsing/exceptions.py\": 1738206368.6096551, \"/home/oren/work/notes/notes-nlp/.venv/lib/python3.10/site-packages/pyparsing/results.py\": 1738206368.610655, \"/home/oren/work/notes/notes-nlp/.venv/lib/python3.10/site-packages/pyparsing/actions.py\": 1738206368.6086552, \"/home/oren/work/notes/notes-nlp/.venv/lib/python3.10/site-packages/pyparsing/core.py\": 1738206368.6096551, \"/home/oren/work/notes/notes-nlp/.venv/lib/python3.10/site-packages/pyparsing/helpers.py\": 1738206368.610655, \"/home/oren/work/notes/notes-nlp/.venv/lib/python3.10/site-packages/pyparsing/testing.py\": 1738206368.610655, \"/home/oren/work/notes/notes-nlp/.venv/lib/python3.10/site-packages/pyparsing/common.py\": 1738206368.6086552, \"/home/oren/work/notes/notes-nlp/.venv/lib/python3.10/site-packages/pyparsing/__init__.py\": 1738206368.6086552, \"/home/oren/work/notes/notes-nlp/.venv/lib/python3.10/site-packages/matplotlib/_fontconfig_pattern.py\": 1738211113.6628976, \"/home/oren/work/notes/notes-nlp/.venv/lib/python3.10/site-packages/matplotlib/_enums.py\": 1738211113.6498978, \"/home/oren/work/notes/notes-nlp/.venv/lib/python3.10/site-packages/cycler/__init__.py\": 1738208871.9065175, \"/home/oren/work/notes/notes-nlp/.venv/lib/python3.10/site-packages/matplotlib/rcsetup.py\": 1738211113.6718976, \"/home/oren/work/notes/notes-nlp/.venv/lib/python3.10/site-packages/matplotlib/ft2font.cpython-310-x86_64-linux-gnu.so\": 1738211113.646898, \"/home/oren/work/notes/notes-nlp/.venv/lib/python3.10/site-packages/kiwisolver/exceptions.py\": 1738208869.496556, \"/home/oren/work/notes/notes-nlp/.venv/lib/python3.10/site-packages/kiwisolver/_cext.cpython-310-x86_64-linux-gnu.so\": 1738208869.5165558, \"/home/oren/work/notes/notes-nlp/.venv/lib/python3.10/site-packages/kiwisolver/__init__.py\": 1738208869.5165558, \"/home/oren/work/notes/notes-nlp/.venv/lib/python3.10/site-packages/numpy/ma/core.py\": 1738208868.3525743, \"/home/oren/work/notes/notes-nlp/.venv/lib/python3.10/site-packages/numpy/ma/extras.py\": 1738208868.3515742, \"/home/oren/work/notes/notes-nlp/.venv/lib/python3.10/site-packages/numpy/ma/__init__.py\": 1738208868.3505743, \"/home/oren/work/notes/notes-nlp/.venv/lib/python3.10/site-packages/matplotlib/artist.py\": 1738211113.6718976, \"/home/oren/work/notes/notes-nlp/.venv/lib/python3.10/site-packages/matplotlib/colorizer.py\": 1738211113.6768975, \"/home/oren/work/notes/notes-nlp/.venv/lib/python3.10/site-packages/matplotlib/_cm_listed.py\": 1738211113.6538978, \"/home/oren/work/notes/notes-nlp/.venv/lib/python3.10/site-packages/matplotlib/_cm_multivar.py\": 1738211113.6648977, \"/home/oren/work/notes/notes-nlp/.venv/lib/python3.10/site-packages/matplotlib/_cm_bivar.py\": 1738211113.654898, \"/home/oren/work/notes/notes-nlp/.venv/lib/python3.10/site-packages/matplotlib/cm.py\": 1738211113.6528978, \"/home/oren/work/notes/notes-nlp/.venv/lib/python3.10/site-packages/matplotlib/__init__.py\": 1738211113.6568978, \"/home/oren/work/notes/notes-nlp/.venv/lib/python3.10/site-packages/matplotlib/hatch.py\": 1738211113.654898, \"/home/oren/work/notes/notes-nlp/.venv/lib/python3.10/site-packages/matplotlib/markers.py\": 1738211113.6728976, \"/home/oren/work/notes/notes-nlp/.venv/lib/python3.10/site-packages/matplotlib/lines.py\": 1738211113.6618977, \"/home/oren/work/notes/notes-nlp/.venv/lib/python3.10/site-packages/matplotlib/collections.py\": 1738211113.6538978, \"/home/oren/work/notes/notes-nlp/.venv/lib/python3.10/site-packages/matplotlib/_pylab_helpers.py\": 1738211113.6578977, \"/home/oren/work/notes/notes-nlp/.venv/lib/python3.10/site-packages/matplotlib/backend_tools.py\": 1738211113.6738975, \"/usr/lib/python3.10/plistlib.py\": 1737124534.0, \"/home/oren/work/notes/notes-nlp/.venv/lib/python3.10/site-packages/matplotlib/_mathtext_data.py\": 1738211113.6568978, \"/home/oren/work/notes/notes-nlp/.venv/lib/python3.10/site-packages/matplotlib/_afm.py\": 1738211113.6628976, \"/home/oren/work/notes/notes-nlp/.venv/lib/python3.10/site-packages/matplotlib/font_manager.py\": 1738211113.6498978, \"/home/oren/work/notes/notes-nlp/.venv/lib/python3.10/site-packages/matplotlib/patches.py\": 1738211113.6568978, \"/home/oren/work/notes/notes-nlp/.venv/lib/python3.10/site-packages/matplotlib/_text_helpers.py\": 1738211113.6728976, \"/home/oren/work/notes/notes-nlp/.venv/lib/python3.10/site-packages/matplotlib/dviread.py\": 1738211113.6628976, \"/home/oren/work/notes/notes-nlp/.venv/lib/python3.10/site-packages/matplotlib/_mathtext.py\": 1738211113.6658976, \"/home/oren/work/notes/notes-nlp/.venv/lib/python3.10/site-packages/matplotlib/mathtext.py\": 1738211113.650898, \"/home/oren/work/notes/notes-nlp/.venv/lib/python3.10/site-packages/matplotlib/texmanager.py\": 1738211113.6768975, \"/home/oren/work/notes/notes-nlp/.venv/lib/python3.10/site-packages/matplotlib/textpath.py\": 1738211113.6708975, \"/home/oren/work/notes/notes-nlp/.venv/lib/python3.10/site-packages/matplotlib/text.py\": 1738211113.6698976, \"/home/oren/work/notes/notes-nlp/.venv/lib/python3.10/site-packages/matplotlib/_tight_bbox.py\": 1738211113.6578977, \"/home/oren/work/notes/notes-nlp/.venv/lib/python3.10/site-packages/matplotlib/widgets.py\": 1738211113.6588976, \"/home/oren/work/notes/notes-nlp/.venv/lib/python3.10/site-packages/matplotlib/backend_managers.py\": 1738211113.6638978, \"/home/oren/work/notes/notes-nlp/.venv/lib/python3.10/site-packages/matplotlib/_layoutgrid.py\": 1738211113.647898, \"/home/oren/work/notes/notes-nlp/.venv/lib/python3.10/site-packages/matplotlib/_constrained_layout.py\": 1738211113.6728976, \"/home/oren/work/notes/notes-nlp/.venv/lib/python3.10/site-packages/matplotlib/_tight_layout.py\": 1738211113.647898, \"/home/oren/work/notes/notes-nlp/.venv/lib/python3.10/site-packages/matplotlib/layout_engine.py\": 1738211113.6738975, \"/home/oren/work/notes/notes-nlp/.venv/lib/python3.10/site-packages/matplotlib/backend_bases.py\": 1738211113.6558979, \"/home/oren/work/notes/notes-nlp/.venv/lib/python3.10/site-packages/matplotlib/contour.py\": 1738211113.6658976, \"/home/oren/work/notes/notes-nlp/.venv/lib/python3.10/site-packages/matplotlib/spines.py\": 1738211113.6608977, \"/home/oren/work/notes/notes-nlp/.venv/lib/python3.10/site-packages/matplotlib/colorbar.py\": 1738211113.647898, \"/home/oren/work/notes/notes-nlp/.venv/lib/python3.10/site-packages/matplotlib/image.py\": 1738211113.6578977, \"/usr/lib/python3.10/importlib/_adapters.py\": 1737124534.0, \"/usr/lib/python3.10/importlib/_common.py\": 1737124534.0, \"/usr/lib/python3.10/importlib/resources.py\": 1737124534.0, \"/home/oren/work/notes/notes-nlp/.venv/lib/python3.10/site-packages/matplotlib/style/core.py\": 1738211113.7468963, \"/home/oren/work/notes/notes-nlp/.venv/lib/python3.10/site-packages/matplotlib/style/__init__.py\": 1738211113.7468963, \"/home/oren/work/notes/notes-nlp/.venv/lib/python3.10/site-packages/matplotlib/_blocking_input.py\": 1738211113.6728976, \"/home/oren/work/notes/notes-nlp/.venv/lib/python3.10/site-packages/matplotlib/offsetbox.py\": 1738211113.6618977, \"/home/oren/work/notes/notes-nlp/.venv/lib/python3.10/site-packages/matplotlib/units.py\": 1738211113.6388981, \"/home/oren/work/notes/notes-nlp/.venv/lib/python3.10/site-packages/matplotlib/axis.py\": 1738211113.6618977, \"/home/oren/work/notes/notes-nlp/.venv/lib/python3.10/site-packages/matplotlib/gridspec.py\": 1738211113.648898, \"/home/oren/work/notes/notes-nlp/.venv/lib/python3.10/site-packages/matplotlib/table.py\": 1738211113.6778975, \"/home/oren/work/notes/notes-nlp/.venv/lib/python3.10/site-packages/matplotlib/axes/_base.py\": 1738211113.7648962, \"/home/oren/work/notes/notes-nlp/.venv/lib/python3.10/site-packages/matplotlib/category.py\": 1738211113.6708975, \"/home/oren/work/notes/notes-nlp/.venv/lib/python3.10/site-packages/dateutil/rrule.py\": 1738206446.0323966, \"/home/oren/work/notes/notes-nlp/.venv/lib/python3.10/site-packages/matplotlib/dates.py\": 1738211113.6728976, \"/home/oren/work/notes/notes-nlp/.venv/lib/python3.10/site-packages/matplotlib/inset.py\": 1738211113.647898, \"/home/oren/work/notes/notes-nlp/.venv/lib/python3.10/site-packages/matplotlib/container.py\": 1738211113.6778975, \"/home/oren/work/notes/notes-nlp/.venv/lib/python3.10/site-packages/matplotlib/legend_handler.py\": 1738211113.639898, \"/home/oren/work/notes/notes-nlp/.venv/lib/python3.10/site-packages/matplotlib/legend.py\": 1738211113.647898, \"/home/oren/work/notes/notes-nlp/.venv/lib/python3.10/site-packages/matplotlib/mlab.py\": 1738211113.6638978, \"/home/oren/work/notes/notes-nlp/.venv/lib/python3.10/site-packages/matplotlib/quiver.py\": 1738211113.6648977, \"/home/oren/work/notes/notes-nlp/.venv/lib/python3.10/site-packages/matplotlib/stackplot.py\": 1738211113.6728976, \"/home/oren/work/notes/notes-nlp/.venv/lib/python3.10/site-packages/matplotlib/streamplot.py\": 1738211113.6628976, \"/home/oren/work/notes/notes-nlp/.venv/lib/python3.10/site-packages/matplotlib/tri/_triangulation.py\": 1738211113.7478964, \"/home/oren/work/notes/notes-nlp/.venv/lib/python3.10/site-packages/matplotlib/tri/_tricontour.py\": 1738211113.7488964, \"/home/oren/work/notes/notes-nlp/.venv/lib/python3.10/site-packages/matplotlib/tri/_trifinder.py\": 1738211113.7468963, \"/home/oren/work/notes/notes-nlp/.venv/lib/python3.10/site-packages/matplotlib/tri/_tritools.py\": 1738211113.7468963, \"/home/oren/work/notes/notes-nlp/.venv/lib/python3.10/site-packages/matplotlib/tri/_triinterpolate.py\": 1738211113.7478964, \"/home/oren/work/notes/notes-nlp/.venv/lib/python3.10/site-packages/matplotlib/tri/_tripcolor.py\": 1738211113.7468963, \"/home/oren/work/notes/notes-nlp/.venv/lib/python3.10/site-packages/matplotlib/tri/_triplot.py\": 1738211113.7468963, \"/home/oren/work/notes/notes-nlp/.venv/lib/python3.10/site-packages/matplotlib/tri/_trirefine.py\": 1738211113.7478964, \"/home/oren/work/notes/notes-nlp/.venv/lib/python3.10/site-packages/matplotlib/tri/__init__.py\": 1738211113.7478964, \"/home/oren/work/notes/notes-nlp/.venv/lib/python3.10/site-packages/matplotlib/axes/_secondary_axes.py\": 1738211113.7648962, \"/home/oren/work/notes/notes-nlp/.venv/lib/python3.10/site-packages/matplotlib/axes/_axes.py\": 1738211113.763896, \"/home/oren/work/notes/notes-nlp/.venv/lib/python3.10/site-packages/matplotlib/axes/__init__.py\": 1738211113.7648962, \"/home/oren/work/notes/notes-nlp/.venv/lib/python3.10/site-packages/matplotlib/projections/geo.py\": 1738211113.7468963, \"/home/oren/work/notes/notes-nlp/.venv/lib/python3.10/site-packages/matplotlib/projections/polar.py\": 1738211113.7458963, \"/home/oren/work/notes/notes-nlp/.venv/lib/python3.10/site-packages/mpl_toolkits/mplot3d/proj3d.py\": 1738211113.771896, \"/home/oren/work/notes/notes-nlp/.venv/lib/python3.10/site-packages/mpl_toolkits/mplot3d/art3d.py\": 1738211113.772896, \"/home/oren/work/notes/notes-nlp/.venv/lib/python3.10/site-packages/mpl_toolkits/mplot3d/axis3d.py\": 1738211113.771896, \"/home/oren/work/notes/notes-nlp/.venv/lib/python3.10/site-packages/mpl_toolkits/mplot3d/axes3d.py\": 1738211113.772896, \"/home/oren/work/notes/notes-nlp/.venv/lib/python3.10/site-packages/mpl_toolkits/mplot3d/__init__.py\": 1738211113.771896, \"/home/oren/work/notes/notes-nlp/.venv/lib/python3.10/site-packages/matplotlib/projections/__init__.py\": 1738211113.7458963, \"/home/oren/work/notes/notes-nlp/.venv/lib/python3.10/site-packages/matplotlib/figure.py\": 1738211113.6498978, \"/home/oren/work/notes/notes-nlp/.venv/lib/python3.10/site-packages/matplotlib/pyplot.py\": 1738211113.639898, \"/home/oren/work/notes/notes-nlp/.venv/lib/python3.10/site-packages/matplotlib/backends/_backend_agg.cpython-310-x86_64-linux-gnu.so\": 1738211113.7408965, \"/home/oren/work/notes/notes-nlp/.venv/lib/python3.10/site-packages/matplotlib/backends/backend_agg.py\": 1738211113.7358966, \"/home/oren/work/notes/notes-nlp/.venv/lib/python3.10/site-packages/IPython/core/pylabtools.py\": 1738211116.3618548, \"/home/oren/work/notes/notes-nlp/.venv/lib/python3.10/site-packages/matplotlib_inline/config.py\": 1738208869.4475567, \"/home/oren/work/notes/notes-nlp/.venv/lib/python3.10/site-packages/matplotlib_inline/backend_inline.py\": 1738208869.4475567, \"/home/oren/work/notes/notes-nlp/.venv/lib/python3.10/site-packages/matplotlib_inline/__init__.py\": 1738208869.4475567, \"/home/oren/work/notes/notes-nlp/.venv/lib/python3.10/site-packages/pytz/exceptions.py\": 1738206365.908699, \"/home/oren/work/notes/notes-nlp/.venv/lib/python3.10/site-packages/pytz/lazy.py\": 1738206365.908699, \"/home/oren/work/notes/notes-nlp/.venv/lib/python3.10/site-packages/pytz/tzinfo.py\": 1738206365.909699, \"/home/oren/work/notes/notes-nlp/.venv/lib/python3.10/site-packages/pytz/tzfile.py\": 1738206365.909699, \"/home/oren/work/notes/notes-nlp/.venv/lib/python3.10/site-packages/pytz/__init__.py\": 1738206365.908699, \"/home/oren/work/notes/notes-nlp/.venv/lib/python3.10/site-packages/pandas/compat/_constants.py\": 1738208876.2014492, \"/home/oren/work/notes/notes-nlp/.venv/lib/python3.10/site-packages/pandas/compat/compressors.py\": 1738208876.2004492, \"/home/oren/work/notes/notes-nlp/.venv/lib/python3.10/site-packages/pandas/util/__init__.py\": 1738208875.9354534, \"/home/oren/work/notes/notes-nlp/.venv/lib/python3.10/site-packages/pandas/util/version/__init__.py\": 1738208875.9354534, \"/home/oren/work/notes/notes-nlp/.venv/lib/python3.10/site-packages/pandas/compat/numpy/__init__.py\": 1738208876.2014492, \"/home/oren/work/notes/notes-nlp/.venv/lib/python3.10/site-packages/pyarrow/_generated_version.py\": 1738206369.659638, \"/home/oren/work/notes/notes-nlp/.venv/lib/python3.10/site-packages/cloudpickle/cloudpickle.py\": 1738208871.9175174, \"/home/oren/work/notes/notes-nlp/.venv/lib/python3.10/site-packages/cloudpickle/__init__.py\": 1738208871.9165175, \"/home/oren/work/notes/notes-nlp/.venv/lib/python3.10/site-packages/pyarrow/util.py\": 1738206369.7016373, \"/home/oren/work/notes/notes-nlp/.venv/lib/python3.10/site-packages/pyarrow/lib.cpython-310-x86_64-linux-gnu.so\": 1738206369.2536447, \"/home/oren/work/notes/notes-nlp/.venv/lib/python3.10/site-packages/pyarrow/ipc.py\": 1738206369.6146388, \"/home/oren/work/notes/notes-nlp/.venv/lib/python3.10/site-packages/pyarrow/types.py\": 1738206369.226645, \"/home/oren/work/notes/notes-nlp/.venv/lib/python3.10/site-packages/pyarrow/__init__.py\": 1738206369.2686443, \"/home/oren/work/notes/notes-nlp/.venv/lib/python3.10/site-packages/pandas/compat/pyarrow.py\": 1738208876.2014492, \"/home/oren/work/notes/notes-nlp/.venv/lib/python3.10/site-packages/pandas/compat/__init__.py\": 1738208876.2004492, \"/home/oren/work/notes/notes-nlp/.venv/lib/python3.10/site-packages/numpy/random/_common.cpython-310-x86_64-linux-gnu.so\": 1738208868.3435745, \"/usr/lib/python3.10/secrets.py\": 1737124534.0, \"/home/oren/work/notes/notes-nlp/.venv/lib/python3.10/site-packages/numpy/random/bit_generator.cpython-310-x86_64-linux-gnu.so\": 1738208868.3345745, \"/home/oren/work/notes/notes-nlp/.venv/lib/python3.10/site-packages/numpy/random/_bounded_integers.cpython-310-x86_64-linux-gnu.so\": 1738208868.3415744, \"/home/oren/work/notes/notes-nlp/.venv/lib/python3.10/site-packages/numpy/random/_mt19937.cpython-310-x86_64-linux-gnu.so\": 1738208868.3445745, \"/home/oren/work/notes/notes-nlp/.venv/lib/python3.10/site-packages/numpy/random/mtrand.cpython-310-x86_64-linux-gnu.so\": 1738208868.3385744, \"/home/oren/work/notes/notes-nlp/.venv/lib/python3.10/site-packages/numpy/random/_philox.cpython-310-x86_64-linux-gnu.so\": 1738208868.3355746, \"/home/oren/work/notes/notes-nlp/.venv/lib/python3.10/site-packages/numpy/random/_pcg64.cpython-310-x86_64-linux-gnu.so\": 1738208868.3395746, \"/home/oren/work/notes/notes-nlp/.venv/lib/python3.10/site-packages/numpy/random/_sfc64.cpython-310-x86_64-linux-gnu.so\": 1738208868.3415744, \"/home/oren/work/notes/notes-nlp/.venv/lib/python3.10/site-packages/numpy/random/_generator.cpython-310-x86_64-linux-gnu.so\": 1738208868.3335745, \"/home/oren/work/notes/notes-nlp/.venv/lib/python3.10/site-packages/numpy/random/_pickle.py\": 1738208868.3345745, \"/home/oren/work/notes/notes-nlp/.venv/lib/python3.10/site-packages/numpy/random/__init__.py\": 1738208868.3415744, \"/home/oren/work/notes/notes-nlp/.venv/lib/python3.10/site-packages/pandas/_typing.py\": 1738208875.9244535, \"/home/oren/work/notes/notes-nlp/.venv/lib/python3.10/site-packages/pandas/util/_exceptions.py\": 1738208875.9354534, \"/home/oren/work/notes/notes-nlp/.venv/lib/python3.10/site-packages/pandas/_config/config.py\": 1738208876.0634513, \"/home/oren/work/notes/notes-nlp/.venv/lib/python3.10/site-packages/pandas/_config/dates.py\": 1738208876.0634513, \"/home/oren/work/notes/notes-nlp/.venv/lib/python3.10/site-packages/pandas/_config/display.py\": 1738208876.0634513, \"/home/oren/work/notes/notes-nlp/.venv/lib/python3.10/site-packages/pandas/_config/__init__.py\": 1738208876.0634513, \"/home/oren/work/notes/notes-nlp/.venv/lib/python3.10/site-packages/pandas/core/__init__.py\": 1738208876.0704513, \"/home/oren/work/notes/notes-nlp/.venv/lib/python3.10/site-packages/pandas/core/config_init.py\": 1738208876.0664513, \"/home/oren/work/notes/notes-nlp/.venv/lib/python3.10/site-packages/pandas/_libs/pandas_parser.cpython-310-x86_64-linux-gnu.so\": 1738208876.1614497, \"/home/oren/work/notes/notes-nlp/.venv/lib/python3.10/site-packages/pandas/_libs/pandas_datetime.cpython-310-x86_64-linux-gnu.so\": 1738208876.1594498, \"/home/oren/work/notes/notes-nlp/.venv/lib/python3.10/site-packages/pandas/_libs/tslibs/ccalendar.cpython-310-x86_64-linux-gnu.so\": 1738208876.1764495, \"/home/oren/work/notes/notes-nlp/.venv/lib/python3.10/site-packages/pandas/_libs/tslibs/np_datetime.cpython-310-x86_64-linux-gnu.so\": 1738208876.2004492, \"/home/oren/work/notes/notes-nlp/.venv/lib/python3.10/site-packages/pandas/_libs/tslibs/dtypes.cpython-310-x86_64-linux-gnu.so\": 1738208876.1704497, \"/home/oren/work/notes/notes-nlp/.venv/lib/python3.10/site-packages/pandas/_libs/tslibs/base.cpython-310-x86_64-linux-gnu.so\": 1738208876.1904492, \"/home/oren/work/notes/notes-nlp/.venv/lib/python3.10/site-packages/pandas/_libs/tslibs/nattype.cpython-310-x86_64-linux-gnu.so\": 1738208876.1714497, \"/home/oren/work/notes/notes-nlp/.venv/lib/python3.10/site-packages/pandas/compat/_optional.py\": 1738208876.2004492, \"/usr/lib/python3.10/zoneinfo/_tzpath.py\": 1737124534.0, \"/usr/lib/python3.10/zoneinfo/_common.py\": 1737124534.0, \"/usr/lib/python3.10/lib-dynload/_zoneinfo.cpython-310-x86_64-linux-gnu.so\": 1737124534.0, \"/usr/lib/python3.10/zoneinfo/__init__.py\": 1737124534.0, \"/home/oren/work/notes/notes-nlp/.venv/lib/python3.10/site-packages/pandas/_libs/tslibs/timezones.cpython-310-x86_64-linux-gnu.so\": 1738208876.1724496, \"/home/oren/work/notes/notes-nlp/.venv/lib/python3.10/site-packages/pandas/_config/localization.py\": 1738208876.0634513, \"/home/oren/work/notes/notes-nlp/.venv/lib/python3.10/site-packages/pandas/_libs/tslibs/fields.cpython-310-x86_64-linux-gnu.so\": 1738208876.1784494, \"/home/oren/work/notes/notes-nlp/.venv/lib/python3.10/site-packages/pandas/_libs/tslibs/timedeltas.cpython-310-x86_64-linux-gnu.so\": 1738208876.1984491, \"/home/oren/work/notes/notes-nlp/.venv/lib/python3.10/site-packages/pandas/_libs/tslibs/tzconversion.cpython-310-x86_64-linux-gnu.so\": 1738208876.1854494, \"/home/oren/work/notes/notes-nlp/.venv/lib/python3.10/site-packages/pandas/_libs/tslibs/timestamps.cpython-310-x86_64-linux-gnu.so\": 1738208876.1754496, \"/home/oren/work/notes/notes-nlp/.venv/lib/python3.10/site-packages/pandas/_libs/properties.cpython-310-x86_64-linux-gnu.so\": 1738208876.1644497, \"/home/oren/work/notes/notes-nlp/.venv/lib/python3.10/site-packages/pandas/_libs/tslibs/offsets.cpython-310-x86_64-linux-gnu.so\": 1738208876.1834495, \"/home/oren/work/notes/notes-nlp/.venv/lib/python3.10/site-packages/pandas/_libs/tslibs/strptime.cpython-310-x86_64-linux-gnu.so\": 1738208876.1894493, \"/home/oren/work/notes/notes-nlp/.venv/lib/python3.10/site-packages/pandas/_libs/tslibs/parsing.cpython-310-x86_64-linux-gnu.so\": 1738208876.1874495, \"/home/oren/work/notes/notes-nlp/.venv/lib/python3.10/site-packages/pandas/_libs/tslibs/conversion.cpython-310-x86_64-linux-gnu.so\": 1738208876.1914494, \"/home/oren/work/notes/notes-nlp/.venv/lib/python3.10/site-packages/pandas/_libs/tslibs/period.cpython-310-x86_64-linux-gnu.so\": 1738208876.1944492, \"/home/oren/work/notes/notes-nlp/.venv/lib/python3.10/site-packages/pandas/_libs/tslibs/vectorized.cpython-310-x86_64-linux-gnu.so\": 1738208876.199449, \"/home/oren/work/notes/notes-nlp/.venv/lib/python3.10/site-packages/pandas/_libs/tslibs/__init__.py\": 1738208876.1954494, \"/home/oren/work/notes/notes-nlp/.venv/lib/python3.10/site-packages/pandas/_libs/ops_dispatch.cpython-310-x86_64-linux-gnu.so\": 1738208876.15445, \"/home/oren/work/notes/notes-nlp/.venv/lib/python3.10/site-packages/pandas/_libs/missing.cpython-310-x86_64-linux-gnu.so\": 1738208876.14245, \"/home/oren/work/notes/notes-nlp/.venv/lib/python3.10/site-packages/pandas/_libs/hashtable.cpython-310-x86_64-linux-gnu.so\": 1738208876.1294503, \"/home/oren/work/notes/notes-nlp/.venv/lib/python3.10/site-packages/pandas/_libs/algos.cpython-310-x86_64-linux-gnu.so\": 1738208876.1054506, \"/home/oren/work/notes/notes-nlp/.venv/lib/python3.10/site-packages/pandas/_libs/interval.cpython-310-x86_64-linux-gnu.so\": 1738208876.15445, \"/home/oren/work/notes/notes-nlp/.venv/lib/python3.10/site-packages/pandas/_libs/__init__.py\": 1738208876.1644497, \"/home/oren/work/notes/notes-nlp/.venv/lib/python3.10/site-packages/pandas/core/dtypes/__init__.py\": 1738208876.0934508, \"/home/oren/work/notes/notes-nlp/.venv/lib/python3.10/site-packages/pandas/_libs/lib.cpython-310-x86_64-linux-gnu.so\": 1738208876.14745, \"/home/oren/work/notes/notes-nlp/.venv/lib/python3.10/site-packages/pandas/errors/__init__.py\": 1738208876.0964508, \"/home/oren/work/notes/notes-nlp/.venv/lib/python3.10/site-packages/pandas/core/dtypes/generic.py\": 1738208876.091451, \"/home/oren/work/notes/notes-nlp/.venv/lib/python3.10/site-packages/pandas/core/dtypes/base.py\": 1738208876.0924509, \"/home/oren/work/notes/notes-nlp/.venv/lib/python3.10/site-packages/pandas/core/dtypes/inference.py\": 1738208876.0924509, \"/home/oren/work/notes/notes-nlp/.venv/lib/python3.10/site-packages/pandas/core/dtypes/dtypes.py\": 1738208876.0924509, \"/home/oren/work/notes/notes-nlp/.venv/lib/python3.10/site-packages/pandas/core/dtypes/common.py\": 1738208876.0934508, \"/home/oren/work/notes/notes-nlp/.venv/lib/python3.10/site-packages/pandas/core/dtypes/missing.py\": 1738208876.091451, \"/home/oren/work/notes/notes-nlp/.venv/lib/python3.10/site-packages/pandas/util/_decorators.py\": 1738208875.9354534, \"/home/oren/work/notes/notes-nlp/.venv/lib/python3.10/site-packages/pandas/io/__init__.py\": 1738208875.9274535, \"/home/oren/work/notes/notes-nlp/.venv/lib/python3.10/site-packages/pandas/io/_util.py\": 1738208875.9254534, \"/home/oren/work/notes/notes-nlp/.venv/lib/python3.10/site-packages/pandas/core/dtypes/cast.py\": 1738208876.0924509, \"/home/oren/work/notes/notes-nlp/.venv/lib/python3.10/site-packages/pandas/core/dtypes/astype.py\": 1738208876.0924509, \"/home/oren/work/notes/notes-nlp/.venv/lib/python3.10/site-packages/pandas/core/dtypes/concat.py\": 1738208876.0934508, \"/home/oren/work/notes/notes-nlp/.venv/lib/python3.10/site-packages/pandas/core/array_algos/__init__.py\": 1738208876.0954509, \"/home/oren/work/notes/notes-nlp/.venv/lib/python3.10/site-packages/pandas/core/common.py\": 1738208876.0714512, \"/home/oren/work/notes/notes-nlp/.venv/lib/python3.10/site-packages/pandas/core/construction.py\": 1738208876.0644512, \"/home/oren/work/notes/notes-nlp/.venv/lib/python3.10/site-packages/pandas/core/array_algos/take.py\": 1738208876.0954509, \"/home/oren/work/notes/notes-nlp/.venv/lib/python3.10/site-packages/pandas/core/indexers/utils.py\": 1738208876.0714512, \"/home/oren/work/notes/notes-nlp/.venv/lib/python3.10/site-packages/pandas/core/indexers/__init__.py\": 1738208876.0714512, \"/home/oren/work/notes/notes-nlp/.venv/lib/python3.10/site-packages/pandas/core/algorithms.py\": 1738208876.0674512, \"/home/oren/work/notes/notes-nlp/.venv/lib/python3.10/site-packages/pyarrow/_compute.cpython-310-x86_64-linux-gnu.so\": 1738206369.6246386, \"/home/oren/work/notes/notes-nlp/.venv/lib/python3.10/site-packages/pyarrow/_compute_docstrings.py\": 1738206369.7016373, \"/home/oren/work/notes/notes-nlp/.venv/lib/python3.10/site-packages/pyarrow/vendored/__init__.py\": 1738206369.7956357, \"/home/oren/work/notes/notes-nlp/.venv/lib/python3.10/site-packages/pyarrow/vendored/docscrape.py\": 1738206369.7956357, \"/home/oren/work/notes/notes-nlp/.venv/lib/python3.10/site-packages/pyarrow/compute.py\": 1738206369.6246386, \"/home/oren/work/notes/notes-nlp/.venv/lib/python3.10/site-packages/pandas/core/arrays/arrow/accessors.py\": 1738208876.091451, \"/home/oren/work/notes/notes-nlp/.venv/lib/python3.10/site-packages/pandas/util/_validators.py\": 1738208875.9354534, \"/home/oren/work/notes/notes-nlp/.venv/lib/python3.10/site-packages/pandas/core/missing.py\": 1738208876.0664513, \"/home/oren/work/notes/notes-nlp/.venv/lib/python3.10/site-packages/pandas/_libs/ops.cpython-310-x86_64-linux-gnu.so\": 1738208876.1624498, \"/home/oren/work/notes/notes-nlp/.venv/lib/python3.10/site-packages/pandas/core/roperator.py\": 1738208876.0674512, \"/home/oren/work/notes/notes-nlp/.venv/lib/python3.10/site-packages/pandas/core/computation/__init__.py\": 1738208876.072451, \"/home/oren/work/notes/notes-nlp/.venv/lib/python3.10/site-packages/pandas/core/computation/check.py\": 1738208876.0734513, \"/home/oren/work/notes/notes-nlp/.venv/lib/python3.10/site-packages/pandas/core/computation/expressions.py\": 1738208876.072451, \"/home/oren/work/notes/notes-nlp/.venv/lib/python3.10/site-packages/pandas/core/ops/missing.py\": 1738208876.0734513, \"/home/oren/work/notes/notes-nlp/.venv/lib/python3.10/site-packages/pandas/core/ops/dispatch.py\": 1738208876.0734513, \"/home/oren/work/notes/notes-nlp/.venv/lib/python3.10/site-packages/pandas/core/ops/invalid.py\": 1738208876.0734513, \"/home/oren/work/notes/notes-nlp/.venv/lib/python3.10/site-packages/pandas/core/ops/array_ops.py\": 1738208876.0734513, \"/home/oren/work/notes/notes-nlp/.venv/lib/python3.10/site-packages/pandas/core/ops/common.py\": 1738208876.0744512, \"/home/oren/work/notes/notes-nlp/.venv/lib/python3.10/site-packages/pandas/core/ops/docstrings.py\": 1738208876.0744512, \"/home/oren/work/notes/notes-nlp/.venv/lib/python3.10/site-packages/pandas/core/ops/mask_ops.py\": 1738208876.0734513, \"/home/oren/work/notes/notes-nlp/.venv/lib/python3.10/site-packages/pandas/core/ops/__init__.py\": 1738208876.0734513, \"/home/oren/work/notes/notes-nlp/.venv/lib/python3.10/site-packages/pandas/core/arraylike.py\": 1738208876.0714512, \"/home/oren/work/notes/notes-nlp/.venv/lib/python3.10/site-packages/pandas/core/arrays/_arrow_string_mixins.py\": 1738208876.087451, \"/home/oren/work/notes/notes-nlp/.venv/lib/python3.10/site-packages/pandas/core/arrays/_utils.py\": 1738208876.088451, \"/home/oren/work/notes/notes-nlp/.venv/lib/python3.10/site-packages/pandas/compat/numpy/function.py\": 1738208876.2014492, \"/home/oren/work/notes/notes-nlp/.venv/lib/python3.10/site-packages/pandas/core/array_algos/quantile.py\": 1738208876.0954509, \"/home/oren/work/notes/notes-nlp/.venv/lib/python3.10/site-packages/pandas/core/sorting.py\": 1738208876.0634513, \"/home/oren/work/notes/notes-nlp/.venv/lib/python3.10/site-packages/pandas/core/arrays/base.py\": 1738208876.088451, \"/home/oren/work/notes/notes-nlp/.venv/lib/python3.10/site-packages/pandas/core/nanops.py\": 1738208876.0704513, \"/home/oren/work/notes/notes-nlp/.venv/lib/python3.10/site-packages/pandas/core/array_algos/masked_accumulations.py\": 1738208876.0954509, \"/home/oren/work/notes/notes-nlp/.venv/lib/python3.10/site-packages/pandas/core/array_algos/masked_reductions.py\": 1738208876.0954509, \"/home/oren/work/notes/notes-nlp/.venv/lib/python3.10/site-packages/pandas/core/util/__init__.py\": 1738208876.0734513, \"/home/oren/work/notes/notes-nlp/.venv/lib/python3.10/site-packages/pandas/_libs/hashing.cpython-310-x86_64-linux-gnu.so\": 1738208876.1654496, \"/home/oren/work/notes/notes-nlp/.venv/lib/python3.10/site-packages/pandas/core/util/hashing.py\": 1738208876.0734513, \"/home/oren/work/notes/notes-nlp/.venv/lib/python3.10/site-packages/pandas/core/arrays/masked.py\": 1738208876.0894508, \"/home/oren/work/notes/notes-nlp/.venv/lib/python3.10/site-packages/pandas/_libs/arrays.cpython-310-x86_64-linux-gnu.so\": 1738208876.14345, \"/home/oren/work/notes/notes-nlp/.venv/lib/python3.10/site-packages/pandas/core/arrays/numeric.py\": 1738208876.087451, \"/home/oren/work/notes/notes-nlp/.venv/lib/python3.10/site-packages/pandas/core/arrays/floating.py\": 1738208876.087451, \"/home/oren/work/notes/notes-nlp/.venv/lib/python3.10/site-packages/pandas/core/arrays/integer.py\": 1738208876.086451, \"/home/oren/work/notes/notes-nlp/.venv/lib/python3.10/site-packages/pandas/core/array_algos/transforms.py\": 1738208876.0954509, \"/home/oren/work/notes/notes-nlp/.venv/lib/python3.10/site-packages/pandas/core/arrays/_mixins.py\": 1738208876.086451, \"/home/oren/work/notes/notes-nlp/.venv/lib/python3.10/site-packages/pandas/core/strings/__init__.py\": 1738208876.094451, \"/home/oren/work/notes/notes-nlp/.venv/lib/python3.10/site-packages/pandas/core/strings/base.py\": 1738208876.0934508, \"/home/oren/work/notes/notes-nlp/.venv/lib/python3.10/site-packages/pandas/core/strings/object_array.py\": 1738208876.0934508, \"/home/oren/work/notes/notes-nlp/.venv/lib/python3.10/site-packages/pandas/core/arrays/numpy_.py\": 1738208876.088451, \"/home/oren/work/notes/notes-nlp/.venv/lib/python3.10/site-packages/pandas/core/arrays/string_.py\": 1738208876.088451, \"/home/oren/work/notes/notes-nlp/.venv/lib/python3.10/site-packages/pandas/tseries/__init__.py\": 1738208876.0634513, \"/home/oren/work/notes/notes-nlp/.venv/lib/python3.10/site-packages/pandas/tseries/frequencies.py\": 1738208876.0634513, \"/home/oren/work/notes/notes-nlp/.venv/lib/python3.10/site-packages/pandas/core/arrays/arrow/array.py\": 1738208876.091451, \"/home/oren/work/notes/notes-nlp/.venv/lib/python3.10/site-packages/pandas/core/arrays/arrow/__init__.py\": 1738208876.091451, \"/home/oren/work/notes/notes-nlp/.venv/lib/python3.10/site-packages/pandas/core/arrays/boolean.py\": 1738208876.0894508, \"/home/oren/work/notes/notes-nlp/.venv/lib/python3.10/site-packages/pandas/core/accessor.py\": 1738208876.0674512, \"/home/oren/work/notes/notes-nlp/.venv/lib/python3.10/site-packages/pandas/core/base.py\": 1738208876.0664513, \"/home/oren/work/notes/notes-nlp/.venv/lib/python3.10/site-packages/pandas/io/formats/__init__.py\": 1738208875.9294534, \"/home/oren/work/notes/notes-nlp/.venv/lib/python3.10/site-packages/pandas/io/formats/console.py\": 1738208875.9284534, \"/home/oren/work/notes/notes-nlp/.venv/lib/python3.10/site-packages/pandas/core/arrays/categorical.py\": 1738208876.0894508, \"/home/oren/work/notes/notes-nlp/.venv/lib/python3.10/site-packages/pandas/_libs/tslib.cpython-310-x86_64-linux-gnu.so\": 1738208876.1614497, \"/home/oren/work/notes/notes-nlp/.venv/lib/python3.10/site-packages/pandas/core/array_algos/datetimelike_accumulations.py\": 1738208876.0954509, \"/home/oren/work/notes/notes-nlp/.venv/lib/python3.10/site-packages/pandas/core/arrays/datetimelike.py\": 1738208876.087451, \"/home/oren/work/notes/notes-nlp/.venv/lib/python3.10/site-packages/pandas/core/arrays/_ranges.py\": 1738208876.0894508, \"/home/oren/work/notes/notes-nlp/.venv/lib/python3.10/site-packages/pandas/tseries/offsets.py\": 1738208876.0624514, \"/home/oren/work/notes/notes-nlp/.venv/lib/python3.10/site-packages/pandas/core/arrays/datetimes.py\": 1738208876.086451, \"/home/oren/work/notes/notes-nlp/.venv/lib/python3.10/site-packages/pandas/core/arrays/timedeltas.py\": 1738208876.090451, \"/home/oren/work/notes/notes-nlp/.venv/lib/python3.10/site-packages/pandas/core/arrays/interval.py\": 1738208876.088451, \"/home/oren/work/notes/notes-nlp/.venv/lib/python3.10/site-packages/pandas/core/arrays/period.py\": 1738208876.087451, \"/home/oren/work/notes/notes-nlp/.venv/lib/python3.10/site-packages/pandas/_libs/sparse.cpython-310-x86_64-linux-gnu.so\": 1738208876.1344502, \"/home/oren/work/notes/notes-nlp/.venv/lib/python3.10/site-packages/pandas/io/formats/printing.py\": 1738208875.9284534, \"/home/oren/work/notes/notes-nlp/.venv/lib/python3.10/site-packages/pandas/core/arrays/sparse/array.py\": 1738208876.090451, \"/home/oren/work/notes/notes-nlp/.venv/lib/python3.10/site-packages/pandas/core/arrays/sparse/accessor.py\": 1738208876.090451, \"/home/oren/work/notes/notes-nlp/.venv/lib/python3.10/site-packages/pandas/core/arrays/sparse/__init__.py\": 1738208876.090451, \"/home/oren/work/notes/notes-nlp/.venv/lib/python3.10/site-packages/pandas/core/arrays/arrow/_arrow_utils.py\": 1738208876.090451, \"/home/oren/work/notes/notes-nlp/.venv/lib/python3.10/site-packages/pandas/core/arrays/string_arrow.py\": 1738208876.087451, \"/home/oren/work/notes/notes-nlp/.venv/lib/python3.10/site-packages/pandas/core/arrays/__init__.py\": 1738208876.0894508, \"/home/oren/work/notes/notes-nlp/.venv/lib/python3.10/site-packages/pandas/core/flags.py\": 1738208876.0664513, \"/home/oren/work/notes/notes-nlp/.venv/lib/python3.10/site-packages/pandas/_libs/internals.cpython-310-x86_64-linux-gnu.so\": 1738208876.1414502, \"/home/oren/work/notes/notes-nlp/.venv/lib/python3.10/site-packages/pandas/core/_numba/__init__.py\": 1738208876.094451, \"/home/oren/work/notes/notes-nlp/.venv/lib/python3.10/site-packages/pandas/core/_numba/executor.py\": 1738208876.094451, \"/home/oren/work/notes/notes-nlp/.venv/lib/python3.10/site-packages/pandas/core/apply.py\": 1738208876.0714512, \"/home/oren/work/notes/notes-nlp/.venv/lib/python3.10/site-packages/pandas/_libs/indexing.cpython-310-x86_64-linux-gnu.so\": 1738208876.0974507, \"/home/oren/work/notes/notes-nlp/.venv/lib/python3.10/site-packages/pandas/core/indexes/__init__.py\": 1738208876.0784512, \"/home/oren/work/notes/notes-nlp/.venv/lib/python3.10/site-packages/pandas/_libs/index.cpython-310-x86_64-linux-gnu.so\": 1738208876.15845, \"/home/oren/work/notes/notes-nlp/.venv/lib/python3.10/site-packages/pandas/_libs/writers.cpython-310-x86_64-linux-gnu.so\": 1738208876.1104505, \"/home/oren/work/notes/notes-nlp/.venv/lib/python3.10/site-packages/pandas/_libs/join.cpython-310-x86_64-linux-gnu.so\": 1738208876.13945, \"/home/oren/work/notes/notes-nlp/.venv/lib/python3.10/site-packages/pandas/core/array_algos/putmask.py\": 1738208876.0954509, \"/home/oren/work/notes/notes-nlp/.venv/lib/python3.10/site-packages/pandas/core/indexes/frozen.py\": 1738208876.0784512, \"/home/oren/work/notes/notes-nlp/.venv/lib/python3.10/site-packages/pandas/core/strings/accessor.py\": 1738208876.0934508, \"/home/oren/work/notes/notes-nlp/.venv/lib/python3.10/site-packages/pandas/core/indexes/base.py\": 1738208876.0774512, \"/home/oren/work/notes/notes-nlp/.venv/lib/python3.10/site-packages/pandas/core/indexes/extension.py\": 1738208876.0784512, \"/home/oren/work/notes/notes-nlp/.venv/lib/python3.10/site-packages/pandas/core/indexes/category.py\": 1738208876.0784512, \"/home/oren/work/notes/notes-nlp/.venv/lib/python3.10/site-packages/pandas/core/indexes/range.py\": 1738208876.076451, \"/home/oren/work/notes/notes-nlp/.venv/lib/python3.10/site-packages/pandas/core/tools/__init__.py\": 1738208876.0744512, \"/home/oren/work/notes/notes-nlp/.venv/lib/python3.10/site-packages/pandas/core/tools/timedeltas.py\": 1738208876.0744512, \"/home/oren/work/notes/notes-nlp/.venv/lib/python3.10/site-packages/pandas/core/indexes/datetimelike.py\": 1738208876.076451, \"/home/oren/work/notes/notes-nlp/.venv/lib/python3.10/site-packages/pandas/core/tools/times.py\": 1738208876.0744512, \"/home/oren/work/notes/notes-nlp/.venv/lib/python3.10/site-packages/pandas/core/indexes/datetimes.py\": 1738208876.076451, \"/home/oren/work/notes/notes-nlp/.venv/lib/python3.10/site-packages/pandas/core/indexes/multi.py\": 1738208876.0754511, \"/home/oren/work/notes/notes-nlp/.venv/lib/python3.10/site-packages/pandas/core/indexes/timedeltas.py\": 1738208876.0784512, \"/home/oren/work/notes/notes-nlp/.venv/lib/python3.10/site-packages/pandas/core/indexes/interval.py\": 1738208876.076451, \"/home/oren/work/notes/notes-nlp/.venv/lib/python3.10/site-packages/pandas/core/indexes/period.py\": 1738208876.076451, \"/home/oren/work/notes/notes-nlp/.venv/lib/python3.10/site-packages/pandas/core/indexes/api.py\": 1738208876.0784512, \"/home/oren/work/notes/notes-nlp/.venv/lib/python3.10/site-packages/pandas/core/indexing.py\": 1738208876.0674512, \"/home/oren/work/notes/notes-nlp/.venv/lib/python3.10/site-packages/pandas/core/sample.py\": 1738208876.0664513, \"/home/oren/work/notes/notes-nlp/.venv/lib/python3.10/site-packages/pandas/core/array_algos/replace.py\": 1738208876.0954509, \"/home/oren/work/notes/notes-nlp/.venv/lib/python3.10/site-packages/pandas/core/internals/blocks.py\": 1738208876.085451, \"/home/oren/work/notes/notes-nlp/.venv/lib/python3.10/site-packages/pandas/core/internals/api.py\": 1738208876.084451, \"/home/oren/work/notes/notes-nlp/.venv/lib/python3.10/site-packages/pandas/core/internals/base.py\": 1738208876.084451, \"/home/oren/work/notes/notes-nlp/.venv/lib/python3.10/site-packages/pandas/core/internals/ops.py\": 1738208876.084451, \"/home/oren/work/notes/notes-nlp/.venv/lib/python3.10/site-packages/pandas/core/internals/managers.py\": 1738208876.086451, \"/home/oren/work/notes/notes-nlp/.venv/lib/python3.10/site-packages/pandas/core/internals/array_manager.py\": 1738208876.085451, \"/home/oren/work/notes/notes-nlp/.venv/lib/python3.10/site-packages/pandas/core/internals/concat.py\": 1738208876.085451, \"/home/oren/work/notes/notes-nlp/.venv/lib/python3.10/site-packages/pandas/core/internals/__init__.py\": 1738208876.085451, \"/home/oren/work/notes/notes-nlp/.venv/lib/python3.10/site-packages/pandas/core/internals/construction.py\": 1738208876.084451, \"/home/oren/work/notes/notes-nlp/.venv/lib/python3.10/site-packages/pandas/core/methods/__init__.py\": 1738208876.0754511, \"/home/oren/work/notes/notes-nlp/.venv/lib/python3.10/site-packages/pandas/core/reshape/__init__.py\": 1738208876.083451, \"/home/oren/work/notes/notes-nlp/.venv/lib/python3.10/site-packages/pandas/core/reshape/concat.py\": 1738208876.083451, \"/usr/lib/python3.10/lib-dynload/mmap.cpython-310-x86_64-linux-gnu.so\": 1737124534.0, \"/usr/lib/python3.10/tarfile.py\": 1737124534.0, \"/home/oren/work/notes/notes-nlp/.venv/lib/python3.10/site-packages/pandas/core/shared_docs.py\": 1738208876.0694513, \"/home/oren/work/notes/notes-nlp/.venv/lib/python3.10/site-packages/pandas/io/common.py\": 1738208875.9274535, \"/home/oren/work/notes/notes-nlp/.venv/lib/python3.10/site-packages/pandas/io/formats/format.py\": 1738208875.9284534, \"/home/oren/work/notes/notes-nlp/.venv/lib/python3.10/site-packages/pandas/core/methods/describe.py\": 1738208876.0754511, \"/home/oren/work/notes/notes-nlp/.venv/lib/python3.10/site-packages/pandas/_libs/window/__init__.py\": 1738208876.1674497, \"/home/oren/work/notes/notes-nlp/.venv/lib/python3.10/site-packages/pandas/_libs/window/aggregations.cpython-310-x86_64-linux-gnu.so\": 1738208876.1694496, \"/home/oren/work/notes/notes-nlp/.venv/lib/python3.10/site-packages/pandas/_libs/window/indexers.cpython-310-x86_64-linux-gnu.so\": 1738208876.1664498, \"/home/oren/work/notes/notes-nlp/.venv/lib/python3.10/site-packages/pandas/core/indexers/objects.py\": 1738208876.0714512, \"/home/oren/work/notes/notes-nlp/.venv/lib/python3.10/site-packages/pandas/core/util/numba_.py\": 1738208876.0734513, \"/home/oren/work/notes/notes-nlp/.venv/lib/python3.10/site-packages/pandas/core/window/common.py\": 1738208876.082451, \"/home/oren/work/notes/notes-nlp/.venv/lib/python3.10/site-packages/pandas/core/window/doc.py\": 1738208876.080451, \"/home/oren/work/notes/notes-nlp/.venv/lib/python3.10/site-packages/pandas/core/window/numba_.py\": 1738208876.081451, \"/home/oren/work/notes/notes-nlp/.venv/lib/python3.10/site-packages/pandas/core/window/online.py\": 1738208876.081451, \"/home/oren/work/notes/notes-nlp/.venv/lib/python3.10/site-packages/pandas/core/window/rolling.py\": 1738208876.081451, \"/home/oren/work/notes/notes-nlp/.venv/lib/python3.10/site-packages/pandas/core/window/ewm.py\": 1738208876.081451, \"/home/oren/work/notes/notes-nlp/.venv/lib/python3.10/site-packages/pandas/core/window/expanding.py\": 1738208876.081451, \"/home/oren/work/notes/notes-nlp/.venv/lib/python3.10/site-packages/pandas/core/window/__init__.py\": 1738208876.081451, \"/home/oren/work/notes/notes-nlp/.venv/lib/python3.10/site-packages/pandas/core/generic.py\": 1738208876.0664513, \"/home/oren/work/notes/notes-nlp/.venv/lib/python3.10/site-packages/pandas/core/methods/selectn.py\": 1738208876.0754511, \"/home/oren/work/notes/notes-nlp/.venv/lib/python3.10/site-packages/pandas/core/reshape/util.py\": 1738208876.083451, \"/home/oren/work/notes/notes-nlp/.venv/lib/python3.10/site-packages/pandas/core/tools/numeric.py\": 1738208876.0744512, \"/home/oren/work/notes/notes-nlp/.venv/lib/python3.10/site-packages/pandas/core/reshape/melt.py\": 1738208876.083451, \"/home/oren/work/notes/notes-nlp/.venv/lib/python3.10/site-packages/pandas/_libs/reshape.cpython-310-x86_64-linux-gnu.so\": 1738208876.14945, \"/home/oren/work/notes/notes-nlp/.venv/lib/python3.10/site-packages/pandas/core/indexes/accessors.py\": 1738208876.0784512, \"/home/oren/work/notes/notes-nlp/.venv/lib/python3.10/site-packages/pandas/arrays/__init__.py\": 1738208876.0954509, \"/home/oren/work/notes/notes-nlp/.venv/lib/python3.10/site-packages/pandas/core/tools/datetimes.py\": 1738208876.0744512, \"/home/oren/work/notes/notes-nlp/.venv/lib/python3.10/site-packages/pandas/io/formats/info.py\": 1738208875.9284534, \"/home/oren/work/notes/notes-nlp/.venv/lib/python3.10/site-packages/pandas/plotting/_core.py\": 1738208875.9364533, \"/home/oren/work/notes/notes-nlp/.venv/lib/python3.10/site-packages/pandas/plotting/_misc.py\": 1738208875.9364533, \"/home/oren/work/notes/notes-nlp/.venv/lib/python3.10/site-packages/pandas/plotting/__init__.py\": 1738208875.9364533, \"/home/oren/work/notes/notes-nlp/.venv/lib/python3.10/site-packages/pandas/core/series.py\": 1738208876.0704513, \"/home/oren/work/notes/notes-nlp/.venv/lib/python3.10/site-packages/pandas/core/frame.py\": 1738208876.0694513, \"/home/oren/work/notes/notes-nlp/.venv/lib/python3.10/site-packages/pandas/core/groupby/base.py\": 1738208876.080451, \"/home/oren/work/notes/notes-nlp/.venv/lib/python3.10/site-packages/pandas/_libs/groupby.cpython-310-x86_64-linux-gnu.so\": 1738208876.1204505, \"/home/oren/work/notes/notes-nlp/.venv/lib/python3.10/site-packages/pandas/core/groupby/categorical.py\": 1738208876.080451, \"/home/oren/work/notes/notes-nlp/.venv/lib/python3.10/site-packages/pandas/core/groupby/grouper.py\": 1738208876.080451, \"/home/oren/work/notes/notes-nlp/.venv/lib/python3.10/site-packages/pandas/core/groupby/ops.py\": 1738208876.080451, \"/home/oren/work/notes/notes-nlp/.venv/lib/python3.10/site-packages/pandas/core/groupby/numba_.py\": 1738208876.080451, \"/home/oren/work/notes/notes-nlp/.venv/lib/python3.10/site-packages/pandas/core/groupby/indexing.py\": 1738208876.080451, \"/home/oren/work/notes/notes-nlp/.venv/lib/python3.10/site-packages/pandas/core/groupby/groupby.py\": 1738208876.079451, \"/home/oren/work/notes/notes-nlp/.venv/lib/python3.10/site-packages/pandas/core/groupby/generic.py\": 1738208876.079451, \"/home/oren/work/notes/notes-nlp/.venv/lib/python3.10/site-packages/pandas/core/groupby/__init__.py\": 1738208876.080451, \"/home/oren/work/notes/notes-nlp/.venv/lib/python3.10/site-packages/pandas/core/api.py\": 1738208876.0664513, \"/home/oren/work/notes/notes-nlp/.venv/lib/python3.10/site-packages/pandas/tseries/api.py\": 1738208876.0624514, \"/home/oren/work/notes/notes-nlp/.venv/lib/python3.10/site-packages/pandas/core/computation/common.py\": 1738208876.0734513, \"/home/oren/work/notes/notes-nlp/.venv/lib/python3.10/site-packages/pandas/core/computation/align.py\": 1738208876.072451, \"/home/oren/work/notes/notes-nlp/.venv/lib/python3.10/site-packages/pandas/core/computation/scope.py\": 1738208876.0714512, \"/home/oren/work/notes/notes-nlp/.venv/lib/python3.10/site-packages/pandas/core/computation/ops.py\": 1738208876.072451, \"/home/oren/work/notes/notes-nlp/.venv/lib/python3.10/site-packages/pandas/core/computation/engines.py\": 1738208876.072451, \"/home/oren/work/notes/notes-nlp/.venv/lib/python3.10/site-packages/pandas/core/computation/parsing.py\": 1738208876.072451, \"/home/oren/work/notes/notes-nlp/.venv/lib/python3.10/site-packages/pandas/core/computation/expr.py\": 1738208876.0714512, \"/home/oren/work/notes/notes-nlp/.venv/lib/python3.10/site-packages/pandas/core/computation/eval.py\": 1738208876.072451, \"/home/oren/work/notes/notes-nlp/.venv/lib/python3.10/site-packages/pandas/core/computation/api.py\": 1738208876.072451, \"/home/oren/work/notes/notes-nlp/.venv/lib/python3.10/site-packages/pandas/core/reshape/encoding.py\": 1738208876.082451, \"/home/oren/work/notes/notes-nlp/.venv/lib/python3.10/site-packages/pandas/core/reshape/merge.py\": 1738208876.082451, \"/home/oren/work/notes/notes-nlp/.venv/lib/python3.10/site-packages/pandas/core/reshape/pivot.py\": 1738208876.082451, \"/home/oren/work/notes/notes-nlp/.venv/lib/python3.10/site-packages/pandas/core/reshape/tile.py\": 1738208876.083451, \"/home/oren/work/notes/notes-nlp/.venv/lib/python3.10/site-packages/pandas/core/reshape/api.py\": 1738208876.083451, \"/home/oren/work/notes/notes-nlp/.venv/lib/python3.10/site-packages/pandas/api/extensions/__init__.py\": 1738208876.0964508, \"/home/oren/work/notes/notes-nlp/.venv/lib/python3.10/site-packages/pandas/api/indexers/__init__.py\": 1738208876.0964508, \"/home/oren/work/notes/notes-nlp/.venv/lib/python3.10/site-packages/pandas/core/interchange/__init__.py\": 1738208876.084451, \"/home/oren/work/notes/notes-nlp/.venv/lib/python3.10/site-packages/pandas/core/interchange/dataframe_protocol.py\": 1738208876.083451, \"/home/oren/work/notes/notes-nlp/.venv/lib/python3.10/site-packages/pandas/core/interchange/utils.py\": 1738208876.084451, \"/home/oren/work/notes/notes-nlp/.venv/lib/python3.10/site-packages/pandas/core/interchange/from_dataframe.py\": 1738208876.084451, \"/home/oren/work/notes/notes-nlp/.venv/lib/python3.10/site-packages/pandas/api/interchange/__init__.py\": 1738208876.0964508, \"/home/oren/work/notes/notes-nlp/.venv/lib/python3.10/site-packages/pandas/core/dtypes/api.py\": 1738208876.0924509, \"/home/oren/work/notes/notes-nlp/.venv/lib/python3.10/site-packages/pandas/api/types/__init__.py\": 1738208876.0964508, \"/home/oren/work/notes/notes-nlp/.venv/lib/python3.10/site-packages/pandas/core/resample.py\": 1738208876.0644512, \"/home/oren/work/notes/notes-nlp/.venv/lib/python3.10/site-packages/pandas/_libs/json.cpython-310-x86_64-linux-gnu.so\": 1738208876.0974507, \"/home/oren/work/notes/notes-nlp/.venv/lib/python3.10/site-packages/pandas/io/json/_normalize.py\": 1738208875.9344535, \"/home/oren/work/notes/notes-nlp/.venv/lib/python3.10/site-packages/pandas/io/json/_table_schema.py\": 1738208875.9344535, \"/home/oren/work/notes/notes-nlp/.venv/lib/python3.10/site-packages/pandas/_libs/parsers.cpython-310-x86_64-linux-gnu.so\": 1738208876.1084507, \"/home/oren/work/notes/notes-nlp/.venv/lib/python3.10/site-packages/pandas/io/parsers/base_parser.py\": 1738208875.9324534, \"/home/oren/work/notes/notes-nlp/.venv/lib/python3.10/site-packages/pandas/io/parsers/arrow_parser_wrapper.py\": 1738208875.9314535, \"/home/oren/work/notes/notes-nlp/.venv/lib/python3.10/site-packages/pandas/io/parsers/c_parser_wrapper.py\": 1738208875.9314535, \"/home/oren/work/notes/notes-nlp/.venv/lib/python3.10/site-packages/pandas/io/parsers/python_parser.py\": 1738208875.9314535, \"/home/oren/work/notes/notes-nlp/.venv/lib/python3.10/site-packages/pandas/io/parsers/readers.py\": 1738208875.9314535, \"/home/oren/work/notes/notes-nlp/.venv/lib/python3.10/site-packages/pandas/io/parsers/__init__.py\": 1738208875.9324534, \"/home/oren/work/notes/notes-nlp/.venv/lib/python3.10/site-packages/pandas/io/json/_json.py\": 1738208875.9344535, \"/home/oren/work/notes/notes-nlp/.venv/lib/python3.10/site-packages/pandas/io/json/__init__.py\": 1738208875.9344535, \"/home/oren/work/notes/notes-nlp/.venv/lib/python3.10/site-packages/pandas/io/stata.py\": 1738208875.9274535, \"/home/oren/work/notes/notes-nlp/.venv/lib/python3.10/site-packages/pandas/api/typing/__init__.py\": 1738208876.0964508, \"/home/oren/work/notes/notes-nlp/.venv/lib/python3.10/site-packages/pandas/api/__init__.py\": 1738208876.0954509, \"/home/oren/work/notes/notes-nlp/.venv/lib/python3.10/site-packages/pandas/_testing/contexts.py\": 1738208876.0614514, \"/home/oren/work/notes/notes-nlp/.venv/lib/python3.10/site-packages/pandas/_testing/_io.py\": 1738208876.0624514, \"/home/oren/work/notes/notes-nlp/.venv/lib/python3.10/site-packages/pandas/_testing/_warnings.py\": 1738208876.0624514, \"/home/oren/work/notes/notes-nlp/.venv/lib/python3.10/site-packages/pandas/_libs/testing.cpython-310-x86_64-linux-gnu.so\": 1738208876.1634498, \"/home/oren/work/notes/notes-nlp/.venv/lib/python3.10/site-packages/pandas/_testing/asserters.py\": 1738208876.0624514, \"/home/oren/work/notes/notes-nlp/.venv/lib/python3.10/site-packages/pandas/_testing/compat.py\": 1738208876.0624514, \"/home/oren/work/notes/notes-nlp/.venv/lib/python3.10/site-packages/pandas/_testing/__init__.py\": 1738208876.0624514, \"/home/oren/work/notes/notes-nlp/.venv/lib/python3.10/site-packages/pandas/testing.py\": 1738208875.9244535, \"/home/oren/work/notes/notes-nlp/.venv/lib/python3.10/site-packages/pandas/util/_print_versions.py\": 1738208875.9344535, \"/home/oren/work/notes/notes-nlp/.venv/lib/python3.10/site-packages/pandas/io/clipboards.py\": 1738208875.9274535, \"/home/oren/work/notes/notes-nlp/.venv/lib/python3.10/site-packages/pandas/io/excel/_util.py\": 1738208875.9324534, \"/home/oren/work/notes/notes-nlp/.venv/lib/python3.10/site-packages/pandas/io/excel/_calamine.py\": 1738208875.9334533, \"/home/oren/work/notes/notes-nlp/.venv/lib/python3.10/site-packages/pandas/io/excel/_odfreader.py\": 1738208875.9334533, \"/home/oren/work/notes/notes-nlp/.venv/lib/python3.10/site-packages/pandas/io/excel/_openpyxl.py\": 1738208875.9334533, \"/home/oren/work/notes/notes-nlp/.venv/lib/python3.10/site-packages/pandas/io/excel/_pyxlsb.py\": 1738208875.9324534, \"/home/oren/work/notes/notes-nlp/.venv/lib/python3.10/site-packages/pandas/io/excel/_xlrd.py\": 1738208875.9334533, \"/home/oren/work/notes/notes-nlp/.venv/lib/python3.10/site-packages/pandas/io/excel/_base.py\": 1738208875.9324534, \"/home/oren/work/notes/notes-nlp/.venv/lib/python3.10/site-packages/pandas/io/excel/_odswriter.py\": 1738208875.9324534, \"/home/oren/work/notes/notes-nlp/.venv/lib/python3.10/site-packages/pandas/io/excel/_xlsxwriter.py\": 1738208875.9324534, \"/home/oren/work/notes/notes-nlp/.venv/lib/python3.10/site-packages/pandas/io/excel/__init__.py\": 1738208875.9334533, \"/home/oren/work/notes/notes-nlp/.venv/lib/python3.10/site-packages/pandas/io/feather_format.py\": 1738208875.9254534, \"/home/oren/work/notes/notes-nlp/.venv/lib/python3.10/site-packages/pandas/io/gbq.py\": 1738208875.9274535, \"/home/oren/work/notes/notes-nlp/.venv/lib/python3.10/site-packages/pandas/io/html.py\": 1738208875.9254534, \"/home/oren/work/notes/notes-nlp/.venv/lib/python3.10/site-packages/pandas/io/orc.py\": 1738208875.9244535, \"/home/oren/work/notes/notes-nlp/.venv/lib/python3.10/site-packages/pandas/io/parquet.py\": 1738208875.9254534, \"/home/oren/work/notes/notes-nlp/.venv/lib/python3.10/site-packages/pandas/compat/pickle_compat.py\": 1738208876.2004492, \"/home/oren/work/notes/notes-nlp/.venv/lib/python3.10/site-packages/pandas/io/pickle.py\": 1738208875.9274535, \"/home/oren/work/notes/notes-nlp/.venv/lib/python3.10/site-packages/pandas/core/computation/pytables.py\": 1738208876.072451, \"/home/oren/work/notes/notes-nlp/.venv/lib/python3.10/site-packages/pandas/io/pytables.py\": 1738208875.9264536, \"/home/oren/work/notes/notes-nlp/.venv/lib/python3.10/site-packages/pandas/io/sas/sasreader.py\": 1738208875.9344535, \"/home/oren/work/notes/notes-nlp/.venv/lib/python3.10/site-packages/pandas/io/sas/__init__.py\": 1738208875.9344535, \"/home/oren/work/notes/notes-nlp/.venv/lib/python3.10/site-packages/pandas/io/spss.py\": 1738208875.9254534, \"/home/oren/work/notes/notes-nlp/.venv/lib/python3.10/site-packages/pandas/io/sql.py\": 1738208875.9254534, \"/home/oren/work/notes/notes-nlp/.venv/lib/python3.10/site-packages/pandas/io/xml.py\": 1738208875.9274535, \"/home/oren/work/notes/notes-nlp/.venv/lib/python3.10/site-packages/pandas/io/api.py\": 1738208875.9254534, \"/home/oren/work/notes/notes-nlp/.venv/lib/python3.10/site-packages/pandas/util/_tester.py\": 1738208875.9344535, \"/home/oren/work/notes/notes-nlp/.venv/lib/python3.10/site-packages/pandas/_version_meson.py\": 1738208875.9244535, \"/home/oren/work/notes/notes-nlp/.venv/lib/python3.10/site-packages/pandas/__init__.py\": 1738208875.9244535}\n"
     ]
    }
   ],
   "source": [
    "\n",
    "# imports\n",
    "import os\n",
    "import sys\n",
    "import types\n",
    "import json\n",
    "import base64\n",
    "\n",
    "# figure size/format\n",
    "fig_width = 7\n",
    "fig_height = 5\n",
    "fig_format = 'retina'\n",
    "fig_dpi = 96\n",
    "interactivity = 'all'\n",
    "is_shiny = False\n",
    "is_dashboard = False\n",
    "plotly_connected = True\n",
    "\n",
    "# matplotlib defaults / format\n",
    "try:\n",
    "  import matplotlib.pyplot as plt\n",
    "  plt.rcParams['figure.figsize'] = (fig_width, fig_height)\n",
    "  plt.rcParams['figure.dpi'] = fig_dpi\n",
    "  plt.rcParams['savefig.dpi'] = \"figure\"\n",
    "  from IPython.display import set_matplotlib_formats\n",
    "  set_matplotlib_formats(fig_format)\n",
    "except Exception:\n",
    "  pass\n",
    "\n",
    "# plotly use connected mode\n",
    "try:\n",
    "  import plotly.io as pio\n",
    "  if plotly_connected:\n",
    "    pio.renderers.default = \"notebook_connected\"\n",
    "  else:\n",
    "    pio.renderers.default = \"notebook\"\n",
    "  for template in pio.templates.keys():\n",
    "    pio.templates[template].layout.margin = dict(t=30,r=0,b=0,l=0)\n",
    "except Exception:\n",
    "  pass\n",
    "\n",
    "# disable itables paging for dashboards\n",
    "if is_dashboard:\n",
    "  try:\n",
    "    from itables import options\n",
    "    options.dom = 'fiBrtlp'\n",
    "    options.maxBytes = 1024 * 1024\n",
    "    options.language = dict(info = \"Showing _TOTAL_ entries\")\n",
    "    options.classes = \"display nowrap compact\"\n",
    "    options.paging = False\n",
    "    options.searching = True\n",
    "    options.ordering = True\n",
    "    options.info = True\n",
    "    options.lengthChange = False\n",
    "    options.autoWidth = False\n",
    "    options.responsive = True\n",
    "    options.keys = True\n",
    "    options.buttons = []\n",
    "  except Exception:\n",
    "    pass\n",
    "  \n",
    "  try:\n",
    "    import altair as alt\n",
    "    # By default, dashboards will have container sized\n",
    "    # vega visualizations which allows them to flow reasonably\n",
    "    theme_sentinel = '_quarto-dashboard-internal'\n",
    "    def make_theme(name):\n",
    "        nonTheme = alt.themes._plugins[name]    \n",
    "        def patch_theme(*args, **kwargs):\n",
    "            existingTheme = nonTheme()\n",
    "            if 'height' not in existingTheme:\n",
    "              existingTheme['height'] = 'container'\n",
    "            if 'width' not in existingTheme:\n",
    "              existingTheme['width'] = 'container'\n",
    "\n",
    "            if 'config' not in existingTheme:\n",
    "              existingTheme['config'] = dict()\n",
    "            \n",
    "            # Configure the default font sizes\n",
    "            title_font_size = 15\n",
    "            header_font_size = 13\n",
    "            axis_font_size = 12\n",
    "            legend_font_size = 12\n",
    "            mark_font_size = 12\n",
    "            tooltip = False\n",
    "\n",
    "            config = existingTheme['config']\n",
    "\n",
    "            # The Axis\n",
    "            if 'axis' not in config:\n",
    "              config['axis'] = dict()\n",
    "            axis = config['axis']\n",
    "            if 'labelFontSize' not in axis:\n",
    "              axis['labelFontSize'] = axis_font_size\n",
    "            if 'titleFontSize' not in axis:\n",
    "              axis['titleFontSize'] = axis_font_size  \n",
    "\n",
    "            # The legend\n",
    "            if 'legend' not in config:\n",
    "              config['legend'] = dict()\n",
    "            legend = config['legend']\n",
    "            if 'labelFontSize' not in legend:\n",
    "              legend['labelFontSize'] = legend_font_size\n",
    "            if 'titleFontSize' not in legend:\n",
    "              legend['titleFontSize'] = legend_font_size  \n",
    "\n",
    "            # The header\n",
    "            if 'header' not in config:\n",
    "              config['header'] = dict()\n",
    "            header = config['header']\n",
    "            if 'labelFontSize' not in header:\n",
    "              header['labelFontSize'] = header_font_size\n",
    "            if 'titleFontSize' not in header:\n",
    "              header['titleFontSize'] = header_font_size    \n",
    "\n",
    "            # Title\n",
    "            if 'title' not in config:\n",
    "              config['title'] = dict()\n",
    "            title = config['title']\n",
    "            if 'fontSize' not in title:\n",
    "              title['fontSize'] = title_font_size\n",
    "\n",
    "            # Marks\n",
    "            if 'mark' not in config:\n",
    "              config['mark'] = dict()\n",
    "            mark = config['mark']\n",
    "            if 'fontSize' not in mark:\n",
    "              mark['fontSize'] = mark_font_size\n",
    "\n",
    "            # Mark tooltips\n",
    "            if tooltip and 'tooltip' not in mark:\n",
    "              mark['tooltip'] = dict(content=\"encoding\")\n",
    "\n",
    "            return existingTheme\n",
    "            \n",
    "        return patch_theme\n",
    "\n",
    "    # We can only do this once per session\n",
    "    if theme_sentinel not in alt.themes.names():\n",
    "      for name in alt.themes.names():\n",
    "        alt.themes.register(name, make_theme(name))\n",
    "      \n",
    "      # register a sentinel theme so we only do this once\n",
    "      alt.themes.register(theme_sentinel, make_theme('default'))\n",
    "      alt.themes.enable('default')\n",
    "\n",
    "  except Exception:\n",
    "    pass\n",
    "\n",
    "# enable pandas latex repr when targeting pdfs\n",
    "try:\n",
    "  import pandas as pd\n",
    "  if fig_format == 'pdf':\n",
    "    pd.set_option('display.latex.repr', True)\n",
    "except Exception:\n",
    "  pass\n",
    "\n",
    "# interactivity\n",
    "if interactivity:\n",
    "  from IPython.core.interactiveshell import InteractiveShell\n",
    "  InteractiveShell.ast_node_interactivity = interactivity\n",
    "\n",
    "# NOTE: the kernel_deps code is repeated in the cleanup.py file\n",
    "# (we can't easily share this code b/c of the way it is run).\n",
    "# If you edit this code also edit the same code in cleanup.py!\n",
    "\n",
    "# output kernel dependencies\n",
    "kernel_deps = dict()\n",
    "for module in list(sys.modules.values()):\n",
    "  # Some modules play games with sys.modules (e.g. email/__init__.py\n",
    "  # in the standard library), and occasionally this can cause strange\n",
    "  # failures in getattr.  Just ignore anything that's not an ordinary\n",
    "  # module.\n",
    "  if not isinstance(module, types.ModuleType):\n",
    "    continue\n",
    "  path = getattr(module, \"__file__\", None)\n",
    "  if not path:\n",
    "    continue\n",
    "  if path.endswith(\".pyc\") or path.endswith(\".pyo\"):\n",
    "    path = path[:-1]\n",
    "  if not os.path.exists(path):\n",
    "    continue\n",
    "  kernel_deps[path] = os.stat(path).st_mtime\n",
    "print(json.dumps(kernel_deps))\n",
    "\n",
    "# set run_path if requested\n",
    "run_path = 'L2hvbWUvb3Jlbi93b3JrL25vdGVzL25vdGVzLW5scC9wb3N0cy9jMXc0'\n",
    "if run_path:\n",
    "  # hex-decode the path\n",
    "  run_path = base64.b64decode(run_path.encode(\"utf-8\")).decode(\"utf-8\")\n",
    "  os.chdir(run_path)\n",
    "\n",
    "# reset state\n",
    "%reset\n",
    "\n",
    "# shiny\n",
    "# Checking for shiny by using False directly because we're after the %reset. We don't want\n",
    "# to set a variable that stays in global scope.\n",
    "if False:\n",
    "  try:\n",
    "    import htmltools as _htmltools\n",
    "    import ast as _ast\n",
    "\n",
    "    _htmltools.html_dependency_render_mode = \"json\"\n",
    "\n",
    "    # This decorator will be added to all function definitions\n",
    "    def _display_if_has_repr_html(x):\n",
    "      try:\n",
    "        # IPython 7.14 preferred import\n",
    "        from IPython.display import display, HTML\n",
    "      except:\n",
    "        from IPython.core.display import display, HTML\n",
    "\n",
    "      if hasattr(x, '_repr_html_'):\n",
    "        display(HTML(x._repr_html_()))\n",
    "      return x\n",
    "\n",
    "    # ideally we would undo the call to ast_transformers.append\n",
    "    # at the end of this block whenver an error occurs, we do \n",
    "    # this for now as it will only be a problem if the user \n",
    "    # switches from shiny to not-shiny mode (and even then likely\n",
    "    # won't matter)\n",
    "    import builtins\n",
    "    builtins._display_if_has_repr_html = _display_if_has_repr_html\n",
    "\n",
    "    class _FunctionDefReprHtml(_ast.NodeTransformer):\n",
    "      def visit_FunctionDef(self, node):\n",
    "        node.decorator_list.insert(\n",
    "          0,\n",
    "          _ast.Name(id=\"_display_if_has_repr_html\", ctx=_ast.Load())\n",
    "        )\n",
    "        return node\n",
    "\n",
    "      def visit_AsyncFunctionDef(self, node):\n",
    "        node.decorator_list.insert(\n",
    "          0,\n",
    "          _ast.Name(id=\"_display_if_has_repr_html\", ctx=_ast.Load())\n",
    "        )\n",
    "        return node\n",
    "\n",
    "    ip = get_ipython()\n",
    "    ip.ast_transformers.append(_FunctionDefReprHtml())\n",
    "\n",
    "  except:\n",
    "    pass\n",
    "\n",
    "def ojs_define(**kwargs):\n",
    "  import json\n",
    "  try:\n",
    "    # IPython 7.14 preferred import\n",
    "    from IPython.display import display, HTML\n",
    "  except:\n",
    "    from IPython.core.display import display, HTML\n",
    "\n",
    "  # do some minor magic for convenience when handling pandas\n",
    "  # dataframes\n",
    "  def convert(v):\n",
    "    try:\n",
    "      import pandas as pd\n",
    "    except ModuleNotFoundError: # don't do the magic when pandas is not available\n",
    "      return v\n",
    "    if type(v) == pd.Series:\n",
    "      v = pd.DataFrame(v)\n",
    "    if type(v) == pd.DataFrame:\n",
    "      j = json.loads(v.T.to_json(orient='split'))\n",
    "      return dict((k,v) for (k,v) in zip(j[\"index\"], j[\"data\"]))\n",
    "    else:\n",
    "      return v\n",
    "\n",
    "  v = dict(contents=list(dict(name=key, value=convert(value)) for (key, value) in kwargs.items()))\n",
    "  display(HTML('<script type=\"ojs-define\">' + json.dumps(v) + '</script>'), metadata=dict(ojs_define = True))\n",
    "globals()[\"ojs_define\"] = ojs_define\n",
    "globals()[\"__spec__\"] = None"
   ]
  },
  {
   "cell_type": "code",
   "execution_count": 2,
   "id": "b5c8786c",
   "metadata": {},
   "outputs": [
    {
     "ename": "ModuleNotFoundError",
     "evalue": "No module named 'gensim'",
     "output_type": "error",
     "traceback": [
      "\u001b[0;31m---------------------------------------------------------------------------\u001b[0m",
      "\u001b[0;31mModuleNotFoundError\u001b[0m                       Traceback (most recent call last)",
      "Cell \u001b[0;32mIn[1], line 7\u001b[0m\n\u001b[1;32m      3\u001b[0m \u001b[38;5;28;01mimport\u001b[39;00m\u001b[38;5;250m \u001b[39m\u001b[38;5;21;01mstring\u001b[39;00m\n\u001b[1;32m      5\u001b[0m \u001b[38;5;28;01mimport\u001b[39;00m\u001b[38;5;250m \u001b[39m\u001b[38;5;21;01mtime\u001b[39;00m\n\u001b[0;32m----> 7\u001b[0m \u001b[38;5;28;01mimport\u001b[39;00m\u001b[38;5;250m \u001b[39m\u001b[38;5;21;01mgensim\u001b[39;00m\n\u001b[1;32m      8\u001b[0m \u001b[38;5;28;01mimport\u001b[39;00m\u001b[38;5;250m \u001b[39m\u001b[38;5;21;01mmatplotlib\u001b[39;00m\u001b[38;5;21;01m.\u001b[39;00m\u001b[38;5;21;01mpyplot\u001b[39;00m\u001b[38;5;250m \u001b[39m\u001b[38;5;28;01mas\u001b[39;00m\u001b[38;5;250m \u001b[39m\u001b[38;5;21;01mplt\u001b[39;00m\n\u001b[1;32m      9\u001b[0m \u001b[38;5;28;01mimport\u001b[39;00m\u001b[38;5;250m \u001b[39m\u001b[38;5;21;01mnltk\u001b[39;00m\n",
      "\u001b[0;31mModuleNotFoundError\u001b[0m: No module named 'gensim'"
     ]
    }
   ],
   "source": [
    "import pdb\n",
    "import pickle\n",
    "import string\n",
    "\n",
    "import time\n",
    "\n",
    "import gensim\n",
    "import matplotlib.pyplot as plt\n",
    "import nltk\n",
    "import numpy as np\n",
    "import scipy\n",
    "import sklearn\n",
    "from gensim.models import KeyedVectors\n",
    "from nltk.corpus import stopwords, twitter_samples\n",
    "from nltk.tokenize import TweetTokenizer\n",
    "\n",
    "from utils import (cosine_similarity, get_dict,\n",
    "                   process_tweet)\n",
    "from os import getcwd"
   ]
  },
  {
   "cell_type": "code",
   "execution_count": 3,
   "id": "de4c39fa",
   "metadata": {},
   "outputs": [
    {
     "ename": "NameError",
     "evalue": "name 'getcwd' is not defined",
     "output_type": "error",
     "traceback": [
      "\u001b[0;31m---------------------------------------------------------------------------\u001b[0m",
      "\u001b[0;31mNameError\u001b[0m                                 Traceback (most recent call last)",
      "Cell \u001b[0;32mIn[2], line 2\u001b[0m\n\u001b[1;32m      1\u001b[0m \u001b[38;5;66;03m# add folder, tmp2, from our local workspace containing pre-downloaded corpora files to nltk's data path\u001b[39;00m\n\u001b[0;32m----> 2\u001b[0m filePath \u001b[38;5;241m=\u001b[39m \u001b[38;5;124mf\u001b[39m\u001b[38;5;124m\"\u001b[39m\u001b[38;5;132;01m{\u001b[39;00m\u001b[43mgetcwd\u001b[49m()\u001b[38;5;132;01m}\u001b[39;00m\u001b[38;5;124m/../tmp2/\u001b[39m\u001b[38;5;124m\"\u001b[39m\n\u001b[1;32m      3\u001b[0m nltk\u001b[38;5;241m.\u001b[39mdata\u001b[38;5;241m.\u001b[39mpath\u001b[38;5;241m.\u001b[39mappend(filePath)\n",
      "\u001b[0;31mNameError\u001b[0m: name 'getcwd' is not defined"
     ]
    }
   ],
   "source": [
    "# add folder, tmp2, from our local workspace containing pre-downloaded corpora files to nltk's data path\n",
    "filePath = f\"{getcwd()}/../tmp2/\"\n",
    "nltk.data.path.append(filePath)"
   ]
  },
  {
   "cell_type": "code",
   "execution_count": 4,
   "id": "c8e5c6ca",
   "metadata": {},
   "outputs": [],
   "source": [
    "en_embeddings_subset = pickle.load(open(\"en_embeddings.p\", \"rb\"))\n",
    "fr_embeddings_subset = pickle.load(open(\"fr_embeddings.p\", \"rb\"))"
   ]
  },
  {
   "cell_type": "code",
   "execution_count": 5,
   "id": "530b3dbc",
   "metadata": {},
   "outputs": [
    {
     "ename": "NameError",
     "evalue": "name 'get_dict' is not defined",
     "output_type": "error",
     "traceback": [
      "\u001b[0;31m---------------------------------------------------------------------------\u001b[0m",
      "\u001b[0;31mNameError\u001b[0m                                 Traceback (most recent call last)",
      "Cell \u001b[0;32mIn[4], line 2\u001b[0m\n\u001b[1;32m      1\u001b[0m \u001b[38;5;66;03m# loading the english to french dictionaries\u001b[39;00m\n\u001b[0;32m----> 2\u001b[0m en_fr_train \u001b[38;5;241m=\u001b[39m \u001b[43mget_dict\u001b[49m(\u001b[38;5;124m'\u001b[39m\u001b[38;5;124men-fr.train.txt\u001b[39m\u001b[38;5;124m'\u001b[39m)\n\u001b[1;32m      3\u001b[0m \u001b[38;5;28mprint\u001b[39m(\u001b[38;5;124m'\u001b[39m\u001b[38;5;124mThe length of the English to French training dictionary is\u001b[39m\u001b[38;5;124m'\u001b[39m, \u001b[38;5;28mlen\u001b[39m(en_fr_train))\n\u001b[1;32m      4\u001b[0m en_fr_test \u001b[38;5;241m=\u001b[39m get_dict(\u001b[38;5;124m'\u001b[39m\u001b[38;5;124men-fr.test.txt\u001b[39m\u001b[38;5;124m'\u001b[39m)\n",
      "\u001b[0;31mNameError\u001b[0m: name 'get_dict' is not defined"
     ]
    }
   ],
   "source": [
    "# loading the english to french dictionaries\n",
    "en_fr_train = get_dict('en-fr.train.txt')\n",
    "print('The length of the English to French training dictionary is', len(en_fr_train))\n",
    "en_fr_test = get_dict('en-fr.test.txt')\n",
    "print('The length of the English to French test dictionary is', len(en_fr_train))"
   ]
  },
  {
   "cell_type": "code",
   "execution_count": 6,
   "id": "f82b7f8b",
   "metadata": {},
   "outputs": [],
   "source": [
    "# UNQ_C1 (UNIQUE CELL IDENTIFIER, DO NOT EDIT)\n",
    "def get_matrices(en_fr, french_vecs, english_vecs):\n",
    "    \"\"\"\n",
    "    Input:\n",
    "        en_fr: English to French dictionary\n",
    "        french_vecs: French words to their corresponding word embeddings.\n",
    "        english_vecs: English words to their corresponding word embeddings.\n",
    "    Output: \n",
    "        X: a matrix where the columns are the English embeddings.\n",
    "        Y: a matrix where the columns correspong to the French embeddings.\n",
    "        R: the projection matrix that minimizes the F norm ||X R -Y||^2.\n",
    "    \"\"\"\n",
    "\n",
    "    ### START CODE HERE (REPLACE INSTANCES OF 'None' with your code) ###\n",
    "\n",
    "    # X_l and Y_l are lists of the english and french word embeddings\n",
    "    X_l = list()\n",
    "    Y_l = list()\n",
    "\n",
    "    # get the english words (the keys in the dictionary) and store in a set()\n",
    "    english_set = None\n",
    "\n",
    "    # get the french words (keys in the dictionary) and store in a set()\n",
    "    french_set = None\n",
    "\n",
    "    # store the french words that are part of the english-french dictionary (these are the values of the dictionary)\n",
    "    french_words = set(en_fr.values())\n",
    "\n",
    "    # loop through all english, french word pairs in the english french dictionary\n",
    "    for en_word, fr_word in en_fr.items():\n",
    "\n",
    "        # check that the french word has an embedding and that the english word has an embedding\n",
    "        if fr_word in french_set and en_word in english_set:\n",
    "\n",
    "            # get the english embedding\n",
    "            en_vec = english_vecs[en_word]\n",
    "\n",
    "            # get the french embedding\n",
    "            fr_vec = None\n",
    "\n",
    "            # add the english embedding to the list\n",
    "            X_l.append(en_vec)\n",
    "\n",
    "            # add the french embedding to the list\n",
    "            None\n",
    "\n",
    "    # stack the vectors of X_l into a matrix X\n",
    "    X = None\n",
    "\n",
    "    # stack the vectors of Y_l into a matrix Y\n",
    "    Y = None\n",
    "    ### END CODE HERE ###\n",
    "\n",
    "    return X, Y"
   ]
  },
  {
   "cell_type": "code",
   "execution_count": 7,
   "id": "a7b9cd13",
   "metadata": {},
   "outputs": [
    {
     "ename": "NameError",
     "evalue": "name 'en_fr_train' is not defined",
     "output_type": "error",
     "traceback": [
      "\u001b[0;31m---------------------------------------------------------------------------\u001b[0m",
      "\u001b[0;31mNameError\u001b[0m                                 Traceback (most recent call last)",
      "Cell \u001b[0;32mIn[6], line 6\u001b[0m\n\u001b[1;32m      1\u001b[0m \u001b[38;5;66;03m# UNQ_C2 (UNIQUE CELL IDENTIFIER, DO NOT EDIT)\u001b[39;00m\n\u001b[1;32m      2\u001b[0m \u001b[38;5;66;03m# You do not have to input any code in this cell, but it is relevant to grading, so please do not change anything\u001b[39;00m\n\u001b[1;32m      3\u001b[0m \n\u001b[1;32m      4\u001b[0m \u001b[38;5;66;03m# getting the training set:\u001b[39;00m\n\u001b[1;32m      5\u001b[0m X_train, Y_train \u001b[38;5;241m=\u001b[39m get_matrices(\n\u001b[0;32m----> 6\u001b[0m     \u001b[43men_fr_train\u001b[49m, fr_embeddings_subset, en_embeddings_subset)\n",
      "\u001b[0;31mNameError\u001b[0m: name 'en_fr_train' is not defined"
     ]
    }
   ],
   "source": [
    "# UNQ_C2 (UNIQUE CELL IDENTIFIER, DO NOT EDIT)\n",
    "# You do not have to input any code in this cell, but it is relevant to grading, so please do not change anything\n",
    "\n",
    "# getting the training set:\n",
    "X_train, Y_train = get_matrices(\n",
    "    en_fr_train, fr_embeddings_subset, en_embeddings_subset)"
   ]
  },
  {
   "cell_type": "code",
   "execution_count": 8,
   "id": "06eab0d6",
   "metadata": {},
   "outputs": [],
   "source": [
    "# UNQ_C3 (UNIQUE CELL IDENTIFIER, DO NOT EDIT)\n",
    "def compute_loss(X, Y, R):\n",
    "    '''\n",
    "    Inputs: \n",
    "        X: a matrix of dimension (m,n) where the columns are the English embeddings.\n",
    "        Y: a matrix of dimension (m,n) where the columns correspong to the French embeddings.\n",
    "        R: a matrix of dimension (n,n) - transformation matrix from English to French vector space embeddings.\n",
    "    Outputs:\n",
    "        L: a matrix of dimension (m,n) - the value of the loss function for given X, Y and R.\n",
    "    '''\n",
    "    ### START CODE HERE (REPLACE INSTANCES OF 'None' with your code) ###\n",
    "    # m is the number of rows in X\n",
    "    m = None\n",
    "    \n",
    "    # diff is XR - Y\n",
    "    diff = None\n",
    "\n",
    "    # diff_squared is the element-wise square of the difference\n",
    "    diff_squared = None\n",
    "\n",
    "    # sum_diff_squared is the sum of the squared elements\n",
    "    sum_diff_squared = None\n",
    "\n",
    "    # loss i the sum_diff_squard divided by the number of examples (m)\n",
    "    loss = None\n",
    "    ### END CODE HERE ###\n",
    "    return loss"
   ]
  },
  {
   "cell_type": "code",
   "execution_count": 9,
   "id": "9cb0691e",
   "metadata": {},
   "outputs": [],
   "source": [
    "# UNQ_C4 (UNIQUE CELL IDENTIFIER, DO NOT EDIT)\n",
    "def compute_gradient(X, Y, R):\n",
    "    '''\n",
    "    Inputs: \n",
    "        X: a matrix of dimension (m,n) where the columns are the English embeddings.\n",
    "        Y: a matrix of dimension (m,n) where the columns correspong to the French embeddings.\n",
    "        R: a matrix of dimension (n,n) - transformation matrix from English to French vector space embeddings.\n",
    "    Outputs:\n",
    "        g: a matrix of dimension (n,n) - gradient of the loss function L for given X, Y and R.\n",
    "    '''\n",
    "    ### START CODE HERE (REPLACE INSTANCES OF 'None' with your code) ###\n",
    "    # m is the number of rows in X\n",
    "    m = None\n",
    "\n",
    "    # gradient is X^T(XR - Y) * 2/m\n",
    "    gradient = None\n",
    "    ### END CODE HERE ###\n",
    "    return gradient"
   ]
  },
  {
   "cell_type": "code",
   "execution_count": 10,
   "id": "4bf56fd5",
   "metadata": {},
   "outputs": [],
   "source": [
    "# UNQ_C5 (UNIQUE CELL IDENTIFIER, DO NOT EDIT)\n",
    "def align_embeddings(X, Y, train_steps=100, learning_rate=0.0003):\n",
    "    '''\n",
    "    Inputs:\n",
    "        X: a matrix of dimension (m,n) where the columns are the English embeddings.\n",
    "        Y: a matrix of dimension (m,n) where the columns correspong to the French embeddings.\n",
    "        train_steps: positive int - describes how many steps will gradient descent algorithm do.\n",
    "        learning_rate: positive float - describes how big steps will  gradient descent algorithm do.\n",
    "    Outputs:\n",
    "        R: a matrix of dimension (n,n) - the projection matrix that minimizes the F norm ||X R -Y||^2\n",
    "    '''\n",
    "    np.random.seed(129)\n",
    "\n",
    "    # the number of columns in X is the number of dimensions for a word vector (e.g. 300)\n",
    "    # R is a square matrix with length equal to the number of dimensions in th  word embedding\n",
    "    R = np.random.rand(X.shape[1], X.shape[1])\n",
    "\n",
    "    for i in range(train_steps):\n",
    "        if i % 25 == 0:\n",
    "            print(f\"loss at iteration {i} is: {compute_loss(X, Y, R):.4f}\")\n",
    "        ### START CODE HERE (REPLACE INSTANCES OF 'None' with your code) ###\n",
    "        # use the function that you defined to compute the gradient\n",
    "        gradient = None\n",
    "\n",
    "        # update R by subtracting the learning rate times gradient\n",
    "        R -= None\n",
    "        ### END CODE HERE ###\n",
    "    return R"
   ]
  },
  {
   "cell_type": "code",
   "execution_count": 11,
   "id": "3e551133",
   "metadata": {},
   "outputs": [
    {
     "ename": "NameError",
     "evalue": "name 'np' is not defined",
     "output_type": "error",
     "traceback": [
      "\u001b[0;31m---------------------------------------------------------------------------\u001b[0m",
      "\u001b[0;31mNameError\u001b[0m                                 Traceback (most recent call last)",
      "Cell \u001b[0;32mIn[10], line 5\u001b[0m\n\u001b[1;32m      1\u001b[0m \u001b[38;5;66;03m# UNQ_C6 (UNIQUE CELL IDENTIFIER, DO NOT EDIT)\u001b[39;00m\n\u001b[1;32m      2\u001b[0m \u001b[38;5;66;03m# You do not have to input any code in this cell, but it is relevant to grading, so please do not change anything\u001b[39;00m\n\u001b[1;32m      3\u001b[0m \n\u001b[1;32m      4\u001b[0m \u001b[38;5;66;03m# Testing your implementation.\u001b[39;00m\n\u001b[0;32m----> 5\u001b[0m \u001b[43mnp\u001b[49m\u001b[38;5;241m.\u001b[39mrandom\u001b[38;5;241m.\u001b[39mseed(\u001b[38;5;241m129\u001b[39m)\n\u001b[1;32m      6\u001b[0m m \u001b[38;5;241m=\u001b[39m \u001b[38;5;241m10\u001b[39m\n\u001b[1;32m      7\u001b[0m n \u001b[38;5;241m=\u001b[39m \u001b[38;5;241m5\u001b[39m\n",
      "\u001b[0;31mNameError\u001b[0m: name 'np' is not defined"
     ]
    }
   ],
   "source": [
    "# UNQ_C6 (UNIQUE CELL IDENTIFIER, DO NOT EDIT)\n",
    "# You do not have to input any code in this cell, but it is relevant to grading, so please do not change anything\n",
    "\n",
    "# Testing your implementation.\n",
    "np.random.seed(129)\n",
    "m = 10\n",
    "n = 5\n",
    "X = np.random.rand(m, n)\n",
    "Y = np.random.rand(m, n) * .1\n",
    "R = align_embeddings(X, Y)"
   ]
  },
  {
   "cell_type": "code",
   "execution_count": 12,
   "id": "f8ed4d4c",
   "metadata": {},
   "outputs": [
    {
     "ename": "NameError",
     "evalue": "name 'X_train' is not defined",
     "output_type": "error",
     "traceback": [
      "\u001b[0;31m---------------------------------------------------------------------------\u001b[0m",
      "\u001b[0;31mNameError\u001b[0m                                 Traceback (most recent call last)",
      "Cell \u001b[0;32mIn[11], line 3\u001b[0m\n\u001b[1;32m      1\u001b[0m \u001b[38;5;66;03m# UNQ_C7 (UNIQUE CELL IDENTIFIER, DO NOT EDIT)\u001b[39;00m\n\u001b[1;32m      2\u001b[0m \u001b[38;5;66;03m# You do not have to input any code in this cell, but it is relevant to grading, so please do not change anything\u001b[39;00m\n\u001b[0;32m----> 3\u001b[0m R_train \u001b[38;5;241m=\u001b[39m align_embeddings(\u001b[43mX_train\u001b[49m, Y_train, train_steps\u001b[38;5;241m=\u001b[39m\u001b[38;5;241m400\u001b[39m, learning_rate\u001b[38;5;241m=\u001b[39m\u001b[38;5;241m0.8\u001b[39m)\n",
      "\u001b[0;31mNameError\u001b[0m: name 'X_train' is not defined"
     ]
    }
   ],
   "source": [
    "# UNQ_C7 (UNIQUE CELL IDENTIFIER, DO NOT EDIT)\n",
    "# You do not have to input any code in this cell, but it is relevant to grading, so please do not change anything\n",
    "R_train = align_embeddings(X_train, Y_train, train_steps=400, learning_rate=0.8)"
   ]
  },
  {
   "cell_type": "code",
   "execution_count": 13,
   "id": "e28ed7d2",
   "metadata": {},
   "outputs": [],
   "source": [
    "# UNQ_C8 (UNIQUE CELL IDENTIFIER, DO NOT EDIT)\n",
    "def nearest_neighbor(v, candidates, k=1):\n",
    "    \"\"\"\n",
    "    Input:\n",
    "      - v, the vector you are going find the nearest neighbor for\n",
    "      - candidates: a set of vectors where we will find the neighbors\n",
    "      - k: top k nearest neighbors to find\n",
    "    Output:\n",
    "      - k_idx: the indices of the top k closest vectors in sorted form\n",
    "    \"\"\"\n",
    "    ### START CODE HERE (REPLACE INSTANCES OF 'None' with your code) ###\n",
    "    similarity_l = []\n",
    "\n",
    "    # for each candidate vector...\n",
    "    for row in candidates:\n",
    "        # get the cosine similarity\n",
    "        cos_similarity = None\n",
    "\n",
    "        # append the similarity to the list\n",
    "        None\n",
    "        \n",
    "    # sort the similarity list and get the indices of the sorted list\n",
    "    sorted_ids = None\n",
    "\n",
    "    # get the indices of the k most similar candidate vectors\n",
    "    k_idx = None\n",
    "    ### END CODE HERE ###\n",
    "    return k_idx"
   ]
  },
  {
   "cell_type": "code",
   "execution_count": 14,
   "id": "6477011e",
   "metadata": {},
   "outputs": [
    {
     "ename": "NameError",
     "evalue": "name 'np' is not defined",
     "output_type": "error",
     "traceback": [
      "\u001b[0;31m---------------------------------------------------------------------------\u001b[0m",
      "\u001b[0;31mNameError\u001b[0m                                 Traceback (most recent call last)",
      "Cell \u001b[0;32mIn[13], line 5\u001b[0m\n\u001b[1;32m      1\u001b[0m \u001b[38;5;66;03m# UNQ_C9 (UNIQUE CELL IDENTIFIER, DO NOT EDIT)\u001b[39;00m\n\u001b[1;32m      2\u001b[0m \u001b[38;5;66;03m# You do not have to input any code in this cell, but it is relevant to grading, so please do not change anything\u001b[39;00m\n\u001b[1;32m      3\u001b[0m \n\u001b[1;32m      4\u001b[0m \u001b[38;5;66;03m# Test your implementation:\u001b[39;00m\n\u001b[0;32m----> 5\u001b[0m v \u001b[38;5;241m=\u001b[39m \u001b[43mnp\u001b[49m\u001b[38;5;241m.\u001b[39marray([\u001b[38;5;241m1\u001b[39m, \u001b[38;5;241m0\u001b[39m, \u001b[38;5;241m1\u001b[39m])\n\u001b[1;32m      6\u001b[0m candidates \u001b[38;5;241m=\u001b[39m np\u001b[38;5;241m.\u001b[39marray([[\u001b[38;5;241m1\u001b[39m, \u001b[38;5;241m0\u001b[39m, \u001b[38;5;241m5\u001b[39m], [\u001b[38;5;241m-\u001b[39m\u001b[38;5;241m2\u001b[39m, \u001b[38;5;241m5\u001b[39m, \u001b[38;5;241m3\u001b[39m], [\u001b[38;5;241m2\u001b[39m, \u001b[38;5;241m0\u001b[39m, \u001b[38;5;241m1\u001b[39m], [\u001b[38;5;241m6\u001b[39m, \u001b[38;5;241m-\u001b[39m\u001b[38;5;241m9\u001b[39m, \u001b[38;5;241m5\u001b[39m], [\u001b[38;5;241m9\u001b[39m, \u001b[38;5;241m9\u001b[39m, \u001b[38;5;241m9\u001b[39m]])\n\u001b[1;32m      7\u001b[0m \u001b[38;5;28mprint\u001b[39m(candidates[nearest_neighbor(v, candidates, \u001b[38;5;241m3\u001b[39m)])\n",
      "\u001b[0;31mNameError\u001b[0m: name 'np' is not defined"
     ]
    }
   ],
   "source": [
    "# UNQ_C9 (UNIQUE CELL IDENTIFIER, DO NOT EDIT)\n",
    "# You do not have to input any code in this cell, but it is relevant to grading, so please do not change anything\n",
    "\n",
    "# Test your implementation:\n",
    "v = np.array([1, 0, 1])\n",
    "candidates = np.array([[1, 0, 5], [-2, 5, 3], [2, 0, 1], [6, -9, 5], [9, 9, 9]])\n",
    "print(candidates[nearest_neighbor(v, candidates, 3)])"
   ]
  },
  {
   "cell_type": "code",
   "execution_count": 15,
   "id": "da2dcdbc",
   "metadata": {},
   "outputs": [],
   "source": [
    "# UNQ_C10 (UNIQUE CELL IDENTIFIER, DO NOT EDIT)\n",
    "def test_vocabulary(X, Y, R):\n",
    "    '''\n",
    "    Input:\n",
    "        X: a matrix where the columns are the English embeddings.\n",
    "        Y: a matrix where the columns correspong to the French embeddings.\n",
    "        R: the transform matrix which translates word embeddings from\n",
    "        English to French word vector space.\n",
    "    Output:\n",
    "        accuracy: for the English to French capitals\n",
    "    '''\n",
    "\n",
    "    ### START CODE HERE (REPLACE INSTANCES OF 'None' with your code) ###\n",
    "    # The prediction is X times R\n",
    "    pred = None\n",
    "\n",
    "    # initialize the number correct to zero\n",
    "    num_correct = 0\n",
    "\n",
    "    # loop through each row in pred (each transformed embedding)\n",
    "    for i in range(len(pred)):\n",
    "        # get the index of the nearest neighbor of pred at row 'i'; also pass in the candidates in Y\n",
    "        pred_idx = None\n",
    "\n",
    "        # if the index of the nearest neighbor equals the row of i... \\\n",
    "        if pred_idx == i:\n",
    "            # increment the number correct by 1.\n",
    "            num_correct += None\n",
    "\n",
    "    # accuracy is the number correct divided by the number of rows in 'pred' (also number of rows in X)\n",
    "    accuracy = None\n",
    "\n",
    "    ### END CODE HERE ###\n",
    "\n",
    "    return accuracy"
   ]
  },
  {
   "cell_type": "code",
   "execution_count": 16,
   "id": "d5feb262",
   "metadata": {},
   "outputs": [
    {
     "ename": "NameError",
     "evalue": "name 'en_fr_test' is not defined",
     "output_type": "error",
     "traceback": [
      "\u001b[0;31m---------------------------------------------------------------------------\u001b[0m",
      "\u001b[0;31mNameError\u001b[0m                                 Traceback (most recent call last)",
      "Cell \u001b[0;32mIn[15], line 1\u001b[0m\n\u001b[0;32m----> 1\u001b[0m X_val, Y_val \u001b[38;5;241m=\u001b[39m get_matrices(\u001b[43men_fr_test\u001b[49m, fr_embeddings_subset, en_embeddings_subset)\n",
      "\u001b[0;31mNameError\u001b[0m: name 'en_fr_test' is not defined"
     ]
    }
   ],
   "source": [
    "X_val, Y_val = get_matrices(en_fr_test, fr_embeddings_subset, en_embeddings_subset)"
   ]
  },
  {
   "cell_type": "code",
   "execution_count": 17,
   "id": "b6a73822",
   "metadata": {},
   "outputs": [
    {
     "ename": "NameError",
     "evalue": "name 'X_val' is not defined",
     "output_type": "error",
     "traceback": [
      "\u001b[0;31m---------------------------------------------------------------------------\u001b[0m",
      "\u001b[0;31mNameError\u001b[0m                                 Traceback (most recent call last)",
      "Cell \u001b[0;32mIn[16], line 4\u001b[0m\n\u001b[1;32m      1\u001b[0m \u001b[38;5;66;03m# UNQ_C11 (UNIQUE CELL IDENTIFIER, DO NOT EDIT)\u001b[39;00m\n\u001b[1;32m      2\u001b[0m \u001b[38;5;66;03m# You do not have to input any code in this cell, but it is relevant to grading, so please do not change anything\u001b[39;00m\n\u001b[0;32m----> 4\u001b[0m acc \u001b[38;5;241m=\u001b[39m test_vocabulary(\u001b[43mX_val\u001b[49m, Y_val, R_train)  \u001b[38;5;66;03m# this might take a minute or two\u001b[39;00m\n\u001b[1;32m      5\u001b[0m \u001b[38;5;28mprint\u001b[39m(\u001b[38;5;124mf\u001b[39m\u001b[38;5;124m\"\u001b[39m\u001b[38;5;124maccuracy on test set is \u001b[39m\u001b[38;5;132;01m{\u001b[39;00macc\u001b[38;5;132;01m:\u001b[39;00m\u001b[38;5;124m.3f\u001b[39m\u001b[38;5;132;01m}\u001b[39;00m\u001b[38;5;124m\"\u001b[39m)\n",
      "\u001b[0;31mNameError\u001b[0m: name 'X_val' is not defined"
     ]
    }
   ],
   "source": [
    "# UNQ_C11 (UNIQUE CELL IDENTIFIER, DO NOT EDIT)\n",
    "# You do not have to input any code in this cell, but it is relevant to grading, so please do not change anything\n",
    "\n",
    "acc = test_vocabulary(X_val, Y_val, R_train)  # this might take a minute or two\n",
    "print(f\"accuracy on test set is {acc:.3f}\")"
   ]
  },
  {
   "cell_type": "code",
   "execution_count": 18,
   "id": "b7fdb6bd",
   "metadata": {},
   "outputs": [
    {
     "ename": "NameError",
     "evalue": "name 'twitter_samples' is not defined",
     "output_type": "error",
     "traceback": [
      "\u001b[0;31m---------------------------------------------------------------------------\u001b[0m",
      "\u001b[0;31mNameError\u001b[0m                                 Traceback (most recent call last)",
      "Cell \u001b[0;32mIn[17], line 2\u001b[0m\n\u001b[1;32m      1\u001b[0m \u001b[38;5;66;03m# get the positive and negative tweets\u001b[39;00m\n\u001b[0;32m----> 2\u001b[0m all_positive_tweets \u001b[38;5;241m=\u001b[39m \u001b[43mtwitter_samples\u001b[49m\u001b[38;5;241m.\u001b[39mstrings(\u001b[38;5;124m'\u001b[39m\u001b[38;5;124mpositive_tweets.json\u001b[39m\u001b[38;5;124m'\u001b[39m)\n\u001b[1;32m      3\u001b[0m all_negative_tweets \u001b[38;5;241m=\u001b[39m twitter_samples\u001b[38;5;241m.\u001b[39mstrings(\u001b[38;5;124m'\u001b[39m\u001b[38;5;124mnegative_tweets.json\u001b[39m\u001b[38;5;124m'\u001b[39m)\n\u001b[1;32m      4\u001b[0m all_tweets \u001b[38;5;241m=\u001b[39m all_positive_tweets \u001b[38;5;241m+\u001b[39m all_negative_tweets\n",
      "\u001b[0;31mNameError\u001b[0m: name 'twitter_samples' is not defined"
     ]
    }
   ],
   "source": [
    "# get the positive and negative tweets\n",
    "all_positive_tweets = twitter_samples.strings('positive_tweets.json')\n",
    "all_negative_tweets = twitter_samples.strings('negative_tweets.json')\n",
    "all_tweets = all_positive_tweets + all_negative_tweets"
   ]
  },
  {
   "cell_type": "code",
   "execution_count": 19,
   "id": "4791088a",
   "metadata": {},
   "outputs": [],
   "source": [
    "# UNQ_C12 (UNIQUE CELL IDENTIFIER, DO NOT EDIT)\n",
    "def get_document_embedding(tweet, en_embeddings): \n",
    "    '''\n",
    "    Input:\n",
    "        - tweet: a string\n",
    "        - en_embeddings: a dictionary of word embeddings\n",
    "    Output:\n",
    "        - doc_embedding: sum of all word embeddings in the tweet\n",
    "    '''\n",
    "    doc_embedding = np.zeros(300)\n",
    "\n",
    "    ### START CODE HERE (REPLACE INSTANCES OF 'None' with your code) ###\n",
    "    # process the document into a list of words (process the tweet)\n",
    "    processed_doc = None\n",
    "    for word in processed_doc:\n",
    "        # add the word embedding to the running total for the document embedding\n",
    "        doc_embedding = None\n",
    "    ### END CODE HERE ###\n",
    "    return doc_embedding"
   ]
  },
  {
   "cell_type": "code",
   "execution_count": 20,
   "id": "8a81bf8c",
   "metadata": {},
   "outputs": [
    {
     "ename": "NameError",
     "evalue": "name 'np' is not defined",
     "output_type": "error",
     "traceback": [
      "\u001b[0;31m---------------------------------------------------------------------------\u001b[0m",
      "\u001b[0;31mNameError\u001b[0m                                 Traceback (most recent call last)",
      "Cell \u001b[0;32mIn[19], line 6\u001b[0m\n\u001b[1;32m      1\u001b[0m \u001b[38;5;66;03m# UNQ_C13 (UNIQUE CELL IDENTIFIER, DO NOT EDIT)\u001b[39;00m\n\u001b[1;32m      2\u001b[0m \u001b[38;5;66;03m# You do not have to input any code in this cell, but it is relevant to grading, so please do not change anything\u001b[39;00m\n\u001b[1;32m      3\u001b[0m \n\u001b[1;32m      4\u001b[0m \u001b[38;5;66;03m# testing your function\u001b[39;00m\n\u001b[1;32m      5\u001b[0m custom_tweet \u001b[38;5;241m=\u001b[39m \u001b[38;5;124m\"\u001b[39m\u001b[38;5;124mRT @Twitter @chapagain Hello There! Have a great day. :) #good #morning http://chapagain.com.np\u001b[39m\u001b[38;5;124m\"\u001b[39m\n\u001b[0;32m----> 6\u001b[0m tweet_embedding \u001b[38;5;241m=\u001b[39m \u001b[43mget_document_embedding\u001b[49m\u001b[43m(\u001b[49m\u001b[43mcustom_tweet\u001b[49m\u001b[43m,\u001b[49m\u001b[43m \u001b[49m\u001b[43men_embeddings_subset\u001b[49m\u001b[43m)\u001b[49m\n\u001b[1;32m      7\u001b[0m tweet_embedding[\u001b[38;5;241m-\u001b[39m\u001b[38;5;241m5\u001b[39m:]\n",
      "Cell \u001b[0;32mIn[18], line 10\u001b[0m, in \u001b[0;36mget_document_embedding\u001b[0;34m(tweet, en_embeddings)\u001b[0m\n\u001b[1;32m      2\u001b[0m \u001b[38;5;28;01mdef\u001b[39;00m\u001b[38;5;250m \u001b[39m\u001b[38;5;21mget_document_embedding\u001b[39m(tweet, en_embeddings): \n\u001b[1;32m      3\u001b[0m \u001b[38;5;250m    \u001b[39m\u001b[38;5;124;03m'''\u001b[39;00m\n\u001b[1;32m      4\u001b[0m \u001b[38;5;124;03m    Input:\u001b[39;00m\n\u001b[1;32m      5\u001b[0m \u001b[38;5;124;03m        - tweet: a string\u001b[39;00m\n\u001b[0;32m   (...)\u001b[0m\n\u001b[1;32m      8\u001b[0m \u001b[38;5;124;03m        - doc_embedding: sum of all word embeddings in the tweet\u001b[39;00m\n\u001b[1;32m      9\u001b[0m \u001b[38;5;124;03m    '''\u001b[39;00m\n\u001b[0;32m---> 10\u001b[0m     doc_embedding \u001b[38;5;241m=\u001b[39m \u001b[43mnp\u001b[49m\u001b[38;5;241m.\u001b[39mzeros(\u001b[38;5;241m300\u001b[39m)\n\u001b[1;32m     12\u001b[0m     \u001b[38;5;66;03m### START CODE HERE (REPLACE INSTANCES OF 'None' with your code) ###\u001b[39;00m\n\u001b[1;32m     13\u001b[0m     \u001b[38;5;66;03m# process the document into a list of words (process the tweet)\u001b[39;00m\n\u001b[1;32m     14\u001b[0m     processed_doc \u001b[38;5;241m=\u001b[39m \u001b[38;5;28;01mNone\u001b[39;00m\n",
      "\u001b[0;31mNameError\u001b[0m: name 'np' is not defined"
     ]
    }
   ],
   "source": [
    "# UNQ_C13 (UNIQUE CELL IDENTIFIER, DO NOT EDIT)\n",
    "# You do not have to input any code in this cell, but it is relevant to grading, so please do not change anything\n",
    "\n",
    "# testing your function\n",
    "custom_tweet = \"RT @Twitter @chapagain Hello There! Have a great day. :) #good #morning http://chapagain.com.np\"\n",
    "tweet_embedding = get_document_embedding(custom_tweet, en_embeddings_subset)\n",
    "tweet_embedding[-5:]"
   ]
  },
  {
   "cell_type": "code",
   "execution_count": 21,
   "id": "3f11faf2",
   "metadata": {},
   "outputs": [],
   "source": [
    "# UNQ_C14 (UNIQUE CELL IDENTIFIER, DO NOT EDIT)\n",
    "def get_document_vecs(all_docs, en_embeddings):\n",
    "    '''\n",
    "    Input:\n",
    "        - all_docs: list of strings - all tweets in our dataset.\n",
    "        - en_embeddings: dictionary with words as the keys and their embeddings as the values.\n",
    "    Output:\n",
    "        - document_vec_matrix: matrix of tweet embeddings.\n",
    "        - ind2Doc_dict: dictionary with indices of tweets in vecs as keys and their embeddings as the values.\n",
    "    '''\n",
    "\n",
    "    # the dictionary's key is an index (integer) that identifies a specific tweet\n",
    "    # the value is the document embedding for that document\n",
    "    ind2Doc_dict = {}\n",
    "\n",
    "    # this is list that will store the document vectors\n",
    "    document_vec_l = []\n",
    "\n",
    "    for i, doc in enumerate(all_docs):\n",
    "\n",
    "        ### START CODE HERE (REPLACE INSTANCES OF 'None' with your code) ###\n",
    "        # get the document embedding of the tweet\n",
    "        doc_embedding = None\n",
    "\n",
    "        # save the document embedding into the ind2Tweet dictionary at index i\n",
    "        ind2Doc_dict[i] = None\n",
    "\n",
    "        # append the document embedding to the list of document vectors\n",
    "        document_vec_l.append(None)\n",
    "\n",
    "        ### END CODE HERE ###\n",
    "\n",
    "    # convert the list of document vectors into a 2D array (each row is a document vector)\n",
    "    document_vec_matrix = np.vstack(document_vec_l)\n",
    "\n",
    "    return document_vec_matrix, ind2Doc_dict"
   ]
  },
  {
   "cell_type": "code",
   "execution_count": 22,
   "id": "5ac2c2cf",
   "metadata": {},
   "outputs": [
    {
     "ename": "NameError",
     "evalue": "name 'all_tweets' is not defined",
     "output_type": "error",
     "traceback": [
      "\u001b[0;31m---------------------------------------------------------------------------\u001b[0m",
      "\u001b[0;31mNameError\u001b[0m                                 Traceback (most recent call last)",
      "Cell \u001b[0;32mIn[21], line 1\u001b[0m\n\u001b[0;32m----> 1\u001b[0m document_vecs, ind2Tweet \u001b[38;5;241m=\u001b[39m get_document_vecs(\u001b[43mall_tweets\u001b[49m, en_embeddings_subset)\n",
      "\u001b[0;31mNameError\u001b[0m: name 'all_tweets' is not defined"
     ]
    }
   ],
   "source": [
    "document_vecs, ind2Tweet = get_document_vecs(all_tweets, en_embeddings_subset)"
   ]
  },
  {
   "cell_type": "code",
   "execution_count": 23,
   "id": "a618c1ed",
   "metadata": {},
   "outputs": [
    {
     "ename": "NameError",
     "evalue": "name 'ind2Tweet' is not defined",
     "output_type": "error",
     "traceback": [
      "\u001b[0;31m---------------------------------------------------------------------------\u001b[0m",
      "\u001b[0;31mNameError\u001b[0m                                 Traceback (most recent call last)",
      "Cell \u001b[0;32mIn[22], line 4\u001b[0m\n\u001b[1;32m      1\u001b[0m \u001b[38;5;66;03m# UNQ_C15 (UNIQUE CELL IDENTIFIER, DO NOT EDIT)\u001b[39;00m\n\u001b[1;32m      2\u001b[0m \u001b[38;5;66;03m# You do not have to input any code in this cell, but it is relevant to grading, so please do not change anything\u001b[39;00m\n\u001b[0;32m----> 4\u001b[0m \u001b[38;5;28mprint\u001b[39m(\u001b[38;5;124mf\u001b[39m\u001b[38;5;124m\"\u001b[39m\u001b[38;5;124mlength of dictionary \u001b[39m\u001b[38;5;132;01m{\u001b[39;00m\u001b[38;5;28mlen\u001b[39m(\u001b[43mind2Tweet\u001b[49m)\u001b[38;5;132;01m}\u001b[39;00m\u001b[38;5;124m\"\u001b[39m)\n\u001b[1;32m      5\u001b[0m \u001b[38;5;28mprint\u001b[39m(\u001b[38;5;124mf\u001b[39m\u001b[38;5;124m\"\u001b[39m\u001b[38;5;124mshape of document_vecs \u001b[39m\u001b[38;5;132;01m{\u001b[39;00mdocument_vecs\u001b[38;5;241m.\u001b[39mshape\u001b[38;5;132;01m}\u001b[39;00m\u001b[38;5;124m\"\u001b[39m)\n",
      "\u001b[0;31mNameError\u001b[0m: name 'ind2Tweet' is not defined"
     ]
    }
   ],
   "source": [
    "# UNQ_C15 (UNIQUE CELL IDENTIFIER, DO NOT EDIT)\n",
    "# You do not have to input any code in this cell, but it is relevant to grading, so please do not change anything\n",
    "\n",
    "print(f\"length of dictionary {len(ind2Tweet)}\")\n",
    "print(f\"shape of document_vecs {document_vecs.shape}\")"
   ]
  },
  {
   "cell_type": "code",
   "execution_count": 24,
   "id": "a3a30ec2",
   "metadata": {},
   "outputs": [
    {
     "ename": "NameError",
     "evalue": "name 'process_tweet' is not defined",
     "output_type": "error",
     "traceback": [
      "\u001b[0;31m---------------------------------------------------------------------------\u001b[0m",
      "\u001b[0;31mNameError\u001b[0m                                 Traceback (most recent call last)",
      "Cell \u001b[0;32mIn[23], line 2\u001b[0m\n\u001b[1;32m      1\u001b[0m my_tweet \u001b[38;5;241m=\u001b[39m \u001b[38;5;124m'\u001b[39m\u001b[38;5;124mi am sad\u001b[39m\u001b[38;5;124m'\u001b[39m\n\u001b[0;32m----> 2\u001b[0m \u001b[43mprocess_tweet\u001b[49m(my_tweet)\n\u001b[1;32m      3\u001b[0m tweet_embedding \u001b[38;5;241m=\u001b[39m get_document_embedding(my_tweet, en_embeddings_subset)\n",
      "\u001b[0;31mNameError\u001b[0m: name 'process_tweet' is not defined"
     ]
    }
   ],
   "source": [
    "my_tweet = 'i am sad'\n",
    "process_tweet(my_tweet)\n",
    "tweet_embedding = get_document_embedding(my_tweet, en_embeddings_subset)"
   ]
  },
  {
   "cell_type": "code",
   "execution_count": 25,
   "id": "f2701ffa",
   "metadata": {},
   "outputs": [
    {
     "ename": "NameError",
     "evalue": "name 'np' is not defined",
     "output_type": "error",
     "traceback": [
      "\u001b[0;31m---------------------------------------------------------------------------\u001b[0m",
      "\u001b[0;31mNameError\u001b[0m                                 Traceback (most recent call last)",
      "Cell \u001b[0;32mIn[24], line 6\u001b[0m\n\u001b[1;32m      1\u001b[0m \u001b[38;5;66;03m# UNQ_C16 (UNIQUE CELL IDENTIFIER, DO NOT EDIT)\u001b[39;00m\n\u001b[1;32m      2\u001b[0m \u001b[38;5;66;03m# You do not have to input any code in this cell, but it is relevant to grading, so please do not change anything\u001b[39;00m\n\u001b[1;32m      3\u001b[0m \n\u001b[1;32m      4\u001b[0m \u001b[38;5;66;03m# this gives you a similar tweet as your input.\u001b[39;00m\n\u001b[1;32m      5\u001b[0m \u001b[38;5;66;03m# this implementation is vectorized...\u001b[39;00m\n\u001b[0;32m----> 6\u001b[0m idx \u001b[38;5;241m=\u001b[39m \u001b[43mnp\u001b[49m\u001b[38;5;241m.\u001b[39margmax(cosine_similarity(document_vecs, tweet_embedding))\n\u001b[1;32m      7\u001b[0m \u001b[38;5;28mprint\u001b[39m(all_tweets[idx])\n",
      "\u001b[0;31mNameError\u001b[0m: name 'np' is not defined"
     ]
    }
   ],
   "source": [
    "# UNQ_C16 (UNIQUE CELL IDENTIFIER, DO NOT EDIT)\n",
    "# You do not have to input any code in this cell, but it is relevant to grading, so please do not change anything\n",
    "\n",
    "# this gives you a similar tweet as your input.\n",
    "# this implementation is vectorized...\n",
    "idx = np.argmax(cosine_similarity(document_vecs, tweet_embedding))\n",
    "print(all_tweets[idx])"
   ]
  },
  {
   "cell_type": "code",
   "execution_count": 26,
   "id": "344ec8db",
   "metadata": {},
   "outputs": [
    {
     "ename": "NameError",
     "evalue": "name 'all_tweets' is not defined",
     "output_type": "error",
     "traceback": [
      "\u001b[0;31m---------------------------------------------------------------------------\u001b[0m",
      "\u001b[0;31mNameError\u001b[0m                                 Traceback (most recent call last)",
      "Cell \u001b[0;32mIn[25], line 1\u001b[0m\n\u001b[0;32m----> 1\u001b[0m N_VECS \u001b[38;5;241m=\u001b[39m \u001b[38;5;28mlen\u001b[39m(\u001b[43mall_tweets\u001b[49m)       \u001b[38;5;66;03m# This many vectors.\u001b[39;00m\n\u001b[1;32m      2\u001b[0m N_DIMS \u001b[38;5;241m=\u001b[39m \u001b[38;5;28mlen\u001b[39m(ind2Tweet[\u001b[38;5;241m1\u001b[39m])     \u001b[38;5;66;03m# Vector dimensionality.\u001b[39;00m\n\u001b[1;32m      3\u001b[0m \u001b[38;5;28mprint\u001b[39m(\u001b[38;5;124mf\u001b[39m\u001b[38;5;124m\"\u001b[39m\u001b[38;5;124mNumber of vectors is \u001b[39m\u001b[38;5;132;01m{\u001b[39;00mN_VECS\u001b[38;5;132;01m}\u001b[39;00m\u001b[38;5;124m and each has \u001b[39m\u001b[38;5;132;01m{\u001b[39;00mN_DIMS\u001b[38;5;132;01m}\u001b[39;00m\u001b[38;5;124m dimensions.\u001b[39m\u001b[38;5;124m\"\u001b[39m)\n",
      "\u001b[0;31mNameError\u001b[0m: name 'all_tweets' is not defined"
     ]
    }
   ],
   "source": [
    "N_VECS = len(all_tweets)       # This many vectors.\n",
    "N_DIMS = len(ind2Tweet[1])     # Vector dimensionality.\n",
    "print(f\"Number of vectors is {N_VECS} and each has {N_DIMS} dimensions.\")"
   ]
  },
  {
   "cell_type": "code",
   "execution_count": 27,
   "id": "42f635c5",
   "metadata": {},
   "outputs": [],
   "source": [
    "# The number of planes. We use log2(625) to have ~16 vectors/bucket.\n",
    "N_PLANES = 10\n",
    "# Number of times to repeat the hashing to improve the search.\n",
    "N_UNIVERSES = 25"
   ]
  },
  {
   "cell_type": "code",
   "execution_count": 28,
   "id": "fc9063ff",
   "metadata": {},
   "outputs": [
    {
     "ename": "NameError",
     "evalue": "name 'np' is not defined",
     "output_type": "error",
     "traceback": [
      "\u001b[0;31m---------------------------------------------------------------------------\u001b[0m",
      "\u001b[0;31mNameError\u001b[0m                                 Traceback (most recent call last)",
      "Cell \u001b[0;32mIn[27], line 1\u001b[0m\n\u001b[0;32m----> 1\u001b[0m \u001b[43mnp\u001b[49m\u001b[38;5;241m.\u001b[39mrandom\u001b[38;5;241m.\u001b[39mseed(\u001b[38;5;241m0\u001b[39m)\n\u001b[1;32m      2\u001b[0m planes_l \u001b[38;5;241m=\u001b[39m [np\u001b[38;5;241m.\u001b[39mrandom\u001b[38;5;241m.\u001b[39mnormal(size\u001b[38;5;241m=\u001b[39m(N_DIMS, N_PLANES))\n\u001b[1;32m      3\u001b[0m             \u001b[38;5;28;01mfor\u001b[39;00m _ \u001b[38;5;129;01min\u001b[39;00m \u001b[38;5;28mrange\u001b[39m(N_UNIVERSES)]\n",
      "\u001b[0;31mNameError\u001b[0m: name 'np' is not defined"
     ]
    }
   ],
   "source": [
    "np.random.seed(0)\n",
    "planes_l = [np.random.normal(size=(N_DIMS, N_PLANES))\n",
    "            for _ in range(N_UNIVERSES)]"
   ]
  },
  {
   "cell_type": "code",
   "execution_count": 29,
   "id": "917b152e",
   "metadata": {},
   "outputs": [],
   "source": [
    "# UNQ_C17 (UNIQUE CELL IDENTIFIER, DO NOT EDIT)\n",
    "def hash_value_of_vector(v, planes):\n",
    "    \"\"\"Create a hash for a vector; hash_id says which random hash to use.\n",
    "    Input:\n",
    "        - v:  vector of tweet. It's dimension is (1, N_DIMS)\n",
    "        - planes: matrix of dimension (N_DIMS, N_PLANES) - the set of planes that divide up the region\n",
    "    Output:\n",
    "        - res: a number which is used as a hash for your vector\n",
    "\n",
    "    \"\"\"\n",
    "    ### START CODE HERE (REPLACE INSTANCES OF 'None' with your code) ###\n",
    "    # for the set of planes,\n",
    "    # calculate the dot product between the vector and the matrix containing the planes\n",
    "    # remember that planes has shape (300, 10)\n",
    "    # The dot product will have the shape (1,10)\n",
    "    dot_product = None\n",
    "\n",
    "    # get the sign of the dot product (1,10) shaped vector\n",
    "    sign_of_dot_product = None\n",
    "\n",
    "    # set h to be false (eqivalent to 0 when used in operations) if the sign is negative,\n",
    "    # and true (equivalent to 1) if the sign is positive (1,10) shaped vector\n",
    "    h = None\n",
    "\n",
    "    # remove extra un-used dimensions (convert this from a 2D to a 1D array)\n",
    "    h = None\n",
    "\n",
    "    # initialize the hash value to 0\n",
    "    hash_value = 0\n",
    "\n",
    "    n_planes = planes.shape[1]\n",
    "    for i in range(n_planes):\n",
    "        # increment the hash value by 2^i * h_i\n",
    "        hash_value += None\n",
    "    ### END CODE HERE ###\n",
    "\n",
    "    # cast hash_value as an integer\n",
    "    hash_value = int(hash_value)\n",
    "\n",
    "    return hash_value"
   ]
  },
  {
   "cell_type": "code",
   "execution_count": 30,
   "id": "7f11b749",
   "metadata": {},
   "outputs": [
    {
     "ename": "NameError",
     "evalue": "name 'np' is not defined",
     "output_type": "error",
     "traceback": [
      "\u001b[0;31m---------------------------------------------------------------------------\u001b[0m",
      "\u001b[0;31mNameError\u001b[0m                                 Traceback (most recent call last)",
      "Cell \u001b[0;32mIn[29], line 4\u001b[0m\n\u001b[1;32m      1\u001b[0m \u001b[38;5;66;03m# UNQ_C18 (UNIQUE CELL IDENTIFIER, DO NOT EDIT)\u001b[39;00m\n\u001b[1;32m      2\u001b[0m \u001b[38;5;66;03m# You do not have to input any code in this cell, but it is relevant to grading, so please do not change anything\u001b[39;00m\n\u001b[0;32m----> 4\u001b[0m \u001b[43mnp\u001b[49m\u001b[38;5;241m.\u001b[39mrandom\u001b[38;5;241m.\u001b[39mseed(\u001b[38;5;241m0\u001b[39m)\n\u001b[1;32m      5\u001b[0m idx \u001b[38;5;241m=\u001b[39m \u001b[38;5;241m0\u001b[39m\n\u001b[1;32m      6\u001b[0m planes \u001b[38;5;241m=\u001b[39m planes_l[idx]  \u001b[38;5;66;03m# get one 'universe' of planes to test the function\u001b[39;00m\n",
      "\u001b[0;31mNameError\u001b[0m: name 'np' is not defined"
     ]
    }
   ],
   "source": [
    "# UNQ_C18 (UNIQUE CELL IDENTIFIER, DO NOT EDIT)\n",
    "# You do not have to input any code in this cell, but it is relevant to grading, so please do not change anything\n",
    "\n",
    "np.random.seed(0)\n",
    "idx = 0\n",
    "planes = planes_l[idx]  # get one 'universe' of planes to test the function\n",
    "vec = np.random.rand(1, 300)\n",
    "print(f\" The hash value for this vector,\",\n",
    "      f\"and the set of planes at index {idx},\",\n",
    "      f\"is {hash_value_of_vector(vec, planes)}\")"
   ]
  },
  {
   "cell_type": "code",
   "execution_count": 31,
   "id": "c3905323",
   "metadata": {},
   "outputs": [],
   "source": [
    "# UNQ_C19 (UNIQUE CELL IDENTIFIER, DO NOT EDIT)\n",
    "# This is the code used to create a hash table: feel free to read over it\n",
    "def make_hash_table(vecs, planes):\n",
    "    \"\"\"\n",
    "    Input:\n",
    "        - vecs: list of vectors to be hashed.\n",
    "        - planes: the matrix of planes in a single \"universe\", with shape (embedding dimensions, number of planes).\n",
    "    Output:\n",
    "        - hash_table: dictionary - keys are hashes, values are lists of vectors (hash buckets)\n",
    "        - id_table: dictionary - keys are hashes, values are list of vectors id's\n",
    "                            (it's used to know which tweet corresponds to the hashed vector)\n",
    "    \"\"\"\n",
    "    ### START CODE HERE (REPLACE INSTANCES OF 'None' with your code) ###\n",
    "\n",
    "    # number of planes is the number of columns in the planes matrix\n",
    "    num_of_planes = None\n",
    "\n",
    "    # number of buckets is 2^(number of planes)\n",
    "    num_buckets = None\n",
    "\n",
    "    # create the hash table as a dictionary.\n",
    "    # Keys are integers (0,1,2.. number of buckets)\n",
    "    # Values are empty lists\n",
    "    hash_table = None\n",
    "\n",
    "    # create the id table as a dictionary.\n",
    "    # Keys are integers (0,1,2... number of buckets)\n",
    "    # Values are empty lists\n",
    "    id_table = None\n",
    "\n",
    "    # for each vector in 'vecs'\n",
    "    for i, v in enumerate(vecs):\n",
    "        # calculate the hash value for the vector\n",
    "        h = None\n",
    "\n",
    "        # store the vector into hash_table at key h,\n",
    "        # by appending the vector v to the list at key h\n",
    "        None\n",
    "\n",
    "        # store the vector's index 'i' (each document is given a unique integer 0,1,2...)\n",
    "        # the key is the h, and the 'i' is appended to the list at key h\n",
    "        None\n",
    "\n",
    "    ### END CODE HERE ###\n",
    "\n",
    "    return hash_table, id_table"
   ]
  },
  {
   "cell_type": "code",
   "execution_count": 32,
   "id": "34b19ace",
   "metadata": {},
   "outputs": [
    {
     "ename": "NameError",
     "evalue": "name 'np' is not defined",
     "output_type": "error",
     "traceback": [
      "\u001b[0;31m---------------------------------------------------------------------------\u001b[0m",
      "\u001b[0;31mNameError\u001b[0m                                 Traceback (most recent call last)",
      "Cell \u001b[0;32mIn[31], line 4\u001b[0m\n\u001b[1;32m      1\u001b[0m \u001b[38;5;66;03m# UNQ_C20 (UNIQUE CELL IDENTIFIER, DO NOT EDIT)\u001b[39;00m\n\u001b[1;32m      2\u001b[0m \u001b[38;5;66;03m# You do not have to input any code in this cell, but it is relevant to grading, so please do not change anything\u001b[39;00m\n\u001b[0;32m----> 4\u001b[0m \u001b[43mnp\u001b[49m\u001b[38;5;241m.\u001b[39mrandom\u001b[38;5;241m.\u001b[39mseed(\u001b[38;5;241m0\u001b[39m)\n\u001b[1;32m      5\u001b[0m planes \u001b[38;5;241m=\u001b[39m planes_l[\u001b[38;5;241m0\u001b[39m]  \u001b[38;5;66;03m# get one 'universe' of planes to test the function\u001b[39;00m\n\u001b[1;32m      6\u001b[0m vec \u001b[38;5;241m=\u001b[39m np\u001b[38;5;241m.\u001b[39mrandom\u001b[38;5;241m.\u001b[39mrand(\u001b[38;5;241m1\u001b[39m, \u001b[38;5;241m300\u001b[39m)\n",
      "\u001b[0;31mNameError\u001b[0m: name 'np' is not defined"
     ]
    }
   ],
   "source": [
    "# UNQ_C20 (UNIQUE CELL IDENTIFIER, DO NOT EDIT)\n",
    "# You do not have to input any code in this cell, but it is relevant to grading, so please do not change anything\n",
    "\n",
    "np.random.seed(0)\n",
    "planes = planes_l[0]  # get one 'universe' of planes to test the function\n",
    "vec = np.random.rand(1, 300)\n",
    "tmp_hash_table, tmp_id_table = make_hash_table(document_vecs, planes)\n",
    "\n",
    "print(f\"The hash table at key 0 has {len(tmp_hash_table[0])} document vectors\")\n",
    "print(f\"The id table at key 0 has {len(tmp_id_table[0])}\")\n",
    "print(f\"The first 5 document indices stored at key 0 of are {tmp_id_table[0][0:5]}\")"
   ]
  },
  {
   "cell_type": "code",
   "execution_count": 33,
   "id": "c471a959",
   "metadata": {},
   "outputs": [
    {
     "name": "stdout",
     "output_type": "stream",
     "text": [
      "working on hash universe #: 0\n"
     ]
    },
    {
     "ename": "NameError",
     "evalue": "name 'planes_l' is not defined",
     "output_type": "error",
     "traceback": [
      "\u001b[0;31m---------------------------------------------------------------------------\u001b[0m",
      "\u001b[0;31mNameError\u001b[0m                                 Traceback (most recent call last)",
      "Cell \u001b[0;32mIn[32], line 6\u001b[0m\n\u001b[1;32m      4\u001b[0m \u001b[38;5;28;01mfor\u001b[39;00m universe_id \u001b[38;5;129;01min\u001b[39;00m \u001b[38;5;28mrange\u001b[39m(N_UNIVERSES):  \u001b[38;5;66;03m# there are 25 hashes\u001b[39;00m\n\u001b[1;32m      5\u001b[0m     \u001b[38;5;28mprint\u001b[39m(\u001b[38;5;124m'\u001b[39m\u001b[38;5;124mworking on hash universe #:\u001b[39m\u001b[38;5;124m'\u001b[39m, universe_id)\n\u001b[0;32m----> 6\u001b[0m     planes \u001b[38;5;241m=\u001b[39m \u001b[43mplanes_l\u001b[49m[universe_id]\n\u001b[1;32m      7\u001b[0m     hash_table, id_table \u001b[38;5;241m=\u001b[39m make_hash_table(document_vecs, planes)\n\u001b[1;32m      8\u001b[0m     hash_tables\u001b[38;5;241m.\u001b[39mappend(hash_table)\n",
      "\u001b[0;31mNameError\u001b[0m: name 'planes_l' is not defined"
     ]
    }
   ],
   "source": [
    "# Creating the hashtables\n",
    "hash_tables = []\n",
    "id_tables = []\n",
    "for universe_id in range(N_UNIVERSES):  # there are 25 hashes\n",
    "    print('working on hash universe #:', universe_id)\n",
    "    planes = planes_l[universe_id]\n",
    "    hash_table, id_table = make_hash_table(document_vecs, planes)\n",
    "    hash_tables.append(hash_table)\n",
    "    id_tables.append(id_table)"
   ]
  },
  {
   "cell_type": "code",
   "execution_count": 34,
   "id": "d64db8e5",
   "metadata": {},
   "outputs": [],
   "source": [
    "# UNQ_C21 (UNIQUE CELL IDENTIFIER, DO NOT EDIT)\n",
    "# This is the code used to do the fast nearest neighbor search. Feel free to go over it\n",
    "def approximate_knn(doc_id, v, planes_l, k=1, num_universes_to_use=N_UNIVERSES):\n",
    "    \"\"\"Search for k-NN using hashes.\"\"\"\n",
    "    assert num_universes_to_use <= N_UNIVERSES\n",
    "\n",
    "    # Vectors that will be checked as possible nearest neighbor\n",
    "    vecs_to_consider_l = list()\n",
    "\n",
    "    # list of document IDs\n",
    "    ids_to_consider_l = list()\n",
    "\n",
    "    # create a set for ids to consider, for faster checking if a document ID already exists in the set\n",
    "    ids_to_consider_set = set()\n",
    "\n",
    "    # loop through the universes of planes\n",
    "    for universe_id in range(num_universes_to_use):\n",
    "\n",
    "        # get the set of planes from the planes_l list, for this particular universe_id\n",
    "        planes = planes_l[universe_id]\n",
    "\n",
    "        # get the hash value of the vector for this set of planes\n",
    "        hash_value = hash_value_of_vector(v, planes)\n",
    "\n",
    "        # get the hash table for this particular universe_id\n",
    "        hash_table = hash_tables[universe_id]\n",
    "\n",
    "        # get the list of document vectors for this hash table, where the key is the hash_value\n",
    "        document_vectors_l = hash_table[hash_value]\n",
    "\n",
    "        # get the id_table for this particular universe_id\n",
    "        id_table = id_tables[universe_id]\n",
    "\n",
    "        # get the subset of documents to consider as nearest neighbors from this id_table dictionary\n",
    "        new_ids_to_consider = id_table[hash_value]\n",
    "\n",
    "        ### START CODE HERE (REPLACE INSTANCES OF 'None' with your code) ###\n",
    "\n",
    "        # remove the id of the document that we're searching\n",
    "        if doc_id in new_ids_to_consider:\n",
    "            None\n",
    "            print(f\"removed doc_id {doc_id} of input vector from new_ids_to_search\")\n",
    "\n",
    "        # loop through the subset of document vectors to consider\n",
    "        for i, new_id in enumerate(new_ids_to_consider):\n",
    "\n",
    "            # if the document ID is not yet in the set ids_to_consider...\n",
    "            if new_id not in ids_to_consider_set:\n",
    "                # access document_vectors_l list at index i to get the embedding\n",
    "                # then append it to the list of vectors to consider as possible nearest neighbors\n",
    "                document_vector_at_i = None\n",
    "                None\n",
    "\n",
    "                # append the new_id (the index for the document) to the list of ids to consider\n",
    "                None\n",
    "\n",
    "                # also add the new_id to the set of ids to consider\n",
    "                # (use this to check if new_id is not already in the IDs to consider)\n",
    "                None\n",
    "\n",
    "        ### END CODE HERE ###\n",
    "\n",
    "    # Now run k-NN on the smaller set of vecs-to-consider.\n",
    "    print(\"Fast considering %d vecs\" % len(vecs_to_consider_l))\n",
    "\n",
    "    # convert the vecs to consider set to a list, then to a numpy array\n",
    "    vecs_to_consider_arr = np.array(vecs_to_consider_l)\n",
    "\n",
    "    # call nearest neighbors on the reduced list of candidate vectors\n",
    "    nearest_neighbor_idx_l = nearest_neighbor(v, vecs_to_consider_arr, k=k)\n",
    "\n",
    "    # Use the nearest neighbor index list as indices into the ids to consider\n",
    "    # create a list of nearest neighbors by the document ids\n",
    "    nearest_neighbor_ids = [ids_to_consider_l[idx]\n",
    "                            for idx in nearest_neighbor_idx_l]\n",
    "\n",
    "    return nearest_neighbor_ids"
   ]
  },
  {
   "cell_type": "code",
   "execution_count": 35,
   "id": "14684f45",
   "metadata": {},
   "outputs": [
    {
     "ename": "NameError",
     "evalue": "name 'all_tweets' is not defined",
     "output_type": "error",
     "traceback": [
      "\u001b[0;31m---------------------------------------------------------------------------\u001b[0m",
      "\u001b[0;31mNameError\u001b[0m                                 Traceback (most recent call last)",
      "Cell \u001b[0;32mIn[34], line 3\u001b[0m\n\u001b[1;32m      1\u001b[0m \u001b[38;5;66;03m#document_vecs, ind2Tweet\u001b[39;00m\n\u001b[1;32m      2\u001b[0m doc_id \u001b[38;5;241m=\u001b[39m \u001b[38;5;241m0\u001b[39m\n\u001b[0;32m----> 3\u001b[0m doc_to_search \u001b[38;5;241m=\u001b[39m \u001b[43mall_tweets\u001b[49m[doc_id]\n\u001b[1;32m      4\u001b[0m vec_to_search \u001b[38;5;241m=\u001b[39m document_vecs[doc_id]\n",
      "\u001b[0;31mNameError\u001b[0m: name 'all_tweets' is not defined"
     ]
    }
   ],
   "source": [
    "#document_vecs, ind2Tweet\n",
    "doc_id = 0\n",
    "doc_to_search = all_tweets[doc_id]\n",
    "vec_to_search = document_vecs[doc_id]"
   ]
  },
  {
   "cell_type": "code",
   "execution_count": 36,
   "id": "495cad39",
   "metadata": {},
   "outputs": [
    {
     "ename": "NameError",
     "evalue": "name 'vec_to_search' is not defined",
     "output_type": "error",
     "traceback": [
      "\u001b[0;31m---------------------------------------------------------------------------\u001b[0m",
      "\u001b[0;31mNameError\u001b[0m                                 Traceback (most recent call last)",
      "Cell \u001b[0;32mIn[35], line 6\u001b[0m\n\u001b[1;32m      1\u001b[0m \u001b[38;5;66;03m# UNQ_C22 (UNIQUE CELL IDENTIFIER, DO NOT EDIT)\u001b[39;00m\n\u001b[1;32m      2\u001b[0m \u001b[38;5;66;03m# You do not have to input any code in this cell, but it is relevant to grading, so please do not change anything\u001b[39;00m\n\u001b[1;32m      3\u001b[0m \n\u001b[1;32m      4\u001b[0m \u001b[38;5;66;03m# Sample\u001b[39;00m\n\u001b[1;32m      5\u001b[0m nearest_neighbor_ids \u001b[38;5;241m=\u001b[39m approximate_knn(\n\u001b[0;32m----> 6\u001b[0m     doc_id, \u001b[43mvec_to_search\u001b[49m, planes_l, k\u001b[38;5;241m=\u001b[39m\u001b[38;5;241m3\u001b[39m, num_universes_to_use\u001b[38;5;241m=\u001b[39m\u001b[38;5;241m5\u001b[39m)\n",
      "\u001b[0;31mNameError\u001b[0m: name 'vec_to_search' is not defined"
     ]
    }
   ],
   "source": [
    "# UNQ_C22 (UNIQUE CELL IDENTIFIER, DO NOT EDIT)\n",
    "# You do not have to input any code in this cell, but it is relevant to grading, so please do not change anything\n",
    "\n",
    "# Sample\n",
    "nearest_neighbor_ids = approximate_knn(\n",
    "    doc_id, vec_to_search, planes_l, k=3, num_universes_to_use=5)"
   ]
  },
  {
   "cell_type": "code",
   "execution_count": 37,
   "id": "eefed91f",
   "metadata": {},
   "outputs": [
    {
     "name": "stdout",
     "output_type": "stream",
     "text": [
      "Nearest neighbors for document 0\n"
     ]
    },
    {
     "ename": "NameError",
     "evalue": "name 'doc_to_search' is not defined",
     "output_type": "error",
     "traceback": [
      "\u001b[0;31m---------------------------------------------------------------------------\u001b[0m",
      "\u001b[0;31mNameError\u001b[0m                                 Traceback (most recent call last)",
      "Cell \u001b[0;32mIn[36], line 2\u001b[0m\n\u001b[1;32m      1\u001b[0m \u001b[38;5;28mprint\u001b[39m(\u001b[38;5;124mf\u001b[39m\u001b[38;5;124m\"\u001b[39m\u001b[38;5;124mNearest neighbors for document \u001b[39m\u001b[38;5;132;01m{\u001b[39;00mdoc_id\u001b[38;5;132;01m}\u001b[39;00m\u001b[38;5;124m\"\u001b[39m)\n\u001b[0;32m----> 2\u001b[0m \u001b[38;5;28mprint\u001b[39m(\u001b[38;5;124mf\u001b[39m\u001b[38;5;124m\"\u001b[39m\u001b[38;5;124mDocument contents: \u001b[39m\u001b[38;5;132;01m{\u001b[39;00m\u001b[43mdoc_to_search\u001b[49m\u001b[38;5;132;01m}\u001b[39;00m\u001b[38;5;124m\"\u001b[39m)\n\u001b[1;32m      3\u001b[0m \u001b[38;5;28mprint\u001b[39m(\u001b[38;5;124m\"\u001b[39m\u001b[38;5;124m\"\u001b[39m)\n\u001b[1;32m      5\u001b[0m \u001b[38;5;28;01mfor\u001b[39;00m neighbor_id \u001b[38;5;129;01min\u001b[39;00m nearest_neighbor_ids:\n",
      "\u001b[0;31mNameError\u001b[0m: name 'doc_to_search' is not defined"
     ]
    }
   ],
   "source": [
    "print(f\"Nearest neighbors for document {doc_id}\")\n",
    "print(f\"Document contents: {doc_to_search}\")\n",
    "print(\"\")\n",
    "\n",
    "for neighbor_id in nearest_neighbor_ids:\n",
    "    print(f\"Nearest neighbor at document id {neighbor_id}\")\n",
    "    print(f\"document contents: {all_tweets[neighbor_id]}\")"
   ]
  }
 ],
 "metadata": {
  "kernelspec": {
   "display_name": "Python 3 (ipykernel)",
   "language": "python",
   "name": "python3",
   "path": "/home/oren/.local/share/jupyter/kernels/python3"
  },
  "language_info": {
   "codemirror_mode": {
    "name": "ipython",
    "version": 3
   },
   "file_extension": ".py",
   "mimetype": "text/x-python",
   "name": "python",
   "nbconvert_exporter": "python",
   "pygments_lexer": "ipython3",
   "version": "3.10.12"
  }
 },
 "nbformat": 4,
 "nbformat_minor": 5
}