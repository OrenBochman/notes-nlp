{
  "cells": [
    {
      "cell_type": "markdown",
      "metadata": {},
      "source": [
        "---\n",
        "date: 2020-10-24\n",
        "title: 'Working with JAX numpy and calculating perplexity: Ungraded Lecture Notebook'\n",
        "subtitle: \"Sequence Models\"\n",
        "categories: \n",
        "  - NLP \n",
        "  - Coursera \n",
        "  - Lab\n",
        "  - Sequence Models\n",
        "jur: python3\n",
        "---\n",
        "\n",
        "\n",
        "\n",
        "![course banner](/images/Course-Logo-3-3.webp){.column-margin .nolightbox} \n",
        "\n",
        "\n",
        "Normally you would import `numpy` and rename it as `np`. \n",
        "\n",
        "However in this week's assignment you will notice that this convention has been changed. \n",
        "\n",
        "Now standard `numpy` is not renamed and `trax.fastmath.numpy` is renamed as `np`. \n",
        "\n",
        "The rationale behind this change is that you will be using Trax's numpy (which is compatible with JAX) far more often. Trax's numpy supports most of the same functions as the regular numpy so the change won't be noticeable in most cases.\n"
      ],
      "id": "60919567"
    },
    {
      "cell_type": "code",
      "metadata": {},
      "source": [
        "import jax\n",
        "print(jax.__version__)"
      ],
      "id": "46c20913",
      "execution_count": null,
      "outputs": []
    },
    {
      "cell_type": "code",
      "metadata": {},
      "source": [
        "import numpy\n",
        "import trax\n",
        "import trax.fastmath.numpy as np\n",
        "\n",
        "# Setting random seeds\n",
        "from trax import fastmath\n",
        "seed=32\n",
        "rng = fastmath.random.get_prng(seed)\n",
        "#trax.supervised.trainer_lib.init_random_number_generators(32)\n",
        "numpy.random.seed(32)"
      ],
      "id": "3e259916",
      "execution_count": null,
      "outputs": []
    },
    {
      "cell_type": "markdown",
      "metadata": {},
      "source": [
        "One important change to take into consideration is that the types of the resulting objects will be different depending on the version of numpy. With regular numpy you get `numpy.ndarray` but with Trax's numpy you will get `jax.interpreters.xla.DeviceArray`. These two types map to each other. So if you find some error logs mentioning DeviceArray type, don't worry about it, treat it like you would treat an ndarray and march ahead.\n",
        "\n",
        "You can get a randomized numpy array by using the `numpy.random.random()` function.\n",
        "\n",
        "This is one of the functionalities that Trax's numpy does not currently support in the same way as the regular numpy. \n"
      ],
      "id": "ffe18da4"
    },
    {
      "cell_type": "code",
      "metadata": {},
      "source": [
        "numpy_array = numpy.random.random((5,10))\n",
        "print(f\"The regular numpy array looks like this:\\n\\n {numpy_array}\\n\")\n",
        "print(f\"It is of type: {type(numpy_array)}\")"
      ],
      "id": "270df659",
      "execution_count": null,
      "outputs": []
    },
    {
      "cell_type": "markdown",
      "metadata": {},
      "source": [
        "You can easily cast regular numpy arrays or lists into trax numpy arrays using the `trax.fastmath.numpy.array()` function:\n"
      ],
      "id": "6a25bbea"
    },
    {
      "cell_type": "code",
      "metadata": {},
      "source": [
        "trax_numpy_array = np.array(numpy_array)\n",
        "print(f\"The trax numpy array looks like this:\\n\\n {trax_numpy_array}\\n\")\n",
        "print(f\"It is of type: {type(trax_numpy_array)}\")"
      ],
      "id": "588aff95",
      "execution_count": null,
      "outputs": []
    },
    {
      "cell_type": "markdown",
      "metadata": {},
      "source": [
        "Hope you now understand the differences (and similarities) between these two versions and numpy. **Great!**\n",
        "\n",
        "The previous section was a quick look at Trax's numpy. However this notebook also aims to teach you how you can calculate the perplexity of a trained model.\n",
        "\n",
        "## Calculating Perplexity\n",
        "\n",
        "The perplexity is a metric that measures how well a probability model predicts a sample and it is commonly used to evaluate language models. It is defined as: \n",
        "\n",
        "$$P(W) = \\sqrt[N]{\\prod_{i=1}^{N} \\frac{1}{P(w_i| w_1,...,w_{n-1})}}$$\n",
        "\n",
        "As an implementation hack, you would usually take the log of that formula (to enable us to use the log probabilities we get as output of our `RNN`, convert exponents to products, and products into sums which makes computations less complicated and computationally more efficient). You should also take care of the padding, since you do not want to include the padding when calculating the perplexity (because we do not want to have a perplexity measure artificially good). The algebra behind this process is explained next:\n",
        "\n",
        "\n",
        "$$log P(W) = {log\\big(\\sqrt[N]{\\prod_{i=1}^{N} \\frac{1}{P(w_i| w_1,...,w_{n-1})}}\\big)}$$\n",
        "\n",
        "$$ = {log\\big({\\prod_{i=1}^{N} \\frac{1}{P(w_i| w_1,...,w_{n-1})}}\\big)^{\\frac{1}{N}}}$$ \n",
        "\n",
        "$$ = {log\\big({\\prod_{i=1}^{N}{P(w_i| w_1,...,w_{n-1})}}\\big)^{-\\frac{1}{N}}} $$\n",
        "$$ = -\\frac{1}{N}{log\\big({\\prod_{i=1}^{N}{P(w_i| w_1,...,w_{n-1})}}\\big)} $$\n",
        "$$ = -\\frac{1}{N}{\\big({\\sum_{i=1}^{N}{logP(w_i| w_1,...,w_{n-1})}}\\big)} $$\n",
        "\n",
        "You will be working with a real example from this week's assignment. The example is made up of:\n",
        "   - `predictions` : batch of tensors corresponding to lines of text predicted by the model.\n",
        "   - `targets` : batch of actual tensors corresponding to lines of text.\n"
      ],
      "id": "2dcf3aaf"
    },
    {
      "cell_type": "code",
      "metadata": {},
      "source": [
        "from trax import layers as tl\n",
        "\n",
        "# Load from .npy files\n",
        "predictions = numpy.load('predictions.npy')\n",
        "targets = numpy.load('targets.npy')\n",
        "\n",
        "# Cast to jax.interpreters.xla.DeviceArray\n",
        "predictions = np.array(predictions)\n",
        "targets = np.array(targets)\n",
        "\n",
        "# Print shapes\n",
        "print(f'predictions has shape: {predictions.shape}')\n",
        "print(f'targets has shape: {targets.shape}')"
      ],
      "id": "afaf2154",
      "execution_count": null,
      "outputs": []
    },
    {
      "cell_type": "markdown",
      "metadata": {},
      "source": [
        "Notice that the predictions have an extra dimension with the same length as the size of the vocabulary used.\n",
        "\n",
        "Because of this you will need a way of reshaping `targets` to match this shape. For this you can use `trax.layers.one_hot()`.\n",
        "\n",
        "Notice that `predictions.shape[-1]` will return the size of the last dimension of `predictions`.\n"
      ],
      "id": "bfbf4be0"
    },
    {
      "cell_type": "code",
      "metadata": {},
      "source": [
        "reshaped_targets = tl.one_hot(targets, predictions.shape[-1]) #trax's one_hot function takes the input as one_hot(x, n_categories, dtype=optional)\n",
        "print(f'reshaped_targets has shape: {reshaped_targets.shape}')"
      ],
      "id": "ff215618",
      "execution_count": null,
      "outputs": []
    },
    {
      "cell_type": "markdown",
      "metadata": {},
      "source": [
        "By calculating the product of the predictions and the reshaped targets and summing across the last dimension, the total log perplexity can be computed:\n"
      ],
      "id": "894038a2"
    },
    {
      "cell_type": "code",
      "metadata": {},
      "source": [
        "total_log_ppx = np.sum(predictions * reshaped_targets, axis= -1)"
      ],
      "id": "3f9fda4f",
      "execution_count": null,
      "outputs": []
    },
    {
      "cell_type": "markdown",
      "metadata": {},
      "source": [
        "Now you will need to account for the padding so this metric is not artificially deflated (since a lower perplexity means a better model). For identifying which elements are padding and which are not, you can use `np.equal()` and get a tensor with `1s` in the positions of actual values and `0s` where there are paddings.\n"
      ],
      "id": "f2f50986"
    },
    {
      "cell_type": "code",
      "metadata": {},
      "source": [
        "non_pad = 1.0 - np.equal(targets, 0)\n",
        "print(f'non_pad has shape: {non_pad.shape}\\n')\n",
        "print(f'non_pad looks like this: \\n\\n {non_pad}')"
      ],
      "id": "bb849e29",
      "execution_count": null,
      "outputs": []
    },
    {
      "cell_type": "markdown",
      "metadata": {},
      "source": [
        "By computing the product of the total log perplexity and the non_pad tensor we remove the effect of padding on the metric:\n"
      ],
      "id": "da80b7c3"
    },
    {
      "cell_type": "code",
      "metadata": {},
      "source": [
        "real_log_ppx = total_log_ppx * non_pad\n",
        "print(f'real perplexity still has shape: {real_log_ppx.shape}')"
      ],
      "id": "fc89a779",
      "execution_count": null,
      "outputs": []
    },
    {
      "cell_type": "markdown",
      "metadata": {},
      "source": [
        "You can check the effect of filtering out the padding by looking at the two log perplexity tensors:\n"
      ],
      "id": "2b3e576d"
    },
    {
      "cell_type": "code",
      "metadata": {},
      "source": [
        "print(f'log perplexity tensor before filtering padding: \\n\\n {total_log_ppx}\\n')\n",
        "print(f'log perplexity tensor after filtering padding: \\n\\n {real_log_ppx}')"
      ],
      "id": "7ad8a276",
      "execution_count": null,
      "outputs": []
    },
    {
      "cell_type": "markdown",
      "metadata": {},
      "source": [
        "To get a single average log perplexity across all the elements in the batch you can sum across both dimensions and divide by the number of elements. Notice that the result will be the negative of the real log perplexity of the model:\n"
      ],
      "id": "65b9e524"
    },
    {
      "cell_type": "code",
      "metadata": {},
      "source": [
        "log_ppx = np.sum(real_log_ppx) / np.sum(non_pad)\n",
        "log_ppx = -log_ppx\n",
        "print(f'The log perplexity and perplexity of the model are respectively: {log_ppx} and {np.exp(log_ppx)}')"
      ],
      "id": "fa9a1527",
      "execution_count": null,
      "outputs": []
    },
    {
      "cell_type": "markdown",
      "metadata": {},
      "source": [
        "**Congratulations on finishing this lecture notebook!** Now you should have a clear understanding of how to work with Trax's numpy and how to compute the perplexity to evaluate your language models. **Keep it up!**\n"
      ],
      "id": "e4207378"
    }
  ],
  "metadata": {
    "kernelspec": {
      "name": "python3",
      "language": "python",
      "display_name": "Python 3 (ipykernel)",
      "path": "/home/oren/.local/share/jupyter/kernels/python3"
    }
  },
  "nbformat": 4,
  "nbformat_minor": 5
}