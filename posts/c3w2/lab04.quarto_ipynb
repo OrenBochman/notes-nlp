{
  "cells": [
    {
      "cell_type": "markdown",
      "metadata": {},
      "source": [
        "---\n",
        "date: 2020-10-24\n",
        "title: 'Creating a GRU model using Trax: Ungraded Lecture Notebook'\n",
        "subtitle: \"Sequence Models\"\n",
        "jupyter: python3\n",
        "categories: \n",
        "  - NLP \n",
        "  - Coursera \n",
        "  - Lab\n",
        "  - Sequence Models\n",
        "---\n",
        "\n",
        "\n",
        "![course banner](/images/Course-Logo-3-3.webp){.column-margin .nolightbox} \n",
        "\n",
        "\n",
        "For this lecture notebook you will be using Trax's layers. These are the building blocks for creating neural networks with Trax.\n"
      ],
      "id": "b027f4e1"
    },
    {
      "cell_type": "code",
      "metadata": {},
      "source": [
        "import trax\n",
        "from trax import layers as tl"
      ],
      "id": "f614b3c0",
      "execution_count": null,
      "outputs": []
    },
    {
      "cell_type": "markdown",
      "metadata": {},
      "source": [
        "Trax allows to define neural network architectures by stacking layers (similarly to other libraries such as Keras). For this the `Serial()` is often used as it is a combinator that allows to stack layers serially using function composition.\n",
        "\n",
        "Next you can see a simple vanilla NN architecture containing 1 hidden(dense) layer with 128 cells and output (dense) layer with 10 cells on which we apply the final layer of logsoftmax.\n"
      ],
      "id": "f8c017f1"
    },
    {
      "cell_type": "code",
      "metadata": {},
      "source": [
        "mlp = tl.Serial(\n",
        "  tl.Dense(128),\n",
        "  tl.Relu(),\n",
        "  tl.Dense(10),\n",
        "  tl.LogSoftmax()\n",
        ")"
      ],
      "id": "557802c6",
      "execution_count": null,
      "outputs": []
    },
    {
      "cell_type": "markdown",
      "metadata": {},
      "source": [
        "Each of the layers within the `Serial` combinator layer is considered a sublayer. Notice that unlike similar libraries, **in Trax the activation functions are considered layers.** To know more about the `Serial` layer check the docs [here](https://trax-ml.readthedocs.io/en/latest/trax.layers.html#trax.layers.combinators.Serial).\n",
        "\n",
        "You can try printing this object:\n"
      ],
      "id": "41b17f67"
    },
    {
      "cell_type": "code",
      "metadata": {},
      "source": [
        "print(mlp)"
      ],
      "id": "4c050c0d",
      "execution_count": null,
      "outputs": []
    },
    {
      "cell_type": "markdown",
      "metadata": {},
      "source": [
        "Printing the model gives you the exact same information as the model's definition itself.\n",
        "\n",
        "By just looking at the definition you can clearly see what is going on inside the neural network. Trax is very straightforward in the way a network is defined, that is one of the things that makes it awesome! \n",
        "\n",
        "## GRU MODEL\n",
        "\n",
        "To create a `GRU` model you will need to be familiar with the following layers (Documentation link attached with each layer name):\n",
        "   - [`ShiftRight`](https://trax-ml.readthedocs.io/en/latest/trax.layers.html#trax.layers.attention.ShiftRight) Shifts the tensor to the right by padding on axis 1. The `mode` should be specified and it refers to the context in which the model is being used. Possible values are: 'train', 'eval' or 'predict', predict mode is for fast inference. Defaults to \"train\".\n",
        "   \n",
        "   - [`Embedding`](https://trax-ml.readthedocs.io/en/latest/trax.layers.html#trax.layers.core.Embedding) Maps discrete tokens to vectors. It will have shape `(vocabulary length X dimension of output vectors)`. The dimension of output vectors (also called `d_feature`) is the number of elements in the word embedding.\n",
        "   - [`GRU`](https://trax-ml.readthedocs.io/en/latest/trax.layers.html#trax.layers.rnn.GRU) The GRU layer. It leverages another Trax layer called [`GRUCell`](https://trax-ml.readthedocs.io/en/latest/trax.layers.html#trax.layers.rnn.GRUCell). The number of GRU units should be specified and should match the number of elements in the word embedding. If you want to stack two consecutive GRU layers, it can be done by using python's list comprehension.\n",
        "   - [`Dense`](https://trax-ml.readthedocs.io/en/latest/trax.layers.html#trax.layers.core.Dense) Vanilla Dense layer.\n",
        "   - [`LogSoftMax`](https://trax-ml.readthedocs.io/en/latest/trax.layers.html#trax.layers.core.LogSoftmax) Log Softmax function.\n",
        "\n",
        "Putting everything together the GRU model will look like this:\n"
      ],
      "id": "e1e4a7be"
    },
    {
      "cell_type": "code",
      "metadata": {},
      "source": [
        "mode = 'train'\n",
        "vocab_size = 256\n",
        "model_dimension = 512\n",
        "n_layers = 2\n",
        "\n",
        "GRU = tl.Serial(\n",
        "      tl.ShiftRight(mode=mode), # Do remember to pass the mode parameter if you are using it for interence/test as default is train \n",
        "      tl.Embedding(vocab_size=vocab_size, d_feature=model_dimension),\n",
        "      [tl.GRU(n_units=model_dimension) for _ in range(n_layers)], # You can play around n_layers if you want to stack more GRU layers together\n",
        "      tl.Dense(n_units=vocab_size),\n",
        "      tl.LogSoftmax()\n",
        "    )"
      ],
      "id": "6ddd7efe",
      "execution_count": null,
      "outputs": []
    },
    {
      "cell_type": "markdown",
      "metadata": {},
      "source": [
        "Next is a helper function that prints information for every layer (sublayer within `Serial`):\n",
        "\n",
        "_Try changing the parameters defined before the GRU model and see how it changes!_\n"
      ],
      "id": "e7d1f55f"
    },
    {
      "cell_type": "code",
      "metadata": {},
      "source": [
        "def show_layers(model, layer_prefix=\"Serial.sublayers\"):\n",
        "    print(f\"Total layers: {len(model.sublayers)}\\n\")\n",
        "    for i in range(len(model.sublayers)):\n",
        "        print('========')\n",
        "        print(f'{layer_prefix}_{i}: {model.sublayers[i]}\\n')\n",
        "        \n",
        "show_layers(GRU)"
      ],
      "id": "81d7be1b",
      "execution_count": null,
      "outputs": []
    },
    {
      "cell_type": "markdown",
      "metadata": {},
      "source": [
        "Hope you are now more familiarized with creating GRU models using Trax. \n",
        "\n",
        "You will train this model in this week's assignment and see it in action. \n",
        "\n",
        "\n",
        "**GRU and the trax minions will return, in this week's endgame.**\n"
      ],
      "id": "432f6855"
    }
  ],
  "metadata": {
    "kernelspec": {
      "name": "python3",
      "language": "python",
      "display_name": "Python 3 (ipykernel)",
      "path": "/home/oren/.local/share/jupyter/kernels/python3"
    }
  },
  "nbformat": 4,
  "nbformat_minor": 5
}