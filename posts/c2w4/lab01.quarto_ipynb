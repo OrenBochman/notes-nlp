{
  "cells": [
    {
      "cell_type": "markdown",
      "metadata": {},
      "source": [
        "---\n",
        "date: 2020-10-24\n",
        "title: 'Word Embeddings First Steps: Data Preparation'\n",
        "categories: \n",
        "  - NLP \n",
        "  - Coursera \n",
        "  - Lab\n",
        "  - Probabilistic Models\n",
        "jupyter: python3\n",
        "# execute: \n",
        "#     error: true\n",
        "---\n",
        "\n",
        "\n",
        "\n",
        "::: {.column-margin .nolightbox}\n",
        "![course banner](/images/Course-Logo-2-3.webp)\n",
        ":::\n",
        "\n",
        "\n",
        "In this series of ungraded notebooks, you'll try out all the individual techniques that we learned about in the lectures. Practicing on small examples will prepare we for the graded assignment, where we will combine the techniques in more advanced ways to create word embeddings from a real-life corpus. \n",
        "\n",
        "This notebook focuses on **data preparation**, which is the first step of any machine learning algorithm. It is a very important step because models are only as good as the data they are trained on and the models used require the data to have a particular structure to process it properly.\n",
        "\n",
        "To get started, import and initialize all the libraries we will need.\n"
      ],
      "id": "e29eb494"
    },
    {
      "cell_type": "code",
      "metadata": {},
      "source": [
        "import re\n",
        "import nltk\n",
        "import emoji\n",
        "import numpy as np\n",
        "from nltk.tokenize import word_tokenize\n",
        "from utils2 import get_dict"
      ],
      "id": "2aa09e6d",
      "execution_count": null,
      "outputs": []
    },
    {
      "cell_type": "markdown",
      "metadata": {},
      "source": [
        "# Data preparation\n",
        "\n",
        "In the data preparation phase, starting with a corpus of text, we will:\n",
        "\n",
        "- Clean and tokenize the corpus.\n",
        "\n",
        "- Extract the pairs of context words and center word that will make up the training data set for the CBOW model. The context words are the features that will be fed into the model, and the center words are the target values that the model will learn to predict.\n",
        "\n",
        "- Create simple vector representations of the context words (features) and center words (targets) that can be used by the neural network of the CBOW model.\n",
        "\n",
        "## Cleaning and tokenization\n",
        "\n",
        "To demonstrate the cleaning and tokenization process, consider a corpus that contains emojis and various punctuation signs.\n"
      ],
      "id": "dc22c504"
    },
    {
      "cell_type": "code",
      "metadata": {},
      "source": [
        "# Define a corpus\n",
        "corpus = 'Who ❤️ \"word embeddings\" in 2020? I do!!!'"
      ],
      "id": "2c6309eb",
      "execution_count": null,
      "outputs": []
    },
    {
      "cell_type": "markdown",
      "metadata": {},
      "source": [
        "First, replace all interrupting punctuation signs — such as commas and exclamation marks — with periods.\n"
      ],
      "id": "1d595e29"
    },
    {
      "cell_type": "code",
      "metadata": {},
      "source": [
        "# Print original corpus\n",
        "print(f'Corpus:  {corpus}')\n",
        "\n",
        "# Do the substitution\n",
        "data = re.sub(r'[,!?;-]+', '.', corpus)\n",
        "\n",
        "# Print cleaned corpus\n",
        "print(f'After cleaning punctuation:  {data}')"
      ],
      "id": "6844c03e",
      "execution_count": null,
      "outputs": []
    },
    {
      "cell_type": "markdown",
      "metadata": {},
      "source": [
        "Next, use NLTK's tokenization engine to split the corpus into individual tokens.\n"
      ],
      "id": "69e77455"
    },
    {
      "cell_type": "code",
      "metadata": {},
      "source": [
        "# Print cleaned corpus\n",
        "print(f'Initial string:  {data}')\n",
        "\n",
        "# Tokenize the cleaned corpus\n",
        "data = nltk.word_tokenize(data)\n",
        "\n",
        "# Print the tokenized version of the corpus\n",
        "print(f'After tokenization:  {data}')"
      ],
      "id": "68765d6b",
      "execution_count": null,
      "outputs": []
    },
    {
      "cell_type": "markdown",
      "metadata": {},
      "source": [
        "Finally, as we saw in the lecture, get rid of numbers and punctuation other than periods, and convert all the remaining tokens to lowercase.\n"
      ],
      "id": "998f73c4"
    },
    {
      "cell_type": "code",
      "metadata": {},
      "source": [
        "# Print the tokenized version of the corpus\n",
        "print(f'Initial list of tokens:  {data}')\n",
        "\n",
        "# Filter tokenized corpus using list comprehension\n",
        "data = [ ch.lower() for ch in data\n",
        "         if ch.isalpha()\n",
        "         or ch == '.'\n",
        "         or emoji.get_emoji_regexp().search(ch)\n",
        "       ]\n",
        "\n",
        "# Print the tokenized and filtered version of the corpus\n",
        "print(f'After cleaning:  {data}')"
      ],
      "id": "091333ef",
      "execution_count": null,
      "outputs": []
    },
    {
      "cell_type": "markdown",
      "metadata": {},
      "source": [
        "Note that the heart emoji is considered as a token just like any normal word.\n",
        "\n",
        "Now let's streamline the cleaning and tokenization process by wrapping the previous steps in a function.\n"
      ],
      "id": "bd40c282"
    },
    {
      "cell_type": "code",
      "metadata": {},
      "source": [
        "# Define the 'tokenize' function that will include the steps previously seen\n",
        "def tokenize(corpus):\n",
        "    data = re.sub(r'[,!?;-]+', '.', corpus)\n",
        "    data = nltk.word_tokenize(data)  # tokenize string to words\n",
        "    data = [ ch.lower() for ch in data\n",
        "             if ch.isalpha()\n",
        "             or ch == '.'\n",
        "             or emoji.get_emoji_regexp().search(ch)\n",
        "           ]\n",
        "    return data"
      ],
      "id": "01d14973",
      "execution_count": null,
      "outputs": []
    },
    {
      "cell_type": "markdown",
      "metadata": {},
      "source": [
        "Apply this function to the corpus that you'll be working on in the rest of this notebook: \"I am happy because I am learning\"\n"
      ],
      "id": "faafa215"
    },
    {
      "cell_type": "code",
      "metadata": {},
      "source": [
        "# Define new corpus\n",
        "corpus = 'I am happy because I am learning'\n",
        "\n",
        "# Print new corpus\n",
        "print(f'Corpus:  {corpus}')\n",
        "\n",
        "# Save tokenized version of corpus into 'words' variable\n",
        "words = tokenize(corpus)\n",
        "\n",
        "# Print the tokenized version of the corpus\n",
        "print(f'Words (tokens):  {words}')"
      ],
      "id": "ddc49351",
      "execution_count": null,
      "outputs": []
    },
    {
      "cell_type": "markdown",
      "metadata": {},
      "source": [
        "**Now try it out yourself with your own sentence.**\n"
      ],
      "id": "0260d4c0"
    },
    {
      "cell_type": "code",
      "metadata": {},
      "source": [
        "# Run this with any sentence\n",
        "tokenize(\"Now it's your turn: try with your own sentence!\")"
      ],
      "id": "b8a9dc2f",
      "execution_count": null,
      "outputs": []
    },
    {
      "cell_type": "markdown",
      "metadata": {},
      "source": [
        "## Sliding window of words\n",
        "\n",
        "Now that we have transformed the corpus into a list of clean tokens, we can slide a window of words across this list. For each window we can extract a center word and the context words.\n",
        "\n",
        "The `get_windows` function in the next cell was introduced in the lecture.\n"
      ],
      "id": "13cd1e9e"
    },
    {
      "cell_type": "code",
      "metadata": {},
      "source": [
        "# Define the 'get_windows' function\n",
        "def get_windows(words, C):\n",
        "    i = C\n",
        "    while i < len(words) - C:\n",
        "        center_word = words[i]\n",
        "        context_words = words[(i - C):i] + words[(i+1):(i+C+1)]\n",
        "        yield context_words, center_word\n",
        "        i += 1"
      ],
      "id": "8b577d14",
      "execution_count": null,
      "outputs": []
    },
    {
      "cell_type": "markdown",
      "metadata": {},
      "source": [
        "The first argument of this function is a list of words (or tokens). The second argument, `C`, is the context half-size. Recall that for a given center word, the context words are made of `C` words to the left and `C` words to the right of the center word.\n",
        "\n",
        "Here is how we can use this function to extract context words and center words from a list of tokens. These context and center words will make up the training set that we will use to train the CBOW model.\n"
      ],
      "id": "19772530"
    },
    {
      "cell_type": "code",
      "metadata": {},
      "source": [
        "# Print 'context_words' and 'center_word' for the new corpus with a 'context half-size' of 2\n",
        "for x, y in get_windows(['i', 'am', 'happy', 'because', 'i', 'am', 'learning'], 2):\n",
        "    print(f'{x}\\t{y}')"
      ],
      "id": "093d7df2",
      "execution_count": null,
      "outputs": []
    },
    {
      "cell_type": "markdown",
      "metadata": {},
      "source": [
        "The first example of the training set is made of:\n",
        "\n",
        "- the context words \"i\", \"am\", \"because\", \"i\",\n",
        "\n",
        "- and the center word to be predicted: \"happy\".\n",
        "\n",
        "**Now try it out yourself. In the next cell, we can change both the sentence and the context half-size.**\n"
      ],
      "id": "f3279c7b"
    },
    {
      "cell_type": "code",
      "metadata": {},
      "source": [
        "# Print 'context_words' and 'center_word' for any sentence with a 'context half-size' of 1\n",
        "for x, y in get_windows(tokenize(\"Now it's your turn: try with your own sentence!\"), 1):\n",
        "    print(f'{x}\\t{y}')"
      ],
      "id": "31f7dff1",
      "execution_count": null,
      "outputs": []
    },
    {
      "cell_type": "markdown",
      "metadata": {},
      "source": [
        "## Transforming words into vectors for the training set\n",
        "\n",
        "To finish preparing the training set, we need to transform the context words and center words into vectors.\n",
        "\n",
        "### Mapping words to indices and indices to words\n",
        "\n",
        "The center words will be represented as one-hot vectors, and the vectors that represent context words are also based on one-hot vectors.\n",
        "\n",
        "To create one-hot word vectors, we can start by mapping each unique word to a unique integer (or index). We have provided a helper function, `get_dict`, that creates a Python dictionary that maps words to integers and back.\n"
      ],
      "id": "12a434f5"
    },
    {
      "cell_type": "code",
      "metadata": {},
      "source": [
        "# Get 'word2Ind' and 'Ind2word' dictionaries for the tokenized corpus\n",
        "word2Ind, Ind2word = get_dict(words)"
      ],
      "id": "6e7e98e4",
      "execution_count": null,
      "outputs": []
    },
    {
      "cell_type": "markdown",
      "metadata": {},
      "source": [
        "Here's the dictionary that maps words to numeric indices.\n"
      ],
      "id": "66d83c58"
    },
    {
      "cell_type": "code",
      "metadata": {
        "scrolled": true
      },
      "source": [
        "# Print 'word2Ind' dictionary\n",
        "word2Ind"
      ],
      "id": "9adab5ad",
      "execution_count": null,
      "outputs": []
    },
    {
      "cell_type": "markdown",
      "metadata": {},
      "source": [
        "We can use this dictionary to get the index of a word.\n"
      ],
      "id": "db07d5f0"
    },
    {
      "cell_type": "code",
      "metadata": {},
      "source": [
        "# Print value for the key 'i' within word2Ind dictionary\n",
        "print(\"Index of the word 'i':  \",word2Ind['i'])"
      ],
      "id": "0b34d68a",
      "execution_count": null,
      "outputs": []
    },
    {
      "cell_type": "markdown",
      "metadata": {},
      "source": [
        "And conversely, here's the dictionary that maps indices to words.\n"
      ],
      "id": "835aee0d"
    },
    {
      "cell_type": "code",
      "metadata": {},
      "source": [
        "# Print 'Ind2word' dictionary\n",
        "Ind2word"
      ],
      "id": "2de71368",
      "execution_count": null,
      "outputs": []
    },
    {
      "cell_type": "code",
      "metadata": {
        "scrolled": true
      },
      "source": [
        "# Print value for the key '2' within Ind2word dictionary\n",
        "print(\"Word which has index 2:  \",Ind2word[2] )"
      ],
      "id": "28b20464",
      "execution_count": null,
      "outputs": []
    },
    {
      "cell_type": "markdown",
      "metadata": {},
      "source": [
        "Finally, get the length of either of these dictionaries to get the size of the vocabulary of your corpus, in other words the number of different words making up the corpus.\n"
      ],
      "id": "40b0b9f9"
    },
    {
      "cell_type": "code",
      "metadata": {},
      "source": [
        "# Save length of word2Ind dictionary into the 'V' variable\n",
        "V = len(word2Ind)\n",
        "\n",
        "# Print length of word2Ind dictionary\n",
        "print(\"Size of vocabulary: \", V)"
      ],
      "id": "f1d7740d",
      "execution_count": null,
      "outputs": []
    },
    {
      "cell_type": "markdown",
      "metadata": {},
      "source": [
        "### Getting one-hot word vectors\n",
        "\n",
        "Recall from the lecture that we can easily convert an integer, $n$, into a one-hot vector.\n",
        "\n",
        "Consider the word \"happy\". First, retrieve its numeric index.\n"
      ],
      "id": "abe33fd7"
    },
    {
      "cell_type": "code",
      "metadata": {},
      "source": [
        "# Save index of word 'happy' into the 'n' variable\n",
        "n = word2Ind['happy']\n",
        "\n",
        "# Print index of word 'happy'\n",
        "n"
      ],
      "id": "3f4a7dd5",
      "execution_count": null,
      "outputs": []
    },
    {
      "cell_type": "markdown",
      "metadata": {},
      "source": [
        "Now create a vector with the size of the vocabulary, and fill it with zeros.\n"
      ],
      "id": "af5cd0f9"
    },
    {
      "cell_type": "code",
      "metadata": {},
      "source": [
        "# Create vector with the same length as the vocabulary, filled with zeros\n",
        "center_word_vector = np.zeros(V)\n",
        "\n",
        "# Print vector\n",
        "center_word_vector"
      ],
      "id": "483e3d32",
      "execution_count": null,
      "outputs": []
    },
    {
      "cell_type": "markdown",
      "metadata": {},
      "source": [
        "We can confirm that the vector has the right size.\n"
      ],
      "id": "8da4df8f"
    },
    {
      "cell_type": "code",
      "metadata": {},
      "source": [
        "# Assert that the length of the vector is the same as the size of the vocabulary\n",
        "len(center_word_vector) == V"
      ],
      "id": "c2faae6f",
      "execution_count": null,
      "outputs": []
    },
    {
      "cell_type": "markdown",
      "metadata": {},
      "source": [
        "Next, replace the 0 of the $n$-th element with a 1.\n"
      ],
      "id": "433791e8"
    },
    {
      "cell_type": "code",
      "metadata": {},
      "source": [
        "# Replace element number 'n' with a 1\n",
        "center_word_vector[n] = 1"
      ],
      "id": "71fc8e45",
      "execution_count": null,
      "outputs": []
    },
    {
      "cell_type": "markdown",
      "metadata": {},
      "source": [
        "And we have your one-hot word vector.\n"
      ],
      "id": "5a2fc40b"
    },
    {
      "cell_type": "code",
      "metadata": {},
      "source": [
        "# Print vector\n",
        "center_word_vector"
      ],
      "id": "286592ea",
      "execution_count": null,
      "outputs": []
    },
    {
      "cell_type": "markdown",
      "metadata": {},
      "source": [
        "**We can now group all of these steps in a convenient function, which takes as parameters: a word to be encoded, a dictionary that maps words to indices, and the size of the vocabulary.**\n"
      ],
      "id": "2a0fef0d"
    },
    {
      "cell_type": "code",
      "metadata": {},
      "source": [
        "# Define the 'word_to_one_hot_vector' function that will include the steps previously seen\n",
        "def word_to_one_hot_vector(word, word2Ind, V):\n",
        "    one_hot_vector = np.zeros(V)\n",
        "    one_hot_vector[word2Ind[word]] = 1\n",
        "    return one_hot_vector"
      ],
      "id": "835d5659",
      "execution_count": null,
      "outputs": []
    },
    {
      "cell_type": "markdown",
      "metadata": {},
      "source": [
        "Check that it works as intended.\n"
      ],
      "id": "497bd0c8"
    },
    {
      "cell_type": "code",
      "metadata": {},
      "source": [
        "# Print output of 'word_to_one_hot_vector' function for word 'happy'\n",
        "word_to_one_hot_vector('happy', word2Ind, V)"
      ],
      "id": "74594b71",
      "execution_count": null,
      "outputs": []
    },
    {
      "cell_type": "markdown",
      "metadata": {},
      "source": [
        "**What is the word vector for \"learning\"?**\n"
      ],
      "id": "b6bf0caf"
    },
    {
      "cell_type": "code",
      "metadata": {},
      "source": [
        "# Print output of 'word_to_one_hot_vector' function for word 'learning'\n",
        "word_to_one_hot_vector('learning', word2Ind, V)"
      ],
      "id": "ed48bdec",
      "execution_count": null,
      "outputs": []
    },
    {
      "cell_type": "markdown",
      "metadata": {},
      "source": [
        "Expected output:\n",
        "\n",
        "    array([0., 0., 0., 0., 1.])\n",
        "\n",
        "### Getting context word vectors\n",
        "\n",
        "To create the vectors that represent context words, we will calculate the average of the one-hot vectors representing the individual words.\n",
        "\n",
        "Let's start with a list of context words.\n"
      ],
      "id": "38cdf36f"
    },
    {
      "cell_type": "code",
      "metadata": {},
      "source": [
        "# Define list containing context words\n",
        "context_words = ['i', 'am', 'because', 'i']"
      ],
      "id": "53a0ffa3",
      "execution_count": null,
      "outputs": []
    },
    {
      "cell_type": "markdown",
      "metadata": {},
      "source": [
        "Using Python's list comprehension construct and the `word_to_one_hot_vector` function that we created in the previous section, we can create a list of one-hot vectors representing each of the context words.\n"
      ],
      "id": "08b41c4a"
    },
    {
      "cell_type": "code",
      "metadata": {},
      "source": [
        "# Create one-hot vectors for each context word using list comprehension\n",
        "context_words_vectors = [word_to_one_hot_vector(w, word2Ind, V) for w in context_words]\n",
        "\n",
        "# Print one-hot vectors for each context word\n",
        "context_words_vectors"
      ],
      "id": "0fb6a8f3",
      "execution_count": null,
      "outputs": []
    },
    {
      "cell_type": "markdown",
      "metadata": {},
      "source": [
        "And we can now simply get the average of these vectors using numpy's `mean` function, to get the vector representation of the context words.\n"
      ],
      "id": "7f9918f8"
    },
    {
      "cell_type": "code",
      "metadata": {},
      "source": [
        "# Compute mean of the vectors using numpy\n",
        "np.mean(context_words_vectors, axis=0)"
      ],
      "id": "77b0a626",
      "execution_count": null,
      "outputs": []
    },
    {
      "cell_type": "markdown",
      "metadata": {},
      "source": [
        "Note the `axis=0` parameter that tells `mean` to calculate the average of the rows (if we had wanted the average of the columns, we would have used `axis=1`).\n",
        "\n",
        "**Now create the `context_words_to_vector` function that takes in a list of context words, a word-to-index dictionary, and a vocabulary size, and outputs the vector representation of the context words.**\n"
      ],
      "id": "d3d83fed"
    },
    {
      "cell_type": "code",
      "metadata": {},
      "source": [
        "# Define the 'context_words_to_vector' function that will include the steps previously seen\n",
        "def context_words_to_vector(context_words, word2Ind, V):\n",
        "    context_words_vectors = [word_to_one_hot_vector(w, word2Ind, V) for w in context_words]\n",
        "    context_words_vectors = np.mean(context_words_vectors, axis=0)\n",
        "    return context_words_vectors"
      ],
      "id": "61a188cc",
      "execution_count": null,
      "outputs": []
    },
    {
      "cell_type": "markdown",
      "metadata": {},
      "source": [
        "And check that we obtain the same output as the manual approach above.\n"
      ],
      "id": "d97270af"
    },
    {
      "cell_type": "code",
      "metadata": {},
      "source": [
        "# Print output of 'context_words_to_vector' function for context words: 'i', 'am', 'because', 'i'\n",
        "context_words_to_vector(['i', 'am', 'because', 'i'], word2Ind, V)"
      ],
      "id": "afad915b",
      "execution_count": null,
      "outputs": []
    },
    {
      "cell_type": "markdown",
      "metadata": {},
      "source": [
        "**What is the vector representation of the context words \"am happy i am\"?**\n"
      ],
      "id": "1c334a4a"
    },
    {
      "cell_type": "code",
      "metadata": {},
      "source": [
        "# Print output of 'context_words_to_vector' function for context words: 'am', 'happy', 'i', 'am'\n",
        "context_words_to_vector(['am', 'happy', 'i', 'am'], word2Ind, V)"
      ],
      "id": "a14d7298",
      "execution_count": null,
      "outputs": []
    },
    {
      "cell_type": "markdown",
      "metadata": {},
      "source": [
        "Expected output:\n",
        "\n",
        "    array([0.5 , 0.  , 0.25, 0.25, 0.  ])\n",
        "\n",
        "\n",
        "## Building the training set\n",
        "\n",
        "We can now combine the functions that we created in the previous sections, to build a training set for the CBOW model, starting from the following tokenized corpus.\n"
      ],
      "id": "28163ee6"
    },
    {
      "cell_type": "code",
      "metadata": {},
      "source": [
        "# Print corpus\n",
        "words"
      ],
      "id": "75a9cf3a",
      "execution_count": null,
      "outputs": []
    },
    {
      "cell_type": "markdown",
      "metadata": {},
      "source": [
        "To do this we need to use the sliding window function (`get_windows`) to extract the context words and center words, and we then convert these sets of words into a basic vector representation using `word_to_one_hot_vector` and `context_words_to_vector`.\n"
      ],
      "id": "33e1f1c2"
    },
    {
      "cell_type": "code",
      "metadata": {},
      "source": [
        "# Print vectors associated to center and context words for corpus\n",
        "for context_words, center_word in get_windows(words, 2):  # reminder: 2 is the context half-size\n",
        "    print(f'Context words:  {context_words} -> {context_words_to_vector(context_words, word2Ind, V)}')\n",
        "    print(f'Center word:  {center_word} -> {word_to_one_hot_vector(center_word, word2Ind, V)}')\n",
        "    print()"
      ],
      "id": "487633b1",
      "execution_count": null,
      "outputs": []
    },
    {
      "cell_type": "markdown",
      "metadata": {},
      "source": [
        "In this practice notebook you'll be performing a single iteration of training using a single example, but in this week's assignment you'll train the CBOW model using several iterations and batches of example.\n",
        "Here is how we would use a Python generator function (remember the `yield` keyword from the lecture?) to make it easier to iterate over a set of examples.\n"
      ],
      "id": "9b2e9605"
    },
    {
      "cell_type": "code",
      "metadata": {},
      "source": [
        "# Define the generator function 'get_training_example'\n",
        "def get_training_example(words, C, word2Ind, V):\n",
        "    for context_words, center_word in get_windows(words, C):\n",
        "        yield context_words_to_vector(context_words, word2Ind, V), word_to_one_hot_vector(center_word, word2Ind, V)"
      ],
      "id": "5605c1fd",
      "execution_count": null,
      "outputs": []
    },
    {
      "cell_type": "markdown",
      "metadata": {},
      "source": [
        "The output of this function can be iterated on to get successive context word vectors and center word vectors, as demonstrated in the next cell.\n"
      ],
      "id": "b447c291"
    },
    {
      "cell_type": "code",
      "metadata": {},
      "source": [
        "# Print vectors associated to center and context words for corpus using the generator function\n",
        "for context_words_vector, center_word_vector in get_training_example(words, 2, word2Ind, V):\n",
        "    print(f'Context words vector:  {context_words_vector}')\n",
        "    print(f'Center word vector:  {center_word_vector}')\n",
        "    print()"
      ],
      "id": "197e153c",
      "execution_count": null,
      "outputs": []
    },
    {
      "cell_type": "markdown",
      "metadata": {},
      "source": [
        "Your training set is ready, we can now move on to the CBOW model itself which will be covered in the next lecture notebook.\n",
        "\n",
        "**Congratulations on finishing this lecture notebook!** Hopefully we now have a better understanding of how to prepare your data before feeding it to a continuous bag-of-words model. \n",
        "\n",
        "**Keep it up!**\n"
      ],
      "id": "feebbb48"
    }
  ],
  "metadata": {
    "kernelspec": {
      "name": "python3",
      "language": "python",
      "display_name": "Python 3 (ipykernel)",
      "path": "/home/oren/.local/share/jupyter/kernels/python3"
    }
  },
  "nbformat": 4,
  "nbformat_minor": 5
}